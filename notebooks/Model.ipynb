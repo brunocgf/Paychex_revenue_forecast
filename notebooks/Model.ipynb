{
 "cells": [
  {
   "cell_type": "code",
   "execution_count": 1,
   "metadata": {
    "collapsed": true
   },
   "outputs": [],
   "source": [
    "###########################Code\n",
    "import pandas as pd\n",
    "import numpy as np\n",
    "import plotly.express as px\n",
    "import warnings\n",
    "from pycaret.regression import *\n",
    "#import import_ipynb\n",
    "#import data_loader as dl\n",
    "\n",
    "warnings.filterwarnings(\"ignore\")"
   ]
  },
  {
   "cell_type": "code",
   "execution_count": 2,
   "outputs": [],
   "source": [
    "\n",
    "def run_auto_ml(train_df, test_df, dependent_col, feature_cols, normal_transform):\n",
    "    # Model Definitions\n",
    "    s = setup(data = train_df,\n",
    "              test_data = test_df,\n",
    "              target = dependent_col,\n",
    "              fold_strategy = 'timeseries',\n",
    "              numeric_features = feature_cols,\n",
    "              fold = 3,\n",
    "              transform_target = normal_transform,\n",
    "              feature_selection = True,\n",
    "              feature_selection_threshold = 0.8,\n",
    "              remove_multicollinearity = True,\n",
    "              multicollinearity_threshold = 0.9,\n",
    "              session_id = 123)\n",
    "\n",
    "    # Creates model comparison matrix\n",
    "    best = compare_models(sort = 'MAE')\n",
    "    results = pull()\n",
    "    model_results = results.Model.tolist()\n",
    "    print(type(best))\n",
    "    return best\n",
    "\n",
    "def get_important_features(get_config, best):\n",
    "    # Get list of features and their values\n",
    "    features = pd.DataFrame({'Feature': get_config('X_train').columns,\n",
    "                             'Variable Importance' : abs(best.coef_)}).sort_values(by='Variable Importance', ascending=False)\n",
    "    features['Variable Importance'] = features['Variable Importance'].astype(float)\n",
    "\n",
    "    # Here we want to get features with an absolute value variable importance score of 1 or greater\n",
    "    features = features[features['Variable Importance'] >= 1]\n",
    "    features = features.reset_index(drop=True)\n",
    "    return features"
   ],
   "metadata": {
    "collapsed": false,
    "pycharm": {
     "name": "#%%\n"
    }
   }
  },
  {
   "cell_type": "markdown",
   "source": [
    "## Data Loader"
   ],
   "metadata": {
    "collapsed": false
   }
  },
  {
   "cell_type": "code",
   "execution_count": 3,
   "outputs": [],
   "source": [
    "cols = ['File'  ,'Product0'  ,'Account0'  ,'AccountDescription'  ,'Item'  ,'FY 2015 Total'  ,'Actual - 20140601'  ,\n",
    "        'Actual - 20140701'  ,'Actual - 20140801'  ,'Actual - 20140901'  ,'Actual - 20141001'  ,'Actual - 20141101'  ,\n",
    "        'Actual - 20141201'  ,'Actual - 20150101'  ,'Actual - 20150201'  ,'Actual - 20150301'  ,'Actual - 20150401'  ,\n",
    "        'Actual - 20150501'  ,'FY 2016 Total'  ,'Actual - 20150601'  ,'Actual - 20150701'  ,'Actual - 20150801'  ,\n",
    "        'Actual - 20150901'  ,'Actual - 20151001'  ,'Actual - 20151101'  ,'Actual - 20151201'  ,'Actual - 20160101'  ,\n",
    "        'Actual - 20160201'  ,'Actual - 20160301'  ,'Actual - 20160401'  ,'Actual - 20160501'  ,'FY 2017 Total'  ,\n",
    "        'Actual - 20160601'  ,'Actual - 20160701'  ,'Actual - 20160801'  ,'Actual - 20160901'  ,'Actual - 20161001'  ,\n",
    "        'Actual - 20161101'  ,'Actual - 20161201'  ,'Actual - 20170101'  ,'Actual - 20170201'  ,'Actual - 20170301'  ,\n",
    "        'Actual - 20170401'  ,'Actual - 20170501'  ,'FY 2018 Total'  ,'Actual - 20170601'  ,'Actual - 20170701'  ,\n",
    "        'Actual - 20170801'  ,'Actual - 20170901'  ,'Actual - 20171001'  ,'Actual - 20171101'  ,'Actual - 20171201'  ,\n",
    "        'Actual - 20180101'  ,'Actual - 20180201'  ,'Actual - 20180301'  ,'Actual - 20180401'  ,'Actual - 20180501'  ,\n",
    "        'FY 2019 Total'  ,'Actual - 20180601'  ,'Actual - 20180701'  ,'Actual - 20180801'  ,'Actual - 20180901'  ,\n",
    "        'Actual - 20181001'  ,'Actual - 20181101'  ,'Actual - 20181201'  ,'Actual - 20190101'  ,'Actual - 20190201'  ,\n",
    "        'Actual - 20190301'  ,'Actual - 20190401'  ,'Actual - 20190501'  ,'FY 2020 Total'  ,'Actual - 20190601'  ,'Actual - 20190701'  ,'Actual - 20190801'  ,'Actual - 20190901'  ,'Actual - 20191001'  ,'Actual - 20191101'  ,\n",
    "        'Actual - 20191201'  ,'Actual - 20200101'  ,'Actual - 20200201'  ,'Actual - 20200301'  ,'Actual - 20200401'  ,\n",
    "        'Actual - 20200501'  ,'FY 2021 Total'  ,'Actual - 20200601'  ,'Actual - 20200701'  ,'Actual - 20200801'  ,\n",
    "        'Actual - 20200901'  ,'Actual - 20201001'  ,'Actual - 20201101'  ,'Actual - 20201201'  ,'Actual - 20210101'  ,\n",
    "        'Actual - 20210201'  ,'Actual - 20210301'  ,'Actual - 20210401'  ,'Actual - 20210501'  ,'Actual - 20210601'  ,\n",
    "        'Actual - 20210701'  ,'Actual - 20210801'  ,'Actual - 20210901'  ,'Actual - 20211001'  ,'Actual - 20211101'  ,\n",
    "        'Actual - 20211201'  ,'Actual - 20220101'  ,'Forecast - 20220201'  ,'Forecast - 20220301'  ,\n",
    "        'Forecast - 20220401'  ,'Forecast - 20220501']"
   ],
   "metadata": {
    "collapsed": false,
    "pycharm": {
     "name": "#%%\n"
    }
   }
  },
  {
   "cell_type": "code",
   "execution_count": 4,
   "outputs": [],
   "source": [
    "data_file = 'Paychex_data.xlsx'\n",
    "df = pd.read_excel(data_file, names=cols, skiprows=5)\n"
   ],
   "metadata": {
    "collapsed": false,
    "pycharm": {
     "name": "#%%\n"
    }
   }
  },
  {
   "cell_type": "code",
   "execution_count": 5,
   "outputs": [],
   "source": [
    "# drop the totals columns\n",
    "drops = ['FY 2015 Total' ,'FY 2016 Total' ,'FY 2017 Total' ,'FY 2018 Total' ,'FY 2019 Total' ,'FY 2020 Total' ,'FY 2021 Total']\n",
    "df.drop(columns=drops, inplace=True)"
   ],
   "metadata": {
    "collapsed": false,
    "pycharm": {
     "name": "#%%\n"
    }
   }
  },
  {
   "cell_type": "code",
   "execution_count": 6,
   "outputs": [],
   "source": [
    "# drop unnecessary rows\n",
    "df= df.dropna(subset=['Item'])"
   ],
   "metadata": {
    "collapsed": false,
    "pycharm": {
     "name": "#%%\n"
    }
   }
  },
  {
   "cell_type": "code",
   "execution_count": 7,
   "outputs": [],
   "source": [
    "level_0_list = ['401K Asset fee & BP Revenue'\n",
    "    ,'401K Fee Revenue'\n",
    "    ,'ASO Allocation'\n",
    "    ,'ASO Revenue - Oasis'\n",
    "    ,'Benetrac'\n",
    "    ,'Cafeteria Plans Revenue'\n",
    "    ,'Delivery Revenue'\n",
    "    ,'Emerging Products'\n",
    "    ,'ESR Revenue'\n",
    "    ,'Full Service Unemployment Revenue'\n",
    "    ,'Health Benefits'\n",
    "    ,'HR Online'\n",
    "    ,'HR Solutions (PEO)'\n",
    "    ,'Interest on Funds Held for Clients'\n",
    "    ,'Other Processing Revenue'\n",
    "    ,'Payroll blended products'\n",
    "    ,'SurePayroll.'\n",
    "    ,'Time & Attendance'\n",
    "    ,'Total international'\n",
    "    ,'Total Paychex Advance'\n",
    "    ,'W-2 Revenue'\n",
    "    ,'Workers Comp - Payment Se']\n"
   ],
   "metadata": {
    "collapsed": false,
    "pycharm": {
     "name": "#%%\n"
    }
   }
  },
  {
   "cell_type": "code",
   "execution_count": 8,
   "outputs": [],
   "source": [
    "# keep level 0 rows only\n",
    "df0 = df[df['Item'].isin(level_0_list)]"
   ],
   "metadata": {
    "collapsed": false,
    "pycharm": {
     "name": "#%%\n"
    }
   }
  },
  {
   "cell_type": "code",
   "execution_count": 9,
   "outputs": [],
   "source": [
    "flps = ['Actual - 20140601'   ,'Actual - 20140701'   ,'Actual - 20140801'   ,'Actual - 20140901'   ,'Actual - 20141001'\n",
    "    ,'Actual - 20141101'   ,'Actual - 20141201'   ,'Actual - 20150101'   ,'Actual - 20150201'   ,'Actual - 20150301'\n",
    "    ,'Actual - 20150401'   ,'Actual - 20150501'   ,'Actual - 20150601'   ,'Actual - 20150701'   ,'Actual - 20150801'\n",
    "    ,'Actual - 20150901'   ,'Actual - 20151001'   ,'Actual - 20151101'   ,'Actual - 20151201'   ,'Actual - 20160101'\n",
    "    ,'Actual - 20160201'   ,'Actual - 20160301'   ,'Actual - 20160401'   ,'Actual - 20160501'   ,'Actual - 20160601'\n",
    "    ,'Actual - 20160701'   ,'Actual - 20160801'   ,'Actual - 20160901'   ,'Actual - 20161001'   ,'Actual - 20161101'\n",
    "    ,'Actual - 20161201'   ,'Actual - 20170101'   ,'Actual - 20170201'   ,'Actual - 20170301'   ,'Actual - 20170401'\n",
    "    ,'Actual - 20170501'   ,'Actual - 20170601'   ,'Actual - 20170701'   ,'Actual - 20170801'   ,'Actual - 20170901'\n",
    "    ,'Actual - 20171001'   ,'Actual - 20171101'   ,'Actual - 20171201'   ,'Actual - 20180101'   ,'Actual - 20180201'\n",
    "    ,'Actual - 20180301'   ,'Actual - 20180401'   ,'Actual - 20180501'   ,'Actual - 20180601'   ,'Actual - 20180701'\n",
    "    ,'Actual - 20180801'   ,'Actual - 20180901'   ,'Actual - 20181001'   ,'Actual - 20181101'   ,'Actual - 20181201'\n",
    "    ,'Actual - 20190101'   ,'Actual - 20190201'   ,'Actual - 20190301'   ,'Actual - 20190401'   ,'Actual - 20190501'\n",
    "    ,'Actual - 20190601'   ,'Actual - 20190701'   ,'Actual - 20190801'   ,'Actual - 20190901'   ,'Actual - 20191001'\n",
    "    ,'Actual - 20191101'   ,'Actual - 20191201'   ,'Actual - 20200101'   ,'Actual - 20200201'   ,'Actual - 20200301'\n",
    "    ,'Actual - 20200401'   ,'Actual - 20200501'   ,'Actual - 20200601'   ,'Actual - 20200701'   ,'Actual - 20200801'\n",
    "    ,'Actual - 20200901'   ,'Actual - 20201001'   ,'Actual - 20201101'   ,'Actual - 20201201'   ,'Actual - 20210101'\n",
    "    ,'Actual - 20210201'   ,'Actual - 20210301'   ,'Actual - 20210401'   ,'Actual - 20210501'   ,'Actual - 20210601'\n",
    "    ,'Actual - 20210701'   ,'Actual - 20210801'   ,'Actual - 20210901'   ,'Actual - 20211001'   ,'Actual - 20211101'\n",
    "    ,'Actual - 20211201'   ,'Actual - 20220101'   ,'Forecast - 20220201'   ,'Forecast - 20220301'\n",
    "    ,'Forecast - 20220401'   ,'Forecast - 20220501']\n",
    "df0 = pd.melt(df0, id_vars=['File', 'Product0', 'Account0', 'AccountDescription', 'Item'],\n",
    "              value_vars=flps, var_name='Scenario_Date', value_name='Amount')"
   ],
   "metadata": {
    "collapsed": false,
    "pycharm": {
     "name": "#%%\n"
    }
   }
  },
  {
   "cell_type": "code",
   "execution_count": 10,
   "outputs": [],
   "source": [
    "df0[['Scenario','CalendarDate']] = df0.Scenario_Date.str.split(\" - \",expand=True)"
   ],
   "metadata": {
    "collapsed": false,
    "pycharm": {
     "name": "#%%\n"
    }
   }
  },
  {
   "cell_type": "code",
   "execution_count": 11,
   "outputs": [],
   "source": [
    "df0.drop(columns=['Scenario_Date'], inplace=True)"
   ],
   "metadata": {
    "collapsed": false,
    "pycharm": {
     "name": "#%%\n"
    }
   }
  },
  {
   "cell_type": "code",
   "execution_count": 12,
   "outputs": [
    {
     "data": {
      "text/plain": "                         File          Product0                  Account0  \\\n0       401kRevenueDetail.txt      401(K) PLANS  5600 401K ADMINISTRATION   \n1       401kRevenueDetail.txt   401K NSI EXPORT  5600 401K ADMINISTRATION   \n2       401kRevenueDetail.txt  RETIREMENT PLANS  5600 401K ADMINISTRATION   \n3       401kRevenueDetail.txt      401(K) PLANS                5745 EPLAN   \n4       401kRevenueDetail.txt      401(K) PLANS  5600 401K ADMINISTRATION   \n...                       ...               ...                       ...   \n162043  SurePayollRevenue.txt       PREMIER HRS         1501 SP Direct GB   \n162044  SurePayollRevenue.txt       PREMIER HRS       1506 SP BOP PARTNER   \n162045  SurePayollRevenue.txt       PREMIER HRS       1506 SP BOP PARTNER   \n162046  SurePayollRevenue.txt       PREMIER HRS       1506 SP BOP PARTNER   \n162047  SurePayollRevenue.txt       PREMIER HRS       1506 SP BOP PARTNER   \n\n                          AccountDescription              Item    Amount  \\\n0                      FEE REVENUE - NA - RW  401K Fee Revenue  927785.0   \n1                      FEE REVENUE - NA - RW  401K Fee Revenue    -460.0   \n2                      FEE REVENUE - NA - RW  401K Fee Revenue       NaN   \n3                      FEE REVENUE - NA - RW  401K Fee Revenue   15943.0   \n4                         SETUP REVENUE - RW  401K Fee Revenue  919141.0   \n...                                      ...               ...       ...   \n162043  SALES DISCOUNTS - CONTRACT PLAN - RW      SurePayroll.       NaN   \n162044      FEE REVENUE - CONTRACT PLAN - RW      SurePayroll.       NaN   \n162045         MAINTENANCE REVENUE - NA - RW      SurePayroll.       NaN   \n162046             SALES DISCOUNTS - NA - RW      SurePayroll.       NaN   \n162047  SALES DISCOUNTS - CONTRACT PLAN - RW      SurePayroll.       NaN   \n\n        Scenario CalendarDate  \n0         Actual     20140601  \n1         Actual     20140601  \n2         Actual     20140601  \n3         Actual     20140601  \n4         Actual     20140601  \n...          ...          ...  \n162043  Forecast     20220501  \n162044  Forecast     20220501  \n162045  Forecast     20220501  \n162046  Forecast     20220501  \n162047  Forecast     20220501  \n\n[162048 rows x 8 columns]",
      "text/html": "<div>\n<style scoped>\n    .dataframe tbody tr th:only-of-type {\n        vertical-align: middle;\n    }\n\n    .dataframe tbody tr th {\n        vertical-align: top;\n    }\n\n    .dataframe thead th {\n        text-align: right;\n    }\n</style>\n<table border=\"1\" class=\"dataframe\">\n  <thead>\n    <tr style=\"text-align: right;\">\n      <th></th>\n      <th>File</th>\n      <th>Product0</th>\n      <th>Account0</th>\n      <th>AccountDescription</th>\n      <th>Item</th>\n      <th>Amount</th>\n      <th>Scenario</th>\n      <th>CalendarDate</th>\n    </tr>\n  </thead>\n  <tbody>\n    <tr>\n      <th>0</th>\n      <td>401kRevenueDetail.txt</td>\n      <td>401(K) PLANS</td>\n      <td>5600 401K ADMINISTRATION</td>\n      <td>FEE REVENUE - NA - RW</td>\n      <td>401K Fee Revenue</td>\n      <td>927785.0</td>\n      <td>Actual</td>\n      <td>20140601</td>\n    </tr>\n    <tr>\n      <th>1</th>\n      <td>401kRevenueDetail.txt</td>\n      <td>401K NSI EXPORT</td>\n      <td>5600 401K ADMINISTRATION</td>\n      <td>FEE REVENUE - NA - RW</td>\n      <td>401K Fee Revenue</td>\n      <td>-460.0</td>\n      <td>Actual</td>\n      <td>20140601</td>\n    </tr>\n    <tr>\n      <th>2</th>\n      <td>401kRevenueDetail.txt</td>\n      <td>RETIREMENT PLANS</td>\n      <td>5600 401K ADMINISTRATION</td>\n      <td>FEE REVENUE - NA - RW</td>\n      <td>401K Fee Revenue</td>\n      <td>NaN</td>\n      <td>Actual</td>\n      <td>20140601</td>\n    </tr>\n    <tr>\n      <th>3</th>\n      <td>401kRevenueDetail.txt</td>\n      <td>401(K) PLANS</td>\n      <td>5745 EPLAN</td>\n      <td>FEE REVENUE - NA - RW</td>\n      <td>401K Fee Revenue</td>\n      <td>15943.0</td>\n      <td>Actual</td>\n      <td>20140601</td>\n    </tr>\n    <tr>\n      <th>4</th>\n      <td>401kRevenueDetail.txt</td>\n      <td>401(K) PLANS</td>\n      <td>5600 401K ADMINISTRATION</td>\n      <td>SETUP REVENUE - RW</td>\n      <td>401K Fee Revenue</td>\n      <td>919141.0</td>\n      <td>Actual</td>\n      <td>20140601</td>\n    </tr>\n    <tr>\n      <th>...</th>\n      <td>...</td>\n      <td>...</td>\n      <td>...</td>\n      <td>...</td>\n      <td>...</td>\n      <td>...</td>\n      <td>...</td>\n      <td>...</td>\n    </tr>\n    <tr>\n      <th>162043</th>\n      <td>SurePayollRevenue.txt</td>\n      <td>PREMIER HRS</td>\n      <td>1501 SP Direct GB</td>\n      <td>SALES DISCOUNTS - CONTRACT PLAN - RW</td>\n      <td>SurePayroll.</td>\n      <td>NaN</td>\n      <td>Forecast</td>\n      <td>20220501</td>\n    </tr>\n    <tr>\n      <th>162044</th>\n      <td>SurePayollRevenue.txt</td>\n      <td>PREMIER HRS</td>\n      <td>1506 SP BOP PARTNER</td>\n      <td>FEE REVENUE - CONTRACT PLAN - RW</td>\n      <td>SurePayroll.</td>\n      <td>NaN</td>\n      <td>Forecast</td>\n      <td>20220501</td>\n    </tr>\n    <tr>\n      <th>162045</th>\n      <td>SurePayollRevenue.txt</td>\n      <td>PREMIER HRS</td>\n      <td>1506 SP BOP PARTNER</td>\n      <td>MAINTENANCE REVENUE - NA - RW</td>\n      <td>SurePayroll.</td>\n      <td>NaN</td>\n      <td>Forecast</td>\n      <td>20220501</td>\n    </tr>\n    <tr>\n      <th>162046</th>\n      <td>SurePayollRevenue.txt</td>\n      <td>PREMIER HRS</td>\n      <td>1506 SP BOP PARTNER</td>\n      <td>SALES DISCOUNTS - NA - RW</td>\n      <td>SurePayroll.</td>\n      <td>NaN</td>\n      <td>Forecast</td>\n      <td>20220501</td>\n    </tr>\n    <tr>\n      <th>162047</th>\n      <td>SurePayollRevenue.txt</td>\n      <td>PREMIER HRS</td>\n      <td>1506 SP BOP PARTNER</td>\n      <td>SALES DISCOUNTS - CONTRACT PLAN - RW</td>\n      <td>SurePayroll.</td>\n      <td>NaN</td>\n      <td>Forecast</td>\n      <td>20220501</td>\n    </tr>\n  </tbody>\n</table>\n<p>162048 rows × 8 columns</p>\n</div>"
     },
     "execution_count": 12,
     "metadata": {},
     "output_type": "execute_result"
    }
   ],
   "source": [
    "df0"
   ],
   "metadata": {
    "collapsed": false,
    "pycharm": {
     "name": "#%%\n"
    }
   }
  },
  {
   "cell_type": "code",
   "execution_count": 13,
   "outputs": [],
   "source": [
    "df0['Item'] = df0['Item'].replace(\" \",\"\", regex=True)"
   ],
   "metadata": {
    "collapsed": false,
    "pycharm": {
     "name": "#%%\n"
    }
   }
  },
  {
   "cell_type": "code",
   "execution_count": 14,
   "outputs": [],
   "source": [
    "df0_acct = df0[['Item','Account0','Scenario','CalendarDate','Amount']]\n",
    "df0_prod = df0[['Item','Product0','Scenario','CalendarDate','Amount']]\n",
    "\n",
    "df0_group = df0.groupby(['Item','Scenario','CalendarDate'])['Amount'].sum().reset_index()\n",
    "#print(df0_group)\n",
    "item_list = df0_group['Item'].unique().tolist()\n",
    "\n",
    "df_piv = df0_group.pivot(index=['CalendarDate', 'Scenario'], columns='Item', values='Amount')\n",
    "df_piv = df_piv.reset_index()"
   ],
   "metadata": {
    "collapsed": false,
    "pycharm": {
     "name": "#%%\n"
    }
   }
  },
  {
   "cell_type": "code",
   "execution_count": 15,
   "outputs": [
    {
     "data": {
      "text/plain": "Item CalendarDate  Scenario  401KAssetfee&BPRevenue  401KFeeRevenue  \\\n0        20140601    Actual               4261452.0      10621963.0   \n1        20140701    Actual               4513388.0      10558382.0   \n2        20140801    Actual               4486436.0      10297495.0   \n3        20140901    Actual               4355891.0      12719409.0   \n4        20141001    Actual               4455231.0      13797724.0   \n5        20141101    Actual               4466548.0      11049609.0   \n6        20141201    Actual               4309643.0      15706255.0   \n7        20150101    Actual               4855051.0      12860281.0   \n8        20150201    Actual               4218929.0      12618365.0   \n9        20150301    Actual               4608872.0      11388694.0   \n10       20150401    Actual               4491381.0      13310635.0   \n11       20150501    Actual               4845898.0      12075053.0   \n12       20150601    Actual               4676384.0      10448029.0   \n13       20150701    Actual               4844667.0      11215568.0   \n14       20150801    Actual               4651703.0      10764213.0   \n15       20150901    Actual               5014236.0      11672780.0   \n16       20151001    Actual               4576227.0      10748772.0   \n17       20151101    Actual               4553787.0      10928538.0   \n18       20151201    Actual               4691642.0      11683440.0   \n19       20160101    Actual               4700496.0      11247301.0   \n20       20160201    Actual               4803238.0      11018323.0   \n21       20160301    Actual               4680711.0      11351506.0   \n22       20160401    Actual               5230642.0      11399895.0   \n23       20160501    Actual               5317887.0      10961247.0   \n24       20160601    Actual               4933124.0      11371867.0   \n25       20160701    Actual               5066287.0      11517341.0   \n26       20160801    Actual               5338095.0      11673595.0   \n27       20160901    Actual               5134238.0      11492651.0   \n28       20161001    Actual               5336825.0      11921475.0   \n29       20161101    Actual               5217646.0      11614686.0   \n30       20161201    Actual               5220434.0      11644455.0   \n31       20170101    Actual               5354754.0      12126073.0   \n32       20170201    Actual               5298195.0      11742221.0   \n33       20170301    Actual               5790846.0      11884394.0   \n34       20170401    Actual               5864663.0      12021324.0   \n35       20170501    Actual               5841217.0      12029707.0   \n36       20170601    Actual               6306889.0      11737428.0   \n37       20170701    Actual               5824642.0      12668951.0   \n38       20170801    Actual               5345535.0      12410315.0   \n39       20170901    Actual               6114811.0      13282180.0   \n40       20171001    Actual               6318076.0      12598070.0   \n41       20171101    Actual               5769565.0      12580587.0   \n42       20171201    Actual               6553566.0      12427574.0   \n43       20180101    Actual               6390513.0      13217358.0   \n44       20180201    Actual               5624752.0      12725103.0   \n45       20180301    Actual               6793282.0      12852727.0   \n46       20180401    Actual               6425737.0      12807376.0   \n47       20180501    Actual               5731523.0      13178171.0   \n48       20180601    Actual               6783878.0      13047555.0   \n49       20180701    Actual               6741807.0      13105255.0   \n50       20180801    Actual               6941384.0      13157887.0   \n51       20180901    Actual               6900911.0      15907867.0   \n52       20181001    Actual               6731645.0      13540690.0   \n53       20181101    Actual               6428216.0      13311671.0   \n54       20181201    Actual               6544875.0      13418589.0   \n55       20190101    Actual               6164002.0      13352712.0   \n56       20190201    Actual               6356059.0      13141131.0   \n57       20190301    Actual               6788033.0      13462048.0   \n58       20190401    Actual               6953379.0      13655149.0   \n59       20190501    Actual               6427082.0      14378190.0   \n60       20190601    Actual               6854978.0      13736178.0   \n61       20190701    Actual               7292014.0      14220673.0   \n62       20190801    Actual               7418417.0      13644130.0   \n63       20190901    Actual               7095184.0      16989339.0   \n64       20191001    Actual               7179619.0      14109634.0   \n65       20191101    Actual               7248375.0      14741935.0   \n66       20191201    Actual               7561082.0      14323452.0   \n67       20200101    Actual               7587396.0      14914098.0   \n68       20200201    Actual               7521580.0      14831603.0   \n69       20200301    Actual               6995226.0      14754270.0   \n70       20200401    Actual               6409987.0      14109521.0   \n71       20200501    Actual               8237881.0      14109463.0   \n72       20200601    Actual               7095696.0      13747697.0   \n73       20200701    Actual               7614673.0      14737454.0   \n74       20200801    Actual               7551520.0      14392679.0   \n75       20200901    Actual               7747346.0      16883067.0   \n76       20201001    Actual               7793677.0      14170117.0   \n77       20201101    Actual               8000295.0      14230746.0   \n78       20201201    Actual               8482353.0      14829062.0   \n79       20210101    Actual               8601656.0      14541668.0   \n80       20210201    Actual               8798633.0      14785257.0   \n81       20210301    Actual               9014864.0      15017238.0   \n82       20210401    Actual               8986182.0      14843783.0   \n83       20210501    Actual               9447456.0      14198601.0   \n84       20210601    Actual               9242793.0      14949215.0   \n85       20210701    Actual               9402501.0      14734054.0   \n86       20210801    Actual               9642660.0      14789837.0   \n87       20210901    Actual               9799382.0      17774640.0   \n88       20211001    Actual               9732791.0      14743885.0   \n89       20211101    Actual              10097325.0      15738895.0   \n90       20211201    Actual               9911484.0      16090695.0   \n91       20220101    Actual               9956104.0      15870159.0   \n92       20220201  Forecast               8479819.0      16265052.0   \n93       20220301  Forecast               9413975.0      16533376.0   \n94       20220401  Forecast               9172325.0      16438635.0   \n95       20220501  Forecast               9527002.0      16563965.0   \n\nItem  ASOAllocation  ASORevenue-Oasis   Benetrac  CafeteriaPlansRevenue  \\\n0        7255027.55              0.00  1922941.0              1714950.0   \n1        9070820.80              0.00  1916579.0              1698495.0   \n2        7489159.50              0.00  1944830.0              1829118.0   \n3        7011292.24              0.00  1933042.0              1710602.0   \n4        9372927.59              0.00  1956820.0              1702224.0   \n5        7492286.01              0.00  1987727.0              1784045.0   \n6        7355083.53              0.00  2022314.0              1741201.0   \n7        9431085.71              0.00  1986486.0              1714890.0   \n8        7525036.15              0.00  1898082.0              1821176.0   \n9        7170010.02              0.00  1921510.0              1715383.0   \n10       9507435.52              0.00  2067628.0              1668601.0   \n11       8008417.76              0.00  2024352.0              1831128.0   \n12       7723631.47              0.00  2037719.0              1674128.0   \n13      10276187.11              0.00  2073561.0              1666719.0   \n14       8516393.85              0.00  2024591.0              1660469.0   \n15      10159009.60              0.00  2040610.0              1681189.0   \n16       8158477.14              0.00  2019277.0              1703146.0   \n17       8188933.40              0.00  2111021.0              1684985.0   \n18       8206804.86              0.00  2089243.0              1891310.0   \n19      10361488.50              0.00  2076298.0              1748544.0   \n20       8186976.43              0.00  2033634.0              1818573.0   \n21      10026221.23              0.00  1926566.0              1625934.0   \n22       8411614.62              0.00  2018184.0              1721138.0   \n23       8999346.70              0.00  1951107.0              1707584.0   \n24       9885278.67              0.00  1052127.0              1701697.0   \n25       8882785.62              0.00  1060372.0              1709266.0   \n26      10356048.31              0.00  1066616.0              1683728.0   \n27       9212117.08              0.00   980722.0              1714844.0   \n28       9275224.11              0.00  1852769.0              1715301.0   \n29      10057386.35              0.00  1950198.0              1753124.0   \n30       9631544.50              0.00  1936100.0              1806996.0   \n31       9504950.94              0.00  1755994.0              1744221.0   \n32       8918143.61              0.00  1861166.0              1717947.0   \n33       9854513.30              0.00  1772108.0              1717694.0   \n34       8929758.90              0.00  1746201.0              1682807.0   \n35      10862813.30              0.00  1730887.0              1844953.0   \n36       9950476.82              0.00  1789429.0              1792429.0   \n37       9696458.80              0.00  1720948.0              1799576.0   \n38      10844096.32              0.00  1735764.0              1787356.0   \n39       9460715.73              0.00  1665568.0              1800680.0   \n40      10219669.28              0.00  1688255.0              1792862.0   \n41      10412580.75              0.00  1690271.0              1818556.0   \n42       9904542.86              0.00  1682108.0              1835447.0   \n43      10757884.98              0.00  1690134.0              1811757.0   \n44       9596095.78              0.00  1623225.0              1815575.0   \n45      10090456.69              0.00  1598898.0              1780867.0   \n46      10184445.77              0.00  1586216.0              1751199.0   \n47      12023742.27              0.00  1592662.0              1759382.0   \n48      10822300.54              0.00  1564813.0              1742628.0   \n49      11655444.69              0.00  1545310.0              1735306.0   \n50      11954057.43              0.00  1572317.0              1734774.0   \n51      10732724.79              0.00  1533748.0              1731765.0   \n52      12506864.04              0.00  1561762.0              1732806.0   \n53      11416075.74              0.00  1531377.0              1769694.0   \n54      12003008.85              0.00  1587568.0              1768188.0   \n55      12307110.07         705012.81  1556671.0              1801231.0   \n56      10973726.22         710059.06  1541456.0              1765198.0   \n57      11163985.65         745998.73  1514564.0              1727367.0   \n58      12273835.85         559902.25  1515658.0              1725937.0   \n59      13200608.97         910875.92  1591871.0              1657062.0   \n60      12087411.39         639892.89  1511323.0              1767608.0   \n61      13878027.98         644258.43  1549938.0              1749502.0   \n62      12675538.93         728080.77  1528094.0              1743333.0   \n63      12571840.85         683823.13  1526773.0              1767107.0   \n64      14047086.94         638908.17  1541984.0              1690879.0   \n65      12301924.49         653196.79  1534970.0              1795687.0   \n66      14378788.99         486066.55  1582362.0              1825531.0   \n67      12775179.21         709881.84  1528054.0              1794471.0   \n68      12181489.80         893234.26  1523184.0              1859494.0   \n69      13319977.33         607337.32  1518091.0              1797522.0   \n70      11983714.88         531157.22  1530206.0              1734531.0   \n71      11143352.64         595333.80  1465828.0              1713755.0   \n72      12924068.68         550621.70  1330325.0              1681963.0   \n73      13177301.28         582068.16  1435919.0              1695288.0   \n74      12650448.43         446718.60  1390286.0              1681833.0   \n75      14364661.70         414876.77  1416866.0              1607463.0   \n76      13775386.37         400464.45  1430005.0              1775330.0   \n77      13918771.19         328000.14  1371422.0              1703859.0   \n78      15826211.23         358024.69  1416567.0              1687339.0   \n79      13265382.71         273995.85  1390060.0              1771611.0   \n80      13666646.86         291755.39  1354163.0              1685096.0   \n81      16053700.85         253715.04  1404115.0              1667442.0   \n82      14728764.11         260657.63  1349889.0              1683761.0   \n83      14672623.61         289242.62  1372288.0              1624781.0   \n84      17035990.52         272092.62  1387683.0              1654993.0   \n85      16379137.69         308577.80  1383589.0              1641035.0   \n86      17467119.17         266937.75  1374918.0              1639415.0   \n87      17956420.34         240519.21  1387895.0              1602816.0   \n88      16639812.59         260480.33  1487840.0              1630754.0   \n89      18200667.03         235107.82  1563706.0              1621397.0   \n90      19189993.34         305437.47  1500244.0              1647629.0   \n91      17242037.23         246266.95  1492592.0              1611912.0   \n92      16746239.66         255404.81  1551261.0              1644094.0   \n93      19830263.01         255404.81  1566351.0              1627758.0   \n94      17280393.78         255404.81  1567183.0              1624834.0   \n95      18341358.09         255404.81  1555692.0              1621878.0   \n\nItem  DeliveryRevenue  ESRRevenue  EmergingProducts  \\\n0          7393351.97     47602.0          796063.0   \n1         13513741.18     67521.0          986955.0   \n2          7286966.62     79771.0          924689.0   \n3          7081861.96    105330.0          732444.0   \n4         13741077.44    143956.0         1051920.0   \n5          7259539.93    178933.0          965427.0   \n6          7559482.15    235468.0          852949.0   \n7         19855110.85    607646.0          908730.0   \n8          7116009.19    454163.0          946365.0   \n9          6970218.27    905763.0          898680.0   \n10        13534160.18   1263887.0         1110786.0   \n11         7376023.95    976059.0         1034569.0   \n12         7329981.91   1347270.0          941623.0   \n13        13948654.17   1804485.0         1156683.0   \n14         7676302.90   1508526.0         1084301.0   \n15         9392633.06   2833960.0         1023739.0   \n16        11805467.44   3160806.0         1046697.0   \n17         7312139.25    333144.0         1067704.0   \n18         7664934.35   3341381.0          977559.0   \n19        20102082.91   3499744.0         1020379.0   \n20         7220867.85   -121649.0         1067919.0   \n21         9057909.30   3310680.0         1113392.0   \n22        11833933.99   3167425.0         1136826.0   \n23         7669234.87   2824047.0         1144307.0   \n24         8060818.28   4151030.0         1232488.0   \n25        12103471.88   4231057.0         1247530.0   \n26         9148988.99   5033397.0         1102284.0   \n27         8016364.38   4445081.0         1314913.0   \n28        12231875.36   3443906.0         1288723.0   \n29         8333195.01   2113145.0         1270860.0   \n30         8502596.75   3688098.0         1239273.0   \n31        20693527.22   3602257.0         1278209.0   \n32         8546196.17   8201954.0         1179715.0   \n33         7897890.95   3367706.0         1251807.0   \n34        12046783.19   3368745.0         1351675.0   \n35         8490202.09   5558528.0         1504560.0   \n36         8090880.45   3615710.0         1306471.0   \n37        12451665.77   3587270.0         1405566.0   \n38         8654903.34   1469878.0         1386069.0   \n39         7550083.82   3506602.0         1315453.0   \n40        12587276.90   3595168.0         1450405.0   \n41         8292133.12   1692661.0         1147415.0   \n42         8097708.35   3724896.0         1374363.0   \n43        21595095.19   3804505.0         1397691.0   \n44         7549917.92  10276103.0         1527381.0   \n45         7394221.27   3597257.0         1471887.0   \n46        11839561.68   3393929.0         1578077.0   \n47         8775390.94   3167395.0         1817889.0   \n48         7772932.40   3590259.0         1524025.0   \n49        12583094.75   3601693.0         1284364.0   \n50         8543239.38   1647031.0         1879159.0   \n51         7460068.76   3698844.0         1530054.0   \n52        12743453.53   3738425.0         1477668.0   \n53         8100512.30   1496002.0         1530744.0   \n54         8500244.59   3726361.0         1476902.0   \n55        21596616.92   3879058.0         1524067.0   \n56         7036293.53  10709426.0         1570170.0   \n57         7207474.72   3782792.0         1481036.0   \n58        11964920.42   3838506.0         1613325.0   \n59         8321301.71   1863244.0         1913425.0   \n60         7665705.28   3742723.0         1756987.0   \n61        12949631.67   3844439.0         1728725.0   \n62         8212353.55   1547222.0         1615702.0   \n63         7776538.97   3840345.0         1712504.0   \n64        13167523.61   3968861.0         2776176.0   \n65         7333935.36   1479704.0         2666963.0   \n66         8871187.51   3821723.0         2659461.0   \n67        21355359.49   4081583.0         2743117.0   \n68         6964871.77  11158568.0         2796036.0   \n69         7533384.52   4511615.0         2739085.0   \n70        10990659.87   3846363.0         2418266.0   \n71         6185801.63   1570955.0         2385788.0   \n72         7188744.17   3867043.0         2518698.0   \n73        11792398.32   3763539.0         3716091.0   \n74         6869452.00   1489544.0         3470041.0   \n75         7663056.78   3929487.0         3734614.0   \n76        12032858.64   3758486.0         3765622.0   \n77         7046763.65   1549635.0         3775578.0   \n78         7635486.71   3713962.0         3393072.0   \n79        22548298.89   3955284.0         4341243.0   \n80         6430193.76  11179898.0         3735642.0   \n81         7657980.44   5180501.0         4687474.0   \n82        11701117.00   4329239.0         5767059.0   \n83         6726549.70   1580445.0         4842317.0   \n84         7829826.55   3937901.0         4345580.0   \n85        12439360.29   3933267.0         5788298.0   \n86         7622602.03   1646804.0         4443808.0   \n87         7779041.11   4262717.0         4935887.0   \n88        11268274.39   4033346.0         4965180.0   \n89         7617424.02   1612427.0         4695291.0   \n90         8212787.33   3983709.0         4913494.0   \n91        22435519.84   4249129.0         5438292.0   \n92         6683673.54  11717643.0         5155883.0   \n93         7556913.86   5285546.0         4629384.0   \n94        10943693.27   4415867.0         4586444.0   \n95         7961770.17   1673122.0         4557641.0   \n\nItem  FullServiceUnemploymentRevenue   HROnline  HRSolutions(PEO)  \\\n0                          1869396.0  3930007.0        21143605.0   \n1                          2341533.0  4535022.0        25838048.0   \n2                          1986835.0  3869725.0        21762760.0   \n3                          1888067.0  3847567.0        20288451.0   \n4                          2491011.0  4967922.0        26755143.0   \n5                          2048831.0  4044570.0        21881382.0   \n6                          2006345.0  4284873.0        21273963.0   \n7                          2606423.0  5095101.0        27128652.0   \n8                          2103998.0  3978493.0        21605352.0   \n9                          2025107.0  4012338.0        20945564.0   \n10                         2667637.0  4955848.0        27295115.0   \n11                         2233549.0  4301134.0        24186465.0   \n12                         2165585.0  4280031.0        22555191.0   \n13                         2841588.0  5318656.0        29515878.0   \n14                         2270658.0  4383791.0        24799210.0   \n15                         2829365.0  5329492.0        29204488.0   \n16                         2294188.0  4383741.0        23828060.0   \n17                         2321013.0  4719545.0        24051976.0   \n18                         2309775.0  4673620.0        23899683.0   \n19                         2921037.0  5528222.0        30116912.0   \n20                         2298743.0  4631870.0        24308988.0   \n21                         2848775.0  5225395.0        29232455.0   \n22                         2365873.0  4637897.0        24882355.0   \n23                         2455227.0  4615750.0        26488522.0   \n24                         3043839.0  5835742.0        28776154.0   \n25                         2478077.0  4813147.0        26185072.0   \n26                         3052610.0  5735998.0        30035570.0   \n27                         2486145.0  4948528.0        27167183.0   \n28                         2490587.0  4939692.0        27363579.0   \n29                         3116351.0  5735168.0        29433640.0   \n30                         2650284.0  5403236.0        28506998.0   \n31                         3026906.0  5850417.0        28092482.0   \n32                         2541705.0  4807506.0        26675554.0   \n33                         2497205.0  4858756.0        29011816.0   \n34                         2554790.0  4820388.0        26735093.0   \n35                         3234268.0  5759886.0        31766046.0   \n36                         2562808.0  4951638.0        29602341.0   \n37                         2746140.0  4854792.0        28780846.0   \n38                         3254680.0  5596199.0        31909214.0   \n39                         2633795.0  4861285.0        28276412.0   \n40                         2550478.0  4626914.0        30108209.0   \n41                         3334452.0  5597947.0        30765934.0   \n42                         2788904.0  5038477.0        29528072.0   \n43                         2966273.0  5275811.0        31680987.0   \n44                         2718772.0  4638695.0        28618018.0   \n45                         2739030.0  4597759.0        29895055.0   \n46                         2772019.0  4503073.0        30165545.0   \n47                         3188570.0  5188822.0        34825303.0   \n48                         2852845.0  4479872.0        31713159.0   \n49                         3036869.0  4603243.0        33864522.0   \n50                         3150125.0  5021066.0        34755868.0   \n51                         2778483.0  4433291.0        31556369.0   \n52                         3253351.0  4991557.0        36181227.0   \n53                         2927537.0  4352584.0        33476924.0   \n54                         3145695.0  4797152.0        34971244.0   \n55                         3100242.0  4836781.0        35699865.0   \n56                         2785185.0  4276077.0        32236638.0   \n57                         2816453.0  4292346.0        32785416.0   \n58                         3070977.0  4321088.0        35581827.0   \n59                         3289160.0  4791506.0        38184809.0   \n60                         3042831.0  4364134.0        35275282.0   \n61                         3458990.0  4806947.0        39841426.0   \n62                         3150888.0  4131461.0        36796619.0   \n63                         3111692.0  4372135.0        36415882.0   \n64                         3451126.0  4737809.0        40166556.0   \n65                         3029484.0  4232255.0        35800258.0   \n66                         3630176.0  4754924.0        41227310.0   \n67                         3137881.0  4531575.0        37106515.0   \n68                         2986560.0  4198950.0        35445714.0   \n69                         3217886.0  4280156.0        38380836.0   \n70                         2907741.0  4083176.0        34706643.0   \n71                         2811866.0  3676731.0        32622114.0   \n72                         3181309.0  4062434.0        37167436.0   \n73                         3209949.0  4073183.0        37905820.0   \n74                         3059664.0  3924895.0        36603021.0   \n75                         3476543.0  4174519.0        41225843.0   \n76                         3232099.0  3932018.0        39764048.0   \n77                         3253928.0  3973665.0        40008351.0   \n78                         3812093.0  4544766.0        45196087.0   \n79                         3071647.0  4190849.0        38395293.0   \n80                         3103960.0  3859289.0        39462133.0   \n81                         3648121.0  4560598.0        45766968.0   \n82                         3297551.0  4153573.0        42508711.0   \n83                         3259141.0  4167953.0        42183770.0   \n84                         3737261.0  4825528.0        48479296.0   \n85                         3503756.0  4251914.0        46831114.0   \n86                         3693255.0  4282824.0        49695326.0   \n87                         3757698.0  4777557.0        51078260.0   \n88                         3459421.0  4325765.0        47565909.0   \n89                         3708846.0  4453374.0        51630144.0   \n90                         3985770.0  4814453.0        54473328.0   \n91                         3503156.0  4809978.0        49289702.0   \n92                         3256254.0  4426981.0        47754765.0   \n93                         3726698.0  5077573.0        55976261.0   \n94                         3272264.0  4366180.0        49129952.0   \n95                         3537170.0  4419842.0        52095246.0   \n\nItem  HealthBenefits  InterestonFundsHeldforClients  OtherProcessingRevenue  \\\n0          5225672.0                      3308154.0              4765775.19   \n1          5108935.0                      3466375.0              6502729.54   \n2          5380159.0                      3434419.0              4215268.17   \n3          6281392.0                      3419918.0              4726806.24   \n4          6107475.0                      3472038.0              6514037.07   \n5          5589002.0                      3469203.0              4528513.14   \n6          5315219.0                      3550962.0              5170797.88   \n7          5339084.0                      3683535.0              6834385.36   \n8          5420555.0                      3509475.0              4722991.56   \n9          6383528.0                      3645265.0              4772800.16   \n10         6003106.0                      3627835.0              6427057.13   \n11         5618819.0                      3493963.0              4307694.11   \n12         5595162.0                      3481516.0              4736701.70   \n13         5932169.0                      3650796.0              6577931.84   \n14         6390132.0                      3658495.0              4616379.43   \n15         5839095.0                      3654756.0              5818055.29   \n16         5975938.0                      3762906.0              5524834.07   \n17         5741568.0                      3739729.0              4293230.39   \n18         5544911.0                      3936843.0              5374700.31   \n19         5439242.0                      4026400.0              6860248.81   \n20         5662705.0                      3915424.0              4955995.98   \n21         7805115.0                      4070073.0              5744647.37   \n22         6714108.0                      4307390.0              5591679.73   \n23         5942555.0                      3852075.0              4148836.84   \n24         6141295.0                      3944652.0              5518656.67   \n25         6339085.0                      4229635.0              5587227.71   \n26         6804213.0                      3805760.0              5154066.10   \n27         6126624.0                      3578044.0              4730219.38   \n28         6633365.0                      4008273.0              5382393.12   \n29         6138194.0                      3796831.0              4992400.95   \n30         6147835.0                      4439123.0              5381955.32   \n31         6224396.0                      4557677.0              7044526.40   \n32         6378085.0                      4235552.0              5110530.92   \n33         7354509.0                      4638549.0              5221018.65   \n34         7150827.0                      5177184.0              5872457.83   \n35         6673397.0                      4173895.0              4847938.50   \n36         6964534.0                      4470144.0              4408487.60   \n37         6890258.0                      4881440.0              5558938.06   \n38         7235252.0                      4357596.0              4780662.42   \n39         6938667.0                      4644637.0              4599562.18   \n40         7534210.0                      4722507.0              5450023.13   \n41         6818094.0                      4617751.0              4846195.36   \n42         6479451.0                      6502180.0              5132951.13   \n43         6538508.0                      6024323.0              7005602.96   \n44         7232844.0                      5577385.0              5565567.36   \n45         7987229.0                      5994470.0              5477336.78   \n46         8135771.0                      6791075.0              5578602.55   \n47         7488019.0                      4950702.0              4505986.86   \n48         7796701.0                      5633249.0              4789724.95   \n49         7696021.0                      6059461.0              5664616.17   \n50         7654579.0                      5467660.0              5210368.65   \n51         7484079.0                      6002190.0              5215003.37   \n52         7963497.0                      6084714.0              7110908.92   \n53         7359922.0                      6201403.0              4358753.62   \n54         7501730.0                      8257412.0              6154364.49   \n55         7690669.0                      7271303.0              8031289.63   \n56         7880399.0                      7426883.0              6158988.26   \n57         9689790.0                      8190477.0              7380674.75   \n58         8544604.0                      8500112.0              6686248.15   \n59         8454463.0                      5526306.0              5507003.66   \n60         7831620.0                      6690159.0              5120755.91   \n61         8111420.0                      6871711.0              7015568.80   \n62         8170458.0                      6955639.0              4590520.03   \n63         8036181.0                      6660358.0              5212910.15   \n64         8280587.0                      6777291.0              7395806.41   \n65         8351544.0                      6440899.0              4608921.33   \n66         7996643.0                      7566114.0              5947708.56   \n67         8288521.0                      7143172.0              9146405.86   \n68         8454452.0                      6544369.0              6869892.23   \n69        10084370.0                      6320418.0              6026484.33   \n70         8384464.0                      5466256.0              6664268.18   \n71         7565506.0                     13447506.0              3311409.16   \n72         7813596.0                      4880122.0              4077821.35   \n73         7973449.0                      4995701.0              6403981.95   \n74         9161558.0                      4981545.0              3945854.11   \n75         8067430.0                      4972046.0              5260050.56   \n76         8244736.0                      5037401.0              5655867.51   \n77         9324738.0                      4805233.0              4300804.08   \n78         8516518.0                      5115796.0              5619589.40   \n79         8756918.0                      5034424.0              8645189.69   \n80         9241920.0                      4984652.0              6625228.73   \n81        10415876.0                      5028113.0              6834861.06   \n82        10902159.0                      4669272.0              6416112.24   \n83         9650524.0                      4779147.0              5194467.56   \n84         9204206.0                      4839930.0              6394723.88   \n85         9158951.0                      4853965.0              6511334.05   \n86         9961814.0                      4779067.0              5567663.09   \n87         9156447.0                      4658101.0              9225078.60   \n88         9189460.0                      4733333.0             10636303.84   \n89         9356768.0                      4723739.0              9402313.19   \n90         9372927.0                      4927516.0             15988997.51   \n91         9465160.0                      4865480.0             20866313.40   \n92         9996382.0                      4676956.0             14110893.97   \n93        11237569.0                      4725496.0             12680918.38   \n94        10139218.0                      4763628.0             10225582.63   \n95        10021477.0                      4585198.0              6506572.85   \n\nItem  Payrollblendedproducts  SurePayroll.  Time&Attendance  \\\n0                 99633512.0    3246967.02        4651817.0   \n1                121619696.0    3362473.02        5165885.0   \n2                 99472483.0    3286111.93        4856677.0   \n3                 94198230.0    3345328.53        5098280.0   \n4                124353873.0    3402641.78        5188982.0   \n5                 98868618.0    3221738.58        5209888.0   \n6                 99281713.0    3627472.60        5266992.0   \n7                124388966.0    3589702.61        5662406.0   \n8                 95862151.0    3491857.24        5273882.0   \n9                 92298659.0    3460680.80        5265180.0   \n10               121697752.0    3596075.91        5539018.0   \n11               101684796.0    3551331.14        5465141.0   \n12                98488622.0    3676623.32        5437709.0   \n13               128603825.0    3726388.72        5959859.0   \n14               105495604.0    3617244.49        5519553.0   \n15               125580319.0    3732719.85        5922642.0   \n16               100345212.0    3848604.14        5820770.0   \n17               101027390.0    3775794.56        5862850.0   \n18               103140193.0    4254271.79        6467859.0   \n19               125846591.0    3935568.03        6822786.0   \n20                96492494.0    4148934.43        6344828.0   \n21               120343617.0    3675673.88        6786548.0   \n22                98703839.0    3878957.25        6691321.0   \n23               106311407.0    4151100.38        7072702.0   \n24               118434494.0    4281609.68        7387193.0   \n25               104657878.0    4064740.30        7107335.0   \n26               117436063.0    4360951.80        7513213.0   \n27               110000558.0    4253492.27        7233654.0   \n28               105928516.0    4484285.19        7730802.0   \n29               113829464.0    4580347.34        8059296.0   \n30               117493864.0    4694198.11        7681051.0   \n31               106635184.0    4688990.88        8322899.0   \n32                98803491.0    4729386.02        7390077.0   \n33               111544069.0    4729940.39        7648072.0   \n34                99478187.0    4623969.67        7590436.0   \n35               118429597.0    4689908.16        8530134.0   \n36               115286408.0    4594469.05        8029412.0   \n37               108148242.0    4323014.65        8024940.0   \n38               120254168.0    4606829.21        8619134.0   \n39               104705146.0    4560080.94        7945770.0   \n40               110931972.0    4503698.65        8112067.0   \n41               115430932.0    4825709.08        8941065.0   \n42               113194342.0    8442951.17        8572655.0   \n43               110248167.0    4787634.91        9128984.0   \n44                98798038.0    4930779.33        8325777.0   \n45               106248694.0    4906764.07        8511330.0   \n46               103554646.0    4465952.01        8665389.0   \n47               119149029.0    4633768.82        9572679.0   \n48               107365918.0    4943145.47        8612041.0   \n49               113740156.0    4919537.25        8999964.0   \n50               116505720.0    5136136.05        9589296.0   \n51               102622473.0    5004991.73        8895074.0   \n52               115762795.0    5304753.98        9808982.0   \n53               110179873.0    5299378.61        9148466.0   \n54               117538398.0    9195105.13        9610684.0   \n55               110354647.0    5395374.33        9900856.0   \n56                98377675.0    5280598.89        9248176.0   \n57                99958270.0    5257329.44        9225099.0   \n58               108700563.0    5419585.98        9402075.0   \n59               115331665.0    5483869.43       10375039.0   \n60               106731158.0    5407599.32        9834595.0   \n61               119190721.0    5793080.04       10666783.0   \n62               113364359.0    5772912.09       10106647.0   \n63               108305027.0    5690589.48        9969504.0   \n64               119068432.0    6085073.35       10854283.0   \n65               105060481.0    6032851.03       10213195.0   \n66               128667631.0   10379934.04       10959054.0   \n67               106043776.0    6743500.21       10911500.0   \n68                99644382.0    6054285.13       10187849.0   \n69               107287296.0    6087112.38       10424181.0   \n70                92673007.0    5827460.74        9986738.0   \n71                90949332.0    6027283.54        9598261.0   \n72               103438412.0    5315739.43        9962100.0   \n73               103718926.0    6289727.45       10476574.0   \n74                99146164.0    6068778.04       10229001.0   \n75               108696536.0    6340700.19       10968963.0   \n76               107861298.0    6575824.19       10645208.0   \n77               105164502.0    6841850.51       13272131.0   \n78               126152261.0   12080887.00       11300057.0   \n79                94834624.0    7062932.96       11004027.0   \n80                96978102.0    6757198.28       10433968.0   \n81               110554131.0    7127288.42       11520879.0   \n82               105999185.0    7072846.33       10941869.0   \n83               101329196.0    6814938.46       11117995.0   \n84               114237978.0    7156491.88       12926121.0   \n85               113185861.0    7317227.02       11602640.0   \n86               115768921.0    7219542.77       11871451.0   \n87               116406871.0    7427904.86       12506264.0   \n88               107455264.0    7524424.40       11891771.0   \n89               117503730.0    8070593.59       12248687.0   \n90               127800869.0   13553160.66       12098563.0   \n91               103869768.0    7943756.66       12696120.0   \n92               103360524.0    7782924.02       12121165.0   \n93               116712202.0    7739255.89       13043487.0   \n94               102015093.0    7880413.73       12328801.0   \n95               108164336.0    7873993.46       12372935.0   \n\nItem  TotalPaychexAdvance  Totalinternational   W-2Revenue  \\\n0                     0.0                 0.0   7031234.09   \n1                     0.0                 0.0   7325377.82   \n2                     0.0                 0.0   7443620.46   \n3                     0.0                 0.0   7414842.11   \n4                     0.0                 0.0   7818212.35   \n5                     0.0                 0.0   7542659.46   \n6                     0.0                 0.0   8117392.17   \n7                     0.0                 0.0   9377834.84   \n8                     0.0                 0.0   7226134.53   \n9                     0.0                 0.0   6909620.47   \n10                    0.0                 0.0   7301671.08   \n11                    0.0                 0.0   7260382.11   \n12                    0.0                 0.0   7394189.03   \n13                    0.0                 0.0   7847795.04   \n14                    0.0                 0.0   7932837.15   \n15                    0.0                 0.0   7936344.08   \n16                    0.0                 0.0   8278406.81   \n17                    0.0                 0.0   7554776.85   \n18                    0.0                 0.0   8573805.72   \n19              4801565.0                 0.0   7593788.48   \n20              2948516.0                 0.0   7305483.96   \n21              3251179.0                 0.0   7231568.92   \n22              3354726.0                 0.0   7382402.54   \n23              3387572.0                 0.0   6983682.41   \n24              3419589.0                 0.0   7939119.37   \n25              3500091.0                 0.0   7866814.61   \n26              3624710.0                 0.0   8052852.46   \n27              3606031.0                 0.0   7498421.18   \n28              3781187.0                 0.0   8531642.37   \n29              3599570.0                 0.0   8540560.78   \n30              3937490.0                 0.0   7987958.95   \n31              3887405.0                 0.0  10169659.06   \n32              3536858.0                 0.0   6785179.52   \n33              4923698.0                 0.0   7927264.97   \n34              3833670.0                 0.0   7537154.75   \n35              3874504.0                 0.0   6175856.06   \n36              3950935.0                 0.0   8800397.84   \n37              4046519.0                 0.0   7887136.61   \n38              4222943.0                 0.0   7602343.41   \n39              3930089.0                 0.0   7277217.55   \n40              4079759.0                 0.0   8126909.97   \n41              3985082.0                 0.0   8449869.35   \n42              4331734.0                 0.0   7915751.12   \n43              4512203.0                 0.0  13178457.56   \n44              3726627.0                 0.0   7194287.27   \n45              4041121.0                 0.0   7567950.55   \n46              3972334.0                 0.0   7695015.35   \n47              4074639.0                 0.0   8621115.07   \n48              4021019.0                79.0    254225.27   \n49              4011756.0                91.0    305124.49   \n50              4227012.0              -170.0    342622.30   \n51              4169955.0                 0.0    276560.90   \n52              4501902.0                 0.0    180092.57   \n53              4281585.0                 0.0    517750.99   \n54              4291803.0                 0.0    633412.69   \n55              4554791.0                 0.0  91805550.59   \n56              3936378.0                 0.0   -183758.43   \n57              4330769.0                 0.0    141277.90   \n58              4369637.0                 0.0    157985.54   \n59              4039496.0                 0.0    300405.13   \n60              4438541.0                 0.0    255174.15   \n61              4471539.0                 0.0    359903.73   \n62              4806964.0                 0.0    236475.53   \n63              4752068.0                 0.0    302200.63   \n64              4948327.0                 0.0    426395.09   \n65              4926307.0                 0.0    294299.84   \n66              5087037.0                 0.0    422089.81   \n67              5221134.0                 0.0  89119517.59   \n68              4436688.0                 0.0    -55689.50   \n69              4652809.0                 0.0     16995.28   \n70              3790876.0                 0.0    180969.05   \n71              3752301.0                 0.0    135876.35   \n72              3433099.0                 0.0    103884.59   \n73              3460938.0                 0.0    162905.40   \n74              3727359.0                 0.0    176199.40   \n75              3933638.0                 0.0    227531.19   \n76              4317897.0                 0.0    183308.66   \n77              4567347.0                 0.0    208805.40   \n78              4829985.0                 0.0    233016.32   \n79              5542882.0                 0.0  80988881.77   \n80              5572132.0                 0.0     28599.77   \n81              6534835.0                 0.0    -43477.46   \n82              6052148.0                 0.0     44625.45   \n83              5983387.0                 0.0    113517.87   \n84              5692350.0                 0.0    145664.32   \n85              5641812.0                 0.0    129513.03   \n86              5650870.0                 0.0    149699.46   \n87              6112914.0                 0.0    184562.25   \n88              7191242.0                 0.0    181163.07   \n89              7614146.0                 0.0    155279.24   \n90              9863307.0                 0.0    192584.15   \n91              6906691.0                 0.0  81544421.44   \n92              6370178.0                 0.0     87571.97   \n93              6501591.0                 0.0    -43001.29   \n94              6413893.0                 0.0     44811.43   \n95              6666851.0                 0.0    113783.77   \n\nItem  WorkersComp-PaymentSe  \n0                 4858397.0  \n1                 5244318.0  \n2                 5588578.0  \n3                 4968759.0  \n4                 5752070.0  \n5                 4890557.0  \n6                 5773054.0  \n7                 5384244.0  \n8                 4903952.0  \n9                 5445220.0  \n10                5406164.0  \n11                5941847.0  \n12                5661780.0  \n13                6500617.0  \n14                5667703.0  \n15                5757635.0  \n16                6380015.0  \n17                5567680.0  \n18                6751751.0  \n19                5376286.0  \n20                5595994.0  \n21                5826554.0  \n22                6225168.0  \n23                6016815.0  \n24                6372906.0  \n25                6372853.0  \n26                6268616.0  \n27                6603467.0  \n28                6003438.0  \n29                6077264.0  \n30                7316407.0  \n31                5858684.0  \n32                6151520.0  \n33               11604426.0  \n34                5944776.0  \n35                6873131.0  \n36                9038790.0  \n37                6383062.0  \n38                7086460.0  \n39                8706659.0  \n40                6543185.0  \n41                6824937.0  \n42                9668673.0  \n43                6444463.0  \n44                6289482.0  \n45               14092455.0  \n46                6593324.0  \n47                7079142.0  \n48                8881032.0  \n49                6747185.0  \n50                7885942.0  \n51                7838690.0  \n52                6850804.0  \n53                7000936.0  \n54                8199059.0  \n55                9242253.0  \n56                5912592.0  \n57                8523892.0  \n58                6261911.0  \n59                7164720.0  \n60                7808127.0  \n61                6357609.0  \n62                7726193.0  \n63                7516524.0  \n64                6655824.0  \n65                7486937.0  \n66                7656013.0  \n67                6525521.0  \n68                8971822.0  \n69                7782071.0  \n70                4543151.0  \n71                6847014.0  \n72                6939467.0  \n73                6232641.0  \n74                5374076.0  \n75                6776595.0  \n76                6517515.0  \n77                6101679.0  \n78                7500443.0  \n79                5399816.0  \n80                5392816.0  \n81                7384007.0  \n82                6571571.0  \n83                5953067.0  \n84                7050812.0  \n85                6697117.0  \n86                5803622.0  \n87                6908722.0  \n88                6345526.0  \n89                6207581.0  \n90                8091726.0  \n91                5645055.0  \n92                5598828.0  \n93                7568997.0  \n94                6578746.0  \n95                6376085.0  ",
      "text/html": "<div>\n<style scoped>\n    .dataframe tbody tr th:only-of-type {\n        vertical-align: middle;\n    }\n\n    .dataframe tbody tr th {\n        vertical-align: top;\n    }\n\n    .dataframe thead th {\n        text-align: right;\n    }\n</style>\n<table border=\"1\" class=\"dataframe\">\n  <thead>\n    <tr style=\"text-align: right;\">\n      <th>Item</th>\n      <th>CalendarDate</th>\n      <th>Scenario</th>\n      <th>401KAssetfee&amp;BPRevenue</th>\n      <th>401KFeeRevenue</th>\n      <th>ASOAllocation</th>\n      <th>ASORevenue-Oasis</th>\n      <th>Benetrac</th>\n      <th>CafeteriaPlansRevenue</th>\n      <th>DeliveryRevenue</th>\n      <th>ESRRevenue</th>\n      <th>EmergingProducts</th>\n      <th>FullServiceUnemploymentRevenue</th>\n      <th>HROnline</th>\n      <th>HRSolutions(PEO)</th>\n      <th>HealthBenefits</th>\n      <th>InterestonFundsHeldforClients</th>\n      <th>OtherProcessingRevenue</th>\n      <th>Payrollblendedproducts</th>\n      <th>SurePayroll.</th>\n      <th>Time&amp;Attendance</th>\n      <th>TotalPaychexAdvance</th>\n      <th>Totalinternational</th>\n      <th>W-2Revenue</th>\n      <th>WorkersComp-PaymentSe</th>\n    </tr>\n  </thead>\n  <tbody>\n    <tr>\n      <th>0</th>\n      <td>20140601</td>\n      <td>Actual</td>\n      <td>4261452.0</td>\n      <td>10621963.0</td>\n      <td>7255027.55</td>\n      <td>0.00</td>\n      <td>1922941.0</td>\n      <td>1714950.0</td>\n      <td>7393351.97</td>\n      <td>47602.0</td>\n      <td>796063.0</td>\n      <td>1869396.0</td>\n      <td>3930007.0</td>\n      <td>21143605.0</td>\n      <td>5225672.0</td>\n      <td>3308154.0</td>\n      <td>4765775.19</td>\n      <td>99633512.0</td>\n      <td>3246967.02</td>\n      <td>4651817.0</td>\n      <td>0.0</td>\n      <td>0.0</td>\n      <td>7031234.09</td>\n      <td>4858397.0</td>\n    </tr>\n    <tr>\n      <th>1</th>\n      <td>20140701</td>\n      <td>Actual</td>\n      <td>4513388.0</td>\n      <td>10558382.0</td>\n      <td>9070820.80</td>\n      <td>0.00</td>\n      <td>1916579.0</td>\n      <td>1698495.0</td>\n      <td>13513741.18</td>\n      <td>67521.0</td>\n      <td>986955.0</td>\n      <td>2341533.0</td>\n      <td>4535022.0</td>\n      <td>25838048.0</td>\n      <td>5108935.0</td>\n      <td>3466375.0</td>\n      <td>6502729.54</td>\n      <td>121619696.0</td>\n      <td>3362473.02</td>\n      <td>5165885.0</td>\n      <td>0.0</td>\n      <td>0.0</td>\n      <td>7325377.82</td>\n      <td>5244318.0</td>\n    </tr>\n    <tr>\n      <th>2</th>\n      <td>20140801</td>\n      <td>Actual</td>\n      <td>4486436.0</td>\n      <td>10297495.0</td>\n      <td>7489159.50</td>\n      <td>0.00</td>\n      <td>1944830.0</td>\n      <td>1829118.0</td>\n      <td>7286966.62</td>\n      <td>79771.0</td>\n      <td>924689.0</td>\n      <td>1986835.0</td>\n      <td>3869725.0</td>\n      <td>21762760.0</td>\n      <td>5380159.0</td>\n      <td>3434419.0</td>\n      <td>4215268.17</td>\n      <td>99472483.0</td>\n      <td>3286111.93</td>\n      <td>4856677.0</td>\n      <td>0.0</td>\n      <td>0.0</td>\n      <td>7443620.46</td>\n      <td>5588578.0</td>\n    </tr>\n    <tr>\n      <th>3</th>\n      <td>20140901</td>\n      <td>Actual</td>\n      <td>4355891.0</td>\n      <td>12719409.0</td>\n      <td>7011292.24</td>\n      <td>0.00</td>\n      <td>1933042.0</td>\n      <td>1710602.0</td>\n      <td>7081861.96</td>\n      <td>105330.0</td>\n      <td>732444.0</td>\n      <td>1888067.0</td>\n      <td>3847567.0</td>\n      <td>20288451.0</td>\n      <td>6281392.0</td>\n      <td>3419918.0</td>\n      <td>4726806.24</td>\n      <td>94198230.0</td>\n      <td>3345328.53</td>\n      <td>5098280.0</td>\n      <td>0.0</td>\n      <td>0.0</td>\n      <td>7414842.11</td>\n      <td>4968759.0</td>\n    </tr>\n    <tr>\n      <th>4</th>\n      <td>20141001</td>\n      <td>Actual</td>\n      <td>4455231.0</td>\n      <td>13797724.0</td>\n      <td>9372927.59</td>\n      <td>0.00</td>\n      <td>1956820.0</td>\n      <td>1702224.0</td>\n      <td>13741077.44</td>\n      <td>143956.0</td>\n      <td>1051920.0</td>\n      <td>2491011.0</td>\n      <td>4967922.0</td>\n      <td>26755143.0</td>\n      <td>6107475.0</td>\n      <td>3472038.0</td>\n      <td>6514037.07</td>\n      <td>124353873.0</td>\n      <td>3402641.78</td>\n      <td>5188982.0</td>\n      <td>0.0</td>\n      <td>0.0</td>\n      <td>7818212.35</td>\n      <td>5752070.0</td>\n    </tr>\n    <tr>\n      <th>5</th>\n      <td>20141101</td>\n      <td>Actual</td>\n      <td>4466548.0</td>\n      <td>11049609.0</td>\n      <td>7492286.01</td>\n      <td>0.00</td>\n      <td>1987727.0</td>\n      <td>1784045.0</td>\n      <td>7259539.93</td>\n      <td>178933.0</td>\n      <td>965427.0</td>\n      <td>2048831.0</td>\n      <td>4044570.0</td>\n      <td>21881382.0</td>\n      <td>5589002.0</td>\n      <td>3469203.0</td>\n      <td>4528513.14</td>\n      <td>98868618.0</td>\n      <td>3221738.58</td>\n      <td>5209888.0</td>\n      <td>0.0</td>\n      <td>0.0</td>\n      <td>7542659.46</td>\n      <td>4890557.0</td>\n    </tr>\n    <tr>\n      <th>6</th>\n      <td>20141201</td>\n      <td>Actual</td>\n      <td>4309643.0</td>\n      <td>15706255.0</td>\n      <td>7355083.53</td>\n      <td>0.00</td>\n      <td>2022314.0</td>\n      <td>1741201.0</td>\n      <td>7559482.15</td>\n      <td>235468.0</td>\n      <td>852949.0</td>\n      <td>2006345.0</td>\n      <td>4284873.0</td>\n      <td>21273963.0</td>\n      <td>5315219.0</td>\n      <td>3550962.0</td>\n      <td>5170797.88</td>\n      <td>99281713.0</td>\n      <td>3627472.60</td>\n      <td>5266992.0</td>\n      <td>0.0</td>\n      <td>0.0</td>\n      <td>8117392.17</td>\n      <td>5773054.0</td>\n    </tr>\n    <tr>\n      <th>7</th>\n      <td>20150101</td>\n      <td>Actual</td>\n      <td>4855051.0</td>\n      <td>12860281.0</td>\n      <td>9431085.71</td>\n      <td>0.00</td>\n      <td>1986486.0</td>\n      <td>1714890.0</td>\n      <td>19855110.85</td>\n      <td>607646.0</td>\n      <td>908730.0</td>\n      <td>2606423.0</td>\n      <td>5095101.0</td>\n      <td>27128652.0</td>\n      <td>5339084.0</td>\n      <td>3683535.0</td>\n      <td>6834385.36</td>\n      <td>124388966.0</td>\n      <td>3589702.61</td>\n      <td>5662406.0</td>\n      <td>0.0</td>\n      <td>0.0</td>\n      <td>9377834.84</td>\n      <td>5384244.0</td>\n    </tr>\n    <tr>\n      <th>8</th>\n      <td>20150201</td>\n      <td>Actual</td>\n      <td>4218929.0</td>\n      <td>12618365.0</td>\n      <td>7525036.15</td>\n      <td>0.00</td>\n      <td>1898082.0</td>\n      <td>1821176.0</td>\n      <td>7116009.19</td>\n      <td>454163.0</td>\n      <td>946365.0</td>\n      <td>2103998.0</td>\n      <td>3978493.0</td>\n      <td>21605352.0</td>\n      <td>5420555.0</td>\n      <td>3509475.0</td>\n      <td>4722991.56</td>\n      <td>95862151.0</td>\n      <td>3491857.24</td>\n      <td>5273882.0</td>\n      <td>0.0</td>\n      <td>0.0</td>\n      <td>7226134.53</td>\n      <td>4903952.0</td>\n    </tr>\n    <tr>\n      <th>9</th>\n      <td>20150301</td>\n      <td>Actual</td>\n      <td>4608872.0</td>\n      <td>11388694.0</td>\n      <td>7170010.02</td>\n      <td>0.00</td>\n      <td>1921510.0</td>\n      <td>1715383.0</td>\n      <td>6970218.27</td>\n      <td>905763.0</td>\n      <td>898680.0</td>\n      <td>2025107.0</td>\n      <td>4012338.0</td>\n      <td>20945564.0</td>\n      <td>6383528.0</td>\n      <td>3645265.0</td>\n      <td>4772800.16</td>\n      <td>92298659.0</td>\n      <td>3460680.80</td>\n      <td>5265180.0</td>\n      <td>0.0</td>\n      <td>0.0</td>\n      <td>6909620.47</td>\n      <td>5445220.0</td>\n    </tr>\n    <tr>\n      <th>10</th>\n      <td>20150401</td>\n      <td>Actual</td>\n      <td>4491381.0</td>\n      <td>13310635.0</td>\n      <td>9507435.52</td>\n      <td>0.00</td>\n      <td>2067628.0</td>\n      <td>1668601.0</td>\n      <td>13534160.18</td>\n      <td>1263887.0</td>\n      <td>1110786.0</td>\n      <td>2667637.0</td>\n      <td>4955848.0</td>\n      <td>27295115.0</td>\n      <td>6003106.0</td>\n      <td>3627835.0</td>\n      <td>6427057.13</td>\n      <td>121697752.0</td>\n      <td>3596075.91</td>\n      <td>5539018.0</td>\n      <td>0.0</td>\n      <td>0.0</td>\n      <td>7301671.08</td>\n      <td>5406164.0</td>\n    </tr>\n    <tr>\n      <th>11</th>\n      <td>20150501</td>\n      <td>Actual</td>\n      <td>4845898.0</td>\n      <td>12075053.0</td>\n      <td>8008417.76</td>\n      <td>0.00</td>\n      <td>2024352.0</td>\n      <td>1831128.0</td>\n      <td>7376023.95</td>\n      <td>976059.0</td>\n      <td>1034569.0</td>\n      <td>2233549.0</td>\n      <td>4301134.0</td>\n      <td>24186465.0</td>\n      <td>5618819.0</td>\n      <td>3493963.0</td>\n      <td>4307694.11</td>\n      <td>101684796.0</td>\n      <td>3551331.14</td>\n      <td>5465141.0</td>\n      <td>0.0</td>\n      <td>0.0</td>\n      <td>7260382.11</td>\n      <td>5941847.0</td>\n    </tr>\n    <tr>\n      <th>12</th>\n      <td>20150601</td>\n      <td>Actual</td>\n      <td>4676384.0</td>\n      <td>10448029.0</td>\n      <td>7723631.47</td>\n      <td>0.00</td>\n      <td>2037719.0</td>\n      <td>1674128.0</td>\n      <td>7329981.91</td>\n      <td>1347270.0</td>\n      <td>941623.0</td>\n      <td>2165585.0</td>\n      <td>4280031.0</td>\n      <td>22555191.0</td>\n      <td>5595162.0</td>\n      <td>3481516.0</td>\n      <td>4736701.70</td>\n      <td>98488622.0</td>\n      <td>3676623.32</td>\n      <td>5437709.0</td>\n      <td>0.0</td>\n      <td>0.0</td>\n      <td>7394189.03</td>\n      <td>5661780.0</td>\n    </tr>\n    <tr>\n      <th>13</th>\n      <td>20150701</td>\n      <td>Actual</td>\n      <td>4844667.0</td>\n      <td>11215568.0</td>\n      <td>10276187.11</td>\n      <td>0.00</td>\n      <td>2073561.0</td>\n      <td>1666719.0</td>\n      <td>13948654.17</td>\n      <td>1804485.0</td>\n      <td>1156683.0</td>\n      <td>2841588.0</td>\n      <td>5318656.0</td>\n      <td>29515878.0</td>\n      <td>5932169.0</td>\n      <td>3650796.0</td>\n      <td>6577931.84</td>\n      <td>128603825.0</td>\n      <td>3726388.72</td>\n      <td>5959859.0</td>\n      <td>0.0</td>\n      <td>0.0</td>\n      <td>7847795.04</td>\n      <td>6500617.0</td>\n    </tr>\n    <tr>\n      <th>14</th>\n      <td>20150801</td>\n      <td>Actual</td>\n      <td>4651703.0</td>\n      <td>10764213.0</td>\n      <td>8516393.85</td>\n      <td>0.00</td>\n      <td>2024591.0</td>\n      <td>1660469.0</td>\n      <td>7676302.90</td>\n      <td>1508526.0</td>\n      <td>1084301.0</td>\n      <td>2270658.0</td>\n      <td>4383791.0</td>\n      <td>24799210.0</td>\n      <td>6390132.0</td>\n      <td>3658495.0</td>\n      <td>4616379.43</td>\n      <td>105495604.0</td>\n      <td>3617244.49</td>\n      <td>5519553.0</td>\n      <td>0.0</td>\n      <td>0.0</td>\n      <td>7932837.15</td>\n      <td>5667703.0</td>\n    </tr>\n    <tr>\n      <th>15</th>\n      <td>20150901</td>\n      <td>Actual</td>\n      <td>5014236.0</td>\n      <td>11672780.0</td>\n      <td>10159009.60</td>\n      <td>0.00</td>\n      <td>2040610.0</td>\n      <td>1681189.0</td>\n      <td>9392633.06</td>\n      <td>2833960.0</td>\n      <td>1023739.0</td>\n      <td>2829365.0</td>\n      <td>5329492.0</td>\n      <td>29204488.0</td>\n      <td>5839095.0</td>\n      <td>3654756.0</td>\n      <td>5818055.29</td>\n      <td>125580319.0</td>\n      <td>3732719.85</td>\n      <td>5922642.0</td>\n      <td>0.0</td>\n      <td>0.0</td>\n      <td>7936344.08</td>\n      <td>5757635.0</td>\n    </tr>\n    <tr>\n      <th>16</th>\n      <td>20151001</td>\n      <td>Actual</td>\n      <td>4576227.0</td>\n      <td>10748772.0</td>\n      <td>8158477.14</td>\n      <td>0.00</td>\n      <td>2019277.0</td>\n      <td>1703146.0</td>\n      <td>11805467.44</td>\n      <td>3160806.0</td>\n      <td>1046697.0</td>\n      <td>2294188.0</td>\n      <td>4383741.0</td>\n      <td>23828060.0</td>\n      <td>5975938.0</td>\n      <td>3762906.0</td>\n      <td>5524834.07</td>\n      <td>100345212.0</td>\n      <td>3848604.14</td>\n      <td>5820770.0</td>\n      <td>0.0</td>\n      <td>0.0</td>\n      <td>8278406.81</td>\n      <td>6380015.0</td>\n    </tr>\n    <tr>\n      <th>17</th>\n      <td>20151101</td>\n      <td>Actual</td>\n      <td>4553787.0</td>\n      <td>10928538.0</td>\n      <td>8188933.40</td>\n      <td>0.00</td>\n      <td>2111021.0</td>\n      <td>1684985.0</td>\n      <td>7312139.25</td>\n      <td>333144.0</td>\n      <td>1067704.0</td>\n      <td>2321013.0</td>\n      <td>4719545.0</td>\n      <td>24051976.0</td>\n      <td>5741568.0</td>\n      <td>3739729.0</td>\n      <td>4293230.39</td>\n      <td>101027390.0</td>\n      <td>3775794.56</td>\n      <td>5862850.0</td>\n      <td>0.0</td>\n      <td>0.0</td>\n      <td>7554776.85</td>\n      <td>5567680.0</td>\n    </tr>\n    <tr>\n      <th>18</th>\n      <td>20151201</td>\n      <td>Actual</td>\n      <td>4691642.0</td>\n      <td>11683440.0</td>\n      <td>8206804.86</td>\n      <td>0.00</td>\n      <td>2089243.0</td>\n      <td>1891310.0</td>\n      <td>7664934.35</td>\n      <td>3341381.0</td>\n      <td>977559.0</td>\n      <td>2309775.0</td>\n      <td>4673620.0</td>\n      <td>23899683.0</td>\n      <td>5544911.0</td>\n      <td>3936843.0</td>\n      <td>5374700.31</td>\n      <td>103140193.0</td>\n      <td>4254271.79</td>\n      <td>6467859.0</td>\n      <td>0.0</td>\n      <td>0.0</td>\n      <td>8573805.72</td>\n      <td>6751751.0</td>\n    </tr>\n    <tr>\n      <th>19</th>\n      <td>20160101</td>\n      <td>Actual</td>\n      <td>4700496.0</td>\n      <td>11247301.0</td>\n      <td>10361488.50</td>\n      <td>0.00</td>\n      <td>2076298.0</td>\n      <td>1748544.0</td>\n      <td>20102082.91</td>\n      <td>3499744.0</td>\n      <td>1020379.0</td>\n      <td>2921037.0</td>\n      <td>5528222.0</td>\n      <td>30116912.0</td>\n      <td>5439242.0</td>\n      <td>4026400.0</td>\n      <td>6860248.81</td>\n      <td>125846591.0</td>\n      <td>3935568.03</td>\n      <td>6822786.0</td>\n      <td>4801565.0</td>\n      <td>0.0</td>\n      <td>7593788.48</td>\n      <td>5376286.0</td>\n    </tr>\n    <tr>\n      <th>20</th>\n      <td>20160201</td>\n      <td>Actual</td>\n      <td>4803238.0</td>\n      <td>11018323.0</td>\n      <td>8186976.43</td>\n      <td>0.00</td>\n      <td>2033634.0</td>\n      <td>1818573.0</td>\n      <td>7220867.85</td>\n      <td>-121649.0</td>\n      <td>1067919.0</td>\n      <td>2298743.0</td>\n      <td>4631870.0</td>\n      <td>24308988.0</td>\n      <td>5662705.0</td>\n      <td>3915424.0</td>\n      <td>4955995.98</td>\n      <td>96492494.0</td>\n      <td>4148934.43</td>\n      <td>6344828.0</td>\n      <td>2948516.0</td>\n      <td>0.0</td>\n      <td>7305483.96</td>\n      <td>5595994.0</td>\n    </tr>\n    <tr>\n      <th>21</th>\n      <td>20160301</td>\n      <td>Actual</td>\n      <td>4680711.0</td>\n      <td>11351506.0</td>\n      <td>10026221.23</td>\n      <td>0.00</td>\n      <td>1926566.0</td>\n      <td>1625934.0</td>\n      <td>9057909.30</td>\n      <td>3310680.0</td>\n      <td>1113392.0</td>\n      <td>2848775.0</td>\n      <td>5225395.0</td>\n      <td>29232455.0</td>\n      <td>7805115.0</td>\n      <td>4070073.0</td>\n      <td>5744647.37</td>\n      <td>120343617.0</td>\n      <td>3675673.88</td>\n      <td>6786548.0</td>\n      <td>3251179.0</td>\n      <td>0.0</td>\n      <td>7231568.92</td>\n      <td>5826554.0</td>\n    </tr>\n    <tr>\n      <th>22</th>\n      <td>20160401</td>\n      <td>Actual</td>\n      <td>5230642.0</td>\n      <td>11399895.0</td>\n      <td>8411614.62</td>\n      <td>0.00</td>\n      <td>2018184.0</td>\n      <td>1721138.0</td>\n      <td>11833933.99</td>\n      <td>3167425.0</td>\n      <td>1136826.0</td>\n      <td>2365873.0</td>\n      <td>4637897.0</td>\n      <td>24882355.0</td>\n      <td>6714108.0</td>\n      <td>4307390.0</td>\n      <td>5591679.73</td>\n      <td>98703839.0</td>\n      <td>3878957.25</td>\n      <td>6691321.0</td>\n      <td>3354726.0</td>\n      <td>0.0</td>\n      <td>7382402.54</td>\n      <td>6225168.0</td>\n    </tr>\n    <tr>\n      <th>23</th>\n      <td>20160501</td>\n      <td>Actual</td>\n      <td>5317887.0</td>\n      <td>10961247.0</td>\n      <td>8999346.70</td>\n      <td>0.00</td>\n      <td>1951107.0</td>\n      <td>1707584.0</td>\n      <td>7669234.87</td>\n      <td>2824047.0</td>\n      <td>1144307.0</td>\n      <td>2455227.0</td>\n      <td>4615750.0</td>\n      <td>26488522.0</td>\n      <td>5942555.0</td>\n      <td>3852075.0</td>\n      <td>4148836.84</td>\n      <td>106311407.0</td>\n      <td>4151100.38</td>\n      <td>7072702.0</td>\n      <td>3387572.0</td>\n      <td>0.0</td>\n      <td>6983682.41</td>\n      <td>6016815.0</td>\n    </tr>\n    <tr>\n      <th>24</th>\n      <td>20160601</td>\n      <td>Actual</td>\n      <td>4933124.0</td>\n      <td>11371867.0</td>\n      <td>9885278.67</td>\n      <td>0.00</td>\n      <td>1052127.0</td>\n      <td>1701697.0</td>\n      <td>8060818.28</td>\n      <td>4151030.0</td>\n      <td>1232488.0</td>\n      <td>3043839.0</td>\n      <td>5835742.0</td>\n      <td>28776154.0</td>\n      <td>6141295.0</td>\n      <td>3944652.0</td>\n      <td>5518656.67</td>\n      <td>118434494.0</td>\n      <td>4281609.68</td>\n      <td>7387193.0</td>\n      <td>3419589.0</td>\n      <td>0.0</td>\n      <td>7939119.37</td>\n      <td>6372906.0</td>\n    </tr>\n    <tr>\n      <th>25</th>\n      <td>20160701</td>\n      <td>Actual</td>\n      <td>5066287.0</td>\n      <td>11517341.0</td>\n      <td>8882785.62</td>\n      <td>0.00</td>\n      <td>1060372.0</td>\n      <td>1709266.0</td>\n      <td>12103471.88</td>\n      <td>4231057.0</td>\n      <td>1247530.0</td>\n      <td>2478077.0</td>\n      <td>4813147.0</td>\n      <td>26185072.0</td>\n      <td>6339085.0</td>\n      <td>4229635.0</td>\n      <td>5587227.71</td>\n      <td>104657878.0</td>\n      <td>4064740.30</td>\n      <td>7107335.0</td>\n      <td>3500091.0</td>\n      <td>0.0</td>\n      <td>7866814.61</td>\n      <td>6372853.0</td>\n    </tr>\n    <tr>\n      <th>26</th>\n      <td>20160801</td>\n      <td>Actual</td>\n      <td>5338095.0</td>\n      <td>11673595.0</td>\n      <td>10356048.31</td>\n      <td>0.00</td>\n      <td>1066616.0</td>\n      <td>1683728.0</td>\n      <td>9148988.99</td>\n      <td>5033397.0</td>\n      <td>1102284.0</td>\n      <td>3052610.0</td>\n      <td>5735998.0</td>\n      <td>30035570.0</td>\n      <td>6804213.0</td>\n      <td>3805760.0</td>\n      <td>5154066.10</td>\n      <td>117436063.0</td>\n      <td>4360951.80</td>\n      <td>7513213.0</td>\n      <td>3624710.0</td>\n      <td>0.0</td>\n      <td>8052852.46</td>\n      <td>6268616.0</td>\n    </tr>\n    <tr>\n      <th>27</th>\n      <td>20160901</td>\n      <td>Actual</td>\n      <td>5134238.0</td>\n      <td>11492651.0</td>\n      <td>9212117.08</td>\n      <td>0.00</td>\n      <td>980722.0</td>\n      <td>1714844.0</td>\n      <td>8016364.38</td>\n      <td>4445081.0</td>\n      <td>1314913.0</td>\n      <td>2486145.0</td>\n      <td>4948528.0</td>\n      <td>27167183.0</td>\n      <td>6126624.0</td>\n      <td>3578044.0</td>\n      <td>4730219.38</td>\n      <td>110000558.0</td>\n      <td>4253492.27</td>\n      <td>7233654.0</td>\n      <td>3606031.0</td>\n      <td>0.0</td>\n      <td>7498421.18</td>\n      <td>6603467.0</td>\n    </tr>\n    <tr>\n      <th>28</th>\n      <td>20161001</td>\n      <td>Actual</td>\n      <td>5336825.0</td>\n      <td>11921475.0</td>\n      <td>9275224.11</td>\n      <td>0.00</td>\n      <td>1852769.0</td>\n      <td>1715301.0</td>\n      <td>12231875.36</td>\n      <td>3443906.0</td>\n      <td>1288723.0</td>\n      <td>2490587.0</td>\n      <td>4939692.0</td>\n      <td>27363579.0</td>\n      <td>6633365.0</td>\n      <td>4008273.0</td>\n      <td>5382393.12</td>\n      <td>105928516.0</td>\n      <td>4484285.19</td>\n      <td>7730802.0</td>\n      <td>3781187.0</td>\n      <td>0.0</td>\n      <td>8531642.37</td>\n      <td>6003438.0</td>\n    </tr>\n    <tr>\n      <th>29</th>\n      <td>20161101</td>\n      <td>Actual</td>\n      <td>5217646.0</td>\n      <td>11614686.0</td>\n      <td>10057386.35</td>\n      <td>0.00</td>\n      <td>1950198.0</td>\n      <td>1753124.0</td>\n      <td>8333195.01</td>\n      <td>2113145.0</td>\n      <td>1270860.0</td>\n      <td>3116351.0</td>\n      <td>5735168.0</td>\n      <td>29433640.0</td>\n      <td>6138194.0</td>\n      <td>3796831.0</td>\n      <td>4992400.95</td>\n      <td>113829464.0</td>\n      <td>4580347.34</td>\n      <td>8059296.0</td>\n      <td>3599570.0</td>\n      <td>0.0</td>\n      <td>8540560.78</td>\n      <td>6077264.0</td>\n    </tr>\n    <tr>\n      <th>30</th>\n      <td>20161201</td>\n      <td>Actual</td>\n      <td>5220434.0</td>\n      <td>11644455.0</td>\n      <td>9631544.50</td>\n      <td>0.00</td>\n      <td>1936100.0</td>\n      <td>1806996.0</td>\n      <td>8502596.75</td>\n      <td>3688098.0</td>\n      <td>1239273.0</td>\n      <td>2650284.0</td>\n      <td>5403236.0</td>\n      <td>28506998.0</td>\n      <td>6147835.0</td>\n      <td>4439123.0</td>\n      <td>5381955.32</td>\n      <td>117493864.0</td>\n      <td>4694198.11</td>\n      <td>7681051.0</td>\n      <td>3937490.0</td>\n      <td>0.0</td>\n      <td>7987958.95</td>\n      <td>7316407.0</td>\n    </tr>\n    <tr>\n      <th>31</th>\n      <td>20170101</td>\n      <td>Actual</td>\n      <td>5354754.0</td>\n      <td>12126073.0</td>\n      <td>9504950.94</td>\n      <td>0.00</td>\n      <td>1755994.0</td>\n      <td>1744221.0</td>\n      <td>20693527.22</td>\n      <td>3602257.0</td>\n      <td>1278209.0</td>\n      <td>3026906.0</td>\n      <td>5850417.0</td>\n      <td>28092482.0</td>\n      <td>6224396.0</td>\n      <td>4557677.0</td>\n      <td>7044526.40</td>\n      <td>106635184.0</td>\n      <td>4688990.88</td>\n      <td>8322899.0</td>\n      <td>3887405.0</td>\n      <td>0.0</td>\n      <td>10169659.06</td>\n      <td>5858684.0</td>\n    </tr>\n    <tr>\n      <th>32</th>\n      <td>20170201</td>\n      <td>Actual</td>\n      <td>5298195.0</td>\n      <td>11742221.0</td>\n      <td>8918143.61</td>\n      <td>0.00</td>\n      <td>1861166.0</td>\n      <td>1717947.0</td>\n      <td>8546196.17</td>\n      <td>8201954.0</td>\n      <td>1179715.0</td>\n      <td>2541705.0</td>\n      <td>4807506.0</td>\n      <td>26675554.0</td>\n      <td>6378085.0</td>\n      <td>4235552.0</td>\n      <td>5110530.92</td>\n      <td>98803491.0</td>\n      <td>4729386.02</td>\n      <td>7390077.0</td>\n      <td>3536858.0</td>\n      <td>0.0</td>\n      <td>6785179.52</td>\n      <td>6151520.0</td>\n    </tr>\n    <tr>\n      <th>33</th>\n      <td>20170301</td>\n      <td>Actual</td>\n      <td>5790846.0</td>\n      <td>11884394.0</td>\n      <td>9854513.30</td>\n      <td>0.00</td>\n      <td>1772108.0</td>\n      <td>1717694.0</td>\n      <td>7897890.95</td>\n      <td>3367706.0</td>\n      <td>1251807.0</td>\n      <td>2497205.0</td>\n      <td>4858756.0</td>\n      <td>29011816.0</td>\n      <td>7354509.0</td>\n      <td>4638549.0</td>\n      <td>5221018.65</td>\n      <td>111544069.0</td>\n      <td>4729940.39</td>\n      <td>7648072.0</td>\n      <td>4923698.0</td>\n      <td>0.0</td>\n      <td>7927264.97</td>\n      <td>11604426.0</td>\n    </tr>\n    <tr>\n      <th>34</th>\n      <td>20170401</td>\n      <td>Actual</td>\n      <td>5864663.0</td>\n      <td>12021324.0</td>\n      <td>8929758.90</td>\n      <td>0.00</td>\n      <td>1746201.0</td>\n      <td>1682807.0</td>\n      <td>12046783.19</td>\n      <td>3368745.0</td>\n      <td>1351675.0</td>\n      <td>2554790.0</td>\n      <td>4820388.0</td>\n      <td>26735093.0</td>\n      <td>7150827.0</td>\n      <td>5177184.0</td>\n      <td>5872457.83</td>\n      <td>99478187.0</td>\n      <td>4623969.67</td>\n      <td>7590436.0</td>\n      <td>3833670.0</td>\n      <td>0.0</td>\n      <td>7537154.75</td>\n      <td>5944776.0</td>\n    </tr>\n    <tr>\n      <th>35</th>\n      <td>20170501</td>\n      <td>Actual</td>\n      <td>5841217.0</td>\n      <td>12029707.0</td>\n      <td>10862813.30</td>\n      <td>0.00</td>\n      <td>1730887.0</td>\n      <td>1844953.0</td>\n      <td>8490202.09</td>\n      <td>5558528.0</td>\n      <td>1504560.0</td>\n      <td>3234268.0</td>\n      <td>5759886.0</td>\n      <td>31766046.0</td>\n      <td>6673397.0</td>\n      <td>4173895.0</td>\n      <td>4847938.50</td>\n      <td>118429597.0</td>\n      <td>4689908.16</td>\n      <td>8530134.0</td>\n      <td>3874504.0</td>\n      <td>0.0</td>\n      <td>6175856.06</td>\n      <td>6873131.0</td>\n    </tr>\n    <tr>\n      <th>36</th>\n      <td>20170601</td>\n      <td>Actual</td>\n      <td>6306889.0</td>\n      <td>11737428.0</td>\n      <td>9950476.82</td>\n      <td>0.00</td>\n      <td>1789429.0</td>\n      <td>1792429.0</td>\n      <td>8090880.45</td>\n      <td>3615710.0</td>\n      <td>1306471.0</td>\n      <td>2562808.0</td>\n      <td>4951638.0</td>\n      <td>29602341.0</td>\n      <td>6964534.0</td>\n      <td>4470144.0</td>\n      <td>4408487.60</td>\n      <td>115286408.0</td>\n      <td>4594469.05</td>\n      <td>8029412.0</td>\n      <td>3950935.0</td>\n      <td>0.0</td>\n      <td>8800397.84</td>\n      <td>9038790.0</td>\n    </tr>\n    <tr>\n      <th>37</th>\n      <td>20170701</td>\n      <td>Actual</td>\n      <td>5824642.0</td>\n      <td>12668951.0</td>\n      <td>9696458.80</td>\n      <td>0.00</td>\n      <td>1720948.0</td>\n      <td>1799576.0</td>\n      <td>12451665.77</td>\n      <td>3587270.0</td>\n      <td>1405566.0</td>\n      <td>2746140.0</td>\n      <td>4854792.0</td>\n      <td>28780846.0</td>\n      <td>6890258.0</td>\n      <td>4881440.0</td>\n      <td>5558938.06</td>\n      <td>108148242.0</td>\n      <td>4323014.65</td>\n      <td>8024940.0</td>\n      <td>4046519.0</td>\n      <td>0.0</td>\n      <td>7887136.61</td>\n      <td>6383062.0</td>\n    </tr>\n    <tr>\n      <th>38</th>\n      <td>20170801</td>\n      <td>Actual</td>\n      <td>5345535.0</td>\n      <td>12410315.0</td>\n      <td>10844096.32</td>\n      <td>0.00</td>\n      <td>1735764.0</td>\n      <td>1787356.0</td>\n      <td>8654903.34</td>\n      <td>1469878.0</td>\n      <td>1386069.0</td>\n      <td>3254680.0</td>\n      <td>5596199.0</td>\n      <td>31909214.0</td>\n      <td>7235252.0</td>\n      <td>4357596.0</td>\n      <td>4780662.42</td>\n      <td>120254168.0</td>\n      <td>4606829.21</td>\n      <td>8619134.0</td>\n      <td>4222943.0</td>\n      <td>0.0</td>\n      <td>7602343.41</td>\n      <td>7086460.0</td>\n    </tr>\n    <tr>\n      <th>39</th>\n      <td>20170901</td>\n      <td>Actual</td>\n      <td>6114811.0</td>\n      <td>13282180.0</td>\n      <td>9460715.73</td>\n      <td>0.00</td>\n      <td>1665568.0</td>\n      <td>1800680.0</td>\n      <td>7550083.82</td>\n      <td>3506602.0</td>\n      <td>1315453.0</td>\n      <td>2633795.0</td>\n      <td>4861285.0</td>\n      <td>28276412.0</td>\n      <td>6938667.0</td>\n      <td>4644637.0</td>\n      <td>4599562.18</td>\n      <td>104705146.0</td>\n      <td>4560080.94</td>\n      <td>7945770.0</td>\n      <td>3930089.0</td>\n      <td>0.0</td>\n      <td>7277217.55</td>\n      <td>8706659.0</td>\n    </tr>\n    <tr>\n      <th>40</th>\n      <td>20171001</td>\n      <td>Actual</td>\n      <td>6318076.0</td>\n      <td>12598070.0</td>\n      <td>10219669.28</td>\n      <td>0.00</td>\n      <td>1688255.0</td>\n      <td>1792862.0</td>\n      <td>12587276.90</td>\n      <td>3595168.0</td>\n      <td>1450405.0</td>\n      <td>2550478.0</td>\n      <td>4626914.0</td>\n      <td>30108209.0</td>\n      <td>7534210.0</td>\n      <td>4722507.0</td>\n      <td>5450023.13</td>\n      <td>110931972.0</td>\n      <td>4503698.65</td>\n      <td>8112067.0</td>\n      <td>4079759.0</td>\n      <td>0.0</td>\n      <td>8126909.97</td>\n      <td>6543185.0</td>\n    </tr>\n    <tr>\n      <th>41</th>\n      <td>20171101</td>\n      <td>Actual</td>\n      <td>5769565.0</td>\n      <td>12580587.0</td>\n      <td>10412580.75</td>\n      <td>0.00</td>\n      <td>1690271.0</td>\n      <td>1818556.0</td>\n      <td>8292133.12</td>\n      <td>1692661.0</td>\n      <td>1147415.0</td>\n      <td>3334452.0</td>\n      <td>5597947.0</td>\n      <td>30765934.0</td>\n      <td>6818094.0</td>\n      <td>4617751.0</td>\n      <td>4846195.36</td>\n      <td>115430932.0</td>\n      <td>4825709.08</td>\n      <td>8941065.0</td>\n      <td>3985082.0</td>\n      <td>0.0</td>\n      <td>8449869.35</td>\n      <td>6824937.0</td>\n    </tr>\n    <tr>\n      <th>42</th>\n      <td>20171201</td>\n      <td>Actual</td>\n      <td>6553566.0</td>\n      <td>12427574.0</td>\n      <td>9904542.86</td>\n      <td>0.00</td>\n      <td>1682108.0</td>\n      <td>1835447.0</td>\n      <td>8097708.35</td>\n      <td>3724896.0</td>\n      <td>1374363.0</td>\n      <td>2788904.0</td>\n      <td>5038477.0</td>\n      <td>29528072.0</td>\n      <td>6479451.0</td>\n      <td>6502180.0</td>\n      <td>5132951.13</td>\n      <td>113194342.0</td>\n      <td>8442951.17</td>\n      <td>8572655.0</td>\n      <td>4331734.0</td>\n      <td>0.0</td>\n      <td>7915751.12</td>\n      <td>9668673.0</td>\n    </tr>\n    <tr>\n      <th>43</th>\n      <td>20180101</td>\n      <td>Actual</td>\n      <td>6390513.0</td>\n      <td>13217358.0</td>\n      <td>10757884.98</td>\n      <td>0.00</td>\n      <td>1690134.0</td>\n      <td>1811757.0</td>\n      <td>21595095.19</td>\n      <td>3804505.0</td>\n      <td>1397691.0</td>\n      <td>2966273.0</td>\n      <td>5275811.0</td>\n      <td>31680987.0</td>\n      <td>6538508.0</td>\n      <td>6024323.0</td>\n      <td>7005602.96</td>\n      <td>110248167.0</td>\n      <td>4787634.91</td>\n      <td>9128984.0</td>\n      <td>4512203.0</td>\n      <td>0.0</td>\n      <td>13178457.56</td>\n      <td>6444463.0</td>\n    </tr>\n    <tr>\n      <th>44</th>\n      <td>20180201</td>\n      <td>Actual</td>\n      <td>5624752.0</td>\n      <td>12725103.0</td>\n      <td>9596095.78</td>\n      <td>0.00</td>\n      <td>1623225.0</td>\n      <td>1815575.0</td>\n      <td>7549917.92</td>\n      <td>10276103.0</td>\n      <td>1527381.0</td>\n      <td>2718772.0</td>\n      <td>4638695.0</td>\n      <td>28618018.0</td>\n      <td>7232844.0</td>\n      <td>5577385.0</td>\n      <td>5565567.36</td>\n      <td>98798038.0</td>\n      <td>4930779.33</td>\n      <td>8325777.0</td>\n      <td>3726627.0</td>\n      <td>0.0</td>\n      <td>7194287.27</td>\n      <td>6289482.0</td>\n    </tr>\n    <tr>\n      <th>45</th>\n      <td>20180301</td>\n      <td>Actual</td>\n      <td>6793282.0</td>\n      <td>12852727.0</td>\n      <td>10090456.69</td>\n      <td>0.00</td>\n      <td>1598898.0</td>\n      <td>1780867.0</td>\n      <td>7394221.27</td>\n      <td>3597257.0</td>\n      <td>1471887.0</td>\n      <td>2739030.0</td>\n      <td>4597759.0</td>\n      <td>29895055.0</td>\n      <td>7987229.0</td>\n      <td>5994470.0</td>\n      <td>5477336.78</td>\n      <td>106248694.0</td>\n      <td>4906764.07</td>\n      <td>8511330.0</td>\n      <td>4041121.0</td>\n      <td>0.0</td>\n      <td>7567950.55</td>\n      <td>14092455.0</td>\n    </tr>\n    <tr>\n      <th>46</th>\n      <td>20180401</td>\n      <td>Actual</td>\n      <td>6425737.0</td>\n      <td>12807376.0</td>\n      <td>10184445.77</td>\n      <td>0.00</td>\n      <td>1586216.0</td>\n      <td>1751199.0</td>\n      <td>11839561.68</td>\n      <td>3393929.0</td>\n      <td>1578077.0</td>\n      <td>2772019.0</td>\n      <td>4503073.0</td>\n      <td>30165545.0</td>\n      <td>8135771.0</td>\n      <td>6791075.0</td>\n      <td>5578602.55</td>\n      <td>103554646.0</td>\n      <td>4465952.01</td>\n      <td>8665389.0</td>\n      <td>3972334.0</td>\n      <td>0.0</td>\n      <td>7695015.35</td>\n      <td>6593324.0</td>\n    </tr>\n    <tr>\n      <th>47</th>\n      <td>20180501</td>\n      <td>Actual</td>\n      <td>5731523.0</td>\n      <td>13178171.0</td>\n      <td>12023742.27</td>\n      <td>0.00</td>\n      <td>1592662.0</td>\n      <td>1759382.0</td>\n      <td>8775390.94</td>\n      <td>3167395.0</td>\n      <td>1817889.0</td>\n      <td>3188570.0</td>\n      <td>5188822.0</td>\n      <td>34825303.0</td>\n      <td>7488019.0</td>\n      <td>4950702.0</td>\n      <td>4505986.86</td>\n      <td>119149029.0</td>\n      <td>4633768.82</td>\n      <td>9572679.0</td>\n      <td>4074639.0</td>\n      <td>0.0</td>\n      <td>8621115.07</td>\n      <td>7079142.0</td>\n    </tr>\n    <tr>\n      <th>48</th>\n      <td>20180601</td>\n      <td>Actual</td>\n      <td>6783878.0</td>\n      <td>13047555.0</td>\n      <td>10822300.54</td>\n      <td>0.00</td>\n      <td>1564813.0</td>\n      <td>1742628.0</td>\n      <td>7772932.40</td>\n      <td>3590259.0</td>\n      <td>1524025.0</td>\n      <td>2852845.0</td>\n      <td>4479872.0</td>\n      <td>31713159.0</td>\n      <td>7796701.0</td>\n      <td>5633249.0</td>\n      <td>4789724.95</td>\n      <td>107365918.0</td>\n      <td>4943145.47</td>\n      <td>8612041.0</td>\n      <td>4021019.0</td>\n      <td>79.0</td>\n      <td>254225.27</td>\n      <td>8881032.0</td>\n    </tr>\n    <tr>\n      <th>49</th>\n      <td>20180701</td>\n      <td>Actual</td>\n      <td>6741807.0</td>\n      <td>13105255.0</td>\n      <td>11655444.69</td>\n      <td>0.00</td>\n      <td>1545310.0</td>\n      <td>1735306.0</td>\n      <td>12583094.75</td>\n      <td>3601693.0</td>\n      <td>1284364.0</td>\n      <td>3036869.0</td>\n      <td>4603243.0</td>\n      <td>33864522.0</td>\n      <td>7696021.0</td>\n      <td>6059461.0</td>\n      <td>5664616.17</td>\n      <td>113740156.0</td>\n      <td>4919537.25</td>\n      <td>8999964.0</td>\n      <td>4011756.0</td>\n      <td>91.0</td>\n      <td>305124.49</td>\n      <td>6747185.0</td>\n    </tr>\n    <tr>\n      <th>50</th>\n      <td>20180801</td>\n      <td>Actual</td>\n      <td>6941384.0</td>\n      <td>13157887.0</td>\n      <td>11954057.43</td>\n      <td>0.00</td>\n      <td>1572317.0</td>\n      <td>1734774.0</td>\n      <td>8543239.38</td>\n      <td>1647031.0</td>\n      <td>1879159.0</td>\n      <td>3150125.0</td>\n      <td>5021066.0</td>\n      <td>34755868.0</td>\n      <td>7654579.0</td>\n      <td>5467660.0</td>\n      <td>5210368.65</td>\n      <td>116505720.0</td>\n      <td>5136136.05</td>\n      <td>9589296.0</td>\n      <td>4227012.0</td>\n      <td>-170.0</td>\n      <td>342622.30</td>\n      <td>7885942.0</td>\n    </tr>\n    <tr>\n      <th>51</th>\n      <td>20180901</td>\n      <td>Actual</td>\n      <td>6900911.0</td>\n      <td>15907867.0</td>\n      <td>10732724.79</td>\n      <td>0.00</td>\n      <td>1533748.0</td>\n      <td>1731765.0</td>\n      <td>7460068.76</td>\n      <td>3698844.0</td>\n      <td>1530054.0</td>\n      <td>2778483.0</td>\n      <td>4433291.0</td>\n      <td>31556369.0</td>\n      <td>7484079.0</td>\n      <td>6002190.0</td>\n      <td>5215003.37</td>\n      <td>102622473.0</td>\n      <td>5004991.73</td>\n      <td>8895074.0</td>\n      <td>4169955.0</td>\n      <td>0.0</td>\n      <td>276560.90</td>\n      <td>7838690.0</td>\n    </tr>\n    <tr>\n      <th>52</th>\n      <td>20181001</td>\n      <td>Actual</td>\n      <td>6731645.0</td>\n      <td>13540690.0</td>\n      <td>12506864.04</td>\n      <td>0.00</td>\n      <td>1561762.0</td>\n      <td>1732806.0</td>\n      <td>12743453.53</td>\n      <td>3738425.0</td>\n      <td>1477668.0</td>\n      <td>3253351.0</td>\n      <td>4991557.0</td>\n      <td>36181227.0</td>\n      <td>7963497.0</td>\n      <td>6084714.0</td>\n      <td>7110908.92</td>\n      <td>115762795.0</td>\n      <td>5304753.98</td>\n      <td>9808982.0</td>\n      <td>4501902.0</td>\n      <td>0.0</td>\n      <td>180092.57</td>\n      <td>6850804.0</td>\n    </tr>\n    <tr>\n      <th>53</th>\n      <td>20181101</td>\n      <td>Actual</td>\n      <td>6428216.0</td>\n      <td>13311671.0</td>\n      <td>11416075.74</td>\n      <td>0.00</td>\n      <td>1531377.0</td>\n      <td>1769694.0</td>\n      <td>8100512.30</td>\n      <td>1496002.0</td>\n      <td>1530744.0</td>\n      <td>2927537.0</td>\n      <td>4352584.0</td>\n      <td>33476924.0</td>\n      <td>7359922.0</td>\n      <td>6201403.0</td>\n      <td>4358753.62</td>\n      <td>110179873.0</td>\n      <td>5299378.61</td>\n      <td>9148466.0</td>\n      <td>4281585.0</td>\n      <td>0.0</td>\n      <td>517750.99</td>\n      <td>7000936.0</td>\n    </tr>\n    <tr>\n      <th>54</th>\n      <td>20181201</td>\n      <td>Actual</td>\n      <td>6544875.0</td>\n      <td>13418589.0</td>\n      <td>12003008.85</td>\n      <td>0.00</td>\n      <td>1587568.0</td>\n      <td>1768188.0</td>\n      <td>8500244.59</td>\n      <td>3726361.0</td>\n      <td>1476902.0</td>\n      <td>3145695.0</td>\n      <td>4797152.0</td>\n      <td>34971244.0</td>\n      <td>7501730.0</td>\n      <td>8257412.0</td>\n      <td>6154364.49</td>\n      <td>117538398.0</td>\n      <td>9195105.13</td>\n      <td>9610684.0</td>\n      <td>4291803.0</td>\n      <td>0.0</td>\n      <td>633412.69</td>\n      <td>8199059.0</td>\n    </tr>\n    <tr>\n      <th>55</th>\n      <td>20190101</td>\n      <td>Actual</td>\n      <td>6164002.0</td>\n      <td>13352712.0</td>\n      <td>12307110.07</td>\n      <td>705012.81</td>\n      <td>1556671.0</td>\n      <td>1801231.0</td>\n      <td>21596616.92</td>\n      <td>3879058.0</td>\n      <td>1524067.0</td>\n      <td>3100242.0</td>\n      <td>4836781.0</td>\n      <td>35699865.0</td>\n      <td>7690669.0</td>\n      <td>7271303.0</td>\n      <td>8031289.63</td>\n      <td>110354647.0</td>\n      <td>5395374.33</td>\n      <td>9900856.0</td>\n      <td>4554791.0</td>\n      <td>0.0</td>\n      <td>91805550.59</td>\n      <td>9242253.0</td>\n    </tr>\n    <tr>\n      <th>56</th>\n      <td>20190201</td>\n      <td>Actual</td>\n      <td>6356059.0</td>\n      <td>13141131.0</td>\n      <td>10973726.22</td>\n      <td>710059.06</td>\n      <td>1541456.0</td>\n      <td>1765198.0</td>\n      <td>7036293.53</td>\n      <td>10709426.0</td>\n      <td>1570170.0</td>\n      <td>2785185.0</td>\n      <td>4276077.0</td>\n      <td>32236638.0</td>\n      <td>7880399.0</td>\n      <td>7426883.0</td>\n      <td>6158988.26</td>\n      <td>98377675.0</td>\n      <td>5280598.89</td>\n      <td>9248176.0</td>\n      <td>3936378.0</td>\n      <td>0.0</td>\n      <td>-183758.43</td>\n      <td>5912592.0</td>\n    </tr>\n    <tr>\n      <th>57</th>\n      <td>20190301</td>\n      <td>Actual</td>\n      <td>6788033.0</td>\n      <td>13462048.0</td>\n      <td>11163985.65</td>\n      <td>745998.73</td>\n      <td>1514564.0</td>\n      <td>1727367.0</td>\n      <td>7207474.72</td>\n      <td>3782792.0</td>\n      <td>1481036.0</td>\n      <td>2816453.0</td>\n      <td>4292346.0</td>\n      <td>32785416.0</td>\n      <td>9689790.0</td>\n      <td>8190477.0</td>\n      <td>7380674.75</td>\n      <td>99958270.0</td>\n      <td>5257329.44</td>\n      <td>9225099.0</td>\n      <td>4330769.0</td>\n      <td>0.0</td>\n      <td>141277.90</td>\n      <td>8523892.0</td>\n    </tr>\n    <tr>\n      <th>58</th>\n      <td>20190401</td>\n      <td>Actual</td>\n      <td>6953379.0</td>\n      <td>13655149.0</td>\n      <td>12273835.85</td>\n      <td>559902.25</td>\n      <td>1515658.0</td>\n      <td>1725937.0</td>\n      <td>11964920.42</td>\n      <td>3838506.0</td>\n      <td>1613325.0</td>\n      <td>3070977.0</td>\n      <td>4321088.0</td>\n      <td>35581827.0</td>\n      <td>8544604.0</td>\n      <td>8500112.0</td>\n      <td>6686248.15</td>\n      <td>108700563.0</td>\n      <td>5419585.98</td>\n      <td>9402075.0</td>\n      <td>4369637.0</td>\n      <td>0.0</td>\n      <td>157985.54</td>\n      <td>6261911.0</td>\n    </tr>\n    <tr>\n      <th>59</th>\n      <td>20190501</td>\n      <td>Actual</td>\n      <td>6427082.0</td>\n      <td>14378190.0</td>\n      <td>13200608.97</td>\n      <td>910875.92</td>\n      <td>1591871.0</td>\n      <td>1657062.0</td>\n      <td>8321301.71</td>\n      <td>1863244.0</td>\n      <td>1913425.0</td>\n      <td>3289160.0</td>\n      <td>4791506.0</td>\n      <td>38184809.0</td>\n      <td>8454463.0</td>\n      <td>5526306.0</td>\n      <td>5507003.66</td>\n      <td>115331665.0</td>\n      <td>5483869.43</td>\n      <td>10375039.0</td>\n      <td>4039496.0</td>\n      <td>0.0</td>\n      <td>300405.13</td>\n      <td>7164720.0</td>\n    </tr>\n    <tr>\n      <th>60</th>\n      <td>20190601</td>\n      <td>Actual</td>\n      <td>6854978.0</td>\n      <td>13736178.0</td>\n      <td>12087411.39</td>\n      <td>639892.89</td>\n      <td>1511323.0</td>\n      <td>1767608.0</td>\n      <td>7665705.28</td>\n      <td>3742723.0</td>\n      <td>1756987.0</td>\n      <td>3042831.0</td>\n      <td>4364134.0</td>\n      <td>35275282.0</td>\n      <td>7831620.0</td>\n      <td>6690159.0</td>\n      <td>5120755.91</td>\n      <td>106731158.0</td>\n      <td>5407599.32</td>\n      <td>9834595.0</td>\n      <td>4438541.0</td>\n      <td>0.0</td>\n      <td>255174.15</td>\n      <td>7808127.0</td>\n    </tr>\n    <tr>\n      <th>61</th>\n      <td>20190701</td>\n      <td>Actual</td>\n      <td>7292014.0</td>\n      <td>14220673.0</td>\n      <td>13878027.98</td>\n      <td>644258.43</td>\n      <td>1549938.0</td>\n      <td>1749502.0</td>\n      <td>12949631.67</td>\n      <td>3844439.0</td>\n      <td>1728725.0</td>\n      <td>3458990.0</td>\n      <td>4806947.0</td>\n      <td>39841426.0</td>\n      <td>8111420.0</td>\n      <td>6871711.0</td>\n      <td>7015568.80</td>\n      <td>119190721.0</td>\n      <td>5793080.04</td>\n      <td>10666783.0</td>\n      <td>4471539.0</td>\n      <td>0.0</td>\n      <td>359903.73</td>\n      <td>6357609.0</td>\n    </tr>\n    <tr>\n      <th>62</th>\n      <td>20190801</td>\n      <td>Actual</td>\n      <td>7418417.0</td>\n      <td>13644130.0</td>\n      <td>12675538.93</td>\n      <td>728080.77</td>\n      <td>1528094.0</td>\n      <td>1743333.0</td>\n      <td>8212353.55</td>\n      <td>1547222.0</td>\n      <td>1615702.0</td>\n      <td>3150888.0</td>\n      <td>4131461.0</td>\n      <td>36796619.0</td>\n      <td>8170458.0</td>\n      <td>6955639.0</td>\n      <td>4590520.03</td>\n      <td>113364359.0</td>\n      <td>5772912.09</td>\n      <td>10106647.0</td>\n      <td>4806964.0</td>\n      <td>0.0</td>\n      <td>236475.53</td>\n      <td>7726193.0</td>\n    </tr>\n    <tr>\n      <th>63</th>\n      <td>20190901</td>\n      <td>Actual</td>\n      <td>7095184.0</td>\n      <td>16989339.0</td>\n      <td>12571840.85</td>\n      <td>683823.13</td>\n      <td>1526773.0</td>\n      <td>1767107.0</td>\n      <td>7776538.97</td>\n      <td>3840345.0</td>\n      <td>1712504.0</td>\n      <td>3111692.0</td>\n      <td>4372135.0</td>\n      <td>36415882.0</td>\n      <td>8036181.0</td>\n      <td>6660358.0</td>\n      <td>5212910.15</td>\n      <td>108305027.0</td>\n      <td>5690589.48</td>\n      <td>9969504.0</td>\n      <td>4752068.0</td>\n      <td>0.0</td>\n      <td>302200.63</td>\n      <td>7516524.0</td>\n    </tr>\n    <tr>\n      <th>64</th>\n      <td>20191001</td>\n      <td>Actual</td>\n      <td>7179619.0</td>\n      <td>14109634.0</td>\n      <td>14047086.94</td>\n      <td>638908.17</td>\n      <td>1541984.0</td>\n      <td>1690879.0</td>\n      <td>13167523.61</td>\n      <td>3968861.0</td>\n      <td>2776176.0</td>\n      <td>3451126.0</td>\n      <td>4737809.0</td>\n      <td>40166556.0</td>\n      <td>8280587.0</td>\n      <td>6777291.0</td>\n      <td>7395806.41</td>\n      <td>119068432.0</td>\n      <td>6085073.35</td>\n      <td>10854283.0</td>\n      <td>4948327.0</td>\n      <td>0.0</td>\n      <td>426395.09</td>\n      <td>6655824.0</td>\n    </tr>\n    <tr>\n      <th>65</th>\n      <td>20191101</td>\n      <td>Actual</td>\n      <td>7248375.0</td>\n      <td>14741935.0</td>\n      <td>12301924.49</td>\n      <td>653196.79</td>\n      <td>1534970.0</td>\n      <td>1795687.0</td>\n      <td>7333935.36</td>\n      <td>1479704.0</td>\n      <td>2666963.0</td>\n      <td>3029484.0</td>\n      <td>4232255.0</td>\n      <td>35800258.0</td>\n      <td>8351544.0</td>\n      <td>6440899.0</td>\n      <td>4608921.33</td>\n      <td>105060481.0</td>\n      <td>6032851.03</td>\n      <td>10213195.0</td>\n      <td>4926307.0</td>\n      <td>0.0</td>\n      <td>294299.84</td>\n      <td>7486937.0</td>\n    </tr>\n    <tr>\n      <th>66</th>\n      <td>20191201</td>\n      <td>Actual</td>\n      <td>7561082.0</td>\n      <td>14323452.0</td>\n      <td>14378788.99</td>\n      <td>486066.55</td>\n      <td>1582362.0</td>\n      <td>1825531.0</td>\n      <td>8871187.51</td>\n      <td>3821723.0</td>\n      <td>2659461.0</td>\n      <td>3630176.0</td>\n      <td>4754924.0</td>\n      <td>41227310.0</td>\n      <td>7996643.0</td>\n      <td>7566114.0</td>\n      <td>5947708.56</td>\n      <td>128667631.0</td>\n      <td>10379934.04</td>\n      <td>10959054.0</td>\n      <td>5087037.0</td>\n      <td>0.0</td>\n      <td>422089.81</td>\n      <td>7656013.0</td>\n    </tr>\n    <tr>\n      <th>67</th>\n      <td>20200101</td>\n      <td>Actual</td>\n      <td>7587396.0</td>\n      <td>14914098.0</td>\n      <td>12775179.21</td>\n      <td>709881.84</td>\n      <td>1528054.0</td>\n      <td>1794471.0</td>\n      <td>21355359.49</td>\n      <td>4081583.0</td>\n      <td>2743117.0</td>\n      <td>3137881.0</td>\n      <td>4531575.0</td>\n      <td>37106515.0</td>\n      <td>8288521.0</td>\n      <td>7143172.0</td>\n      <td>9146405.86</td>\n      <td>106043776.0</td>\n      <td>6743500.21</td>\n      <td>10911500.0</td>\n      <td>5221134.0</td>\n      <td>0.0</td>\n      <td>89119517.59</td>\n      <td>6525521.0</td>\n    </tr>\n    <tr>\n      <th>68</th>\n      <td>20200201</td>\n      <td>Actual</td>\n      <td>7521580.0</td>\n      <td>14831603.0</td>\n      <td>12181489.80</td>\n      <td>893234.26</td>\n      <td>1523184.0</td>\n      <td>1859494.0</td>\n      <td>6964871.77</td>\n      <td>11158568.0</td>\n      <td>2796036.0</td>\n      <td>2986560.0</td>\n      <td>4198950.0</td>\n      <td>35445714.0</td>\n      <td>8454452.0</td>\n      <td>6544369.0</td>\n      <td>6869892.23</td>\n      <td>99644382.0</td>\n      <td>6054285.13</td>\n      <td>10187849.0</td>\n      <td>4436688.0</td>\n      <td>0.0</td>\n      <td>-55689.50</td>\n      <td>8971822.0</td>\n    </tr>\n    <tr>\n      <th>69</th>\n      <td>20200301</td>\n      <td>Actual</td>\n      <td>6995226.0</td>\n      <td>14754270.0</td>\n      <td>13319977.33</td>\n      <td>607337.32</td>\n      <td>1518091.0</td>\n      <td>1797522.0</td>\n      <td>7533384.52</td>\n      <td>4511615.0</td>\n      <td>2739085.0</td>\n      <td>3217886.0</td>\n      <td>4280156.0</td>\n      <td>38380836.0</td>\n      <td>10084370.0</td>\n      <td>6320418.0</td>\n      <td>6026484.33</td>\n      <td>107287296.0</td>\n      <td>6087112.38</td>\n      <td>10424181.0</td>\n      <td>4652809.0</td>\n      <td>0.0</td>\n      <td>16995.28</td>\n      <td>7782071.0</td>\n    </tr>\n    <tr>\n      <th>70</th>\n      <td>20200401</td>\n      <td>Actual</td>\n      <td>6409987.0</td>\n      <td>14109521.0</td>\n      <td>11983714.88</td>\n      <td>531157.22</td>\n      <td>1530206.0</td>\n      <td>1734531.0</td>\n      <td>10990659.87</td>\n      <td>3846363.0</td>\n      <td>2418266.0</td>\n      <td>2907741.0</td>\n      <td>4083176.0</td>\n      <td>34706643.0</td>\n      <td>8384464.0</td>\n      <td>5466256.0</td>\n      <td>6664268.18</td>\n      <td>92673007.0</td>\n      <td>5827460.74</td>\n      <td>9986738.0</td>\n      <td>3790876.0</td>\n      <td>0.0</td>\n      <td>180969.05</td>\n      <td>4543151.0</td>\n    </tr>\n    <tr>\n      <th>71</th>\n      <td>20200501</td>\n      <td>Actual</td>\n      <td>8237881.0</td>\n      <td>14109463.0</td>\n      <td>11143352.64</td>\n      <td>595333.80</td>\n      <td>1465828.0</td>\n      <td>1713755.0</td>\n      <td>6185801.63</td>\n      <td>1570955.0</td>\n      <td>2385788.0</td>\n      <td>2811866.0</td>\n      <td>3676731.0</td>\n      <td>32622114.0</td>\n      <td>7565506.0</td>\n      <td>13447506.0</td>\n      <td>3311409.16</td>\n      <td>90949332.0</td>\n      <td>6027283.54</td>\n      <td>9598261.0</td>\n      <td>3752301.0</td>\n      <td>0.0</td>\n      <td>135876.35</td>\n      <td>6847014.0</td>\n    </tr>\n    <tr>\n      <th>72</th>\n      <td>20200601</td>\n      <td>Actual</td>\n      <td>7095696.0</td>\n      <td>13747697.0</td>\n      <td>12924068.68</td>\n      <td>550621.70</td>\n      <td>1330325.0</td>\n      <td>1681963.0</td>\n      <td>7188744.17</td>\n      <td>3867043.0</td>\n      <td>2518698.0</td>\n      <td>3181309.0</td>\n      <td>4062434.0</td>\n      <td>37167436.0</td>\n      <td>7813596.0</td>\n      <td>4880122.0</td>\n      <td>4077821.35</td>\n      <td>103438412.0</td>\n      <td>5315739.43</td>\n      <td>9962100.0</td>\n      <td>3433099.0</td>\n      <td>0.0</td>\n      <td>103884.59</td>\n      <td>6939467.0</td>\n    </tr>\n    <tr>\n      <th>73</th>\n      <td>20200701</td>\n      <td>Actual</td>\n      <td>7614673.0</td>\n      <td>14737454.0</td>\n      <td>13177301.28</td>\n      <td>582068.16</td>\n      <td>1435919.0</td>\n      <td>1695288.0</td>\n      <td>11792398.32</td>\n      <td>3763539.0</td>\n      <td>3716091.0</td>\n      <td>3209949.0</td>\n      <td>4073183.0</td>\n      <td>37905820.0</td>\n      <td>7973449.0</td>\n      <td>4995701.0</td>\n      <td>6403981.95</td>\n      <td>103718926.0</td>\n      <td>6289727.45</td>\n      <td>10476574.0</td>\n      <td>3460938.0</td>\n      <td>0.0</td>\n      <td>162905.40</td>\n      <td>6232641.0</td>\n    </tr>\n    <tr>\n      <th>74</th>\n      <td>20200801</td>\n      <td>Actual</td>\n      <td>7551520.0</td>\n      <td>14392679.0</td>\n      <td>12650448.43</td>\n      <td>446718.60</td>\n      <td>1390286.0</td>\n      <td>1681833.0</td>\n      <td>6869452.00</td>\n      <td>1489544.0</td>\n      <td>3470041.0</td>\n      <td>3059664.0</td>\n      <td>3924895.0</td>\n      <td>36603021.0</td>\n      <td>9161558.0</td>\n      <td>4981545.0</td>\n      <td>3945854.11</td>\n      <td>99146164.0</td>\n      <td>6068778.04</td>\n      <td>10229001.0</td>\n      <td>3727359.0</td>\n      <td>0.0</td>\n      <td>176199.40</td>\n      <td>5374076.0</td>\n    </tr>\n    <tr>\n      <th>75</th>\n      <td>20200901</td>\n      <td>Actual</td>\n      <td>7747346.0</td>\n      <td>16883067.0</td>\n      <td>14364661.70</td>\n      <td>414876.77</td>\n      <td>1416866.0</td>\n      <td>1607463.0</td>\n      <td>7663056.78</td>\n      <td>3929487.0</td>\n      <td>3734614.0</td>\n      <td>3476543.0</td>\n      <td>4174519.0</td>\n      <td>41225843.0</td>\n      <td>8067430.0</td>\n      <td>4972046.0</td>\n      <td>5260050.56</td>\n      <td>108696536.0</td>\n      <td>6340700.19</td>\n      <td>10968963.0</td>\n      <td>3933638.0</td>\n      <td>0.0</td>\n      <td>227531.19</td>\n      <td>6776595.0</td>\n    </tr>\n    <tr>\n      <th>76</th>\n      <td>20201001</td>\n      <td>Actual</td>\n      <td>7793677.0</td>\n      <td>14170117.0</td>\n      <td>13775386.37</td>\n      <td>400464.45</td>\n      <td>1430005.0</td>\n      <td>1775330.0</td>\n      <td>12032858.64</td>\n      <td>3758486.0</td>\n      <td>3765622.0</td>\n      <td>3232099.0</td>\n      <td>3932018.0</td>\n      <td>39764048.0</td>\n      <td>8244736.0</td>\n      <td>5037401.0</td>\n      <td>5655867.51</td>\n      <td>107861298.0</td>\n      <td>6575824.19</td>\n      <td>10645208.0</td>\n      <td>4317897.0</td>\n      <td>0.0</td>\n      <td>183308.66</td>\n      <td>6517515.0</td>\n    </tr>\n    <tr>\n      <th>77</th>\n      <td>20201101</td>\n      <td>Actual</td>\n      <td>8000295.0</td>\n      <td>14230746.0</td>\n      <td>13918771.19</td>\n      <td>328000.14</td>\n      <td>1371422.0</td>\n      <td>1703859.0</td>\n      <td>7046763.65</td>\n      <td>1549635.0</td>\n      <td>3775578.0</td>\n      <td>3253928.0</td>\n      <td>3973665.0</td>\n      <td>40008351.0</td>\n      <td>9324738.0</td>\n      <td>4805233.0</td>\n      <td>4300804.08</td>\n      <td>105164502.0</td>\n      <td>6841850.51</td>\n      <td>13272131.0</td>\n      <td>4567347.0</td>\n      <td>0.0</td>\n      <td>208805.40</td>\n      <td>6101679.0</td>\n    </tr>\n    <tr>\n      <th>78</th>\n      <td>20201201</td>\n      <td>Actual</td>\n      <td>8482353.0</td>\n      <td>14829062.0</td>\n      <td>15826211.23</td>\n      <td>358024.69</td>\n      <td>1416567.0</td>\n      <td>1687339.0</td>\n      <td>7635486.71</td>\n      <td>3713962.0</td>\n      <td>3393072.0</td>\n      <td>3812093.0</td>\n      <td>4544766.0</td>\n      <td>45196087.0</td>\n      <td>8516518.0</td>\n      <td>5115796.0</td>\n      <td>5619589.40</td>\n      <td>126152261.0</td>\n      <td>12080887.00</td>\n      <td>11300057.0</td>\n      <td>4829985.0</td>\n      <td>0.0</td>\n      <td>233016.32</td>\n      <td>7500443.0</td>\n    </tr>\n    <tr>\n      <th>79</th>\n      <td>20210101</td>\n      <td>Actual</td>\n      <td>8601656.0</td>\n      <td>14541668.0</td>\n      <td>13265382.71</td>\n      <td>273995.85</td>\n      <td>1390060.0</td>\n      <td>1771611.0</td>\n      <td>22548298.89</td>\n      <td>3955284.0</td>\n      <td>4341243.0</td>\n      <td>3071647.0</td>\n      <td>4190849.0</td>\n      <td>38395293.0</td>\n      <td>8756918.0</td>\n      <td>5034424.0</td>\n      <td>8645189.69</td>\n      <td>94834624.0</td>\n      <td>7062932.96</td>\n      <td>11004027.0</td>\n      <td>5542882.0</td>\n      <td>0.0</td>\n      <td>80988881.77</td>\n      <td>5399816.0</td>\n    </tr>\n    <tr>\n      <th>80</th>\n      <td>20210201</td>\n      <td>Actual</td>\n      <td>8798633.0</td>\n      <td>14785257.0</td>\n      <td>13666646.86</td>\n      <td>291755.39</td>\n      <td>1354163.0</td>\n      <td>1685096.0</td>\n      <td>6430193.76</td>\n      <td>11179898.0</td>\n      <td>3735642.0</td>\n      <td>3103960.0</td>\n      <td>3859289.0</td>\n      <td>39462133.0</td>\n      <td>9241920.0</td>\n      <td>4984652.0</td>\n      <td>6625228.73</td>\n      <td>96978102.0</td>\n      <td>6757198.28</td>\n      <td>10433968.0</td>\n      <td>5572132.0</td>\n      <td>0.0</td>\n      <td>28599.77</td>\n      <td>5392816.0</td>\n    </tr>\n    <tr>\n      <th>81</th>\n      <td>20210301</td>\n      <td>Actual</td>\n      <td>9014864.0</td>\n      <td>15017238.0</td>\n      <td>16053700.85</td>\n      <td>253715.04</td>\n      <td>1404115.0</td>\n      <td>1667442.0</td>\n      <td>7657980.44</td>\n      <td>5180501.0</td>\n      <td>4687474.0</td>\n      <td>3648121.0</td>\n      <td>4560598.0</td>\n      <td>45766968.0</td>\n      <td>10415876.0</td>\n      <td>5028113.0</td>\n      <td>6834861.06</td>\n      <td>110554131.0</td>\n      <td>7127288.42</td>\n      <td>11520879.0</td>\n      <td>6534835.0</td>\n      <td>0.0</td>\n      <td>-43477.46</td>\n      <td>7384007.0</td>\n    </tr>\n    <tr>\n      <th>82</th>\n      <td>20210401</td>\n      <td>Actual</td>\n      <td>8986182.0</td>\n      <td>14843783.0</td>\n      <td>14728764.11</td>\n      <td>260657.63</td>\n      <td>1349889.0</td>\n      <td>1683761.0</td>\n      <td>11701117.00</td>\n      <td>4329239.0</td>\n      <td>5767059.0</td>\n      <td>3297551.0</td>\n      <td>4153573.0</td>\n      <td>42508711.0</td>\n      <td>10902159.0</td>\n      <td>4669272.0</td>\n      <td>6416112.24</td>\n      <td>105999185.0</td>\n      <td>7072846.33</td>\n      <td>10941869.0</td>\n      <td>6052148.0</td>\n      <td>0.0</td>\n      <td>44625.45</td>\n      <td>6571571.0</td>\n    </tr>\n    <tr>\n      <th>83</th>\n      <td>20210501</td>\n      <td>Actual</td>\n      <td>9447456.0</td>\n      <td>14198601.0</td>\n      <td>14672623.61</td>\n      <td>289242.62</td>\n      <td>1372288.0</td>\n      <td>1624781.0</td>\n      <td>6726549.70</td>\n      <td>1580445.0</td>\n      <td>4842317.0</td>\n      <td>3259141.0</td>\n      <td>4167953.0</td>\n      <td>42183770.0</td>\n      <td>9650524.0</td>\n      <td>4779147.0</td>\n      <td>5194467.56</td>\n      <td>101329196.0</td>\n      <td>6814938.46</td>\n      <td>11117995.0</td>\n      <td>5983387.0</td>\n      <td>0.0</td>\n      <td>113517.87</td>\n      <td>5953067.0</td>\n    </tr>\n    <tr>\n      <th>84</th>\n      <td>20210601</td>\n      <td>Actual</td>\n      <td>9242793.0</td>\n      <td>14949215.0</td>\n      <td>17035990.52</td>\n      <td>272092.62</td>\n      <td>1387683.0</td>\n      <td>1654993.0</td>\n      <td>7829826.55</td>\n      <td>3937901.0</td>\n      <td>4345580.0</td>\n      <td>3737261.0</td>\n      <td>4825528.0</td>\n      <td>48479296.0</td>\n      <td>9204206.0</td>\n      <td>4839930.0</td>\n      <td>6394723.88</td>\n      <td>114237978.0</td>\n      <td>7156491.88</td>\n      <td>12926121.0</td>\n      <td>5692350.0</td>\n      <td>0.0</td>\n      <td>145664.32</td>\n      <td>7050812.0</td>\n    </tr>\n    <tr>\n      <th>85</th>\n      <td>20210701</td>\n      <td>Actual</td>\n      <td>9402501.0</td>\n      <td>14734054.0</td>\n      <td>16379137.69</td>\n      <td>308577.80</td>\n      <td>1383589.0</td>\n      <td>1641035.0</td>\n      <td>12439360.29</td>\n      <td>3933267.0</td>\n      <td>5788298.0</td>\n      <td>3503756.0</td>\n      <td>4251914.0</td>\n      <td>46831114.0</td>\n      <td>9158951.0</td>\n      <td>4853965.0</td>\n      <td>6511334.05</td>\n      <td>113185861.0</td>\n      <td>7317227.02</td>\n      <td>11602640.0</td>\n      <td>5641812.0</td>\n      <td>0.0</td>\n      <td>129513.03</td>\n      <td>6697117.0</td>\n    </tr>\n    <tr>\n      <th>86</th>\n      <td>20210801</td>\n      <td>Actual</td>\n      <td>9642660.0</td>\n      <td>14789837.0</td>\n      <td>17467119.17</td>\n      <td>266937.75</td>\n      <td>1374918.0</td>\n      <td>1639415.0</td>\n      <td>7622602.03</td>\n      <td>1646804.0</td>\n      <td>4443808.0</td>\n      <td>3693255.0</td>\n      <td>4282824.0</td>\n      <td>49695326.0</td>\n      <td>9961814.0</td>\n      <td>4779067.0</td>\n      <td>5567663.09</td>\n      <td>115768921.0</td>\n      <td>7219542.77</td>\n      <td>11871451.0</td>\n      <td>5650870.0</td>\n      <td>0.0</td>\n      <td>149699.46</td>\n      <td>5803622.0</td>\n    </tr>\n    <tr>\n      <th>87</th>\n      <td>20210901</td>\n      <td>Actual</td>\n      <td>9799382.0</td>\n      <td>17774640.0</td>\n      <td>17956420.34</td>\n      <td>240519.21</td>\n      <td>1387895.0</td>\n      <td>1602816.0</td>\n      <td>7779041.11</td>\n      <td>4262717.0</td>\n      <td>4935887.0</td>\n      <td>3757698.0</td>\n      <td>4777557.0</td>\n      <td>51078260.0</td>\n      <td>9156447.0</td>\n      <td>4658101.0</td>\n      <td>9225078.60</td>\n      <td>116406871.0</td>\n      <td>7427904.86</td>\n      <td>12506264.0</td>\n      <td>6112914.0</td>\n      <td>0.0</td>\n      <td>184562.25</td>\n      <td>6908722.0</td>\n    </tr>\n    <tr>\n      <th>88</th>\n      <td>20211001</td>\n      <td>Actual</td>\n      <td>9732791.0</td>\n      <td>14743885.0</td>\n      <td>16639812.59</td>\n      <td>260480.33</td>\n      <td>1487840.0</td>\n      <td>1630754.0</td>\n      <td>11268274.39</td>\n      <td>4033346.0</td>\n      <td>4965180.0</td>\n      <td>3459421.0</td>\n      <td>4325765.0</td>\n      <td>47565909.0</td>\n      <td>9189460.0</td>\n      <td>4733333.0</td>\n      <td>10636303.84</td>\n      <td>107455264.0</td>\n      <td>7524424.40</td>\n      <td>11891771.0</td>\n      <td>7191242.0</td>\n      <td>0.0</td>\n      <td>181163.07</td>\n      <td>6345526.0</td>\n    </tr>\n    <tr>\n      <th>89</th>\n      <td>20211101</td>\n      <td>Actual</td>\n      <td>10097325.0</td>\n      <td>15738895.0</td>\n      <td>18200667.03</td>\n      <td>235107.82</td>\n      <td>1563706.0</td>\n      <td>1621397.0</td>\n      <td>7617424.02</td>\n      <td>1612427.0</td>\n      <td>4695291.0</td>\n      <td>3708846.0</td>\n      <td>4453374.0</td>\n      <td>51630144.0</td>\n      <td>9356768.0</td>\n      <td>4723739.0</td>\n      <td>9402313.19</td>\n      <td>117503730.0</td>\n      <td>8070593.59</td>\n      <td>12248687.0</td>\n      <td>7614146.0</td>\n      <td>0.0</td>\n      <td>155279.24</td>\n      <td>6207581.0</td>\n    </tr>\n    <tr>\n      <th>90</th>\n      <td>20211201</td>\n      <td>Actual</td>\n      <td>9911484.0</td>\n      <td>16090695.0</td>\n      <td>19189993.34</td>\n      <td>305437.47</td>\n      <td>1500244.0</td>\n      <td>1647629.0</td>\n      <td>8212787.33</td>\n      <td>3983709.0</td>\n      <td>4913494.0</td>\n      <td>3985770.0</td>\n      <td>4814453.0</td>\n      <td>54473328.0</td>\n      <td>9372927.0</td>\n      <td>4927516.0</td>\n      <td>15988997.51</td>\n      <td>127800869.0</td>\n      <td>13553160.66</td>\n      <td>12098563.0</td>\n      <td>9863307.0</td>\n      <td>0.0</td>\n      <td>192584.15</td>\n      <td>8091726.0</td>\n    </tr>\n    <tr>\n      <th>91</th>\n      <td>20220101</td>\n      <td>Actual</td>\n      <td>9956104.0</td>\n      <td>15870159.0</td>\n      <td>17242037.23</td>\n      <td>246266.95</td>\n      <td>1492592.0</td>\n      <td>1611912.0</td>\n      <td>22435519.84</td>\n      <td>4249129.0</td>\n      <td>5438292.0</td>\n      <td>3503156.0</td>\n      <td>4809978.0</td>\n      <td>49289702.0</td>\n      <td>9465160.0</td>\n      <td>4865480.0</td>\n      <td>20866313.40</td>\n      <td>103869768.0</td>\n      <td>7943756.66</td>\n      <td>12696120.0</td>\n      <td>6906691.0</td>\n      <td>0.0</td>\n      <td>81544421.44</td>\n      <td>5645055.0</td>\n    </tr>\n    <tr>\n      <th>92</th>\n      <td>20220201</td>\n      <td>Forecast</td>\n      <td>8479819.0</td>\n      <td>16265052.0</td>\n      <td>16746239.66</td>\n      <td>255404.81</td>\n      <td>1551261.0</td>\n      <td>1644094.0</td>\n      <td>6683673.54</td>\n      <td>11717643.0</td>\n      <td>5155883.0</td>\n      <td>3256254.0</td>\n      <td>4426981.0</td>\n      <td>47754765.0</td>\n      <td>9996382.0</td>\n      <td>4676956.0</td>\n      <td>14110893.97</td>\n      <td>103360524.0</td>\n      <td>7782924.02</td>\n      <td>12121165.0</td>\n      <td>6370178.0</td>\n      <td>0.0</td>\n      <td>87571.97</td>\n      <td>5598828.0</td>\n    </tr>\n    <tr>\n      <th>93</th>\n      <td>20220301</td>\n      <td>Forecast</td>\n      <td>9413975.0</td>\n      <td>16533376.0</td>\n      <td>19830263.01</td>\n      <td>255404.81</td>\n      <td>1566351.0</td>\n      <td>1627758.0</td>\n      <td>7556913.86</td>\n      <td>5285546.0</td>\n      <td>4629384.0</td>\n      <td>3726698.0</td>\n      <td>5077573.0</td>\n      <td>55976261.0</td>\n      <td>11237569.0</td>\n      <td>4725496.0</td>\n      <td>12680918.38</td>\n      <td>116712202.0</td>\n      <td>7739255.89</td>\n      <td>13043487.0</td>\n      <td>6501591.0</td>\n      <td>0.0</td>\n      <td>-43001.29</td>\n      <td>7568997.0</td>\n    </tr>\n    <tr>\n      <th>94</th>\n      <td>20220401</td>\n      <td>Forecast</td>\n      <td>9172325.0</td>\n      <td>16438635.0</td>\n      <td>17280393.78</td>\n      <td>255404.81</td>\n      <td>1567183.0</td>\n      <td>1624834.0</td>\n      <td>10943693.27</td>\n      <td>4415867.0</td>\n      <td>4586444.0</td>\n      <td>3272264.0</td>\n      <td>4366180.0</td>\n      <td>49129952.0</td>\n      <td>10139218.0</td>\n      <td>4763628.0</td>\n      <td>10225582.63</td>\n      <td>102015093.0</td>\n      <td>7880413.73</td>\n      <td>12328801.0</td>\n      <td>6413893.0</td>\n      <td>0.0</td>\n      <td>44811.43</td>\n      <td>6578746.0</td>\n    </tr>\n    <tr>\n      <th>95</th>\n      <td>20220501</td>\n      <td>Forecast</td>\n      <td>9527002.0</td>\n      <td>16563965.0</td>\n      <td>18341358.09</td>\n      <td>255404.81</td>\n      <td>1555692.0</td>\n      <td>1621878.0</td>\n      <td>7961770.17</td>\n      <td>1673122.0</td>\n      <td>4557641.0</td>\n      <td>3537170.0</td>\n      <td>4419842.0</td>\n      <td>52095246.0</td>\n      <td>10021477.0</td>\n      <td>4585198.0</td>\n      <td>6506572.85</td>\n      <td>108164336.0</td>\n      <td>7873993.46</td>\n      <td>12372935.0</td>\n      <td>6666851.0</td>\n      <td>0.0</td>\n      <td>113783.77</td>\n      <td>6376085.0</td>\n    </tr>\n  </tbody>\n</table>\n</div>"
     },
     "execution_count": 15,
     "metadata": {},
     "output_type": "execute_result"
    }
   ],
   "source": [
    "df_piv"
   ],
   "metadata": {
    "collapsed": false,
    "pycharm": {
     "name": "#%%\n"
    }
   }
  },
  {
   "cell_type": "code",
   "execution_count": 16,
   "outputs": [],
   "source": [
    "#dependent_col = '401K Asset fee & BP Revenue'\n",
    "#dependent_col = '401K Fee Revenue'\n",
    "#dependent_col = 'ASO Allocation'\n",
    "#dependent_col = 'ASO Revenue - Oasis'\n",
    "#dependent_col = 'Benetrac'\n",
    "#dependent_col = 'Cafeteria Plans Revenue'\n",
    "#dependent_col = 'Delivery Revenue'\n",
    "#dependent_col = 'Emerging Products'\n",
    "#dependent_col = 'ESR Revenue'\n",
    "#dependent_col = 'Full Service Unemployment Revenue'\n",
    "#dependent_col = 'Health Benefits'\n",
    "#dependent_col = 'HR Online'\n",
    "#dependent_col = 'HR Solutions (PEO)'\n",
    "#dependent_col = 'Interest on Funds Held for Clients'\n",
    "#dependent_col = 'Other Processing Revenue'\n",
    "#dependent_col = 'Payroll blended products'\n",
    "#dependent_col = 'SurePayroll.'\n",
    "#dependent_col = 'Time & Attendance'\n",
    "#dependent_col = 'Total international'\n",
    "#dependent_col = 'Total Paychex Advance'\n",
    "#dependent_col = 'W-2 Revenue'\n",
    "#dependent_col = 'Workers Comp - Payment Se'\n",
    "dependent_col = 'TotalRevenue'\n",
    "feature_cols = [c.replace(\" \",\"\") for c in level_0_list]\n",
    "\n",
    "if dependent_col in feature_cols:\n",
    "    feature_cols.remove(dependent_col)\n",
    "\n",
    "train_start_dt = '20140601'\n",
    "train_end_dt = '20200501'\n",
    "test_start_dt = '20200601'\n",
    "test_end_dt = '20210501'\n",
    "pred_start_dt = '20210601'\n",
    "pred_end_dt = '20220101'\n",
    "forecast_window = 8\n",
    "has_actuals = True"
   ],
   "metadata": {
    "collapsed": false,
    "pycharm": {
     "name": "#%%\n"
    }
   }
  },
  {
   "cell_type": "code",
   "execution_count": 17,
   "outputs": [],
   "source": [
    "#print(df_piv)\n",
    "\n",
    "df_ts = df_piv[df_piv['Scenario'] == 'Actual']\n",
    "df_ts['Series'] = np.arange(1,len(df_ts)+1)\n",
    "df_ts['Year'] = df_ts['CalendarDate'].astype(str).str[:4]\n",
    "df_ts['Month'] = df_ts['CalendarDate'].astype(str).str[-4:].str[:2]\n",
    "df_ts['TotalRevenue'] = df_ts[item_list].sum(axis=1)\n",
    "df_ts.rename_axis(None, axis=1, inplace=True)\n",
    "train_df = df_ts[(df_ts['CalendarDate'].astype(int) >= int(train_start_dt)) &\n",
    "              (df_ts['CalendarDate'].astype(int) <= int(train_end_dt))]\n",
    "test_df = df_ts[(df_ts['CalendarDate'].astype(int) >= int(test_start_dt)) &\n",
    "                (df_ts['CalendarDate'].astype(int) <= int(test_end_dt))]\n",
    "comb_df = df_ts[(df_ts['CalendarDate'].astype(int) >= int(train_start_dt)) &\n",
    "                (df_ts['CalendarDate'].astype(int) <= int(test_end_dt))]"
   ],
   "metadata": {
    "collapsed": false,
    "pycharm": {
     "name": "#%%\n"
    }
   }
  },
  {
   "cell_type": "code",
   "execution_count": 18,
   "outputs": [],
   "source": [
    "\n",
    "# create training dataframe\n",
    "train_df['CalendarDate'] = pd.to_datetime(train_df['CalendarDate'])\n",
    "#train_df.set_index('Calendar Date', inplace=True)\n",
    "\n",
    "# create test dataframe\n",
    "\n",
    "test_df['CalendarDate'] = pd.to_datetime(test_df['CalendarDate'])\n",
    "#test_df.set_index('Calendar Date', inplace=True)\n",
    "\n",
    "# create combo dataframe\n",
    "comb_df['CalendarDate'] = pd.to_datetime(comb_df['CalendarDate'])\n",
    "#comb_df.set_index('Calendar Date', inplace=True)\n"
   ],
   "metadata": {
    "collapsed": false,
    "pycharm": {
     "name": "#%%\n"
    }
   }
  },
  {
   "cell_type": "code",
   "execution_count": 19,
   "outputs": [
    {
     "data": {
      "text/plain": "   CalendarDate Scenario  401KAssetfee&BPRevenue  401KFeeRevenue  \\\n0    2014-06-01   Actual               4261452.0      10621963.0   \n1    2014-07-01   Actual               4513388.0      10558382.0   \n2    2014-08-01   Actual               4486436.0      10297495.0   \n3    2014-09-01   Actual               4355891.0      12719409.0   \n4    2014-10-01   Actual               4455231.0      13797724.0   \n5    2014-11-01   Actual               4466548.0      11049609.0   \n6    2014-12-01   Actual               4309643.0      15706255.0   \n7    2015-01-01   Actual               4855051.0      12860281.0   \n8    2015-02-01   Actual               4218929.0      12618365.0   \n9    2015-03-01   Actual               4608872.0      11388694.0   \n10   2015-04-01   Actual               4491381.0      13310635.0   \n11   2015-05-01   Actual               4845898.0      12075053.0   \n12   2015-06-01   Actual               4676384.0      10448029.0   \n13   2015-07-01   Actual               4844667.0      11215568.0   \n14   2015-08-01   Actual               4651703.0      10764213.0   \n15   2015-09-01   Actual               5014236.0      11672780.0   \n16   2015-10-01   Actual               4576227.0      10748772.0   \n17   2015-11-01   Actual               4553787.0      10928538.0   \n18   2015-12-01   Actual               4691642.0      11683440.0   \n19   2016-01-01   Actual               4700496.0      11247301.0   \n20   2016-02-01   Actual               4803238.0      11018323.0   \n21   2016-03-01   Actual               4680711.0      11351506.0   \n22   2016-04-01   Actual               5230642.0      11399895.0   \n23   2016-05-01   Actual               5317887.0      10961247.0   \n24   2016-06-01   Actual               4933124.0      11371867.0   \n25   2016-07-01   Actual               5066287.0      11517341.0   \n26   2016-08-01   Actual               5338095.0      11673595.0   \n27   2016-09-01   Actual               5134238.0      11492651.0   \n28   2016-10-01   Actual               5336825.0      11921475.0   \n29   2016-11-01   Actual               5217646.0      11614686.0   \n30   2016-12-01   Actual               5220434.0      11644455.0   \n31   2017-01-01   Actual               5354754.0      12126073.0   \n32   2017-02-01   Actual               5298195.0      11742221.0   \n33   2017-03-01   Actual               5790846.0      11884394.0   \n34   2017-04-01   Actual               5864663.0      12021324.0   \n35   2017-05-01   Actual               5841217.0      12029707.0   \n36   2017-06-01   Actual               6306889.0      11737428.0   \n37   2017-07-01   Actual               5824642.0      12668951.0   \n38   2017-08-01   Actual               5345535.0      12410315.0   \n39   2017-09-01   Actual               6114811.0      13282180.0   \n40   2017-10-01   Actual               6318076.0      12598070.0   \n41   2017-11-01   Actual               5769565.0      12580587.0   \n42   2017-12-01   Actual               6553566.0      12427574.0   \n43   2018-01-01   Actual               6390513.0      13217358.0   \n44   2018-02-01   Actual               5624752.0      12725103.0   \n45   2018-03-01   Actual               6793282.0      12852727.0   \n46   2018-04-01   Actual               6425737.0      12807376.0   \n47   2018-05-01   Actual               5731523.0      13178171.0   \n48   2018-06-01   Actual               6783878.0      13047555.0   \n49   2018-07-01   Actual               6741807.0      13105255.0   \n50   2018-08-01   Actual               6941384.0      13157887.0   \n51   2018-09-01   Actual               6900911.0      15907867.0   \n52   2018-10-01   Actual               6731645.0      13540690.0   \n53   2018-11-01   Actual               6428216.0      13311671.0   \n54   2018-12-01   Actual               6544875.0      13418589.0   \n55   2019-01-01   Actual               6164002.0      13352712.0   \n56   2019-02-01   Actual               6356059.0      13141131.0   \n57   2019-03-01   Actual               6788033.0      13462048.0   \n58   2019-04-01   Actual               6953379.0      13655149.0   \n59   2019-05-01   Actual               6427082.0      14378190.0   \n60   2019-06-01   Actual               6854978.0      13736178.0   \n61   2019-07-01   Actual               7292014.0      14220673.0   \n62   2019-08-01   Actual               7418417.0      13644130.0   \n63   2019-09-01   Actual               7095184.0      16989339.0   \n64   2019-10-01   Actual               7179619.0      14109634.0   \n65   2019-11-01   Actual               7248375.0      14741935.0   \n66   2019-12-01   Actual               7561082.0      14323452.0   \n67   2020-01-01   Actual               7587396.0      14914098.0   \n68   2020-02-01   Actual               7521580.0      14831603.0   \n69   2020-03-01   Actual               6995226.0      14754270.0   \n70   2020-04-01   Actual               6409987.0      14109521.0   \n71   2020-05-01   Actual               8237881.0      14109463.0   \n\n    ASOAllocation  ASORevenue-Oasis   Benetrac  CafeteriaPlansRevenue  \\\n0      7255027.55              0.00  1922941.0              1714950.0   \n1      9070820.80              0.00  1916579.0              1698495.0   \n2      7489159.50              0.00  1944830.0              1829118.0   \n3      7011292.24              0.00  1933042.0              1710602.0   \n4      9372927.59              0.00  1956820.0              1702224.0   \n5      7492286.01              0.00  1987727.0              1784045.0   \n6      7355083.53              0.00  2022314.0              1741201.0   \n7      9431085.71              0.00  1986486.0              1714890.0   \n8      7525036.15              0.00  1898082.0              1821176.0   \n9      7170010.02              0.00  1921510.0              1715383.0   \n10     9507435.52              0.00  2067628.0              1668601.0   \n11     8008417.76              0.00  2024352.0              1831128.0   \n12     7723631.47              0.00  2037719.0              1674128.0   \n13    10276187.11              0.00  2073561.0              1666719.0   \n14     8516393.85              0.00  2024591.0              1660469.0   \n15    10159009.60              0.00  2040610.0              1681189.0   \n16     8158477.14              0.00  2019277.0              1703146.0   \n17     8188933.40              0.00  2111021.0              1684985.0   \n18     8206804.86              0.00  2089243.0              1891310.0   \n19    10361488.50              0.00  2076298.0              1748544.0   \n20     8186976.43              0.00  2033634.0              1818573.0   \n21    10026221.23              0.00  1926566.0              1625934.0   \n22     8411614.62              0.00  2018184.0              1721138.0   \n23     8999346.70              0.00  1951107.0              1707584.0   \n24     9885278.67              0.00  1052127.0              1701697.0   \n25     8882785.62              0.00  1060372.0              1709266.0   \n26    10356048.31              0.00  1066616.0              1683728.0   \n27     9212117.08              0.00   980722.0              1714844.0   \n28     9275224.11              0.00  1852769.0              1715301.0   \n29    10057386.35              0.00  1950198.0              1753124.0   \n30     9631544.50              0.00  1936100.0              1806996.0   \n31     9504950.94              0.00  1755994.0              1744221.0   \n32     8918143.61              0.00  1861166.0              1717947.0   \n33     9854513.30              0.00  1772108.0              1717694.0   \n34     8929758.90              0.00  1746201.0              1682807.0   \n35    10862813.30              0.00  1730887.0              1844953.0   \n36     9950476.82              0.00  1789429.0              1792429.0   \n37     9696458.80              0.00  1720948.0              1799576.0   \n38    10844096.32              0.00  1735764.0              1787356.0   \n39     9460715.73              0.00  1665568.0              1800680.0   \n40    10219669.28              0.00  1688255.0              1792862.0   \n41    10412580.75              0.00  1690271.0              1818556.0   \n42     9904542.86              0.00  1682108.0              1835447.0   \n43    10757884.98              0.00  1690134.0              1811757.0   \n44     9596095.78              0.00  1623225.0              1815575.0   \n45    10090456.69              0.00  1598898.0              1780867.0   \n46    10184445.77              0.00  1586216.0              1751199.0   \n47    12023742.27              0.00  1592662.0              1759382.0   \n48    10822300.54              0.00  1564813.0              1742628.0   \n49    11655444.69              0.00  1545310.0              1735306.0   \n50    11954057.43              0.00  1572317.0              1734774.0   \n51    10732724.79              0.00  1533748.0              1731765.0   \n52    12506864.04              0.00  1561762.0              1732806.0   \n53    11416075.74              0.00  1531377.0              1769694.0   \n54    12003008.85              0.00  1587568.0              1768188.0   \n55    12307110.07         705012.81  1556671.0              1801231.0   \n56    10973726.22         710059.06  1541456.0              1765198.0   \n57    11163985.65         745998.73  1514564.0              1727367.0   \n58    12273835.85         559902.25  1515658.0              1725937.0   \n59    13200608.97         910875.92  1591871.0              1657062.0   \n60    12087411.39         639892.89  1511323.0              1767608.0   \n61    13878027.98         644258.43  1549938.0              1749502.0   \n62    12675538.93         728080.77  1528094.0              1743333.0   \n63    12571840.85         683823.13  1526773.0              1767107.0   \n64    14047086.94         638908.17  1541984.0              1690879.0   \n65    12301924.49         653196.79  1534970.0              1795687.0   \n66    14378788.99         486066.55  1582362.0              1825531.0   \n67    12775179.21         709881.84  1528054.0              1794471.0   \n68    12181489.80         893234.26  1523184.0              1859494.0   \n69    13319977.33         607337.32  1518091.0              1797522.0   \n70    11983714.88         531157.22  1530206.0              1734531.0   \n71    11143352.64         595333.80  1465828.0              1713755.0   \n\n    DeliveryRevenue  ESRRevenue  EmergingProducts  \\\n0        7393351.97     47602.0          796063.0   \n1       13513741.18     67521.0          986955.0   \n2        7286966.62     79771.0          924689.0   \n3        7081861.96    105330.0          732444.0   \n4       13741077.44    143956.0         1051920.0   \n5        7259539.93    178933.0          965427.0   \n6        7559482.15    235468.0          852949.0   \n7       19855110.85    607646.0          908730.0   \n8        7116009.19    454163.0          946365.0   \n9        6970218.27    905763.0          898680.0   \n10      13534160.18   1263887.0         1110786.0   \n11       7376023.95    976059.0         1034569.0   \n12       7329981.91   1347270.0          941623.0   \n13      13948654.17   1804485.0         1156683.0   \n14       7676302.90   1508526.0         1084301.0   \n15       9392633.06   2833960.0         1023739.0   \n16      11805467.44   3160806.0         1046697.0   \n17       7312139.25    333144.0         1067704.0   \n18       7664934.35   3341381.0          977559.0   \n19      20102082.91   3499744.0         1020379.0   \n20       7220867.85   -121649.0         1067919.0   \n21       9057909.30   3310680.0         1113392.0   \n22      11833933.99   3167425.0         1136826.0   \n23       7669234.87   2824047.0         1144307.0   \n24       8060818.28   4151030.0         1232488.0   \n25      12103471.88   4231057.0         1247530.0   \n26       9148988.99   5033397.0         1102284.0   \n27       8016364.38   4445081.0         1314913.0   \n28      12231875.36   3443906.0         1288723.0   \n29       8333195.01   2113145.0         1270860.0   \n30       8502596.75   3688098.0         1239273.0   \n31      20693527.22   3602257.0         1278209.0   \n32       8546196.17   8201954.0         1179715.0   \n33       7897890.95   3367706.0         1251807.0   \n34      12046783.19   3368745.0         1351675.0   \n35       8490202.09   5558528.0         1504560.0   \n36       8090880.45   3615710.0         1306471.0   \n37      12451665.77   3587270.0         1405566.0   \n38       8654903.34   1469878.0         1386069.0   \n39       7550083.82   3506602.0         1315453.0   \n40      12587276.90   3595168.0         1450405.0   \n41       8292133.12   1692661.0         1147415.0   \n42       8097708.35   3724896.0         1374363.0   \n43      21595095.19   3804505.0         1397691.0   \n44       7549917.92  10276103.0         1527381.0   \n45       7394221.27   3597257.0         1471887.0   \n46      11839561.68   3393929.0         1578077.0   \n47       8775390.94   3167395.0         1817889.0   \n48       7772932.40   3590259.0         1524025.0   \n49      12583094.75   3601693.0         1284364.0   \n50       8543239.38   1647031.0         1879159.0   \n51       7460068.76   3698844.0         1530054.0   \n52      12743453.53   3738425.0         1477668.0   \n53       8100512.30   1496002.0         1530744.0   \n54       8500244.59   3726361.0         1476902.0   \n55      21596616.92   3879058.0         1524067.0   \n56       7036293.53  10709426.0         1570170.0   \n57       7207474.72   3782792.0         1481036.0   \n58      11964920.42   3838506.0         1613325.0   \n59       8321301.71   1863244.0         1913425.0   \n60       7665705.28   3742723.0         1756987.0   \n61      12949631.67   3844439.0         1728725.0   \n62       8212353.55   1547222.0         1615702.0   \n63       7776538.97   3840345.0         1712504.0   \n64      13167523.61   3968861.0         2776176.0   \n65       7333935.36   1479704.0         2666963.0   \n66       8871187.51   3821723.0         2659461.0   \n67      21355359.49   4081583.0         2743117.0   \n68       6964871.77  11158568.0         2796036.0   \n69       7533384.52   4511615.0         2739085.0   \n70      10990659.87   3846363.0         2418266.0   \n71       6185801.63   1570955.0         2385788.0   \n\n    FullServiceUnemploymentRevenue   HROnline  HRSolutions(PEO)  \\\n0                        1869396.0  3930007.0        21143605.0   \n1                        2341533.0  4535022.0        25838048.0   \n2                        1986835.0  3869725.0        21762760.0   \n3                        1888067.0  3847567.0        20288451.0   \n4                        2491011.0  4967922.0        26755143.0   \n5                        2048831.0  4044570.0        21881382.0   \n6                        2006345.0  4284873.0        21273963.0   \n7                        2606423.0  5095101.0        27128652.0   \n8                        2103998.0  3978493.0        21605352.0   \n9                        2025107.0  4012338.0        20945564.0   \n10                       2667637.0  4955848.0        27295115.0   \n11                       2233549.0  4301134.0        24186465.0   \n12                       2165585.0  4280031.0        22555191.0   \n13                       2841588.0  5318656.0        29515878.0   \n14                       2270658.0  4383791.0        24799210.0   \n15                       2829365.0  5329492.0        29204488.0   \n16                       2294188.0  4383741.0        23828060.0   \n17                       2321013.0  4719545.0        24051976.0   \n18                       2309775.0  4673620.0        23899683.0   \n19                       2921037.0  5528222.0        30116912.0   \n20                       2298743.0  4631870.0        24308988.0   \n21                       2848775.0  5225395.0        29232455.0   \n22                       2365873.0  4637897.0        24882355.0   \n23                       2455227.0  4615750.0        26488522.0   \n24                       3043839.0  5835742.0        28776154.0   \n25                       2478077.0  4813147.0        26185072.0   \n26                       3052610.0  5735998.0        30035570.0   \n27                       2486145.0  4948528.0        27167183.0   \n28                       2490587.0  4939692.0        27363579.0   \n29                       3116351.0  5735168.0        29433640.0   \n30                       2650284.0  5403236.0        28506998.0   \n31                       3026906.0  5850417.0        28092482.0   \n32                       2541705.0  4807506.0        26675554.0   \n33                       2497205.0  4858756.0        29011816.0   \n34                       2554790.0  4820388.0        26735093.0   \n35                       3234268.0  5759886.0        31766046.0   \n36                       2562808.0  4951638.0        29602341.0   \n37                       2746140.0  4854792.0        28780846.0   \n38                       3254680.0  5596199.0        31909214.0   \n39                       2633795.0  4861285.0        28276412.0   \n40                       2550478.0  4626914.0        30108209.0   \n41                       3334452.0  5597947.0        30765934.0   \n42                       2788904.0  5038477.0        29528072.0   \n43                       2966273.0  5275811.0        31680987.0   \n44                       2718772.0  4638695.0        28618018.0   \n45                       2739030.0  4597759.0        29895055.0   \n46                       2772019.0  4503073.0        30165545.0   \n47                       3188570.0  5188822.0        34825303.0   \n48                       2852845.0  4479872.0        31713159.0   \n49                       3036869.0  4603243.0        33864522.0   \n50                       3150125.0  5021066.0        34755868.0   \n51                       2778483.0  4433291.0        31556369.0   \n52                       3253351.0  4991557.0        36181227.0   \n53                       2927537.0  4352584.0        33476924.0   \n54                       3145695.0  4797152.0        34971244.0   \n55                       3100242.0  4836781.0        35699865.0   \n56                       2785185.0  4276077.0        32236638.0   \n57                       2816453.0  4292346.0        32785416.0   \n58                       3070977.0  4321088.0        35581827.0   \n59                       3289160.0  4791506.0        38184809.0   \n60                       3042831.0  4364134.0        35275282.0   \n61                       3458990.0  4806947.0        39841426.0   \n62                       3150888.0  4131461.0        36796619.0   \n63                       3111692.0  4372135.0        36415882.0   \n64                       3451126.0  4737809.0        40166556.0   \n65                       3029484.0  4232255.0        35800258.0   \n66                       3630176.0  4754924.0        41227310.0   \n67                       3137881.0  4531575.0        37106515.0   \n68                       2986560.0  4198950.0        35445714.0   \n69                       3217886.0  4280156.0        38380836.0   \n70                       2907741.0  4083176.0        34706643.0   \n71                       2811866.0  3676731.0        32622114.0   \n\n    HealthBenefits  InterestonFundsHeldforClients  OtherProcessingRevenue  \\\n0        5225672.0                      3308154.0              4765775.19   \n1        5108935.0                      3466375.0              6502729.54   \n2        5380159.0                      3434419.0              4215268.17   \n3        6281392.0                      3419918.0              4726806.24   \n4        6107475.0                      3472038.0              6514037.07   \n5        5589002.0                      3469203.0              4528513.14   \n6        5315219.0                      3550962.0              5170797.88   \n7        5339084.0                      3683535.0              6834385.36   \n8        5420555.0                      3509475.0              4722991.56   \n9        6383528.0                      3645265.0              4772800.16   \n10       6003106.0                      3627835.0              6427057.13   \n11       5618819.0                      3493963.0              4307694.11   \n12       5595162.0                      3481516.0              4736701.70   \n13       5932169.0                      3650796.0              6577931.84   \n14       6390132.0                      3658495.0              4616379.43   \n15       5839095.0                      3654756.0              5818055.29   \n16       5975938.0                      3762906.0              5524834.07   \n17       5741568.0                      3739729.0              4293230.39   \n18       5544911.0                      3936843.0              5374700.31   \n19       5439242.0                      4026400.0              6860248.81   \n20       5662705.0                      3915424.0              4955995.98   \n21       7805115.0                      4070073.0              5744647.37   \n22       6714108.0                      4307390.0              5591679.73   \n23       5942555.0                      3852075.0              4148836.84   \n24       6141295.0                      3944652.0              5518656.67   \n25       6339085.0                      4229635.0              5587227.71   \n26       6804213.0                      3805760.0              5154066.10   \n27       6126624.0                      3578044.0              4730219.38   \n28       6633365.0                      4008273.0              5382393.12   \n29       6138194.0                      3796831.0              4992400.95   \n30       6147835.0                      4439123.0              5381955.32   \n31       6224396.0                      4557677.0              7044526.40   \n32       6378085.0                      4235552.0              5110530.92   \n33       7354509.0                      4638549.0              5221018.65   \n34       7150827.0                      5177184.0              5872457.83   \n35       6673397.0                      4173895.0              4847938.50   \n36       6964534.0                      4470144.0              4408487.60   \n37       6890258.0                      4881440.0              5558938.06   \n38       7235252.0                      4357596.0              4780662.42   \n39       6938667.0                      4644637.0              4599562.18   \n40       7534210.0                      4722507.0              5450023.13   \n41       6818094.0                      4617751.0              4846195.36   \n42       6479451.0                      6502180.0              5132951.13   \n43       6538508.0                      6024323.0              7005602.96   \n44       7232844.0                      5577385.0              5565567.36   \n45       7987229.0                      5994470.0              5477336.78   \n46       8135771.0                      6791075.0              5578602.55   \n47       7488019.0                      4950702.0              4505986.86   \n48       7796701.0                      5633249.0              4789724.95   \n49       7696021.0                      6059461.0              5664616.17   \n50       7654579.0                      5467660.0              5210368.65   \n51       7484079.0                      6002190.0              5215003.37   \n52       7963497.0                      6084714.0              7110908.92   \n53       7359922.0                      6201403.0              4358753.62   \n54       7501730.0                      8257412.0              6154364.49   \n55       7690669.0                      7271303.0              8031289.63   \n56       7880399.0                      7426883.0              6158988.26   \n57       9689790.0                      8190477.0              7380674.75   \n58       8544604.0                      8500112.0              6686248.15   \n59       8454463.0                      5526306.0              5507003.66   \n60       7831620.0                      6690159.0              5120755.91   \n61       8111420.0                      6871711.0              7015568.80   \n62       8170458.0                      6955639.0              4590520.03   \n63       8036181.0                      6660358.0              5212910.15   \n64       8280587.0                      6777291.0              7395806.41   \n65       8351544.0                      6440899.0              4608921.33   \n66       7996643.0                      7566114.0              5947708.56   \n67       8288521.0                      7143172.0              9146405.86   \n68       8454452.0                      6544369.0              6869892.23   \n69      10084370.0                      6320418.0              6026484.33   \n70       8384464.0                      5466256.0              6664268.18   \n71       7565506.0                     13447506.0              3311409.16   \n\n    Payrollblendedproducts  SurePayroll.  Time&Attendance  \\\n0               99633512.0    3246967.02        4651817.0   \n1              121619696.0    3362473.02        5165885.0   \n2               99472483.0    3286111.93        4856677.0   \n3               94198230.0    3345328.53        5098280.0   \n4              124353873.0    3402641.78        5188982.0   \n5               98868618.0    3221738.58        5209888.0   \n6               99281713.0    3627472.60        5266992.0   \n7              124388966.0    3589702.61        5662406.0   \n8               95862151.0    3491857.24        5273882.0   \n9               92298659.0    3460680.80        5265180.0   \n10             121697752.0    3596075.91        5539018.0   \n11             101684796.0    3551331.14        5465141.0   \n12              98488622.0    3676623.32        5437709.0   \n13             128603825.0    3726388.72        5959859.0   \n14             105495604.0    3617244.49        5519553.0   \n15             125580319.0    3732719.85        5922642.0   \n16             100345212.0    3848604.14        5820770.0   \n17             101027390.0    3775794.56        5862850.0   \n18             103140193.0    4254271.79        6467859.0   \n19             125846591.0    3935568.03        6822786.0   \n20              96492494.0    4148934.43        6344828.0   \n21             120343617.0    3675673.88        6786548.0   \n22              98703839.0    3878957.25        6691321.0   \n23             106311407.0    4151100.38        7072702.0   \n24             118434494.0    4281609.68        7387193.0   \n25             104657878.0    4064740.30        7107335.0   \n26             117436063.0    4360951.80        7513213.0   \n27             110000558.0    4253492.27        7233654.0   \n28             105928516.0    4484285.19        7730802.0   \n29             113829464.0    4580347.34        8059296.0   \n30             117493864.0    4694198.11        7681051.0   \n31             106635184.0    4688990.88        8322899.0   \n32              98803491.0    4729386.02        7390077.0   \n33             111544069.0    4729940.39        7648072.0   \n34              99478187.0    4623969.67        7590436.0   \n35             118429597.0    4689908.16        8530134.0   \n36             115286408.0    4594469.05        8029412.0   \n37             108148242.0    4323014.65        8024940.0   \n38             120254168.0    4606829.21        8619134.0   \n39             104705146.0    4560080.94        7945770.0   \n40             110931972.0    4503698.65        8112067.0   \n41             115430932.0    4825709.08        8941065.0   \n42             113194342.0    8442951.17        8572655.0   \n43             110248167.0    4787634.91        9128984.0   \n44              98798038.0    4930779.33        8325777.0   \n45             106248694.0    4906764.07        8511330.0   \n46             103554646.0    4465952.01        8665389.0   \n47             119149029.0    4633768.82        9572679.0   \n48             107365918.0    4943145.47        8612041.0   \n49             113740156.0    4919537.25        8999964.0   \n50             116505720.0    5136136.05        9589296.0   \n51             102622473.0    5004991.73        8895074.0   \n52             115762795.0    5304753.98        9808982.0   \n53             110179873.0    5299378.61        9148466.0   \n54             117538398.0    9195105.13        9610684.0   \n55             110354647.0    5395374.33        9900856.0   \n56              98377675.0    5280598.89        9248176.0   \n57              99958270.0    5257329.44        9225099.0   \n58             108700563.0    5419585.98        9402075.0   \n59             115331665.0    5483869.43       10375039.0   \n60             106731158.0    5407599.32        9834595.0   \n61             119190721.0    5793080.04       10666783.0   \n62             113364359.0    5772912.09       10106647.0   \n63             108305027.0    5690589.48        9969504.0   \n64             119068432.0    6085073.35       10854283.0   \n65             105060481.0    6032851.03       10213195.0   \n66             128667631.0   10379934.04       10959054.0   \n67             106043776.0    6743500.21       10911500.0   \n68              99644382.0    6054285.13       10187849.0   \n69             107287296.0    6087112.38       10424181.0   \n70              92673007.0    5827460.74        9986738.0   \n71              90949332.0    6027283.54        9598261.0   \n\n    TotalPaychexAdvance  Totalinternational   W-2Revenue  \\\n0                   0.0                 0.0   7031234.09   \n1                   0.0                 0.0   7325377.82   \n2                   0.0                 0.0   7443620.46   \n3                   0.0                 0.0   7414842.11   \n4                   0.0                 0.0   7818212.35   \n5                   0.0                 0.0   7542659.46   \n6                   0.0                 0.0   8117392.17   \n7                   0.0                 0.0   9377834.84   \n8                   0.0                 0.0   7226134.53   \n9                   0.0                 0.0   6909620.47   \n10                  0.0                 0.0   7301671.08   \n11                  0.0                 0.0   7260382.11   \n12                  0.0                 0.0   7394189.03   \n13                  0.0                 0.0   7847795.04   \n14                  0.0                 0.0   7932837.15   \n15                  0.0                 0.0   7936344.08   \n16                  0.0                 0.0   8278406.81   \n17                  0.0                 0.0   7554776.85   \n18                  0.0                 0.0   8573805.72   \n19            4801565.0                 0.0   7593788.48   \n20            2948516.0                 0.0   7305483.96   \n21            3251179.0                 0.0   7231568.92   \n22            3354726.0                 0.0   7382402.54   \n23            3387572.0                 0.0   6983682.41   \n24            3419589.0                 0.0   7939119.37   \n25            3500091.0                 0.0   7866814.61   \n26            3624710.0                 0.0   8052852.46   \n27            3606031.0                 0.0   7498421.18   \n28            3781187.0                 0.0   8531642.37   \n29            3599570.0                 0.0   8540560.78   \n30            3937490.0                 0.0   7987958.95   \n31            3887405.0                 0.0  10169659.06   \n32            3536858.0                 0.0   6785179.52   \n33            4923698.0                 0.0   7927264.97   \n34            3833670.0                 0.0   7537154.75   \n35            3874504.0                 0.0   6175856.06   \n36            3950935.0                 0.0   8800397.84   \n37            4046519.0                 0.0   7887136.61   \n38            4222943.0                 0.0   7602343.41   \n39            3930089.0                 0.0   7277217.55   \n40            4079759.0                 0.0   8126909.97   \n41            3985082.0                 0.0   8449869.35   \n42            4331734.0                 0.0   7915751.12   \n43            4512203.0                 0.0  13178457.56   \n44            3726627.0                 0.0   7194287.27   \n45            4041121.0                 0.0   7567950.55   \n46            3972334.0                 0.0   7695015.35   \n47            4074639.0                 0.0   8621115.07   \n48            4021019.0                79.0    254225.27   \n49            4011756.0                91.0    305124.49   \n50            4227012.0              -170.0    342622.30   \n51            4169955.0                 0.0    276560.90   \n52            4501902.0                 0.0    180092.57   \n53            4281585.0                 0.0    517750.99   \n54            4291803.0                 0.0    633412.69   \n55            4554791.0                 0.0  91805550.59   \n56            3936378.0                 0.0   -183758.43   \n57            4330769.0                 0.0    141277.90   \n58            4369637.0                 0.0    157985.54   \n59            4039496.0                 0.0    300405.13   \n60            4438541.0                 0.0    255174.15   \n61            4471539.0                 0.0    359903.73   \n62            4806964.0                 0.0    236475.53   \n63            4752068.0                 0.0    302200.63   \n64            4948327.0                 0.0    426395.09   \n65            4926307.0                 0.0    294299.84   \n66            5087037.0                 0.0    422089.81   \n67            5221134.0                 0.0  89119517.59   \n68            4436688.0                 0.0    -55689.50   \n69            4652809.0                 0.0     16995.28   \n70            3790876.0                 0.0    180969.05   \n71            3752301.0                 0.0    135876.35   \n\n    WorkersComp-PaymentSe  Series  Year Month  TotalRevenue  \n0               4858397.0       1  2014    06  1.936779e+08  \n1               5244318.0       2  2014    07  2.328363e+08  \n2               5588578.0       3  2014    08  1.956351e+08  \n3               4968759.0       4  2014    09  1.911275e+08  \n4               5752070.0       5  2014    10  2.430453e+08  \n5               4890557.0       6  2014    11  1.964791e+08  \n6               5773054.0       7  2014    12  2.034512e+08  \n7               5384244.0       8  2015    01  2.513096e+08  \n8               4903952.0       9  2015    02  1.946970e+08  \n9               5445220.0      10  2015    03  1.907431e+08  \n10              5406164.0      11  2015    04  2.414718e+08  \n11              5941847.0      12  2015    05  2.062166e+08  \n12              5661780.0      13  2015    06  1.996519e+08  \n13              6500617.0      14  2015    07  2.534620e+08  \n14              5667703.0      15  2015    08  2.122381e+08  \n15              5757635.0      16  2015    09  2.454231e+08  \n16              6380015.0      17  2015    10  2.136615e+08  \n17              5567680.0      18  2015    11  2.048358e+08  \n18              6751751.0      19  2015    12  2.154737e+08  \n19              5376286.0      20  2016    01  2.640250e+08  \n20              5595994.0      21  2016    02  2.046379e+08  \n21              5826554.0      22  2016    03  2.451345e+08  \n22              6225168.0      23  2016    04  2.196554e+08  \n23              6016815.0      24  2016    05  2.220010e+08  \n24              6372906.0      25  2016    06  2.434837e+08  \n25              6372853.0      26  2016    07  2.290201e+08  \n26              6268616.0      27  2016    08  2.472474e+08  \n27              6603467.0      28  2016    09  2.305433e+08  \n28              6003438.0      29  2016    10  2.343439e+08  \n29              6077264.0      30  2016    11  2.402093e+08  \n30              7316407.0      31  2016    12  2.453099e+08  \n31              5858684.0      32  2017    01  2.504192e+08  \n32              6151520.0      33  2017    02  2.246110e+08  \n33             11604426.0      34  2017    03  2.454963e+08  \n34              5944776.0      35  2017    04  2.283309e+08  \n35              6873131.0      36  2017    05  2.528914e+08  \n36              9038790.0      37  2017    06  2.472501e+08  \n37              6383062.0      38  2017    07  2.416804e+08  \n38              7086460.0      39  2017    08  2.531594e+08  \n39              8706659.0      40  2017    09  2.337754e+08  \n40              6543185.0      41  2017    10  2.475397e+08  \n41              6824937.0      42  2017    11  2.478417e+08  \n42              9668673.0      43  2017    12  2.531963e+08  \n43              6444463.0      44  2018    01  2.684564e+08  \n44              6289482.0      45  2018    02  2.343544e+08  \n45             14092455.0      46  2018    03  2.476388e+08  \n46              6593324.0      47  2018    04  2.424593e+08  \n47              7079142.0      48  2018    05  2.613239e+08  \n48              8881032.0      49  2018    06  2.381914e+08  \n49              6747185.0      50  2018    07  2.519008e+08  \n50              7885942.0      51  2018    08  2.523761e+08  \n51              7838690.0      52  2018    09  2.357731e+08  \n52              6850804.0      53  2018    10  2.620279e+08  \n53              7000936.0      54  2018    11  2.406894e+08  \n54              8199059.0      55  2018    12  2.633218e+08  \n55              9242253.0      56  2019    01  3.607701e+08  \n56              5912592.0      57  2019    02  2.371394e+08  \n57              8523892.0      58  2019    03  2.404651e+08  \n58              6261911.0      59  2019    04  2.551172e+08  \n59              7164720.0      60  2019    05  2.587121e+08  \n60              7808127.0      61  2019    06  2.465628e+08  \n61              6357609.0      62  2019    07  2.748029e+08  \n62              7726193.0      63  2019    08  2.549220e+08  \n63              7516524.0      64  2019    09  2.543085e+08  \n64              6655824.0      65  2019    10  2.779682e+08  \n65              7486937.0      66  2019    11  2.462341e+08  \n66              7656013.0      67  2019    12  2.898043e+08  \n67              6525521.0      68  2020    01  3.614082e+08  \n68              8971822.0      69  2020    02  2.534693e+08  \n69              7782071.0      70  2020    03  2.583371e+08  \n70              4543151.0      71  2020    04  2.327692e+08  \n71              6847014.0      72  2020    05  2.281534e+08  ",
      "text/html": "<div>\n<style scoped>\n    .dataframe tbody tr th:only-of-type {\n        vertical-align: middle;\n    }\n\n    .dataframe tbody tr th {\n        vertical-align: top;\n    }\n\n    .dataframe thead th {\n        text-align: right;\n    }\n</style>\n<table border=\"1\" class=\"dataframe\">\n  <thead>\n    <tr style=\"text-align: right;\">\n      <th></th>\n      <th>CalendarDate</th>\n      <th>Scenario</th>\n      <th>401KAssetfee&amp;BPRevenue</th>\n      <th>401KFeeRevenue</th>\n      <th>ASOAllocation</th>\n      <th>ASORevenue-Oasis</th>\n      <th>Benetrac</th>\n      <th>CafeteriaPlansRevenue</th>\n      <th>DeliveryRevenue</th>\n      <th>ESRRevenue</th>\n      <th>EmergingProducts</th>\n      <th>FullServiceUnemploymentRevenue</th>\n      <th>HROnline</th>\n      <th>HRSolutions(PEO)</th>\n      <th>HealthBenefits</th>\n      <th>InterestonFundsHeldforClients</th>\n      <th>OtherProcessingRevenue</th>\n      <th>Payrollblendedproducts</th>\n      <th>SurePayroll.</th>\n      <th>Time&amp;Attendance</th>\n      <th>TotalPaychexAdvance</th>\n      <th>Totalinternational</th>\n      <th>W-2Revenue</th>\n      <th>WorkersComp-PaymentSe</th>\n      <th>Series</th>\n      <th>Year</th>\n      <th>Month</th>\n      <th>TotalRevenue</th>\n    </tr>\n  </thead>\n  <tbody>\n    <tr>\n      <th>0</th>\n      <td>2014-06-01</td>\n      <td>Actual</td>\n      <td>4261452.0</td>\n      <td>10621963.0</td>\n      <td>7255027.55</td>\n      <td>0.00</td>\n      <td>1922941.0</td>\n      <td>1714950.0</td>\n      <td>7393351.97</td>\n      <td>47602.0</td>\n      <td>796063.0</td>\n      <td>1869396.0</td>\n      <td>3930007.0</td>\n      <td>21143605.0</td>\n      <td>5225672.0</td>\n      <td>3308154.0</td>\n      <td>4765775.19</td>\n      <td>99633512.0</td>\n      <td>3246967.02</td>\n      <td>4651817.0</td>\n      <td>0.0</td>\n      <td>0.0</td>\n      <td>7031234.09</td>\n      <td>4858397.0</td>\n      <td>1</td>\n      <td>2014</td>\n      <td>06</td>\n      <td>1.936779e+08</td>\n    </tr>\n    <tr>\n      <th>1</th>\n      <td>2014-07-01</td>\n      <td>Actual</td>\n      <td>4513388.0</td>\n      <td>10558382.0</td>\n      <td>9070820.80</td>\n      <td>0.00</td>\n      <td>1916579.0</td>\n      <td>1698495.0</td>\n      <td>13513741.18</td>\n      <td>67521.0</td>\n      <td>986955.0</td>\n      <td>2341533.0</td>\n      <td>4535022.0</td>\n      <td>25838048.0</td>\n      <td>5108935.0</td>\n      <td>3466375.0</td>\n      <td>6502729.54</td>\n      <td>121619696.0</td>\n      <td>3362473.02</td>\n      <td>5165885.0</td>\n      <td>0.0</td>\n      <td>0.0</td>\n      <td>7325377.82</td>\n      <td>5244318.0</td>\n      <td>2</td>\n      <td>2014</td>\n      <td>07</td>\n      <td>2.328363e+08</td>\n    </tr>\n    <tr>\n      <th>2</th>\n      <td>2014-08-01</td>\n      <td>Actual</td>\n      <td>4486436.0</td>\n      <td>10297495.0</td>\n      <td>7489159.50</td>\n      <td>0.00</td>\n      <td>1944830.0</td>\n      <td>1829118.0</td>\n      <td>7286966.62</td>\n      <td>79771.0</td>\n      <td>924689.0</td>\n      <td>1986835.0</td>\n      <td>3869725.0</td>\n      <td>21762760.0</td>\n      <td>5380159.0</td>\n      <td>3434419.0</td>\n      <td>4215268.17</td>\n      <td>99472483.0</td>\n      <td>3286111.93</td>\n      <td>4856677.0</td>\n      <td>0.0</td>\n      <td>0.0</td>\n      <td>7443620.46</td>\n      <td>5588578.0</td>\n      <td>3</td>\n      <td>2014</td>\n      <td>08</td>\n      <td>1.956351e+08</td>\n    </tr>\n    <tr>\n      <th>3</th>\n      <td>2014-09-01</td>\n      <td>Actual</td>\n      <td>4355891.0</td>\n      <td>12719409.0</td>\n      <td>7011292.24</td>\n      <td>0.00</td>\n      <td>1933042.0</td>\n      <td>1710602.0</td>\n      <td>7081861.96</td>\n      <td>105330.0</td>\n      <td>732444.0</td>\n      <td>1888067.0</td>\n      <td>3847567.0</td>\n      <td>20288451.0</td>\n      <td>6281392.0</td>\n      <td>3419918.0</td>\n      <td>4726806.24</td>\n      <td>94198230.0</td>\n      <td>3345328.53</td>\n      <td>5098280.0</td>\n      <td>0.0</td>\n      <td>0.0</td>\n      <td>7414842.11</td>\n      <td>4968759.0</td>\n      <td>4</td>\n      <td>2014</td>\n      <td>09</td>\n      <td>1.911275e+08</td>\n    </tr>\n    <tr>\n      <th>4</th>\n      <td>2014-10-01</td>\n      <td>Actual</td>\n      <td>4455231.0</td>\n      <td>13797724.0</td>\n      <td>9372927.59</td>\n      <td>0.00</td>\n      <td>1956820.0</td>\n      <td>1702224.0</td>\n      <td>13741077.44</td>\n      <td>143956.0</td>\n      <td>1051920.0</td>\n      <td>2491011.0</td>\n      <td>4967922.0</td>\n      <td>26755143.0</td>\n      <td>6107475.0</td>\n      <td>3472038.0</td>\n      <td>6514037.07</td>\n      <td>124353873.0</td>\n      <td>3402641.78</td>\n      <td>5188982.0</td>\n      <td>0.0</td>\n      <td>0.0</td>\n      <td>7818212.35</td>\n      <td>5752070.0</td>\n      <td>5</td>\n      <td>2014</td>\n      <td>10</td>\n      <td>2.430453e+08</td>\n    </tr>\n    <tr>\n      <th>5</th>\n      <td>2014-11-01</td>\n      <td>Actual</td>\n      <td>4466548.0</td>\n      <td>11049609.0</td>\n      <td>7492286.01</td>\n      <td>0.00</td>\n      <td>1987727.0</td>\n      <td>1784045.0</td>\n      <td>7259539.93</td>\n      <td>178933.0</td>\n      <td>965427.0</td>\n      <td>2048831.0</td>\n      <td>4044570.0</td>\n      <td>21881382.0</td>\n      <td>5589002.0</td>\n      <td>3469203.0</td>\n      <td>4528513.14</td>\n      <td>98868618.0</td>\n      <td>3221738.58</td>\n      <td>5209888.0</td>\n      <td>0.0</td>\n      <td>0.0</td>\n      <td>7542659.46</td>\n      <td>4890557.0</td>\n      <td>6</td>\n      <td>2014</td>\n      <td>11</td>\n      <td>1.964791e+08</td>\n    </tr>\n    <tr>\n      <th>6</th>\n      <td>2014-12-01</td>\n      <td>Actual</td>\n      <td>4309643.0</td>\n      <td>15706255.0</td>\n      <td>7355083.53</td>\n      <td>0.00</td>\n      <td>2022314.0</td>\n      <td>1741201.0</td>\n      <td>7559482.15</td>\n      <td>235468.0</td>\n      <td>852949.0</td>\n      <td>2006345.0</td>\n      <td>4284873.0</td>\n      <td>21273963.0</td>\n      <td>5315219.0</td>\n      <td>3550962.0</td>\n      <td>5170797.88</td>\n      <td>99281713.0</td>\n      <td>3627472.60</td>\n      <td>5266992.0</td>\n      <td>0.0</td>\n      <td>0.0</td>\n      <td>8117392.17</td>\n      <td>5773054.0</td>\n      <td>7</td>\n      <td>2014</td>\n      <td>12</td>\n      <td>2.034512e+08</td>\n    </tr>\n    <tr>\n      <th>7</th>\n      <td>2015-01-01</td>\n      <td>Actual</td>\n      <td>4855051.0</td>\n      <td>12860281.0</td>\n      <td>9431085.71</td>\n      <td>0.00</td>\n      <td>1986486.0</td>\n      <td>1714890.0</td>\n      <td>19855110.85</td>\n      <td>607646.0</td>\n      <td>908730.0</td>\n      <td>2606423.0</td>\n      <td>5095101.0</td>\n      <td>27128652.0</td>\n      <td>5339084.0</td>\n      <td>3683535.0</td>\n      <td>6834385.36</td>\n      <td>124388966.0</td>\n      <td>3589702.61</td>\n      <td>5662406.0</td>\n      <td>0.0</td>\n      <td>0.0</td>\n      <td>9377834.84</td>\n      <td>5384244.0</td>\n      <td>8</td>\n      <td>2015</td>\n      <td>01</td>\n      <td>2.513096e+08</td>\n    </tr>\n    <tr>\n      <th>8</th>\n      <td>2015-02-01</td>\n      <td>Actual</td>\n      <td>4218929.0</td>\n      <td>12618365.0</td>\n      <td>7525036.15</td>\n      <td>0.00</td>\n      <td>1898082.0</td>\n      <td>1821176.0</td>\n      <td>7116009.19</td>\n      <td>454163.0</td>\n      <td>946365.0</td>\n      <td>2103998.0</td>\n      <td>3978493.0</td>\n      <td>21605352.0</td>\n      <td>5420555.0</td>\n      <td>3509475.0</td>\n      <td>4722991.56</td>\n      <td>95862151.0</td>\n      <td>3491857.24</td>\n      <td>5273882.0</td>\n      <td>0.0</td>\n      <td>0.0</td>\n      <td>7226134.53</td>\n      <td>4903952.0</td>\n      <td>9</td>\n      <td>2015</td>\n      <td>02</td>\n      <td>1.946970e+08</td>\n    </tr>\n    <tr>\n      <th>9</th>\n      <td>2015-03-01</td>\n      <td>Actual</td>\n      <td>4608872.0</td>\n      <td>11388694.0</td>\n      <td>7170010.02</td>\n      <td>0.00</td>\n      <td>1921510.0</td>\n      <td>1715383.0</td>\n      <td>6970218.27</td>\n      <td>905763.0</td>\n      <td>898680.0</td>\n      <td>2025107.0</td>\n      <td>4012338.0</td>\n      <td>20945564.0</td>\n      <td>6383528.0</td>\n      <td>3645265.0</td>\n      <td>4772800.16</td>\n      <td>92298659.0</td>\n      <td>3460680.80</td>\n      <td>5265180.0</td>\n      <td>0.0</td>\n      <td>0.0</td>\n      <td>6909620.47</td>\n      <td>5445220.0</td>\n      <td>10</td>\n      <td>2015</td>\n      <td>03</td>\n      <td>1.907431e+08</td>\n    </tr>\n    <tr>\n      <th>10</th>\n      <td>2015-04-01</td>\n      <td>Actual</td>\n      <td>4491381.0</td>\n      <td>13310635.0</td>\n      <td>9507435.52</td>\n      <td>0.00</td>\n      <td>2067628.0</td>\n      <td>1668601.0</td>\n      <td>13534160.18</td>\n      <td>1263887.0</td>\n      <td>1110786.0</td>\n      <td>2667637.0</td>\n      <td>4955848.0</td>\n      <td>27295115.0</td>\n      <td>6003106.0</td>\n      <td>3627835.0</td>\n      <td>6427057.13</td>\n      <td>121697752.0</td>\n      <td>3596075.91</td>\n      <td>5539018.0</td>\n      <td>0.0</td>\n      <td>0.0</td>\n      <td>7301671.08</td>\n      <td>5406164.0</td>\n      <td>11</td>\n      <td>2015</td>\n      <td>04</td>\n      <td>2.414718e+08</td>\n    </tr>\n    <tr>\n      <th>11</th>\n      <td>2015-05-01</td>\n      <td>Actual</td>\n      <td>4845898.0</td>\n      <td>12075053.0</td>\n      <td>8008417.76</td>\n      <td>0.00</td>\n      <td>2024352.0</td>\n      <td>1831128.0</td>\n      <td>7376023.95</td>\n      <td>976059.0</td>\n      <td>1034569.0</td>\n      <td>2233549.0</td>\n      <td>4301134.0</td>\n      <td>24186465.0</td>\n      <td>5618819.0</td>\n      <td>3493963.0</td>\n      <td>4307694.11</td>\n      <td>101684796.0</td>\n      <td>3551331.14</td>\n      <td>5465141.0</td>\n      <td>0.0</td>\n      <td>0.0</td>\n      <td>7260382.11</td>\n      <td>5941847.0</td>\n      <td>12</td>\n      <td>2015</td>\n      <td>05</td>\n      <td>2.062166e+08</td>\n    </tr>\n    <tr>\n      <th>12</th>\n      <td>2015-06-01</td>\n      <td>Actual</td>\n      <td>4676384.0</td>\n      <td>10448029.0</td>\n      <td>7723631.47</td>\n      <td>0.00</td>\n      <td>2037719.0</td>\n      <td>1674128.0</td>\n      <td>7329981.91</td>\n      <td>1347270.0</td>\n      <td>941623.0</td>\n      <td>2165585.0</td>\n      <td>4280031.0</td>\n      <td>22555191.0</td>\n      <td>5595162.0</td>\n      <td>3481516.0</td>\n      <td>4736701.70</td>\n      <td>98488622.0</td>\n      <td>3676623.32</td>\n      <td>5437709.0</td>\n      <td>0.0</td>\n      <td>0.0</td>\n      <td>7394189.03</td>\n      <td>5661780.0</td>\n      <td>13</td>\n      <td>2015</td>\n      <td>06</td>\n      <td>1.996519e+08</td>\n    </tr>\n    <tr>\n      <th>13</th>\n      <td>2015-07-01</td>\n      <td>Actual</td>\n      <td>4844667.0</td>\n      <td>11215568.0</td>\n      <td>10276187.11</td>\n      <td>0.00</td>\n      <td>2073561.0</td>\n      <td>1666719.0</td>\n      <td>13948654.17</td>\n      <td>1804485.0</td>\n      <td>1156683.0</td>\n      <td>2841588.0</td>\n      <td>5318656.0</td>\n      <td>29515878.0</td>\n      <td>5932169.0</td>\n      <td>3650796.0</td>\n      <td>6577931.84</td>\n      <td>128603825.0</td>\n      <td>3726388.72</td>\n      <td>5959859.0</td>\n      <td>0.0</td>\n      <td>0.0</td>\n      <td>7847795.04</td>\n      <td>6500617.0</td>\n      <td>14</td>\n      <td>2015</td>\n      <td>07</td>\n      <td>2.534620e+08</td>\n    </tr>\n    <tr>\n      <th>14</th>\n      <td>2015-08-01</td>\n      <td>Actual</td>\n      <td>4651703.0</td>\n      <td>10764213.0</td>\n      <td>8516393.85</td>\n      <td>0.00</td>\n      <td>2024591.0</td>\n      <td>1660469.0</td>\n      <td>7676302.90</td>\n      <td>1508526.0</td>\n      <td>1084301.0</td>\n      <td>2270658.0</td>\n      <td>4383791.0</td>\n      <td>24799210.0</td>\n      <td>6390132.0</td>\n      <td>3658495.0</td>\n      <td>4616379.43</td>\n      <td>105495604.0</td>\n      <td>3617244.49</td>\n      <td>5519553.0</td>\n      <td>0.0</td>\n      <td>0.0</td>\n      <td>7932837.15</td>\n      <td>5667703.0</td>\n      <td>15</td>\n      <td>2015</td>\n      <td>08</td>\n      <td>2.122381e+08</td>\n    </tr>\n    <tr>\n      <th>15</th>\n      <td>2015-09-01</td>\n      <td>Actual</td>\n      <td>5014236.0</td>\n      <td>11672780.0</td>\n      <td>10159009.60</td>\n      <td>0.00</td>\n      <td>2040610.0</td>\n      <td>1681189.0</td>\n      <td>9392633.06</td>\n      <td>2833960.0</td>\n      <td>1023739.0</td>\n      <td>2829365.0</td>\n      <td>5329492.0</td>\n      <td>29204488.0</td>\n      <td>5839095.0</td>\n      <td>3654756.0</td>\n      <td>5818055.29</td>\n      <td>125580319.0</td>\n      <td>3732719.85</td>\n      <td>5922642.0</td>\n      <td>0.0</td>\n      <td>0.0</td>\n      <td>7936344.08</td>\n      <td>5757635.0</td>\n      <td>16</td>\n      <td>2015</td>\n      <td>09</td>\n      <td>2.454231e+08</td>\n    </tr>\n    <tr>\n      <th>16</th>\n      <td>2015-10-01</td>\n      <td>Actual</td>\n      <td>4576227.0</td>\n      <td>10748772.0</td>\n      <td>8158477.14</td>\n      <td>0.00</td>\n      <td>2019277.0</td>\n      <td>1703146.0</td>\n      <td>11805467.44</td>\n      <td>3160806.0</td>\n      <td>1046697.0</td>\n      <td>2294188.0</td>\n      <td>4383741.0</td>\n      <td>23828060.0</td>\n      <td>5975938.0</td>\n      <td>3762906.0</td>\n      <td>5524834.07</td>\n      <td>100345212.0</td>\n      <td>3848604.14</td>\n      <td>5820770.0</td>\n      <td>0.0</td>\n      <td>0.0</td>\n      <td>8278406.81</td>\n      <td>6380015.0</td>\n      <td>17</td>\n      <td>2015</td>\n      <td>10</td>\n      <td>2.136615e+08</td>\n    </tr>\n    <tr>\n      <th>17</th>\n      <td>2015-11-01</td>\n      <td>Actual</td>\n      <td>4553787.0</td>\n      <td>10928538.0</td>\n      <td>8188933.40</td>\n      <td>0.00</td>\n      <td>2111021.0</td>\n      <td>1684985.0</td>\n      <td>7312139.25</td>\n      <td>333144.0</td>\n      <td>1067704.0</td>\n      <td>2321013.0</td>\n      <td>4719545.0</td>\n      <td>24051976.0</td>\n      <td>5741568.0</td>\n      <td>3739729.0</td>\n      <td>4293230.39</td>\n      <td>101027390.0</td>\n      <td>3775794.56</td>\n      <td>5862850.0</td>\n      <td>0.0</td>\n      <td>0.0</td>\n      <td>7554776.85</td>\n      <td>5567680.0</td>\n      <td>18</td>\n      <td>2015</td>\n      <td>11</td>\n      <td>2.048358e+08</td>\n    </tr>\n    <tr>\n      <th>18</th>\n      <td>2015-12-01</td>\n      <td>Actual</td>\n      <td>4691642.0</td>\n      <td>11683440.0</td>\n      <td>8206804.86</td>\n      <td>0.00</td>\n      <td>2089243.0</td>\n      <td>1891310.0</td>\n      <td>7664934.35</td>\n      <td>3341381.0</td>\n      <td>977559.0</td>\n      <td>2309775.0</td>\n      <td>4673620.0</td>\n      <td>23899683.0</td>\n      <td>5544911.0</td>\n      <td>3936843.0</td>\n      <td>5374700.31</td>\n      <td>103140193.0</td>\n      <td>4254271.79</td>\n      <td>6467859.0</td>\n      <td>0.0</td>\n      <td>0.0</td>\n      <td>8573805.72</td>\n      <td>6751751.0</td>\n      <td>19</td>\n      <td>2015</td>\n      <td>12</td>\n      <td>2.154737e+08</td>\n    </tr>\n    <tr>\n      <th>19</th>\n      <td>2016-01-01</td>\n      <td>Actual</td>\n      <td>4700496.0</td>\n      <td>11247301.0</td>\n      <td>10361488.50</td>\n      <td>0.00</td>\n      <td>2076298.0</td>\n      <td>1748544.0</td>\n      <td>20102082.91</td>\n      <td>3499744.0</td>\n      <td>1020379.0</td>\n      <td>2921037.0</td>\n      <td>5528222.0</td>\n      <td>30116912.0</td>\n      <td>5439242.0</td>\n      <td>4026400.0</td>\n      <td>6860248.81</td>\n      <td>125846591.0</td>\n      <td>3935568.03</td>\n      <td>6822786.0</td>\n      <td>4801565.0</td>\n      <td>0.0</td>\n      <td>7593788.48</td>\n      <td>5376286.0</td>\n      <td>20</td>\n      <td>2016</td>\n      <td>01</td>\n      <td>2.640250e+08</td>\n    </tr>\n    <tr>\n      <th>20</th>\n      <td>2016-02-01</td>\n      <td>Actual</td>\n      <td>4803238.0</td>\n      <td>11018323.0</td>\n      <td>8186976.43</td>\n      <td>0.00</td>\n      <td>2033634.0</td>\n      <td>1818573.0</td>\n      <td>7220867.85</td>\n      <td>-121649.0</td>\n      <td>1067919.0</td>\n      <td>2298743.0</td>\n      <td>4631870.0</td>\n      <td>24308988.0</td>\n      <td>5662705.0</td>\n      <td>3915424.0</td>\n      <td>4955995.98</td>\n      <td>96492494.0</td>\n      <td>4148934.43</td>\n      <td>6344828.0</td>\n      <td>2948516.0</td>\n      <td>0.0</td>\n      <td>7305483.96</td>\n      <td>5595994.0</td>\n      <td>21</td>\n      <td>2016</td>\n      <td>02</td>\n      <td>2.046379e+08</td>\n    </tr>\n    <tr>\n      <th>21</th>\n      <td>2016-03-01</td>\n      <td>Actual</td>\n      <td>4680711.0</td>\n      <td>11351506.0</td>\n      <td>10026221.23</td>\n      <td>0.00</td>\n      <td>1926566.0</td>\n      <td>1625934.0</td>\n      <td>9057909.30</td>\n      <td>3310680.0</td>\n      <td>1113392.0</td>\n      <td>2848775.0</td>\n      <td>5225395.0</td>\n      <td>29232455.0</td>\n      <td>7805115.0</td>\n      <td>4070073.0</td>\n      <td>5744647.37</td>\n      <td>120343617.0</td>\n      <td>3675673.88</td>\n      <td>6786548.0</td>\n      <td>3251179.0</td>\n      <td>0.0</td>\n      <td>7231568.92</td>\n      <td>5826554.0</td>\n      <td>22</td>\n      <td>2016</td>\n      <td>03</td>\n      <td>2.451345e+08</td>\n    </tr>\n    <tr>\n      <th>22</th>\n      <td>2016-04-01</td>\n      <td>Actual</td>\n      <td>5230642.0</td>\n      <td>11399895.0</td>\n      <td>8411614.62</td>\n      <td>0.00</td>\n      <td>2018184.0</td>\n      <td>1721138.0</td>\n      <td>11833933.99</td>\n      <td>3167425.0</td>\n      <td>1136826.0</td>\n      <td>2365873.0</td>\n      <td>4637897.0</td>\n      <td>24882355.0</td>\n      <td>6714108.0</td>\n      <td>4307390.0</td>\n      <td>5591679.73</td>\n      <td>98703839.0</td>\n      <td>3878957.25</td>\n      <td>6691321.0</td>\n      <td>3354726.0</td>\n      <td>0.0</td>\n      <td>7382402.54</td>\n      <td>6225168.0</td>\n      <td>23</td>\n      <td>2016</td>\n      <td>04</td>\n      <td>2.196554e+08</td>\n    </tr>\n    <tr>\n      <th>23</th>\n      <td>2016-05-01</td>\n      <td>Actual</td>\n      <td>5317887.0</td>\n      <td>10961247.0</td>\n      <td>8999346.70</td>\n      <td>0.00</td>\n      <td>1951107.0</td>\n      <td>1707584.0</td>\n      <td>7669234.87</td>\n      <td>2824047.0</td>\n      <td>1144307.0</td>\n      <td>2455227.0</td>\n      <td>4615750.0</td>\n      <td>26488522.0</td>\n      <td>5942555.0</td>\n      <td>3852075.0</td>\n      <td>4148836.84</td>\n      <td>106311407.0</td>\n      <td>4151100.38</td>\n      <td>7072702.0</td>\n      <td>3387572.0</td>\n      <td>0.0</td>\n      <td>6983682.41</td>\n      <td>6016815.0</td>\n      <td>24</td>\n      <td>2016</td>\n      <td>05</td>\n      <td>2.220010e+08</td>\n    </tr>\n    <tr>\n      <th>24</th>\n      <td>2016-06-01</td>\n      <td>Actual</td>\n      <td>4933124.0</td>\n      <td>11371867.0</td>\n      <td>9885278.67</td>\n      <td>0.00</td>\n      <td>1052127.0</td>\n      <td>1701697.0</td>\n      <td>8060818.28</td>\n      <td>4151030.0</td>\n      <td>1232488.0</td>\n      <td>3043839.0</td>\n      <td>5835742.0</td>\n      <td>28776154.0</td>\n      <td>6141295.0</td>\n      <td>3944652.0</td>\n      <td>5518656.67</td>\n      <td>118434494.0</td>\n      <td>4281609.68</td>\n      <td>7387193.0</td>\n      <td>3419589.0</td>\n      <td>0.0</td>\n      <td>7939119.37</td>\n      <td>6372906.0</td>\n      <td>25</td>\n      <td>2016</td>\n      <td>06</td>\n      <td>2.434837e+08</td>\n    </tr>\n    <tr>\n      <th>25</th>\n      <td>2016-07-01</td>\n      <td>Actual</td>\n      <td>5066287.0</td>\n      <td>11517341.0</td>\n      <td>8882785.62</td>\n      <td>0.00</td>\n      <td>1060372.0</td>\n      <td>1709266.0</td>\n      <td>12103471.88</td>\n      <td>4231057.0</td>\n      <td>1247530.0</td>\n      <td>2478077.0</td>\n      <td>4813147.0</td>\n      <td>26185072.0</td>\n      <td>6339085.0</td>\n      <td>4229635.0</td>\n      <td>5587227.71</td>\n      <td>104657878.0</td>\n      <td>4064740.30</td>\n      <td>7107335.0</td>\n      <td>3500091.0</td>\n      <td>0.0</td>\n      <td>7866814.61</td>\n      <td>6372853.0</td>\n      <td>26</td>\n      <td>2016</td>\n      <td>07</td>\n      <td>2.290201e+08</td>\n    </tr>\n    <tr>\n      <th>26</th>\n      <td>2016-08-01</td>\n      <td>Actual</td>\n      <td>5338095.0</td>\n      <td>11673595.0</td>\n      <td>10356048.31</td>\n      <td>0.00</td>\n      <td>1066616.0</td>\n      <td>1683728.0</td>\n      <td>9148988.99</td>\n      <td>5033397.0</td>\n      <td>1102284.0</td>\n      <td>3052610.0</td>\n      <td>5735998.0</td>\n      <td>30035570.0</td>\n      <td>6804213.0</td>\n      <td>3805760.0</td>\n      <td>5154066.10</td>\n      <td>117436063.0</td>\n      <td>4360951.80</td>\n      <td>7513213.0</td>\n      <td>3624710.0</td>\n      <td>0.0</td>\n      <td>8052852.46</td>\n      <td>6268616.0</td>\n      <td>27</td>\n      <td>2016</td>\n      <td>08</td>\n      <td>2.472474e+08</td>\n    </tr>\n    <tr>\n      <th>27</th>\n      <td>2016-09-01</td>\n      <td>Actual</td>\n      <td>5134238.0</td>\n      <td>11492651.0</td>\n      <td>9212117.08</td>\n      <td>0.00</td>\n      <td>980722.0</td>\n      <td>1714844.0</td>\n      <td>8016364.38</td>\n      <td>4445081.0</td>\n      <td>1314913.0</td>\n      <td>2486145.0</td>\n      <td>4948528.0</td>\n      <td>27167183.0</td>\n      <td>6126624.0</td>\n      <td>3578044.0</td>\n      <td>4730219.38</td>\n      <td>110000558.0</td>\n      <td>4253492.27</td>\n      <td>7233654.0</td>\n      <td>3606031.0</td>\n      <td>0.0</td>\n      <td>7498421.18</td>\n      <td>6603467.0</td>\n      <td>28</td>\n      <td>2016</td>\n      <td>09</td>\n      <td>2.305433e+08</td>\n    </tr>\n    <tr>\n      <th>28</th>\n      <td>2016-10-01</td>\n      <td>Actual</td>\n      <td>5336825.0</td>\n      <td>11921475.0</td>\n      <td>9275224.11</td>\n      <td>0.00</td>\n      <td>1852769.0</td>\n      <td>1715301.0</td>\n      <td>12231875.36</td>\n      <td>3443906.0</td>\n      <td>1288723.0</td>\n      <td>2490587.0</td>\n      <td>4939692.0</td>\n      <td>27363579.0</td>\n      <td>6633365.0</td>\n      <td>4008273.0</td>\n      <td>5382393.12</td>\n      <td>105928516.0</td>\n      <td>4484285.19</td>\n      <td>7730802.0</td>\n      <td>3781187.0</td>\n      <td>0.0</td>\n      <td>8531642.37</td>\n      <td>6003438.0</td>\n      <td>29</td>\n      <td>2016</td>\n      <td>10</td>\n      <td>2.343439e+08</td>\n    </tr>\n    <tr>\n      <th>29</th>\n      <td>2016-11-01</td>\n      <td>Actual</td>\n      <td>5217646.0</td>\n      <td>11614686.0</td>\n      <td>10057386.35</td>\n      <td>0.00</td>\n      <td>1950198.0</td>\n      <td>1753124.0</td>\n      <td>8333195.01</td>\n      <td>2113145.0</td>\n      <td>1270860.0</td>\n      <td>3116351.0</td>\n      <td>5735168.0</td>\n      <td>29433640.0</td>\n      <td>6138194.0</td>\n      <td>3796831.0</td>\n      <td>4992400.95</td>\n      <td>113829464.0</td>\n      <td>4580347.34</td>\n      <td>8059296.0</td>\n      <td>3599570.0</td>\n      <td>0.0</td>\n      <td>8540560.78</td>\n      <td>6077264.0</td>\n      <td>30</td>\n      <td>2016</td>\n      <td>11</td>\n      <td>2.402093e+08</td>\n    </tr>\n    <tr>\n      <th>30</th>\n      <td>2016-12-01</td>\n      <td>Actual</td>\n      <td>5220434.0</td>\n      <td>11644455.0</td>\n      <td>9631544.50</td>\n      <td>0.00</td>\n      <td>1936100.0</td>\n      <td>1806996.0</td>\n      <td>8502596.75</td>\n      <td>3688098.0</td>\n      <td>1239273.0</td>\n      <td>2650284.0</td>\n      <td>5403236.0</td>\n      <td>28506998.0</td>\n      <td>6147835.0</td>\n      <td>4439123.0</td>\n      <td>5381955.32</td>\n      <td>117493864.0</td>\n      <td>4694198.11</td>\n      <td>7681051.0</td>\n      <td>3937490.0</td>\n      <td>0.0</td>\n      <td>7987958.95</td>\n      <td>7316407.0</td>\n      <td>31</td>\n      <td>2016</td>\n      <td>12</td>\n      <td>2.453099e+08</td>\n    </tr>\n    <tr>\n      <th>31</th>\n      <td>2017-01-01</td>\n      <td>Actual</td>\n      <td>5354754.0</td>\n      <td>12126073.0</td>\n      <td>9504950.94</td>\n      <td>0.00</td>\n      <td>1755994.0</td>\n      <td>1744221.0</td>\n      <td>20693527.22</td>\n      <td>3602257.0</td>\n      <td>1278209.0</td>\n      <td>3026906.0</td>\n      <td>5850417.0</td>\n      <td>28092482.0</td>\n      <td>6224396.0</td>\n      <td>4557677.0</td>\n      <td>7044526.40</td>\n      <td>106635184.0</td>\n      <td>4688990.88</td>\n      <td>8322899.0</td>\n      <td>3887405.0</td>\n      <td>0.0</td>\n      <td>10169659.06</td>\n      <td>5858684.0</td>\n      <td>32</td>\n      <td>2017</td>\n      <td>01</td>\n      <td>2.504192e+08</td>\n    </tr>\n    <tr>\n      <th>32</th>\n      <td>2017-02-01</td>\n      <td>Actual</td>\n      <td>5298195.0</td>\n      <td>11742221.0</td>\n      <td>8918143.61</td>\n      <td>0.00</td>\n      <td>1861166.0</td>\n      <td>1717947.0</td>\n      <td>8546196.17</td>\n      <td>8201954.0</td>\n      <td>1179715.0</td>\n      <td>2541705.0</td>\n      <td>4807506.0</td>\n      <td>26675554.0</td>\n      <td>6378085.0</td>\n      <td>4235552.0</td>\n      <td>5110530.92</td>\n      <td>98803491.0</td>\n      <td>4729386.02</td>\n      <td>7390077.0</td>\n      <td>3536858.0</td>\n      <td>0.0</td>\n      <td>6785179.52</td>\n      <td>6151520.0</td>\n      <td>33</td>\n      <td>2017</td>\n      <td>02</td>\n      <td>2.246110e+08</td>\n    </tr>\n    <tr>\n      <th>33</th>\n      <td>2017-03-01</td>\n      <td>Actual</td>\n      <td>5790846.0</td>\n      <td>11884394.0</td>\n      <td>9854513.30</td>\n      <td>0.00</td>\n      <td>1772108.0</td>\n      <td>1717694.0</td>\n      <td>7897890.95</td>\n      <td>3367706.0</td>\n      <td>1251807.0</td>\n      <td>2497205.0</td>\n      <td>4858756.0</td>\n      <td>29011816.0</td>\n      <td>7354509.0</td>\n      <td>4638549.0</td>\n      <td>5221018.65</td>\n      <td>111544069.0</td>\n      <td>4729940.39</td>\n      <td>7648072.0</td>\n      <td>4923698.0</td>\n      <td>0.0</td>\n      <td>7927264.97</td>\n      <td>11604426.0</td>\n      <td>34</td>\n      <td>2017</td>\n      <td>03</td>\n      <td>2.454963e+08</td>\n    </tr>\n    <tr>\n      <th>34</th>\n      <td>2017-04-01</td>\n      <td>Actual</td>\n      <td>5864663.0</td>\n      <td>12021324.0</td>\n      <td>8929758.90</td>\n      <td>0.00</td>\n      <td>1746201.0</td>\n      <td>1682807.0</td>\n      <td>12046783.19</td>\n      <td>3368745.0</td>\n      <td>1351675.0</td>\n      <td>2554790.0</td>\n      <td>4820388.0</td>\n      <td>26735093.0</td>\n      <td>7150827.0</td>\n      <td>5177184.0</td>\n      <td>5872457.83</td>\n      <td>99478187.0</td>\n      <td>4623969.67</td>\n      <td>7590436.0</td>\n      <td>3833670.0</td>\n      <td>0.0</td>\n      <td>7537154.75</td>\n      <td>5944776.0</td>\n      <td>35</td>\n      <td>2017</td>\n      <td>04</td>\n      <td>2.283309e+08</td>\n    </tr>\n    <tr>\n      <th>35</th>\n      <td>2017-05-01</td>\n      <td>Actual</td>\n      <td>5841217.0</td>\n      <td>12029707.0</td>\n      <td>10862813.30</td>\n      <td>0.00</td>\n      <td>1730887.0</td>\n      <td>1844953.0</td>\n      <td>8490202.09</td>\n      <td>5558528.0</td>\n      <td>1504560.0</td>\n      <td>3234268.0</td>\n      <td>5759886.0</td>\n      <td>31766046.0</td>\n      <td>6673397.0</td>\n      <td>4173895.0</td>\n      <td>4847938.50</td>\n      <td>118429597.0</td>\n      <td>4689908.16</td>\n      <td>8530134.0</td>\n      <td>3874504.0</td>\n      <td>0.0</td>\n      <td>6175856.06</td>\n      <td>6873131.0</td>\n      <td>36</td>\n      <td>2017</td>\n      <td>05</td>\n      <td>2.528914e+08</td>\n    </tr>\n    <tr>\n      <th>36</th>\n      <td>2017-06-01</td>\n      <td>Actual</td>\n      <td>6306889.0</td>\n      <td>11737428.0</td>\n      <td>9950476.82</td>\n      <td>0.00</td>\n      <td>1789429.0</td>\n      <td>1792429.0</td>\n      <td>8090880.45</td>\n      <td>3615710.0</td>\n      <td>1306471.0</td>\n      <td>2562808.0</td>\n      <td>4951638.0</td>\n      <td>29602341.0</td>\n      <td>6964534.0</td>\n      <td>4470144.0</td>\n      <td>4408487.60</td>\n      <td>115286408.0</td>\n      <td>4594469.05</td>\n      <td>8029412.0</td>\n      <td>3950935.0</td>\n      <td>0.0</td>\n      <td>8800397.84</td>\n      <td>9038790.0</td>\n      <td>37</td>\n      <td>2017</td>\n      <td>06</td>\n      <td>2.472501e+08</td>\n    </tr>\n    <tr>\n      <th>37</th>\n      <td>2017-07-01</td>\n      <td>Actual</td>\n      <td>5824642.0</td>\n      <td>12668951.0</td>\n      <td>9696458.80</td>\n      <td>0.00</td>\n      <td>1720948.0</td>\n      <td>1799576.0</td>\n      <td>12451665.77</td>\n      <td>3587270.0</td>\n      <td>1405566.0</td>\n      <td>2746140.0</td>\n      <td>4854792.0</td>\n      <td>28780846.0</td>\n      <td>6890258.0</td>\n      <td>4881440.0</td>\n      <td>5558938.06</td>\n      <td>108148242.0</td>\n      <td>4323014.65</td>\n      <td>8024940.0</td>\n      <td>4046519.0</td>\n      <td>0.0</td>\n      <td>7887136.61</td>\n      <td>6383062.0</td>\n      <td>38</td>\n      <td>2017</td>\n      <td>07</td>\n      <td>2.416804e+08</td>\n    </tr>\n    <tr>\n      <th>38</th>\n      <td>2017-08-01</td>\n      <td>Actual</td>\n      <td>5345535.0</td>\n      <td>12410315.0</td>\n      <td>10844096.32</td>\n      <td>0.00</td>\n      <td>1735764.0</td>\n      <td>1787356.0</td>\n      <td>8654903.34</td>\n      <td>1469878.0</td>\n      <td>1386069.0</td>\n      <td>3254680.0</td>\n      <td>5596199.0</td>\n      <td>31909214.0</td>\n      <td>7235252.0</td>\n      <td>4357596.0</td>\n      <td>4780662.42</td>\n      <td>120254168.0</td>\n      <td>4606829.21</td>\n      <td>8619134.0</td>\n      <td>4222943.0</td>\n      <td>0.0</td>\n      <td>7602343.41</td>\n      <td>7086460.0</td>\n      <td>39</td>\n      <td>2017</td>\n      <td>08</td>\n      <td>2.531594e+08</td>\n    </tr>\n    <tr>\n      <th>39</th>\n      <td>2017-09-01</td>\n      <td>Actual</td>\n      <td>6114811.0</td>\n      <td>13282180.0</td>\n      <td>9460715.73</td>\n      <td>0.00</td>\n      <td>1665568.0</td>\n      <td>1800680.0</td>\n      <td>7550083.82</td>\n      <td>3506602.0</td>\n      <td>1315453.0</td>\n      <td>2633795.0</td>\n      <td>4861285.0</td>\n      <td>28276412.0</td>\n      <td>6938667.0</td>\n      <td>4644637.0</td>\n      <td>4599562.18</td>\n      <td>104705146.0</td>\n      <td>4560080.94</td>\n      <td>7945770.0</td>\n      <td>3930089.0</td>\n      <td>0.0</td>\n      <td>7277217.55</td>\n      <td>8706659.0</td>\n      <td>40</td>\n      <td>2017</td>\n      <td>09</td>\n      <td>2.337754e+08</td>\n    </tr>\n    <tr>\n      <th>40</th>\n      <td>2017-10-01</td>\n      <td>Actual</td>\n      <td>6318076.0</td>\n      <td>12598070.0</td>\n      <td>10219669.28</td>\n      <td>0.00</td>\n      <td>1688255.0</td>\n      <td>1792862.0</td>\n      <td>12587276.90</td>\n      <td>3595168.0</td>\n      <td>1450405.0</td>\n      <td>2550478.0</td>\n      <td>4626914.0</td>\n      <td>30108209.0</td>\n      <td>7534210.0</td>\n      <td>4722507.0</td>\n      <td>5450023.13</td>\n      <td>110931972.0</td>\n      <td>4503698.65</td>\n      <td>8112067.0</td>\n      <td>4079759.0</td>\n      <td>0.0</td>\n      <td>8126909.97</td>\n      <td>6543185.0</td>\n      <td>41</td>\n      <td>2017</td>\n      <td>10</td>\n      <td>2.475397e+08</td>\n    </tr>\n    <tr>\n      <th>41</th>\n      <td>2017-11-01</td>\n      <td>Actual</td>\n      <td>5769565.0</td>\n      <td>12580587.0</td>\n      <td>10412580.75</td>\n      <td>0.00</td>\n      <td>1690271.0</td>\n      <td>1818556.0</td>\n      <td>8292133.12</td>\n      <td>1692661.0</td>\n      <td>1147415.0</td>\n      <td>3334452.0</td>\n      <td>5597947.0</td>\n      <td>30765934.0</td>\n      <td>6818094.0</td>\n      <td>4617751.0</td>\n      <td>4846195.36</td>\n      <td>115430932.0</td>\n      <td>4825709.08</td>\n      <td>8941065.0</td>\n      <td>3985082.0</td>\n      <td>0.0</td>\n      <td>8449869.35</td>\n      <td>6824937.0</td>\n      <td>42</td>\n      <td>2017</td>\n      <td>11</td>\n      <td>2.478417e+08</td>\n    </tr>\n    <tr>\n      <th>42</th>\n      <td>2017-12-01</td>\n      <td>Actual</td>\n      <td>6553566.0</td>\n      <td>12427574.0</td>\n      <td>9904542.86</td>\n      <td>0.00</td>\n      <td>1682108.0</td>\n      <td>1835447.0</td>\n      <td>8097708.35</td>\n      <td>3724896.0</td>\n      <td>1374363.0</td>\n      <td>2788904.0</td>\n      <td>5038477.0</td>\n      <td>29528072.0</td>\n      <td>6479451.0</td>\n      <td>6502180.0</td>\n      <td>5132951.13</td>\n      <td>113194342.0</td>\n      <td>8442951.17</td>\n      <td>8572655.0</td>\n      <td>4331734.0</td>\n      <td>0.0</td>\n      <td>7915751.12</td>\n      <td>9668673.0</td>\n      <td>43</td>\n      <td>2017</td>\n      <td>12</td>\n      <td>2.531963e+08</td>\n    </tr>\n    <tr>\n      <th>43</th>\n      <td>2018-01-01</td>\n      <td>Actual</td>\n      <td>6390513.0</td>\n      <td>13217358.0</td>\n      <td>10757884.98</td>\n      <td>0.00</td>\n      <td>1690134.0</td>\n      <td>1811757.0</td>\n      <td>21595095.19</td>\n      <td>3804505.0</td>\n      <td>1397691.0</td>\n      <td>2966273.0</td>\n      <td>5275811.0</td>\n      <td>31680987.0</td>\n      <td>6538508.0</td>\n      <td>6024323.0</td>\n      <td>7005602.96</td>\n      <td>110248167.0</td>\n      <td>4787634.91</td>\n      <td>9128984.0</td>\n      <td>4512203.0</td>\n      <td>0.0</td>\n      <td>13178457.56</td>\n      <td>6444463.0</td>\n      <td>44</td>\n      <td>2018</td>\n      <td>01</td>\n      <td>2.684564e+08</td>\n    </tr>\n    <tr>\n      <th>44</th>\n      <td>2018-02-01</td>\n      <td>Actual</td>\n      <td>5624752.0</td>\n      <td>12725103.0</td>\n      <td>9596095.78</td>\n      <td>0.00</td>\n      <td>1623225.0</td>\n      <td>1815575.0</td>\n      <td>7549917.92</td>\n      <td>10276103.0</td>\n      <td>1527381.0</td>\n      <td>2718772.0</td>\n      <td>4638695.0</td>\n      <td>28618018.0</td>\n      <td>7232844.0</td>\n      <td>5577385.0</td>\n      <td>5565567.36</td>\n      <td>98798038.0</td>\n      <td>4930779.33</td>\n      <td>8325777.0</td>\n      <td>3726627.0</td>\n      <td>0.0</td>\n      <td>7194287.27</td>\n      <td>6289482.0</td>\n      <td>45</td>\n      <td>2018</td>\n      <td>02</td>\n      <td>2.343544e+08</td>\n    </tr>\n    <tr>\n      <th>45</th>\n      <td>2018-03-01</td>\n      <td>Actual</td>\n      <td>6793282.0</td>\n      <td>12852727.0</td>\n      <td>10090456.69</td>\n      <td>0.00</td>\n      <td>1598898.0</td>\n      <td>1780867.0</td>\n      <td>7394221.27</td>\n      <td>3597257.0</td>\n      <td>1471887.0</td>\n      <td>2739030.0</td>\n      <td>4597759.0</td>\n      <td>29895055.0</td>\n      <td>7987229.0</td>\n      <td>5994470.0</td>\n      <td>5477336.78</td>\n      <td>106248694.0</td>\n      <td>4906764.07</td>\n      <td>8511330.0</td>\n      <td>4041121.0</td>\n      <td>0.0</td>\n      <td>7567950.55</td>\n      <td>14092455.0</td>\n      <td>46</td>\n      <td>2018</td>\n      <td>03</td>\n      <td>2.476388e+08</td>\n    </tr>\n    <tr>\n      <th>46</th>\n      <td>2018-04-01</td>\n      <td>Actual</td>\n      <td>6425737.0</td>\n      <td>12807376.0</td>\n      <td>10184445.77</td>\n      <td>0.00</td>\n      <td>1586216.0</td>\n      <td>1751199.0</td>\n      <td>11839561.68</td>\n      <td>3393929.0</td>\n      <td>1578077.0</td>\n      <td>2772019.0</td>\n      <td>4503073.0</td>\n      <td>30165545.0</td>\n      <td>8135771.0</td>\n      <td>6791075.0</td>\n      <td>5578602.55</td>\n      <td>103554646.0</td>\n      <td>4465952.01</td>\n      <td>8665389.0</td>\n      <td>3972334.0</td>\n      <td>0.0</td>\n      <td>7695015.35</td>\n      <td>6593324.0</td>\n      <td>47</td>\n      <td>2018</td>\n      <td>04</td>\n      <td>2.424593e+08</td>\n    </tr>\n    <tr>\n      <th>47</th>\n      <td>2018-05-01</td>\n      <td>Actual</td>\n      <td>5731523.0</td>\n      <td>13178171.0</td>\n      <td>12023742.27</td>\n      <td>0.00</td>\n      <td>1592662.0</td>\n      <td>1759382.0</td>\n      <td>8775390.94</td>\n      <td>3167395.0</td>\n      <td>1817889.0</td>\n      <td>3188570.0</td>\n      <td>5188822.0</td>\n      <td>34825303.0</td>\n      <td>7488019.0</td>\n      <td>4950702.0</td>\n      <td>4505986.86</td>\n      <td>119149029.0</td>\n      <td>4633768.82</td>\n      <td>9572679.0</td>\n      <td>4074639.0</td>\n      <td>0.0</td>\n      <td>8621115.07</td>\n      <td>7079142.0</td>\n      <td>48</td>\n      <td>2018</td>\n      <td>05</td>\n      <td>2.613239e+08</td>\n    </tr>\n    <tr>\n      <th>48</th>\n      <td>2018-06-01</td>\n      <td>Actual</td>\n      <td>6783878.0</td>\n      <td>13047555.0</td>\n      <td>10822300.54</td>\n      <td>0.00</td>\n      <td>1564813.0</td>\n      <td>1742628.0</td>\n      <td>7772932.40</td>\n      <td>3590259.0</td>\n      <td>1524025.0</td>\n      <td>2852845.0</td>\n      <td>4479872.0</td>\n      <td>31713159.0</td>\n      <td>7796701.0</td>\n      <td>5633249.0</td>\n      <td>4789724.95</td>\n      <td>107365918.0</td>\n      <td>4943145.47</td>\n      <td>8612041.0</td>\n      <td>4021019.0</td>\n      <td>79.0</td>\n      <td>254225.27</td>\n      <td>8881032.0</td>\n      <td>49</td>\n      <td>2018</td>\n      <td>06</td>\n      <td>2.381914e+08</td>\n    </tr>\n    <tr>\n      <th>49</th>\n      <td>2018-07-01</td>\n      <td>Actual</td>\n      <td>6741807.0</td>\n      <td>13105255.0</td>\n      <td>11655444.69</td>\n      <td>0.00</td>\n      <td>1545310.0</td>\n      <td>1735306.0</td>\n      <td>12583094.75</td>\n      <td>3601693.0</td>\n      <td>1284364.0</td>\n      <td>3036869.0</td>\n      <td>4603243.0</td>\n      <td>33864522.0</td>\n      <td>7696021.0</td>\n      <td>6059461.0</td>\n      <td>5664616.17</td>\n      <td>113740156.0</td>\n      <td>4919537.25</td>\n      <td>8999964.0</td>\n      <td>4011756.0</td>\n      <td>91.0</td>\n      <td>305124.49</td>\n      <td>6747185.0</td>\n      <td>50</td>\n      <td>2018</td>\n      <td>07</td>\n      <td>2.519008e+08</td>\n    </tr>\n    <tr>\n      <th>50</th>\n      <td>2018-08-01</td>\n      <td>Actual</td>\n      <td>6941384.0</td>\n      <td>13157887.0</td>\n      <td>11954057.43</td>\n      <td>0.00</td>\n      <td>1572317.0</td>\n      <td>1734774.0</td>\n      <td>8543239.38</td>\n      <td>1647031.0</td>\n      <td>1879159.0</td>\n      <td>3150125.0</td>\n      <td>5021066.0</td>\n      <td>34755868.0</td>\n      <td>7654579.0</td>\n      <td>5467660.0</td>\n      <td>5210368.65</td>\n      <td>116505720.0</td>\n      <td>5136136.05</td>\n      <td>9589296.0</td>\n      <td>4227012.0</td>\n      <td>-170.0</td>\n      <td>342622.30</td>\n      <td>7885942.0</td>\n      <td>51</td>\n      <td>2018</td>\n      <td>08</td>\n      <td>2.523761e+08</td>\n    </tr>\n    <tr>\n      <th>51</th>\n      <td>2018-09-01</td>\n      <td>Actual</td>\n      <td>6900911.0</td>\n      <td>15907867.0</td>\n      <td>10732724.79</td>\n      <td>0.00</td>\n      <td>1533748.0</td>\n      <td>1731765.0</td>\n      <td>7460068.76</td>\n      <td>3698844.0</td>\n      <td>1530054.0</td>\n      <td>2778483.0</td>\n      <td>4433291.0</td>\n      <td>31556369.0</td>\n      <td>7484079.0</td>\n      <td>6002190.0</td>\n      <td>5215003.37</td>\n      <td>102622473.0</td>\n      <td>5004991.73</td>\n      <td>8895074.0</td>\n      <td>4169955.0</td>\n      <td>0.0</td>\n      <td>276560.90</td>\n      <td>7838690.0</td>\n      <td>52</td>\n      <td>2018</td>\n      <td>09</td>\n      <td>2.357731e+08</td>\n    </tr>\n    <tr>\n      <th>52</th>\n      <td>2018-10-01</td>\n      <td>Actual</td>\n      <td>6731645.0</td>\n      <td>13540690.0</td>\n      <td>12506864.04</td>\n      <td>0.00</td>\n      <td>1561762.0</td>\n      <td>1732806.0</td>\n      <td>12743453.53</td>\n      <td>3738425.0</td>\n      <td>1477668.0</td>\n      <td>3253351.0</td>\n      <td>4991557.0</td>\n      <td>36181227.0</td>\n      <td>7963497.0</td>\n      <td>6084714.0</td>\n      <td>7110908.92</td>\n      <td>115762795.0</td>\n      <td>5304753.98</td>\n      <td>9808982.0</td>\n      <td>4501902.0</td>\n      <td>0.0</td>\n      <td>180092.57</td>\n      <td>6850804.0</td>\n      <td>53</td>\n      <td>2018</td>\n      <td>10</td>\n      <td>2.620279e+08</td>\n    </tr>\n    <tr>\n      <th>53</th>\n      <td>2018-11-01</td>\n      <td>Actual</td>\n      <td>6428216.0</td>\n      <td>13311671.0</td>\n      <td>11416075.74</td>\n      <td>0.00</td>\n      <td>1531377.0</td>\n      <td>1769694.0</td>\n      <td>8100512.30</td>\n      <td>1496002.0</td>\n      <td>1530744.0</td>\n      <td>2927537.0</td>\n      <td>4352584.0</td>\n      <td>33476924.0</td>\n      <td>7359922.0</td>\n      <td>6201403.0</td>\n      <td>4358753.62</td>\n      <td>110179873.0</td>\n      <td>5299378.61</td>\n      <td>9148466.0</td>\n      <td>4281585.0</td>\n      <td>0.0</td>\n      <td>517750.99</td>\n      <td>7000936.0</td>\n      <td>54</td>\n      <td>2018</td>\n      <td>11</td>\n      <td>2.406894e+08</td>\n    </tr>\n    <tr>\n      <th>54</th>\n      <td>2018-12-01</td>\n      <td>Actual</td>\n      <td>6544875.0</td>\n      <td>13418589.0</td>\n      <td>12003008.85</td>\n      <td>0.00</td>\n      <td>1587568.0</td>\n      <td>1768188.0</td>\n      <td>8500244.59</td>\n      <td>3726361.0</td>\n      <td>1476902.0</td>\n      <td>3145695.0</td>\n      <td>4797152.0</td>\n      <td>34971244.0</td>\n      <td>7501730.0</td>\n      <td>8257412.0</td>\n      <td>6154364.49</td>\n      <td>117538398.0</td>\n      <td>9195105.13</td>\n      <td>9610684.0</td>\n      <td>4291803.0</td>\n      <td>0.0</td>\n      <td>633412.69</td>\n      <td>8199059.0</td>\n      <td>55</td>\n      <td>2018</td>\n      <td>12</td>\n      <td>2.633218e+08</td>\n    </tr>\n    <tr>\n      <th>55</th>\n      <td>2019-01-01</td>\n      <td>Actual</td>\n      <td>6164002.0</td>\n      <td>13352712.0</td>\n      <td>12307110.07</td>\n      <td>705012.81</td>\n      <td>1556671.0</td>\n      <td>1801231.0</td>\n      <td>21596616.92</td>\n      <td>3879058.0</td>\n      <td>1524067.0</td>\n      <td>3100242.0</td>\n      <td>4836781.0</td>\n      <td>35699865.0</td>\n      <td>7690669.0</td>\n      <td>7271303.0</td>\n      <td>8031289.63</td>\n      <td>110354647.0</td>\n      <td>5395374.33</td>\n      <td>9900856.0</td>\n      <td>4554791.0</td>\n      <td>0.0</td>\n      <td>91805550.59</td>\n      <td>9242253.0</td>\n      <td>56</td>\n      <td>2019</td>\n      <td>01</td>\n      <td>3.607701e+08</td>\n    </tr>\n    <tr>\n      <th>56</th>\n      <td>2019-02-01</td>\n      <td>Actual</td>\n      <td>6356059.0</td>\n      <td>13141131.0</td>\n      <td>10973726.22</td>\n      <td>710059.06</td>\n      <td>1541456.0</td>\n      <td>1765198.0</td>\n      <td>7036293.53</td>\n      <td>10709426.0</td>\n      <td>1570170.0</td>\n      <td>2785185.0</td>\n      <td>4276077.0</td>\n      <td>32236638.0</td>\n      <td>7880399.0</td>\n      <td>7426883.0</td>\n      <td>6158988.26</td>\n      <td>98377675.0</td>\n      <td>5280598.89</td>\n      <td>9248176.0</td>\n      <td>3936378.0</td>\n      <td>0.0</td>\n      <td>-183758.43</td>\n      <td>5912592.0</td>\n      <td>57</td>\n      <td>2019</td>\n      <td>02</td>\n      <td>2.371394e+08</td>\n    </tr>\n    <tr>\n      <th>57</th>\n      <td>2019-03-01</td>\n      <td>Actual</td>\n      <td>6788033.0</td>\n      <td>13462048.0</td>\n      <td>11163985.65</td>\n      <td>745998.73</td>\n      <td>1514564.0</td>\n      <td>1727367.0</td>\n      <td>7207474.72</td>\n      <td>3782792.0</td>\n      <td>1481036.0</td>\n      <td>2816453.0</td>\n      <td>4292346.0</td>\n      <td>32785416.0</td>\n      <td>9689790.0</td>\n      <td>8190477.0</td>\n      <td>7380674.75</td>\n      <td>99958270.0</td>\n      <td>5257329.44</td>\n      <td>9225099.0</td>\n      <td>4330769.0</td>\n      <td>0.0</td>\n      <td>141277.90</td>\n      <td>8523892.0</td>\n      <td>58</td>\n      <td>2019</td>\n      <td>03</td>\n      <td>2.404651e+08</td>\n    </tr>\n    <tr>\n      <th>58</th>\n      <td>2019-04-01</td>\n      <td>Actual</td>\n      <td>6953379.0</td>\n      <td>13655149.0</td>\n      <td>12273835.85</td>\n      <td>559902.25</td>\n      <td>1515658.0</td>\n      <td>1725937.0</td>\n      <td>11964920.42</td>\n      <td>3838506.0</td>\n      <td>1613325.0</td>\n      <td>3070977.0</td>\n      <td>4321088.0</td>\n      <td>35581827.0</td>\n      <td>8544604.0</td>\n      <td>8500112.0</td>\n      <td>6686248.15</td>\n      <td>108700563.0</td>\n      <td>5419585.98</td>\n      <td>9402075.0</td>\n      <td>4369637.0</td>\n      <td>0.0</td>\n      <td>157985.54</td>\n      <td>6261911.0</td>\n      <td>59</td>\n      <td>2019</td>\n      <td>04</td>\n      <td>2.551172e+08</td>\n    </tr>\n    <tr>\n      <th>59</th>\n      <td>2019-05-01</td>\n      <td>Actual</td>\n      <td>6427082.0</td>\n      <td>14378190.0</td>\n      <td>13200608.97</td>\n      <td>910875.92</td>\n      <td>1591871.0</td>\n      <td>1657062.0</td>\n      <td>8321301.71</td>\n      <td>1863244.0</td>\n      <td>1913425.0</td>\n      <td>3289160.0</td>\n      <td>4791506.0</td>\n      <td>38184809.0</td>\n      <td>8454463.0</td>\n      <td>5526306.0</td>\n      <td>5507003.66</td>\n      <td>115331665.0</td>\n      <td>5483869.43</td>\n      <td>10375039.0</td>\n      <td>4039496.0</td>\n      <td>0.0</td>\n      <td>300405.13</td>\n      <td>7164720.0</td>\n      <td>60</td>\n      <td>2019</td>\n      <td>05</td>\n      <td>2.587121e+08</td>\n    </tr>\n    <tr>\n      <th>60</th>\n      <td>2019-06-01</td>\n      <td>Actual</td>\n      <td>6854978.0</td>\n      <td>13736178.0</td>\n      <td>12087411.39</td>\n      <td>639892.89</td>\n      <td>1511323.0</td>\n      <td>1767608.0</td>\n      <td>7665705.28</td>\n      <td>3742723.0</td>\n      <td>1756987.0</td>\n      <td>3042831.0</td>\n      <td>4364134.0</td>\n      <td>35275282.0</td>\n      <td>7831620.0</td>\n      <td>6690159.0</td>\n      <td>5120755.91</td>\n      <td>106731158.0</td>\n      <td>5407599.32</td>\n      <td>9834595.0</td>\n      <td>4438541.0</td>\n      <td>0.0</td>\n      <td>255174.15</td>\n      <td>7808127.0</td>\n      <td>61</td>\n      <td>2019</td>\n      <td>06</td>\n      <td>2.465628e+08</td>\n    </tr>\n    <tr>\n      <th>61</th>\n      <td>2019-07-01</td>\n      <td>Actual</td>\n      <td>7292014.0</td>\n      <td>14220673.0</td>\n      <td>13878027.98</td>\n      <td>644258.43</td>\n      <td>1549938.0</td>\n      <td>1749502.0</td>\n      <td>12949631.67</td>\n      <td>3844439.0</td>\n      <td>1728725.0</td>\n      <td>3458990.0</td>\n      <td>4806947.0</td>\n      <td>39841426.0</td>\n      <td>8111420.0</td>\n      <td>6871711.0</td>\n      <td>7015568.80</td>\n      <td>119190721.0</td>\n      <td>5793080.04</td>\n      <td>10666783.0</td>\n      <td>4471539.0</td>\n      <td>0.0</td>\n      <td>359903.73</td>\n      <td>6357609.0</td>\n      <td>62</td>\n      <td>2019</td>\n      <td>07</td>\n      <td>2.748029e+08</td>\n    </tr>\n    <tr>\n      <th>62</th>\n      <td>2019-08-01</td>\n      <td>Actual</td>\n      <td>7418417.0</td>\n      <td>13644130.0</td>\n      <td>12675538.93</td>\n      <td>728080.77</td>\n      <td>1528094.0</td>\n      <td>1743333.0</td>\n      <td>8212353.55</td>\n      <td>1547222.0</td>\n      <td>1615702.0</td>\n      <td>3150888.0</td>\n      <td>4131461.0</td>\n      <td>36796619.0</td>\n      <td>8170458.0</td>\n      <td>6955639.0</td>\n      <td>4590520.03</td>\n      <td>113364359.0</td>\n      <td>5772912.09</td>\n      <td>10106647.0</td>\n      <td>4806964.0</td>\n      <td>0.0</td>\n      <td>236475.53</td>\n      <td>7726193.0</td>\n      <td>63</td>\n      <td>2019</td>\n      <td>08</td>\n      <td>2.549220e+08</td>\n    </tr>\n    <tr>\n      <th>63</th>\n      <td>2019-09-01</td>\n      <td>Actual</td>\n      <td>7095184.0</td>\n      <td>16989339.0</td>\n      <td>12571840.85</td>\n      <td>683823.13</td>\n      <td>1526773.0</td>\n      <td>1767107.0</td>\n      <td>7776538.97</td>\n      <td>3840345.0</td>\n      <td>1712504.0</td>\n      <td>3111692.0</td>\n      <td>4372135.0</td>\n      <td>36415882.0</td>\n      <td>8036181.0</td>\n      <td>6660358.0</td>\n      <td>5212910.15</td>\n      <td>108305027.0</td>\n      <td>5690589.48</td>\n      <td>9969504.0</td>\n      <td>4752068.0</td>\n      <td>0.0</td>\n      <td>302200.63</td>\n      <td>7516524.0</td>\n      <td>64</td>\n      <td>2019</td>\n      <td>09</td>\n      <td>2.543085e+08</td>\n    </tr>\n    <tr>\n      <th>64</th>\n      <td>2019-10-01</td>\n      <td>Actual</td>\n      <td>7179619.0</td>\n      <td>14109634.0</td>\n      <td>14047086.94</td>\n      <td>638908.17</td>\n      <td>1541984.0</td>\n      <td>1690879.0</td>\n      <td>13167523.61</td>\n      <td>3968861.0</td>\n      <td>2776176.0</td>\n      <td>3451126.0</td>\n      <td>4737809.0</td>\n      <td>40166556.0</td>\n      <td>8280587.0</td>\n      <td>6777291.0</td>\n      <td>7395806.41</td>\n      <td>119068432.0</td>\n      <td>6085073.35</td>\n      <td>10854283.0</td>\n      <td>4948327.0</td>\n      <td>0.0</td>\n      <td>426395.09</td>\n      <td>6655824.0</td>\n      <td>65</td>\n      <td>2019</td>\n      <td>10</td>\n      <td>2.779682e+08</td>\n    </tr>\n    <tr>\n      <th>65</th>\n      <td>2019-11-01</td>\n      <td>Actual</td>\n      <td>7248375.0</td>\n      <td>14741935.0</td>\n      <td>12301924.49</td>\n      <td>653196.79</td>\n      <td>1534970.0</td>\n      <td>1795687.0</td>\n      <td>7333935.36</td>\n      <td>1479704.0</td>\n      <td>2666963.0</td>\n      <td>3029484.0</td>\n      <td>4232255.0</td>\n      <td>35800258.0</td>\n      <td>8351544.0</td>\n      <td>6440899.0</td>\n      <td>4608921.33</td>\n      <td>105060481.0</td>\n      <td>6032851.03</td>\n      <td>10213195.0</td>\n      <td>4926307.0</td>\n      <td>0.0</td>\n      <td>294299.84</td>\n      <td>7486937.0</td>\n      <td>66</td>\n      <td>2019</td>\n      <td>11</td>\n      <td>2.462341e+08</td>\n    </tr>\n    <tr>\n      <th>66</th>\n      <td>2019-12-01</td>\n      <td>Actual</td>\n      <td>7561082.0</td>\n      <td>14323452.0</td>\n      <td>14378788.99</td>\n      <td>486066.55</td>\n      <td>1582362.0</td>\n      <td>1825531.0</td>\n      <td>8871187.51</td>\n      <td>3821723.0</td>\n      <td>2659461.0</td>\n      <td>3630176.0</td>\n      <td>4754924.0</td>\n      <td>41227310.0</td>\n      <td>7996643.0</td>\n      <td>7566114.0</td>\n      <td>5947708.56</td>\n      <td>128667631.0</td>\n      <td>10379934.04</td>\n      <td>10959054.0</td>\n      <td>5087037.0</td>\n      <td>0.0</td>\n      <td>422089.81</td>\n      <td>7656013.0</td>\n      <td>67</td>\n      <td>2019</td>\n      <td>12</td>\n      <td>2.898043e+08</td>\n    </tr>\n    <tr>\n      <th>67</th>\n      <td>2020-01-01</td>\n      <td>Actual</td>\n      <td>7587396.0</td>\n      <td>14914098.0</td>\n      <td>12775179.21</td>\n      <td>709881.84</td>\n      <td>1528054.0</td>\n      <td>1794471.0</td>\n      <td>21355359.49</td>\n      <td>4081583.0</td>\n      <td>2743117.0</td>\n      <td>3137881.0</td>\n      <td>4531575.0</td>\n      <td>37106515.0</td>\n      <td>8288521.0</td>\n      <td>7143172.0</td>\n      <td>9146405.86</td>\n      <td>106043776.0</td>\n      <td>6743500.21</td>\n      <td>10911500.0</td>\n      <td>5221134.0</td>\n      <td>0.0</td>\n      <td>89119517.59</td>\n      <td>6525521.0</td>\n      <td>68</td>\n      <td>2020</td>\n      <td>01</td>\n      <td>3.614082e+08</td>\n    </tr>\n    <tr>\n      <th>68</th>\n      <td>2020-02-01</td>\n      <td>Actual</td>\n      <td>7521580.0</td>\n      <td>14831603.0</td>\n      <td>12181489.80</td>\n      <td>893234.26</td>\n      <td>1523184.0</td>\n      <td>1859494.0</td>\n      <td>6964871.77</td>\n      <td>11158568.0</td>\n      <td>2796036.0</td>\n      <td>2986560.0</td>\n      <td>4198950.0</td>\n      <td>35445714.0</td>\n      <td>8454452.0</td>\n      <td>6544369.0</td>\n      <td>6869892.23</td>\n      <td>99644382.0</td>\n      <td>6054285.13</td>\n      <td>10187849.0</td>\n      <td>4436688.0</td>\n      <td>0.0</td>\n      <td>-55689.50</td>\n      <td>8971822.0</td>\n      <td>69</td>\n      <td>2020</td>\n      <td>02</td>\n      <td>2.534693e+08</td>\n    </tr>\n    <tr>\n      <th>69</th>\n      <td>2020-03-01</td>\n      <td>Actual</td>\n      <td>6995226.0</td>\n      <td>14754270.0</td>\n      <td>13319977.33</td>\n      <td>607337.32</td>\n      <td>1518091.0</td>\n      <td>1797522.0</td>\n      <td>7533384.52</td>\n      <td>4511615.0</td>\n      <td>2739085.0</td>\n      <td>3217886.0</td>\n      <td>4280156.0</td>\n      <td>38380836.0</td>\n      <td>10084370.0</td>\n      <td>6320418.0</td>\n      <td>6026484.33</td>\n      <td>107287296.0</td>\n      <td>6087112.38</td>\n      <td>10424181.0</td>\n      <td>4652809.0</td>\n      <td>0.0</td>\n      <td>16995.28</td>\n      <td>7782071.0</td>\n      <td>70</td>\n      <td>2020</td>\n      <td>03</td>\n      <td>2.583371e+08</td>\n    </tr>\n    <tr>\n      <th>70</th>\n      <td>2020-04-01</td>\n      <td>Actual</td>\n      <td>6409987.0</td>\n      <td>14109521.0</td>\n      <td>11983714.88</td>\n      <td>531157.22</td>\n      <td>1530206.0</td>\n      <td>1734531.0</td>\n      <td>10990659.87</td>\n      <td>3846363.0</td>\n      <td>2418266.0</td>\n      <td>2907741.0</td>\n      <td>4083176.0</td>\n      <td>34706643.0</td>\n      <td>8384464.0</td>\n      <td>5466256.0</td>\n      <td>6664268.18</td>\n      <td>92673007.0</td>\n      <td>5827460.74</td>\n      <td>9986738.0</td>\n      <td>3790876.0</td>\n      <td>0.0</td>\n      <td>180969.05</td>\n      <td>4543151.0</td>\n      <td>71</td>\n      <td>2020</td>\n      <td>04</td>\n      <td>2.327692e+08</td>\n    </tr>\n    <tr>\n      <th>71</th>\n      <td>2020-05-01</td>\n      <td>Actual</td>\n      <td>8237881.0</td>\n      <td>14109463.0</td>\n      <td>11143352.64</td>\n      <td>595333.80</td>\n      <td>1465828.0</td>\n      <td>1713755.0</td>\n      <td>6185801.63</td>\n      <td>1570955.0</td>\n      <td>2385788.0</td>\n      <td>2811866.0</td>\n      <td>3676731.0</td>\n      <td>32622114.0</td>\n      <td>7565506.0</td>\n      <td>13447506.0</td>\n      <td>3311409.16</td>\n      <td>90949332.0</td>\n      <td>6027283.54</td>\n      <td>9598261.0</td>\n      <td>3752301.0</td>\n      <td>0.0</td>\n      <td>135876.35</td>\n      <td>6847014.0</td>\n      <td>72</td>\n      <td>2020</td>\n      <td>05</td>\n      <td>2.281534e+08</td>\n    </tr>\n  </tbody>\n</table>\n</div>"
     },
     "execution_count": 19,
     "metadata": {},
     "output_type": "execute_result"
    }
   ],
   "source": [
    "train_df"
   ],
   "metadata": {
    "collapsed": false,
    "pycharm": {
     "name": "#%%\n"
    }
   }
  },
  {
   "cell_type": "markdown",
   "source": [
    "## Model training"
   ],
   "metadata": {
    "collapsed": false
   }
  },
  {
   "cell_type": "code",
   "execution_count": 20,
   "outputs": [
    {
     "data": {
      "text/plain": "(72, 28)"
     },
     "execution_count": 20,
     "metadata": {},
     "output_type": "execute_result"
    }
   ],
   "source": [
    "train_df.shape"
   ],
   "metadata": {
    "collapsed": false,
    "pycharm": {
     "name": "#%%\n"
    }
   }
  },
  {
   "cell_type": "code",
   "execution_count": 21,
   "outputs": [
    {
     "data": {
      "text/plain": "<pandas.io.formats.style.Styler at 0x1c63951f820>",
      "text/html": "<style type=\"text/css\">\n#T_2cd53 th {\n  text-align: left;\n}\n#T_2cd53_row0_col0, #T_2cd53_row1_col0, #T_2cd53_row1_col1, #T_2cd53_row1_col2, #T_2cd53_row1_col3, #T_2cd53_row1_col4, #T_2cd53_row1_col5, #T_2cd53_row1_col6, #T_2cd53_row2_col0, #T_2cd53_row2_col1, #T_2cd53_row2_col2, #T_2cd53_row2_col3, #T_2cd53_row2_col4, #T_2cd53_row2_col5, #T_2cd53_row2_col6, #T_2cd53_row3_col0, #T_2cd53_row3_col1, #T_2cd53_row3_col2, #T_2cd53_row3_col3, #T_2cd53_row3_col4, #T_2cd53_row3_col5, #T_2cd53_row3_col6, #T_2cd53_row4_col0, #T_2cd53_row4_col1, #T_2cd53_row4_col2, #T_2cd53_row4_col3, #T_2cd53_row4_col4, #T_2cd53_row4_col5, #T_2cd53_row4_col6, #T_2cd53_row5_col0, #T_2cd53_row5_col1, #T_2cd53_row5_col2, #T_2cd53_row5_col3, #T_2cd53_row5_col4, #T_2cd53_row5_col5, #T_2cd53_row5_col6, #T_2cd53_row6_col0, #T_2cd53_row6_col1, #T_2cd53_row6_col2, #T_2cd53_row6_col3, #T_2cd53_row6_col4, #T_2cd53_row6_col5, #T_2cd53_row6_col6, #T_2cd53_row7_col0, #T_2cd53_row7_col1, #T_2cd53_row7_col2, #T_2cd53_row7_col3, #T_2cd53_row7_col4, #T_2cd53_row7_col5, #T_2cd53_row7_col6, #T_2cd53_row8_col0, #T_2cd53_row8_col1, #T_2cd53_row8_col2, #T_2cd53_row8_col3, #T_2cd53_row8_col4, #T_2cd53_row8_col5, #T_2cd53_row8_col6, #T_2cd53_row9_col0, #T_2cd53_row9_col1, #T_2cd53_row9_col2, #T_2cd53_row9_col3, #T_2cd53_row9_col4, #T_2cd53_row9_col5, #T_2cd53_row9_col6, #T_2cd53_row10_col0, #T_2cd53_row10_col1, #T_2cd53_row10_col2, #T_2cd53_row10_col3, #T_2cd53_row10_col4, #T_2cd53_row10_col5, #T_2cd53_row10_col6, #T_2cd53_row11_col0, #T_2cd53_row11_col1, #T_2cd53_row11_col2, #T_2cd53_row11_col3, #T_2cd53_row11_col4, #T_2cd53_row11_col5, #T_2cd53_row11_col6, #T_2cd53_row12_col0, #T_2cd53_row12_col1, #T_2cd53_row12_col2, #T_2cd53_row12_col3, #T_2cd53_row12_col4, #T_2cd53_row12_col5, #T_2cd53_row12_col6, #T_2cd53_row13_col0, #T_2cd53_row13_col1, #T_2cd53_row13_col2, #T_2cd53_row13_col3, #T_2cd53_row13_col4, #T_2cd53_row13_col5, #T_2cd53_row13_col6, #T_2cd53_row14_col0, #T_2cd53_row14_col1, #T_2cd53_row14_col2, #T_2cd53_row14_col3, #T_2cd53_row14_col4, #T_2cd53_row14_col5, #T_2cd53_row14_col6, #T_2cd53_row15_col0, #T_2cd53_row15_col1, #T_2cd53_row15_col2, #T_2cd53_row15_col3, #T_2cd53_row15_col4, #T_2cd53_row15_col5, #T_2cd53_row15_col6, #T_2cd53_row16_col0, #T_2cd53_row16_col1, #T_2cd53_row16_col2, #T_2cd53_row16_col3, #T_2cd53_row16_col4, #T_2cd53_row16_col5, #T_2cd53_row16_col6, #T_2cd53_row17_col0, #T_2cd53_row17_col1, #T_2cd53_row17_col2, #T_2cd53_row17_col3, #T_2cd53_row17_col4, #T_2cd53_row17_col5, #T_2cd53_row17_col6, #T_2cd53_row18_col0, #T_2cd53_row18_col1, #T_2cd53_row18_col2, #T_2cd53_row18_col3, #T_2cd53_row18_col4, #T_2cd53_row18_col5, #T_2cd53_row18_col6 {\n  text-align: left;\n}\n#T_2cd53_row0_col1, #T_2cd53_row0_col2, #T_2cd53_row0_col3, #T_2cd53_row0_col4, #T_2cd53_row0_col5, #T_2cd53_row0_col6 {\n  text-align: left;\n  background-color: yellow;\n}\n#T_2cd53_row0_col7, #T_2cd53_row1_col7, #T_2cd53_row2_col7, #T_2cd53_row3_col7, #T_2cd53_row4_col7, #T_2cd53_row5_col7, #T_2cd53_row7_col7, #T_2cd53_row8_col7, #T_2cd53_row9_col7, #T_2cd53_row10_col7, #T_2cd53_row11_col7, #T_2cd53_row12_col7, #T_2cd53_row13_col7, #T_2cd53_row14_col7, #T_2cd53_row15_col7, #T_2cd53_row16_col7, #T_2cd53_row18_col7 {\n  text-align: left;\n  background-color: lightgrey;\n}\n#T_2cd53_row6_col7, #T_2cd53_row17_col7 {\n  text-align: left;\n  background-color: yellow;\n  background-color: lightgrey;\n}\n</style>\n<table id=\"T_2cd53\">\n  <thead>\n    <tr>\n      <th class=\"blank level0\" >&nbsp;</th>\n      <th id=\"T_2cd53_level0_col0\" class=\"col_heading level0 col0\" >Model</th>\n      <th id=\"T_2cd53_level0_col1\" class=\"col_heading level0 col1\" >MAE</th>\n      <th id=\"T_2cd53_level0_col2\" class=\"col_heading level0 col2\" >MSE</th>\n      <th id=\"T_2cd53_level0_col3\" class=\"col_heading level0 col3\" >RMSE</th>\n      <th id=\"T_2cd53_level0_col4\" class=\"col_heading level0 col4\" >R2</th>\n      <th id=\"T_2cd53_level0_col5\" class=\"col_heading level0 col5\" >RMSLE</th>\n      <th id=\"T_2cd53_level0_col6\" class=\"col_heading level0 col6\" >MAPE</th>\n      <th id=\"T_2cd53_level0_col7\" class=\"col_heading level0 col7\" >TT (Sec)</th>\n    </tr>\n  </thead>\n  <tbody>\n    <tr>\n      <th id=\"T_2cd53_level0_row0\" class=\"row_heading level0 row0\" >br</th>\n      <td id=\"T_2cd53_row0_col0\" class=\"data row0 col0\" >Bayesian Ridge</td>\n      <td id=\"T_2cd53_row0_col1\" class=\"data row0 col1\" >2036732.6078</td>\n      <td id=\"T_2cd53_row0_col2\" class=\"data row0 col2\" >8174510846920.0850</td>\n      <td id=\"T_2cd53_row0_col3\" class=\"data row0 col3\" >2381153.1836</td>\n      <td id=\"T_2cd53_row0_col4\" class=\"data row0 col4\" >0.9611</td>\n      <td id=\"T_2cd53_row0_col5\" class=\"data row0 col5\" >0.0099</td>\n      <td id=\"T_2cd53_row0_col6\" class=\"data row0 col6\" >0.0084</td>\n      <td id=\"T_2cd53_row0_col7\" class=\"data row0 col7\" >0.0067</td>\n    </tr>\n    <tr>\n      <th id=\"T_2cd53_level0_row1\" class=\"row_heading level0 row1\" >ridge</th>\n      <td id=\"T_2cd53_row1_col0\" class=\"data row1 col0\" >Ridge Regression</td>\n      <td id=\"T_2cd53_row1_col1\" class=\"data row1 col1\" >2339514.1042</td>\n      <td id=\"T_2cd53_row1_col2\" class=\"data row1 col2\" >11716921633450.6660</td>\n      <td id=\"T_2cd53_row1_col3\" class=\"data row1 col3\" >2626803.5000</td>\n      <td id=\"T_2cd53_row1_col4\" class=\"data row1 col4\" >0.9440</td>\n      <td id=\"T_2cd53_row1_col5\" class=\"data row1 col5\" >0.0110</td>\n      <td id=\"T_2cd53_row1_col6\" class=\"data row1 col6\" >0.0097</td>\n      <td id=\"T_2cd53_row1_col7\" class=\"data row1 col7\" >1.1133</td>\n    </tr>\n    <tr>\n      <th id=\"T_2cd53_level0_row2\" class=\"row_heading level0 row2\" >en</th>\n      <td id=\"T_2cd53_row2_col0\" class=\"data row2 col0\" >Elastic Net</td>\n      <td id=\"T_2cd53_row2_col1\" class=\"data row2 col1\" >2359564.4375</td>\n      <td id=\"T_2cd53_row2_col2\" class=\"data row2 col2\" >11451640053760.0000</td>\n      <td id=\"T_2cd53_row2_col3\" class=\"data row2 col3\" >2733153.1667</td>\n      <td id=\"T_2cd53_row2_col4\" class=\"data row2 col4\" >0.9464</td>\n      <td id=\"T_2cd53_row2_col5\" class=\"data row2 col5\" >0.0112</td>\n      <td id=\"T_2cd53_row2_col6\" class=\"data row2 col6\" >0.0097</td>\n      <td id=\"T_2cd53_row2_col7\" class=\"data row2 col7\" >0.0100</td>\n    </tr>\n    <tr>\n      <th id=\"T_2cd53_level0_row3\" class=\"row_heading level0 row3\" >lr</th>\n      <td id=\"T_2cd53_row3_col0\" class=\"data row3 col0\" >Linear Regression</td>\n      <td id=\"T_2cd53_row3_col1\" class=\"data row3 col1\" >2585985.1458</td>\n      <td id=\"T_2cd53_row3_col2\" class=\"data row3 col2\" >12361292098218.6660</td>\n      <td id=\"T_2cd53_row3_col3\" class=\"data row3 col3\" >2885595.6667</td>\n      <td id=\"T_2cd53_row3_col4\" class=\"data row3 col4\" >0.9439</td>\n      <td id=\"T_2cd53_row3_col5\" class=\"data row3 col5\" >0.0120</td>\n      <td id=\"T_2cd53_row3_col6\" class=\"data row3 col6\" >0.0107</td>\n      <td id=\"T_2cd53_row3_col7\" class=\"data row3 col7\" >1.9900</td>\n    </tr>\n    <tr>\n      <th id=\"T_2cd53_level0_row4\" class=\"row_heading level0 row4\" >llar</th>\n      <td id=\"T_2cd53_row4_col0\" class=\"data row4 col0\" >Lasso Least Angle Regression</td>\n      <td id=\"T_2cd53_row4_col1\" class=\"data row4 col1\" >5176175.8376</td>\n      <td id=\"T_2cd53_row4_col2\" class=\"data row4 col2\" >33934603727869.3516</td>\n      <td id=\"T_2cd53_row4_col3\" class=\"data row4 col3\" >5554884.6365</td>\n      <td id=\"T_2cd53_row4_col4\" class=\"data row4 col4\" >0.8945</td>\n      <td id=\"T_2cd53_row4_col5\" class=\"data row4 col5\" >0.0226</td>\n      <td id=\"T_2cd53_row4_col6\" class=\"data row4 col6\" >0.0207</td>\n      <td id=\"T_2cd53_row4_col7\" class=\"data row4 col7\" >0.0100</td>\n    </tr>\n    <tr>\n      <th id=\"T_2cd53_level0_row5\" class=\"row_heading level0 row5\" >huber</th>\n      <td id=\"T_2cd53_row5_col0\" class=\"data row5 col0\" >Huber Regressor</td>\n      <td id=\"T_2cd53_row5_col1\" class=\"data row5 col1\" >5666600.8599</td>\n      <td id=\"T_2cd53_row5_col2\" class=\"data row5 col2\" >53026366472885.6562</td>\n      <td id=\"T_2cd53_row5_col3\" class=\"data row5 col3\" >7263395.2897</td>\n      <td id=\"T_2cd53_row5_col4\" class=\"data row5 col4\" >0.6972</td>\n      <td id=\"T_2cd53_row5_col5\" class=\"data row5 col5\" >0.0278</td>\n      <td id=\"T_2cd53_row5_col6\" class=\"data row5 col6\" >0.0222</td>\n      <td id=\"T_2cd53_row5_col7\" class=\"data row5 col7\" >0.0333</td>\n    </tr>\n    <tr>\n      <th id=\"T_2cd53_level0_row6\" class=\"row_heading level0 row6\" >dt</th>\n      <td id=\"T_2cd53_row6_col0\" class=\"data row6 col0\" >Decision Tree Regressor</td>\n      <td id=\"T_2cd53_row6_col1\" class=\"data row6 col1\" >11089106.3704</td>\n      <td id=\"T_2cd53_row6_col2\" class=\"data row6 col2\" >477572822412913.7500</td>\n      <td id=\"T_2cd53_row6_col3\" class=\"data row6 col3\" >17476511.7629</td>\n      <td id=\"T_2cd53_row6_col4\" class=\"data row6 col4\" >0.2466</td>\n      <td id=\"T_2cd53_row6_col5\" class=\"data row6 col5\" >0.0626</td>\n      <td id=\"T_2cd53_row6_col6\" class=\"data row6 col6\" >0.0399</td>\n      <td id=\"T_2cd53_row6_col7\" class=\"data row6 col7\" >0.0033</td>\n    </tr>\n    <tr>\n      <th id=\"T_2cd53_level0_row7\" class=\"row_heading level0 row7\" >par</th>\n      <td id=\"T_2cd53_row7_col0\" class=\"data row7 col0\" >Passive Aggressive Regressor</td>\n      <td id=\"T_2cd53_row7_col1\" class=\"data row7 col1\" >11945788.1574</td>\n      <td id=\"T_2cd53_row7_col2\" class=\"data row7 col2\" >408555262743995.3125</td>\n      <td id=\"T_2cd53_row7_col3\" class=\"data row7 col3\" >18127704.2142</td>\n      <td id=\"T_2cd53_row7_col4\" class=\"data row7 col4\" >0.1237</td>\n      <td id=\"T_2cd53_row7_col5\" class=\"data row7 col5\" >0.0674</td>\n      <td id=\"T_2cd53_row7_col6\" class=\"data row7 col6\" >0.0449</td>\n      <td id=\"T_2cd53_row7_col7\" class=\"data row7 col7\" >0.0067</td>\n    </tr>\n    <tr>\n      <th id=\"T_2cd53_level0_row8\" class=\"row_heading level0 row8\" >ada</th>\n      <td id=\"T_2cd53_row8_col0\" class=\"data row8 col0\" >AdaBoost Regressor</td>\n      <td id=\"T_2cd53_row8_col1\" class=\"data row8 col1\" >12188693.6106</td>\n      <td id=\"T_2cd53_row8_col2\" class=\"data row8 col2\" >509681318450306.7500</td>\n      <td id=\"T_2cd53_row8_col3\" class=\"data row8 col3\" >18670348.6951</td>\n      <td id=\"T_2cd53_row8_col4\" class=\"data row8 col4\" >0.2398</td>\n      <td id=\"T_2cd53_row8_col5\" class=\"data row8 col5\" >0.0682</td>\n      <td id=\"T_2cd53_row8_col6\" class=\"data row8 col6\" >0.0441</td>\n      <td id=\"T_2cd53_row8_col7\" class=\"data row8 col7\" >0.0233</td>\n    </tr>\n    <tr>\n      <th id=\"T_2cd53_level0_row9\" class=\"row_heading level0 row9\" >et</th>\n      <td id=\"T_2cd53_row9_col0\" class=\"data row9 col0\" >Extra Trees Regressor</td>\n      <td id=\"T_2cd53_row9_col1\" class=\"data row9 col1\" >12355192.4415</td>\n      <td id=\"T_2cd53_row9_col2\" class=\"data row9 col2\" >510245903219505.7500</td>\n      <td id=\"T_2cd53_row9_col3\" class=\"data row9 col3\" >18696631.3178</td>\n      <td id=\"T_2cd53_row9_col4\" class=\"data row9 col4\" >0.2266</td>\n      <td id=\"T_2cd53_row9_col5\" class=\"data row9 col5\" >0.0677</td>\n      <td id=\"T_2cd53_row9_col6\" class=\"data row9 col6\" >0.0446</td>\n      <td id=\"T_2cd53_row9_col7\" class=\"data row9 col7\" >0.0533</td>\n    </tr>\n    <tr>\n      <th id=\"T_2cd53_level0_row10\" class=\"row_heading level0 row10\" >rf</th>\n      <td id=\"T_2cd53_row10_col0\" class=\"data row10 col0\" >Random Forest Regressor</td>\n      <td id=\"T_2cd53_row10_col1\" class=\"data row10 col1\" >12699234.2015</td>\n      <td id=\"T_2cd53_row10_col2\" class=\"data row10 col2\" >543649858529583.6875</td>\n      <td id=\"T_2cd53_row10_col3\" class=\"data row10 col3\" >19151907.3830</td>\n      <td id=\"T_2cd53_row10_col4\" class=\"data row10 col4\" >0.1953</td>\n      <td id=\"T_2cd53_row10_col5\" class=\"data row10 col5\" >0.0692</td>\n      <td id=\"T_2cd53_row10_col6\" class=\"data row10 col6\" >0.0456</td>\n      <td id=\"T_2cd53_row10_col7\" class=\"data row10 col7\" >0.0667</td>\n    </tr>\n    <tr>\n      <th id=\"T_2cd53_level0_row11\" class=\"row_heading level0 row11\" >gbr</th>\n      <td id=\"T_2cd53_row11_col0\" class=\"data row11 col0\" >Gradient Boosting Regressor</td>\n      <td id=\"T_2cd53_row11_col1\" class=\"data row11 col1\" >12896945.5746</td>\n      <td id=\"T_2cd53_row11_col2\" class=\"data row11 col2\" >522533852775788.0625</td>\n      <td id=\"T_2cd53_row11_col3\" class=\"data row11 col3\" >19154940.7753</td>\n      <td id=\"T_2cd53_row11_col4\" class=\"data row11 col4\" >0.1846</td>\n      <td id=\"T_2cd53_row11_col5\" class=\"data row11 col5\" >0.0699</td>\n      <td id=\"T_2cd53_row11_col6\" class=\"data row11 col6\" >0.0470</td>\n      <td id=\"T_2cd53_row11_col7\" class=\"data row11 col7\" >0.0167</td>\n    </tr>\n    <tr>\n      <th id=\"T_2cd53_level0_row12\" class=\"row_heading level0 row12\" >xgboost</th>\n      <td id=\"T_2cd53_row12_col0\" class=\"data row12 col0\" >Extreme Gradient Boosting</td>\n      <td id=\"T_2cd53_row12_col1\" class=\"data row12 col1\" >13518913.1667</td>\n      <td id=\"T_2cd53_row12_col2\" class=\"data row12 col2\" >526280771152554.6875</td>\n      <td id=\"T_2cd53_row12_col3\" class=\"data row12 col3\" >19410174.6667</td>\n      <td id=\"T_2cd53_row12_col4\" class=\"data row12 col4\" >0.1348</td>\n      <td id=\"T_2cd53_row12_col5\" class=\"data row12 col5\" >0.0717</td>\n      <td id=\"T_2cd53_row12_col6\" class=\"data row12 col6\" >0.0497</td>\n      <td id=\"T_2cd53_row12_col7\" class=\"data row12 col7\" >0.0800</td>\n    </tr>\n    <tr>\n      <th id=\"T_2cd53_level0_row13\" class=\"row_heading level0 row13\" >omp</th>\n      <td id=\"T_2cd53_row13_col0\" class=\"data row13 col0\" >Orthogonal Matching Pursuit</td>\n      <td id=\"T_2cd53_row13_col1\" class=\"data row13 col1\" >15207725.0401</td>\n      <td id=\"T_2cd53_row13_col2\" class=\"data row13 col2\" >1049984132273589.0000</td>\n      <td id=\"T_2cd53_row13_col3\" class=\"data row13 col3\" >25188906.0317</td>\n      <td id=\"T_2cd53_row13_col4\" class=\"data row13 col4\" >-0.5178</td>\n      <td id=\"T_2cd53_row13_col5\" class=\"data row13 col5\" >0.0722</td>\n      <td id=\"T_2cd53_row13_col6\" class=\"data row13 col6\" >0.0540</td>\n      <td id=\"T_2cd53_row13_col7\" class=\"data row13 col7\" >0.0100</td>\n    </tr>\n    <tr>\n      <th id=\"T_2cd53_level0_row14\" class=\"row_heading level0 row14\" >knn</th>\n      <td id=\"T_2cd53_row14_col0\" class=\"data row14 col0\" >K Neighbors Regressor</td>\n      <td id=\"T_2cd53_row14_col1\" class=\"data row14 col1\" >17302546.6667</td>\n      <td id=\"T_2cd53_row14_col2\" class=\"data row14 col2\" >722433201231189.3750</td>\n      <td id=\"T_2cd53_row14_col3\" class=\"data row14 col3\" >24223426.6667</td>\n      <td id=\"T_2cd53_row14_col4\" class=\"data row14 col4\" >-0.6005</td>\n      <td id=\"T_2cd53_row14_col5\" class=\"data row14 col5\" >0.0926</td>\n      <td id=\"T_2cd53_row14_col6\" class=\"data row14 col6\" >0.0649</td>\n      <td id=\"T_2cd53_row14_col7\" class=\"data row14 col7\" >0.0100</td>\n    </tr>\n    <tr>\n      <th id=\"T_2cd53_level0_row15\" class=\"row_heading level0 row15\" >lasso</th>\n      <td id=\"T_2cd53_row15_col0\" class=\"data row15 col0\" >Lasso Regression</td>\n      <td id=\"T_2cd53_row15_col1\" class=\"data row15 col1\" >21175172.3333</td>\n      <td id=\"T_2cd53_row15_col2\" class=\"data row15 col2\" >847056386129920.0000</td>\n      <td id=\"T_2cd53_row15_col3\" class=\"data row15 col3\" >24085365.5000</td>\n      <td id=\"T_2cd53_row15_col4\" class=\"data row15 col4\" >-2.5887</td>\n      <td id=\"T_2cd53_row15_col5\" class=\"data row15 col5\" >0.1101</td>\n      <td id=\"T_2cd53_row15_col6\" class=\"data row15 col6\" >0.0863</td>\n      <td id=\"T_2cd53_row15_col7\" class=\"data row15 col7\" >1.2467</td>\n    </tr>\n    <tr>\n      <th id=\"T_2cd53_level0_row16\" class=\"row_heading level0 row16\" >lightgbm</th>\n      <td id=\"T_2cd53_row16_col0\" class=\"data row16 col0\" >Light Gradient Boosting Machine</td>\n      <td id=\"T_2cd53_row16_col1\" class=\"data row16 col1\" >21923101.5396</td>\n      <td id=\"T_2cd53_row16_col2\" class=\"data row16 col2\" >883208252725503.6250</td>\n      <td id=\"T_2cd53_row16_col3\" class=\"data row16 col3\" >29105205.5510</td>\n      <td id=\"T_2cd53_row16_col4\" class=\"data row16 col4\" >-2.5168</td>\n      <td id=\"T_2cd53_row16_col5\" class=\"data row16 col5\" >0.1124</td>\n      <td id=\"T_2cd53_row16_col6\" class=\"data row16 col6\" >0.0829</td>\n      <td id=\"T_2cd53_row16_col7\" class=\"data row16 col7\" >0.0133</td>\n    </tr>\n    <tr>\n      <th id=\"T_2cd53_level0_row17\" class=\"row_heading level0 row17\" >dummy</th>\n      <td id=\"T_2cd53_row17_col0\" class=\"data row17 col0\" >Dummy Regressor</td>\n      <td id=\"T_2cd53_row17_col1\" class=\"data row17 col1\" >26106095.3333</td>\n      <td id=\"T_2cd53_row17_col2\" class=\"data row17 col2\" >1237334757124778.7500</td>\n      <td id=\"T_2cd53_row17_col3\" class=\"data row17 col3\" >33160394.0000</td>\n      <td id=\"T_2cd53_row17_col4\" class=\"data row17 col4\" >-2.7789</td>\n      <td id=\"T_2cd53_row17_col5\" class=\"data row17 col5\" >0.1297</td>\n      <td id=\"T_2cd53_row17_col6\" class=\"data row17 col6\" >0.0978</td>\n      <td id=\"T_2cd53_row17_col7\" class=\"data row17 col7\" >0.0033</td>\n    </tr>\n    <tr>\n      <th id=\"T_2cd53_level0_row18\" class=\"row_heading level0 row18\" >lar</th>\n      <td id=\"T_2cd53_row18_col0\" class=\"data row18 col0\" >Least Angle Regression</td>\n      <td id=\"T_2cd53_row18_col1\" class=\"data row18 col1\" >1176896553129579.7500</td>\n      <td id=\"T_2cd53_row18_col2\" class=\"data row18 col2\" >3656303944528836667596504825856.0000</td>\n      <td id=\"T_2cd53_row18_col3\" class=\"data row18 col3\" >1268219449560563.7500</td>\n      <td id=\"T_2cd53_row18_col4\" class=\"data row18 col4\" >-2995113200696891.0000</td>\n      <td id=\"T_2cd53_row18_col5\" class=\"data row18 col5\" >13.7963</td>\n      <td id=\"T_2cd53_row18_col6\" class=\"data row18 col6\" >4530948.7262</td>\n      <td id=\"T_2cd53_row18_col7\" class=\"data row18 col7\" >0.0133</td>\n    </tr>\n  </tbody>\n</table>\n"
     },
     "metadata": {},
     "output_type": "display_data"
    },
    {
     "name": "stdout",
     "output_type": "stream",
     "text": [
      "<class 'sklearn.linear_model._bayes.BayesianRidge'>\n"
     ]
    }
   ],
   "source": [
    "\n",
    "# run auto ml and get the most important features\n",
    "best = run_auto_ml(train_df, test_df, dependent_col, feature_cols, False)"
   ],
   "metadata": {
    "collapsed": false,
    "pycharm": {
     "name": "#%%\n"
    }
   }
  },
  {
   "cell_type": "code",
   "execution_count": 22,
   "outputs": [],
   "source": [
    "features = get_important_features(get_config, best)"
   ],
   "metadata": {
    "collapsed": false,
    "pycharm": {
     "name": "#%%\n"
    }
   }
  },
  {
   "cell_type": "code",
   "execution_count": 24,
   "outputs": [
    {
     "data": {
      "application/vnd.plotly.v1+json": {
       "data": [
        {
         "alignmentgroup": "True",
         "hovertemplate": "Variable Importance=%{x}<br>Feature=%{y}<extra></extra>",
         "legendgroup": "",
         "marker": {
          "color": "#636efa",
          "pattern": {
           "shape": ""
          }
         },
         "name": "",
         "offsetgroup": "",
         "orientation": "h",
         "showlegend": false,
         "textposition": "auto",
         "x": [
          1.0338502533824192,
          1.0390486343357423,
          1.0748356727854778,
          1.078773726135101,
          1.1327196163462896,
          1.1710305635681364,
          1.1903496984027067,
          1.2180374099442504,
          1.231006010121538,
          1.3295434158386055,
          1.9758751492804767,
          2.7690914301804526,
          5.019263397282605
         ],
         "xaxis": "x",
         "y": [
          "Benetrac",
          "ESRRevenue",
          "401KFeeRevenue",
          "DeliveryRevenue",
          "EmergingProducts",
          "WorkersComp-PaymentSe",
          "SurePayroll.",
          "HealthBenefits",
          "InterestonFundsHeldforClients",
          "TotalPaychexAdvance",
          "HROnline",
          "CafeteriaPlansRevenue",
          "ASOAllocation"
         ],
         "yaxis": "y",
         "type": "bar"
        }
       ],
       "layout": {
        "template": {
         "data": {
          "histogram2dcontour": [
           {
            "type": "histogram2dcontour",
            "colorbar": {
             "outlinewidth": 0,
             "ticks": ""
            },
            "colorscale": [
             [
              0.0,
              "#0d0887"
             ],
             [
              0.1111111111111111,
              "#46039f"
             ],
             [
              0.2222222222222222,
              "#7201a8"
             ],
             [
              0.3333333333333333,
              "#9c179e"
             ],
             [
              0.4444444444444444,
              "#bd3786"
             ],
             [
              0.5555555555555556,
              "#d8576b"
             ],
             [
              0.6666666666666666,
              "#ed7953"
             ],
             [
              0.7777777777777778,
              "#fb9f3a"
             ],
             [
              0.8888888888888888,
              "#fdca26"
             ],
             [
              1.0,
              "#f0f921"
             ]
            ]
           }
          ],
          "choropleth": [
           {
            "type": "choropleth",
            "colorbar": {
             "outlinewidth": 0,
             "ticks": ""
            }
           }
          ],
          "histogram2d": [
           {
            "type": "histogram2d",
            "colorbar": {
             "outlinewidth": 0,
             "ticks": ""
            },
            "colorscale": [
             [
              0.0,
              "#0d0887"
             ],
             [
              0.1111111111111111,
              "#46039f"
             ],
             [
              0.2222222222222222,
              "#7201a8"
             ],
             [
              0.3333333333333333,
              "#9c179e"
             ],
             [
              0.4444444444444444,
              "#bd3786"
             ],
             [
              0.5555555555555556,
              "#d8576b"
             ],
             [
              0.6666666666666666,
              "#ed7953"
             ],
             [
              0.7777777777777778,
              "#fb9f3a"
             ],
             [
              0.8888888888888888,
              "#fdca26"
             ],
             [
              1.0,
              "#f0f921"
             ]
            ]
           }
          ],
          "heatmap": [
           {
            "type": "heatmap",
            "colorbar": {
             "outlinewidth": 0,
             "ticks": ""
            },
            "colorscale": [
             [
              0.0,
              "#0d0887"
             ],
             [
              0.1111111111111111,
              "#46039f"
             ],
             [
              0.2222222222222222,
              "#7201a8"
             ],
             [
              0.3333333333333333,
              "#9c179e"
             ],
             [
              0.4444444444444444,
              "#bd3786"
             ],
             [
              0.5555555555555556,
              "#d8576b"
             ],
             [
              0.6666666666666666,
              "#ed7953"
             ],
             [
              0.7777777777777778,
              "#fb9f3a"
             ],
             [
              0.8888888888888888,
              "#fdca26"
             ],
             [
              1.0,
              "#f0f921"
             ]
            ]
           }
          ],
          "heatmapgl": [
           {
            "type": "heatmapgl",
            "colorbar": {
             "outlinewidth": 0,
             "ticks": ""
            },
            "colorscale": [
             [
              0.0,
              "#0d0887"
             ],
             [
              0.1111111111111111,
              "#46039f"
             ],
             [
              0.2222222222222222,
              "#7201a8"
             ],
             [
              0.3333333333333333,
              "#9c179e"
             ],
             [
              0.4444444444444444,
              "#bd3786"
             ],
             [
              0.5555555555555556,
              "#d8576b"
             ],
             [
              0.6666666666666666,
              "#ed7953"
             ],
             [
              0.7777777777777778,
              "#fb9f3a"
             ],
             [
              0.8888888888888888,
              "#fdca26"
             ],
             [
              1.0,
              "#f0f921"
             ]
            ]
           }
          ],
          "contourcarpet": [
           {
            "type": "contourcarpet",
            "colorbar": {
             "outlinewidth": 0,
             "ticks": ""
            }
           }
          ],
          "contour": [
           {
            "type": "contour",
            "colorbar": {
             "outlinewidth": 0,
             "ticks": ""
            },
            "colorscale": [
             [
              0.0,
              "#0d0887"
             ],
             [
              0.1111111111111111,
              "#46039f"
             ],
             [
              0.2222222222222222,
              "#7201a8"
             ],
             [
              0.3333333333333333,
              "#9c179e"
             ],
             [
              0.4444444444444444,
              "#bd3786"
             ],
             [
              0.5555555555555556,
              "#d8576b"
             ],
             [
              0.6666666666666666,
              "#ed7953"
             ],
             [
              0.7777777777777778,
              "#fb9f3a"
             ],
             [
              0.8888888888888888,
              "#fdca26"
             ],
             [
              1.0,
              "#f0f921"
             ]
            ]
           }
          ],
          "surface": [
           {
            "type": "surface",
            "colorbar": {
             "outlinewidth": 0,
             "ticks": ""
            },
            "colorscale": [
             [
              0.0,
              "#0d0887"
             ],
             [
              0.1111111111111111,
              "#46039f"
             ],
             [
              0.2222222222222222,
              "#7201a8"
             ],
             [
              0.3333333333333333,
              "#9c179e"
             ],
             [
              0.4444444444444444,
              "#bd3786"
             ],
             [
              0.5555555555555556,
              "#d8576b"
             ],
             [
              0.6666666666666666,
              "#ed7953"
             ],
             [
              0.7777777777777778,
              "#fb9f3a"
             ],
             [
              0.8888888888888888,
              "#fdca26"
             ],
             [
              1.0,
              "#f0f921"
             ]
            ]
           }
          ],
          "mesh3d": [
           {
            "type": "mesh3d",
            "colorbar": {
             "outlinewidth": 0,
             "ticks": ""
            }
           }
          ],
          "scatter": [
           {
            "fillpattern": {
             "fillmode": "overlay",
             "size": 10,
             "solidity": 0.2
            },
            "type": "scatter"
           }
          ],
          "parcoords": [
           {
            "type": "parcoords",
            "line": {
             "colorbar": {
              "outlinewidth": 0,
              "ticks": ""
             }
            }
           }
          ],
          "scatterpolargl": [
           {
            "type": "scatterpolargl",
            "marker": {
             "colorbar": {
              "outlinewidth": 0,
              "ticks": ""
             }
            }
           }
          ],
          "bar": [
           {
            "error_x": {
             "color": "#2a3f5f"
            },
            "error_y": {
             "color": "#2a3f5f"
            },
            "marker": {
             "line": {
              "color": "#E5ECF6",
              "width": 0.5
             },
             "pattern": {
              "fillmode": "overlay",
              "size": 10,
              "solidity": 0.2
             }
            },
            "type": "bar"
           }
          ],
          "scattergeo": [
           {
            "type": "scattergeo",
            "marker": {
             "colorbar": {
              "outlinewidth": 0,
              "ticks": ""
             }
            }
           }
          ],
          "scatterpolar": [
           {
            "type": "scatterpolar",
            "marker": {
             "colorbar": {
              "outlinewidth": 0,
              "ticks": ""
             }
            }
           }
          ],
          "histogram": [
           {
            "marker": {
             "pattern": {
              "fillmode": "overlay",
              "size": 10,
              "solidity": 0.2
             }
            },
            "type": "histogram"
           }
          ],
          "scattergl": [
           {
            "type": "scattergl",
            "marker": {
             "colorbar": {
              "outlinewidth": 0,
              "ticks": ""
             }
            }
           }
          ],
          "scatter3d": [
           {
            "type": "scatter3d",
            "line": {
             "colorbar": {
              "outlinewidth": 0,
              "ticks": ""
             }
            },
            "marker": {
             "colorbar": {
              "outlinewidth": 0,
              "ticks": ""
             }
            }
           }
          ],
          "scattermapbox": [
           {
            "type": "scattermapbox",
            "marker": {
             "colorbar": {
              "outlinewidth": 0,
              "ticks": ""
             }
            }
           }
          ],
          "scatterternary": [
           {
            "type": "scatterternary",
            "marker": {
             "colorbar": {
              "outlinewidth": 0,
              "ticks": ""
             }
            }
           }
          ],
          "scattercarpet": [
           {
            "type": "scattercarpet",
            "marker": {
             "colorbar": {
              "outlinewidth": 0,
              "ticks": ""
             }
            }
           }
          ],
          "carpet": [
           {
            "aaxis": {
             "endlinecolor": "#2a3f5f",
             "gridcolor": "white",
             "linecolor": "white",
             "minorgridcolor": "white",
             "startlinecolor": "#2a3f5f"
            },
            "baxis": {
             "endlinecolor": "#2a3f5f",
             "gridcolor": "white",
             "linecolor": "white",
             "minorgridcolor": "white",
             "startlinecolor": "#2a3f5f"
            },
            "type": "carpet"
           }
          ],
          "table": [
           {
            "cells": {
             "fill": {
              "color": "#EBF0F8"
             },
             "line": {
              "color": "white"
             }
            },
            "header": {
             "fill": {
              "color": "#C8D4E3"
             },
             "line": {
              "color": "white"
             }
            },
            "type": "table"
           }
          ],
          "barpolar": [
           {
            "marker": {
             "line": {
              "color": "#E5ECF6",
              "width": 0.5
             },
             "pattern": {
              "fillmode": "overlay",
              "size": 10,
              "solidity": 0.2
             }
            },
            "type": "barpolar"
           }
          ],
          "pie": [
           {
            "automargin": true,
            "type": "pie"
           }
          ]
         },
         "layout": {
          "autotypenumbers": "strict",
          "colorway": [
           "#636efa",
           "#EF553B",
           "#00cc96",
           "#ab63fa",
           "#FFA15A",
           "#19d3f3",
           "#FF6692",
           "#B6E880",
           "#FF97FF",
           "#FECB52"
          ],
          "font": {
           "color": "#2a3f5f"
          },
          "hovermode": "closest",
          "hoverlabel": {
           "align": "left"
          },
          "paper_bgcolor": "white",
          "plot_bgcolor": "#E5ECF6",
          "polar": {
           "bgcolor": "#E5ECF6",
           "angularaxis": {
            "gridcolor": "white",
            "linecolor": "white",
            "ticks": ""
           },
           "radialaxis": {
            "gridcolor": "white",
            "linecolor": "white",
            "ticks": ""
           }
          },
          "ternary": {
           "bgcolor": "#E5ECF6",
           "aaxis": {
            "gridcolor": "white",
            "linecolor": "white",
            "ticks": ""
           },
           "baxis": {
            "gridcolor": "white",
            "linecolor": "white",
            "ticks": ""
           },
           "caxis": {
            "gridcolor": "white",
            "linecolor": "white",
            "ticks": ""
           }
          },
          "coloraxis": {
           "colorbar": {
            "outlinewidth": 0,
            "ticks": ""
           }
          },
          "colorscale": {
           "sequential": [
            [
             0.0,
             "#0d0887"
            ],
            [
             0.1111111111111111,
             "#46039f"
            ],
            [
             0.2222222222222222,
             "#7201a8"
            ],
            [
             0.3333333333333333,
             "#9c179e"
            ],
            [
             0.4444444444444444,
             "#bd3786"
            ],
            [
             0.5555555555555556,
             "#d8576b"
            ],
            [
             0.6666666666666666,
             "#ed7953"
            ],
            [
             0.7777777777777778,
             "#fb9f3a"
            ],
            [
             0.8888888888888888,
             "#fdca26"
            ],
            [
             1.0,
             "#f0f921"
            ]
           ],
           "sequentialminus": [
            [
             0.0,
             "#0d0887"
            ],
            [
             0.1111111111111111,
             "#46039f"
            ],
            [
             0.2222222222222222,
             "#7201a8"
            ],
            [
             0.3333333333333333,
             "#9c179e"
            ],
            [
             0.4444444444444444,
             "#bd3786"
            ],
            [
             0.5555555555555556,
             "#d8576b"
            ],
            [
             0.6666666666666666,
             "#ed7953"
            ],
            [
             0.7777777777777778,
             "#fb9f3a"
            ],
            [
             0.8888888888888888,
             "#fdca26"
            ],
            [
             1.0,
             "#f0f921"
            ]
           ],
           "diverging": [
            [
             0,
             "#8e0152"
            ],
            [
             0.1,
             "#c51b7d"
            ],
            [
             0.2,
             "#de77ae"
            ],
            [
             0.3,
             "#f1b6da"
            ],
            [
             0.4,
             "#fde0ef"
            ],
            [
             0.5,
             "#f7f7f7"
            ],
            [
             0.6,
             "#e6f5d0"
            ],
            [
             0.7,
             "#b8e186"
            ],
            [
             0.8,
             "#7fbc41"
            ],
            [
             0.9,
             "#4d9221"
            ],
            [
             1,
             "#276419"
            ]
           ]
          },
          "xaxis": {
           "gridcolor": "white",
           "linecolor": "white",
           "ticks": "",
           "title": {
            "standoff": 15
           },
           "zerolinecolor": "white",
           "automargin": true,
           "zerolinewidth": 2
          },
          "yaxis": {
           "gridcolor": "white",
           "linecolor": "white",
           "ticks": "",
           "title": {
            "standoff": 15
           },
           "zerolinecolor": "white",
           "automargin": true,
           "zerolinewidth": 2
          },
          "scene": {
           "xaxis": {
            "backgroundcolor": "#E5ECF6",
            "gridcolor": "white",
            "linecolor": "white",
            "showbackground": true,
            "ticks": "",
            "zerolinecolor": "white",
            "gridwidth": 2
           },
           "yaxis": {
            "backgroundcolor": "#E5ECF6",
            "gridcolor": "white",
            "linecolor": "white",
            "showbackground": true,
            "ticks": "",
            "zerolinecolor": "white",
            "gridwidth": 2
           },
           "zaxis": {
            "backgroundcolor": "#E5ECF6",
            "gridcolor": "white",
            "linecolor": "white",
            "showbackground": true,
            "ticks": "",
            "zerolinecolor": "white",
            "gridwidth": 2
           }
          },
          "shapedefaults": {
           "line": {
            "color": "#2a3f5f"
           }
          },
          "annotationdefaults": {
           "arrowcolor": "#2a3f5f",
           "arrowhead": 0,
           "arrowwidth": 1
          },
          "geo": {
           "bgcolor": "white",
           "landcolor": "#E5ECF6",
           "subunitcolor": "white",
           "showland": true,
           "showlakes": true,
           "lakecolor": "white"
          },
          "title": {
           "x": 0.05
          },
          "mapbox": {
           "style": "light"
          }
         }
        },
        "xaxis": {
         "anchor": "y",
         "domain": [
          0.0,
          1.0
         ],
         "title": {
          "text": "Variable Importance"
         }
        },
        "yaxis": {
         "anchor": "x",
         "domain": [
          0.0,
          1.0
         ],
         "title": {
          "text": "Feature"
         }
        },
        "legend": {
         "tracegroupgap": 0
        },
        "title": {
         "text": "Feature Importance Plot"
        },
        "barmode": "relative"
       },
       "config": {
        "plotlyServerURL": "https://plot.ly"
       }
      },
      "text/html": "<div>                            <div id=\"0fa80296-6af3-4d7b-9ad7-7b7f7841d93a\" class=\"plotly-graph-div\" style=\"height:525px; width:100%;\"></div>            <script type=\"text/javascript\">                require([\"plotly\"], function(Plotly) {                    window.PLOTLYENV=window.PLOTLYENV || {};                                    if (document.getElementById(\"0fa80296-6af3-4d7b-9ad7-7b7f7841d93a\")) {                    Plotly.newPlot(                        \"0fa80296-6af3-4d7b-9ad7-7b7f7841d93a\",                        [{\"alignmentgroup\":\"True\",\"hovertemplate\":\"Variable Importance=%{x}<br>Feature=%{y}<extra></extra>\",\"legendgroup\":\"\",\"marker\":{\"color\":\"#636efa\",\"pattern\":{\"shape\":\"\"}},\"name\":\"\",\"offsetgroup\":\"\",\"orientation\":\"h\",\"showlegend\":false,\"textposition\":\"auto\",\"x\":[1.0338502533824192,1.0390486343357423,1.0748356727854778,1.078773726135101,1.1327196163462896,1.1710305635681364,1.1903496984027067,1.2180374099442504,1.231006010121538,1.3295434158386055,1.9758751492804767,2.7690914301804526,5.019263397282605],\"xaxis\":\"x\",\"y\":[\"Benetrac\",\"ESRRevenue\",\"401KFeeRevenue\",\"DeliveryRevenue\",\"EmergingProducts\",\"WorkersComp-PaymentSe\",\"SurePayroll.\",\"HealthBenefits\",\"InterestonFundsHeldforClients\",\"TotalPaychexAdvance\",\"HROnline\",\"CafeteriaPlansRevenue\",\"ASOAllocation\"],\"yaxis\":\"y\",\"type\":\"bar\"}],                        {\"template\":{\"data\":{\"histogram2dcontour\":[{\"type\":\"histogram2dcontour\",\"colorbar\":{\"outlinewidth\":0,\"ticks\":\"\"},\"colorscale\":[[0.0,\"#0d0887\"],[0.1111111111111111,\"#46039f\"],[0.2222222222222222,\"#7201a8\"],[0.3333333333333333,\"#9c179e\"],[0.4444444444444444,\"#bd3786\"],[0.5555555555555556,\"#d8576b\"],[0.6666666666666666,\"#ed7953\"],[0.7777777777777778,\"#fb9f3a\"],[0.8888888888888888,\"#fdca26\"],[1.0,\"#f0f921\"]]}],\"choropleth\":[{\"type\":\"choropleth\",\"colorbar\":{\"outlinewidth\":0,\"ticks\":\"\"}}],\"histogram2d\":[{\"type\":\"histogram2d\",\"colorbar\":{\"outlinewidth\":0,\"ticks\":\"\"},\"colorscale\":[[0.0,\"#0d0887\"],[0.1111111111111111,\"#46039f\"],[0.2222222222222222,\"#7201a8\"],[0.3333333333333333,\"#9c179e\"],[0.4444444444444444,\"#bd3786\"],[0.5555555555555556,\"#d8576b\"],[0.6666666666666666,\"#ed7953\"],[0.7777777777777778,\"#fb9f3a\"],[0.8888888888888888,\"#fdca26\"],[1.0,\"#f0f921\"]]}],\"heatmap\":[{\"type\":\"heatmap\",\"colorbar\":{\"outlinewidth\":0,\"ticks\":\"\"},\"colorscale\":[[0.0,\"#0d0887\"],[0.1111111111111111,\"#46039f\"],[0.2222222222222222,\"#7201a8\"],[0.3333333333333333,\"#9c179e\"],[0.4444444444444444,\"#bd3786\"],[0.5555555555555556,\"#d8576b\"],[0.6666666666666666,\"#ed7953\"],[0.7777777777777778,\"#fb9f3a\"],[0.8888888888888888,\"#fdca26\"],[1.0,\"#f0f921\"]]}],\"heatmapgl\":[{\"type\":\"heatmapgl\",\"colorbar\":{\"outlinewidth\":0,\"ticks\":\"\"},\"colorscale\":[[0.0,\"#0d0887\"],[0.1111111111111111,\"#46039f\"],[0.2222222222222222,\"#7201a8\"],[0.3333333333333333,\"#9c179e\"],[0.4444444444444444,\"#bd3786\"],[0.5555555555555556,\"#d8576b\"],[0.6666666666666666,\"#ed7953\"],[0.7777777777777778,\"#fb9f3a\"],[0.8888888888888888,\"#fdca26\"],[1.0,\"#f0f921\"]]}],\"contourcarpet\":[{\"type\":\"contourcarpet\",\"colorbar\":{\"outlinewidth\":0,\"ticks\":\"\"}}],\"contour\":[{\"type\":\"contour\",\"colorbar\":{\"outlinewidth\":0,\"ticks\":\"\"},\"colorscale\":[[0.0,\"#0d0887\"],[0.1111111111111111,\"#46039f\"],[0.2222222222222222,\"#7201a8\"],[0.3333333333333333,\"#9c179e\"],[0.4444444444444444,\"#bd3786\"],[0.5555555555555556,\"#d8576b\"],[0.6666666666666666,\"#ed7953\"],[0.7777777777777778,\"#fb9f3a\"],[0.8888888888888888,\"#fdca26\"],[1.0,\"#f0f921\"]]}],\"surface\":[{\"type\":\"surface\",\"colorbar\":{\"outlinewidth\":0,\"ticks\":\"\"},\"colorscale\":[[0.0,\"#0d0887\"],[0.1111111111111111,\"#46039f\"],[0.2222222222222222,\"#7201a8\"],[0.3333333333333333,\"#9c179e\"],[0.4444444444444444,\"#bd3786\"],[0.5555555555555556,\"#d8576b\"],[0.6666666666666666,\"#ed7953\"],[0.7777777777777778,\"#fb9f3a\"],[0.8888888888888888,\"#fdca26\"],[1.0,\"#f0f921\"]]}],\"mesh3d\":[{\"type\":\"mesh3d\",\"colorbar\":{\"outlinewidth\":0,\"ticks\":\"\"}}],\"scatter\":[{\"fillpattern\":{\"fillmode\":\"overlay\",\"size\":10,\"solidity\":0.2},\"type\":\"scatter\"}],\"parcoords\":[{\"type\":\"parcoords\",\"line\":{\"colorbar\":{\"outlinewidth\":0,\"ticks\":\"\"}}}],\"scatterpolargl\":[{\"type\":\"scatterpolargl\",\"marker\":{\"colorbar\":{\"outlinewidth\":0,\"ticks\":\"\"}}}],\"bar\":[{\"error_x\":{\"color\":\"#2a3f5f\"},\"error_y\":{\"color\":\"#2a3f5f\"},\"marker\":{\"line\":{\"color\":\"#E5ECF6\",\"width\":0.5},\"pattern\":{\"fillmode\":\"overlay\",\"size\":10,\"solidity\":0.2}},\"type\":\"bar\"}],\"scattergeo\":[{\"type\":\"scattergeo\",\"marker\":{\"colorbar\":{\"outlinewidth\":0,\"ticks\":\"\"}}}],\"scatterpolar\":[{\"type\":\"scatterpolar\",\"marker\":{\"colorbar\":{\"outlinewidth\":0,\"ticks\":\"\"}}}],\"histogram\":[{\"marker\":{\"pattern\":{\"fillmode\":\"overlay\",\"size\":10,\"solidity\":0.2}},\"type\":\"histogram\"}],\"scattergl\":[{\"type\":\"scattergl\",\"marker\":{\"colorbar\":{\"outlinewidth\":0,\"ticks\":\"\"}}}],\"scatter3d\":[{\"type\":\"scatter3d\",\"line\":{\"colorbar\":{\"outlinewidth\":0,\"ticks\":\"\"}},\"marker\":{\"colorbar\":{\"outlinewidth\":0,\"ticks\":\"\"}}}],\"scattermapbox\":[{\"type\":\"scattermapbox\",\"marker\":{\"colorbar\":{\"outlinewidth\":0,\"ticks\":\"\"}}}],\"scatterternary\":[{\"type\":\"scatterternary\",\"marker\":{\"colorbar\":{\"outlinewidth\":0,\"ticks\":\"\"}}}],\"scattercarpet\":[{\"type\":\"scattercarpet\",\"marker\":{\"colorbar\":{\"outlinewidth\":0,\"ticks\":\"\"}}}],\"carpet\":[{\"aaxis\":{\"endlinecolor\":\"#2a3f5f\",\"gridcolor\":\"white\",\"linecolor\":\"white\",\"minorgridcolor\":\"white\",\"startlinecolor\":\"#2a3f5f\"},\"baxis\":{\"endlinecolor\":\"#2a3f5f\",\"gridcolor\":\"white\",\"linecolor\":\"white\",\"minorgridcolor\":\"white\",\"startlinecolor\":\"#2a3f5f\"},\"type\":\"carpet\"}],\"table\":[{\"cells\":{\"fill\":{\"color\":\"#EBF0F8\"},\"line\":{\"color\":\"white\"}},\"header\":{\"fill\":{\"color\":\"#C8D4E3\"},\"line\":{\"color\":\"white\"}},\"type\":\"table\"}],\"barpolar\":[{\"marker\":{\"line\":{\"color\":\"#E5ECF6\",\"width\":0.5},\"pattern\":{\"fillmode\":\"overlay\",\"size\":10,\"solidity\":0.2}},\"type\":\"barpolar\"}],\"pie\":[{\"automargin\":true,\"type\":\"pie\"}]},\"layout\":{\"autotypenumbers\":\"strict\",\"colorway\":[\"#636efa\",\"#EF553B\",\"#00cc96\",\"#ab63fa\",\"#FFA15A\",\"#19d3f3\",\"#FF6692\",\"#B6E880\",\"#FF97FF\",\"#FECB52\"],\"font\":{\"color\":\"#2a3f5f\"},\"hovermode\":\"closest\",\"hoverlabel\":{\"align\":\"left\"},\"paper_bgcolor\":\"white\",\"plot_bgcolor\":\"#E5ECF6\",\"polar\":{\"bgcolor\":\"#E5ECF6\",\"angularaxis\":{\"gridcolor\":\"white\",\"linecolor\":\"white\",\"ticks\":\"\"},\"radialaxis\":{\"gridcolor\":\"white\",\"linecolor\":\"white\",\"ticks\":\"\"}},\"ternary\":{\"bgcolor\":\"#E5ECF6\",\"aaxis\":{\"gridcolor\":\"white\",\"linecolor\":\"white\",\"ticks\":\"\"},\"baxis\":{\"gridcolor\":\"white\",\"linecolor\":\"white\",\"ticks\":\"\"},\"caxis\":{\"gridcolor\":\"white\",\"linecolor\":\"white\",\"ticks\":\"\"}},\"coloraxis\":{\"colorbar\":{\"outlinewidth\":0,\"ticks\":\"\"}},\"colorscale\":{\"sequential\":[[0.0,\"#0d0887\"],[0.1111111111111111,\"#46039f\"],[0.2222222222222222,\"#7201a8\"],[0.3333333333333333,\"#9c179e\"],[0.4444444444444444,\"#bd3786\"],[0.5555555555555556,\"#d8576b\"],[0.6666666666666666,\"#ed7953\"],[0.7777777777777778,\"#fb9f3a\"],[0.8888888888888888,\"#fdca26\"],[1.0,\"#f0f921\"]],\"sequentialminus\":[[0.0,\"#0d0887\"],[0.1111111111111111,\"#46039f\"],[0.2222222222222222,\"#7201a8\"],[0.3333333333333333,\"#9c179e\"],[0.4444444444444444,\"#bd3786\"],[0.5555555555555556,\"#d8576b\"],[0.6666666666666666,\"#ed7953\"],[0.7777777777777778,\"#fb9f3a\"],[0.8888888888888888,\"#fdca26\"],[1.0,\"#f0f921\"]],\"diverging\":[[0,\"#8e0152\"],[0.1,\"#c51b7d\"],[0.2,\"#de77ae\"],[0.3,\"#f1b6da\"],[0.4,\"#fde0ef\"],[0.5,\"#f7f7f7\"],[0.6,\"#e6f5d0\"],[0.7,\"#b8e186\"],[0.8,\"#7fbc41\"],[0.9,\"#4d9221\"],[1,\"#276419\"]]},\"xaxis\":{\"gridcolor\":\"white\",\"linecolor\":\"white\",\"ticks\":\"\",\"title\":{\"standoff\":15},\"zerolinecolor\":\"white\",\"automargin\":true,\"zerolinewidth\":2},\"yaxis\":{\"gridcolor\":\"white\",\"linecolor\":\"white\",\"ticks\":\"\",\"title\":{\"standoff\":15},\"zerolinecolor\":\"white\",\"automargin\":true,\"zerolinewidth\":2},\"scene\":{\"xaxis\":{\"backgroundcolor\":\"#E5ECF6\",\"gridcolor\":\"white\",\"linecolor\":\"white\",\"showbackground\":true,\"ticks\":\"\",\"zerolinecolor\":\"white\",\"gridwidth\":2},\"yaxis\":{\"backgroundcolor\":\"#E5ECF6\",\"gridcolor\":\"white\",\"linecolor\":\"white\",\"showbackground\":true,\"ticks\":\"\",\"zerolinecolor\":\"white\",\"gridwidth\":2},\"zaxis\":{\"backgroundcolor\":\"#E5ECF6\",\"gridcolor\":\"white\",\"linecolor\":\"white\",\"showbackground\":true,\"ticks\":\"\",\"zerolinecolor\":\"white\",\"gridwidth\":2}},\"shapedefaults\":{\"line\":{\"color\":\"#2a3f5f\"}},\"annotationdefaults\":{\"arrowcolor\":\"#2a3f5f\",\"arrowhead\":0,\"arrowwidth\":1},\"geo\":{\"bgcolor\":\"white\",\"landcolor\":\"#E5ECF6\",\"subunitcolor\":\"white\",\"showland\":true,\"showlakes\":true,\"lakecolor\":\"white\"},\"title\":{\"x\":0.05},\"mapbox\":{\"style\":\"light\"}}},\"xaxis\":{\"anchor\":\"y\",\"domain\":[0.0,1.0],\"title\":{\"text\":\"Variable Importance\"}},\"yaxis\":{\"anchor\":\"x\",\"domain\":[0.0,1.0],\"title\":{\"text\":\"Feature\"}},\"legend\":{\"tracegroupgap\":0},\"title\":{\"text\":\"Feature Importance Plot\"},\"barmode\":\"relative\"},                        {\"responsive\": true}                    ).then(function(){\n                            \nvar gd = document.getElementById('0fa80296-6af3-4d7b-9ad7-7b7f7841d93a');\nvar x = new MutationObserver(function (mutations, observer) {{\n        var display = window.getComputedStyle(gd).display;\n        if (!display || display === 'none') {{\n            console.log([gd, 'removed!']);\n            Plotly.purge(gd);\n            observer.disconnect();\n        }}\n}});\n\n// Listen for the removal of the full notebook cells\nvar notebookContainer = gd.closest('#notebook-container');\nif (notebookContainer) {{\n    x.observe(notebookContainer, {childList: true});\n}}\n\n// Listen for the clearing of the current output cell\nvar outputEl = gd.closest('.output');\nif (outputEl) {{\n    x.observe(outputEl, {childList: true});\n}}\n\n                        })                };                });            </script>        </div>"
     },
     "metadata": {},
     "output_type": "display_data"
    }
   ],
   "source": [
    "# Feature Importance Plot - This is the out of box pycaret plot\n",
    "#plot_model(best, plot = 'feature')\n",
    "\n",
    "# plot the most important features\n",
    "fig = px.bar(features.sort_values('Variable Importance', ascending=True),\n",
    "             x='Variable Importance',\n",
    "             y='Feature',\n",
    "             orientation='h',\n",
    "             title='Feature Importance Plot')\n",
    "fig.show()"
   ],
   "metadata": {
    "collapsed": false,
    "pycharm": {
     "name": "#%%\n"
    }
   }
  },
  {
   "cell_type": "code",
   "execution_count": 25,
   "outputs": [
    {
     "data": {
      "text/plain": "BayesianRidge(alpha_1=1e-06, alpha_2=1e-06, alpha_init=None,\n              compute_score=False, copy_X=True, fit_intercept=True,\n              lambda_1=1e-06, lambda_2=1e-06, lambda_init=None, n_iter=300,\n              normalize=False, tol=0.001, verbose=False)"
     },
     "execution_count": 25,
     "metadata": {},
     "output_type": "execute_result"
    }
   ],
   "source": [
    "best"
   ],
   "metadata": {
    "collapsed": false,
    "pycharm": {
     "name": "#%%\n"
    }
   }
  },
  {
   "cell_type": "code",
   "execution_count": 26,
   "outputs": [
    {
     "data": {
      "text/plain": "sklearn.linear_model._bayes.BayesianRidge"
     },
     "execution_count": 26,
     "metadata": {},
     "output_type": "execute_result"
    }
   ],
   "source": [
    "type(best)"
   ],
   "metadata": {
    "collapsed": false,
    "pycharm": {
     "name": "#%%\n"
    }
   }
  },
  {
   "cell_type": "code",
   "execution_count": 27,
   "outputs": [
    {
     "data": {
      "text/plain": "47"
     },
     "execution_count": 27,
     "metadata": {},
     "output_type": "execute_result"
    }
   ],
   "source": [
    "best.n_features_in_"
   ],
   "metadata": {
    "collapsed": false,
    "pycharm": {
     "name": "#%%\n"
    }
   }
  },
  {
   "cell_type": "code",
   "execution_count": 28,
   "outputs": [
    {
     "data": {
      "text/plain": "(84, 28)"
     },
     "execution_count": 28,
     "metadata": {},
     "output_type": "execute_result"
    }
   ],
   "source": [
    "comb_df.shape"
   ],
   "metadata": {
    "collapsed": false,
    "pycharm": {
     "name": "#%%\n"
    }
   }
  },
  {
   "cell_type": "code",
   "execution_count": 29,
   "outputs": [
    {
     "data": {
      "text/plain": "   CalendarDate Scenario  401KAssetfee&BPRevenue  401KFeeRevenue  \\\n0    2014-06-01   Actual               4261452.0      10621963.0   \n1    2014-07-01   Actual               4513388.0      10558382.0   \n2    2014-08-01   Actual               4486436.0      10297495.0   \n3    2014-09-01   Actual               4355891.0      12719409.0   \n4    2014-10-01   Actual               4455231.0      13797724.0   \n..          ...      ...                     ...             ...   \n79   2021-01-01   Actual               8601656.0      14541668.0   \n80   2021-02-01   Actual               8798633.0      14785257.0   \n81   2021-03-01   Actual               9014864.0      15017238.0   \n82   2021-04-01   Actual               8986182.0      14843783.0   \n83   2021-05-01   Actual               9447456.0      14198601.0   \n\n    ASOAllocation  ASORevenue-Oasis   Benetrac  CafeteriaPlansRevenue  \\\n0      7255027.55              0.00  1922941.0              1714950.0   \n1      9070820.80              0.00  1916579.0              1698495.0   \n2      7489159.50              0.00  1944830.0              1829118.0   \n3      7011292.24              0.00  1933042.0              1710602.0   \n4      9372927.59              0.00  1956820.0              1702224.0   \n..            ...               ...        ...                    ...   \n79    13265382.71         273995.85  1390060.0              1771611.0   \n80    13666646.86         291755.39  1354163.0              1685096.0   \n81    16053700.85         253715.04  1404115.0              1667442.0   \n82    14728764.11         260657.63  1349889.0              1683761.0   \n83    14672623.61         289242.62  1372288.0              1624781.0   \n\n    DeliveryRevenue  ESRRevenue  ...  TotalPaychexAdvance  Totalinternational  \\\n0        7393351.97     47602.0  ...                  0.0                 0.0   \n1       13513741.18     67521.0  ...                  0.0                 0.0   \n2        7286966.62     79771.0  ...                  0.0                 0.0   \n3        7081861.96    105330.0  ...                  0.0                 0.0   \n4       13741077.44    143956.0  ...                  0.0                 0.0   \n..              ...         ...  ...                  ...                 ...   \n79      22548298.89   3955284.0  ...            5542882.0                 0.0   \n80       6430193.76  11179898.0  ...            5572132.0                 0.0   \n81       7657980.44   5180501.0  ...            6534835.0                 0.0   \n82      11701117.00   4329239.0  ...            6052148.0                 0.0   \n83       6726549.70   1580445.0  ...            5983387.0                 0.0   \n\n     W-2Revenue  WorkersComp-PaymentSe  Series  Year  Month  TotalRevenue  \\\n0    7031234.09              4858397.0       1  2014     06  1.936779e+08   \n1    7325377.82              5244318.0       2  2014     07  2.328363e+08   \n2    7443620.46              5588578.0       3  2014     08  1.956351e+08   \n3    7414842.11              4968759.0       4  2014     09  1.911275e+08   \n4    7818212.35              5752070.0       5  2014     10  2.430453e+08   \n..          ...                    ...     ...   ...    ...           ...   \n79  80988881.77              5399816.0      80  2021     01  3.436167e+08   \n80     28599.77              5392816.0      81  2021     02  2.543673e+08   \n81    -43477.46              7384007.0      82  2021     03  2.802692e+08   \n82     44625.45              6571571.0      83  2021     04  2.722801e+08   \n83    113517.87              5953067.0      84  2021     05  2.553014e+08   \n\n           Label       Date  \n0   1.936202e+08 2014-06-01  \n1   2.324266e+08 2014-07-01  \n2   1.959262e+08 2014-08-01  \n3   1.912629e+08 2014-09-01  \n4   2.435622e+08 2014-10-01  \n..           ...        ...  \n79  3.433331e+08 2021-01-01  \n80  2.542883e+08 2021-02-01  \n81  2.818997e+08 2021-03-01  \n82  2.731794e+08 2021-04-01  \n83  2.554739e+08 2021-05-01  \n\n[84 rows x 30 columns]",
      "text/html": "<div>\n<style scoped>\n    .dataframe tbody tr th:only-of-type {\n        vertical-align: middle;\n    }\n\n    .dataframe tbody tr th {\n        vertical-align: top;\n    }\n\n    .dataframe thead th {\n        text-align: right;\n    }\n</style>\n<table border=\"1\" class=\"dataframe\">\n  <thead>\n    <tr style=\"text-align: right;\">\n      <th></th>\n      <th>CalendarDate</th>\n      <th>Scenario</th>\n      <th>401KAssetfee&amp;BPRevenue</th>\n      <th>401KFeeRevenue</th>\n      <th>ASOAllocation</th>\n      <th>ASORevenue-Oasis</th>\n      <th>Benetrac</th>\n      <th>CafeteriaPlansRevenue</th>\n      <th>DeliveryRevenue</th>\n      <th>ESRRevenue</th>\n      <th>...</th>\n      <th>TotalPaychexAdvance</th>\n      <th>Totalinternational</th>\n      <th>W-2Revenue</th>\n      <th>WorkersComp-PaymentSe</th>\n      <th>Series</th>\n      <th>Year</th>\n      <th>Month</th>\n      <th>TotalRevenue</th>\n      <th>Label</th>\n      <th>Date</th>\n    </tr>\n  </thead>\n  <tbody>\n    <tr>\n      <th>0</th>\n      <td>2014-06-01</td>\n      <td>Actual</td>\n      <td>4261452.0</td>\n      <td>10621963.0</td>\n      <td>7255027.55</td>\n      <td>0.00</td>\n      <td>1922941.0</td>\n      <td>1714950.0</td>\n      <td>7393351.97</td>\n      <td>47602.0</td>\n      <td>...</td>\n      <td>0.0</td>\n      <td>0.0</td>\n      <td>7031234.09</td>\n      <td>4858397.0</td>\n      <td>1</td>\n      <td>2014</td>\n      <td>06</td>\n      <td>1.936779e+08</td>\n      <td>1.936202e+08</td>\n      <td>2014-06-01</td>\n    </tr>\n    <tr>\n      <th>1</th>\n      <td>2014-07-01</td>\n      <td>Actual</td>\n      <td>4513388.0</td>\n      <td>10558382.0</td>\n      <td>9070820.80</td>\n      <td>0.00</td>\n      <td>1916579.0</td>\n      <td>1698495.0</td>\n      <td>13513741.18</td>\n      <td>67521.0</td>\n      <td>...</td>\n      <td>0.0</td>\n      <td>0.0</td>\n      <td>7325377.82</td>\n      <td>5244318.0</td>\n      <td>2</td>\n      <td>2014</td>\n      <td>07</td>\n      <td>2.328363e+08</td>\n      <td>2.324266e+08</td>\n      <td>2014-07-01</td>\n    </tr>\n    <tr>\n      <th>2</th>\n      <td>2014-08-01</td>\n      <td>Actual</td>\n      <td>4486436.0</td>\n      <td>10297495.0</td>\n      <td>7489159.50</td>\n      <td>0.00</td>\n      <td>1944830.0</td>\n      <td>1829118.0</td>\n      <td>7286966.62</td>\n      <td>79771.0</td>\n      <td>...</td>\n      <td>0.0</td>\n      <td>0.0</td>\n      <td>7443620.46</td>\n      <td>5588578.0</td>\n      <td>3</td>\n      <td>2014</td>\n      <td>08</td>\n      <td>1.956351e+08</td>\n      <td>1.959262e+08</td>\n      <td>2014-08-01</td>\n    </tr>\n    <tr>\n      <th>3</th>\n      <td>2014-09-01</td>\n      <td>Actual</td>\n      <td>4355891.0</td>\n      <td>12719409.0</td>\n      <td>7011292.24</td>\n      <td>0.00</td>\n      <td>1933042.0</td>\n      <td>1710602.0</td>\n      <td>7081861.96</td>\n      <td>105330.0</td>\n      <td>...</td>\n      <td>0.0</td>\n      <td>0.0</td>\n      <td>7414842.11</td>\n      <td>4968759.0</td>\n      <td>4</td>\n      <td>2014</td>\n      <td>09</td>\n      <td>1.911275e+08</td>\n      <td>1.912629e+08</td>\n      <td>2014-09-01</td>\n    </tr>\n    <tr>\n      <th>4</th>\n      <td>2014-10-01</td>\n      <td>Actual</td>\n      <td>4455231.0</td>\n      <td>13797724.0</td>\n      <td>9372927.59</td>\n      <td>0.00</td>\n      <td>1956820.0</td>\n      <td>1702224.0</td>\n      <td>13741077.44</td>\n      <td>143956.0</td>\n      <td>...</td>\n      <td>0.0</td>\n      <td>0.0</td>\n      <td>7818212.35</td>\n      <td>5752070.0</td>\n      <td>5</td>\n      <td>2014</td>\n      <td>10</td>\n      <td>2.430453e+08</td>\n      <td>2.435622e+08</td>\n      <td>2014-10-01</td>\n    </tr>\n    <tr>\n      <th>...</th>\n      <td>...</td>\n      <td>...</td>\n      <td>...</td>\n      <td>...</td>\n      <td>...</td>\n      <td>...</td>\n      <td>...</td>\n      <td>...</td>\n      <td>...</td>\n      <td>...</td>\n      <td>...</td>\n      <td>...</td>\n      <td>...</td>\n      <td>...</td>\n      <td>...</td>\n      <td>...</td>\n      <td>...</td>\n      <td>...</td>\n      <td>...</td>\n      <td>...</td>\n      <td>...</td>\n    </tr>\n    <tr>\n      <th>79</th>\n      <td>2021-01-01</td>\n      <td>Actual</td>\n      <td>8601656.0</td>\n      <td>14541668.0</td>\n      <td>13265382.71</td>\n      <td>273995.85</td>\n      <td>1390060.0</td>\n      <td>1771611.0</td>\n      <td>22548298.89</td>\n      <td>3955284.0</td>\n      <td>...</td>\n      <td>5542882.0</td>\n      <td>0.0</td>\n      <td>80988881.77</td>\n      <td>5399816.0</td>\n      <td>80</td>\n      <td>2021</td>\n      <td>01</td>\n      <td>3.436167e+08</td>\n      <td>3.433331e+08</td>\n      <td>2021-01-01</td>\n    </tr>\n    <tr>\n      <th>80</th>\n      <td>2021-02-01</td>\n      <td>Actual</td>\n      <td>8798633.0</td>\n      <td>14785257.0</td>\n      <td>13666646.86</td>\n      <td>291755.39</td>\n      <td>1354163.0</td>\n      <td>1685096.0</td>\n      <td>6430193.76</td>\n      <td>11179898.0</td>\n      <td>...</td>\n      <td>5572132.0</td>\n      <td>0.0</td>\n      <td>28599.77</td>\n      <td>5392816.0</td>\n      <td>81</td>\n      <td>2021</td>\n      <td>02</td>\n      <td>2.543673e+08</td>\n      <td>2.542883e+08</td>\n      <td>2021-02-01</td>\n    </tr>\n    <tr>\n      <th>81</th>\n      <td>2021-03-01</td>\n      <td>Actual</td>\n      <td>9014864.0</td>\n      <td>15017238.0</td>\n      <td>16053700.85</td>\n      <td>253715.04</td>\n      <td>1404115.0</td>\n      <td>1667442.0</td>\n      <td>7657980.44</td>\n      <td>5180501.0</td>\n      <td>...</td>\n      <td>6534835.0</td>\n      <td>0.0</td>\n      <td>-43477.46</td>\n      <td>7384007.0</td>\n      <td>82</td>\n      <td>2021</td>\n      <td>03</td>\n      <td>2.802692e+08</td>\n      <td>2.818997e+08</td>\n      <td>2021-03-01</td>\n    </tr>\n    <tr>\n      <th>82</th>\n      <td>2021-04-01</td>\n      <td>Actual</td>\n      <td>8986182.0</td>\n      <td>14843783.0</td>\n      <td>14728764.11</td>\n      <td>260657.63</td>\n      <td>1349889.0</td>\n      <td>1683761.0</td>\n      <td>11701117.00</td>\n      <td>4329239.0</td>\n      <td>...</td>\n      <td>6052148.0</td>\n      <td>0.0</td>\n      <td>44625.45</td>\n      <td>6571571.0</td>\n      <td>83</td>\n      <td>2021</td>\n      <td>04</td>\n      <td>2.722801e+08</td>\n      <td>2.731794e+08</td>\n      <td>2021-04-01</td>\n    </tr>\n    <tr>\n      <th>83</th>\n      <td>2021-05-01</td>\n      <td>Actual</td>\n      <td>9447456.0</td>\n      <td>14198601.0</td>\n      <td>14672623.61</td>\n      <td>289242.62</td>\n      <td>1372288.0</td>\n      <td>1624781.0</td>\n      <td>6726549.70</td>\n      <td>1580445.0</td>\n      <td>...</td>\n      <td>5983387.0</td>\n      <td>0.0</td>\n      <td>113517.87</td>\n      <td>5953067.0</td>\n      <td>84</td>\n      <td>2021</td>\n      <td>05</td>\n      <td>2.553014e+08</td>\n      <td>2.554739e+08</td>\n      <td>2021-05-01</td>\n    </tr>\n  </tbody>\n</table>\n<p>84 rows × 30 columns</p>\n</div>"
     },
     "execution_count": 29,
     "metadata": {},
     "output_type": "execute_result"
    }
   ],
   "source": [
    "# ------------------------------------------------------------------------------------- #\n",
    "# generate and plot predicted values on the original dataset\n",
    "# ------------------------------------------------------------------------------------- #\n",
    "\n",
    "predictions = predict_model(best, data=comb_df)\n",
    "predictions['Date'] = pd.date_range(start=str(train_start_dt), end = str(test_end_dt), freq = 'MS')\n",
    "predictions"
   ],
   "metadata": {
    "collapsed": false,
    "pycharm": {
     "name": "#%%\n"
    }
   }
  },
  {
   "cell_type": "code",
   "execution_count": 31,
   "outputs": [
    {
     "data": {
      "application/vnd.plotly.v1+json": {
       "data": [
        {
         "hovertemplate": "variable=TotalRevenue<br>Date=%{x}<br>value=%{y}<extra></extra>",
         "legendgroup": "TotalRevenue",
         "line": {
          "color": "#636efa",
          "dash": "solid"
         },
         "marker": {
          "symbol": "circle"
         },
         "mode": "lines",
         "name": "TotalRevenue",
         "orientation": "v",
         "showlegend": true,
         "x": [
          "2014-06-01T00:00:00",
          "2014-07-01T00:00:00",
          "2014-08-01T00:00:00",
          "2014-09-01T00:00:00",
          "2014-10-01T00:00:00",
          "2014-11-01T00:00:00",
          "2014-12-01T00:00:00",
          "2015-01-01T00:00:00",
          "2015-02-01T00:00:00",
          "2015-03-01T00:00:00",
          "2015-04-01T00:00:00",
          "2015-05-01T00:00:00",
          "2015-06-01T00:00:00",
          "2015-07-01T00:00:00",
          "2015-08-01T00:00:00",
          "2015-09-01T00:00:00",
          "2015-10-01T00:00:00",
          "2015-11-01T00:00:00",
          "2015-12-01T00:00:00",
          "2016-01-01T00:00:00",
          "2016-02-01T00:00:00",
          "2016-03-01T00:00:00",
          "2016-04-01T00:00:00",
          "2016-05-01T00:00:00",
          "2016-06-01T00:00:00",
          "2016-07-01T00:00:00",
          "2016-08-01T00:00:00",
          "2016-09-01T00:00:00",
          "2016-10-01T00:00:00",
          "2016-11-01T00:00:00",
          "2016-12-01T00:00:00",
          "2017-01-01T00:00:00",
          "2017-02-01T00:00:00",
          "2017-03-01T00:00:00",
          "2017-04-01T00:00:00",
          "2017-05-01T00:00:00",
          "2017-06-01T00:00:00",
          "2017-07-01T00:00:00",
          "2017-08-01T00:00:00",
          "2017-09-01T00:00:00",
          "2017-10-01T00:00:00",
          "2017-11-01T00:00:00",
          "2017-12-01T00:00:00",
          "2018-01-01T00:00:00",
          "2018-02-01T00:00:00",
          "2018-03-01T00:00:00",
          "2018-04-01T00:00:00",
          "2018-05-01T00:00:00",
          "2018-06-01T00:00:00",
          "2018-07-01T00:00:00",
          "2018-08-01T00:00:00",
          "2018-09-01T00:00:00",
          "2018-10-01T00:00:00",
          "2018-11-01T00:00:00",
          "2018-12-01T00:00:00",
          "2019-01-01T00:00:00",
          "2019-02-01T00:00:00",
          "2019-03-01T00:00:00",
          "2019-04-01T00:00:00",
          "2019-05-01T00:00:00",
          "2019-06-01T00:00:00",
          "2019-07-01T00:00:00",
          "2019-08-01T00:00:00",
          "2019-09-01T00:00:00",
          "2019-10-01T00:00:00",
          "2019-11-01T00:00:00",
          "2019-12-01T00:00:00",
          "2020-01-01T00:00:00",
          "2020-02-01T00:00:00",
          "2020-03-01T00:00:00",
          "2020-04-01T00:00:00",
          "2020-05-01T00:00:00",
          "2020-06-01T00:00:00",
          "2020-07-01T00:00:00",
          "2020-08-01T00:00:00",
          "2020-09-01T00:00:00",
          "2020-10-01T00:00:00",
          "2020-11-01T00:00:00",
          "2020-12-01T00:00:00",
          "2021-01-01T00:00:00",
          "2021-02-01T00:00:00",
          "2021-03-01T00:00:00",
          "2021-04-01T00:00:00",
          "2021-05-01T00:00:00"
         ],
         "xaxis": "x",
         "y": [
          1.9367788682E8,
          2.3283627436E8,
          1.9563510168000004E8,
          1.9112751308E8,
          2.4304528523E8,
          1.9647907712E8,
          2.0345117932999998E8,
          2.5130961437000003E8,
          1.9469696667000002E8,
          1.9074309272E8,
          2.4147179282E8,
          2.0621662207E8,
          1.9965187642999998E8,
          2.5346202788E8,
          2.1223810682000002E8,
          2.4542306788E8,
          2.136615446E8,
          2.0483580445000002E8,
          2.1547372703E8,
          2.6402497973E8,
          2.0463785865E8,
          2.451345207E8,
          2.1965537513E8,
          2.220010052E8,
          2.4348367967000002E8,
          2.2902006612E8,
          2.4724737566000003E8,
          2.3054329729000002E8,
          2.3434385815E8,
          2.4020932743E8,
          2.4530989763E8,
          2.504192125E8,
          2.2461098224E8,
          2.4549628326E8,
          2.2833089034E8,
          2.5289142810999998E8,
          2.4725007776000002E8,
          2.4168040589000002E8,
          2.531593977E8,
          2.3377541422E8,
          2.4753971493E8,
          2.4784173666000003E8,
          2.5319634663E8,
          2.684563526E8,
          2.3435442466000003E8,
          2.4763879036E8,
          2.4245928735999998E8,
          2.6132393095999998E8,
          2.3819140163E8,
          2.5190082035000002E8,
          2.5237607381000003E8,
          2.3577314255E8,
          2.6202789804E8,
          2.4068940526E8,
          2.6332179575E8,
          3.6077010235E8,
          2.3713935052999997E8,
          2.4046509319E8,
          2.5511722619E8,
          2.5871210282E8,
          2.4656278294E8,
          2.7480290765E8,
          2.549220069E8,
          2.5430852621E8,
          2.7796818157E8,
          2.4623412284E8,
          2.8980428846E8,
          3.6140815820000005E8,
          2.5346933469E8,
          2.5833712316E8,
          2.3276915594000003E8,
          2.2815335811999997E8,
          2.4128027692000002E8,
          2.5341852755999997E8,
          2.3634063657999998E8,
          2.6188183319E8,
          2.6086916682000002E8,
          2.5374810397E8,
          2.9224357634999996E8,
          3.4361668387E8,
          2.5436728379000002E8,
          2.8026923034999996E8,
          2.7228007476E8,
          2.5530140782000002E8
         ],
         "yaxis": "y",
         "type": "scatter"
        },
        {
         "hovertemplate": "variable=Label<br>Date=%{x}<br>value=%{y}<extra></extra>",
         "legendgroup": "Label",
         "line": {
          "color": "#EF553B",
          "dash": "solid"
         },
         "marker": {
          "symbol": "circle"
         },
         "mode": "lines",
         "name": "Label",
         "orientation": "v",
         "showlegend": true,
         "x": [
          "2014-06-01T00:00:00",
          "2014-07-01T00:00:00",
          "2014-08-01T00:00:00",
          "2014-09-01T00:00:00",
          "2014-10-01T00:00:00",
          "2014-11-01T00:00:00",
          "2014-12-01T00:00:00",
          "2015-01-01T00:00:00",
          "2015-02-01T00:00:00",
          "2015-03-01T00:00:00",
          "2015-04-01T00:00:00",
          "2015-05-01T00:00:00",
          "2015-06-01T00:00:00",
          "2015-07-01T00:00:00",
          "2015-08-01T00:00:00",
          "2015-09-01T00:00:00",
          "2015-10-01T00:00:00",
          "2015-11-01T00:00:00",
          "2015-12-01T00:00:00",
          "2016-01-01T00:00:00",
          "2016-02-01T00:00:00",
          "2016-03-01T00:00:00",
          "2016-04-01T00:00:00",
          "2016-05-01T00:00:00",
          "2016-06-01T00:00:00",
          "2016-07-01T00:00:00",
          "2016-08-01T00:00:00",
          "2016-09-01T00:00:00",
          "2016-10-01T00:00:00",
          "2016-11-01T00:00:00",
          "2016-12-01T00:00:00",
          "2017-01-01T00:00:00",
          "2017-02-01T00:00:00",
          "2017-03-01T00:00:00",
          "2017-04-01T00:00:00",
          "2017-05-01T00:00:00",
          "2017-06-01T00:00:00",
          "2017-07-01T00:00:00",
          "2017-08-01T00:00:00",
          "2017-09-01T00:00:00",
          "2017-10-01T00:00:00",
          "2017-11-01T00:00:00",
          "2017-12-01T00:00:00",
          "2018-01-01T00:00:00",
          "2018-02-01T00:00:00",
          "2018-03-01T00:00:00",
          "2018-04-01T00:00:00",
          "2018-05-01T00:00:00",
          "2018-06-01T00:00:00",
          "2018-07-01T00:00:00",
          "2018-08-01T00:00:00",
          "2018-09-01T00:00:00",
          "2018-10-01T00:00:00",
          "2018-11-01T00:00:00",
          "2018-12-01T00:00:00",
          "2019-01-01T00:00:00",
          "2019-02-01T00:00:00",
          "2019-03-01T00:00:00",
          "2019-04-01T00:00:00",
          "2019-05-01T00:00:00",
          "2019-06-01T00:00:00",
          "2019-07-01T00:00:00",
          "2019-08-01T00:00:00",
          "2019-09-01T00:00:00",
          "2019-10-01T00:00:00",
          "2019-11-01T00:00:00",
          "2019-12-01T00:00:00",
          "2020-01-01T00:00:00",
          "2020-02-01T00:00:00",
          "2020-03-01T00:00:00",
          "2020-04-01T00:00:00",
          "2020-05-01T00:00:00",
          "2020-06-01T00:00:00",
          "2020-07-01T00:00:00",
          "2020-08-01T00:00:00",
          "2020-09-01T00:00:00",
          "2020-10-01T00:00:00",
          "2020-11-01T00:00:00",
          "2020-12-01T00:00:00",
          "2021-01-01T00:00:00",
          "2021-02-01T00:00:00",
          "2021-03-01T00:00:00",
          "2021-04-01T00:00:00",
          "2021-05-01T00:00:00"
         ],
         "xaxis": "x",
         "y": [
          1.936202448235466E8,
          2.3242661201038146E8,
          1.9592619588662177E8,
          1.9126290119746724E8,
          2.4356221841951904E8,
          1.962716214188562E8,
          2.0383361396934968E8,
          2.509672724512124E8,
          1.9537488814626944E8,
          1.907603002290854E8,
          2.416454261572781E8,
          2.0549556715176186E8,
          1.9935732700480106E8,
          2.532746920790269E8,
          2.1244833919976076E8,
          2.4516165912848654E8,
          2.1382743539246365E8,
          2.0495474242786983E8,
          2.152221792926804E8,
          2.6522363856650516E8,
          2.051433001322574E8,
          2.456780168661075E8,
          2.200354043466054E8,
          2.217863364031256E8,
          2.436938252981257E8,
          2.2926114776169193E8,
          2.479769582322992E8,
          2.305154769694706E8,
          2.3433788254403242E8,
          2.4011513585259262E8,
          2.4508986701362464E8,
          2.5039141173515424E8,
          2.24730919241313E8,
          2.4657018295622894E8,
          2.277719184632112E8,
          2.5294756418386012E8,
          2.4647173862332106E8,
          2.4115816982643336E8,
          2.5313664820114344E8,
          2.33467708150398E8,
          2.4713572332592773E8,
          2.4674641889717665E8,
          2.5274052851736817E8,
          2.682186746648389E8,
          2.3436624514056596E8,
          2.4761902091053334E8,
          2.4198107165378782E8,
          2.6196138842525613E8,
          2.381396304025831E8,
          2.5168562540861845E8,
          2.5174922702229115E8,
          2.355014836171338E8,
          2.6185798188677147E8,
          2.4066949190065476E8,
          2.6389610869526592E8,
          3.6175574731426847E8,
          2.3692785652820665E8,
          2.4017880356398746E8,
          2.5536934087025303E8,
          2.5848534763792455E8,
          2.463857006515451E8,
          2.743412576720617E8,
          2.5414478458077407E8,
          2.5467719601438144E8,
          2.779067477191522E8,
          2.4629207617722163E8,
          2.901924513623917E8,
          3.604128464559367E8,
          2.5320746462092295E8,
          2.5948243911023837E8,
          2.3314476104030967E8,
          2.2862693445786908E8,
          2.4158429055132598E8,
          2.5266676789104423E8,
          2.36259392198007E8,
          2.6185553989450276E8,
          2.6075984941884577E8,
          2.5168190709795997E8,
          2.9283747723960817E8,
          3.433331004004612E8,
          2.542883401577476E8,
          2.8189971948278713E8,
          2.73179445992432E8,
          2.5547391768713063E8
         ],
         "yaxis": "y",
         "type": "scatter"
        }
       ],
       "layout": {
        "template": {
         "data": {
          "barpolar": [
           {
            "marker": {
             "line": {
              "color": "white",
              "width": 0.5
             },
             "pattern": {
              "fillmode": "overlay",
              "size": 10,
              "solidity": 0.2
             }
            },
            "type": "barpolar"
           }
          ],
          "bar": [
           {
            "error_x": {
             "color": "#2a3f5f"
            },
            "error_y": {
             "color": "#2a3f5f"
            },
            "marker": {
             "line": {
              "color": "white",
              "width": 0.5
             },
             "pattern": {
              "fillmode": "overlay",
              "size": 10,
              "solidity": 0.2
             }
            },
            "type": "bar"
           }
          ],
          "carpet": [
           {
            "aaxis": {
             "endlinecolor": "#2a3f5f",
             "gridcolor": "#C8D4E3",
             "linecolor": "#C8D4E3",
             "minorgridcolor": "#C8D4E3",
             "startlinecolor": "#2a3f5f"
            },
            "baxis": {
             "endlinecolor": "#2a3f5f",
             "gridcolor": "#C8D4E3",
             "linecolor": "#C8D4E3",
             "minorgridcolor": "#C8D4E3",
             "startlinecolor": "#2a3f5f"
            },
            "type": "carpet"
           }
          ],
          "choropleth": [
           {
            "colorbar": {
             "outlinewidth": 0,
             "ticks": ""
            },
            "type": "choropleth"
           }
          ],
          "contourcarpet": [
           {
            "colorbar": {
             "outlinewidth": 0,
             "ticks": ""
            },
            "type": "contourcarpet"
           }
          ],
          "contour": [
           {
            "colorbar": {
             "outlinewidth": 0,
             "ticks": ""
            },
            "colorscale": [
             [
              0.0,
              "#0d0887"
             ],
             [
              0.1111111111111111,
              "#46039f"
             ],
             [
              0.2222222222222222,
              "#7201a8"
             ],
             [
              0.3333333333333333,
              "#9c179e"
             ],
             [
              0.4444444444444444,
              "#bd3786"
             ],
             [
              0.5555555555555556,
              "#d8576b"
             ],
             [
              0.6666666666666666,
              "#ed7953"
             ],
             [
              0.7777777777777778,
              "#fb9f3a"
             ],
             [
              0.8888888888888888,
              "#fdca26"
             ],
             [
              1.0,
              "#f0f921"
             ]
            ],
            "type": "contour"
           }
          ],
          "heatmapgl": [
           {
            "colorbar": {
             "outlinewidth": 0,
             "ticks": ""
            },
            "colorscale": [
             [
              0.0,
              "#0d0887"
             ],
             [
              0.1111111111111111,
              "#46039f"
             ],
             [
              0.2222222222222222,
              "#7201a8"
             ],
             [
              0.3333333333333333,
              "#9c179e"
             ],
             [
              0.4444444444444444,
              "#bd3786"
             ],
             [
              0.5555555555555556,
              "#d8576b"
             ],
             [
              0.6666666666666666,
              "#ed7953"
             ],
             [
              0.7777777777777778,
              "#fb9f3a"
             ],
             [
              0.8888888888888888,
              "#fdca26"
             ],
             [
              1.0,
              "#f0f921"
             ]
            ],
            "type": "heatmapgl"
           }
          ],
          "heatmap": [
           {
            "colorbar": {
             "outlinewidth": 0,
             "ticks": ""
            },
            "colorscale": [
             [
              0.0,
              "#0d0887"
             ],
             [
              0.1111111111111111,
              "#46039f"
             ],
             [
              0.2222222222222222,
              "#7201a8"
             ],
             [
              0.3333333333333333,
              "#9c179e"
             ],
             [
              0.4444444444444444,
              "#bd3786"
             ],
             [
              0.5555555555555556,
              "#d8576b"
             ],
             [
              0.6666666666666666,
              "#ed7953"
             ],
             [
              0.7777777777777778,
              "#fb9f3a"
             ],
             [
              0.8888888888888888,
              "#fdca26"
             ],
             [
              1.0,
              "#f0f921"
             ]
            ],
            "type": "heatmap"
           }
          ],
          "histogram2dcontour": [
           {
            "colorbar": {
             "outlinewidth": 0,
             "ticks": ""
            },
            "colorscale": [
             [
              0.0,
              "#0d0887"
             ],
             [
              0.1111111111111111,
              "#46039f"
             ],
             [
              0.2222222222222222,
              "#7201a8"
             ],
             [
              0.3333333333333333,
              "#9c179e"
             ],
             [
              0.4444444444444444,
              "#bd3786"
             ],
             [
              0.5555555555555556,
              "#d8576b"
             ],
             [
              0.6666666666666666,
              "#ed7953"
             ],
             [
              0.7777777777777778,
              "#fb9f3a"
             ],
             [
              0.8888888888888888,
              "#fdca26"
             ],
             [
              1.0,
              "#f0f921"
             ]
            ],
            "type": "histogram2dcontour"
           }
          ],
          "histogram2d": [
           {
            "colorbar": {
             "outlinewidth": 0,
             "ticks": ""
            },
            "colorscale": [
             [
              0.0,
              "#0d0887"
             ],
             [
              0.1111111111111111,
              "#46039f"
             ],
             [
              0.2222222222222222,
              "#7201a8"
             ],
             [
              0.3333333333333333,
              "#9c179e"
             ],
             [
              0.4444444444444444,
              "#bd3786"
             ],
             [
              0.5555555555555556,
              "#d8576b"
             ],
             [
              0.6666666666666666,
              "#ed7953"
             ],
             [
              0.7777777777777778,
              "#fb9f3a"
             ],
             [
              0.8888888888888888,
              "#fdca26"
             ],
             [
              1.0,
              "#f0f921"
             ]
            ],
            "type": "histogram2d"
           }
          ],
          "histogram": [
           {
            "marker": {
             "pattern": {
              "fillmode": "overlay",
              "size": 10,
              "solidity": 0.2
             }
            },
            "type": "histogram"
           }
          ],
          "mesh3d": [
           {
            "colorbar": {
             "outlinewidth": 0,
             "ticks": ""
            },
            "type": "mesh3d"
           }
          ],
          "parcoords": [
           {
            "line": {
             "colorbar": {
              "outlinewidth": 0,
              "ticks": ""
             }
            },
            "type": "parcoords"
           }
          ],
          "pie": [
           {
            "automargin": true,
            "type": "pie"
           }
          ],
          "scatter3d": [
           {
            "line": {
             "colorbar": {
              "outlinewidth": 0,
              "ticks": ""
             }
            },
            "marker": {
             "colorbar": {
              "outlinewidth": 0,
              "ticks": ""
             }
            },
            "type": "scatter3d"
           }
          ],
          "scattercarpet": [
           {
            "marker": {
             "colorbar": {
              "outlinewidth": 0,
              "ticks": ""
             }
            },
            "type": "scattercarpet"
           }
          ],
          "scattergeo": [
           {
            "marker": {
             "colorbar": {
              "outlinewidth": 0,
              "ticks": ""
             }
            },
            "type": "scattergeo"
           }
          ],
          "scattergl": [
           {
            "marker": {
             "colorbar": {
              "outlinewidth": 0,
              "ticks": ""
             }
            },
            "type": "scattergl"
           }
          ],
          "scattermapbox": [
           {
            "marker": {
             "colorbar": {
              "outlinewidth": 0,
              "ticks": ""
             }
            },
            "type": "scattermapbox"
           }
          ],
          "scatterpolargl": [
           {
            "marker": {
             "colorbar": {
              "outlinewidth": 0,
              "ticks": ""
             }
            },
            "type": "scatterpolargl"
           }
          ],
          "scatterpolar": [
           {
            "marker": {
             "colorbar": {
              "outlinewidth": 0,
              "ticks": ""
             }
            },
            "type": "scatterpolar"
           }
          ],
          "scatter": [
           {
            "fillpattern": {
             "fillmode": "overlay",
             "size": 10,
             "solidity": 0.2
            },
            "type": "scatter"
           }
          ],
          "scatterternary": [
           {
            "marker": {
             "colorbar": {
              "outlinewidth": 0,
              "ticks": ""
             }
            },
            "type": "scatterternary"
           }
          ],
          "surface": [
           {
            "colorbar": {
             "outlinewidth": 0,
             "ticks": ""
            },
            "colorscale": [
             [
              0.0,
              "#0d0887"
             ],
             [
              0.1111111111111111,
              "#46039f"
             ],
             [
              0.2222222222222222,
              "#7201a8"
             ],
             [
              0.3333333333333333,
              "#9c179e"
             ],
             [
              0.4444444444444444,
              "#bd3786"
             ],
             [
              0.5555555555555556,
              "#d8576b"
             ],
             [
              0.6666666666666666,
              "#ed7953"
             ],
             [
              0.7777777777777778,
              "#fb9f3a"
             ],
             [
              0.8888888888888888,
              "#fdca26"
             ],
             [
              1.0,
              "#f0f921"
             ]
            ],
            "type": "surface"
           }
          ],
          "table": [
           {
            "cells": {
             "fill": {
              "color": "#EBF0F8"
             },
             "line": {
              "color": "white"
             }
            },
            "header": {
             "fill": {
              "color": "#C8D4E3"
             },
             "line": {
              "color": "white"
             }
            },
            "type": "table"
           }
          ]
         },
         "layout": {
          "annotationdefaults": {
           "arrowcolor": "#2a3f5f",
           "arrowhead": 0,
           "arrowwidth": 1
          },
          "autotypenumbers": "strict",
          "coloraxis": {
           "colorbar": {
            "outlinewidth": 0,
            "ticks": ""
           }
          },
          "colorscale": {
           "diverging": [
            [
             0,
             "#8e0152"
            ],
            [
             0.1,
             "#c51b7d"
            ],
            [
             0.2,
             "#de77ae"
            ],
            [
             0.3,
             "#f1b6da"
            ],
            [
             0.4,
             "#fde0ef"
            ],
            [
             0.5,
             "#f7f7f7"
            ],
            [
             0.6,
             "#e6f5d0"
            ],
            [
             0.7,
             "#b8e186"
            ],
            [
             0.8,
             "#7fbc41"
            ],
            [
             0.9,
             "#4d9221"
            ],
            [
             1,
             "#276419"
            ]
           ],
           "sequential": [
            [
             0.0,
             "#0d0887"
            ],
            [
             0.1111111111111111,
             "#46039f"
            ],
            [
             0.2222222222222222,
             "#7201a8"
            ],
            [
             0.3333333333333333,
             "#9c179e"
            ],
            [
             0.4444444444444444,
             "#bd3786"
            ],
            [
             0.5555555555555556,
             "#d8576b"
            ],
            [
             0.6666666666666666,
             "#ed7953"
            ],
            [
             0.7777777777777778,
             "#fb9f3a"
            ],
            [
             0.8888888888888888,
             "#fdca26"
            ],
            [
             1.0,
             "#f0f921"
            ]
           ],
           "sequentialminus": [
            [
             0.0,
             "#0d0887"
            ],
            [
             0.1111111111111111,
             "#46039f"
            ],
            [
             0.2222222222222222,
             "#7201a8"
            ],
            [
             0.3333333333333333,
             "#9c179e"
            ],
            [
             0.4444444444444444,
             "#bd3786"
            ],
            [
             0.5555555555555556,
             "#d8576b"
            ],
            [
             0.6666666666666666,
             "#ed7953"
            ],
            [
             0.7777777777777778,
             "#fb9f3a"
            ],
            [
             0.8888888888888888,
             "#fdca26"
            ],
            [
             1.0,
             "#f0f921"
            ]
           ]
          },
          "colorway": [
           "#636efa",
           "#EF553B",
           "#00cc96",
           "#ab63fa",
           "#FFA15A",
           "#19d3f3",
           "#FF6692",
           "#B6E880",
           "#FF97FF",
           "#FECB52"
          ],
          "font": {
           "color": "#2a3f5f"
          },
          "geo": {
           "bgcolor": "white",
           "lakecolor": "white",
           "landcolor": "white",
           "showlakes": true,
           "showland": true,
           "subunitcolor": "#C8D4E3"
          },
          "hoverlabel": {
           "align": "left"
          },
          "hovermode": "closest",
          "mapbox": {
           "style": "light"
          },
          "paper_bgcolor": "white",
          "plot_bgcolor": "white",
          "polar": {
           "angularaxis": {
            "gridcolor": "#EBF0F8",
            "linecolor": "#EBF0F8",
            "ticks": ""
           },
           "bgcolor": "white",
           "radialaxis": {
            "gridcolor": "#EBF0F8",
            "linecolor": "#EBF0F8",
            "ticks": ""
           }
          },
          "scene": {
           "xaxis": {
            "backgroundcolor": "white",
            "gridcolor": "#DFE8F3",
            "gridwidth": 2,
            "linecolor": "#EBF0F8",
            "showbackground": true,
            "ticks": "",
            "zerolinecolor": "#EBF0F8"
           },
           "yaxis": {
            "backgroundcolor": "white",
            "gridcolor": "#DFE8F3",
            "gridwidth": 2,
            "linecolor": "#EBF0F8",
            "showbackground": true,
            "ticks": "",
            "zerolinecolor": "#EBF0F8"
           },
           "zaxis": {
            "backgroundcolor": "white",
            "gridcolor": "#DFE8F3",
            "gridwidth": 2,
            "linecolor": "#EBF0F8",
            "showbackground": true,
            "ticks": "",
            "zerolinecolor": "#EBF0F8"
           }
          },
          "shapedefaults": {
           "line": {
            "color": "#2a3f5f"
           }
          },
          "ternary": {
           "aaxis": {
            "gridcolor": "#DFE8F3",
            "linecolor": "#A2B1C6",
            "ticks": ""
           },
           "baxis": {
            "gridcolor": "#DFE8F3",
            "linecolor": "#A2B1C6",
            "ticks": ""
           },
           "bgcolor": "white",
           "caxis": {
            "gridcolor": "#DFE8F3",
            "linecolor": "#A2B1C6",
            "ticks": ""
           }
          },
          "title": {
           "x": 0.05
          },
          "xaxis": {
           "automargin": true,
           "gridcolor": "#EBF0F8",
           "linecolor": "#EBF0F8",
           "ticks": "",
           "title": {
            "standoff": 15
           },
           "zerolinecolor": "#EBF0F8",
           "zerolinewidth": 2
          },
          "yaxis": {
           "automargin": true,
           "gridcolor": "#EBF0F8",
           "linecolor": "#EBF0F8",
           "ticks": "",
           "title": {
            "standoff": 15
           },
           "zerolinecolor": "#EBF0F8",
           "zerolinewidth": 2
          }
         }
        },
        "xaxis": {
         "anchor": "y",
         "domain": [
          0.0,
          1.0
         ],
         "title": {
          "text": "Date"
         }
        },
        "yaxis": {
         "anchor": "x",
         "domain": [
          0.0,
          1.0
         ],
         "title": {
          "text": "value"
         }
        },
        "legend": {
         "title": {
          "text": "variable"
         },
         "tracegroupgap": 0
        },
        "margin": {
         "t": 60
        }
       },
       "config": {
        "plotlyServerURL": "https://plot.ly"
       }
      },
      "text/html": "<div>                            <div id=\"306cdc48-8bf8-4cc3-97bd-d246f02b107f\" class=\"plotly-graph-div\" style=\"height:525px; width:100%;\"></div>            <script type=\"text/javascript\">                require([\"plotly\"], function(Plotly) {                    window.PLOTLYENV=window.PLOTLYENV || {};                                    if (document.getElementById(\"306cdc48-8bf8-4cc3-97bd-d246f02b107f\")) {                    Plotly.newPlot(                        \"306cdc48-8bf8-4cc3-97bd-d246f02b107f\",                        [{\"hovertemplate\":\"variable=TotalRevenue<br>Date=%{x}<br>value=%{y}<extra></extra>\",\"legendgroup\":\"TotalRevenue\",\"line\":{\"color\":\"#636efa\",\"dash\":\"solid\"},\"marker\":{\"symbol\":\"circle\"},\"mode\":\"lines\",\"name\":\"TotalRevenue\",\"orientation\":\"v\",\"showlegend\":true,\"x\":[\"2014-06-01T00:00:00\",\"2014-07-01T00:00:00\",\"2014-08-01T00:00:00\",\"2014-09-01T00:00:00\",\"2014-10-01T00:00:00\",\"2014-11-01T00:00:00\",\"2014-12-01T00:00:00\",\"2015-01-01T00:00:00\",\"2015-02-01T00:00:00\",\"2015-03-01T00:00:00\",\"2015-04-01T00:00:00\",\"2015-05-01T00:00:00\",\"2015-06-01T00:00:00\",\"2015-07-01T00:00:00\",\"2015-08-01T00:00:00\",\"2015-09-01T00:00:00\",\"2015-10-01T00:00:00\",\"2015-11-01T00:00:00\",\"2015-12-01T00:00:00\",\"2016-01-01T00:00:00\",\"2016-02-01T00:00:00\",\"2016-03-01T00:00:00\",\"2016-04-01T00:00:00\",\"2016-05-01T00:00:00\",\"2016-06-01T00:00:00\",\"2016-07-01T00:00:00\",\"2016-08-01T00:00:00\",\"2016-09-01T00:00:00\",\"2016-10-01T00:00:00\",\"2016-11-01T00:00:00\",\"2016-12-01T00:00:00\",\"2017-01-01T00:00:00\",\"2017-02-01T00:00:00\",\"2017-03-01T00:00:00\",\"2017-04-01T00:00:00\",\"2017-05-01T00:00:00\",\"2017-06-01T00:00:00\",\"2017-07-01T00:00:00\",\"2017-08-01T00:00:00\",\"2017-09-01T00:00:00\",\"2017-10-01T00:00:00\",\"2017-11-01T00:00:00\",\"2017-12-01T00:00:00\",\"2018-01-01T00:00:00\",\"2018-02-01T00:00:00\",\"2018-03-01T00:00:00\",\"2018-04-01T00:00:00\",\"2018-05-01T00:00:00\",\"2018-06-01T00:00:00\",\"2018-07-01T00:00:00\",\"2018-08-01T00:00:00\",\"2018-09-01T00:00:00\",\"2018-10-01T00:00:00\",\"2018-11-01T00:00:00\",\"2018-12-01T00:00:00\",\"2019-01-01T00:00:00\",\"2019-02-01T00:00:00\",\"2019-03-01T00:00:00\",\"2019-04-01T00:00:00\",\"2019-05-01T00:00:00\",\"2019-06-01T00:00:00\",\"2019-07-01T00:00:00\",\"2019-08-01T00:00:00\",\"2019-09-01T00:00:00\",\"2019-10-01T00:00:00\",\"2019-11-01T00:00:00\",\"2019-12-01T00:00:00\",\"2020-01-01T00:00:00\",\"2020-02-01T00:00:00\",\"2020-03-01T00:00:00\",\"2020-04-01T00:00:00\",\"2020-05-01T00:00:00\",\"2020-06-01T00:00:00\",\"2020-07-01T00:00:00\",\"2020-08-01T00:00:00\",\"2020-09-01T00:00:00\",\"2020-10-01T00:00:00\",\"2020-11-01T00:00:00\",\"2020-12-01T00:00:00\",\"2021-01-01T00:00:00\",\"2021-02-01T00:00:00\",\"2021-03-01T00:00:00\",\"2021-04-01T00:00:00\",\"2021-05-01T00:00:00\"],\"xaxis\":\"x\",\"y\":[193677886.82,232836274.36,195635101.68000004,191127513.08,243045285.23,196479077.12,203451179.32999998,251309614.37000003,194696966.67000002,190743092.72,241471792.82,206216622.07,199651876.42999998,253462027.88,212238106.82000002,245423067.88,213661544.6,204835804.45000002,215473727.03,264024979.73,204637858.65,245134520.7,219655375.13,222001005.2,243483679.67000002,229020066.12,247247375.66000003,230543297.29000002,234343858.15,240209327.43,245309897.63,250419212.5,224610982.24,245496283.26,228330890.34,252891428.10999998,247250077.76000002,241680405.89000002,253159397.7,233775414.22,247539714.93,247841736.66000003,253196346.63,268456352.6,234354424.66000003,247638790.36,242459287.35999998,261323930.95999998,238191401.63,251900820.35000002,252376073.81000003,235773142.55,262027898.04,240689405.26,263321795.75,360770102.35,237139350.52999997,240465093.19,255117226.19,258712102.82,246562782.94,274802907.65,254922006.9,254308526.21,277968181.57,246234122.84,289804288.46,361408158.20000005,253469334.69,258337123.16,232769155.94000003,228153358.11999997,241280276.92000002,253418527.55999997,236340636.57999998,261881833.19,260869166.82000002,253748103.97,292243576.34999996,343616683.87,254367283.79000002,280269230.34999996,272280074.76,255301407.82000002],\"yaxis\":\"y\",\"type\":\"scatter\"},{\"hovertemplate\":\"variable=Label<br>Date=%{x}<br>value=%{y}<extra></extra>\",\"legendgroup\":\"Label\",\"line\":{\"color\":\"#EF553B\",\"dash\":\"solid\"},\"marker\":{\"symbol\":\"circle\"},\"mode\":\"lines\",\"name\":\"Label\",\"orientation\":\"v\",\"showlegend\":true,\"x\":[\"2014-06-01T00:00:00\",\"2014-07-01T00:00:00\",\"2014-08-01T00:00:00\",\"2014-09-01T00:00:00\",\"2014-10-01T00:00:00\",\"2014-11-01T00:00:00\",\"2014-12-01T00:00:00\",\"2015-01-01T00:00:00\",\"2015-02-01T00:00:00\",\"2015-03-01T00:00:00\",\"2015-04-01T00:00:00\",\"2015-05-01T00:00:00\",\"2015-06-01T00:00:00\",\"2015-07-01T00:00:00\",\"2015-08-01T00:00:00\",\"2015-09-01T00:00:00\",\"2015-10-01T00:00:00\",\"2015-11-01T00:00:00\",\"2015-12-01T00:00:00\",\"2016-01-01T00:00:00\",\"2016-02-01T00:00:00\",\"2016-03-01T00:00:00\",\"2016-04-01T00:00:00\",\"2016-05-01T00:00:00\",\"2016-06-01T00:00:00\",\"2016-07-01T00:00:00\",\"2016-08-01T00:00:00\",\"2016-09-01T00:00:00\",\"2016-10-01T00:00:00\",\"2016-11-01T00:00:00\",\"2016-12-01T00:00:00\",\"2017-01-01T00:00:00\",\"2017-02-01T00:00:00\",\"2017-03-01T00:00:00\",\"2017-04-01T00:00:00\",\"2017-05-01T00:00:00\",\"2017-06-01T00:00:00\",\"2017-07-01T00:00:00\",\"2017-08-01T00:00:00\",\"2017-09-01T00:00:00\",\"2017-10-01T00:00:00\",\"2017-11-01T00:00:00\",\"2017-12-01T00:00:00\",\"2018-01-01T00:00:00\",\"2018-02-01T00:00:00\",\"2018-03-01T00:00:00\",\"2018-04-01T00:00:00\",\"2018-05-01T00:00:00\",\"2018-06-01T00:00:00\",\"2018-07-01T00:00:00\",\"2018-08-01T00:00:00\",\"2018-09-01T00:00:00\",\"2018-10-01T00:00:00\",\"2018-11-01T00:00:00\",\"2018-12-01T00:00:00\",\"2019-01-01T00:00:00\",\"2019-02-01T00:00:00\",\"2019-03-01T00:00:00\",\"2019-04-01T00:00:00\",\"2019-05-01T00:00:00\",\"2019-06-01T00:00:00\",\"2019-07-01T00:00:00\",\"2019-08-01T00:00:00\",\"2019-09-01T00:00:00\",\"2019-10-01T00:00:00\",\"2019-11-01T00:00:00\",\"2019-12-01T00:00:00\",\"2020-01-01T00:00:00\",\"2020-02-01T00:00:00\",\"2020-03-01T00:00:00\",\"2020-04-01T00:00:00\",\"2020-05-01T00:00:00\",\"2020-06-01T00:00:00\",\"2020-07-01T00:00:00\",\"2020-08-01T00:00:00\",\"2020-09-01T00:00:00\",\"2020-10-01T00:00:00\",\"2020-11-01T00:00:00\",\"2020-12-01T00:00:00\",\"2021-01-01T00:00:00\",\"2021-02-01T00:00:00\",\"2021-03-01T00:00:00\",\"2021-04-01T00:00:00\",\"2021-05-01T00:00:00\"],\"xaxis\":\"x\",\"y\":[193620244.8235466,232426612.01038146,195926195.88662177,191262901.19746724,243562218.41951904,196271621.4188562,203833613.96934968,250967272.4512124,195374888.14626944,190760300.2290854,241645426.1572781,205495567.15176186,199357327.00480106,253274692.0790269,212448339.19976076,245161659.12848654,213827435.39246365,204954742.42786983,215222179.2926804,265223638.56650516,205143300.1322574,245678016.8661075,220035404.3466054,221786336.4031256,243693825.2981257,229261147.76169193,247976958.2322992,230515476.9694706,234337882.54403242,240115135.85259262,245089867.01362464,250391411.73515424,224730919.241313,246570182.95622894,227771918.4632112,252947564.18386012,246471738.62332106,241158169.82643336,253136648.20114344,233467708.150398,247135723.32592773,246746418.89717665,252740528.51736817,268218674.6648389,234366245.14056596,247619020.91053334,241981071.65378782,261961388.42525613,238139630.4025831,251685625.40861845,251749227.02229115,235501483.6171338,261857981.88677147,240669491.90065476,263896108.69526592,361755747.31426847,236927856.52820665,240178803.56398746,255369340.87025303,258485347.63792455,246385700.6515451,274341257.6720617,254144784.58077407,254677196.01438144,277906747.7191522,246292076.17722163,290192451.3623917,360412846.4559367,253207464.62092295,259482439.11023837,233144761.04030967,228626934.45786908,241584290.55132598,252666767.89104423,236259392.198007,261855539.89450276,260759849.41884577,251681907.09795997,292837477.23960817,343333100.4004612,254288340.1577476,281899719.48278713,273179445.992432,255473917.68713063],\"yaxis\":\"y\",\"type\":\"scatter\"}],                        {\"template\":{\"data\":{\"barpolar\":[{\"marker\":{\"line\":{\"color\":\"white\",\"width\":0.5},\"pattern\":{\"fillmode\":\"overlay\",\"size\":10,\"solidity\":0.2}},\"type\":\"barpolar\"}],\"bar\":[{\"error_x\":{\"color\":\"#2a3f5f\"},\"error_y\":{\"color\":\"#2a3f5f\"},\"marker\":{\"line\":{\"color\":\"white\",\"width\":0.5},\"pattern\":{\"fillmode\":\"overlay\",\"size\":10,\"solidity\":0.2}},\"type\":\"bar\"}],\"carpet\":[{\"aaxis\":{\"endlinecolor\":\"#2a3f5f\",\"gridcolor\":\"#C8D4E3\",\"linecolor\":\"#C8D4E3\",\"minorgridcolor\":\"#C8D4E3\",\"startlinecolor\":\"#2a3f5f\"},\"baxis\":{\"endlinecolor\":\"#2a3f5f\",\"gridcolor\":\"#C8D4E3\",\"linecolor\":\"#C8D4E3\",\"minorgridcolor\":\"#C8D4E3\",\"startlinecolor\":\"#2a3f5f\"},\"type\":\"carpet\"}],\"choropleth\":[{\"colorbar\":{\"outlinewidth\":0,\"ticks\":\"\"},\"type\":\"choropleth\"}],\"contourcarpet\":[{\"colorbar\":{\"outlinewidth\":0,\"ticks\":\"\"},\"type\":\"contourcarpet\"}],\"contour\":[{\"colorbar\":{\"outlinewidth\":0,\"ticks\":\"\"},\"colorscale\":[[0.0,\"#0d0887\"],[0.1111111111111111,\"#46039f\"],[0.2222222222222222,\"#7201a8\"],[0.3333333333333333,\"#9c179e\"],[0.4444444444444444,\"#bd3786\"],[0.5555555555555556,\"#d8576b\"],[0.6666666666666666,\"#ed7953\"],[0.7777777777777778,\"#fb9f3a\"],[0.8888888888888888,\"#fdca26\"],[1.0,\"#f0f921\"]],\"type\":\"contour\"}],\"heatmapgl\":[{\"colorbar\":{\"outlinewidth\":0,\"ticks\":\"\"},\"colorscale\":[[0.0,\"#0d0887\"],[0.1111111111111111,\"#46039f\"],[0.2222222222222222,\"#7201a8\"],[0.3333333333333333,\"#9c179e\"],[0.4444444444444444,\"#bd3786\"],[0.5555555555555556,\"#d8576b\"],[0.6666666666666666,\"#ed7953\"],[0.7777777777777778,\"#fb9f3a\"],[0.8888888888888888,\"#fdca26\"],[1.0,\"#f0f921\"]],\"type\":\"heatmapgl\"}],\"heatmap\":[{\"colorbar\":{\"outlinewidth\":0,\"ticks\":\"\"},\"colorscale\":[[0.0,\"#0d0887\"],[0.1111111111111111,\"#46039f\"],[0.2222222222222222,\"#7201a8\"],[0.3333333333333333,\"#9c179e\"],[0.4444444444444444,\"#bd3786\"],[0.5555555555555556,\"#d8576b\"],[0.6666666666666666,\"#ed7953\"],[0.7777777777777778,\"#fb9f3a\"],[0.8888888888888888,\"#fdca26\"],[1.0,\"#f0f921\"]],\"type\":\"heatmap\"}],\"histogram2dcontour\":[{\"colorbar\":{\"outlinewidth\":0,\"ticks\":\"\"},\"colorscale\":[[0.0,\"#0d0887\"],[0.1111111111111111,\"#46039f\"],[0.2222222222222222,\"#7201a8\"],[0.3333333333333333,\"#9c179e\"],[0.4444444444444444,\"#bd3786\"],[0.5555555555555556,\"#d8576b\"],[0.6666666666666666,\"#ed7953\"],[0.7777777777777778,\"#fb9f3a\"],[0.8888888888888888,\"#fdca26\"],[1.0,\"#f0f921\"]],\"type\":\"histogram2dcontour\"}],\"histogram2d\":[{\"colorbar\":{\"outlinewidth\":0,\"ticks\":\"\"},\"colorscale\":[[0.0,\"#0d0887\"],[0.1111111111111111,\"#46039f\"],[0.2222222222222222,\"#7201a8\"],[0.3333333333333333,\"#9c179e\"],[0.4444444444444444,\"#bd3786\"],[0.5555555555555556,\"#d8576b\"],[0.6666666666666666,\"#ed7953\"],[0.7777777777777778,\"#fb9f3a\"],[0.8888888888888888,\"#fdca26\"],[1.0,\"#f0f921\"]],\"type\":\"histogram2d\"}],\"histogram\":[{\"marker\":{\"pattern\":{\"fillmode\":\"overlay\",\"size\":10,\"solidity\":0.2}},\"type\":\"histogram\"}],\"mesh3d\":[{\"colorbar\":{\"outlinewidth\":0,\"ticks\":\"\"},\"type\":\"mesh3d\"}],\"parcoords\":[{\"line\":{\"colorbar\":{\"outlinewidth\":0,\"ticks\":\"\"}},\"type\":\"parcoords\"}],\"pie\":[{\"automargin\":true,\"type\":\"pie\"}],\"scatter3d\":[{\"line\":{\"colorbar\":{\"outlinewidth\":0,\"ticks\":\"\"}},\"marker\":{\"colorbar\":{\"outlinewidth\":0,\"ticks\":\"\"}},\"type\":\"scatter3d\"}],\"scattercarpet\":[{\"marker\":{\"colorbar\":{\"outlinewidth\":0,\"ticks\":\"\"}},\"type\":\"scattercarpet\"}],\"scattergeo\":[{\"marker\":{\"colorbar\":{\"outlinewidth\":0,\"ticks\":\"\"}},\"type\":\"scattergeo\"}],\"scattergl\":[{\"marker\":{\"colorbar\":{\"outlinewidth\":0,\"ticks\":\"\"}},\"type\":\"scattergl\"}],\"scattermapbox\":[{\"marker\":{\"colorbar\":{\"outlinewidth\":0,\"ticks\":\"\"}},\"type\":\"scattermapbox\"}],\"scatterpolargl\":[{\"marker\":{\"colorbar\":{\"outlinewidth\":0,\"ticks\":\"\"}},\"type\":\"scatterpolargl\"}],\"scatterpolar\":[{\"marker\":{\"colorbar\":{\"outlinewidth\":0,\"ticks\":\"\"}},\"type\":\"scatterpolar\"}],\"scatter\":[{\"fillpattern\":{\"fillmode\":\"overlay\",\"size\":10,\"solidity\":0.2},\"type\":\"scatter\"}],\"scatterternary\":[{\"marker\":{\"colorbar\":{\"outlinewidth\":0,\"ticks\":\"\"}},\"type\":\"scatterternary\"}],\"surface\":[{\"colorbar\":{\"outlinewidth\":0,\"ticks\":\"\"},\"colorscale\":[[0.0,\"#0d0887\"],[0.1111111111111111,\"#46039f\"],[0.2222222222222222,\"#7201a8\"],[0.3333333333333333,\"#9c179e\"],[0.4444444444444444,\"#bd3786\"],[0.5555555555555556,\"#d8576b\"],[0.6666666666666666,\"#ed7953\"],[0.7777777777777778,\"#fb9f3a\"],[0.8888888888888888,\"#fdca26\"],[1.0,\"#f0f921\"]],\"type\":\"surface\"}],\"table\":[{\"cells\":{\"fill\":{\"color\":\"#EBF0F8\"},\"line\":{\"color\":\"white\"}},\"header\":{\"fill\":{\"color\":\"#C8D4E3\"},\"line\":{\"color\":\"white\"}},\"type\":\"table\"}]},\"layout\":{\"annotationdefaults\":{\"arrowcolor\":\"#2a3f5f\",\"arrowhead\":0,\"arrowwidth\":1},\"autotypenumbers\":\"strict\",\"coloraxis\":{\"colorbar\":{\"outlinewidth\":0,\"ticks\":\"\"}},\"colorscale\":{\"diverging\":[[0,\"#8e0152\"],[0.1,\"#c51b7d\"],[0.2,\"#de77ae\"],[0.3,\"#f1b6da\"],[0.4,\"#fde0ef\"],[0.5,\"#f7f7f7\"],[0.6,\"#e6f5d0\"],[0.7,\"#b8e186\"],[0.8,\"#7fbc41\"],[0.9,\"#4d9221\"],[1,\"#276419\"]],\"sequential\":[[0.0,\"#0d0887\"],[0.1111111111111111,\"#46039f\"],[0.2222222222222222,\"#7201a8\"],[0.3333333333333333,\"#9c179e\"],[0.4444444444444444,\"#bd3786\"],[0.5555555555555556,\"#d8576b\"],[0.6666666666666666,\"#ed7953\"],[0.7777777777777778,\"#fb9f3a\"],[0.8888888888888888,\"#fdca26\"],[1.0,\"#f0f921\"]],\"sequentialminus\":[[0.0,\"#0d0887\"],[0.1111111111111111,\"#46039f\"],[0.2222222222222222,\"#7201a8\"],[0.3333333333333333,\"#9c179e\"],[0.4444444444444444,\"#bd3786\"],[0.5555555555555556,\"#d8576b\"],[0.6666666666666666,\"#ed7953\"],[0.7777777777777778,\"#fb9f3a\"],[0.8888888888888888,\"#fdca26\"],[1.0,\"#f0f921\"]]},\"colorway\":[\"#636efa\",\"#EF553B\",\"#00cc96\",\"#ab63fa\",\"#FFA15A\",\"#19d3f3\",\"#FF6692\",\"#B6E880\",\"#FF97FF\",\"#FECB52\"],\"font\":{\"color\":\"#2a3f5f\"},\"geo\":{\"bgcolor\":\"white\",\"lakecolor\":\"white\",\"landcolor\":\"white\",\"showlakes\":true,\"showland\":true,\"subunitcolor\":\"#C8D4E3\"},\"hoverlabel\":{\"align\":\"left\"},\"hovermode\":\"closest\",\"mapbox\":{\"style\":\"light\"},\"paper_bgcolor\":\"white\",\"plot_bgcolor\":\"white\",\"polar\":{\"angularaxis\":{\"gridcolor\":\"#EBF0F8\",\"linecolor\":\"#EBF0F8\",\"ticks\":\"\"},\"bgcolor\":\"white\",\"radialaxis\":{\"gridcolor\":\"#EBF0F8\",\"linecolor\":\"#EBF0F8\",\"ticks\":\"\"}},\"scene\":{\"xaxis\":{\"backgroundcolor\":\"white\",\"gridcolor\":\"#DFE8F3\",\"gridwidth\":2,\"linecolor\":\"#EBF0F8\",\"showbackground\":true,\"ticks\":\"\",\"zerolinecolor\":\"#EBF0F8\"},\"yaxis\":{\"backgroundcolor\":\"white\",\"gridcolor\":\"#DFE8F3\",\"gridwidth\":2,\"linecolor\":\"#EBF0F8\",\"showbackground\":true,\"ticks\":\"\",\"zerolinecolor\":\"#EBF0F8\"},\"zaxis\":{\"backgroundcolor\":\"white\",\"gridcolor\":\"#DFE8F3\",\"gridwidth\":2,\"linecolor\":\"#EBF0F8\",\"showbackground\":true,\"ticks\":\"\",\"zerolinecolor\":\"#EBF0F8\"}},\"shapedefaults\":{\"line\":{\"color\":\"#2a3f5f\"}},\"ternary\":{\"aaxis\":{\"gridcolor\":\"#DFE8F3\",\"linecolor\":\"#A2B1C6\",\"ticks\":\"\"},\"baxis\":{\"gridcolor\":\"#DFE8F3\",\"linecolor\":\"#A2B1C6\",\"ticks\":\"\"},\"bgcolor\":\"white\",\"caxis\":{\"gridcolor\":\"#DFE8F3\",\"linecolor\":\"#A2B1C6\",\"ticks\":\"\"}},\"title\":{\"x\":0.05},\"xaxis\":{\"automargin\":true,\"gridcolor\":\"#EBF0F8\",\"linecolor\":\"#EBF0F8\",\"ticks\":\"\",\"title\":{\"standoff\":15},\"zerolinecolor\":\"#EBF0F8\",\"zerolinewidth\":2},\"yaxis\":{\"automargin\":true,\"gridcolor\":\"#EBF0F8\",\"linecolor\":\"#EBF0F8\",\"ticks\":\"\",\"title\":{\"standoff\":15},\"zerolinecolor\":\"#EBF0F8\",\"zerolinewidth\":2}}},\"xaxis\":{\"anchor\":\"y\",\"domain\":[0.0,1.0],\"title\":{\"text\":\"Date\"}},\"yaxis\":{\"anchor\":\"x\",\"domain\":[0.0,1.0],\"title\":{\"text\":\"value\"}},\"legend\":{\"title\":{\"text\":\"variable\"},\"tracegroupgap\":0},\"margin\":{\"t\":60}},                        {\"responsive\": true}                    ).then(function(){\n                            \nvar gd = document.getElementById('306cdc48-8bf8-4cc3-97bd-d246f02b107f');\nvar x = new MutationObserver(function (mutations, observer) {{\n        var display = window.getComputedStyle(gd).display;\n        if (!display || display === 'none') {{\n            console.log([gd, 'removed!']);\n            Plotly.purge(gd);\n            observer.disconnect();\n        }}\n}});\n\n// Listen for the removal of the full notebook cells\nvar notebookContainer = gd.closest('#notebook-container');\nif (notebookContainer) {{\n    x.observe(notebookContainer, {childList: true});\n}}\n\n// Listen for the clearing of the current output cell\nvar outputEl = gd.closest('.output');\nif (outputEl) {{\n    x.observe(outputEl, {childList: true});\n}}\n\n                        })                };                });            </script>        </div>"
     },
     "metadata": {},
     "output_type": "display_data"
    }
   ],
   "source": [
    "fig = px.line(predictions, x='Date', y=[dependent_col, \"Label\"], template = 'plotly_white')\n",
    "fig.show()"
   ],
   "metadata": {
    "collapsed": false,
    "pycharm": {
     "name": "#%%\n"
    }
   }
  },
  {
   "cell_type": "code",
   "execution_count": 30,
   "outputs": [],
   "source": [
    "# ------------------------------------------------------------------------------------- #\n",
    "# This section now applies the trained/tested model to make future predictions\n",
    "# ------------------------------------------------------------------------------------- #\n",
    "\n",
    "pred_df = df_ts[(df_ts['Calendar Date'].astype(int) >= int(pred_start_dt)) &\n",
    "                (df_ts['Calendar Date'].astype(int) <= int(pred_end_dt))]"
   ],
   "metadata": {
    "collapsed": false,
    "pycharm": {
     "name": "#%%\n"
    }
   }
  },
  {
   "cell_type": "markdown",
   "source": [
    "## Save as PMML"
   ],
   "metadata": {
    "collapsed": false
   }
  },
  {
   "cell_type": "code",
   "execution_count": 43,
   "outputs": [],
   "source": [
    "from sklearn2pmml import make_pmml_pipeline, sklearn2pmml, PMMLPipeline"
   ],
   "metadata": {
    "collapsed": false,
    "pycharm": {
     "name": "#%%\n"
    }
   }
  },
  {
   "cell_type": "markdown",
   "source": [
    "### Best Model"
   ],
   "metadata": {
    "collapsed": false
   }
  },
  {
   "cell_type": "code",
   "execution_count": 29,
   "outputs": [],
   "source": [
    "pmml_pipe = make_pmml_pipeline(best)"
   ],
   "metadata": {
    "collapsed": false,
    "pycharm": {
     "name": "#%%\n"
    }
   }
  },
  {
   "cell_type": "code",
   "execution_count": 30,
   "outputs": [],
   "source": [
    "sklearn2pmml(pmml_pipe, \"model.pmml\")"
   ],
   "metadata": {
    "collapsed": false,
    "pycharm": {
     "name": "#%%\n"
    }
   }
  },
  {
   "cell_type": "markdown",
   "source": [
    "### With pipeline"
   ],
   "metadata": {
    "collapsed": false
   }
  },
  {
   "cell_type": "code",
   "execution_count": 32,
   "outputs": [
    {
     "name": "stdout",
     "output_type": "stream",
     "text": [
      "Transformation Pipeline and Model Successfully Saved\n"
     ]
    }
   ],
   "source": [
    "pipeline, name = save_model(best, 'pycaret_pipeline')"
   ],
   "metadata": {
    "collapsed": false,
    "pycharm": {
     "name": "#%%\n"
    }
   }
  },
  {
   "cell_type": "code",
   "execution_count": 33,
   "outputs": [
    {
     "data": {
      "text/plain": "Pipeline(memory=None,\n         steps=[('dtypes',\n                 DataTypes_Auto_infer(categorical_features=[],\n                                      display_types=True, features_todrop=[],\n                                      id_columns=[], ml_usecase='regression',\n                                      numerical_features=['401KAssetfee&BPRevenue',\n                                                          '401KFeeRevenue',\n                                                          'ASOAllocation',\n                                                          'ASORevenue-Oasis',\n                                                          'Benetrac',\n                                                          'CafeteriaPlansRevenue',\n                                                          'DeliveryRevenue',\n                                                          'EmergingProducts',\n                                                          'ESRRevenue',\n                                                          'FullServ...\n                 Advanced_Feature_Selection_Classic(ml_usecase='regression',\n                                                    n_jobs=-1, random_state=123,\n                                                    subclass='binary',\n                                                    target='TotalRevenue',\n                                                    top_features_to_pick=0.19999999999999996)),\n                ('fix_multi',\n                 Fix_multicollinearity(correlation_with_target_preference=None,\n                                       correlation_with_target_threshold=0.0,\n                                       target_variable='TotalRevenue',\n                                       threshold=0.9)),\n                ('dfs', 'passthrough'), ('pca', 'passthrough')],\n         verbose=False)"
     },
     "execution_count": 33,
     "metadata": {},
     "output_type": "execute_result"
    }
   ],
   "source": [
    "pipeline[:-1]"
   ],
   "metadata": {
    "collapsed": false,
    "pycharm": {
     "name": "#%%\n"
    }
   }
  },
  {
   "cell_type": "code",
   "execution_count": 34,
   "outputs": [
    {
     "data": {
      "text/plain": "'pycaret_pipeline.pkl'"
     },
     "execution_count": 34,
     "metadata": {},
     "output_type": "execute_result"
    }
   ],
   "source": [
    "name"
   ],
   "metadata": {
    "collapsed": false,
    "pycharm": {
     "name": "#%%\n"
    }
   }
  },
  {
   "cell_type": "code",
   "execution_count": 35,
   "outputs": [
    {
     "data": {
      "text/plain": "sklearn.pipeline.Pipeline"
     },
     "execution_count": 35,
     "metadata": {},
     "output_type": "execute_result"
    }
   ],
   "source": [
    "type(pipeline)"
   ],
   "metadata": {
    "collapsed": false,
    "pycharm": {
     "name": "#%%\n"
    }
   }
  },
  {
   "cell_type": "code",
   "execution_count": 36,
   "outputs": [],
   "source": [
    "from sklearn.pipeline import FeatureUnion, Pipeline\n",
    "from sklearn.base import BaseEstimator\n",
    "from sklearn.compose import ColumnTransformer\n",
    "from sklearn_pandas import DataFrameMapper\n",
    "from sklearn.feature_selection.base import SelectorMixin"
   ],
   "metadata": {
    "collapsed": false,
    "pycharm": {
     "name": "#%%\n"
    }
   }
  },
  {
   "cell_type": "code",
   "execution_count": 37,
   "outputs": [],
   "source": [
    "class SelectorProxy(BaseEstimator):\n",
    "\n",
    "    def __init__(self, selector):\n",
    "        self.selector = selector\n",
    "        try:\n",
    "            self._copy_attrs()\n",
    "        except :\n",
    "            pass\n",
    "\n",
    "    def _copy_attrs(self):\n",
    "        try:\n",
    "            setattr(self, \"support_mask_\", self.selector._get_support_mask())\n",
    "        except ValueError:\n",
    "            pass\n",
    "\n",
    "    def fit(self, X, y = None, **fit_params):\n",
    "        self.selector.fit(X, y, **fit_params)\n",
    "        self._copy_attrs()\n",
    "        return self\n",
    "\n",
    "    def transform(self, X):\n",
    "        return self.selector.transform(X)"
   ],
   "metadata": {
    "collapsed": false,
    "pycharm": {
     "name": "#%%\n"
    }
   }
  },
  {
   "cell_type": "code",
   "execution_count": 38,
   "outputs": [],
   "source": [
    "def _filter(obj):\n",
    "    if isinstance(obj, DataFrameMapper):\n",
    "        obj.features = _filter_steps(obj.features)\n",
    "        if hasattr(obj, \"built_features\"):\n",
    "            if obj.built_features is not None:\n",
    "                obj.built_features = _filter_steps(obj.built_features)\n",
    "    elif isinstance(obj, ColumnTransformer):\n",
    "        obj.transformers = _filter_steps(obj.transformers)\n",
    "        obj.remainder = _filter(obj.remainder)\n",
    "        if hasattr(obj, \"transformers_\"):\n",
    "            obj.transformers_ = _filter_steps(obj.transformers_)\n",
    "    elif isinstance(obj, FeatureUnion):\n",
    "        obj.transformer_list = _filter_steps(obj.transformer_list)\n",
    "    elif isinstance(obj, Pipeline):\n",
    "        obj.steps = _filter_steps(obj.steps)\n",
    "    elif isinstance(obj, SelectorMixin):\n",
    "        return SelectorProxy(obj)\n",
    "    elif isinstance(obj, list):\n",
    "        return [_filter(e) for e in obj]\n",
    "    return obj"
   ],
   "metadata": {
    "collapsed": false,
    "pycharm": {
     "name": "#%%\n"
    }
   }
  },
  {
   "cell_type": "code",
   "execution_count": 39,
   "outputs": [],
   "source": [
    "def _filter_steps(steps):\n",
    "    res = []\n",
    "    for step in steps:\n",
    "        print(\"Step :\", _filter(step[1]))\n",
    "        i = (tuple(step[:1]) + (_filter(step[1]), ) + tuple(step[2:]))\n",
    "        res.append(i)\n",
    "    return res"
   ],
   "metadata": {
    "collapsed": false,
    "pycharm": {
     "name": "#%%\n"
    }
   }
  },
  {
   "cell_type": "code",
   "execution_count": 40,
   "outputs": [],
   "source": [
    "def _get_steps(obj):\n",
    "    if isinstance(obj, Pipeline):\n",
    "        return obj.steps\n",
    "    elif isinstance(obj, BaseEstimator):\n",
    "        return [(\"estimator\", obj)]\n",
    "    else:\n",
    "        raise ValueError()"
   ],
   "metadata": {
    "collapsed": false,
    "pycharm": {
     "name": "#%%\n"
    }
   }
  },
  {
   "cell_type": "code",
   "execution_count": 41,
   "outputs": [],
   "source": [
    "def make_pmml_pipeline_mod(obj, active_fields = None, target_fields = None):\n",
    "    \"\"\"Translates a regular Scikit-Learn estimator or pipeline to a PMML pipeline.\n",
    "\n",
    "    Parameters:\n",
    "    ----------\n",
    "    obj: BaseEstimator\n",
    "        The object.\n",
    "\n",
    "    active_fields: list of strings, optional\n",
    "        Feature names. If missing, \"x1\", \"x2\", .., \"xn\" are assumed.\n",
    "\n",
    "    target_fields: list of strings, optional\n",
    "        Label name(s). If missing, \"y\" is assumed.\n",
    "\n",
    "    \"\"\"\n",
    "    steps = _filter_steps(_get_steps(obj))\n",
    "    pipeline = PMMLPipeline(steps)\n",
    "    if active_fields is not None:\n",
    "        pipeline.active_fields = np.asarray(active_fields)\n",
    "    if target_fields is not None:\n",
    "        pipeline.target_fields = np.asarray(target_fields)\n",
    "    return pipeline"
   ],
   "metadata": {
    "collapsed": false,
    "pycharm": {
     "name": "#%%\n"
    }
   }
  },
  {
   "cell_type": "code",
   "execution_count": 45,
   "outputs": [
    {
     "name": "stdout",
     "output_type": "stream",
     "text": [
      "Step : DataTypes_Auto_infer(categorical_features=[], display_types=True,\n",
      "                     features_todrop=[], id_columns=[], ml_usecase='regression',\n",
      "                     numerical_features=['401KAssetfee&BPRevenue',\n",
      "                                         '401KFeeRevenue', 'ASOAllocation',\n",
      "                                         'ASORevenue-Oasis', 'Benetrac',\n",
      "                                         'CafeteriaPlansRevenue',\n",
      "                                         'DeliveryRevenue', 'EmergingProducts',\n",
      "                                         'ESRRevenue',\n",
      "                                         'FullServiceUnemploymentRevenue',\n",
      "                                         'HealthBenefits', 'HROnline',\n",
      "                                         'HRSolutions(PEO)',\n",
      "                                         'InterestonFundsHeldforClients',\n",
      "                                         'OtherProcessingRevenue',\n",
      "                                         'Payrollblendedproducts',\n",
      "                                         'SurePayroll.', 'Time&Attendance',\n",
      "                                         'Totalinternational',\n",
      "                                         'TotalPaychexAdvance', 'W-2Revenue',\n",
      "                                         'WorkersComp-PaymentSe'],\n",
      "                     target='TotalRevenue', time_features=[])\n",
      "Step : Simple_Imputer(categorical_strategy='not_available',\n",
      "               fill_value_categorical=None, fill_value_numerical=None,\n",
      "               numeric_strategy='mean', target_variable=None)\n",
      "Step : New_Catagorical_Levels_in_TestData(replacement_strategy='least frequent',\n",
      "                                   target='TotalRevenue')\n",
      "Step : passthrough\n",
      "Step : passthrough\n",
      "Step : passthrough\n",
      "Step : passthrough\n",
      "Step : New_Catagorical_Levels_in_TestData(replacement_strategy='least frequent',\n",
      "                                   target='TotalRevenue')\n",
      "Step : Make_Time_Features(list_of_features=None,\n",
      "                   time_feature=Index(['CalendarDate'], dtype='object'))\n",
      "Step : passthrough\n",
      "Step : passthrough\n",
      "Step : passthrough\n",
      "Step : passthrough\n",
      "Step : passthrough\n",
      "Step : passthrough\n",
      "Step : passthrough\n",
      "Step : Dummify(target='TotalRevenue')\n",
      "Step : Remove_100(target='TotalRevenue')\n",
      "Step : Clean_Colum_Names()\n",
      "Step : Advanced_Feature_Selection_Classic(ml_usecase='regression', n_jobs=-1,\n",
      "                                   random_state=123, subclass='binary',\n",
      "                                   target='TotalRevenue',\n",
      "                                   top_features_to_pick=0.19999999999999996)\n",
      "Step : Fix_multicollinearity(correlation_with_target_preference=None,\n",
      "                      correlation_with_target_threshold=0.0,\n",
      "                      target_variable='TotalRevenue', threshold=0.9)\n",
      "Step : passthrough\n",
      "Step : passthrough\n",
      "Step : BayesianRidge(alpha_1=1e-06, alpha_2=1e-06, alpha_init=None,\n",
      "              compute_score=False, copy_X=True, fit_intercept=True,\n",
      "              lambda_1=1e-06, lambda_2=1e-06, lambda_init=None, n_iter=300,\n",
      "              normalize=False, tol=0.001, verbose=False)\n"
     ]
    }
   ],
   "source": [
    "pmml_pipe = make_pmml_pipeline_mod(pipeline, active_fields=feature_cols, target_fields=dependent_col)"
   ],
   "metadata": {
    "collapsed": false,
    "pycharm": {
     "name": "#%%\n"
    }
   }
  },
  {
   "cell_type": "code",
   "execution_count": 46,
   "outputs": [
    {
     "data": {
      "text/plain": "sklearn2pmml.pipeline.PMMLPipeline"
     },
     "execution_count": 46,
     "metadata": {},
     "output_type": "execute_result"
    }
   ],
   "source": [
    "type(pmml_pipe)"
   ],
   "metadata": {
    "collapsed": false,
    "pycharm": {
     "name": "#%%\n"
    }
   }
  },
  {
   "cell_type": "code",
   "execution_count": 47,
   "outputs": [
    {
     "data": {
      "text/plain": "PMMLPipeline(steps=[('dtypes', DataTypes_Auto_infer(categorical_features=[], display_types=True,\n                     features_todrop=[], id_columns=[], ml_usecase='regression',\n                     numerical_features=['401KAssetfee&BPRevenue',\n                                         '401KFeeRevenue', 'ASOAllocation',\n                                         'ASORevenue-Oasis', 'Benetrac',\n                                         'CafeteriaPlansRevenue',\n                                         'DeliveryRevenue', 'EmergingProducts',\n                                         'ESRRevenue',\n                                         'FullServiceUnemploymentRevenue',\n                                         'HealthBenefits', 'HROnline',\n                                         'HRSolutions(PEO)',\n                                         'InterestonFundsHeldforClients',\n                                         'OtherProcessingRevenue',\n                                         'Payrollblendedproducts',\n                                         'SurePayroll.', 'Time&Attendance',\n                                         'Totalinternational',\n                                         'TotalPaychexAdvance', 'W-2Revenue',\n                                         'WorkersComp-PaymentSe'],\n                     target='TotalRevenue', time_features=[])),\n       ('imputer', Simple_Imputer(categorical_strategy='not_available',\n               fill_value_categorical=None, fill_value_numerical=None,\n               numeric_strategy='mean', target_variable=None)),\n       ('new_levels1', New_Catagorical_Levels_in_TestData(replacement_strategy='least frequent',\n                                   target='TotalRevenue')),\n       ('ordinal', 'passthrough'),\n       ('cardinality', 'passthrough'),\n       ('znz', 'passthrough'),\n       ('club_R_L', 'passthrough'),\n       ('new_levels', New_Catagorical_Levels_in_TestData(replacement_strategy='least frequent',\n                                   target='TotalRevenue')),\n       ('feature_time', Make_Time_Features(list_of_features=None,\n                   time_feature=Index(['CalendarDate'], dtype='object'))),\n       ('group', 'passthrough'),\n       ('nonliner', 'passthrough'),\n       ('scaling', 'passthrough'),\n       ('P_transform', 'passthrough'),\n       ('binn', 'passthrough'),\n       ('rem_outliers', 'passthrough'),\n       ('cluster_all', 'passthrough'),\n       ('dummy', Dummify(target='TotalRevenue')),\n       ('fix_perfect', Remove_100(target='TotalRevenue')),\n       ('clean_names', Clean_Colum_Names()),\n       ('feature_select', Advanced_Feature_Selection_Classic(ml_usecase='regression', n_jobs=-1,\n                                   random_state=123, subclass='binary',\n                                   target='TotalRevenue',\n                                   top_features_to_pick=0.19999999999999996)),\n       ('fix_multi', Fix_multicollinearity(correlation_with_target_preference=None,\n                      correlation_with_target_threshold=0.0,\n                      target_variable='TotalRevenue', threshold=0.9)),\n       ('dfs', 'passthrough'),\n       ('pca', 'passthrough'),\n       ('trained_model', BayesianRidge(alpha_1=1e-06, alpha_2=1e-06, alpha_init=None,\n              compute_score=False, copy_X=True, fit_intercept=True,\n              lambda_1=1e-06, lambda_2=1e-06, lambda_init=None, n_iter=300,\n              normalize=False, tol=0.001, verbose=False))])"
     },
     "execution_count": 47,
     "metadata": {},
     "output_type": "execute_result"
    }
   ],
   "source": [
    "pmml_pipe"
   ],
   "metadata": {
    "collapsed": false,
    "pycharm": {
     "name": "#%%\n"
    }
   }
  },
  {
   "cell_type": "code",
   "execution_count": 48,
   "outputs": [
    {
     "name": "stdout",
     "output_type": "stream",
     "text": [
      "Standard output is empty\n",
      "Standard error:\n",
      "Exception in thread \"main\" net.razorvine.pickle.PickleException: failed to __setstate__()\n",
      "\tat net.razorvine.pickle.Unpickler.load_build(Unpickler.java:395)\n",
      "\tat net.razorvine.pickle.Unpickler.dispatch(Unpickler.java:220)\n",
      "\tat org.jpmml.python.CustomUnpickler.dispatch(CustomUnpickler.java:31)\n",
      "\tat net.razorvine.pickle.Unpickler.load(Unpickler.java:109)\n",
      "\tat numpy.core.NDArrayUtil.readObject(NDArrayUtil.java:389)\n",
      "\tat numpy.core.TypeDescriptor.read(TypeDescriptor.java:165)\n",
      "\tat numpy.core.NDArrayUtil.parseArray(NDArrayUtil.java:225)\n",
      "\tat numpy.core.NDArrayUtil.parseData(NDArrayUtil.java:200)\n",
      "\tat joblib.NumpyArrayWrapper.toArray(NumpyArrayWrapper.java:43)\n",
      "\tat org.jpmml.python.PickleUtil$1.dispatch(PickleUtil.java:75)\n",
      "\tat net.razorvine.pickle.Unpickler.load(Unpickler.java:109)\n",
      "\tat org.jpmml.python.PickleUtil.unpickle(PickleUtil.java:85)\n",
      "\tat com.sklearn2pmml.Main.run(Main.java:71)\n",
      "\tat com.sklearn2pmml.Main.main(Main.java:62)\n",
      "Caused by: java.lang.reflect.InvocationTargetException\n",
      "\tat java.base/jdk.internal.reflect.DirectMethodHandleAccessor.invoke(DirectMethodHandleAccessor.java:119)\n",
      "\tat java.base/java.lang.reflect.Method.invoke(Method.java:577)\n",
      "\tat net.razorvine.pickle.Unpickler.load_build(Unpickler.java:393)\n",
      "\t... 13 more\n",
      "Caused by: net.razorvine.pickle.PickleException: Expected 8 attribute(s), got 9 attribute(s)\n",
      "\tat org.jpmml.python.CustomPythonObject.createAttributeMap(CustomPythonObject.java:81)\n",
      "\tat numpy.DType.__setstate__(DType.java:50)\n",
      "\tat java.base/jdk.internal.reflect.DirectMethodHandleAccessor.invoke(DirectMethodHandleAccessor.java:104)\n",
      "\t... 15 more\n",
      "\n"
     ]
    },
    {
     "ename": "RuntimeError",
     "evalue": "The SkLearn2PMML application has failed. The Java executable should have printed more information about the failure into its standard output and/or standard error streams",
     "output_type": "error",
     "traceback": [
      "\u001B[1;31m---------------------------------------------------------------------------\u001B[0m",
      "\u001B[1;31mRuntimeError\u001B[0m                              Traceback (most recent call last)",
      "Input \u001B[1;32mIn [48]\u001B[0m, in \u001B[0;36m<module>\u001B[1;34m\u001B[0m\n\u001B[1;32m----> 1\u001B[0m \u001B[43msklearn2pmml\u001B[49m\u001B[43m(\u001B[49m\u001B[43mpmml_pipe\u001B[49m\u001B[43m,\u001B[49m\u001B[43m \u001B[49m\u001B[38;5;124;43m\"\u001B[39;49m\u001B[38;5;124;43mmodel_pipeline_1.pmml\u001B[39;49m\u001B[38;5;124;43m\"\u001B[39;49m\u001B[43m,\u001B[49m\u001B[43m  \u001B[49m\u001B[43mwith_repr\u001B[49m\u001B[38;5;241;43m=\u001B[39;49m\u001B[38;5;28;43;01mTrue\u001B[39;49;00m\u001B[43m)\u001B[49m\n",
      "File \u001B[1;32mc:\\users\\bruno.gonzalez\\miniconda3\\envs\\pyca\\lib\\site-packages\\sklearn2pmml\\__init__.py:259\u001B[0m, in \u001B[0;36msklearn2pmml\u001B[1;34m(pipeline, pmml, user_classpath, with_repr, debug)\u001B[0m\n\u001B[0;32m    257\u001B[0m \t\t\t\u001B[38;5;28mprint\u001B[39m(\u001B[38;5;124m\"\u001B[39m\u001B[38;5;124mStandard error is empty\u001B[39m\u001B[38;5;124m\"\u001B[39m)\n\u001B[0;32m    258\u001B[0m \t\u001B[38;5;28;01mif\u001B[39;00m retcode:\n\u001B[1;32m--> 259\u001B[0m \t\t\u001B[38;5;28;01mraise\u001B[39;00m \u001B[38;5;167;01mRuntimeError\u001B[39;00m(\u001B[38;5;124m\"\u001B[39m\u001B[38;5;124mThe SkLearn2PMML application has failed. The Java executable should have printed more information about the failure into its standard output and/or standard error streams\u001B[39m\u001B[38;5;124m\"\u001B[39m)\n\u001B[0;32m    260\u001B[0m \u001B[38;5;28;01mfinally\u001B[39;00m:\n\u001B[0;32m    261\u001B[0m \t\u001B[38;5;28;01mif\u001B[39;00m debug:\n",
      "\u001B[1;31mRuntimeError\u001B[0m: The SkLearn2PMML application has failed. The Java executable should have printed more information about the failure into its standard output and/or standard error streams"
     ]
    }
   ],
   "source": [
    "sklearn2pmml(pmml_pipe, \"model_pipeline_1.pmml\",  with_repr=True)"
   ],
   "metadata": {
    "collapsed": false,
    "pycharm": {
     "name": "#%%\n"
    }
   }
  },
  {
   "cell_type": "code",
   "execution_count": 202,
   "outputs": [],
   "source": [
    "import pickle\n",
    "with open('pycaret_pipeline.pkl', 'rb') as f:\n",
    "    mod = pickle.load(f)"
   ],
   "metadata": {
    "collapsed": false,
    "pycharm": {
     "name": "#%%\n"
    }
   }
  },
  {
   "cell_type": "code",
   "execution_count": 203,
   "outputs": [
    {
     "data": {
      "text/plain": "array(['Calendar Date', 'Scenario', '401K Asset fee & BP Revenue',\n       '401K Fee Revenue', 'ASO Allocation', 'ASO Revenue - Oasis',\n       'Benetrac', 'Cafeteria Plans Revenue', 'Delivery Revenue',\n       'ESR Revenue', 'Emerging Products',\n       'Full Service Unemployment Revenue', 'HR Online',\n       'HR Solutions (PEO)', 'Health Benefits',\n       'Interest on Funds Held for Clients', 'Other Processing Revenue',\n       'Payroll blended products', 'SurePayroll.', 'Time & Attendance',\n       'Total Paychex Advance', 'Total international', 'W-2 Revenue',\n       'Workers Comp - Payment Se', 'Series', 'Year', 'Month'],\n      dtype=object)"
     },
     "execution_count": 203,
     "metadata": {},
     "output_type": "execute_result"
    }
   ],
   "source": [
    "mod"
   ],
   "metadata": {
    "collapsed": false,
    "pycharm": {
     "name": "#%%\n"
    }
   }
  },
  {
   "cell_type": "code",
   "execution_count": null,
   "outputs": [],
   "source": [
    "# pmml_pipeline = PMMLPipeline([\n",
    "#     (\"prep_pipe\", prep_pipe),\n",
    "#     (\"final_model\", final_model)\n",
    "# ])\n",
    "\n",
    "import pickle\n",
    "\n",
    "with open(\"regression.pkl\", \"wb\") as pf:\n",
    "    pickle.dump(pmml_pipeline, pf)"
   ],
   "metadata": {
    "collapsed": false,
    "pycharm": {
     "name": "#%%\n"
    }
   }
  },
  {
   "cell_type": "markdown",
   "source": [
    "### JPMML-SkLearn"
   ],
   "metadata": {
    "collapsed": false
   }
  },
  {
   "cell_type": "code",
   "execution_count": 207,
   "outputs": [
    {
     "name": "stdout",
     "output_type": "stream",
     "text": [
      "0.23.2\n",
      "1.1.0\n",
      "2.2.0\n",
      "0.79.0\n"
     ]
    }
   ],
   "source": [
    "import sklearn, joblib, sklearn_pandas, sklearn2pmml\n",
    "\n",
    "print(sklearn.__version__)\n",
    "print(joblib.__version__)\n",
    "print(sklearn_pandas.__version__)\n",
    "print(sklearn2pmml.__version__)"
   ],
   "metadata": {
    "collapsed": false,
    "pycharm": {
     "name": "#%%\n"
    }
   }
  },
  {
   "cell_type": "code",
   "execution_count": 208,
   "outputs": [
    {
     "name": "stdout",
     "output_type": "stream",
     "text": [
      "Transformation Pipeline and Model Successfully Saved\n"
     ]
    }
   ],
   "source": [
    "pipeline, name = save_model(best, 'pycaret_pipeline')"
   ],
   "metadata": {
    "collapsed": false,
    "pycharm": {
     "name": "#%%\n"
    }
   }
  },
  {
   "cell_type": "code",
   "execution_count": 209,
   "outputs": [
    {
     "data": {
      "text/plain": "['pipeline.pkl.z']"
     },
     "execution_count": 209,
     "metadata": {},
     "output_type": "execute_result"
    }
   ],
   "source": [
    "joblib.dump(pipeline, \"pipeline.pkl.z\", compress = 9)"
   ],
   "metadata": {
    "collapsed": false,
    "pycharm": {
     "name": "#%%\n"
    }
   }
  },
  {
   "cell_type": "code",
   "execution_count": 53,
   "outputs": [
    {
     "name": "stdout",
     "output_type": "stream",
     "text": [
      "Standard output is empty\n",
      "Standard error:\n",
      "Exception in thread \"main\" net.razorvine.pickle.PickleException: failed to __setstate__()\n",
      "\tat net.razorvine.pickle.Unpickler.load_build(Unpickler.java:395)\n",
      "\tat net.razorvine.pickle.Unpickler.dispatch(Unpickler.java:220)\n",
      "\tat org.jpmml.python.CustomUnpickler.dispatch(CustomUnpickler.java:31)\n",
      "\tat net.razorvine.pickle.Unpickler.load(Unpickler.java:109)\n",
      "\tat numpy.core.NDArrayUtil.readObject(NDArrayUtil.java:389)\n",
      "\tat numpy.core.TypeDescriptor.read(TypeDescriptor.java:165)\n",
      "\tat numpy.core.NDArrayUtil.parseArray(NDArrayUtil.java:225)\n",
      "\tat numpy.core.NDArrayUtil.parseData(NDArrayUtil.java:200)\n",
      "\tat joblib.NumpyArrayWrapper.toArray(NumpyArrayWrapper.java:43)\n",
      "\tat org.jpmml.python.PickleUtil$1.dispatch(PickleUtil.java:75)\n",
      "\tat net.razorvine.pickle.Unpickler.load(Unpickler.java:109)\n",
      "\tat org.jpmml.python.PickleUtil.unpickle(PickleUtil.java:85)\n",
      "\tat com.sklearn2pmml.Main.run(Main.java:71)\n",
      "\tat com.sklearn2pmml.Main.main(Main.java:62)\n",
      "Caused by: java.lang.reflect.InvocationTargetException\n",
      "\tat java.base/jdk.internal.reflect.DirectMethodHandleAccessor.invoke(DirectMethodHandleAccessor.java:119)\n",
      "\tat java.base/java.lang.reflect.Method.invoke(Method.java:577)\n",
      "\tat net.razorvine.pickle.Unpickler.load_build(Unpickler.java:393)\n",
      "\t... 13 more\n",
      "Caused by: net.razorvine.pickle.PickleException: Expected 8 attribute(s), got 9 attribute(s)\n",
      "\tat org.jpmml.python.CustomPythonObject.createAttributeMap(CustomPythonObject.java:81)\n",
      "\tat numpy.DType.__setstate__(DType.java:50)\n",
      "\tat java.base/jdk.internal.reflect.DirectMethodHandleAccessor.invoke(DirectMethodHandleAccessor.java:104)\n",
      "\t... 15 more\n",
      "\n"
     ]
    },
    {
     "ename": "RuntimeError",
     "evalue": "The SkLearn2PMML application has failed. The Java executable should have printed more information about the failure into its standard output and/or standard error streams",
     "output_type": "error",
     "traceback": [
      "\u001B[1;31m---------------------------------------------------------------------------\u001B[0m",
      "\u001B[1;31mRuntimeError\u001B[0m                              Traceback (most recent call last)",
      "Input \u001B[1;32mIn [53]\u001B[0m, in \u001B[0;36m<module>\u001B[1;34m\u001B[0m\n\u001B[0;32m      5\u001B[0m pmml_pipeline \u001B[38;5;241m=\u001B[39m PMMLPipeline([\n\u001B[0;32m      6\u001B[0m     (\u001B[38;5;124m\"\u001B[39m\u001B[38;5;124mprep_pipe\u001B[39m\u001B[38;5;124m\"\u001B[39m, pipeline[:\u001B[38;5;241m-\u001B[39m\u001B[38;5;241m1\u001B[39m]),\n\u001B[0;32m      7\u001B[0m     (\u001B[38;5;124m\"\u001B[39m\u001B[38;5;124mfinal_model\u001B[39m\u001B[38;5;124m\"\u001B[39m, best)\n\u001B[0;32m      8\u001B[0m ])\n\u001B[0;32m     10\u001B[0m \u001B[38;5;28;01mfrom\u001B[39;00m \u001B[38;5;21;01msklearn2pmml\u001B[39;00m \u001B[38;5;28;01mimport\u001B[39;00m sklearn2pmml\n\u001B[1;32m---> 12\u001B[0m \u001B[43msklearn2pmml\u001B[49m\u001B[43m(\u001B[49m\u001B[43mpmml_pipeline\u001B[49m\u001B[43m,\u001B[49m\u001B[43m \u001B[49m\u001B[38;5;124;43m\"\u001B[39;49m\u001B[38;5;124;43mpipeline_model.pmml\u001B[39;49m\u001B[38;5;124;43m\"\u001B[39;49m\u001B[43m)\u001B[49m\n",
      "File \u001B[1;32mc:\\users\\bruno.gonzalez\\miniconda3\\envs\\pyca\\lib\\site-packages\\sklearn2pmml\\__init__.py:259\u001B[0m, in \u001B[0;36msklearn2pmml\u001B[1;34m(pipeline, pmml, user_classpath, with_repr, debug)\u001B[0m\n\u001B[0;32m    257\u001B[0m \t\t\t\u001B[38;5;28mprint\u001B[39m(\u001B[38;5;124m\"\u001B[39m\u001B[38;5;124mStandard error is empty\u001B[39m\u001B[38;5;124m\"\u001B[39m)\n\u001B[0;32m    258\u001B[0m \t\u001B[38;5;28;01mif\u001B[39;00m retcode:\n\u001B[1;32m--> 259\u001B[0m \t\t\u001B[38;5;28;01mraise\u001B[39;00m \u001B[38;5;167;01mRuntimeError\u001B[39;00m(\u001B[38;5;124m\"\u001B[39m\u001B[38;5;124mThe SkLearn2PMML application has failed. The Java executable should have printed more information about the failure into its standard output and/or standard error streams\u001B[39m\u001B[38;5;124m\"\u001B[39m)\n\u001B[0;32m    260\u001B[0m \u001B[38;5;28;01mfinally\u001B[39;00m:\n\u001B[0;32m    261\u001B[0m \t\u001B[38;5;28;01mif\u001B[39;00m debug:\n",
      "\u001B[1;31mRuntimeError\u001B[0m: The SkLearn2PMML application has failed. The Java executable should have printed more information about the failure into its standard output and/or standard error streams"
     ]
    }
   ],
   "source": [
    "\n",
    "\n",
    "# Do the standard PyCaret stuff\n",
    "\n",
    "from sklearn2pmml.pipeline import PMMLPipeline\n",
    "\n",
    "pmml_pipeline = PMMLPipeline([\n",
    "    (\"prep_pipe\", pipeline[:-1]),\n",
    "    (\"final_model\", best)\n",
    "])\n",
    "\n",
    "from sklearn2pmml import sklearn2pmml\n",
    "\n",
    "sklearn2pmml(pmml_pipeline, \"pipeline_model.pmml\")"
   ],
   "metadata": {
    "collapsed": false,
    "pycharm": {
     "name": "#%%\n"
    }
   }
  },
  {
   "cell_type": "markdown",
   "source": [
    "### Niyoka"
   ],
   "metadata": {
    "collapsed": false
   }
  },
  {
   "cell_type": "code",
   "execution_count": 89,
   "outputs": [],
   "source": [
    " from nyoka import skl_to_pmml"
   ],
   "metadata": {
    "collapsed": false,
    "pycharm": {
     "name": "#%%\n"
    }
   }
  },
  {
   "cell_type": "code",
   "execution_count": 32,
   "outputs": [
    {
     "name": "stdout",
     "output_type": "stream",
     "text": [
      "Transformation Pipeline and Model Successfully Saved\n"
     ]
    }
   ],
   "source": [
    "pipeline, name = save_model(best, 'pycaret_pipeline')"
   ],
   "metadata": {
    "collapsed": false,
    "pycharm": {
     "name": "#%%\n"
    }
   }
  },
  {
   "cell_type": "code",
   "execution_count": 50,
   "outputs": [
    {
     "data": {
      "text/plain": "'TotalRevenue'"
     },
     "execution_count": 50,
     "metadata": {},
     "output_type": "execute_result"
    }
   ],
   "source": [
    "dependent_col"
   ],
   "metadata": {
    "collapsed": false,
    "pycharm": {
     "name": "#%%\n"
    }
   }
  },
  {
   "cell_type": "code",
   "execution_count": 51,
   "outputs": [
    {
     "ename": "TypeError",
     "evalue": "This PreProcessing Task is not Supported",
     "output_type": "error",
     "traceback": [
      "\u001B[1;31m---------------------------------------------------------------------------\u001B[0m",
      "\u001B[1;31mTypeError\u001B[0m                                 Traceback (most recent call last)",
      "Input \u001B[1;32mIn [51]\u001B[0m, in \u001B[0;36m<module>\u001B[1;34m\u001B[0m\n\u001B[1;32m----> 1\u001B[0m \u001B[43mskl_to_pmml\u001B[49m\u001B[43m(\u001B[49m\u001B[43mpipeline\u001B[49m\u001B[38;5;241;43m=\u001B[39;49m\u001B[43mpipeline\u001B[49m\u001B[43m,\u001B[49m\u001B[43mcol_names\u001B[49m\u001B[38;5;241;43m=\u001B[39;49m\u001B[43mfeature_cols\u001B[49m\u001B[43m,\u001B[49m\u001B[43mtarget_name\u001B[49m\u001B[38;5;241;43m=\u001B[39;49m\u001B[43mdependent_col\u001B[49m\u001B[43m,\u001B[49m\u001B[43mpmml_f_name\u001B[49m\u001B[38;5;241;43m=\u001B[39;49m\u001B[38;5;124;43m\"\u001B[39;49m\u001B[38;5;124;43mpipeline_model.pmml\u001B[39;49m\u001B[38;5;124;43m\"\u001B[39;49m\u001B[43m)\u001B[49m\n",
      "File \u001B[1;32mc:\\users\\bruno.gonzalez\\miniconda3\\envs\\pyca\\lib\\site-packages\\nyoka\\skl\\skl_to_pmml.py:70\u001B[0m, in \u001B[0;36mskl_to_pmml\u001B[1;34m(pipeline, col_names, target_name, pmml_f_name, model_name, description)\u001B[0m\n\u001B[0;32m     68\u001B[0m mining_imp_val \u001B[38;5;241m=\u001B[39m \u001B[38;5;28mtuple\u001B[39m()\n\u001B[0;32m     69\u001B[0m \u001B[38;5;28;01mif\u001B[39;00m ppln_sans_predictor:\n\u001B[1;32m---> 70\u001B[0m     pml_pp \u001B[38;5;241m=\u001B[39m \u001B[43mpp\u001B[49m\u001B[38;5;241;43m.\u001B[39;49m\u001B[43mget_preprocess_val\u001B[49m\u001B[43m(\u001B[49m\u001B[43mppln_sans_predictor\u001B[49m\u001B[43m,\u001B[49m\u001B[43m \u001B[49m\u001B[43mcol_names\u001B[49m\u001B[43m,\u001B[49m\u001B[43m \u001B[49m\u001B[43mmodel\u001B[49m\u001B[43m)\u001B[49m\n\u001B[0;32m     71\u001B[0m     trfm_dict_kwargs[\u001B[38;5;124m'\u001B[39m\u001B[38;5;124mTransformationDictionary\u001B[39m\u001B[38;5;124m'\u001B[39m] \u001B[38;5;241m=\u001B[39m pml_pp[\u001B[38;5;124m'\u001B[39m\u001B[38;5;124mtrfm_dict\u001B[39m\u001B[38;5;124m'\u001B[39m]\n\u001B[0;32m     72\u001B[0m     derived_col_names \u001B[38;5;241m=\u001B[39m pml_pp[\u001B[38;5;124m'\u001B[39m\u001B[38;5;124mderived_col_names\u001B[39m\u001B[38;5;124m'\u001B[39m]\n",
      "File \u001B[1;32mc:\\users\\bruno.gonzalez\\miniconda3\\envs\\pyca\\lib\\site-packages\\nyoka\\skl\\pre_process.py:112\u001B[0m, in \u001B[0;36mget_preprocess_val\u001B[1;34m(ppln_sans_predictor, initial_colnames, model)\u001B[0m\n\u001B[0;32m    110\u001B[0m     ppln_step_inst \u001B[38;5;241m=\u001B[39m [ppln_step_inst]\n\u001B[0;32m    111\u001B[0m \u001B[38;5;28;01mfor\u001B[39;00m trfm \u001B[38;5;129;01min\u001B[39;00m ppln_step_inst:\n\u001B[1;32m--> 112\u001B[0m     pp_dict \u001B[38;5;241m=\u001B[39m \u001B[43mget_pml_derived_flds\u001B[49m\u001B[43m(\u001B[49m\u001B[43mtrfm\u001B[49m\u001B[43m,\u001B[49m\u001B[43m \u001B[49m\u001B[43mupdated_colnames\u001B[49m\u001B[43m,\u001B[49m\u001B[43m \u001B[49m\u001B[43mmodel\u001B[49m\u001B[38;5;241;43m=\u001B[39;49m\u001B[43mmodel\u001B[49m\u001B[43m)\u001B[49m\n\u001B[0;32m    113\u001B[0m     derived_flds \u001B[38;5;241m=\u001B[39m pp_dict[\u001B[38;5;124m'\u001B[39m\u001B[38;5;124mder_fld\u001B[39m\u001B[38;5;124m'\u001B[39m]\n\u001B[0;32m    114\u001B[0m     derived_names \u001B[38;5;241m=\u001B[39m pp_dict[\u001B[38;5;124m'\u001B[39m\u001B[38;5;124mder_col_names\u001B[39m\u001B[38;5;124m'\u001B[39m]\n",
      "File \u001B[1;32mc:\\users\\bruno.gonzalez\\miniconda3\\envs\\pyca\\lib\\site-packages\\nyoka\\skl\\pre_process.py:207\u001B[0m, in \u001B[0;36mget_pml_derived_flds\u001B[1;34m(trfm, col_names, **kwargs)\u001B[0m\n\u001B[0;32m    205\u001B[0m     \u001B[38;5;28;01mreturn\u001B[39;00m lag(trfm, col_names)\n\u001B[0;32m    206\u001B[0m \u001B[38;5;28;01melse\u001B[39;00m:\n\u001B[1;32m--> 207\u001B[0m     \u001B[38;5;28;01mraise\u001B[39;00m \u001B[38;5;167;01mTypeError\u001B[39;00m(\u001B[38;5;124m\"\u001B[39m\u001B[38;5;124mThis PreProcessing Task is not Supported\u001B[39m\u001B[38;5;124m\"\u001B[39m)\n",
      "\u001B[1;31mTypeError\u001B[0m: This PreProcessing Task is not Supported"
     ]
    }
   ],
   "source": [
    "skl_to_pmml(pipeline=pipeline,col_names=feature_cols,target_name=dependent_col,pmml_f_name=\"pipeline_model.pmml\")"
   ],
   "metadata": {
    "collapsed": false,
    "pycharm": {
     "name": "#%%\n"
    }
   }
  },
  {
   "cell_type": "code",
   "execution_count": 52,
   "outputs": [
    {
     "data": {
      "text/plain": "Pipeline(memory=None,\n         steps=[('dtypes',\n                 DataTypes_Auto_infer(categorical_features=[],\n                                      display_types=True, features_todrop=[],\n                                      id_columns=[], ml_usecase='regression',\n                                      numerical_features=['401KAssetfee&BPRevenue',\n                                                          '401KFeeRevenue',\n                                                          'ASOAllocation',\n                                                          'ASORevenue-Oasis',\n                                                          'Benetrac',\n                                                          'CafeteriaPlansRevenue',\n                                                          'DeliveryRevenue',\n                                                          'EmergingProducts',\n                                                          'ESRRevenue',\n                                                          'FullServ...\n                                       correlation_with_target_threshold=0.0,\n                                       target_variable='TotalRevenue',\n                                       threshold=0.9)),\n                ('dfs', 'passthrough'), ('pca', 'passthrough'),\n                ['trained_model',\n                 BayesianRidge(alpha_1=1e-06, alpha_2=1e-06, alpha_init=None,\n                               compute_score=False, copy_X=True,\n                               fit_intercept=True, lambda_1=1e-06,\n                               lambda_2=1e-06, lambda_init=None, n_iter=300,\n                               normalize=False, tol=0.001, verbose=False)]],\n         verbose=False)"
     },
     "execution_count": 52,
     "metadata": {},
     "output_type": "execute_result"
    }
   ],
   "source": [
    "pipeline"
   ],
   "metadata": {
    "collapsed": false,
    "pycharm": {
     "name": "#%%\n"
    }
   }
  },
  {
   "cell_type": "code",
   "execution_count": 46,
   "outputs": [
    {
     "data": {
      "text/plain": "[('dtypes',\n  DataTypes_Auto_infer(categorical_features=[], display_types=True,\n                       features_todrop=[], id_columns=[], ml_usecase='regression',\n                       numerical_features=['401K Asset fee & BP Revenue',\n                                           '401K Fee Revenue', 'ASO Allocation',\n                                           'ASO Revenue - Oasis', 'Benetrac',\n                                           'Cafeteria Plans Revenue',\n                                           'Delivery Revenue',\n                                           'Emerging Products', 'ESR Revenue',\n                                           'Full Service Unemployment Revenue',\n                                           'Health Benefits', 'HR Online',\n                                           'HR Solutions (PEO)',\n                                           'Interest on Funds Held for Clients',\n                                           'Other Processing Revenue',\n                                           'Payroll blended products',\n                                           'SurePayroll.', 'Time & Attendance',\n                                           'Total international',\n                                           'Total Paychex Advance', 'W-2 Revenue',\n                                           'Workers Comp - Payment Se'],\n                       target='Total Revenue', time_features=[])),\n ('imputer',\n  Simple_Imputer(categorical_strategy='not_available',\n                 fill_value_categorical=None, fill_value_numerical=None,\n                 numeric_strategy='mean', target_variable=None)),\n ('new_levels1',\n  New_Catagorical_Levels_in_TestData(replacement_strategy='least frequent',\n                                     target='Total Revenue')),\n ('ordinal', 'passthrough'),\n ('cardinality', 'passthrough'),\n ('znz', 'passthrough'),\n ('club_R_L', 'passthrough'),\n ('new_levels',\n  New_Catagorical_Levels_in_TestData(replacement_strategy='least frequent',\n                                     target='Total Revenue')),\n ('feature_time',\n  Make_Time_Features(list_of_features=None,\n                     time_feature=Index(['Calendar Date'], dtype='object'))),\n ('group', 'passthrough'),\n ('nonliner', 'passthrough'),\n ('scaling', 'passthrough'),\n ('P_transform', 'passthrough'),\n ('binn', 'passthrough'),\n ('rem_outliers', 'passthrough'),\n ('cluster_all', 'passthrough'),\n ('dummy', Dummify(target='Total Revenue')),\n ('fix_perfect', Remove_100(target='Total Revenue')),\n ('clean_names', Clean_Colum_Names()),\n ('feature_select',\n  Advanced_Feature_Selection_Classic(ml_usecase='regression', n_jobs=-1,\n                                     random_state=123, subclass='binary',\n                                     target='Total Revenue',\n                                     top_features_to_pick=0.19999999999999996)),\n ('fix_multi',\n  Fix_multicollinearity(correlation_with_target_preference=None,\n                        correlation_with_target_threshold=0.0,\n                        target_variable='Total Revenue', threshold=0.9)),\n ('dfs', 'passthrough'),\n ('pca', 'passthrough'),\n ['trained_model',\n  BayesianRidge(alpha_1=1e-06, alpha_2=1e-06, alpha_init=None,\n                compute_score=False, copy_X=True, fit_intercept=True,\n                lambda_1=1e-06, lambda_2=1e-06, lambda_init=None, n_iter=300,\n                normalize=False, tol=0.001, verbose=False)]]"
     },
     "execution_count": 46,
     "metadata": {},
     "output_type": "execute_result"
    }
   ],
   "source": [
    "_get_steps(pipeline)"
   ],
   "metadata": {
    "collapsed": false,
    "pycharm": {
     "name": "#%%\n"
    }
   }
  },
  {
   "cell_type": "code",
   "execution_count": 49,
   "outputs": [
    {
     "data": {
      "text/plain": "sklearn.pipeline.Pipeline"
     },
     "execution_count": 49,
     "metadata": {},
     "output_type": "execute_result"
    }
   ],
   "source": [
    "type(pipeline)"
   ],
   "metadata": {
    "collapsed": false,
    "pycharm": {
     "name": "#%%\n"
    }
   }
  },
  {
   "cell_type": "code",
   "execution_count": 50,
   "outputs": [
    {
     "data": {
      "text/plain": "array([2.41584291e+08, 2.52666768e+08, 2.36259392e+08, 2.61855540e+08,\n       2.60759849e+08, 2.51681907e+08, 2.92837477e+08, 3.43333100e+08,\n       2.54288340e+08, 2.81899719e+08, 2.73179446e+08, 2.55473918e+08])"
     },
     "execution_count": 50,
     "metadata": {},
     "output_type": "execute_result"
    }
   ],
   "source": [
    "pipeline.predict(test_df)"
   ],
   "metadata": {
    "collapsed": false,
    "pycharm": {
     "name": "#%%\n"
    }
   }
  },
  {
   "cell_type": "code",
   "execution_count": 69,
   "outputs": [
    {
     "data": {
      "text/plain": "Pipeline(memory=None,\n         steps=[('imputer',\n                 Simple_Imputer(categorical_strategy='not_available',\n                                fill_value_categorical=None,\n                                fill_value_numerical=None,\n                                numeric_strategy='mean',\n                                target_variable=None)),\n                ('new_levels1',\n                 New_Catagorical_Levels_in_TestData(replacement_strategy='least '\n                                                                         'frequent',\n                                                    target='TotalRevenue')),\n                ('ordinal', 'passthrough'), ('cardinality', 'pas...\n                                       correlation_with_target_threshold=0.0,\n                                       target_variable='TotalRevenue',\n                                       threshold=0.9)),\n                ('dfs', 'passthrough'), ('pca', 'passthrough'),\n                ['trained_model',\n                 BayesianRidge(alpha_1=1e-06, alpha_2=1e-06, alpha_init=None,\n                               compute_score=False, copy_X=True,\n                               fit_intercept=True, lambda_1=1e-06,\n                               lambda_2=1e-06, lambda_init=None, n_iter=300,\n                               normalize=False, tol=0.001, verbose=False)]],\n         verbose=False)"
     },
     "execution_count": 69,
     "metadata": {},
     "output_type": "execute_result"
    }
   ],
   "source": [
    "pipeline[1:]"
   ],
   "metadata": {
    "collapsed": false,
    "pycharm": {
     "name": "#%%\n"
    }
   }
  },
  {
   "cell_type": "markdown",
   "source": [
    "## Deploy"
   ],
   "metadata": {
    "collapsed": false
   }
  },
  {
   "cell_type": "code",
   "execution_count": 82,
   "outputs": [],
   "source": [
    "import os\n",
    "from io import BytesIO\n",
    "from azure.storage.blob import BlobServiceClient"
   ],
   "metadata": {
    "collapsed": false,
    "pycharm": {
     "name": "#%%\n"
    }
   }
  },
  {
   "cell_type": "code",
   "execution_count": 75,
   "outputs": [],
   "source": [
    "from src.paychex_ml.utils import load_credentials"
   ],
   "metadata": {
    "collapsed": false,
    "pycharm": {
     "name": "#%%\n"
    }
   }
  },
  {
   "cell_type": "code",
   "execution_count": 76,
   "outputs": [],
   "source": [
    "credentials = load_credentials(\"blob_storage\",\n",
    "                               file=\"C:/Users/bruno.gonzalez/DataspellProjects/Paychex_revenue_forecast/credentials.yml\")"
   ],
   "metadata": {
    "collapsed": false,
    "pycharm": {
     "name": "#%%\n"
    }
   }
  },
  {
   "cell_type": "code",
   "execution_count": 71,
   "outputs": [],
   "source": [
    "os.environ['AZURE_STORAGE_CONNECTION_STRING'] = credentials['conn_string']"
   ],
   "metadata": {
    "collapsed": false,
    "pycharm": {
     "name": "#%%\n"
    }
   }
  },
  {
   "cell_type": "code",
   "execution_count": 73,
   "outputs": [
    {
     "name": "stdout",
     "output_type": "stream",
     "text": [
      "Model Successfully Deployed on Azure Storage Blob\n"
     ]
    }
   ],
   "source": [
    "deploy_model(pipeline, model_name = 'model_pipeline_1', platform = 'azure', authentication = { 'container'  : 'models' })"
   ],
   "metadata": {
    "collapsed": false,
    "pycharm": {
     "name": "#%%\n"
    }
   }
  },
  {
   "cell_type": "code",
   "execution_count": 84,
   "outputs": [],
   "source": [
    "# Start client\n",
    "container_name = \"models\"\n",
    "blob_service_client = BlobServiceClient.from_connection_string(credentials['conn_string'])\n",
    "container_client = blob_service_client.get_container_client(container_name)"
   ],
   "metadata": {
    "collapsed": false,
    "pycharm": {
     "name": "#%%\n"
    }
   }
  },
  {
   "cell_type": "code",
   "execution_count": 85,
   "outputs": [
    {
     "data": {
      "text/plain": "46914"
     },
     "execution_count": 85,
     "metadata": {},
     "output_type": "execute_result"
    }
   ],
   "source": [
    "# Download file\n",
    "file = 'model_pipeline_1.pkl'\n",
    "stream_downloader = container_client.download_blob(file)\n",
    "stream = BytesIO()\n",
    "stream_downloader.readinto(stream)"
   ],
   "metadata": {
    "collapsed": false,
    "pycharm": {
     "name": "#%%\n"
    }
   }
  },
  {
   "cell_type": "code",
   "execution_count": 87,
   "outputs": [],
   "source": [
    "from joblib import dump, load\n",
    "pipeline_azure = load(stream)"
   ],
   "metadata": {
    "collapsed": false,
    "pycharm": {
     "name": "#%%\n"
    }
   }
  },
  {
   "cell_type": "code",
   "execution_count": 88,
   "outputs": [
    {
     "data": {
      "text/plain": "Pipeline(memory=None,\n         steps=[('dtypes',\n                 DataTypes_Auto_infer(categorical_features=[],\n                                      display_types=True, features_todrop=[],\n                                      id_columns=[], ml_usecase='regression',\n                                      numerical_features=['401KAssetfee&BPRevenue',\n                                                          '401KFeeRevenue',\n                                                          'ASOAllocation',\n                                                          'ASORevenue-Oasis',\n                                                          'Benetrac',\n                                                          'CafeteriaPlansRevenue',\n                                                          'DeliveryRevenue',\n                                                          'EmergingProducts',\n                                                          'ESRRevenue',\n                                                          'FullServ...\n                                       correlation_with_target_threshold=0.0,\n                                       target_variable='TotalRevenue',\n                                       threshold=0.9)),\n                ('dfs', 'passthrough'), ('pca', 'passthrough'),\n                ['trained_model',\n                 BayesianRidge(alpha_1=1e-06, alpha_2=1e-06, alpha_init=None,\n                               compute_score=False, copy_X=True,\n                               fit_intercept=True, lambda_1=1e-06,\n                               lambda_2=1e-06, lambda_init=None, n_iter=300,\n                               normalize=False, tol=0.001, verbose=False)]],\n         verbose=False)"
     },
     "execution_count": 88,
     "metadata": {},
     "output_type": "execute_result"
    }
   ],
   "source": [
    "pipeline_azure"
   ],
   "metadata": {
    "collapsed": false,
    "pycharm": {
     "name": "#%%\n"
    }
   }
  },
  {
   "cell_type": "code",
   "execution_count": 92,
   "outputs": [
    {
     "data": {
      "text/plain": "array([2.41584291e+08, 2.52666768e+08, 2.36259392e+08, 2.61855540e+08,\n       2.60759849e+08, 2.51681907e+08, 2.92837477e+08, 3.43333100e+08,\n       2.54288340e+08, 2.81899719e+08, 2.73179446e+08, 2.55473918e+08])"
     },
     "execution_count": 92,
     "metadata": {},
     "output_type": "execute_result"
    }
   ],
   "source": [
    "pipeline_azure.predict(test_df)"
   ],
   "metadata": {
    "collapsed": false,
    "pycharm": {
     "name": "#%%\n"
    }
   }
  },
  {
   "cell_type": "code",
   "execution_count": 93,
   "outputs": [
    {
     "name": "stdout",
     "output_type": "stream",
     "text": [
      "Step : DataTypes_Auto_infer(categorical_features=[], display_types=True,\n",
      "                     features_todrop=[], id_columns=[], ml_usecase='regression',\n",
      "                     numerical_features=['401KAssetfee&BPRevenue',\n",
      "                                         '401KFeeRevenue', 'ASOAllocation',\n",
      "                                         'ASORevenue-Oasis', 'Benetrac',\n",
      "                                         'CafeteriaPlansRevenue',\n",
      "                                         'DeliveryRevenue', 'EmergingProducts',\n",
      "                                         'ESRRevenue',\n",
      "                                         'FullServiceUnemploymentRevenue',\n",
      "                                         'HealthBenefits', 'HROnline',\n",
      "                                         'HRSolutions(PEO)',\n",
      "                                         'InterestonFundsHeldforClients',\n",
      "                                         'OtherProcessingRevenue',\n",
      "                                         'Payrollblendedproducts',\n",
      "                                         'SurePayroll.', 'Time&Attendance',\n",
      "                                         'Totalinternational',\n",
      "                                         'TotalPaychexAdvance', 'W-2Revenue',\n",
      "                                         'WorkersComp-PaymentSe'],\n",
      "                     target='TotalRevenue', time_features=[])\n",
      "Step : Simple_Imputer(categorical_strategy='not_available',\n",
      "               fill_value_categorical=None, fill_value_numerical=None,\n",
      "               numeric_strategy='mean', target_variable=None)\n",
      "Step : New_Catagorical_Levels_in_TestData(replacement_strategy='least frequent',\n",
      "                                   target='TotalRevenue')\n",
      "Step : passthrough\n",
      "Step : passthrough\n",
      "Step : passthrough\n",
      "Step : passthrough\n",
      "Step : New_Catagorical_Levels_in_TestData(replacement_strategy='least frequent',\n",
      "                                   target='TotalRevenue')\n",
      "Step : Make_Time_Features(list_of_features=None,\n",
      "                   time_feature=Index(['CalendarDate'], dtype='object'))\n",
      "Step : passthrough\n",
      "Step : passthrough\n",
      "Step : passthrough\n",
      "Step : passthrough\n",
      "Step : passthrough\n",
      "Step : passthrough\n",
      "Step : passthrough\n",
      "Step : Dummify(target='TotalRevenue')\n",
      "Step : Remove_100(target='TotalRevenue')\n",
      "Step : Clean_Colum_Names()\n",
      "Step : Advanced_Feature_Selection_Classic(ml_usecase='regression', n_jobs=-1,\n",
      "                                   random_state=123, subclass='binary',\n",
      "                                   target='TotalRevenue',\n",
      "                                   top_features_to_pick=0.19999999999999996)\n",
      "Step : Fix_multicollinearity(correlation_with_target_preference=None,\n",
      "                      correlation_with_target_threshold=0.0,\n",
      "                      target_variable='TotalRevenue', threshold=0.9)\n",
      "Step : passthrough\n",
      "Step : passthrough\n",
      "Step : BayesianRidge(alpha_1=1e-06, alpha_2=1e-06, alpha_init=None,\n",
      "              compute_score=False, copy_X=True, fit_intercept=True,\n",
      "              lambda_1=1e-06, lambda_2=1e-06, lambda_init=None, n_iter=300,\n",
      "              normalize=False, tol=0.001, verbose=False)\n"
     ]
    }
   ],
   "source": [
    "pmml_pipe = make_pmml_pipeline_mod(pipeline_azure)"
   ],
   "metadata": {
    "collapsed": false,
    "pycharm": {
     "name": "#%%\n"
    }
   }
  },
  {
   "cell_type": "code",
   "execution_count": 94,
   "outputs": [
    {
     "name": "stdout",
     "output_type": "stream",
     "text": [
      "Standard output is empty\n",
      "Standard error:\n",
      "Exception in thread \"main\" net.razorvine.pickle.PickleException: failed to __setstate__()\n",
      "\tat net.razorvine.pickle.Unpickler.load_build(Unpickler.java:395)\n",
      "\tat net.razorvine.pickle.Unpickler.dispatch(Unpickler.java:220)\n",
      "\tat org.jpmml.python.CustomUnpickler.dispatch(CustomUnpickler.java:31)\n",
      "\tat net.razorvine.pickle.Unpickler.load(Unpickler.java:109)\n",
      "\tat numpy.core.NDArrayUtil.readObject(NDArrayUtil.java:389)\n",
      "\tat numpy.core.TypeDescriptor.read(TypeDescriptor.java:165)\n",
      "\tat numpy.core.NDArrayUtil.parseArray(NDArrayUtil.java:225)\n",
      "\tat numpy.core.NDArrayUtil.parseData(NDArrayUtil.java:200)\n",
      "\tat joblib.NumpyArrayWrapper.toArray(NumpyArrayWrapper.java:43)\n",
      "\tat org.jpmml.python.PickleUtil$1.dispatch(PickleUtil.java:75)\n",
      "\tat net.razorvine.pickle.Unpickler.load(Unpickler.java:109)\n",
      "\tat org.jpmml.python.PickleUtil.unpickle(PickleUtil.java:85)\n",
      "\tat com.sklearn2pmml.Main.run(Main.java:71)\n",
      "\tat com.sklearn2pmml.Main.main(Main.java:62)\n",
      "Caused by: java.lang.reflect.InvocationTargetException\n",
      "\tat java.base/jdk.internal.reflect.DirectMethodHandleAccessor.invoke(DirectMethodHandleAccessor.java:119)\n",
      "\tat java.base/java.lang.reflect.Method.invoke(Method.java:577)\n",
      "\tat net.razorvine.pickle.Unpickler.load_build(Unpickler.java:393)\n",
      "\t... 13 more\n",
      "Caused by: net.razorvine.pickle.PickleException: Expected 8 attribute(s), got 9 attribute(s)\n",
      "\tat org.jpmml.python.CustomPythonObject.createAttributeMap(CustomPythonObject.java:81)\n",
      "\tat numpy.DType.__setstate__(DType.java:50)\n",
      "\tat java.base/jdk.internal.reflect.DirectMethodHandleAccessor.invoke(DirectMethodHandleAccessor.java:104)\n",
      "\t... 15 more\n",
      "\n"
     ]
    },
    {
     "ename": "RuntimeError",
     "evalue": "The SkLearn2PMML application has failed. The Java executable should have printed more information about the failure into its standard output and/or standard error streams",
     "output_type": "error",
     "traceback": [
      "\u001B[1;31m---------------------------------------------------------------------------\u001B[0m",
      "\u001B[1;31mRuntimeError\u001B[0m                              Traceback (most recent call last)",
      "Input \u001B[1;32mIn [94]\u001B[0m, in \u001B[0;36m<module>\u001B[1;34m\u001B[0m\n\u001B[1;32m----> 1\u001B[0m \u001B[43msklearn2pmml\u001B[49m\u001B[43m(\u001B[49m\u001B[43mpmml_pipe\u001B[49m\u001B[43m,\u001B[49m\u001B[43m \u001B[49m\u001B[38;5;124;43m\"\u001B[39;49m\u001B[38;5;124;43mpipeline_model.pmml\u001B[39;49m\u001B[38;5;124;43m\"\u001B[39;49m\u001B[43m)\u001B[49m\n",
      "File \u001B[1;32mc:\\users\\bruno.gonzalez\\miniconda3\\envs\\pyca\\lib\\site-packages\\sklearn2pmml\\__init__.py:259\u001B[0m, in \u001B[0;36msklearn2pmml\u001B[1;34m(pipeline, pmml, user_classpath, with_repr, debug)\u001B[0m\n\u001B[0;32m    257\u001B[0m \t\t\t\u001B[38;5;28mprint\u001B[39m(\u001B[38;5;124m\"\u001B[39m\u001B[38;5;124mStandard error is empty\u001B[39m\u001B[38;5;124m\"\u001B[39m)\n\u001B[0;32m    258\u001B[0m \t\u001B[38;5;28;01mif\u001B[39;00m retcode:\n\u001B[1;32m--> 259\u001B[0m \t\t\u001B[38;5;28;01mraise\u001B[39;00m \u001B[38;5;167;01mRuntimeError\u001B[39;00m(\u001B[38;5;124m\"\u001B[39m\u001B[38;5;124mThe SkLearn2PMML application has failed. The Java executable should have printed more information about the failure into its standard output and/or standard error streams\u001B[39m\u001B[38;5;124m\"\u001B[39m)\n\u001B[0;32m    260\u001B[0m \u001B[38;5;28;01mfinally\u001B[39;00m:\n\u001B[0;32m    261\u001B[0m \t\u001B[38;5;28;01mif\u001B[39;00m debug:\n",
      "\u001B[1;31mRuntimeError\u001B[0m: The SkLearn2PMML application has failed. The Java executable should have printed more information about the failure into its standard output and/or standard error streams"
     ]
    }
   ],
   "source": [
    "sklearn2pmml(pmml_pipe, \"pipeline_model.pmml\")"
   ],
   "metadata": {
    "collapsed": false,
    "pycharm": {
     "name": "#%%\n"
    }
   }
  },
  {
   "cell_type": "code",
   "execution_count": null,
   "outputs": [],
   "source": [],
   "metadata": {
    "collapsed": false,
    "pycharm": {
     "name": "#%%\n"
    }
   }
  }
 ],
 "metadata": {
  "kernelspec": {
   "display_name": "Python 3",
   "language": "python",
   "name": "python3"
  },
  "language_info": {
   "codemirror_mode": {
    "name": "ipython",
    "version": 2
   },
   "file_extension": ".py",
   "mimetype": "text/x-python",
   "name": "python",
   "nbconvert_exporter": "python",
   "pygments_lexer": "ipython2",
   "version": "2.7.6"
  }
 },
 "nbformat": 4,
 "nbformat_minor": 0
}