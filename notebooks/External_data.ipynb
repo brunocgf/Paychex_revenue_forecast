{
 "cells": [
  {
   "cell_type": "code",
   "execution_count": 1,
   "metadata": {
    "collapsed": true
   },
   "outputs": [],
   "source": [
    "import requests\n",
    "import json\n",
    "import pandas as pd"
   ]
  },
  {
   "cell_type": "code",
   "execution_count": 2,
   "outputs": [],
   "source": [
    "from src.paychex_ml.external_data import get_unemployment_rate"
   ],
   "metadata": {
    "collapsed": false,
    "pycharm": {
     "name": "#%%\n"
    }
   }
  },
  {
   "cell_type": "code",
   "execution_count": 3,
   "outputs": [
    {
     "name": "stdout",
     "output_type": "stream",
     "text": [
      "Loaded LNS14000000 data\n"
     ]
    }
   ],
   "source": [
    "df = get_unemployment_rate()"
   ],
   "metadata": {
    "collapsed": false,
    "pycharm": {
     "name": "#%%\n"
    }
   }
  },
  {
   "cell_type": "code",
   "execution_count": 4,
   "outputs": [
    {
     "data": {
      "text/plain": "    year period periodName latest  value\n0   2022    M02   February   true    3.8\n1   2022    M01    January    NaN    4.0\n2   2021    M12   December    NaN    3.9\n3   2021    M11   November    NaN    4.2\n4   2021    M10    October    NaN    4.6\n..   ...    ...        ...    ...    ...\n81  2015    M05        May    NaN    5.6\n82  2015    M04      April    NaN    5.4\n83  2015    M03      March    NaN    5.4\n84  2015    M02   February    NaN    5.5\n85  2015    M01    January    NaN    5.7\n\n[86 rows x 5 columns]",
      "text/html": "<div>\n<style scoped>\n    .dataframe tbody tr th:only-of-type {\n        vertical-align: middle;\n    }\n\n    .dataframe tbody tr th {\n        vertical-align: top;\n    }\n\n    .dataframe thead th {\n        text-align: right;\n    }\n</style>\n<table border=\"1\" class=\"dataframe\">\n  <thead>\n    <tr style=\"text-align: right;\">\n      <th></th>\n      <th>year</th>\n      <th>period</th>\n      <th>periodName</th>\n      <th>latest</th>\n      <th>value</th>\n    </tr>\n  </thead>\n  <tbody>\n    <tr>\n      <th>0</th>\n      <td>2022</td>\n      <td>M02</td>\n      <td>February</td>\n      <td>true</td>\n      <td>3.8</td>\n    </tr>\n    <tr>\n      <th>1</th>\n      <td>2022</td>\n      <td>M01</td>\n      <td>January</td>\n      <td>NaN</td>\n      <td>4.0</td>\n    </tr>\n    <tr>\n      <th>2</th>\n      <td>2021</td>\n      <td>M12</td>\n      <td>December</td>\n      <td>NaN</td>\n      <td>3.9</td>\n    </tr>\n    <tr>\n      <th>3</th>\n      <td>2021</td>\n      <td>M11</td>\n      <td>November</td>\n      <td>NaN</td>\n      <td>4.2</td>\n    </tr>\n    <tr>\n      <th>4</th>\n      <td>2021</td>\n      <td>M10</td>\n      <td>October</td>\n      <td>NaN</td>\n      <td>4.6</td>\n    </tr>\n    <tr>\n      <th>...</th>\n      <td>...</td>\n      <td>...</td>\n      <td>...</td>\n      <td>...</td>\n      <td>...</td>\n    </tr>\n    <tr>\n      <th>81</th>\n      <td>2015</td>\n      <td>M05</td>\n      <td>May</td>\n      <td>NaN</td>\n      <td>5.6</td>\n    </tr>\n    <tr>\n      <th>82</th>\n      <td>2015</td>\n      <td>M04</td>\n      <td>April</td>\n      <td>NaN</td>\n      <td>5.4</td>\n    </tr>\n    <tr>\n      <th>83</th>\n      <td>2015</td>\n      <td>M03</td>\n      <td>March</td>\n      <td>NaN</td>\n      <td>5.4</td>\n    </tr>\n    <tr>\n      <th>84</th>\n      <td>2015</td>\n      <td>M02</td>\n      <td>February</td>\n      <td>NaN</td>\n      <td>5.5</td>\n    </tr>\n    <tr>\n      <th>85</th>\n      <td>2015</td>\n      <td>M01</td>\n      <td>January</td>\n      <td>NaN</td>\n      <td>5.7</td>\n    </tr>\n  </tbody>\n</table>\n<p>86 rows × 5 columns</p>\n</div>"
     },
     "execution_count": 4,
     "metadata": {},
     "output_type": "execute_result"
    }
   ],
   "source": [
    "df"
   ],
   "metadata": {
    "collapsed": false,
    "pycharm": {
     "name": "#%%\n"
    }
   }
  },
  {
   "cell_type": "code",
   "execution_count": 5,
   "outputs": [
    {
     "name": "stdout",
     "output_type": "stream",
     "text": [
      "<class 'pandas.core.frame.DataFrame'>\n",
      "RangeIndex: 86 entries, 0 to 85\n",
      "Data columns (total 5 columns):\n",
      " #   Column      Non-Null Count  Dtype  \n",
      "---  ------      --------------  -----  \n",
      " 0   year        86 non-null     object \n",
      " 1   period      86 non-null     object \n",
      " 2   periodName  86 non-null     object \n",
      " 3   latest      1 non-null      object \n",
      " 4   value       86 non-null     float64\n",
      "dtypes: float64(1), object(4)\n",
      "memory usage: 3.5+ KB\n"
     ]
    }
   ],
   "source": [
    "df.info()"
   ],
   "metadata": {
    "collapsed": false,
    "pycharm": {
     "name": "#%%\n"
    }
   }
  },
  {
   "cell_type": "code",
   "execution_count": 9,
   "outputs": [],
   "source": [
    "df['date'] = pd.to_datetime(df['year'] + df['periodName'], format=\"%Y%B\").dt.to_period('M')\n",
    "df = df.set_index('date')"
   ],
   "metadata": {
    "collapsed": false,
    "pycharm": {
     "name": "#%%\n"
    }
   }
  },
  {
   "cell_type": "code",
   "execution_count": 10,
   "outputs": [
    {
     "data": {
      "text/plain": "         year period periodName latest  value\ndate                                         \n2022-02  2022    M02   February   true    3.8\n2022-01  2022    M01    January    NaN    4.0\n2021-12  2021    M12   December    NaN    3.9\n2021-11  2021    M11   November    NaN    4.2\n2021-10  2021    M10    October    NaN    4.6\n...       ...    ...        ...    ...    ...\n2015-05  2015    M05        May    NaN    5.6\n2015-04  2015    M04      April    NaN    5.4\n2015-03  2015    M03      March    NaN    5.4\n2015-02  2015    M02   February    NaN    5.5\n2015-01  2015    M01    January    NaN    5.7\n\n[86 rows x 5 columns]",
      "text/html": "<div>\n<style scoped>\n    .dataframe tbody tr th:only-of-type {\n        vertical-align: middle;\n    }\n\n    .dataframe tbody tr th {\n        vertical-align: top;\n    }\n\n    .dataframe thead th {\n        text-align: right;\n    }\n</style>\n<table border=\"1\" class=\"dataframe\">\n  <thead>\n    <tr style=\"text-align: right;\">\n      <th></th>\n      <th>year</th>\n      <th>period</th>\n      <th>periodName</th>\n      <th>latest</th>\n      <th>value</th>\n    </tr>\n    <tr>\n      <th>date</th>\n      <th></th>\n      <th></th>\n      <th></th>\n      <th></th>\n      <th></th>\n    </tr>\n  </thead>\n  <tbody>\n    <tr>\n      <th>2022-02</th>\n      <td>2022</td>\n      <td>M02</td>\n      <td>February</td>\n      <td>true</td>\n      <td>3.8</td>\n    </tr>\n    <tr>\n      <th>2022-01</th>\n      <td>2022</td>\n      <td>M01</td>\n      <td>January</td>\n      <td>NaN</td>\n      <td>4.0</td>\n    </tr>\n    <tr>\n      <th>2021-12</th>\n      <td>2021</td>\n      <td>M12</td>\n      <td>December</td>\n      <td>NaN</td>\n      <td>3.9</td>\n    </tr>\n    <tr>\n      <th>2021-11</th>\n      <td>2021</td>\n      <td>M11</td>\n      <td>November</td>\n      <td>NaN</td>\n      <td>4.2</td>\n    </tr>\n    <tr>\n      <th>2021-10</th>\n      <td>2021</td>\n      <td>M10</td>\n      <td>October</td>\n      <td>NaN</td>\n      <td>4.6</td>\n    </tr>\n    <tr>\n      <th>...</th>\n      <td>...</td>\n      <td>...</td>\n      <td>...</td>\n      <td>...</td>\n      <td>...</td>\n    </tr>\n    <tr>\n      <th>2015-05</th>\n      <td>2015</td>\n      <td>M05</td>\n      <td>May</td>\n      <td>NaN</td>\n      <td>5.6</td>\n    </tr>\n    <tr>\n      <th>2015-04</th>\n      <td>2015</td>\n      <td>M04</td>\n      <td>April</td>\n      <td>NaN</td>\n      <td>5.4</td>\n    </tr>\n    <tr>\n      <th>2015-03</th>\n      <td>2015</td>\n      <td>M03</td>\n      <td>March</td>\n      <td>NaN</td>\n      <td>5.4</td>\n    </tr>\n    <tr>\n      <th>2015-02</th>\n      <td>2015</td>\n      <td>M02</td>\n      <td>February</td>\n      <td>NaN</td>\n      <td>5.5</td>\n    </tr>\n    <tr>\n      <th>2015-01</th>\n      <td>2015</td>\n      <td>M01</td>\n      <td>January</td>\n      <td>NaN</td>\n      <td>5.7</td>\n    </tr>\n  </tbody>\n</table>\n<p>86 rows × 5 columns</p>\n</div>"
     },
     "execution_count": 10,
     "metadata": {},
     "output_type": "execute_result"
    }
   ],
   "source": [
    "df"
   ],
   "metadata": {
    "collapsed": false,
    "pycharm": {
     "name": "#%%\n"
    }
   }
  },
  {
   "cell_type": "code",
   "execution_count": 11,
   "outputs": [
    {
     "data": {
      "text/plain": "<AxesSubplot:xlabel='date'>"
     },
     "execution_count": 11,
     "metadata": {},
     "output_type": "execute_result"
    },
    {
     "data": {
      "text/plain": "<Figure size 432x288 with 1 Axes>",
      "image/png": "[encoded data removed]"
     },
     "metadata": {
      "needs_background": "light"
     },
     "output_type": "display_data"
    }
   ],
   "source": [
    "df.value.plot()"
   ],
   "metadata": {
    "collapsed": false,
    "pycharm": {
     "name": "#%%\n"
    }
   }
  },
  {
   "cell_type": "code",
   "execution_count": 14,
   "outputs": [
    {
     "data": {
      "text/plain": "         year period periodName latest  value\ndate                                         \n2015-01  2015    M01    January    NaN    5.7\n2015-02  2015    M02   February    NaN    5.5\n2015-03  2015    M03      March    NaN    5.4\n2015-04  2015    M04      April    NaN    5.4\n2015-05  2015    M05        May    NaN    5.6\n...       ...    ...        ...    ...    ...\n2021-10  2021    M10    October    NaN    4.6\n2021-11  2021    M11   November    NaN    4.2\n2021-12  2021    M12   December    NaN    3.9\n2022-01  2022    M01    January    NaN    4.0\n2022-02  2022    M02   February   true    3.8\n\n[86 rows x 5 columns]",
      "text/html": "<div>\n<style scoped>\n    .dataframe tbody tr th:only-of-type {\n        vertical-align: middle;\n    }\n\n    .dataframe tbody tr th {\n        vertical-align: top;\n    }\n\n    .dataframe thead th {\n        text-align: right;\n    }\n</style>\n<table border=\"1\" class=\"dataframe\">\n  <thead>\n    <tr style=\"text-align: right;\">\n      <th></th>\n      <th>year</th>\n      <th>period</th>\n      <th>periodName</th>\n      <th>latest</th>\n      <th>value</th>\n    </tr>\n    <tr>\n      <th>date</th>\n      <th></th>\n      <th></th>\n      <th></th>\n      <th></th>\n      <th></th>\n    </tr>\n  </thead>\n  <tbody>\n    <tr>\n      <th>2015-01</th>\n      <td>2015</td>\n      <td>M01</td>\n      <td>January</td>\n      <td>NaN</td>\n      <td>5.7</td>\n    </tr>\n    <tr>\n      <th>2015-02</th>\n      <td>2015</td>\n      <td>M02</td>\n      <td>February</td>\n      <td>NaN</td>\n      <td>5.5</td>\n    </tr>\n    <tr>\n      <th>2015-03</th>\n      <td>2015</td>\n      <td>M03</td>\n      <td>March</td>\n      <td>NaN</td>\n      <td>5.4</td>\n    </tr>\n    <tr>\n      <th>2015-04</th>\n      <td>2015</td>\n      <td>M04</td>\n      <td>April</td>\n      <td>NaN</td>\n      <td>5.4</td>\n    </tr>\n    <tr>\n      <th>2015-05</th>\n      <td>2015</td>\n      <td>M05</td>\n      <td>May</td>\n      <td>NaN</td>\n      <td>5.6</td>\n    </tr>\n    <tr>\n      <th>...</th>\n      <td>...</td>\n      <td>...</td>\n      <td>...</td>\n      <td>...</td>\n      <td>...</td>\n    </tr>\n    <tr>\n      <th>2021-10</th>\n      <td>2021</td>\n      <td>M10</td>\n      <td>October</td>\n      <td>NaN</td>\n      <td>4.6</td>\n    </tr>\n    <tr>\n      <th>2021-11</th>\n      <td>2021</td>\n      <td>M11</td>\n      <td>November</td>\n      <td>NaN</td>\n      <td>4.2</td>\n    </tr>\n    <tr>\n      <th>2021-12</th>\n      <td>2021</td>\n      <td>M12</td>\n      <td>December</td>\n      <td>NaN</td>\n      <td>3.9</td>\n    </tr>\n    <tr>\n      <th>2022-01</th>\n      <td>2022</td>\n      <td>M01</td>\n      <td>January</td>\n      <td>NaN</td>\n      <td>4.0</td>\n    </tr>\n    <tr>\n      <th>2022-02</th>\n      <td>2022</td>\n      <td>M02</td>\n      <td>February</td>\n      <td>true</td>\n      <td>3.8</td>\n    </tr>\n  </tbody>\n</table>\n<p>86 rows × 5 columns</p>\n</div>"
     },
     "execution_count": 14,
     "metadata": {},
     "output_type": "execute_result"
    }
   ],
   "source": [
    "df.sort_index()"
   ],
   "metadata": {
    "collapsed": false,
    "pycharm": {
     "name": "#%%\n"
    }
   }
  },
  {
   "cell_type": "code",
   "execution_count": null,
   "outputs": [],
   "source": [],
   "metadata": {
    "collapsed": false,
    "pycharm": {
     "name": "#%%\n"
    }
   }
  }
 ],
 "metadata": {
  "kernelspec": {
   "display_name": "Python 3",
   "language": "python",
   "name": "python3"
  },
  "language_info": {
   "codemirror_mode": {
    "name": "ipython",
    "version": 2
   },
   "file_extension": ".py",
   "mimetype": "text/x-python",
   "name": "python",
   "nbconvert_exporter": "python",
   "pygments_lexer": "ipython2",
   "version": "2.7.6"
  }
 },
 "nbformat": 4,
 "nbformat_minor": 0
}