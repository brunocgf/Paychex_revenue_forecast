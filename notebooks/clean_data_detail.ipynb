{
 "cells": [
  {
   "cell_type": "code",
   "execution_count": 1,
   "metadata": {
    "collapsed": true
   },
   "outputs": [],
   "source": [
    "import pandas as pd\n",
    "from azure.storage.blob import BlobServiceClient, BlobClient, ContainerClient"
   ]
  },
  {
   "cell_type": "code",
   "execution_count": 2,
   "outputs": [],
   "source": [
    "from src.paychex_ml.utils import load_credentials\n",
    "from src.paychex_ml.utils import get_blob_list\n",
    "from src.paychex_ml.utils import upload_df_parquet\n",
    "from src.paychex_ml.upload_data import upload_data\n",
    "from src.paychex_ml.clean_data import get_df\n",
    "from src.paychex_ml.clean_data import join_all"
   ],
   "metadata": {
    "collapsed": false,
    "pycharm": {
     "name": "#%%\n"
    }
   }
  },
  {
   "cell_type": "code",
   "execution_count": 4,
   "outputs": [],
   "source": [
    "credentials = load_credentials(\"blob_storage\",\n",
    "                               file=\"C:/Users/bruno.gonzalez/DataspellProjects/Paychex_revenue_forecast/credentials.yml\")"
   ],
   "metadata": {
    "collapsed": false,
    "pycharm": {
     "name": "#%%\n"
    }
   }
  },
  {
   "cell_type": "code",
   "execution_count": 5,
   "outputs": [],
   "source": [
    "# Start client\n",
    "container_name = \"raw-data\"\n",
    "blob_service_client = BlobServiceClient.from_connection_string(credentials['conn_string'])"
   ],
   "metadata": {
    "collapsed": false,
    "pycharm": {
     "name": "#%%\n"
    }
   }
  },
  {
   "cell_type": "code",
   "execution_count": 8,
   "outputs": [],
   "source": [
    "blob_list = get_blob_list(blob_service_client)"
   ],
   "metadata": {
    "collapsed": false,
    "pycharm": {
     "name": "#%%\n"
    }
   }
  },
  {
   "cell_type": "code",
   "execution_count": 9,
   "outputs": [
    {
     "data": {
      "text/plain": "['401kRevenue.txt',\n '401kRevenueDetail.txt',\n 'ASORevenue.txt',\n 'ASORevenueDrivers.txt',\n 'BlendedProductRevenue.txt',\n 'BlendedProductRevenueDrivers.txt',\n 'IFHC.txt',\n 'InsuranceRevenue.txt',\n 'InsuranceRevenueDetail.txt',\n 'InternationalRevenue.txt',\n 'InternationalRevenueStats.txt',\n 'OasisASORevenueDetail.txt',\n 'OnlineRevenue.txt',\n 'OnlineRevenueDetail.txt',\n 'OtherMgmtRevenue.txt',\n 'OtherMgmtRevenueDetail.txt',\n 'PEORevenue.txt',\n 'PEORevenueDetail.txt',\n 'PEORevenueDetailDrivers.txt',\n 'PayrollSurePayrollASOInternationalHighLevelRevenue.txt',\n 'SurePayollRevenue.txt',\n 'SurePayollRevenueDrivers.txt',\n 'W2DelOtherRevenue.txt',\n 'W2DelOtherRevenueDrivers.txt']"
     },
     "execution_count": 9,
     "metadata": {},
     "output_type": "execute_result"
    }
   ],
   "source": [
    "blob_list"
   ],
   "metadata": {
    "collapsed": false,
    "pycharm": {
     "name": "#%%\n"
    }
   }
  },
  {
   "cell_type": "markdown",
   "source": [
    "## 11 Payroll blended products"
   ],
   "metadata": {
    "collapsed": false
   }
  },
  {
   "cell_type": "code",
   "execution_count": 70,
   "outputs": [
    {
     "data": {
      "text/plain": "'BlendedProductRevenue.txt'"
     },
     "execution_count": 70,
     "metadata": {},
     "output_type": "execute_result"
    }
   ],
   "source": [
    "blob_list[4]"
   ],
   "metadata": {
    "collapsed": false,
    "pycharm": {
     "name": "#%%\n"
    }
   }
  },
  {
   "cell_type": "code",
   "execution_count": 77,
   "outputs": [],
   "source": [
    "df = get_df(blob_service_client, blob_list[4], container= container_name)"
   ],
   "metadata": {
    "collapsed": false,
    "pycharm": {
     "name": "#%%\n"
    }
   }
  },
  {
   "cell_type": "code",
   "execution_count": 78,
   "outputs": [
    {
     "data": {
      "text/plain": "                                                           Total Activity  \\\n                                      Total Flex Blended Products Revenue   \n                                                               Auburn RSC   \n                                                    FEE REVENUE - NA - RW   \nActual   Final Revised FY15 YearTotal                         122970372.0   \n                            \\nJun                               9624260.0   \n                            \\nJul                              11784050.0   \n                            \\nAug                               9592805.0   \n                            \\nSep                               9327331.0   \n...                                                                   ...   \nForecast 8+4           FY22 \\nJan                                     0.0   \n                            \\nFeb                                     0.0   \n                            \\nMar                                     0.0   \n                            \\nApr                                     0.0   \n                            \\nMay                                     0.0   \n\n                                                                        \\\n                                                                         \n                                                                         \n                                      FEE REVENUE - CONTRACT PLAN - RW   \nActual   Final Revised FY15 YearTotal                              0.0   \n                            \\nJun                                  0.0   \n                            \\nJul                                  0.0   \n                            \\nAug                                  0.0   \n                            \\nSep                                  0.0   \n...                                                                ...   \nForecast 8+4           FY22 \\nJan                             259200.0   \n                            \\nFeb                             135806.0   \n                            \\nMar                             182737.0   \n                            \\nApr                             144785.0   \n                            \\nMay                             138549.0   \n\n                                                               \\\n                                                                \n                                                                \n                                      OTHER REVENUE - NA - RW   \nActual   Final Revised FY15 YearTotal                     0.0   \n                            \\nJun                         0.0   \n                            \\nJul                         0.0   \n                            \\nAug                         0.0   \n                            \\nSep                         0.0   \n...                                                       ...   \nForecast 8+4           FY22 \\nJan                     10350.0   \n                            \\nFeb                         0.0   \n                            \\nMar                         0.0   \n                            \\nApr                         0.0   \n                            \\nMay                         0.0   \n\n                                                                     \\\n                                                                      \n                                                                      \n                                      MAINTENANCE REVENUE - NA - RW   \nActual   Final Revised FY15 YearTotal                           0.0   \n                            \\nJun                               0.0   \n                            \\nJul                               0.0   \n                            \\nAug                               0.0   \n                            \\nSep                               0.0   \n...                                                             ...   \nForecast 8+4           FY22 \\nJan                         8642359.0   \n                            \\nFeb                         6881849.0   \n                            \\nMar                         8242950.0   \n                            \\nApr                         6611078.0   \n                            \\nMay                         6671279.0   \n\n                                                                 \\\n                                                                  \n                                                                  \n                                      SALES DISCOUNTS - NA - RW   \nActual   Final Revised FY15 YearTotal               -19984276.0   \n                            \\nJun                    -1477502.0   \n                            \\nJul                    -1816539.0   \n                            \\nAug                    -1455477.0   \n                            \\nSep                    -1432715.0   \n...                                                         ...   \nForecast 8+4           FY22 \\nJan                    -1393921.0   \n                            \\nFeb                    -1092173.0   \n                            \\nMar                    -1297707.0   \n                            \\nApr                    -1038384.0   \n                            \\nMay                    -1055078.0   \n\n                                                                            \\\n                                                                             \n                                                                             \n                                      SALES DISCOUNTS - CONTRACT PLAN - RW   \nActual   Final Revised FY15 YearTotal                                  0.0   \n                            \\nJun                                      0.0   \n                            \\nJul                                      0.0   \n                            \\nAug                                      0.0   \n                            \\nSep                                      0.0   \n...                                                                    ...   \nForecast 8+4           FY22 \\nJan                                -229425.0   \n                            \\nFeb                                -119509.0   \n                            \\nMar                                -160809.0   \n                            \\nApr                                -127411.0   \n                            \\nMay                                -121923.0   \n\n                                                             \\\n                                                              \n                                              Rochester RSC   \n                                      FEE REVENUE - NA - RW   \nActual   Final Revised FY15 YearTotal           100350899.0   \n                            \\nJun                 7779460.0   \n                            \\nJul                 9589239.0   \n                            \\nAug                 7875457.0   \n                            \\nSep                 7663433.0   \n...                                                     ...   \nForecast 8+4           FY22 \\nJan                       0.0   \n                            \\nFeb                       0.0   \n                            \\nMar                       0.0   \n                            \\nApr                       0.0   \n                            \\nMay                       0.0   \n\n                                                                        \\\n                                                                         \n                                                                         \n                                      FEE REVENUE - CONTRACT PLAN - RW   \nActual   Final Revised FY15 YearTotal                              0.0   \n                            \\nJun                                  0.0   \n                            \\nJul                                  0.0   \n                            \\nAug                                  0.0   \n                            \\nSep                                  0.0   \n...                                                                ...   \nForecast 8+4           FY22 \\nJan                             181100.0   \n                            \\nFeb                              98472.0   \n                            \\nMar                             132026.0   \n                            \\nApr                             104533.0   \n                            \\nMay                             100222.0   \n\n                                                               \\\n                                                                \n                                                                \n                                      OTHER REVENUE - NA - RW   \nActual   Final Revised FY15 YearTotal                     0.0   \n                            \\nJun                         0.0   \n                            \\nJul                         0.0   \n                            \\nAug                         0.0   \n                            \\nSep                         0.0   \n...                                                       ...   \nForecast 8+4           FY22 \\nJan                     13500.0   \n                            \\nFeb                         0.0   \n                            \\nMar                         0.0   \n                            \\nApr                         0.0   \n                            \\nMay                         0.0   \n\n                                                                     ...  \\\n                                                                     ...   \n                                                                     ...   \n                                      MAINTENANCE REVENUE - NA - RW  ...   \nActual   Final Revised FY15 YearTotal                           0.0  ...   \n                            \\nJun                               0.0  ...   \n                            \\nJul                               0.0  ...   \n                            \\nAug                               0.0  ...   \n                            \\nSep                               0.0  ...   \n...                                                             ...  ...   \nForecast 8+4           FY22 \\nJan                         8716479.0  ...   \n                            \\nFeb                         7988343.0  ...   \n                            \\nMar                         9492847.0  ...   \n                            \\nApr                         7581817.0  ...   \n                            \\nMay                         7655479.0  ...   \n\n                                                                         \\\n                                                     1-800 SUI SERVICES   \n                                      5060 STATE UNEMPLOYMENT INSURANCE   \n                                                         ACCTRW4690_200   \nActual   Final Revised FY15 YearTotal                               0.0   \n                            \\nJun                                   0.0   \n                            \\nJul                                   0.0   \n                            \\nAug                                   0.0   \n                            \\nSep                                   0.0   \n...                                                                 ...   \nForecast 8+4           FY22 \\nJan                               15561.0   \n                            \\nFeb                                   0.0   \n                            \\nMar                                   0.0   \n                            \\nApr                                   0.0   \n                            \\nMay                                   0.0   \n\n                                                                     \\\n                                                                      \n                                                     5062 SUI ADMIN   \n                                      MAINTENANCE REVENUE - NA - RW   \nActual   Final Revised FY15 YearTotal                           0.0   \n                            \\nJun                               0.0   \n                            \\nJul                               0.0   \n                            \\nAug                               0.0   \n                            \\nSep                               0.0   \n...                                                             ...   \nForecast 8+4           FY22 \\nJan                          962642.0   \n                            \\nFeb                         1610621.0   \n                            \\nMar                         1941268.0   \n                            \\nApr                         1545015.0   \n                            \\nMay                         1565963.0   \n\n                                                      \\\n                                                       \n                                                       \n                                      ACCTRW4500_200   \nActual   Final Revised FY15 YearTotal            0.0   \n                            \\nJun                0.0   \n                            \\nJul                0.0   \n                            \\nAug                0.0   \n                            \\nSep                0.0   \n...                                              ...   \nForecast 8+4           FY22 \\nJan          -172432.0   \n                            \\nFeb            12880.0   \n                            \\nMar          -110092.0   \n                            \\nApr            21168.0   \n                            \\nMay           108442.0   \n\n                                                                 \\\n                                                                  \n                                                                  \n                                      SALES DISCOUNTS - NA - RW   \nActual   Final Revised FY15 YearTotal                       0.0   \n                            \\nJun                           0.0   \n                            \\nJul                           0.0   \n                            \\nAug                           0.0   \n                            \\nSep                           0.0   \n...                                                         ...   \nForecast 8+4           FY22 \\nJan                     -135991.0   \n                            \\nFeb                     -163810.0   \n                            \\nMar                     -197632.0   \n                            \\nApr                     -157446.0   \n                            \\nMay                     -159737.0   \n\n                                                      \\\n                                                       \n                                                       \n                                      ACCTRW4690_200   \nActual   Final Revised FY15 YearTotal            0.0   \n                            \\nJun                0.0   \n                            \\nJul                0.0   \n                            \\nAug                0.0   \n                            \\nSep                0.0   \n...                                              ...   \nForecast 8+4           FY22 \\nJan            24185.0   \n                            \\nFeb            -1310.0   \n                            \\nMar            11208.0   \n                            \\nApr            -2157.0   \n                            \\nMay           -11062.0   \n\n                                                                           \\\n                                      Total Flex Blended Products Revenue   \n                                                    Prior Year Adjustment   \n                                                            4050-552 - RW   \nActual   Final Revised FY15 YearTotal                                 0.0   \n                            \\nJun                                     0.0   \n                            \\nJul                                     0.0   \n                            \\nAug                                     0.0   \n                            \\nSep                                     0.0   \n...                                                                   ...   \nForecast 8+4           FY22 \\nJan                                     0.0   \n                            \\nFeb                                     0.0   \n                            \\nMar                                     0.0   \n                            \\nApr                                     0.0   \n                            \\nMay                                     0.0   \n\n                                                               \\\n                                                                \n                                                                \n                                      OTHER REVENUE - NA - RW   \nActual   Final Revised FY15 YearTotal                     0.0   \n                            \\nJun                         0.0   \n                            \\nJul                         0.0   \n                            \\nAug                         0.0   \n                            \\nSep                         0.0   \n...                                                       ...   \nForecast 8+4           FY22 \\nJan                         0.0   \n                            \\nFeb                         0.0   \n                            \\nMar                         0.0   \n                            \\nApr                         0.0   \n                            \\nMay                         0.0   \n\n                                                                          \\\n                                                                           \n                                                                           \n                                      OTHER REVENUE - CONTRACT PLAN - RW   \nActual   Final Revised FY15 YearTotal                                0.0   \n                            \\nJun                                    0.0   \n                            \\nJul                                    0.0   \n                            \\nAug                                    0.0   \n                            \\nSep                                    0.0   \n...                                                                  ...   \nForecast 8+4           FY22 \\nJan                                    0.0   \n                            \\nFeb                                    0.0   \n                            \\nMar                                    0.0   \n                            \\nApr                                    0.0   \n                            \\nMay                                    0.0   \n\n                                                                              \\\n                                      Total Preview Blended Products Revenue   \n                                                       Prior Year Adjustment   \n                                                     OTHER REVENUE - NA - RW   \nActual   Final Revised FY15 YearTotal                                    0.0   \n                            \\nJun                                        0.0   \n                            \\nJul                                        0.0   \n                            \\nAug                                        0.0   \n                            \\nSep                                        0.0   \n...                                                                      ...   \nForecast 8+4           FY22 \\nJan                                        0.0   \n                            \\nFeb                                        0.0   \n                            \\nMar                                        0.0   \n                            \\nApr                                        0.0   \n                            \\nMay                                        0.0   \n\n                                                                     \n                                                                     \n                                                                     \n                                      MAINTENANCE REVENUE - NA - RW  \nActual   Final Revised FY15 YearTotal                           0.0  \n                            \\nJun                               0.0  \n                            \\nJul                               0.0  \n                            \\nAug                               0.0  \n                            \\nSep                               0.0  \n...                                                             ...  \nForecast 8+4           FY22 \\nJan                               0.0  \n                            \\nFeb                               0.0  \n                            \\nMar                               0.0  \n                            \\nApr                               0.0  \n                            \\nMay                               0.0  \n\n[182 rows x 190 columns]",
      "text/html": "<div>\n<style scoped>\n    .dataframe tbody tr th:only-of-type {\n        vertical-align: middle;\n    }\n\n    .dataframe tbody tr th {\n        vertical-align: top;\n    }\n\n    .dataframe thead tr th {\n        text-align: left;\n    }\n</style>\n<table border=\"1\" class=\"dataframe\">\n  <thead>\n    <tr>\n      <th></th>\n      <th></th>\n      <th></th>\n      <th></th>\n      <th colspan=\"21\" halign=\"left\">Total Activity</th>\n    </tr>\n    <tr>\n      <th></th>\n      <th></th>\n      <th></th>\n      <th></th>\n      <th colspan=\"10\" halign=\"left\">Total Flex Blended Products Revenue</th>\n      <th>...</th>\n      <th colspan=\"5\" halign=\"left\">1-800 SUI SERVICES</th>\n      <th colspan=\"3\" halign=\"left\">Total Flex Blended Products Revenue</th>\n      <th colspan=\"2\" halign=\"left\">Total Preview Blended Products Revenue</th>\n    </tr>\n    <tr>\n      <th></th>\n      <th></th>\n      <th></th>\n      <th></th>\n      <th colspan=\"6\" halign=\"left\">Auburn RSC</th>\n      <th colspan=\"4\" halign=\"left\">Rochester RSC</th>\n      <th>...</th>\n      <th>5060 STATE UNEMPLOYMENT INSURANCE</th>\n      <th colspan=\"4\" halign=\"left\">5062 SUI ADMIN</th>\n      <th colspan=\"3\" halign=\"left\">Prior Year Adjustment</th>\n      <th colspan=\"2\" halign=\"left\">Prior Year Adjustment</th>\n    </tr>\n    <tr>\n      <th></th>\n      <th></th>\n      <th></th>\n      <th></th>\n      <th>FEE REVENUE - NA - RW</th>\n      <th>FEE REVENUE - CONTRACT PLAN - RW</th>\n      <th>OTHER REVENUE - NA - RW</th>\n      <th>MAINTENANCE REVENUE - NA - RW</th>\n      <th>SALES DISCOUNTS - NA - RW</th>\n      <th>SALES DISCOUNTS - CONTRACT PLAN - RW</th>\n      <th>FEE REVENUE - NA - RW</th>\n      <th>FEE REVENUE - CONTRACT PLAN - RW</th>\n      <th>OTHER REVENUE - NA - RW</th>\n      <th>MAINTENANCE REVENUE - NA - RW</th>\n      <th>...</th>\n      <th>ACCTRW4690_200</th>\n      <th>MAINTENANCE REVENUE - NA - RW</th>\n      <th>ACCTRW4500_200</th>\n      <th>SALES DISCOUNTS - NA - RW</th>\n      <th>ACCTRW4690_200</th>\n      <th>4050-552 - RW</th>\n      <th>OTHER REVENUE - NA - RW</th>\n      <th>OTHER REVENUE - CONTRACT PLAN - RW</th>\n      <th>OTHER REVENUE - NA - RW</th>\n      <th>MAINTENANCE REVENUE - NA - RW</th>\n    </tr>\n  </thead>\n  <tbody>\n    <tr>\n      <th rowspan=\"5\" valign=\"top\">Actual</th>\n      <th rowspan=\"5\" valign=\"top\">Final Revised</th>\n      <th rowspan=\"5\" valign=\"top\">FY15</th>\n      <th>YearTotal</th>\n      <td>122970372.0</td>\n      <td>0.0</td>\n      <td>0.0</td>\n      <td>0.0</td>\n      <td>-19984276.0</td>\n      <td>0.0</td>\n      <td>100350899.0</td>\n      <td>0.0</td>\n      <td>0.0</td>\n      <td>0.0</td>\n      <td>...</td>\n      <td>0.0</td>\n      <td>0.0</td>\n      <td>0.0</td>\n      <td>0.0</td>\n      <td>0.0</td>\n      <td>0.0</td>\n      <td>0.0</td>\n      <td>0.0</td>\n      <td>0.0</td>\n      <td>0.0</td>\n    </tr>\n    <tr>\n      <th>\\nJun</th>\n      <td>9624260.0</td>\n      <td>0.0</td>\n      <td>0.0</td>\n      <td>0.0</td>\n      <td>-1477502.0</td>\n      <td>0.0</td>\n      <td>7779460.0</td>\n      <td>0.0</td>\n      <td>0.0</td>\n      <td>0.0</td>\n      <td>...</td>\n      <td>0.0</td>\n      <td>0.0</td>\n      <td>0.0</td>\n      <td>0.0</td>\n      <td>0.0</td>\n      <td>0.0</td>\n      <td>0.0</td>\n      <td>0.0</td>\n      <td>0.0</td>\n      <td>0.0</td>\n    </tr>\n    <tr>\n      <th>\\nJul</th>\n      <td>11784050.0</td>\n      <td>0.0</td>\n      <td>0.0</td>\n      <td>0.0</td>\n      <td>-1816539.0</td>\n      <td>0.0</td>\n      <td>9589239.0</td>\n      <td>0.0</td>\n      <td>0.0</td>\n      <td>0.0</td>\n      <td>...</td>\n      <td>0.0</td>\n      <td>0.0</td>\n      <td>0.0</td>\n      <td>0.0</td>\n      <td>0.0</td>\n      <td>0.0</td>\n      <td>0.0</td>\n      <td>0.0</td>\n      <td>0.0</td>\n      <td>0.0</td>\n    </tr>\n    <tr>\n      <th>\\nAug</th>\n      <td>9592805.0</td>\n      <td>0.0</td>\n      <td>0.0</td>\n      <td>0.0</td>\n      <td>-1455477.0</td>\n      <td>0.0</td>\n      <td>7875457.0</td>\n      <td>0.0</td>\n      <td>0.0</td>\n      <td>0.0</td>\n      <td>...</td>\n      <td>0.0</td>\n      <td>0.0</td>\n      <td>0.0</td>\n      <td>0.0</td>\n      <td>0.0</td>\n      <td>0.0</td>\n      <td>0.0</td>\n      <td>0.0</td>\n      <td>0.0</td>\n      <td>0.0</td>\n    </tr>\n    <tr>\n      <th>\\nSep</th>\n      <td>9327331.0</td>\n      <td>0.0</td>\n      <td>0.0</td>\n      <td>0.0</td>\n      <td>-1432715.0</td>\n      <td>0.0</td>\n      <td>7663433.0</td>\n      <td>0.0</td>\n      <td>0.0</td>\n      <td>0.0</td>\n      <td>...</td>\n      <td>0.0</td>\n      <td>0.0</td>\n      <td>0.0</td>\n      <td>0.0</td>\n      <td>0.0</td>\n      <td>0.0</td>\n      <td>0.0</td>\n      <td>0.0</td>\n      <td>0.0</td>\n      <td>0.0</td>\n    </tr>\n    <tr>\n      <th>...</th>\n      <th>...</th>\n      <th>...</th>\n      <th>...</th>\n      <td>...</td>\n      <td>...</td>\n      <td>...</td>\n      <td>...</td>\n      <td>...</td>\n      <td>...</td>\n      <td>...</td>\n      <td>...</td>\n      <td>...</td>\n      <td>...</td>\n      <td>...</td>\n      <td>...</td>\n      <td>...</td>\n      <td>...</td>\n      <td>...</td>\n      <td>...</td>\n      <td>...</td>\n      <td>...</td>\n      <td>...</td>\n      <td>...</td>\n      <td>...</td>\n    </tr>\n    <tr>\n      <th rowspan=\"5\" valign=\"top\">Forecast</th>\n      <th rowspan=\"5\" valign=\"top\">8+4</th>\n      <th rowspan=\"5\" valign=\"top\">FY22</th>\n      <th>\\nJan</th>\n      <td>0.0</td>\n      <td>259200.0</td>\n      <td>10350.0</td>\n      <td>8642359.0</td>\n      <td>-1393921.0</td>\n      <td>-229425.0</td>\n      <td>0.0</td>\n      <td>181100.0</td>\n      <td>13500.0</td>\n      <td>8716479.0</td>\n      <td>...</td>\n      <td>15561.0</td>\n      <td>962642.0</td>\n      <td>-172432.0</td>\n      <td>-135991.0</td>\n      <td>24185.0</td>\n      <td>0.0</td>\n      <td>0.0</td>\n      <td>0.0</td>\n      <td>0.0</td>\n      <td>0.0</td>\n    </tr>\n    <tr>\n      <th>\\nFeb</th>\n      <td>0.0</td>\n      <td>135806.0</td>\n      <td>0.0</td>\n      <td>6881849.0</td>\n      <td>-1092173.0</td>\n      <td>-119509.0</td>\n      <td>0.0</td>\n      <td>98472.0</td>\n      <td>0.0</td>\n      <td>7988343.0</td>\n      <td>...</td>\n      <td>0.0</td>\n      <td>1610621.0</td>\n      <td>12880.0</td>\n      <td>-163810.0</td>\n      <td>-1310.0</td>\n      <td>0.0</td>\n      <td>0.0</td>\n      <td>0.0</td>\n      <td>0.0</td>\n      <td>0.0</td>\n    </tr>\n    <tr>\n      <th>\\nMar</th>\n      <td>0.0</td>\n      <td>182737.0</td>\n      <td>0.0</td>\n      <td>8242950.0</td>\n      <td>-1297707.0</td>\n      <td>-160809.0</td>\n      <td>0.0</td>\n      <td>132026.0</td>\n      <td>0.0</td>\n      <td>9492847.0</td>\n      <td>...</td>\n      <td>0.0</td>\n      <td>1941268.0</td>\n      <td>-110092.0</td>\n      <td>-197632.0</td>\n      <td>11208.0</td>\n      <td>0.0</td>\n      <td>0.0</td>\n      <td>0.0</td>\n      <td>0.0</td>\n      <td>0.0</td>\n    </tr>\n    <tr>\n      <th>\\nApr</th>\n      <td>0.0</td>\n      <td>144785.0</td>\n      <td>0.0</td>\n      <td>6611078.0</td>\n      <td>-1038384.0</td>\n      <td>-127411.0</td>\n      <td>0.0</td>\n      <td>104533.0</td>\n      <td>0.0</td>\n      <td>7581817.0</td>\n      <td>...</td>\n      <td>0.0</td>\n      <td>1545015.0</td>\n      <td>21168.0</td>\n      <td>-157446.0</td>\n      <td>-2157.0</td>\n      <td>0.0</td>\n      <td>0.0</td>\n      <td>0.0</td>\n      <td>0.0</td>\n      <td>0.0</td>\n    </tr>\n    <tr>\n      <th>\\nMay</th>\n      <td>0.0</td>\n      <td>138549.0</td>\n      <td>0.0</td>\n      <td>6671279.0</td>\n      <td>-1055078.0</td>\n      <td>-121923.0</td>\n      <td>0.0</td>\n      <td>100222.0</td>\n      <td>0.0</td>\n      <td>7655479.0</td>\n      <td>...</td>\n      <td>0.0</td>\n      <td>1565963.0</td>\n      <td>108442.0</td>\n      <td>-159737.0</td>\n      <td>-11062.0</td>\n      <td>0.0</td>\n      <td>0.0</td>\n      <td>0.0</td>\n      <td>0.0</td>\n      <td>0.0</td>\n    </tr>\n  </tbody>\n</table>\n<p>182 rows × 190 columns</p>\n</div>"
     },
     "execution_count": 78,
     "metadata": {},
     "output_type": "execute_result"
    }
   ],
   "source": [
    "df"
   ],
   "metadata": {
    "collapsed": false,
    "pycharm": {
     "name": "#%%\n"
    }
   }
  },
  {
   "cell_type": "code",
   "execution_count": 79,
   "outputs": [
    {
     "data": {
      "text/plain": "5060 STATE UNEMPLOYMENT INSURANCE      5.730839\n5062 SUI ADMIN                        16.549797\nADVANTAGE/PACE                        27.913207\nAlbuquerque RSC                       45.141791\nAuburn RSC                            79.630992\nBaton Rouge RSC                       32.903493\nCONS ASSOCIATES                        0.000000\nCONS HIGH LEVEL and ACCRUALS           7.580981\nCONS Multi Product Services          227.874975\nDSC/Online                           377.425076\nDenver RSC                            39.073053\nGreensboro RSC                        39.353555\nIndianapolis RSC                      53.955133\nLehigh Valley RSC                    118.754871\nMiddletown RSC                        26.472856\nNashville RSC                         25.335217\nPhoenix RSC                           81.154682\nPrior Year Adjustment                  0.000000\nRochester RSC                         79.902564\nTOTAL LOGISTICS                        0.000000\nTOTAL OPERATIONS CC                    0.000000\nTampa RSC                             42.383662\nName: (Forecast, 6+6, FY22, YearTotal), dtype: float64"
     },
     "execution_count": 79,
     "metadata": {},
     "output_type": "execute_result"
    }
   ],
   "source": [
    "df.loc[(\"Forecast\",\"6+6\",\"FY22\",\"YearTotal\"),:].groupby(level=2).sum()/1000000"
   ],
   "metadata": {
    "collapsed": false,
    "pycharm": {
     "name": "#%%\n"
    }
   }
  },
  {
   "cell_type": "code",
   "execution_count": 80,
   "outputs": [
    {
     "data": {
      "text/plain": "1327.136744"
     },
     "execution_count": 80,
     "metadata": {},
     "output_type": "execute_result"
    }
   ],
   "source": [
    "(df.loc[(\"Forecast\",\"6+6\",\"FY22\",\"YearTotal\"),:].groupby(level=2).sum()/1000000).sum()"
   ],
   "metadata": {
    "collapsed": false,
    "pycharm": {
     "name": "#%%\n"
    }
   }
  },
  {
   "cell_type": "code",
   "execution_count": 85,
   "outputs": [
    {
     "data": {
      "text/plain": "Actual    Final Revised  FY15  YearTotal  5060 STATE UNEMPLOYMENT INSURANCE     36844499.0\n                                          5062 SUI ADMIN                               0.0\n                                          ADVANTAGE/PACE                        36018424.0\n                                          Albuquerque RSC                       71031512.0\n                                          Auburn RSC                           102981785.0\n                                                                                  ...     \nForecast  8+4            FY22  \\nMay      Prior Year Adjustment                        0.0\n                                          Rochester RSC                          6630433.0\n                                          TOTAL LOGISTICS                              0.0\n                                          TOTAL OPERATIONS CC                          0.0\n                                          Tampa RSC                              3078974.0\nLength: 4004, dtype: float64"
     },
     "execution_count": 85,
     "metadata": {},
     "output_type": "execute_result"
    }
   ],
   "source": [
    "df_11 = df.groupby(level=2, axis=1).sum().stack()\n",
    "df_11"
   ],
   "metadata": {
    "collapsed": false,
    "pycharm": {
     "name": "#%%\n"
    }
   }
  },
  {
   "cell_type": "code",
   "execution_count": 100,
   "outputs": [
    {
     "data": {
      "text/plain": "1327.136744"
     },
     "execution_count": 100,
     "metadata": {},
     "output_type": "execute_result"
    }
   ],
   "source": [
    "df_11.loc[\"Forecast\"][\"6+6\"][\"FY22\"][\"YearTotal\"].sum()/1000000"
   ],
   "metadata": {
    "collapsed": false,
    "pycharm": {
     "name": "#%%\n"
    }
   }
  },
  {
   "cell_type": "code",
   "execution_count": null,
   "outputs": [],
   "source": [],
   "metadata": {
    "collapsed": false,
    "pycharm": {
     "name": "#%%\n"
    }
   }
  },
  {
   "cell_type": "markdown",
   "source": [
    "## 12, 13, 14, 15, 31"
   ],
   "metadata": {
    "collapsed": false
   }
  },
  {
   "cell_type": "code",
   "execution_count": 107,
   "outputs": [
    {
     "data": {
      "text/plain": "'PayrollSurePayrollASOInternationalHighLevelRevenue.txt'"
     },
     "execution_count": 107,
     "metadata": {},
     "output_type": "execute_result"
    }
   ],
   "source": [
    "blob_list[19]"
   ],
   "metadata": {
    "collapsed": false,
    "pycharm": {
     "name": "#%%\n"
    }
   }
  },
  {
   "cell_type": "code",
   "execution_count": 108,
   "outputs": [],
   "source": [
    "df = get_df(blob_service_client, blob_list[19], container= container_name)"
   ],
   "metadata": {
    "collapsed": false,
    "pycharm": {
     "name": "#%%\n"
    }
   }
  },
  {
   "cell_type": "code",
   "execution_count": 109,
   "outputs": [],
   "source": [
    "df = df.loc[:,\n",
    "     (\n",
    "         [\"period\", \"Total Activity\"],\n",
    "         ['Total Delivery Revenue','Total Other Processing Revenue','Total W-2 Revenue',\n",
    "          'HR Solutions (excl PEO)','Total HR Solutions/ASO (Payroll side)',''],\n",
    "         ['TOTAL OPERATIONS','CONS HRS', 'Prior Year Adjustment', 'Total Paychex','']\n",
    "     )\n",
    "     ]"
   ],
   "metadata": {
    "collapsed": false,
    "pycharm": {
     "name": "#%%\n"
    }
   }
  },
  {
   "cell_type": "code",
   "execution_count": 110,
   "outputs": [
    {
     "data": {
      "text/plain": "                                                  Total Activity  \\\n                                          Total Delivery Revenue   \n                                                TOTAL OPERATIONS   \n                                      Total Service Revenue - RW   \nActual   Final Revised FY15 YearTotal               1.186875e+08   \n                            \\nJun                   7.393352e+06   \n                            \\nJul                   1.351374e+07   \n                            \\nAug                   7.286967e+06   \n                            \\nSep                   7.081862e+06   \n...                                                          ...   \nForecast 8+4           FY22 \\nJan                   2.243552e+07   \n                            \\nFeb                   6.683674e+06   \n                            \\nMar                   7.556914e+06   \n                            \\nApr                   1.094369e+07   \n                            \\nMay                   7.961770e+06   \n\n                                                                  \\\n                                                                   \n                                                        CONS HRS   \n                                      Total Service Revenue - RW   \nActual   Final Revised FY15 YearTotal                        0.0   \n                            \\nJun                            0.0   \n                            \\nJul                            0.0   \n                            \\nAug                            0.0   \n                            \\nSep                            0.0   \n...                                                          ...   \nForecast 8+4           FY22 \\nJan                            0.0   \n                            \\nFeb                            0.0   \n                            \\nMar                            0.0   \n                            \\nApr                            0.0   \n                            \\nMay                            0.0   \n\n                                                                      \\\n                                      Total Other Processing Revenue   \n                                                    TOTAL OPERATIONS   \n                                          Total Service Revenue - RW   \nActual   Final Revised FY15 YearTotal                    63488855.55   \n                            \\nJun                         4765775.19   \n                            \\nJul                         6502729.54   \n                            \\nAug                         4215268.17   \n                            \\nSep                         4726806.24   \n...                                                              ...   \nForecast 8+4           FY22 \\nJan                        20866313.40   \n                            \\nFeb                        14110893.97   \n                            \\nMar                        12680918.38   \n                            \\nApr                        10225582.63   \n                            \\nMay                         6506572.85   \n\n                                                                  \\\n                                                                   \n                                           Prior Year Adjustment   \n                                      Total Service Revenue - RW   \nActual   Final Revised FY15 YearTotal                        0.0   \n                            \\nJun                            0.0   \n                            \\nJul                            0.0   \n                            \\nAug                            0.0   \n                            \\nSep                            0.0   \n...                                                          ...   \nForecast 8+4           FY22 \\nJan                            0.0   \n                            \\nFeb                            0.0   \n                            \\nMar                            0.0   \n                            \\nApr                            0.0   \n                            \\nMay                            0.0   \n\n                                                                  \\\n                                               Total W-2 Revenue   \n                                                TOTAL OPERATIONS   \n                                      Total Service Revenue - RW   \nActual   Final Revised FY15 YearTotal                90768981.49   \n                            \\nJun                     7031234.09   \n                            \\nJul                     7325377.82   \n                            \\nAug                     7443620.46   \n                            \\nSep                     7414842.11   \n...                                                          ...   \nForecast 8+4           FY22 \\nJan                    81544421.44   \n                            \\nFeb                       87571.97   \n                            \\nMar                      -43001.29   \n                            \\nApr                       44811.43   \n                            \\nMay                      113783.77   \n\n                                                                  \\\n                                                                   \n                                           Prior Year Adjustment   \n                                      Total Service Revenue - RW   \nActual   Final Revised FY15 YearTotal                        0.0   \n                            \\nJun                            0.0   \n                            \\nJul                            0.0   \n                            \\nAug                            0.0   \n                            \\nSep                            0.0   \n...                                                          ...   \nForecast 8+4           FY22 \\nJan                            0.0   \n                            \\nFeb                            0.0   \n                            \\nMar                            0.0   \n                            \\nApr                            0.0   \n                            \\nMay                            0.0   \n\n                                                                  \\\n                                         HR Solutions (excl PEO)   \n                                                   Total Paychex   \n                                      Total Service Revenue - RW   \nActual   Final Revised FY15 YearTotal                280104498.0   \n                            \\nJun                     21143605.0   \n                            \\nJul                     25838048.0   \n                            \\nAug                     21762760.0   \n                            \\nSep                     20288451.0   \n...                                                          ...   \nForecast 8+4           FY22 \\nJan                     49289702.0   \n                            \\nFeb                     47754765.0   \n                            \\nMar                     55976261.0   \n                            \\nApr                     49129952.0   \n                            \\nMay                     52095246.0   \n\n                                                                             \\\n                                      Total HR Solutions/ASO (Payroll side)   \n                                                           TOTAL OPERATIONS   \n                                                 Total Service Revenue - RW   \nActual   Final Revised FY15 YearTotal                           96688582.38   \n                            \\nJun                                7255027.55   \n                            \\nJul                                9070820.80   \n                            \\nAug                                7489159.50   \n                            \\nSep                                7011292.24   \n...                                                                     ...   \nForecast 8+4           FY22 \\nJan                               17242037.23   \n                            \\nFeb                               16746239.66   \n                            \\nMar                               19830263.01   \n                            \\nApr                               17280393.78   \n                            \\nMay                               18341358.09   \n\n                                                                  \n                                                                  \n                                                        CONS HRS  \n                                      Total Service Revenue - RW  \nActual   Final Revised FY15 YearTotal                     347.37  \n                            \\nJun                           0.00  \n                            \\nJul                           0.00  \n                            \\nAug                           0.00  \n                            \\nSep                           0.00  \n...                                                          ...  \nForecast 8+4           FY22 \\nJan                           0.00  \n                            \\nFeb                           0.00  \n                            \\nMar                           0.00  \n                            \\nApr                           0.00  \n                            \\nMay                           0.00  \n\n[182 rows x 9 columns]",
      "text/html": "<div>\n<style scoped>\n    .dataframe tbody tr th:only-of-type {\n        vertical-align: middle;\n    }\n\n    .dataframe tbody tr th {\n        vertical-align: top;\n    }\n\n    .dataframe thead tr th {\n        text-align: left;\n    }\n</style>\n<table border=\"1\" class=\"dataframe\">\n  <thead>\n    <tr>\n      <th></th>\n      <th></th>\n      <th></th>\n      <th></th>\n      <th colspan=\"9\" halign=\"left\">Total Activity</th>\n    </tr>\n    <tr>\n      <th></th>\n      <th></th>\n      <th></th>\n      <th></th>\n      <th colspan=\"2\" halign=\"left\">Total Delivery Revenue</th>\n      <th colspan=\"2\" halign=\"left\">Total Other Processing Revenue</th>\n      <th colspan=\"2\" halign=\"left\">Total W-2 Revenue</th>\n      <th>HR Solutions (excl PEO)</th>\n      <th colspan=\"2\" halign=\"left\">Total HR Solutions/ASO (Payroll side)</th>\n    </tr>\n    <tr>\n      <th></th>\n      <th></th>\n      <th></th>\n      <th></th>\n      <th>TOTAL OPERATIONS</th>\n      <th>CONS HRS</th>\n      <th>TOTAL OPERATIONS</th>\n      <th>Prior Year Adjustment</th>\n      <th>TOTAL OPERATIONS</th>\n      <th>Prior Year Adjustment</th>\n      <th>Total Paychex</th>\n      <th>TOTAL OPERATIONS</th>\n      <th>CONS HRS</th>\n    </tr>\n    <tr>\n      <th></th>\n      <th></th>\n      <th></th>\n      <th></th>\n      <th>Total Service Revenue - RW</th>\n      <th>Total Service Revenue - RW</th>\n      <th>Total Service Revenue - RW</th>\n      <th>Total Service Revenue - RW</th>\n      <th>Total Service Revenue - RW</th>\n      <th>Total Service Revenue - RW</th>\n      <th>Total Service Revenue - RW</th>\n      <th>Total Service Revenue - RW</th>\n      <th>Total Service Revenue - RW</th>\n    </tr>\n  </thead>\n  <tbody>\n    <tr>\n      <th rowspan=\"5\" valign=\"top\">Actual</th>\n      <th rowspan=\"5\" valign=\"top\">Final Revised</th>\n      <th rowspan=\"5\" valign=\"top\">FY15</th>\n      <th>YearTotal</th>\n      <td>1.186875e+08</td>\n      <td>0.0</td>\n      <td>63488855.55</td>\n      <td>0.0</td>\n      <td>90768981.49</td>\n      <td>0.0</td>\n      <td>280104498.0</td>\n      <td>96688582.38</td>\n      <td>347.37</td>\n    </tr>\n    <tr>\n      <th>\\nJun</th>\n      <td>7.393352e+06</td>\n      <td>0.0</td>\n      <td>4765775.19</td>\n      <td>0.0</td>\n      <td>7031234.09</td>\n      <td>0.0</td>\n      <td>21143605.0</td>\n      <td>7255027.55</td>\n      <td>0.00</td>\n    </tr>\n    <tr>\n      <th>\\nJul</th>\n      <td>1.351374e+07</td>\n      <td>0.0</td>\n      <td>6502729.54</td>\n      <td>0.0</td>\n      <td>7325377.82</td>\n      <td>0.0</td>\n      <td>25838048.0</td>\n      <td>9070820.80</td>\n      <td>0.00</td>\n    </tr>\n    <tr>\n      <th>\\nAug</th>\n      <td>7.286967e+06</td>\n      <td>0.0</td>\n      <td>4215268.17</td>\n      <td>0.0</td>\n      <td>7443620.46</td>\n      <td>0.0</td>\n      <td>21762760.0</td>\n      <td>7489159.50</td>\n      <td>0.00</td>\n    </tr>\n    <tr>\n      <th>\\nSep</th>\n      <td>7.081862e+06</td>\n      <td>0.0</td>\n      <td>4726806.24</td>\n      <td>0.0</td>\n      <td>7414842.11</td>\n      <td>0.0</td>\n      <td>20288451.0</td>\n      <td>7011292.24</td>\n      <td>0.00</td>\n    </tr>\n    <tr>\n      <th>...</th>\n      <th>...</th>\n      <th>...</th>\n      <th>...</th>\n      <td>...</td>\n      <td>...</td>\n      <td>...</td>\n      <td>...</td>\n      <td>...</td>\n      <td>...</td>\n      <td>...</td>\n      <td>...</td>\n      <td>...</td>\n    </tr>\n    <tr>\n      <th rowspan=\"5\" valign=\"top\">Forecast</th>\n      <th rowspan=\"5\" valign=\"top\">8+4</th>\n      <th rowspan=\"5\" valign=\"top\">FY22</th>\n      <th>\\nJan</th>\n      <td>2.243552e+07</td>\n      <td>0.0</td>\n      <td>20866313.40</td>\n      <td>0.0</td>\n      <td>81544421.44</td>\n      <td>0.0</td>\n      <td>49289702.0</td>\n      <td>17242037.23</td>\n      <td>0.00</td>\n    </tr>\n    <tr>\n      <th>\\nFeb</th>\n      <td>6.683674e+06</td>\n      <td>0.0</td>\n      <td>14110893.97</td>\n      <td>0.0</td>\n      <td>87571.97</td>\n      <td>0.0</td>\n      <td>47754765.0</td>\n      <td>16746239.66</td>\n      <td>0.00</td>\n    </tr>\n    <tr>\n      <th>\\nMar</th>\n      <td>7.556914e+06</td>\n      <td>0.0</td>\n      <td>12680918.38</td>\n      <td>0.0</td>\n      <td>-43001.29</td>\n      <td>0.0</td>\n      <td>55976261.0</td>\n      <td>19830263.01</td>\n      <td>0.00</td>\n    </tr>\n    <tr>\n      <th>\\nApr</th>\n      <td>1.094369e+07</td>\n      <td>0.0</td>\n      <td>10225582.63</td>\n      <td>0.0</td>\n      <td>44811.43</td>\n      <td>0.0</td>\n      <td>49129952.0</td>\n      <td>17280393.78</td>\n      <td>0.00</td>\n    </tr>\n    <tr>\n      <th>\\nMay</th>\n      <td>7.961770e+06</td>\n      <td>0.0</td>\n      <td>6506572.85</td>\n      <td>0.0</td>\n      <td>113783.77</td>\n      <td>0.0</td>\n      <td>52095246.0</td>\n      <td>18341358.09</td>\n      <td>0.00</td>\n    </tr>\n  </tbody>\n</table>\n<p>182 rows × 9 columns</p>\n</div>"
     },
     "execution_count": 110,
     "metadata": {},
     "output_type": "execute_result"
    }
   ],
   "source": [
    "df"
   ],
   "metadata": {
    "collapsed": false,
    "pycharm": {
     "name": "#%%\n"
    }
   }
  },
  {
   "cell_type": "code",
   "execution_count": 113,
   "outputs": [
    {
     "data": {
      "text/plain": "HR Solutions (excl PEO)                  598.036988\nTotal Delivery Revenue                   117.029362\nTotal HR Solutions/ASO (Payroll side)    210.493782\nTotal Other Processing Revenue           102.279869\nTotal W-2 Revenue                         81.781030\nName: (Forecast, 6+6, FY22, YearTotal), dtype: float64"
     },
     "execution_count": 113,
     "metadata": {},
     "output_type": "execute_result"
    }
   ],
   "source": [
    "df.loc[(\"Forecast\",\"6+6\",\"FY22\",\"YearTotal\"),:].groupby(level=1).sum()/1000000"
   ],
   "metadata": {
    "collapsed": false,
    "pycharm": {
     "name": "#%%\n"
    }
   }
  },
  {
   "cell_type": "code",
   "execution_count": 116,
   "outputs": [
    {
     "data": {
      "text/plain": "HR Solutions (excl PEO)                Total Paychex            598.036988\nTotal Delivery Revenue                 CONS HRS                   0.000000\n                                       TOTAL OPERATIONS         117.029362\nTotal HR Solutions/ASO (Payroll side)  CONS HRS                   0.000000\n                                       TOTAL OPERATIONS         210.493782\nTotal Other Processing Revenue         Prior Year Adjustment      0.000000\n                                       TOTAL OPERATIONS         102.279869\nTotal W-2 Revenue                      Prior Year Adjustment      0.000000\n                                       TOTAL OPERATIONS          81.781030\nName: (Forecast, 6+6, FY22, YearTotal), dtype: float64"
     },
     "execution_count": 116,
     "metadata": {},
     "output_type": "execute_result"
    }
   ],
   "source": [
    "df.loc[(\"Forecast\",\"6+6\",\"FY22\",\"YearTotal\"),:].groupby(level=[1,2]).sum()/1000000"
   ],
   "metadata": {
    "collapsed": false,
    "pycharm": {
     "name": "#%%\n"
    }
   }
  },
  {
   "cell_type": "markdown",
   "source": [
    "## 16 Sure payrol"
   ],
   "metadata": {
    "collapsed": false
   }
  },
  {
   "cell_type": "code",
   "execution_count": 117,
   "outputs": [
    {
     "data": {
      "text/plain": "'SurePayollRevenue.txt'"
     },
     "execution_count": 117,
     "metadata": {},
     "output_type": "execute_result"
    }
   ],
   "source": [
    "blob_list[20]"
   ],
   "metadata": {
    "collapsed": false,
    "pycharm": {
     "name": "#%%\n"
    }
   }
  },
  {
   "cell_type": "code",
   "execution_count": 118,
   "outputs": [],
   "source": [
    "df = get_df(blob_service_client, blob_list[20], container= container_name)"
   ],
   "metadata": {
    "collapsed": false,
    "pycharm": {
     "name": "#%%\n"
    }
   }
  },
  {
   "cell_type": "code",
   "execution_count": 119,
   "outputs": [
    {
     "data": {
      "text/plain": "                                             Total Activity  \\\n                                                    PR PROC   \n                                          1501 SP Direct GB   \n                                      FEE REVENUE - NA - RW   \nActual   Final Revised FY15 YearTotal           21219332.78   \n                            \\nJun                1716994.82   \n                            \\nJul                2088717.79   \n                            \\nAug                1411140.00   \n                            \\nSep                1729748.29   \n...                                                     ...   \nForecast 8+4           FY22 \\nJan                -154767.08   \n                            \\nFeb                      0.00   \n                            \\nMar                      0.00   \n                            \\nApr                      0.00   \n                            \\nMay                      0.00   \n\n                                                               \\\n                                                                \n                                                                \n                                      OTHER REVENUE - NA - RW   \nActual   Final Revised FY15 YearTotal                    0.00   \n                            \\nJun                        0.00   \n                            \\nJul                        0.00   \n                            \\nAug                        0.00   \n                            \\nSep                        0.00   \n...                                                       ...   \nForecast 8+4           FY22 \\nJan                    -2397.90   \n                            \\nFeb                  -159107.24   \n                            \\nMar                  -160318.79   \n                            \\nApr                  -162333.29   \n                            \\nMay                  -164148.24   \n\n                                                                     \\\n                                                                      \n                                                                      \n                                      MAINTENANCE REVENUE - NA - RW   \nActual   Final Revised FY15 YearTotal                          0.00   \n                            \\nJun                              0.00   \n                            \\nJul                              0.00   \n                            \\nAug                              0.00   \n                            \\nSep                              0.00   \n...                                                             ...   \nForecast 8+4           FY22 \\nJan                         -14888.45   \n                            \\nFeb                              0.00   \n                            \\nMar                              0.00   \n                            \\nApr                              0.00   \n                            \\nMay                              0.00   \n\n                                                                 \\\n                                                                  \n                                                                  \n                                      SALES DISCOUNTS - NA - RW   \nActual   Final Revised FY15 YearTotal                       0.0   \n                            \\nJun                           0.0   \n                            \\nJul                           0.0   \n                            \\nAug                           0.0   \n                            \\nSep                           0.0   \n...                                                         ...   \nForecast 8+4           FY22 \\nJan                     -116200.4   \n                            \\nFeb                           0.0   \n                            \\nMar                           0.0   \n                            \\nApr                           0.0   \n                            \\nMay                           0.0   \n\n                                                               \\\n                                                                \n                                            1518 SP Direct HH   \n                                      OTHER REVENUE - NA - RW   \nActual   Final Revised FY15 YearTotal                    0.00   \n                            \\nJun                        0.00   \n                            \\nJul                        0.00   \n                            \\nAug                        0.00   \n                            \\nSep                        0.00   \n...                                                       ...   \nForecast 8+4           FY22 \\nJan                       10.00   \n                            \\nFeb                   -34250.07   \n                            \\nMar                   -33791.56   \n                            \\nApr                   -33641.88   \n                            \\nMay                   -33351.99   \n\n                                                                     \\\n                                                                      \n                                                                      \n                                      MAINTENANCE REVENUE - NA - RW   \nActual   Final Revised FY15 YearTotal                           0.0   \n                            \\nJun                               0.0   \n                            \\nJul                               0.0   \n                            \\nAug                               0.0   \n                            \\nSep                               0.0   \n...                                                             ...   \nForecast 8+4           FY22 \\nJan                               0.0   \n                            \\nFeb                               0.0   \n                            \\nMar                               0.0   \n                            \\nApr                               0.0   \n                            \\nMay                               0.0   \n\n                                                                 \\\n                                                                  \n                                                                  \n                                      SALES DISCOUNTS - NA - RW   \nActual   Final Revised FY15 YearTotal                      0.00   \n                            \\nJun                          0.00   \n                            \\nJul                          0.00   \n                            \\nAug                          0.00   \n                            \\nSep                          0.00   \n...                                                         ...   \nForecast 8+4           FY22 \\nJan                     -34591.64   \n                            \\nFeb                          0.00   \n                            \\nMar                          0.00   \n                            \\nApr                          0.00   \n                            \\nMay                          0.00   \n\n                                                                \\\n                                                                 \n                                      1507 SP NORTHWEST MUTUAL   \n                                         FEE REVENUE - NA - RW   \nActual   Final Revised FY15 YearTotal                652867.00   \n                            \\nJun                     43783.36   \n                            \\nJul                     46001.20   \n                            \\nAug                     44189.52   \n                            \\nSep                     56551.51   \n...                                                        ...   \nForecast 8+4           FY22 \\nJan                         0.00   \n                            \\nFeb                         0.00   \n                            \\nMar                         0.00   \n                            \\nApr                         0.00   \n                            \\nMay                         0.00   \n\n                                                                     \\\n                                                                      \n                                                                      \n                                      MAINTENANCE REVENUE - NA - RW   \nActual   Final Revised FY15 YearTotal                           0.0   \n                            \\nJun                               0.0   \n                            \\nJul                               0.0   \n                            \\nAug                               0.0   \n                            \\nSep                               0.0   \n...                                                             ...   \nForecast 8+4           FY22 \\nJan                               0.0   \n                            \\nFeb                               0.0   \n                            \\nMar                               0.0   \n                            \\nApr                               0.0   \n                            \\nMay                               0.0   \n\n                                                             ...  \\\n                                                             ...   \n                                        1513 SP SITTER BANK  ...   \n                                      FEE REVENUE - NA - RW  ...   \nActual   Final Revised FY15 YearTotal             648361.58  ...   \n                            \\nJun                  52515.01  ...   \n                            \\nJul                  48959.98  ...   \n                            \\nAug                  50124.90  ...   \n                            \\nSep                  53388.58  ...   \n...                                                     ...  ...   \nForecast 8+4           FY22 \\nJan                      0.00  ...   \n                            \\nFeb                      0.00  ...   \n                            \\nMar                      0.00  ...   \n                            \\nApr                      0.00  ...   \n                            \\nMay                      0.00  ...   \n\n                                                                        \\\n                                                           PREMIER HRS   \n                                                     1501 SP Direct GB   \n                                      FEE REVENUE - CONTRACT PLAN - RW   \nActual   Final Revised FY15 YearTotal                             0.00   \n                            \\nJun                                 0.00   \n                            \\nJul                                 0.00   \n                            \\nAug                                 0.00   \n                            \\nSep                                 0.00   \n...                                                                ...   \nForecast 8+4           FY22 \\nJan                              7306.92   \n                            \\nFeb                                 0.00   \n                            \\nMar                                 0.00   \n                            \\nApr                                 0.00   \n                            \\nMay                                 0.00   \n\n                                                                     \\\n                                                                      \n                                                                      \n                                      MAINTENANCE REVENUE - NA - RW   \nActual   Final Revised FY15 YearTotal                          0.00   \n                            \\nJun                              0.00   \n                            \\nJul                              0.00   \n                            \\nAug                              0.00   \n                            \\nSep                              0.00   \n...                                                             ...   \nForecast 8+4           FY22 \\nJan                           8769.56   \n                            \\nFeb                              0.00   \n                            \\nMar                              0.00   \n                            \\nApr                              0.00   \n                            \\nMay                              0.00   \n\n                                                                       \\\n                                                                        \n                                                                        \n                                      MAINTENANCE REVENUE - CORE - RW   \nActual   Final Revised FY15 YearTotal                             0.0   \n                            \\nJun                                 0.0   \n                            \\nJul                                 0.0   \n                            \\nAug                                 0.0   \n                            \\nSep                                 0.0   \n...                                                               ...   \nForecast 8+4           FY22 \\nJan                                 0.0   \n                            \\nFeb                             15525.0   \n                            \\nMar                             22612.5   \n                            \\nApr                             30037.5   \n                            \\nMay                             37462.5   \n\n                                                                 \\\n                                                                  \n                                                                  \n                                      SALES DISCOUNTS - NA - RW   \nActual   Final Revised FY15 YearTotal                      0.00   \n                            \\nJun                          0.00   \n                            \\nJul                          0.00   \n                            \\nAug                          0.00   \n                            \\nSep                          0.00   \n...                                                         ...   \nForecast 8+4           FY22 \\nJan                      -2291.33   \n                            \\nFeb                          0.00   \n                            \\nMar                          0.00   \n                            \\nApr                          0.00   \n                            \\nMay                          0.00   \n\n                                                      \\\n                                                       \n                                                       \n                                      ACCTRW4690_101   \nActual   Final Revised FY15 YearTotal           0.00   \n                            \\nJun               0.00   \n                            \\nJul               0.00   \n                            \\nAug               0.00   \n                            \\nSep               0.00   \n...                                              ...   \nForecast 8+4           FY22 \\nJan               0.00   \n                            \\nFeb           -5433.75   \n                            \\nMar           -7914.38   \n                            \\nApr          -10513.13   \n                            \\nMay          -13111.88   \n\n                                                                            \\\n                                                                             \n                                                                             \n                                      SALES DISCOUNTS - CONTRACT PLAN - RW   \nActual   Final Revised FY15 YearTotal                                 0.00   \n                            \\nJun                                     0.00   \n                            \\nJul                                     0.00   \n                            \\nAug                                     0.00   \n                            \\nSep                                     0.00   \n...                                                                    ...   \nForecast 8+4           FY22 \\nJan                                 -4831.32   \n                            \\nFeb                                     0.00   \n                            \\nMar                                     0.00   \n                            \\nApr                                     0.00   \n                            \\nMay                                     0.00   \n\n                                                                        \\\n                                                                         \n                                                   1506 SP BOP PARTNER   \n                                      FEE REVENUE - CONTRACT PLAN - RW   \nActual   Final Revised FY15 YearTotal                             0.00   \n                            \\nJun                                 0.00   \n                            \\nJul                                 0.00   \n                            \\nAug                                 0.00   \n                            \\nSep                                 0.00   \n...                                                                ...   \nForecast 8+4           FY22 \\nJan                              1354.86   \n                            \\nFeb                                 0.00   \n                            \\nMar                                 0.00   \n                            \\nApr                                 0.00   \n                            \\nMay                                 0.00   \n\n                                                                     \\\n                                                                      \n                                                                      \n                                      MAINTENANCE REVENUE - NA - RW   \nActual   Final Revised FY15 YearTotal                          0.00   \n                            \\nJun                              0.00   \n                            \\nJul                              0.00   \n                            \\nAug                              0.00   \n                            \\nSep                              0.00   \n...                                                             ...   \nForecast 8+4           FY22 \\nJan                            801.47   \n                            \\nFeb                              0.00   \n                            \\nMar                              0.00   \n                            \\nApr                              0.00   \n                            \\nMay                              0.00   \n\n                                                                 \\\n                                                                  \n                                                                  \n                                      SALES DISCOUNTS - NA - RW   \nActual   Final Revised FY15 YearTotal                      0.00   \n                            \\nJun                          0.00   \n                            \\nJul                          0.00   \n                            \\nAug                          0.00   \n                            \\nSep                          0.00   \n...                                                         ...   \nForecast 8+4           FY22 \\nJan                       -280.51   \n                            \\nFeb                          0.00   \n                            \\nMar                          0.00   \n                            \\nApr                          0.00   \n                            \\nMay                          0.00   \n\n                                                                            \n                                                                            \n                                                                            \n                                      SALES DISCOUNTS - CONTRACT PLAN - RW  \nActual   Final Revised FY15 YearTotal                                 0.00  \n                            \\nJun                                     0.00  \n                            \\nJul                                     0.00  \n                            \\nAug                                     0.00  \n                            \\nSep                                     0.00  \n...                                                                    ...  \nForecast 8+4           FY22 \\nJan                                  -907.77  \n                            \\nFeb                                     0.00  \n                            \\nMar                                     0.00  \n                            \\nApr                                     0.00  \n                            \\nMay                                     0.00  \n\n[182 rows x 179 columns]",
      "text/html": "<div>\n<style scoped>\n    .dataframe tbody tr th:only-of-type {\n        vertical-align: middle;\n    }\n\n    .dataframe tbody tr th {\n        vertical-align: top;\n    }\n\n    .dataframe thead tr th {\n        text-align: left;\n    }\n</style>\n<table border=\"1\" class=\"dataframe\">\n  <thead>\n    <tr>\n      <th></th>\n      <th></th>\n      <th></th>\n      <th></th>\n      <th colspan=\"21\" halign=\"left\">Total Activity</th>\n    </tr>\n    <tr>\n      <th></th>\n      <th></th>\n      <th></th>\n      <th></th>\n      <th colspan=\"10\" halign=\"left\">PR PROC</th>\n      <th>...</th>\n      <th colspan=\"10\" halign=\"left\">PREMIER HRS</th>\n    </tr>\n    <tr>\n      <th></th>\n      <th></th>\n      <th></th>\n      <th></th>\n      <th colspan=\"4\" halign=\"left\">1501 SP Direct GB</th>\n      <th colspan=\"3\" halign=\"left\">1518 SP Direct HH</th>\n      <th colspan=\"2\" halign=\"left\">1507 SP NORTHWEST MUTUAL</th>\n      <th>1513 SP SITTER BANK</th>\n      <th>...</th>\n      <th colspan=\"6\" halign=\"left\">1501 SP Direct GB</th>\n      <th colspan=\"4\" halign=\"left\">1506 SP BOP PARTNER</th>\n    </tr>\n    <tr>\n      <th></th>\n      <th></th>\n      <th></th>\n      <th></th>\n      <th>FEE REVENUE - NA - RW</th>\n      <th>OTHER REVENUE - NA - RW</th>\n      <th>MAINTENANCE REVENUE - NA - RW</th>\n      <th>SALES DISCOUNTS - NA - RW</th>\n      <th>OTHER REVENUE - NA - RW</th>\n      <th>MAINTENANCE REVENUE - NA - RW</th>\n      <th>SALES DISCOUNTS - NA - RW</th>\n      <th>FEE REVENUE - NA - RW</th>\n      <th>MAINTENANCE REVENUE - NA - RW</th>\n      <th>FEE REVENUE - NA - RW</th>\n      <th>...</th>\n      <th>FEE REVENUE - CONTRACT PLAN - RW</th>\n      <th>MAINTENANCE REVENUE - NA - RW</th>\n      <th>MAINTENANCE REVENUE - CORE - RW</th>\n      <th>SALES DISCOUNTS - NA - RW</th>\n      <th>ACCTRW4690_101</th>\n      <th>SALES DISCOUNTS - CONTRACT PLAN - RW</th>\n      <th>FEE REVENUE - CONTRACT PLAN - RW</th>\n      <th>MAINTENANCE REVENUE - NA - RW</th>\n      <th>SALES DISCOUNTS - NA - RW</th>\n      <th>SALES DISCOUNTS - CONTRACT PLAN - RW</th>\n    </tr>\n  </thead>\n  <tbody>\n    <tr>\n      <th rowspan=\"5\" valign=\"top\">Actual</th>\n      <th rowspan=\"5\" valign=\"top\">Final Revised</th>\n      <th rowspan=\"5\" valign=\"top\">FY15</th>\n      <th>YearTotal</th>\n      <td>21219332.78</td>\n      <td>0.00</td>\n      <td>0.00</td>\n      <td>0.0</td>\n      <td>0.00</td>\n      <td>0.0</td>\n      <td>0.00</td>\n      <td>652867.00</td>\n      <td>0.0</td>\n      <td>648361.58</td>\n      <td>...</td>\n      <td>0.00</td>\n      <td>0.00</td>\n      <td>0.0</td>\n      <td>0.00</td>\n      <td>0.00</td>\n      <td>0.00</td>\n      <td>0.00</td>\n      <td>0.00</td>\n      <td>0.00</td>\n      <td>0.00</td>\n    </tr>\n    <tr>\n      <th>\\nJun</th>\n      <td>1716994.82</td>\n      <td>0.00</td>\n      <td>0.00</td>\n      <td>0.0</td>\n      <td>0.00</td>\n      <td>0.0</td>\n      <td>0.00</td>\n      <td>43783.36</td>\n      <td>0.0</td>\n      <td>52515.01</td>\n      <td>...</td>\n      <td>0.00</td>\n      <td>0.00</td>\n      <td>0.0</td>\n      <td>0.00</td>\n      <td>0.00</td>\n      <td>0.00</td>\n      <td>0.00</td>\n      <td>0.00</td>\n      <td>0.00</td>\n      <td>0.00</td>\n    </tr>\n    <tr>\n      <th>\\nJul</th>\n      <td>2088717.79</td>\n      <td>0.00</td>\n      <td>0.00</td>\n      <td>0.0</td>\n      <td>0.00</td>\n      <td>0.0</td>\n      <td>0.00</td>\n      <td>46001.20</td>\n      <td>0.0</td>\n      <td>48959.98</td>\n      <td>...</td>\n      <td>0.00</td>\n      <td>0.00</td>\n      <td>0.0</td>\n      <td>0.00</td>\n      <td>0.00</td>\n      <td>0.00</td>\n      <td>0.00</td>\n      <td>0.00</td>\n      <td>0.00</td>\n      <td>0.00</td>\n    </tr>\n    <tr>\n      <th>\\nAug</th>\n      <td>1411140.00</td>\n      <td>0.00</td>\n      <td>0.00</td>\n      <td>0.0</td>\n      <td>0.00</td>\n      <td>0.0</td>\n      <td>0.00</td>\n      <td>44189.52</td>\n      <td>0.0</td>\n      <td>50124.90</td>\n      <td>...</td>\n      <td>0.00</td>\n      <td>0.00</td>\n      <td>0.0</td>\n      <td>0.00</td>\n      <td>0.00</td>\n      <td>0.00</td>\n      <td>0.00</td>\n      <td>0.00</td>\n      <td>0.00</td>\n      <td>0.00</td>\n    </tr>\n    <tr>\n      <th>\\nSep</th>\n      <td>1729748.29</td>\n      <td>0.00</td>\n      <td>0.00</td>\n      <td>0.0</td>\n      <td>0.00</td>\n      <td>0.0</td>\n      <td>0.00</td>\n      <td>56551.51</td>\n      <td>0.0</td>\n      <td>53388.58</td>\n      <td>...</td>\n      <td>0.00</td>\n      <td>0.00</td>\n      <td>0.0</td>\n      <td>0.00</td>\n      <td>0.00</td>\n      <td>0.00</td>\n      <td>0.00</td>\n      <td>0.00</td>\n      <td>0.00</td>\n      <td>0.00</td>\n    </tr>\n    <tr>\n      <th>...</th>\n      <th>...</th>\n      <th>...</th>\n      <th>...</th>\n      <td>...</td>\n      <td>...</td>\n      <td>...</td>\n      <td>...</td>\n      <td>...</td>\n      <td>...</td>\n      <td>...</td>\n      <td>...</td>\n      <td>...</td>\n      <td>...</td>\n      <td>...</td>\n      <td>...</td>\n      <td>...</td>\n      <td>...</td>\n      <td>...</td>\n      <td>...</td>\n      <td>...</td>\n      <td>...</td>\n      <td>...</td>\n      <td>...</td>\n      <td>...</td>\n    </tr>\n    <tr>\n      <th rowspan=\"5\" valign=\"top\">Forecast</th>\n      <th rowspan=\"5\" valign=\"top\">8+4</th>\n      <th rowspan=\"5\" valign=\"top\">FY22</th>\n      <th>\\nJan</th>\n      <td>-154767.08</td>\n      <td>-2397.90</td>\n      <td>-14888.45</td>\n      <td>-116200.4</td>\n      <td>10.00</td>\n      <td>0.0</td>\n      <td>-34591.64</td>\n      <td>0.00</td>\n      <td>0.0</td>\n      <td>0.00</td>\n      <td>...</td>\n      <td>7306.92</td>\n      <td>8769.56</td>\n      <td>0.0</td>\n      <td>-2291.33</td>\n      <td>0.00</td>\n      <td>-4831.32</td>\n      <td>1354.86</td>\n      <td>801.47</td>\n      <td>-280.51</td>\n      <td>-907.77</td>\n    </tr>\n    <tr>\n      <th>\\nFeb</th>\n      <td>0.00</td>\n      <td>-159107.24</td>\n      <td>0.00</td>\n      <td>0.0</td>\n      <td>-34250.07</td>\n      <td>0.0</td>\n      <td>0.00</td>\n      <td>0.00</td>\n      <td>0.0</td>\n      <td>0.00</td>\n      <td>...</td>\n      <td>0.00</td>\n      <td>0.00</td>\n      <td>15525.0</td>\n      <td>0.00</td>\n      <td>-5433.75</td>\n      <td>0.00</td>\n      <td>0.00</td>\n      <td>0.00</td>\n      <td>0.00</td>\n      <td>0.00</td>\n    </tr>\n    <tr>\n      <th>\\nMar</th>\n      <td>0.00</td>\n      <td>-160318.79</td>\n      <td>0.00</td>\n      <td>0.0</td>\n      <td>-33791.56</td>\n      <td>0.0</td>\n      <td>0.00</td>\n      <td>0.00</td>\n      <td>0.0</td>\n      <td>0.00</td>\n      <td>...</td>\n      <td>0.00</td>\n      <td>0.00</td>\n      <td>22612.5</td>\n      <td>0.00</td>\n      <td>-7914.38</td>\n      <td>0.00</td>\n      <td>0.00</td>\n      <td>0.00</td>\n      <td>0.00</td>\n      <td>0.00</td>\n    </tr>\n    <tr>\n      <th>\\nApr</th>\n      <td>0.00</td>\n      <td>-162333.29</td>\n      <td>0.00</td>\n      <td>0.0</td>\n      <td>-33641.88</td>\n      <td>0.0</td>\n      <td>0.00</td>\n      <td>0.00</td>\n      <td>0.0</td>\n      <td>0.00</td>\n      <td>...</td>\n      <td>0.00</td>\n      <td>0.00</td>\n      <td>30037.5</td>\n      <td>0.00</td>\n      <td>-10513.13</td>\n      <td>0.00</td>\n      <td>0.00</td>\n      <td>0.00</td>\n      <td>0.00</td>\n      <td>0.00</td>\n    </tr>\n    <tr>\n      <th>\\nMay</th>\n      <td>0.00</td>\n      <td>-164148.24</td>\n      <td>0.00</td>\n      <td>0.0</td>\n      <td>-33351.99</td>\n      <td>0.0</td>\n      <td>0.00</td>\n      <td>0.00</td>\n      <td>0.0</td>\n      <td>0.00</td>\n      <td>...</td>\n      <td>0.00</td>\n      <td>0.00</td>\n      <td>37462.5</td>\n      <td>0.00</td>\n      <td>-13111.88</td>\n      <td>0.00</td>\n      <td>0.00</td>\n      <td>0.00</td>\n      <td>0.00</td>\n      <td>0.00</td>\n    </tr>\n  </tbody>\n</table>\n<p>182 rows × 179 columns</p>\n</div>"
     },
     "execution_count": 119,
     "metadata": {},
     "output_type": "execute_result"
    }
   ],
   "source": [
    "df"
   ],
   "metadata": {
    "collapsed": false,
    "pycharm": {
     "name": "#%%\n"
    }
   }
  },
  {
   "cell_type": "code",
   "execution_count": 122,
   "outputs": [
    {
     "data": {
      "text/plain": "97.27571197"
     },
     "execution_count": 122,
     "metadata": {},
     "output_type": "execute_result"
    }
   ],
   "source": [
    "(df.loc[(\"Forecast\",\"6+6\",\"FY22\", \"YearTotal\"),\n",
    "       (\"Total Activity\")]).sum()/1000000"
   ],
   "metadata": {
    "collapsed": false,
    "pycharm": {
     "name": "#%%\n"
    }
   }
  },
  {
   "cell_type": "code",
   "execution_count": 125,
   "outputs": [
    {
     "data": {
      "text/plain": "1500 SP DIRECT                     0.00\n1501 SP Direct GB           51105717.36\n1502 SP ETAP                18961029.34\n1504 SP CITIBANK                   0.00\n1506 SP BOP PARTNER          3455330.61\n1507 SP NORTHWEST MUTUAL           0.00\n1508 SP WELLS FARGO          2205497.50\n1509 SP SUN TRUST            6451943.12\n1510 SP HUNTINGTON            693804.08\n1511 SP UBOC                  695762.30\n1513 SP SITTER BANK                0.00\n1514 SP CITIBANK             2624912.21\n1517 SP MT BANK               369394.92\n1518 SP Direct HH           10712320.53\nName: (Forecast, 6+6, FY22, YearTotal), dtype: float64"
     },
     "execution_count": 125,
     "metadata": {},
     "output_type": "execute_result"
    }
   ],
   "source": [
    "df.loc[(\"Forecast\",\"6+6\",\"FY22\", \"YearTotal\"),\n",
    "       (\"Total Activity\")].groupby(level=1).sum()"
   ],
   "metadata": {
    "collapsed": false,
    "pycharm": {
     "name": "#%%\n"
    }
   }
  },
  {
   "cell_type": "code",
   "execution_count": 128,
   "outputs": [
    {
     "data": {
      "text/plain": "Actual    Final Revised  FY15  YearTotal  1500 SP DIRECT                0.00\n                                          1501 SP Direct GB      25466909.19\n                                          1502 SP ETAP            2928476.25\n                                          1504 SP CITIBANK              0.00\n                                          1506 SP BOP PARTNER     1437100.99\n                                                                    ...     \nForecast  8+4            FY22  \\nMay      1511 SP UBOC              55971.54\n                                          1513 SP SITTER BANK           0.00\n                                          1514 SP CITIBANK         211765.95\n                                          1517 SP MT BANK           30950.00\n                                          1518 SP Direct HH        812514.47\nLength: 2548, dtype: float64"
     },
     "execution_count": 128,
     "metadata": {},
     "output_type": "execute_result"
    }
   ],
   "source": [
    "df_16 = df.groupby(level=2, axis=1).sum().stack()\n",
    "df_16"
   ],
   "metadata": {
    "collapsed": false,
    "pycharm": {
     "name": "#%%\n"
    }
   }
  },
  {
   "cell_type": "code",
   "execution_count": 129,
   "outputs": [
    {
     "data": {
      "text/plain": "97.27571197"
     },
     "execution_count": 129,
     "metadata": {},
     "output_type": "execute_result"
    }
   ],
   "source": [
    "df_16.loc[\"Forecast\"][\"6+6\"][\"FY22\"][\"YearTotal\"].sum()/1000000"
   ],
   "metadata": {
    "collapsed": false,
    "pycharm": {
     "name": "#%%\n"
    }
   }
  },
  {
   "cell_type": "markdown",
   "source": [
    "## 17 International"
   ],
   "metadata": {
    "collapsed": false
   }
  },
  {
   "cell_type": "code",
   "execution_count": 130,
   "outputs": [
    {
     "data": {
      "text/plain": "'InternationalRevenue.txt'"
     },
     "execution_count": 130,
     "metadata": {},
     "output_type": "execute_result"
    }
   ],
   "source": [
    "blob_list[9]"
   ],
   "metadata": {
    "collapsed": false,
    "pycharm": {
     "name": "#%%\n"
    }
   }
  },
  {
   "cell_type": "code",
   "execution_count": 131,
   "outputs": [],
   "source": [
    "df = get_df(blob_service_client, blob_list[9], container= container_name)"
   ],
   "metadata": {
    "collapsed": false,
    "pycharm": {
     "name": "#%%\n"
    }
   }
  },
  {
   "cell_type": "code",
   "execution_count": 132,
   "outputs": [
    {
     "data": {
      "text/plain": "                                                    Total Activity  \\\n                                                           PR PROC   \n                                      3000 GERMANY GMBH OPERATIONS   \n                                             FEE REVENUE - NA - RW   \nActual   Final Revised FY15 YearTotal                   4309124.40   \n                            \\nJun                        369471.91   \n                            \\nJul                        401379.94   \n                            \\nAug                        365608.89   \n                            \\nSep                        314304.69   \n...                                                            ...   \nForecast 8+4           FY22 \\nJan                         24115.76   \n                            \\nFeb                          9530.09   \n                            \\nMar                          8902.97   \n                            \\nApr                          7912.84   \n                            \\nMay                          7506.39   \n\n                                                               \\\n                                                                \n                                                                \n                                      OTHER REVENUE - NA - RW   \nActual   Final Revised FY15 YearTotal                    0.00   \n                            \\nJun                        0.00   \n                            \\nJul                        0.00   \n                            \\nAug                        0.00   \n                            \\nSep                        0.00   \n...                                                       ...   \nForecast 8+4           FY22 \\nJan                   107274.28   \n                            \\nFeb                    20647.05   \n                            \\nMar                    91301.90   \n                            \\nApr                        0.00   \n                            \\nMay                        0.00   \n\n                                                                     \\\n                                                                      \n                                                                      \n                                      MAINTENANCE REVENUE - NA - RW   \nActual   Final Revised FY15 YearTotal                          0.00   \n                            \\nJun                              0.00   \n                            \\nJul                              0.00   \n                            \\nAug                              0.00   \n                            \\nSep                              0.00   \n...                                                             ...   \nForecast 8+4           FY22 \\nJan                         547429.63   \n                            \\nFeb                         496008.45   \n                            \\nMar                         531171.41   \n                            \\nApr                         522273.28   \n                            \\nMay                         524802.35   \n\n                                                                 \\\n                                                                  \n                                                                  \n                                      SALES DISCOUNTS - NA - RW   \nActual   Final Revised FY15 YearTotal                  -2771.56   \n                            \\nJun                       -147.56   \n                            \\nJul                       -278.50   \n                            \\nAug                       -188.61   \n                            \\nSep                       -301.66   \n...                                                         ...   \nForecast 8+4           FY22 \\nJan                          0.00   \n                            \\nFeb                          0.00   \n                            \\nMar                          0.00   \n                            \\nApr                          0.00   \n                            \\nMay                          0.00   \n\n                                                                        \\\n                                                                         \n                                      3010 GERMANY LOHNDATA OPERATIONS   \n                                                 FEE REVENUE - NA - RW   \nActual   Final Revised FY15 YearTotal                       4638931.53   \n                            \\nJun                            403015.84   \n                            \\nJul                            406502.33   \n                            \\nAug                            389431.19   \n                            \\nSep                            452214.31   \n...                                                                ...   \nForecast 8+4           FY22 \\nJan                             11340.15   \n                            \\nFeb                              9468.98   \n                            \\nMar                              8081.23   \n                            \\nApr                              7426.86   \n                            \\nMay                              8029.59   \n\n                                                               \\\n                                                                \n                                                                \n                                      OTHER REVENUE - NA - RW   \nActual   Final Revised FY15 YearTotal                    0.00   \n                            \\nJun                        0.00   \n                            \\nJul                        0.00   \n                            \\nAug                        0.00   \n                            \\nSep                        0.00   \n...                                                       ...   \nForecast 8+4           FY22 \\nJan                    76066.46   \n                            \\nFeb                    99796.39   \n                            \\nMar                    66529.87   \n                            \\nApr                        0.00   \n                            \\nMay                        0.00   \n\n                                                                     \\\n                                                                      \n                                                                      \n                                      MAINTENANCE REVENUE - NA - RW   \nActual   Final Revised FY15 YearTotal                          0.00   \n                            \\nJun                              0.00   \n                            \\nJul                              0.00   \n                            \\nAug                              0.00   \n                            \\nSep                              0.00   \n...                                                             ...   \nForecast 8+4           FY22 \\nJan                         509800.12   \n                            \\nFeb                         475739.64   \n                            \\nMar                         471822.89   \n                            \\nApr                         477887.30   \n                            \\nMay                         485207.71   \n\n                                                                                 \\\n                                                                                  \n                                      3011 GERMANY LOHNDATA SOFTWARE OPERATIONS   \n                                                          FEE REVENUE - NA - RW   \nActual   Final Revised FY15 YearTotal                                 553231.73   \n                            \\nJun                                      35663.45   \n                            \\nJul                                      47701.41   \n                            \\nAug                                      46799.91   \n                            \\nSep                                      68116.82   \n...                                                                         ...   \nForecast 8+4           FY22 \\nJan                                          0.00   \n                            \\nFeb                                          0.00   \n                            \\nMar                                          0.00   \n                            \\nApr                                          0.00   \n                            \\nMay                                          0.00   \n\n                                                             \\\n                                                              \n                                                              \n                                      SOFTWARE REVENUE - RW   \nActual   Final Revised FY15 YearTotal                  0.00   \n                            \\nJun                      0.00   \n                            \\nJul                      0.00   \n                            \\nAug                      0.00   \n                            \\nSep                      0.00   \n...                                                     ...   \nForecast 8+4           FY22 \\nJan                  35744.18   \n                            \\nFeb                      0.00   \n                            \\nMar                      0.00   \n                            \\nApr                      0.00   \n                            \\nMay                      0.00   \n\n                                                                     ...  \\\n                                                                     ...   \n                                                                     ...   \n                                      MAINTENANCE REVENUE - NA - RW  ...   \nActual   Final Revised FY15 YearTotal                          0.00  ...   \n                            \\nJun                              0.00  ...   \n                            \\nJul                              0.00  ...   \n                            \\nAug                              0.00  ...   \n                            \\nSep                              0.00  ...   \n...                                                             ...  ...   \nForecast 8+4           FY22 \\nJan                              0.00  ...   \n                            \\nFeb                          28312.86  ...   \n                            \\nMar                          28312.86  ...   \n                            \\nApr                          28312.86  ...   \n                            \\nMay                          28312.86  ...   \n\n                                                             \\\n                                                              \n                                        3325 Dynamics Suite   \n                                      SOFTWARE REVENUE - RW   \nActual   Final Revised FY15 YearTotal                   0.0   \n                            \\nJun                       0.0   \n                            \\nJul                       0.0   \n                            \\nAug                       0.0   \n                            \\nSep                       0.0   \n...                                                     ...   \nForecast 8+4           FY22 \\nJan                       0.0   \n                            \\nFeb                       0.0   \n                            \\nMar                       0.0   \n                            \\nApr                       0.0   \n                            \\nMay                       0.0   \n\n                                                                     \\\n                                                                      \n                                                                      \n                                      MAINTENANCE REVENUE - NA - RW   \nActual   Final Revised FY15 YearTotal                           0.0   \n                            \\nJun                               0.0   \n                            \\nJul                               0.0   \n                            \\nAug                               0.0   \n                            \\nSep                               0.0   \n...                                                             ...   \nForecast 8+4           FY22 \\nJan                               0.0   \n                            \\nFeb                               0.0   \n                            \\nMar                               0.0   \n                            \\nApr                               0.0   \n                            \\nMay                               0.0   \n\n                                                                     \\\n                                                                      \n                                              3300 Lessor Group Aps   \n                                      MAINTENANCE REVENUE - NA - RW   \nActual   Final Revised FY15 YearTotal                           0.0   \n                            \\nJun                               0.0   \n                            \\nJul                               0.0   \n                            \\nAug                               0.0   \n                            \\nSep                               0.0   \n...                                                             ...   \nForecast 8+4           FY22 \\nJan                               0.0   \n                            \\nFeb                               0.0   \n                            \\nMar                               0.0   \n                            \\nApr                               0.0   \n                            \\nMay                               0.0   \n\n                                                             \\\n                                                              \n                                      3360 Emply Operations   \n                                      Revenue Deferral - RW   \nActual   Final Revised FY15 YearTotal                   0.0   \n                            \\nJun                       0.0   \n                            \\nJul                       0.0   \n                            \\nAug                       0.0   \n                            \\nSep                       0.0   \n...                                                     ...   \nForecast 8+4           FY22 \\nJan                       0.0   \n                            \\nFeb                       0.0   \n                            \\nMar                       0.0   \n                            \\nApr                       0.0   \n                            \\nMay                       0.0   \n\n                                                                     \\\n                                                                      \n                                                                      \n                                      MAINTENANCE REVENUE - NA - RW   \nActual   Final Revised FY15 YearTotal                           0.0   \n                            \\nJun                               0.0   \n                            \\nJul                               0.0   \n                            \\nAug                               0.0   \n                            \\nSep                               0.0   \n...                                                             ...   \nForecast 8+4           FY22 \\nJan                               0.0   \n                            \\nFeb                               0.0   \n                            \\nMar                               0.0   \n                            \\nApr                               0.0   \n                            \\nMay                               0.0   \n\n                                                                        \\\n                                                                         \n                                      3370 Emply ApS International Ops   \n                                                 SOFTWARE REVENUE - RW   \nActual   Final Revised FY15 YearTotal                              0.0   \n                            \\nJun                                  0.0   \n                            \\nJul                                  0.0   \n                            \\nAug                                  0.0   \n                            \\nSep                                  0.0   \n...                                                                ...   \nForecast 8+4           FY22 \\nJan                                  0.0   \n                            \\nFeb                                  0.0   \n                            \\nMar                                  0.0   \n                            \\nApr                                  0.0   \n                            \\nMay                                  0.0   \n\n                                                             \\\n                                                      EMPLY   \n                                      3360 Emply Operations   \n                                      FEE REVENUE - NA - RW   \nActual   Final Revised FY15 YearTotal                   0.0   \n                            \\nJun                       0.0   \n                            \\nJul                       0.0   \n                            \\nAug                       0.0   \n                            \\nSep                       0.0   \n...                                                     ...   \nForecast 8+4           FY22 \\nJan                       0.0   \n                            \\nFeb                       0.0   \n                            \\nMar                       0.0   \n                            \\nApr                       0.0   \n                            \\nMay                       0.0   \n\n                                                             \\\n                                                              \n                                                              \n                                      SOFTWARE REVENUE - RW   \nActual   Final Revised FY15 YearTotal                   0.0   \n                            \\nJun                       0.0   \n                            \\nJul                       0.0   \n                            \\nAug                       0.0   \n                            \\nSep                       0.0   \n...                                                     ...   \nForecast 8+4           FY22 \\nJan                       0.0   \n                            \\nFeb                       0.0   \n                            \\nMar                       0.0   \n                            \\nApr                       0.0   \n                            \\nMay                       0.0   \n\n                                                                        \\\n                                                                         \n                                      3370 Emply ApS International Ops   \n                                                 FEE REVENUE - NA - RW   \nActual   Final Revised FY15 YearTotal                              0.0   \n                            \\nJun                                  0.0   \n                            \\nJul                                  0.0   \n                            \\nAug                                  0.0   \n                            \\nSep                                  0.0   \n...                                                                ...   \nForecast 8+4           FY22 \\nJan                                  0.0   \n                            \\nFeb                                  0.0   \n                            \\nMar                                  0.0   \n                            \\nApr                                  0.0   \n                            \\nMay                                  0.0   \n\n                                                             \n                                                             \n                                                             \n                                      SOFTWARE REVENUE - RW  \nActual   Final Revised FY15 YearTotal                  0.00  \n                            \\nJun                      0.00  \n                            \\nJul                      0.00  \n                            \\nAug                      0.00  \n                            \\nSep                      0.00  \n...                                                     ...  \nForecast 8+4           FY22 \\nJan                 441147.32  \n                            \\nFeb                 369620.09  \n                            \\nMar                 396411.17  \n                            \\nApr                 398235.04  \n                            \\nMay                 426850.00  \n\n[182 rows x 31 columns]",
      "text/html": "<div>\n<style scoped>\n    .dataframe tbody tr th:only-of-type {\n        vertical-align: middle;\n    }\n\n    .dataframe tbody tr th {\n        vertical-align: top;\n    }\n\n    .dataframe thead tr th {\n        text-align: left;\n    }\n</style>\n<table border=\"1\" class=\"dataframe\">\n  <thead>\n    <tr>\n      <th></th>\n      <th></th>\n      <th></th>\n      <th></th>\n      <th colspan=\"21\" halign=\"left\">Total Activity</th>\n    </tr>\n    <tr>\n      <th></th>\n      <th></th>\n      <th></th>\n      <th></th>\n      <th colspan=\"17\" halign=\"left\">PR PROC</th>\n      <th colspan=\"4\" halign=\"left\">EMPLY</th>\n    </tr>\n    <tr>\n      <th></th>\n      <th></th>\n      <th></th>\n      <th></th>\n      <th colspan=\"4\" halign=\"left\">3000 GERMANY GMBH OPERATIONS</th>\n      <th colspan=\"3\" halign=\"left\">3010 GERMANY LOHNDATA OPERATIONS</th>\n      <th colspan=\"3\" halign=\"left\">3011 GERMANY LOHNDATA SOFTWARE OPERATIONS</th>\n      <th>...</th>\n      <th colspan=\"2\" halign=\"left\">3325 Dynamics Suite</th>\n      <th>3300 Lessor Group Aps</th>\n      <th colspan=\"2\" halign=\"left\">3360 Emply Operations</th>\n      <th>3370 Emply ApS International Ops</th>\n      <th colspan=\"2\" halign=\"left\">3360 Emply Operations</th>\n      <th colspan=\"2\" halign=\"left\">3370 Emply ApS International Ops</th>\n    </tr>\n    <tr>\n      <th></th>\n      <th></th>\n      <th></th>\n      <th></th>\n      <th>FEE REVENUE - NA - RW</th>\n      <th>OTHER REVENUE - NA - RW</th>\n      <th>MAINTENANCE REVENUE - NA - RW</th>\n      <th>SALES DISCOUNTS - NA - RW</th>\n      <th>FEE REVENUE - NA - RW</th>\n      <th>OTHER REVENUE - NA - RW</th>\n      <th>MAINTENANCE REVENUE - NA - RW</th>\n      <th>FEE REVENUE - NA - RW</th>\n      <th>SOFTWARE REVENUE - RW</th>\n      <th>MAINTENANCE REVENUE - NA - RW</th>\n      <th>...</th>\n      <th>SOFTWARE REVENUE - RW</th>\n      <th>MAINTENANCE REVENUE - NA - RW</th>\n      <th>MAINTENANCE REVENUE - NA - RW</th>\n      <th>Revenue Deferral - RW</th>\n      <th>MAINTENANCE REVENUE - NA - RW</th>\n      <th>SOFTWARE REVENUE - RW</th>\n      <th>FEE REVENUE - NA - RW</th>\n      <th>SOFTWARE REVENUE - RW</th>\n      <th>FEE REVENUE - NA - RW</th>\n      <th>SOFTWARE REVENUE - RW</th>\n    </tr>\n  </thead>\n  <tbody>\n    <tr>\n      <th rowspan=\"5\" valign=\"top\">Actual</th>\n      <th rowspan=\"5\" valign=\"top\">Final Revised</th>\n      <th rowspan=\"5\" valign=\"top\">FY15</th>\n      <th>YearTotal</th>\n      <td>4309124.40</td>\n      <td>0.00</td>\n      <td>0.00</td>\n      <td>-2771.56</td>\n      <td>4638931.53</td>\n      <td>0.00</td>\n      <td>0.00</td>\n      <td>553231.73</td>\n      <td>0.00</td>\n      <td>0.00</td>\n      <td>...</td>\n      <td>0.0</td>\n      <td>0.0</td>\n      <td>0.0</td>\n      <td>0.0</td>\n      <td>0.0</td>\n      <td>0.0</td>\n      <td>0.0</td>\n      <td>0.0</td>\n      <td>0.0</td>\n      <td>0.00</td>\n    </tr>\n    <tr>\n      <th>\\nJun</th>\n      <td>369471.91</td>\n      <td>0.00</td>\n      <td>0.00</td>\n      <td>-147.56</td>\n      <td>403015.84</td>\n      <td>0.00</td>\n      <td>0.00</td>\n      <td>35663.45</td>\n      <td>0.00</td>\n      <td>0.00</td>\n      <td>...</td>\n      <td>0.0</td>\n      <td>0.0</td>\n      <td>0.0</td>\n      <td>0.0</td>\n      <td>0.0</td>\n      <td>0.0</td>\n      <td>0.0</td>\n      <td>0.0</td>\n      <td>0.0</td>\n      <td>0.00</td>\n    </tr>\n    <tr>\n      <th>\\nJul</th>\n      <td>401379.94</td>\n      <td>0.00</td>\n      <td>0.00</td>\n      <td>-278.50</td>\n      <td>406502.33</td>\n      <td>0.00</td>\n      <td>0.00</td>\n      <td>47701.41</td>\n      <td>0.00</td>\n      <td>0.00</td>\n      <td>...</td>\n      <td>0.0</td>\n      <td>0.0</td>\n      <td>0.0</td>\n      <td>0.0</td>\n      <td>0.0</td>\n      <td>0.0</td>\n      <td>0.0</td>\n      <td>0.0</td>\n      <td>0.0</td>\n      <td>0.00</td>\n    </tr>\n    <tr>\n      <th>\\nAug</th>\n      <td>365608.89</td>\n      <td>0.00</td>\n      <td>0.00</td>\n      <td>-188.61</td>\n      <td>389431.19</td>\n      <td>0.00</td>\n      <td>0.00</td>\n      <td>46799.91</td>\n      <td>0.00</td>\n      <td>0.00</td>\n      <td>...</td>\n      <td>0.0</td>\n      <td>0.0</td>\n      <td>0.0</td>\n      <td>0.0</td>\n      <td>0.0</td>\n      <td>0.0</td>\n      <td>0.0</td>\n      <td>0.0</td>\n      <td>0.0</td>\n      <td>0.00</td>\n    </tr>\n    <tr>\n      <th>\\nSep</th>\n      <td>314304.69</td>\n      <td>0.00</td>\n      <td>0.00</td>\n      <td>-301.66</td>\n      <td>452214.31</td>\n      <td>0.00</td>\n      <td>0.00</td>\n      <td>68116.82</td>\n      <td>0.00</td>\n      <td>0.00</td>\n      <td>...</td>\n      <td>0.0</td>\n      <td>0.0</td>\n      <td>0.0</td>\n      <td>0.0</td>\n      <td>0.0</td>\n      <td>0.0</td>\n      <td>0.0</td>\n      <td>0.0</td>\n      <td>0.0</td>\n      <td>0.00</td>\n    </tr>\n    <tr>\n      <th>...</th>\n      <th>...</th>\n      <th>...</th>\n      <th>...</th>\n      <td>...</td>\n      <td>...</td>\n      <td>...</td>\n      <td>...</td>\n      <td>...</td>\n      <td>...</td>\n      <td>...</td>\n      <td>...</td>\n      <td>...</td>\n      <td>...</td>\n      <td>...</td>\n      <td>...</td>\n      <td>...</td>\n      <td>...</td>\n      <td>...</td>\n      <td>...</td>\n      <td>...</td>\n      <td>...</td>\n      <td>...</td>\n      <td>...</td>\n      <td>...</td>\n    </tr>\n    <tr>\n      <th rowspan=\"5\" valign=\"top\">Forecast</th>\n      <th rowspan=\"5\" valign=\"top\">8+4</th>\n      <th rowspan=\"5\" valign=\"top\">FY22</th>\n      <th>\\nJan</th>\n      <td>24115.76</td>\n      <td>107274.28</td>\n      <td>547429.63</td>\n      <td>0.00</td>\n      <td>11340.15</td>\n      <td>76066.46</td>\n      <td>509800.12</td>\n      <td>0.00</td>\n      <td>35744.18</td>\n      <td>0.00</td>\n      <td>...</td>\n      <td>0.0</td>\n      <td>0.0</td>\n      <td>0.0</td>\n      <td>0.0</td>\n      <td>0.0</td>\n      <td>0.0</td>\n      <td>0.0</td>\n      <td>0.0</td>\n      <td>0.0</td>\n      <td>441147.32</td>\n    </tr>\n    <tr>\n      <th>\\nFeb</th>\n      <td>9530.09</td>\n      <td>20647.05</td>\n      <td>496008.45</td>\n      <td>0.00</td>\n      <td>9468.98</td>\n      <td>99796.39</td>\n      <td>475739.64</td>\n      <td>0.00</td>\n      <td>0.00</td>\n      <td>28312.86</td>\n      <td>...</td>\n      <td>0.0</td>\n      <td>0.0</td>\n      <td>0.0</td>\n      <td>0.0</td>\n      <td>0.0</td>\n      <td>0.0</td>\n      <td>0.0</td>\n      <td>0.0</td>\n      <td>0.0</td>\n      <td>369620.09</td>\n    </tr>\n    <tr>\n      <th>\\nMar</th>\n      <td>8902.97</td>\n      <td>91301.90</td>\n      <td>531171.41</td>\n      <td>0.00</td>\n      <td>8081.23</td>\n      <td>66529.87</td>\n      <td>471822.89</td>\n      <td>0.00</td>\n      <td>0.00</td>\n      <td>28312.86</td>\n      <td>...</td>\n      <td>0.0</td>\n      <td>0.0</td>\n      <td>0.0</td>\n      <td>0.0</td>\n      <td>0.0</td>\n      <td>0.0</td>\n      <td>0.0</td>\n      <td>0.0</td>\n      <td>0.0</td>\n      <td>396411.17</td>\n    </tr>\n    <tr>\n      <th>\\nApr</th>\n      <td>7912.84</td>\n      <td>0.00</td>\n      <td>522273.28</td>\n      <td>0.00</td>\n      <td>7426.86</td>\n      <td>0.00</td>\n      <td>477887.30</td>\n      <td>0.00</td>\n      <td>0.00</td>\n      <td>28312.86</td>\n      <td>...</td>\n      <td>0.0</td>\n      <td>0.0</td>\n      <td>0.0</td>\n      <td>0.0</td>\n      <td>0.0</td>\n      <td>0.0</td>\n      <td>0.0</td>\n      <td>0.0</td>\n      <td>0.0</td>\n      <td>398235.04</td>\n    </tr>\n    <tr>\n      <th>\\nMay</th>\n      <td>7506.39</td>\n      <td>0.00</td>\n      <td>524802.35</td>\n      <td>0.00</td>\n      <td>8029.59</td>\n      <td>0.00</td>\n      <td>485207.71</td>\n      <td>0.00</td>\n      <td>0.00</td>\n      <td>28312.86</td>\n      <td>...</td>\n      <td>0.0</td>\n      <td>0.0</td>\n      <td>0.0</td>\n      <td>0.0</td>\n      <td>0.0</td>\n      <td>0.0</td>\n      <td>0.0</td>\n      <td>0.0</td>\n      <td>0.0</td>\n      <td>426850.00</td>\n    </tr>\n  </tbody>\n</table>\n<p>182 rows × 31 columns</p>\n</div>"
     },
     "execution_count": 132,
     "metadata": {},
     "output_type": "execute_result"
    }
   ],
   "source": [
    "df"
   ],
   "metadata": {
    "collapsed": false,
    "pycharm": {
     "name": "#%%\n"
    }
   }
  },
  {
   "cell_type": "code",
   "execution_count": 133,
   "outputs": [
    {
     "data": {
      "text/plain": "54.453345230000004"
     },
     "execution_count": 133,
     "metadata": {},
     "output_type": "execute_result"
    }
   ],
   "source": [
    "(df.loc[(\"Forecast\",\"6+6\",\"FY22\", \"YearTotal\"),\n",
    "        (\"Total Activity\")]).sum()/1000000"
   ],
   "metadata": {
    "collapsed": false,
    "pycharm": {
     "name": "#%%\n"
    }
   }
  },
  {
   "cell_type": "code",
   "execution_count": 134,
   "outputs": [
    {
     "data": {
      "text/plain": "3000 GERMANY GMBH OPERATIONS                  6831282.48\n3010 GERMANY LOHNDATA OPERATIONS              6436879.65\n3011 GERMANY LOHNDATA SOFTWARE OPERATIONS      353663.30\n3300 Lessor Group Aps                               0.00\n3320 Lessor Suite                            17959905.73\n3321 Danske Loensystemer A/S                 18095983.52\n3322 iLohngehalt Internet Serivces GmbH         51149.55\n3323 Lorloenn A/S                                   0.00\n3324 Swelon A/S                                  2024.36\n3325 Dynamics Suite                                 0.00\n3360 Emply Operations                               0.00\n3370 Emply ApS International Ops              4722456.64\nName: (Forecast, 6+6, FY22, YearTotal), dtype: float64"
     },
     "execution_count": 134,
     "metadata": {},
     "output_type": "execute_result"
    }
   ],
   "source": [
    "df.loc[(\"Forecast\",\"6+6\",\"FY22\", \"YearTotal\"),\n",
    "       (\"Total Activity\")].groupby(level=1).sum()"
   ],
   "metadata": {
    "collapsed": false,
    "pycharm": {
     "name": "#%%\n"
    }
   }
  },
  {
   "cell_type": "code",
   "execution_count": 135,
   "outputs": [
    {
     "data": {
      "text/plain": "Actual    Final Revised  FY15  YearTotal  3000 GERMANY GMBH OPERATIONS                 4306352.84\n                                          3010 GERMANY LOHNDATA OPERATIONS             4638931.53\n                                          3011 GERMANY LOHNDATA SOFTWARE OPERATIONS     553231.73\n                                          3300 Lessor Group Aps                              0.00\n                                          3320 Lessor Suite                                  0.00\n                                                                                          ...    \nForecast  8+4            FY22  \\nMay      3323 Lorloenn A/S                                  0.00\n                                          3324 Swelon A/S                                    0.00\n                                          3325 Dynamics Suite                                0.00\n                                          3360 Emply Operations                              0.00\n                                          3370 Emply ApS International Ops              426850.00\nLength: 2184, dtype: float64"
     },
     "execution_count": 135,
     "metadata": {},
     "output_type": "execute_result"
    }
   ],
   "source": [
    "df_17 = df.groupby(level=2, axis=1).sum().stack()\n",
    "df_17"
   ],
   "metadata": {
    "collapsed": false,
    "pycharm": {
     "name": "#%%\n"
    }
   }
  },
  {
   "cell_type": "code",
   "execution_count": 136,
   "outputs": [
    {
     "data": {
      "text/plain": "54.45334523"
     },
     "execution_count": 136,
     "metadata": {},
     "output_type": "execute_result"
    }
   ],
   "source": [
    "df_17.loc[\"Forecast\"][\"6+6\"][\"FY22\"][\"YearTotal\"].sum()/1000000"
   ],
   "metadata": {
    "collapsed": false,
    "pycharm": {
     "name": "#%%\n"
    }
   }
  },
  {
   "cell_type": "markdown",
   "source": [
    "## 401 Revenue"
   ],
   "metadata": {
    "collapsed": false
   }
  },
  {
   "cell_type": "code",
   "execution_count": 146,
   "outputs": [
    {
     "data": {
      "text/plain": "'401kRevenue.txt'"
     },
     "execution_count": 146,
     "metadata": {},
     "output_type": "execute_result"
    }
   ],
   "source": [
    "blob_list[0]"
   ],
   "metadata": {
    "collapsed": false,
    "pycharm": {
     "name": "#%%\n"
    }
   }
  },
  {
   "cell_type": "code",
   "execution_count": 147,
   "outputs": [],
   "source": [
    "df = get_df(blob_service_client, blob_list[0], container= container_name)"
   ],
   "metadata": {
    "collapsed": false,
    "pycharm": {
     "name": "#%%\n"
    }
   }
  },
  {
   "cell_type": "code",
   "execution_count": 148,
   "outputs": [
    {
     "data": {
      "text/plain": "                                                  Total Activity  \\\n                                              Total 401k Revenue   \n                                                   Total Paychex   \n                                      Total Service Revenue - RW   \nActual   Final Revised FY15 YearTotal                200963139.0   \n                            \\nJun                     14883414.0   \n                            \\nJul                     15071771.0   \n                            \\nAug                     14783933.0   \n                            \\nSep                     17075301.0   \n...                                                          ...   \nForecast 8+4           FY22 \\nJan                     25826261.0   \n                            \\nFeb                     24740442.0   \n                            \\nMar                     25937318.0   \n                            \\nApr                     25600810.0   \n                            \\nMay                     26080025.0   \n\n                                                                           \\\n                                                                            \n                                                                            \n                                      DIRECT BILL/MONEY MGMT REVENUE - RW   \nActual   Final Revised FY15 YearTotal                          53868722.0   \n                            \\nJun                               4261452.0   \n                            \\nJul                               4513388.0   \n                            \\nAug                               4486437.0   \n                            \\nSep                               4355892.0   \n...                                                                   ...   \nForecast 8+4           FY22 \\nJan                               9956103.0   \n                            \\nFeb                               8475391.0   \n                            \\nMar                               9403945.0   \n                            \\nApr                               9162176.0   \n                            \\nMay                               9516061.0   \n\n                                               NaN         Total Activity  \\\n                                               NaN     Total 401k Revenue   \n                                               NaN CONSOLIDATED 401K-S125   \n                                      *fee revenue             Sales - RW   \nActual   Final Revised FY15 YearTotal  147094416.0                14400.0   \n                            \\nJun       10621962.0                 1229.0   \n                            \\nJul       10558383.0                  832.0   \n                            \\nAug       10297496.0                  986.0   \n                            \\nSep       12719410.0                 1326.0   \n...                                            ...                    ...   \nForecast 8+4           FY22 \\nJan       15870158.0                 3311.0   \n                            \\nFeb       16265051.0                 1852.0   \n                            \\nMar       16533373.0                 2097.0   \n                            \\nApr       16438635.0                 1811.0   \n                            \\nMay       16563964.0                 2001.0   \n\n                                                                             \\\n                                                                              \n                                      Total Paychex                           \n                                        Losses - RW Ending Client Base - RW   \nActual   Final Revised FY15 YearTotal      -10554.0                 69512.0   \n                            \\nJun            -575.0                 66475.0   \n                            \\nJul            -956.0                 66343.0   \n                            \\nAug            -550.0                 66768.0   \n                            \\nSep            -617.0                 67466.0   \n...                                             ...                     ...   \nForecast 8+4           FY22 \\nJan           -1351.0                102609.0   \n                            \\nFeb           -1170.0                103291.0   \n                            \\nMar           -1550.0                103838.0   \n                            \\nApr           -1262.0                104387.0   \n                            \\nMay           -1226.0                105162.0   \n\n                                                                \\\n                                                                 \n                                                                 \n                                      Ending Asset Values - RW   \nActual   Final Revised FY15 YearTotal             2.351929e+10   \n                            \\nJun                 2.219744e+10   \n                            \\nJul                 2.186474e+10   \n                            \\nAug                 2.240862e+10   \n                            \\nSep                 2.194519e+10   \n...                                                        ...   \nForecast 8+4           FY22 \\nJan                 4.551459e+10   \n                            \\nFeb                 4.585765e+10   \n                            \\nMar                 4.609019e+10   \n                            \\nApr                 4.632578e+10   \n                            \\nMay                 4.666747e+10   \n\n                                                         \\\n                                                          \n                                                          \n                                      Basis Points - RW   \nActual   Final Revised FY15 YearTotal               0.0   \n                            \\nJun                   0.0   \n                            \\nJul                   0.0   \n                            \\nAug                   0.0   \n                            \\nSep                   0.0   \n...                                                 ...   \nForecast 8+4           FY22 \\nJan                   0.0   \n                            \\nFeb                   1.0   \n                            \\nMar                   1.0   \n                            \\nApr                   1.0   \n                            \\nMay                   1.0   \n\n                                                                     \\\n                                                                      \n                                                                      \n                                      Basis Points - Solicitor - RW   \nActual   Final Revised FY15 YearTotal                           0.0   \n                            \\nJun                               0.0   \n                            \\nJul                               0.0   \n                            \\nAug                               0.0   \n                            \\nSep                               0.0   \n...                                                             ...   \nForecast 8+4           FY22 \\nJan                               0.0   \n                            \\nFeb                               0.0   \n                            \\nMar                               0.0   \n                            \\nApr                               0.0   \n                            \\nMay                               0.0   \n\n                                                                     \\\n                                                                      \n                                                                      \n                                      Set Up Rate - Calculated - RW   \nActual   Final Revised FY15 YearTotal                         392.0   \n                            \\nJun                             473.0   \n                            \\nJul                             362.0   \n                            \\nAug                             367.0   \n                            \\nSep                             379.0   \n...                                                             ...   \nForecast 8+4           FY22 \\nJan                             192.0   \n                            \\nFeb                             594.0   \n                            \\nMar                             599.0   \n                            \\nApr                             577.0   \n                            \\nMay                             592.0   \n\n                                                             \\\n                                                              \n                                                              \n                                      Basis Pts - Calc - RW   \nActual   Final Revised FY15 YearTotal                   0.0   \n                            \\nJun                       0.0   \n                            \\nJul                       0.0   \n                            \\nAug                       0.0   \n                            \\nSep                       0.0   \n...                                                     ...   \nForecast 8+4           FY22 \\nJan                       0.0   \n                            \\nFeb                       0.0   \n                            \\nMar                       0.0   \n                            \\nApr                       0.0   \n                            \\nMay                       0.0   \n\n                                                                          \\\n                                                                           \n                                                                           \n                                      Maintenance Rate - Calculated - RW   \nActual   Final Revised FY15 YearTotal                              146.0   \n                            \\nJun                                  146.0   \n                            \\nJul                                  148.0   \n                            \\nAug                                  145.0   \n                            \\nSep                                  142.0   \n...                                                                  ...   \nForecast 8+4           FY22 \\nJan                                  138.0   \n                            \\nFeb                                  116.0   \n                            \\nMar                                  109.0   \n                            \\nApr                                  106.0   \n                            \\nMay                                  116.0   \n\n                                                                                \\\n                                                                                 \n                                                                                 \n                                      Average Assets/Clients - Calculated - RW   \nActual   Final Revised FY15 YearTotal                                 347257.0   \n                            \\nJun                                     512168.0   \n                            \\nJul                                     332079.0   \n                            \\nAug                                     331546.0   \n                            \\nSep                                     328712.0   \n...                                                                        ...   \nForecast 8+4           FY22 \\nJan                                     458842.0   \n                            \\nFeb                                     442305.0   \n                            \\nMar                                     442747.0   \n                            \\nApr                                     442660.0   \n                            \\nMay                                     442143.0   \n\n                                                                              \n                                                                              \n                                                                              \n                                      Average Asset Values - Calculated - RW  \nActual   Final Revised FY15 YearTotal                           2.354451e+10  \n                            \\nJun                               3.404634e+10  \n                            \\nJul                               2.203109e+10  \n                            \\nAug                               2.213668e+10  \n                            \\nSep                               2.217690e+10  \n...                                                                      ...  \nForecast 8+4           FY22 \\nJan                               4.708130e+10  \n                            \\nFeb                               4.568612e+10  \n                            \\nMar                               4.597392e+10  \n                            \\nApr                               4.620799e+10  \n                            \\nMay                               4.649662e+10  \n\n[182 rows x 14 columns]",
      "text/html": "<div>\n<style scoped>\n    .dataframe tbody tr th:only-of-type {\n        vertical-align: middle;\n    }\n\n    .dataframe tbody tr th {\n        vertical-align: top;\n    }\n\n    .dataframe thead tr th {\n        text-align: left;\n    }\n</style>\n<table border=\"1\" class=\"dataframe\">\n  <thead>\n    <tr>\n      <th></th>\n      <th></th>\n      <th></th>\n      <th></th>\n      <th colspan=\"2\" halign=\"left\">Total Activity</th>\n      <th>NaN</th>\n      <th colspan=\"11\" halign=\"left\">Total Activity</th>\n    </tr>\n    <tr>\n      <th></th>\n      <th></th>\n      <th></th>\n      <th></th>\n      <th colspan=\"2\" halign=\"left\">Total 401k Revenue</th>\n      <th>NaN</th>\n      <th colspan=\"11\" halign=\"left\">Total 401k Revenue</th>\n    </tr>\n    <tr>\n      <th></th>\n      <th></th>\n      <th></th>\n      <th></th>\n      <th colspan=\"2\" halign=\"left\">Total Paychex</th>\n      <th>NaN</th>\n      <th>CONSOLIDATED 401K-S125</th>\n      <th colspan=\"10\" halign=\"left\">Total Paychex</th>\n    </tr>\n    <tr>\n      <th></th>\n      <th></th>\n      <th></th>\n      <th></th>\n      <th>Total Service Revenue - RW</th>\n      <th>DIRECT BILL/MONEY MGMT REVENUE - RW</th>\n      <th>*fee revenue</th>\n      <th>Sales - RW</th>\n      <th>Losses - RW</th>\n      <th>Ending Client Base - RW</th>\n      <th>Ending Asset Values - RW</th>\n      <th>Basis Points - RW</th>\n      <th>Basis Points - Solicitor - RW</th>\n      <th>Set Up Rate - Calculated - RW</th>\n      <th>Basis Pts - Calc - RW</th>\n      <th>Maintenance Rate - Calculated - RW</th>\n      <th>Average Assets/Clients - Calculated - RW</th>\n      <th>Average Asset Values - Calculated - RW</th>\n    </tr>\n  </thead>\n  <tbody>\n    <tr>\n      <th rowspan=\"5\" valign=\"top\">Actual</th>\n      <th rowspan=\"5\" valign=\"top\">Final Revised</th>\n      <th rowspan=\"5\" valign=\"top\">FY15</th>\n      <th>YearTotal</th>\n      <td>200963139.0</td>\n      <td>53868722.0</td>\n      <td>147094416.0</td>\n      <td>14400.0</td>\n      <td>-10554.0</td>\n      <td>69512.0</td>\n      <td>2.351929e+10</td>\n      <td>0.0</td>\n      <td>0.0</td>\n      <td>392.0</td>\n      <td>0.0</td>\n      <td>146.0</td>\n      <td>347257.0</td>\n      <td>2.354451e+10</td>\n    </tr>\n    <tr>\n      <th>\\nJun</th>\n      <td>14883414.0</td>\n      <td>4261452.0</td>\n      <td>10621962.0</td>\n      <td>1229.0</td>\n      <td>-575.0</td>\n      <td>66475.0</td>\n      <td>2.219744e+10</td>\n      <td>0.0</td>\n      <td>0.0</td>\n      <td>473.0</td>\n      <td>0.0</td>\n      <td>146.0</td>\n      <td>512168.0</td>\n      <td>3.404634e+10</td>\n    </tr>\n    <tr>\n      <th>\\nJul</th>\n      <td>15071771.0</td>\n      <td>4513388.0</td>\n      <td>10558383.0</td>\n      <td>832.0</td>\n      <td>-956.0</td>\n      <td>66343.0</td>\n      <td>2.186474e+10</td>\n      <td>0.0</td>\n      <td>0.0</td>\n      <td>362.0</td>\n      <td>0.0</td>\n      <td>148.0</td>\n      <td>332079.0</td>\n      <td>2.203109e+10</td>\n    </tr>\n    <tr>\n      <th>\\nAug</th>\n      <td>14783933.0</td>\n      <td>4486437.0</td>\n      <td>10297496.0</td>\n      <td>986.0</td>\n      <td>-550.0</td>\n      <td>66768.0</td>\n      <td>2.240862e+10</td>\n      <td>0.0</td>\n      <td>0.0</td>\n      <td>367.0</td>\n      <td>0.0</td>\n      <td>145.0</td>\n      <td>331546.0</td>\n      <td>2.213668e+10</td>\n    </tr>\n    <tr>\n      <th>\\nSep</th>\n      <td>17075301.0</td>\n      <td>4355892.0</td>\n      <td>12719410.0</td>\n      <td>1326.0</td>\n      <td>-617.0</td>\n      <td>67466.0</td>\n      <td>2.194519e+10</td>\n      <td>0.0</td>\n      <td>0.0</td>\n      <td>379.0</td>\n      <td>0.0</td>\n      <td>142.0</td>\n      <td>328712.0</td>\n      <td>2.217690e+10</td>\n    </tr>\n    <tr>\n      <th>...</th>\n      <th>...</th>\n      <th>...</th>\n      <th>...</th>\n      <td>...</td>\n      <td>...</td>\n      <td>...</td>\n      <td>...</td>\n      <td>...</td>\n      <td>...</td>\n      <td>...</td>\n      <td>...</td>\n      <td>...</td>\n      <td>...</td>\n      <td>...</td>\n      <td>...</td>\n      <td>...</td>\n      <td>...</td>\n    </tr>\n    <tr>\n      <th rowspan=\"5\" valign=\"top\">Forecast</th>\n      <th rowspan=\"5\" valign=\"top\">8+4</th>\n      <th rowspan=\"5\" valign=\"top\">FY22</th>\n      <th>\\nJan</th>\n      <td>25826261.0</td>\n      <td>9956103.0</td>\n      <td>15870158.0</td>\n      <td>3311.0</td>\n      <td>-1351.0</td>\n      <td>102609.0</td>\n      <td>4.551459e+10</td>\n      <td>0.0</td>\n      <td>0.0</td>\n      <td>192.0</td>\n      <td>0.0</td>\n      <td>138.0</td>\n      <td>458842.0</td>\n      <td>4.708130e+10</td>\n    </tr>\n    <tr>\n      <th>\\nFeb</th>\n      <td>24740442.0</td>\n      <td>8475391.0</td>\n      <td>16265051.0</td>\n      <td>1852.0</td>\n      <td>-1170.0</td>\n      <td>103291.0</td>\n      <td>4.585765e+10</td>\n      <td>1.0</td>\n      <td>0.0</td>\n      <td>594.0</td>\n      <td>0.0</td>\n      <td>116.0</td>\n      <td>442305.0</td>\n      <td>4.568612e+10</td>\n    </tr>\n    <tr>\n      <th>\\nMar</th>\n      <td>25937318.0</td>\n      <td>9403945.0</td>\n      <td>16533373.0</td>\n      <td>2097.0</td>\n      <td>-1550.0</td>\n      <td>103838.0</td>\n      <td>4.609019e+10</td>\n      <td>1.0</td>\n      <td>0.0</td>\n      <td>599.0</td>\n      <td>0.0</td>\n      <td>109.0</td>\n      <td>442747.0</td>\n      <td>4.597392e+10</td>\n    </tr>\n    <tr>\n      <th>\\nApr</th>\n      <td>25600810.0</td>\n      <td>9162176.0</td>\n      <td>16438635.0</td>\n      <td>1811.0</td>\n      <td>-1262.0</td>\n      <td>104387.0</td>\n      <td>4.632578e+10</td>\n      <td>1.0</td>\n      <td>0.0</td>\n      <td>577.0</td>\n      <td>0.0</td>\n      <td>106.0</td>\n      <td>442660.0</td>\n      <td>4.620799e+10</td>\n    </tr>\n    <tr>\n      <th>\\nMay</th>\n      <td>26080025.0</td>\n      <td>9516061.0</td>\n      <td>16563964.0</td>\n      <td>2001.0</td>\n      <td>-1226.0</td>\n      <td>105162.0</td>\n      <td>4.666747e+10</td>\n      <td>1.0</td>\n      <td>0.0</td>\n      <td>592.0</td>\n      <td>0.0</td>\n      <td>116.0</td>\n      <td>442143.0</td>\n      <td>4.649662e+10</td>\n    </tr>\n  </tbody>\n</table>\n<p>182 rows × 14 columns</p>\n</div>"
     },
     "execution_count": 148,
     "metadata": {},
     "output_type": "execute_result"
    }
   ],
   "source": [
    "df"
   ],
   "metadata": {
    "collapsed": false,
    "pycharm": {
     "name": "#%%\n"
    }
   }
  },
  {
   "cell_type": "code",
   "execution_count": 149,
   "outputs": [
    {
     "data": {
      "text/plain": "306.22887"
     },
     "execution_count": 149,
     "metadata": {},
     "output_type": "execute_result"
    }
   ],
   "source": [
    "df.loc[(\"Forecast\",\"6+6\",\"FY22\",\"YearTotal\"),\n",
    "         (\"Total Activity\",\"Total 401k Revenue\", \"Total Paychex\", \"Total Service Revenue - RW\")]/1000000"
   ],
   "metadata": {
    "collapsed": false,
    "pycharm": {
     "name": "#%%\n"
    }
   }
  },
  {
   "cell_type": "code",
   "execution_count": 153,
   "outputs": [
    {
     "data": {
      "text/plain": "CONSOLIDATED 401K-S125  Sales - RW                                  2.253900e+04\nTotal Paychex           Average Asset Values - Calculated - RW      4.817152e+10\n                        Average Assets/Clients - Calculated - RW    4.817600e+05\n                        Basis Points - RW                           7.000000e+00\n                        Basis Points - Solicitor - RW              -1.000000e+00\n                        Basis Pts - Calc - RW                       0.000000e+00\n                        DIRECT BILL/MONEY MGMT REVENUE - RW         1.165454e+08\n                        Ending Asset Values - RW                    4.985099e+10\n                        Ending Client Base - RW                     1.045070e+05\n                        Losses - RW                                -1.354400e+04\n                        Maintenance Rate - Calculated - RW          1.200000e+02\n                        Set Up Rate - Calculated - RW               5.380000e+02\n                        Total Service Revenue - RW                  3.062289e+08\nName: (Forecast, 6+6, FY22, YearTotal), dtype: float64"
     },
     "execution_count": 153,
     "metadata": {},
     "output_type": "execute_result"
    }
   ],
   "source": [
    "df.loc[(\"Forecast\",\"6+6\",\"FY22\", \"YearTotal\"),\n",
    "       (\"Total Activity\")].groupby(level=[1,2]).sum()"
   ],
   "metadata": {
    "collapsed": false,
    "pycharm": {
     "name": "#%%\n"
    }
   }
  },
  {
   "cell_type": "code",
   "execution_count": null,
   "outputs": [],
   "source": [],
   "metadata": {
    "collapsed": false,
    "pycharm": {
     "name": "#%%\n"
    }
   }
  },
  {
   "cell_type": "code",
   "execution_count": null,
   "outputs": [],
   "source": [],
   "metadata": {
    "collapsed": false,
    "pycharm": {
     "name": "#%%\n"
    }
   }
  },
  {
   "cell_type": "markdown",
   "source": [
    "# Join Tables"
   ],
   "metadata": {
    "collapsed": false
   }
  },
  {
   "cell_type": "code",
   "execution_count": 145,
   "outputs": [
    {
     "data": {
      "text/plain": "                                                                    0  \\\nActual Final Revised FY15 \\nApr     1500 SP DIRECT                NaN   \n                                    1501 SP Direct GB             NaN   \n                                    1502 SP ETAP                  NaN   \n                                    1504 SP CITIBANK              NaN   \n                                    1506 SP BOP PARTNER           NaN   \n...                                                               ...   \nPlan   Final Revised FY22 YearTotal Prior Year Adjustment         0.0   \n                                    Rochester RSC          74609684.0   \n                                    TOTAL LOGISTICS               0.0   \n                                    TOTAL OPERATIONS CC           0.0   \n                                    Tampa RSC              44055204.0   \n\n                                                                    1   2  \nActual Final Revised FY15 \\nApr     1500 SP DIRECT               0.00 NaN  \n                                    1501 SP Direct GB      2154679.01 NaN  \n                                    1502 SP ETAP            289900.11 NaN  \n                                    1504 SP CITIBANK             0.00 NaN  \n                                    1506 SP BOP PARTNER     140454.76 NaN  \n...                                                               ...  ..  \nPlan   Final Revised FY22 YearTotal Prior Year Adjustment         NaN NaN  \n                                    Rochester RSC                 NaN NaN  \n                                    TOTAL LOGISTICS               NaN NaN  \n                                    TOTAL OPERATIONS CC           NaN NaN  \n                                    Tampa RSC                     NaN NaN  \n\n[8736 rows x 3 columns]",
      "text/html": "<div>\n<style scoped>\n    .dataframe tbody tr th:only-of-type {\n        vertical-align: middle;\n    }\n\n    .dataframe tbody tr th {\n        vertical-align: top;\n    }\n\n    .dataframe thead th {\n        text-align: right;\n    }\n</style>\n<table border=\"1\" class=\"dataframe\">\n  <thead>\n    <tr style=\"text-align: right;\">\n      <th></th>\n      <th></th>\n      <th></th>\n      <th></th>\n      <th></th>\n      <th>0</th>\n      <th>1</th>\n      <th>2</th>\n    </tr>\n  </thead>\n  <tbody>\n    <tr>\n      <th rowspan=\"5\" valign=\"top\">Actual</th>\n      <th rowspan=\"5\" valign=\"top\">Final Revised</th>\n      <th rowspan=\"5\" valign=\"top\">FY15</th>\n      <th rowspan=\"5\" valign=\"top\">\\nApr</th>\n      <th>1500 SP DIRECT</th>\n      <td>NaN</td>\n      <td>0.00</td>\n      <td>NaN</td>\n    </tr>\n    <tr>\n      <th>1501 SP Direct GB</th>\n      <td>NaN</td>\n      <td>2154679.01</td>\n      <td>NaN</td>\n    </tr>\n    <tr>\n      <th>1502 SP ETAP</th>\n      <td>NaN</td>\n      <td>289900.11</td>\n      <td>NaN</td>\n    </tr>\n    <tr>\n      <th>1504 SP CITIBANK</th>\n      <td>NaN</td>\n      <td>0.00</td>\n      <td>NaN</td>\n    </tr>\n    <tr>\n      <th>1506 SP BOP PARTNER</th>\n      <td>NaN</td>\n      <td>140454.76</td>\n      <td>NaN</td>\n    </tr>\n    <tr>\n      <th>...</th>\n      <th>...</th>\n      <th>...</th>\n      <th>...</th>\n      <th>...</th>\n      <td>...</td>\n      <td>...</td>\n      <td>...</td>\n    </tr>\n    <tr>\n      <th rowspan=\"5\" valign=\"top\">Plan</th>\n      <th rowspan=\"5\" valign=\"top\">Final Revised</th>\n      <th rowspan=\"5\" valign=\"top\">FY22</th>\n      <th rowspan=\"5\" valign=\"top\">YearTotal</th>\n      <th>Prior Year Adjustment</th>\n      <td>0.0</td>\n      <td>NaN</td>\n      <td>NaN</td>\n    </tr>\n    <tr>\n      <th>Rochester RSC</th>\n      <td>74609684.0</td>\n      <td>NaN</td>\n      <td>NaN</td>\n    </tr>\n    <tr>\n      <th>TOTAL LOGISTICS</th>\n      <td>0.0</td>\n      <td>NaN</td>\n      <td>NaN</td>\n    </tr>\n    <tr>\n      <th>TOTAL OPERATIONS CC</th>\n      <td>0.0</td>\n      <td>NaN</td>\n      <td>NaN</td>\n    </tr>\n    <tr>\n      <th>Tampa RSC</th>\n      <td>44055204.0</td>\n      <td>NaN</td>\n      <td>NaN</td>\n    </tr>\n  </tbody>\n</table>\n<p>8736 rows × 3 columns</p>\n</div>"
     },
     "execution_count": 145,
     "metadata": {},
     "output_type": "execute_result"
    }
   ],
   "source": [
    "pd.concat([df_11, df_16, df_17], axis=1)\\\n",
    "    .rename(columns={'1': 'Payroll Blende products', '2': 'SurePayrol', '3': 'Total International'})"
   ],
   "metadata": {
    "collapsed": false,
    "pycharm": {
     "name": "#%%\n"
    }
   }
  },
  {
   "cell_type": "code",
   "execution_count": null,
   "outputs": [],
   "source": [],
   "metadata": {
    "collapsed": false,
    "pycharm": {
     "name": "#%%\n"
    }
   }
  }
 ],
 "metadata": {
  "kernelspec": {
   "display_name": "Python 3",
   "language": "python",
   "name": "python3"
  },
  "language_info": {
   "codemirror_mode": {
    "name": "ipython",
    "version": 2
   },
   "file_extension": ".py",
   "mimetype": "text/x-python",
   "name": "python",
   "nbconvert_exporter": "python",
   "pygments_lexer": "ipython2",
   "version": "2.7.6"
  }
 },
 "nbformat": 4,
 "nbformat_minor": 0
}