{
 "cells": [
  {
   "cell_type": "code",
   "execution_count": 6,
   "metadata": {
    "collapsed": true
   },
   "outputs": [],
   "source": [
    "import numpy as np\n",
    "import pandas as pd\n",
    "from io import BytesIO\n",
    "from azure.storage.blob import BlobServiceClient\n",
    "from src.paychex_ml.utils import load_credentials\n",
    "import matplotlib.pyplot as plt"
   ]
  },
  {
   "cell_type": "code",
   "execution_count": 7,
   "outputs": [],
   "source": [
    "credentials = load_credentials(\"blob_storage\",\n",
    "                               file=\"C:/Users/bruno.gonzalez/DataspellProjects/Paychex_revenue_forecast/credentials.yml\")"
   ],
   "metadata": {
    "collapsed": false,
    "pycharm": {
     "name": "#%%\n"
    }
   }
  },
  {
   "cell_type": "code",
   "execution_count": 8,
   "outputs": [],
   "source": [
    "# Start client\n",
    "container_name = \"clean-data\"\n",
    "blob_service_client = BlobServiceClient.from_connection_string(credentials['conn_string'])\n",
    "container_client = blob_service_client.get_container_client(container_name)\n",
    "\n",
    "# Download file\n",
    "file = 'table_predictable.csv'\n",
    "stream_downloader = container_client.download_blob(file)\n",
    "with BytesIO() as stream:\n",
    "    stream_downloader.readinto(stream)\n",
    "    stream.seek(0)\n",
    "    df = pd.read_csv(stream, dtype={'Period':str, 'Calendar Date': str})"
   ],
   "metadata": {
    "collapsed": false,
    "pycharm": {
     "name": "#%%\n"
    }
   }
  },
  {
   "cell_type": "code",
   "execution_count": 10,
   "outputs": [],
   "source": [
    "items = ['401K Asset fee & BP Revenue',\n",
    "         '401K Fee Revenue',\n",
    "         'ASO Allocation',\n",
    "         'ASO Revenue - Oasis',\n",
    "         'Benetrac',\n",
    "         'Cafeteria Plans Revenue',\n",
    "         'Delivery Revenue',\n",
    "         'Emerging Products',\n",
    "         'ESR Revenue',\n",
    "         'Full Service Unemployment Revenue',\n",
    "         'Health Benefits',\n",
    "         'HR Online',\n",
    "         'HR Solutions (PEO)',\n",
    "         'Interest on Funds Held for Clients',\n",
    "         'Other Processing Revenue',\n",
    "         'Payroll blended products',\n",
    "         'SurePayroll.',\n",
    "         'Time & Attendance',\n",
    "         'Total international',\n",
    "         'Total Paychex Advance',\n",
    "         'Total PEO',\n",
    "         'W-2 Revenue',\n",
    "         'Workers Comp - Payment Services'\n",
    "         ]"
   ],
   "metadata": {
    "collapsed": false,
    "pycharm": {
     "name": "#%%\n"
    }
   }
  },
  {
   "cell_type": "code",
   "execution_count": 15,
   "outputs": [],
   "source": [
    "df = df[(df['Scenario']=='Actual')&(df['Item'].isin(items))]\\\n",
    "    .groupby(['Calendar Date', 'Item']).sum()\\\n",
    "    .unstack(level=1)['Value']"
   ],
   "metadata": {
    "collapsed": false,
    "pycharm": {
     "name": "#%%\n"
    }
   }
  },
  {
   "cell_type": "code",
   "execution_count": 16,
   "outputs": [
    {
     "data": {
      "text/plain": "Item           401K Asset fee & BP Revenue  401K Fee Revenue  ASO Allocation  \\\nCalendar Date                                                                  \n20140601                         4261452.0        10621963.0      7255027.55   \n20140701                         4513388.0        10558382.0      9070820.80   \n20140801                         4486436.0        10297495.0      7489159.50   \n20140901                         4355891.0        12719409.0      7011292.24   \n20141001                         4455231.0        13797724.0      9372927.59   \n\nItem           ASO Revenue - Oasis   Benetrac  Cafeteria Plans Revenue  \\\nCalendar Date                                                            \n20140601                       0.0  1922941.0                1714950.0   \n20140701                       0.0  1916579.0                1698495.0   \n20140801                       0.0  1944830.0                1829118.0   \n20140901                       0.0  1933042.0                1710602.0   \n20141001                       0.0  1956820.0                1702224.0   \n\nItem           Delivery Revenue  ESR Revenue  Emerging Products  \\\nCalendar Date                                                     \n20140601             7393351.97      47602.0           796063.0   \n20140701            13513741.18      67521.0           986955.0   \n20140801             7286966.62      79771.0           924689.0   \n20140901             7081861.96     105330.0           732444.0   \n20141001            13741077.44     143956.0          1051920.0   \n\nItem           Full Service Unemployment Revenue  ...  \\\nCalendar Date                                     ...   \n20140601                               1869396.0  ...   \n20140701                               2341533.0  ...   \n20140801                               1986835.0  ...   \n20140901                               1888067.0  ...   \n20141001                               2491011.0  ...   \n\nItem           Interest on Funds Held for Clients  Other Processing Revenue  \\\nCalendar Date                                                                 \n20140601                                3308154.0                4765775.19   \n20140701                                3466375.0                6502729.54   \n20140801                                3434419.0                4215268.17   \n20140901                                3419918.0                4726806.24   \n20141001                                3472038.0                6514037.07   \n\nItem           Payroll blended products  SurePayroll.  Time & Attendance  \\\nCalendar Date                                                              \n20140601                     99633512.0    3246967.02          4651817.0   \n20140701                    121619696.0    3362473.02          5165885.0   \n20140801                     99472483.0    3286111.93          4856677.0   \n20140901                     94198230.0    3345328.53          5098280.0   \n20141001                    124353873.0    3402641.78          5188982.0   \n\nItem            Total PEO  Total Paychex Advance  Total international  \\\nCalendar Date                                                           \n20140601       12948696.0                    0.0                  0.0   \n20140701       14670286.0                    0.0                  0.0   \n20140801       14606689.0                    0.0                  0.0   \n20140901       14456325.0                    0.0                  0.0   \n20141001       14544813.0                    0.0                  0.0   \n\nItem           W-2 Revenue  Workers Comp - Payment Services  \nCalendar Date                                                \n20140601        7031234.09                        4858397.0  \n20140701        7325377.82                        5244318.0  \n20140801        7443620.46                        5588578.0  \n20140901        7414842.11                        4968759.0  \n20141001        7818212.35                        5752070.0  \n\n[5 rows x 23 columns]",
      "text/html": "<div>\n<style scoped>\n    .dataframe tbody tr th:only-of-type {\n        vertical-align: middle;\n    }\n\n    .dataframe tbody tr th {\n        vertical-align: top;\n    }\n\n    .dataframe thead th {\n        text-align: right;\n    }\n</style>\n<table border=\"1\" class=\"dataframe\">\n  <thead>\n    <tr style=\"text-align: right;\">\n      <th>Item</th>\n      <th>401K Asset fee &amp; BP Revenue</th>\n      <th>401K Fee Revenue</th>\n      <th>ASO Allocation</th>\n      <th>ASO Revenue - Oasis</th>\n      <th>Benetrac</th>\n      <th>Cafeteria Plans Revenue</th>\n      <th>Delivery Revenue</th>\n      <th>ESR Revenue</th>\n      <th>Emerging Products</th>\n      <th>Full Service Unemployment Revenue</th>\n      <th>...</th>\n      <th>Interest on Funds Held for Clients</th>\n      <th>Other Processing Revenue</th>\n      <th>Payroll blended products</th>\n      <th>SurePayroll.</th>\n      <th>Time &amp; Attendance</th>\n      <th>Total PEO</th>\n      <th>Total Paychex Advance</th>\n      <th>Total international</th>\n      <th>W-2 Revenue</th>\n      <th>Workers Comp - Payment Services</th>\n    </tr>\n    <tr>\n      <th>Calendar Date</th>\n      <th></th>\n      <th></th>\n      <th></th>\n      <th></th>\n      <th></th>\n      <th></th>\n      <th></th>\n      <th></th>\n      <th></th>\n      <th></th>\n      <th></th>\n      <th></th>\n      <th></th>\n      <th></th>\n      <th></th>\n      <th></th>\n      <th></th>\n      <th></th>\n      <th></th>\n      <th></th>\n      <th></th>\n    </tr>\n  </thead>\n  <tbody>\n    <tr>\n      <th>20140601</th>\n      <td>4261452.0</td>\n      <td>10621963.0</td>\n      <td>7255027.55</td>\n      <td>0.0</td>\n      <td>1922941.0</td>\n      <td>1714950.0</td>\n      <td>7393351.97</td>\n      <td>47602.0</td>\n      <td>796063.0</td>\n      <td>1869396.0</td>\n      <td>...</td>\n      <td>3308154.0</td>\n      <td>4765775.19</td>\n      <td>99633512.0</td>\n      <td>3246967.02</td>\n      <td>4651817.0</td>\n      <td>12948696.0</td>\n      <td>0.0</td>\n      <td>0.0</td>\n      <td>7031234.09</td>\n      <td>4858397.0</td>\n    </tr>\n    <tr>\n      <th>20140701</th>\n      <td>4513388.0</td>\n      <td>10558382.0</td>\n      <td>9070820.80</td>\n      <td>0.0</td>\n      <td>1916579.0</td>\n      <td>1698495.0</td>\n      <td>13513741.18</td>\n      <td>67521.0</td>\n      <td>986955.0</td>\n      <td>2341533.0</td>\n      <td>...</td>\n      <td>3466375.0</td>\n      <td>6502729.54</td>\n      <td>121619696.0</td>\n      <td>3362473.02</td>\n      <td>5165885.0</td>\n      <td>14670286.0</td>\n      <td>0.0</td>\n      <td>0.0</td>\n      <td>7325377.82</td>\n      <td>5244318.0</td>\n    </tr>\n    <tr>\n      <th>20140801</th>\n      <td>4486436.0</td>\n      <td>10297495.0</td>\n      <td>7489159.50</td>\n      <td>0.0</td>\n      <td>1944830.0</td>\n      <td>1829118.0</td>\n      <td>7286966.62</td>\n      <td>79771.0</td>\n      <td>924689.0</td>\n      <td>1986835.0</td>\n      <td>...</td>\n      <td>3434419.0</td>\n      <td>4215268.17</td>\n      <td>99472483.0</td>\n      <td>3286111.93</td>\n      <td>4856677.0</td>\n      <td>14606689.0</td>\n      <td>0.0</td>\n      <td>0.0</td>\n      <td>7443620.46</td>\n      <td>5588578.0</td>\n    </tr>\n    <tr>\n      <th>20140901</th>\n      <td>4355891.0</td>\n      <td>12719409.0</td>\n      <td>7011292.24</td>\n      <td>0.0</td>\n      <td>1933042.0</td>\n      <td>1710602.0</td>\n      <td>7081861.96</td>\n      <td>105330.0</td>\n      <td>732444.0</td>\n      <td>1888067.0</td>\n      <td>...</td>\n      <td>3419918.0</td>\n      <td>4726806.24</td>\n      <td>94198230.0</td>\n      <td>3345328.53</td>\n      <td>5098280.0</td>\n      <td>14456325.0</td>\n      <td>0.0</td>\n      <td>0.0</td>\n      <td>7414842.11</td>\n      <td>4968759.0</td>\n    </tr>\n    <tr>\n      <th>20141001</th>\n      <td>4455231.0</td>\n      <td>13797724.0</td>\n      <td>9372927.59</td>\n      <td>0.0</td>\n      <td>1956820.0</td>\n      <td>1702224.0</td>\n      <td>13741077.44</td>\n      <td>143956.0</td>\n      <td>1051920.0</td>\n      <td>2491011.0</td>\n      <td>...</td>\n      <td>3472038.0</td>\n      <td>6514037.07</td>\n      <td>124353873.0</td>\n      <td>3402641.78</td>\n      <td>5188982.0</td>\n      <td>14544813.0</td>\n      <td>0.0</td>\n      <td>0.0</td>\n      <td>7818212.35</td>\n      <td>5752070.0</td>\n    </tr>\n  </tbody>\n</table>\n<p>5 rows × 23 columns</p>\n</div>"
     },
     "execution_count": 16,
     "metadata": {},
     "output_type": "execute_result"
    }
   ],
   "source": [
    "df.head()"
   ],
   "metadata": {
    "collapsed": false,
    "pycharm": {
     "name": "#%%\n"
    }
   }
  },
  {
   "cell_type": "code",
   "execution_count": 13,
   "outputs": [],
   "source": [
    "df_external = pd.read_feather(\"ext_var_sel.feather\").set_index('date')"
   ],
   "metadata": {
    "collapsed": false,
    "pycharm": {
     "name": "#%%\n"
    }
   }
  },
  {
   "cell_type": "markdown",
   "source": [
    "# Model 401k Asset fee"
   ],
   "metadata": {
    "collapsed": false
   }
  },
  {
   "cell_type": "code",
   "execution_count": 17,
   "outputs": [],
   "source": [
    "item = '401K Asset fee & BP Revenue'\n",
    "df_item = df[item]"
   ],
   "metadata": {
    "collapsed": false,
    "pycharm": {
     "name": "#%%\n"
    }
   }
  },
  {
   "cell_type": "code",
   "execution_count": 18,
   "outputs": [
    {
     "data": {
      "text/plain": "Calendar Date\n20140601    4261452.0\n20140701    4513388.0\n20140801    4486436.0\n20140901    4355891.0\n20141001    4455231.0\n              ...    \n20210101    8601656.0\n20210201    8798633.0\n20210301    9014864.0\n20210401    8986182.0\n20210501    9447456.0\nName: 401K Asset fee & BP Revenue, Length: 84, dtype: float64"
     },
     "execution_count": 18,
     "metadata": {},
     "output_type": "execute_result"
    }
   ],
   "source": [
    "df_item"
   ],
   "metadata": {
    "collapsed": false,
    "pycharm": {
     "name": "#%%\n"
    }
   }
  },
  {
   "cell_type": "markdown",
   "source": [],
   "metadata": {
    "collapsed": false
   }
  },
  {
   "cell_type": "code",
   "execution_count": 145,
   "outputs": [],
   "source": [
    "def rename_sufix(df, sufix=\"_last\"):\n",
    "\n",
    "    d = dict(zip(df.columns, df.columns.map(lambda x: x  +sufix)))\n",
    "    return d"
   ],
   "metadata": {
    "collapsed": false,
    "pycharm": {
     "name": "#%%\n"
    }
   }
  },
  {
   "cell_type": "code",
   "execution_count": 147,
   "outputs": [
    {
     "data": {
      "text/plain": "          PSAVERT_last     FYFR_last   FYONET_last    FYFSD_last  \\\ndate                                                               \n20140601           NaN           NaN           NaN           NaN   \n20140701           7.1  2.959388e+06  3.493328e+06 -5.339391e+05   \n20140801           7.2  2.979639e+06  3.497553e+06 -5.179132e+05   \n20140901           7.0  3.000565e+06  3.501918e+06 -5.013531e+05   \n20141001           7.2  3.021491e+06  3.506284e+06 -4.847930e+05   \n...                ...           ...           ...           ...   \n20210101          14.0  3.577222e+06  6.620630e+06 -3.043408e+06   \n20210201          19.9  3.630385e+06  6.643464e+06 -3.013079e+06   \n20210301          13.5  3.683548e+06  6.666297e+06 -2.982750e+06   \n20210401          26.6  3.731566e+06  6.686921e+06 -2.955356e+06   \n20210501          12.6  3.784728e+06  6.709755e+06 -2.925026e+06   \n\n          CIVPART_last  INDPRO_last  ALTSALES_last  DGORDER_last      CP_last  \\\ndate                                                                            \n20140601           NaN          NaN            NaN           NaN          NaN   \n20140701          62.8     102.5722         17.125      239998.0  1900.418780   \n20140801          62.9     102.8479         16.851      304221.0  1917.769000   \n20140901          62.9     102.6491         16.808      235113.0  1904.742261   \n20141001          62.8     102.9858         16.527      240539.0  1891.715522   \n...                ...          ...            ...           ...          ...   \n20210101          61.5      98.2854         16.309      237428.0  2299.145000   \n20210201          61.4      99.4076         16.779      243160.0  2367.593000   \n20210301          61.5      96.3966         15.932      246261.0  2478.777944   \n20210401          61.5      99.1618         17.641      249467.0  2579.203056   \n20210501          61.7      99.2416         18.297      247644.0  2690.388000   \n\n          HOUST_last  PERMIT_last  GASREGW_last  MHHNGSP_last  VIXCLS_last  \\\ndate                                                                         \n20140601         NaN          NaN           NaN           NaN          NaN   \n20140701       911.0       1010.0       3.69160          4.59    11.541429   \n20140801      1085.0       1076.0       3.61125          4.05    12.296364   \n20140901       984.0       1047.0       3.48650          3.91    13.491905   \n20141001      1023.0       1077.0       3.40620          3.92    13.466667   \n...              ...          ...           ...           ...          ...   \n20210101      1661.0       1758.0       2.19525          2.59    22.374091   \n20210201      1625.0       1883.0       2.33425          2.71    24.910000   \n20210301      1447.0       1726.0       2.50100          5.35    23.140526   \n20210401      1725.0       1755.0       2.81040          2.62    21.843043   \n20210501      1514.0       1733.0       2.85825          2.66    17.416190   \n\n          STLFSI2_last  WBAA_last  MORTGAGE15US_last  DEXUSEU_last  \\\ndate                                                                 \n20140601           NaN        NaN                NaN           NaN   \n20140701     -0.884450     4.8025             3.2650      1.359486   \n20140801     -0.789300     4.7400             3.2360      1.353336   \n20140901     -0.699140     4.6940             3.2475      1.331524   \n20141001     -0.599750     4.7975             3.3075      1.288910   \n...                ...        ...                ...           ...   \n20210101     -0.577075     3.1675             2.2180      1.216800   \n20210201     -0.634300     3.2240             2.2000      1.217767   \n20210301     -0.744350     3.4200             2.2375      1.209395   \n20210401     -0.631475     3.7375             2.3925      1.190161   \n20210501     -0.841300     3.6300             2.3640      1.196541   \n\n          DEXCHUS_last  DEXCAUS_last  \ndate                                  \n20140601           NaN           NaN  \n20140701      6.230605      1.083038  \n20140801      6.198436      1.073918  \n20140901      6.154129      1.092633  \n20141001      6.138229      1.101052  \n...                ...           ...  \n20210101      6.539295      1.280919  \n20210201      6.467178      1.272461  \n20210301      6.460058      1.269647  \n20210401      6.510861      1.256896  \n20210501      6.518641      1.249445  \n\n[84 rows x 20 columns]",
      "text/html": "<div>\n<style scoped>\n    .dataframe tbody tr th:only-of-type {\n        vertical-align: middle;\n    }\n\n    .dataframe tbody tr th {\n        vertical-align: top;\n    }\n\n    .dataframe thead th {\n        text-align: right;\n    }\n</style>\n<table border=\"1\" class=\"dataframe\">\n  <thead>\n    <tr style=\"text-align: right;\">\n      <th></th>\n      <th>PSAVERT_last</th>\n      <th>FYFR_last</th>\n      <th>FYONET_last</th>\n      <th>FYFSD_last</th>\n      <th>CIVPART_last</th>\n      <th>INDPRO_last</th>\n      <th>ALTSALES_last</th>\n      <th>DGORDER_last</th>\n      <th>CP_last</th>\n      <th>HOUST_last</th>\n      <th>PERMIT_last</th>\n      <th>GASREGW_last</th>\n      <th>MHHNGSP_last</th>\n      <th>VIXCLS_last</th>\n      <th>STLFSI2_last</th>\n      <th>WBAA_last</th>\n      <th>MORTGAGE15US_last</th>\n      <th>DEXUSEU_last</th>\n      <th>DEXCHUS_last</th>\n      <th>DEXCAUS_last</th>\n    </tr>\n    <tr>\n      <th>date</th>\n      <th></th>\n      <th></th>\n      <th></th>\n      <th></th>\n      <th></th>\n      <th></th>\n      <th></th>\n      <th></th>\n      <th></th>\n      <th></th>\n      <th></th>\n      <th></th>\n      <th></th>\n      <th></th>\n      <th></th>\n      <th></th>\n      <th></th>\n      <th></th>\n      <th></th>\n      <th></th>\n    </tr>\n  </thead>\n  <tbody>\n    <tr>\n      <th>20140601</th>\n      <td>NaN</td>\n      <td>NaN</td>\n      <td>NaN</td>\n      <td>NaN</td>\n      <td>NaN</td>\n      <td>NaN</td>\n      <td>NaN</td>\n      <td>NaN</td>\n      <td>NaN</td>\n      <td>NaN</td>\n      <td>NaN</td>\n      <td>NaN</td>\n      <td>NaN</td>\n      <td>NaN</td>\n      <td>NaN</td>\n      <td>NaN</td>\n      <td>NaN</td>\n      <td>NaN</td>\n      <td>NaN</td>\n      <td>NaN</td>\n    </tr>\n    <tr>\n      <th>20140701</th>\n      <td>7.1</td>\n      <td>2.959388e+06</td>\n      <td>3.493328e+06</td>\n      <td>-5.339391e+05</td>\n      <td>62.8</td>\n      <td>102.5722</td>\n      <td>17.125</td>\n      <td>239998.0</td>\n      <td>1900.418780</td>\n      <td>911.0</td>\n      <td>1010.0</td>\n      <td>3.69160</td>\n      <td>4.59</td>\n      <td>11.541429</td>\n      <td>-0.884450</td>\n      <td>4.8025</td>\n      <td>3.2650</td>\n      <td>1.359486</td>\n      <td>6.230605</td>\n      <td>1.083038</td>\n    </tr>\n    <tr>\n      <th>20140801</th>\n      <td>7.2</td>\n      <td>2.979639e+06</td>\n      <td>3.497553e+06</td>\n      <td>-5.179132e+05</td>\n      <td>62.9</td>\n      <td>102.8479</td>\n      <td>16.851</td>\n      <td>304221.0</td>\n      <td>1917.769000</td>\n      <td>1085.0</td>\n      <td>1076.0</td>\n      <td>3.61125</td>\n      <td>4.05</td>\n      <td>12.296364</td>\n      <td>-0.789300</td>\n      <td>4.7400</td>\n      <td>3.2360</td>\n      <td>1.353336</td>\n      <td>6.198436</td>\n      <td>1.073918</td>\n    </tr>\n    <tr>\n      <th>20140901</th>\n      <td>7.0</td>\n      <td>3.000565e+06</td>\n      <td>3.501918e+06</td>\n      <td>-5.013531e+05</td>\n      <td>62.9</td>\n      <td>102.6491</td>\n      <td>16.808</td>\n      <td>235113.0</td>\n      <td>1904.742261</td>\n      <td>984.0</td>\n      <td>1047.0</td>\n      <td>3.48650</td>\n      <td>3.91</td>\n      <td>13.491905</td>\n      <td>-0.699140</td>\n      <td>4.6940</td>\n      <td>3.2475</td>\n      <td>1.331524</td>\n      <td>6.154129</td>\n      <td>1.092633</td>\n    </tr>\n    <tr>\n      <th>20141001</th>\n      <td>7.2</td>\n      <td>3.021491e+06</td>\n      <td>3.506284e+06</td>\n      <td>-4.847930e+05</td>\n      <td>62.8</td>\n      <td>102.9858</td>\n      <td>16.527</td>\n      <td>240539.0</td>\n      <td>1891.715522</td>\n      <td>1023.0</td>\n      <td>1077.0</td>\n      <td>3.40620</td>\n      <td>3.92</td>\n      <td>13.466667</td>\n      <td>-0.599750</td>\n      <td>4.7975</td>\n      <td>3.3075</td>\n      <td>1.288910</td>\n      <td>6.138229</td>\n      <td>1.101052</td>\n    </tr>\n    <tr>\n      <th>...</th>\n      <td>...</td>\n      <td>...</td>\n      <td>...</td>\n      <td>...</td>\n      <td>...</td>\n      <td>...</td>\n      <td>...</td>\n      <td>...</td>\n      <td>...</td>\n      <td>...</td>\n      <td>...</td>\n      <td>...</td>\n      <td>...</td>\n      <td>...</td>\n      <td>...</td>\n      <td>...</td>\n      <td>...</td>\n      <td>...</td>\n      <td>...</td>\n      <td>...</td>\n    </tr>\n    <tr>\n      <th>20210101</th>\n      <td>14.0</td>\n      <td>3.577222e+06</td>\n      <td>6.620630e+06</td>\n      <td>-3.043408e+06</td>\n      <td>61.5</td>\n      <td>98.2854</td>\n      <td>16.309</td>\n      <td>237428.0</td>\n      <td>2299.145000</td>\n      <td>1661.0</td>\n      <td>1758.0</td>\n      <td>2.19525</td>\n      <td>2.59</td>\n      <td>22.374091</td>\n      <td>-0.577075</td>\n      <td>3.1675</td>\n      <td>2.2180</td>\n      <td>1.216800</td>\n      <td>6.539295</td>\n      <td>1.280919</td>\n    </tr>\n    <tr>\n      <th>20210201</th>\n      <td>19.9</td>\n      <td>3.630385e+06</td>\n      <td>6.643464e+06</td>\n      <td>-3.013079e+06</td>\n      <td>61.4</td>\n      <td>99.4076</td>\n      <td>16.779</td>\n      <td>243160.0</td>\n      <td>2367.593000</td>\n      <td>1625.0</td>\n      <td>1883.0</td>\n      <td>2.33425</td>\n      <td>2.71</td>\n      <td>24.910000</td>\n      <td>-0.634300</td>\n      <td>3.2240</td>\n      <td>2.2000</td>\n      <td>1.217767</td>\n      <td>6.467178</td>\n      <td>1.272461</td>\n    </tr>\n    <tr>\n      <th>20210301</th>\n      <td>13.5</td>\n      <td>3.683548e+06</td>\n      <td>6.666297e+06</td>\n      <td>-2.982750e+06</td>\n      <td>61.5</td>\n      <td>96.3966</td>\n      <td>15.932</td>\n      <td>246261.0</td>\n      <td>2478.777944</td>\n      <td>1447.0</td>\n      <td>1726.0</td>\n      <td>2.50100</td>\n      <td>5.35</td>\n      <td>23.140526</td>\n      <td>-0.744350</td>\n      <td>3.4200</td>\n      <td>2.2375</td>\n      <td>1.209395</td>\n      <td>6.460058</td>\n      <td>1.269647</td>\n    </tr>\n    <tr>\n      <th>20210401</th>\n      <td>26.6</td>\n      <td>3.731566e+06</td>\n      <td>6.686921e+06</td>\n      <td>-2.955356e+06</td>\n      <td>61.5</td>\n      <td>99.1618</td>\n      <td>17.641</td>\n      <td>249467.0</td>\n      <td>2579.203056</td>\n      <td>1725.0</td>\n      <td>1755.0</td>\n      <td>2.81040</td>\n      <td>2.62</td>\n      <td>21.843043</td>\n      <td>-0.631475</td>\n      <td>3.7375</td>\n      <td>2.3925</td>\n      <td>1.190161</td>\n      <td>6.510861</td>\n      <td>1.256896</td>\n    </tr>\n    <tr>\n      <th>20210501</th>\n      <td>12.6</td>\n      <td>3.784728e+06</td>\n      <td>6.709755e+06</td>\n      <td>-2.925026e+06</td>\n      <td>61.7</td>\n      <td>99.2416</td>\n      <td>18.297</td>\n      <td>247644.0</td>\n      <td>2690.388000</td>\n      <td>1514.0</td>\n      <td>1733.0</td>\n      <td>2.85825</td>\n      <td>2.66</td>\n      <td>17.416190</td>\n      <td>-0.841300</td>\n      <td>3.6300</td>\n      <td>2.3640</td>\n      <td>1.196541</td>\n      <td>6.518641</td>\n      <td>1.249445</td>\n    </tr>\n  </tbody>\n</table>\n<p>84 rows × 20 columns</p>\n</div>"
     },
     "execution_count": 147,
     "metadata": {},
     "output_type": "execute_result"
    }
   ],
   "source": [
    "df_external.shift(1).rename(columns=rename_sufix(df_external, \"_last\"))"
   ],
   "metadata": {
    "collapsed": false,
    "pycharm": {
     "name": "#%%\n"
    }
   }
  },
  {
   "cell_type": "code",
   "execution_count": 148,
   "outputs": [
    {
     "data": {
      "text/plain": "               last       t-12  PSAVERT_last     FYFR_last   FYONET_last  \\\n20150601  4845898.0  4261452.0           7.5  3.172923e+06  3.629317e+06   \n20150701  4676384.0  4513388.0           7.4  3.192321e+06  3.645077e+06   \n20150801  4844667.0  4486436.0           7.3  3.211093e+06  3.660329e+06   \n20150901  4651703.0  4355891.0           7.3  3.230492e+06  3.676090e+06   \n20151001  5014236.0  4455231.0           7.4  3.249890e+06  3.691850e+06   \n...             ...        ...           ...           ...           ...   \n20210101  8482353.0  7587396.0          14.0  3.577222e+06  6.620630e+06   \n20210201  8601656.0  7521580.0          19.9  3.630385e+06  6.643464e+06   \n20210301  8798633.0  6995226.0          13.5  3.683548e+06  6.666297e+06   \n20210401  9014864.0  6409987.0          26.6  3.731566e+06  6.686921e+06   \n20210501  8986182.0  8237881.0          12.6  3.784728e+06  6.709755e+06   \n\n            FYFSD_last  CIVPART_last  INDPRO_last  ALTSALES_last  \\\n20150601 -4.563941e+05          62.9     100.8408         17.488   \n20150701 -4.527563e+05          62.7     100.5063         17.401   \n20150801 -4.492357e+05          62.6     101.1831         17.827   \n20150901 -4.455979e+05          62.6     100.9115         17.940   \n20151001 -4.419600e+05          62.4     100.5680         17.833   \n...                ...           ...          ...            ...   \n20210101 -3.043408e+06          61.5      98.2854         16.309   \n20210201 -3.013079e+06          61.4      99.4076         16.779   \n20210301 -2.982750e+06          61.5      96.3966         15.932   \n20210401 -2.955356e+06          61.5      99.1618         17.641   \n20210501 -2.925026e+06          61.7      99.2416         18.297   \n\n          DGORDER_last  ...  PERMIT_last  GASREGW_last  MHHNGSP_last  \\\n20150601      214062.0  ...       1272.0       2.71825          2.85   \n20150701      235097.0  ...       1379.0       2.80160          2.78   \n20150801      228622.0  ...       1140.0       2.79350          2.84   \n20150901      224197.0  ...       1165.0       2.63620          2.77   \n20151001      218491.0  ...       1144.0       2.36525          2.66   \n...                ...  ...          ...           ...           ...   \n20210101      237428.0  ...       1758.0       2.19525          2.59   \n20210201      243160.0  ...       1883.0       2.33425          2.71   \n20210301      246261.0  ...       1726.0       2.50100          5.35   \n20210401      249467.0  ...       1755.0       2.81040          2.62   \n20210501      247644.0  ...       1733.0       2.85825          2.66   \n\n          VIXCLS_last  STLFSI2_last  WBAA_last  MORTGAGE15US_last  \\\n20150601    13.338500     -0.359080     4.8380             3.0625   \n20150701    14.339545     -0.281175     5.1225             3.1925   \n20150801    14.352273     -0.170460     5.2000             3.2140   \n20150901    19.428095      0.099825     5.1775             3.1275   \n20151001    24.377143      0.201325     5.3425             3.0950   \n...               ...           ...        ...                ...   \n20210101    22.374091     -0.577075     3.1675             2.2180   \n20210201    24.910000     -0.634300     3.2240             2.2000   \n20210301    23.140526     -0.744350     3.4200             2.2375   \n20210401    21.843043     -0.631475     3.7375             2.3925   \n20210501    17.416190     -0.841300     3.6300             2.3640   \n\n          DEXUSEU_last  DEXCHUS_last  DEXCAUS_last  \n20150601      1.116735      6.203450      1.217640  \n20150701      1.122559      6.205200      1.236495  \n20150801      1.099741      6.208450      1.286314  \n20150901      1.113614      6.338252      1.314724  \n20151001      1.122852      6.367605      1.326581  \n...                ...           ...           ...  \n20210101      1.216800      6.539295      1.280919  \n20210201      1.217767      6.467178      1.272461  \n20210301      1.209395      6.460058      1.269647  \n20210401      1.190161      6.510861      1.256896  \n20210501      1.196541      6.518641      1.249445  \n\n[72 rows x 22 columns]",
      "text/html": "<div>\n<style scoped>\n    .dataframe tbody tr th:only-of-type {\n        vertical-align: middle;\n    }\n\n    .dataframe tbody tr th {\n        vertical-align: top;\n    }\n\n    .dataframe thead th {\n        text-align: right;\n    }\n</style>\n<table border=\"1\" class=\"dataframe\">\n  <thead>\n    <tr style=\"text-align: right;\">\n      <th></th>\n      <th>last</th>\n      <th>t-12</th>\n      <th>PSAVERT_last</th>\n      <th>FYFR_last</th>\n      <th>FYONET_last</th>\n      <th>FYFSD_last</th>\n      <th>CIVPART_last</th>\n      <th>INDPRO_last</th>\n      <th>ALTSALES_last</th>\n      <th>DGORDER_last</th>\n      <th>...</th>\n      <th>PERMIT_last</th>\n      <th>GASREGW_last</th>\n      <th>MHHNGSP_last</th>\n      <th>VIXCLS_last</th>\n      <th>STLFSI2_last</th>\n      <th>WBAA_last</th>\n      <th>MORTGAGE15US_last</th>\n      <th>DEXUSEU_last</th>\n      <th>DEXCHUS_last</th>\n      <th>DEXCAUS_last</th>\n    </tr>\n  </thead>\n  <tbody>\n    <tr>\n      <th>20150601</th>\n      <td>4845898.0</td>\n      <td>4261452.0</td>\n      <td>7.5</td>\n      <td>3.172923e+06</td>\n      <td>3.629317e+06</td>\n      <td>-4.563941e+05</td>\n      <td>62.9</td>\n      <td>100.8408</td>\n      <td>17.488</td>\n      <td>214062.0</td>\n      <td>...</td>\n      <td>1272.0</td>\n      <td>2.71825</td>\n      <td>2.85</td>\n      <td>13.338500</td>\n      <td>-0.359080</td>\n      <td>4.8380</td>\n      <td>3.0625</td>\n      <td>1.116735</td>\n      <td>6.203450</td>\n      <td>1.217640</td>\n    </tr>\n    <tr>\n      <th>20150701</th>\n      <td>4676384.0</td>\n      <td>4513388.0</td>\n      <td>7.4</td>\n      <td>3.192321e+06</td>\n      <td>3.645077e+06</td>\n      <td>-4.527563e+05</td>\n      <td>62.7</td>\n      <td>100.5063</td>\n      <td>17.401</td>\n      <td>235097.0</td>\n      <td>...</td>\n      <td>1379.0</td>\n      <td>2.80160</td>\n      <td>2.78</td>\n      <td>14.339545</td>\n      <td>-0.281175</td>\n      <td>5.1225</td>\n      <td>3.1925</td>\n      <td>1.122559</td>\n      <td>6.205200</td>\n      <td>1.236495</td>\n    </tr>\n    <tr>\n      <th>20150801</th>\n      <td>4844667.0</td>\n      <td>4486436.0</td>\n      <td>7.3</td>\n      <td>3.211093e+06</td>\n      <td>3.660329e+06</td>\n      <td>-4.492357e+05</td>\n      <td>62.6</td>\n      <td>101.1831</td>\n      <td>17.827</td>\n      <td>228622.0</td>\n      <td>...</td>\n      <td>1140.0</td>\n      <td>2.79350</td>\n      <td>2.84</td>\n      <td>14.352273</td>\n      <td>-0.170460</td>\n      <td>5.2000</td>\n      <td>3.2140</td>\n      <td>1.099741</td>\n      <td>6.208450</td>\n      <td>1.286314</td>\n    </tr>\n    <tr>\n      <th>20150901</th>\n      <td>4651703.0</td>\n      <td>4355891.0</td>\n      <td>7.3</td>\n      <td>3.230492e+06</td>\n      <td>3.676090e+06</td>\n      <td>-4.455979e+05</td>\n      <td>62.6</td>\n      <td>100.9115</td>\n      <td>17.940</td>\n      <td>224197.0</td>\n      <td>...</td>\n      <td>1165.0</td>\n      <td>2.63620</td>\n      <td>2.77</td>\n      <td>19.428095</td>\n      <td>0.099825</td>\n      <td>5.1775</td>\n      <td>3.1275</td>\n      <td>1.113614</td>\n      <td>6.338252</td>\n      <td>1.314724</td>\n    </tr>\n    <tr>\n      <th>20151001</th>\n      <td>5014236.0</td>\n      <td>4455231.0</td>\n      <td>7.4</td>\n      <td>3.249890e+06</td>\n      <td>3.691850e+06</td>\n      <td>-4.419600e+05</td>\n      <td>62.4</td>\n      <td>100.5680</td>\n      <td>17.833</td>\n      <td>218491.0</td>\n      <td>...</td>\n      <td>1144.0</td>\n      <td>2.36525</td>\n      <td>2.66</td>\n      <td>24.377143</td>\n      <td>0.201325</td>\n      <td>5.3425</td>\n      <td>3.0950</td>\n      <td>1.122852</td>\n      <td>6.367605</td>\n      <td>1.326581</td>\n    </tr>\n    <tr>\n      <th>...</th>\n      <td>...</td>\n      <td>...</td>\n      <td>...</td>\n      <td>...</td>\n      <td>...</td>\n      <td>...</td>\n      <td>...</td>\n      <td>...</td>\n      <td>...</td>\n      <td>...</td>\n      <td>...</td>\n      <td>...</td>\n      <td>...</td>\n      <td>...</td>\n      <td>...</td>\n      <td>...</td>\n      <td>...</td>\n      <td>...</td>\n      <td>...</td>\n      <td>...</td>\n      <td>...</td>\n    </tr>\n    <tr>\n      <th>20210101</th>\n      <td>8482353.0</td>\n      <td>7587396.0</td>\n      <td>14.0</td>\n      <td>3.577222e+06</td>\n      <td>6.620630e+06</td>\n      <td>-3.043408e+06</td>\n      <td>61.5</td>\n      <td>98.2854</td>\n      <td>16.309</td>\n      <td>237428.0</td>\n      <td>...</td>\n      <td>1758.0</td>\n      <td>2.19525</td>\n      <td>2.59</td>\n      <td>22.374091</td>\n      <td>-0.577075</td>\n      <td>3.1675</td>\n      <td>2.2180</td>\n      <td>1.216800</td>\n      <td>6.539295</td>\n      <td>1.280919</td>\n    </tr>\n    <tr>\n      <th>20210201</th>\n      <td>8601656.0</td>\n      <td>7521580.0</td>\n      <td>19.9</td>\n      <td>3.630385e+06</td>\n      <td>6.643464e+06</td>\n      <td>-3.013079e+06</td>\n      <td>61.4</td>\n      <td>99.4076</td>\n      <td>16.779</td>\n      <td>243160.0</td>\n      <td>...</td>\n      <td>1883.0</td>\n      <td>2.33425</td>\n      <td>2.71</td>\n      <td>24.910000</td>\n      <td>-0.634300</td>\n      <td>3.2240</td>\n      <td>2.2000</td>\n      <td>1.217767</td>\n      <td>6.467178</td>\n      <td>1.272461</td>\n    </tr>\n    <tr>\n      <th>20210301</th>\n      <td>8798633.0</td>\n      <td>6995226.0</td>\n      <td>13.5</td>\n      <td>3.683548e+06</td>\n      <td>6.666297e+06</td>\n      <td>-2.982750e+06</td>\n      <td>61.5</td>\n      <td>96.3966</td>\n      <td>15.932</td>\n      <td>246261.0</td>\n      <td>...</td>\n      <td>1726.0</td>\n      <td>2.50100</td>\n      <td>5.35</td>\n      <td>23.140526</td>\n      <td>-0.744350</td>\n      <td>3.4200</td>\n      <td>2.2375</td>\n      <td>1.209395</td>\n      <td>6.460058</td>\n      <td>1.269647</td>\n    </tr>\n    <tr>\n      <th>20210401</th>\n      <td>9014864.0</td>\n      <td>6409987.0</td>\n      <td>26.6</td>\n      <td>3.731566e+06</td>\n      <td>6.686921e+06</td>\n      <td>-2.955356e+06</td>\n      <td>61.5</td>\n      <td>99.1618</td>\n      <td>17.641</td>\n      <td>249467.0</td>\n      <td>...</td>\n      <td>1755.0</td>\n      <td>2.81040</td>\n      <td>2.62</td>\n      <td>21.843043</td>\n      <td>-0.631475</td>\n      <td>3.7375</td>\n      <td>2.3925</td>\n      <td>1.190161</td>\n      <td>6.510861</td>\n      <td>1.256896</td>\n    </tr>\n    <tr>\n      <th>20210501</th>\n      <td>8986182.0</td>\n      <td>8237881.0</td>\n      <td>12.6</td>\n      <td>3.784728e+06</td>\n      <td>6.709755e+06</td>\n      <td>-2.925026e+06</td>\n      <td>61.7</td>\n      <td>99.2416</td>\n      <td>18.297</td>\n      <td>247644.0</td>\n      <td>...</td>\n      <td>1733.0</td>\n      <td>2.85825</td>\n      <td>2.66</td>\n      <td>17.416190</td>\n      <td>-0.841300</td>\n      <td>3.6300</td>\n      <td>2.3640</td>\n      <td>1.196541</td>\n      <td>6.518641</td>\n      <td>1.249445</td>\n    </tr>\n  </tbody>\n</table>\n<p>72 rows × 22 columns</p>\n</div>"
     },
     "execution_count": 148,
     "metadata": {},
     "output_type": "execute_result"
    }
   ],
   "source": [
    "X = pd.concat([df_item.shift(1).rename(\"last\"),\n",
    "               df_item.shift(12).rename(\"t-12\"),\n",
    "               df_external.shift(1).rename(columns=rename_sufix(df_external, \"_last\"))],\n",
    "              axis=1).dropna()\n",
    "X"
   ],
   "metadata": {
    "collapsed": false,
    "pycharm": {
     "name": "#%%\n"
    }
   }
  },
  {
   "cell_type": "code",
   "execution_count": 149,
   "outputs": [
    {
     "data": {
      "text/plain": "Calendar Date\n20150601    4676384.0\n20150701    4844667.0\n20150801    4651703.0\n20150901    5014236.0\n20151001    4576227.0\n              ...    \n20210101    8601656.0\n20210201    8798633.0\n20210301    9014864.0\n20210401    8986182.0\n20210501    9447456.0\nName: 401K Asset fee & BP Revenue, Length: 72, dtype: float64"
     },
     "execution_count": 149,
     "metadata": {},
     "output_type": "execute_result"
    }
   ],
   "source": [
    "y = df_item.filter(items = X.index)\n",
    "y"
   ],
   "metadata": {
    "collapsed": false,
    "pycharm": {
     "name": "#%%\n"
    }
   }
  },
  {
   "cell_type": "code",
   "execution_count": 150,
   "outputs": [],
   "source": [
    "train_size = round(len(X)*0.84)"
   ],
   "metadata": {
    "collapsed": false,
    "pycharm": {
     "name": "#%%\n"
    }
   }
  },
  {
   "cell_type": "code",
   "execution_count": 151,
   "outputs": [],
   "source": [
    "X_train = X.iloc[:train_size,:]\n",
    "y_train = y.iloc[:train_size]"
   ],
   "metadata": {
    "collapsed": false,
    "pycharm": {
     "name": "#%%\n"
    }
   }
  },
  {
   "cell_type": "code",
   "execution_count": 152,
   "outputs": [],
   "source": [
    "X_test = X.iloc[train_size:,:]\n",
    "y_test = y.iloc[train_size:]"
   ],
   "metadata": {
    "collapsed": false,
    "pycharm": {
     "name": "#%%\n"
    }
   }
  },
  {
   "cell_type": "code",
   "execution_count": 153,
   "outputs": [
    {
     "data": {
      "text/plain": "Calendar Date\n20200601    7095696.0\n20200701    7614673.0\n20200801    7551520.0\n20200901    7747346.0\n20201001    7793677.0\n20201101    8000295.0\n20201201    8482353.0\n20210101    8601656.0\n20210201    8798633.0\n20210301    9014864.0\n20210401    8986182.0\n20210501    9447456.0\nName: 401K Asset fee & BP Revenue, dtype: float64"
     },
     "execution_count": 153,
     "metadata": {},
     "output_type": "execute_result"
    }
   ],
   "source": [
    "y_test"
   ],
   "metadata": {
    "collapsed": false,
    "pycharm": {
     "name": "#%%\n"
    }
   }
  },
  {
   "cell_type": "code",
   "execution_count": 154,
   "outputs": [
    {
     "data": {
      "text/plain": "LinearRegression()"
     },
     "execution_count": 154,
     "metadata": {},
     "output_type": "execute_result"
    }
   ],
   "source": [
    "from sklearn.linear_model import LinearRegression\n",
    "lr = LinearRegression()\n",
    "lr.fit(X_train, y_train)"
   ],
   "metadata": {
    "collapsed": false,
    "pycharm": {
     "name": "#%%\n"
    }
   }
  },
  {
   "cell_type": "code",
   "execution_count": 155,
   "outputs": [],
   "source": [
    "y_pred_lr = lr.predict(X_test)"
   ],
   "metadata": {
    "collapsed": false,
    "pycharm": {
     "name": "#%%\n"
    }
   }
  },
  {
   "cell_type": "code",
   "execution_count": 156,
   "outputs": [],
   "source": [
    "from matplotlib.dates import DateFormatter"
   ],
   "metadata": {
    "collapsed": false,
    "pycharm": {
     "name": "#%%\n"
    }
   }
  },
  {
   "cell_type": "code",
   "execution_count": 157,
   "outputs": [
    {
     "data": {
      "text/plain": "<matplotlib.legend.Legend at 0x1d13796d490>"
     },
     "execution_count": 157,
     "metadata": {},
     "output_type": "execute_result"
    },
    {
     "data": {
      "text/plain": "<Figure size 1080x432 with 1 Axes>",
      "image/png": "[encoded data removed]"
     },
     "metadata": {
      "needs_background": "light"
     },
     "output_type": "display_data"
    }
   ],
   "source": [
    "fig, ax = plt.subplots(figsize=(15,6))\n",
    "\n",
    "# y_train.plot(ax=ax)\n",
    "# y_test.plot(ax=ax)\n",
    "ax.plot(y_train, label='training')\n",
    "ax.plot(y_test, label='testing')\n",
    "ax.plot(pd.DataFrame(y_pred_lr).set_index(y_test.index), label='prediction', ls=\"--\")\n",
    "# Define the date format\n",
    "plt.xticks(rotation = 90)\n",
    "plt.legend()"
   ],
   "metadata": {
    "collapsed": false,
    "pycharm": {
     "name": "#%%\n"
    }
   }
  },
  {
   "cell_type": "code",
   "execution_count": 93,
   "outputs": [],
   "source": [
    "from sklearn.metrics import mean_absolute_error\n",
    "from sklearn.metrics import r2_score"
   ],
   "metadata": {
    "collapsed": false,
    "pycharm": {
     "name": "#%%\n"
    }
   }
  },
  {
   "cell_type": "code",
   "execution_count": 92,
   "outputs": [
    {
     "data": {
      "text/plain": "766042.3036576407"
     },
     "execution_count": 92,
     "metadata": {},
     "output_type": "execute_result"
    }
   ],
   "source": [
    "mean_absolute_error(y_test, y_pred_lr)"
   ],
   "metadata": {
    "collapsed": false,
    "pycharm": {
     "name": "#%%\n"
    }
   }
  },
  {
   "cell_type": "code",
   "execution_count": 95,
   "outputs": [
    {
     "data": {
      "text/plain": "-0.27874318601170667"
     },
     "execution_count": 95,
     "metadata": {},
     "output_type": "execute_result"
    }
   ],
   "source": [
    "r2_score(y_test, y_pred_lr)"
   ],
   "metadata": {
    "collapsed": false,
    "pycharm": {
     "name": "#%%\n"
    }
   }
  },
  {
   "cell_type": "markdown",
   "source": [],
   "metadata": {
    "collapsed": false,
    "pycharm": {
     "name": "#%% md\n"
    }
   }
  },
  {
   "cell_type": "code",
   "execution_count": null,
   "outputs": [],
   "source": [],
   "metadata": {
    "collapsed": false,
    "pycharm": {
     "name": "#%%\n"
    }
   }
  }
 ],
 "metadata": {
  "kernelspec": {
   "display_name": "Python 3",
   "language": "python",
   "name": "python3"
  },
  "language_info": {
   "codemirror_mode": {
    "name": "ipython",
    "version": 2
   },
   "file_extension": ".py",
   "mimetype": "text/x-python",
   "name": "python",
   "nbconvert_exporter": "python",
   "pygments_lexer": "ipython2",
   "version": "2.7.6"
  }
 },
 "nbformat": 4,
 "nbformat_minor": 0
}