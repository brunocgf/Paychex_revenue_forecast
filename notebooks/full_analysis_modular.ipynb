{
 "cells": [
  {
   "cell_type": "code",
   "execution_count": 52,
   "metadata": {},
   "outputs": [],
   "source": [
    "import os\n",
    "import pandas as pd\n",
    "import numpy as np\n",
    "import plotly.express as px\n",
    "from pycaret.regression import *\n",
    "from datetime import datetime\n",
    "import seaborn as sns\n",
    "import matplotlib.pyplot as plt\n",
    "from openpyxl import load_workbook\n",
    "import src.paychex_ml.data_loader as dl\n",
    "import src.paychex_ml.models as models\n",
    "\n",
    "warnings.filterwarnings(\"ignore\")"
   ]
  },
  {
   "cell_type": "code",
   "execution_count": 2,
   "outputs": [],
   "source": [
    "proyect_path = \"C:/Users/bruno.gonzalez/DataspellProjects/Paychex_revenue_forecast\""
   ],
   "metadata": {
    "collapsed": false,
    "pycharm": {
     "name": "#%%\n"
    }
   }
  },
  {
   "cell_type": "code",
   "execution_count": 3,
   "outputs": [],
   "source": [
    "# ------------------------------------------------------------------------------------- #\n",
    "# This is where we change parameters to the model\n",
    "# ------------------------------------------------------------------------------------- #\n",
    "train_start_dt = '20140601'\n",
    "train_end_dt = '20200501'\n",
    "test_start_dt = '20200601'\n",
    "test_end_dt = '20210501'\n",
    "pred_start_dt = '20210601'\n",
    "pred_end_dt = '20220101'\n",
    "ml_criteria = 'MAE'\n",
    "forecast_window = 8\n",
    "forecast_type = '2+10'\n",
    "# This is how strong you want the correlation to be in order to be included as a feature\n",
    "correlation_threshold = 0.5\n",
    "# This is how many features you want to keep in the final model\n",
    "features_threshold = 10"
   ],
   "metadata": {
    "collapsed": false,
    "pycharm": {
     "name": "#%%\n"
    }
   }
  },
  {
   "cell_type": "code",
   "execution_count": 4,
   "outputs": [],
   "source": [
    "# Set manually date if is necessary\n",
    "model_run_date = datetime.today().strftime('%Y%m%d')\n",
    "#model_run_date = '20220504'"
   ],
   "metadata": {
    "collapsed": false,
    "pycharm": {
     "name": "#%%\n"
    }
   }
  },
  {
   "cell_type": "code",
   "execution_count": 32,
   "outputs": [],
   "source": [
    "# ------------------------------------------------------------------------------------- #\n",
    "# Total Payroll Section\n",
    "# ------------------------------------------------------------------------------------- #\n",
    "target_col = 'Payroll blended products'\n",
    "has_drivers = True\n",
    "#target_col = 'W-2 Revenue'\n",
    "#has_drivers = False\n",
    "#target_col = 'Delivery Revenue'\n",
    "#has_drivers = False\n",
    "#target_col = 'ASO Allocation'\n",
    "#has_drivers = False\n",
    "#target_col = 'Other Processing Revenue'\n",
    "#has_drivers = False\n",
    "#target_col = 'SurePayroll.'\n",
    "#has_drivers = True\n",
    "#target_col = 'Total international'\n",
    "#has_drivers = False\n",
    "\n",
    "# ------------------------------------------------------------------------------------- #\n",
    "# Total 401K Section\n",
    "# ------------------------------------------------------------------------------------- #\n",
    "#target_col = '401K Fee Revenue'\n",
    "#has_drivers = True\n",
    "#target_col = '401K Asset fee & BP Revenue'\n",
    "#has_drivers = True\n",
    "\n",
    "# ------------------------------------------------------------------------------------- #\n",
    "# Total ASO Revenue\n",
    "# ------------------------------------------------------------------------------------- #\n",
    "#target_col = 'HR Solutions (PEO)'\n",
    "#has_drivers = False\n",
    "#target_col = 'ASO Revenue - Oasis'\n",
    "#has_drivers = False\n",
    "\n",
    "# ------------------------------------------------------------------------------------- #\n",
    "# Total Online Services\n",
    "# ------------------------------------------------------------------------------------- #\n",
    "#target_col = 'HR Online'\n",
    "#has_drivers = False\n",
    "#target_col = 'Time & Attendance'\n",
    "#has_drivers = False\n",
    "\n",
    "# ------------------------------------------------------------------------------------- #\n",
    "# Other Management Solutions\n",
    "# ------------------------------------------------------------------------------------- #\n",
    "#target_col = 'Total Paychex Advance'\n",
    "#has_drivers = True\n",
    "#target_col = 'Full Service Unemployment Revenue'\n",
    "#has_drivers = True\n",
    "#target_col = 'ESR Revenue'\n",
    "#has_drivers = True\n",
    "#target_col = 'Cafeteria Plans Revenue'\n",
    "#has_drivers = True\n",
    "#target_col = 'Benetrac'\n",
    "#has_drivers = True\n",
    "#target_col = 'Emerging Products'\n",
    "#has_drivers = True\n",
    "\n",
    "# ------------------------------------------------------------------------------------- #\n",
    "# Total PEO\n",
    "# ------------------------------------------------------------------------------------- #\n",
    "#target_col = 'Total PEO'\n",
    "#has_drivers = False\n",
    "\n",
    "# ------------------------------------------------------------------------------------- #\n",
    "# Total Insurance Services\n",
    "# ------------------------------------------------------------------------------------- #\n",
    "# target_col = 'Workers Comp - Payment Services'\n",
    "# has_drivers = True\n",
    "#target_col = 'Health Benefits'\n",
    "#has_drivers = True\n",
    "\n",
    "#target_col = 'Interest on Funds Held for Clients'\n",
    "#has_drivers = False"
   ],
   "metadata": {
    "collapsed": false,
    "pycharm": {
     "name": "#%%\n"
    }
   }
  },
  {
   "cell_type": "code",
   "execution_count": 33,
   "outputs": [],
   "source": [
    "ml_col = target_col+' - ML Predicted'\n",
    "uts_col = target_col+' - UTS Predicted'\n",
    "plan_col = target_col+' - Plan'\n",
    "fcst_col = target_col+' - '+forecast_type+' Forecast'\n",
    "fcst_cols = [ml_col,uts_col,plan_col,fcst_col]\n",
    "has_actuals = True\n",
    "#has_drivers = False"
   ],
   "metadata": {
    "collapsed": false,
    "pycharm": {
     "name": "#%%\n"
    }
   }
  },
  {
   "cell_type": "code",
   "execution_count": 34,
   "outputs": [],
   "source": [
    "# Get the full data frame and combine with drivers\n",
    "#all_df = dl.get_level_0_data(train_start_dt, pred_end_dt)"
   ],
   "metadata": {
    "collapsed": false,
    "pycharm": {
     "name": "#%%\n"
    }
   }
  },
  {
   "cell_type": "code",
   "execution_count": 35,
   "outputs": [],
   "source": [
    "file_path = proyect_path+\"/data/clean/table_predictable.csv\"\n",
    "all_df = dl.get_clean_data(train_start_dt, pred_end_dt, file_path)"
   ],
   "metadata": {
    "collapsed": false,
    "pycharm": {
     "name": "#%%\n"
    }
   }
  },
  {
   "cell_type": "code",
   "execution_count": 36,
   "outputs": [],
   "source": [
    "drive_path = proyect_path+\"/data/clean/table_drivers.csv\"\n",
    "#driv_df_ = pd.read_csv(file_path, dtype={'Period':str, 'Calendar Date': str})\n",
    "#driv_df = dl.get_clean_driver_data(train_start_dt, pred_end_dt, target_col, file_path)"
   ],
   "metadata": {
    "collapsed": false,
    "pycharm": {
     "name": "#%%\n"
    }
   }
  },
  {
   "cell_type": "code",
   "execution_count": 37,
   "outputs": [
    {
     "data": {
      "text/plain": "Item Calendar Date  401K Asset fee & BP Revenue  401K Fee Revenue  \\\n0         20140601                    4261452.0        10621963.0   \n1         20140701                    4513388.0        10558382.0   \n2         20140801                    4486436.0        10297495.0   \n3         20140901                    4355891.0        12719409.0   \n4         20141001                    4455231.0        13797724.0   \n..             ...                          ...               ...   \n87        20210901                    9799382.0        17774640.0   \n88        20211001                    9732791.0        14743885.0   \n89        20211101                   10097325.0        15738895.0   \n90        20211201                    9911484.0        16090695.0   \n91        20220101                    9956104.0        15870159.0   \n\nItem  ASO Allocation  ASO Revenue - Oasis   Benetrac  Cafeteria Plans Revenue  \\\n0         7255027.55                 0.00  1922941.0                1714950.0   \n1         9070820.80                 0.00  1916579.0                1698495.0   \n2         7489159.50                 0.00  1944830.0                1829118.0   \n3         7011292.24                 0.00  1933042.0                1710602.0   \n4         9372927.59                 0.00  1956820.0                1702224.0   \n..               ...                  ...        ...                      ...   \n87       17956420.34            240519.21  1387895.0                1602816.0   \n88       16639812.59            260480.33  1487840.0                1630754.0   \n89       18200667.03            235107.82  1563706.0                1621397.0   \n90       19189993.34            305437.47  1500244.0                1647629.0   \n91       17242037.23            246266.95  1492592.0                1611912.0   \n\nItem  Delivery Revenue  ESR Revenue  Emerging Products  ...  \\\n0           7393351.97      47602.0           796063.0  ...   \n1          13513741.18      67521.0           986955.0  ...   \n2           7286966.62      79771.0           924689.0  ...   \n3           7081861.96     105330.0           732444.0  ...   \n4          13741077.44     143956.0          1051920.0  ...   \n..                 ...          ...                ...  ...   \n87          7779041.11    4262717.0          4935887.0  ...   \n88         11268274.39    4033346.0          4965180.0  ...   \n89          7617424.02    1612427.0          4695291.0  ...   \n90          8212787.33    3983709.0          4913494.0  ...   \n91         22435519.84    4249129.0          5438292.0  ...   \n\nItem  Other Processing Revenue  Payroll blended products  SurePayroll.  \\\n0                   4765775.19                99633512.0    3246967.02   \n1                   6502729.54               121619696.0    3362473.02   \n2                   4215268.17                99472483.0    3286111.93   \n3                   4726806.24                94198230.0    3345328.53   \n4                   6514037.07               124353873.0    3402641.78   \n..                         ...                       ...           ...   \n87                  9225078.60               116406871.0    7427904.86   \n88                 10636303.84               107455264.0    7524424.40   \n89                  9402313.19               117503730.0    8070593.59   \n90                 15988997.51               127800869.0   13553160.66   \n91                 20866313.40               103869768.0    7943756.66   \n\nItem  Time & Attendance   Total PEO  Total Paychex Advance  \\\n0             4651817.0  12948696.0                    0.0   \n1             5165885.0  14670286.0                    0.0   \n2             4856677.0  14606689.0                    0.0   \n3             5098280.0  14456325.0                    0.0   \n4             5188982.0  14544813.0                    0.0   \n..                  ...         ...                    ...   \n87           12506264.0  73460278.0              6112914.0   \n88           11891771.0  72816880.0              7191242.0   \n89           12248687.0  68898417.0              7614146.0   \n90           12098563.0  76848328.0              9863307.0   \n91           12696120.0  96241775.0              6906691.0   \n\nItem  Total international  W-2 Revenue  Workers Comp - Payment Services  \\\n0               808003.64   7031234.09                        4858397.0   \n1               855305.18   7325377.82                        5244318.0   \n2               801651.38   7443620.46                        5588578.0   \n3               834334.16   7414842.11                        4968759.0   \n4               869205.85   7818212.35                        5752070.0   \n..                    ...          ...                              ...   \n87             4699523.20    184562.25                        6908722.0   \n88             4509460.16    181163.07                        6345526.0   \n89             4468419.01    155279.24                        6207581.0   \n90             5355183.42    192584.15                        8091726.0   \n91             5022326.69  81544421.44                        5645055.0   \n\nItem  Total Revenue  \n0      2.074346e+08  \n1      2.483619e+08  \n2      2.110434e+08  \n3      2.064182e+08  \n4      2.584593e+08  \n..              ...  \n87     3.709236e+08  \n88     3.574400e+08  \n89     3.646379e+08  \n90     4.078692e+08  \n91     4.860343e+08  \n\n[92 rows x 25 columns]",
      "text/html": "<div>\n<style scoped>\n    .dataframe tbody tr th:only-of-type {\n        vertical-align: middle;\n    }\n\n    .dataframe tbody tr th {\n        vertical-align: top;\n    }\n\n    .dataframe thead th {\n        text-align: right;\n    }\n</style>\n<table border=\"1\" class=\"dataframe\">\n  <thead>\n    <tr style=\"text-align: right;\">\n      <th>Item</th>\n      <th>Calendar Date</th>\n      <th>401K Asset fee &amp; BP Revenue</th>\n      <th>401K Fee Revenue</th>\n      <th>ASO Allocation</th>\n      <th>ASO Revenue - Oasis</th>\n      <th>Benetrac</th>\n      <th>Cafeteria Plans Revenue</th>\n      <th>Delivery Revenue</th>\n      <th>ESR Revenue</th>\n      <th>Emerging Products</th>\n      <th>...</th>\n      <th>Other Processing Revenue</th>\n      <th>Payroll blended products</th>\n      <th>SurePayroll.</th>\n      <th>Time &amp; Attendance</th>\n      <th>Total PEO</th>\n      <th>Total Paychex Advance</th>\n      <th>Total international</th>\n      <th>W-2 Revenue</th>\n      <th>Workers Comp - Payment Services</th>\n      <th>Total Revenue</th>\n    </tr>\n  </thead>\n  <tbody>\n    <tr>\n      <th>0</th>\n      <td>20140601</td>\n      <td>4261452.0</td>\n      <td>10621963.0</td>\n      <td>7255027.55</td>\n      <td>0.00</td>\n      <td>1922941.0</td>\n      <td>1714950.0</td>\n      <td>7393351.97</td>\n      <td>47602.0</td>\n      <td>796063.0</td>\n      <td>...</td>\n      <td>4765775.19</td>\n      <td>99633512.0</td>\n      <td>3246967.02</td>\n      <td>4651817.0</td>\n      <td>12948696.0</td>\n      <td>0.0</td>\n      <td>808003.64</td>\n      <td>7031234.09</td>\n      <td>4858397.0</td>\n      <td>2.074346e+08</td>\n    </tr>\n    <tr>\n      <th>1</th>\n      <td>20140701</td>\n      <td>4513388.0</td>\n      <td>10558382.0</td>\n      <td>9070820.80</td>\n      <td>0.00</td>\n      <td>1916579.0</td>\n      <td>1698495.0</td>\n      <td>13513741.18</td>\n      <td>67521.0</td>\n      <td>986955.0</td>\n      <td>...</td>\n      <td>6502729.54</td>\n      <td>121619696.0</td>\n      <td>3362473.02</td>\n      <td>5165885.0</td>\n      <td>14670286.0</td>\n      <td>0.0</td>\n      <td>855305.18</td>\n      <td>7325377.82</td>\n      <td>5244318.0</td>\n      <td>2.483619e+08</td>\n    </tr>\n    <tr>\n      <th>2</th>\n      <td>20140801</td>\n      <td>4486436.0</td>\n      <td>10297495.0</td>\n      <td>7489159.50</td>\n      <td>0.00</td>\n      <td>1944830.0</td>\n      <td>1829118.0</td>\n      <td>7286966.62</td>\n      <td>79771.0</td>\n      <td>924689.0</td>\n      <td>...</td>\n      <td>4215268.17</td>\n      <td>99472483.0</td>\n      <td>3286111.93</td>\n      <td>4856677.0</td>\n      <td>14606689.0</td>\n      <td>0.0</td>\n      <td>801651.38</td>\n      <td>7443620.46</td>\n      <td>5588578.0</td>\n      <td>2.110434e+08</td>\n    </tr>\n    <tr>\n      <th>3</th>\n      <td>20140901</td>\n      <td>4355891.0</td>\n      <td>12719409.0</td>\n      <td>7011292.24</td>\n      <td>0.00</td>\n      <td>1933042.0</td>\n      <td>1710602.0</td>\n      <td>7081861.96</td>\n      <td>105330.0</td>\n      <td>732444.0</td>\n      <td>...</td>\n      <td>4726806.24</td>\n      <td>94198230.0</td>\n      <td>3345328.53</td>\n      <td>5098280.0</td>\n      <td>14456325.0</td>\n      <td>0.0</td>\n      <td>834334.16</td>\n      <td>7414842.11</td>\n      <td>4968759.0</td>\n      <td>2.064182e+08</td>\n    </tr>\n    <tr>\n      <th>4</th>\n      <td>20141001</td>\n      <td>4455231.0</td>\n      <td>13797724.0</td>\n      <td>9372927.59</td>\n      <td>0.00</td>\n      <td>1956820.0</td>\n      <td>1702224.0</td>\n      <td>13741077.44</td>\n      <td>143956.0</td>\n      <td>1051920.0</td>\n      <td>...</td>\n      <td>6514037.07</td>\n      <td>124353873.0</td>\n      <td>3402641.78</td>\n      <td>5188982.0</td>\n      <td>14544813.0</td>\n      <td>0.0</td>\n      <td>869205.85</td>\n      <td>7818212.35</td>\n      <td>5752070.0</td>\n      <td>2.584593e+08</td>\n    </tr>\n    <tr>\n      <th>...</th>\n      <td>...</td>\n      <td>...</td>\n      <td>...</td>\n      <td>...</td>\n      <td>...</td>\n      <td>...</td>\n      <td>...</td>\n      <td>...</td>\n      <td>...</td>\n      <td>...</td>\n      <td>...</td>\n      <td>...</td>\n      <td>...</td>\n      <td>...</td>\n      <td>...</td>\n      <td>...</td>\n      <td>...</td>\n      <td>...</td>\n      <td>...</td>\n      <td>...</td>\n      <td>...</td>\n    </tr>\n    <tr>\n      <th>87</th>\n      <td>20210901</td>\n      <td>9799382.0</td>\n      <td>17774640.0</td>\n      <td>17956420.34</td>\n      <td>240519.21</td>\n      <td>1387895.0</td>\n      <td>1602816.0</td>\n      <td>7779041.11</td>\n      <td>4262717.0</td>\n      <td>4935887.0</td>\n      <td>...</td>\n      <td>9225078.60</td>\n      <td>116406871.0</td>\n      <td>7427904.86</td>\n      <td>12506264.0</td>\n      <td>73460278.0</td>\n      <td>6112914.0</td>\n      <td>4699523.20</td>\n      <td>184562.25</td>\n      <td>6908722.0</td>\n      <td>3.709236e+08</td>\n    </tr>\n    <tr>\n      <th>88</th>\n      <td>20211001</td>\n      <td>9732791.0</td>\n      <td>14743885.0</td>\n      <td>16639812.59</td>\n      <td>260480.33</td>\n      <td>1487840.0</td>\n      <td>1630754.0</td>\n      <td>11268274.39</td>\n      <td>4033346.0</td>\n      <td>4965180.0</td>\n      <td>...</td>\n      <td>10636303.84</td>\n      <td>107455264.0</td>\n      <td>7524424.40</td>\n      <td>11891771.0</td>\n      <td>72816880.0</td>\n      <td>7191242.0</td>\n      <td>4509460.16</td>\n      <td>181163.07</td>\n      <td>6345526.0</td>\n      <td>3.574400e+08</td>\n    </tr>\n    <tr>\n      <th>89</th>\n      <td>20211101</td>\n      <td>10097325.0</td>\n      <td>15738895.0</td>\n      <td>18200667.03</td>\n      <td>235107.82</td>\n      <td>1563706.0</td>\n      <td>1621397.0</td>\n      <td>7617424.02</td>\n      <td>1612427.0</td>\n      <td>4695291.0</td>\n      <td>...</td>\n      <td>9402313.19</td>\n      <td>117503730.0</td>\n      <td>8070593.59</td>\n      <td>12248687.0</td>\n      <td>68898417.0</td>\n      <td>7614146.0</td>\n      <td>4468419.01</td>\n      <td>155279.24</td>\n      <td>6207581.0</td>\n      <td>3.646379e+08</td>\n    </tr>\n    <tr>\n      <th>90</th>\n      <td>20211201</td>\n      <td>9911484.0</td>\n      <td>16090695.0</td>\n      <td>19189993.34</td>\n      <td>305437.47</td>\n      <td>1500244.0</td>\n      <td>1647629.0</td>\n      <td>8212787.33</td>\n      <td>3983709.0</td>\n      <td>4913494.0</td>\n      <td>...</td>\n      <td>15988997.51</td>\n      <td>127800869.0</td>\n      <td>13553160.66</td>\n      <td>12098563.0</td>\n      <td>76848328.0</td>\n      <td>9863307.0</td>\n      <td>5355183.42</td>\n      <td>192584.15</td>\n      <td>8091726.0</td>\n      <td>4.078692e+08</td>\n    </tr>\n    <tr>\n      <th>91</th>\n      <td>20220101</td>\n      <td>9956104.0</td>\n      <td>15870159.0</td>\n      <td>17242037.23</td>\n      <td>246266.95</td>\n      <td>1492592.0</td>\n      <td>1611912.0</td>\n      <td>22435519.84</td>\n      <td>4249129.0</td>\n      <td>5438292.0</td>\n      <td>...</td>\n      <td>20866313.40</td>\n      <td>103869768.0</td>\n      <td>7943756.66</td>\n      <td>12696120.0</td>\n      <td>96241775.0</td>\n      <td>6906691.0</td>\n      <td>5022326.69</td>\n      <td>81544421.44</td>\n      <td>5645055.0</td>\n      <td>4.860343e+08</td>\n    </tr>\n  </tbody>\n</table>\n<p>92 rows × 25 columns</p>\n</div>"
     },
     "execution_count": 37,
     "metadata": {},
     "output_type": "execute_result"
    }
   ],
   "source": [
    "all_df"
   ],
   "metadata": {
    "collapsed": false,
    "pycharm": {
     "name": "#%%\n"
    }
   }
  },
  {
   "cell_type": "code",
   "execution_count": 38,
   "outputs": [],
   "source": [
    "all_df = all_df[['Calendar Date', target_col]]\n",
    "if has_drivers:\n",
    "    driv_df = dl.get_clean_driver_data(train_start_dt, pred_end_dt, target_col, drive_path)\n",
    "    #driv_df.drop(columns=['Scenario'], inplace=True)\n",
    "    all_df = pd.merge(all_df, driv_df, on='Calendar Date', how='inner')"
   ],
   "metadata": {
    "collapsed": false,
    "pycharm": {
     "name": "#%%\n"
    }
   }
  },
  {
   "cell_type": "code",
   "execution_count": 39,
   "outputs": [],
   "source": [
    "external_path = proyect_path+\"/data/external/external_data_fred.csv\"\n",
    "ext_df = pd.read_csv(external_path, dtype={'date': str})\\\n",
    "    .rename(columns={'date': 'Calendar Date'})\n",
    "#ext_df = dl.get_external_data(train_start_dt, pred_end_dt)\n",
    "all_df = pd.merge(all_df, ext_df, on='Calendar Date', how='inner')"
   ],
   "metadata": {
    "collapsed": false,
    "pycharm": {
     "name": "#%%\n"
    }
   }
  },
  {
   "cell_type": "code",
   "execution_count": 40,
   "outputs": [
    {
     "name": "stdout",
     "output_type": "stream",
     "text": [
      "Shape of the training dataframe:\n",
      "(72, 1363)\n",
      "Shape of the testing dataframe:\n",
      "(12, 1363)\n",
      "Shape of the combination dataframe:\n",
      "(84, 1363)\n"
     ]
    }
   ],
   "source": [
    "# Train df\n",
    "train_df = all_df[all_df['Calendar Date'].astype(int) <= int(train_end_dt)]\n",
    "train_df['Calendar Date'] = pd.to_datetime(train_df['Calendar Date'])\n",
    "print('Shape of the training dataframe:')\n",
    "print(train_df.shape)\n",
    "\n",
    "# Test df\n",
    "test_df = all_df[(all_df['Calendar Date'].astype(int) >= int(test_start_dt)) & (all_df['Calendar Date'].astype(int) <= int(test_end_dt))]\n",
    "test_df['Calendar Date'] = pd.to_datetime(test_df['Calendar Date'])\n",
    "print('Shape of the testing dataframe:')\n",
    "print(test_df.shape)\n",
    "\n",
    "# Combined dataframe\n",
    "comb_df = pd.concat([train_df, test_df])\n",
    "print('Shape of the combination dataframe:')\n",
    "print(comb_df.shape)"
   ],
   "metadata": {
    "collapsed": false,
    "pycharm": {
     "name": "#%%\n"
    }
   }
  },
  {
   "cell_type": "code",
   "execution_count": 41,
   "outputs": [
    {
     "data": {
      "text/plain": "<Figure size 576x864 with 2 Axes>",
      "image/png": "[encoded data removed]"
     },
     "metadata": {},
     "output_type": "display_data"
    }
   ],
   "source": [
    "feature_cols = comb_df.columns.to_list()\n",
    "feature_cols.remove('Calendar Date')\n",
    "feature_cols.remove(target_col)\n",
    "\n",
    "# Run Correlations to target\n",
    "corr_df = comb_df.corr()[[target_col]]\n",
    "corr_df = corr_df[corr_df[target_col].abs() >= correlation_threshold]\n",
    "\n",
    "plt.figure(figsize=(8, 12))\n",
    "heatmap = sns.heatmap(corr_df, vmin=-1, vmax=1, annot=True, cmap='BrBG')\n",
    "heatmap.set_title('Features Correlating with '+target_col, fontdict={'fontsize':18}, pad=16);"
   ],
   "metadata": {
    "collapsed": false,
    "pycharm": {
     "name": "#%%\n"
    }
   }
  },
  {
   "cell_type": "code",
   "execution_count": 42,
   "outputs": [
    {
     "data": {
      "text/plain": "<pandas.io.formats.style.Styler at 0x1b123061430>",
      "text/html": "<style type=\"text/css\">\n#T_c0872 th {\n  text-align: left;\n}\n#T_c0872_row0_col0, #T_c0872_row0_col2, #T_c0872_row0_col3, #T_c0872_row0_col5, #T_c0872_row1_col0, #T_c0872_row1_col1, #T_c0872_row1_col4, #T_c0872_row1_col5, #T_c0872_row1_col6, #T_c0872_row2_col0, #T_c0872_row2_col1, #T_c0872_row2_col2, #T_c0872_row2_col3, #T_c0872_row2_col4, #T_c0872_row2_col6, #T_c0872_row3_col0, #T_c0872_row3_col1, #T_c0872_row3_col2, #T_c0872_row3_col3, #T_c0872_row3_col4, #T_c0872_row3_col5, #T_c0872_row3_col6, #T_c0872_row4_col0, #T_c0872_row4_col1, #T_c0872_row4_col2, #T_c0872_row4_col3, #T_c0872_row4_col4, #T_c0872_row4_col5, #T_c0872_row4_col6, #T_c0872_row5_col0, #T_c0872_row5_col1, #T_c0872_row5_col2, #T_c0872_row5_col3, #T_c0872_row5_col4, #T_c0872_row5_col5, #T_c0872_row5_col6, #T_c0872_row6_col0, #T_c0872_row6_col1, #T_c0872_row6_col2, #T_c0872_row6_col3, #T_c0872_row6_col4, #T_c0872_row6_col5, #T_c0872_row6_col6, #T_c0872_row7_col0, #T_c0872_row7_col1, #T_c0872_row7_col2, #T_c0872_row7_col3, #T_c0872_row7_col4, #T_c0872_row7_col5, #T_c0872_row7_col6, #T_c0872_row8_col0, #T_c0872_row8_col1, #T_c0872_row8_col2, #T_c0872_row8_col3, #T_c0872_row8_col4, #T_c0872_row8_col5, #T_c0872_row8_col6, #T_c0872_row9_col0, #T_c0872_row9_col1, #T_c0872_row9_col2, #T_c0872_row9_col3, #T_c0872_row9_col4, #T_c0872_row9_col5, #T_c0872_row9_col6, #T_c0872_row10_col0, #T_c0872_row10_col1, #T_c0872_row10_col2, #T_c0872_row10_col3, #T_c0872_row10_col4, #T_c0872_row10_col5, #T_c0872_row10_col6, #T_c0872_row11_col0, #T_c0872_row11_col1, #T_c0872_row11_col2, #T_c0872_row11_col3, #T_c0872_row11_col4, #T_c0872_row11_col5, #T_c0872_row11_col6, #T_c0872_row12_col0, #T_c0872_row12_col1, #T_c0872_row12_col2, #T_c0872_row12_col3, #T_c0872_row12_col4, #T_c0872_row12_col5, #T_c0872_row12_col6, #T_c0872_row13_col0, #T_c0872_row13_col1, #T_c0872_row13_col2, #T_c0872_row13_col3, #T_c0872_row13_col4, #T_c0872_row13_col5, #T_c0872_row13_col6, #T_c0872_row14_col0, #T_c0872_row14_col1, #T_c0872_row14_col2, #T_c0872_row14_col3, #T_c0872_row14_col4, #T_c0872_row14_col5, #T_c0872_row14_col6, #T_c0872_row15_col0, #T_c0872_row15_col1, #T_c0872_row15_col2, #T_c0872_row15_col3, #T_c0872_row15_col4, #T_c0872_row15_col5, #T_c0872_row15_col6, #T_c0872_row16_col0, #T_c0872_row16_col1, #T_c0872_row16_col2, #T_c0872_row16_col3, #T_c0872_row16_col4, #T_c0872_row16_col5, #T_c0872_row16_col6, #T_c0872_row17_col0, #T_c0872_row17_col1, #T_c0872_row17_col2, #T_c0872_row17_col3, #T_c0872_row17_col4, #T_c0872_row17_col5, #T_c0872_row17_col6 {\n  text-align: left;\n}\n#T_c0872_row0_col1, #T_c0872_row0_col4, #T_c0872_row0_col6, #T_c0872_row1_col2, #T_c0872_row1_col3, #T_c0872_row2_col5 {\n  text-align: left;\n  background-color: yellow;\n}\n#T_c0872_row0_col7, #T_c0872_row1_col7, #T_c0872_row2_col7, #T_c0872_row3_col7, #T_c0872_row4_col7, #T_c0872_row5_col7, #T_c0872_row7_col7, #T_c0872_row8_col7, #T_c0872_row9_col7, #T_c0872_row10_col7, #T_c0872_row11_col7, #T_c0872_row12_col7, #T_c0872_row13_col7, #T_c0872_row14_col7, #T_c0872_row15_col7, #T_c0872_row16_col7, #T_c0872_row17_col7 {\n  text-align: left;\n  background-color: lightgrey;\n}\n#T_c0872_row6_col7 {\n  text-align: left;\n  background-color: yellow;\n  background-color: lightgrey;\n}\n</style>\n<table id=\"T_c0872\">\n  <thead>\n    <tr>\n      <th class=\"blank level0\" >&nbsp;</th>\n      <th id=\"T_c0872_level0_col0\" class=\"col_heading level0 col0\" >Model</th>\n      <th id=\"T_c0872_level0_col1\" class=\"col_heading level0 col1\" >MAE</th>\n      <th id=\"T_c0872_level0_col2\" class=\"col_heading level0 col2\" >MSE</th>\n      <th id=\"T_c0872_level0_col3\" class=\"col_heading level0 col3\" >RMSE</th>\n      <th id=\"T_c0872_level0_col4\" class=\"col_heading level0 col4\" >R2</th>\n      <th id=\"T_c0872_level0_col5\" class=\"col_heading level0 col5\" >RMSLE</th>\n      <th id=\"T_c0872_level0_col6\" class=\"col_heading level0 col6\" >MAPE</th>\n      <th id=\"T_c0872_level0_col7\" class=\"col_heading level0 col7\" >TT (Sec)</th>\n    </tr>\n  </thead>\n  <tbody>\n    <tr>\n      <th id=\"T_c0872_level0_row0\" class=\"row_heading level0 row0\" >et</th>\n      <td id=\"T_c0872_row0_col0\" class=\"data row0 col0\" >Extra Trees Regressor</td>\n      <td id=\"T_c0872_row0_col1\" class=\"data row0 col1\" >5664788.8074</td>\n      <td id=\"T_c0872_row0_col2\" class=\"data row0 col2\" >64219192075889.9688</td>\n      <td id=\"T_c0872_row0_col3\" class=\"data row0 col3\" >7848126.0284</td>\n      <td id=\"T_c0872_row0_col4\" class=\"data row0 col4\" >0.0200</td>\n      <td id=\"T_c0872_row0_col5\" class=\"data row0 col5\" >0.0732</td>\n      <td id=\"T_c0872_row0_col6\" class=\"data row0 col6\" >0.0524</td>\n      <td id=\"T_c0872_row0_col7\" class=\"data row0 col7\" >0.0800</td>\n    </tr>\n    <tr>\n      <th id=\"T_c0872_level0_row1\" class=\"row_heading level0 row1\" >xgboost</th>\n      <td id=\"T_c0872_row1_col0\" class=\"data row1 col0\" >Extreme Gradient Boosting</td>\n      <td id=\"T_c0872_row1_col1\" class=\"data row1 col1\" >6063382.1667</td>\n      <td id=\"T_c0872_row1_col2\" class=\"data row1 col2\" >62634500729514.6641</td>\n      <td id=\"T_c0872_row1_col3\" class=\"data row1 col3\" >7800138.5000</td>\n      <td id=\"T_c0872_row1_col4\" class=\"data row1 col4\" >0.0174</td>\n      <td id=\"T_c0872_row1_col5\" class=\"data row1 col5\" >0.0715</td>\n      <td id=\"T_c0872_row1_col6\" class=\"data row1 col6\" >0.0550</td>\n      <td id=\"T_c0872_row1_col7\" class=\"data row1 col7\" >0.2133</td>\n    </tr>\n    <tr>\n      <th id=\"T_c0872_level0_row2\" class=\"row_heading level0 row2\" >lightgbm</th>\n      <td id=\"T_c0872_row2_col0\" class=\"data row2 col0\" >Light Gradient Boosting Machine</td>\n      <td id=\"T_c0872_row2_col1\" class=\"data row2 col1\" >6452555.9032</td>\n      <td id=\"T_c0872_row2_col2\" class=\"data row2 col2\" >63340848032361.7891</td>\n      <td id=\"T_c0872_row2_col3\" class=\"data row2 col3\" >7872521.8585</td>\n      <td id=\"T_c0872_row2_col4\" class=\"data row2 col4\" >-0.0121</td>\n      <td id=\"T_c0872_row2_col5\" class=\"data row2 col5\" >0.0714</td>\n      <td id=\"T_c0872_row2_col6\" class=\"data row2 col6\" >0.0586</td>\n      <td id=\"T_c0872_row2_col7\" class=\"data row2 col7\" >0.0300</td>\n    </tr>\n    <tr>\n      <th id=\"T_c0872_level0_row3\" class=\"row_heading level0 row3\" >rf</th>\n      <td id=\"T_c0872_row3_col0\" class=\"data row3 col0\" >Random Forest Regressor</td>\n      <td id=\"T_c0872_row3_col1\" class=\"data row3 col1\" >6475690.7452</td>\n      <td id=\"T_c0872_row3_col2\" class=\"data row3 col2\" >66019255858966.1094</td>\n      <td id=\"T_c0872_row3_col3\" class=\"data row3 col3\" >7972756.9237</td>\n      <td id=\"T_c0872_row3_col4\" class=\"data row3 col4\" >-0.0330</td>\n      <td id=\"T_c0872_row3_col5\" class=\"data row3 col5\" >0.0735</td>\n      <td id=\"T_c0872_row3_col6\" class=\"data row3 col6\" >0.0599</td>\n      <td id=\"T_c0872_row3_col7\" class=\"data row3 col7\" >0.0967</td>\n    </tr>\n    <tr>\n      <th id=\"T_c0872_level0_row4\" class=\"row_heading level0 row4\" >gbr</th>\n      <td id=\"T_c0872_row4_col0\" class=\"data row4 col0\" >Gradient Boosting Regressor</td>\n      <td id=\"T_c0872_row4_col1\" class=\"data row4 col1\" >6533440.2213</td>\n      <td id=\"T_c0872_row4_col2\" class=\"data row4 col2\" >69555201177936.1641</td>\n      <td id=\"T_c0872_row4_col3\" class=\"data row4 col3\" >8174033.8929</td>\n      <td id=\"T_c0872_row4_col4\" class=\"data row4 col4\" >-0.0623</td>\n      <td id=\"T_c0872_row4_col5\" class=\"data row4 col5\" >0.0759</td>\n      <td id=\"T_c0872_row4_col6\" class=\"data row4 col6\" >0.0608</td>\n      <td id=\"T_c0872_row4_col7\" class=\"data row4 col7\" >0.0967</td>\n    </tr>\n    <tr>\n      <th id=\"T_c0872_level0_row5\" class=\"row_heading level0 row5\" >knn</th>\n      <td id=\"T_c0872_row5_col0\" class=\"data row5 col0\" >K Neighbors Regressor</td>\n      <td id=\"T_c0872_row5_col1\" class=\"data row5 col1\" >6696725.0000</td>\n      <td id=\"T_c0872_row5_col2\" class=\"data row5 col2\" >70100547796992.0000</td>\n      <td id=\"T_c0872_row5_col3\" class=\"data row5 col3\" >8219107.5000</td>\n      <td id=\"T_c0872_row5_col4\" class=\"data row5 col4\" >-0.0942</td>\n      <td id=\"T_c0872_row5_col5\" class=\"data row5 col5\" >0.0762</td>\n      <td id=\"T_c0872_row5_col6\" class=\"data row5 col6\" >0.0609</td>\n      <td id=\"T_c0872_row5_col7\" class=\"data row5 col7\" >0.0167</td>\n    </tr>\n    <tr>\n      <th id=\"T_c0872_level0_row6\" class=\"row_heading level0 row6\" >dummy</th>\n      <td id=\"T_c0872_row6_col0\" class=\"data row6 col0\" >Dummy Regressor</td>\n      <td id=\"T_c0872_row6_col1\" class=\"data row6 col1\" >6761397.1667</td>\n      <td id=\"T_c0872_row6_col2\" class=\"data row6 col2\" >68877178372096.0000</td>\n      <td id=\"T_c0872_row6_col3\" class=\"data row6 col3\" >8176986.8333</td>\n      <td id=\"T_c0872_row6_col4\" class=\"data row6 col4\" >-0.0736</td>\n      <td id=\"T_c0872_row6_col5\" class=\"data row6 col5\" >0.0748</td>\n      <td id=\"T_c0872_row6_col6\" class=\"data row6 col6\" >0.0618</td>\n      <td id=\"T_c0872_row6_col7\" class=\"data row6 col7\" >0.0067</td>\n    </tr>\n    <tr>\n      <th id=\"T_c0872_level0_row7\" class=\"row_heading level0 row7\" >ada</th>\n      <td id=\"T_c0872_row7_col0\" class=\"data row7 col0\" >AdaBoost Regressor</td>\n      <td id=\"T_c0872_row7_col1\" class=\"data row7 col1\" >7829300.3980</td>\n      <td id=\"T_c0872_row7_col2\" class=\"data row7 col2\" >96844474781280.8594</td>\n      <td id=\"T_c0872_row7_col3\" class=\"data row7 col3\" >9681953.7430</td>\n      <td id=\"T_c0872_row7_col4\" class=\"data row7 col4\" >-0.5511</td>\n      <td id=\"T_c0872_row7_col5\" class=\"data row7 col5\" >0.0892</td>\n      <td id=\"T_c0872_row7_col6\" class=\"data row7 col6\" >0.0715</td>\n      <td id=\"T_c0872_row7_col7\" class=\"data row7 col7\" >0.0567</td>\n    </tr>\n    <tr>\n      <th id=\"T_c0872_level0_row8\" class=\"row_heading level0 row8\" >br</th>\n      <td id=\"T_c0872_row8_col0\" class=\"data row8 col0\" >Bayesian Ridge</td>\n      <td id=\"T_c0872_row8_col1\" class=\"data row8 col1\" >8099446.5260</td>\n      <td id=\"T_c0872_row8_col2\" class=\"data row8 col2\" >136142890507324.7500</td>\n      <td id=\"T_c0872_row8_col3\" class=\"data row8 col3\" >10130648.2360</td>\n      <td id=\"T_c0872_row8_col4\" class=\"data row8 col4\" >-0.9883</td>\n      <td id=\"T_c0872_row8_col5\" class=\"data row8 col5\" >0.1005</td>\n      <td id=\"T_c0872_row8_col6\" class=\"data row8 col6\" >0.0736</td>\n      <td id=\"T_c0872_row8_col7\" class=\"data row8 col7\" >0.8400</td>\n    </tr>\n    <tr>\n      <th id=\"T_c0872_level0_row9\" class=\"row_heading level0 row9\" >par</th>\n      <td id=\"T_c0872_row9_col0\" class=\"data row9 col0\" >Passive Aggressive Regressor</td>\n      <td id=\"T_c0872_row9_col1\" class=\"data row9 col1\" >8563869.0060</td>\n      <td id=\"T_c0872_row9_col2\" class=\"data row9 col2\" >142897305130458.4375</td>\n      <td id=\"T_c0872_row9_col3\" class=\"data row9 col3\" >11344289.1807</td>\n      <td id=\"T_c0872_row9_col4\" class=\"data row9 col4\" >-1.1435</td>\n      <td id=\"T_c0872_row9_col5\" class=\"data row9 col5\" >0.1042</td>\n      <td id=\"T_c0872_row9_col6\" class=\"data row9 col6\" >0.0809</td>\n      <td id=\"T_c0872_row9_col7\" class=\"data row9 col7\" >0.0133</td>\n    </tr>\n    <tr>\n      <th id=\"T_c0872_level0_row10\" class=\"row_heading level0 row10\" >dt</th>\n      <td id=\"T_c0872_row10_col0\" class=\"data row10 col0\" >Decision Tree Regressor</td>\n      <td id=\"T_c0872_row10_col1\" class=\"data row10 col1\" >9396012.4444</td>\n      <td id=\"T_c0872_row10_col2\" class=\"data row10 col2\" >135510829316989.6250</td>\n      <td id=\"T_c0872_row10_col3\" class=\"data row10 col3\" >11551021.1998</td>\n      <td id=\"T_c0872_row10_col4\" class=\"data row10 col4\" >-1.2759</td>\n      <td id=\"T_c0872_row10_col5\" class=\"data row10 col5\" >0.1058</td>\n      <td id=\"T_c0872_row10_col6\" class=\"data row10 col6\" >0.0884</td>\n      <td id=\"T_c0872_row10_col7\" class=\"data row10 col7\" >0.0100</td>\n    </tr>\n    <tr>\n      <th id=\"T_c0872_level0_row11\" class=\"row_heading level0 row11\" >llar</th>\n      <td id=\"T_c0872_row11_col0\" class=\"data row11 col0\" >Lasso Least Angle Regression</td>\n      <td id=\"T_c0872_row11_col1\" class=\"data row11 col1\" >10159570.5126</td>\n      <td id=\"T_c0872_row11_col2\" class=\"data row11 col2\" >232626471044030.4062</td>\n      <td id=\"T_c0872_row11_col3\" class=\"data row11 col3\" >15048250.6208</td>\n      <td id=\"T_c0872_row11_col4\" class=\"data row11 col4\" >-3.8531</td>\n      <td id=\"T_c0872_row11_col5\" class=\"data row11 col5\" >0.1690</td>\n      <td id=\"T_c0872_row11_col6\" class=\"data row11 col6\" >0.0941</td>\n      <td id=\"T_c0872_row11_col7\" class=\"data row11 col7\" >1.3033</td>\n    </tr>\n    <tr>\n      <th id=\"T_c0872_level0_row12\" class=\"row_heading level0 row12\" >ridge</th>\n      <td id=\"T_c0872_row12_col0\" class=\"data row12 col0\" >Ridge Regression</td>\n      <td id=\"T_c0872_row12_col1\" class=\"data row12 col1\" >13240340.0000</td>\n      <td id=\"T_c0872_row12_col2\" class=\"data row12 col2\" >291643641735850.6875</td>\n      <td id=\"T_c0872_row12_col3\" class=\"data row12 col3\" >16829929.3333</td>\n      <td id=\"T_c0872_row12_col4\" class=\"data row12 col4\" >-5.1084</td>\n      <td id=\"T_c0872_row12_col5\" class=\"data row12 col5\" >0.1667</td>\n      <td id=\"T_c0872_row12_col6\" class=\"data row12 col6\" >0.1222</td>\n      <td id=\"T_c0872_row12_col7\" class=\"data row12 col7\" >0.7767</td>\n    </tr>\n    <tr>\n      <th id=\"T_c0872_level0_row13\" class=\"row_heading level0 row13\" >en</th>\n      <td id=\"T_c0872_row13_col0\" class=\"data row13 col0\" >Elastic Net</td>\n      <td id=\"T_c0872_row13_col1\" class=\"data row13 col1\" >13348336.3333</td>\n      <td id=\"T_c0872_row13_col2\" class=\"data row13 col2\" >344104872094378.6875</td>\n      <td id=\"T_c0872_row13_col3\" class=\"data row13 col3\" >18502885.3333</td>\n      <td id=\"T_c0872_row13_col4\" class=\"data row13 col4\" >-5.4259</td>\n      <td id=\"T_c0872_row13_col5\" class=\"data row13 col5\" >0.1536</td>\n      <td id=\"T_c0872_row13_col6\" class=\"data row13 col6\" >0.1232</td>\n      <td id=\"T_c0872_row13_col7\" class=\"data row13 col7\" >0.0233</td>\n    </tr>\n    <tr>\n      <th id=\"T_c0872_level0_row14\" class=\"row_heading level0 row14\" >huber</th>\n      <td id=\"T_c0872_row14_col0\" class=\"data row14 col0\" >Huber Regressor</td>\n      <td id=\"T_c0872_row14_col1\" class=\"data row14 col1\" >14206729.0013</td>\n      <td id=\"T_c0872_row14_col2\" class=\"data row14 col2\" >499962509485857.0000</td>\n      <td id=\"T_c0872_row14_col3\" class=\"data row14 col3\" >19675165.5819</td>\n      <td id=\"T_c0872_row14_col4\" class=\"data row14 col4\" >-5.1896</td>\n      <td id=\"T_c0872_row14_col5\" class=\"data row14 col5\" >0.1763</td>\n      <td id=\"T_c0872_row14_col6\" class=\"data row14 col6\" >0.1351</td>\n      <td id=\"T_c0872_row14_col7\" class=\"data row14 col7\" >0.0300</td>\n    </tr>\n    <tr>\n      <th id=\"T_c0872_level0_row15\" class=\"row_heading level0 row15\" >omp</th>\n      <td id=\"T_c0872_row15_col0\" class=\"data row15 col0\" >Orthogonal Matching Pursuit</td>\n      <td id=\"T_c0872_row15_col1\" class=\"data row15 col1\" >14665485.8958</td>\n      <td id=\"T_c0872_row15_col2\" class=\"data row15 col2\" >462390027913570.3125</td>\n      <td id=\"T_c0872_row15_col3\" class=\"data row15 col3\" >20940165.9517</td>\n      <td id=\"T_c0872_row15_col4\" class=\"data row15 col4\" >-9.1573</td>\n      <td id=\"T_c0872_row15_col5\" class=\"data row15 col5\" >0.3013</td>\n      <td id=\"T_c0872_row15_col6\" class=\"data row15 col6\" >0.1352</td>\n      <td id=\"T_c0872_row15_col7\" class=\"data row15 col7\" >0.7933</td>\n    </tr>\n    <tr>\n      <th id=\"T_c0872_level0_row16\" class=\"row_heading level0 row16\" >lr</th>\n      <td id=\"T_c0872_row16_col0\" class=\"data row16 col0\" >Linear Regression</td>\n      <td id=\"T_c0872_row16_col1\" class=\"data row16 col1\" >26864460.6667</td>\n      <td id=\"T_c0872_row16_col2\" class=\"data row16 col2\" >2553059423027200.0000</td>\n      <td id=\"T_c0872_row16_col3\" class=\"data row16 col3\" >38754968.6667</td>\n      <td id=\"T_c0872_row16_col4\" class=\"data row16 col4\" >-29.3732</td>\n      <td id=\"T_c0872_row16_col5\" class=\"data row16 col5\" >0.2922</td>\n      <td id=\"T_c0872_row16_col6\" class=\"data row16 col6\" >0.2577</td>\n      <td id=\"T_c0872_row16_col7\" class=\"data row16 col7\" >1.3500</td>\n    </tr>\n    <tr>\n      <th id=\"T_c0872_level0_row17\" class=\"row_heading level0 row17\" >lasso</th>\n      <td id=\"T_c0872_row17_col0\" class=\"data row17 col0\" >Lasso Regression</td>\n      <td id=\"T_c0872_row17_col1\" class=\"data row17 col1\" >172399144.0000</td>\n      <td id=\"T_c0872_row17_col2\" class=\"data row17 col2\" >120305440697701712.0000</td>\n      <td id=\"T_c0872_row17_col3\" class=\"data row17 col3\" >211106473.3333</td>\n      <td id=\"T_c0872_row17_col4\" class=\"data row17 col4\" >-1679.0925</td>\n      <td id=\"T_c0872_row17_col5\" class=\"data row17 col5\" >0.6358</td>\n      <td id=\"T_c0872_row17_col6\" class=\"data row17 col6\" >1.5824</td>\n      <td id=\"T_c0872_row17_col7\" class=\"data row17 col7\" >0.8733</td>\n    </tr>\n  </tbody>\n</table>\n"
     },
     "metadata": {},
     "output_type": "display_data"
    },
    {
     "name": "stdout",
     "output_type": "stream",
     "text": [
      "<class 'sklearn.ensemble._forest.ExtraTreesRegressor'>\n"
     ]
    }
   ],
   "source": [
    "# run auto ml and get the most important features\n",
    "best = models.run_auto_ml(train_df, test_df, target_col, feature_cols, False, ml_criteria)"
   ],
   "metadata": {
    "collapsed": false,
    "pycharm": {
     "name": "#%%\n"
    }
   }
  },
  {
   "cell_type": "code",
   "execution_count": 44,
   "outputs": [
    {
     "data": {
      "application/vnd.plotly.v1+json": {
       "data": [
        {
         "alignmentgroup": "True",
         "hovertemplate": "Variable Importance=%{x}<br>Feature=%{y}<extra></extra>",
         "legendgroup": "",
         "marker": {
          "color": "#636efa",
          "pattern": {
           "shape": ""
          }
         },
         "name": "",
         "offsetgroup": "",
         "orientation": "h",
         "showlegend": false,
         "textposition": "auto",
         "x": [
          6.8473300451328E13,
          7.6099044245504E13,
          1.0187960221696E14,
          1.02131101073408E14,
          1.13643542806528E14,
          1.22661044748288E14,
          1.3299966017536E14,
          2.02465211318272E14,
          2.68831012421632E14,
          3.1526133694464E14
         ],
         "xaxis": "x",
         "y": [
          "Total Preview Blended Products Revenue/0434 NASHVILLE MMS/Average Check per Payroll - RW",
          "Total Preview Blended Products Revenue/0476 NORTHERN NJ MMS/Chk/Client/Week - RW",
          "GASREGW",
          "Total Preview Blended Products Revenue/0456 TWIN CITIES MMS/Transfers out - RW",
          "Total Flex Blended Products Revenue/Sarasota/SmallBiz/Check Volume - RW",
          "Total Flex Blended Products Revenue/0921 DSC West/Losses - RW",
          "Total Flex Blended Products Revenue/Auburn RSC/Check Volume - RW",
          "Total Preview Blended Products Revenue/0475 PHOENIX MMS/Net Client Gain - RW",
          "Product NA/6000 CORP OFFICE/# of Weeks - RW",
          "Total Flex Blended Products Revenue/0922 DSC Central/Net Client Gain - RW"
         ],
         "yaxis": "y",
         "type": "bar"
        }
       ],
       "layout": {
        "template": {
         "data": {
          "histogram2dcontour": [
           {
            "type": "histogram2dcontour",
            "colorbar": {
             "outlinewidth": 0,
             "ticks": ""
            },
            "colorscale": [
             [
              0.0,
              "#0d0887"
             ],
             [
              0.1111111111111111,
              "#46039f"
             ],
             [
              0.2222222222222222,
              "#7201a8"
             ],
             [
              0.3333333333333333,
              "#9c179e"
             ],
             [
              0.4444444444444444,
              "#bd3786"
             ],
             [
              0.5555555555555556,
              "#d8576b"
             ],
             [
              0.6666666666666666,
              "#ed7953"
             ],
             [
              0.7777777777777778,
              "#fb9f3a"
             ],
             [
              0.8888888888888888,
              "#fdca26"
             ],
             [
              1.0,
              "#f0f921"
             ]
            ]
           }
          ],
          "choropleth": [
           {
            "type": "choropleth",
            "colorbar": {
             "outlinewidth": 0,
             "ticks": ""
            }
           }
          ],
          "histogram2d": [
           {
            "type": "histogram2d",
            "colorbar": {
             "outlinewidth": 0,
             "ticks": ""
            },
            "colorscale": [
             [
              0.0,
              "#0d0887"
             ],
             [
              0.1111111111111111,
              "#46039f"
             ],
             [
              0.2222222222222222,
              "#7201a8"
             ],
             [
              0.3333333333333333,
              "#9c179e"
             ],
             [
              0.4444444444444444,
              "#bd3786"
             ],
             [
              0.5555555555555556,
              "#d8576b"
             ],
             [
              0.6666666666666666,
              "#ed7953"
             ],
             [
              0.7777777777777778,
              "#fb9f3a"
             ],
             [
              0.8888888888888888,
              "#fdca26"
             ],
             [
              1.0,
              "#f0f921"
             ]
            ]
           }
          ],
          "heatmap": [
           {
            "type": "heatmap",
            "colorbar": {
             "outlinewidth": 0,
             "ticks": ""
            },
            "colorscale": [
             [
              0.0,
              "#0d0887"
             ],
             [
              0.1111111111111111,
              "#46039f"
             ],
             [
              0.2222222222222222,
              "#7201a8"
             ],
             [
              0.3333333333333333,
              "#9c179e"
             ],
             [
              0.4444444444444444,
              "#bd3786"
             ],
             [
              0.5555555555555556,
              "#d8576b"
             ],
             [
              0.6666666666666666,
              "#ed7953"
             ],
             [
              0.7777777777777778,
              "#fb9f3a"
             ],
             [
              0.8888888888888888,
              "#fdca26"
             ],
             [
              1.0,
              "#f0f921"
             ]
            ]
           }
          ],
          "heatmapgl": [
           {
            "type": "heatmapgl",
            "colorbar": {
             "outlinewidth": 0,
             "ticks": ""
            },
            "colorscale": [
             [
              0.0,
              "#0d0887"
             ],
             [
              0.1111111111111111,
              "#46039f"
             ],
             [
              0.2222222222222222,
              "#7201a8"
             ],
             [
              0.3333333333333333,
              "#9c179e"
             ],
             [
              0.4444444444444444,
              "#bd3786"
             ],
             [
              0.5555555555555556,
              "#d8576b"
             ],
             [
              0.6666666666666666,
              "#ed7953"
             ],
             [
              0.7777777777777778,
              "#fb9f3a"
             ],
             [
              0.8888888888888888,
              "#fdca26"
             ],
             [
              1.0,
              "#f0f921"
             ]
            ]
           }
          ],
          "contourcarpet": [
           {
            "type": "contourcarpet",
            "colorbar": {
             "outlinewidth": 0,
             "ticks": ""
            }
           }
          ],
          "contour": [
           {
            "type": "contour",
            "colorbar": {
             "outlinewidth": 0,
             "ticks": ""
            },
            "colorscale": [
             [
              0.0,
              "#0d0887"
             ],
             [
              0.1111111111111111,
              "#46039f"
             ],
             [
              0.2222222222222222,
              "#7201a8"
             ],
             [
              0.3333333333333333,
              "#9c179e"
             ],
             [
              0.4444444444444444,
              "#bd3786"
             ],
             [
              0.5555555555555556,
              "#d8576b"
             ],
             [
              0.6666666666666666,
              "#ed7953"
             ],
             [
              0.7777777777777778,
              "#fb9f3a"
             ],
             [
              0.8888888888888888,
              "#fdca26"
             ],
             [
              1.0,
              "#f0f921"
             ]
            ]
           }
          ],
          "surface": [
           {
            "type": "surface",
            "colorbar": {
             "outlinewidth": 0,
             "ticks": ""
            },
            "colorscale": [
             [
              0.0,
              "#0d0887"
             ],
             [
              0.1111111111111111,
              "#46039f"
             ],
             [
              0.2222222222222222,
              "#7201a8"
             ],
             [
              0.3333333333333333,
              "#9c179e"
             ],
             [
              0.4444444444444444,
              "#bd3786"
             ],
             [
              0.5555555555555556,
              "#d8576b"
             ],
             [
              0.6666666666666666,
              "#ed7953"
             ],
             [
              0.7777777777777778,
              "#fb9f3a"
             ],
             [
              0.8888888888888888,
              "#fdca26"
             ],
             [
              1.0,
              "#f0f921"
             ]
            ]
           }
          ],
          "mesh3d": [
           {
            "type": "mesh3d",
            "colorbar": {
             "outlinewidth": 0,
             "ticks": ""
            }
           }
          ],
          "scatter": [
           {
            "fillpattern": {
             "fillmode": "overlay",
             "size": 10,
             "solidity": 0.2
            },
            "type": "scatter"
           }
          ],
          "parcoords": [
           {
            "type": "parcoords",
            "line": {
             "colorbar": {
              "outlinewidth": 0,
              "ticks": ""
             }
            }
           }
          ],
          "scatterpolargl": [
           {
            "type": "scatterpolargl",
            "marker": {
             "colorbar": {
              "outlinewidth": 0,
              "ticks": ""
             }
            }
           }
          ],
          "bar": [
           {
            "error_x": {
             "color": "#2a3f5f"
            },
            "error_y": {
             "color": "#2a3f5f"
            },
            "marker": {
             "line": {
              "color": "#E5ECF6",
              "width": 0.5
             },
             "pattern": {
              "fillmode": "overlay",
              "size": 10,
              "solidity": 0.2
             }
            },
            "type": "bar"
           }
          ],
          "scattergeo": [
           {
            "type": "scattergeo",
            "marker": {
             "colorbar": {
              "outlinewidth": 0,
              "ticks": ""
             }
            }
           }
          ],
          "scatterpolar": [
           {
            "type": "scatterpolar",
            "marker": {
             "colorbar": {
              "outlinewidth": 0,
              "ticks": ""
             }
            }
           }
          ],
          "histogram": [
           {
            "marker": {
             "pattern": {
              "fillmode": "overlay",
              "size": 10,
              "solidity": 0.2
             }
            },
            "type": "histogram"
           }
          ],
          "scattergl": [
           {
            "type": "scattergl",
            "marker": {
             "colorbar": {
              "outlinewidth": 0,
              "ticks": ""
             }
            }
           }
          ],
          "scatter3d": [
           {
            "type": "scatter3d",
            "line": {
             "colorbar": {
              "outlinewidth": 0,
              "ticks": ""
             }
            },
            "marker": {
             "colorbar": {
              "outlinewidth": 0,
              "ticks": ""
             }
            }
           }
          ],
          "scattermapbox": [
           {
            "type": "scattermapbox",
            "marker": {
             "colorbar": {
              "outlinewidth": 0,
              "ticks": ""
             }
            }
           }
          ],
          "scatterternary": [
           {
            "type": "scatterternary",
            "marker": {
             "colorbar": {
              "outlinewidth": 0,
              "ticks": ""
             }
            }
           }
          ],
          "scattercarpet": [
           {
            "type": "scattercarpet",
            "marker": {
             "colorbar": {
              "outlinewidth": 0,
              "ticks": ""
             }
            }
           }
          ],
          "carpet": [
           {
            "aaxis": {
             "endlinecolor": "#2a3f5f",
             "gridcolor": "white",
             "linecolor": "white",
             "minorgridcolor": "white",
             "startlinecolor": "#2a3f5f"
            },
            "baxis": {
             "endlinecolor": "#2a3f5f",
             "gridcolor": "white",
             "linecolor": "white",
             "minorgridcolor": "white",
             "startlinecolor": "#2a3f5f"
            },
            "type": "carpet"
           }
          ],
          "table": [
           {
            "cells": {
             "fill": {
              "color": "#EBF0F8"
             },
             "line": {
              "color": "white"
             }
            },
            "header": {
             "fill": {
              "color": "#C8D4E3"
             },
             "line": {
              "color": "white"
             }
            },
            "type": "table"
           }
          ],
          "barpolar": [
           {
            "marker": {
             "line": {
              "color": "#E5ECF6",
              "width": 0.5
             },
             "pattern": {
              "fillmode": "overlay",
              "size": 10,
              "solidity": 0.2
             }
            },
            "type": "barpolar"
           }
          ],
          "pie": [
           {
            "automargin": true,
            "type": "pie"
           }
          ]
         },
         "layout": {
          "autotypenumbers": "strict",
          "colorway": [
           "#636efa",
           "#EF553B",
           "#00cc96",
           "#ab63fa",
           "#FFA15A",
           "#19d3f3",
           "#FF6692",
           "#B6E880",
           "#FF97FF",
           "#FECB52"
          ],
          "font": {
           "color": "#2a3f5f"
          },
          "hovermode": "closest",
          "hoverlabel": {
           "align": "left"
          },
          "paper_bgcolor": "white",
          "plot_bgcolor": "#E5ECF6",
          "polar": {
           "bgcolor": "#E5ECF6",
           "angularaxis": {
            "gridcolor": "white",
            "linecolor": "white",
            "ticks": ""
           },
           "radialaxis": {
            "gridcolor": "white",
            "linecolor": "white",
            "ticks": ""
           }
          },
          "ternary": {
           "bgcolor": "#E5ECF6",
           "aaxis": {
            "gridcolor": "white",
            "linecolor": "white",
            "ticks": ""
           },
           "baxis": {
            "gridcolor": "white",
            "linecolor": "white",
            "ticks": ""
           },
           "caxis": {
            "gridcolor": "white",
            "linecolor": "white",
            "ticks": ""
           }
          },
          "coloraxis": {
           "colorbar": {
            "outlinewidth": 0,
            "ticks": ""
           }
          },
          "colorscale": {
           "sequential": [
            [
             0.0,
             "#0d0887"
            ],
            [
             0.1111111111111111,
             "#46039f"
            ],
            [
             0.2222222222222222,
             "#7201a8"
            ],
            [
             0.3333333333333333,
             "#9c179e"
            ],
            [
             0.4444444444444444,
             "#bd3786"
            ],
            [
             0.5555555555555556,
             "#d8576b"
            ],
            [
             0.6666666666666666,
             "#ed7953"
            ],
            [
             0.7777777777777778,
             "#fb9f3a"
            ],
            [
             0.8888888888888888,
             "#fdca26"
            ],
            [
             1.0,
             "#f0f921"
            ]
           ],
           "sequentialminus": [
            [
             0.0,
             "#0d0887"
            ],
            [
             0.1111111111111111,
             "#46039f"
            ],
            [
             0.2222222222222222,
             "#7201a8"
            ],
            [
             0.3333333333333333,
             "#9c179e"
            ],
            [
             0.4444444444444444,
             "#bd3786"
            ],
            [
             0.5555555555555556,
             "#d8576b"
            ],
            [
             0.6666666666666666,
             "#ed7953"
            ],
            [
             0.7777777777777778,
             "#fb9f3a"
            ],
            [
             0.8888888888888888,
             "#fdca26"
            ],
            [
             1.0,
             "#f0f921"
            ]
           ],
           "diverging": [
            [
             0,
             "#8e0152"
            ],
            [
             0.1,
             "#c51b7d"
            ],
            [
             0.2,
             "#de77ae"
            ],
            [
             0.3,
             "#f1b6da"
            ],
            [
             0.4,
             "#fde0ef"
            ],
            [
             0.5,
             "#f7f7f7"
            ],
            [
             0.6,
             "#e6f5d0"
            ],
            [
             0.7,
             "#b8e186"
            ],
            [
             0.8,
             "#7fbc41"
            ],
            [
             0.9,
             "#4d9221"
            ],
            [
             1,
             "#276419"
            ]
           ]
          },
          "xaxis": {
           "gridcolor": "white",
           "linecolor": "white",
           "ticks": "",
           "title": {
            "standoff": 15
           },
           "zerolinecolor": "white",
           "automargin": true,
           "zerolinewidth": 2
          },
          "yaxis": {
           "gridcolor": "white",
           "linecolor": "white",
           "ticks": "",
           "title": {
            "standoff": 15
           },
           "zerolinecolor": "white",
           "automargin": true,
           "zerolinewidth": 2
          },
          "scene": {
           "xaxis": {
            "backgroundcolor": "#E5ECF6",
            "gridcolor": "white",
            "linecolor": "white",
            "showbackground": true,
            "ticks": "",
            "zerolinecolor": "white",
            "gridwidth": 2
           },
           "yaxis": {
            "backgroundcolor": "#E5ECF6",
            "gridcolor": "white",
            "linecolor": "white",
            "showbackground": true,
            "ticks": "",
            "zerolinecolor": "white",
            "gridwidth": 2
           },
           "zaxis": {
            "backgroundcolor": "#E5ECF6",
            "gridcolor": "white",
            "linecolor": "white",
            "showbackground": true,
            "ticks": "",
            "zerolinecolor": "white",
            "gridwidth": 2
           }
          },
          "shapedefaults": {
           "line": {
            "color": "#2a3f5f"
           }
          },
          "annotationdefaults": {
           "arrowcolor": "#2a3f5f",
           "arrowhead": 0,
           "arrowwidth": 1
          },
          "geo": {
           "bgcolor": "white",
           "landcolor": "#E5ECF6",
           "subunitcolor": "white",
           "showland": true,
           "showlakes": true,
           "lakecolor": "white"
          },
          "title": {
           "x": 0.05
          },
          "mapbox": {
           "style": "light"
          }
         }
        },
        "xaxis": {
         "anchor": "y",
         "domain": [
          0.0,
          1.0
         ],
         "title": {
          "text": "Variable Importance"
         }
        },
        "yaxis": {
         "anchor": "x",
         "domain": [
          0.0,
          1.0
         ],
         "title": {
          "text": "Feature"
         }
        },
        "legend": {
         "tracegroupgap": 0
        },
        "title": {
         "text": "Feature Importance Plot"
        },
        "barmode": "relative"
       },
       "config": {
        "plotlyServerURL": "https://plot.ly"
       }
      },
      "text/html": "<div>                            <div id=\"a8b0380c-4280-4047-91f3-dd930011857a\" class=\"plotly-graph-div\" style=\"height:525px; width:100%;\"></div>            <script type=\"text/javascript\">                require([\"plotly\"], function(Plotly) {                    window.PLOTLYENV=window.PLOTLYENV || {};                                    if (document.getElementById(\"a8b0380c-4280-4047-91f3-dd930011857a\")) {                    Plotly.newPlot(                        \"a8b0380c-4280-4047-91f3-dd930011857a\",                        [{\"alignmentgroup\":\"True\",\"hovertemplate\":\"Variable Importance=%{x}<br>Feature=%{y}<extra></extra>\",\"legendgroup\":\"\",\"marker\":{\"color\":\"#636efa\",\"pattern\":{\"shape\":\"\"}},\"name\":\"\",\"offsetgroup\":\"\",\"orientation\":\"h\",\"showlegend\":false,\"textposition\":\"auto\",\"x\":[68473300451328.0,76099044245504.0,101879602216960.0,102131101073408.0,113643542806528.0,122661044748288.0,132999660175360.0,202465211318272.0,268831012421632.0,315261336944640.0],\"xaxis\":\"x\",\"y\":[\"Total Preview Blended Products Revenue/0434 NASHVILLE MMS/Average Check per Payroll - RW\",\"Total Preview Blended Products Revenue/0476 NORTHERN NJ MMS/Chk/Client/Week - RW\",\"GASREGW\",\"Total Preview Blended Products Revenue/0456 TWIN CITIES MMS/Transfers out - RW\",\"Total Flex Blended Products Revenue/Sarasota/SmallBiz/Check Volume - RW\",\"Total Flex Blended Products Revenue/0921 DSC West/Losses - RW\",\"Total Flex Blended Products Revenue/Auburn RSC/Check Volume - RW\",\"Total Preview Blended Products Revenue/0475 PHOENIX MMS/Net Client Gain - RW\",\"Product NA/6000 CORP OFFICE/# of Weeks - RW\",\"Total Flex Blended Products Revenue/0922 DSC Central/Net Client Gain - RW\"],\"yaxis\":\"y\",\"type\":\"bar\"}],                        {\"template\":{\"data\":{\"histogram2dcontour\":[{\"type\":\"histogram2dcontour\",\"colorbar\":{\"outlinewidth\":0,\"ticks\":\"\"},\"colorscale\":[[0.0,\"#0d0887\"],[0.1111111111111111,\"#46039f\"],[0.2222222222222222,\"#7201a8\"],[0.3333333333333333,\"#9c179e\"],[0.4444444444444444,\"#bd3786\"],[0.5555555555555556,\"#d8576b\"],[0.6666666666666666,\"#ed7953\"],[0.7777777777777778,\"#fb9f3a\"],[0.8888888888888888,\"#fdca26\"],[1.0,\"#f0f921\"]]}],\"choropleth\":[{\"type\":\"choropleth\",\"colorbar\":{\"outlinewidth\":0,\"ticks\":\"\"}}],\"histogram2d\":[{\"type\":\"histogram2d\",\"colorbar\":{\"outlinewidth\":0,\"ticks\":\"\"},\"colorscale\":[[0.0,\"#0d0887\"],[0.1111111111111111,\"#46039f\"],[0.2222222222222222,\"#7201a8\"],[0.3333333333333333,\"#9c179e\"],[0.4444444444444444,\"#bd3786\"],[0.5555555555555556,\"#d8576b\"],[0.6666666666666666,\"#ed7953\"],[0.7777777777777778,\"#fb9f3a\"],[0.8888888888888888,\"#fdca26\"],[1.0,\"#f0f921\"]]}],\"heatmap\":[{\"type\":\"heatmap\",\"colorbar\":{\"outlinewidth\":0,\"ticks\":\"\"},\"colorscale\":[[0.0,\"#0d0887\"],[0.1111111111111111,\"#46039f\"],[0.2222222222222222,\"#7201a8\"],[0.3333333333333333,\"#9c179e\"],[0.4444444444444444,\"#bd3786\"],[0.5555555555555556,\"#d8576b\"],[0.6666666666666666,\"#ed7953\"],[0.7777777777777778,\"#fb9f3a\"],[0.8888888888888888,\"#fdca26\"],[1.0,\"#f0f921\"]]}],\"heatmapgl\":[{\"type\":\"heatmapgl\",\"colorbar\":{\"outlinewidth\":0,\"ticks\":\"\"},\"colorscale\":[[0.0,\"#0d0887\"],[0.1111111111111111,\"#46039f\"],[0.2222222222222222,\"#7201a8\"],[0.3333333333333333,\"#9c179e\"],[0.4444444444444444,\"#bd3786\"],[0.5555555555555556,\"#d8576b\"],[0.6666666666666666,\"#ed7953\"],[0.7777777777777778,\"#fb9f3a\"],[0.8888888888888888,\"#fdca26\"],[1.0,\"#f0f921\"]]}],\"contourcarpet\":[{\"type\":\"contourcarpet\",\"colorbar\":{\"outlinewidth\":0,\"ticks\":\"\"}}],\"contour\":[{\"type\":\"contour\",\"colorbar\":{\"outlinewidth\":0,\"ticks\":\"\"},\"colorscale\":[[0.0,\"#0d0887\"],[0.1111111111111111,\"#46039f\"],[0.2222222222222222,\"#7201a8\"],[0.3333333333333333,\"#9c179e\"],[0.4444444444444444,\"#bd3786\"],[0.5555555555555556,\"#d8576b\"],[0.6666666666666666,\"#ed7953\"],[0.7777777777777778,\"#fb9f3a\"],[0.8888888888888888,\"#fdca26\"],[1.0,\"#f0f921\"]]}],\"surface\":[{\"type\":\"surface\",\"colorbar\":{\"outlinewidth\":0,\"ticks\":\"\"},\"colorscale\":[[0.0,\"#0d0887\"],[0.1111111111111111,\"#46039f\"],[0.2222222222222222,\"#7201a8\"],[0.3333333333333333,\"#9c179e\"],[0.4444444444444444,\"#bd3786\"],[0.5555555555555556,\"#d8576b\"],[0.6666666666666666,\"#ed7953\"],[0.7777777777777778,\"#fb9f3a\"],[0.8888888888888888,\"#fdca26\"],[1.0,\"#f0f921\"]]}],\"mesh3d\":[{\"type\":\"mesh3d\",\"colorbar\":{\"outlinewidth\":0,\"ticks\":\"\"}}],\"scatter\":[{\"fillpattern\":{\"fillmode\":\"overlay\",\"size\":10,\"solidity\":0.2},\"type\":\"scatter\"}],\"parcoords\":[{\"type\":\"parcoords\",\"line\":{\"colorbar\":{\"outlinewidth\":0,\"ticks\":\"\"}}}],\"scatterpolargl\":[{\"type\":\"scatterpolargl\",\"marker\":{\"colorbar\":{\"outlinewidth\":0,\"ticks\":\"\"}}}],\"bar\":[{\"error_x\":{\"color\":\"#2a3f5f\"},\"error_y\":{\"color\":\"#2a3f5f\"},\"marker\":{\"line\":{\"color\":\"#E5ECF6\",\"width\":0.5},\"pattern\":{\"fillmode\":\"overlay\",\"size\":10,\"solidity\":0.2}},\"type\":\"bar\"}],\"scattergeo\":[{\"type\":\"scattergeo\",\"marker\":{\"colorbar\":{\"outlinewidth\":0,\"ticks\":\"\"}}}],\"scatterpolar\":[{\"type\":\"scatterpolar\",\"marker\":{\"colorbar\":{\"outlinewidth\":0,\"ticks\":\"\"}}}],\"histogram\":[{\"marker\":{\"pattern\":{\"fillmode\":\"overlay\",\"size\":10,\"solidity\":0.2}},\"type\":\"histogram\"}],\"scattergl\":[{\"type\":\"scattergl\",\"marker\":{\"colorbar\":{\"outlinewidth\":0,\"ticks\":\"\"}}}],\"scatter3d\":[{\"type\":\"scatter3d\",\"line\":{\"colorbar\":{\"outlinewidth\":0,\"ticks\":\"\"}},\"marker\":{\"colorbar\":{\"outlinewidth\":0,\"ticks\":\"\"}}}],\"scattermapbox\":[{\"type\":\"scattermapbox\",\"marker\":{\"colorbar\":{\"outlinewidth\":0,\"ticks\":\"\"}}}],\"scatterternary\":[{\"type\":\"scatterternary\",\"marker\":{\"colorbar\":{\"outlinewidth\":0,\"ticks\":\"\"}}}],\"scattercarpet\":[{\"type\":\"scattercarpet\",\"marker\":{\"colorbar\":{\"outlinewidth\":0,\"ticks\":\"\"}}}],\"carpet\":[{\"aaxis\":{\"endlinecolor\":\"#2a3f5f\",\"gridcolor\":\"white\",\"linecolor\":\"white\",\"minorgridcolor\":\"white\",\"startlinecolor\":\"#2a3f5f\"},\"baxis\":{\"endlinecolor\":\"#2a3f5f\",\"gridcolor\":\"white\",\"linecolor\":\"white\",\"minorgridcolor\":\"white\",\"startlinecolor\":\"#2a3f5f\"},\"type\":\"carpet\"}],\"table\":[{\"cells\":{\"fill\":{\"color\":\"#EBF0F8\"},\"line\":{\"color\":\"white\"}},\"header\":{\"fill\":{\"color\":\"#C8D4E3\"},\"line\":{\"color\":\"white\"}},\"type\":\"table\"}],\"barpolar\":[{\"marker\":{\"line\":{\"color\":\"#E5ECF6\",\"width\":0.5},\"pattern\":{\"fillmode\":\"overlay\",\"size\":10,\"solidity\":0.2}},\"type\":\"barpolar\"}],\"pie\":[{\"automargin\":true,\"type\":\"pie\"}]},\"layout\":{\"autotypenumbers\":\"strict\",\"colorway\":[\"#636efa\",\"#EF553B\",\"#00cc96\",\"#ab63fa\",\"#FFA15A\",\"#19d3f3\",\"#FF6692\",\"#B6E880\",\"#FF97FF\",\"#FECB52\"],\"font\":{\"color\":\"#2a3f5f\"},\"hovermode\":\"closest\",\"hoverlabel\":{\"align\":\"left\"},\"paper_bgcolor\":\"white\",\"plot_bgcolor\":\"#E5ECF6\",\"polar\":{\"bgcolor\":\"#E5ECF6\",\"angularaxis\":{\"gridcolor\":\"white\",\"linecolor\":\"white\",\"ticks\":\"\"},\"radialaxis\":{\"gridcolor\":\"white\",\"linecolor\":\"white\",\"ticks\":\"\"}},\"ternary\":{\"bgcolor\":\"#E5ECF6\",\"aaxis\":{\"gridcolor\":\"white\",\"linecolor\":\"white\",\"ticks\":\"\"},\"baxis\":{\"gridcolor\":\"white\",\"linecolor\":\"white\",\"ticks\":\"\"},\"caxis\":{\"gridcolor\":\"white\",\"linecolor\":\"white\",\"ticks\":\"\"}},\"coloraxis\":{\"colorbar\":{\"outlinewidth\":0,\"ticks\":\"\"}},\"colorscale\":{\"sequential\":[[0.0,\"#0d0887\"],[0.1111111111111111,\"#46039f\"],[0.2222222222222222,\"#7201a8\"],[0.3333333333333333,\"#9c179e\"],[0.4444444444444444,\"#bd3786\"],[0.5555555555555556,\"#d8576b\"],[0.6666666666666666,\"#ed7953\"],[0.7777777777777778,\"#fb9f3a\"],[0.8888888888888888,\"#fdca26\"],[1.0,\"#f0f921\"]],\"sequentialminus\":[[0.0,\"#0d0887\"],[0.1111111111111111,\"#46039f\"],[0.2222222222222222,\"#7201a8\"],[0.3333333333333333,\"#9c179e\"],[0.4444444444444444,\"#bd3786\"],[0.5555555555555556,\"#d8576b\"],[0.6666666666666666,\"#ed7953\"],[0.7777777777777778,\"#fb9f3a\"],[0.8888888888888888,\"#fdca26\"],[1.0,\"#f0f921\"]],\"diverging\":[[0,\"#8e0152\"],[0.1,\"#c51b7d\"],[0.2,\"#de77ae\"],[0.3,\"#f1b6da\"],[0.4,\"#fde0ef\"],[0.5,\"#f7f7f7\"],[0.6,\"#e6f5d0\"],[0.7,\"#b8e186\"],[0.8,\"#7fbc41\"],[0.9,\"#4d9221\"],[1,\"#276419\"]]},\"xaxis\":{\"gridcolor\":\"white\",\"linecolor\":\"white\",\"ticks\":\"\",\"title\":{\"standoff\":15},\"zerolinecolor\":\"white\",\"automargin\":true,\"zerolinewidth\":2},\"yaxis\":{\"gridcolor\":\"white\",\"linecolor\":\"white\",\"ticks\":\"\",\"title\":{\"standoff\":15},\"zerolinecolor\":\"white\",\"automargin\":true,\"zerolinewidth\":2},\"scene\":{\"xaxis\":{\"backgroundcolor\":\"#E5ECF6\",\"gridcolor\":\"white\",\"linecolor\":\"white\",\"showbackground\":true,\"ticks\":\"\",\"zerolinecolor\":\"white\",\"gridwidth\":2},\"yaxis\":{\"backgroundcolor\":\"#E5ECF6\",\"gridcolor\":\"white\",\"linecolor\":\"white\",\"showbackground\":true,\"ticks\":\"\",\"zerolinecolor\":\"white\",\"gridwidth\":2},\"zaxis\":{\"backgroundcolor\":\"#E5ECF6\",\"gridcolor\":\"white\",\"linecolor\":\"white\",\"showbackground\":true,\"ticks\":\"\",\"zerolinecolor\":\"white\",\"gridwidth\":2}},\"shapedefaults\":{\"line\":{\"color\":\"#2a3f5f\"}},\"annotationdefaults\":{\"arrowcolor\":\"#2a3f5f\",\"arrowhead\":0,\"arrowwidth\":1},\"geo\":{\"bgcolor\":\"white\",\"landcolor\":\"#E5ECF6\",\"subunitcolor\":\"white\",\"showland\":true,\"showlakes\":true,\"lakecolor\":\"white\"},\"title\":{\"x\":0.05},\"mapbox\":{\"style\":\"light\"}}},\"xaxis\":{\"anchor\":\"y\",\"domain\":[0.0,1.0],\"title\":{\"text\":\"Variable Importance\"}},\"yaxis\":{\"anchor\":\"x\",\"domain\":[0.0,1.0],\"title\":{\"text\":\"Feature\"}},\"legend\":{\"tracegroupgap\":0},\"title\":{\"text\":\"Feature Importance Plot\"},\"barmode\":\"relative\"},                        {\"responsive\": true}                    ).then(function(){\n                            \nvar gd = document.getElementById('a8b0380c-4280-4047-91f3-dd930011857a');\nvar x = new MutationObserver(function (mutations, observer) {{\n        var display = window.getComputedStyle(gd).display;\n        if (!display || display === 'none') {{\n            console.log([gd, 'removed!']);\n            Plotly.purge(gd);\n            observer.disconnect();\n        }}\n}});\n\n// Listen for the removal of the full notebook cells\nvar notebookContainer = gd.closest('#notebook-container');\nif (notebookContainer) {{\n    x.observe(notebookContainer, {childList: true});\n}}\n\n// Listen for the clearing of the current output cell\nvar outputEl = gd.closest('.output');\nif (outputEl) {{\n    x.observe(outputEl, {childList: true});\n}}\n\n                        })                };                });            </script>        </div>"
     },
     "metadata": {},
     "output_type": "display_data"
    }
   ],
   "source": [
    "ml_features = models.get_important_features('xgboost', features_threshold)\n",
    "ml_feature_cols = ml_features['Feature'].tolist()\n",
    "\n",
    "if len(ml_features.index) != 0:\n",
    "    # plot the most important features\n",
    "    fig = px.bar(ml_features.sort_values('Variable Importance', ascending=True),\n",
    "                 x='Variable Importance',\n",
    "                 y='Feature',\n",
    "                 orientation='h',\n",
    "                 title='Feature Importance Plot')\n",
    "    fig.show()"
   ],
   "metadata": {
    "collapsed": false,
    "pycharm": {
     "name": "#%%\n"
    }
   }
  },
  {
   "cell_type": "code",
   "execution_count": 45,
   "outputs": [
    {
     "data": {
      "text/plain": "<pandas.io.formats.style.Styler at 0x1b1705296a0>",
      "text/html": "<style type=\"text/css\">\n#T_44cfd th {\n  text-align: left;\n}\n#T_44cfd_row0_col0, #T_44cfd_row1_col0, #T_44cfd_row1_col1, #T_44cfd_row1_col2, #T_44cfd_row1_col3, #T_44cfd_row1_col4, #T_44cfd_row1_col5, #T_44cfd_row1_col6, #T_44cfd_row2_col0, #T_44cfd_row2_col1, #T_44cfd_row2_col2, #T_44cfd_row2_col3, #T_44cfd_row2_col4, #T_44cfd_row2_col5, #T_44cfd_row2_col6, #T_44cfd_row3_col0, #T_44cfd_row3_col1, #T_44cfd_row3_col2, #T_44cfd_row3_col3, #T_44cfd_row3_col4, #T_44cfd_row3_col5, #T_44cfd_row3_col6, #T_44cfd_row4_col0, #T_44cfd_row4_col1, #T_44cfd_row4_col2, #T_44cfd_row4_col3, #T_44cfd_row4_col4, #T_44cfd_row4_col5, #T_44cfd_row4_col6, #T_44cfd_row5_col0, #T_44cfd_row5_col1, #T_44cfd_row5_col2, #T_44cfd_row5_col3, #T_44cfd_row5_col4, #T_44cfd_row5_col5, #T_44cfd_row5_col6, #T_44cfd_row6_col0, #T_44cfd_row6_col1, #T_44cfd_row6_col2, #T_44cfd_row6_col3, #T_44cfd_row6_col4, #T_44cfd_row6_col5, #T_44cfd_row6_col6, #T_44cfd_row7_col0, #T_44cfd_row7_col1, #T_44cfd_row7_col2, #T_44cfd_row7_col3, #T_44cfd_row7_col4, #T_44cfd_row7_col5, #T_44cfd_row7_col6, #T_44cfd_row8_col0, #T_44cfd_row8_col1, #T_44cfd_row8_col2, #T_44cfd_row8_col3, #T_44cfd_row8_col4, #T_44cfd_row8_col5, #T_44cfd_row8_col6, #T_44cfd_row9_col0, #T_44cfd_row9_col1, #T_44cfd_row9_col2, #T_44cfd_row9_col3, #T_44cfd_row9_col4, #T_44cfd_row9_col5, #T_44cfd_row9_col6, #T_44cfd_row10_col0, #T_44cfd_row10_col1, #T_44cfd_row10_col2, #T_44cfd_row10_col3, #T_44cfd_row10_col4, #T_44cfd_row10_col5, #T_44cfd_row10_col6, #T_44cfd_row11_col0, #T_44cfd_row11_col1, #T_44cfd_row11_col2, #T_44cfd_row11_col3, #T_44cfd_row11_col4, #T_44cfd_row11_col5, #T_44cfd_row11_col6, #T_44cfd_row12_col0, #T_44cfd_row12_col1, #T_44cfd_row12_col2, #T_44cfd_row12_col3, #T_44cfd_row12_col4, #T_44cfd_row12_col5, #T_44cfd_row12_col6, #T_44cfd_row13_col0, #T_44cfd_row13_col1, #T_44cfd_row13_col2, #T_44cfd_row13_col3, #T_44cfd_row13_col4, #T_44cfd_row13_col5, #T_44cfd_row13_col6, #T_44cfd_row14_col0, #T_44cfd_row14_col1, #T_44cfd_row14_col2, #T_44cfd_row14_col3, #T_44cfd_row14_col4, #T_44cfd_row14_col5, #T_44cfd_row14_col6, #T_44cfd_row15_col0, #T_44cfd_row15_col1, #T_44cfd_row15_col2, #T_44cfd_row15_col3, #T_44cfd_row15_col4, #T_44cfd_row15_col5, #T_44cfd_row15_col6, #T_44cfd_row16_col0, #T_44cfd_row16_col1, #T_44cfd_row16_col2, #T_44cfd_row16_col3, #T_44cfd_row16_col4, #T_44cfd_row16_col5, #T_44cfd_row16_col6, #T_44cfd_row17_col0, #T_44cfd_row17_col1, #T_44cfd_row17_col2, #T_44cfd_row17_col3, #T_44cfd_row17_col4, #T_44cfd_row17_col5, #T_44cfd_row17_col6, #T_44cfd_row18_col0, #T_44cfd_row18_col1, #T_44cfd_row18_col2, #T_44cfd_row18_col3, #T_44cfd_row18_col4, #T_44cfd_row18_col5, #T_44cfd_row18_col6 {\n  text-align: left;\n}\n#T_44cfd_row0_col1, #T_44cfd_row0_col2, #T_44cfd_row0_col3, #T_44cfd_row0_col4, #T_44cfd_row0_col5, #T_44cfd_row0_col6 {\n  text-align: left;\n  background-color: yellow;\n}\n#T_44cfd_row0_col7, #T_44cfd_row1_col7, #T_44cfd_row2_col7, #T_44cfd_row3_col7, #T_44cfd_row4_col7, #T_44cfd_row5_col7, #T_44cfd_row6_col7, #T_44cfd_row7_col7, #T_44cfd_row8_col7, #T_44cfd_row9_col7, #T_44cfd_row10_col7, #T_44cfd_row11_col7, #T_44cfd_row13_col7, #T_44cfd_row14_col7, #T_44cfd_row15_col7, #T_44cfd_row16_col7, #T_44cfd_row17_col7, #T_44cfd_row18_col7 {\n  text-align: left;\n  background-color: lightgrey;\n}\n#T_44cfd_row12_col7 {\n  text-align: left;\n  background-color: yellow;\n  background-color: lightgrey;\n}\n</style>\n<table id=\"T_44cfd\">\n  <thead>\n    <tr>\n      <th class=\"blank level0\" >&nbsp;</th>\n      <th id=\"T_44cfd_level0_col0\" class=\"col_heading level0 col0\" >Model</th>\n      <th id=\"T_44cfd_level0_col1\" class=\"col_heading level0 col1\" >MAE</th>\n      <th id=\"T_44cfd_level0_col2\" class=\"col_heading level0 col2\" >MSE</th>\n      <th id=\"T_44cfd_level0_col3\" class=\"col_heading level0 col3\" >RMSE</th>\n      <th id=\"T_44cfd_level0_col4\" class=\"col_heading level0 col4\" >R2</th>\n      <th id=\"T_44cfd_level0_col5\" class=\"col_heading level0 col5\" >RMSLE</th>\n      <th id=\"T_44cfd_level0_col6\" class=\"col_heading level0 col6\" >MAPE</th>\n      <th id=\"T_44cfd_level0_col7\" class=\"col_heading level0 col7\" >TT (Sec)</th>\n    </tr>\n  </thead>\n  <tbody>\n    <tr>\n      <th id=\"T_44cfd_level0_row0\" class=\"row_heading level0 row0\" >et</th>\n      <td id=\"T_44cfd_row0_col0\" class=\"data row0 col0\" >Extra Trees Regressor</td>\n      <td id=\"T_44cfd_row0_col1\" class=\"data row0 col1\" >5194547.3348</td>\n      <td id=\"T_44cfd_row0_col2\" class=\"data row0 col2\" >54026356948775.2422</td>\n      <td id=\"T_44cfd_row0_col3\" class=\"data row0 col3\" >7178749.4465</td>\n      <td id=\"T_44cfd_row0_col4\" class=\"data row0 col4\" >0.1811</td>\n      <td id=\"T_44cfd_row0_col5\" class=\"data row0 col5\" >0.0668</td>\n      <td id=\"T_44cfd_row0_col6\" class=\"data row0 col6\" >0.0479</td>\n      <td id=\"T_44cfd_row0_col7\" class=\"data row0 col7\" >0.1033</td>\n    </tr>\n    <tr>\n      <th id=\"T_44cfd_level0_row1\" class=\"row_heading level0 row1\" >rf</th>\n      <td id=\"T_44cfd_row1_col0\" class=\"data row1 col0\" >Random Forest Regressor</td>\n      <td id=\"T_44cfd_row1_col1\" class=\"data row1 col1\" >5669058.8741</td>\n      <td id=\"T_44cfd_row1_col2\" class=\"data row1 col2\" >54879223817402.4609</td>\n      <td id=\"T_44cfd_row1_col3\" class=\"data row1 col3\" >7359689.2995</td>\n      <td id=\"T_44cfd_row1_col4\" class=\"data row1 col4\" >0.0947</td>\n      <td id=\"T_44cfd_row1_col5\" class=\"data row1 col5\" >0.0682</td>\n      <td id=\"T_44cfd_row1_col6\" class=\"data row1 col6\" >0.0519</td>\n      <td id=\"T_44cfd_row1_col7\" class=\"data row1 col7\" >0.0733</td>\n    </tr>\n    <tr>\n      <th id=\"T_44cfd_level0_row2\" class=\"row_heading level0 row2\" >xgboost</th>\n      <td id=\"T_44cfd_row2_col0\" class=\"data row2 col0\" >Extreme Gradient Boosting</td>\n      <td id=\"T_44cfd_row2_col1\" class=\"data row2 col1\" >5728502.0000</td>\n      <td id=\"T_44cfd_row2_col2\" class=\"data row2 col2\" >60673360221525.3359</td>\n      <td id=\"T_44cfd_row2_col3\" class=\"data row2 col3\" >7691735.0000</td>\n      <td id=\"T_44cfd_row2_col4\" class=\"data row2 col4\" >-0.0026</td>\n      <td id=\"T_44cfd_row2_col5\" class=\"data row2 col5\" >0.0725</td>\n      <td id=\"T_44cfd_row2_col6\" class=\"data row2 col6\" >0.0526</td>\n      <td id=\"T_44cfd_row2_col7\" class=\"data row2 col7\" >0.1033</td>\n    </tr>\n    <tr>\n      <th id=\"T_44cfd_level0_row3\" class=\"row_heading level0 row3\" >ada</th>\n      <td id=\"T_44cfd_row3_col0\" class=\"data row3 col0\" >AdaBoost Regressor</td>\n      <td id=\"T_44cfd_row3_col1\" class=\"data row3 col1\" >5845199.2208</td>\n      <td id=\"T_44cfd_row3_col2\" class=\"data row3 col2\" >58983811155976.6250</td>\n      <td id=\"T_44cfd_row3_col3\" class=\"data row3 col3\" >7542717.9595</td>\n      <td id=\"T_44cfd_row3_col4\" class=\"data row3 col4\" >0.0325</td>\n      <td id=\"T_44cfd_row3_col5\" class=\"data row3 col5\" >0.0702</td>\n      <td id=\"T_44cfd_row3_col6\" class=\"data row3 col6\" >0.0530</td>\n      <td id=\"T_44cfd_row3_col7\" class=\"data row3 col7\" >0.0300</td>\n    </tr>\n    <tr>\n      <th id=\"T_44cfd_level0_row4\" class=\"row_heading level0 row4\" >gbr</th>\n      <td id=\"T_44cfd_row4_col0\" class=\"data row4 col0\" >Gradient Boosting Regressor</td>\n      <td id=\"T_44cfd_row4_col1\" class=\"data row4 col1\" >6101604.7295</td>\n      <td id=\"T_44cfd_row4_col2\" class=\"data row4 col2\" >64831346142322.6250</td>\n      <td id=\"T_44cfd_row4_col3\" class=\"data row4 col3\" >7924104.9018</td>\n      <td id=\"T_44cfd_row4_col4\" class=\"data row4 col4\" >-0.0474</td>\n      <td id=\"T_44cfd_row4_col5\" class=\"data row4 col5\" >0.0744</td>\n      <td id=\"T_44cfd_row4_col6\" class=\"data row4 col6\" >0.0558</td>\n      <td id=\"T_44cfd_row4_col7\" class=\"data row4 col7\" >0.0167</td>\n    </tr>\n    <tr>\n      <th id=\"T_44cfd_level0_row5\" class=\"row_heading level0 row5\" >dummy</th>\n      <td id=\"T_44cfd_row5_col0\" class=\"data row5 col0\" >Dummy Regressor</td>\n      <td id=\"T_44cfd_row5_col1\" class=\"data row5 col1\" >6761397.1667</td>\n      <td id=\"T_44cfd_row5_col2\" class=\"data row5 col2\" >68877178372096.0000</td>\n      <td id=\"T_44cfd_row5_col3\" class=\"data row5 col3\" >8176986.8333</td>\n      <td id=\"T_44cfd_row5_col4\" class=\"data row5 col4\" >-0.0736</td>\n      <td id=\"T_44cfd_row5_col5\" class=\"data row5 col5\" >0.0748</td>\n      <td id=\"T_44cfd_row5_col6\" class=\"data row5 col6\" >0.0618</td>\n      <td id=\"T_44cfd_row5_col7\" class=\"data row5 col7\" >0.0067</td>\n    </tr>\n    <tr>\n      <th id=\"T_44cfd_level0_row6\" class=\"row_heading level0 row6\" >lightgbm</th>\n      <td id=\"T_44cfd_row6_col0\" class=\"data row6 col0\" >Light Gradient Boosting Machine</td>\n      <td id=\"T_44cfd_row6_col1\" class=\"data row6 col1\" >6808708.0104</td>\n      <td id=\"T_44cfd_row6_col2\" class=\"data row6 col2\" >61672724599605.1562</td>\n      <td id=\"T_44cfd_row6_col3\" class=\"data row6 col3\" >7774255.9180</td>\n      <td id=\"T_44cfd_row6_col4\" class=\"data row6 col4\" >0.0064</td>\n      <td id=\"T_44cfd_row6_col5\" class=\"data row6 col5\" >0.0710</td>\n      <td id=\"T_44cfd_row6_col6\" class=\"data row6 col6\" >0.0620</td>\n      <td id=\"T_44cfd_row6_col7\" class=\"data row6 col7\" >0.0133</td>\n    </tr>\n    <tr>\n      <th id=\"T_44cfd_level0_row7\" class=\"row_heading level0 row7\" >knn</th>\n      <td id=\"T_44cfd_row7_col0\" class=\"data row7 col0\" >K Neighbors Regressor</td>\n      <td id=\"T_44cfd_row7_col1\" class=\"data row7 col1\" >7598891.5000</td>\n      <td id=\"T_44cfd_row7_col2\" class=\"data row7 col2\" >93200424020650.6719</td>\n      <td id=\"T_44cfd_row7_col3\" class=\"data row7 col3\" >9644568.3333</td>\n      <td id=\"T_44cfd_row7_col4\" class=\"data row7 col4\" >-0.6814</td>\n      <td id=\"T_44cfd_row7_col5\" class=\"data row7 col5\" >0.0894</td>\n      <td id=\"T_44cfd_row7_col6\" class=\"data row7 col6\" >0.0680</td>\n      <td id=\"T_44cfd_row7_col7\" class=\"data row7 col7\" >0.0100</td>\n    </tr>\n    <tr>\n      <th id=\"T_44cfd_level0_row8\" class=\"row_heading level0 row8\" >ridge</th>\n      <td id=\"T_44cfd_row8_col0\" class=\"data row8 col0\" >Ridge Regression</td>\n      <td id=\"T_44cfd_row8_col1\" class=\"data row8 col1\" >7668291.5000</td>\n      <td id=\"T_44cfd_row8_col2\" class=\"data row8 col2\" >117715034789205.3281</td>\n      <td id=\"T_44cfd_row8_col3\" class=\"data row8 col3\" >9999696.8333</td>\n      <td id=\"T_44cfd_row8_col4\" class=\"data row8 col4\" >-0.9130</td>\n      <td id=\"T_44cfd_row8_col5\" class=\"data row8 col5\" >0.0972</td>\n      <td id=\"T_44cfd_row8_col6\" class=\"data row8 col6\" >0.0697</td>\n      <td id=\"T_44cfd_row8_col7\" class=\"data row8 col7\" >0.0100</td>\n    </tr>\n    <tr>\n      <th id=\"T_44cfd_level0_row9\" class=\"row_heading level0 row9\" >dt</th>\n      <td id=\"T_44cfd_row9_col0\" class=\"data row9 col0\" >Decision Tree Regressor</td>\n      <td id=\"T_44cfd_row9_col1\" class=\"data row9 col1\" >7838234.6667</td>\n      <td id=\"T_44cfd_row9_col2\" class=\"data row9 col2\" >98818907221549.0469</td>\n      <td id=\"T_44cfd_row9_col3\" class=\"data row9 col3\" >9870675.4903</td>\n      <td id=\"T_44cfd_row9_col4\" class=\"data row9 col4\" >-0.7013</td>\n      <td id=\"T_44cfd_row9_col5\" class=\"data row9 col5\" >0.0926</td>\n      <td id=\"T_44cfd_row9_col6\" class=\"data row9 col6\" >0.0722</td>\n      <td id=\"T_44cfd_row9_col7\" class=\"data row9 col7\" >0.0067</td>\n    </tr>\n    <tr>\n      <th id=\"T_44cfd_level0_row10\" class=\"row_heading level0 row10\" >en</th>\n      <td id=\"T_44cfd_row10_col0\" class=\"data row10 col0\" >Elastic Net</td>\n      <td id=\"T_44cfd_row10_col1\" class=\"data row10 col1\" >8312575.3333</td>\n      <td id=\"T_44cfd_row10_col2\" class=\"data row10 col2\" >127357921438378.6719</td>\n      <td id=\"T_44cfd_row10_col3\" class=\"data row10 col3\" >10446758.5000</td>\n      <td id=\"T_44cfd_row10_col4\" class=\"data row10 col4\" >-1.0679</td>\n      <td id=\"T_44cfd_row10_col5\" class=\"data row10 col5\" >0.1020</td>\n      <td id=\"T_44cfd_row10_col6\" class=\"data row10 col6\" >0.0758</td>\n      <td id=\"T_44cfd_row10_col7\" class=\"data row10 col7\" >0.0067</td>\n    </tr>\n    <tr>\n      <th id=\"T_44cfd_level0_row11\" class=\"row_heading level0 row11\" >omp</th>\n      <td id=\"T_44cfd_row11_col0\" class=\"data row11 col0\" >Orthogonal Matching Pursuit</td>\n      <td id=\"T_44cfd_row11_col1\" class=\"data row11 col1\" >8640239.3581</td>\n      <td id=\"T_44cfd_row11_col2\" class=\"data row11 col2\" >139908336946627.6406</td>\n      <td id=\"T_44cfd_row11_col3\" class=\"data row11 col3\" >11296162.8951</td>\n      <td id=\"T_44cfd_row11_col4\" class=\"data row11 col4\" >-1.1663</td>\n      <td id=\"T_44cfd_row11_col5\" class=\"data row11 col5\" >0.1105</td>\n      <td id=\"T_44cfd_row11_col6\" class=\"data row11 col6\" >0.0792</td>\n      <td id=\"T_44cfd_row11_col7\" class=\"data row11 col7\" >0.0100</td>\n    </tr>\n    <tr>\n      <th id=\"T_44cfd_level0_row12\" class=\"row_heading level0 row12\" >lasso</th>\n      <td id=\"T_44cfd_row12_col0\" class=\"data row12 col0\" >Lasso Regression</td>\n      <td id=\"T_44cfd_row12_col1\" class=\"data row12 col1\" >9547143.8333</td>\n      <td id=\"T_44cfd_row12_col2\" class=\"data row12 col2\" >169089681762986.6562</td>\n      <td id=\"T_44cfd_row12_col3\" class=\"data row12 col3\" >12066717.3333</td>\n      <td id=\"T_44cfd_row12_col4\" class=\"data row12 col4\" >-3.0688</td>\n      <td id=\"T_44cfd_row12_col5\" class=\"data row12 col5\" >0.1036</td>\n      <td id=\"T_44cfd_row12_col6\" class=\"data row12 col6\" >0.0875</td>\n      <td id=\"T_44cfd_row12_col7\" class=\"data row12 col7\" >0.0033</td>\n    </tr>\n    <tr>\n      <th id=\"T_44cfd_level0_row13\" class=\"row_heading level0 row13\" >lr</th>\n      <td id=\"T_44cfd_row13_col0\" class=\"data row13 col0\" >Linear Regression</td>\n      <td id=\"T_44cfd_row13_col1\" class=\"data row13 col1\" >9801632.5000</td>\n      <td id=\"T_44cfd_row13_col2\" class=\"data row13 col2\" >202625491053226.6562</td>\n      <td id=\"T_44cfd_row13_col3\" class=\"data row13 col3\" >13054450.6667</td>\n      <td id=\"T_44cfd_row13_col4\" class=\"data row13 col4\" >-2.4999</td>\n      <td id=\"T_44cfd_row13_col5\" class=\"data row13 col5\" >0.1295</td>\n      <td id=\"T_44cfd_row13_col6\" class=\"data row13 col6\" >0.0893</td>\n      <td id=\"T_44cfd_row13_col7\" class=\"data row13 col7\" >0.0067</td>\n    </tr>\n    <tr>\n      <th id=\"T_44cfd_level0_row14\" class=\"row_heading level0 row14\" >llar</th>\n      <td id=\"T_44cfd_row14_col0\" class=\"data row14 col0\" >Lasso Least Angle Regression</td>\n      <td id=\"T_44cfd_row14_col1\" class=\"data row14 col1\" >9854697.5106</td>\n      <td id=\"T_44cfd_row14_col2\" class=\"data row14 col2\" >186761179895797.5312</td>\n      <td id=\"T_44cfd_row14_col3\" class=\"data row14 col3\" >12797448.4494</td>\n      <td id=\"T_44cfd_row14_col4\" class=\"data row14 col4\" >-3.3152</td>\n      <td id=\"T_44cfd_row14_col5\" class=\"data row14 col5\" >0.1158</td>\n      <td id=\"T_44cfd_row14_col6\" class=\"data row14 col6\" >0.0897</td>\n      <td id=\"T_44cfd_row14_col7\" class=\"data row14 col7\" >0.0100</td>\n    </tr>\n    <tr>\n      <th id=\"T_44cfd_level0_row15\" class=\"row_heading level0 row15\" >br</th>\n      <td id=\"T_44cfd_row15_col0\" class=\"data row15 col0\" >Bayesian Ridge</td>\n      <td id=\"T_44cfd_row15_col1\" class=\"data row15 col1\" >10734326.3769</td>\n      <td id=\"T_44cfd_row15_col2\" class=\"data row15 col2\" >171021520432268.8750</td>\n      <td id=\"T_44cfd_row15_col3\" class=\"data row15 col3\" >12798691.1702</td>\n      <td id=\"T_44cfd_row15_col4\" class=\"data row15 col4\" >-2.1528</td>\n      <td id=\"T_44cfd_row15_col5\" class=\"data row15 col5\" >0.1247</td>\n      <td id=\"T_44cfd_row15_col6\" class=\"data row15 col6\" >0.0966</td>\n      <td id=\"T_44cfd_row15_col7\" class=\"data row15 col7\" >0.0100</td>\n    </tr>\n    <tr>\n      <th id=\"T_44cfd_level0_row16\" class=\"row_heading level0 row16\" >par</th>\n      <td id=\"T_44cfd_row16_col0\" class=\"data row16 col0\" >Passive Aggressive Regressor</td>\n      <td id=\"T_44cfd_row16_col1\" class=\"data row16 col1\" >17957003.5978</td>\n      <td id=\"T_44cfd_row16_col2\" class=\"data row16 col2\" >447065755333675.0000</td>\n      <td id=\"T_44cfd_row16_col3\" class=\"data row16 col3\" >20396319.7796</td>\n      <td id=\"T_44cfd_row16_col4\" class=\"data row16 col4\" >-9.0892</td>\n      <td id=\"T_44cfd_row16_col5\" class=\"data row16 col5\" >0.2152</td>\n      <td id=\"T_44cfd_row16_col6\" class=\"data row16 col6\" >0.1643</td>\n      <td id=\"T_44cfd_row16_col7\" class=\"data row16 col7\" >0.0100</td>\n    </tr>\n    <tr>\n      <th id=\"T_44cfd_level0_row17\" class=\"row_heading level0 row17\" >huber</th>\n      <td id=\"T_44cfd_row17_col0\" class=\"data row17 col0\" >Huber Regressor</td>\n      <td id=\"T_44cfd_row17_col1\" class=\"data row17 col1\" >21154404.7008</td>\n      <td id=\"T_44cfd_row17_col2\" class=\"data row17 col2\" >685765486856918.6250</td>\n      <td id=\"T_44cfd_row17_col3\" class=\"data row17 col3\" >25369403.4570</td>\n      <td id=\"T_44cfd_row17_col4\" class=\"data row17 col4\" >-12.4006</td>\n      <td id=\"T_44cfd_row17_col5\" class=\"data row17 col5\" >0.2402</td>\n      <td id=\"T_44cfd_row17_col6\" class=\"data row17 col6\" >0.1944</td>\n      <td id=\"T_44cfd_row17_col7\" class=\"data row17 col7\" >0.0200</td>\n    </tr>\n    <tr>\n      <th id=\"T_44cfd_level0_row18\" class=\"row_heading level0 row18\" >lar</th>\n      <td id=\"T_44cfd_row18_col0\" class=\"data row18 col0\" >Least Angle Regression</td>\n      <td id=\"T_44cfd_row18_col1\" class=\"data row18 col1\" >1220787668587650.7500</td>\n      <td id=\"T_44cfd_row18_col2\" class=\"data row18 col2\" >6016267356003411764461189464064.0000</td>\n      <td id=\"T_44cfd_row18_col3\" class=\"data row18 col3\" >1416129440766377.0000</td>\n      <td id=\"T_44cfd_row18_col4\" class=\"data row18 col4\" >-83967983995998224.0000</td>\n      <td id=\"T_44cfd_row18_col5\" class=\"data row18 col5\" >5.9800</td>\n      <td id=\"T_44cfd_row18_col6\" class=\"data row18 col6\" >11162776.6098</td>\n      <td id=\"T_44cfd_row18_col7\" class=\"data row18 col7\" >0.0067</td>\n    </tr>\n  </tbody>\n</table>\n"
     },
     "metadata": {},
     "output_type": "display_data"
    },
    {
     "name": "stdout",
     "output_type": "stream",
     "text": [
      "<class 'sklearn.ensemble._forest.ExtraTreesRegressor'>\n"
     ]
    }
   ],
   "source": [
    "# ------------------------------------------------------------------------------------- #\n",
    "# re-run the auto ml with only the important features\n",
    "# ------------------------------------------------------------------------------------- #\n",
    "feature_cols = ml_feature_cols\n",
    "keeps = ['Calendar Date', target_col]+feature_cols\n",
    "train_df = train_df[keeps]\n",
    "test_df = test_df[keeps]\n",
    "comb_df = comb_df[keeps]\n",
    "\n",
    "best = models.run_auto_ml(train_df, test_df, target_col, feature_cols, False, ml_criteria)"
   ],
   "metadata": {
    "collapsed": false,
    "pycharm": {
     "name": "#%%\n"
    }
   }
  },
  {
   "cell_type": "code",
   "execution_count": 46,
   "outputs": [
    {
     "data": {
      "application/vnd.plotly.v1+json": {
       "data": [
        {
         "hovertemplate": "variable=Payroll blended products<br>Date=%{x}<br>value=%{y}<extra></extra>",
         "legendgroup": "Payroll blended products",
         "line": {
          "color": "#636efa",
          "dash": "solid"
         },
         "marker": {
          "symbol": "circle"
         },
         "mode": "lines",
         "name": "Payroll blended products",
         "orientation": "v",
         "showlegend": true,
         "x": [
          "2014-06-01T00:00:00",
          "2014-07-01T00:00:00",
          "2014-08-01T00:00:00",
          "2014-09-01T00:00:00",
          "2014-10-01T00:00:00",
          "2014-11-01T00:00:00",
          "2014-12-01T00:00:00",
          "2015-01-01T00:00:00",
          "2015-02-01T00:00:00",
          "2015-03-01T00:00:00",
          "2015-04-01T00:00:00",
          "2015-05-01T00:00:00",
          "2015-06-01T00:00:00",
          "2015-07-01T00:00:00",
          "2015-08-01T00:00:00",
          "2015-09-01T00:00:00",
          "2015-10-01T00:00:00",
          "2015-11-01T00:00:00",
          "2015-12-01T00:00:00",
          "2016-01-01T00:00:00",
          "2016-02-01T00:00:00",
          "2016-03-01T00:00:00",
          "2016-04-01T00:00:00",
          "2016-05-01T00:00:00",
          "2016-06-01T00:00:00",
          "2016-07-01T00:00:00",
          "2016-08-01T00:00:00",
          "2016-09-01T00:00:00",
          "2016-10-01T00:00:00",
          "2016-11-01T00:00:00",
          "2016-12-01T00:00:00",
          "2017-01-01T00:00:00",
          "2017-02-01T00:00:00",
          "2017-03-01T00:00:00",
          "2017-04-01T00:00:00",
          "2017-05-01T00:00:00",
          "2017-06-01T00:00:00",
          "2017-07-01T00:00:00",
          "2017-08-01T00:00:00",
          "2017-09-01T00:00:00",
          "2017-10-01T00:00:00",
          "2017-11-01T00:00:00",
          "2017-12-01T00:00:00",
          "2018-01-01T00:00:00",
          "2018-02-01T00:00:00",
          "2018-03-01T00:00:00",
          "2018-04-01T00:00:00",
          "2018-05-01T00:00:00",
          "2018-06-01T00:00:00",
          "2018-07-01T00:00:00",
          "2018-08-01T00:00:00",
          "2018-09-01T00:00:00",
          "2018-10-01T00:00:00",
          "2018-11-01T00:00:00",
          "2018-12-01T00:00:00",
          "2019-01-01T00:00:00",
          "2019-02-01T00:00:00",
          "2019-03-01T00:00:00",
          "2019-04-01T00:00:00",
          "2019-05-01T00:00:00",
          "2019-06-01T00:00:00",
          "2019-07-01T00:00:00",
          "2019-08-01T00:00:00",
          "2019-09-01T00:00:00",
          "2019-10-01T00:00:00",
          "2019-11-01T00:00:00",
          "2019-12-01T00:00:00",
          "2020-01-01T00:00:00",
          "2020-02-01T00:00:00",
          "2020-03-01T00:00:00",
          "2020-04-01T00:00:00",
          "2020-05-01T00:00:00",
          "2020-06-01T00:00:00",
          "2020-07-01T00:00:00",
          "2020-08-01T00:00:00",
          "2020-09-01T00:00:00",
          "2020-10-01T00:00:00",
          "2020-11-01T00:00:00",
          "2020-12-01T00:00:00",
          "2021-01-01T00:00:00",
          "2021-02-01T00:00:00",
          "2021-03-01T00:00:00",
          "2021-04-01T00:00:00",
          "2021-05-01T00:00:00"
         ],
         "xaxis": "x",
         "y": [
          9.9633512E7,
          1.21619696E8,
          9.9472483E7,
          9.419823E7,
          1.24353873E8,
          9.8868618E7,
          9.9281713E7,
          1.24388966E8,
          9.5862151E7,
          9.2298659E7,
          1.21697752E8,
          1.01684796E8,
          9.8488622E7,
          1.28603825E8,
          1.05495604E8,
          1.25580319E8,
          1.00345212E8,
          1.0102739E8,
          1.03140193E8,
          1.25846591E8,
          9.6492494E7,
          1.20343617E8,
          9.8703839E7,
          1.06311407E8,
          1.18434494E8,
          1.04657878E8,
          1.17436063E8,
          1.10000558E8,
          1.05928516E8,
          1.13829464E8,
          1.17493864E8,
          1.06635184E8,
          9.8803491E7,
          1.11544069E8,
          9.9478187E7,
          1.18429597E8,
          1.15286408E8,
          1.08148242E8,
          1.20254168E8,
          1.04705146E8,
          1.10931972E8,
          1.15430932E8,
          1.13194342E8,
          1.10248167E8,
          9.8798038E7,
          1.06248694E8,
          1.03554646E8,
          1.19149029E8,
          1.07365918E8,
          1.13740156E8,
          1.1650572E8,
          1.02622473E8,
          1.15762795E8,
          1.10179873E8,
          1.17538398E8,
          1.10354647E8,
          9.8377675E7,
          9.995827E7,
          1.08700563E8,
          1.15331665E8,
          1.06731158E8,
          1.19190721E8,
          1.13364359E8,
          1.08305027E8,
          1.19068432E8,
          1.05060481E8,
          1.28667631E8,
          1.06043776E8,
          9.9644382E7,
          1.07287296E8,
          9.2673007E7,
          9.0949332E7,
          1.03438412E8,
          1.03718926E8,
          9.9146164E7,
          1.08696536E8,
          1.07861298E8,
          1.05164502E8,
          1.26152261E8,
          9.4834624E7,
          9.6978102E7,
          1.10554131E8,
          1.05999185E8,
          1.01329196E8
         ],
         "yaxis": "y",
         "type": "scatter"
        },
        {
         "hovertemplate": "variable=Payroll blended products - ML Predicted<br>Date=%{x}<br>value=%{y}<extra></extra>",
         "legendgroup": "Payroll blended products - ML Predicted",
         "line": {
          "color": "#EF553B",
          "dash": "solid"
         },
         "marker": {
          "symbol": "circle"
         },
         "mode": "lines",
         "name": "Payroll blended products - ML Predicted",
         "orientation": "v",
         "showlegend": true,
         "x": [
          "2014-06-01T00:00:00",
          "2014-07-01T00:00:00",
          "2014-08-01T00:00:00",
          "2014-09-01T00:00:00",
          "2014-10-01T00:00:00",
          "2014-11-01T00:00:00",
          "2014-12-01T00:00:00",
          "2015-01-01T00:00:00",
          "2015-02-01T00:00:00",
          "2015-03-01T00:00:00",
          "2015-04-01T00:00:00",
          "2015-05-01T00:00:00",
          "2015-06-01T00:00:00",
          "2015-07-01T00:00:00",
          "2015-08-01T00:00:00",
          "2015-09-01T00:00:00",
          "2015-10-01T00:00:00",
          "2015-11-01T00:00:00",
          "2015-12-01T00:00:00",
          "2016-01-01T00:00:00",
          "2016-02-01T00:00:00",
          "2016-03-01T00:00:00",
          "2016-04-01T00:00:00",
          "2016-05-01T00:00:00",
          "2016-06-01T00:00:00",
          "2016-07-01T00:00:00",
          "2016-08-01T00:00:00",
          "2016-09-01T00:00:00",
          "2016-10-01T00:00:00",
          "2016-11-01T00:00:00",
          "2016-12-01T00:00:00",
          "2017-01-01T00:00:00",
          "2017-02-01T00:00:00",
          "2017-03-01T00:00:00",
          "2017-04-01T00:00:00",
          "2017-05-01T00:00:00",
          "2017-06-01T00:00:00",
          "2017-07-01T00:00:00",
          "2017-08-01T00:00:00",
          "2017-09-01T00:00:00",
          "2017-10-01T00:00:00",
          "2017-11-01T00:00:00",
          "2017-12-01T00:00:00",
          "2018-01-01T00:00:00",
          "2018-02-01T00:00:00",
          "2018-03-01T00:00:00",
          "2018-04-01T00:00:00",
          "2018-05-01T00:00:00",
          "2018-06-01T00:00:00",
          "2018-07-01T00:00:00",
          "2018-08-01T00:00:00",
          "2018-09-01T00:00:00",
          "2018-10-01T00:00:00",
          "2018-11-01T00:00:00",
          "2018-12-01T00:00:00",
          "2019-01-01T00:00:00",
          "2019-02-01T00:00:00",
          "2019-03-01T00:00:00",
          "2019-04-01T00:00:00",
          "2019-05-01T00:00:00",
          "2019-06-01T00:00:00",
          "2019-07-01T00:00:00",
          "2019-08-01T00:00:00",
          "2019-09-01T00:00:00",
          "2019-10-01T00:00:00",
          "2019-11-01T00:00:00",
          "2019-12-01T00:00:00",
          "2020-01-01T00:00:00",
          "2020-02-01T00:00:00",
          "2020-03-01T00:00:00",
          "2020-04-01T00:00:00",
          "2020-05-01T00:00:00",
          "2020-06-01T00:00:00",
          "2020-07-01T00:00:00",
          "2020-08-01T00:00:00",
          "2020-09-01T00:00:00",
          "2020-10-01T00:00:00",
          "2020-11-01T00:00:00",
          "2020-12-01T00:00:00",
          "2021-01-01T00:00:00",
          "2021-02-01T00:00:00",
          "2021-03-01T00:00:00",
          "2021-04-01T00:00:00",
          "2021-05-01T00:00:00"
         ],
         "xaxis": "x",
         "y": [
          9.9633512E7,
          1.21619696E8,
          9.947248E7,
          9.4198232E7,
          1.24353872E8,
          9.8868616E7,
          9.9281712E7,
          1.24388968E8,
          9.5862152E7,
          9.2298656E7,
          1.21697752E8,
          1.016848E8,
          9.8488624E7,
          1.28603824E8,
          1.054956E8,
          1.2558032E8,
          1.00345216E8,
          1.01027392E8,
          1.03140192E8,
          1.25846592E8,
          9.6492496E7,
          1.20343616E8,
          9.870384E7,
          1.06311408E8,
          1.18434496E8,
          1.0465788E8,
          1.17436064E8,
          1.1000056E8,
          1.05928512E8,
          1.13829464E8,
          1.17493864E8,
          1.06635184E8,
          9.8803488E7,
          1.11544072E8,
          9.9478184E7,
          1.184296E8,
          1.15286408E8,
          1.0814824E8,
          1.20254168E8,
          1.04705144E8,
          1.10931968E8,
          1.15430928E8,
          1.13194344E8,
          1.10248168E8,
          9.879804E7,
          1.06248696E8,
          1.03554648E8,
          1.19149032E8,
          1.0736592E8,
          1.1374016E8,
          1.1650572E8,
          1.02622472E8,
          1.15762792E8,
          1.10179872E8,
          1.175384E8,
          1.10354648E8,
          9.8377672E7,
          9.9958272E7,
          1.0870056E8,
          1.15331664E8,
          1.0673116E8,
          1.1919072E8,
          1.1336436E8,
          1.08305024E8,
          1.19068432E8,
          1.0506048E8,
          1.28667632E8,
          1.06043776E8,
          9.9644384E7,
          1.07287296E8,
          9.2673008E7,
          9.0949328E7,
          1.0286519528E8,
          1.104011688E8,
          9.687590224E7,
          1.1288429376E8,
          1.027168428E8,
          1.0225584136E8,
          1.0862691864E8,
          1.061212004E8,
          9.610834752E7,
          1.106988092E8,
          9.69968664E7,
          1.0108572912E8
         ],
         "yaxis": "y",
         "type": "scatter"
        }
       ],
       "layout": {
        "template": {
         "data": {
          "barpolar": [
           {
            "marker": {
             "line": {
              "color": "white",
              "width": 0.5
             },
             "pattern": {
              "fillmode": "overlay",
              "size": 10,
              "solidity": 0.2
             }
            },
            "type": "barpolar"
           }
          ],
          "bar": [
           {
            "error_x": {
             "color": "#2a3f5f"
            },
            "error_y": {
             "color": "#2a3f5f"
            },
            "marker": {
             "line": {
              "color": "white",
              "width": 0.5
             },
             "pattern": {
              "fillmode": "overlay",
              "size": 10,
              "solidity": 0.2
             }
            },
            "type": "bar"
           }
          ],
          "carpet": [
           {
            "aaxis": {
             "endlinecolor": "#2a3f5f",
             "gridcolor": "#C8D4E3",
             "linecolor": "#C8D4E3",
             "minorgridcolor": "#C8D4E3",
             "startlinecolor": "#2a3f5f"
            },
            "baxis": {
             "endlinecolor": "#2a3f5f",
             "gridcolor": "#C8D4E3",
             "linecolor": "#C8D4E3",
             "minorgridcolor": "#C8D4E3",
             "startlinecolor": "#2a3f5f"
            },
            "type": "carpet"
           }
          ],
          "choropleth": [
           {
            "colorbar": {
             "outlinewidth": 0,
             "ticks": ""
            },
            "type": "choropleth"
           }
          ],
          "contourcarpet": [
           {
            "colorbar": {
             "outlinewidth": 0,
             "ticks": ""
            },
            "type": "contourcarpet"
           }
          ],
          "contour": [
           {
            "colorbar": {
             "outlinewidth": 0,
             "ticks": ""
            },
            "colorscale": [
             [
              0.0,
              "#0d0887"
             ],
             [
              0.1111111111111111,
              "#46039f"
             ],
             [
              0.2222222222222222,
              "#7201a8"
             ],
             [
              0.3333333333333333,
              "#9c179e"
             ],
             [
              0.4444444444444444,
              "#bd3786"
             ],
             [
              0.5555555555555556,
              "#d8576b"
             ],
             [
              0.6666666666666666,
              "#ed7953"
             ],
             [
              0.7777777777777778,
              "#fb9f3a"
             ],
             [
              0.8888888888888888,
              "#fdca26"
             ],
             [
              1.0,
              "#f0f921"
             ]
            ],
            "type": "contour"
           }
          ],
          "heatmapgl": [
           {
            "colorbar": {
             "outlinewidth": 0,
             "ticks": ""
            },
            "colorscale": [
             [
              0.0,
              "#0d0887"
             ],
             [
              0.1111111111111111,
              "#46039f"
             ],
             [
              0.2222222222222222,
              "#7201a8"
             ],
             [
              0.3333333333333333,
              "#9c179e"
             ],
             [
              0.4444444444444444,
              "#bd3786"
             ],
             [
              0.5555555555555556,
              "#d8576b"
             ],
             [
              0.6666666666666666,
              "#ed7953"
             ],
             [
              0.7777777777777778,
              "#fb9f3a"
             ],
             [
              0.8888888888888888,
              "#fdca26"
             ],
             [
              1.0,
              "#f0f921"
             ]
            ],
            "type": "heatmapgl"
           }
          ],
          "heatmap": [
           {
            "colorbar": {
             "outlinewidth": 0,
             "ticks": ""
            },
            "colorscale": [
             [
              0.0,
              "#0d0887"
             ],
             [
              0.1111111111111111,
              "#46039f"
             ],
             [
              0.2222222222222222,
              "#7201a8"
             ],
             [
              0.3333333333333333,
              "#9c179e"
             ],
             [
              0.4444444444444444,
              "#bd3786"
             ],
             [
              0.5555555555555556,
              "#d8576b"
             ],
             [
              0.6666666666666666,
              "#ed7953"
             ],
             [
              0.7777777777777778,
              "#fb9f3a"
             ],
             [
              0.8888888888888888,
              "#fdca26"
             ],
             [
              1.0,
              "#f0f921"
             ]
            ],
            "type": "heatmap"
           }
          ],
          "histogram2dcontour": [
           {
            "colorbar": {
             "outlinewidth": 0,
             "ticks": ""
            },
            "colorscale": [
             [
              0.0,
              "#0d0887"
             ],
             [
              0.1111111111111111,
              "#46039f"
             ],
             [
              0.2222222222222222,
              "#7201a8"
             ],
             [
              0.3333333333333333,
              "#9c179e"
             ],
             [
              0.4444444444444444,
              "#bd3786"
             ],
             [
              0.5555555555555556,
              "#d8576b"
             ],
             [
              0.6666666666666666,
              "#ed7953"
             ],
             [
              0.7777777777777778,
              "#fb9f3a"
             ],
             [
              0.8888888888888888,
              "#fdca26"
             ],
             [
              1.0,
              "#f0f921"
             ]
            ],
            "type": "histogram2dcontour"
           }
          ],
          "histogram2d": [
           {
            "colorbar": {
             "outlinewidth": 0,
             "ticks": ""
            },
            "colorscale": [
             [
              0.0,
              "#0d0887"
             ],
             [
              0.1111111111111111,
              "#46039f"
             ],
             [
              0.2222222222222222,
              "#7201a8"
             ],
             [
              0.3333333333333333,
              "#9c179e"
             ],
             [
              0.4444444444444444,
              "#bd3786"
             ],
             [
              0.5555555555555556,
              "#d8576b"
             ],
             [
              0.6666666666666666,
              "#ed7953"
             ],
             [
              0.7777777777777778,
              "#fb9f3a"
             ],
             [
              0.8888888888888888,
              "#fdca26"
             ],
             [
              1.0,
              "#f0f921"
             ]
            ],
            "type": "histogram2d"
           }
          ],
          "histogram": [
           {
            "marker": {
             "pattern": {
              "fillmode": "overlay",
              "size": 10,
              "solidity": 0.2
             }
            },
            "type": "histogram"
           }
          ],
          "mesh3d": [
           {
            "colorbar": {
             "outlinewidth": 0,
             "ticks": ""
            },
            "type": "mesh3d"
           }
          ],
          "parcoords": [
           {
            "line": {
             "colorbar": {
              "outlinewidth": 0,
              "ticks": ""
             }
            },
            "type": "parcoords"
           }
          ],
          "pie": [
           {
            "automargin": true,
            "type": "pie"
           }
          ],
          "scatter3d": [
           {
            "line": {
             "colorbar": {
              "outlinewidth": 0,
              "ticks": ""
             }
            },
            "marker": {
             "colorbar": {
              "outlinewidth": 0,
              "ticks": ""
             }
            },
            "type": "scatter3d"
           }
          ],
          "scattercarpet": [
           {
            "marker": {
             "colorbar": {
              "outlinewidth": 0,
              "ticks": ""
             }
            },
            "type": "scattercarpet"
           }
          ],
          "scattergeo": [
           {
            "marker": {
             "colorbar": {
              "outlinewidth": 0,
              "ticks": ""
             }
            },
            "type": "scattergeo"
           }
          ],
          "scattergl": [
           {
            "marker": {
             "colorbar": {
              "outlinewidth": 0,
              "ticks": ""
             }
            },
            "type": "scattergl"
           }
          ],
          "scattermapbox": [
           {
            "marker": {
             "colorbar": {
              "outlinewidth": 0,
              "ticks": ""
             }
            },
            "type": "scattermapbox"
           }
          ],
          "scatterpolargl": [
           {
            "marker": {
             "colorbar": {
              "outlinewidth": 0,
              "ticks": ""
             }
            },
            "type": "scatterpolargl"
           }
          ],
          "scatterpolar": [
           {
            "marker": {
             "colorbar": {
              "outlinewidth": 0,
              "ticks": ""
             }
            },
            "type": "scatterpolar"
           }
          ],
          "scatter": [
           {
            "fillpattern": {
             "fillmode": "overlay",
             "size": 10,
             "solidity": 0.2
            },
            "type": "scatter"
           }
          ],
          "scatterternary": [
           {
            "marker": {
             "colorbar": {
              "outlinewidth": 0,
              "ticks": ""
             }
            },
            "type": "scatterternary"
           }
          ],
          "surface": [
           {
            "colorbar": {
             "outlinewidth": 0,
             "ticks": ""
            },
            "colorscale": [
             [
              0.0,
              "#0d0887"
             ],
             [
              0.1111111111111111,
              "#46039f"
             ],
             [
              0.2222222222222222,
              "#7201a8"
             ],
             [
              0.3333333333333333,
              "#9c179e"
             ],
             [
              0.4444444444444444,
              "#bd3786"
             ],
             [
              0.5555555555555556,
              "#d8576b"
             ],
             [
              0.6666666666666666,
              "#ed7953"
             ],
             [
              0.7777777777777778,
              "#fb9f3a"
             ],
             [
              0.8888888888888888,
              "#fdca26"
             ],
             [
              1.0,
              "#f0f921"
             ]
            ],
            "type": "surface"
           }
          ],
          "table": [
           {
            "cells": {
             "fill": {
              "color": "#EBF0F8"
             },
             "line": {
              "color": "white"
             }
            },
            "header": {
             "fill": {
              "color": "#C8D4E3"
             },
             "line": {
              "color": "white"
             }
            },
            "type": "table"
           }
          ]
         },
         "layout": {
          "annotationdefaults": {
           "arrowcolor": "#2a3f5f",
           "arrowhead": 0,
           "arrowwidth": 1
          },
          "autotypenumbers": "strict",
          "coloraxis": {
           "colorbar": {
            "outlinewidth": 0,
            "ticks": ""
           }
          },
          "colorscale": {
           "diverging": [
            [
             0,
             "#8e0152"
            ],
            [
             0.1,
             "#c51b7d"
            ],
            [
             0.2,
             "#de77ae"
            ],
            [
             0.3,
             "#f1b6da"
            ],
            [
             0.4,
             "#fde0ef"
            ],
            [
             0.5,
             "#f7f7f7"
            ],
            [
             0.6,
             "#e6f5d0"
            ],
            [
             0.7,
             "#b8e186"
            ],
            [
             0.8,
             "#7fbc41"
            ],
            [
             0.9,
             "#4d9221"
            ],
            [
             1,
             "#276419"
            ]
           ],
           "sequential": [
            [
             0.0,
             "#0d0887"
            ],
            [
             0.1111111111111111,
             "#46039f"
            ],
            [
             0.2222222222222222,
             "#7201a8"
            ],
            [
             0.3333333333333333,
             "#9c179e"
            ],
            [
             0.4444444444444444,
             "#bd3786"
            ],
            [
             0.5555555555555556,
             "#d8576b"
            ],
            [
             0.6666666666666666,
             "#ed7953"
            ],
            [
             0.7777777777777778,
             "#fb9f3a"
            ],
            [
             0.8888888888888888,
             "#fdca26"
            ],
            [
             1.0,
             "#f0f921"
            ]
           ],
           "sequentialminus": [
            [
             0.0,
             "#0d0887"
            ],
            [
             0.1111111111111111,
             "#46039f"
            ],
            [
             0.2222222222222222,
             "#7201a8"
            ],
            [
             0.3333333333333333,
             "#9c179e"
            ],
            [
             0.4444444444444444,
             "#bd3786"
            ],
            [
             0.5555555555555556,
             "#d8576b"
            ],
            [
             0.6666666666666666,
             "#ed7953"
            ],
            [
             0.7777777777777778,
             "#fb9f3a"
            ],
            [
             0.8888888888888888,
             "#fdca26"
            ],
            [
             1.0,
             "#f0f921"
            ]
           ]
          },
          "colorway": [
           "#636efa",
           "#EF553B",
           "#00cc96",
           "#ab63fa",
           "#FFA15A",
           "#19d3f3",
           "#FF6692",
           "#B6E880",
           "#FF97FF",
           "#FECB52"
          ],
          "font": {
           "color": "#2a3f5f"
          },
          "geo": {
           "bgcolor": "white",
           "lakecolor": "white",
           "landcolor": "white",
           "showlakes": true,
           "showland": true,
           "subunitcolor": "#C8D4E3"
          },
          "hoverlabel": {
           "align": "left"
          },
          "hovermode": "closest",
          "mapbox": {
           "style": "light"
          },
          "paper_bgcolor": "white",
          "plot_bgcolor": "white",
          "polar": {
           "angularaxis": {
            "gridcolor": "#EBF0F8",
            "linecolor": "#EBF0F8",
            "ticks": ""
           },
           "bgcolor": "white",
           "radialaxis": {
            "gridcolor": "#EBF0F8",
            "linecolor": "#EBF0F8",
            "ticks": ""
           }
          },
          "scene": {
           "xaxis": {
            "backgroundcolor": "white",
            "gridcolor": "#DFE8F3",
            "gridwidth": 2,
            "linecolor": "#EBF0F8",
            "showbackground": true,
            "ticks": "",
            "zerolinecolor": "#EBF0F8"
           },
           "yaxis": {
            "backgroundcolor": "white",
            "gridcolor": "#DFE8F3",
            "gridwidth": 2,
            "linecolor": "#EBF0F8",
            "showbackground": true,
            "ticks": "",
            "zerolinecolor": "#EBF0F8"
           },
           "zaxis": {
            "backgroundcolor": "white",
            "gridcolor": "#DFE8F3",
            "gridwidth": 2,
            "linecolor": "#EBF0F8",
            "showbackground": true,
            "ticks": "",
            "zerolinecolor": "#EBF0F8"
           }
          },
          "shapedefaults": {
           "line": {
            "color": "#2a3f5f"
           }
          },
          "ternary": {
           "aaxis": {
            "gridcolor": "#DFE8F3",
            "linecolor": "#A2B1C6",
            "ticks": ""
           },
           "baxis": {
            "gridcolor": "#DFE8F3",
            "linecolor": "#A2B1C6",
            "ticks": ""
           },
           "bgcolor": "white",
           "caxis": {
            "gridcolor": "#DFE8F3",
            "linecolor": "#A2B1C6",
            "ticks": ""
           }
          },
          "title": {
           "x": 0.05
          },
          "xaxis": {
           "automargin": true,
           "gridcolor": "#EBF0F8",
           "linecolor": "#EBF0F8",
           "ticks": "",
           "title": {
            "standoff": 15
           },
           "zerolinecolor": "#EBF0F8",
           "zerolinewidth": 2
          },
          "yaxis": {
           "automargin": true,
           "gridcolor": "#EBF0F8",
           "linecolor": "#EBF0F8",
           "ticks": "",
           "title": {
            "standoff": 15
           },
           "zerolinecolor": "#EBF0F8",
           "zerolinewidth": 2
          }
         }
        },
        "xaxis": {
         "anchor": "y",
         "domain": [
          0.0,
          1.0
         ],
         "title": {
          "text": "Date"
         }
        },
        "yaxis": {
         "anchor": "x",
         "domain": [
          0.0,
          1.0
         ],
         "title": {
          "text": "value"
         }
        },
        "legend": {
         "title": {
          "text": "variable"
         },
         "tracegroupgap": 0
        },
        "margin": {
         "t": 60
        }
       },
       "config": {
        "plotlyServerURL": "https://plot.ly"
       }
      },
      "text/html": "<div>                            <div id=\"006023cc-0cf9-4594-9094-a20a9c36d94e\" class=\"plotly-graph-div\" style=\"height:525px; width:100%;\"></div>            <script type=\"text/javascript\">                require([\"plotly\"], function(Plotly) {                    window.PLOTLYENV=window.PLOTLYENV || {};                                    if (document.getElementById(\"006023cc-0cf9-4594-9094-a20a9c36d94e\")) {                    Plotly.newPlot(                        \"006023cc-0cf9-4594-9094-a20a9c36d94e\",                        [{\"hovertemplate\":\"variable=Payroll blended products<br>Date=%{x}<br>value=%{y}<extra></extra>\",\"legendgroup\":\"Payroll blended products\",\"line\":{\"color\":\"#636efa\",\"dash\":\"solid\"},\"marker\":{\"symbol\":\"circle\"},\"mode\":\"lines\",\"name\":\"Payroll blended products\",\"orientation\":\"v\",\"showlegend\":true,\"x\":[\"2014-06-01T00:00:00\",\"2014-07-01T00:00:00\",\"2014-08-01T00:00:00\",\"2014-09-01T00:00:00\",\"2014-10-01T00:00:00\",\"2014-11-01T00:00:00\",\"2014-12-01T00:00:00\",\"2015-01-01T00:00:00\",\"2015-02-01T00:00:00\",\"2015-03-01T00:00:00\",\"2015-04-01T00:00:00\",\"2015-05-01T00:00:00\",\"2015-06-01T00:00:00\",\"2015-07-01T00:00:00\",\"2015-08-01T00:00:00\",\"2015-09-01T00:00:00\",\"2015-10-01T00:00:00\",\"2015-11-01T00:00:00\",\"2015-12-01T00:00:00\",\"2016-01-01T00:00:00\",\"2016-02-01T00:00:00\",\"2016-03-01T00:00:00\",\"2016-04-01T00:00:00\",\"2016-05-01T00:00:00\",\"2016-06-01T00:00:00\",\"2016-07-01T00:00:00\",\"2016-08-01T00:00:00\",\"2016-09-01T00:00:00\",\"2016-10-01T00:00:00\",\"2016-11-01T00:00:00\",\"2016-12-01T00:00:00\",\"2017-01-01T00:00:00\",\"2017-02-01T00:00:00\",\"2017-03-01T00:00:00\",\"2017-04-01T00:00:00\",\"2017-05-01T00:00:00\",\"2017-06-01T00:00:00\",\"2017-07-01T00:00:00\",\"2017-08-01T00:00:00\",\"2017-09-01T00:00:00\",\"2017-10-01T00:00:00\",\"2017-11-01T00:00:00\",\"2017-12-01T00:00:00\",\"2018-01-01T00:00:00\",\"2018-02-01T00:00:00\",\"2018-03-01T00:00:00\",\"2018-04-01T00:00:00\",\"2018-05-01T00:00:00\",\"2018-06-01T00:00:00\",\"2018-07-01T00:00:00\",\"2018-08-01T00:00:00\",\"2018-09-01T00:00:00\",\"2018-10-01T00:00:00\",\"2018-11-01T00:00:00\",\"2018-12-01T00:00:00\",\"2019-01-01T00:00:00\",\"2019-02-01T00:00:00\",\"2019-03-01T00:00:00\",\"2019-04-01T00:00:00\",\"2019-05-01T00:00:00\",\"2019-06-01T00:00:00\",\"2019-07-01T00:00:00\",\"2019-08-01T00:00:00\",\"2019-09-01T00:00:00\",\"2019-10-01T00:00:00\",\"2019-11-01T00:00:00\",\"2019-12-01T00:00:00\",\"2020-01-01T00:00:00\",\"2020-02-01T00:00:00\",\"2020-03-01T00:00:00\",\"2020-04-01T00:00:00\",\"2020-05-01T00:00:00\",\"2020-06-01T00:00:00\",\"2020-07-01T00:00:00\",\"2020-08-01T00:00:00\",\"2020-09-01T00:00:00\",\"2020-10-01T00:00:00\",\"2020-11-01T00:00:00\",\"2020-12-01T00:00:00\",\"2021-01-01T00:00:00\",\"2021-02-01T00:00:00\",\"2021-03-01T00:00:00\",\"2021-04-01T00:00:00\",\"2021-05-01T00:00:00\"],\"xaxis\":\"x\",\"y\":[99633512.0,121619696.0,99472483.0,94198230.0,124353873.0,98868618.0,99281713.0,124388966.0,95862151.0,92298659.0,121697752.0,101684796.0,98488622.0,128603825.0,105495604.0,125580319.0,100345212.0,101027390.0,103140193.0,125846591.0,96492494.0,120343617.0,98703839.0,106311407.0,118434494.0,104657878.0,117436063.0,110000558.0,105928516.0,113829464.0,117493864.0,106635184.0,98803491.0,111544069.0,99478187.0,118429597.0,115286408.0,108148242.0,120254168.0,104705146.0,110931972.0,115430932.0,113194342.0,110248167.0,98798038.0,106248694.0,103554646.0,119149029.0,107365918.0,113740156.0,116505720.0,102622473.0,115762795.0,110179873.0,117538398.0,110354647.0,98377675.0,99958270.0,108700563.0,115331665.0,106731158.0,119190721.0,113364359.0,108305027.0,119068432.0,105060481.0,128667631.0,106043776.0,99644382.0,107287296.0,92673007.0,90949332.0,103438412.0,103718926.0,99146164.0,108696536.0,107861298.0,105164502.0,126152261.0,94834624.0,96978102.0,110554131.0,105999185.0,101329196.0],\"yaxis\":\"y\",\"type\":\"scatter\"},{\"hovertemplate\":\"variable=Payroll blended products - ML Predicted<br>Date=%{x}<br>value=%{y}<extra></extra>\",\"legendgroup\":\"Payroll blended products - ML Predicted\",\"line\":{\"color\":\"#EF553B\",\"dash\":\"solid\"},\"marker\":{\"symbol\":\"circle\"},\"mode\":\"lines\",\"name\":\"Payroll blended products - ML Predicted\",\"orientation\":\"v\",\"showlegend\":true,\"x\":[\"2014-06-01T00:00:00\",\"2014-07-01T00:00:00\",\"2014-08-01T00:00:00\",\"2014-09-01T00:00:00\",\"2014-10-01T00:00:00\",\"2014-11-01T00:00:00\",\"2014-12-01T00:00:00\",\"2015-01-01T00:00:00\",\"2015-02-01T00:00:00\",\"2015-03-01T00:00:00\",\"2015-04-01T00:00:00\",\"2015-05-01T00:00:00\",\"2015-06-01T00:00:00\",\"2015-07-01T00:00:00\",\"2015-08-01T00:00:00\",\"2015-09-01T00:00:00\",\"2015-10-01T00:00:00\",\"2015-11-01T00:00:00\",\"2015-12-01T00:00:00\",\"2016-01-01T00:00:00\",\"2016-02-01T00:00:00\",\"2016-03-01T00:00:00\",\"2016-04-01T00:00:00\",\"2016-05-01T00:00:00\",\"2016-06-01T00:00:00\",\"2016-07-01T00:00:00\",\"2016-08-01T00:00:00\",\"2016-09-01T00:00:00\",\"2016-10-01T00:00:00\",\"2016-11-01T00:00:00\",\"2016-12-01T00:00:00\",\"2017-01-01T00:00:00\",\"2017-02-01T00:00:00\",\"2017-03-01T00:00:00\",\"2017-04-01T00:00:00\",\"2017-05-01T00:00:00\",\"2017-06-01T00:00:00\",\"2017-07-01T00:00:00\",\"2017-08-01T00:00:00\",\"2017-09-01T00:00:00\",\"2017-10-01T00:00:00\",\"2017-11-01T00:00:00\",\"2017-12-01T00:00:00\",\"2018-01-01T00:00:00\",\"2018-02-01T00:00:00\",\"2018-03-01T00:00:00\",\"2018-04-01T00:00:00\",\"2018-05-01T00:00:00\",\"2018-06-01T00:00:00\",\"2018-07-01T00:00:00\",\"2018-08-01T00:00:00\",\"2018-09-01T00:00:00\",\"2018-10-01T00:00:00\",\"2018-11-01T00:00:00\",\"2018-12-01T00:00:00\",\"2019-01-01T00:00:00\",\"2019-02-01T00:00:00\",\"2019-03-01T00:00:00\",\"2019-04-01T00:00:00\",\"2019-05-01T00:00:00\",\"2019-06-01T00:00:00\",\"2019-07-01T00:00:00\",\"2019-08-01T00:00:00\",\"2019-09-01T00:00:00\",\"2019-10-01T00:00:00\",\"2019-11-01T00:00:00\",\"2019-12-01T00:00:00\",\"2020-01-01T00:00:00\",\"2020-02-01T00:00:00\",\"2020-03-01T00:00:00\",\"2020-04-01T00:00:00\",\"2020-05-01T00:00:00\",\"2020-06-01T00:00:00\",\"2020-07-01T00:00:00\",\"2020-08-01T00:00:00\",\"2020-09-01T00:00:00\",\"2020-10-01T00:00:00\",\"2020-11-01T00:00:00\",\"2020-12-01T00:00:00\",\"2021-01-01T00:00:00\",\"2021-02-01T00:00:00\",\"2021-03-01T00:00:00\",\"2021-04-01T00:00:00\",\"2021-05-01T00:00:00\"],\"xaxis\":\"x\",\"y\":[99633512.0,121619696.0,99472480.0,94198232.0,124353872.0,98868616.0,99281712.0,124388968.0,95862152.0,92298656.0,121697752.0,101684800.0,98488624.0,128603824.0,105495600.0,125580320.0,100345216.0,101027392.0,103140192.0,125846592.0,96492496.0,120343616.0,98703840.0,106311408.0,118434496.0,104657880.0,117436064.0,110000560.0,105928512.0,113829464.0,117493864.0,106635184.0,98803488.0,111544072.0,99478184.0,118429600.0,115286408.0,108148240.0,120254168.0,104705144.0,110931968.0,115430928.0,113194344.0,110248168.0,98798040.0,106248696.0,103554648.0,119149032.0,107365920.0,113740160.0,116505720.0,102622472.0,115762792.0,110179872.0,117538400.0,110354648.0,98377672.0,99958272.0,108700560.0,115331664.0,106731160.0,119190720.0,113364360.0,108305024.0,119068432.0,105060480.0,128667632.0,106043776.0,99644384.0,107287296.0,92673008.0,90949328.0,102865195.28,110401168.8,96875902.24,112884293.76,102716842.8,102255841.36,108626918.64,106121200.4,96108347.52,110698809.2,96996866.4,101085729.12],\"yaxis\":\"y\",\"type\":\"scatter\"}],                        {\"template\":{\"data\":{\"barpolar\":[{\"marker\":{\"line\":{\"color\":\"white\",\"width\":0.5},\"pattern\":{\"fillmode\":\"overlay\",\"size\":10,\"solidity\":0.2}},\"type\":\"barpolar\"}],\"bar\":[{\"error_x\":{\"color\":\"#2a3f5f\"},\"error_y\":{\"color\":\"#2a3f5f\"},\"marker\":{\"line\":{\"color\":\"white\",\"width\":0.5},\"pattern\":{\"fillmode\":\"overlay\",\"size\":10,\"solidity\":0.2}},\"type\":\"bar\"}],\"carpet\":[{\"aaxis\":{\"endlinecolor\":\"#2a3f5f\",\"gridcolor\":\"#C8D4E3\",\"linecolor\":\"#C8D4E3\",\"minorgridcolor\":\"#C8D4E3\",\"startlinecolor\":\"#2a3f5f\"},\"baxis\":{\"endlinecolor\":\"#2a3f5f\",\"gridcolor\":\"#C8D4E3\",\"linecolor\":\"#C8D4E3\",\"minorgridcolor\":\"#C8D4E3\",\"startlinecolor\":\"#2a3f5f\"},\"type\":\"carpet\"}],\"choropleth\":[{\"colorbar\":{\"outlinewidth\":0,\"ticks\":\"\"},\"type\":\"choropleth\"}],\"contourcarpet\":[{\"colorbar\":{\"outlinewidth\":0,\"ticks\":\"\"},\"type\":\"contourcarpet\"}],\"contour\":[{\"colorbar\":{\"outlinewidth\":0,\"ticks\":\"\"},\"colorscale\":[[0.0,\"#0d0887\"],[0.1111111111111111,\"#46039f\"],[0.2222222222222222,\"#7201a8\"],[0.3333333333333333,\"#9c179e\"],[0.4444444444444444,\"#bd3786\"],[0.5555555555555556,\"#d8576b\"],[0.6666666666666666,\"#ed7953\"],[0.7777777777777778,\"#fb9f3a\"],[0.8888888888888888,\"#fdca26\"],[1.0,\"#f0f921\"]],\"type\":\"contour\"}],\"heatmapgl\":[{\"colorbar\":{\"outlinewidth\":0,\"ticks\":\"\"},\"colorscale\":[[0.0,\"#0d0887\"],[0.1111111111111111,\"#46039f\"],[0.2222222222222222,\"#7201a8\"],[0.3333333333333333,\"#9c179e\"],[0.4444444444444444,\"#bd3786\"],[0.5555555555555556,\"#d8576b\"],[0.6666666666666666,\"#ed7953\"],[0.7777777777777778,\"#fb9f3a\"],[0.8888888888888888,\"#fdca26\"],[1.0,\"#f0f921\"]],\"type\":\"heatmapgl\"}],\"heatmap\":[{\"colorbar\":{\"outlinewidth\":0,\"ticks\":\"\"},\"colorscale\":[[0.0,\"#0d0887\"],[0.1111111111111111,\"#46039f\"],[0.2222222222222222,\"#7201a8\"],[0.3333333333333333,\"#9c179e\"],[0.4444444444444444,\"#bd3786\"],[0.5555555555555556,\"#d8576b\"],[0.6666666666666666,\"#ed7953\"],[0.7777777777777778,\"#fb9f3a\"],[0.8888888888888888,\"#fdca26\"],[1.0,\"#f0f921\"]],\"type\":\"heatmap\"}],\"histogram2dcontour\":[{\"colorbar\":{\"outlinewidth\":0,\"ticks\":\"\"},\"colorscale\":[[0.0,\"#0d0887\"],[0.1111111111111111,\"#46039f\"],[0.2222222222222222,\"#7201a8\"],[0.3333333333333333,\"#9c179e\"],[0.4444444444444444,\"#bd3786\"],[0.5555555555555556,\"#d8576b\"],[0.6666666666666666,\"#ed7953\"],[0.7777777777777778,\"#fb9f3a\"],[0.8888888888888888,\"#fdca26\"],[1.0,\"#f0f921\"]],\"type\":\"histogram2dcontour\"}],\"histogram2d\":[{\"colorbar\":{\"outlinewidth\":0,\"ticks\":\"\"},\"colorscale\":[[0.0,\"#0d0887\"],[0.1111111111111111,\"#46039f\"],[0.2222222222222222,\"#7201a8\"],[0.3333333333333333,\"#9c179e\"],[0.4444444444444444,\"#bd3786\"],[0.5555555555555556,\"#d8576b\"],[0.6666666666666666,\"#ed7953\"],[0.7777777777777778,\"#fb9f3a\"],[0.8888888888888888,\"#fdca26\"],[1.0,\"#f0f921\"]],\"type\":\"histogram2d\"}],\"histogram\":[{\"marker\":{\"pattern\":{\"fillmode\":\"overlay\",\"size\":10,\"solidity\":0.2}},\"type\":\"histogram\"}],\"mesh3d\":[{\"colorbar\":{\"outlinewidth\":0,\"ticks\":\"\"},\"type\":\"mesh3d\"}],\"parcoords\":[{\"line\":{\"colorbar\":{\"outlinewidth\":0,\"ticks\":\"\"}},\"type\":\"parcoords\"}],\"pie\":[{\"automargin\":true,\"type\":\"pie\"}],\"scatter3d\":[{\"line\":{\"colorbar\":{\"outlinewidth\":0,\"ticks\":\"\"}},\"marker\":{\"colorbar\":{\"outlinewidth\":0,\"ticks\":\"\"}},\"type\":\"scatter3d\"}],\"scattercarpet\":[{\"marker\":{\"colorbar\":{\"outlinewidth\":0,\"ticks\":\"\"}},\"type\":\"scattercarpet\"}],\"scattergeo\":[{\"marker\":{\"colorbar\":{\"outlinewidth\":0,\"ticks\":\"\"}},\"type\":\"scattergeo\"}],\"scattergl\":[{\"marker\":{\"colorbar\":{\"outlinewidth\":0,\"ticks\":\"\"}},\"type\":\"scattergl\"}],\"scattermapbox\":[{\"marker\":{\"colorbar\":{\"outlinewidth\":0,\"ticks\":\"\"}},\"type\":\"scattermapbox\"}],\"scatterpolargl\":[{\"marker\":{\"colorbar\":{\"outlinewidth\":0,\"ticks\":\"\"}},\"type\":\"scatterpolargl\"}],\"scatterpolar\":[{\"marker\":{\"colorbar\":{\"outlinewidth\":0,\"ticks\":\"\"}},\"type\":\"scatterpolar\"}],\"scatter\":[{\"fillpattern\":{\"fillmode\":\"overlay\",\"size\":10,\"solidity\":0.2},\"type\":\"scatter\"}],\"scatterternary\":[{\"marker\":{\"colorbar\":{\"outlinewidth\":0,\"ticks\":\"\"}},\"type\":\"scatterternary\"}],\"surface\":[{\"colorbar\":{\"outlinewidth\":0,\"ticks\":\"\"},\"colorscale\":[[0.0,\"#0d0887\"],[0.1111111111111111,\"#46039f\"],[0.2222222222222222,\"#7201a8\"],[0.3333333333333333,\"#9c179e\"],[0.4444444444444444,\"#bd3786\"],[0.5555555555555556,\"#d8576b\"],[0.6666666666666666,\"#ed7953\"],[0.7777777777777778,\"#fb9f3a\"],[0.8888888888888888,\"#fdca26\"],[1.0,\"#f0f921\"]],\"type\":\"surface\"}],\"table\":[{\"cells\":{\"fill\":{\"color\":\"#EBF0F8\"},\"line\":{\"color\":\"white\"}},\"header\":{\"fill\":{\"color\":\"#C8D4E3\"},\"line\":{\"color\":\"white\"}},\"type\":\"table\"}]},\"layout\":{\"annotationdefaults\":{\"arrowcolor\":\"#2a3f5f\",\"arrowhead\":0,\"arrowwidth\":1},\"autotypenumbers\":\"strict\",\"coloraxis\":{\"colorbar\":{\"outlinewidth\":0,\"ticks\":\"\"}},\"colorscale\":{\"diverging\":[[0,\"#8e0152\"],[0.1,\"#c51b7d\"],[0.2,\"#de77ae\"],[0.3,\"#f1b6da\"],[0.4,\"#fde0ef\"],[0.5,\"#f7f7f7\"],[0.6,\"#e6f5d0\"],[0.7,\"#b8e186\"],[0.8,\"#7fbc41\"],[0.9,\"#4d9221\"],[1,\"#276419\"]],\"sequential\":[[0.0,\"#0d0887\"],[0.1111111111111111,\"#46039f\"],[0.2222222222222222,\"#7201a8\"],[0.3333333333333333,\"#9c179e\"],[0.4444444444444444,\"#bd3786\"],[0.5555555555555556,\"#d8576b\"],[0.6666666666666666,\"#ed7953\"],[0.7777777777777778,\"#fb9f3a\"],[0.8888888888888888,\"#fdca26\"],[1.0,\"#f0f921\"]],\"sequentialminus\":[[0.0,\"#0d0887\"],[0.1111111111111111,\"#46039f\"],[0.2222222222222222,\"#7201a8\"],[0.3333333333333333,\"#9c179e\"],[0.4444444444444444,\"#bd3786\"],[0.5555555555555556,\"#d8576b\"],[0.6666666666666666,\"#ed7953\"],[0.7777777777777778,\"#fb9f3a\"],[0.8888888888888888,\"#fdca26\"],[1.0,\"#f0f921\"]]},\"colorway\":[\"#636efa\",\"#EF553B\",\"#00cc96\",\"#ab63fa\",\"#FFA15A\",\"#19d3f3\",\"#FF6692\",\"#B6E880\",\"#FF97FF\",\"#FECB52\"],\"font\":{\"color\":\"#2a3f5f\"},\"geo\":{\"bgcolor\":\"white\",\"lakecolor\":\"white\",\"landcolor\":\"white\",\"showlakes\":true,\"showland\":true,\"subunitcolor\":\"#C8D4E3\"},\"hoverlabel\":{\"align\":\"left\"},\"hovermode\":\"closest\",\"mapbox\":{\"style\":\"light\"},\"paper_bgcolor\":\"white\",\"plot_bgcolor\":\"white\",\"polar\":{\"angularaxis\":{\"gridcolor\":\"#EBF0F8\",\"linecolor\":\"#EBF0F8\",\"ticks\":\"\"},\"bgcolor\":\"white\",\"radialaxis\":{\"gridcolor\":\"#EBF0F8\",\"linecolor\":\"#EBF0F8\",\"ticks\":\"\"}},\"scene\":{\"xaxis\":{\"backgroundcolor\":\"white\",\"gridcolor\":\"#DFE8F3\",\"gridwidth\":2,\"linecolor\":\"#EBF0F8\",\"showbackground\":true,\"ticks\":\"\",\"zerolinecolor\":\"#EBF0F8\"},\"yaxis\":{\"backgroundcolor\":\"white\",\"gridcolor\":\"#DFE8F3\",\"gridwidth\":2,\"linecolor\":\"#EBF0F8\",\"showbackground\":true,\"ticks\":\"\",\"zerolinecolor\":\"#EBF0F8\"},\"zaxis\":{\"backgroundcolor\":\"white\",\"gridcolor\":\"#DFE8F3\",\"gridwidth\":2,\"linecolor\":\"#EBF0F8\",\"showbackground\":true,\"ticks\":\"\",\"zerolinecolor\":\"#EBF0F8\"}},\"shapedefaults\":{\"line\":{\"color\":\"#2a3f5f\"}},\"ternary\":{\"aaxis\":{\"gridcolor\":\"#DFE8F3\",\"linecolor\":\"#A2B1C6\",\"ticks\":\"\"},\"baxis\":{\"gridcolor\":\"#DFE8F3\",\"linecolor\":\"#A2B1C6\",\"ticks\":\"\"},\"bgcolor\":\"white\",\"caxis\":{\"gridcolor\":\"#DFE8F3\",\"linecolor\":\"#A2B1C6\",\"ticks\":\"\"}},\"title\":{\"x\":0.05},\"xaxis\":{\"automargin\":true,\"gridcolor\":\"#EBF0F8\",\"linecolor\":\"#EBF0F8\",\"ticks\":\"\",\"title\":{\"standoff\":15},\"zerolinecolor\":\"#EBF0F8\",\"zerolinewidth\":2},\"yaxis\":{\"automargin\":true,\"gridcolor\":\"#EBF0F8\",\"linecolor\":\"#EBF0F8\",\"ticks\":\"\",\"title\":{\"standoff\":15},\"zerolinecolor\":\"#EBF0F8\",\"zerolinewidth\":2}}},\"xaxis\":{\"anchor\":\"y\",\"domain\":[0.0,1.0],\"title\":{\"text\":\"Date\"}},\"yaxis\":{\"anchor\":\"x\",\"domain\":[0.0,1.0],\"title\":{\"text\":\"value\"}},\"legend\":{\"title\":{\"text\":\"variable\"},\"tracegroupgap\":0},\"margin\":{\"t\":60}},                        {\"responsive\": true}                    ).then(function(){\n                            \nvar gd = document.getElementById('006023cc-0cf9-4594-9094-a20a9c36d94e');\nvar x = new MutationObserver(function (mutations, observer) {{\n        var display = window.getComputedStyle(gd).display;\n        if (!display || display === 'none') {{\n            console.log([gd, 'removed!']);\n            Plotly.purge(gd);\n            observer.disconnect();\n        }}\n}});\n\n// Listen for the removal of the full notebook cells\nvar notebookContainer = gd.closest('#notebook-container');\nif (notebookContainer) {{\n    x.observe(notebookContainer, {childList: true});\n}}\n\n// Listen for the clearing of the current output cell\nvar outputEl = gd.closest('.output');\nif (outputEl) {{\n    x.observe(outputEl, {childList: true});\n}}\n\n                        })                };                });            </script>        </div>"
     },
     "metadata": {},
     "output_type": "display_data"
    }
   ],
   "source": [
    "# ------------------------------------------------------------------------------------- #\n",
    "# generate and plot predicted values on the original dataset\n",
    "# ------------------------------------------------------------------------------------- #\n",
    "\n",
    "predictions = predict_model(best, data=comb_df)\n",
    "predictions['Date'] = pd.date_range(start=str(train_start_dt), end = str(test_end_dt), freq = 'MS')\n",
    "predictions.rename(columns={'Label':target_col+' - ML Predicted'}, inplace=True)\n",
    "fig = px.line(predictions, x='Date', y=[target_col, target_col+' - ML Predicted'], template = 'plotly_white')\n",
    "fig.show()\n",
    "\n",
    "# ------------------------------------------------------------------------------------- #\n",
    "# This section now applies the trained/tested model to make future predictions\n",
    "# ------------------------------------------------------------------------------------- #"
   ],
   "metadata": {
    "collapsed": false,
    "pycharm": {
     "name": "#%%\n"
    }
   }
  },
  {
   "cell_type": "code",
   "execution_count": 47,
   "metadata": {},
   "outputs": [
    {
     "name": "stdout",
     "output_type": "stream",
     "text": [
      "Performing stepwise search to minimize aic\n",
      " ARIMA(1,1,1)(0,1,1)[12]             : AIC=1435.842, Time=0.14 sec\n",
      " ARIMA(0,1,0)(0,1,0)[12]             : AIC=1494.239, Time=0.02 sec\n",
      " ARIMA(1,1,0)(1,1,0)[12]             : AIC=1466.453, Time=0.06 sec\n",
      " ARIMA(0,1,1)(0,1,1)[12]             : AIC=inf, Time=0.18 sec\n",
      " ARIMA(1,1,1)(0,1,0)[12]             : AIC=inf, Time=0.08 sec\n",
      " ARIMA(1,1,1)(1,1,1)[12]             : AIC=1437.095, Time=0.24 sec\n",
      " ARIMA(1,1,1)(0,1,2)[12]             : AIC=1436.992, Time=0.39 sec\n",
      " ARIMA(1,1,1)(1,1,0)[12]             : AIC=inf, Time=0.25 sec\n",
      " ARIMA(1,1,1)(1,1,2)[12]             : AIC=1438.991, Time=0.68 sec\n",
      " ARIMA(1,1,0)(0,1,1)[12]             : AIC=1464.711, Time=0.07 sec\n",
      " ARIMA(2,1,1)(0,1,1)[12]             : AIC=1437.461, Time=0.16 sec\n",
      " ARIMA(1,1,2)(0,1,1)[12]             : AIC=1437.098, Time=0.22 sec\n",
      " ARIMA(0,1,0)(0,1,1)[12]             : AIC=1507.718, Time=0.04 sec\n",
      " ARIMA(0,1,2)(0,1,1)[12]             : AIC=inf, Time=0.33 sec\n",
      " ARIMA(2,1,0)(0,1,1)[12]             : AIC=1452.526, Time=0.12 sec\n",
      " ARIMA(2,1,2)(0,1,1)[12]             : AIC=1435.400, Time=0.69 sec\n",
      " ARIMA(2,1,2)(0,1,0)[12]             : AIC=1442.154, Time=0.15 sec\n",
      " ARIMA(2,1,2)(1,1,1)[12]             : AIC=1435.493, Time=0.87 sec\n",
      " ARIMA(2,1,2)(0,1,2)[12]             : AIC=1435.104, Time=1.83 sec\n",
      " ARIMA(2,1,2)(1,1,2)[12]             : AIC=1441.100, Time=1.27 sec\n",
      " ARIMA(1,1,2)(0,1,2)[12]             : AIC=1433.156, Time=1.20 sec\n",
      " ARIMA(1,1,2)(1,1,2)[12]             : AIC=1439.428, Time=0.70 sec\n",
      " ARIMA(1,1,2)(1,1,1)[12]             : AIC=1437.612, Time=0.33 sec\n",
      " ARIMA(0,1,2)(0,1,2)[12]             : AIC=1431.156, Time=1.26 sec\n",
      " ARIMA(0,1,2)(1,1,2)[12]             : AIC=1437.789, Time=0.59 sec\n",
      " ARIMA(0,1,2)(1,1,1)[12]             : AIC=1435.961, Time=0.18 sec\n",
      " ARIMA(0,1,1)(0,1,2)[12]             : AIC=inf, Time=0.70 sec\n",
      " ARIMA(0,1,3)(0,1,2)[12]             : AIC=1438.594, Time=0.52 sec\n",
      " ARIMA(1,1,3)(0,1,2)[12]             : AIC=inf, Time=2.04 sec\n",
      " ARIMA(0,1,2)(0,1,2)[12] intercept   : AIC=1431.331, Time=1.82 sec\n",
      "\n",
      "Best model:  ARIMA(0,1,2)(0,1,2)[12]          \n",
      "Total fit time: 17.124 seconds\n",
      "Performing stepwise search to minimize aic\n",
      " ARIMA(1,1,1)(0,1,1)[12]             : AIC=inf, Time=0.32 sec\n",
      " ARIMA(0,1,0)(0,1,0)[12]             : AIC=198.304, Time=0.02 sec\n",
      " ARIMA(1,1,0)(1,1,0)[12]             : AIC=161.034, Time=0.05 sec\n",
      " ARIMA(0,1,1)(0,1,1)[12]             : AIC=inf, Time=0.53 sec\n",
      " ARIMA(1,1,0)(0,1,0)[12]             : AIC=160.834, Time=0.01 sec\n",
      " ARIMA(1,1,0)(0,1,1)[12]             : AIC=inf, Time=0.33 sec\n",
      " ARIMA(1,1,0)(1,1,1)[12]             : AIC=inf, Time=0.45 sec\n",
      " ARIMA(2,1,0)(0,1,0)[12]             : AIC=134.379, Time=0.04 sec\n",
      " ARIMA(2,1,0)(1,1,0)[12]             : AIC=128.273, Time=0.08 sec\n",
      " ARIMA(2,1,0)(2,1,0)[12]             : AIC=127.591, Time=0.32 sec\n",
      " ARIMA(2,1,0)(2,1,1)[12]             : AIC=inf, Time=2.28 sec\n",
      " ARIMA(2,1,0)(1,1,1)[12]             : AIC=inf, Time=0.65 sec\n",
      " ARIMA(1,1,0)(2,1,0)[12]             : AIC=159.606, Time=0.18 sec\n",
      " ARIMA(3,1,0)(2,1,0)[12]             : AIC=125.345, Time=0.38 sec\n",
      " ARIMA(3,1,0)(1,1,0)[12]             : AIC=125.898, Time=0.12 sec\n",
      " ARIMA(3,1,0)(2,1,1)[12]             : AIC=inf, Time=1.89 sec\n",
      " ARIMA(3,1,0)(1,1,1)[12]             : AIC=inf, Time=0.69 sec\n",
      " ARIMA(4,1,0)(2,1,0)[12]             : AIC=120.759, Time=0.40 sec\n",
      " ARIMA(4,1,0)(1,1,0)[12]             : AIC=120.409, Time=0.13 sec\n",
      " ARIMA(4,1,0)(0,1,0)[12]             : AIC=124.285, Time=0.05 sec\n",
      " ARIMA(4,1,0)(1,1,1)[12]             : AIC=inf, Time=1.39 sec\n",
      " ARIMA(4,1,0)(0,1,1)[12]             : AIC=inf, Time=0.39 sec\n",
      " ARIMA(4,1,0)(2,1,1)[12]             : AIC=inf, Time=1.73 sec\n",
      " ARIMA(5,1,0)(1,1,0)[12]             : AIC=102.229, Time=0.21 sec\n",
      " ARIMA(5,1,0)(0,1,0)[12]             : AIC=104.280, Time=0.08 sec\n",
      " ARIMA(5,1,0)(2,1,0)[12]             : AIC=101.481, Time=0.62 sec\n",
      " ARIMA(5,1,0)(2,1,1)[12]             : AIC=inf, Time=2.08 sec\n",
      " ARIMA(5,1,0)(1,1,1)[12]             : AIC=inf, Time=1.29 sec\n",
      " ARIMA(5,1,1)(2,1,0)[12]             : AIC=inf, Time=3.24 sec\n",
      " ARIMA(4,1,1)(2,1,0)[12]             : AIC=inf, Time=2.45 sec\n",
      " ARIMA(5,1,0)(2,1,0)[12] intercept   : AIC=103.480, Time=1.24 sec\n",
      "\n",
      "Best model:  ARIMA(5,1,0)(2,1,0)[12]          \n",
      "Total fit time: 23.660 seconds\n",
      "Performing stepwise search to minimize aic\n",
      " ARIMA(1,1,1)(0,1,1)[12]             : AIC=597.661, Time=0.20 sec\n",
      " ARIMA(0,1,0)(0,1,0)[12]             : AIC=676.056, Time=0.02 sec\n",
      " ARIMA(1,1,0)(1,1,0)[12]             : AIC=634.238, Time=0.08 sec\n",
      " ARIMA(0,1,1)(0,1,1)[12]             : AIC=599.054, Time=0.22 sec\n",
      " ARIMA(1,1,1)(0,1,0)[12]             : AIC=614.827, Time=0.06 sec\n",
      " ARIMA(1,1,1)(1,1,1)[12]             : AIC=599.409, Time=0.32 sec\n",
      " ARIMA(1,1,1)(0,1,2)[12]             : AIC=599.443, Time=0.56 sec\n",
      " ARIMA(1,1,1)(1,1,0)[12]             : AIC=600.727, Time=0.16 sec\n",
      " ARIMA(1,1,1)(1,1,2)[12]             : AIC=601.404, Time=1.34 sec\n",
      " ARIMA(1,1,0)(0,1,1)[12]             : AIC=630.453, Time=0.12 sec\n",
      " ARIMA(2,1,1)(0,1,1)[12]             : AIC=595.106, Time=0.27 sec\n",
      " ARIMA(2,1,1)(0,1,0)[12]             : AIC=609.656, Time=0.05 sec\n",
      " ARIMA(2,1,1)(1,1,1)[12]             : AIC=597.106, Time=0.43 sec\n",
      " ARIMA(2,1,1)(0,1,2)[12]             : AIC=597.106, Time=0.86 sec\n",
      " ARIMA(2,1,1)(1,1,0)[12]             : AIC=597.915, Time=0.26 sec\n",
      " ARIMA(2,1,1)(1,1,2)[12]             : AIC=599.091, Time=0.84 sec\n",
      " ARIMA(2,1,0)(0,1,1)[12]             : AIC=601.655, Time=0.13 sec\n",
      " ARIMA(3,1,1)(0,1,1)[12]             : AIC=594.496, Time=0.40 sec\n",
      " ARIMA(3,1,1)(0,1,0)[12]             : AIC=610.285, Time=0.12 sec\n",
      " ARIMA(3,1,1)(1,1,1)[12]             : AIC=596.418, Time=0.60 sec\n",
      " ARIMA(3,1,1)(0,1,2)[12]             : AIC=596.432, Time=1.10 sec\n",
      " ARIMA(3,1,1)(1,1,0)[12]             : AIC=597.099, Time=0.35 sec\n",
      " ARIMA(3,1,1)(1,1,2)[12]             : AIC=598.407, Time=1.50 sec\n",
      " ARIMA(3,1,0)(0,1,1)[12]             : AIC=601.038, Time=0.17 sec\n",
      " ARIMA(4,1,1)(0,1,1)[12]             : AIC=596.432, Time=0.39 sec\n",
      " ARIMA(3,1,2)(0,1,1)[12]             : AIC=596.275, Time=0.45 sec\n",
      " ARIMA(2,1,2)(0,1,1)[12]             : AIC=594.698, Time=0.28 sec\n",
      " ARIMA(4,1,0)(0,1,1)[12]             : AIC=597.432, Time=0.23 sec\n",
      " ARIMA(4,1,2)(0,1,1)[12]             : AIC=598.244, Time=0.82 sec\n",
      " ARIMA(3,1,1)(0,1,1)[12] intercept   : AIC=inf, Time=0.93 sec\n",
      "\n",
      "Best model:  ARIMA(3,1,1)(0,1,1)[12]          \n",
      "Total fit time: 13.279 seconds\n",
      "Performing stepwise search to minimize aic\n",
      " ARIMA(1,1,1)(0,1,1)[12]             : AIC=1904.077, Time=0.12 sec\n",
      " ARIMA(0,1,0)(0,1,0)[12]             : AIC=1952.483, Time=0.00 sec\n",
      " ARIMA(1,1,0)(1,1,0)[12]             : AIC=1912.804, Time=0.06 sec\n",
      " ARIMA(0,1,1)(0,1,1)[12]             : AIC=1908.389, Time=0.22 sec\n",
      " ARIMA(1,1,1)(0,1,0)[12]             : AIC=1928.198, Time=0.03 sec\n",
      " ARIMA(1,1,1)(1,1,1)[12]             : AIC=1901.213, Time=0.23 sec\n",
      " ARIMA(1,1,1)(1,1,0)[12]             : AIC=1911.844, Time=0.09 sec\n",
      " ARIMA(1,1,1)(2,1,1)[12]             : AIC=1903.211, Time=0.55 sec\n",
      " ARIMA(1,1,1)(1,1,2)[12]             : AIC=1903.212, Time=0.62 sec\n",
      " ARIMA(1,1,1)(0,1,2)[12]             : AIC=1902.141, Time=0.45 sec\n",
      " ARIMA(1,1,1)(2,1,0)[12]             : AIC=1911.199, Time=0.32 sec\n",
      " ARIMA(1,1,1)(2,1,2)[12]             : AIC=inf, Time=0.86 sec\n",
      " ARIMA(0,1,1)(1,1,1)[12]             : AIC=1906.495, Time=0.84 sec\n",
      " ARIMA(1,1,0)(1,1,1)[12]             : AIC=1904.065, Time=0.14 sec\n",
      " ARIMA(2,1,1)(1,1,1)[12]             : AIC=inf, Time=0.49 sec\n",
      " ARIMA(1,1,2)(1,1,1)[12]             : AIC=1902.594, Time=0.32 sec\n",
      " ARIMA(0,1,0)(1,1,1)[12]             : AIC=inf, Time=0.22 sec\n",
      " ARIMA(0,1,2)(1,1,1)[12]             : AIC=1900.835, Time=0.21 sec\n",
      " ARIMA(0,1,2)(0,1,1)[12]             : AIC=1902.320, Time=0.10 sec\n",
      " ARIMA(0,1,2)(1,1,0)[12]             : AIC=1909.365, Time=0.07 sec\n",
      " ARIMA(0,1,2)(2,1,1)[12]             : AIC=1902.752, Time=0.55 sec\n",
      " ARIMA(0,1,2)(1,1,2)[12]             : AIC=1902.797, Time=0.67 sec\n",
      " ARIMA(0,1,2)(0,1,0)[12]             : AIC=1926.336, Time=0.02 sec\n",
      " ARIMA(0,1,2)(0,1,2)[12]             : AIC=1901.646, Time=0.34 sec\n",
      " ARIMA(0,1,2)(2,1,0)[12]             : AIC=1909.265, Time=0.25 sec\n",
      " ARIMA(0,1,2)(2,1,2)[12]             : AIC=1904.343, Time=0.88 sec\n",
      " ARIMA(0,1,3)(1,1,1)[12]             : AIC=1901.916, Time=0.31 sec\n",
      " ARIMA(1,1,3)(1,1,1)[12]             : AIC=inf, Time=0.33 sec\n",
      " ARIMA(0,1,2)(1,1,1)[12] intercept   : AIC=1903.591, Time=0.27 sec\n",
      "\n",
      "Best model:  ARIMA(0,1,2)(1,1,1)[12]          \n",
      "Total fit time: 9.561 seconds\n",
      "Performing stepwise search to minimize aic\n",
      " ARIMA(1,1,1)(0,1,1)[12]             : AIC=844.289, Time=0.21 sec\n",
      " ARIMA(0,1,0)(0,1,0)[12]             : AIC=870.047, Time=0.01 sec\n",
      " ARIMA(1,1,0)(1,1,0)[12]             : AIC=852.606, Time=0.08 sec\n",
      " ARIMA(0,1,1)(0,1,1)[12]             : AIC=842.329, Time=0.13 sec\n",
      " ARIMA(0,1,1)(0,1,0)[12]             : AIC=841.647, Time=0.03 sec\n",
      " ARIMA(0,1,1)(1,1,0)[12]             : AIC=841.680, Time=0.11 sec\n",
      " ARIMA(0,1,1)(1,1,1)[12]             : AIC=841.917, Time=0.40 sec\n",
      " ARIMA(1,1,1)(0,1,0)[12]             : AIC=843.539, Time=0.04 sec\n",
      " ARIMA(0,1,2)(0,1,0)[12]             : AIC=843.528, Time=0.06 sec\n",
      " ARIMA(1,1,0)(0,1,0)[12]             : AIC=852.928, Time=0.02 sec\n",
      " ARIMA(1,1,2)(0,1,0)[12]             : AIC=843.580, Time=0.09 sec\n",
      " ARIMA(0,1,1)(0,1,0)[12] intercept   : AIC=841.636, Time=0.05 sec\n",
      " ARIMA(0,1,1)(1,1,0)[12] intercept   : AIC=841.422, Time=0.22 sec\n",
      " ARIMA(0,1,1)(2,1,0)[12] intercept   : AIC=840.803, Time=0.69 sec\n",
      " ARIMA(0,1,1)(2,1,1)[12] intercept   : AIC=842.648, Time=1.24 sec\n",
      " ARIMA(0,1,1)(1,1,1)[12] intercept   : AIC=841.869, Time=0.53 sec\n",
      " ARIMA(0,1,0)(2,1,0)[12] intercept   : AIC=869.319, Time=0.81 sec\n",
      " ARIMA(1,1,1)(2,1,0)[12] intercept   : AIC=842.774, Time=1.18 sec\n",
      " ARIMA(0,1,2)(2,1,0)[12] intercept   : AIC=842.768, Time=1.22 sec\n",
      " ARIMA(1,1,0)(2,1,0)[12] intercept   : AIC=853.830, Time=0.78 sec\n",
      " ARIMA(1,1,2)(2,1,0)[12] intercept   : AIC=843.692, Time=1.50 sec\n",
      " ARIMA(0,1,1)(2,1,0)[12]             : AIC=840.532, Time=0.38 sec\n",
      " ARIMA(0,1,1)(2,1,1)[12]             : AIC=842.111, Time=0.92 sec\n",
      " ARIMA(0,1,0)(2,1,0)[12]             : AIC=867.420, Time=0.26 sec\n",
      " ARIMA(1,1,1)(2,1,0)[12]             : AIC=842.463, Time=0.55 sec\n",
      " ARIMA(0,1,2)(2,1,0)[12]             : AIC=842.448, Time=0.52 sec\n",
      " ARIMA(1,1,0)(2,1,0)[12]             : AIC=852.053, Time=0.33 sec\n",
      " ARIMA(1,1,2)(2,1,0)[12]             : AIC=842.308, Time=0.93 sec\n",
      "\n",
      "Best model:  ARIMA(0,1,1)(2,1,0)[12]          \n",
      "Total fit time: 13.296 seconds\n",
      "Performing stepwise search to minimize aic\n",
      " ARIMA(1,1,1)(0,1,1)[12]             : AIC=1524.496, Time=0.13 sec\n",
      " ARIMA(0,1,0)(0,1,0)[12]             : AIC=1576.254, Time=0.01 sec\n",
      " ARIMA(1,1,0)(1,1,0)[12]             : AIC=1534.844, Time=0.06 sec\n",
      " ARIMA(0,1,1)(0,1,1)[12]             : AIC=1528.558, Time=0.08 sec\n",
      " ARIMA(1,1,1)(0,1,0)[12]             : AIC=1553.850, Time=0.05 sec\n",
      " ARIMA(1,1,1)(1,1,1)[12]             : AIC=inf, Time=0.22 sec\n",
      " ARIMA(1,1,1)(0,1,2)[12]             : AIC=1522.188, Time=0.52 sec\n",
      " ARIMA(1,1,1)(1,1,2)[12]             : AIC=inf, Time=0.76 sec\n",
      " ARIMA(0,1,1)(0,1,2)[12]             : AIC=1526.870, Time=0.29 sec\n",
      " ARIMA(1,1,0)(0,1,2)[12]             : AIC=1527.193, Time=0.24 sec\n",
      " ARIMA(2,1,1)(0,1,2)[12]             : AIC=inf, Time=0.74 sec\n",
      " ARIMA(1,1,2)(0,1,2)[12]             : AIC=inf, Time=2.28 sec\n",
      " ARIMA(0,1,0)(0,1,2)[12]             : AIC=1559.542, Time=0.22 sec\n",
      " ARIMA(0,1,2)(0,1,2)[12]             : AIC=inf, Time=0.78 sec\n",
      " ARIMA(2,1,0)(0,1,2)[12]             : AIC=1521.629, Time=0.39 sec\n",
      " ARIMA(2,1,0)(0,1,1)[12]             : AIC=1522.826, Time=0.09 sec\n",
      " ARIMA(2,1,0)(1,1,2)[12]             : AIC=1522.855, Time=0.65 sec\n",
      " ARIMA(2,1,0)(1,1,1)[12]             : AIC=1520.880, Time=0.23 sec\n",
      " ARIMA(2,1,0)(1,1,0)[12]             : AIC=1531.352, Time=0.12 sec\n",
      " ARIMA(2,1,0)(2,1,1)[12]             : AIC=inf, Time=0.64 sec\n",
      " ARIMA(2,1,0)(0,1,0)[12]             : AIC=1552.317, Time=0.03 sec\n",
      " ARIMA(2,1,0)(2,1,0)[12]             : AIC=1530.796, Time=0.33 sec\n",
      " ARIMA(2,1,0)(2,1,2)[12]             : AIC=inf, Time=0.99 sec\n",
      " ARIMA(1,1,0)(1,1,1)[12]             : AIC=1526.665, Time=0.14 sec\n",
      " ARIMA(3,1,0)(1,1,1)[12]             : AIC=inf, Time=0.28 sec\n",
      " ARIMA(2,1,1)(1,1,1)[12]             : AIC=inf, Time=0.37 sec\n",
      " ARIMA(3,1,1)(1,1,1)[12]             : AIC=inf, Time=0.70 sec\n",
      " ARIMA(2,1,0)(1,1,1)[12] intercept   : AIC=1523.802, Time=0.30 sec\n",
      "\n",
      "Best model:  ARIMA(2,1,0)(1,1,1)[12]          \n",
      "Total fit time: 11.651 seconds\n",
      "Performing stepwise search to minimize aic\n",
      " ARIMA(1,1,1)(0,1,1)[12]             : AIC=inf, Time=0.15 sec\n",
      " ARIMA(0,1,0)(0,1,0)[12]             : AIC=496.757, Time=0.00 sec\n",
      " ARIMA(1,1,0)(1,1,0)[12]             : AIC=457.756, Time=0.07 sec\n",
      " ARIMA(0,1,1)(0,1,1)[12]             : AIC=inf, Time=0.10 sec\n",
      " ARIMA(1,1,0)(0,1,0)[12]             : AIC=474.945, Time=0.03 sec\n",
      " ARIMA(1,1,0)(2,1,0)[12]             : AIC=448.118, Time=0.20 sec\n",
      " ARIMA(1,1,0)(2,1,1)[12]             : AIC=inf, Time=1.11 sec\n",
      " ARIMA(1,1,0)(1,1,1)[12]             : AIC=inf, Time=0.50 sec\n",
      " ARIMA(0,1,0)(2,1,0)[12]             : AIC=464.335, Time=0.17 sec\n",
      " ARIMA(2,1,0)(2,1,0)[12]             : AIC=434.888, Time=0.29 sec\n",
      " ARIMA(2,1,0)(1,1,0)[12]             : AIC=442.581, Time=0.08 sec\n",
      " ARIMA(2,1,0)(2,1,1)[12]             : AIC=inf, Time=1.53 sec\n",
      " ARIMA(2,1,0)(1,1,1)[12]             : AIC=inf, Time=0.64 sec\n",
      " ARIMA(3,1,0)(2,1,0)[12]             : AIC=433.894, Time=0.32 sec\n",
      " ARIMA(3,1,0)(1,1,0)[12]             : AIC=443.487, Time=0.12 sec\n",
      " ARIMA(3,1,0)(2,1,1)[12]             : AIC=inf, Time=1.63 sec\n",
      " ARIMA(3,1,0)(1,1,1)[12]             : AIC=inf, Time=0.55 sec\n",
      " ARIMA(4,1,0)(2,1,0)[12]             : AIC=434.789, Time=0.40 sec\n",
      " ARIMA(3,1,1)(2,1,0)[12]             : AIC=433.219, Time=0.70 sec\n",
      " ARIMA(3,1,1)(1,1,0)[12]             : AIC=440.779, Time=0.23 sec\n",
      " ARIMA(3,1,1)(2,1,1)[12]             : AIC=inf, Time=2.64 sec\n",
      " ARIMA(3,1,1)(1,1,1)[12]             : AIC=inf, Time=1.19 sec\n",
      " ARIMA(2,1,1)(2,1,0)[12]             : AIC=432.244, Time=0.58 sec\n",
      " ARIMA(2,1,1)(1,1,0)[12]             : AIC=441.314, Time=0.28 sec\n",
      " ARIMA(2,1,1)(2,1,1)[12]             : AIC=inf, Time=1.92 sec\n",
      " ARIMA(2,1,1)(1,1,1)[12]             : AIC=inf, Time=0.71 sec\n",
      " ARIMA(1,1,1)(2,1,0)[12]             : AIC=430.760, Time=0.50 sec\n",
      " ARIMA(1,1,1)(1,1,0)[12]             : AIC=439.464, Time=0.14 sec\n",
      " ARIMA(1,1,1)(2,1,1)[12]             : AIC=inf, Time=1.56 sec\n",
      " ARIMA(1,1,1)(1,1,1)[12]             : AIC=inf, Time=0.53 sec\n",
      " ARIMA(0,1,1)(2,1,0)[12]             : AIC=428.928, Time=0.30 sec\n",
      " ARIMA(0,1,1)(1,1,0)[12]             : AIC=437.592, Time=0.07 sec\n",
      " ARIMA(0,1,1)(2,1,1)[12]             : AIC=inf, Time=1.00 sec\n",
      " ARIMA(0,1,1)(1,1,1)[12]             : AIC=inf, Time=0.35 sec\n",
      " ARIMA(0,1,2)(2,1,0)[12]             : AIC=430.726, Time=0.41 sec\n",
      " ARIMA(1,1,2)(2,1,0)[12]             : AIC=430.893, Time=1.00 sec\n",
      " ARIMA(0,1,1)(2,1,0)[12] intercept   : AIC=428.067, Time=0.50 sec\n",
      " ARIMA(0,1,1)(1,1,0)[12] intercept   : AIC=437.516, Time=0.16 sec\n",
      " ARIMA(0,1,1)(2,1,1)[12] intercept   : AIC=inf, Time=1.51 sec\n",
      " ARIMA(0,1,1)(1,1,1)[12] intercept   : AIC=inf, Time=0.61 sec\n",
      " ARIMA(0,1,0)(2,1,0)[12] intercept   : AIC=466.297, Time=0.33 sec\n",
      " ARIMA(1,1,1)(2,1,0)[12] intercept   : AIC=430.061, Time=0.59 sec\n",
      " ARIMA(0,1,2)(2,1,0)[12] intercept   : AIC=430.060, Time=0.70 sec\n",
      " ARIMA(1,1,0)(2,1,0)[12] intercept   : AIC=450.016, Time=0.60 sec\n",
      " ARIMA(1,1,2)(2,1,0)[12] intercept   : AIC=inf, Time=1.20 sec\n",
      "\n",
      "Best model:  ARIMA(0,1,1)(2,1,0)[12] intercept\n",
      "Total fit time: 28.224 seconds\n",
      "Performing stepwise search to minimize aic\n",
      " ARIMA(1,1,1)(0,1,1)[12]             : AIC=inf, Time=0.51 sec\n",
      " ARIMA(0,1,0)(0,1,0)[12]             : AIC=-27.920, Time=0.01 sec\n",
      " ARIMA(1,1,0)(1,1,0)[12]             : AIC=-46.722, Time=0.10 sec\n",
      " ARIMA(0,1,1)(0,1,1)[12]             : AIC=inf, Time=0.64 sec\n",
      " ARIMA(1,1,0)(0,1,0)[12]             : AIC=-38.014, Time=0.03 sec\n",
      " ARIMA(1,1,0)(2,1,0)[12]             : AIC=-51.812, Time=0.29 sec\n",
      " ARIMA(1,1,0)(2,1,1)[12]             : AIC=inf, Time=1.26 sec\n",
      " ARIMA(1,1,0)(1,1,1)[12]             : AIC=inf, Time=0.40 sec\n",
      " ARIMA(0,1,0)(2,1,0)[12]             : AIC=-43.561, Time=0.21 sec\n",
      " ARIMA(2,1,0)(2,1,0)[12]             : AIC=-50.990, Time=0.43 sec\n",
      " ARIMA(1,1,1)(2,1,0)[12]             : AIC=inf, Time=1.24 sec\n",
      " ARIMA(0,1,1)(2,1,0)[12]             : AIC=-53.028, Time=0.47 sec\n",
      " ARIMA(0,1,1)(1,1,0)[12]             : AIC=-48.019, Time=0.32 sec\n",
      " ARIMA(0,1,1)(2,1,1)[12]             : AIC=inf, Time=1.18 sec\n",
      " ARIMA(0,1,1)(1,1,1)[12]             : AIC=inf, Time=0.58 sec\n",
      " ARIMA(0,1,2)(2,1,0)[12]             : AIC=-51.039, Time=0.45 sec\n",
      " ARIMA(1,1,2)(2,1,0)[12]             : AIC=-49.028, Time=0.38 sec\n",
      " ARIMA(0,1,1)(2,1,0)[12] intercept   : AIC=-52.199, Time=0.65 sec\n",
      "\n",
      "Best model:  ARIMA(0,1,1)(2,1,0)[12]          \n",
      "Total fit time: 9.159 seconds\n",
      "Performing stepwise search to minimize aic\n",
      " ARIMA(1,1,1)(0,1,1)[12]             : AIC=325.783, Time=0.14 sec\n",
      " ARIMA(0,1,0)(0,1,0)[12]             : AIC=336.924, Time=0.01 sec\n",
      " ARIMA(1,1,0)(1,1,0)[12]             : AIC=329.248, Time=0.05 sec\n",
      " ARIMA(0,1,1)(0,1,1)[12]             : AIC=325.427, Time=0.07 sec\n",
      " ARIMA(0,1,1)(0,1,0)[12]             : AIC=337.397, Time=0.02 sec\n",
      " ARIMA(0,1,1)(1,1,1)[12]             : AIC=327.211, Time=0.13 sec\n",
      " ARIMA(0,1,1)(0,1,2)[12]             : AIC=327.081, Time=0.25 sec\n",
      " ARIMA(0,1,1)(1,1,0)[12]             : AIC=326.782, Time=0.05 sec\n",
      " ARIMA(0,1,1)(1,1,2)[12]             : AIC=inf, Time=1.23 sec\n",
      " ARIMA(0,1,0)(0,1,1)[12]             : AIC=327.800, Time=0.06 sec\n",
      " ARIMA(0,1,2)(0,1,1)[12]             : AIC=321.244, Time=0.10 sec\n",
      " ARIMA(0,1,2)(0,1,0)[12]             : AIC=328.339, Time=0.02 sec\n",
      " ARIMA(0,1,2)(1,1,1)[12]             : AIC=323.240, Time=0.20 sec\n",
      " ARIMA(0,1,2)(0,1,2)[12]             : AIC=323.236, Time=0.50 sec\n",
      " ARIMA(0,1,2)(1,1,0)[12]             : AIC=322.500, Time=0.07 sec\n",
      " ARIMA(0,1,2)(1,1,2)[12]             : AIC=325.215, Time=1.23 sec\n",
      " ARIMA(1,1,2)(0,1,1)[12]             : AIC=320.526, Time=0.41 sec\n",
      " ARIMA(1,1,2)(0,1,0)[12]             : AIC=329.800, Time=0.07 sec\n",
      " ARIMA(1,1,2)(1,1,1)[12]             : AIC=322.520, Time=0.47 sec\n",
      " ARIMA(1,1,2)(0,1,2)[12]             : AIC=322.517, Time=0.71 sec\n",
      " ARIMA(1,1,2)(1,1,0)[12]             : AIC=322.316, Time=0.17 sec\n",
      " ARIMA(1,1,2)(1,1,2)[12]             : AIC=324.510, Time=1.69 sec\n",
      " ARIMA(2,1,2)(0,1,1)[12]             : AIC=322.150, Time=0.26 sec\n",
      " ARIMA(1,1,3)(0,1,1)[12]             : AIC=321.647, Time=0.26 sec\n",
      " ARIMA(0,1,3)(0,1,1)[12]             : AIC=319.653, Time=0.15 sec\n",
      " ARIMA(0,1,3)(0,1,0)[12]             : AIC=329.228, Time=0.04 sec\n",
      " ARIMA(0,1,3)(1,1,1)[12]             : AIC=321.647, Time=0.24 sec\n",
      " ARIMA(0,1,3)(0,1,2)[12]             : AIC=321.644, Time=0.54 sec\n",
      " ARIMA(0,1,3)(1,1,0)[12]             : AIC=321.552, Time=0.09 sec\n",
      " ARIMA(0,1,3)(1,1,2)[12]             : AIC=323.634, Time=1.03 sec\n",
      " ARIMA(0,1,4)(0,1,1)[12]             : AIC=321.647, Time=0.19 sec\n",
      " ARIMA(1,1,4)(0,1,1)[12]             : AIC=323.348, Time=0.56 sec\n",
      " ARIMA(0,1,3)(0,1,1)[12] intercept   : AIC=321.285, Time=0.22 sec\n",
      "\n",
      "Best model:  ARIMA(0,1,3)(0,1,1)[12]          \n",
      "Total fit time: 11.216 seconds\n",
      "Performing stepwise search to minimize aic\n",
      " ARIMA(1,1,1)(0,1,1)[12]             : AIC=407.362, Time=0.13 sec\n",
      " ARIMA(0,1,0)(0,1,0)[12]             : AIC=421.854, Time=0.01 sec\n",
      " ARIMA(1,1,0)(1,1,0)[12]             : AIC=407.992, Time=0.05 sec\n",
      " ARIMA(0,1,1)(0,1,1)[12]             : AIC=406.486, Time=0.10 sec\n",
      " ARIMA(0,1,1)(0,1,0)[12]             : AIC=411.149, Time=0.02 sec\n",
      " ARIMA(0,1,1)(1,1,1)[12]             : AIC=inf, Time=0.45 sec\n",
      " ARIMA(0,1,1)(0,1,2)[12]             : AIC=405.981, Time=0.37 sec\n",
      " ARIMA(0,1,1)(1,1,2)[12]             : AIC=inf, Time=1.28 sec\n",
      " ARIMA(0,1,0)(0,1,2)[12]             : AIC=inf, Time=0.23 sec\n",
      " ARIMA(1,1,1)(0,1,2)[12]             : AIC=406.653, Time=0.40 sec\n",
      " ARIMA(0,1,2)(0,1,2)[12]             : AIC=406.771, Time=0.39 sec\n",
      " ARIMA(1,1,0)(0,1,2)[12]             : AIC=404.937, Time=0.28 sec\n",
      " ARIMA(1,1,0)(0,1,1)[12]             : AIC=406.152, Time=0.07 sec\n",
      " ARIMA(1,1,0)(1,1,2)[12]             : AIC=inf, Time=0.94 sec\n",
      " ARIMA(1,1,0)(1,1,1)[12]             : AIC=inf, Time=0.36 sec\n",
      " ARIMA(2,1,0)(0,1,2)[12]             : AIC=406.592, Time=0.38 sec\n",
      " ARIMA(2,1,1)(0,1,2)[12]             : AIC=408.460, Time=1.26 sec\n",
      " ARIMA(1,1,0)(0,1,2)[12] intercept   : AIC=406.205, Time=0.41 sec\n",
      "\n",
      "Best model:  ARIMA(1,1,0)(0,1,2)[12]          \n",
      "Total fit time: 7.135 seconds\n"
     ]
    }
   ],
   "source": [
    "# create the future predictions dataframe\n",
    "if has_actuals:\n",
    "    act_df = all_df[all_df['Calendar Date'].astype(int) >= int(pred_start_dt)]\n",
    "    act_df = act_df[['Calendar Date', target_col]]\n",
    "    act_df['Calendar Date'] = pd.to_datetime(act_df['Calendar Date'])\n",
    "    pred_df = models.run_auto_arima(comb_df, feature_cols, pred_start_dt, forecast_window)\n",
    "    final_best = finalize_model(best)\n",
    "    #future_dates = pd.date_range(start = pred_start_dt, end = pred_end_dt, freq = 'MS')\n",
    "    pred_df = predict_model(final_best, data=pred_df)\n",
    "    #pred_df = pred_df[['Calendar Date', 'Label']]\n",
    "    pred_df = pred_df.rename(columns={'Label':ml_col})[['Calendar Date', ml_col]]\n",
    "    concat_df = pd.merge(act_df, pred_df ,on='Calendar Date', how='inner')\n",
    "    \n",
    "    # get plan data\n",
    "    plan_df = dl.get_clean_data(train_start_dt, pred_end_dt, file_path, type='plan')\n",
    "    plan_df = plan_df[['Calendar Date', target_col]]\n",
    "    plan_df.rename(columns={target_col:plan_col}, inplace=True)\n",
    "    plan_df['Calendar Date'] = pd.to_datetime(plan_df['Calendar Date'])\n",
    "    concat_df = pd.merge(concat_df,plan_df, on='Calendar Date', how='inner')\n",
    "    \n",
    "    # get forecast data\n",
    "    fcst_df = dl.get_clean_data(train_start_dt, pred_end_dt, file_path,\n",
    "                                type='forecast',\n",
    "                                forecast_type=forecast_type)\n",
    "    fcst_df = fcst_df[['Calendar Date', target_col]]\n",
    "    fcst_df.rename(columns={target_col:fcst_col}, inplace=True)\n",
    "    fcst_df['Calendar Date'] = pd.to_datetime(fcst_df['Calendar Date'])\n",
    "    concat_df = pd.merge(concat_df,fcst_df, on='Calendar Date', how='inner')"
   ]
  },
  {
   "cell_type": "code",
   "execution_count": 48,
   "metadata": {},
   "outputs": [
    {
     "name": "stdout",
     "output_type": "stream",
     "text": [
      "Performing stepwise search to minimize aic\n",
      " ARIMA(1,1,1)(0,1,1)[12]             : AIC=2524.013, Time=0.22 sec\n",
      " ARIMA(0,1,0)(0,1,0)[12]             : AIC=2565.480, Time=0.01 sec\n",
      " ARIMA(1,1,0)(1,1,0)[12]             : AIC=2532.550, Time=0.13 sec\n",
      " ARIMA(0,1,1)(0,1,1)[12]             : AIC=2525.987, Time=0.10 sec\n",
      " ARIMA(1,1,1)(0,1,0)[12]             : AIC=2551.369, Time=0.04 sec\n",
      " ARIMA(1,1,1)(1,1,1)[12]             : AIC=inf, Time=0.28 sec\n",
      " ARIMA(1,1,1)(0,1,2)[12]             : AIC=2519.711, Time=0.48 sec\n",
      " ARIMA(1,1,1)(1,1,2)[12]             : AIC=2521.286, Time=0.86 sec\n",
      " ARIMA(0,1,1)(0,1,2)[12]             : AIC=2522.259, Time=0.27 sec\n",
      " ARIMA(1,1,0)(0,1,2)[12]             : AIC=2521.163, Time=0.29 sec\n",
      " ARIMA(2,1,1)(0,1,2)[12]             : AIC=2523.375, Time=0.81 sec\n",
      " ARIMA(1,1,2)(0,1,2)[12]             : AIC=2521.703, Time=0.72 sec\n",
      " ARIMA(0,1,0)(0,1,2)[12]             : AIC=2550.919, Time=0.18 sec\n",
      " ARIMA(0,1,2)(0,1,2)[12]             : AIC=2519.808, Time=0.31 sec\n",
      " ARIMA(2,1,0)(0,1,2)[12]             : AIC=2519.514, Time=0.30 sec\n",
      " ARIMA(2,1,0)(0,1,1)[12]             : AIC=2522.919, Time=0.09 sec\n",
      " ARIMA(2,1,0)(1,1,2)[12]             : AIC=2521.200, Time=0.60 sec\n",
      " ARIMA(2,1,0)(1,1,1)[12]             : AIC=inf, Time=0.26 sec\n",
      " ARIMA(3,1,0)(0,1,2)[12]             : AIC=2522.091, Time=0.61 sec\n",
      " ARIMA(3,1,1)(0,1,2)[12]             : AIC=inf, Time=1.92 sec\n",
      " ARIMA(2,1,0)(0,1,2)[12] intercept   : AIC=2522.365, Time=0.48 sec\n",
      "\n",
      "Best model:  ARIMA(2,1,0)(0,1,2)[12]          \n",
      "Total fit time: 8.979 seconds\n"
     ]
    }
   ],
   "source": [
    "# run UTS\n",
    "uts_df = comb_df[['Calendar Date', target_col]]\n",
    "uts_df = models.run_auto_arima(uts_df, [target_col], pred_start_dt, forecast_window)\n",
    "uts_df.rename(columns={target_col:uts_col}, inplace=True)\n",
    "concat_df = pd.merge(concat_df,uts_df, on='Calendar Date', how='inner')"
   ]
  },
  {
   "cell_type": "code",
   "execution_count": 49,
   "metadata": {},
   "outputs": [
    {
     "data": {
      "application/vnd.plotly.v1+json": {
       "data": [
        {
         "hovertemplate": "variable=Payroll blended products<br>Calendar Date=%{x}<br>value=%{y}<extra></extra>",
         "legendgroup": "Payroll blended products",
         "line": {
          "color": "#636efa",
          "dash": "solid"
         },
         "marker": {
          "symbol": "circle"
         },
         "mode": "lines",
         "name": "Payroll blended products",
         "orientation": "v",
         "showlegend": true,
         "x": [
          "2014-06-01T00:00:00",
          "2014-07-01T00:00:00",
          "2014-08-01T00:00:00",
          "2014-09-01T00:00:00",
          "2014-10-01T00:00:00",
          "2014-11-01T00:00:00",
          "2014-12-01T00:00:00",
          "2015-01-01T00:00:00",
          "2015-02-01T00:00:00",
          "2015-03-01T00:00:00",
          "2015-04-01T00:00:00",
          "2015-05-01T00:00:00",
          "2015-06-01T00:00:00",
          "2015-07-01T00:00:00",
          "2015-08-01T00:00:00",
          "2015-09-01T00:00:00",
          "2015-10-01T00:00:00",
          "2015-11-01T00:00:00",
          "2015-12-01T00:00:00",
          "2016-01-01T00:00:00",
          "2016-02-01T00:00:00",
          "2016-03-01T00:00:00",
          "2016-04-01T00:00:00",
          "2016-05-01T00:00:00",
          "2016-06-01T00:00:00",
          "2016-07-01T00:00:00",
          "2016-08-01T00:00:00",
          "2016-09-01T00:00:00",
          "2016-10-01T00:00:00",
          "2016-11-01T00:00:00",
          "2016-12-01T00:00:00",
          "2017-01-01T00:00:00",
          "2017-02-01T00:00:00",
          "2017-03-01T00:00:00",
          "2017-04-01T00:00:00",
          "2017-05-01T00:00:00",
          "2017-06-01T00:00:00",
          "2017-07-01T00:00:00",
          "2017-08-01T00:00:00",
          "2017-09-01T00:00:00",
          "2017-10-01T00:00:00",
          "2017-11-01T00:00:00",
          "2017-12-01T00:00:00",
          "2018-01-01T00:00:00",
          "2018-02-01T00:00:00",
          "2018-03-01T00:00:00",
          "2018-04-01T00:00:00",
          "2018-05-01T00:00:00",
          "2018-06-01T00:00:00",
          "2018-07-01T00:00:00",
          "2018-08-01T00:00:00",
          "2018-09-01T00:00:00",
          "2018-10-01T00:00:00",
          "2018-11-01T00:00:00",
          "2018-12-01T00:00:00",
          "2019-01-01T00:00:00",
          "2019-02-01T00:00:00",
          "2019-03-01T00:00:00",
          "2019-04-01T00:00:00",
          "2019-05-01T00:00:00",
          "2019-06-01T00:00:00",
          "2019-07-01T00:00:00",
          "2019-08-01T00:00:00",
          "2019-09-01T00:00:00",
          "2019-10-01T00:00:00",
          "2019-11-01T00:00:00",
          "2019-12-01T00:00:00",
          "2020-01-01T00:00:00",
          "2020-02-01T00:00:00",
          "2020-03-01T00:00:00",
          "2020-04-01T00:00:00",
          "2020-05-01T00:00:00",
          "2020-06-01T00:00:00",
          "2020-07-01T00:00:00",
          "2020-08-01T00:00:00",
          "2020-09-01T00:00:00",
          "2020-10-01T00:00:00",
          "2020-11-01T00:00:00",
          "2020-12-01T00:00:00",
          "2021-01-01T00:00:00",
          "2021-02-01T00:00:00",
          "2021-03-01T00:00:00",
          "2021-04-01T00:00:00",
          "2021-05-01T00:00:00",
          "2021-06-01T00:00:00",
          "2021-07-01T00:00:00",
          "2021-08-01T00:00:00",
          "2021-09-01T00:00:00",
          "2021-10-01T00:00:00",
          "2021-11-01T00:00:00",
          "2021-12-01T00:00:00",
          "2022-01-01T00:00:00"
         ],
         "xaxis": "x",
         "y": [
          9.9633512E7,
          1.21619696E8,
          9.9472483E7,
          9.419823E7,
          1.24353873E8,
          9.8868618E7,
          9.9281713E7,
          1.24388966E8,
          9.5862151E7,
          9.2298659E7,
          1.21697752E8,
          1.01684796E8,
          9.8488622E7,
          1.28603825E8,
          1.05495604E8,
          1.25580319E8,
          1.00345212E8,
          1.0102739E8,
          1.03140193E8,
          1.25846591E8,
          9.6492494E7,
          1.20343617E8,
          9.8703839E7,
          1.06311407E8,
          1.18434494E8,
          1.04657878E8,
          1.17436063E8,
          1.10000558E8,
          1.05928516E8,
          1.13829464E8,
          1.17493864E8,
          1.06635184E8,
          9.8803491E7,
          1.11544069E8,
          9.9478187E7,
          1.18429597E8,
          1.15286408E8,
          1.08148242E8,
          1.20254168E8,
          1.04705146E8,
          1.10931972E8,
          1.15430932E8,
          1.13194342E8,
          1.10248167E8,
          9.8798038E7,
          1.06248694E8,
          1.03554646E8,
          1.19149029E8,
          1.07365918E8,
          1.13740156E8,
          1.1650572E8,
          1.02622473E8,
          1.15762795E8,
          1.10179873E8,
          1.17538398E8,
          1.10354647E8,
          9.8377675E7,
          9.995827E7,
          1.08700563E8,
          1.15331665E8,
          1.06731158E8,
          1.19190721E8,
          1.13364359E8,
          1.08305027E8,
          1.19068432E8,
          1.05060481E8,
          1.28667631E8,
          1.06043776E8,
          9.9644382E7,
          1.07287296E8,
          9.2673007E7,
          9.0949332E7,
          1.03438412E8,
          1.03718926E8,
          9.9146164E7,
          1.08696536E8,
          1.07861298E8,
          1.05164502E8,
          1.26152261E8,
          9.4834624E7,
          9.6978102E7,
          1.10554131E8,
          1.05999185E8,
          1.01329196E8,
          1.14237978E8,
          1.13185861E8,
          1.15768921E8,
          1.16406871E8,
          1.07455264E8,
          1.1750373E8,
          1.27800869E8,
          1.03869768E8
         ],
         "yaxis": "y",
         "type": "scatter"
        },
        {
         "hovertemplate": "variable=Payroll blended products - ML Predicted<br>Calendar Date=%{x}<br>value=%{y}<extra></extra>",
         "legendgroup": "Payroll blended products - ML Predicted",
         "line": {
          "color": "#EF553B",
          "dash": "solid"
         },
         "marker": {
          "symbol": "circle"
         },
         "mode": "lines",
         "name": "Payroll blended products - ML Predicted",
         "orientation": "v",
         "showlegend": true,
         "x": [
          "2014-06-01T00:00:00",
          "2014-07-01T00:00:00",
          "2014-08-01T00:00:00",
          "2014-09-01T00:00:00",
          "2014-10-01T00:00:00",
          "2014-11-01T00:00:00",
          "2014-12-01T00:00:00",
          "2015-01-01T00:00:00",
          "2015-02-01T00:00:00",
          "2015-03-01T00:00:00",
          "2015-04-01T00:00:00",
          "2015-05-01T00:00:00",
          "2015-06-01T00:00:00",
          "2015-07-01T00:00:00",
          "2015-08-01T00:00:00",
          "2015-09-01T00:00:00",
          "2015-10-01T00:00:00",
          "2015-11-01T00:00:00",
          "2015-12-01T00:00:00",
          "2016-01-01T00:00:00",
          "2016-02-01T00:00:00",
          "2016-03-01T00:00:00",
          "2016-04-01T00:00:00",
          "2016-05-01T00:00:00",
          "2016-06-01T00:00:00",
          "2016-07-01T00:00:00",
          "2016-08-01T00:00:00",
          "2016-09-01T00:00:00",
          "2016-10-01T00:00:00",
          "2016-11-01T00:00:00",
          "2016-12-01T00:00:00",
          "2017-01-01T00:00:00",
          "2017-02-01T00:00:00",
          "2017-03-01T00:00:00",
          "2017-04-01T00:00:00",
          "2017-05-01T00:00:00",
          "2017-06-01T00:00:00",
          "2017-07-01T00:00:00",
          "2017-08-01T00:00:00",
          "2017-09-01T00:00:00",
          "2017-10-01T00:00:00",
          "2017-11-01T00:00:00",
          "2017-12-01T00:00:00",
          "2018-01-01T00:00:00",
          "2018-02-01T00:00:00",
          "2018-03-01T00:00:00",
          "2018-04-01T00:00:00",
          "2018-05-01T00:00:00",
          "2018-06-01T00:00:00",
          "2018-07-01T00:00:00",
          "2018-08-01T00:00:00",
          "2018-09-01T00:00:00",
          "2018-10-01T00:00:00",
          "2018-11-01T00:00:00",
          "2018-12-01T00:00:00",
          "2019-01-01T00:00:00",
          "2019-02-01T00:00:00",
          "2019-03-01T00:00:00",
          "2019-04-01T00:00:00",
          "2019-05-01T00:00:00",
          "2019-06-01T00:00:00",
          "2019-07-01T00:00:00",
          "2019-08-01T00:00:00",
          "2019-09-01T00:00:00",
          "2019-10-01T00:00:00",
          "2019-11-01T00:00:00",
          "2019-12-01T00:00:00",
          "2020-01-01T00:00:00",
          "2020-02-01T00:00:00",
          "2020-03-01T00:00:00",
          "2020-04-01T00:00:00",
          "2020-05-01T00:00:00",
          "2020-06-01T00:00:00",
          "2020-07-01T00:00:00",
          "2020-08-01T00:00:00",
          "2020-09-01T00:00:00",
          "2020-10-01T00:00:00",
          "2020-11-01T00:00:00",
          "2020-12-01T00:00:00",
          "2021-01-01T00:00:00",
          "2021-02-01T00:00:00",
          "2021-03-01T00:00:00",
          "2021-04-01T00:00:00",
          "2021-05-01T00:00:00",
          "2021-06-01T00:00:00",
          "2021-07-01T00:00:00",
          "2021-08-01T00:00:00",
          "2021-09-01T00:00:00",
          "2021-10-01T00:00:00",
          "2021-11-01T00:00:00",
          "2021-12-01T00:00:00",
          "2022-01-01T00:00:00"
         ],
         "xaxis": "x",
         "y": [
          null,
          null,
          null,
          null,
          null,
          null,
          null,
          null,
          null,
          null,
          null,
          null,
          null,
          null,
          null,
          null,
          null,
          null,
          null,
          null,
          null,
          null,
          null,
          null,
          null,
          null,
          null,
          null,
          null,
          null,
          null,
          null,
          null,
          null,
          null,
          null,
          null,
          null,
          null,
          null,
          null,
          null,
          null,
          null,
          null,
          null,
          null,
          null,
          null,
          null,
          null,
          null,
          null,
          null,
          null,
          null,
          null,
          null,
          null,
          null,
          null,
          null,
          null,
          null,
          null,
          null,
          null,
          null,
          null,
          null,
          null,
          null,
          null,
          null,
          null,
          null,
          null,
          null,
          null,
          null,
          null,
          null,
          null,
          null,
          1.0716511464E8,
          1.1213153888E8,
          1.0817809904E8,
          1.1034697032E8,
          1.038777792E8,
          1.058628808E8,
          1.1078327456E8,
          1.0908765264E8
         ],
         "yaxis": "y",
         "type": "scatter"
        },
        {
         "hovertemplate": "variable=Payroll blended products - UTS Predicted<br>Calendar Date=%{x}<br>value=%{y}<extra></extra>",
         "legendgroup": "Payroll blended products - UTS Predicted",
         "line": {
          "color": "#00cc96",
          "dash": "solid"
         },
         "marker": {
          "symbol": "circle"
         },
         "mode": "lines",
         "name": "Payroll blended products - UTS Predicted",
         "orientation": "v",
         "showlegend": true,
         "x": [
          "2014-06-01T00:00:00",
          "2014-07-01T00:00:00",
          "2014-08-01T00:00:00",
          "2014-09-01T00:00:00",
          "2014-10-01T00:00:00",
          "2014-11-01T00:00:00",
          "2014-12-01T00:00:00",
          "2015-01-01T00:00:00",
          "2015-02-01T00:00:00",
          "2015-03-01T00:00:00",
          "2015-04-01T00:00:00",
          "2015-05-01T00:00:00",
          "2015-06-01T00:00:00",
          "2015-07-01T00:00:00",
          "2015-08-01T00:00:00",
          "2015-09-01T00:00:00",
          "2015-10-01T00:00:00",
          "2015-11-01T00:00:00",
          "2015-12-01T00:00:00",
          "2016-01-01T00:00:00",
          "2016-02-01T00:00:00",
          "2016-03-01T00:00:00",
          "2016-04-01T00:00:00",
          "2016-05-01T00:00:00",
          "2016-06-01T00:00:00",
          "2016-07-01T00:00:00",
          "2016-08-01T00:00:00",
          "2016-09-01T00:00:00",
          "2016-10-01T00:00:00",
          "2016-11-01T00:00:00",
          "2016-12-01T00:00:00",
          "2017-01-01T00:00:00",
          "2017-02-01T00:00:00",
          "2017-03-01T00:00:00",
          "2017-04-01T00:00:00",
          "2017-05-01T00:00:00",
          "2017-06-01T00:00:00",
          "2017-07-01T00:00:00",
          "2017-08-01T00:00:00",
          "2017-09-01T00:00:00",
          "2017-10-01T00:00:00",
          "2017-11-01T00:00:00",
          "2017-12-01T00:00:00",
          "2018-01-01T00:00:00",
          "2018-02-01T00:00:00",
          "2018-03-01T00:00:00",
          "2018-04-01T00:00:00",
          "2018-05-01T00:00:00",
          "2018-06-01T00:00:00",
          "2018-07-01T00:00:00",
          "2018-08-01T00:00:00",
          "2018-09-01T00:00:00",
          "2018-10-01T00:00:00",
          "2018-11-01T00:00:00",
          "2018-12-01T00:00:00",
          "2019-01-01T00:00:00",
          "2019-02-01T00:00:00",
          "2019-03-01T00:00:00",
          "2019-04-01T00:00:00",
          "2019-05-01T00:00:00",
          "2019-06-01T00:00:00",
          "2019-07-01T00:00:00",
          "2019-08-01T00:00:00",
          "2019-09-01T00:00:00",
          "2019-10-01T00:00:00",
          "2019-11-01T00:00:00",
          "2019-12-01T00:00:00",
          "2020-01-01T00:00:00",
          "2020-02-01T00:00:00",
          "2020-03-01T00:00:00",
          "2020-04-01T00:00:00",
          "2020-05-01T00:00:00",
          "2020-06-01T00:00:00",
          "2020-07-01T00:00:00",
          "2020-08-01T00:00:00",
          "2020-09-01T00:00:00",
          "2020-10-01T00:00:00",
          "2020-11-01T00:00:00",
          "2020-12-01T00:00:00",
          "2021-01-01T00:00:00",
          "2021-02-01T00:00:00",
          "2021-03-01T00:00:00",
          "2021-04-01T00:00:00",
          "2021-05-01T00:00:00",
          "2021-06-01T00:00:00",
          "2021-07-01T00:00:00",
          "2021-08-01T00:00:00",
          "2021-09-01T00:00:00",
          "2021-10-01T00:00:00",
          "2021-11-01T00:00:00",
          "2021-12-01T00:00:00",
          "2022-01-01T00:00:00"
         ],
         "xaxis": "x",
         "y": [
          null,
          null,
          null,
          null,
          null,
          null,
          null,
          null,
          null,
          null,
          null,
          null,
          null,
          null,
          null,
          null,
          null,
          null,
          null,
          null,
          null,
          null,
          null,
          null,
          null,
          null,
          null,
          null,
          null,
          null,
          null,
          null,
          null,
          null,
          null,
          null,
          null,
          null,
          null,
          null,
          null,
          null,
          null,
          null,
          null,
          null,
          null,
          null,
          null,
          null,
          null,
          null,
          null,
          null,
          null,
          null,
          null,
          null,
          null,
          null,
          null,
          null,
          null,
          null,
          null,
          null,
          null,
          null,
          null,
          null,
          null,
          null,
          null,
          null,
          null,
          null,
          null,
          null,
          null,
          null,
          null,
          null,
          null,
          null,
          1.1456304247908759E8,
          1.1576351002457696E8,
          1.1351655382980242E8,
          1.1539464544231158E8,
          1.1749035634030077E8,
          1.1436705754786935E8,
          1.278934455232561E8,
          1.1053241476126379E8
         ],
         "yaxis": "y",
         "type": "scatter"
        },
        {
         "hovertemplate": "variable=Payroll blended products - Plan<br>Calendar Date=%{x}<br>value=%{y}<extra></extra>",
         "legendgroup": "Payroll blended products - Plan",
         "line": {
          "color": "#ab63fa",
          "dash": "solid"
         },
         "marker": {
          "symbol": "circle"
         },
         "mode": "lines",
         "name": "Payroll blended products - Plan",
         "orientation": "v",
         "showlegend": true,
         "x": [
          "2014-06-01T00:00:00",
          "2014-07-01T00:00:00",
          "2014-08-01T00:00:00",
          "2014-09-01T00:00:00",
          "2014-10-01T00:00:00",
          "2014-11-01T00:00:00",
          "2014-12-01T00:00:00",
          "2015-01-01T00:00:00",
          "2015-02-01T00:00:00",
          "2015-03-01T00:00:00",
          "2015-04-01T00:00:00",
          "2015-05-01T00:00:00",
          "2015-06-01T00:00:00",
          "2015-07-01T00:00:00",
          "2015-08-01T00:00:00",
          "2015-09-01T00:00:00",
          "2015-10-01T00:00:00",
          "2015-11-01T00:00:00",
          "2015-12-01T00:00:00",
          "2016-01-01T00:00:00",
          "2016-02-01T00:00:00",
          "2016-03-01T00:00:00",
          "2016-04-01T00:00:00",
          "2016-05-01T00:00:00",
          "2016-06-01T00:00:00",
          "2016-07-01T00:00:00",
          "2016-08-01T00:00:00",
          "2016-09-01T00:00:00",
          "2016-10-01T00:00:00",
          "2016-11-01T00:00:00",
          "2016-12-01T00:00:00",
          "2017-01-01T00:00:00",
          "2017-02-01T00:00:00",
          "2017-03-01T00:00:00",
          "2017-04-01T00:00:00",
          "2017-05-01T00:00:00",
          "2017-06-01T00:00:00",
          "2017-07-01T00:00:00",
          "2017-08-01T00:00:00",
          "2017-09-01T00:00:00",
          "2017-10-01T00:00:00",
          "2017-11-01T00:00:00",
          "2017-12-01T00:00:00",
          "2018-01-01T00:00:00",
          "2018-02-01T00:00:00",
          "2018-03-01T00:00:00",
          "2018-04-01T00:00:00",
          "2018-05-01T00:00:00",
          "2018-06-01T00:00:00",
          "2018-07-01T00:00:00",
          "2018-08-01T00:00:00",
          "2018-09-01T00:00:00",
          "2018-10-01T00:00:00",
          "2018-11-01T00:00:00",
          "2018-12-01T00:00:00",
          "2019-01-01T00:00:00",
          "2019-02-01T00:00:00",
          "2019-03-01T00:00:00",
          "2019-04-01T00:00:00",
          "2019-05-01T00:00:00",
          "2019-06-01T00:00:00",
          "2019-07-01T00:00:00",
          "2019-08-01T00:00:00",
          "2019-09-01T00:00:00",
          "2019-10-01T00:00:00",
          "2019-11-01T00:00:00",
          "2019-12-01T00:00:00",
          "2020-01-01T00:00:00",
          "2020-02-01T00:00:00",
          "2020-03-01T00:00:00",
          "2020-04-01T00:00:00",
          "2020-05-01T00:00:00",
          "2020-06-01T00:00:00",
          "2020-07-01T00:00:00",
          "2020-08-01T00:00:00",
          "2020-09-01T00:00:00",
          "2020-10-01T00:00:00",
          "2020-11-01T00:00:00",
          "2020-12-01T00:00:00",
          "2021-01-01T00:00:00",
          "2021-02-01T00:00:00",
          "2021-03-01T00:00:00",
          "2021-04-01T00:00:00",
          "2021-05-01T00:00:00",
          "2021-06-01T00:00:00",
          "2021-07-01T00:00:00",
          "2021-08-01T00:00:00",
          "2021-09-01T00:00:00",
          "2021-10-01T00:00:00",
          "2021-11-01T00:00:00",
          "2021-12-01T00:00:00",
          "2022-01-01T00:00:00"
         ],
         "xaxis": "x",
         "y": [
          null,
          null,
          null,
          null,
          null,
          null,
          null,
          null,
          null,
          null,
          null,
          null,
          null,
          null,
          null,
          null,
          null,
          null,
          null,
          null,
          null,
          null,
          null,
          null,
          null,
          null,
          null,
          null,
          null,
          null,
          null,
          null,
          null,
          null,
          null,
          null,
          null,
          null,
          null,
          null,
          null,
          null,
          null,
          null,
          null,
          null,
          null,
          null,
          null,
          null,
          null,
          null,
          null,
          null,
          null,
          null,
          null,
          null,
          null,
          null,
          null,
          null,
          null,
          null,
          null,
          null,
          null,
          null,
          null,
          null,
          null,
          null,
          null,
          null,
          null,
          null,
          null,
          null,
          null,
          null,
          null,
          null,
          null,
          null,
          1.13430646E8,
          1.14320702E8,
          1.16798889E8,
          1.12693661E8,
          1.04530553E8,
          1.13258398E8,
          1.19579852E8,
          1.02695532E8
         ],
         "yaxis": "y",
         "type": "scatter"
        },
        {
         "hovertemplate": "variable=Payroll blended products - 2+10 Forecast<br>Calendar Date=%{x}<br>value=%{y}<extra></extra>",
         "legendgroup": "Payroll blended products - 2+10 Forecast",
         "line": {
          "color": "#FFA15A",
          "dash": "solid"
         },
         "marker": {
          "symbol": "circle"
         },
         "mode": "lines",
         "name": "Payroll blended products - 2+10 Forecast",
         "orientation": "v",
         "showlegend": true,
         "x": [
          "2014-06-01T00:00:00",
          "2014-07-01T00:00:00",
          "2014-08-01T00:00:00",
          "2014-09-01T00:00:00",
          "2014-10-01T00:00:00",
          "2014-11-01T00:00:00",
          "2014-12-01T00:00:00",
          "2015-01-01T00:00:00",
          "2015-02-01T00:00:00",
          "2015-03-01T00:00:00",
          "2015-04-01T00:00:00",
          "2015-05-01T00:00:00",
          "2015-06-01T00:00:00",
          "2015-07-01T00:00:00",
          "2015-08-01T00:00:00",
          "2015-09-01T00:00:00",
          "2015-10-01T00:00:00",
          "2015-11-01T00:00:00",
          "2015-12-01T00:00:00",
          "2016-01-01T00:00:00",
          "2016-02-01T00:00:00",
          "2016-03-01T00:00:00",
          "2016-04-01T00:00:00",
          "2016-05-01T00:00:00",
          "2016-06-01T00:00:00",
          "2016-07-01T00:00:00",
          "2016-08-01T00:00:00",
          "2016-09-01T00:00:00",
          "2016-10-01T00:00:00",
          "2016-11-01T00:00:00",
          "2016-12-01T00:00:00",
          "2017-01-01T00:00:00",
          "2017-02-01T00:00:00",
          "2017-03-01T00:00:00",
          "2017-04-01T00:00:00",
          "2017-05-01T00:00:00",
          "2017-06-01T00:00:00",
          "2017-07-01T00:00:00",
          "2017-08-01T00:00:00",
          "2017-09-01T00:00:00",
          "2017-10-01T00:00:00",
          "2017-11-01T00:00:00",
          "2017-12-01T00:00:00",
          "2018-01-01T00:00:00",
          "2018-02-01T00:00:00",
          "2018-03-01T00:00:00",
          "2018-04-01T00:00:00",
          "2018-05-01T00:00:00",
          "2018-06-01T00:00:00",
          "2018-07-01T00:00:00",
          "2018-08-01T00:00:00",
          "2018-09-01T00:00:00",
          "2018-10-01T00:00:00",
          "2018-11-01T00:00:00",
          "2018-12-01T00:00:00",
          "2019-01-01T00:00:00",
          "2019-02-01T00:00:00",
          "2019-03-01T00:00:00",
          "2019-04-01T00:00:00",
          "2019-05-01T00:00:00",
          "2019-06-01T00:00:00",
          "2019-07-01T00:00:00",
          "2019-08-01T00:00:00",
          "2019-09-01T00:00:00",
          "2019-10-01T00:00:00",
          "2019-11-01T00:00:00",
          "2019-12-01T00:00:00",
          "2020-01-01T00:00:00",
          "2020-02-01T00:00:00",
          "2020-03-01T00:00:00",
          "2020-04-01T00:00:00",
          "2020-05-01T00:00:00",
          "2020-06-01T00:00:00",
          "2020-07-01T00:00:00",
          "2020-08-01T00:00:00",
          "2020-09-01T00:00:00",
          "2020-10-01T00:00:00",
          "2020-11-01T00:00:00",
          "2020-12-01T00:00:00",
          "2021-01-01T00:00:00",
          "2021-02-01T00:00:00",
          "2021-03-01T00:00:00",
          "2021-04-01T00:00:00",
          "2021-05-01T00:00:00",
          "2021-06-01T00:00:00",
          "2021-07-01T00:00:00",
          "2021-08-01T00:00:00",
          "2021-09-01T00:00:00",
          "2021-10-01T00:00:00",
          "2021-11-01T00:00:00",
          "2021-12-01T00:00:00",
          "2022-01-01T00:00:00"
         ],
         "xaxis": "x",
         "y": [
          null,
          null,
          null,
          null,
          null,
          null,
          null,
          null,
          null,
          null,
          null,
          null,
          null,
          null,
          null,
          null,
          null,
          null,
          null,
          null,
          null,
          null,
          null,
          null,
          null,
          null,
          null,
          null,
          null,
          null,
          null,
          null,
          null,
          null,
          null,
          null,
          null,
          null,
          null,
          null,
          null,
          null,
          null,
          null,
          null,
          null,
          null,
          null,
          null,
          null,
          null,
          null,
          null,
          null,
          null,
          null,
          null,
          null,
          null,
          null,
          null,
          null,
          null,
          null,
          null,
          null,
          null,
          null,
          null,
          null,
          null,
          null,
          null,
          null,
          null,
          null,
          null,
          null,
          null,
          null,
          null,
          null,
          null,
          null,
          1.14237978E8,
          1.13185861E8,
          1.18279683E8,
          1.13299415E8,
          1.05301457E8,
          1.14151474E8,
          1.19951284E8,
          1.03631639E8
         ],
         "yaxis": "y",
         "type": "scatter"
        }
       ],
       "layout": {
        "template": {
         "data": {
          "barpolar": [
           {
            "marker": {
             "line": {
              "color": "white",
              "width": 0.5
             },
             "pattern": {
              "fillmode": "overlay",
              "size": 10,
              "solidity": 0.2
             }
            },
            "type": "barpolar"
           }
          ],
          "bar": [
           {
            "error_x": {
             "color": "#2a3f5f"
            },
            "error_y": {
             "color": "#2a3f5f"
            },
            "marker": {
             "line": {
              "color": "white",
              "width": 0.5
             },
             "pattern": {
              "fillmode": "overlay",
              "size": 10,
              "solidity": 0.2
             }
            },
            "type": "bar"
           }
          ],
          "carpet": [
           {
            "aaxis": {
             "endlinecolor": "#2a3f5f",
             "gridcolor": "#C8D4E3",
             "linecolor": "#C8D4E3",
             "minorgridcolor": "#C8D4E3",
             "startlinecolor": "#2a3f5f"
            },
            "baxis": {
             "endlinecolor": "#2a3f5f",
             "gridcolor": "#C8D4E3",
             "linecolor": "#C8D4E3",
             "minorgridcolor": "#C8D4E3",
             "startlinecolor": "#2a3f5f"
            },
            "type": "carpet"
           }
          ],
          "choropleth": [
           {
            "colorbar": {
             "outlinewidth": 0,
             "ticks": ""
            },
            "type": "choropleth"
           }
          ],
          "contourcarpet": [
           {
            "colorbar": {
             "outlinewidth": 0,
             "ticks": ""
            },
            "type": "contourcarpet"
           }
          ],
          "contour": [
           {
            "colorbar": {
             "outlinewidth": 0,
             "ticks": ""
            },
            "colorscale": [
             [
              0.0,
              "#0d0887"
             ],
             [
              0.1111111111111111,
              "#46039f"
             ],
             [
              0.2222222222222222,
              "#7201a8"
             ],
             [
              0.3333333333333333,
              "#9c179e"
             ],
             [
              0.4444444444444444,
              "#bd3786"
             ],
             [
              0.5555555555555556,
              "#d8576b"
             ],
             [
              0.6666666666666666,
              "#ed7953"
             ],
             [
              0.7777777777777778,
              "#fb9f3a"
             ],
             [
              0.8888888888888888,
              "#fdca26"
             ],
             [
              1.0,
              "#f0f921"
             ]
            ],
            "type": "contour"
           }
          ],
          "heatmapgl": [
           {
            "colorbar": {
             "outlinewidth": 0,
             "ticks": ""
            },
            "colorscale": [
             [
              0.0,
              "#0d0887"
             ],
             [
              0.1111111111111111,
              "#46039f"
             ],
             [
              0.2222222222222222,
              "#7201a8"
             ],
             [
              0.3333333333333333,
              "#9c179e"
             ],
             [
              0.4444444444444444,
              "#bd3786"
             ],
             [
              0.5555555555555556,
              "#d8576b"
             ],
             [
              0.6666666666666666,
              "#ed7953"
             ],
             [
              0.7777777777777778,
              "#fb9f3a"
             ],
             [
              0.8888888888888888,
              "#fdca26"
             ],
             [
              1.0,
              "#f0f921"
             ]
            ],
            "type": "heatmapgl"
           }
          ],
          "heatmap": [
           {
            "colorbar": {
             "outlinewidth": 0,
             "ticks": ""
            },
            "colorscale": [
             [
              0.0,
              "#0d0887"
             ],
             [
              0.1111111111111111,
              "#46039f"
             ],
             [
              0.2222222222222222,
              "#7201a8"
             ],
             [
              0.3333333333333333,
              "#9c179e"
             ],
             [
              0.4444444444444444,
              "#bd3786"
             ],
             [
              0.5555555555555556,
              "#d8576b"
             ],
             [
              0.6666666666666666,
              "#ed7953"
             ],
             [
              0.7777777777777778,
              "#fb9f3a"
             ],
             [
              0.8888888888888888,
              "#fdca26"
             ],
             [
              1.0,
              "#f0f921"
             ]
            ],
            "type": "heatmap"
           }
          ],
          "histogram2dcontour": [
           {
            "colorbar": {
             "outlinewidth": 0,
             "ticks": ""
            },
            "colorscale": [
             [
              0.0,
              "#0d0887"
             ],
             [
              0.1111111111111111,
              "#46039f"
             ],
             [
              0.2222222222222222,
              "#7201a8"
             ],
             [
              0.3333333333333333,
              "#9c179e"
             ],
             [
              0.4444444444444444,
              "#bd3786"
             ],
             [
              0.5555555555555556,
              "#d8576b"
             ],
             [
              0.6666666666666666,
              "#ed7953"
             ],
             [
              0.7777777777777778,
              "#fb9f3a"
             ],
             [
              0.8888888888888888,
              "#fdca26"
             ],
             [
              1.0,
              "#f0f921"
             ]
            ],
            "type": "histogram2dcontour"
           }
          ],
          "histogram2d": [
           {
            "colorbar": {
             "outlinewidth": 0,
             "ticks": ""
            },
            "colorscale": [
             [
              0.0,
              "#0d0887"
             ],
             [
              0.1111111111111111,
              "#46039f"
             ],
             [
              0.2222222222222222,
              "#7201a8"
             ],
             [
              0.3333333333333333,
              "#9c179e"
             ],
             [
              0.4444444444444444,
              "#bd3786"
             ],
             [
              0.5555555555555556,
              "#d8576b"
             ],
             [
              0.6666666666666666,
              "#ed7953"
             ],
             [
              0.7777777777777778,
              "#fb9f3a"
             ],
             [
              0.8888888888888888,
              "#fdca26"
             ],
             [
              1.0,
              "#f0f921"
             ]
            ],
            "type": "histogram2d"
           }
          ],
          "histogram": [
           {
            "marker": {
             "pattern": {
              "fillmode": "overlay",
              "size": 10,
              "solidity": 0.2
             }
            },
            "type": "histogram"
           }
          ],
          "mesh3d": [
           {
            "colorbar": {
             "outlinewidth": 0,
             "ticks": ""
            },
            "type": "mesh3d"
           }
          ],
          "parcoords": [
           {
            "line": {
             "colorbar": {
              "outlinewidth": 0,
              "ticks": ""
             }
            },
            "type": "parcoords"
           }
          ],
          "pie": [
           {
            "automargin": true,
            "type": "pie"
           }
          ],
          "scatter3d": [
           {
            "line": {
             "colorbar": {
              "outlinewidth": 0,
              "ticks": ""
             }
            },
            "marker": {
             "colorbar": {
              "outlinewidth": 0,
              "ticks": ""
             }
            },
            "type": "scatter3d"
           }
          ],
          "scattercarpet": [
           {
            "marker": {
             "colorbar": {
              "outlinewidth": 0,
              "ticks": ""
             }
            },
            "type": "scattercarpet"
           }
          ],
          "scattergeo": [
           {
            "marker": {
             "colorbar": {
              "outlinewidth": 0,
              "ticks": ""
             }
            },
            "type": "scattergeo"
           }
          ],
          "scattergl": [
           {
            "marker": {
             "colorbar": {
              "outlinewidth": 0,
              "ticks": ""
             }
            },
            "type": "scattergl"
           }
          ],
          "scattermapbox": [
           {
            "marker": {
             "colorbar": {
              "outlinewidth": 0,
              "ticks": ""
             }
            },
            "type": "scattermapbox"
           }
          ],
          "scatterpolargl": [
           {
            "marker": {
             "colorbar": {
              "outlinewidth": 0,
              "ticks": ""
             }
            },
            "type": "scatterpolargl"
           }
          ],
          "scatterpolar": [
           {
            "marker": {
             "colorbar": {
              "outlinewidth": 0,
              "ticks": ""
             }
            },
            "type": "scatterpolar"
           }
          ],
          "scatter": [
           {
            "fillpattern": {
             "fillmode": "overlay",
             "size": 10,
             "solidity": 0.2
            },
            "type": "scatter"
           }
          ],
          "scatterternary": [
           {
            "marker": {
             "colorbar": {
              "outlinewidth": 0,
              "ticks": ""
             }
            },
            "type": "scatterternary"
           }
          ],
          "surface": [
           {
            "colorbar": {
             "outlinewidth": 0,
             "ticks": ""
            },
            "colorscale": [
             [
              0.0,
              "#0d0887"
             ],
             [
              0.1111111111111111,
              "#46039f"
             ],
             [
              0.2222222222222222,
              "#7201a8"
             ],
             [
              0.3333333333333333,
              "#9c179e"
             ],
             [
              0.4444444444444444,
              "#bd3786"
             ],
             [
              0.5555555555555556,
              "#d8576b"
             ],
             [
              0.6666666666666666,
              "#ed7953"
             ],
             [
              0.7777777777777778,
              "#fb9f3a"
             ],
             [
              0.8888888888888888,
              "#fdca26"
             ],
             [
              1.0,
              "#f0f921"
             ]
            ],
            "type": "surface"
           }
          ],
          "table": [
           {
            "cells": {
             "fill": {
              "color": "#EBF0F8"
             },
             "line": {
              "color": "white"
             }
            },
            "header": {
             "fill": {
              "color": "#C8D4E3"
             },
             "line": {
              "color": "white"
             }
            },
            "type": "table"
           }
          ]
         },
         "layout": {
          "annotationdefaults": {
           "arrowcolor": "#2a3f5f",
           "arrowhead": 0,
           "arrowwidth": 1
          },
          "autotypenumbers": "strict",
          "coloraxis": {
           "colorbar": {
            "outlinewidth": 0,
            "ticks": ""
           }
          },
          "colorscale": {
           "diverging": [
            [
             0,
             "#8e0152"
            ],
            [
             0.1,
             "#c51b7d"
            ],
            [
             0.2,
             "#de77ae"
            ],
            [
             0.3,
             "#f1b6da"
            ],
            [
             0.4,
             "#fde0ef"
            ],
            [
             0.5,
             "#f7f7f7"
            ],
            [
             0.6,
             "#e6f5d0"
            ],
            [
             0.7,
             "#b8e186"
            ],
            [
             0.8,
             "#7fbc41"
            ],
            [
             0.9,
             "#4d9221"
            ],
            [
             1,
             "#276419"
            ]
           ],
           "sequential": [
            [
             0.0,
             "#0d0887"
            ],
            [
             0.1111111111111111,
             "#46039f"
            ],
            [
             0.2222222222222222,
             "#7201a8"
            ],
            [
             0.3333333333333333,
             "#9c179e"
            ],
            [
             0.4444444444444444,
             "#bd3786"
            ],
            [
             0.5555555555555556,
             "#d8576b"
            ],
            [
             0.6666666666666666,
             "#ed7953"
            ],
            [
             0.7777777777777778,
             "#fb9f3a"
            ],
            [
             0.8888888888888888,
             "#fdca26"
            ],
            [
             1.0,
             "#f0f921"
            ]
           ],
           "sequentialminus": [
            [
             0.0,
             "#0d0887"
            ],
            [
             0.1111111111111111,
             "#46039f"
            ],
            [
             0.2222222222222222,
             "#7201a8"
            ],
            [
             0.3333333333333333,
             "#9c179e"
            ],
            [
             0.4444444444444444,
             "#bd3786"
            ],
            [
             0.5555555555555556,
             "#d8576b"
            ],
            [
             0.6666666666666666,
             "#ed7953"
            ],
            [
             0.7777777777777778,
             "#fb9f3a"
            ],
            [
             0.8888888888888888,
             "#fdca26"
            ],
            [
             1.0,
             "#f0f921"
            ]
           ]
          },
          "colorway": [
           "#636efa",
           "#EF553B",
           "#00cc96",
           "#ab63fa",
           "#FFA15A",
           "#19d3f3",
           "#FF6692",
           "#B6E880",
           "#FF97FF",
           "#FECB52"
          ],
          "font": {
           "color": "#2a3f5f"
          },
          "geo": {
           "bgcolor": "white",
           "lakecolor": "white",
           "landcolor": "white",
           "showlakes": true,
           "showland": true,
           "subunitcolor": "#C8D4E3"
          },
          "hoverlabel": {
           "align": "left"
          },
          "hovermode": "closest",
          "mapbox": {
           "style": "light"
          },
          "paper_bgcolor": "white",
          "plot_bgcolor": "white",
          "polar": {
           "angularaxis": {
            "gridcolor": "#EBF0F8",
            "linecolor": "#EBF0F8",
            "ticks": ""
           },
           "bgcolor": "white",
           "radialaxis": {
            "gridcolor": "#EBF0F8",
            "linecolor": "#EBF0F8",
            "ticks": ""
           }
          },
          "scene": {
           "xaxis": {
            "backgroundcolor": "white",
            "gridcolor": "#DFE8F3",
            "gridwidth": 2,
            "linecolor": "#EBF0F8",
            "showbackground": true,
            "ticks": "",
            "zerolinecolor": "#EBF0F8"
           },
           "yaxis": {
            "backgroundcolor": "white",
            "gridcolor": "#DFE8F3",
            "gridwidth": 2,
            "linecolor": "#EBF0F8",
            "showbackground": true,
            "ticks": "",
            "zerolinecolor": "#EBF0F8"
           },
           "zaxis": {
            "backgroundcolor": "white",
            "gridcolor": "#DFE8F3",
            "gridwidth": 2,
            "linecolor": "#EBF0F8",
            "showbackground": true,
            "ticks": "",
            "zerolinecolor": "#EBF0F8"
           }
          },
          "shapedefaults": {
           "line": {
            "color": "#2a3f5f"
           }
          },
          "ternary": {
           "aaxis": {
            "gridcolor": "#DFE8F3",
            "linecolor": "#A2B1C6",
            "ticks": ""
           },
           "baxis": {
            "gridcolor": "#DFE8F3",
            "linecolor": "#A2B1C6",
            "ticks": ""
           },
           "bgcolor": "white",
           "caxis": {
            "gridcolor": "#DFE8F3",
            "linecolor": "#A2B1C6",
            "ticks": ""
           }
          },
          "title": {
           "x": 0.05
          },
          "xaxis": {
           "automargin": true,
           "gridcolor": "#EBF0F8",
           "linecolor": "#EBF0F8",
           "ticks": "",
           "title": {
            "standoff": 15
           },
           "zerolinecolor": "#EBF0F8",
           "zerolinewidth": 2
          },
          "yaxis": {
           "automargin": true,
           "gridcolor": "#EBF0F8",
           "linecolor": "#EBF0F8",
           "ticks": "",
           "title": {
            "standoff": 15
           },
           "zerolinecolor": "#EBF0F8",
           "zerolinewidth": 2
          }
         }
        },
        "xaxis": {
         "anchor": "y",
         "domain": [
          0.0,
          1.0
         ],
         "title": {
          "text": "Calendar Date"
         }
        },
        "yaxis": {
         "anchor": "x",
         "domain": [
          0.0,
          1.0
         ],
         "title": {
          "text": "value"
         }
        },
        "legend": {
         "title": {
          "text": "variable"
         },
         "tracegroupgap": 0
        },
        "margin": {
         "t": 60
        }
       },
       "config": {
        "plotlyServerURL": "https://plot.ly"
       }
      },
      "text/html": "<div>                            <div id=\"bae2c3c3-e2e0-4285-9c63-45badcd88d50\" class=\"plotly-graph-div\" style=\"height:525px; width:100%;\"></div>            <script type=\"text/javascript\">                require([\"plotly\"], function(Plotly) {                    window.PLOTLYENV=window.PLOTLYENV || {};                                    if (document.getElementById(\"bae2c3c3-e2e0-4285-9c63-45badcd88d50\")) {                    Plotly.newPlot(                        \"bae2c3c3-e2e0-4285-9c63-45badcd88d50\",                        [{\"hovertemplate\":\"variable=Payroll blended products<br>Calendar Date=%{x}<br>value=%{y}<extra></extra>\",\"legendgroup\":\"Payroll blended products\",\"line\":{\"color\":\"#636efa\",\"dash\":\"solid\"},\"marker\":{\"symbol\":\"circle\"},\"mode\":\"lines\",\"name\":\"Payroll blended products\",\"orientation\":\"v\",\"showlegend\":true,\"x\":[\"2014-06-01T00:00:00\",\"2014-07-01T00:00:00\",\"2014-08-01T00:00:00\",\"2014-09-01T00:00:00\",\"2014-10-01T00:00:00\",\"2014-11-01T00:00:00\",\"2014-12-01T00:00:00\",\"2015-01-01T00:00:00\",\"2015-02-01T00:00:00\",\"2015-03-01T00:00:00\",\"2015-04-01T00:00:00\",\"2015-05-01T00:00:00\",\"2015-06-01T00:00:00\",\"2015-07-01T00:00:00\",\"2015-08-01T00:00:00\",\"2015-09-01T00:00:00\",\"2015-10-01T00:00:00\",\"2015-11-01T00:00:00\",\"2015-12-01T00:00:00\",\"2016-01-01T00:00:00\",\"2016-02-01T00:00:00\",\"2016-03-01T00:00:00\",\"2016-04-01T00:00:00\",\"2016-05-01T00:00:00\",\"2016-06-01T00:00:00\",\"2016-07-01T00:00:00\",\"2016-08-01T00:00:00\",\"2016-09-01T00:00:00\",\"2016-10-01T00:00:00\",\"2016-11-01T00:00:00\",\"2016-12-01T00:00:00\",\"2017-01-01T00:00:00\",\"2017-02-01T00:00:00\",\"2017-03-01T00:00:00\",\"2017-04-01T00:00:00\",\"2017-05-01T00:00:00\",\"2017-06-01T00:00:00\",\"2017-07-01T00:00:00\",\"2017-08-01T00:00:00\",\"2017-09-01T00:00:00\",\"2017-10-01T00:00:00\",\"2017-11-01T00:00:00\",\"2017-12-01T00:00:00\",\"2018-01-01T00:00:00\",\"2018-02-01T00:00:00\",\"2018-03-01T00:00:00\",\"2018-04-01T00:00:00\",\"2018-05-01T00:00:00\",\"2018-06-01T00:00:00\",\"2018-07-01T00:00:00\",\"2018-08-01T00:00:00\",\"2018-09-01T00:00:00\",\"2018-10-01T00:00:00\",\"2018-11-01T00:00:00\",\"2018-12-01T00:00:00\",\"2019-01-01T00:00:00\",\"2019-02-01T00:00:00\",\"2019-03-01T00:00:00\",\"2019-04-01T00:00:00\",\"2019-05-01T00:00:00\",\"2019-06-01T00:00:00\",\"2019-07-01T00:00:00\",\"2019-08-01T00:00:00\",\"2019-09-01T00:00:00\",\"2019-10-01T00:00:00\",\"2019-11-01T00:00:00\",\"2019-12-01T00:00:00\",\"2020-01-01T00:00:00\",\"2020-02-01T00:00:00\",\"2020-03-01T00:00:00\",\"2020-04-01T00:00:00\",\"2020-05-01T00:00:00\",\"2020-06-01T00:00:00\",\"2020-07-01T00:00:00\",\"2020-08-01T00:00:00\",\"2020-09-01T00:00:00\",\"2020-10-01T00:00:00\",\"2020-11-01T00:00:00\",\"2020-12-01T00:00:00\",\"2021-01-01T00:00:00\",\"2021-02-01T00:00:00\",\"2021-03-01T00:00:00\",\"2021-04-01T00:00:00\",\"2021-05-01T00:00:00\",\"2021-06-01T00:00:00\",\"2021-07-01T00:00:00\",\"2021-08-01T00:00:00\",\"2021-09-01T00:00:00\",\"2021-10-01T00:00:00\",\"2021-11-01T00:00:00\",\"2021-12-01T00:00:00\",\"2022-01-01T00:00:00\"],\"xaxis\":\"x\",\"y\":[99633512.0,121619696.0,99472483.0,94198230.0,124353873.0,98868618.0,99281713.0,124388966.0,95862151.0,92298659.0,121697752.0,101684796.0,98488622.0,128603825.0,105495604.0,125580319.0,100345212.0,101027390.0,103140193.0,125846591.0,96492494.0,120343617.0,98703839.0,106311407.0,118434494.0,104657878.0,117436063.0,110000558.0,105928516.0,113829464.0,117493864.0,106635184.0,98803491.0,111544069.0,99478187.0,118429597.0,115286408.0,108148242.0,120254168.0,104705146.0,110931972.0,115430932.0,113194342.0,110248167.0,98798038.0,106248694.0,103554646.0,119149029.0,107365918.0,113740156.0,116505720.0,102622473.0,115762795.0,110179873.0,117538398.0,110354647.0,98377675.0,99958270.0,108700563.0,115331665.0,106731158.0,119190721.0,113364359.0,108305027.0,119068432.0,105060481.0,128667631.0,106043776.0,99644382.0,107287296.0,92673007.0,90949332.0,103438412.0,103718926.0,99146164.0,108696536.0,107861298.0,105164502.0,126152261.0,94834624.0,96978102.0,110554131.0,105999185.0,101329196.0,114237978.0,113185861.0,115768921.0,116406871.0,107455264.0,117503730.0,127800869.0,103869768.0],\"yaxis\":\"y\",\"type\":\"scatter\"},{\"hovertemplate\":\"variable=Payroll blended products - ML Predicted<br>Calendar Date=%{x}<br>value=%{y}<extra></extra>\",\"legendgroup\":\"Payroll blended products - ML Predicted\",\"line\":{\"color\":\"#EF553B\",\"dash\":\"solid\"},\"marker\":{\"symbol\":\"circle\"},\"mode\":\"lines\",\"name\":\"Payroll blended products - ML Predicted\",\"orientation\":\"v\",\"showlegend\":true,\"x\":[\"2014-06-01T00:00:00\",\"2014-07-01T00:00:00\",\"2014-08-01T00:00:00\",\"2014-09-01T00:00:00\",\"2014-10-01T00:00:00\",\"2014-11-01T00:00:00\",\"2014-12-01T00:00:00\",\"2015-01-01T00:00:00\",\"2015-02-01T00:00:00\",\"2015-03-01T00:00:00\",\"2015-04-01T00:00:00\",\"2015-05-01T00:00:00\",\"2015-06-01T00:00:00\",\"2015-07-01T00:00:00\",\"2015-08-01T00:00:00\",\"2015-09-01T00:00:00\",\"2015-10-01T00:00:00\",\"2015-11-01T00:00:00\",\"2015-12-01T00:00:00\",\"2016-01-01T00:00:00\",\"2016-02-01T00:00:00\",\"2016-03-01T00:00:00\",\"2016-04-01T00:00:00\",\"2016-05-01T00:00:00\",\"2016-06-01T00:00:00\",\"2016-07-01T00:00:00\",\"2016-08-01T00:00:00\",\"2016-09-01T00:00:00\",\"2016-10-01T00:00:00\",\"2016-11-01T00:00:00\",\"2016-12-01T00:00:00\",\"2017-01-01T00:00:00\",\"2017-02-01T00:00:00\",\"2017-03-01T00:00:00\",\"2017-04-01T00:00:00\",\"2017-05-01T00:00:00\",\"2017-06-01T00:00:00\",\"2017-07-01T00:00:00\",\"2017-08-01T00:00:00\",\"2017-09-01T00:00:00\",\"2017-10-01T00:00:00\",\"2017-11-01T00:00:00\",\"2017-12-01T00:00:00\",\"2018-01-01T00:00:00\",\"2018-02-01T00:00:00\",\"2018-03-01T00:00:00\",\"2018-04-01T00:00:00\",\"2018-05-01T00:00:00\",\"2018-06-01T00:00:00\",\"2018-07-01T00:00:00\",\"2018-08-01T00:00:00\",\"2018-09-01T00:00:00\",\"2018-10-01T00:00:00\",\"2018-11-01T00:00:00\",\"2018-12-01T00:00:00\",\"2019-01-01T00:00:00\",\"2019-02-01T00:00:00\",\"2019-03-01T00:00:00\",\"2019-04-01T00:00:00\",\"2019-05-01T00:00:00\",\"2019-06-01T00:00:00\",\"2019-07-01T00:00:00\",\"2019-08-01T00:00:00\",\"2019-09-01T00:00:00\",\"2019-10-01T00:00:00\",\"2019-11-01T00:00:00\",\"2019-12-01T00:00:00\",\"2020-01-01T00:00:00\",\"2020-02-01T00:00:00\",\"2020-03-01T00:00:00\",\"2020-04-01T00:00:00\",\"2020-05-01T00:00:00\",\"2020-06-01T00:00:00\",\"2020-07-01T00:00:00\",\"2020-08-01T00:00:00\",\"2020-09-01T00:00:00\",\"2020-10-01T00:00:00\",\"2020-11-01T00:00:00\",\"2020-12-01T00:00:00\",\"2021-01-01T00:00:00\",\"2021-02-01T00:00:00\",\"2021-03-01T00:00:00\",\"2021-04-01T00:00:00\",\"2021-05-01T00:00:00\",\"2021-06-01T00:00:00\",\"2021-07-01T00:00:00\",\"2021-08-01T00:00:00\",\"2021-09-01T00:00:00\",\"2021-10-01T00:00:00\",\"2021-11-01T00:00:00\",\"2021-12-01T00:00:00\",\"2022-01-01T00:00:00\"],\"xaxis\":\"x\",\"y\":[null,null,null,null,null,null,null,null,null,null,null,null,null,null,null,null,null,null,null,null,null,null,null,null,null,null,null,null,null,null,null,null,null,null,null,null,null,null,null,null,null,null,null,null,null,null,null,null,null,null,null,null,null,null,null,null,null,null,null,null,null,null,null,null,null,null,null,null,null,null,null,null,null,null,null,null,null,null,null,null,null,null,null,null,107165114.64,112131538.88,108178099.04,110346970.32,103877779.2,105862880.8,110783274.56,109087652.64],\"yaxis\":\"y\",\"type\":\"scatter\"},{\"hovertemplate\":\"variable=Payroll blended products - UTS Predicted<br>Calendar Date=%{x}<br>value=%{y}<extra></extra>\",\"legendgroup\":\"Payroll blended products - UTS Predicted\",\"line\":{\"color\":\"#00cc96\",\"dash\":\"solid\"},\"marker\":{\"symbol\":\"circle\"},\"mode\":\"lines\",\"name\":\"Payroll blended products - UTS Predicted\",\"orientation\":\"v\",\"showlegend\":true,\"x\":[\"2014-06-01T00:00:00\",\"2014-07-01T00:00:00\",\"2014-08-01T00:00:00\",\"2014-09-01T00:00:00\",\"2014-10-01T00:00:00\",\"2014-11-01T00:00:00\",\"2014-12-01T00:00:00\",\"2015-01-01T00:00:00\",\"2015-02-01T00:00:00\",\"2015-03-01T00:00:00\",\"2015-04-01T00:00:00\",\"2015-05-01T00:00:00\",\"2015-06-01T00:00:00\",\"2015-07-01T00:00:00\",\"2015-08-01T00:00:00\",\"2015-09-01T00:00:00\",\"2015-10-01T00:00:00\",\"2015-11-01T00:00:00\",\"2015-12-01T00:00:00\",\"2016-01-01T00:00:00\",\"2016-02-01T00:00:00\",\"2016-03-01T00:00:00\",\"2016-04-01T00:00:00\",\"2016-05-01T00:00:00\",\"2016-06-01T00:00:00\",\"2016-07-01T00:00:00\",\"2016-08-01T00:00:00\",\"2016-09-01T00:00:00\",\"2016-10-01T00:00:00\",\"2016-11-01T00:00:00\",\"2016-12-01T00:00:00\",\"2017-01-01T00:00:00\",\"2017-02-01T00:00:00\",\"2017-03-01T00:00:00\",\"2017-04-01T00:00:00\",\"2017-05-01T00:00:00\",\"2017-06-01T00:00:00\",\"2017-07-01T00:00:00\",\"2017-08-01T00:00:00\",\"2017-09-01T00:00:00\",\"2017-10-01T00:00:00\",\"2017-11-01T00:00:00\",\"2017-12-01T00:00:00\",\"2018-01-01T00:00:00\",\"2018-02-01T00:00:00\",\"2018-03-01T00:00:00\",\"2018-04-01T00:00:00\",\"2018-05-01T00:00:00\",\"2018-06-01T00:00:00\",\"2018-07-01T00:00:00\",\"2018-08-01T00:00:00\",\"2018-09-01T00:00:00\",\"2018-10-01T00:00:00\",\"2018-11-01T00:00:00\",\"2018-12-01T00:00:00\",\"2019-01-01T00:00:00\",\"2019-02-01T00:00:00\",\"2019-03-01T00:00:00\",\"2019-04-01T00:00:00\",\"2019-05-01T00:00:00\",\"2019-06-01T00:00:00\",\"2019-07-01T00:00:00\",\"2019-08-01T00:00:00\",\"2019-09-01T00:00:00\",\"2019-10-01T00:00:00\",\"2019-11-01T00:00:00\",\"2019-12-01T00:00:00\",\"2020-01-01T00:00:00\",\"2020-02-01T00:00:00\",\"2020-03-01T00:00:00\",\"2020-04-01T00:00:00\",\"2020-05-01T00:00:00\",\"2020-06-01T00:00:00\",\"2020-07-01T00:00:00\",\"2020-08-01T00:00:00\",\"2020-09-01T00:00:00\",\"2020-10-01T00:00:00\",\"2020-11-01T00:00:00\",\"2020-12-01T00:00:00\",\"2021-01-01T00:00:00\",\"2021-02-01T00:00:00\",\"2021-03-01T00:00:00\",\"2021-04-01T00:00:00\",\"2021-05-01T00:00:00\",\"2021-06-01T00:00:00\",\"2021-07-01T00:00:00\",\"2021-08-01T00:00:00\",\"2021-09-01T00:00:00\",\"2021-10-01T00:00:00\",\"2021-11-01T00:00:00\",\"2021-12-01T00:00:00\",\"2022-01-01T00:00:00\"],\"xaxis\":\"x\",\"y\":[null,null,null,null,null,null,null,null,null,null,null,null,null,null,null,null,null,null,null,null,null,null,null,null,null,null,null,null,null,null,null,null,null,null,null,null,null,null,null,null,null,null,null,null,null,null,null,null,null,null,null,null,null,null,null,null,null,null,null,null,null,null,null,null,null,null,null,null,null,null,null,null,null,null,null,null,null,null,null,null,null,null,null,null,114563042.47908759,115763510.02457696,113516553.82980242,115394645.44231158,117490356.34030077,114367057.54786935,127893445.5232561,110532414.76126379],\"yaxis\":\"y\",\"type\":\"scatter\"},{\"hovertemplate\":\"variable=Payroll blended products - Plan<br>Calendar Date=%{x}<br>value=%{y}<extra></extra>\",\"legendgroup\":\"Payroll blended products - Plan\",\"line\":{\"color\":\"#ab63fa\",\"dash\":\"solid\"},\"marker\":{\"symbol\":\"circle\"},\"mode\":\"lines\",\"name\":\"Payroll blended products - Plan\",\"orientation\":\"v\",\"showlegend\":true,\"x\":[\"2014-06-01T00:00:00\",\"2014-07-01T00:00:00\",\"2014-08-01T00:00:00\",\"2014-09-01T00:00:00\",\"2014-10-01T00:00:00\",\"2014-11-01T00:00:00\",\"2014-12-01T00:00:00\",\"2015-01-01T00:00:00\",\"2015-02-01T00:00:00\",\"2015-03-01T00:00:00\",\"2015-04-01T00:00:00\",\"2015-05-01T00:00:00\",\"2015-06-01T00:00:00\",\"2015-07-01T00:00:00\",\"2015-08-01T00:00:00\",\"2015-09-01T00:00:00\",\"2015-10-01T00:00:00\",\"2015-11-01T00:00:00\",\"2015-12-01T00:00:00\",\"2016-01-01T00:00:00\",\"2016-02-01T00:00:00\",\"2016-03-01T00:00:00\",\"2016-04-01T00:00:00\",\"2016-05-01T00:00:00\",\"2016-06-01T00:00:00\",\"2016-07-01T00:00:00\",\"2016-08-01T00:00:00\",\"2016-09-01T00:00:00\",\"2016-10-01T00:00:00\",\"2016-11-01T00:00:00\",\"2016-12-01T00:00:00\",\"2017-01-01T00:00:00\",\"2017-02-01T00:00:00\",\"2017-03-01T00:00:00\",\"2017-04-01T00:00:00\",\"2017-05-01T00:00:00\",\"2017-06-01T00:00:00\",\"2017-07-01T00:00:00\",\"2017-08-01T00:00:00\",\"2017-09-01T00:00:00\",\"2017-10-01T00:00:00\",\"2017-11-01T00:00:00\",\"2017-12-01T00:00:00\",\"2018-01-01T00:00:00\",\"2018-02-01T00:00:00\",\"2018-03-01T00:00:00\",\"2018-04-01T00:00:00\",\"2018-05-01T00:00:00\",\"2018-06-01T00:00:00\",\"2018-07-01T00:00:00\",\"2018-08-01T00:00:00\",\"2018-09-01T00:00:00\",\"2018-10-01T00:00:00\",\"2018-11-01T00:00:00\",\"2018-12-01T00:00:00\",\"2019-01-01T00:00:00\",\"2019-02-01T00:00:00\",\"2019-03-01T00:00:00\",\"2019-04-01T00:00:00\",\"2019-05-01T00:00:00\",\"2019-06-01T00:00:00\",\"2019-07-01T00:00:00\",\"2019-08-01T00:00:00\",\"2019-09-01T00:00:00\",\"2019-10-01T00:00:00\",\"2019-11-01T00:00:00\",\"2019-12-01T00:00:00\",\"2020-01-01T00:00:00\",\"2020-02-01T00:00:00\",\"2020-03-01T00:00:00\",\"2020-04-01T00:00:00\",\"2020-05-01T00:00:00\",\"2020-06-01T00:00:00\",\"2020-07-01T00:00:00\",\"2020-08-01T00:00:00\",\"2020-09-01T00:00:00\",\"2020-10-01T00:00:00\",\"2020-11-01T00:00:00\",\"2020-12-01T00:00:00\",\"2021-01-01T00:00:00\",\"2021-02-01T00:00:00\",\"2021-03-01T00:00:00\",\"2021-04-01T00:00:00\",\"2021-05-01T00:00:00\",\"2021-06-01T00:00:00\",\"2021-07-01T00:00:00\",\"2021-08-01T00:00:00\",\"2021-09-01T00:00:00\",\"2021-10-01T00:00:00\",\"2021-11-01T00:00:00\",\"2021-12-01T00:00:00\",\"2022-01-01T00:00:00\"],\"xaxis\":\"x\",\"y\":[null,null,null,null,null,null,null,null,null,null,null,null,null,null,null,null,null,null,null,null,null,null,null,null,null,null,null,null,null,null,null,null,null,null,null,null,null,null,null,null,null,null,null,null,null,null,null,null,null,null,null,null,null,null,null,null,null,null,null,null,null,null,null,null,null,null,null,null,null,null,null,null,null,null,null,null,null,null,null,null,null,null,null,null,113430646.0,114320702.0,116798889.0,112693661.0,104530553.0,113258398.0,119579852.0,102695532.0],\"yaxis\":\"y\",\"type\":\"scatter\"},{\"hovertemplate\":\"variable=Payroll blended products - 2+10 Forecast<br>Calendar Date=%{x}<br>value=%{y}<extra></extra>\",\"legendgroup\":\"Payroll blended products - 2+10 Forecast\",\"line\":{\"color\":\"#FFA15A\",\"dash\":\"solid\"},\"marker\":{\"symbol\":\"circle\"},\"mode\":\"lines\",\"name\":\"Payroll blended products - 2+10 Forecast\",\"orientation\":\"v\",\"showlegend\":true,\"x\":[\"2014-06-01T00:00:00\",\"2014-07-01T00:00:00\",\"2014-08-01T00:00:00\",\"2014-09-01T00:00:00\",\"2014-10-01T00:00:00\",\"2014-11-01T00:00:00\",\"2014-12-01T00:00:00\",\"2015-01-01T00:00:00\",\"2015-02-01T00:00:00\",\"2015-03-01T00:00:00\",\"2015-04-01T00:00:00\",\"2015-05-01T00:00:00\",\"2015-06-01T00:00:00\",\"2015-07-01T00:00:00\",\"2015-08-01T00:00:00\",\"2015-09-01T00:00:00\",\"2015-10-01T00:00:00\",\"2015-11-01T00:00:00\",\"2015-12-01T00:00:00\",\"2016-01-01T00:00:00\",\"2016-02-01T00:00:00\",\"2016-03-01T00:00:00\",\"2016-04-01T00:00:00\",\"2016-05-01T00:00:00\",\"2016-06-01T00:00:00\",\"2016-07-01T00:00:00\",\"2016-08-01T00:00:00\",\"2016-09-01T00:00:00\",\"2016-10-01T00:00:00\",\"2016-11-01T00:00:00\",\"2016-12-01T00:00:00\",\"2017-01-01T00:00:00\",\"2017-02-01T00:00:00\",\"2017-03-01T00:00:00\",\"2017-04-01T00:00:00\",\"2017-05-01T00:00:00\",\"2017-06-01T00:00:00\",\"2017-07-01T00:00:00\",\"2017-08-01T00:00:00\",\"2017-09-01T00:00:00\",\"2017-10-01T00:00:00\",\"2017-11-01T00:00:00\",\"2017-12-01T00:00:00\",\"2018-01-01T00:00:00\",\"2018-02-01T00:00:00\",\"2018-03-01T00:00:00\",\"2018-04-01T00:00:00\",\"2018-05-01T00:00:00\",\"2018-06-01T00:00:00\",\"2018-07-01T00:00:00\",\"2018-08-01T00:00:00\",\"2018-09-01T00:00:00\",\"2018-10-01T00:00:00\",\"2018-11-01T00:00:00\",\"2018-12-01T00:00:00\",\"2019-01-01T00:00:00\",\"2019-02-01T00:00:00\",\"2019-03-01T00:00:00\",\"2019-04-01T00:00:00\",\"2019-05-01T00:00:00\",\"2019-06-01T00:00:00\",\"2019-07-01T00:00:00\",\"2019-08-01T00:00:00\",\"2019-09-01T00:00:00\",\"2019-10-01T00:00:00\",\"2019-11-01T00:00:00\",\"2019-12-01T00:00:00\",\"2020-01-01T00:00:00\",\"2020-02-01T00:00:00\",\"2020-03-01T00:00:00\",\"2020-04-01T00:00:00\",\"2020-05-01T00:00:00\",\"2020-06-01T00:00:00\",\"2020-07-01T00:00:00\",\"2020-08-01T00:00:00\",\"2020-09-01T00:00:00\",\"2020-10-01T00:00:00\",\"2020-11-01T00:00:00\",\"2020-12-01T00:00:00\",\"2021-01-01T00:00:00\",\"2021-02-01T00:00:00\",\"2021-03-01T00:00:00\",\"2021-04-01T00:00:00\",\"2021-05-01T00:00:00\",\"2021-06-01T00:00:00\",\"2021-07-01T00:00:00\",\"2021-08-01T00:00:00\",\"2021-09-01T00:00:00\",\"2021-10-01T00:00:00\",\"2021-11-01T00:00:00\",\"2021-12-01T00:00:00\",\"2022-01-01T00:00:00\"],\"xaxis\":\"x\",\"y\":[null,null,null,null,null,null,null,null,null,null,null,null,null,null,null,null,null,null,null,null,null,null,null,null,null,null,null,null,null,null,null,null,null,null,null,null,null,null,null,null,null,null,null,null,null,null,null,null,null,null,null,null,null,null,null,null,null,null,null,null,null,null,null,null,null,null,null,null,null,null,null,null,null,null,null,null,null,null,null,null,null,null,null,null,114237978.0,113185861.0,118279683.0,113299415.0,105301457.0,114151474.0,119951284.0,103631639.0],\"yaxis\":\"y\",\"type\":\"scatter\"}],                        {\"template\":{\"data\":{\"barpolar\":[{\"marker\":{\"line\":{\"color\":\"white\",\"width\":0.5},\"pattern\":{\"fillmode\":\"overlay\",\"size\":10,\"solidity\":0.2}},\"type\":\"barpolar\"}],\"bar\":[{\"error_x\":{\"color\":\"#2a3f5f\"},\"error_y\":{\"color\":\"#2a3f5f\"},\"marker\":{\"line\":{\"color\":\"white\",\"width\":0.5},\"pattern\":{\"fillmode\":\"overlay\",\"size\":10,\"solidity\":0.2}},\"type\":\"bar\"}],\"carpet\":[{\"aaxis\":{\"endlinecolor\":\"#2a3f5f\",\"gridcolor\":\"#C8D4E3\",\"linecolor\":\"#C8D4E3\",\"minorgridcolor\":\"#C8D4E3\",\"startlinecolor\":\"#2a3f5f\"},\"baxis\":{\"endlinecolor\":\"#2a3f5f\",\"gridcolor\":\"#C8D4E3\",\"linecolor\":\"#C8D4E3\",\"minorgridcolor\":\"#C8D4E3\",\"startlinecolor\":\"#2a3f5f\"},\"type\":\"carpet\"}],\"choropleth\":[{\"colorbar\":{\"outlinewidth\":0,\"ticks\":\"\"},\"type\":\"choropleth\"}],\"contourcarpet\":[{\"colorbar\":{\"outlinewidth\":0,\"ticks\":\"\"},\"type\":\"contourcarpet\"}],\"contour\":[{\"colorbar\":{\"outlinewidth\":0,\"ticks\":\"\"},\"colorscale\":[[0.0,\"#0d0887\"],[0.1111111111111111,\"#46039f\"],[0.2222222222222222,\"#7201a8\"],[0.3333333333333333,\"#9c179e\"],[0.4444444444444444,\"#bd3786\"],[0.5555555555555556,\"#d8576b\"],[0.6666666666666666,\"#ed7953\"],[0.7777777777777778,\"#fb9f3a\"],[0.8888888888888888,\"#fdca26\"],[1.0,\"#f0f921\"]],\"type\":\"contour\"}],\"heatmapgl\":[{\"colorbar\":{\"outlinewidth\":0,\"ticks\":\"\"},\"colorscale\":[[0.0,\"#0d0887\"],[0.1111111111111111,\"#46039f\"],[0.2222222222222222,\"#7201a8\"],[0.3333333333333333,\"#9c179e\"],[0.4444444444444444,\"#bd3786\"],[0.5555555555555556,\"#d8576b\"],[0.6666666666666666,\"#ed7953\"],[0.7777777777777778,\"#fb9f3a\"],[0.8888888888888888,\"#fdca26\"],[1.0,\"#f0f921\"]],\"type\":\"heatmapgl\"}],\"heatmap\":[{\"colorbar\":{\"outlinewidth\":0,\"ticks\":\"\"},\"colorscale\":[[0.0,\"#0d0887\"],[0.1111111111111111,\"#46039f\"],[0.2222222222222222,\"#7201a8\"],[0.3333333333333333,\"#9c179e\"],[0.4444444444444444,\"#bd3786\"],[0.5555555555555556,\"#d8576b\"],[0.6666666666666666,\"#ed7953\"],[0.7777777777777778,\"#fb9f3a\"],[0.8888888888888888,\"#fdca26\"],[1.0,\"#f0f921\"]],\"type\":\"heatmap\"}],\"histogram2dcontour\":[{\"colorbar\":{\"outlinewidth\":0,\"ticks\":\"\"},\"colorscale\":[[0.0,\"#0d0887\"],[0.1111111111111111,\"#46039f\"],[0.2222222222222222,\"#7201a8\"],[0.3333333333333333,\"#9c179e\"],[0.4444444444444444,\"#bd3786\"],[0.5555555555555556,\"#d8576b\"],[0.6666666666666666,\"#ed7953\"],[0.7777777777777778,\"#fb9f3a\"],[0.8888888888888888,\"#fdca26\"],[1.0,\"#f0f921\"]],\"type\":\"histogram2dcontour\"}],\"histogram2d\":[{\"colorbar\":{\"outlinewidth\":0,\"ticks\":\"\"},\"colorscale\":[[0.0,\"#0d0887\"],[0.1111111111111111,\"#46039f\"],[0.2222222222222222,\"#7201a8\"],[0.3333333333333333,\"#9c179e\"],[0.4444444444444444,\"#bd3786\"],[0.5555555555555556,\"#d8576b\"],[0.6666666666666666,\"#ed7953\"],[0.7777777777777778,\"#fb9f3a\"],[0.8888888888888888,\"#fdca26\"],[1.0,\"#f0f921\"]],\"type\":\"histogram2d\"}],\"histogram\":[{\"marker\":{\"pattern\":{\"fillmode\":\"overlay\",\"size\":10,\"solidity\":0.2}},\"type\":\"histogram\"}],\"mesh3d\":[{\"colorbar\":{\"outlinewidth\":0,\"ticks\":\"\"},\"type\":\"mesh3d\"}],\"parcoords\":[{\"line\":{\"colorbar\":{\"outlinewidth\":0,\"ticks\":\"\"}},\"type\":\"parcoords\"}],\"pie\":[{\"automargin\":true,\"type\":\"pie\"}],\"scatter3d\":[{\"line\":{\"colorbar\":{\"outlinewidth\":0,\"ticks\":\"\"}},\"marker\":{\"colorbar\":{\"outlinewidth\":0,\"ticks\":\"\"}},\"type\":\"scatter3d\"}],\"scattercarpet\":[{\"marker\":{\"colorbar\":{\"outlinewidth\":0,\"ticks\":\"\"}},\"type\":\"scattercarpet\"}],\"scattergeo\":[{\"marker\":{\"colorbar\":{\"outlinewidth\":0,\"ticks\":\"\"}},\"type\":\"scattergeo\"}],\"scattergl\":[{\"marker\":{\"colorbar\":{\"outlinewidth\":0,\"ticks\":\"\"}},\"type\":\"scattergl\"}],\"scattermapbox\":[{\"marker\":{\"colorbar\":{\"outlinewidth\":0,\"ticks\":\"\"}},\"type\":\"scattermapbox\"}],\"scatterpolargl\":[{\"marker\":{\"colorbar\":{\"outlinewidth\":0,\"ticks\":\"\"}},\"type\":\"scatterpolargl\"}],\"scatterpolar\":[{\"marker\":{\"colorbar\":{\"outlinewidth\":0,\"ticks\":\"\"}},\"type\":\"scatterpolar\"}],\"scatter\":[{\"fillpattern\":{\"fillmode\":\"overlay\",\"size\":10,\"solidity\":0.2},\"type\":\"scatter\"}],\"scatterternary\":[{\"marker\":{\"colorbar\":{\"outlinewidth\":0,\"ticks\":\"\"}},\"type\":\"scatterternary\"}],\"surface\":[{\"colorbar\":{\"outlinewidth\":0,\"ticks\":\"\"},\"colorscale\":[[0.0,\"#0d0887\"],[0.1111111111111111,\"#46039f\"],[0.2222222222222222,\"#7201a8\"],[0.3333333333333333,\"#9c179e\"],[0.4444444444444444,\"#bd3786\"],[0.5555555555555556,\"#d8576b\"],[0.6666666666666666,\"#ed7953\"],[0.7777777777777778,\"#fb9f3a\"],[0.8888888888888888,\"#fdca26\"],[1.0,\"#f0f921\"]],\"type\":\"surface\"}],\"table\":[{\"cells\":{\"fill\":{\"color\":\"#EBF0F8\"},\"line\":{\"color\":\"white\"}},\"header\":{\"fill\":{\"color\":\"#C8D4E3\"},\"line\":{\"color\":\"white\"}},\"type\":\"table\"}]},\"layout\":{\"annotationdefaults\":{\"arrowcolor\":\"#2a3f5f\",\"arrowhead\":0,\"arrowwidth\":1},\"autotypenumbers\":\"strict\",\"coloraxis\":{\"colorbar\":{\"outlinewidth\":0,\"ticks\":\"\"}},\"colorscale\":{\"diverging\":[[0,\"#8e0152\"],[0.1,\"#c51b7d\"],[0.2,\"#de77ae\"],[0.3,\"#f1b6da\"],[0.4,\"#fde0ef\"],[0.5,\"#f7f7f7\"],[0.6,\"#e6f5d0\"],[0.7,\"#b8e186\"],[0.8,\"#7fbc41\"],[0.9,\"#4d9221\"],[1,\"#276419\"]],\"sequential\":[[0.0,\"#0d0887\"],[0.1111111111111111,\"#46039f\"],[0.2222222222222222,\"#7201a8\"],[0.3333333333333333,\"#9c179e\"],[0.4444444444444444,\"#bd3786\"],[0.5555555555555556,\"#d8576b\"],[0.6666666666666666,\"#ed7953\"],[0.7777777777777778,\"#fb9f3a\"],[0.8888888888888888,\"#fdca26\"],[1.0,\"#f0f921\"]],\"sequentialminus\":[[0.0,\"#0d0887\"],[0.1111111111111111,\"#46039f\"],[0.2222222222222222,\"#7201a8\"],[0.3333333333333333,\"#9c179e\"],[0.4444444444444444,\"#bd3786\"],[0.5555555555555556,\"#d8576b\"],[0.6666666666666666,\"#ed7953\"],[0.7777777777777778,\"#fb9f3a\"],[0.8888888888888888,\"#fdca26\"],[1.0,\"#f0f921\"]]},\"colorway\":[\"#636efa\",\"#EF553B\",\"#00cc96\",\"#ab63fa\",\"#FFA15A\",\"#19d3f3\",\"#FF6692\",\"#B6E880\",\"#FF97FF\",\"#FECB52\"],\"font\":{\"color\":\"#2a3f5f\"},\"geo\":{\"bgcolor\":\"white\",\"lakecolor\":\"white\",\"landcolor\":\"white\",\"showlakes\":true,\"showland\":true,\"subunitcolor\":\"#C8D4E3\"},\"hoverlabel\":{\"align\":\"left\"},\"hovermode\":\"closest\",\"mapbox\":{\"style\":\"light\"},\"paper_bgcolor\":\"white\",\"plot_bgcolor\":\"white\",\"polar\":{\"angularaxis\":{\"gridcolor\":\"#EBF0F8\",\"linecolor\":\"#EBF0F8\",\"ticks\":\"\"},\"bgcolor\":\"white\",\"radialaxis\":{\"gridcolor\":\"#EBF0F8\",\"linecolor\":\"#EBF0F8\",\"ticks\":\"\"}},\"scene\":{\"xaxis\":{\"backgroundcolor\":\"white\",\"gridcolor\":\"#DFE8F3\",\"gridwidth\":2,\"linecolor\":\"#EBF0F8\",\"showbackground\":true,\"ticks\":\"\",\"zerolinecolor\":\"#EBF0F8\"},\"yaxis\":{\"backgroundcolor\":\"white\",\"gridcolor\":\"#DFE8F3\",\"gridwidth\":2,\"linecolor\":\"#EBF0F8\",\"showbackground\":true,\"ticks\":\"\",\"zerolinecolor\":\"#EBF0F8\"},\"zaxis\":{\"backgroundcolor\":\"white\",\"gridcolor\":\"#DFE8F3\",\"gridwidth\":2,\"linecolor\":\"#EBF0F8\",\"showbackground\":true,\"ticks\":\"\",\"zerolinecolor\":\"#EBF0F8\"}},\"shapedefaults\":{\"line\":{\"color\":\"#2a3f5f\"}},\"ternary\":{\"aaxis\":{\"gridcolor\":\"#DFE8F3\",\"linecolor\":\"#A2B1C6\",\"ticks\":\"\"},\"baxis\":{\"gridcolor\":\"#DFE8F3\",\"linecolor\":\"#A2B1C6\",\"ticks\":\"\"},\"bgcolor\":\"white\",\"caxis\":{\"gridcolor\":\"#DFE8F3\",\"linecolor\":\"#A2B1C6\",\"ticks\":\"\"}},\"title\":{\"x\":0.05},\"xaxis\":{\"automargin\":true,\"gridcolor\":\"#EBF0F8\",\"linecolor\":\"#EBF0F8\",\"ticks\":\"\",\"title\":{\"standoff\":15},\"zerolinecolor\":\"#EBF0F8\",\"zerolinewidth\":2},\"yaxis\":{\"automargin\":true,\"gridcolor\":\"#EBF0F8\",\"linecolor\":\"#EBF0F8\",\"ticks\":\"\",\"title\":{\"standoff\":15},\"zerolinecolor\":\"#EBF0F8\",\"zerolinewidth\":2}}},\"xaxis\":{\"anchor\":\"y\",\"domain\":[0.0,1.0],\"title\":{\"text\":\"Calendar Date\"}},\"yaxis\":{\"anchor\":\"x\",\"domain\":[0.0,1.0],\"title\":{\"text\":\"value\"}},\"legend\":{\"title\":{\"text\":\"variable\"},\"tracegroupgap\":0},\"margin\":{\"t\":60}},                        {\"responsive\": true}                    ).then(function(){\n                            \nvar gd = document.getElementById('bae2c3c3-e2e0-4285-9c63-45badcd88d50');\nvar x = new MutationObserver(function (mutations, observer) {{\n        var display = window.getComputedStyle(gd).display;\n        if (!display || display === 'none') {{\n            console.log([gd, 'removed!']);\n            Plotly.purge(gd);\n            observer.disconnect();\n        }}\n}});\n\n// Listen for the removal of the full notebook cells\nvar notebookContainer = gd.closest('#notebook-container');\nif (notebookContainer) {{\n    x.observe(notebookContainer, {childList: true});\n}}\n\n// Listen for the clearing of the current output cell\nvar outputEl = gd.closest('.output');\nif (outputEl) {{\n    x.observe(outputEl, {childList: true});\n}}\n\n                        })                };                });            </script>        </div>"
     },
     "metadata": {},
     "output_type": "display_data"
    }
   ],
   "source": [
    "# combine all data together\n",
    "concat_df = pd.concat([comb_df[['Calendar Date', target_col]],concat_df], axis=0)\n",
    "\n",
    "# show plot\n",
    "fig = px.line(concat_df, x='Calendar Date', y=[target_col, ml_col, uts_col, plan_col, fcst_col], template='plotly_white')\n",
    "fig.show()"
   ]
  },
  {
   "cell_type": "code",
   "execution_count": 50,
   "outputs": [],
   "source": [
    "predictions_path = proyect_path+\"/data/predictions/\"+model_run_date\n",
    "if not os.path.exists(predictions_path):\n",
    "    os.makedirs(predictions_path)\n",
    "    print(\"Directory created\")"
   ],
   "metadata": {
    "collapsed": false,
    "pycharm": {
     "name": "#%%\n"
    }
   }
  },
  {
   "cell_type": "code",
   "execution_count": 51,
   "outputs": [],
   "source": [
    "concat_df.to_parquet(predictions_path+\"/\"+target_col.replace(\" \",\"\")+\".parquet\")"
   ],
   "metadata": {
    "collapsed": false,
    "pycharm": {
     "name": "#%%\n"
    }
   }
  },
  {
   "cell_type": "code",
   "execution_count": 54,
   "outputs": [],
   "source": [
    "# compute mape_df\n",
    "mape_df = concat_df[['Calendar Date', target_col, ml_col, uts_col, plan_col, fcst_col]]\n",
    "mape_df = mape_df[mape_df['Calendar Date'] >= datetime.strptime(pred_start_dt, '%Y%m%d')]\n",
    "mape_df = models.compute_apes_and_mapes(mape_df, 'Calendar Date', target_col, fcst_cols)\n",
    "mape_df.rename(index={True:'MAPE'}, inplace=True)\n",
    "#print(mape_df)\n",
    "\n",
    "mapes_file = proyect_path + './mapes.xlsx'\n",
    "#mape_df.to_excel(mapes_file, sheet_name=target_col[0:31])\n",
    "book = load_workbook(mapes_file)\n",
    "writer = pd.ExcelWriter(mapes_file, engine = 'openpyxl')\n",
    "writer.book = book\n",
    "mape_df.to_excel(writer, sheet_name = target_col[0:31], index=False)\n",
    "book.save(mapes_file)\n",
    "book.close()"
   ],
   "metadata": {
    "collapsed": false,
    "pycharm": {
     "name": "#%%\n"
    }
   }
  },
  {
   "cell_type": "code",
   "execution_count": null,
   "outputs": [],
   "source": [],
   "metadata": {
    "collapsed": false,
    "pycharm": {
     "name": "#%%\n"
    }
   }
  }
 ],
 "metadata": {
  "kernelspec": {
   "display_name": "Python 3",
   "language": "python",
   "name": "python3"
  },
  "language_info": {
   "codemirror_mode": {
    "name": "ipython",
    "version": 3
   },
   "file_extension": ".py",
   "mimetype": "text/x-python",
   "name": "python",
   "nbconvert_exporter": "python",
   "pygments_lexer": "ipython3",
   "version": "3.8.1"
  }
 },
 "nbformat": 4,
 "nbformat_minor": 4
}