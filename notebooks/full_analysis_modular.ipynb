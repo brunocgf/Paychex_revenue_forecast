{
 "cells": [
  {
   "cell_type": "code",
   "execution_count": 1,
   "metadata": {},
   "outputs": [],
   "source": [
    "import os, pickle\n",
    "import pandas as pd\n",
    "import numpy as np\n",
    "import plotly.express as px\n",
    "from pycaret.regression import *\n",
    "from datetime import datetime\n",
    "import seaborn as sns\n",
    "import matplotlib.pyplot as plt\n",
    "from openpyxl import load_workbook, Workbook\n",
    "import src.paychex_ml.data_loader as dl\n",
    "import src.paychex_ml.models as models\n",
    "\n",
    "warnings.filterwarnings(\"ignore\")"
   ]
  },
  {
   "cell_type": "code",
   "execution_count": 2,
   "outputs": [],
   "source": [
    "## Change the project path\n",
    "proyect_path = \"C:/Users/bruno.gonzalez/DataspellProjects/Paychex_revenue_forecast\""
   ],
   "metadata": {
    "collapsed": false,
    "pycharm": {
     "name": "#%%\n"
    }
   }
  },
  {
   "cell_type": "code",
   "execution_count": 14,
   "outputs": [],
   "source": [
    "# ------------------------------------------------------------------------------------- #\n",
    "# This is where we change parameters to the model\n",
    "# ------------------------------------------------------------------------------------- #\n",
    "train_start_dt = '20140601'\n",
    "train_end_dt = '20200501'\n",
    "test_start_dt = '20200601'\n",
    "test_end_dt = '20210501'\n",
    "pred_start_dt = '20210601'\n",
    "pred_end_dt = '20220101'\n",
    "ml_criteria = 'MAE'\n",
    "forecast_window = 8\n",
    "forecast_type = '2+10'\n",
    "# This is how strong you want the correlation to be in order to be included as a feature\n",
    "correlation_threshold = 0.5\n",
    "# This is how many features you want to keep in the final model\n",
    "features_threshold = 10"
   ],
   "metadata": {
    "collapsed": false,
    "pycharm": {
     "name": "#%%\n"
    }
   }
  },
  {
   "cell_type": "code",
   "execution_count": 10,
   "outputs": [],
   "source": [
    "# Set manually date if is necessary\n",
    "model_run_date = datetime.today().strftime('%Y%m%d')\n",
    "#model_run_date = '20220504'"
   ],
   "metadata": {
    "collapsed": false,
    "pycharm": {
     "name": "#%%\n"
    }
   }
  },
  {
   "cell_type": "code",
   "execution_count": 11,
   "outputs": [],
   "source": [
    "items_dicctionary = {\n",
    "    '11': ('Payroll blended products', True),\n",
    "    '12': ('W-2 Revenue', False),\n",
    "    '13': ('Delivery Revenue', False),\n",
    "    '14': ('ASO Allocation', False),\n",
    "    '15': ('Other Processing Revenue', False),\n",
    "    '16': ('SurePayroll.', True),\n",
    "    '17': ('Total international', False),\n",
    "    '21': ('401K Fee Revenue', True),\n",
    "    '22': ('401K Asset fee & BP Revenue', True),\n",
    "    '23': ('HR Solutions (PEO)', False),\n",
    "    '24': ('ASO Revenue - Oasis', False),\n",
    "    '31': ('HR Online', False),\n",
    "    '32': ('Time & Attendance', False),\n",
    "    '41': ('Total Paychex Advance', True),\n",
    "    '42': ('Full Service Unemployment Revenue',  True),\n",
    "    '43': ('ESR Revenue', True),\n",
    "    '44': ('Cafeteria Plans Revenue',  True),\n",
    "    '45': ('Benetrac', True),\n",
    "    '46': ('Emerging Products', True),\n",
    "    '51': ('Total PEO', False),\n",
    "    '61': ('Workers Comp - Payment Services', True),\n",
    "    '62': ('Health Benefits', True),\n",
    "    '71': ('Interest on Funds Held for Clients', False)\n",
    "}"
   ],
   "metadata": {
    "collapsed": false,
    "pycharm": {
     "name": "#%%\n"
    }
   }
  },
  {
   "cell_type": "code",
   "execution_count": 39,
   "outputs": [],
   "source": [
    "# ------------------------------------------------------------------------------------- #\n",
    "# Total Payroll Section\n",
    "# ------------------------------------------------------------------------------------- #\n",
    "# target_col = 'Payroll blended products'\n",
    "# has_drivers = True\n",
    "# target_col = 'W-2 Revenue'\n",
    "# has_drivers = False\n",
    "# target_col = 'Delivery Revenue'\n",
    "# has_drivers = False\n",
    "# target_col = 'ASO Allocation'\n",
    "# has_drivers = False\n",
    "# target_col = 'Other Processing Revenue'\n",
    "# has_drivers = False\n",
    "# target_col = 'SurePayroll.'\n",
    "# has_drivers = True\n",
    "# target_col = 'Total international'\n",
    "# has_drivers = False\n",
    "\n",
    "# ------------------------------------------------------------------------------------- #\n",
    "# Total 401K Section\n",
    "# ------------------------------------------------------------------------------------- #\n",
    "# target_col = '401K Fee Revenue'\n",
    "# has_drivers = True\n",
    "# target_col = '401K Asset fee & BP Revenue'\n",
    "# has_drivers = True\n",
    "\n",
    "# ------------------------------------------------------------------------------------- #\n",
    "# Total ASO Revenue\n",
    "# ------------------------------------------------------------------------------------- #\n",
    "# target_col = 'HR Solutions (PEO)'\n",
    "# has_drivers = False\n",
    "# target_col = 'ASO Revenue - Oasis'\n",
    "# has_drivers = False\n",
    "\n",
    "# ------------------------------------------------------------------------------------- #\n",
    "# Total Online Services\n",
    "# ------------------------------------------------------------------------------------- #\n",
    "# target_col = 'HR Online'\n",
    "# has_drivers = False\n",
    "# target_col = 'Time & Attendance'\n",
    "# has_drivers = False\n",
    "\n",
    "# ------------------------------------------------------------------------------------- #\n",
    "# Other Management Solutions\n",
    "# ------------------------------------------------------------------------------------- #\n",
    "# target_col = 'Total Paychex Advance'\n",
    "# has_drivers = True\n",
    "# target_col = 'Full Service Unemployment Revenue'\n",
    "# has_drivers = True\n",
    "# target_col = 'ESR Revenue'\n",
    "# has_drivers = True\n",
    "# target_col = 'Cafeteria Plans Revenue'\n",
    "# has_drivers = True\n",
    "# target_col = 'Benetrac'\n",
    "# has_drivers = True\n",
    "# target_col = 'Emerging Products'\n",
    "# has_drivers = True\n",
    "\n",
    "# ------------------------------------------------------------------------------------- #\n",
    "# Total PEO\n",
    "# ------------------------------------------------------------------------------------- #\n",
    "# target_col = 'Total PEO'\n",
    "# has_drivers = False\n",
    "\n",
    "# ------------------------------------------------------------------------------------- #\n",
    "# Total Insurance Services\n",
    "# ------------------------------------------------------------------------------------- #\n",
    "# target_col = 'Workers Comp - Payment Services'\n",
    "# has_drivers = True\n",
    "# target_col = 'Health Benefits'\n",
    "# has_drivers = True\n",
    "\n",
    "# target_col = 'Interest on Funds Held for Clients'\n",
    "# has_drivers = False\n",
    "\n",
    "# ------------------------------------------------------------------------------------- #\n",
    "# Total Level 1\n",
    "# ------------------------------------------------------------------------------------- #\n",
    "# target_col = 'Total Payroll Revenue.'\n",
    "# has_drivers = True\n",
    "target_col = 'Total 401k'\n",
    "has_drivers = True\n",
    "# target_col = 'Total ASO Revenue'\n",
    "# has_drivers = False\n",
    "# target_col = 'Total Online Services'\n",
    "# has_drivers = True\n",
    "# target_col = 'Other Management Solutions'\n",
    "# has_drivers = True\n",
    "# target_col = 'Total Insurance Services'\n",
    "# has_drivers = True\n",
    "\n",
    "# ------------------------------------------------------------------------------------- #\n",
    "# Total Level 2\n",
    "# ------------------------------------------------------------------------------------- #\n",
    "# target_col = 'Total Revenue'\n",
    "# has_drivers = False\n",
    "\n"
   ],
   "metadata": {
    "collapsed": false,
    "pycharm": {
     "name": "#%%\n"
    }
   }
  },
  {
   "cell_type": "code",
   "execution_count": 40,
   "outputs": [],
   "source": [
    "ml_col = target_col+' - ML Predicted'\n",
    "uts_col = target_col+' - UTS Predicted'\n",
    "plan_col = target_col+' - Plan'\n",
    "fcst_col = target_col+' - '+forecast_type+' Forecast'\n",
    "fcst_cols = [plan_col,fcst_col,ml_col,uts_col]\n",
    "has_actuals = True\n",
    "level = 1"
   ],
   "metadata": {
    "collapsed": false,
    "pycharm": {
     "name": "#%%\n"
    }
   }
  },
  {
   "cell_type": "code",
   "execution_count": 41,
   "outputs": [],
   "source": [
    "# Get the full data frame and combine with drivers\n",
    "#all_df = dl.get_level_0_data(train_start_dt, pred_end_dt)"
   ],
   "metadata": {
    "collapsed": false,
    "pycharm": {
     "name": "#%%\n"
    }
   }
  },
  {
   "cell_type": "code",
   "execution_count": 42,
   "outputs": [],
   "source": [
    "file_path = proyect_path+\"/data/clean/table_predictable.csv\"\n",
    "all_df = dl.get_clean_data(train_start_dt, pred_end_dt, file_path, level=level)"
   ],
   "metadata": {
    "collapsed": false,
    "pycharm": {
     "name": "#%%\n"
    }
   }
  },
  {
   "cell_type": "code",
   "execution_count": 43,
   "outputs": [],
   "source": [
    "drive_path = proyect_path+\"/data/clean/table_drivers.csv\"\n",
    "#driv_df_ = pd.read_csv(file_path, dtype={'Period':str, 'Calendar Date': str})\n",
    "#driv_df = dl.get_clean_driver_data(train_start_dt, pred_end_dt, target_col, file_path)"
   ],
   "metadata": {
    "collapsed": false,
    "pycharm": {
     "name": "#%%\n"
    }
   }
  },
  {
   "cell_type": "code",
   "execution_count": 44,
   "outputs": [],
   "source": [
    "all_df = all_df[['Calendar Date', target_col]]\n",
    "if has_drivers:\n",
    "    driv_df = dl.get_clean_driver_data(train_start_dt, pred_end_dt, target_col, drive_path)\n",
    "    #driv_df.drop(columns=['Scenario'], inplace=True)\n",
    "    all_df = pd.merge(all_df, driv_df, on='Calendar Date', how='inner')"
   ],
   "metadata": {
    "collapsed": false,
    "pycharm": {
     "name": "#%%\n"
    }
   }
  },
  {
   "cell_type": "code",
   "execution_count": 45,
   "outputs": [],
   "source": [
    "external_path = proyect_path+\"/data/external/external_data_fred.csv\"\n",
    "ext_df = pd.read_csv(external_path, dtype={'date': str})\\\n",
    "    .rename(columns={'date': 'Calendar Date'})\n",
    "#ext_df = dl.get_external_data(train_start_dt, pred_end_dt)\n",
    "all_df = pd.merge(all_df, ext_df, on='Calendar Date', how='inner')"
   ],
   "metadata": {
    "collapsed": false,
    "pycharm": {
     "name": "#%%\n"
    }
   }
  },
  {
   "cell_type": "code",
   "execution_count": null,
   "outputs": [],
   "source": [
    "model_path = \"./data/models/\"+model_run_date\n",
    "if not os.path.exists(model_path):\n",
    "    os.makedirs(model_path)\n",
    "    print(\"Directory created\")"
   ],
   "metadata": {
    "collapsed": false,
    "pycharm": {
     "name": "#%%\n"
    }
   }
  },
  {
   "cell_type": "code",
   "execution_count": 46,
   "outputs": [
    {
     "name": "stdout",
     "output_type": "stream",
     "text": [
      "Shape of the training dataframe:\n",
      "(72, 135)\n",
      "Shape of the testing dataframe:\n",
      "(12, 135)\n",
      "Shape of the combination dataframe:\n",
      "(84, 135)\n"
     ]
    }
   ],
   "source": [
    "# Train df\n",
    "train_df = all_df[all_df['Calendar Date'].astype(int) <= int(train_end_dt)]\n",
    "train_df['Calendar Date'] = pd.to_datetime(train_df['Calendar Date'])\n",
    "print('Shape of the training dataframe:')\n",
    "print(train_df.shape)\n",
    "\n",
    "# Test df\n",
    "test_df = all_df[(all_df['Calendar Date'].astype(int) >= int(test_start_dt)) & (all_df['Calendar Date'].astype(int) <= int(test_end_dt))]\n",
    "test_df['Calendar Date'] = pd.to_datetime(test_df['Calendar Date'])\n",
    "print('Shape of the testing dataframe:')\n",
    "print(test_df.shape)\n",
    "\n",
    "# Combined dataframe\n",
    "comb_df = pd.concat([train_df, test_df])\n",
    "print('Shape of the combination dataframe:')\n",
    "print(comb_df.shape)"
   ],
   "metadata": {
    "collapsed": false,
    "pycharm": {
     "name": "#%%\n"
    }
   }
  },
  {
   "cell_type": "code",
   "execution_count": 47,
   "outputs": [
    {
     "data": {
      "text/plain": "<Figure size 576x864 with 2 Axes>",
      "image/png": "[encoded data removed]"
     },
     "metadata": {},
     "output_type": "display_data"
    }
   ],
   "source": [
    "feature_cols = comb_df.columns.to_list()\n",
    "feature_cols.remove('Calendar Date')\n",
    "feature_cols.remove(target_col)\n",
    "\n",
    "# Run Correlations to target\n",
    "corr_df = comb_df.corr()[[target_col]]\n",
    "corr_df = corr_df[corr_df[target_col].abs() >= correlation_threshold]\n",
    "\n",
    "plt.figure(figsize=(8, 12))\n",
    "heatmap = sns.heatmap(corr_df, vmin=-1, vmax=1, annot=True, cmap='BrBG')\n",
    "heatmap.set_title('Features Correlating with '+target_col, fontdict={'fontsize':18}, pad=16);"
   ],
   "metadata": {
    "collapsed": false,
    "pycharm": {
     "name": "#%%\n"
    }
   }
  },
  {
   "cell_type": "code",
   "execution_count": 48,
   "outputs": [],
   "source": [
    "# Get a list of the features based on correlation\n",
    "corr_df = corr_df.rename_axis('Feature').reset_index()\n",
    "corr_feature_cols = corr_df['Feature'].tolist()\n",
    "corr_feature_cols.remove(target_col)\n",
    "#print(corr_feature_cols)"
   ],
   "metadata": {
    "collapsed": false,
    "pycharm": {
     "name": "#%%\n"
    }
   }
  },
  {
   "cell_type": "code",
   "execution_count": 49,
   "outputs": [
    {
     "data": {
      "text/plain": "<pandas.io.formats.style.Styler at 0x22f0a145eb0>",
      "text/html": "<style type=\"text/css\">\n#T_352e8 th {\n  text-align: left;\n}\n#T_352e8_row0_col0, #T_352e8_row1_col0, #T_352e8_row1_col1, #T_352e8_row1_col2, #T_352e8_row1_col3, #T_352e8_row1_col4, #T_352e8_row1_col5, #T_352e8_row1_col6, #T_352e8_row2_col0, #T_352e8_row2_col1, #T_352e8_row2_col2, #T_352e8_row2_col3, #T_352e8_row2_col4, #T_352e8_row2_col5, #T_352e8_row2_col6, #T_352e8_row3_col0, #T_352e8_row3_col1, #T_352e8_row3_col2, #T_352e8_row3_col3, #T_352e8_row3_col4, #T_352e8_row3_col5, #T_352e8_row3_col6, #T_352e8_row4_col0, #T_352e8_row4_col1, #T_352e8_row4_col2, #T_352e8_row4_col3, #T_352e8_row4_col4, #T_352e8_row4_col5, #T_352e8_row4_col6, #T_352e8_row5_col0, #T_352e8_row5_col1, #T_352e8_row5_col2, #T_352e8_row5_col3, #T_352e8_row5_col4, #T_352e8_row5_col5, #T_352e8_row5_col6, #T_352e8_row6_col0, #T_352e8_row6_col1, #T_352e8_row6_col2, #T_352e8_row6_col3, #T_352e8_row6_col4, #T_352e8_row6_col5, #T_352e8_row6_col6, #T_352e8_row7_col0, #T_352e8_row7_col1, #T_352e8_row7_col2, #T_352e8_row7_col3, #T_352e8_row7_col4, #T_352e8_row7_col5, #T_352e8_row7_col6, #T_352e8_row8_col0, #T_352e8_row8_col1, #T_352e8_row8_col2, #T_352e8_row8_col3, #T_352e8_row8_col4, #T_352e8_row8_col5, #T_352e8_row8_col6, #T_352e8_row9_col0, #T_352e8_row9_col1, #T_352e8_row9_col2, #T_352e8_row9_col3, #T_352e8_row9_col4, #T_352e8_row9_col5, #T_352e8_row9_col6, #T_352e8_row10_col0, #T_352e8_row10_col1, #T_352e8_row10_col2, #T_352e8_row10_col3, #T_352e8_row10_col4, #T_352e8_row10_col5, #T_352e8_row10_col6, #T_352e8_row11_col0, #T_352e8_row11_col1, #T_352e8_row11_col2, #T_352e8_row11_col3, #T_352e8_row11_col4, #T_352e8_row11_col5, #T_352e8_row11_col6, #T_352e8_row12_col0, #T_352e8_row12_col1, #T_352e8_row12_col2, #T_352e8_row12_col3, #T_352e8_row12_col4, #T_352e8_row12_col5, #T_352e8_row12_col6, #T_352e8_row13_col0, #T_352e8_row13_col1, #T_352e8_row13_col2, #T_352e8_row13_col3, #T_352e8_row13_col4, #T_352e8_row13_col5, #T_352e8_row13_col6, #T_352e8_row14_col0, #T_352e8_row14_col1, #T_352e8_row14_col2, #T_352e8_row14_col3, #T_352e8_row14_col4, #T_352e8_row14_col5, #T_352e8_row14_col6, #T_352e8_row15_col0, #T_352e8_row15_col1, #T_352e8_row15_col2, #T_352e8_row15_col3, #T_352e8_row15_col4, #T_352e8_row15_col5, #T_352e8_row15_col6, #T_352e8_row16_col0, #T_352e8_row16_col1, #T_352e8_row16_col2, #T_352e8_row16_col3, #T_352e8_row16_col4, #T_352e8_row16_col5, #T_352e8_row16_col6, #T_352e8_row17_col0, #T_352e8_row17_col1, #T_352e8_row17_col2, #T_352e8_row17_col3, #T_352e8_row17_col4, #T_352e8_row17_col5, #T_352e8_row17_col6, #T_352e8_row18_col0, #T_352e8_row18_col1, #T_352e8_row18_col2, #T_352e8_row18_col3, #T_352e8_row18_col4, #T_352e8_row18_col5, #T_352e8_row18_col6 {\n  text-align: left;\n}\n#T_352e8_row0_col1, #T_352e8_row0_col2, #T_352e8_row0_col3, #T_352e8_row0_col4, #T_352e8_row0_col5, #T_352e8_row0_col6 {\n  text-align: left;\n  background-color: yellow;\n}\n#T_352e8_row0_col7, #T_352e8_row1_col7, #T_352e8_row2_col7, #T_352e8_row3_col7, #T_352e8_row4_col7, #T_352e8_row5_col7, #T_352e8_row6_col7, #T_352e8_row7_col7, #T_352e8_row8_col7, #T_352e8_row9_col7, #T_352e8_row10_col7, #T_352e8_row11_col7, #T_352e8_row12_col7, #T_352e8_row13_col7, #T_352e8_row15_col7, #T_352e8_row16_col7, #T_352e8_row17_col7, #T_352e8_row18_col7 {\n  text-align: left;\n  background-color: lightgrey;\n}\n#T_352e8_row14_col7 {\n  text-align: left;\n  background-color: yellow;\n  background-color: lightgrey;\n}\n</style>\n<table id=\"T_352e8\">\n  <thead>\n    <tr>\n      <th class=\"blank level0\" >&nbsp;</th>\n      <th id=\"T_352e8_level0_col0\" class=\"col_heading level0 col0\" >Model</th>\n      <th id=\"T_352e8_level0_col1\" class=\"col_heading level0 col1\" >MAE</th>\n      <th id=\"T_352e8_level0_col2\" class=\"col_heading level0 col2\" >MSE</th>\n      <th id=\"T_352e8_level0_col3\" class=\"col_heading level0 col3\" >RMSE</th>\n      <th id=\"T_352e8_level0_col4\" class=\"col_heading level0 col4\" >R2</th>\n      <th id=\"T_352e8_level0_col5\" class=\"col_heading level0 col5\" >RMSLE</th>\n      <th id=\"T_352e8_level0_col6\" class=\"col_heading level0 col6\" >MAPE</th>\n      <th id=\"T_352e8_level0_col7\" class=\"col_heading level0 col7\" >TT (Sec)</th>\n    </tr>\n  </thead>\n  <tbody>\n    <tr>\n      <th id=\"T_352e8_level0_row0\" class=\"row_heading level0 row0\" >omp</th>\n      <td id=\"T_352e8_row0_col0\" class=\"data row0 col0\" >Orthogonal Matching Pursuit</td>\n      <td id=\"T_352e8_row0_col1\" class=\"data row0 col1\" >1063579.1036</td>\n      <td id=\"T_352e8_row0_col2\" class=\"data row0 col2\" >1901722880959.4617</td>\n      <td id=\"T_352e8_row0_col3\" class=\"data row0 col3\" >1357589.8348</td>\n      <td id=\"T_352e8_row0_col4\" class=\"data row0 col4\" >-1.8802</td>\n      <td id=\"T_352e8_row0_col5\" class=\"data row0 col5\" >0.0695</td>\n      <td id=\"T_352e8_row0_col6\" class=\"data row0 col6\" >0.0552</td>\n      <td id=\"T_352e8_row0_col7\" class=\"data row0 col7\" >0.0100</td>\n    </tr>\n    <tr>\n      <th id=\"T_352e8_level0_row1\" class=\"row_heading level0 row1\" >llar</th>\n      <td id=\"T_352e8_row1_col0\" class=\"data row1 col0\" >Lasso Least Angle Regression</td>\n      <td id=\"T_352e8_row1_col1\" class=\"data row1 col1\" >1229873.0698</td>\n      <td id=\"T_352e8_row1_col2\" class=\"data row1 col2\" >3123622862786.7134</td>\n      <td id=\"T_352e8_row1_col3\" class=\"data row1 col3\" >1648960.3610</td>\n      <td id=\"T_352e8_row1_col4\" class=\"data row1 col4\" >-4.7656</td>\n      <td id=\"T_352e8_row1_col5\" class=\"data row1 col5\" >0.0886</td>\n      <td id=\"T_352e8_row1_col6\" class=\"data row1 col6\" >0.0647</td>\n      <td id=\"T_352e8_row1_col7\" class=\"data row1 col7\" >0.0200</td>\n    </tr>\n    <tr>\n      <th id=\"T_352e8_level0_row2\" class=\"row_heading level0 row2\" >huber</th>\n      <td id=\"T_352e8_row2_col0\" class=\"data row2 col0\" >Huber Regressor</td>\n      <td id=\"T_352e8_row2_col1\" class=\"data row2 col1\" >1343519.9767</td>\n      <td id=\"T_352e8_row2_col2\" class=\"data row2 col2\" >4809924450442.0781</td>\n      <td id=\"T_352e8_row2_col3\" class=\"data row2 col3\" >2136535.7030</td>\n      <td id=\"T_352e8_row2_col4\" class=\"data row2 col4\" >-5.1997</td>\n      <td id=\"T_352e8_row2_col5\" class=\"data row2 col5\" >0.1006</td>\n      <td id=\"T_352e8_row2_col6\" class=\"data row2 col6\" >0.0710</td>\n      <td id=\"T_352e8_row2_col7\" class=\"data row2 col7\" >0.0100</td>\n    </tr>\n    <tr>\n      <th id=\"T_352e8_level0_row3\" class=\"row_heading level0 row3\" >gbr</th>\n      <td id=\"T_352e8_row3_col0\" class=\"data row3 col0\" >Gradient Boosting Regressor</td>\n      <td id=\"T_352e8_row3_col1\" class=\"data row3 col1\" >1390408.5103</td>\n      <td id=\"T_352e8_row3_col2\" class=\"data row3 col2\" >3213448950121.7925</td>\n      <td id=\"T_352e8_row3_col3\" class=\"data row3 col3\" >1688127.1393</td>\n      <td id=\"T_352e8_row3_col4\" class=\"data row3 col4\" >-2.3300</td>\n      <td id=\"T_352e8_row3_col5\" class=\"data row3 col5\" >0.0898</td>\n      <td id=\"T_352e8_row3_col6\" class=\"data row3 col6\" >0.0714</td>\n      <td id=\"T_352e8_row3_col7\" class=\"data row3 col7\" >0.0267</td>\n    </tr>\n    <tr>\n      <th id=\"T_352e8_level0_row4\" class=\"row_heading level0 row4\" >rf</th>\n      <td id=\"T_352e8_row4_col0\" class=\"data row4 col0\" >Random Forest Regressor</td>\n      <td id=\"T_352e8_row4_col1\" class=\"data row4 col1\" >1452877.0594</td>\n      <td id=\"T_352e8_row4_col2\" class=\"data row4 col2\" >3525604882093.2417</td>\n      <td id=\"T_352e8_row4_col3\" class=\"data row4 col3\" >1742626.5609</td>\n      <td id=\"T_352e8_row4_col4\" class=\"data row4 col4\" >-2.2885</td>\n      <td id=\"T_352e8_row4_col5\" class=\"data row4 col5\" >0.0919</td>\n      <td id=\"T_352e8_row4_col6\" class=\"data row4 col6\" >0.0731</td>\n      <td id=\"T_352e8_row4_col7\" class=\"data row4 col7\" >0.0667</td>\n    </tr>\n    <tr>\n      <th id=\"T_352e8_level0_row5\" class=\"row_heading level0 row5\" >et</th>\n      <td id=\"T_352e8_row5_col0\" class=\"data row5 col0\" >Extra Trees Regressor</td>\n      <td id=\"T_352e8_row5_col1\" class=\"data row5 col1\" >1536877.3543</td>\n      <td id=\"T_352e8_row5_col2\" class=\"data row5 col2\" >3523839749248.6875</td>\n      <td id=\"T_352e8_row5_col3\" class=\"data row5 col3\" >1813437.8276</td>\n      <td id=\"T_352e8_row5_col4\" class=\"data row5 col4\" >-2.6998</td>\n      <td id=\"T_352e8_row5_col5\" class=\"data row5 col5\" >0.0954</td>\n      <td id=\"T_352e8_row5_col6\" class=\"data row5 col6\" >0.0779</td>\n      <td id=\"T_352e8_row5_col7\" class=\"data row5 col7\" >0.0600</td>\n    </tr>\n    <tr>\n      <th id=\"T_352e8_level0_row6\" class=\"row_heading level0 row6\" >dt</th>\n      <td id=\"T_352e8_row6_col0\" class=\"data row6 col0\" >Decision Tree Regressor</td>\n      <td id=\"T_352e8_row6_col1\" class=\"data row6 col1\" >1541899.0185</td>\n      <td id=\"T_352e8_row6_col2\" class=\"data row6 col2\" >4074147190529.9814</td>\n      <td id=\"T_352e8_row6_col3\" class=\"data row6 col3\" >2003576.2257</td>\n      <td id=\"T_352e8_row6_col4\" class=\"data row6 col4\" >-4.1331</td>\n      <td id=\"T_352e8_row6_col5\" class=\"data row6 col5\" >0.1078</td>\n      <td id=\"T_352e8_row6_col6\" class=\"data row6 col6\" >0.0801</td>\n      <td id=\"T_352e8_row6_col7\" class=\"data row6 col7\" >0.0100</td>\n    </tr>\n    <tr>\n      <th id=\"T_352e8_level0_row7\" class=\"row_heading level0 row7\" >xgboost</th>\n      <td id=\"T_352e8_row7_col0\" class=\"data row7 col0\" >Extreme Gradient Boosting</td>\n      <td id=\"T_352e8_row7_col1\" class=\"data row7 col1\" >1593258.6250</td>\n      <td id=\"T_352e8_row7_col2\" class=\"data row7 col2\" >4221956259840.0000</td>\n      <td id=\"T_352e8_row7_col3\" class=\"data row7 col3\" >1966903.8750</td>\n      <td id=\"T_352e8_row7_col4\" class=\"data row7 col4\" >-3.4825</td>\n      <td id=\"T_352e8_row7_col5\" class=\"data row7 col5\" >0.1050</td>\n      <td id=\"T_352e8_row7_col6\" class=\"data row7 col6\" >0.0815</td>\n      <td id=\"T_352e8_row7_col7\" class=\"data row7 col7\" >0.1033</td>\n    </tr>\n    <tr>\n      <th id=\"T_352e8_level0_row8\" class=\"row_heading level0 row8\" >br</th>\n      <td id=\"T_352e8_row8_col0\" class=\"data row8 col0\" >Bayesian Ridge</td>\n      <td id=\"T_352e8_row8_col1\" class=\"data row8 col1\" >1628784.3664</td>\n      <td id=\"T_352e8_row8_col2\" class=\"data row8 col2\" >4412090346510.2197</td>\n      <td id=\"T_352e8_row8_col3\" class=\"data row8 col3\" >1858140.9669</td>\n      <td id=\"T_352e8_row8_col4\" class=\"data row8 col4\" >-3.1837</td>\n      <td id=\"T_352e8_row8_col5\" class=\"data row8 col5\" >0.1002</td>\n      <td id=\"T_352e8_row8_col6\" class=\"data row8 col6\" >0.0830</td>\n      <td id=\"T_352e8_row8_col7\" class=\"data row8 col7\" >0.0133</td>\n    </tr>\n    <tr>\n      <th id=\"T_352e8_level0_row9\" class=\"row_heading level0 row9\" >ada</th>\n      <td id=\"T_352e8_row9_col0\" class=\"data row9 col0\" >AdaBoost Regressor</td>\n      <td id=\"T_352e8_row9_col1\" class=\"data row9 col1\" >1706775.2042</td>\n      <td id=\"T_352e8_row9_col2\" class=\"data row9 col2\" >4664710199459.6201</td>\n      <td id=\"T_352e8_row9_col3\" class=\"data row9 col3\" >2007485.5191</td>\n      <td id=\"T_352e8_row9_col4\" class=\"data row9 col4\" >-3.1751</td>\n      <td id=\"T_352e8_row9_col5\" class=\"data row9 col5\" >0.1057</td>\n      <td id=\"T_352e8_row9_col6\" class=\"data row9 col6\" >0.0848</td>\n      <td id=\"T_352e8_row9_col7\" class=\"data row9 col7\" >0.0333</td>\n    </tr>\n    <tr>\n      <th id=\"T_352e8_level0_row10\" class=\"row_heading level0 row10\" >knn</th>\n      <td id=\"T_352e8_row10_col0\" class=\"data row10 col0\" >K Neighbors Regressor</td>\n      <td id=\"T_352e8_row10_col1\" class=\"data row10 col1\" >1783835.1458</td>\n      <td id=\"T_352e8_row10_col2\" class=\"data row10 col2\" >5352064570709.3330</td>\n      <td id=\"T_352e8_row10_col3\" class=\"data row10 col3\" >2106689.6250</td>\n      <td id=\"T_352e8_row10_col4\" class=\"data row10 col4\" >-3.6051</td>\n      <td id=\"T_352e8_row10_col5\" class=\"data row10 col5\" >0.1115</td>\n      <td id=\"T_352e8_row10_col6\" class=\"data row10 col6\" >0.0882</td>\n      <td id=\"T_352e8_row10_col7\" class=\"data row10 col7\" >0.0133</td>\n    </tr>\n    <tr>\n      <th id=\"T_352e8_level0_row11\" class=\"row_heading level0 row11\" >lightgbm</th>\n      <td id=\"T_352e8_row11_col0\" class=\"data row11 col0\" >Light Gradient Boosting Machine</td>\n      <td id=\"T_352e8_row11_col1\" class=\"data row11 col1\" >1789706.9673</td>\n      <td id=\"T_352e8_row11_col2\" class=\"data row11 col2\" >5070978495057.0010</td>\n      <td id=\"T_352e8_row11_col3\" class=\"data row11 col3\" >2044135.7052</td>\n      <td id=\"T_352e8_row11_col4\" class=\"data row11 col4\" >-3.3911</td>\n      <td id=\"T_352e8_row11_col5\" class=\"data row11 col5\" >0.1078</td>\n      <td id=\"T_352e8_row11_col6\" class=\"data row11 col6\" >0.0889</td>\n      <td id=\"T_352e8_row11_col7\" class=\"data row11 col7\" >0.0200</td>\n    </tr>\n    <tr>\n      <th id=\"T_352e8_level0_row12\" class=\"row_heading level0 row12\" >ridge</th>\n      <td id=\"T_352e8_row12_col0\" class=\"data row12 col0\" >Ridge Regression</td>\n      <td id=\"T_352e8_row12_col1\" class=\"data row12 col1\" >2155880.3333</td>\n      <td id=\"T_352e8_row12_col2\" class=\"data row12 col2\" >6486478006954.6670</td>\n      <td id=\"T_352e8_row12_col3\" class=\"data row12 col3\" >2353235.3333</td>\n      <td id=\"T_352e8_row12_col4\" class=\"data row12 col4\" >-4.7707</td>\n      <td id=\"T_352e8_row12_col5\" class=\"data row12 col5\" >0.1257</td>\n      <td id=\"T_352e8_row12_col6\" class=\"data row12 col6\" >0.1077</td>\n      <td id=\"T_352e8_row12_col7\" class=\"data row12 col7\" >0.8567</td>\n    </tr>\n    <tr>\n      <th id=\"T_352e8_level0_row13\" class=\"row_heading level0 row13\" >lasso</th>\n      <td id=\"T_352e8_row13_col0\" class=\"data row13 col0\" >Lasso Regression</td>\n      <td id=\"T_352e8_row13_col1\" class=\"data row13 col1\" >2180374.2917</td>\n      <td id=\"T_352e8_row13_col2\" class=\"data row13 col2\" >19466333541717.3320</td>\n      <td id=\"T_352e8_row13_col3\" class=\"data row13 col3\" >3639870.5000</td>\n      <td id=\"T_352e8_row13_col4\" class=\"data row13 col4\" >-17.1336</td>\n      <td id=\"T_352e8_row13_col5\" class=\"data row13 col5\" >0.1508</td>\n      <td id=\"T_352e8_row13_col6\" class=\"data row13 col6\" >0.1094</td>\n      <td id=\"T_352e8_row13_col7\" class=\"data row13 col7\" >0.8867</td>\n    </tr>\n    <tr>\n      <th id=\"T_352e8_level0_row14\" class=\"row_heading level0 row14\" >dummy</th>\n      <td id=\"T_352e8_row14_col0\" class=\"data row14 col0\" >Dummy Regressor</td>\n      <td id=\"T_352e8_row14_col1\" class=\"data row14 col1\" >2359466.7708</td>\n      <td id=\"T_352e8_row14_col2\" class=\"data row14 col2\" >8201490857984.0000</td>\n      <td id=\"T_352e8_row14_col3\" class=\"data row14 col3\" >2538984.8958</td>\n      <td id=\"T_352e8_row14_col4\" class=\"data row14 col4\" >-5.7840</td>\n      <td id=\"T_352e8_row14_col5\" class=\"data row14 col5\" >0.1349</td>\n      <td id=\"T_352e8_row14_col6\" class=\"data row14 col6\" >0.1158</td>\n      <td id=\"T_352e8_row14_col7\" class=\"data row14 col7\" >0.0067</td>\n    </tr>\n    <tr>\n      <th id=\"T_352e8_level0_row15\" class=\"row_heading level0 row15\" >en</th>\n      <td id=\"T_352e8_row15_col0\" class=\"data row15 col0\" >Elastic Net</td>\n      <td id=\"T_352e8_row15_col1\" class=\"data row15 col1\" >2676864.9167</td>\n      <td id=\"T_352e8_row15_col2\" class=\"data row15 col2\" >21851619546453.3320</td>\n      <td id=\"T_352e8_row15_col3\" class=\"data row15 col3\" >4581908.0833</td>\n      <td id=\"T_352e8_row15_col4\" class=\"data row15 col4\" >-22.8265</td>\n      <td id=\"T_352e8_row15_col5\" class=\"data row15 col5\" >0.2891</td>\n      <td id=\"T_352e8_row15_col6\" class=\"data row15 col6\" >0.1395</td>\n      <td id=\"T_352e8_row15_col7\" class=\"data row15 col7\" >0.0133</td>\n    </tr>\n    <tr>\n      <th id=\"T_352e8_level0_row16\" class=\"row_heading level0 row16\" >lr</th>\n      <td id=\"T_352e8_row16_col0\" class=\"data row16 col0\" >Linear Regression</td>\n      <td id=\"T_352e8_row16_col1\" class=\"data row16 col1\" >3243377.0000</td>\n      <td id=\"T_352e8_row16_col2\" class=\"data row16 col2\" >114177341827754.6719</td>\n      <td id=\"T_352e8_row16_col3\" class=\"data row16 col3\" >7666326.0000</td>\n      <td id=\"T_352e8_row16_col4\" class=\"data row16 col4\" >-88.8216</td>\n      <td id=\"T_352e8_row16_col5\" class=\"data row16 col5\" >0.2123</td>\n      <td id=\"T_352e8_row16_col6\" class=\"data row16 col6\" >0.1578</td>\n      <td id=\"T_352e8_row16_col7\" class=\"data row16 col7\" >1.8633</td>\n    </tr>\n    <tr>\n      <th id=\"T_352e8_level0_row17\" class=\"row_heading level0 row17\" >par</th>\n      <td id=\"T_352e8_row17_col0\" class=\"data row17 col0\" >Passive Aggressive Regressor</td>\n      <td id=\"T_352e8_row17_col1\" class=\"data row17 col1\" >3329166.6739</td>\n      <td id=\"T_352e8_row17_col2\" class=\"data row17 col2\" >15881917736591.3379</td>\n      <td id=\"T_352e8_row17_col3\" class=\"data row17 col3\" >3881631.2297</td>\n      <td id=\"T_352e8_row17_col4\" class=\"data row17 col4\" >-19.8460</td>\n      <td id=\"T_352e8_row17_col5\" class=\"data row17 col5\" >0.1796</td>\n      <td id=\"T_352e8_row17_col6\" class=\"data row17 col6\" >0.1775</td>\n      <td id=\"T_352e8_row17_col7\" class=\"data row17 col7\" >0.0100</td>\n    </tr>\n    <tr>\n      <th id=\"T_352e8_level0_row18\" class=\"row_heading level0 row18\" >lar</th>\n      <td id=\"T_352e8_row18_col0\" class=\"data row18 col0\" >Least Angle Regression</td>\n      <td id=\"T_352e8_row18_col1\" class=\"data row18 col1\" >902171299722010003231834374144.0000</td>\n      <td id=\"T_352e8_row18_col2\" class=\"data row18 col2\" >3329498514518625094895666324563125600973903868953505675870208.0000</td>\n      <td id=\"T_352e8_row18_col3\" class=\"data row18 col3\" >1053528393008819058087322189824.0000</td>\n      <td id=\"T_352e8_row18_col4\" class=\"data row18 col4\" >-8677502358273863554352919967961466740127200968704.0000</td>\n      <td id=\"T_352e8_row18_col5\" class=\"data row18 col5\" >43.5571</td>\n      <td id=\"T_352e8_row18_col6\" class=\"data row18 col6\" >53040969795185007394816.0000</td>\n      <td id=\"T_352e8_row18_col7\" class=\"data row18 col7\" >0.0167</td>\n    </tr>\n  </tbody>\n</table>\n"
     },
     "metadata": {},
     "output_type": "display_data"
    },
    {
     "name": "stdout",
     "output_type": "stream",
     "text": [
      "<class 'sklearn.linear_model._omp.OrthogonalMatchingPursuit'>\n"
     ]
    }
   ],
   "source": [
    "# run auto ml and get the most important features\n",
    "best = models.run_auto_ml(train_df, test_df, target_col, feature_cols, False, ml_criteria)"
   ],
   "metadata": {
    "collapsed": false,
    "pycharm": {
     "name": "#%%\n"
    }
   }
  },
  {
   "cell_type": "code",
   "execution_count": 50,
   "outputs": [],
   "source": [
    "ml_features = models.get_important_features('xgboost', features_threshold)\n",
    "ml_feature_cols = ml_features['Feature'].tolist()\n",
    "\n",
    "if len(ml_features.index) != 0:\n",
    "    # plot the most important features\n",
    "    fig = px.bar(ml_features.sort_values('Variable Importance', ascending=True),\n",
    "                 x='Variable Importance',\n",
    "                 y='Feature',\n",
    "                 orientation='h',\n",
    "                 title='Feature Importance Plot')\n",
    "    fig.show()"
   ],
   "metadata": {
    "collapsed": false,
    "pycharm": {
     "name": "#%%\n"
    }
   }
  },
  {
   "cell_type": "code",
   "execution_count": 51,
   "outputs": [
    {
     "data": {
      "text/plain": "<pandas.io.formats.style.Styler at 0x22f0ab1e8b0>",
      "text/html": "<style type=\"text/css\">\n#T_ad765 th {\n  text-align: left;\n}\n#T_ad765_row0_col0, #T_ad765_row1_col0, #T_ad765_row1_col1, #T_ad765_row1_col2, #T_ad765_row1_col3, #T_ad765_row1_col4, #T_ad765_row1_col5, #T_ad765_row1_col6, #T_ad765_row2_col0, #T_ad765_row2_col1, #T_ad765_row2_col2, #T_ad765_row2_col3, #T_ad765_row2_col4, #T_ad765_row2_col5, #T_ad765_row2_col6, #T_ad765_row3_col0, #T_ad765_row3_col1, #T_ad765_row3_col2, #T_ad765_row3_col3, #T_ad765_row3_col4, #T_ad765_row3_col5, #T_ad765_row3_col6, #T_ad765_row4_col0, #T_ad765_row4_col1, #T_ad765_row4_col2, #T_ad765_row4_col3, #T_ad765_row4_col4, #T_ad765_row4_col5, #T_ad765_row4_col6, #T_ad765_row5_col0, #T_ad765_row5_col1, #T_ad765_row5_col2, #T_ad765_row5_col3, #T_ad765_row5_col4, #T_ad765_row5_col5, #T_ad765_row5_col6, #T_ad765_row6_col0, #T_ad765_row6_col1, #T_ad765_row6_col2, #T_ad765_row6_col3, #T_ad765_row6_col4, #T_ad765_row6_col5, #T_ad765_row6_col6, #T_ad765_row7_col0, #T_ad765_row7_col1, #T_ad765_row7_col2, #T_ad765_row7_col3, #T_ad765_row7_col4, #T_ad765_row7_col5, #T_ad765_row7_col6, #T_ad765_row8_col0, #T_ad765_row8_col1, #T_ad765_row8_col2, #T_ad765_row8_col3, #T_ad765_row8_col4, #T_ad765_row8_col5, #T_ad765_row8_col6, #T_ad765_row9_col0, #T_ad765_row9_col1, #T_ad765_row9_col2, #T_ad765_row9_col3, #T_ad765_row9_col4, #T_ad765_row9_col5, #T_ad765_row9_col6, #T_ad765_row10_col0, #T_ad765_row10_col1, #T_ad765_row10_col2, #T_ad765_row10_col3, #T_ad765_row10_col4, #T_ad765_row10_col5, #T_ad765_row10_col6, #T_ad765_row11_col0, #T_ad765_row11_col1, #T_ad765_row11_col2, #T_ad765_row11_col3, #T_ad765_row11_col4, #T_ad765_row11_col5, #T_ad765_row11_col6, #T_ad765_row12_col0, #T_ad765_row12_col1, #T_ad765_row12_col2, #T_ad765_row12_col3, #T_ad765_row12_col4, #T_ad765_row12_col5, #T_ad765_row12_col6, #T_ad765_row13_col0, #T_ad765_row13_col1, #T_ad765_row13_col2, #T_ad765_row13_col3, #T_ad765_row13_col4, #T_ad765_row13_col5, #T_ad765_row13_col6, #T_ad765_row14_col0, #T_ad765_row14_col1, #T_ad765_row14_col2, #T_ad765_row14_col3, #T_ad765_row14_col4, #T_ad765_row14_col5, #T_ad765_row14_col6, #T_ad765_row15_col0, #T_ad765_row15_col1, #T_ad765_row15_col2, #T_ad765_row15_col3, #T_ad765_row15_col4, #T_ad765_row15_col5, #T_ad765_row15_col6, #T_ad765_row16_col0, #T_ad765_row16_col1, #T_ad765_row16_col2, #T_ad765_row16_col3, #T_ad765_row16_col4, #T_ad765_row16_col5, #T_ad765_row16_col6, #T_ad765_row17_col0, #T_ad765_row17_col1, #T_ad765_row17_col2, #T_ad765_row17_col3, #T_ad765_row17_col4, #T_ad765_row17_col5, #T_ad765_row17_col6, #T_ad765_row18_col0, #T_ad765_row18_col1, #T_ad765_row18_col2, #T_ad765_row18_col3, #T_ad765_row18_col4, #T_ad765_row18_col5, #T_ad765_row18_col6 {\n  text-align: left;\n}\n#T_ad765_row0_col1, #T_ad765_row0_col2, #T_ad765_row0_col3, #T_ad765_row0_col4, #T_ad765_row0_col5, #T_ad765_row0_col6 {\n  text-align: left;\n  background-color: yellow;\n}\n#T_ad765_row0_col7, #T_ad765_row1_col7, #T_ad765_row2_col7, #T_ad765_row3_col7, #T_ad765_row4_col7, #T_ad765_row5_col7, #T_ad765_row6_col7, #T_ad765_row7_col7, #T_ad765_row8_col7, #T_ad765_row9_col7, #T_ad765_row10_col7, #T_ad765_row12_col7, #T_ad765_row16_col7, #T_ad765_row17_col7, #T_ad765_row18_col7 {\n  text-align: left;\n  background-color: lightgrey;\n}\n#T_ad765_row11_col7, #T_ad765_row13_col7, #T_ad765_row14_col7, #T_ad765_row15_col7 {\n  text-align: left;\n  background-color: yellow;\n  background-color: lightgrey;\n}\n</style>\n<table id=\"T_ad765\">\n  <thead>\n    <tr>\n      <th class=\"blank level0\" >&nbsp;</th>\n      <th id=\"T_ad765_level0_col0\" class=\"col_heading level0 col0\" >Model</th>\n      <th id=\"T_ad765_level0_col1\" class=\"col_heading level0 col1\" >MAE</th>\n      <th id=\"T_ad765_level0_col2\" class=\"col_heading level0 col2\" >MSE</th>\n      <th id=\"T_ad765_level0_col3\" class=\"col_heading level0 col3\" >RMSE</th>\n      <th id=\"T_ad765_level0_col4\" class=\"col_heading level0 col4\" >R2</th>\n      <th id=\"T_ad765_level0_col5\" class=\"col_heading level0 col5\" >RMSLE</th>\n      <th id=\"T_ad765_level0_col6\" class=\"col_heading level0 col6\" >MAPE</th>\n      <th id=\"T_ad765_level0_col7\" class=\"col_heading level0 col7\" >TT (Sec)</th>\n    </tr>\n  </thead>\n  <tbody>\n    <tr>\n      <th id=\"T_ad765_level0_row0\" class=\"row_heading level0 row0\" >omp</th>\n      <td id=\"T_ad765_row0_col0\" class=\"data row0 col0\" >Orthogonal Matching Pursuit</td>\n      <td id=\"T_ad765_row0_col1\" class=\"data row0 col1\" >918615.8033</td>\n      <td id=\"T_ad765_row0_col2\" class=\"data row0 col2\" >1338910415786.4744</td>\n      <td id=\"T_ad765_row0_col3\" class=\"data row0 col3\" >1137649.8992</td>\n      <td id=\"T_ad765_row0_col4\" class=\"data row0 col4\" >-1.2044</td>\n      <td id=\"T_ad765_row0_col5\" class=\"data row0 col5\" >0.0594</td>\n      <td id=\"T_ad765_row0_col6\" class=\"data row0 col6\" >0.0482</td>\n      <td id=\"T_ad765_row0_col7\" class=\"data row0 col7\" >0.0100</td>\n    </tr>\n    <tr>\n      <th id=\"T_ad765_level0_row1\" class=\"row_heading level0 row1\" >gbr</th>\n      <td id=\"T_ad765_row1_col0\" class=\"data row1 col0\" >Gradient Boosting Regressor</td>\n      <td id=\"T_ad765_row1_col1\" class=\"data row1 col1\" >1187970.4521</td>\n      <td id=\"T_ad765_row1_col2\" class=\"data row1 col2\" >2383309312649.1689</td>\n      <td id=\"T_ad765_row1_col3\" class=\"data row1 col3\" >1434753.5652</td>\n      <td id=\"T_ad765_row1_col4\" class=\"data row1 col4\" >-1.3739</td>\n      <td id=\"T_ad765_row1_col5\" class=\"data row1 col5\" >0.0750</td>\n      <td id=\"T_ad765_row1_col6\" class=\"data row1 col6\" >0.0602</td>\n      <td id=\"T_ad765_row1_col7\" class=\"data row1 col7\" >0.0200</td>\n    </tr>\n    <tr>\n      <th id=\"T_ad765_level0_row2\" class=\"row_heading level0 row2\" >xgboost</th>\n      <td id=\"T_ad765_row2_col0\" class=\"data row2 col0\" >Extreme Gradient Boosting</td>\n      <td id=\"T_ad765_row2_col1\" class=\"data row2 col1\" >1265008.8125</td>\n      <td id=\"T_ad765_row2_col2\" class=\"data row2 col2\" >2602695502506.6665</td>\n      <td id=\"T_ad765_row2_col3\" class=\"data row2 col3\" >1540012.6250</td>\n      <td id=\"T_ad765_row2_col4\" class=\"data row2 col4\" >-2.2716</td>\n      <td id=\"T_ad765_row2_col5\" class=\"data row2 col5\" >0.0823</td>\n      <td id=\"T_ad765_row2_col6\" class=\"data row2 col6\" >0.0657</td>\n      <td id=\"T_ad765_row2_col7\" class=\"data row2 col7\" >0.1033</td>\n    </tr>\n    <tr>\n      <th id=\"T_ad765_level0_row3\" class=\"row_heading level0 row3\" >et</th>\n      <td id=\"T_ad765_row3_col0\" class=\"data row3 col0\" >Extra Trees Regressor</td>\n      <td id=\"T_ad765_row3_col1\" class=\"data row3 col1\" >1305147.6039</td>\n      <td id=\"T_ad765_row3_col2\" class=\"data row3 col2\" >2698809861624.7930</td>\n      <td id=\"T_ad765_row3_col3\" class=\"data row3 col3\" >1571322.0407</td>\n      <td id=\"T_ad765_row3_col4\" class=\"data row3 col4\" >-1.7749</td>\n      <td id=\"T_ad765_row3_col5\" class=\"data row3 col5\" >0.0815</td>\n      <td id=\"T_ad765_row3_col6\" class=\"data row3 col6\" >0.0658</td>\n      <td id=\"T_ad765_row3_col7\" class=\"data row3 col7\" >0.0567</td>\n    </tr>\n    <tr>\n      <th id=\"T_ad765_level0_row4\" class=\"row_heading level0 row4\" >rf</th>\n      <td id=\"T_ad765_row4_col0\" class=\"data row4 col0\" >Random Forest Regressor</td>\n      <td id=\"T_ad765_row4_col1\" class=\"data row4 col1\" >1307334.2222</td>\n      <td id=\"T_ad765_row4_col2\" class=\"data row4 col2\" >2794813279047.8008</td>\n      <td id=\"T_ad765_row4_col3\" class=\"data row4 col3\" >1559776.3509</td>\n      <td id=\"T_ad765_row4_col4\" class=\"data row4 col4\" >-1.7367</td>\n      <td id=\"T_ad765_row4_col5\" class=\"data row4 col5\" >0.0814</td>\n      <td id=\"T_ad765_row4_col6\" class=\"data row4 col6\" >0.0661</td>\n      <td id=\"T_ad765_row4_col7\" class=\"data row4 col7\" >0.0933</td>\n    </tr>\n    <tr>\n      <th id=\"T_ad765_level0_row5\" class=\"row_heading level0 row5\" >dt</th>\n      <td id=\"T_ad765_row5_col0\" class=\"data row5 col0\" >Decision Tree Regressor</td>\n      <td id=\"T_ad765_row5_col1\" class=\"data row5 col1\" >1368162.3148</td>\n      <td id=\"T_ad765_row5_col2\" class=\"data row5 col2\" >3223851537432.6484</td>\n      <td id=\"T_ad765_row5_col3\" class=\"data row5 col3\" >1707460.7853</td>\n      <td id=\"T_ad765_row5_col4\" class=\"data row5 col4\" >-2.7520</td>\n      <td id=\"T_ad765_row5_col5\" class=\"data row5 col5\" >0.0904</td>\n      <td id=\"T_ad765_row5_col6\" class=\"data row5 col6\" >0.0707</td>\n      <td id=\"T_ad765_row5_col7\" class=\"data row5 col7\" >0.0133</td>\n    </tr>\n    <tr>\n      <th id=\"T_ad765_level0_row6\" class=\"row_heading level0 row6\" >ada</th>\n      <td id=\"T_ad765_row6_col0\" class=\"data row6 col0\" >AdaBoost Regressor</td>\n      <td id=\"T_ad765_row6_col1\" class=\"data row6 col1\" >1454513.9964</td>\n      <td id=\"T_ad765_row6_col2\" class=\"data row6 col2\" >3252586875028.9321</td>\n      <td id=\"T_ad765_row6_col3\" class=\"data row6 col3\" >1722363.5106</td>\n      <td id=\"T_ad765_row6_col4\" class=\"data row6 col4\" >-2.2919</td>\n      <td id=\"T_ad765_row6_col5\" class=\"data row6 col5\" >0.0901</td>\n      <td id=\"T_ad765_row6_col6\" class=\"data row6 col6\" >0.0734</td>\n      <td id=\"T_ad765_row6_col7\" class=\"data row6 col7\" >0.0267</td>\n    </tr>\n    <tr>\n      <th id=\"T_ad765_level0_row7\" class=\"row_heading level0 row7\" >knn</th>\n      <td id=\"T_ad765_row7_col0\" class=\"data row7 col0\" >K Neighbors Regressor</td>\n      <td id=\"T_ad765_row7_col1\" class=\"data row7 col1\" >1553490.8750</td>\n      <td id=\"T_ad765_row7_col2\" class=\"data row7 col2\" >3626842740053.3335</td>\n      <td id=\"T_ad765_row7_col3\" class=\"data row7 col3\" >1789273.5000</td>\n      <td id=\"T_ad765_row7_col4\" class=\"data row7 col4\" >-2.3538</td>\n      <td id=\"T_ad765_row7_col5\" class=\"data row7 col5\" >0.0936</td>\n      <td id=\"T_ad765_row7_col6\" class=\"data row7 col6\" >0.0776</td>\n      <td id=\"T_ad765_row7_col7\" class=\"data row7 col7\" >0.0100</td>\n    </tr>\n    <tr>\n      <th id=\"T_ad765_level0_row8\" class=\"row_heading level0 row8\" >par</th>\n      <td id=\"T_ad765_row8_col0\" class=\"data row8 col0\" >Passive Aggressive Regressor</td>\n      <td id=\"T_ad765_row8_col1\" class=\"data row8 col1\" >1587928.1940</td>\n      <td id=\"T_ad765_row8_col2\" class=\"data row8 col2\" >17592402770572.4492</td>\n      <td id=\"T_ad765_row8_col3\" class=\"data row8 col3\" >3223756.0476</td>\n      <td id=\"T_ad765_row8_col4\" class=\"data row8 col4\" >-12.8155</td>\n      <td id=\"T_ad765_row8_col5\" class=\"data row8 col5\" >0.1143</td>\n      <td id=\"T_ad765_row8_col6\" class=\"data row8 col6\" >0.0786</td>\n      <td id=\"T_ad765_row8_col7\" class=\"data row8 col7\" >0.0100</td>\n    </tr>\n    <tr>\n      <th id=\"T_ad765_level0_row9\" class=\"row_heading level0 row9\" >lightgbm</th>\n      <td id=\"T_ad765_row9_col0\" class=\"data row9 col0\" >Light Gradient Boosting Machine</td>\n      <td id=\"T_ad765_row9_col1\" class=\"data row9 col1\" >1617299.0338</td>\n      <td id=\"T_ad765_row9_col2\" class=\"data row9 col2\" >4279488391468.3335</td>\n      <td id=\"T_ad765_row9_col3\" class=\"data row9 col3\" >1859547.9476</td>\n      <td id=\"T_ad765_row9_col4\" class=\"data row9 col4\" >-2.7861</td>\n      <td id=\"T_ad765_row9_col5\" class=\"data row9 col5\" >0.0980</td>\n      <td id=\"T_ad765_row9_col6\" class=\"data row9 col6\" >0.0808</td>\n      <td id=\"T_ad765_row9_col7\" class=\"data row9 col7\" >0.0200</td>\n    </tr>\n    <tr>\n      <th id=\"T_ad765_level0_row10\" class=\"row_heading level0 row10\" >br</th>\n      <td id=\"T_ad765_row10_col0\" class=\"data row10 col0\" >Bayesian Ridge</td>\n      <td id=\"T_ad765_row10_col1\" class=\"data row10 col1\" >2204978.3389</td>\n      <td id=\"T_ad765_row10_col2\" class=\"data row10 col2\" >40706033726465.6953</td>\n      <td id=\"T_ad765_row10_col3\" class=\"data row10 col3\" >4776898.7007</td>\n      <td id=\"T_ad765_row10_col4\" class=\"data row10 col4\" >-30.6297</td>\n      <td id=\"T_ad765_row10_col5\" class=\"data row10 col5\" >0.1566</td>\n      <td id=\"T_ad765_row10_col6\" class=\"data row10 col6\" >0.1073</td>\n      <td id=\"T_ad765_row10_col7\" class=\"data row10 col7\" >0.0133</td>\n    </tr>\n    <tr>\n      <th id=\"T_ad765_level0_row11\" class=\"row_heading level0 row11\" >dummy</th>\n      <td id=\"T_ad765_row11_col0\" class=\"data row11 col0\" >Dummy Regressor</td>\n      <td id=\"T_ad765_row11_col1\" class=\"data row11 col1\" >2359466.7708</td>\n      <td id=\"T_ad765_row11_col2\" class=\"data row11 col2\" >8201490857984.0000</td>\n      <td id=\"T_ad765_row11_col3\" class=\"data row11 col3\" >2538984.8958</td>\n      <td id=\"T_ad765_row11_col4\" class=\"data row11 col4\" >-5.7840</td>\n      <td id=\"T_ad765_row11_col5\" class=\"data row11 col5\" >0.1349</td>\n      <td id=\"T_ad765_row11_col6\" class=\"data row11 col6\" >0.1158</td>\n      <td id=\"T_ad765_row11_col7\" class=\"data row11 col7\" >0.0067</td>\n    </tr>\n    <tr>\n      <th id=\"T_ad765_level0_row12\" class=\"row_heading level0 row12\" >huber</th>\n      <td id=\"T_ad765_row12_col0\" class=\"data row12 col0\" >Huber Regressor</td>\n      <td id=\"T_ad765_row12_col1\" class=\"data row12 col1\" >2487036.0936</td>\n      <td id=\"T_ad765_row12_col2\" class=\"data row12 col2\" >78137171033894.3594</td>\n      <td id=\"T_ad765_row12_col3\" class=\"data row12 col3\" >6426581.9189</td>\n      <td id=\"T_ad765_row12_col4\" class=\"data row12 col4\" >-66.6053</td>\n      <td id=\"T_ad765_row12_col5\" class=\"data row12 col5\" >0.2043</td>\n      <td id=\"T_ad765_row12_col6\" class=\"data row12 col6\" >0.1241</td>\n      <td id=\"T_ad765_row12_col7\" class=\"data row12 col7\" >0.0233</td>\n    </tr>\n    <tr>\n      <th id=\"T_ad765_level0_row13\" class=\"row_heading level0 row13\" >en</th>\n      <td id=\"T_ad765_row13_col0\" class=\"data row13 col0\" >Elastic Net</td>\n      <td id=\"T_ad765_row13_col1\" class=\"data row13 col1\" >2691779.0208</td>\n      <td id=\"T_ad765_row13_col2\" class=\"data row13 col2\" >68847921659904.0000</td>\n      <td id=\"T_ad765_row13_col3\" class=\"data row13 col3\" >6146546.9167</td>\n      <td id=\"T_ad765_row13_col4\" class=\"data row13 col4\" >-60.5056</td>\n      <td id=\"T_ad765_row13_col5\" class=\"data row13 col5\" >0.1824</td>\n      <td id=\"T_ad765_row13_col6\" class=\"data row13 col6\" >0.1376</td>\n      <td id=\"T_ad765_row13_col7\" class=\"data row13 col7\" >0.0067</td>\n    </tr>\n    <tr>\n      <th id=\"T_ad765_level0_row14\" class=\"row_heading level0 row14\" >lasso</th>\n      <td id=\"T_ad765_row14_col0\" class=\"data row14 col0\" >Lasso Regression</td>\n      <td id=\"T_ad765_row14_col1\" class=\"data row14 col1\" >2817388.6250</td>\n      <td id=\"T_ad765_row14_col2\" class=\"data row14 col2\" >138426629357568.0000</td>\n      <td id=\"T_ad765_row14_col3\" class=\"data row14 col3\" >7619898.1042</td>\n      <td id=\"T_ad765_row14_col4\" class=\"data row14 col4\" >-106.5755</td>\n      <td id=\"T_ad765_row14_col5\" class=\"data row14 col5\" >0.1765</td>\n      <td id=\"T_ad765_row14_col6\" class=\"data row14 col6\" >0.1361</td>\n      <td id=\"T_ad765_row14_col7\" class=\"data row14 col7\" >0.0067</td>\n    </tr>\n    <tr>\n      <th id=\"T_ad765_level0_row15\" class=\"row_heading level0 row15\" >llar</th>\n      <td id=\"T_ad765_row15_col0\" class=\"data row15 col0\" >Lasso Least Angle Regression</td>\n      <td id=\"T_ad765_row15_col1\" class=\"data row15 col1\" >3000723.6059</td>\n      <td id=\"T_ad765_row15_col2\" class=\"data row15 col2\" >139895205153071.8906</td>\n      <td id=\"T_ad765_row15_col3\" class=\"data row15 col3\" >7994152.9603</td>\n      <td id=\"T_ad765_row15_col4\" class=\"data row15 col4\" >-110.8652</td>\n      <td id=\"T_ad765_row15_col5\" class=\"data row15 col5\" >0.2038</td>\n      <td id=\"T_ad765_row15_col6\" class=\"data row15 col6\" >0.1466</td>\n      <td id=\"T_ad765_row15_col7\" class=\"data row15 col7\" >0.0067</td>\n    </tr>\n    <tr>\n      <th id=\"T_ad765_level0_row16\" class=\"row_heading level0 row16\" >ridge</th>\n      <td id=\"T_ad765_row16_col0\" class=\"data row16 col0\" >Ridge Regression</td>\n      <td id=\"T_ad765_row16_col1\" class=\"data row16 col1\" >3101848.9167</td>\n      <td id=\"T_ad765_row16_col2\" class=\"data row16 col2\" >91779769368576.0000</td>\n      <td id=\"T_ad765_row16_col3\" class=\"data row16 col3\" >7150258.7083</td>\n      <td id=\"T_ad765_row16_col4\" class=\"data row16 col4\" >-81.5084</td>\n      <td id=\"T_ad765_row16_col5\" class=\"data row16 col5\" >0.2079</td>\n      <td id=\"T_ad765_row16_col6\" class=\"data row16 col6\" >0.1581</td>\n      <td id=\"T_ad765_row16_col7\" class=\"data row16 col7\" >0.0133</td>\n    </tr>\n    <tr>\n      <th id=\"T_ad765_level0_row17\" class=\"row_heading level0 row17\" >lr</th>\n      <td id=\"T_ad765_row17_col0\" class=\"data row17 col0\" >Linear Regression</td>\n      <td id=\"T_ad765_row17_col1\" class=\"data row17 col1\" >3700453.2917</td>\n      <td id=\"T_ad765_row17_col2\" class=\"data row17 col2\" >147326566662144.0000</td>\n      <td id=\"T_ad765_row17_col3\" class=\"data row17 col3\" >8876198.7708</td>\n      <td id=\"T_ad765_row17_col4\" class=\"data row17 col4\" >-130.0306</td>\n      <td id=\"T_ad765_row17_col5\" class=\"data row17 col5\" >0.2452</td>\n      <td id=\"T_ad765_row17_col6\" class=\"data row17 col6\" >0.1875</td>\n      <td id=\"T_ad765_row17_col7\" class=\"data row17 col7\" >0.0100</td>\n    </tr>\n    <tr>\n      <th id=\"T_ad765_level0_row18\" class=\"row_heading level0 row18\" >lar</th>\n      <td id=\"T_ad765_row18_col0\" class=\"data row18 col0\" >Least Angle Regression</td>\n      <td id=\"T_ad765_row18_col1\" class=\"data row18 col1\" >9710731179685590.0000</td>\n      <td id=\"T_ad765_row18_col2\" class=\"data row18 col2\" >496933991282673728076834186199040.0000</td>\n      <td id=\"T_ad765_row18_col3\" class=\"data row18 col3\" >12870301661981638.0000</td>\n      <td id=\"T_ad765_row18_col4\" class=\"data row18 col4\" >-1295133746782119133184.0000</td>\n      <td id=\"T_ad765_row18_col5\" class=\"data row18 col5\" >7.4570</td>\n      <td id=\"T_ad765_row18_col6\" class=\"data row18 col6\" >574275997.9307</td>\n      <td id=\"T_ad765_row18_col7\" class=\"data row18 col7\" >0.0100</td>\n    </tr>\n  </tbody>\n</table>\n"
     },
     "metadata": {},
     "output_type": "display_data"
    },
    {
     "name": "stdout",
     "output_type": "stream",
     "text": [
      "<class 'sklearn.linear_model._omp.OrthogonalMatchingPursuit'>\n"
     ]
    }
   ],
   "source": [
    "# ------------------------------------------------------------------------------------- #\n",
    "# re-run the auto ml with only the important features\n",
    "# ------------------------------------------------------------------------------------- #\n",
    "\n",
    "\n",
    "# Here we need to figure out which set of features we want to use\n",
    "# ml_features or corr_features\n",
    "feature_cols = ml_feature_cols\n",
    "#feature_cols = corr_feature_cols\n",
    "\n",
    "feature_cols = ml_feature_cols\n",
    "keeps = ['Calendar Date', target_col]+feature_cols\n",
    "train_df = train_df[keeps]\n",
    "test_df = test_df[keeps]\n",
    "comb_df = comb_df[keeps]\n",
    "\n",
    "best = models.run_auto_ml(train_df, test_df, target_col, feature_cols, False, ml_criteria)"
   ],
   "metadata": {
    "collapsed": false,
    "pycharm": {
     "name": "#%%\n"
    }
   }
  },
  {
   "cell_type": "code",
   "execution_count": 52,
   "outputs": [
    {
     "data": {
      "application/vnd.plotly.v1+json": {
       "data": [
        {
         "hovertemplate": "variable=Total 401k<br>Date=%{x}<br>value=%{y}<extra></extra>",
         "legendgroup": "Total 401k",
         "line": {
          "color": "#636efa",
          "dash": "solid"
         },
         "marker": {
          "symbol": "circle"
         },
         "mode": "lines",
         "name": "Total 401k",
         "orientation": "v",
         "showlegend": true,
         "x": [
          "2014-06-01T00:00:00",
          "2014-07-01T00:00:00",
          "2014-08-01T00:00:00",
          "2014-09-01T00:00:00",
          "2014-10-01T00:00:00",
          "2014-11-01T00:00:00",
          "2014-12-01T00:00:00",
          "2015-01-01T00:00:00",
          "2015-02-01T00:00:00",
          "2015-03-01T00:00:00",
          "2015-04-01T00:00:00",
          "2015-05-01T00:00:00",
          "2015-06-01T00:00:00",
          "2015-07-01T00:00:00",
          "2015-08-01T00:00:00",
          "2015-09-01T00:00:00",
          "2015-10-01T00:00:00",
          "2015-11-01T00:00:00",
          "2015-12-01T00:00:00",
          "2016-01-01T00:00:00",
          "2016-02-01T00:00:00",
          "2016-03-01T00:00:00",
          "2016-04-01T00:00:00",
          "2016-05-01T00:00:00",
          "2016-06-01T00:00:00",
          "2016-07-01T00:00:00",
          "2016-08-01T00:00:00",
          "2016-09-01T00:00:00",
          "2016-10-01T00:00:00",
          "2016-11-01T00:00:00",
          "2016-12-01T00:00:00",
          "2017-01-01T00:00:00",
          "2017-02-01T00:00:00",
          "2017-03-01T00:00:00",
          "2017-04-01T00:00:00",
          "2017-05-01T00:00:00",
          "2017-06-01T00:00:00",
          "2017-07-01T00:00:00",
          "2017-08-01T00:00:00",
          "2017-09-01T00:00:00",
          "2017-10-01T00:00:00",
          "2017-11-01T00:00:00",
          "2017-12-01T00:00:00",
          "2018-01-01T00:00:00",
          "2018-02-01T00:00:00",
          "2018-03-01T00:00:00",
          "2018-04-01T00:00:00",
          "2018-05-01T00:00:00",
          "2018-06-01T00:00:00",
          "2018-07-01T00:00:00",
          "2018-08-01T00:00:00",
          "2018-09-01T00:00:00",
          "2018-10-01T00:00:00",
          "2018-11-01T00:00:00",
          "2018-12-01T00:00:00",
          "2019-01-01T00:00:00",
          "2019-02-01T00:00:00",
          "2019-03-01T00:00:00",
          "2019-04-01T00:00:00",
          "2019-05-01T00:00:00",
          "2019-06-01T00:00:00",
          "2019-07-01T00:00:00",
          "2019-08-01T00:00:00",
          "2019-09-01T00:00:00",
          "2019-10-01T00:00:00",
          "2019-11-01T00:00:00",
          "2019-12-01T00:00:00",
          "2020-01-01T00:00:00",
          "2020-02-01T00:00:00",
          "2020-03-01T00:00:00",
          "2020-04-01T00:00:00",
          "2020-05-01T00:00:00",
          "2020-06-01T00:00:00",
          "2020-07-01T00:00:00",
          "2020-08-01T00:00:00",
          "2020-09-01T00:00:00",
          "2020-10-01T00:00:00",
          "2020-11-01T00:00:00",
          "2020-12-01T00:00:00",
          "2021-01-01T00:00:00",
          "2021-02-01T00:00:00",
          "2021-03-01T00:00:00",
          "2021-04-01T00:00:00",
          "2021-05-01T00:00:00"
         ],
         "xaxis": "x",
         "y": [
          1.4883415E7,
          1.507177E7,
          1.4783931E7,
          1.70753E7,
          1.8252955E7,
          1.5516157E7,
          2.0015898E7,
          1.7715332E7,
          1.6887109E7,
          1.6015058E7,
          1.7825264E7,
          1.6920951E7,
          1.5124413E7,
          1.6058053E7,
          1.5469895E7,
          1.6687016E7,
          1.5324999E7,
          1.5482325E7,
          1.6374782E7,
          1.5947797E7,
          1.5821561E7,
          1.6032217E7,
          1.6630537E7,
          1.6279134E7,
          1.633484E7,
          1.6614645E7,
          1.701169E7,
          1.6626889E7,
          1.72583E7,
          1.6832332E7,
          1.6864889E7,
          1.7480827E7,
          1.7040416E7,
          1.767524E7,
          1.7885987E7,
          1.7870924E7,
          1.8044317E7,
          1.8493593E7,
          1.77495E7,
          1.9403341E7,
          1.8916146E7,
          1.8350152E7,
          1.898114E7,
          1.9607871E7,
          1.8349855E7,
          1.9646009E7,
          1.9233113E7,
          1.8909694E7,
          1.9833195E7,
          1.9847062E7,
          2.0122392E7,
          2.2808778E7,
          2.0309331E7,
          1.9805587E7,
          1.9978109E7,
          1.9516714E7,
          1.949719E7,
          2.0250081E7,
          2.0648711E7,
          2.0805272E7,
          2.0591156E7,
          2.1512687E7,
          2.1062547E7,
          2.4084523E7,
          2.1289253E7,
          2.199031E7,
          2.1884534E7,
          2.2501494E7,
          2.2353183E7,
          2.1749496E7,
          2.0519508E7,
          2.2347344E7,
          2.0843393E7,
          2.2352127E7,
          2.1944199E7,
          2.4630413E7,
          2.1963794E7,
          2.2231041E7,
          2.3311415E7,
          2.3143324E7,
          2.358389E7,
          2.4032102E7,
          2.3829965E7,
          2.3646057E7
         ],
         "yaxis": "y",
         "type": "scatter"
        },
        {
         "hovertemplate": "variable=Total 401k - ML Predicted<br>Date=%{x}<br>value=%{y}<extra></extra>",
         "legendgroup": "Total 401k - ML Predicted",
         "line": {
          "color": "#EF553B",
          "dash": "solid"
         },
         "marker": {
          "symbol": "circle"
         },
         "mode": "lines",
         "name": "Total 401k - ML Predicted",
         "orientation": "v",
         "showlegend": true,
         "x": [
          "2014-06-01T00:00:00",
          "2014-07-01T00:00:00",
          "2014-08-01T00:00:00",
          "2014-09-01T00:00:00",
          "2014-10-01T00:00:00",
          "2014-11-01T00:00:00",
          "2014-12-01T00:00:00",
          "2015-01-01T00:00:00",
          "2015-02-01T00:00:00",
          "2015-03-01T00:00:00",
          "2015-04-01T00:00:00",
          "2015-05-01T00:00:00",
          "2015-06-01T00:00:00",
          "2015-07-01T00:00:00",
          "2015-08-01T00:00:00",
          "2015-09-01T00:00:00",
          "2015-10-01T00:00:00",
          "2015-11-01T00:00:00",
          "2015-12-01T00:00:00",
          "2016-01-01T00:00:00",
          "2016-02-01T00:00:00",
          "2016-03-01T00:00:00",
          "2016-04-01T00:00:00",
          "2016-05-01T00:00:00",
          "2016-06-01T00:00:00",
          "2016-07-01T00:00:00",
          "2016-08-01T00:00:00",
          "2016-09-01T00:00:00",
          "2016-10-01T00:00:00",
          "2016-11-01T00:00:00",
          "2016-12-01T00:00:00",
          "2017-01-01T00:00:00",
          "2017-02-01T00:00:00",
          "2017-03-01T00:00:00",
          "2017-04-01T00:00:00",
          "2017-05-01T00:00:00",
          "2017-06-01T00:00:00",
          "2017-07-01T00:00:00",
          "2017-08-01T00:00:00",
          "2017-09-01T00:00:00",
          "2017-10-01T00:00:00",
          "2017-11-01T00:00:00",
          "2017-12-01T00:00:00",
          "2018-01-01T00:00:00",
          "2018-02-01T00:00:00",
          "2018-03-01T00:00:00",
          "2018-04-01T00:00:00",
          "2018-05-01T00:00:00",
          "2018-06-01T00:00:00",
          "2018-07-01T00:00:00",
          "2018-08-01T00:00:00",
          "2018-09-01T00:00:00",
          "2018-10-01T00:00:00",
          "2018-11-01T00:00:00",
          "2018-12-01T00:00:00",
          "2019-01-01T00:00:00",
          "2019-02-01T00:00:00",
          "2019-03-01T00:00:00",
          "2019-04-01T00:00:00",
          "2019-05-01T00:00:00",
          "2019-06-01T00:00:00",
          "2019-07-01T00:00:00",
          "2019-08-01T00:00:00",
          "2019-09-01T00:00:00",
          "2019-10-01T00:00:00",
          "2019-11-01T00:00:00",
          "2019-12-01T00:00:00",
          "2020-01-01T00:00:00",
          "2020-02-01T00:00:00",
          "2020-03-01T00:00:00",
          "2020-04-01T00:00:00",
          "2020-05-01T00:00:00",
          "2020-06-01T00:00:00",
          "2020-07-01T00:00:00",
          "2020-08-01T00:00:00",
          "2020-09-01T00:00:00",
          "2020-10-01T00:00:00",
          "2020-11-01T00:00:00",
          "2020-12-01T00:00:00",
          "2021-01-01T00:00:00",
          "2021-02-01T00:00:00",
          "2021-03-01T00:00:00",
          "2021-04-01T00:00:00",
          "2021-05-01T00:00:00"
         ],
         "xaxis": "x",
         "y": [
          1.5467645819364188E7,
          1.6027429165427549E7,
          1.5682937286905302E7,
          1.700464088578282E7,
          1.5982763475179685E7,
          1.595922039421218E7,
          1.950213033220078E7,
          1.6068410091015397E7,
          1.6159336399454737E7,
          1.6493561622983772E7,
          1.6599447505866451E7,
          1.638230697228458E7,
          1.6378293950731216E7,
          1.6908475729042314E7,
          1.5653266994512668E7,
          1.7155320188238136E7,
          1.5926517157392947E7,
          1.62510955315212E7,
          1.6079700747413136E7,
          1.5587170056161007E7,
          1.5306279661794016E7,
          1.584337693273487E7,
          1.6468540233673586E7,
          1.6166487065766752E7,
          1.6224763672678083E7,
          1.6779945075279415E7,
          1.6929271732419472E7,
          1.751458945990528E7,
          1.7160612760033622E7,
          1.6601927487223478E7,
          1.7082805143320538E7,
          1.7611761445881158E7,
          1.761760550801078E7,
          1.780254168783924E7,
          1.7950426590745986E7,
          1.7929189653267525E7,
          1.8168553110228047E7,
          1.848279027479686E7,
          1.844997580711717E7,
          1.987759746301861E7,
          1.907183523214037E7,
          1.9143258666826054E7,
          1.9328071743472695E7,
          2.0334567672450826E7,
          1.9669099653018206E7,
          1.9521554052928552E7,
          1.954741828435953E7,
          1.9670897708103053E7,
          1.9956577157326512E7,
          2.0333769156672638E7,
          2.0504116179685973E7,
          2.2295647064415798E7,
          2.0321381285319373E7,
          1.9748243715119928E7,
          1.88502126483879E7,
          1.927657645962274E7,
          1.9992992581008956E7,
          2.0212946805381797E7,
          2.0974778768358313E7,
          2.0531347486794062E7,
          2.074167536461842E7,
          2.1347864683402807E7,
          2.046978640234699E7,
          2.2838061733489677E7,
          2.104305664340444E7,
          2.1791127600102484E7,
          2.1300135174070165E7,
          2.3770671161904976E7,
          2.3128364310875557E7,
          1.9428691207278207E7,
          1.954096567081411E7,
          2.076171001122915E7,
          2.1834483162692398E7,
          2.288230489660602E7,
          2.359192282088639E7,
          2.4588525231942132E7,
          2.3620517837891176E7,
          2.428515504341439E7,
          2.5129246636451274E7,
          2.6934353792240657E7,
          2.6454096411211215E7,
          2.485074373911073E7,
          2.762208026353635E7,
          2.7671250689267434E7
         ],
         "yaxis": "y",
         "type": "scatter"
        }
       ],
       "layout": {
        "template": {
         "data": {
          "barpolar": [
           {
            "marker": {
             "line": {
              "color": "white",
              "width": 0.5
             },
             "pattern": {
              "fillmode": "overlay",
              "size": 10,
              "solidity": 0.2
             }
            },
            "type": "barpolar"
           }
          ],
          "bar": [
           {
            "error_x": {
             "color": "#2a3f5f"
            },
            "error_y": {
             "color": "#2a3f5f"
            },
            "marker": {
             "line": {
              "color": "white",
              "width": 0.5
             },
             "pattern": {
              "fillmode": "overlay",
              "size": 10,
              "solidity": 0.2
             }
            },
            "type": "bar"
           }
          ],
          "carpet": [
           {
            "aaxis": {
             "endlinecolor": "#2a3f5f",
             "gridcolor": "#C8D4E3",
             "linecolor": "#C8D4E3",
             "minorgridcolor": "#C8D4E3",
             "startlinecolor": "#2a3f5f"
            },
            "baxis": {
             "endlinecolor": "#2a3f5f",
             "gridcolor": "#C8D4E3",
             "linecolor": "#C8D4E3",
             "minorgridcolor": "#C8D4E3",
             "startlinecolor": "#2a3f5f"
            },
            "type": "carpet"
           }
          ],
          "choropleth": [
           {
            "colorbar": {
             "outlinewidth": 0,
             "ticks": ""
            },
            "type": "choropleth"
           }
          ],
          "contourcarpet": [
           {
            "colorbar": {
             "outlinewidth": 0,
             "ticks": ""
            },
            "type": "contourcarpet"
           }
          ],
          "contour": [
           {
            "colorbar": {
             "outlinewidth": 0,
             "ticks": ""
            },
            "colorscale": [
             [
              0.0,
              "#0d0887"
             ],
             [
              0.1111111111111111,
              "#46039f"
             ],
             [
              0.2222222222222222,
              "#7201a8"
             ],
             [
              0.3333333333333333,
              "#9c179e"
             ],
             [
              0.4444444444444444,
              "#bd3786"
             ],
             [
              0.5555555555555556,
              "#d8576b"
             ],
             [
              0.6666666666666666,
              "#ed7953"
             ],
             [
              0.7777777777777778,
              "#fb9f3a"
             ],
             [
              0.8888888888888888,
              "#fdca26"
             ],
             [
              1.0,
              "#f0f921"
             ]
            ],
            "type": "contour"
           }
          ],
          "heatmapgl": [
           {
            "colorbar": {
             "outlinewidth": 0,
             "ticks": ""
            },
            "colorscale": [
             [
              0.0,
              "#0d0887"
             ],
             [
              0.1111111111111111,
              "#46039f"
             ],
             [
              0.2222222222222222,
              "#7201a8"
             ],
             [
              0.3333333333333333,
              "#9c179e"
             ],
             [
              0.4444444444444444,
              "#bd3786"
             ],
             [
              0.5555555555555556,
              "#d8576b"
             ],
             [
              0.6666666666666666,
              "#ed7953"
             ],
             [
              0.7777777777777778,
              "#fb9f3a"
             ],
             [
              0.8888888888888888,
              "#fdca26"
             ],
             [
              1.0,
              "#f0f921"
             ]
            ],
            "type": "heatmapgl"
           }
          ],
          "heatmap": [
           {
            "colorbar": {
             "outlinewidth": 0,
             "ticks": ""
            },
            "colorscale": [
             [
              0.0,
              "#0d0887"
             ],
             [
              0.1111111111111111,
              "#46039f"
             ],
             [
              0.2222222222222222,
              "#7201a8"
             ],
             [
              0.3333333333333333,
              "#9c179e"
             ],
             [
              0.4444444444444444,
              "#bd3786"
             ],
             [
              0.5555555555555556,
              "#d8576b"
             ],
             [
              0.6666666666666666,
              "#ed7953"
             ],
             [
              0.7777777777777778,
              "#fb9f3a"
             ],
             [
              0.8888888888888888,
              "#fdca26"
             ],
             [
              1.0,
              "#f0f921"
             ]
            ],
            "type": "heatmap"
           }
          ],
          "histogram2dcontour": [
           {
            "colorbar": {
             "outlinewidth": 0,
             "ticks": ""
            },
            "colorscale": [
             [
              0.0,
              "#0d0887"
             ],
             [
              0.1111111111111111,
              "#46039f"
             ],
             [
              0.2222222222222222,
              "#7201a8"
             ],
             [
              0.3333333333333333,
              "#9c179e"
             ],
             [
              0.4444444444444444,
              "#bd3786"
             ],
             [
              0.5555555555555556,
              "#d8576b"
             ],
             [
              0.6666666666666666,
              "#ed7953"
             ],
             [
              0.7777777777777778,
              "#fb9f3a"
             ],
             [
              0.8888888888888888,
              "#fdca26"
             ],
             [
              1.0,
              "#f0f921"
             ]
            ],
            "type": "histogram2dcontour"
           }
          ],
          "histogram2d": [
           {
            "colorbar": {
             "outlinewidth": 0,
             "ticks": ""
            },
            "colorscale": [
             [
              0.0,
              "#0d0887"
             ],
             [
              0.1111111111111111,
              "#46039f"
             ],
             [
              0.2222222222222222,
              "#7201a8"
             ],
             [
              0.3333333333333333,
              "#9c179e"
             ],
             [
              0.4444444444444444,
              "#bd3786"
             ],
             [
              0.5555555555555556,
              "#d8576b"
             ],
             [
              0.6666666666666666,
              "#ed7953"
             ],
             [
              0.7777777777777778,
              "#fb9f3a"
             ],
             [
              0.8888888888888888,
              "#fdca26"
             ],
             [
              1.0,
              "#f0f921"
             ]
            ],
            "type": "histogram2d"
           }
          ],
          "histogram": [
           {
            "marker": {
             "pattern": {
              "fillmode": "overlay",
              "size": 10,
              "solidity": 0.2
             }
            },
            "type": "histogram"
           }
          ],
          "mesh3d": [
           {
            "colorbar": {
             "outlinewidth": 0,
             "ticks": ""
            },
            "type": "mesh3d"
           }
          ],
          "parcoords": [
           {
            "line": {
             "colorbar": {
              "outlinewidth": 0,
              "ticks": ""
             }
            },
            "type": "parcoords"
           }
          ],
          "pie": [
           {
            "automargin": true,
            "type": "pie"
           }
          ],
          "scatter3d": [
           {
            "line": {
             "colorbar": {
              "outlinewidth": 0,
              "ticks": ""
             }
            },
            "marker": {
             "colorbar": {
              "outlinewidth": 0,
              "ticks": ""
             }
            },
            "type": "scatter3d"
           }
          ],
          "scattercarpet": [
           {
            "marker": {
             "colorbar": {
              "outlinewidth": 0,
              "ticks": ""
             }
            },
            "type": "scattercarpet"
           }
          ],
          "scattergeo": [
           {
            "marker": {
             "colorbar": {
              "outlinewidth": 0,
              "ticks": ""
             }
            },
            "type": "scattergeo"
           }
          ],
          "scattergl": [
           {
            "marker": {
             "colorbar": {
              "outlinewidth": 0,
              "ticks": ""
             }
            },
            "type": "scattergl"
           }
          ],
          "scattermapbox": [
           {
            "marker": {
             "colorbar": {
              "outlinewidth": 0,
              "ticks": ""
             }
            },
            "type": "scattermapbox"
           }
          ],
          "scatterpolargl": [
           {
            "marker": {
             "colorbar": {
              "outlinewidth": 0,
              "ticks": ""
             }
            },
            "type": "scatterpolargl"
           }
          ],
          "scatterpolar": [
           {
            "marker": {
             "colorbar": {
              "outlinewidth": 0,
              "ticks": ""
             }
            },
            "type": "scatterpolar"
           }
          ],
          "scatter": [
           {
            "fillpattern": {
             "fillmode": "overlay",
             "size": 10,
             "solidity": 0.2
            },
            "type": "scatter"
           }
          ],
          "scatterternary": [
           {
            "marker": {
             "colorbar": {
              "outlinewidth": 0,
              "ticks": ""
             }
            },
            "type": "scatterternary"
           }
          ],
          "surface": [
           {
            "colorbar": {
             "outlinewidth": 0,
             "ticks": ""
            },
            "colorscale": [
             [
              0.0,
              "#0d0887"
             ],
             [
              0.1111111111111111,
              "#46039f"
             ],
             [
              0.2222222222222222,
              "#7201a8"
             ],
             [
              0.3333333333333333,
              "#9c179e"
             ],
             [
              0.4444444444444444,
              "#bd3786"
             ],
             [
              0.5555555555555556,
              "#d8576b"
             ],
             [
              0.6666666666666666,
              "#ed7953"
             ],
             [
              0.7777777777777778,
              "#fb9f3a"
             ],
             [
              0.8888888888888888,
              "#fdca26"
             ],
             [
              1.0,
              "#f0f921"
             ]
            ],
            "type": "surface"
           }
          ],
          "table": [
           {
            "cells": {
             "fill": {
              "color": "#EBF0F8"
             },
             "line": {
              "color": "white"
             }
            },
            "header": {
             "fill": {
              "color": "#C8D4E3"
             },
             "line": {
              "color": "white"
             }
            },
            "type": "table"
           }
          ]
         },
         "layout": {
          "annotationdefaults": {
           "arrowcolor": "#2a3f5f",
           "arrowhead": 0,
           "arrowwidth": 1
          },
          "autotypenumbers": "strict",
          "coloraxis": {
           "colorbar": {
            "outlinewidth": 0,
            "ticks": ""
           }
          },
          "colorscale": {
           "diverging": [
            [
             0,
             "#8e0152"
            ],
            [
             0.1,
             "#c51b7d"
            ],
            [
             0.2,
             "#de77ae"
            ],
            [
             0.3,
             "#f1b6da"
            ],
            [
             0.4,
             "#fde0ef"
            ],
            [
             0.5,
             "#f7f7f7"
            ],
            [
             0.6,
             "#e6f5d0"
            ],
            [
             0.7,
             "#b8e186"
            ],
            [
             0.8,
             "#7fbc41"
            ],
            [
             0.9,
             "#4d9221"
            ],
            [
             1,
             "#276419"
            ]
           ],
           "sequential": [
            [
             0.0,
             "#0d0887"
            ],
            [
             0.1111111111111111,
             "#46039f"
            ],
            [
             0.2222222222222222,
             "#7201a8"
            ],
            [
             0.3333333333333333,
             "#9c179e"
            ],
            [
             0.4444444444444444,
             "#bd3786"
            ],
            [
             0.5555555555555556,
             "#d8576b"
            ],
            [
             0.6666666666666666,
             "#ed7953"
            ],
            [
             0.7777777777777778,
             "#fb9f3a"
            ],
            [
             0.8888888888888888,
             "#fdca26"
            ],
            [
             1.0,
             "#f0f921"
            ]
           ],
           "sequentialminus": [
            [
             0.0,
             "#0d0887"
            ],
            [
             0.1111111111111111,
             "#46039f"
            ],
            [
             0.2222222222222222,
             "#7201a8"
            ],
            [
             0.3333333333333333,
             "#9c179e"
            ],
            [
             0.4444444444444444,
             "#bd3786"
            ],
            [
             0.5555555555555556,
             "#d8576b"
            ],
            [
             0.6666666666666666,
             "#ed7953"
            ],
            [
             0.7777777777777778,
             "#fb9f3a"
            ],
            [
             0.8888888888888888,
             "#fdca26"
            ],
            [
             1.0,
             "#f0f921"
            ]
           ]
          },
          "colorway": [
           "#636efa",
           "#EF553B",
           "#00cc96",
           "#ab63fa",
           "#FFA15A",
           "#19d3f3",
           "#FF6692",
           "#B6E880",
           "#FF97FF",
           "#FECB52"
          ],
          "font": {
           "color": "#2a3f5f"
          },
          "geo": {
           "bgcolor": "white",
           "lakecolor": "white",
           "landcolor": "white",
           "showlakes": true,
           "showland": true,
           "subunitcolor": "#C8D4E3"
          },
          "hoverlabel": {
           "align": "left"
          },
          "hovermode": "closest",
          "mapbox": {
           "style": "light"
          },
          "paper_bgcolor": "white",
          "plot_bgcolor": "white",
          "polar": {
           "angularaxis": {
            "gridcolor": "#EBF0F8",
            "linecolor": "#EBF0F8",
            "ticks": ""
           },
           "bgcolor": "white",
           "radialaxis": {
            "gridcolor": "#EBF0F8",
            "linecolor": "#EBF0F8",
            "ticks": ""
           }
          },
          "scene": {
           "xaxis": {
            "backgroundcolor": "white",
            "gridcolor": "#DFE8F3",
            "gridwidth": 2,
            "linecolor": "#EBF0F8",
            "showbackground": true,
            "ticks": "",
            "zerolinecolor": "#EBF0F8"
           },
           "yaxis": {
            "backgroundcolor": "white",
            "gridcolor": "#DFE8F3",
            "gridwidth": 2,
            "linecolor": "#EBF0F8",
            "showbackground": true,
            "ticks": "",
            "zerolinecolor": "#EBF0F8"
           },
           "zaxis": {
            "backgroundcolor": "white",
            "gridcolor": "#DFE8F3",
            "gridwidth": 2,
            "linecolor": "#EBF0F8",
            "showbackground": true,
            "ticks": "",
            "zerolinecolor": "#EBF0F8"
           }
          },
          "shapedefaults": {
           "line": {
            "color": "#2a3f5f"
           }
          },
          "ternary": {
           "aaxis": {
            "gridcolor": "#DFE8F3",
            "linecolor": "#A2B1C6",
            "ticks": ""
           },
           "baxis": {
            "gridcolor": "#DFE8F3",
            "linecolor": "#A2B1C6",
            "ticks": ""
           },
           "bgcolor": "white",
           "caxis": {
            "gridcolor": "#DFE8F3",
            "linecolor": "#A2B1C6",
            "ticks": ""
           }
          },
          "title": {
           "x": 0.05
          },
          "xaxis": {
           "automargin": true,
           "gridcolor": "#EBF0F8",
           "linecolor": "#EBF0F8",
           "ticks": "",
           "title": {
            "standoff": 15
           },
           "zerolinecolor": "#EBF0F8",
           "zerolinewidth": 2
          },
          "yaxis": {
           "automargin": true,
           "gridcolor": "#EBF0F8",
           "linecolor": "#EBF0F8",
           "ticks": "",
           "title": {
            "standoff": 15
           },
           "zerolinecolor": "#EBF0F8",
           "zerolinewidth": 2
          }
         }
        },
        "xaxis": {
         "anchor": "y",
         "domain": [
          0.0,
          1.0
         ],
         "title": {
          "text": "Date"
         }
        },
        "yaxis": {
         "anchor": "x",
         "domain": [
          0.0,
          1.0
         ],
         "title": {
          "text": "value"
         }
        },
        "legend": {
         "title": {
          "text": "variable"
         },
         "tracegroupgap": 0
        },
        "margin": {
         "t": 60
        }
       },
       "config": {
        "plotlyServerURL": "https://plot.ly"
       }
      },
      "text/html": "<div>                            <div id=\"8506c476-035d-4ab4-9bbc-c9ed15dad198\" class=\"plotly-graph-div\" style=\"height:525px; width:100%;\"></div>            <script type=\"text/javascript\">                require([\"plotly\"], function(Plotly) {                    window.PLOTLYENV=window.PLOTLYENV || {};                                    if (document.getElementById(\"8506c476-035d-4ab4-9bbc-c9ed15dad198\")) {                    Plotly.newPlot(                        \"8506c476-035d-4ab4-9bbc-c9ed15dad198\",                        [{\"hovertemplate\":\"variable=Total 401k<br>Date=%{x}<br>value=%{y}<extra></extra>\",\"legendgroup\":\"Total 401k\",\"line\":{\"color\":\"#636efa\",\"dash\":\"solid\"},\"marker\":{\"symbol\":\"circle\"},\"mode\":\"lines\",\"name\":\"Total 401k\",\"orientation\":\"v\",\"showlegend\":true,\"x\":[\"2014-06-01T00:00:00\",\"2014-07-01T00:00:00\",\"2014-08-01T00:00:00\",\"2014-09-01T00:00:00\",\"2014-10-01T00:00:00\",\"2014-11-01T00:00:00\",\"2014-12-01T00:00:00\",\"2015-01-01T00:00:00\",\"2015-02-01T00:00:00\",\"2015-03-01T00:00:00\",\"2015-04-01T00:00:00\",\"2015-05-01T00:00:00\",\"2015-06-01T00:00:00\",\"2015-07-01T00:00:00\",\"2015-08-01T00:00:00\",\"2015-09-01T00:00:00\",\"2015-10-01T00:00:00\",\"2015-11-01T00:00:00\",\"2015-12-01T00:00:00\",\"2016-01-01T00:00:00\",\"2016-02-01T00:00:00\",\"2016-03-01T00:00:00\",\"2016-04-01T00:00:00\",\"2016-05-01T00:00:00\",\"2016-06-01T00:00:00\",\"2016-07-01T00:00:00\",\"2016-08-01T00:00:00\",\"2016-09-01T00:00:00\",\"2016-10-01T00:00:00\",\"2016-11-01T00:00:00\",\"2016-12-01T00:00:00\",\"2017-01-01T00:00:00\",\"2017-02-01T00:00:00\",\"2017-03-01T00:00:00\",\"2017-04-01T00:00:00\",\"2017-05-01T00:00:00\",\"2017-06-01T00:00:00\",\"2017-07-01T00:00:00\",\"2017-08-01T00:00:00\",\"2017-09-01T00:00:00\",\"2017-10-01T00:00:00\",\"2017-11-01T00:00:00\",\"2017-12-01T00:00:00\",\"2018-01-01T00:00:00\",\"2018-02-01T00:00:00\",\"2018-03-01T00:00:00\",\"2018-04-01T00:00:00\",\"2018-05-01T00:00:00\",\"2018-06-01T00:00:00\",\"2018-07-01T00:00:00\",\"2018-08-01T00:00:00\",\"2018-09-01T00:00:00\",\"2018-10-01T00:00:00\",\"2018-11-01T00:00:00\",\"2018-12-01T00:00:00\",\"2019-01-01T00:00:00\",\"2019-02-01T00:00:00\",\"2019-03-01T00:00:00\",\"2019-04-01T00:00:00\",\"2019-05-01T00:00:00\",\"2019-06-01T00:00:00\",\"2019-07-01T00:00:00\",\"2019-08-01T00:00:00\",\"2019-09-01T00:00:00\",\"2019-10-01T00:00:00\",\"2019-11-01T00:00:00\",\"2019-12-01T00:00:00\",\"2020-01-01T00:00:00\",\"2020-02-01T00:00:00\",\"2020-03-01T00:00:00\",\"2020-04-01T00:00:00\",\"2020-05-01T00:00:00\",\"2020-06-01T00:00:00\",\"2020-07-01T00:00:00\",\"2020-08-01T00:00:00\",\"2020-09-01T00:00:00\",\"2020-10-01T00:00:00\",\"2020-11-01T00:00:00\",\"2020-12-01T00:00:00\",\"2021-01-01T00:00:00\",\"2021-02-01T00:00:00\",\"2021-03-01T00:00:00\",\"2021-04-01T00:00:00\",\"2021-05-01T00:00:00\"],\"xaxis\":\"x\",\"y\":[14883415.0,15071770.0,14783931.0,17075300.0,18252955.0,15516157.0,20015898.0,17715332.0,16887109.0,16015058.0,17825264.0,16920951.0,15124413.0,16058053.0,15469895.0,16687016.0,15324999.0,15482325.0,16374782.0,15947797.0,15821561.0,16032217.0,16630537.0,16279134.0,16334840.0,16614645.0,17011690.0,16626889.0,17258300.0,16832332.0,16864889.0,17480827.0,17040416.0,17675240.0,17885987.0,17870924.0,18044317.0,18493593.0,17749500.0,19403341.0,18916146.0,18350152.0,18981140.0,19607871.0,18349855.0,19646009.0,19233113.0,18909694.0,19833195.0,19847062.0,20122392.0,22808778.0,20309331.0,19805587.0,19978109.0,19516714.0,19497190.0,20250081.0,20648711.0,20805272.0,20591156.0,21512687.0,21062547.0,24084523.0,21289253.0,21990310.0,21884534.0,22501494.0,22353183.0,21749496.0,20519508.0,22347344.0,20843393.0,22352127.0,21944199.0,24630413.0,21963794.0,22231041.0,23311415.0,23143324.0,23583890.0,24032102.0,23829965.0,23646057.0],\"yaxis\":\"y\",\"type\":\"scatter\"},{\"hovertemplate\":\"variable=Total 401k - ML Predicted<br>Date=%{x}<br>value=%{y}<extra></extra>\",\"legendgroup\":\"Total 401k - ML Predicted\",\"line\":{\"color\":\"#EF553B\",\"dash\":\"solid\"},\"marker\":{\"symbol\":\"circle\"},\"mode\":\"lines\",\"name\":\"Total 401k - ML Predicted\",\"orientation\":\"v\",\"showlegend\":true,\"x\":[\"2014-06-01T00:00:00\",\"2014-07-01T00:00:00\",\"2014-08-01T00:00:00\",\"2014-09-01T00:00:00\",\"2014-10-01T00:00:00\",\"2014-11-01T00:00:00\",\"2014-12-01T00:00:00\",\"2015-01-01T00:00:00\",\"2015-02-01T00:00:00\",\"2015-03-01T00:00:00\",\"2015-04-01T00:00:00\",\"2015-05-01T00:00:00\",\"2015-06-01T00:00:00\",\"2015-07-01T00:00:00\",\"2015-08-01T00:00:00\",\"2015-09-01T00:00:00\",\"2015-10-01T00:00:00\",\"2015-11-01T00:00:00\",\"2015-12-01T00:00:00\",\"2016-01-01T00:00:00\",\"2016-02-01T00:00:00\",\"2016-03-01T00:00:00\",\"2016-04-01T00:00:00\",\"2016-05-01T00:00:00\",\"2016-06-01T00:00:00\",\"2016-07-01T00:00:00\",\"2016-08-01T00:00:00\",\"2016-09-01T00:00:00\",\"2016-10-01T00:00:00\",\"2016-11-01T00:00:00\",\"2016-12-01T00:00:00\",\"2017-01-01T00:00:00\",\"2017-02-01T00:00:00\",\"2017-03-01T00:00:00\",\"2017-04-01T00:00:00\",\"2017-05-01T00:00:00\",\"2017-06-01T00:00:00\",\"2017-07-01T00:00:00\",\"2017-08-01T00:00:00\",\"2017-09-01T00:00:00\",\"2017-10-01T00:00:00\",\"2017-11-01T00:00:00\",\"2017-12-01T00:00:00\",\"2018-01-01T00:00:00\",\"2018-02-01T00:00:00\",\"2018-03-01T00:00:00\",\"2018-04-01T00:00:00\",\"2018-05-01T00:00:00\",\"2018-06-01T00:00:00\",\"2018-07-01T00:00:00\",\"2018-08-01T00:00:00\",\"2018-09-01T00:00:00\",\"2018-10-01T00:00:00\",\"2018-11-01T00:00:00\",\"2018-12-01T00:00:00\",\"2019-01-01T00:00:00\",\"2019-02-01T00:00:00\",\"2019-03-01T00:00:00\",\"2019-04-01T00:00:00\",\"2019-05-01T00:00:00\",\"2019-06-01T00:00:00\",\"2019-07-01T00:00:00\",\"2019-08-01T00:00:00\",\"2019-09-01T00:00:00\",\"2019-10-01T00:00:00\",\"2019-11-01T00:00:00\",\"2019-12-01T00:00:00\",\"2020-01-01T00:00:00\",\"2020-02-01T00:00:00\",\"2020-03-01T00:00:00\",\"2020-04-01T00:00:00\",\"2020-05-01T00:00:00\",\"2020-06-01T00:00:00\",\"2020-07-01T00:00:00\",\"2020-08-01T00:00:00\",\"2020-09-01T00:00:00\",\"2020-10-01T00:00:00\",\"2020-11-01T00:00:00\",\"2020-12-01T00:00:00\",\"2021-01-01T00:00:00\",\"2021-02-01T00:00:00\",\"2021-03-01T00:00:00\",\"2021-04-01T00:00:00\",\"2021-05-01T00:00:00\"],\"xaxis\":\"x\",\"y\":[15467645.819364188,16027429.165427549,15682937.286905302,17004640.88578282,15982763.475179685,15959220.39421218,19502130.33220078,16068410.091015397,16159336.399454737,16493561.622983772,16599447.505866451,16382306.97228458,16378293.950731216,16908475.729042314,15653266.994512668,17155320.188238136,15926517.157392947,16251095.5315212,16079700.747413136,15587170.056161007,15306279.661794016,15843376.93273487,16468540.233673586,16166487.065766752,16224763.672678083,16779945.075279415,16929271.732419472,17514589.45990528,17160612.760033622,16601927.487223478,17082805.143320538,17611761.445881158,17617605.50801078,17802541.68783924,17950426.590745986,17929189.653267525,18168553.110228047,18482790.27479686,18449975.80711717,19877597.46301861,19071835.23214037,19143258.666826054,19328071.743472695,20334567.672450826,19669099.653018206,19521554.052928552,19547418.28435953,19670897.708103053,19956577.157326512,20333769.156672638,20504116.179685973,22295647.064415798,20321381.285319373,19748243.715119928,18850212.6483879,19276576.45962274,19992992.581008956,20212946.805381797,20974778.768358313,20531347.486794062,20741675.36461842,21347864.683402807,20469786.40234699,22838061.733489677,21043056.64340444,21791127.600102484,21300135.174070165,23770671.161904976,23128364.310875557,19428691.207278207,19540965.67081411,20761710.01122915,21834483.162692398,22882304.89660602,23591922.82088639,24588525.231942132,23620517.837891176,24285155.04341439,25129246.636451274,26934353.792240657,26454096.411211215,24850743.73911073,27622080.26353635,27671250.689267434],\"yaxis\":\"y\",\"type\":\"scatter\"}],                        {\"template\":{\"data\":{\"barpolar\":[{\"marker\":{\"line\":{\"color\":\"white\",\"width\":0.5},\"pattern\":{\"fillmode\":\"overlay\",\"size\":10,\"solidity\":0.2}},\"type\":\"barpolar\"}],\"bar\":[{\"error_x\":{\"color\":\"#2a3f5f\"},\"error_y\":{\"color\":\"#2a3f5f\"},\"marker\":{\"line\":{\"color\":\"white\",\"width\":0.5},\"pattern\":{\"fillmode\":\"overlay\",\"size\":10,\"solidity\":0.2}},\"type\":\"bar\"}],\"carpet\":[{\"aaxis\":{\"endlinecolor\":\"#2a3f5f\",\"gridcolor\":\"#C8D4E3\",\"linecolor\":\"#C8D4E3\",\"minorgridcolor\":\"#C8D4E3\",\"startlinecolor\":\"#2a3f5f\"},\"baxis\":{\"endlinecolor\":\"#2a3f5f\",\"gridcolor\":\"#C8D4E3\",\"linecolor\":\"#C8D4E3\",\"minorgridcolor\":\"#C8D4E3\",\"startlinecolor\":\"#2a3f5f\"},\"type\":\"carpet\"}],\"choropleth\":[{\"colorbar\":{\"outlinewidth\":0,\"ticks\":\"\"},\"type\":\"choropleth\"}],\"contourcarpet\":[{\"colorbar\":{\"outlinewidth\":0,\"ticks\":\"\"},\"type\":\"contourcarpet\"}],\"contour\":[{\"colorbar\":{\"outlinewidth\":0,\"ticks\":\"\"},\"colorscale\":[[0.0,\"#0d0887\"],[0.1111111111111111,\"#46039f\"],[0.2222222222222222,\"#7201a8\"],[0.3333333333333333,\"#9c179e\"],[0.4444444444444444,\"#bd3786\"],[0.5555555555555556,\"#d8576b\"],[0.6666666666666666,\"#ed7953\"],[0.7777777777777778,\"#fb9f3a\"],[0.8888888888888888,\"#fdca26\"],[1.0,\"#f0f921\"]],\"type\":\"contour\"}],\"heatmapgl\":[{\"colorbar\":{\"outlinewidth\":0,\"ticks\":\"\"},\"colorscale\":[[0.0,\"#0d0887\"],[0.1111111111111111,\"#46039f\"],[0.2222222222222222,\"#7201a8\"],[0.3333333333333333,\"#9c179e\"],[0.4444444444444444,\"#bd3786\"],[0.5555555555555556,\"#d8576b\"],[0.6666666666666666,\"#ed7953\"],[0.7777777777777778,\"#fb9f3a\"],[0.8888888888888888,\"#fdca26\"],[1.0,\"#f0f921\"]],\"type\":\"heatmapgl\"}],\"heatmap\":[{\"colorbar\":{\"outlinewidth\":0,\"ticks\":\"\"},\"colorscale\":[[0.0,\"#0d0887\"],[0.1111111111111111,\"#46039f\"],[0.2222222222222222,\"#7201a8\"],[0.3333333333333333,\"#9c179e\"],[0.4444444444444444,\"#bd3786\"],[0.5555555555555556,\"#d8576b\"],[0.6666666666666666,\"#ed7953\"],[0.7777777777777778,\"#fb9f3a\"],[0.8888888888888888,\"#fdca26\"],[1.0,\"#f0f921\"]],\"type\":\"heatmap\"}],\"histogram2dcontour\":[{\"colorbar\":{\"outlinewidth\":0,\"ticks\":\"\"},\"colorscale\":[[0.0,\"#0d0887\"],[0.1111111111111111,\"#46039f\"],[0.2222222222222222,\"#7201a8\"],[0.3333333333333333,\"#9c179e\"],[0.4444444444444444,\"#bd3786\"],[0.5555555555555556,\"#d8576b\"],[0.6666666666666666,\"#ed7953\"],[0.7777777777777778,\"#fb9f3a\"],[0.8888888888888888,\"#fdca26\"],[1.0,\"#f0f921\"]],\"type\":\"histogram2dcontour\"}],\"histogram2d\":[{\"colorbar\":{\"outlinewidth\":0,\"ticks\":\"\"},\"colorscale\":[[0.0,\"#0d0887\"],[0.1111111111111111,\"#46039f\"],[0.2222222222222222,\"#7201a8\"],[0.3333333333333333,\"#9c179e\"],[0.4444444444444444,\"#bd3786\"],[0.5555555555555556,\"#d8576b\"],[0.6666666666666666,\"#ed7953\"],[0.7777777777777778,\"#fb9f3a\"],[0.8888888888888888,\"#fdca26\"],[1.0,\"#f0f921\"]],\"type\":\"histogram2d\"}],\"histogram\":[{\"marker\":{\"pattern\":{\"fillmode\":\"overlay\",\"size\":10,\"solidity\":0.2}},\"type\":\"histogram\"}],\"mesh3d\":[{\"colorbar\":{\"outlinewidth\":0,\"ticks\":\"\"},\"type\":\"mesh3d\"}],\"parcoords\":[{\"line\":{\"colorbar\":{\"outlinewidth\":0,\"ticks\":\"\"}},\"type\":\"parcoords\"}],\"pie\":[{\"automargin\":true,\"type\":\"pie\"}],\"scatter3d\":[{\"line\":{\"colorbar\":{\"outlinewidth\":0,\"ticks\":\"\"}},\"marker\":{\"colorbar\":{\"outlinewidth\":0,\"ticks\":\"\"}},\"type\":\"scatter3d\"}],\"scattercarpet\":[{\"marker\":{\"colorbar\":{\"outlinewidth\":0,\"ticks\":\"\"}},\"type\":\"scattercarpet\"}],\"scattergeo\":[{\"marker\":{\"colorbar\":{\"outlinewidth\":0,\"ticks\":\"\"}},\"type\":\"scattergeo\"}],\"scattergl\":[{\"marker\":{\"colorbar\":{\"outlinewidth\":0,\"ticks\":\"\"}},\"type\":\"scattergl\"}],\"scattermapbox\":[{\"marker\":{\"colorbar\":{\"outlinewidth\":0,\"ticks\":\"\"}},\"type\":\"scattermapbox\"}],\"scatterpolargl\":[{\"marker\":{\"colorbar\":{\"outlinewidth\":0,\"ticks\":\"\"}},\"type\":\"scatterpolargl\"}],\"scatterpolar\":[{\"marker\":{\"colorbar\":{\"outlinewidth\":0,\"ticks\":\"\"}},\"type\":\"scatterpolar\"}],\"scatter\":[{\"fillpattern\":{\"fillmode\":\"overlay\",\"size\":10,\"solidity\":0.2},\"type\":\"scatter\"}],\"scatterternary\":[{\"marker\":{\"colorbar\":{\"outlinewidth\":0,\"ticks\":\"\"}},\"type\":\"scatterternary\"}],\"surface\":[{\"colorbar\":{\"outlinewidth\":0,\"ticks\":\"\"},\"colorscale\":[[0.0,\"#0d0887\"],[0.1111111111111111,\"#46039f\"],[0.2222222222222222,\"#7201a8\"],[0.3333333333333333,\"#9c179e\"],[0.4444444444444444,\"#bd3786\"],[0.5555555555555556,\"#d8576b\"],[0.6666666666666666,\"#ed7953\"],[0.7777777777777778,\"#fb9f3a\"],[0.8888888888888888,\"#fdca26\"],[1.0,\"#f0f921\"]],\"type\":\"surface\"}],\"table\":[{\"cells\":{\"fill\":{\"color\":\"#EBF0F8\"},\"line\":{\"color\":\"white\"}},\"header\":{\"fill\":{\"color\":\"#C8D4E3\"},\"line\":{\"color\":\"white\"}},\"type\":\"table\"}]},\"layout\":{\"annotationdefaults\":{\"arrowcolor\":\"#2a3f5f\",\"arrowhead\":0,\"arrowwidth\":1},\"autotypenumbers\":\"strict\",\"coloraxis\":{\"colorbar\":{\"outlinewidth\":0,\"ticks\":\"\"}},\"colorscale\":{\"diverging\":[[0,\"#8e0152\"],[0.1,\"#c51b7d\"],[0.2,\"#de77ae\"],[0.3,\"#f1b6da\"],[0.4,\"#fde0ef\"],[0.5,\"#f7f7f7\"],[0.6,\"#e6f5d0\"],[0.7,\"#b8e186\"],[0.8,\"#7fbc41\"],[0.9,\"#4d9221\"],[1,\"#276419\"]],\"sequential\":[[0.0,\"#0d0887\"],[0.1111111111111111,\"#46039f\"],[0.2222222222222222,\"#7201a8\"],[0.3333333333333333,\"#9c179e\"],[0.4444444444444444,\"#bd3786\"],[0.5555555555555556,\"#d8576b\"],[0.6666666666666666,\"#ed7953\"],[0.7777777777777778,\"#fb9f3a\"],[0.8888888888888888,\"#fdca26\"],[1.0,\"#f0f921\"]],\"sequentialminus\":[[0.0,\"#0d0887\"],[0.1111111111111111,\"#46039f\"],[0.2222222222222222,\"#7201a8\"],[0.3333333333333333,\"#9c179e\"],[0.4444444444444444,\"#bd3786\"],[0.5555555555555556,\"#d8576b\"],[0.6666666666666666,\"#ed7953\"],[0.7777777777777778,\"#fb9f3a\"],[0.8888888888888888,\"#fdca26\"],[1.0,\"#f0f921\"]]},\"colorway\":[\"#636efa\",\"#EF553B\",\"#00cc96\",\"#ab63fa\",\"#FFA15A\",\"#19d3f3\",\"#FF6692\",\"#B6E880\",\"#FF97FF\",\"#FECB52\"],\"font\":{\"color\":\"#2a3f5f\"},\"geo\":{\"bgcolor\":\"white\",\"lakecolor\":\"white\",\"landcolor\":\"white\",\"showlakes\":true,\"showland\":true,\"subunitcolor\":\"#C8D4E3\"},\"hoverlabel\":{\"align\":\"left\"},\"hovermode\":\"closest\",\"mapbox\":{\"style\":\"light\"},\"paper_bgcolor\":\"white\",\"plot_bgcolor\":\"white\",\"polar\":{\"angularaxis\":{\"gridcolor\":\"#EBF0F8\",\"linecolor\":\"#EBF0F8\",\"ticks\":\"\"},\"bgcolor\":\"white\",\"radialaxis\":{\"gridcolor\":\"#EBF0F8\",\"linecolor\":\"#EBF0F8\",\"ticks\":\"\"}},\"scene\":{\"xaxis\":{\"backgroundcolor\":\"white\",\"gridcolor\":\"#DFE8F3\",\"gridwidth\":2,\"linecolor\":\"#EBF0F8\",\"showbackground\":true,\"ticks\":\"\",\"zerolinecolor\":\"#EBF0F8\"},\"yaxis\":{\"backgroundcolor\":\"white\",\"gridcolor\":\"#DFE8F3\",\"gridwidth\":2,\"linecolor\":\"#EBF0F8\",\"showbackground\":true,\"ticks\":\"\",\"zerolinecolor\":\"#EBF0F8\"},\"zaxis\":{\"backgroundcolor\":\"white\",\"gridcolor\":\"#DFE8F3\",\"gridwidth\":2,\"linecolor\":\"#EBF0F8\",\"showbackground\":true,\"ticks\":\"\",\"zerolinecolor\":\"#EBF0F8\"}},\"shapedefaults\":{\"line\":{\"color\":\"#2a3f5f\"}},\"ternary\":{\"aaxis\":{\"gridcolor\":\"#DFE8F3\",\"linecolor\":\"#A2B1C6\",\"ticks\":\"\"},\"baxis\":{\"gridcolor\":\"#DFE8F3\",\"linecolor\":\"#A2B1C6\",\"ticks\":\"\"},\"bgcolor\":\"white\",\"caxis\":{\"gridcolor\":\"#DFE8F3\",\"linecolor\":\"#A2B1C6\",\"ticks\":\"\"}},\"title\":{\"x\":0.05},\"xaxis\":{\"automargin\":true,\"gridcolor\":\"#EBF0F8\",\"linecolor\":\"#EBF0F8\",\"ticks\":\"\",\"title\":{\"standoff\":15},\"zerolinecolor\":\"#EBF0F8\",\"zerolinewidth\":2},\"yaxis\":{\"automargin\":true,\"gridcolor\":\"#EBF0F8\",\"linecolor\":\"#EBF0F8\",\"ticks\":\"\",\"title\":{\"standoff\":15},\"zerolinecolor\":\"#EBF0F8\",\"zerolinewidth\":2}}},\"xaxis\":{\"anchor\":\"y\",\"domain\":[0.0,1.0],\"title\":{\"text\":\"Date\"}},\"yaxis\":{\"anchor\":\"x\",\"domain\":[0.0,1.0],\"title\":{\"text\":\"value\"}},\"legend\":{\"title\":{\"text\":\"variable\"},\"tracegroupgap\":0},\"margin\":{\"t\":60}},                        {\"responsive\": true}                    ).then(function(){\n                            \nvar gd = document.getElementById('8506c476-035d-4ab4-9bbc-c9ed15dad198');\nvar x = new MutationObserver(function (mutations, observer) {{\n        var display = window.getComputedStyle(gd).display;\n        if (!display || display === 'none') {{\n            console.log([gd, 'removed!']);\n            Plotly.purge(gd);\n            observer.disconnect();\n        }}\n}});\n\n// Listen for the removal of the full notebook cells\nvar notebookContainer = gd.closest('#notebook-container');\nif (notebookContainer) {{\n    x.observe(notebookContainer, {childList: true});\n}}\n\n// Listen for the clearing of the current output cell\nvar outputEl = gd.closest('.output');\nif (outputEl) {{\n    x.observe(outputEl, {childList: true});\n}}\n\n                        })                };                });            </script>        </div>"
     },
     "metadata": {},
     "output_type": "display_data"
    }
   ],
   "source": [
    "# ------------------------------------------------------------------------------------- #\n",
    "# generate and plot predicted values on the original dataset\n",
    "# ------------------------------------------------------------------------------------- #\n",
    "\n",
    "predictions = predict_model(best, data=comb_df)\n",
    "predictions['Date'] = pd.date_range(start=str(train_start_dt), end = str(test_end_dt), freq = 'MS')\n",
    "predictions.rename(columns={'Label':target_col+' - ML Predicted'}, inplace=True)\n",
    "fig = px.line(predictions, x='Date', y=[target_col, target_col+' - ML Predicted'], template = 'plotly_white')\n",
    "fig.show()\n",
    "\n",
    "# ------------------------------------------------------------------------------------- #\n",
    "# This section now applies the trained/tested model to make future predictions\n",
    "# ------------------------------------------------------------------------------------- #"
   ],
   "metadata": {
    "collapsed": false,
    "pycharm": {
     "name": "#%%\n"
    }
   }
  },
  {
   "cell_type": "code",
   "execution_count": 53,
   "outputs": [],
   "source": [
    "act_df = all_df[all_df['Calendar Date'].astype(int) >= int(pred_start_dt)]\n",
    "act_df = act_df[['Calendar Date', target_col]]\n",
    "act_df['Calendar Date'] = pd.to_datetime(act_df['Calendar Date'])"
   ],
   "metadata": {
    "collapsed": false,
    "pycharm": {
     "name": "#%%\n"
    }
   }
  },
  {
   "cell_type": "code",
   "execution_count": null,
   "outputs": [],
   "source": [
    "pipeline, name = save_model(best, model_path + '/{}_model'.format(target_col))"
   ],
   "metadata": {
    "collapsed": false,
    "pycharm": {
     "name": "#%%\n"
    }
   }
  },
  {
   "cell_type": "code",
   "execution_count": 54,
   "metadata": {},
   "outputs": [
    {
     "name": "stdout",
     "output_type": "stream",
     "text": [
      "############################  Running Auto ARIMA for SP500   ############################\n",
      "Performing stepwise search to minimize aic\n",
      " ARIMA(1,1,1)(0,1,1)[12]             : AIC=890.402, Time=0.70 sec\n",
      " ARIMA(0,1,0)(0,1,0)[12]             : AIC=916.967, Time=0.01 sec\n",
      " ARIMA(1,1,0)(1,1,0)[12]             : AIC=890.271, Time=0.13 sec\n",
      " ARIMA(0,1,1)(0,1,1)[12]             : AIC=888.474, Time=0.28 sec\n",
      " ARIMA(0,1,1)(0,1,0)[12]             : AIC=914.983, Time=0.04 sec\n",
      " ARIMA(0,1,1)(1,1,1)[12]             : AIC=889.102, Time=0.55 sec\n",
      " ARIMA(0,1,1)(0,1,2)[12]             : AIC=889.418, Time=0.61 sec\n",
      " ARIMA(0,1,1)(1,1,0)[12]             : AIC=890.254, Time=0.11 sec\n",
      " ARIMA(0,1,1)(1,1,2)[12]             : AIC=inf, Time=1.33 sec\n",
      " ARIMA(0,1,0)(0,1,1)[12]             : AIC=887.578, Time=0.21 sec\n",
      " ARIMA(0,1,0)(1,1,1)[12]             : AIC=887.420, Time=0.24 sec\n",
      " ARIMA(0,1,0)(1,1,0)[12]             : AIC=888.578, Time=0.06 sec\n",
      " ARIMA(0,1,0)(2,1,1)[12]             : AIC=889.385, Time=0.60 sec\n",
      " ARIMA(0,1,0)(1,1,2)[12]             : AIC=inf, Time=0.93 sec\n",
      " ARIMA(0,1,0)(0,1,2)[12]             : AIC=887.754, Time=0.33 sec\n",
      " ARIMA(0,1,0)(2,1,0)[12]             : AIC=887.438, Time=0.23 sec\n",
      " ARIMA(0,1,0)(2,1,2)[12]             : AIC=inf, Time=1.23 sec\n",
      " ARIMA(1,1,0)(1,1,1)[12]             : AIC=889.138, Time=0.34 sec\n",
      " ARIMA(1,1,1)(1,1,1)[12]             : AIC=891.202, Time=0.84 sec\n",
      " ARIMA(0,1,0)(1,1,1)[12] intercept   : AIC=887.499, Time=0.45 sec\n",
      "\n",
      "Best model:  ARIMA(0,1,0)(1,1,1)[12]          \n",
      "Total fit time: 9.216 seconds\n",
      "############################  End Auto ARIMA for SP500   ############################\n",
      "\n",
      "\n",
      "############################  Running Auto ARIMA for M1SL   ############################\n",
      "Performing stepwise search to minimize aic\n",
      " ARIMA(1,1,1)(0,1,1)[12]             : AIC=inf, Time=0.61 sec\n",
      " ARIMA(0,1,0)(0,1,0)[12]             : AIC=1275.324, Time=0.01 sec\n",
      " ARIMA(1,1,0)(1,1,0)[12]             : AIC=inf, Time=0.25 sec\n",
      " ARIMA(0,1,1)(0,1,1)[12]             : AIC=inf, Time=0.29 sec\n",
      " ARIMA(0,1,0)(1,1,0)[12]             : AIC=1236.659, Time=0.08 sec\n",
      " ARIMA(0,1,0)(2,1,0)[12]             : AIC=1237.038, Time=0.54 sec\n",
      " ARIMA(0,1,0)(1,1,1)[12]             : AIC=1237.019, Time=0.31 sec\n",
      " ARIMA(0,1,0)(0,1,1)[12]             : AIC=inf, Time=0.13 sec\n",
      " ARIMA(0,1,0)(2,1,1)[12]             : AIC=1238.975, Time=1.28 sec\n",
      " ARIMA(0,1,1)(1,1,0)[12]             : AIC=1238.315, Time=0.27 sec\n",
      " ARIMA(1,1,1)(1,1,0)[12]             : AIC=inf, Time=0.35 sec\n",
      " ARIMA(0,1,0)(1,1,0)[12] intercept   : AIC=1237.581, Time=0.28 sec\n",
      "\n",
      "Best model:  ARIMA(0,1,0)(1,1,0)[12]          \n",
      "Total fit time: 4.397 seconds\n",
      "############################  End Auto ARIMA for M1SL   ############################\n",
      "\n",
      "\n",
      "############################  Running Auto ARIMA for WAAA   ############################\n",
      "Performing stepwise search to minimize aic\n",
      " ARIMA(1,1,1)(0,1,1)[12]             : AIC=-49.917, Time=0.45 sec\n",
      " ARIMA(0,1,0)(0,1,0)[12]             : AIC=-27.622, Time=0.03 sec\n",
      " ARIMA(1,1,0)(1,1,0)[12]             : AIC=-43.181, Time=0.10 sec\n",
      " ARIMA(0,1,1)(0,1,1)[12]             : AIC=-50.099, Time=0.22 sec\n",
      " ARIMA(0,1,1)(0,1,0)[12]             : AIC=-29.009, Time=0.03 sec\n",
      " ARIMA(0,1,1)(1,1,1)[12]             : AIC=-48.224, Time=0.30 sec\n",
      " ARIMA(0,1,1)(0,1,2)[12]             : AIC=-48.324, Time=0.36 sec\n",
      " ARIMA(0,1,1)(1,1,0)[12]             : AIC=-41.508, Time=0.10 sec\n",
      " ARIMA(0,1,1)(1,1,2)[12]             : AIC=inf, Time=0.94 sec\n",
      " ARIMA(0,1,0)(0,1,1)[12]             : AIC=-48.647, Time=0.11 sec\n",
      " ARIMA(0,1,2)(0,1,1)[12]             : AIC=-49.665, Time=0.31 sec\n",
      " ARIMA(1,1,0)(0,1,1)[12]             : AIC=-51.011, Time=0.18 sec\n",
      " ARIMA(1,1,0)(0,1,0)[12]             : AIC=-30.004, Time=0.05 sec\n",
      " ARIMA(1,1,0)(1,1,1)[12]             : AIC=-49.147, Time=0.27 sec\n",
      " ARIMA(1,1,0)(0,1,2)[12]             : AIC=-49.233, Time=0.67 sec\n",
      " ARIMA(1,1,0)(1,1,2)[12]             : AIC=inf, Time=1.12 sec\n",
      " ARIMA(2,1,0)(0,1,1)[12]             : AIC=-50.182, Time=0.17 sec\n",
      " ARIMA(2,1,1)(0,1,1)[12]             : AIC=-48.240, Time=0.51 sec\n",
      " ARIMA(1,1,0)(0,1,1)[12] intercept   : AIC=-49.015, Time=0.29 sec\n",
      "\n",
      "Best model:  ARIMA(1,1,0)(0,1,1)[12]          \n",
      "Total fit time: 6.214 seconds\n",
      "############################  End Auto ARIMA for WAAA   ############################\n",
      "\n",
      "\n",
      "############################  Running Auto ARIMA for 401(K) PLANS/5745 EPLAN/Maintenance Rate - Calculated - RW   ############################\n",
      "Performing stepwise search to minimize aic\n",
      " ARIMA(1,1,1)(0,1,1)[12]             : AIC=inf, Time=0.16 sec\n",
      " ARIMA(0,1,0)(0,1,0)[12]             : AIC=815.332, Time=0.01 sec\n",
      " ARIMA(1,1,0)(1,1,0)[12]             : AIC=785.083, Time=0.08 sec\n",
      " ARIMA(0,1,1)(0,1,1)[12]             : AIC=inf, Time=0.23 sec\n",
      " ARIMA(1,1,0)(0,1,0)[12]             : AIC=784.059, Time=0.02 sec\n",
      " ARIMA(1,1,0)(0,1,1)[12]             : AIC=784.939, Time=0.16 sec\n",
      " ARIMA(1,1,0)(1,1,1)[12]             : AIC=786.939, Time=0.15 sec\n",
      " ARIMA(2,1,0)(0,1,0)[12]             : AIC=781.826, Time=0.03 sec\n",
      " ARIMA(2,1,0)(1,1,0)[12]             : AIC=780.784, Time=0.11 sec\n",
      " ARIMA(2,1,0)(2,1,0)[12]             : AIC=782.678, Time=0.37 sec\n",
      " ARIMA(2,1,0)(1,1,1)[12]             : AIC=782.686, Time=0.22 sec\n",
      " ARIMA(2,1,0)(0,1,1)[12]             : AIC=780.982, Time=0.20 sec\n",
      " ARIMA(2,1,0)(2,1,1)[12]             : AIC=784.672, Time=0.67 sec\n",
      " ARIMA(3,1,0)(1,1,0)[12]             : AIC=773.550, Time=0.17 sec\n",
      " ARIMA(3,1,0)(0,1,0)[12]             : AIC=773.506, Time=0.05 sec\n",
      " ARIMA(3,1,0)(0,1,1)[12]             : AIC=773.525, Time=0.28 sec\n",
      " ARIMA(3,1,0)(1,1,1)[12]             : AIC=775.461, Time=0.32 sec\n",
      " ARIMA(4,1,0)(0,1,0)[12]             : AIC=771.344, Time=0.07 sec\n",
      " ARIMA(4,1,0)(1,1,0)[12]             : AIC=771.827, Time=0.25 sec\n",
      " ARIMA(4,1,0)(0,1,1)[12]             : AIC=771.716, Time=0.37 sec\n",
      " ARIMA(4,1,0)(1,1,1)[12]             : AIC=773.696, Time=0.50 sec\n",
      " ARIMA(5,1,0)(0,1,0)[12]             : AIC=771.187, Time=0.10 sec\n",
      " ARIMA(5,1,0)(1,1,0)[12]             : AIC=771.024, Time=0.30 sec\n",
      " ARIMA(5,1,0)(2,1,0)[12]             : AIC=772.932, Time=0.76 sec\n",
      " ARIMA(5,1,0)(1,1,1)[12]             : AIC=772.936, Time=0.50 sec\n",
      " ARIMA(5,1,0)(0,1,1)[12]             : AIC=771.057, Time=0.41 sec\n",
      " ARIMA(5,1,0)(2,1,1)[12]             : AIC=774.925, Time=1.30 sec\n",
      " ARIMA(5,1,1)(1,1,0)[12]             : AIC=inf, Time=0.52 sec\n",
      " ARIMA(4,1,1)(1,1,0)[12]             : AIC=inf, Time=0.48 sec\n",
      " ARIMA(5,1,0)(1,1,0)[12] intercept   : AIC=772.993, Time=0.76 sec\n",
      "\n",
      "Best model:  ARIMA(5,1,0)(1,1,0)[12]          \n",
      "Total fit time: 9.574 seconds\n",
      "############################  End Auto ARIMA for 401(K) PLANS/5745 EPLAN/Maintenance Rate - Calculated - RW   ############################\n",
      "\n",
      "\n",
      "############################  Running Auto ARIMA for 401(K) PLANS/5020 EPlan Sales/Sales - RW   ############################\n",
      "Performing stepwise search to minimize aic\n",
      " ARIMA(1,1,1)(0,1,1)[12]             : AIC=inf, Time=0.39 sec\n",
      " ARIMA(0,1,0)(0,1,0)[12]             : AIC=600.717, Time=0.01 sec\n",
      " ARIMA(1,1,0)(1,1,0)[12]             : AIC=571.582, Time=0.07 sec\n",
      " ARIMA(0,1,1)(0,1,1)[12]             : AIC=inf, Time=0.17 sec\n",
      " ARIMA(1,1,0)(0,1,0)[12]             : AIC=587.146, Time=0.02 sec\n",
      " ARIMA(1,1,0)(2,1,0)[12]             : AIC=573.516, Time=0.22 sec\n",
      " ARIMA(1,1,0)(1,1,1)[12]             : AIC=inf, Time=0.41 sec\n",
      " ARIMA(1,1,0)(0,1,1)[12]             : AIC=inf, Time=0.19 sec\n",
      " ARIMA(1,1,0)(2,1,1)[12]             : AIC=inf, Time=1.04 sec\n",
      " ARIMA(0,1,0)(1,1,0)[12]             : AIC=584.961, Time=0.04 sec\n",
      " ARIMA(2,1,0)(1,1,0)[12]             : AIC=561.697, Time=0.10 sec\n",
      " ARIMA(2,1,0)(0,1,0)[12]             : AIC=585.799, Time=0.03 sec\n",
      " ARIMA(2,1,0)(2,1,0)[12]             : AIC=563.369, Time=0.29 sec\n",
      " ARIMA(2,1,0)(1,1,1)[12]             : AIC=inf, Time=0.54 sec\n",
      " ARIMA(2,1,0)(0,1,1)[12]             : AIC=inf, Time=0.40 sec\n",
      " ARIMA(2,1,0)(2,1,1)[12]             : AIC=inf, Time=1.51 sec\n",
      " ARIMA(3,1,0)(1,1,0)[12]             : AIC=561.984, Time=0.14 sec\n",
      " ARIMA(2,1,1)(1,1,0)[12]             : AIC=555.752, Time=0.22 sec\n",
      " ARIMA(2,1,1)(0,1,0)[12]             : AIC=inf, Time=0.13 sec\n",
      " ARIMA(2,1,1)(2,1,0)[12]             : AIC=557.313, Time=0.62 sec\n",
      " ARIMA(2,1,1)(1,1,1)[12]             : AIC=inf, Time=0.69 sec\n",
      " ARIMA(2,1,1)(0,1,1)[12]             : AIC=inf, Time=0.46 sec\n",
      " ARIMA(2,1,1)(2,1,1)[12]             : AIC=inf, Time=1.65 sec\n",
      " ARIMA(1,1,1)(1,1,0)[12]             : AIC=554.112, Time=0.16 sec\n",
      " ARIMA(1,1,1)(0,1,0)[12]             : AIC=577.172, Time=0.06 sec\n",
      " ARIMA(1,1,1)(2,1,0)[12]             : AIC=555.906, Time=0.54 sec\n",
      " ARIMA(1,1,1)(1,1,1)[12]             : AIC=inf, Time=0.63 sec\n",
      " ARIMA(1,1,1)(2,1,1)[12]             : AIC=inf, Time=1.44 sec\n",
      " ARIMA(0,1,1)(1,1,0)[12]             : AIC=552.256, Time=0.11 sec\n",
      " ARIMA(0,1,1)(0,1,0)[12]             : AIC=578.299, Time=0.02 sec\n",
      " ARIMA(0,1,1)(2,1,0)[12]             : AIC=554.035, Time=0.26 sec\n",
      " ARIMA(0,1,1)(1,1,1)[12]             : AIC=inf, Time=0.41 sec\n",
      " ARIMA(0,1,1)(2,1,1)[12]             : AIC=inf, Time=0.78 sec\n",
      " ARIMA(0,1,2)(1,1,0)[12]             : AIC=554.084, Time=0.16 sec\n",
      " ARIMA(1,1,2)(1,1,0)[12]             : AIC=554.725, Time=0.30 sec\n",
      " ARIMA(0,1,1)(1,1,0)[12] intercept   : AIC=553.580, Time=0.13 sec\n",
      "\n",
      "Best model:  ARIMA(0,1,1)(1,1,0)[12]          \n",
      "Total fit time: 14.318 seconds\n",
      "############################  End Auto ARIMA for 401(K) PLANS/5020 EPlan Sales/Sales - RW   ############################\n",
      "\n",
      "\n",
      "############################  Running Auto ARIMA for CP   ############################\n",
      "Performing stepwise search to minimize aic\n",
      " ARIMA(1,1,1)(0,1,1)[12]             : AIC=inf, Time=0.34 sec\n",
      " ARIMA(0,1,0)(0,1,0)[12]             : AIC=818.545, Time=0.01 sec\n",
      " ARIMA(1,1,0)(1,1,0)[12]             : AIC=769.828, Time=0.11 sec\n",
      " ARIMA(0,1,1)(0,1,1)[12]             : AIC=inf, Time=0.26 sec\n",
      " ARIMA(1,1,0)(0,1,0)[12]             : AIC=794.160, Time=0.02 sec\n",
      " ARIMA(1,1,0)(2,1,0)[12]             : AIC=755.076, Time=0.26 sec\n",
      " ARIMA(1,1,0)(2,1,1)[12]             : AIC=754.569, Time=0.84 sec\n",
      " ARIMA(1,1,0)(1,1,1)[12]             : AIC=inf, Time=0.20 sec\n",
      " ARIMA(1,1,0)(2,1,2)[12]             : AIC=inf, Time=1.58 sec\n",
      " ARIMA(1,1,0)(1,1,2)[12]             : AIC=inf, Time=0.96 sec\n",
      " ARIMA(0,1,0)(2,1,1)[12]             : AIC=794.054, Time=0.81 sec\n",
      " ARIMA(2,1,0)(2,1,1)[12]             : AIC=753.675, Time=1.20 sec\n",
      " ARIMA(2,1,0)(1,1,1)[12]             : AIC=inf, Time=0.67 sec\n",
      " ARIMA(2,1,0)(2,1,0)[12]             : AIC=754.435, Time=0.37 sec\n",
      " ARIMA(2,1,0)(2,1,2)[12]             : AIC=inf, Time=1.80 sec\n",
      " ARIMA(2,1,0)(1,1,0)[12]             : AIC=768.373, Time=0.17 sec\n",
      " ARIMA(2,1,0)(1,1,2)[12]             : AIC=inf, Time=1.43 sec\n",
      " ARIMA(3,1,0)(2,1,1)[12]             : AIC=750.539, Time=1.42 sec\n",
      " ARIMA(3,1,0)(1,1,1)[12]             : AIC=inf, Time=0.36 sec\n",
      " ARIMA(3,1,0)(2,1,0)[12]             : AIC=751.540, Time=0.65 sec\n",
      " ARIMA(3,1,0)(2,1,2)[12]             : AIC=752.412, Time=2.55 sec\n",
      " ARIMA(3,1,0)(1,1,0)[12]             : AIC=763.990, Time=0.19 sec\n",
      " ARIMA(3,1,0)(1,1,2)[12]             : AIC=inf, Time=1.33 sec\n",
      " ARIMA(4,1,0)(2,1,1)[12]             : AIC=inf, Time=1.15 sec\n",
      " ARIMA(3,1,1)(2,1,1)[12]             : AIC=749.210, Time=2.27 sec\n",
      " ARIMA(3,1,1)(1,1,1)[12]             : AIC=inf, Time=0.82 sec\n",
      " ARIMA(3,1,1)(2,1,0)[12]             : AIC=749.848, Time=1.37 sec\n",
      " ARIMA(3,1,1)(2,1,2)[12]             : AIC=inf, Time=2.44 sec\n",
      " ARIMA(3,1,1)(1,1,0)[12]             : AIC=760.491, Time=0.30 sec\n",
      " ARIMA(3,1,1)(1,1,2)[12]             : AIC=inf, Time=2.01 sec\n",
      " ARIMA(2,1,1)(2,1,1)[12]             : AIC=755.990, Time=2.14 sec\n",
      " ARIMA(4,1,1)(2,1,1)[12]             : AIC=inf, Time=1.99 sec\n",
      " ARIMA(3,1,2)(2,1,1)[12]             : AIC=inf, Time=2.84 sec\n",
      " ARIMA(2,1,2)(2,1,1)[12]             : AIC=732.339, Time=2.00 sec\n",
      " ARIMA(2,1,2)(1,1,1)[12]             : AIC=inf, Time=1.00 sec\n",
      " ARIMA(2,1,2)(2,1,0)[12]             : AIC=734.331, Time=1.91 sec\n",
      " ARIMA(2,1,2)(2,1,2)[12]             : AIC=inf, Time=2.35 sec\n",
      " ARIMA(2,1,2)(1,1,0)[12]             : AIC=inf, Time=0.72 sec\n",
      " ARIMA(2,1,2)(1,1,2)[12]             : AIC=inf, Time=2.19 sec\n",
      " ARIMA(1,1,2)(2,1,1)[12]             : AIC=inf, Time=1.16 sec\n",
      " ARIMA(2,1,3)(2,1,1)[12]             : AIC=inf, Time=2.03 sec\n",
      " ARIMA(1,1,1)(2,1,1)[12]             : AIC=755.090, Time=1.14 sec\n",
      " ARIMA(1,1,3)(2,1,1)[12]             : AIC=inf, Time=1.25 sec\n",
      " ARIMA(3,1,3)(2,1,1)[12]             : AIC=inf, Time=2.59 sec\n",
      " ARIMA(2,1,2)(2,1,1)[12] intercept   : AIC=inf, Time=2.56 sec\n",
      "\n",
      "Best model:  ARIMA(2,1,2)(2,1,1)[12]          \n",
      "Total fit time: 55.794 seconds\n",
      "############################  End Auto ARIMA for CP   ############################\n",
      "\n",
      "\n",
      "############################  Running Auto ARIMA for 401(K) PLANS/5765 SEBS/Ending Client Base - RW   ############################\n",
      "Performing stepwise search to minimize aic\n",
      " ARIMA(1,1,1)(0,1,1)[12]             : AIC=538.019, Time=0.21 sec\n",
      " ARIMA(0,1,0)(0,1,0)[12]             : AIC=577.456, Time=0.01 sec\n",
      " ARIMA(1,1,0)(1,1,0)[12]             : AIC=548.877, Time=0.07 sec\n",
      " ARIMA(0,1,1)(0,1,1)[12]             : AIC=549.939, Time=0.15 sec\n",
      " ARIMA(1,1,1)(0,1,0)[12]             : AIC=562.030, Time=0.03 sec\n",
      " ARIMA(1,1,1)(1,1,1)[12]             : AIC=538.293, Time=0.39 sec\n",
      " ARIMA(1,1,1)(0,1,2)[12]             : AIC=536.188, Time=0.51 sec\n",
      " ARIMA(1,1,1)(1,1,2)[12]             : AIC=537.656, Time=0.98 sec\n",
      " ARIMA(0,1,1)(0,1,2)[12]             : AIC=551.772, Time=0.34 sec\n",
      " ARIMA(1,1,0)(0,1,2)[12]             : AIC=540.731, Time=0.28 sec\n",
      " ARIMA(2,1,1)(0,1,2)[12]             : AIC=537.797, Time=1.14 sec\n",
      " ARIMA(1,1,2)(0,1,2)[12]             : AIC=537.859, Time=0.95 sec\n",
      " ARIMA(0,1,0)(0,1,2)[12]             : AIC=565.353, Time=0.28 sec\n",
      " ARIMA(0,1,2)(0,1,2)[12]             : AIC=546.268, Time=0.47 sec\n",
      " ARIMA(2,1,0)(0,1,2)[12]             : AIC=538.331, Time=0.40 sec\n",
      " ARIMA(2,1,2)(0,1,2)[12]             : AIC=538.938, Time=1.48 sec\n",
      " ARIMA(1,1,1)(0,1,2)[12] intercept   : AIC=538.147, Time=0.72 sec\n",
      "\n",
      "Best model:  ARIMA(1,1,1)(0,1,2)[12]          \n",
      "Total fit time: 8.417 seconds\n",
      "############################  End Auto ARIMA for 401(K) PLANS/5765 SEBS/Ending Client Base - RW   ############################\n",
      "\n",
      "\n",
      "############################  Running Auto ARIMA for 401(K) PLANS/5600 401K ADMINISTRATION/Set Up Rate - Calculated - RW   ############################\n",
      "Performing stepwise search to minimize aic\n",
      " ARIMA(1,1,1)(0,1,1)[12]             : AIC=inf, Time=0.46 sec\n",
      " ARIMA(0,1,0)(0,1,0)[12]             : AIC=1261.592, Time=0.01 sec\n",
      " ARIMA(1,1,0)(1,1,0)[12]             : AIC=1230.552, Time=0.07 sec\n",
      " ARIMA(0,1,1)(0,1,1)[12]             : AIC=inf, Time=0.21 sec\n",
      " ARIMA(1,1,0)(0,1,0)[12]             : AIC=1230.490, Time=0.01 sec\n",
      " ARIMA(1,1,0)(0,1,1)[12]             : AIC=1227.688, Time=0.19 sec\n",
      " ARIMA(1,1,0)(1,1,1)[12]             : AIC=inf, Time=0.27 sec\n",
      " ARIMA(1,1,0)(0,1,2)[12]             : AIC=inf, Time=0.86 sec\n",
      " ARIMA(1,1,0)(1,1,2)[12]             : AIC=inf, Time=0.75 sec\n",
      " ARIMA(0,1,0)(0,1,1)[12]             : AIC=inf, Time=0.15 sec\n",
      " ARIMA(2,1,0)(0,1,1)[12]             : AIC=inf, Time=0.39 sec\n",
      " ARIMA(2,1,1)(0,1,1)[12]             : AIC=inf, Time=0.45 sec\n",
      " ARIMA(1,1,0)(0,1,1)[12] intercept   : AIC=1229.569, Time=0.43 sec\n",
      "\n",
      "Best model:  ARIMA(1,1,0)(0,1,1)[12]          \n",
      "Total fit time: 4.255 seconds\n",
      "############################  End Auto ARIMA for 401(K) PLANS/5600 401K ADMINISTRATION/Set Up Rate - Calculated - RW   ############################\n",
      "\n",
      "\n",
      "############################  Running Auto ARIMA for RETIREMENT PLANS/5010 NATIONAL SALES/Sales - RW   ############################\n",
      "Performing stepwise search to minimize aic\n",
      " ARIMA(1,1,1)(0,1,1)[12]             : AIC=inf, Time=0.36 sec\n",
      " ARIMA(0,1,0)(0,1,0)[12]             : AIC=698.772, Time=0.01 sec\n",
      " ARIMA(1,1,0)(1,1,0)[12]             : AIC=678.415, Time=0.07 sec\n",
      " ARIMA(0,1,1)(0,1,1)[12]             : AIC=inf, Time=0.26 sec\n",
      " ARIMA(1,1,0)(0,1,0)[12]             : AIC=683.564, Time=0.02 sec\n",
      " ARIMA(1,1,0)(2,1,0)[12]             : AIC=675.284, Time=0.27 sec\n",
      " ARIMA(1,1,0)(2,1,1)[12]             : AIC=inf, Time=1.33 sec\n",
      " ARIMA(1,1,0)(1,1,1)[12]             : AIC=inf, Time=0.44 sec\n",
      " ARIMA(0,1,0)(2,1,0)[12]             : AIC=685.305, Time=0.18 sec\n",
      " ARIMA(2,1,0)(2,1,0)[12]             : AIC=675.637, Time=0.31 sec\n",
      " ARIMA(1,1,1)(2,1,0)[12]             : AIC=673.496, Time=0.51 sec\n",
      " ARIMA(1,1,1)(1,1,0)[12]             : AIC=677.745, Time=0.13 sec\n",
      " ARIMA(1,1,1)(2,1,1)[12]             : AIC=inf, Time=1.38 sec\n",
      " ARIMA(1,1,1)(1,1,1)[12]             : AIC=inf, Time=0.53 sec\n",
      " ARIMA(0,1,1)(2,1,0)[12]             : AIC=672.787, Time=0.23 sec\n",
      " ARIMA(0,1,1)(1,1,0)[12]             : AIC=675.752, Time=0.06 sec\n",
      " ARIMA(0,1,1)(2,1,1)[12]             : AIC=inf, Time=1.18 sec\n",
      " ARIMA(0,1,1)(1,1,1)[12]             : AIC=inf, Time=0.54 sec\n",
      " ARIMA(0,1,2)(2,1,0)[12]             : AIC=674.678, Time=0.46 sec\n",
      " ARIMA(1,1,2)(2,1,0)[12]             : AIC=inf, Time=1.56 sec\n",
      " ARIMA(0,1,1)(2,1,0)[12] intercept   : AIC=674.666, Time=0.58 sec\n",
      "\n",
      "Best model:  ARIMA(0,1,1)(2,1,0)[12]          \n",
      "Total fit time: 10.412 seconds\n",
      "############################  End Auto ARIMA for RETIREMENT PLANS/5010 NATIONAL SALES/Sales - RW   ############################\n",
      "\n",
      "\n",
      "############################  Running Auto ARIMA for 401(K) PLANS/5770 401K/S125 PRODUCT INTEGRATION/Losses - RW   ############################\n",
      "Performing stepwise search to minimize aic\n",
      " ARIMA(1,1,1)(0,1,1)[12]             : AIC=inf, Time=0.57 sec\n",
      " ARIMA(0,1,0)(0,1,0)[12]             : AIC=751.526, Time=0.01 sec\n",
      " ARIMA(1,1,0)(1,1,0)[12]             : AIC=734.131, Time=0.08 sec\n",
      " ARIMA(0,1,1)(0,1,1)[12]             : AIC=inf, Time=0.22 sec\n",
      " ARIMA(1,1,0)(0,1,0)[12]             : AIC=739.654, Time=0.02 sec\n",
      " ARIMA(1,1,0)(2,1,0)[12]             : AIC=727.942, Time=0.28 sec\n",
      " ARIMA(1,1,0)(2,1,1)[12]             : AIC=inf, Time=1.13 sec\n",
      " ARIMA(1,1,0)(1,1,1)[12]             : AIC=inf, Time=0.36 sec\n",
      " ARIMA(0,1,0)(2,1,0)[12]             : AIC=739.593, Time=0.19 sec\n",
      " ARIMA(2,1,0)(2,1,0)[12]             : AIC=728.383, Time=0.39 sec\n",
      " ARIMA(1,1,1)(2,1,0)[12]             : AIC=726.077, Time=0.55 sec\n",
      " ARIMA(1,1,1)(1,1,0)[12]             : AIC=732.288, Time=0.17 sec\n",
      " ARIMA(1,1,1)(2,1,1)[12]             : AIC=inf, Time=1.37 sec\n",
      " ARIMA(1,1,1)(1,1,1)[12]             : AIC=inf, Time=0.54 sec\n",
      " ARIMA(0,1,1)(2,1,0)[12]             : AIC=724.141, Time=0.31 sec\n",
      " ARIMA(0,1,1)(1,1,0)[12]             : AIC=730.291, Time=0.09 sec\n",
      " ARIMA(0,1,1)(2,1,1)[12]             : AIC=inf, Time=1.49 sec\n",
      " ARIMA(0,1,1)(1,1,1)[12]             : AIC=inf, Time=0.48 sec\n",
      " ARIMA(0,1,2)(2,1,0)[12]             : AIC=726.095, Time=0.54 sec\n",
      " ARIMA(1,1,2)(2,1,0)[12]             : AIC=728.055, Time=0.78 sec\n",
      " ARIMA(0,1,1)(2,1,0)[12] intercept   : AIC=724.800, Time=0.66 sec\n",
      "\n",
      "Best model:  ARIMA(0,1,1)(2,1,0)[12]          \n",
      "Total fit time: 10.249 seconds\n",
      "############################  End Auto ARIMA for 401(K) PLANS/5770 401K/S125 PRODUCT INTEGRATION/Losses - RW   ############################\n",
      "\n",
      "\n"
     ]
    }
   ],
   "source": [
    "# create the future predictions dataframe\n",
    "if has_actuals:\n",
    "    pred_df, _ = models.run_auto_arima(comb_df, feature_cols, pred_start_dt, forecast_window, ci=False)\n",
    "    final_best = finalize_model(best)\n",
    "    #future_dates = pd.date_range(start = pred_start_dt, end = pred_end_dt, freq = 'MS')\n",
    "    pred_df = predict_model(final_best, data=pred_df)\n",
    "    #pred_df = pred_df[['Calendar Date', 'Label']]\n",
    "    pred_df = pred_df.rename(columns={'Label':ml_col})[['Calendar Date', ml_col]]\n",
    "    concat_df = pd.merge(act_df, pred_df ,on='Calendar Date', how='inner')\n",
    "    \n",
    "    # get plan data\n",
    "    plan_df = dl.get_clean_data(train_start_dt, pred_end_dt, file_path, type='plan', level=level)\n",
    "    plan_df = plan_df[['Calendar Date', target_col]]\n",
    "    plan_df.rename(columns={target_col:plan_col}, inplace=True)\n",
    "    plan_df['Calendar Date'] = pd.to_datetime(plan_df['Calendar Date'])\n",
    "    concat_df = pd.merge(concat_df,plan_df, on='Calendar Date', how='inner')\n",
    "    \n",
    "    # get forecast data\n",
    "    fcst_df = dl.get_clean_data(train_start_dt, pred_end_dt, file_path,\n",
    "                                type='forecast',\n",
    "                                forecast_type=forecast_type,\n",
    "                                level=level)\n",
    "    fcst_df = fcst_df[['Calendar Date', target_col]]\n",
    "    fcst_df.rename(columns={target_col:fcst_col}, inplace=True)\n",
    "    fcst_df['Calendar Date'] = pd.to_datetime(fcst_df['Calendar Date'])\n",
    "    concat_df = pd.merge(concat_df,fcst_df, on='Calendar Date', how='inner')"
   ]
  },
  {
   "cell_type": "code",
   "execution_count": 55,
   "metadata": {},
   "outputs": [
    {
     "name": "stdout",
     "output_type": "stream",
     "text": [
      "############################  Running Auto ARIMA for Total 401k   ############################\n",
      "Performing stepwise search to minimize aic\n",
      " ARIMA(1,1,1)(0,1,1)[12]             : AIC=2159.218, Time=0.22 sec\n",
      " ARIMA(0,1,0)(0,1,0)[12]             : AIC=2186.395, Time=0.01 sec\n",
      " ARIMA(1,1,0)(1,1,0)[12]             : AIC=2166.004, Time=0.09 sec\n",
      " ARIMA(0,1,1)(0,1,1)[12]             : AIC=2161.132, Time=0.08 sec\n",
      " ARIMA(1,1,1)(0,1,0)[12]             : AIC=2186.898, Time=0.04 sec\n",
      " ARIMA(1,1,1)(1,1,1)[12]             : AIC=2155.319, Time=0.38 sec\n",
      " ARIMA(1,1,1)(1,1,0)[12]             : AIC=2168.754, Time=0.14 sec\n",
      " ARIMA(1,1,1)(2,1,1)[12]             : AIC=2155.987, Time=1.14 sec\n",
      " ARIMA(1,1,1)(1,1,2)[12]             : AIC=2156.440, Time=0.92 sec\n",
      " ARIMA(1,1,1)(0,1,2)[12]             : AIC=2154.446, Time=0.58 sec\n",
      " ARIMA(0,1,1)(0,1,2)[12]             : AIC=2159.835, Time=0.25 sec\n",
      " ARIMA(1,1,0)(0,1,2)[12]             : AIC=2158.960, Time=0.28 sec\n",
      " ARIMA(2,1,1)(0,1,2)[12]             : AIC=2155.189, Time=0.89 sec\n",
      " ARIMA(1,1,2)(0,1,2)[12]             : AIC=2161.419, Time=0.87 sec\n",
      " ARIMA(0,1,0)(0,1,2)[12]             : AIC=2170.118, Time=0.17 sec\n",
      " ARIMA(0,1,2)(0,1,2)[12]             : AIC=2159.423, Time=0.33 sec\n",
      " ARIMA(2,1,0)(0,1,2)[12]             : AIC=2159.718, Time=0.38 sec\n",
      " ARIMA(2,1,2)(0,1,2)[12]             : AIC=2156.838, Time=1.12 sec\n",
      " ARIMA(1,1,1)(0,1,2)[12] intercept   : AIC=2157.329, Time=0.68 sec\n",
      "\n",
      "Best model:  ARIMA(1,1,1)(0,1,2)[12]          \n",
      "Total fit time: 8.592 seconds\n",
      "############################  End Auto ARIMA for Total 401k   ############################\n",
      "\n",
      "\n"
     ]
    }
   ],
   "source": [
    "# run UTS\n",
    "uts_df = comb_df[['Calendar Date', target_col]]\n",
    "uts_df, uts_model = models.run_auto_arima(uts_df, [target_col], pred_start_dt, forecast_window, ci=True)\n",
    "uts_df.rename(columns={target_col:uts_col}, inplace=True)"
   ]
  },
  {
   "cell_type": "code",
   "execution_count": null,
   "outputs": [],
   "source": [
    "with open(model_path + '/{}_uts_model.pkl'.format(target_col), 'wb') as pkl:\n",
    "    pickle.dump(uts_model, pkl)"
   ],
   "metadata": {
    "collapsed": false,
    "pycharm": {
     "name": "#%%\n"
    }
   }
  },
  {
   "cell_type": "code",
   "execution_count": 56,
   "outputs": [],
   "source": [
    "concat_df = pd.merge(concat_df,uts_df, on='Calendar Date', how='inner')"
   ],
   "metadata": {
    "collapsed": false,
    "pycharm": {
     "name": "#%%\n"
    }
   }
  },
  {
   "cell_type": "code",
   "execution_count": 57,
   "metadata": {},
   "outputs": [],
   "source": [
    "# combine all data together\n",
    "concat_df = pd.concat([comb_df[['Calendar Date', target_col]],concat_df], axis=0)"
   ]
  },
  {
   "cell_type": "code",
   "execution_count": 58,
   "outputs": [
    {
     "data": {
      "application/vnd.plotly.v1+json": {
       "data": [
        {
         "hovertemplate": "variable=Total 401k<br>Calendar Date=%{x}<br>value=%{y}<extra></extra>",
         "legendgroup": "Total 401k",
         "line": {
          "color": "#636efa",
          "dash": "solid"
         },
         "marker": {
          "symbol": "circle"
         },
         "mode": "lines",
         "name": "Total 401k",
         "orientation": "v",
         "showlegend": true,
         "x": [
          "2014-06-01T00:00:00",
          "2014-07-01T00:00:00",
          "2014-08-01T00:00:00",
          "2014-09-01T00:00:00",
          "2014-10-01T00:00:00",
          "2014-11-01T00:00:00",
          "2014-12-01T00:00:00",
          "2015-01-01T00:00:00",
          "2015-02-01T00:00:00",
          "2015-03-01T00:00:00",
          "2015-04-01T00:00:00",
          "2015-05-01T00:00:00",
          "2015-06-01T00:00:00",
          "2015-07-01T00:00:00",
          "2015-08-01T00:00:00",
          "2015-09-01T00:00:00",
          "2015-10-01T00:00:00",
          "2015-11-01T00:00:00",
          "2015-12-01T00:00:00",
          "2016-01-01T00:00:00",
          "2016-02-01T00:00:00",
          "2016-03-01T00:00:00",
          "2016-04-01T00:00:00",
          "2016-05-01T00:00:00",
          "2016-06-01T00:00:00",
          "2016-07-01T00:00:00",
          "2016-08-01T00:00:00",
          "2016-09-01T00:00:00",
          "2016-10-01T00:00:00",
          "2016-11-01T00:00:00",
          "2016-12-01T00:00:00",
          "2017-01-01T00:00:00",
          "2017-02-01T00:00:00",
          "2017-03-01T00:00:00",
          "2017-04-01T00:00:00",
          "2017-05-01T00:00:00",
          "2017-06-01T00:00:00",
          "2017-07-01T00:00:00",
          "2017-08-01T00:00:00",
          "2017-09-01T00:00:00",
          "2017-10-01T00:00:00",
          "2017-11-01T00:00:00",
          "2017-12-01T00:00:00",
          "2018-01-01T00:00:00",
          "2018-02-01T00:00:00",
          "2018-03-01T00:00:00",
          "2018-04-01T00:00:00",
          "2018-05-01T00:00:00",
          "2018-06-01T00:00:00",
          "2018-07-01T00:00:00",
          "2018-08-01T00:00:00",
          "2018-09-01T00:00:00",
          "2018-10-01T00:00:00",
          "2018-11-01T00:00:00",
          "2018-12-01T00:00:00",
          "2019-01-01T00:00:00",
          "2019-02-01T00:00:00",
          "2019-03-01T00:00:00",
          "2019-04-01T00:00:00",
          "2019-05-01T00:00:00",
          "2019-06-01T00:00:00",
          "2019-07-01T00:00:00",
          "2019-08-01T00:00:00",
          "2019-09-01T00:00:00",
          "2019-10-01T00:00:00",
          "2019-11-01T00:00:00",
          "2019-12-01T00:00:00",
          "2020-01-01T00:00:00",
          "2020-02-01T00:00:00",
          "2020-03-01T00:00:00",
          "2020-04-01T00:00:00",
          "2020-05-01T00:00:00",
          "2020-06-01T00:00:00",
          "2020-07-01T00:00:00",
          "2020-08-01T00:00:00",
          "2020-09-01T00:00:00",
          "2020-10-01T00:00:00",
          "2020-11-01T00:00:00",
          "2020-12-01T00:00:00",
          "2021-01-01T00:00:00",
          "2021-02-01T00:00:00",
          "2021-03-01T00:00:00",
          "2021-04-01T00:00:00",
          "2021-05-01T00:00:00",
          "2021-06-01T00:00:00",
          "2021-07-01T00:00:00",
          "2021-08-01T00:00:00",
          "2021-09-01T00:00:00",
          "2021-10-01T00:00:00",
          "2021-11-01T00:00:00",
          "2021-12-01T00:00:00",
          "2022-01-01T00:00:00"
         ],
         "xaxis": "x",
         "y": [
          1.4883415E7,
          1.507177E7,
          1.4783931E7,
          1.70753E7,
          1.8252955E7,
          1.5516157E7,
          2.0015898E7,
          1.7715332E7,
          1.6887109E7,
          1.6015058E7,
          1.7825264E7,
          1.6920951E7,
          1.5124413E7,
          1.6058053E7,
          1.5469895E7,
          1.6687016E7,
          1.5324999E7,
          1.5482325E7,
          1.6374782E7,
          1.5947797E7,
          1.5821561E7,
          1.6032217E7,
          1.6630537E7,
          1.6279134E7,
          1.633484E7,
          1.6614645E7,
          1.701169E7,
          1.6626889E7,
          1.72583E7,
          1.6832332E7,
          1.6864889E7,
          1.7480827E7,
          1.7040416E7,
          1.767524E7,
          1.7885987E7,
          1.7870924E7,
          1.8044317E7,
          1.8493593E7,
          1.77495E7,
          1.9403341E7,
          1.8916146E7,
          1.8350152E7,
          1.898114E7,
          1.9607871E7,
          1.8349855E7,
          1.9646009E7,
          1.9233113E7,
          1.8909694E7,
          1.9833195E7,
          1.9847062E7,
          2.0122392E7,
          2.2808778E7,
          2.0309331E7,
          1.9805587E7,
          1.9978109E7,
          1.9516714E7,
          1.949719E7,
          2.0250081E7,
          2.0648711E7,
          2.0805272E7,
          2.0591156E7,
          2.1512687E7,
          2.1062547E7,
          2.4084523E7,
          2.1289253E7,
          2.199031E7,
          2.1884534E7,
          2.2501494E7,
          2.2353183E7,
          2.1749496E7,
          2.0519508E7,
          2.2347344E7,
          2.0843393E7,
          2.2352127E7,
          2.1944199E7,
          2.4630413E7,
          2.1963794E7,
          2.2231041E7,
          2.3311415E7,
          2.3143324E7,
          2.358389E7,
          2.4032102E7,
          2.3829965E7,
          2.3646057E7,
          2.4192008E7,
          2.4136555E7,
          2.4432497E7,
          2.7574022E7,
          2.4476676E7,
          2.583622E7,
          2.6002179E7,
          2.5826263E7
         ],
         "yaxis": "y",
         "type": "scatter"
        },
        {
         "hovertemplate": "variable=Total 401k - ML Predicted<br>Calendar Date=%{x}<br>value=%{y}<extra></extra>",
         "legendgroup": "Total 401k - ML Predicted",
         "line": {
          "color": "#EF553B",
          "dash": "solid"
         },
         "marker": {
          "symbol": "circle"
         },
         "mode": "lines",
         "name": "Total 401k - ML Predicted",
         "orientation": "v",
         "showlegend": true,
         "x": [
          "2014-06-01T00:00:00",
          "2014-07-01T00:00:00",
          "2014-08-01T00:00:00",
          "2014-09-01T00:00:00",
          "2014-10-01T00:00:00",
          "2014-11-01T00:00:00",
          "2014-12-01T00:00:00",
          "2015-01-01T00:00:00",
          "2015-02-01T00:00:00",
          "2015-03-01T00:00:00",
          "2015-04-01T00:00:00",
          "2015-05-01T00:00:00",
          "2015-06-01T00:00:00",
          "2015-07-01T00:00:00",
          "2015-08-01T00:00:00",
          "2015-09-01T00:00:00",
          "2015-10-01T00:00:00",
          "2015-11-01T00:00:00",
          "2015-12-01T00:00:00",
          "2016-01-01T00:00:00",
          "2016-02-01T00:00:00",
          "2016-03-01T00:00:00",
          "2016-04-01T00:00:00",
          "2016-05-01T00:00:00",
          "2016-06-01T00:00:00",
          "2016-07-01T00:00:00",
          "2016-08-01T00:00:00",
          "2016-09-01T00:00:00",
          "2016-10-01T00:00:00",
          "2016-11-01T00:00:00",
          "2016-12-01T00:00:00",
          "2017-01-01T00:00:00",
          "2017-02-01T00:00:00",
          "2017-03-01T00:00:00",
          "2017-04-01T00:00:00",
          "2017-05-01T00:00:00",
          "2017-06-01T00:00:00",
          "2017-07-01T00:00:00",
          "2017-08-01T00:00:00",
          "2017-09-01T00:00:00",
          "2017-10-01T00:00:00",
          "2017-11-01T00:00:00",
          "2017-12-01T00:00:00",
          "2018-01-01T00:00:00",
          "2018-02-01T00:00:00",
          "2018-03-01T00:00:00",
          "2018-04-01T00:00:00",
          "2018-05-01T00:00:00",
          "2018-06-01T00:00:00",
          "2018-07-01T00:00:00",
          "2018-08-01T00:00:00",
          "2018-09-01T00:00:00",
          "2018-10-01T00:00:00",
          "2018-11-01T00:00:00",
          "2018-12-01T00:00:00",
          "2019-01-01T00:00:00",
          "2019-02-01T00:00:00",
          "2019-03-01T00:00:00",
          "2019-04-01T00:00:00",
          "2019-05-01T00:00:00",
          "2019-06-01T00:00:00",
          "2019-07-01T00:00:00",
          "2019-08-01T00:00:00",
          "2019-09-01T00:00:00",
          "2019-10-01T00:00:00",
          "2019-11-01T00:00:00",
          "2019-12-01T00:00:00",
          "2020-01-01T00:00:00",
          "2020-02-01T00:00:00",
          "2020-03-01T00:00:00",
          "2020-04-01T00:00:00",
          "2020-05-01T00:00:00",
          "2020-06-01T00:00:00",
          "2020-07-01T00:00:00",
          "2020-08-01T00:00:00",
          "2020-09-01T00:00:00",
          "2020-10-01T00:00:00",
          "2020-11-01T00:00:00",
          "2020-12-01T00:00:00",
          "2021-01-01T00:00:00",
          "2021-02-01T00:00:00",
          "2021-03-01T00:00:00",
          "2021-04-01T00:00:00",
          "2021-05-01T00:00:00",
          "2021-06-01T00:00:00",
          "2021-07-01T00:00:00",
          "2021-08-01T00:00:00",
          "2021-09-01T00:00:00",
          "2021-10-01T00:00:00",
          "2021-11-01T00:00:00",
          "2021-12-01T00:00:00",
          "2022-01-01T00:00:00"
         ],
         "xaxis": "x",
         "y": [
          null,
          null,
          null,
          null,
          null,
          null,
          null,
          null,
          null,
          null,
          null,
          null,
          null,
          null,
          null,
          null,
          null,
          null,
          null,
          null,
          null,
          null,
          null,
          null,
          null,
          null,
          null,
          null,
          null,
          null,
          null,
          null,
          null,
          null,
          null,
          null,
          null,
          null,
          null,
          null,
          null,
          null,
          null,
          null,
          null,
          null,
          null,
          null,
          null,
          null,
          null,
          null,
          null,
          null,
          null,
          null,
          null,
          null,
          null,
          null,
          null,
          null,
          null,
          null,
          null,
          null,
          null,
          null,
          null,
          null,
          null,
          null,
          null,
          null,
          null,
          null,
          null,
          null,
          null,
          null,
          null,
          null,
          null,
          null,
          2.8334068250718802E7,
          2.8676347822751164E7,
          2.8371948226049475E7,
          2.991271322593847E7,
          2.877960075135359E7,
          2.9063966565360412E7,
          2.9033265215267554E7,
          3.0849749710458644E7
         ],
         "yaxis": "y",
         "type": "scatter"
        },
        {
         "hovertemplate": "variable=Total 401k - UTS Predicted<br>Calendar Date=%{x}<br>value=%{y}<extra></extra>",
         "legendgroup": "Total 401k - UTS Predicted",
         "line": {
          "color": "#00cc96",
          "dash": "solid"
         },
         "marker": {
          "symbol": "circle"
         },
         "mode": "lines",
         "name": "Total 401k - UTS Predicted",
         "orientation": "v",
         "showlegend": true,
         "x": [
          "2014-06-01T00:00:00",
          "2014-07-01T00:00:00",
          "2014-08-01T00:00:00",
          "2014-09-01T00:00:00",
          "2014-10-01T00:00:00",
          "2014-11-01T00:00:00",
          "2014-12-01T00:00:00",
          "2015-01-01T00:00:00",
          "2015-02-01T00:00:00",
          "2015-03-01T00:00:00",
          "2015-04-01T00:00:00",
          "2015-05-01T00:00:00",
          "2015-06-01T00:00:00",
          "2015-07-01T00:00:00",
          "2015-08-01T00:00:00",
          "2015-09-01T00:00:00",
          "2015-10-01T00:00:00",
          "2015-11-01T00:00:00",
          "2015-12-01T00:00:00",
          "2016-01-01T00:00:00",
          "2016-02-01T00:00:00",
          "2016-03-01T00:00:00",
          "2016-04-01T00:00:00",
          "2016-05-01T00:00:00",
          "2016-06-01T00:00:00",
          "2016-07-01T00:00:00",
          "2016-08-01T00:00:00",
          "2016-09-01T00:00:00",
          "2016-10-01T00:00:00",
          "2016-11-01T00:00:00",
          "2016-12-01T00:00:00",
          "2017-01-01T00:00:00",
          "2017-02-01T00:00:00",
          "2017-03-01T00:00:00",
          "2017-04-01T00:00:00",
          "2017-05-01T00:00:00",
          "2017-06-01T00:00:00",
          "2017-07-01T00:00:00",
          "2017-08-01T00:00:00",
          "2017-09-01T00:00:00",
          "2017-10-01T00:00:00",
          "2017-11-01T00:00:00",
          "2017-12-01T00:00:00",
          "2018-01-01T00:00:00",
          "2018-02-01T00:00:00",
          "2018-03-01T00:00:00",
          "2018-04-01T00:00:00",
          "2018-05-01T00:00:00",
          "2018-06-01T00:00:00",
          "2018-07-01T00:00:00",
          "2018-08-01T00:00:00",
          "2018-09-01T00:00:00",
          "2018-10-01T00:00:00",
          "2018-11-01T00:00:00",
          "2018-12-01T00:00:00",
          "2019-01-01T00:00:00",
          "2019-02-01T00:00:00",
          "2019-03-01T00:00:00",
          "2019-04-01T00:00:00",
          "2019-05-01T00:00:00",
          "2019-06-01T00:00:00",
          "2019-07-01T00:00:00",
          "2019-08-01T00:00:00",
          "2019-09-01T00:00:00",
          "2019-10-01T00:00:00",
          "2019-11-01T00:00:00",
          "2019-12-01T00:00:00",
          "2020-01-01T00:00:00",
          "2020-02-01T00:00:00",
          "2020-03-01T00:00:00",
          "2020-04-01T00:00:00",
          "2020-05-01T00:00:00",
          "2020-06-01T00:00:00",
          "2020-07-01T00:00:00",
          "2020-08-01T00:00:00",
          "2020-09-01T00:00:00",
          "2020-10-01T00:00:00",
          "2020-11-01T00:00:00",
          "2020-12-01T00:00:00",
          "2021-01-01T00:00:00",
          "2021-02-01T00:00:00",
          "2021-03-01T00:00:00",
          "2021-04-01T00:00:00",
          "2021-05-01T00:00:00",
          "2021-06-01T00:00:00",
          "2021-07-01T00:00:00",
          "2021-08-01T00:00:00",
          "2021-09-01T00:00:00",
          "2021-10-01T00:00:00",
          "2021-11-01T00:00:00",
          "2021-12-01T00:00:00",
          "2022-01-01T00:00:00"
         ],
         "xaxis": "x",
         "y": [
          null,
          null,
          null,
          null,
          null,
          null,
          null,
          null,
          null,
          null,
          null,
          null,
          null,
          null,
          null,
          null,
          null,
          null,
          null,
          null,
          null,
          null,
          null,
          null,
          null,
          null,
          null,
          null,
          null,
          null,
          null,
          null,
          null,
          null,
          null,
          null,
          null,
          null,
          null,
          null,
          null,
          null,
          null,
          null,
          null,
          null,
          null,
          null,
          null,
          null,
          null,
          null,
          null,
          null,
          null,
          null,
          null,
          null,
          null,
          null,
          null,
          null,
          null,
          null,
          null,
          null,
          null,
          null,
          null,
          null,
          null,
          null,
          null,
          null,
          null,
          null,
          null,
          null,
          null,
          null,
          null,
          null,
          null,
          null,
          2.3311337841501117E7,
          2.4165751359151416E7,
          2.405135004101136E7,
          2.6314618373598184E7,
          2.4229268143322363E7,
          2.4175447936961126E7,
          2.509498394172057E7,
          2.4919085944342576E7
         ],
         "yaxis": "y",
         "type": "scatter"
        },
        {
         "hovertemplate": "variable=Total 401k - Plan<br>Calendar Date=%{x}<br>value=%{y}<extra></extra>",
         "legendgroup": "Total 401k - Plan",
         "line": {
          "color": "#ab63fa",
          "dash": "solid"
         },
         "marker": {
          "symbol": "circle"
         },
         "mode": "lines",
         "name": "Total 401k - Plan",
         "orientation": "v",
         "showlegend": true,
         "x": [
          "2014-06-01T00:00:00",
          "2014-07-01T00:00:00",
          "2014-08-01T00:00:00",
          "2014-09-01T00:00:00",
          "2014-10-01T00:00:00",
          "2014-11-01T00:00:00",
          "2014-12-01T00:00:00",
          "2015-01-01T00:00:00",
          "2015-02-01T00:00:00",
          "2015-03-01T00:00:00",
          "2015-04-01T00:00:00",
          "2015-05-01T00:00:00",
          "2015-06-01T00:00:00",
          "2015-07-01T00:00:00",
          "2015-08-01T00:00:00",
          "2015-09-01T00:00:00",
          "2015-10-01T00:00:00",
          "2015-11-01T00:00:00",
          "2015-12-01T00:00:00",
          "2016-01-01T00:00:00",
          "2016-02-01T00:00:00",
          "2016-03-01T00:00:00",
          "2016-04-01T00:00:00",
          "2016-05-01T00:00:00",
          "2016-06-01T00:00:00",
          "2016-07-01T00:00:00",
          "2016-08-01T00:00:00",
          "2016-09-01T00:00:00",
          "2016-10-01T00:00:00",
          "2016-11-01T00:00:00",
          "2016-12-01T00:00:00",
          "2017-01-01T00:00:00",
          "2017-02-01T00:00:00",
          "2017-03-01T00:00:00",
          "2017-04-01T00:00:00",
          "2017-05-01T00:00:00",
          "2017-06-01T00:00:00",
          "2017-07-01T00:00:00",
          "2017-08-01T00:00:00",
          "2017-09-01T00:00:00",
          "2017-10-01T00:00:00",
          "2017-11-01T00:00:00",
          "2017-12-01T00:00:00",
          "2018-01-01T00:00:00",
          "2018-02-01T00:00:00",
          "2018-03-01T00:00:00",
          "2018-04-01T00:00:00",
          "2018-05-01T00:00:00",
          "2018-06-01T00:00:00",
          "2018-07-01T00:00:00",
          "2018-08-01T00:00:00",
          "2018-09-01T00:00:00",
          "2018-10-01T00:00:00",
          "2018-11-01T00:00:00",
          "2018-12-01T00:00:00",
          "2019-01-01T00:00:00",
          "2019-02-01T00:00:00",
          "2019-03-01T00:00:00",
          "2019-04-01T00:00:00",
          "2019-05-01T00:00:00",
          "2019-06-01T00:00:00",
          "2019-07-01T00:00:00",
          "2019-08-01T00:00:00",
          "2019-09-01T00:00:00",
          "2019-10-01T00:00:00",
          "2019-11-01T00:00:00",
          "2019-12-01T00:00:00",
          "2020-01-01T00:00:00",
          "2020-02-01T00:00:00",
          "2020-03-01T00:00:00",
          "2020-04-01T00:00:00",
          "2020-05-01T00:00:00",
          "2020-06-01T00:00:00",
          "2020-07-01T00:00:00",
          "2020-08-01T00:00:00",
          "2020-09-01T00:00:00",
          "2020-10-01T00:00:00",
          "2020-11-01T00:00:00",
          "2020-12-01T00:00:00",
          "2021-01-01T00:00:00",
          "2021-02-01T00:00:00",
          "2021-03-01T00:00:00",
          "2021-04-01T00:00:00",
          "2021-05-01T00:00:00",
          "2021-06-01T00:00:00",
          "2021-07-01T00:00:00",
          "2021-08-01T00:00:00",
          "2021-09-01T00:00:00",
          "2021-10-01T00:00:00",
          "2021-11-01T00:00:00",
          "2021-12-01T00:00:00",
          "2022-01-01T00:00:00"
         ],
         "xaxis": "x",
         "y": [
          null,
          null,
          null,
          null,
          null,
          null,
          null,
          null,
          null,
          null,
          null,
          null,
          null,
          null,
          null,
          null,
          null,
          null,
          null,
          null,
          null,
          null,
          null,
          null,
          null,
          null,
          null,
          null,
          null,
          null,
          null,
          null,
          null,
          null,
          null,
          null,
          null,
          null,
          null,
          null,
          null,
          null,
          null,
          null,
          null,
          null,
          null,
          null,
          null,
          null,
          null,
          null,
          null,
          null,
          null,
          null,
          null,
          null,
          null,
          null,
          null,
          null,
          null,
          null,
          null,
          null,
          null,
          null,
          null,
          null,
          null,
          null,
          null,
          null,
          null,
          null,
          null,
          null,
          null,
          null,
          null,
          null,
          null,
          null,
          2.3661269E7,
          2.4203741E7,
          2.4366204E7,
          2.6002241E7,
          2.430907E7,
          2.3991424E7,
          2.4841928E7,
          2.5329871E7
         ],
         "yaxis": "y",
         "type": "scatter"
        },
        {
         "hovertemplate": "variable=Total 401k - 2+10 Forecast<br>Calendar Date=%{x}<br>value=%{y}<extra></extra>",
         "legendgroup": "Total 401k - 2+10 Forecast",
         "line": {
          "color": "#FFA15A",
          "dash": "solid"
         },
         "marker": {
          "symbol": "circle"
         },
         "mode": "lines",
         "name": "Total 401k - 2+10 Forecast",
         "orientation": "v",
         "showlegend": true,
         "x": [
          "2014-06-01T00:00:00",
          "2014-07-01T00:00:00",
          "2014-08-01T00:00:00",
          "2014-09-01T00:00:00",
          "2014-10-01T00:00:00",
          "2014-11-01T00:00:00",
          "2014-12-01T00:00:00",
          "2015-01-01T00:00:00",
          "2015-02-01T00:00:00",
          "2015-03-01T00:00:00",
          "2015-04-01T00:00:00",
          "2015-05-01T00:00:00",
          "2015-06-01T00:00:00",
          "2015-07-01T00:00:00",
          "2015-08-01T00:00:00",
          "2015-09-01T00:00:00",
          "2015-10-01T00:00:00",
          "2015-11-01T00:00:00",
          "2015-12-01T00:00:00",
          "2016-01-01T00:00:00",
          "2016-02-01T00:00:00",
          "2016-03-01T00:00:00",
          "2016-04-01T00:00:00",
          "2016-05-01T00:00:00",
          "2016-06-01T00:00:00",
          "2016-07-01T00:00:00",
          "2016-08-01T00:00:00",
          "2016-09-01T00:00:00",
          "2016-10-01T00:00:00",
          "2016-11-01T00:00:00",
          "2016-12-01T00:00:00",
          "2017-01-01T00:00:00",
          "2017-02-01T00:00:00",
          "2017-03-01T00:00:00",
          "2017-04-01T00:00:00",
          "2017-05-01T00:00:00",
          "2017-06-01T00:00:00",
          "2017-07-01T00:00:00",
          "2017-08-01T00:00:00",
          "2017-09-01T00:00:00",
          "2017-10-01T00:00:00",
          "2017-11-01T00:00:00",
          "2017-12-01T00:00:00",
          "2018-01-01T00:00:00",
          "2018-02-01T00:00:00",
          "2018-03-01T00:00:00",
          "2018-04-01T00:00:00",
          "2018-05-01T00:00:00",
          "2018-06-01T00:00:00",
          "2018-07-01T00:00:00",
          "2018-08-01T00:00:00",
          "2018-09-01T00:00:00",
          "2018-10-01T00:00:00",
          "2018-11-01T00:00:00",
          "2018-12-01T00:00:00",
          "2019-01-01T00:00:00",
          "2019-02-01T00:00:00",
          "2019-03-01T00:00:00",
          "2019-04-01T00:00:00",
          "2019-05-01T00:00:00",
          "2019-06-01T00:00:00",
          "2019-07-01T00:00:00",
          "2019-08-01T00:00:00",
          "2019-09-01T00:00:00",
          "2019-10-01T00:00:00",
          "2019-11-01T00:00:00",
          "2019-12-01T00:00:00",
          "2020-01-01T00:00:00",
          "2020-02-01T00:00:00",
          "2020-03-01T00:00:00",
          "2020-04-01T00:00:00",
          "2020-05-01T00:00:00",
          "2020-06-01T00:00:00",
          "2020-07-01T00:00:00",
          "2020-08-01T00:00:00",
          "2020-09-01T00:00:00",
          "2020-10-01T00:00:00",
          "2020-11-01T00:00:00",
          "2020-12-01T00:00:00",
          "2021-01-01T00:00:00",
          "2021-02-01T00:00:00",
          "2021-03-01T00:00:00",
          "2021-04-01T00:00:00",
          "2021-05-01T00:00:00",
          "2021-06-01T00:00:00",
          "2021-07-01T00:00:00",
          "2021-08-01T00:00:00",
          "2021-09-01T00:00:00",
          "2021-10-01T00:00:00",
          "2021-11-01T00:00:00",
          "2021-12-01T00:00:00",
          "2022-01-01T00:00:00"
         ],
         "xaxis": "x",
         "y": [
          null,
          null,
          null,
          null,
          null,
          null,
          null,
          null,
          null,
          null,
          null,
          null,
          null,
          null,
          null,
          null,
          null,
          null,
          null,
          null,
          null,
          null,
          null,
          null,
          null,
          null,
          null,
          null,
          null,
          null,
          null,
          null,
          null,
          null,
          null,
          null,
          null,
          null,
          null,
          null,
          null,
          null,
          null,
          null,
          null,
          null,
          null,
          null,
          null,
          null,
          null,
          null,
          null,
          null,
          null,
          null,
          null,
          null,
          null,
          null,
          null,
          null,
          null,
          null,
          null,
          null,
          null,
          null,
          null,
          null,
          null,
          null,
          null,
          null,
          null,
          null,
          null,
          null,
          null,
          null,
          null,
          null,
          null,
          null,
          2.4192008E7,
          2.4136555E7,
          2.4573159E7,
          2.6129436E7,
          2.4438467E7,
          2.4119241E7,
          2.4976139E7,
          2.5457133E7
         ],
         "yaxis": "y",
         "type": "scatter"
        }
       ],
       "layout": {
        "template": {
         "data": {
          "barpolar": [
           {
            "marker": {
             "line": {
              "color": "white",
              "width": 0.5
             },
             "pattern": {
              "fillmode": "overlay",
              "size": 10,
              "solidity": 0.2
             }
            },
            "type": "barpolar"
           }
          ],
          "bar": [
           {
            "error_x": {
             "color": "#2a3f5f"
            },
            "error_y": {
             "color": "#2a3f5f"
            },
            "marker": {
             "line": {
              "color": "white",
              "width": 0.5
             },
             "pattern": {
              "fillmode": "overlay",
              "size": 10,
              "solidity": 0.2
             }
            },
            "type": "bar"
           }
          ],
          "carpet": [
           {
            "aaxis": {
             "endlinecolor": "#2a3f5f",
             "gridcolor": "#C8D4E3",
             "linecolor": "#C8D4E3",
             "minorgridcolor": "#C8D4E3",
             "startlinecolor": "#2a3f5f"
            },
            "baxis": {
             "endlinecolor": "#2a3f5f",
             "gridcolor": "#C8D4E3",
             "linecolor": "#C8D4E3",
             "minorgridcolor": "#C8D4E3",
             "startlinecolor": "#2a3f5f"
            },
            "type": "carpet"
           }
          ],
          "choropleth": [
           {
            "colorbar": {
             "outlinewidth": 0,
             "ticks": ""
            },
            "type": "choropleth"
           }
          ],
          "contourcarpet": [
           {
            "colorbar": {
             "outlinewidth": 0,
             "ticks": ""
            },
            "type": "contourcarpet"
           }
          ],
          "contour": [
           {
            "colorbar": {
             "outlinewidth": 0,
             "ticks": ""
            },
            "colorscale": [
             [
              0.0,
              "#0d0887"
             ],
             [
              0.1111111111111111,
              "#46039f"
             ],
             [
              0.2222222222222222,
              "#7201a8"
             ],
             [
              0.3333333333333333,
              "#9c179e"
             ],
             [
              0.4444444444444444,
              "#bd3786"
             ],
             [
              0.5555555555555556,
              "#d8576b"
             ],
             [
              0.6666666666666666,
              "#ed7953"
             ],
             [
              0.7777777777777778,
              "#fb9f3a"
             ],
             [
              0.8888888888888888,
              "#fdca26"
             ],
             [
              1.0,
              "#f0f921"
             ]
            ],
            "type": "contour"
           }
          ],
          "heatmapgl": [
           {
            "colorbar": {
             "outlinewidth": 0,
             "ticks": ""
            },
            "colorscale": [
             [
              0.0,
              "#0d0887"
             ],
             [
              0.1111111111111111,
              "#46039f"
             ],
             [
              0.2222222222222222,
              "#7201a8"
             ],
             [
              0.3333333333333333,
              "#9c179e"
             ],
             [
              0.4444444444444444,
              "#bd3786"
             ],
             [
              0.5555555555555556,
              "#d8576b"
             ],
             [
              0.6666666666666666,
              "#ed7953"
             ],
             [
              0.7777777777777778,
              "#fb9f3a"
             ],
             [
              0.8888888888888888,
              "#fdca26"
             ],
             [
              1.0,
              "#f0f921"
             ]
            ],
            "type": "heatmapgl"
           }
          ],
          "heatmap": [
           {
            "colorbar": {
             "outlinewidth": 0,
             "ticks": ""
            },
            "colorscale": [
             [
              0.0,
              "#0d0887"
             ],
             [
              0.1111111111111111,
              "#46039f"
             ],
             [
              0.2222222222222222,
              "#7201a8"
             ],
             [
              0.3333333333333333,
              "#9c179e"
             ],
             [
              0.4444444444444444,
              "#bd3786"
             ],
             [
              0.5555555555555556,
              "#d8576b"
             ],
             [
              0.6666666666666666,
              "#ed7953"
             ],
             [
              0.7777777777777778,
              "#fb9f3a"
             ],
             [
              0.8888888888888888,
              "#fdca26"
             ],
             [
              1.0,
              "#f0f921"
             ]
            ],
            "type": "heatmap"
           }
          ],
          "histogram2dcontour": [
           {
            "colorbar": {
             "outlinewidth": 0,
             "ticks": ""
            },
            "colorscale": [
             [
              0.0,
              "#0d0887"
             ],
             [
              0.1111111111111111,
              "#46039f"
             ],
             [
              0.2222222222222222,
              "#7201a8"
             ],
             [
              0.3333333333333333,
              "#9c179e"
             ],
             [
              0.4444444444444444,
              "#bd3786"
             ],
             [
              0.5555555555555556,
              "#d8576b"
             ],
             [
              0.6666666666666666,
              "#ed7953"
             ],
             [
              0.7777777777777778,
              "#fb9f3a"
             ],
             [
              0.8888888888888888,
              "#fdca26"
             ],
             [
              1.0,
              "#f0f921"
             ]
            ],
            "type": "histogram2dcontour"
           }
          ],
          "histogram2d": [
           {
            "colorbar": {
             "outlinewidth": 0,
             "ticks": ""
            },
            "colorscale": [
             [
              0.0,
              "#0d0887"
             ],
             [
              0.1111111111111111,
              "#46039f"
             ],
             [
              0.2222222222222222,
              "#7201a8"
             ],
             [
              0.3333333333333333,
              "#9c179e"
             ],
             [
              0.4444444444444444,
              "#bd3786"
             ],
             [
              0.5555555555555556,
              "#d8576b"
             ],
             [
              0.6666666666666666,
              "#ed7953"
             ],
             [
              0.7777777777777778,
              "#fb9f3a"
             ],
             [
              0.8888888888888888,
              "#fdca26"
             ],
             [
              1.0,
              "#f0f921"
             ]
            ],
            "type": "histogram2d"
           }
          ],
          "histogram": [
           {
            "marker": {
             "pattern": {
              "fillmode": "overlay",
              "size": 10,
              "solidity": 0.2
             }
            },
            "type": "histogram"
           }
          ],
          "mesh3d": [
           {
            "colorbar": {
             "outlinewidth": 0,
             "ticks": ""
            },
            "type": "mesh3d"
           }
          ],
          "parcoords": [
           {
            "line": {
             "colorbar": {
              "outlinewidth": 0,
              "ticks": ""
             }
            },
            "type": "parcoords"
           }
          ],
          "pie": [
           {
            "automargin": true,
            "type": "pie"
           }
          ],
          "scatter3d": [
           {
            "line": {
             "colorbar": {
              "outlinewidth": 0,
              "ticks": ""
             }
            },
            "marker": {
             "colorbar": {
              "outlinewidth": 0,
              "ticks": ""
             }
            },
            "type": "scatter3d"
           }
          ],
          "scattercarpet": [
           {
            "marker": {
             "colorbar": {
              "outlinewidth": 0,
              "ticks": ""
             }
            },
            "type": "scattercarpet"
           }
          ],
          "scattergeo": [
           {
            "marker": {
             "colorbar": {
              "outlinewidth": 0,
              "ticks": ""
             }
            },
            "type": "scattergeo"
           }
          ],
          "scattergl": [
           {
            "marker": {
             "colorbar": {
              "outlinewidth": 0,
              "ticks": ""
             }
            },
            "type": "scattergl"
           }
          ],
          "scattermapbox": [
           {
            "marker": {
             "colorbar": {
              "outlinewidth": 0,
              "ticks": ""
             }
            },
            "type": "scattermapbox"
           }
          ],
          "scatterpolargl": [
           {
            "marker": {
             "colorbar": {
              "outlinewidth": 0,
              "ticks": ""
             }
            },
            "type": "scatterpolargl"
           }
          ],
          "scatterpolar": [
           {
            "marker": {
             "colorbar": {
              "outlinewidth": 0,
              "ticks": ""
             }
            },
            "type": "scatterpolar"
           }
          ],
          "scatter": [
           {
            "fillpattern": {
             "fillmode": "overlay",
             "size": 10,
             "solidity": 0.2
            },
            "type": "scatter"
           }
          ],
          "scatterternary": [
           {
            "marker": {
             "colorbar": {
              "outlinewidth": 0,
              "ticks": ""
             }
            },
            "type": "scatterternary"
           }
          ],
          "surface": [
           {
            "colorbar": {
             "outlinewidth": 0,
             "ticks": ""
            },
            "colorscale": [
             [
              0.0,
              "#0d0887"
             ],
             [
              0.1111111111111111,
              "#46039f"
             ],
             [
              0.2222222222222222,
              "#7201a8"
             ],
             [
              0.3333333333333333,
              "#9c179e"
             ],
             [
              0.4444444444444444,
              "#bd3786"
             ],
             [
              0.5555555555555556,
              "#d8576b"
             ],
             [
              0.6666666666666666,
              "#ed7953"
             ],
             [
              0.7777777777777778,
              "#fb9f3a"
             ],
             [
              0.8888888888888888,
              "#fdca26"
             ],
             [
              1.0,
              "#f0f921"
             ]
            ],
            "type": "surface"
           }
          ],
          "table": [
           {
            "cells": {
             "fill": {
              "color": "#EBF0F8"
             },
             "line": {
              "color": "white"
             }
            },
            "header": {
             "fill": {
              "color": "#C8D4E3"
             },
             "line": {
              "color": "white"
             }
            },
            "type": "table"
           }
          ]
         },
         "layout": {
          "annotationdefaults": {
           "arrowcolor": "#2a3f5f",
           "arrowhead": 0,
           "arrowwidth": 1
          },
          "autotypenumbers": "strict",
          "coloraxis": {
           "colorbar": {
            "outlinewidth": 0,
            "ticks": ""
           }
          },
          "colorscale": {
           "diverging": [
            [
             0,
             "#8e0152"
            ],
            [
             0.1,
             "#c51b7d"
            ],
            [
             0.2,
             "#de77ae"
            ],
            [
             0.3,
             "#f1b6da"
            ],
            [
             0.4,
             "#fde0ef"
            ],
            [
             0.5,
             "#f7f7f7"
            ],
            [
             0.6,
             "#e6f5d0"
            ],
            [
             0.7,
             "#b8e186"
            ],
            [
             0.8,
             "#7fbc41"
            ],
            [
             0.9,
             "#4d9221"
            ],
            [
             1,
             "#276419"
            ]
           ],
           "sequential": [
            [
             0.0,
             "#0d0887"
            ],
            [
             0.1111111111111111,
             "#46039f"
            ],
            [
             0.2222222222222222,
             "#7201a8"
            ],
            [
             0.3333333333333333,
             "#9c179e"
            ],
            [
             0.4444444444444444,
             "#bd3786"
            ],
            [
             0.5555555555555556,
             "#d8576b"
            ],
            [
             0.6666666666666666,
             "#ed7953"
            ],
            [
             0.7777777777777778,
             "#fb9f3a"
            ],
            [
             0.8888888888888888,
             "#fdca26"
            ],
            [
             1.0,
             "#f0f921"
            ]
           ],
           "sequentialminus": [
            [
             0.0,
             "#0d0887"
            ],
            [
             0.1111111111111111,
             "#46039f"
            ],
            [
             0.2222222222222222,
             "#7201a8"
            ],
            [
             0.3333333333333333,
             "#9c179e"
            ],
            [
             0.4444444444444444,
             "#bd3786"
            ],
            [
             0.5555555555555556,
             "#d8576b"
            ],
            [
             0.6666666666666666,
             "#ed7953"
            ],
            [
             0.7777777777777778,
             "#fb9f3a"
            ],
            [
             0.8888888888888888,
             "#fdca26"
            ],
            [
             1.0,
             "#f0f921"
            ]
           ]
          },
          "colorway": [
           "#636efa",
           "#EF553B",
           "#00cc96",
           "#ab63fa",
           "#FFA15A",
           "#19d3f3",
           "#FF6692",
           "#B6E880",
           "#FF97FF",
           "#FECB52"
          ],
          "font": {
           "color": "#2a3f5f"
          },
          "geo": {
           "bgcolor": "white",
           "lakecolor": "white",
           "landcolor": "white",
           "showlakes": true,
           "showland": true,
           "subunitcolor": "#C8D4E3"
          },
          "hoverlabel": {
           "align": "left"
          },
          "hovermode": "closest",
          "mapbox": {
           "style": "light"
          },
          "paper_bgcolor": "white",
          "plot_bgcolor": "white",
          "polar": {
           "angularaxis": {
            "gridcolor": "#EBF0F8",
            "linecolor": "#EBF0F8",
            "ticks": ""
           },
           "bgcolor": "white",
           "radialaxis": {
            "gridcolor": "#EBF0F8",
            "linecolor": "#EBF0F8",
            "ticks": ""
           }
          },
          "scene": {
           "xaxis": {
            "backgroundcolor": "white",
            "gridcolor": "#DFE8F3",
            "gridwidth": 2,
            "linecolor": "#EBF0F8",
            "showbackground": true,
            "ticks": "",
            "zerolinecolor": "#EBF0F8"
           },
           "yaxis": {
            "backgroundcolor": "white",
            "gridcolor": "#DFE8F3",
            "gridwidth": 2,
            "linecolor": "#EBF0F8",
            "showbackground": true,
            "ticks": "",
            "zerolinecolor": "#EBF0F8"
           },
           "zaxis": {
            "backgroundcolor": "white",
            "gridcolor": "#DFE8F3",
            "gridwidth": 2,
            "linecolor": "#EBF0F8",
            "showbackground": true,
            "ticks": "",
            "zerolinecolor": "#EBF0F8"
           }
          },
          "shapedefaults": {
           "line": {
            "color": "#2a3f5f"
           }
          },
          "ternary": {
           "aaxis": {
            "gridcolor": "#DFE8F3",
            "linecolor": "#A2B1C6",
            "ticks": ""
           },
           "baxis": {
            "gridcolor": "#DFE8F3",
            "linecolor": "#A2B1C6",
            "ticks": ""
           },
           "bgcolor": "white",
           "caxis": {
            "gridcolor": "#DFE8F3",
            "linecolor": "#A2B1C6",
            "ticks": ""
           }
          },
          "title": {
           "x": 0.05
          },
          "xaxis": {
           "automargin": true,
           "gridcolor": "#EBF0F8",
           "linecolor": "#EBF0F8",
           "ticks": "",
           "title": {
            "standoff": 15
           },
           "zerolinecolor": "#EBF0F8",
           "zerolinewidth": 2
          },
          "yaxis": {
           "automargin": true,
           "gridcolor": "#EBF0F8",
           "linecolor": "#EBF0F8",
           "ticks": "",
           "title": {
            "standoff": 15
           },
           "zerolinecolor": "#EBF0F8",
           "zerolinewidth": 2
          }
         }
        },
        "xaxis": {
         "anchor": "y",
         "domain": [
          0.0,
          1.0
         ],
         "title": {
          "text": "Calendar Date"
         }
        },
        "yaxis": {
         "anchor": "x",
         "domain": [
          0.0,
          1.0
         ],
         "title": {
          "text": "value"
         }
        },
        "legend": {
         "title": {
          "text": "variable"
         },
         "tracegroupgap": 0
        },
        "margin": {
         "t": 60
        }
       },
       "config": {
        "plotlyServerURL": "https://plot.ly"
       }
      },
      "text/html": "<div>                            <div id=\"7020df9d-a0ea-439c-a8ef-9471124b950f\" class=\"plotly-graph-div\" style=\"height:525px; width:100%;\"></div>            <script type=\"text/javascript\">                require([\"plotly\"], function(Plotly) {                    window.PLOTLYENV=window.PLOTLYENV || {};                                    if (document.getElementById(\"7020df9d-a0ea-439c-a8ef-9471124b950f\")) {                    Plotly.newPlot(                        \"7020df9d-a0ea-439c-a8ef-9471124b950f\",                        [{\"hovertemplate\":\"variable=Total 401k<br>Calendar Date=%{x}<br>value=%{y}<extra></extra>\",\"legendgroup\":\"Total 401k\",\"line\":{\"color\":\"#636efa\",\"dash\":\"solid\"},\"marker\":{\"symbol\":\"circle\"},\"mode\":\"lines\",\"name\":\"Total 401k\",\"orientation\":\"v\",\"showlegend\":true,\"x\":[\"2014-06-01T00:00:00\",\"2014-07-01T00:00:00\",\"2014-08-01T00:00:00\",\"2014-09-01T00:00:00\",\"2014-10-01T00:00:00\",\"2014-11-01T00:00:00\",\"2014-12-01T00:00:00\",\"2015-01-01T00:00:00\",\"2015-02-01T00:00:00\",\"2015-03-01T00:00:00\",\"2015-04-01T00:00:00\",\"2015-05-01T00:00:00\",\"2015-06-01T00:00:00\",\"2015-07-01T00:00:00\",\"2015-08-01T00:00:00\",\"2015-09-01T00:00:00\",\"2015-10-01T00:00:00\",\"2015-11-01T00:00:00\",\"2015-12-01T00:00:00\",\"2016-01-01T00:00:00\",\"2016-02-01T00:00:00\",\"2016-03-01T00:00:00\",\"2016-04-01T00:00:00\",\"2016-05-01T00:00:00\",\"2016-06-01T00:00:00\",\"2016-07-01T00:00:00\",\"2016-08-01T00:00:00\",\"2016-09-01T00:00:00\",\"2016-10-01T00:00:00\",\"2016-11-01T00:00:00\",\"2016-12-01T00:00:00\",\"2017-01-01T00:00:00\",\"2017-02-01T00:00:00\",\"2017-03-01T00:00:00\",\"2017-04-01T00:00:00\",\"2017-05-01T00:00:00\",\"2017-06-01T00:00:00\",\"2017-07-01T00:00:00\",\"2017-08-01T00:00:00\",\"2017-09-01T00:00:00\",\"2017-10-01T00:00:00\",\"2017-11-01T00:00:00\",\"2017-12-01T00:00:00\",\"2018-01-01T00:00:00\",\"2018-02-01T00:00:00\",\"2018-03-01T00:00:00\",\"2018-04-01T00:00:00\",\"2018-05-01T00:00:00\",\"2018-06-01T00:00:00\",\"2018-07-01T00:00:00\",\"2018-08-01T00:00:00\",\"2018-09-01T00:00:00\",\"2018-10-01T00:00:00\",\"2018-11-01T00:00:00\",\"2018-12-01T00:00:00\",\"2019-01-01T00:00:00\",\"2019-02-01T00:00:00\",\"2019-03-01T00:00:00\",\"2019-04-01T00:00:00\",\"2019-05-01T00:00:00\",\"2019-06-01T00:00:00\",\"2019-07-01T00:00:00\",\"2019-08-01T00:00:00\",\"2019-09-01T00:00:00\",\"2019-10-01T00:00:00\",\"2019-11-01T00:00:00\",\"2019-12-01T00:00:00\",\"2020-01-01T00:00:00\",\"2020-02-01T00:00:00\",\"2020-03-01T00:00:00\",\"2020-04-01T00:00:00\",\"2020-05-01T00:00:00\",\"2020-06-01T00:00:00\",\"2020-07-01T00:00:00\",\"2020-08-01T00:00:00\",\"2020-09-01T00:00:00\",\"2020-10-01T00:00:00\",\"2020-11-01T00:00:00\",\"2020-12-01T00:00:00\",\"2021-01-01T00:00:00\",\"2021-02-01T00:00:00\",\"2021-03-01T00:00:00\",\"2021-04-01T00:00:00\",\"2021-05-01T00:00:00\",\"2021-06-01T00:00:00\",\"2021-07-01T00:00:00\",\"2021-08-01T00:00:00\",\"2021-09-01T00:00:00\",\"2021-10-01T00:00:00\",\"2021-11-01T00:00:00\",\"2021-12-01T00:00:00\",\"2022-01-01T00:00:00\"],\"xaxis\":\"x\",\"y\":[14883415.0,15071770.0,14783931.0,17075300.0,18252955.0,15516157.0,20015898.0,17715332.0,16887109.0,16015058.0,17825264.0,16920951.0,15124413.0,16058053.0,15469895.0,16687016.0,15324999.0,15482325.0,16374782.0,15947797.0,15821561.0,16032217.0,16630537.0,16279134.0,16334840.0,16614645.0,17011690.0,16626889.0,17258300.0,16832332.0,16864889.0,17480827.0,17040416.0,17675240.0,17885987.0,17870924.0,18044317.0,18493593.0,17749500.0,19403341.0,18916146.0,18350152.0,18981140.0,19607871.0,18349855.0,19646009.0,19233113.0,18909694.0,19833195.0,19847062.0,20122392.0,22808778.0,20309331.0,19805587.0,19978109.0,19516714.0,19497190.0,20250081.0,20648711.0,20805272.0,20591156.0,21512687.0,21062547.0,24084523.0,21289253.0,21990310.0,21884534.0,22501494.0,22353183.0,21749496.0,20519508.0,22347344.0,20843393.0,22352127.0,21944199.0,24630413.0,21963794.0,22231041.0,23311415.0,23143324.0,23583890.0,24032102.0,23829965.0,23646057.0,24192008.0,24136555.0,24432497.0,27574022.0,24476676.0,25836220.0,26002179.0,25826263.0],\"yaxis\":\"y\",\"type\":\"scatter\"},{\"hovertemplate\":\"variable=Total 401k - ML Predicted<br>Calendar Date=%{x}<br>value=%{y}<extra></extra>\",\"legendgroup\":\"Total 401k - ML Predicted\",\"line\":{\"color\":\"#EF553B\",\"dash\":\"solid\"},\"marker\":{\"symbol\":\"circle\"},\"mode\":\"lines\",\"name\":\"Total 401k - ML Predicted\",\"orientation\":\"v\",\"showlegend\":true,\"x\":[\"2014-06-01T00:00:00\",\"2014-07-01T00:00:00\",\"2014-08-01T00:00:00\",\"2014-09-01T00:00:00\",\"2014-10-01T00:00:00\",\"2014-11-01T00:00:00\",\"2014-12-01T00:00:00\",\"2015-01-01T00:00:00\",\"2015-02-01T00:00:00\",\"2015-03-01T00:00:00\",\"2015-04-01T00:00:00\",\"2015-05-01T00:00:00\",\"2015-06-01T00:00:00\",\"2015-07-01T00:00:00\",\"2015-08-01T00:00:00\",\"2015-09-01T00:00:00\",\"2015-10-01T00:00:00\",\"2015-11-01T00:00:00\",\"2015-12-01T00:00:00\",\"2016-01-01T00:00:00\",\"2016-02-01T00:00:00\",\"2016-03-01T00:00:00\",\"2016-04-01T00:00:00\",\"2016-05-01T00:00:00\",\"2016-06-01T00:00:00\",\"2016-07-01T00:00:00\",\"2016-08-01T00:00:00\",\"2016-09-01T00:00:00\",\"2016-10-01T00:00:00\",\"2016-11-01T00:00:00\",\"2016-12-01T00:00:00\",\"2017-01-01T00:00:00\",\"2017-02-01T00:00:00\",\"2017-03-01T00:00:00\",\"2017-04-01T00:00:00\",\"2017-05-01T00:00:00\",\"2017-06-01T00:00:00\",\"2017-07-01T00:00:00\",\"2017-08-01T00:00:00\",\"2017-09-01T00:00:00\",\"2017-10-01T00:00:00\",\"2017-11-01T00:00:00\",\"2017-12-01T00:00:00\",\"2018-01-01T00:00:00\",\"2018-02-01T00:00:00\",\"2018-03-01T00:00:00\",\"2018-04-01T00:00:00\",\"2018-05-01T00:00:00\",\"2018-06-01T00:00:00\",\"2018-07-01T00:00:00\",\"2018-08-01T00:00:00\",\"2018-09-01T00:00:00\",\"2018-10-01T00:00:00\",\"2018-11-01T00:00:00\",\"2018-12-01T00:00:00\",\"2019-01-01T00:00:00\",\"2019-02-01T00:00:00\",\"2019-03-01T00:00:00\",\"2019-04-01T00:00:00\",\"2019-05-01T00:00:00\",\"2019-06-01T00:00:00\",\"2019-07-01T00:00:00\",\"2019-08-01T00:00:00\",\"2019-09-01T00:00:00\",\"2019-10-01T00:00:00\",\"2019-11-01T00:00:00\",\"2019-12-01T00:00:00\",\"2020-01-01T00:00:00\",\"2020-02-01T00:00:00\",\"2020-03-01T00:00:00\",\"2020-04-01T00:00:00\",\"2020-05-01T00:00:00\",\"2020-06-01T00:00:00\",\"2020-07-01T00:00:00\",\"2020-08-01T00:00:00\",\"2020-09-01T00:00:00\",\"2020-10-01T00:00:00\",\"2020-11-01T00:00:00\",\"2020-12-01T00:00:00\",\"2021-01-01T00:00:00\",\"2021-02-01T00:00:00\",\"2021-03-01T00:00:00\",\"2021-04-01T00:00:00\",\"2021-05-01T00:00:00\",\"2021-06-01T00:00:00\",\"2021-07-01T00:00:00\",\"2021-08-01T00:00:00\",\"2021-09-01T00:00:00\",\"2021-10-01T00:00:00\",\"2021-11-01T00:00:00\",\"2021-12-01T00:00:00\",\"2022-01-01T00:00:00\"],\"xaxis\":\"x\",\"y\":[null,null,null,null,null,null,null,null,null,null,null,null,null,null,null,null,null,null,null,null,null,null,null,null,null,null,null,null,null,null,null,null,null,null,null,null,null,null,null,null,null,null,null,null,null,null,null,null,null,null,null,null,null,null,null,null,null,null,null,null,null,null,null,null,null,null,null,null,null,null,null,null,null,null,null,null,null,null,null,null,null,null,null,null,28334068.250718802,28676347.822751164,28371948.226049475,29912713.22593847,28779600.75135359,29063966.565360412,29033265.215267554,30849749.710458644],\"yaxis\":\"y\",\"type\":\"scatter\"},{\"hovertemplate\":\"variable=Total 401k - UTS Predicted<br>Calendar Date=%{x}<br>value=%{y}<extra></extra>\",\"legendgroup\":\"Total 401k - UTS Predicted\",\"line\":{\"color\":\"#00cc96\",\"dash\":\"solid\"},\"marker\":{\"symbol\":\"circle\"},\"mode\":\"lines\",\"name\":\"Total 401k - UTS Predicted\",\"orientation\":\"v\",\"showlegend\":true,\"x\":[\"2014-06-01T00:00:00\",\"2014-07-01T00:00:00\",\"2014-08-01T00:00:00\",\"2014-09-01T00:00:00\",\"2014-10-01T00:00:00\",\"2014-11-01T00:00:00\",\"2014-12-01T00:00:00\",\"2015-01-01T00:00:00\",\"2015-02-01T00:00:00\",\"2015-03-01T00:00:00\",\"2015-04-01T00:00:00\",\"2015-05-01T00:00:00\",\"2015-06-01T00:00:00\",\"2015-07-01T00:00:00\",\"2015-08-01T00:00:00\",\"2015-09-01T00:00:00\",\"2015-10-01T00:00:00\",\"2015-11-01T00:00:00\",\"2015-12-01T00:00:00\",\"2016-01-01T00:00:00\",\"2016-02-01T00:00:00\",\"2016-03-01T00:00:00\",\"2016-04-01T00:00:00\",\"2016-05-01T00:00:00\",\"2016-06-01T00:00:00\",\"2016-07-01T00:00:00\",\"2016-08-01T00:00:00\",\"2016-09-01T00:00:00\",\"2016-10-01T00:00:00\",\"2016-11-01T00:00:00\",\"2016-12-01T00:00:00\",\"2017-01-01T00:00:00\",\"2017-02-01T00:00:00\",\"2017-03-01T00:00:00\",\"2017-04-01T00:00:00\",\"2017-05-01T00:00:00\",\"2017-06-01T00:00:00\",\"2017-07-01T00:00:00\",\"2017-08-01T00:00:00\",\"2017-09-01T00:00:00\",\"2017-10-01T00:00:00\",\"2017-11-01T00:00:00\",\"2017-12-01T00:00:00\",\"2018-01-01T00:00:00\",\"2018-02-01T00:00:00\",\"2018-03-01T00:00:00\",\"2018-04-01T00:00:00\",\"2018-05-01T00:00:00\",\"2018-06-01T00:00:00\",\"2018-07-01T00:00:00\",\"2018-08-01T00:00:00\",\"2018-09-01T00:00:00\",\"2018-10-01T00:00:00\",\"2018-11-01T00:00:00\",\"2018-12-01T00:00:00\",\"2019-01-01T00:00:00\",\"2019-02-01T00:00:00\",\"2019-03-01T00:00:00\",\"2019-04-01T00:00:00\",\"2019-05-01T00:00:00\",\"2019-06-01T00:00:00\",\"2019-07-01T00:00:00\",\"2019-08-01T00:00:00\",\"2019-09-01T00:00:00\",\"2019-10-01T00:00:00\",\"2019-11-01T00:00:00\",\"2019-12-01T00:00:00\",\"2020-01-01T00:00:00\",\"2020-02-01T00:00:00\",\"2020-03-01T00:00:00\",\"2020-04-01T00:00:00\",\"2020-05-01T00:00:00\",\"2020-06-01T00:00:00\",\"2020-07-01T00:00:00\",\"2020-08-01T00:00:00\",\"2020-09-01T00:00:00\",\"2020-10-01T00:00:00\",\"2020-11-01T00:00:00\",\"2020-12-01T00:00:00\",\"2021-01-01T00:00:00\",\"2021-02-01T00:00:00\",\"2021-03-01T00:00:00\",\"2021-04-01T00:00:00\",\"2021-05-01T00:00:00\",\"2021-06-01T00:00:00\",\"2021-07-01T00:00:00\",\"2021-08-01T00:00:00\",\"2021-09-01T00:00:00\",\"2021-10-01T00:00:00\",\"2021-11-01T00:00:00\",\"2021-12-01T00:00:00\",\"2022-01-01T00:00:00\"],\"xaxis\":\"x\",\"y\":[null,null,null,null,null,null,null,null,null,null,null,null,null,null,null,null,null,null,null,null,null,null,null,null,null,null,null,null,null,null,null,null,null,null,null,null,null,null,null,null,null,null,null,null,null,null,null,null,null,null,null,null,null,null,null,null,null,null,null,null,null,null,null,null,null,null,null,null,null,null,null,null,null,null,null,null,null,null,null,null,null,null,null,null,23311337.841501117,24165751.359151416,24051350.04101136,26314618.373598184,24229268.143322363,24175447.936961126,25094983.94172057,24919085.944342576],\"yaxis\":\"y\",\"type\":\"scatter\"},{\"hovertemplate\":\"variable=Total 401k - Plan<br>Calendar Date=%{x}<br>value=%{y}<extra></extra>\",\"legendgroup\":\"Total 401k - Plan\",\"line\":{\"color\":\"#ab63fa\",\"dash\":\"solid\"},\"marker\":{\"symbol\":\"circle\"},\"mode\":\"lines\",\"name\":\"Total 401k - Plan\",\"orientation\":\"v\",\"showlegend\":true,\"x\":[\"2014-06-01T00:00:00\",\"2014-07-01T00:00:00\",\"2014-08-01T00:00:00\",\"2014-09-01T00:00:00\",\"2014-10-01T00:00:00\",\"2014-11-01T00:00:00\",\"2014-12-01T00:00:00\",\"2015-01-01T00:00:00\",\"2015-02-01T00:00:00\",\"2015-03-01T00:00:00\",\"2015-04-01T00:00:00\",\"2015-05-01T00:00:00\",\"2015-06-01T00:00:00\",\"2015-07-01T00:00:00\",\"2015-08-01T00:00:00\",\"2015-09-01T00:00:00\",\"2015-10-01T00:00:00\",\"2015-11-01T00:00:00\",\"2015-12-01T00:00:00\",\"2016-01-01T00:00:00\",\"2016-02-01T00:00:00\",\"2016-03-01T00:00:00\",\"2016-04-01T00:00:00\",\"2016-05-01T00:00:00\",\"2016-06-01T00:00:00\",\"2016-07-01T00:00:00\",\"2016-08-01T00:00:00\",\"2016-09-01T00:00:00\",\"2016-10-01T00:00:00\",\"2016-11-01T00:00:00\",\"2016-12-01T00:00:00\",\"2017-01-01T00:00:00\",\"2017-02-01T00:00:00\",\"2017-03-01T00:00:00\",\"2017-04-01T00:00:00\",\"2017-05-01T00:00:00\",\"2017-06-01T00:00:00\",\"2017-07-01T00:00:00\",\"2017-08-01T00:00:00\",\"2017-09-01T00:00:00\",\"2017-10-01T00:00:00\",\"2017-11-01T00:00:00\",\"2017-12-01T00:00:00\",\"2018-01-01T00:00:00\",\"2018-02-01T00:00:00\",\"2018-03-01T00:00:00\",\"2018-04-01T00:00:00\",\"2018-05-01T00:00:00\",\"2018-06-01T00:00:00\",\"2018-07-01T00:00:00\",\"2018-08-01T00:00:00\",\"2018-09-01T00:00:00\",\"2018-10-01T00:00:00\",\"2018-11-01T00:00:00\",\"2018-12-01T00:00:00\",\"2019-01-01T00:00:00\",\"2019-02-01T00:00:00\",\"2019-03-01T00:00:00\",\"2019-04-01T00:00:00\",\"2019-05-01T00:00:00\",\"2019-06-01T00:00:00\",\"2019-07-01T00:00:00\",\"2019-08-01T00:00:00\",\"2019-09-01T00:00:00\",\"2019-10-01T00:00:00\",\"2019-11-01T00:00:00\",\"2019-12-01T00:00:00\",\"2020-01-01T00:00:00\",\"2020-02-01T00:00:00\",\"2020-03-01T00:00:00\",\"2020-04-01T00:00:00\",\"2020-05-01T00:00:00\",\"2020-06-01T00:00:00\",\"2020-07-01T00:00:00\",\"2020-08-01T00:00:00\",\"2020-09-01T00:00:00\",\"2020-10-01T00:00:00\",\"2020-11-01T00:00:00\",\"2020-12-01T00:00:00\",\"2021-01-01T00:00:00\",\"2021-02-01T00:00:00\",\"2021-03-01T00:00:00\",\"2021-04-01T00:00:00\",\"2021-05-01T00:00:00\",\"2021-06-01T00:00:00\",\"2021-07-01T00:00:00\",\"2021-08-01T00:00:00\",\"2021-09-01T00:00:00\",\"2021-10-01T00:00:00\",\"2021-11-01T00:00:00\",\"2021-12-01T00:00:00\",\"2022-01-01T00:00:00\"],\"xaxis\":\"x\",\"y\":[null,null,null,null,null,null,null,null,null,null,null,null,null,null,null,null,null,null,null,null,null,null,null,null,null,null,null,null,null,null,null,null,null,null,null,null,null,null,null,null,null,null,null,null,null,null,null,null,null,null,null,null,null,null,null,null,null,null,null,null,null,null,null,null,null,null,null,null,null,null,null,null,null,null,null,null,null,null,null,null,null,null,null,null,23661269.0,24203741.0,24366204.0,26002241.0,24309070.0,23991424.0,24841928.0,25329871.0],\"yaxis\":\"y\",\"type\":\"scatter\"},{\"hovertemplate\":\"variable=Total 401k - 2+10 Forecast<br>Calendar Date=%{x}<br>value=%{y}<extra></extra>\",\"legendgroup\":\"Total 401k - 2+10 Forecast\",\"line\":{\"color\":\"#FFA15A\",\"dash\":\"solid\"},\"marker\":{\"symbol\":\"circle\"},\"mode\":\"lines\",\"name\":\"Total 401k - 2+10 Forecast\",\"orientation\":\"v\",\"showlegend\":true,\"x\":[\"2014-06-01T00:00:00\",\"2014-07-01T00:00:00\",\"2014-08-01T00:00:00\",\"2014-09-01T00:00:00\",\"2014-10-01T00:00:00\",\"2014-11-01T00:00:00\",\"2014-12-01T00:00:00\",\"2015-01-01T00:00:00\",\"2015-02-01T00:00:00\",\"2015-03-01T00:00:00\",\"2015-04-01T00:00:00\",\"2015-05-01T00:00:00\",\"2015-06-01T00:00:00\",\"2015-07-01T00:00:00\",\"2015-08-01T00:00:00\",\"2015-09-01T00:00:00\",\"2015-10-01T00:00:00\",\"2015-11-01T00:00:00\",\"2015-12-01T00:00:00\",\"2016-01-01T00:00:00\",\"2016-02-01T00:00:00\",\"2016-03-01T00:00:00\",\"2016-04-01T00:00:00\",\"2016-05-01T00:00:00\",\"2016-06-01T00:00:00\",\"2016-07-01T00:00:00\",\"2016-08-01T00:00:00\",\"2016-09-01T00:00:00\",\"2016-10-01T00:00:00\",\"2016-11-01T00:00:00\",\"2016-12-01T00:00:00\",\"2017-01-01T00:00:00\",\"2017-02-01T00:00:00\",\"2017-03-01T00:00:00\",\"2017-04-01T00:00:00\",\"2017-05-01T00:00:00\",\"2017-06-01T00:00:00\",\"2017-07-01T00:00:00\",\"2017-08-01T00:00:00\",\"2017-09-01T00:00:00\",\"2017-10-01T00:00:00\",\"2017-11-01T00:00:00\",\"2017-12-01T00:00:00\",\"2018-01-01T00:00:00\",\"2018-02-01T00:00:00\",\"2018-03-01T00:00:00\",\"2018-04-01T00:00:00\",\"2018-05-01T00:00:00\",\"2018-06-01T00:00:00\",\"2018-07-01T00:00:00\",\"2018-08-01T00:00:00\",\"2018-09-01T00:00:00\",\"2018-10-01T00:00:00\",\"2018-11-01T00:00:00\",\"2018-12-01T00:00:00\",\"2019-01-01T00:00:00\",\"2019-02-01T00:00:00\",\"2019-03-01T00:00:00\",\"2019-04-01T00:00:00\",\"2019-05-01T00:00:00\",\"2019-06-01T00:00:00\",\"2019-07-01T00:00:00\",\"2019-08-01T00:00:00\",\"2019-09-01T00:00:00\",\"2019-10-01T00:00:00\",\"2019-11-01T00:00:00\",\"2019-12-01T00:00:00\",\"2020-01-01T00:00:00\",\"2020-02-01T00:00:00\",\"2020-03-01T00:00:00\",\"2020-04-01T00:00:00\",\"2020-05-01T00:00:00\",\"2020-06-01T00:00:00\",\"2020-07-01T00:00:00\",\"2020-08-01T00:00:00\",\"2020-09-01T00:00:00\",\"2020-10-01T00:00:00\",\"2020-11-01T00:00:00\",\"2020-12-01T00:00:00\",\"2021-01-01T00:00:00\",\"2021-02-01T00:00:00\",\"2021-03-01T00:00:00\",\"2021-04-01T00:00:00\",\"2021-05-01T00:00:00\",\"2021-06-01T00:00:00\",\"2021-07-01T00:00:00\",\"2021-08-01T00:00:00\",\"2021-09-01T00:00:00\",\"2021-10-01T00:00:00\",\"2021-11-01T00:00:00\",\"2021-12-01T00:00:00\",\"2022-01-01T00:00:00\"],\"xaxis\":\"x\",\"y\":[null,null,null,null,null,null,null,null,null,null,null,null,null,null,null,null,null,null,null,null,null,null,null,null,null,null,null,null,null,null,null,null,null,null,null,null,null,null,null,null,null,null,null,null,null,null,null,null,null,null,null,null,null,null,null,null,null,null,null,null,null,null,null,null,null,null,null,null,null,null,null,null,null,null,null,null,null,null,null,null,null,null,null,null,24192008.0,24136555.0,24573159.0,26129436.0,24438467.0,24119241.0,24976139.0,25457133.0],\"yaxis\":\"y\",\"type\":\"scatter\"}],                        {\"template\":{\"data\":{\"barpolar\":[{\"marker\":{\"line\":{\"color\":\"white\",\"width\":0.5},\"pattern\":{\"fillmode\":\"overlay\",\"size\":10,\"solidity\":0.2}},\"type\":\"barpolar\"}],\"bar\":[{\"error_x\":{\"color\":\"#2a3f5f\"},\"error_y\":{\"color\":\"#2a3f5f\"},\"marker\":{\"line\":{\"color\":\"white\",\"width\":0.5},\"pattern\":{\"fillmode\":\"overlay\",\"size\":10,\"solidity\":0.2}},\"type\":\"bar\"}],\"carpet\":[{\"aaxis\":{\"endlinecolor\":\"#2a3f5f\",\"gridcolor\":\"#C8D4E3\",\"linecolor\":\"#C8D4E3\",\"minorgridcolor\":\"#C8D4E3\",\"startlinecolor\":\"#2a3f5f\"},\"baxis\":{\"endlinecolor\":\"#2a3f5f\",\"gridcolor\":\"#C8D4E3\",\"linecolor\":\"#C8D4E3\",\"minorgridcolor\":\"#C8D4E3\",\"startlinecolor\":\"#2a3f5f\"},\"type\":\"carpet\"}],\"choropleth\":[{\"colorbar\":{\"outlinewidth\":0,\"ticks\":\"\"},\"type\":\"choropleth\"}],\"contourcarpet\":[{\"colorbar\":{\"outlinewidth\":0,\"ticks\":\"\"},\"type\":\"contourcarpet\"}],\"contour\":[{\"colorbar\":{\"outlinewidth\":0,\"ticks\":\"\"},\"colorscale\":[[0.0,\"#0d0887\"],[0.1111111111111111,\"#46039f\"],[0.2222222222222222,\"#7201a8\"],[0.3333333333333333,\"#9c179e\"],[0.4444444444444444,\"#bd3786\"],[0.5555555555555556,\"#d8576b\"],[0.6666666666666666,\"#ed7953\"],[0.7777777777777778,\"#fb9f3a\"],[0.8888888888888888,\"#fdca26\"],[1.0,\"#f0f921\"]],\"type\":\"contour\"}],\"heatmapgl\":[{\"colorbar\":{\"outlinewidth\":0,\"ticks\":\"\"},\"colorscale\":[[0.0,\"#0d0887\"],[0.1111111111111111,\"#46039f\"],[0.2222222222222222,\"#7201a8\"],[0.3333333333333333,\"#9c179e\"],[0.4444444444444444,\"#bd3786\"],[0.5555555555555556,\"#d8576b\"],[0.6666666666666666,\"#ed7953\"],[0.7777777777777778,\"#fb9f3a\"],[0.8888888888888888,\"#fdca26\"],[1.0,\"#f0f921\"]],\"type\":\"heatmapgl\"}],\"heatmap\":[{\"colorbar\":{\"outlinewidth\":0,\"ticks\":\"\"},\"colorscale\":[[0.0,\"#0d0887\"],[0.1111111111111111,\"#46039f\"],[0.2222222222222222,\"#7201a8\"],[0.3333333333333333,\"#9c179e\"],[0.4444444444444444,\"#bd3786\"],[0.5555555555555556,\"#d8576b\"],[0.6666666666666666,\"#ed7953\"],[0.7777777777777778,\"#fb9f3a\"],[0.8888888888888888,\"#fdca26\"],[1.0,\"#f0f921\"]],\"type\":\"heatmap\"}],\"histogram2dcontour\":[{\"colorbar\":{\"outlinewidth\":0,\"ticks\":\"\"},\"colorscale\":[[0.0,\"#0d0887\"],[0.1111111111111111,\"#46039f\"],[0.2222222222222222,\"#7201a8\"],[0.3333333333333333,\"#9c179e\"],[0.4444444444444444,\"#bd3786\"],[0.5555555555555556,\"#d8576b\"],[0.6666666666666666,\"#ed7953\"],[0.7777777777777778,\"#fb9f3a\"],[0.8888888888888888,\"#fdca26\"],[1.0,\"#f0f921\"]],\"type\":\"histogram2dcontour\"}],\"histogram2d\":[{\"colorbar\":{\"outlinewidth\":0,\"ticks\":\"\"},\"colorscale\":[[0.0,\"#0d0887\"],[0.1111111111111111,\"#46039f\"],[0.2222222222222222,\"#7201a8\"],[0.3333333333333333,\"#9c179e\"],[0.4444444444444444,\"#bd3786\"],[0.5555555555555556,\"#d8576b\"],[0.6666666666666666,\"#ed7953\"],[0.7777777777777778,\"#fb9f3a\"],[0.8888888888888888,\"#fdca26\"],[1.0,\"#f0f921\"]],\"type\":\"histogram2d\"}],\"histogram\":[{\"marker\":{\"pattern\":{\"fillmode\":\"overlay\",\"size\":10,\"solidity\":0.2}},\"type\":\"histogram\"}],\"mesh3d\":[{\"colorbar\":{\"outlinewidth\":0,\"ticks\":\"\"},\"type\":\"mesh3d\"}],\"parcoords\":[{\"line\":{\"colorbar\":{\"outlinewidth\":0,\"ticks\":\"\"}},\"type\":\"parcoords\"}],\"pie\":[{\"automargin\":true,\"type\":\"pie\"}],\"scatter3d\":[{\"line\":{\"colorbar\":{\"outlinewidth\":0,\"ticks\":\"\"}},\"marker\":{\"colorbar\":{\"outlinewidth\":0,\"ticks\":\"\"}},\"type\":\"scatter3d\"}],\"scattercarpet\":[{\"marker\":{\"colorbar\":{\"outlinewidth\":0,\"ticks\":\"\"}},\"type\":\"scattercarpet\"}],\"scattergeo\":[{\"marker\":{\"colorbar\":{\"outlinewidth\":0,\"ticks\":\"\"}},\"type\":\"scattergeo\"}],\"scattergl\":[{\"marker\":{\"colorbar\":{\"outlinewidth\":0,\"ticks\":\"\"}},\"type\":\"scattergl\"}],\"scattermapbox\":[{\"marker\":{\"colorbar\":{\"outlinewidth\":0,\"ticks\":\"\"}},\"type\":\"scattermapbox\"}],\"scatterpolargl\":[{\"marker\":{\"colorbar\":{\"outlinewidth\":0,\"ticks\":\"\"}},\"type\":\"scatterpolargl\"}],\"scatterpolar\":[{\"marker\":{\"colorbar\":{\"outlinewidth\":0,\"ticks\":\"\"}},\"type\":\"scatterpolar\"}],\"scatter\":[{\"fillpattern\":{\"fillmode\":\"overlay\",\"size\":10,\"solidity\":0.2},\"type\":\"scatter\"}],\"scatterternary\":[{\"marker\":{\"colorbar\":{\"outlinewidth\":0,\"ticks\":\"\"}},\"type\":\"scatterternary\"}],\"surface\":[{\"colorbar\":{\"outlinewidth\":0,\"ticks\":\"\"},\"colorscale\":[[0.0,\"#0d0887\"],[0.1111111111111111,\"#46039f\"],[0.2222222222222222,\"#7201a8\"],[0.3333333333333333,\"#9c179e\"],[0.4444444444444444,\"#bd3786\"],[0.5555555555555556,\"#d8576b\"],[0.6666666666666666,\"#ed7953\"],[0.7777777777777778,\"#fb9f3a\"],[0.8888888888888888,\"#fdca26\"],[1.0,\"#f0f921\"]],\"type\":\"surface\"}],\"table\":[{\"cells\":{\"fill\":{\"color\":\"#EBF0F8\"},\"line\":{\"color\":\"white\"}},\"header\":{\"fill\":{\"color\":\"#C8D4E3\"},\"line\":{\"color\":\"white\"}},\"type\":\"table\"}]},\"layout\":{\"annotationdefaults\":{\"arrowcolor\":\"#2a3f5f\",\"arrowhead\":0,\"arrowwidth\":1},\"autotypenumbers\":\"strict\",\"coloraxis\":{\"colorbar\":{\"outlinewidth\":0,\"ticks\":\"\"}},\"colorscale\":{\"diverging\":[[0,\"#8e0152\"],[0.1,\"#c51b7d\"],[0.2,\"#de77ae\"],[0.3,\"#f1b6da\"],[0.4,\"#fde0ef\"],[0.5,\"#f7f7f7\"],[0.6,\"#e6f5d0\"],[0.7,\"#b8e186\"],[0.8,\"#7fbc41\"],[0.9,\"#4d9221\"],[1,\"#276419\"]],\"sequential\":[[0.0,\"#0d0887\"],[0.1111111111111111,\"#46039f\"],[0.2222222222222222,\"#7201a8\"],[0.3333333333333333,\"#9c179e\"],[0.4444444444444444,\"#bd3786\"],[0.5555555555555556,\"#d8576b\"],[0.6666666666666666,\"#ed7953\"],[0.7777777777777778,\"#fb9f3a\"],[0.8888888888888888,\"#fdca26\"],[1.0,\"#f0f921\"]],\"sequentialminus\":[[0.0,\"#0d0887\"],[0.1111111111111111,\"#46039f\"],[0.2222222222222222,\"#7201a8\"],[0.3333333333333333,\"#9c179e\"],[0.4444444444444444,\"#bd3786\"],[0.5555555555555556,\"#d8576b\"],[0.6666666666666666,\"#ed7953\"],[0.7777777777777778,\"#fb9f3a\"],[0.8888888888888888,\"#fdca26\"],[1.0,\"#f0f921\"]]},\"colorway\":[\"#636efa\",\"#EF553B\",\"#00cc96\",\"#ab63fa\",\"#FFA15A\",\"#19d3f3\",\"#FF6692\",\"#B6E880\",\"#FF97FF\",\"#FECB52\"],\"font\":{\"color\":\"#2a3f5f\"},\"geo\":{\"bgcolor\":\"white\",\"lakecolor\":\"white\",\"landcolor\":\"white\",\"showlakes\":true,\"showland\":true,\"subunitcolor\":\"#C8D4E3\"},\"hoverlabel\":{\"align\":\"left\"},\"hovermode\":\"closest\",\"mapbox\":{\"style\":\"light\"},\"paper_bgcolor\":\"white\",\"plot_bgcolor\":\"white\",\"polar\":{\"angularaxis\":{\"gridcolor\":\"#EBF0F8\",\"linecolor\":\"#EBF0F8\",\"ticks\":\"\"},\"bgcolor\":\"white\",\"radialaxis\":{\"gridcolor\":\"#EBF0F8\",\"linecolor\":\"#EBF0F8\",\"ticks\":\"\"}},\"scene\":{\"xaxis\":{\"backgroundcolor\":\"white\",\"gridcolor\":\"#DFE8F3\",\"gridwidth\":2,\"linecolor\":\"#EBF0F8\",\"showbackground\":true,\"ticks\":\"\",\"zerolinecolor\":\"#EBF0F8\"},\"yaxis\":{\"backgroundcolor\":\"white\",\"gridcolor\":\"#DFE8F3\",\"gridwidth\":2,\"linecolor\":\"#EBF0F8\",\"showbackground\":true,\"ticks\":\"\",\"zerolinecolor\":\"#EBF0F8\"},\"zaxis\":{\"backgroundcolor\":\"white\",\"gridcolor\":\"#DFE8F3\",\"gridwidth\":2,\"linecolor\":\"#EBF0F8\",\"showbackground\":true,\"ticks\":\"\",\"zerolinecolor\":\"#EBF0F8\"}},\"shapedefaults\":{\"line\":{\"color\":\"#2a3f5f\"}},\"ternary\":{\"aaxis\":{\"gridcolor\":\"#DFE8F3\",\"linecolor\":\"#A2B1C6\",\"ticks\":\"\"},\"baxis\":{\"gridcolor\":\"#DFE8F3\",\"linecolor\":\"#A2B1C6\",\"ticks\":\"\"},\"bgcolor\":\"white\",\"caxis\":{\"gridcolor\":\"#DFE8F3\",\"linecolor\":\"#A2B1C6\",\"ticks\":\"\"}},\"title\":{\"x\":0.05},\"xaxis\":{\"automargin\":true,\"gridcolor\":\"#EBF0F8\",\"linecolor\":\"#EBF0F8\",\"ticks\":\"\",\"title\":{\"standoff\":15},\"zerolinecolor\":\"#EBF0F8\",\"zerolinewidth\":2},\"yaxis\":{\"automargin\":true,\"gridcolor\":\"#EBF0F8\",\"linecolor\":\"#EBF0F8\",\"ticks\":\"\",\"title\":{\"standoff\":15},\"zerolinecolor\":\"#EBF0F8\",\"zerolinewidth\":2}}},\"xaxis\":{\"anchor\":\"y\",\"domain\":[0.0,1.0],\"title\":{\"text\":\"Calendar Date\"}},\"yaxis\":{\"anchor\":\"x\",\"domain\":[0.0,1.0],\"title\":{\"text\":\"value\"}},\"legend\":{\"title\":{\"text\":\"variable\"},\"tracegroupgap\":0},\"margin\":{\"t\":60}},                        {\"responsive\": true}                    ).then(function(){\n                            \nvar gd = document.getElementById('7020df9d-a0ea-439c-a8ef-9471124b950f');\nvar x = new MutationObserver(function (mutations, observer) {{\n        var display = window.getComputedStyle(gd).display;\n        if (!display || display === 'none') {{\n            console.log([gd, 'removed!']);\n            Plotly.purge(gd);\n            observer.disconnect();\n        }}\n}});\n\n// Listen for the removal of the full notebook cells\nvar notebookContainer = gd.closest('#notebook-container');\nif (notebookContainer) {{\n    x.observe(notebookContainer, {childList: true});\n}}\n\n// Listen for the clearing of the current output cell\nvar outputEl = gd.closest('.output');\nif (outputEl) {{\n    x.observe(outputEl, {childList: true});\n}}\n\n                        })                };                });            </script>        </div>"
     },
     "metadata": {},
     "output_type": "display_data"
    }
   ],
   "source": [
    "# show plot\n",
    "fig = px.line(concat_df, x='Calendar Date', y=[target_col, ml_col, uts_col, plan_col, fcst_col], template='plotly_white')\n",
    "fig.show()"
   ],
   "metadata": {
    "collapsed": false,
    "pycharm": {
     "name": "#%%\n"
    }
   }
  },
  {
   "cell_type": "code",
   "execution_count": 59,
   "outputs": [],
   "source": [
    "# compute mape_df\n",
    "mape_df = concat_df[['Calendar Date', target_col, ml_col, uts_col, plan_col, fcst_col]]\n",
    "mape_df = mape_df[mape_df['Calendar Date'] >= datetime.strptime(pred_start_dt, '%Y%m%d')]\n",
    "mape_df = models.compute_apes_and_mapes(mape_df, 'Calendar Date', target_col, fcst_cols)\n",
    "mape_df = mape_df.rename(index={True:'MAPE'})\n",
    "mape_df = pd.concat([mape_df.reset_index(drop=True), uts_df], axis=1)"
   ],
   "metadata": {
    "collapsed": false,
    "pycharm": {
     "name": "#%%\n"
    }
   }
  },
  {
   "cell_type": "code",
   "execution_count": 60,
   "outputs": [
    {
     "data": {
      "text/plain": "         Calendar Date  Total 401k  Total 401k - Plan  \\\n0  2021-06-01 00:00:00  24192008.0         23661269.0   \n1  2021-07-01 00:00:00  24136555.0         24203741.0   \n2  2021-08-01 00:00:00  24432497.0         24366204.0   \n3  2021-09-01 00:00:00  27574022.0         26002241.0   \n4  2021-10-01 00:00:00  24476676.0         24309070.0   \n5  2021-11-01 00:00:00  25836220.0         23991424.0   \n6  2021-12-01 00:00:00  26002179.0         24841928.0   \n7  2022-01-01 00:00:00  25826263.0         25329871.0   \n8                  NaN         NaN                NaN   \n\n   Total 401k - Plan - APE  Total 401k - 2+10 Forecast  \\\n0                 0.021939                  24192008.0   \n1                 0.002784                  24136555.0   \n2                 0.002713                  24573159.0   \n3                 0.057002                  26129436.0   \n4                 0.006848                  24438467.0   \n5                 0.071403                  24119241.0   \n6                 0.044621                  24976139.0   \n7                 0.019220                  25457133.0   \n8                 0.028316                         NaN   \n\n   Total 401k - 2+10 Forecast - APE  Total 401k - ML Predicted  \\\n0                          0.000000               2.833407e+07   \n1                          0.000000               2.867635e+07   \n2                          0.005757               2.837195e+07   \n3                          0.052389               2.991271e+07   \n4                          0.001561               2.877960e+07   \n5                          0.066456               2.906397e+07   \n6                          0.039460               2.903327e+07   \n7                          0.014293               3.084975e+07   \n8                          0.022490                        NaN   \n\n   Total 401k - ML Predicted - APE  Total 401k - UTS Predicted  \\\n0                         0.171216                2.331134e+07   \n1                         0.188088                2.416575e+07   \n2                         0.161238                2.405135e+07   \n3                         0.084815                2.631462e+07   \n4                         0.175797                2.422927e+07   \n5                         0.124931                2.417545e+07   \n6                         0.116570                2.509498e+07   \n7                         0.194511                2.491909e+07   \n8                         0.152146                         NaN   \n\n   Total 401k - UTS Predicted - APE Calendar Date  Total 401k - UTS Predicted  \\\n0                          0.036403    2021-06-01                2.331134e+07   \n1                          0.001210    2021-07-01                2.416575e+07   \n2                          0.015600    2021-08-01                2.405135e+07   \n3                          0.045674    2021-09-01                2.631462e+07   \n4                          0.010108    2021-10-01                2.422927e+07   \n5                          0.064281    2021-11-01                2.417545e+07   \n6                          0.034889    2021-12-01                2.509498e+07   \n7                          0.035126    2022-01-01                2.491909e+07   \n8                          0.030411           NaT                         NaN   \n\n       Lower CI      Upper CI  \n0  2.154444e+07  2.507823e+07  \n1  2.185199e+07  2.647951e+07  \n2  2.115989e+07  2.694281e+07  \n3  2.304671e+07  2.958252e+07  \n4  2.054161e+07  2.791693e+07  \n5  2.017719e+07  2.817370e+07  \n6  2.075461e+07  2.943536e+07  \n7  2.030608e+07  2.953210e+07  \n8           NaN           NaN  ",
      "text/html": "<div>\n<style scoped>\n    .dataframe tbody tr th:only-of-type {\n        vertical-align: middle;\n    }\n\n    .dataframe tbody tr th {\n        vertical-align: top;\n    }\n\n    .dataframe thead th {\n        text-align: right;\n    }\n</style>\n<table border=\"1\" class=\"dataframe\">\n  <thead>\n    <tr style=\"text-align: right;\">\n      <th></th>\n      <th>Calendar Date</th>\n      <th>Total 401k</th>\n      <th>Total 401k - Plan</th>\n      <th>Total 401k - Plan - APE</th>\n      <th>Total 401k - 2+10 Forecast</th>\n      <th>Total 401k - 2+10 Forecast - APE</th>\n      <th>Total 401k - ML Predicted</th>\n      <th>Total 401k - ML Predicted - APE</th>\n      <th>Total 401k - UTS Predicted</th>\n      <th>Total 401k - UTS Predicted - APE</th>\n      <th>Calendar Date</th>\n      <th>Total 401k - UTS Predicted</th>\n      <th>Lower CI</th>\n      <th>Upper CI</th>\n    </tr>\n  </thead>\n  <tbody>\n    <tr>\n      <th>0</th>\n      <td>2021-06-01 00:00:00</td>\n      <td>24192008.0</td>\n      <td>23661269.0</td>\n      <td>0.021939</td>\n      <td>24192008.0</td>\n      <td>0.000000</td>\n      <td>2.833407e+07</td>\n      <td>0.171216</td>\n      <td>2.331134e+07</td>\n      <td>0.036403</td>\n      <td>2021-06-01</td>\n      <td>2.331134e+07</td>\n      <td>2.154444e+07</td>\n      <td>2.507823e+07</td>\n    </tr>\n    <tr>\n      <th>1</th>\n      <td>2021-07-01 00:00:00</td>\n      <td>24136555.0</td>\n      <td>24203741.0</td>\n      <td>0.002784</td>\n      <td>24136555.0</td>\n      <td>0.000000</td>\n      <td>2.867635e+07</td>\n      <td>0.188088</td>\n      <td>2.416575e+07</td>\n      <td>0.001210</td>\n      <td>2021-07-01</td>\n      <td>2.416575e+07</td>\n      <td>2.185199e+07</td>\n      <td>2.647951e+07</td>\n    </tr>\n    <tr>\n      <th>2</th>\n      <td>2021-08-01 00:00:00</td>\n      <td>24432497.0</td>\n      <td>24366204.0</td>\n      <td>0.002713</td>\n      <td>24573159.0</td>\n      <td>0.005757</td>\n      <td>2.837195e+07</td>\n      <td>0.161238</td>\n      <td>2.405135e+07</td>\n      <td>0.015600</td>\n      <td>2021-08-01</td>\n      <td>2.405135e+07</td>\n      <td>2.115989e+07</td>\n      <td>2.694281e+07</td>\n    </tr>\n    <tr>\n      <th>3</th>\n      <td>2021-09-01 00:00:00</td>\n      <td>27574022.0</td>\n      <td>26002241.0</td>\n      <td>0.057002</td>\n      <td>26129436.0</td>\n      <td>0.052389</td>\n      <td>2.991271e+07</td>\n      <td>0.084815</td>\n      <td>2.631462e+07</td>\n      <td>0.045674</td>\n      <td>2021-09-01</td>\n      <td>2.631462e+07</td>\n      <td>2.304671e+07</td>\n      <td>2.958252e+07</td>\n    </tr>\n    <tr>\n      <th>4</th>\n      <td>2021-10-01 00:00:00</td>\n      <td>24476676.0</td>\n      <td>24309070.0</td>\n      <td>0.006848</td>\n      <td>24438467.0</td>\n      <td>0.001561</td>\n      <td>2.877960e+07</td>\n      <td>0.175797</td>\n      <td>2.422927e+07</td>\n      <td>0.010108</td>\n      <td>2021-10-01</td>\n      <td>2.422927e+07</td>\n      <td>2.054161e+07</td>\n      <td>2.791693e+07</td>\n    </tr>\n    <tr>\n      <th>5</th>\n      <td>2021-11-01 00:00:00</td>\n      <td>25836220.0</td>\n      <td>23991424.0</td>\n      <td>0.071403</td>\n      <td>24119241.0</td>\n      <td>0.066456</td>\n      <td>2.906397e+07</td>\n      <td>0.124931</td>\n      <td>2.417545e+07</td>\n      <td>0.064281</td>\n      <td>2021-11-01</td>\n      <td>2.417545e+07</td>\n      <td>2.017719e+07</td>\n      <td>2.817370e+07</td>\n    </tr>\n    <tr>\n      <th>6</th>\n      <td>2021-12-01 00:00:00</td>\n      <td>26002179.0</td>\n      <td>24841928.0</td>\n      <td>0.044621</td>\n      <td>24976139.0</td>\n      <td>0.039460</td>\n      <td>2.903327e+07</td>\n      <td>0.116570</td>\n      <td>2.509498e+07</td>\n      <td>0.034889</td>\n      <td>2021-12-01</td>\n      <td>2.509498e+07</td>\n      <td>2.075461e+07</td>\n      <td>2.943536e+07</td>\n    </tr>\n    <tr>\n      <th>7</th>\n      <td>2022-01-01 00:00:00</td>\n      <td>25826263.0</td>\n      <td>25329871.0</td>\n      <td>0.019220</td>\n      <td>25457133.0</td>\n      <td>0.014293</td>\n      <td>3.084975e+07</td>\n      <td>0.194511</td>\n      <td>2.491909e+07</td>\n      <td>0.035126</td>\n      <td>2022-01-01</td>\n      <td>2.491909e+07</td>\n      <td>2.030608e+07</td>\n      <td>2.953210e+07</td>\n    </tr>\n    <tr>\n      <th>8</th>\n      <td>NaN</td>\n      <td>NaN</td>\n      <td>NaN</td>\n      <td>0.028316</td>\n      <td>NaN</td>\n      <td>0.022490</td>\n      <td>NaN</td>\n      <td>0.152146</td>\n      <td>NaN</td>\n      <td>0.030411</td>\n      <td>NaT</td>\n      <td>NaN</td>\n      <td>NaN</td>\n      <td>NaN</td>\n    </tr>\n  </tbody>\n</table>\n</div>"
     },
     "execution_count": 60,
     "metadata": {},
     "output_type": "execute_result"
    }
   ],
   "source": [
    "mape_df"
   ],
   "metadata": {
    "collapsed": false,
    "pycharm": {
     "name": "#%%\n"
    }
   }
  },
  {
   "cell_type": "code",
   "execution_count": 61,
   "outputs": [],
   "source": [
    "metadata_path = proyect_path + \"/data/metadata/\"\n",
    "mape_path = metadata_path + model_run_date + \"_mape.xlsx\"\n",
    "if os.path.exists(mape_path):\n",
    "    book = load_workbook(mape_path)\n",
    "else:\n",
    "    book = Workbook()\n",
    "with pd.ExcelWriter(mape_path, engine = 'openpyxl') as writer:\n",
    "    writer.book = book\n",
    "    mape_df.to_excel(writer, sheet_name = target_col[0:30], index=False)"
   ],
   "metadata": {
    "collapsed": false,
    "pycharm": {
     "name": "#%%\n"
    }
   }
  },
  {
   "cell_type": "code",
   "execution_count": null,
   "outputs": [],
   "source": [],
   "metadata": {
    "collapsed": false,
    "pycharm": {
     "name": "#%%\n"
    }
   }
  },
  {
   "cell_type": "code",
   "execution_count": 108,
   "outputs": [
    {
     "data": {
      "text/plain": "  Calendar Date  Interest on Funds Held for Clients  \\\n0    2021-06-01                           -451367.0   \n1    2021-07-01                           -386211.0   \n2    2021-08-01                           -398389.0   \n3    2021-09-01                           -517688.0   \n4    2021-10-01                           -414842.0   \n5    2021-11-01                           -462587.0   \n6    2021-12-01                           -325405.0   \n7    2022-01-01                           -311881.0   \n\n   Interest on Funds Held for Clients - ML Predicted  \\\n0                                       8.838785e+06   \n1                                       8.533176e+06   \n2                                       8.225735e+06   \n3                                       8.291251e+06   \n4                                       8.413610e+06   \n5                                       8.583186e+06   \n6                                       8.568823e+06   \n7                                       8.383558e+06   \n\n   Interest on Funds Held for Clients - Plan  \\\n0                                  4687137.0   \n1                                  4727006.0   \n2                                  5402709.0   \n3                                  4636944.0   \n4                                  4684411.0   \n5                                  5397348.0   \n6                                  4840579.0   \n7                                  4756334.0   \n\n   Interest on Funds Held for Clients - 2+10 Forecast  \\\n0                                          -451367.0    \n1                                          -386211.0    \n2                                          4648749.0    \n3                                          4637734.0    \n4                                          4686972.0    \n5                                          4644354.0    \n6                                          4846830.0    \n7                                          4760590.0    \n\n   Interest on Funds Held for Clients - UTS Predicted  \\\n0                                      -2.347883e+06    \n1                                      -2.033447e+06    \n2                                      -2.398601e+06    \n3                                      -2.446004e+06    \n4                                      -2.314003e+06    \n5                                      -2.502411e+06    \n6                                      -1.748759e+06    \n7                                      -1.905915e+06    \n\n   Interest on Funds Held for Clients_lower_ci  \\\n0                                -6.770667e+06   \n1                                -6.937266e+06   \n2                                -7.740311e+06   \n3                                -8.192332e+06   \n4                                -8.438276e+06   \n5                                -8.982622e+06   \n6                                -8.566351e+06   \n7                                -9.044961e+06   \n\n   Interest on Funds Held for Clients_upper_ci  \n0                                 2.074901e+06  \n1                                 2.870372e+06  \n2                                 2.943108e+06  \n3                                 3.300325e+06  \n4                                 3.810269e+06  \n5                                 3.977800e+06  \n6                                 5.068833e+06  \n7                                 5.233132e+06  ",
      "text/html": "<div>\n<style scoped>\n    .dataframe tbody tr th:only-of-type {\n        vertical-align: middle;\n    }\n\n    .dataframe tbody tr th {\n        vertical-align: top;\n    }\n\n    .dataframe thead th {\n        text-align: right;\n    }\n</style>\n<table border=\"1\" class=\"dataframe\">\n  <thead>\n    <tr style=\"text-align: right;\">\n      <th></th>\n      <th>Calendar Date</th>\n      <th>Interest on Funds Held for Clients</th>\n      <th>Interest on Funds Held for Clients - ML Predicted</th>\n      <th>Interest on Funds Held for Clients - Plan</th>\n      <th>Interest on Funds Held for Clients - 2+10 Forecast</th>\n      <th>Interest on Funds Held for Clients - UTS Predicted</th>\n      <th>Interest on Funds Held for Clients_lower_ci</th>\n      <th>Interest on Funds Held for Clients_upper_ci</th>\n    </tr>\n  </thead>\n  <tbody>\n    <tr>\n      <th>0</th>\n      <td>2021-06-01</td>\n      <td>-451367.0</td>\n      <td>8.838785e+06</td>\n      <td>4687137.0</td>\n      <td>-451367.0</td>\n      <td>-2.347883e+06</td>\n      <td>-6.770667e+06</td>\n      <td>2.074901e+06</td>\n    </tr>\n    <tr>\n      <th>1</th>\n      <td>2021-07-01</td>\n      <td>-386211.0</td>\n      <td>8.533176e+06</td>\n      <td>4727006.0</td>\n      <td>-386211.0</td>\n      <td>-2.033447e+06</td>\n      <td>-6.937266e+06</td>\n      <td>2.870372e+06</td>\n    </tr>\n    <tr>\n      <th>2</th>\n      <td>2021-08-01</td>\n      <td>-398389.0</td>\n      <td>8.225735e+06</td>\n      <td>5402709.0</td>\n      <td>4648749.0</td>\n      <td>-2.398601e+06</td>\n      <td>-7.740311e+06</td>\n      <td>2.943108e+06</td>\n    </tr>\n    <tr>\n      <th>3</th>\n      <td>2021-09-01</td>\n      <td>-517688.0</td>\n      <td>8.291251e+06</td>\n      <td>4636944.0</td>\n      <td>4637734.0</td>\n      <td>-2.446004e+06</td>\n      <td>-8.192332e+06</td>\n      <td>3.300325e+06</td>\n    </tr>\n    <tr>\n      <th>4</th>\n      <td>2021-10-01</td>\n      <td>-414842.0</td>\n      <td>8.413610e+06</td>\n      <td>4684411.0</td>\n      <td>4686972.0</td>\n      <td>-2.314003e+06</td>\n      <td>-8.438276e+06</td>\n      <td>3.810269e+06</td>\n    </tr>\n    <tr>\n      <th>5</th>\n      <td>2021-11-01</td>\n      <td>-462587.0</td>\n      <td>8.583186e+06</td>\n      <td>5397348.0</td>\n      <td>4644354.0</td>\n      <td>-2.502411e+06</td>\n      <td>-8.982622e+06</td>\n      <td>3.977800e+06</td>\n    </tr>\n    <tr>\n      <th>6</th>\n      <td>2021-12-01</td>\n      <td>-325405.0</td>\n      <td>8.568823e+06</td>\n      <td>4840579.0</td>\n      <td>4846830.0</td>\n      <td>-1.748759e+06</td>\n      <td>-8.566351e+06</td>\n      <td>5.068833e+06</td>\n    </tr>\n    <tr>\n      <th>7</th>\n      <td>2022-01-01</td>\n      <td>-311881.0</td>\n      <td>8.383558e+06</td>\n      <td>4756334.0</td>\n      <td>4760590.0</td>\n      <td>-1.905915e+06</td>\n      <td>-9.044961e+06</td>\n      <td>5.233132e+06</td>\n    </tr>\n  </tbody>\n</table>\n</div>"
     },
     "execution_count": 108,
     "metadata": {},
     "output_type": "execute_result"
    }
   ],
   "source": [
    "concat_df[concat_df['Calendar Date'] >= pred_start_dt]"
   ],
   "metadata": {
    "collapsed": false,
    "pycharm": {
     "name": "#%%\n"
    }
   }
  },
  {
   "cell_type": "code",
   "execution_count": 98,
   "outputs": [
    {
     "name": "stdout",
     "output_type": "stream",
     "text": [
      "Directory created\n"
     ]
    }
   ],
   "source": [
    "predictions_path = proyect_path+\"/data/predictions/\"+model_run_date\n",
    "if not os.path.exists(predictions_path):\n",
    "    os.makedirs(predictions_path)\n",
    "    print(\"Directory created\")"
   ],
   "metadata": {
    "collapsed": false,
    "pycharm": {
     "name": "#%%\n"
    }
   }
  },
  {
   "cell_type": "code",
   "execution_count": 210,
   "outputs": [],
   "source": [
    "df_write = concat_df.rename(columns={target_col: 'Actual',\n",
    "                           ml_col: 'ML Predicted',\n",
    "                           uts_col: 'UTS Predicted',\n",
    "                           plan_col: 'Plan',\n",
    "                           fcst_col:' Forecast'})"
   ],
   "metadata": {
    "collapsed": false,
    "pycharm": {
     "name": "#%%\n"
    }
   }
  },
  {
   "cell_type": "code",
   "execution_count": 76,
   "outputs": [],
   "source": [
    "df_write['Item'] = target_col"
   ],
   "metadata": {
    "collapsed": false,
    "pycharm": {
     "name": "#%%\n"
    }
   }
  },
  {
   "cell_type": "code",
   "execution_count": 77,
   "outputs": [
    {
     "data": {
      "text/plain": "   Calendar Date        Actual  ML Predicted          Plan      Forecast  \\\n0     2014-06-01  2.074346e+08           NaN           NaN           NaN   \n1     2014-07-01  2.483619e+08           NaN           NaN           NaN   \n2     2014-08-01  2.110434e+08           NaN           NaN           NaN   \n3     2014-09-01  2.064182e+08           NaN           NaN           NaN   \n4     2014-10-01  2.584593e+08           NaN           NaN           NaN   \n..           ...           ...           ...           ...           ...   \n3     2021-09-01  3.709236e+08  3.331832e+08  3.567864e+08  6.990509e+08   \n4     2021-10-01  3.574400e+08  3.399423e+08  3.410163e+08  6.567897e+08   \n5     2021-11-01  3.646379e+08  3.448046e+08  3.480824e+08  6.753844e+08   \n6     2021-12-01  4.078692e+08  3.495820e+08  3.752561e+08  7.258485e+08   \n7     2022-01-01  4.860343e+08  3.535075e+08  4.547069e+08  7.878337e+08   \n\n    UTS Predicted           Item  \n0             NaN  Total Revenue  \n1             NaN  Total Revenue  \n2             NaN  Total Revenue  \n3             NaN  Total Revenue  \n4             NaN  Total Revenue  \n..            ...            ...  \n3    3.560265e+08  Total Revenue  \n4    3.609818e+08  Total Revenue  \n5    3.510391e+08  Total Revenue  \n6    3.833378e+08  Total Revenue  \n7    4.477554e+08  Total Revenue  \n\n[92 rows x 7 columns]",
      "text/html": "<div>\n<style scoped>\n    .dataframe tbody tr th:only-of-type {\n        vertical-align: middle;\n    }\n\n    .dataframe tbody tr th {\n        vertical-align: top;\n    }\n\n    .dataframe thead th {\n        text-align: right;\n    }\n</style>\n<table border=\"1\" class=\"dataframe\">\n  <thead>\n    <tr style=\"text-align: right;\">\n      <th></th>\n      <th>Calendar Date</th>\n      <th>Actual</th>\n      <th>ML Predicted</th>\n      <th>Plan</th>\n      <th>Forecast</th>\n      <th>UTS Predicted</th>\n      <th>Item</th>\n    </tr>\n  </thead>\n  <tbody>\n    <tr>\n      <th>0</th>\n      <td>2014-06-01</td>\n      <td>2.074346e+08</td>\n      <td>NaN</td>\n      <td>NaN</td>\n      <td>NaN</td>\n      <td>NaN</td>\n      <td>Total Revenue</td>\n    </tr>\n    <tr>\n      <th>1</th>\n      <td>2014-07-01</td>\n      <td>2.483619e+08</td>\n      <td>NaN</td>\n      <td>NaN</td>\n      <td>NaN</td>\n      <td>NaN</td>\n      <td>Total Revenue</td>\n    </tr>\n    <tr>\n      <th>2</th>\n      <td>2014-08-01</td>\n      <td>2.110434e+08</td>\n      <td>NaN</td>\n      <td>NaN</td>\n      <td>NaN</td>\n      <td>NaN</td>\n      <td>Total Revenue</td>\n    </tr>\n    <tr>\n      <th>3</th>\n      <td>2014-09-01</td>\n      <td>2.064182e+08</td>\n      <td>NaN</td>\n      <td>NaN</td>\n      <td>NaN</td>\n      <td>NaN</td>\n      <td>Total Revenue</td>\n    </tr>\n    <tr>\n      <th>4</th>\n      <td>2014-10-01</td>\n      <td>2.584593e+08</td>\n      <td>NaN</td>\n      <td>NaN</td>\n      <td>NaN</td>\n      <td>NaN</td>\n      <td>Total Revenue</td>\n    </tr>\n    <tr>\n      <th>...</th>\n      <td>...</td>\n      <td>...</td>\n      <td>...</td>\n      <td>...</td>\n      <td>...</td>\n      <td>...</td>\n      <td>...</td>\n    </tr>\n    <tr>\n      <th>3</th>\n      <td>2021-09-01</td>\n      <td>3.709236e+08</td>\n      <td>3.331832e+08</td>\n      <td>3.567864e+08</td>\n      <td>6.990509e+08</td>\n      <td>3.560265e+08</td>\n      <td>Total Revenue</td>\n    </tr>\n    <tr>\n      <th>4</th>\n      <td>2021-10-01</td>\n      <td>3.574400e+08</td>\n      <td>3.399423e+08</td>\n      <td>3.410163e+08</td>\n      <td>6.567897e+08</td>\n      <td>3.609818e+08</td>\n      <td>Total Revenue</td>\n    </tr>\n    <tr>\n      <th>5</th>\n      <td>2021-11-01</td>\n      <td>3.646379e+08</td>\n      <td>3.448046e+08</td>\n      <td>3.480824e+08</td>\n      <td>6.753844e+08</td>\n      <td>3.510391e+08</td>\n      <td>Total Revenue</td>\n    </tr>\n    <tr>\n      <th>6</th>\n      <td>2021-12-01</td>\n      <td>4.078692e+08</td>\n      <td>3.495820e+08</td>\n      <td>3.752561e+08</td>\n      <td>7.258485e+08</td>\n      <td>3.833378e+08</td>\n      <td>Total Revenue</td>\n    </tr>\n    <tr>\n      <th>7</th>\n      <td>2022-01-01</td>\n      <td>4.860343e+08</td>\n      <td>3.535075e+08</td>\n      <td>4.547069e+08</td>\n      <td>7.878337e+08</td>\n      <td>4.477554e+08</td>\n      <td>Total Revenue</td>\n    </tr>\n  </tbody>\n</table>\n<p>92 rows × 7 columns</p>\n</div>"
     },
     "execution_count": 77,
     "metadata": {},
     "output_type": "execute_result"
    }
   ],
   "source": [
    "df_write"
   ],
   "metadata": {
    "collapsed": false,
    "pycharm": {
     "name": "#%%\n"
    }
   }
  },
  {
   "cell_type": "code",
   "execution_count": 78,
   "outputs": [],
   "source": [
    "df_write.to_parquet(predictions_path+\"/\"+target_col.replace(\" \",\"\")+\".parquet\")"
   ],
   "metadata": {
    "collapsed": false,
    "pycharm": {
     "name": "#%%\n"
    }
   }
  },
  {
   "cell_type": "code",
   "execution_count": 100,
   "outputs": [],
   "source": [],
   "metadata": {
    "collapsed": false,
    "pycharm": {
     "name": "#%%\n"
    }
   }
  },
  {
   "cell_type": "code",
   "execution_count": 101,
   "outputs": [
    {
     "data": {
      "text/plain": "         Calendar Date  Interest on Funds Held for Clients  \\\n0  2021-06-01 00:00:00                           -451367.0   \n1  2021-07-01 00:00:00                           -386211.0   \n2  2021-08-01 00:00:00                           -398389.0   \n3  2021-09-01 00:00:00                           -517688.0   \n4  2021-10-01 00:00:00                           -414842.0   \n5  2021-11-01 00:00:00                           -462587.0   \n6  2021-12-01 00:00:00                           -325405.0   \n7  2022-01-01 00:00:00                           -311881.0   \n8                  NaN                                 NaN   \n\n   Interest on Funds Held for Clients - Plan  \\\n0                                  4687137.0   \n1                                  4727006.0   \n2                                  5402709.0   \n3                                  4636944.0   \n4                                  4684411.0   \n5                                  5397348.0   \n6                                  4840579.0   \n7                                  4756334.0   \n8                                        NaN   \n\n   Interest on Funds Held for Clients - Plan - APE  \\\n0                                       -11.384315   \n1                                       -13.239439   \n2                                       -14.561391   \n3                                        -9.957024   \n4                                       -12.292036   \n5                                       -12.667747   \n6                                       -15.875552   \n7                                       -16.250477   \n8                                       -13.278498   \n\n   Interest on Funds Held for Clients - 2+10 Forecast  \\\n0                                          -451367.0    \n1                                          -386211.0    \n2                                          4648749.0    \n3                                          4637734.0    \n4                                          4686972.0    \n5                                          4644354.0    \n6                                          4846830.0    \n7                                          4760590.0    \n8                                                NaN    \n\n   Interest on Funds Held for Clients - 2+10 Forecast - APE  \\\n0                                          -0.000000          \n1                                          -0.000000          \n2                                         -12.668869          \n3                                          -9.958550          \n4                                         -12.298210          \n5                                         -11.039958          \n6                                         -15.894762          \n7                                         -16.264123          \n8                                          -9.765559          \n\n   Interest on Funds Held for Clients - ML Predicted  \\\n0                                       8.838785e+06   \n1                                       8.533176e+06   \n2                                       8.225735e+06   \n3                                       8.291251e+06   \n4                                       8.413610e+06   \n5                                       8.583186e+06   \n6                                       8.568823e+06   \n7                                       8.383558e+06   \n8                                                NaN   \n\n   Interest on Funds Held for Clients - ML Predicted - APE  \\\n0                                         -20.582257         \n1                                         -23.094595         \n2                                         -21.647496         \n3                                         -17.015923         \n4                                         -21.281480         \n5                                         -19.554750         \n6                                         -27.332795         \n7                                         -27.880631         \n8                                         -22.298741         \n\n   Interest on Funds Held for Clients - UTS Predicted  \\\n0                                      -2.347883e+06    \n1                                      -2.033447e+06    \n2                                      -2.398601e+06    \n3                                      -2.446004e+06    \n4                                      -2.314003e+06    \n5                                      -2.502411e+06    \n6                                      -1.748759e+06    \n7                                      -1.905915e+06    \n8                                                NaN    \n\n   Interest on Funds Held for Clients - UTS Predicted - APE Calendar Date  \\\n0                                          -4.201716           2021-06-01   \n1                                          -4.265120           2021-07-01   \n2                                          -5.020752           2021-08-01   \n3                                          -3.724861           2021-09-01   \n4                                          -4.578035           2021-10-01   \n5                                          -4.409600           2021-11-01   \n6                                          -4.374099           2021-12-01   \n7                                          -5.111032           2022-01-01   \n8                                          -4.460652                  NaT   \n\n   Interest on Funds Held for Clients - UTS Predicted  \\\n0                                      -2.347883e+06    \n1                                      -2.033447e+06    \n2                                      -2.398601e+06    \n3                                      -2.446004e+06    \n4                                      -2.314003e+06    \n5                                      -2.502411e+06    \n6                                      -1.748759e+06    \n7                                      -1.905915e+06    \n8                                                NaN    \n\n   Interest on Funds Held for Clients_lower_ci  \\\n0                                -6.770667e+06   \n1                                -6.937266e+06   \n2                                -7.740311e+06   \n3                                -8.192332e+06   \n4                                -8.438276e+06   \n5                                -8.982622e+06   \n6                                -8.566351e+06   \n7                                -9.044961e+06   \n8                                          NaN   \n\n   Interest on Funds Held for Clients_upper_ci  \n0                                 2.074901e+06  \n1                                 2.870372e+06  \n2                                 2.943108e+06  \n3                                 3.300325e+06  \n4                                 3.810269e+06  \n5                                 3.977800e+06  \n6                                 5.068833e+06  \n7                                 5.233132e+06  \n8                                          NaN  ",
      "text/html": "<div>\n<style scoped>\n    .dataframe tbody tr th:only-of-type {\n        vertical-align: middle;\n    }\n\n    .dataframe tbody tr th {\n        vertical-align: top;\n    }\n\n    .dataframe thead th {\n        text-align: right;\n    }\n</style>\n<table border=\"1\" class=\"dataframe\">\n  <thead>\n    <tr style=\"text-align: right;\">\n      <th></th>\n      <th>Calendar Date</th>\n      <th>Interest on Funds Held for Clients</th>\n      <th>Interest on Funds Held for Clients - Plan</th>\n      <th>Interest on Funds Held for Clients - Plan - APE</th>\n      <th>Interest on Funds Held for Clients - 2+10 Forecast</th>\n      <th>Interest on Funds Held for Clients - 2+10 Forecast - APE</th>\n      <th>Interest on Funds Held for Clients - ML Predicted</th>\n      <th>Interest on Funds Held for Clients - ML Predicted - APE</th>\n      <th>Interest on Funds Held for Clients - UTS Predicted</th>\n      <th>Interest on Funds Held for Clients - UTS Predicted - APE</th>\n      <th>Calendar Date</th>\n      <th>Interest on Funds Held for Clients - UTS Predicted</th>\n      <th>Interest on Funds Held for Clients_lower_ci</th>\n      <th>Interest on Funds Held for Clients_upper_ci</th>\n    </tr>\n  </thead>\n  <tbody>\n    <tr>\n      <th>0</th>\n      <td>2021-06-01 00:00:00</td>\n      <td>-451367.0</td>\n      <td>4687137.0</td>\n      <td>-11.384315</td>\n      <td>-451367.0</td>\n      <td>-0.000000</td>\n      <td>8.838785e+06</td>\n      <td>-20.582257</td>\n      <td>-2.347883e+06</td>\n      <td>-4.201716</td>\n      <td>2021-06-01</td>\n      <td>-2.347883e+06</td>\n      <td>-6.770667e+06</td>\n      <td>2.074901e+06</td>\n    </tr>\n    <tr>\n      <th>1</th>\n      <td>2021-07-01 00:00:00</td>\n      <td>-386211.0</td>\n      <td>4727006.0</td>\n      <td>-13.239439</td>\n      <td>-386211.0</td>\n      <td>-0.000000</td>\n      <td>8.533176e+06</td>\n      <td>-23.094595</td>\n      <td>-2.033447e+06</td>\n      <td>-4.265120</td>\n      <td>2021-07-01</td>\n      <td>-2.033447e+06</td>\n      <td>-6.937266e+06</td>\n      <td>2.870372e+06</td>\n    </tr>\n    <tr>\n      <th>2</th>\n      <td>2021-08-01 00:00:00</td>\n      <td>-398389.0</td>\n      <td>5402709.0</td>\n      <td>-14.561391</td>\n      <td>4648749.0</td>\n      <td>-12.668869</td>\n      <td>8.225735e+06</td>\n      <td>-21.647496</td>\n      <td>-2.398601e+06</td>\n      <td>-5.020752</td>\n      <td>2021-08-01</td>\n      <td>-2.398601e+06</td>\n      <td>-7.740311e+06</td>\n      <td>2.943108e+06</td>\n    </tr>\n    <tr>\n      <th>3</th>\n      <td>2021-09-01 00:00:00</td>\n      <td>-517688.0</td>\n      <td>4636944.0</td>\n      <td>-9.957024</td>\n      <td>4637734.0</td>\n      <td>-9.958550</td>\n      <td>8.291251e+06</td>\n      <td>-17.015923</td>\n      <td>-2.446004e+06</td>\n      <td>-3.724861</td>\n      <td>2021-09-01</td>\n      <td>-2.446004e+06</td>\n      <td>-8.192332e+06</td>\n      <td>3.300325e+06</td>\n    </tr>\n    <tr>\n      <th>4</th>\n      <td>2021-10-01 00:00:00</td>\n      <td>-414842.0</td>\n      <td>4684411.0</td>\n      <td>-12.292036</td>\n      <td>4686972.0</td>\n      <td>-12.298210</td>\n      <td>8.413610e+06</td>\n      <td>-21.281480</td>\n      <td>-2.314003e+06</td>\n      <td>-4.578035</td>\n      <td>2021-10-01</td>\n      <td>-2.314003e+06</td>\n      <td>-8.438276e+06</td>\n      <td>3.810269e+06</td>\n    </tr>\n    <tr>\n      <th>5</th>\n      <td>2021-11-01 00:00:00</td>\n      <td>-462587.0</td>\n      <td>5397348.0</td>\n      <td>-12.667747</td>\n      <td>4644354.0</td>\n      <td>-11.039958</td>\n      <td>8.583186e+06</td>\n      <td>-19.554750</td>\n      <td>-2.502411e+06</td>\n      <td>-4.409600</td>\n      <td>2021-11-01</td>\n      <td>-2.502411e+06</td>\n      <td>-8.982622e+06</td>\n      <td>3.977800e+06</td>\n    </tr>\n    <tr>\n      <th>6</th>\n      <td>2021-12-01 00:00:00</td>\n      <td>-325405.0</td>\n      <td>4840579.0</td>\n      <td>-15.875552</td>\n      <td>4846830.0</td>\n      <td>-15.894762</td>\n      <td>8.568823e+06</td>\n      <td>-27.332795</td>\n      <td>-1.748759e+06</td>\n      <td>-4.374099</td>\n      <td>2021-12-01</td>\n      <td>-1.748759e+06</td>\n      <td>-8.566351e+06</td>\n      <td>5.068833e+06</td>\n    </tr>\n    <tr>\n      <th>7</th>\n      <td>2022-01-01 00:00:00</td>\n      <td>-311881.0</td>\n      <td>4756334.0</td>\n      <td>-16.250477</td>\n      <td>4760590.0</td>\n      <td>-16.264123</td>\n      <td>8.383558e+06</td>\n      <td>-27.880631</td>\n      <td>-1.905915e+06</td>\n      <td>-5.111032</td>\n      <td>2022-01-01</td>\n      <td>-1.905915e+06</td>\n      <td>-9.044961e+06</td>\n      <td>5.233132e+06</td>\n    </tr>\n    <tr>\n      <th>8</th>\n      <td>NaN</td>\n      <td>NaN</td>\n      <td>NaN</td>\n      <td>-13.278498</td>\n      <td>NaN</td>\n      <td>-9.765559</td>\n      <td>NaN</td>\n      <td>-22.298741</td>\n      <td>NaN</td>\n      <td>-4.460652</td>\n      <td>NaT</td>\n      <td>NaN</td>\n      <td>NaN</td>\n      <td>NaN</td>\n    </tr>\n  </tbody>\n</table>\n</div>"
     },
     "execution_count": 101,
     "metadata": {},
     "output_type": "execute_result"
    }
   ],
   "source": [
    "mape_df"
   ],
   "metadata": {
    "collapsed": false,
    "pycharm": {
     "name": "#%%\n"
    }
   }
  },
  {
   "cell_type": "code",
   "execution_count": 158,
   "outputs": [],
   "source": [
    "df = pd.read_parquet(\"C:/Users/bruno.gonzalez/DataspellProjects/Paychex_revenue_forecast/data/predictions/20220509\")"
   ],
   "metadata": {
    "collapsed": false,
    "pycharm": {
     "name": "#%%\n"
    }
   }
  },
  {
   "cell_type": "code",
   "execution_count": 159,
   "outputs": [
    {
     "data": {
      "text/plain": "   Calendar Date                      Item        Actual  ML Predicted  \\\n0     2021-06-01          Delivery Revenue  7.829827e+06  8.742005e+06   \n1     2021-07-01          Delivery Revenue  1.243936e+07  1.289055e+07   \n2     2021-08-01          Delivery Revenue  7.622602e+06  7.869987e+06   \n3     2021-09-01          Delivery Revenue  7.779041e+06  7.976084e+06   \n4     2021-10-01          Delivery Revenue  1.126827e+07  1.287066e+07   \n5     2021-11-01          Delivery Revenue  7.617424e+06  7.695706e+06   \n6     2021-12-01          Delivery Revenue  8.212787e+06  8.042708e+06   \n7     2022-01-01          Delivery Revenue  2.243552e+07  2.102415e+07   \n8     2021-06-01  Payroll blended products  1.142380e+08  1.069185e+08   \n9     2021-07-01  Payroll blended products  1.131859e+08  1.110458e+08   \n10    2021-08-01  Payroll blended products  1.157689e+08  1.060490e+08   \n11    2021-09-01  Payroll blended products  1.164069e+08  1.087553e+08   \n12    2021-10-01  Payroll blended products  1.074553e+08  1.026939e+08   \n13    2021-11-01  Payroll blended products  1.175037e+08  1.053842e+08   \n14    2021-12-01  Payroll blended products  1.278009e+08  1.143640e+08   \n15    2022-01-01  Payroll blended products  1.038698e+08  1.069483e+08   \n16    2021-06-01               W-2 Revenue  1.456643e+05  1.787953e+07   \n17    2021-07-01               W-2 Revenue  1.295130e+05  1.787953e+07   \n18    2021-08-01               W-2 Revenue  1.496995e+05  1.787953e+07   \n19    2021-09-01               W-2 Revenue  1.845622e+05  1.787953e+07   \n20    2021-10-01               W-2 Revenue  1.811631e+05  1.787953e+07   \n21    2021-11-01               W-2 Revenue  1.552792e+05  1.787953e+07   \n22    2021-12-01               W-2 Revenue  1.925841e+05  1.787953e+07   \n23    2022-01-01               W-2 Revenue  8.154442e+07  1.787953e+07   \n\n    UTS Predicted          Plan      Forecast      Lower CI      Upper CI  \n0    7.621582e+06  7.486713e+06  7.829827e+06  5.679662e+06  9.563501e+06  \n1    1.218767e+07  1.261072e+07  1.243936e+07  1.005493e+07  1.432041e+07  \n2    7.427974e+06  7.556542e+06  7.682000e+06  4.843065e+06  1.001288e+07  \n3    7.893044e+06  6.818278e+06  7.149703e+06  5.066063e+06  1.072002e+07  \n4    1.247308e+07  1.174251e+07  1.122409e+07  9.354347e+06  1.559181e+07  \n5    7.406496e+06  6.938894e+06  7.147250e+06  4.056574e+06  1.075642e+07  \n6    8.094190e+06  7.564224e+06  7.716521e+06  4.510080e+06  1.167830e+07  \n7    2.258278e+07  2.262883e+07  2.207458e+07  1.878818e+07  2.637738e+07  \n8    1.145630e+08  1.134306e+08  1.142380e+08  9.281367e+07  1.363124e+08  \n9    1.157635e+08  1.143207e+08  1.131859e+08  9.176588e+07  1.397611e+08  \n10   1.135166e+08  1.167989e+08  1.182797e+08  8.548083e+07  1.415523e+08  \n11   1.153946e+08  1.126937e+08  1.132994e+08  8.442522e+07  1.463641e+08  \n12   1.174904e+08  1.045306e+08  1.053015e+08  8.370521e+07  1.512755e+08  \n13   1.143671e+08  1.132584e+08  1.141515e+08  7.800990e+07  1.507242e+08  \n14   1.278934e+08  1.195799e+08  1.199513e+08  8.913152e+07  1.666554e+08  \n15   1.105324e+08  1.026955e+08  1.036316e+08  6.950595e+07  1.515589e+08  \n16   8.334384e+04  9.433619e+04  1.456643e+05 -2.347631e+07  2.364300e+07  \n17   1.423647e+05  1.629054e+05  1.295130e+05 -2.343360e+07  2.371833e+07  \n18   1.556587e+05  1.762317e+05  1.762317e+05 -2.343660e+07  2.374792e+07  \n19   2.069904e+05  2.275312e+05  2.275312e+05 -2.340155e+07  2.381553e+07  \n20   1.627679e+05  1.833087e+05  1.833087e+05 -2.346205e+07  2.378758e+07  \n21   1.882647e+05  2.085526e+05  2.085526e+05 -2.345281e+07  2.382934e+07  \n22   2.124756e+05  2.332858e+05  2.332858e+05 -2.344485e+07  2.386980e+07  \n23   8.096834e+07  8.089268e+07  8.080842e+07  5.729477e+07  1.046419e+08  ",
      "text/html": "<div>\n<style scoped>\n    .dataframe tbody tr th:only-of-type {\n        vertical-align: middle;\n    }\n\n    .dataframe tbody tr th {\n        vertical-align: top;\n    }\n\n    .dataframe thead th {\n        text-align: right;\n    }\n</style>\n<table border=\"1\" class=\"dataframe\">\n  <thead>\n    <tr style=\"text-align: right;\">\n      <th></th>\n      <th>Calendar Date</th>\n      <th>Item</th>\n      <th>Actual</th>\n      <th>ML Predicted</th>\n      <th>UTS Predicted</th>\n      <th>Plan</th>\n      <th>Forecast</th>\n      <th>Lower CI</th>\n      <th>Upper CI</th>\n    </tr>\n  </thead>\n  <tbody>\n    <tr>\n      <th>0</th>\n      <td>2021-06-01</td>\n      <td>Delivery Revenue</td>\n      <td>7.829827e+06</td>\n      <td>8.742005e+06</td>\n      <td>7.621582e+06</td>\n      <td>7.486713e+06</td>\n      <td>7.829827e+06</td>\n      <td>5.679662e+06</td>\n      <td>9.563501e+06</td>\n    </tr>\n    <tr>\n      <th>1</th>\n      <td>2021-07-01</td>\n      <td>Delivery Revenue</td>\n      <td>1.243936e+07</td>\n      <td>1.289055e+07</td>\n      <td>1.218767e+07</td>\n      <td>1.261072e+07</td>\n      <td>1.243936e+07</td>\n      <td>1.005493e+07</td>\n      <td>1.432041e+07</td>\n    </tr>\n    <tr>\n      <th>2</th>\n      <td>2021-08-01</td>\n      <td>Delivery Revenue</td>\n      <td>7.622602e+06</td>\n      <td>7.869987e+06</td>\n      <td>7.427974e+06</td>\n      <td>7.556542e+06</td>\n      <td>7.682000e+06</td>\n      <td>4.843065e+06</td>\n      <td>1.001288e+07</td>\n    </tr>\n    <tr>\n      <th>3</th>\n      <td>2021-09-01</td>\n      <td>Delivery Revenue</td>\n      <td>7.779041e+06</td>\n      <td>7.976084e+06</td>\n      <td>7.893044e+06</td>\n      <td>6.818278e+06</td>\n      <td>7.149703e+06</td>\n      <td>5.066063e+06</td>\n      <td>1.072002e+07</td>\n    </tr>\n    <tr>\n      <th>4</th>\n      <td>2021-10-01</td>\n      <td>Delivery Revenue</td>\n      <td>1.126827e+07</td>\n      <td>1.287066e+07</td>\n      <td>1.247308e+07</td>\n      <td>1.174251e+07</td>\n      <td>1.122409e+07</td>\n      <td>9.354347e+06</td>\n      <td>1.559181e+07</td>\n    </tr>\n    <tr>\n      <th>5</th>\n      <td>2021-11-01</td>\n      <td>Delivery Revenue</td>\n      <td>7.617424e+06</td>\n      <td>7.695706e+06</td>\n      <td>7.406496e+06</td>\n      <td>6.938894e+06</td>\n      <td>7.147250e+06</td>\n      <td>4.056574e+06</td>\n      <td>1.075642e+07</td>\n    </tr>\n    <tr>\n      <th>6</th>\n      <td>2021-12-01</td>\n      <td>Delivery Revenue</td>\n      <td>8.212787e+06</td>\n      <td>8.042708e+06</td>\n      <td>8.094190e+06</td>\n      <td>7.564224e+06</td>\n      <td>7.716521e+06</td>\n      <td>4.510080e+06</td>\n      <td>1.167830e+07</td>\n    </tr>\n    <tr>\n      <th>7</th>\n      <td>2022-01-01</td>\n      <td>Delivery Revenue</td>\n      <td>2.243552e+07</td>\n      <td>2.102415e+07</td>\n      <td>2.258278e+07</td>\n      <td>2.262883e+07</td>\n      <td>2.207458e+07</td>\n      <td>1.878818e+07</td>\n      <td>2.637738e+07</td>\n    </tr>\n    <tr>\n      <th>8</th>\n      <td>2021-06-01</td>\n      <td>Payroll blended products</td>\n      <td>1.142380e+08</td>\n      <td>1.069185e+08</td>\n      <td>1.145630e+08</td>\n      <td>1.134306e+08</td>\n      <td>1.142380e+08</td>\n      <td>9.281367e+07</td>\n      <td>1.363124e+08</td>\n    </tr>\n    <tr>\n      <th>9</th>\n      <td>2021-07-01</td>\n      <td>Payroll blended products</td>\n      <td>1.131859e+08</td>\n      <td>1.110458e+08</td>\n      <td>1.157635e+08</td>\n      <td>1.143207e+08</td>\n      <td>1.131859e+08</td>\n      <td>9.176588e+07</td>\n      <td>1.397611e+08</td>\n    </tr>\n    <tr>\n      <th>10</th>\n      <td>2021-08-01</td>\n      <td>Payroll blended products</td>\n      <td>1.157689e+08</td>\n      <td>1.060490e+08</td>\n      <td>1.135166e+08</td>\n      <td>1.167989e+08</td>\n      <td>1.182797e+08</td>\n      <td>8.548083e+07</td>\n      <td>1.415523e+08</td>\n    </tr>\n    <tr>\n      <th>11</th>\n      <td>2021-09-01</td>\n      <td>Payroll blended products</td>\n      <td>1.164069e+08</td>\n      <td>1.087553e+08</td>\n      <td>1.153946e+08</td>\n      <td>1.126937e+08</td>\n      <td>1.132994e+08</td>\n      <td>8.442522e+07</td>\n      <td>1.463641e+08</td>\n    </tr>\n    <tr>\n      <th>12</th>\n      <td>2021-10-01</td>\n      <td>Payroll blended products</td>\n      <td>1.074553e+08</td>\n      <td>1.026939e+08</td>\n      <td>1.174904e+08</td>\n      <td>1.045306e+08</td>\n      <td>1.053015e+08</td>\n      <td>8.370521e+07</td>\n      <td>1.512755e+08</td>\n    </tr>\n    <tr>\n      <th>13</th>\n      <td>2021-11-01</td>\n      <td>Payroll blended products</td>\n      <td>1.175037e+08</td>\n      <td>1.053842e+08</td>\n      <td>1.143671e+08</td>\n      <td>1.132584e+08</td>\n      <td>1.141515e+08</td>\n      <td>7.800990e+07</td>\n      <td>1.507242e+08</td>\n    </tr>\n    <tr>\n      <th>14</th>\n      <td>2021-12-01</td>\n      <td>Payroll blended products</td>\n      <td>1.278009e+08</td>\n      <td>1.143640e+08</td>\n      <td>1.278934e+08</td>\n      <td>1.195799e+08</td>\n      <td>1.199513e+08</td>\n      <td>8.913152e+07</td>\n      <td>1.666554e+08</td>\n    </tr>\n    <tr>\n      <th>15</th>\n      <td>2022-01-01</td>\n      <td>Payroll blended products</td>\n      <td>1.038698e+08</td>\n      <td>1.069483e+08</td>\n      <td>1.105324e+08</td>\n      <td>1.026955e+08</td>\n      <td>1.036316e+08</td>\n      <td>6.950595e+07</td>\n      <td>1.515589e+08</td>\n    </tr>\n    <tr>\n      <th>16</th>\n      <td>2021-06-01</td>\n      <td>W-2 Revenue</td>\n      <td>1.456643e+05</td>\n      <td>1.787953e+07</td>\n      <td>8.334384e+04</td>\n      <td>9.433619e+04</td>\n      <td>1.456643e+05</td>\n      <td>-2.347631e+07</td>\n      <td>2.364300e+07</td>\n    </tr>\n    <tr>\n      <th>17</th>\n      <td>2021-07-01</td>\n      <td>W-2 Revenue</td>\n      <td>1.295130e+05</td>\n      <td>1.787953e+07</td>\n      <td>1.423647e+05</td>\n      <td>1.629054e+05</td>\n      <td>1.295130e+05</td>\n      <td>-2.343360e+07</td>\n      <td>2.371833e+07</td>\n    </tr>\n    <tr>\n      <th>18</th>\n      <td>2021-08-01</td>\n      <td>W-2 Revenue</td>\n      <td>1.496995e+05</td>\n      <td>1.787953e+07</td>\n      <td>1.556587e+05</td>\n      <td>1.762317e+05</td>\n      <td>1.762317e+05</td>\n      <td>-2.343660e+07</td>\n      <td>2.374792e+07</td>\n    </tr>\n    <tr>\n      <th>19</th>\n      <td>2021-09-01</td>\n      <td>W-2 Revenue</td>\n      <td>1.845622e+05</td>\n      <td>1.787953e+07</td>\n      <td>2.069904e+05</td>\n      <td>2.275312e+05</td>\n      <td>2.275312e+05</td>\n      <td>-2.340155e+07</td>\n      <td>2.381553e+07</td>\n    </tr>\n    <tr>\n      <th>20</th>\n      <td>2021-10-01</td>\n      <td>W-2 Revenue</td>\n      <td>1.811631e+05</td>\n      <td>1.787953e+07</td>\n      <td>1.627679e+05</td>\n      <td>1.833087e+05</td>\n      <td>1.833087e+05</td>\n      <td>-2.346205e+07</td>\n      <td>2.378758e+07</td>\n    </tr>\n    <tr>\n      <th>21</th>\n      <td>2021-11-01</td>\n      <td>W-2 Revenue</td>\n      <td>1.552792e+05</td>\n      <td>1.787953e+07</td>\n      <td>1.882647e+05</td>\n      <td>2.085526e+05</td>\n      <td>2.085526e+05</td>\n      <td>-2.345281e+07</td>\n      <td>2.382934e+07</td>\n    </tr>\n    <tr>\n      <th>22</th>\n      <td>2021-12-01</td>\n      <td>W-2 Revenue</td>\n      <td>1.925841e+05</td>\n      <td>1.787953e+07</td>\n      <td>2.124756e+05</td>\n      <td>2.332858e+05</td>\n      <td>2.332858e+05</td>\n      <td>-2.344485e+07</td>\n      <td>2.386980e+07</td>\n    </tr>\n    <tr>\n      <th>23</th>\n      <td>2022-01-01</td>\n      <td>W-2 Revenue</td>\n      <td>8.154442e+07</td>\n      <td>1.787953e+07</td>\n      <td>8.096834e+07</td>\n      <td>8.089268e+07</td>\n      <td>8.080842e+07</td>\n      <td>5.729477e+07</td>\n      <td>1.046419e+08</td>\n    </tr>\n  </tbody>\n</table>\n</div>"
     },
     "execution_count": 159,
     "metadata": {},
     "output_type": "execute_result"
    }
   ],
   "source": [
    "df"
   ],
   "metadata": {
    "collapsed": false,
    "pycharm": {
     "name": "#%%\n"
    }
   }
  },
  {
   "cell_type": "code",
   "execution_count": null,
   "outputs": [],
   "source": [],
   "metadata": {
    "collapsed": false,
    "pycharm": {
     "name": "#%%\n"
    }
   }
  }
 ],
 "metadata": {
  "kernelspec": {
   "display_name": "Python 3",
   "language": "python",
   "name": "python3"
  },
  "language_info": {
   "codemirror_mode": {
    "name": "ipython",
    "version": 3
   },
   "file_extension": ".py",
   "mimetype": "text/x-python",
   "name": "python",
   "nbconvert_exporter": "python",
   "pygments_lexer": "ipython3",
   "version": "3.8.1"
  }
 },
 "nbformat": 4,
 "nbformat_minor": 4
}