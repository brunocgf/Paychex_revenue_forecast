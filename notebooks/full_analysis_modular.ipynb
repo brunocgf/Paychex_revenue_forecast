{
 "cells": [
  {
   "cell_type": "code",
   "execution_count": 1,
   "metadata": {},
   "outputs": [],
   "source": [
    "import os, pickle\n",
    "import pandas as pd\n",
    "import numpy as np\n",
    "import plotly.express as px\n",
    "from pycaret.regression import *\n",
    "from datetime import datetime\n",
    "import seaborn as sns\n",
    "import matplotlib.pyplot as plt\n",
    "from openpyxl import load_workbook, Workbook\n",
    "import src.paychex_ml.data_loader as dl\n",
    "import src.paychex_ml.models as models\n",
    "\n",
    "warnings.filterwarnings(\"ignore\")"
   ]
  },
  {
   "cell_type": "code",
   "execution_count": 2,
   "outputs": [],
   "source": [
    "## Change the project path\n",
    "proyect_path = \"C:/Users/bruno.gonzalez/DataspellProjects/Paychex_revenue_forecast\""
   ],
   "metadata": {
    "collapsed": false,
    "pycharm": {
     "name": "#%%\n"
    }
   }
  },
  {
   "cell_type": "code",
   "execution_count": 3,
   "outputs": [],
   "source": [
    "# ------------------------------------------------------------------------------------- #\n",
    "# This is where we change parameters to the model\n",
    "# ------------------------------------------------------------------------------------- #\n",
    "train_start_dt = '20140601'\n",
    "train_end_dt = '20200501'\n",
    "test_start_dt = '20200601'\n",
    "test_end_dt = '20210501'\n",
    "pred_start_dt = '20210601'\n",
    "pred_end_dt = '20220101'\n",
    "ml_criteria = 'MAE'\n",
    "forecast_window = 8\n",
    "forecast_type = '2+10'\n",
    "# This is how strong you want the correlation to be in order to be included as a feature\n",
    "correlation_threshold = 0.5\n",
    "# This is how many features you want to keep in the final model\n",
    "features_threshold = 10"
   ],
   "metadata": {
    "collapsed": false,
    "pycharm": {
     "name": "#%%\n"
    }
   }
  },
  {
   "cell_type": "code",
   "execution_count": 4,
   "outputs": [],
   "source": [
    "# Set manually date if is necessary\n",
    "model_run_date = datetime.today().strftime('%Y%m%d')\n",
    "#model_run_date = '20220504'"
   ],
   "metadata": {
    "collapsed": false,
    "pycharm": {
     "name": "#%%\n"
    }
   }
  },
  {
   "cell_type": "code",
   "execution_count": 5,
   "outputs": [],
   "source": [
    "# ------------------------------------------------------------------------------------- #\n",
    "# Total Payroll Section\n",
    "# ------------------------------------------------------------------------------------- #\n",
    "# target_col = 'Payroll blended products'\n",
    "# has_drivers = True\n",
    "# target_col = 'W-2 Revenue'\n",
    "# has_drivers = False\n",
    "# target_col = 'Delivery Revenue'\n",
    "# has_drivers = False\n",
    "# target_col = 'ASO Allocation'\n",
    "# has_drivers = False\n",
    "# target_col = 'Other Processing Revenue'\n",
    "# has_drivers = False\n",
    "# target_col = 'SurePayroll.'\n",
    "# has_drivers = True\n",
    "# target_col = 'Total international'\n",
    "# has_drivers = False\n",
    "\n",
    "# ------------------------------------------------------------------------------------- #\n",
    "# Total 401K Section\n",
    "# ------------------------------------------------------------------------------------- #\n",
    "# target_col = '401K Fee Revenue'\n",
    "# has_drivers = True\n",
    "# target_col = '401K Asset fee & BP Revenue'\n",
    "# has_drivers = True\n",
    "\n",
    "# ------------------------------------------------------------------------------------- #\n",
    "# Total ASO Revenue\n",
    "# ------------------------------------------------------------------------------------- #\n",
    "# target_col = 'HR Solutions (PEO)'\n",
    "# has_drivers = False\n",
    "# target_col = 'ASO Revenue - Oasis'\n",
    "# has_drivers = False\n",
    "\n",
    "# ------------------------------------------------------------------------------------- #\n",
    "# Total Online Services\n",
    "# ------------------------------------------------------------------------------------- #\n",
    "# target_col = 'HR Online'\n",
    "# has_drivers = False\n",
    "# target_col = 'Time & Attendance'\n",
    "# has_drivers = False\n",
    "\n",
    "# ------------------------------------------------------------------------------------- #\n",
    "# Other Management Solutions\n",
    "# ------------------------------------------------------------------------------------- #\n",
    "# target_col = 'Total Paychex Advance'\n",
    "# has_drivers = True\n",
    "# target_col = 'Full Service Unemployment Revenue'\n",
    "# has_drivers = True\n",
    "# target_col = 'ESR Revenue'\n",
    "# has_drivers = True\n",
    "# target_col = 'Cafeteria Plans Revenue'\n",
    "# has_drivers = True\n",
    "# target_col = 'Benetrac'\n",
    "# has_drivers = True\n",
    "# target_col = 'Emerging Products'\n",
    "# has_drivers = True\n",
    "\n",
    "# ------------------------------------------------------------------------------------- #\n",
    "# Total PEO\n",
    "# ------------------------------------------------------------------------------------- #\n",
    "# target_col = 'Total PEO'\n",
    "# has_drivers = False\n",
    "\n",
    "# ------------------------------------------------------------------------------------- #\n",
    "# Total Insurance Services\n",
    "# ------------------------------------------------------------------------------------- #\n",
    "# target_col = 'Workers Comp - Payment Services'\n",
    "# has_drivers = True\n",
    "# target_col = 'Health Benefits'\n",
    "# has_drivers = True\n",
    "\n",
    "# target_col = 'Interest on Funds Held for Clients'\n",
    "# has_drivers = False\n",
    "\n",
    "# ------------------------------------------------------------------------------------- #\n",
    "# Total Level 1\n",
    "# ------------------------------------------------------------------------------------- #\n",
    "target_col = 'Total Payroll Revenue.'\n",
    "has_drivers = True\n",
    "# target_col = 'Total 401k'\n",
    "# has_drivers = True\n",
    "# target_col = 'Total ASO Revenue'\n",
    "# has_drivers = False\n",
    "# target_col = 'Total Online Services'\n",
    "# has_drivers = True\n",
    "# target_col = 'Other Management Solutions'\n",
    "# has_drivers = True\n",
    "# target_col = 'Total Insurance Services'\n",
    "# has_drivers = True\n",
    "\n",
    "# ------------------------------------------------------------------------------------- #\n",
    "# Total Level 2\n",
    "# ------------------------------------------------------------------------------------- #\n",
    "# target_col = 'Total Revenue'\n",
    "# has_drivers = False\n",
    "\n"
   ],
   "metadata": {
    "collapsed": false,
    "pycharm": {
     "name": "#%%\n"
    }
   }
  },
  {
   "cell_type": "code",
   "execution_count": 22,
   "outputs": [],
   "source": [
    "ml_col = target_col+' - ML Predicted'\n",
    "uts_col = target_col+' - UTS Predicted'\n",
    "plan_col = target_col+' - Plan'\n",
    "fcst_col = target_col+' - '+forecast_type+' Forecast'\n",
    "fcst_cols = [plan_col,fcst_col,ml_col,uts_col]\n",
    "has_actuals = True\n",
    "feature_selection = 'ml_features'\n",
    "level = 1"
   ],
   "metadata": {
    "collapsed": false,
    "pycharm": {
     "name": "#%%\n"
    }
   }
  },
  {
   "cell_type": "code",
   "execution_count": 7,
   "outputs": [],
   "source": [
    "# Get the full data frame and combine with drivers\n",
    "#all_df = dl.get_level_0_data(train_start_dt, pred_end_dt)"
   ],
   "metadata": {
    "collapsed": false,
    "pycharm": {
     "name": "#%%\n"
    }
   }
  },
  {
   "cell_type": "code",
   "execution_count": 8,
   "outputs": [],
   "source": [
    "file_path = proyect_path+\"/data/clean/table_predictable.csv\"\n",
    "all_df = dl.get_clean_data(train_start_dt, pred_end_dt, file_path, level=level)"
   ],
   "metadata": {
    "collapsed": false,
    "pycharm": {
     "name": "#%%\n"
    }
   }
  },
  {
   "cell_type": "code",
   "execution_count": 9,
   "outputs": [],
   "source": [
    "drive_path = proyect_path+\"/data/clean/table_drivers.csv\"\n",
    "#driv_df_ = pd.read_csv(file_path, dtype={'Period':str, 'Calendar Date': str})\n",
    "#driv_df = dl.get_clean_driver_data(train_start_dt, pred_end_dt, target_col, file_path)"
   ],
   "metadata": {
    "collapsed": false,
    "pycharm": {
     "name": "#%%\n"
    }
   }
  },
  {
   "cell_type": "code",
   "execution_count": 10,
   "outputs": [],
   "source": [
    "all_df = all_df[['Calendar Date', target_col]]\n",
    "if has_drivers:\n",
    "    driv_df = dl.get_clean_driver_data(train_start_dt, pred_end_dt, target_col, drive_path)\n",
    "    #driv_df.drop(columns=['Scenario'], inplace=True)\n",
    "    all_df = pd.merge(all_df, driv_df, on='Calendar Date', how='inner')"
   ],
   "metadata": {
    "collapsed": false,
    "pycharm": {
     "name": "#%%\n"
    }
   }
  },
  {
   "cell_type": "code",
   "execution_count": 11,
   "outputs": [],
   "source": [
    "external_path = proyect_path+\"/data/external/external_data_fred.csv\"\n",
    "ext_df = pd.read_csv(external_path, dtype={'date': str})\\\n",
    "    .rename(columns={'date': 'Calendar Date'})\n",
    "#ext_df = dl.get_external_data(train_start_dt, pred_end_dt)\n",
    "all_df = pd.merge(all_df, ext_df, on='Calendar Date', how='inner')"
   ],
   "metadata": {
    "collapsed": false,
    "pycharm": {
     "name": "#%%\n"
    }
   }
  },
  {
   "cell_type": "code",
   "execution_count": 12,
   "outputs": [
    {
     "name": "stdout",
     "output_type": "stream",
     "text": [
      "Directory created\n"
     ]
    }
   ],
   "source": [
    "model_path = proyect_path+\"/data/models/\"+model_run_date\n",
    "if not os.path.exists(model_path):\n",
    "    os.makedirs(model_path)\n",
    "    print(\"Directory created\")"
   ],
   "metadata": {
    "collapsed": false,
    "pycharm": {
     "name": "#%%\n"
    }
   }
  },
  {
   "cell_type": "code",
   "execution_count": 13,
   "outputs": [
    {
     "name": "stdout",
     "output_type": "stream",
     "text": [
      "Shape of the training dataframe:\n",
      "(72, 1691)\n",
      "Shape of the testing dataframe:\n",
      "(12, 1691)\n",
      "Shape of the combination dataframe:\n",
      "(84, 1691)\n"
     ]
    }
   ],
   "source": [
    "# Train df\n",
    "train_df = all_df[all_df['Calendar Date'].astype(int) <= int(train_end_dt)]\n",
    "train_df['Calendar Date'] = pd.to_datetime(train_df['Calendar Date'])\n",
    "print('Shape of the training dataframe:')\n",
    "print(train_df.shape)\n",
    "\n",
    "# Test df\n",
    "test_df = all_df[(all_df['Calendar Date'].astype(int) >= int(test_start_dt)) & (all_df['Calendar Date'].astype(int) <= int(test_end_dt))]\n",
    "test_df['Calendar Date'] = pd.to_datetime(test_df['Calendar Date'])\n",
    "print('Shape of the testing dataframe:')\n",
    "print(test_df.shape)\n",
    "\n",
    "# Combined dataframe\n",
    "comb_df = pd.concat([train_df, test_df])\n",
    "print('Shape of the combination dataframe:')\n",
    "print(comb_df.shape)"
   ],
   "metadata": {
    "collapsed": false,
    "pycharm": {
     "name": "#%%\n"
    }
   }
  },
  {
   "cell_type": "code",
   "execution_count": 49,
   "outputs": [
    {
     "data": {
      "text/plain": "<Figure size 576x864 with 2 Axes>",
      "image/png": "[encoded data removed]"
     },
     "metadata": {},
     "output_type": "display_data"
    }
   ],
   "source": [
    "feature_cols = comb_df.columns.to_list()\n",
    "feature_cols.remove('Calendar Date')\n",
    "feature_cols.remove(target_col)\n",
    "\n",
    "# Run Correlations to target\n",
    "corr_df = comb_df.corr()[[target_col]]\n",
    "corr_df = corr_df[corr_df[target_col].abs() >= correlation_threshold].sort_values(target_col, ascending=False)\n",
    "\n",
    "plt.figure(figsize=(8, 12))\n",
    "heatmap = sns.heatmap(corr_df, vmin=-1, vmax=1, annot=True, cmap='BrBG')\n",
    "heatmap.set_title('Features Correlating with '+target_col, fontdict={'fontsize':18}, pad=16);"
   ],
   "metadata": {
    "collapsed": false,
    "pycharm": {
     "name": "#%%\n"
    }
   }
  },
  {
   "cell_type": "code",
   "execution_count": 47,
   "outputs": [
    {
     "data": {
      "text/plain": "                                              Feature  Total Payroll Revenue.\n0                              Total Payroll Revenue.                1.000000\n1                  PR PRODUCT/1502 SP ETAP/Sales - RW                0.718421\n2         Product NA/6000 CORP OFFICE/# of Weeks - RW                0.563563\n3   Total Advantage Blended Products Revenue/ADVAN...               -0.709670\n4   Total Advantage Blended Products Revenue/ADVAN...                0.704199\n..                                                ...                     ...\n63  Total Preview Blended Products Revenue/0476 NO...                0.582318\n64  Total Preview Blended Products Revenue/0485 SA...               -0.509149\n65  Total Preview Blended Products Revenue/0485 SA...                0.535663\n66         W-2 100/1502 SP ETAP/Revenue / Billable PR                0.509849\n67     W-2 100/1502 SP ETAP/SurePayroll Revenue Share               -0.628088\n\n[68 rows x 2 columns]",
      "text/html": "<div>\n<style scoped>\n    .dataframe tbody tr th:only-of-type {\n        vertical-align: middle;\n    }\n\n    .dataframe tbody tr th {\n        vertical-align: top;\n    }\n\n    .dataframe thead th {\n        text-align: right;\n    }\n</style>\n<table border=\"1\" class=\"dataframe\">\n  <thead>\n    <tr style=\"text-align: right;\">\n      <th></th>\n      <th>Feature</th>\n      <th>Total Payroll Revenue.</th>\n    </tr>\n  </thead>\n  <tbody>\n    <tr>\n      <th>0</th>\n      <td>Total Payroll Revenue.</td>\n      <td>1.000000</td>\n    </tr>\n    <tr>\n      <th>1</th>\n      <td>PR PRODUCT/1502 SP ETAP/Sales - RW</td>\n      <td>0.718421</td>\n    </tr>\n    <tr>\n      <th>2</th>\n      <td>Product NA/6000 CORP OFFICE/# of Weeks - RW</td>\n      <td>0.563563</td>\n    </tr>\n    <tr>\n      <th>3</th>\n      <td>Total Advantage Blended Products Revenue/ADVAN...</td>\n      <td>-0.709670</td>\n    </tr>\n    <tr>\n      <th>4</th>\n      <td>Total Advantage Blended Products Revenue/ADVAN...</td>\n      <td>0.704199</td>\n    </tr>\n    <tr>\n      <th>...</th>\n      <td>...</td>\n      <td>...</td>\n    </tr>\n    <tr>\n      <th>63</th>\n      <td>Total Preview Blended Products Revenue/0476 NO...</td>\n      <td>0.582318</td>\n    </tr>\n    <tr>\n      <th>64</th>\n      <td>Total Preview Blended Products Revenue/0485 SA...</td>\n      <td>-0.509149</td>\n    </tr>\n    <tr>\n      <th>65</th>\n      <td>Total Preview Blended Products Revenue/0485 SA...</td>\n      <td>0.535663</td>\n    </tr>\n    <tr>\n      <th>66</th>\n      <td>W-2 100/1502 SP ETAP/Revenue / Billable PR</td>\n      <td>0.509849</td>\n    </tr>\n    <tr>\n      <th>67</th>\n      <td>W-2 100/1502 SP ETAP/SurePayroll Revenue Share</td>\n      <td>-0.628088</td>\n    </tr>\n  </tbody>\n</table>\n<p>68 rows × 2 columns</p>\n</div>"
     },
     "execution_count": 47,
     "metadata": {},
     "output_type": "execute_result"
    }
   ],
   "source": [
    "corr_df"
   ],
   "metadata": {
    "collapsed": false,
    "pycharm": {
     "name": "#%%\n"
    }
   }
  },
  {
   "cell_type": "code",
   "execution_count": 15,
   "outputs": [],
   "source": [
    "# Get a list of the features based on correlation\n",
    "corr_df = corr_df.rename_axis('Feature').reset_index()\n",
    "corr_feature_cols = corr_df['Feature'].tolist()\n",
    "corr_feature_cols.remove(target_col)\n",
    "#print(corr_feature_cols)"
   ],
   "metadata": {
    "collapsed": false,
    "pycharm": {
     "name": "#%%\n"
    }
   }
  },
  {
   "cell_type": "code",
   "execution_count": 16,
   "outputs": [
    {
     "data": {
      "text/plain": "<pandas.io.formats.style.Styler at 0x26ec43480d0>",
      "text/html": "<style type=\"text/css\">\n#T_4b80a th {\n  text-align: left;\n}\n#T_4b80a_row0_col0, #T_4b80a_row1_col0, #T_4b80a_row1_col1, #T_4b80a_row1_col2, #T_4b80a_row1_col3, #T_4b80a_row1_col4, #T_4b80a_row1_col5, #T_4b80a_row1_col6, #T_4b80a_row2_col0, #T_4b80a_row2_col1, #T_4b80a_row2_col2, #T_4b80a_row2_col3, #T_4b80a_row2_col4, #T_4b80a_row2_col5, #T_4b80a_row2_col6, #T_4b80a_row3_col0, #T_4b80a_row3_col1, #T_4b80a_row3_col2, #T_4b80a_row3_col3, #T_4b80a_row3_col4, #T_4b80a_row3_col5, #T_4b80a_row3_col6, #T_4b80a_row4_col0, #T_4b80a_row4_col1, #T_4b80a_row4_col2, #T_4b80a_row4_col3, #T_4b80a_row4_col4, #T_4b80a_row4_col5, #T_4b80a_row4_col6, #T_4b80a_row5_col0, #T_4b80a_row5_col1, #T_4b80a_row5_col2, #T_4b80a_row5_col3, #T_4b80a_row5_col4, #T_4b80a_row5_col5, #T_4b80a_row5_col6, #T_4b80a_row6_col0, #T_4b80a_row6_col1, #T_4b80a_row6_col2, #T_4b80a_row6_col3, #T_4b80a_row6_col4, #T_4b80a_row6_col5, #T_4b80a_row6_col6, #T_4b80a_row7_col0, #T_4b80a_row7_col1, #T_4b80a_row7_col2, #T_4b80a_row7_col3, #T_4b80a_row7_col4, #T_4b80a_row7_col5, #T_4b80a_row7_col6, #T_4b80a_row8_col0, #T_4b80a_row8_col1, #T_4b80a_row8_col2, #T_4b80a_row8_col3, #T_4b80a_row8_col4, #T_4b80a_row8_col5, #T_4b80a_row8_col6, #T_4b80a_row9_col0, #T_4b80a_row9_col1, #T_4b80a_row9_col2, #T_4b80a_row9_col3, #T_4b80a_row9_col4, #T_4b80a_row9_col5, #T_4b80a_row9_col6, #T_4b80a_row10_col0, #T_4b80a_row10_col1, #T_4b80a_row10_col2, #T_4b80a_row10_col3, #T_4b80a_row10_col4, #T_4b80a_row10_col5, #T_4b80a_row10_col6, #T_4b80a_row11_col0, #T_4b80a_row11_col1, #T_4b80a_row11_col2, #T_4b80a_row11_col3, #T_4b80a_row11_col4, #T_4b80a_row11_col5, #T_4b80a_row11_col6, #T_4b80a_row12_col0, #T_4b80a_row12_col1, #T_4b80a_row12_col2, #T_4b80a_row12_col3, #T_4b80a_row12_col4, #T_4b80a_row12_col5, #T_4b80a_row12_col6, #T_4b80a_row13_col0, #T_4b80a_row13_col1, #T_4b80a_row13_col2, #T_4b80a_row13_col3, #T_4b80a_row13_col4, #T_4b80a_row13_col5, #T_4b80a_row13_col6, #T_4b80a_row14_col0, #T_4b80a_row14_col1, #T_4b80a_row14_col2, #T_4b80a_row14_col3, #T_4b80a_row14_col4, #T_4b80a_row14_col5, #T_4b80a_row14_col6, #T_4b80a_row15_col0, #T_4b80a_row15_col1, #T_4b80a_row15_col2, #T_4b80a_row15_col3, #T_4b80a_row15_col4, #T_4b80a_row15_col5, #T_4b80a_row15_col6, #T_4b80a_row16_col0, #T_4b80a_row16_col1, #T_4b80a_row16_col2, #T_4b80a_row16_col3, #T_4b80a_row16_col4, #T_4b80a_row16_col5, #T_4b80a_row16_col6, #T_4b80a_row17_col0, #T_4b80a_row17_col1, #T_4b80a_row17_col2, #T_4b80a_row17_col3, #T_4b80a_row17_col4, #T_4b80a_row17_col5, #T_4b80a_row17_col6 {\n  text-align: left;\n}\n#T_4b80a_row0_col1, #T_4b80a_row0_col2, #T_4b80a_row0_col3, #T_4b80a_row0_col4, #T_4b80a_row0_col5, #T_4b80a_row0_col6 {\n  text-align: left;\n  background-color: yellow;\n}\n#T_4b80a_row0_col7, #T_4b80a_row1_col7, #T_4b80a_row2_col7, #T_4b80a_row3_col7, #T_4b80a_row4_col7, #T_4b80a_row5_col7, #T_4b80a_row7_col7, #T_4b80a_row8_col7, #T_4b80a_row9_col7, #T_4b80a_row10_col7, #T_4b80a_row11_col7, #T_4b80a_row12_col7, #T_4b80a_row13_col7, #T_4b80a_row14_col7, #T_4b80a_row15_col7, #T_4b80a_row16_col7, #T_4b80a_row17_col7 {\n  text-align: left;\n  background-color: lightgrey;\n}\n#T_4b80a_row6_col7 {\n  text-align: left;\n  background-color: yellow;\n  background-color: lightgrey;\n}\n</style>\n<table id=\"T_4b80a\">\n  <thead>\n    <tr>\n      <th class=\"blank level0\" >&nbsp;</th>\n      <th id=\"T_4b80a_level0_col0\" class=\"col_heading level0 col0\" >Model</th>\n      <th id=\"T_4b80a_level0_col1\" class=\"col_heading level0 col1\" >MAE</th>\n      <th id=\"T_4b80a_level0_col2\" class=\"col_heading level0 col2\" >MSE</th>\n      <th id=\"T_4b80a_level0_col3\" class=\"col_heading level0 col3\" >RMSE</th>\n      <th id=\"T_4b80a_level0_col4\" class=\"col_heading level0 col4\" >R2</th>\n      <th id=\"T_4b80a_level0_col5\" class=\"col_heading level0 col5\" >RMSLE</th>\n      <th id=\"T_4b80a_level0_col6\" class=\"col_heading level0 col6\" >MAPE</th>\n      <th id=\"T_4b80a_level0_col7\" class=\"col_heading level0 col7\" >TT (Sec)</th>\n    </tr>\n  </thead>\n  <tbody>\n    <tr>\n      <th id=\"T_4b80a_level0_row0\" class=\"row_heading level0 row0\" >xgboost</th>\n      <td id=\"T_4b80a_row0_col0\" class=\"data row0 col0\" >Extreme Gradient Boosting</td>\n      <td id=\"T_4b80a_row0_col1\" class=\"data row0 col1\" >10128614.8333</td>\n      <td id=\"T_4b80a_row0_col2\" class=\"data row0 col2\" >356680444062378.6875</td>\n      <td id=\"T_4b80a_row0_col3\" class=\"data row0 col3\" >15328093.5000</td>\n      <td id=\"T_4b80a_row0_col4\" class=\"data row0 col4\" >0.3436</td>\n      <td id=\"T_4b80a_row0_col5\" class=\"data row0 col5\" >0.0878</td>\n      <td id=\"T_4b80a_row0_col6\" class=\"data row0 col6\" >0.0599</td>\n      <td id=\"T_4b80a_row0_col7\" class=\"data row0 col7\" >0.2800</td>\n    </tr>\n    <tr>\n      <th id=\"T_4b80a_level0_row1\" class=\"row_heading level0 row1\" >et</th>\n      <td id=\"T_4b80a_row1_col0\" class=\"data row1 col0\" >Extra Trees Regressor</td>\n      <td id=\"T_4b80a_row1_col1\" class=\"data row1 col1\" >10681760.9644</td>\n      <td id=\"T_4b80a_row1_col2\" class=\"data row1 col2\" >401429470166082.5000</td>\n      <td id=\"T_4b80a_row1_col3\" class=\"data row1 col3\" >16575289.8741</td>\n      <td id=\"T_4b80a_row1_col4\" class=\"data row1 col4\" >0.2159</td>\n      <td id=\"T_4b80a_row1_col5\" class=\"data row1 col5\" >0.0965</td>\n      <td id=\"T_4b80a_row1_col6\" class=\"data row1 col6\" >0.0629</td>\n      <td id=\"T_4b80a_row1_col7\" class=\"data row1 col7\" >0.1133</td>\n    </tr>\n    <tr>\n      <th id=\"T_4b80a_level0_row2\" class=\"row_heading level0 row2\" >gbr</th>\n      <td id=\"T_4b80a_row2_col0\" class=\"data row2 col0\" >Gradient Boosting Regressor</td>\n      <td id=\"T_4b80a_row2_col1\" class=\"data row2 col1\" >10717780.9601</td>\n      <td id=\"T_4b80a_row2_col2\" class=\"data row2 col2\" >389903491008185.6875</td>\n      <td id=\"T_4b80a_row2_col3\" class=\"data row2 col3\" >16181675.3361</td>\n      <td id=\"T_4b80a_row2_col4\" class=\"data row2 col4\" >0.2711</td>\n      <td id=\"T_4b80a_row2_col5\" class=\"data row2 col5\" >0.0932</td>\n      <td id=\"T_4b80a_row2_col6\" class=\"data row2 col6\" >0.0634</td>\n      <td id=\"T_4b80a_row2_col7\" class=\"data row2 col7\" >0.1467</td>\n    </tr>\n    <tr>\n      <th id=\"T_4b80a_level0_row3\" class=\"row_heading level0 row3\" >rf</th>\n      <td id=\"T_4b80a_row3_col0\" class=\"data row3 col0\" >Random Forest Regressor</td>\n      <td id=\"T_4b80a_row3_col1\" class=\"data row3 col1\" >11224369.1778</td>\n      <td id=\"T_4b80a_row3_col2\" class=\"data row3 col2\" >400448853096891.9375</td>\n      <td id=\"T_4b80a_row3_col3\" class=\"data row3 col3\" >16495599.6653</td>\n      <td id=\"T_4b80a_row3_col4\" class=\"data row3 col4\" >0.2310</td>\n      <td id=\"T_4b80a_row3_col5\" class=\"data row3 col5\" >0.0951</td>\n      <td id=\"T_4b80a_row3_col6\" class=\"data row3 col6\" >0.0667</td>\n      <td id=\"T_4b80a_row3_col7\" class=\"data row3 col7\" >0.1100</td>\n    </tr>\n    <tr>\n      <th id=\"T_4b80a_level0_row4\" class=\"row_heading level0 row4\" >ada</th>\n      <td id=\"T_4b80a_row4_col0\" class=\"data row4 col0\" >AdaBoost Regressor</td>\n      <td id=\"T_4b80a_row4_col1\" class=\"data row4 col1\" >11904938.6655</td>\n      <td id=\"T_4b80a_row4_col2\" class=\"data row4 col2\" >431101590920097.9375</td>\n      <td id=\"T_4b80a_row4_col3\" class=\"data row4 col3\" >17488328.7767</td>\n      <td id=\"T_4b80a_row4_col4\" class=\"data row4 col4\" >0.0758</td>\n      <td id=\"T_4b80a_row4_col5\" class=\"data row4 col5\" >0.1023</td>\n      <td id=\"T_4b80a_row4_col6\" class=\"data row4 col6\" >0.0710</td>\n      <td id=\"T_4b80a_row4_col7\" class=\"data row4 col7\" >0.1033</td>\n    </tr>\n    <tr>\n      <th id=\"T_4b80a_level0_row5\" class=\"row_heading level0 row5\" >lightgbm</th>\n      <td id=\"T_4b80a_row5_col0\" class=\"data row5 col0\" >Light Gradient Boosting Machine</td>\n      <td id=\"T_4b80a_row5_col1\" class=\"data row5 col1\" >12122363.6687</td>\n      <td id=\"T_4b80a_row5_col2\" class=\"data row5 col2\" >453920207643426.7500</td>\n      <td id=\"T_4b80a_row5_col3\" class=\"data row5 col3\" >18439973.9368</td>\n      <td id=\"T_4b80a_row5_col4\" class=\"data row5 col4\" >-0.1074</td>\n      <td id=\"T_4b80a_row5_col5\" class=\"data row5 col5\" >0.1067</td>\n      <td id=\"T_4b80a_row5_col6\" class=\"data row5 col6\" >0.0713</td>\n      <td id=\"T_4b80a_row5_col7\" class=\"data row5 col7\" >0.0467</td>\n    </tr>\n    <tr>\n      <th id=\"T_4b80a_level0_row6\" class=\"row_heading level0 row6\" >dummy</th>\n      <td id=\"T_4b80a_row6_col0\" class=\"data row6 col0\" >Dummy Regressor</td>\n      <td id=\"T_4b80a_row6_col1\" class=\"data row6 col1\" >13084745.0000</td>\n      <td id=\"T_4b80a_row6_col2\" class=\"data row6 col2\" >536629733927594.6875</td>\n      <td id=\"T_4b80a_row6_col3\" class=\"data row6 col3\" >19613630.0000</td>\n      <td id=\"T_4b80a_row6_col4\" class=\"data row6 col4\" >-0.1731</td>\n      <td id=\"T_4b80a_row6_col5\" class=\"data row6 col5\" >0.1146</td>\n      <td id=\"T_4b80a_row6_col6\" class=\"data row6 col6\" >0.0772</td>\n      <td id=\"T_4b80a_row6_col7\" class=\"data row6 col7\" >0.0100</td>\n    </tr>\n    <tr>\n      <th id=\"T_4b80a_level0_row7\" class=\"row_heading level0 row7\" >dt</th>\n      <td id=\"T_4b80a_row7_col0\" class=\"data row7 col0\" >Decision Tree Regressor</td>\n      <td id=\"T_4b80a_row7_col1\" class=\"data row7 col1\" >13190466.3704</td>\n      <td id=\"T_4b80a_row7_col2\" class=\"data row7 col2\" >469635113177398.5000</td>\n      <td id=\"T_4b80a_row7_col3\" class=\"data row7 col3\" >18896120.5779</td>\n      <td id=\"T_4b80a_row7_col4\" class=\"data row7 col4\" >-0.2483</td>\n      <td id=\"T_4b80a_row7_col5\" class=\"data row7 col5\" >0.1132</td>\n      <td id=\"T_4b80a_row7_col6\" class=\"data row7 col6\" >0.0795</td>\n      <td id=\"T_4b80a_row7_col7\" class=\"data row7 col7\" >0.0267</td>\n    </tr>\n    <tr>\n      <th id=\"T_4b80a_level0_row8\" class=\"row_heading level0 row8\" >omp</th>\n      <td id=\"T_4b80a_row8_col0\" class=\"data row8 col0\" >Orthogonal Matching Pursuit</td>\n      <td id=\"T_4b80a_row8_col1\" class=\"data row8 col1\" >13200289.2538</td>\n      <td id=\"T_4b80a_row8_col2\" class=\"data row8 col2\" >462077581101923.0000</td>\n      <td id=\"T_4b80a_row8_col3\" class=\"data row8 col3\" >20274250.8802</td>\n      <td id=\"T_4b80a_row8_col4\" class=\"data row8 col4\" >-1.3849</td>\n      <td id=\"T_4b80a_row8_col5\" class=\"data row8 col5\" >0.1328</td>\n      <td id=\"T_4b80a_row8_col6\" class=\"data row8 col6\" >0.0808</td>\n      <td id=\"T_4b80a_row8_col7\" class=\"data row8 col7\" >1.0733</td>\n    </tr>\n    <tr>\n      <th id=\"T_4b80a_level0_row9\" class=\"row_heading level0 row9\" >llar</th>\n      <td id=\"T_4b80a_row9_col0\" class=\"data row9 col0\" >Lasso Least Angle Regression</td>\n      <td id=\"T_4b80a_row9_col1\" class=\"data row9 col1\" >13216918.0070</td>\n      <td id=\"T_4b80a_row9_col2\" class=\"data row9 col2\" >458826955010594.0000</td>\n      <td id=\"T_4b80a_row9_col3\" class=\"data row9 col3\" >19567657.9892</td>\n      <td id=\"T_4b80a_row9_col4\" class=\"data row9 col4\" >-0.5585</td>\n      <td id=\"T_4b80a_row9_col5\" class=\"data row9 col5\" >0.1204</td>\n      <td id=\"T_4b80a_row9_col6\" class=\"data row9 col6\" >0.0804</td>\n      <td id=\"T_4b80a_row9_col7\" class=\"data row9 col7\" >1.5500</td>\n    </tr>\n    <tr>\n      <th id=\"T_4b80a_level0_row10\" class=\"row_heading level0 row10\" >knn</th>\n      <td id=\"T_4b80a_row10_col0\" class=\"data row10 col0\" >K Neighbors Regressor</td>\n      <td id=\"T_4b80a_row10_col1\" class=\"data row10 col1\" >13355463.8333</td>\n      <td id=\"T_4b80a_row10_col2\" class=\"data row10 col2\" >521101159432192.0000</td>\n      <td id=\"T_4b80a_row10_col3\" class=\"data row10 col3\" >19869002.3333</td>\n      <td id=\"T_4b80a_row10_col4\" class=\"data row10 col4\" >-0.3241</td>\n      <td id=\"T_4b80a_row10_col5\" class=\"data row10 col5\" >0.1176</td>\n      <td id=\"T_4b80a_row10_col6\" class=\"data row10 col6\" >0.0789</td>\n      <td id=\"T_4b80a_row10_col7\" class=\"data row10 col7\" >0.0267</td>\n    </tr>\n    <tr>\n      <th id=\"T_4b80a_level0_row11\" class=\"row_heading level0 row11\" >br</th>\n      <td id=\"T_4b80a_row11_col0\" class=\"data row11 col0\" >Bayesian Ridge</td>\n      <td id=\"T_4b80a_row11_col1\" class=\"data row11 col1\" >15611405.9099</td>\n      <td id=\"T_4b80a_row11_col2\" class=\"data row11 col2\" >757657264064496.5000</td>\n      <td id=\"T_4b80a_row11_col3\" class=\"data row11 col3\" >22544303.7863</td>\n      <td id=\"T_4b80a_row11_col4\" class=\"data row11 col4\" >-0.4124</td>\n      <td id=\"T_4b80a_row11_col5\" class=\"data row11 col5\" >0.1950</td>\n      <td id=\"T_4b80a_row11_col6\" class=\"data row11 col6\" >0.0984</td>\n      <td id=\"T_4b80a_row11_col7\" class=\"data row11 col7\" >0.9333</td>\n    </tr>\n    <tr>\n      <th id=\"T_4b80a_level0_row12\" class=\"row_heading level0 row12\" >par</th>\n      <td id=\"T_4b80a_row12_col0\" class=\"data row12 col0\" >Passive Aggressive Regressor</td>\n      <td id=\"T_4b80a_row12_col1\" class=\"data row12 col1\" >15755088.1851</td>\n      <td id=\"T_4b80a_row12_col2\" class=\"data row12 col2\" >551995451466025.6875</td>\n      <td id=\"T_4b80a_row12_col3\" class=\"data row12 col3\" >21463969.7622</td>\n      <td id=\"T_4b80a_row12_col4\" class=\"data row12 col4\" >-1.1324</td>\n      <td id=\"T_4b80a_row12_col5\" class=\"data row12 col5\" >0.1267</td>\n      <td id=\"T_4b80a_row12_col6\" class=\"data row12 col6\" >0.0978</td>\n      <td id=\"T_4b80a_row12_col7\" class=\"data row12 col7\" >0.0267</td>\n    </tr>\n    <tr>\n      <th id=\"T_4b80a_level0_row13\" class=\"row_heading level0 row13\" >huber</th>\n      <td id=\"T_4b80a_row13_col0\" class=\"data row13 col0\" >Huber Regressor</td>\n      <td id=\"T_4b80a_row13_col1\" class=\"data row13 col1\" >19030202.4976</td>\n      <td id=\"T_4b80a_row13_col2\" class=\"data row13 col2\" >721129242937907.0000</td>\n      <td id=\"T_4b80a_row13_col3\" class=\"data row13 col3\" >25950146.9823</td>\n      <td id=\"T_4b80a_row13_col4\" class=\"data row13 col4\" >-2.5056</td>\n      <td id=\"T_4b80a_row13_col5\" class=\"data row13 col5\" >0.1506</td>\n      <td id=\"T_4b80a_row13_col6\" class=\"data row13 col6\" >0.1182</td>\n      <td id=\"T_4b80a_row13_col7\" class=\"data row13 col7\" >0.0633</td>\n    </tr>\n    <tr>\n      <th id=\"T_4b80a_level0_row14\" class=\"row_heading level0 row14\" >lr</th>\n      <td id=\"T_4b80a_row14_col0\" class=\"data row14 col0\" >Linear Regression</td>\n      <td id=\"T_4b80a_row14_col1\" class=\"data row14 col1\" >25660008.0000</td>\n      <td id=\"T_4b80a_row14_col2\" class=\"data row14 col2\" >1854499557037397.2500</td>\n      <td id=\"T_4b80a_row14_col3\" class=\"data row14 col3\" >38885997.3333</td>\n      <td id=\"T_4b80a_row14_col4\" class=\"data row14 col4\" >-4.7021</td>\n      <td id=\"T_4b80a_row14_col5\" class=\"data row14 col5\" >0.2068</td>\n      <td id=\"T_4b80a_row14_col6\" class=\"data row14 col6\" >0.1678</td>\n      <td id=\"T_4b80a_row14_col7\" class=\"data row14 col7\" >2.1667</td>\n    </tr>\n    <tr>\n      <th id=\"T_4b80a_level0_row15\" class=\"row_heading level0 row15\" >en</th>\n      <td id=\"T_4b80a_row15_col0\" class=\"data row15 col0\" >Elastic Net</td>\n      <td id=\"T_4b80a_row15_col1\" class=\"data row15 col1\" >26696297.3333</td>\n      <td id=\"T_4b80a_row15_col2\" class=\"data row15 col2\" >1905784698961920.0000</td>\n      <td id=\"T_4b80a_row15_col3\" class=\"data row15 col3\" >41680118.0000</td>\n      <td id=\"T_4b80a_row15_col4\" class=\"data row15 col4\" >-7.2296</td>\n      <td id=\"T_4b80a_row15_col5\" class=\"data row15 col5\" >0.2640</td>\n      <td id=\"T_4b80a_row15_col6\" class=\"data row15 col6\" >0.1788</td>\n      <td id=\"T_4b80a_row15_col7\" class=\"data row15 col7\" >0.0367</td>\n    </tr>\n    <tr>\n      <th id=\"T_4b80a_level0_row16\" class=\"row_heading level0 row16\" >lasso</th>\n      <td id=\"T_4b80a_row16_col0\" class=\"data row16 col0\" >Lasso Regression</td>\n      <td id=\"T_4b80a_row16_col1\" class=\"data row16 col1\" >27749176.6667</td>\n      <td id=\"T_4b80a_row16_col2\" class=\"data row16 col2\" >1243099520390485.2500</td>\n      <td id=\"T_4b80a_row16_col3\" class=\"data row16 col3\" >34937384.6667</td>\n      <td id=\"T_4b80a_row16_col4\" class=\"data row16 col4\" >-9.5920</td>\n      <td id=\"T_4b80a_row16_col5\" class=\"data row16 col5\" >0.2389</td>\n      <td id=\"T_4b80a_row16_col6\" class=\"data row16 col6\" >0.1796</td>\n      <td id=\"T_4b80a_row16_col7\" class=\"data row16 col7\" >0.9767</td>\n    </tr>\n    <tr>\n      <th id=\"T_4b80a_level0_row17\" class=\"row_heading level0 row17\" >ridge</th>\n      <td id=\"T_4b80a_row17_col0\" class=\"data row17 col0\" >Ridge Regression</td>\n      <td id=\"T_4b80a_row17_col1\" class=\"data row17 col1\" >53870503.6667</td>\n      <td id=\"T_4b80a_row17_col2\" class=\"data row17 col2\" >22084193325765972.0000</td>\n      <td id=\"T_4b80a_row17_col3\" class=\"data row17 col3\" >100114246.6667</td>\n      <td id=\"T_4b80a_row17_col4\" class=\"data row17 col4\" >-19.8412</td>\n      <td id=\"T_4b80a_row17_col5\" class=\"data row17 col5\" >0.2825</td>\n      <td id=\"T_4b80a_row17_col6\" class=\"data row17 col6\" >0.3836</td>\n      <td id=\"T_4b80a_row17_col7\" class=\"data row17 col7\" >0.9500</td>\n    </tr>\n  </tbody>\n</table>\n"
     },
     "metadata": {},
     "output_type": "display_data"
    },
    {
     "name": "stdout",
     "output_type": "stream",
     "text": [
      "<class 'xgboost.sklearn.XGBRegressor'>\n"
     ]
    }
   ],
   "source": [
    "# run auto ml and get the most important features\n",
    "best = models.run_auto_ml(train_df, test_df, target_col, feature_cols, False, ml_criteria)"
   ],
   "metadata": {
    "collapsed": false,
    "pycharm": {
     "name": "#%%\n"
    }
   }
  },
  {
   "cell_type": "code",
   "execution_count": 23,
   "outputs": [],
   "source": [
    " # ml_features or corr_features\n",
    "if feature_selection == 'ml_features':\n",
    "    ml_features = models.get_important_features('xgboost', features_threshold)\n",
    "    feature_cols = ml_features['Feature'].tolist()\n",
    "elif feature_selection == 'corr_features':\n",
    "    corr_df = corr_df.rename_axis('Feature').reset_index()\n",
    "    feature_cols = corr_df['Feature'].tolist()\n",
    "    #feature_cols.remove(target_col)\n",
    "else:\n",
    "    print(\"No feature selection. This could take a while!\")"
   ],
   "metadata": {
    "collapsed": false,
    "pycharm": {
     "name": "#%%\n"
    }
   }
  },
  {
   "cell_type": "code",
   "execution_count": 24,
   "outputs": [
    {
     "data": {
      "application/vnd.plotly.v1+json": {
       "data": [
        {
         "alignmentgroup": "True",
         "hovertemplate": "Variable Importance=%{x}<br>Feature=%{y}<extra></extra>",
         "legendgroup": "",
         "marker": {
          "color": "#636efa",
          "pattern": {
           "shape": ""
          }
         },
         "name": "",
         "offsetgroup": "",
         "orientation": "h",
         "showlegend": false,
         "textposition": "auto",
         "x": [
          1.7648557490176E14,
          1.85792114720768E14,
          2.06627202400256E14,
          2.07637190803456E14,
          2.17911608213504E14,
          2.26450003197952E14,
          4.52065708998656E14,
          5.18829901873152E14,
          1.744148369506304E15,
          2.832512678100992E15
         ],
         "xaxis": "x",
         "y": [
          "REPORTS 100/1501 SP Direct GB/SurePayroll Revenue Share",
          "PR PRODUCT/1502 SP ETAP/Net Client Gain - RW",
          "HOUST",
          "Total Advantage Blended Products Revenue/ADVANTAGE/PACE/Net Client Gain - RW",
          "MHHNGSP",
          "Total Flex Blended Products Revenue/0922 DSC Central/Net Client Gain - RW",
          "Total Preview Blended Products Revenue/0456 TWIN CITIES MMS/Net Client Gain - RW",
          "Product NA/6000 CORP OFFICE/# of Weeks - RW",
          "PR PRODUCT/1506 SP BOP PARTNER/Losses - RW",
          "Total Flex Blended Products Revenue/Phoenix RSC/Sales - RW"
         ],
         "yaxis": "y",
         "type": "bar"
        }
       ],
       "layout": {
        "template": {
         "data": {
          "histogram2dcontour": [
           {
            "type": "histogram2dcontour",
            "colorbar": {
             "outlinewidth": 0,
             "ticks": ""
            },
            "colorscale": [
             [
              0.0,
              "#0d0887"
             ],
             [
              0.1111111111111111,
              "#46039f"
             ],
             [
              0.2222222222222222,
              "#7201a8"
             ],
             [
              0.3333333333333333,
              "#9c179e"
             ],
             [
              0.4444444444444444,
              "#bd3786"
             ],
             [
              0.5555555555555556,
              "#d8576b"
             ],
             [
              0.6666666666666666,
              "#ed7953"
             ],
             [
              0.7777777777777778,
              "#fb9f3a"
             ],
             [
              0.8888888888888888,
              "#fdca26"
             ],
             [
              1.0,
              "#f0f921"
             ]
            ]
           }
          ],
          "choropleth": [
           {
            "type": "choropleth",
            "colorbar": {
             "outlinewidth": 0,
             "ticks": ""
            }
           }
          ],
          "histogram2d": [
           {
            "type": "histogram2d",
            "colorbar": {
             "outlinewidth": 0,
             "ticks": ""
            },
            "colorscale": [
             [
              0.0,
              "#0d0887"
             ],
             [
              0.1111111111111111,
              "#46039f"
             ],
             [
              0.2222222222222222,
              "#7201a8"
             ],
             [
              0.3333333333333333,
              "#9c179e"
             ],
             [
              0.4444444444444444,
              "#bd3786"
             ],
             [
              0.5555555555555556,
              "#d8576b"
             ],
             [
              0.6666666666666666,
              "#ed7953"
             ],
             [
              0.7777777777777778,
              "#fb9f3a"
             ],
             [
              0.8888888888888888,
              "#fdca26"
             ],
             [
              1.0,
              "#f0f921"
             ]
            ]
           }
          ],
          "heatmap": [
           {
            "type": "heatmap",
            "colorbar": {
             "outlinewidth": 0,
             "ticks": ""
            },
            "colorscale": [
             [
              0.0,
              "#0d0887"
             ],
             [
              0.1111111111111111,
              "#46039f"
             ],
             [
              0.2222222222222222,
              "#7201a8"
             ],
             [
              0.3333333333333333,
              "#9c179e"
             ],
             [
              0.4444444444444444,
              "#bd3786"
             ],
             [
              0.5555555555555556,
              "#d8576b"
             ],
             [
              0.6666666666666666,
              "#ed7953"
             ],
             [
              0.7777777777777778,
              "#fb9f3a"
             ],
             [
              0.8888888888888888,
              "#fdca26"
             ],
             [
              1.0,
              "#f0f921"
             ]
            ]
           }
          ],
          "heatmapgl": [
           {
            "type": "heatmapgl",
            "colorbar": {
             "outlinewidth": 0,
             "ticks": ""
            },
            "colorscale": [
             [
              0.0,
              "#0d0887"
             ],
             [
              0.1111111111111111,
              "#46039f"
             ],
             [
              0.2222222222222222,
              "#7201a8"
             ],
             [
              0.3333333333333333,
              "#9c179e"
             ],
             [
              0.4444444444444444,
              "#bd3786"
             ],
             [
              0.5555555555555556,
              "#d8576b"
             ],
             [
              0.6666666666666666,
              "#ed7953"
             ],
             [
              0.7777777777777778,
              "#fb9f3a"
             ],
             [
              0.8888888888888888,
              "#fdca26"
             ],
             [
              1.0,
              "#f0f921"
             ]
            ]
           }
          ],
          "contourcarpet": [
           {
            "type": "contourcarpet",
            "colorbar": {
             "outlinewidth": 0,
             "ticks": ""
            }
           }
          ],
          "contour": [
           {
            "type": "contour",
            "colorbar": {
             "outlinewidth": 0,
             "ticks": ""
            },
            "colorscale": [
             [
              0.0,
              "#0d0887"
             ],
             [
              0.1111111111111111,
              "#46039f"
             ],
             [
              0.2222222222222222,
              "#7201a8"
             ],
             [
              0.3333333333333333,
              "#9c179e"
             ],
             [
              0.4444444444444444,
              "#bd3786"
             ],
             [
              0.5555555555555556,
              "#d8576b"
             ],
             [
              0.6666666666666666,
              "#ed7953"
             ],
             [
              0.7777777777777778,
              "#fb9f3a"
             ],
             [
              0.8888888888888888,
              "#fdca26"
             ],
             [
              1.0,
              "#f0f921"
             ]
            ]
           }
          ],
          "surface": [
           {
            "type": "surface",
            "colorbar": {
             "outlinewidth": 0,
             "ticks": ""
            },
            "colorscale": [
             [
              0.0,
              "#0d0887"
             ],
             [
              0.1111111111111111,
              "#46039f"
             ],
             [
              0.2222222222222222,
              "#7201a8"
             ],
             [
              0.3333333333333333,
              "#9c179e"
             ],
             [
              0.4444444444444444,
              "#bd3786"
             ],
             [
              0.5555555555555556,
              "#d8576b"
             ],
             [
              0.6666666666666666,
              "#ed7953"
             ],
             [
              0.7777777777777778,
              "#fb9f3a"
             ],
             [
              0.8888888888888888,
              "#fdca26"
             ],
             [
              1.0,
              "#f0f921"
             ]
            ]
           }
          ],
          "mesh3d": [
           {
            "type": "mesh3d",
            "colorbar": {
             "outlinewidth": 0,
             "ticks": ""
            }
           }
          ],
          "scatter": [
           {
            "fillpattern": {
             "fillmode": "overlay",
             "size": 10,
             "solidity": 0.2
            },
            "type": "scatter"
           }
          ],
          "parcoords": [
           {
            "type": "parcoords",
            "line": {
             "colorbar": {
              "outlinewidth": 0,
              "ticks": ""
             }
            }
           }
          ],
          "scatterpolargl": [
           {
            "type": "scatterpolargl",
            "marker": {
             "colorbar": {
              "outlinewidth": 0,
              "ticks": ""
             }
            }
           }
          ],
          "bar": [
           {
            "error_x": {
             "color": "#2a3f5f"
            },
            "error_y": {
             "color": "#2a3f5f"
            },
            "marker": {
             "line": {
              "color": "#E5ECF6",
              "width": 0.5
             },
             "pattern": {
              "fillmode": "overlay",
              "size": 10,
              "solidity": 0.2
             }
            },
            "type": "bar"
           }
          ],
          "scattergeo": [
           {
            "type": "scattergeo",
            "marker": {
             "colorbar": {
              "outlinewidth": 0,
              "ticks": ""
             }
            }
           }
          ],
          "scatterpolar": [
           {
            "type": "scatterpolar",
            "marker": {
             "colorbar": {
              "outlinewidth": 0,
              "ticks": ""
             }
            }
           }
          ],
          "histogram": [
           {
            "marker": {
             "pattern": {
              "fillmode": "overlay",
              "size": 10,
              "solidity": 0.2
             }
            },
            "type": "histogram"
           }
          ],
          "scattergl": [
           {
            "type": "scattergl",
            "marker": {
             "colorbar": {
              "outlinewidth": 0,
              "ticks": ""
             }
            }
           }
          ],
          "scatter3d": [
           {
            "type": "scatter3d",
            "line": {
             "colorbar": {
              "outlinewidth": 0,
              "ticks": ""
             }
            },
            "marker": {
             "colorbar": {
              "outlinewidth": 0,
              "ticks": ""
             }
            }
           }
          ],
          "scattermapbox": [
           {
            "type": "scattermapbox",
            "marker": {
             "colorbar": {
              "outlinewidth": 0,
              "ticks": ""
             }
            }
           }
          ],
          "scatterternary": [
           {
            "type": "scatterternary",
            "marker": {
             "colorbar": {
              "outlinewidth": 0,
              "ticks": ""
             }
            }
           }
          ],
          "scattercarpet": [
           {
            "type": "scattercarpet",
            "marker": {
             "colorbar": {
              "outlinewidth": 0,
              "ticks": ""
             }
            }
           }
          ],
          "carpet": [
           {
            "aaxis": {
             "endlinecolor": "#2a3f5f",
             "gridcolor": "white",
             "linecolor": "white",
             "minorgridcolor": "white",
             "startlinecolor": "#2a3f5f"
            },
            "baxis": {
             "endlinecolor": "#2a3f5f",
             "gridcolor": "white",
             "linecolor": "white",
             "minorgridcolor": "white",
             "startlinecolor": "#2a3f5f"
            },
            "type": "carpet"
           }
          ],
          "table": [
           {
            "cells": {
             "fill": {
              "color": "#EBF0F8"
             },
             "line": {
              "color": "white"
             }
            },
            "header": {
             "fill": {
              "color": "#C8D4E3"
             },
             "line": {
              "color": "white"
             }
            },
            "type": "table"
           }
          ],
          "barpolar": [
           {
            "marker": {
             "line": {
              "color": "#E5ECF6",
              "width": 0.5
             },
             "pattern": {
              "fillmode": "overlay",
              "size": 10,
              "solidity": 0.2
             }
            },
            "type": "barpolar"
           }
          ],
          "pie": [
           {
            "automargin": true,
            "type": "pie"
           }
          ]
         },
         "layout": {
          "autotypenumbers": "strict",
          "colorway": [
           "#636efa",
           "#EF553B",
           "#00cc96",
           "#ab63fa",
           "#FFA15A",
           "#19d3f3",
           "#FF6692",
           "#B6E880",
           "#FF97FF",
           "#FECB52"
          ],
          "font": {
           "color": "#2a3f5f"
          },
          "hovermode": "closest",
          "hoverlabel": {
           "align": "left"
          },
          "paper_bgcolor": "white",
          "plot_bgcolor": "#E5ECF6",
          "polar": {
           "bgcolor": "#E5ECF6",
           "angularaxis": {
            "gridcolor": "white",
            "linecolor": "white",
            "ticks": ""
           },
           "radialaxis": {
            "gridcolor": "white",
            "linecolor": "white",
            "ticks": ""
           }
          },
          "ternary": {
           "bgcolor": "#E5ECF6",
           "aaxis": {
            "gridcolor": "white",
            "linecolor": "white",
            "ticks": ""
           },
           "baxis": {
            "gridcolor": "white",
            "linecolor": "white",
            "ticks": ""
           },
           "caxis": {
            "gridcolor": "white",
            "linecolor": "white",
            "ticks": ""
           }
          },
          "coloraxis": {
           "colorbar": {
            "outlinewidth": 0,
            "ticks": ""
           }
          },
          "colorscale": {
           "sequential": [
            [
             0.0,
             "#0d0887"
            ],
            [
             0.1111111111111111,
             "#46039f"
            ],
            [
             0.2222222222222222,
             "#7201a8"
            ],
            [
             0.3333333333333333,
             "#9c179e"
            ],
            [
             0.4444444444444444,
             "#bd3786"
            ],
            [
             0.5555555555555556,
             "#d8576b"
            ],
            [
             0.6666666666666666,
             "#ed7953"
            ],
            [
             0.7777777777777778,
             "#fb9f3a"
            ],
            [
             0.8888888888888888,
             "#fdca26"
            ],
            [
             1.0,
             "#f0f921"
            ]
           ],
           "sequentialminus": [
            [
             0.0,
             "#0d0887"
            ],
            [
             0.1111111111111111,
             "#46039f"
            ],
            [
             0.2222222222222222,
             "#7201a8"
            ],
            [
             0.3333333333333333,
             "#9c179e"
            ],
            [
             0.4444444444444444,
             "#bd3786"
            ],
            [
             0.5555555555555556,
             "#d8576b"
            ],
            [
             0.6666666666666666,
             "#ed7953"
            ],
            [
             0.7777777777777778,
             "#fb9f3a"
            ],
            [
             0.8888888888888888,
             "#fdca26"
            ],
            [
             1.0,
             "#f0f921"
            ]
           ],
           "diverging": [
            [
             0,
             "#8e0152"
            ],
            [
             0.1,
             "#c51b7d"
            ],
            [
             0.2,
             "#de77ae"
            ],
            [
             0.3,
             "#f1b6da"
            ],
            [
             0.4,
             "#fde0ef"
            ],
            [
             0.5,
             "#f7f7f7"
            ],
            [
             0.6,
             "#e6f5d0"
            ],
            [
             0.7,
             "#b8e186"
            ],
            [
             0.8,
             "#7fbc41"
            ],
            [
             0.9,
             "#4d9221"
            ],
            [
             1,
             "#276419"
            ]
           ]
          },
          "xaxis": {
           "gridcolor": "white",
           "linecolor": "white",
           "ticks": "",
           "title": {
            "standoff": 15
           },
           "zerolinecolor": "white",
           "automargin": true,
           "zerolinewidth": 2
          },
          "yaxis": {
           "gridcolor": "white",
           "linecolor": "white",
           "ticks": "",
           "title": {
            "standoff": 15
           },
           "zerolinecolor": "white",
           "automargin": true,
           "zerolinewidth": 2
          },
          "scene": {
           "xaxis": {
            "backgroundcolor": "#E5ECF6",
            "gridcolor": "white",
            "linecolor": "white",
            "showbackground": true,
            "ticks": "",
            "zerolinecolor": "white",
            "gridwidth": 2
           },
           "yaxis": {
            "backgroundcolor": "#E5ECF6",
            "gridcolor": "white",
            "linecolor": "white",
            "showbackground": true,
            "ticks": "",
            "zerolinecolor": "white",
            "gridwidth": 2
           },
           "zaxis": {
            "backgroundcolor": "#E5ECF6",
            "gridcolor": "white",
            "linecolor": "white",
            "showbackground": true,
            "ticks": "",
            "zerolinecolor": "white",
            "gridwidth": 2
           }
          },
          "shapedefaults": {
           "line": {
            "color": "#2a3f5f"
           }
          },
          "annotationdefaults": {
           "arrowcolor": "#2a3f5f",
           "arrowhead": 0,
           "arrowwidth": 1
          },
          "geo": {
           "bgcolor": "white",
           "landcolor": "#E5ECF6",
           "subunitcolor": "white",
           "showland": true,
           "showlakes": true,
           "lakecolor": "white"
          },
          "title": {
           "x": 0.05
          },
          "mapbox": {
           "style": "light"
          }
         }
        },
        "xaxis": {
         "anchor": "y",
         "domain": [
          0.0,
          1.0
         ],
         "title": {
          "text": "Variable Importance"
         }
        },
        "yaxis": {
         "anchor": "x",
         "domain": [
          0.0,
          1.0
         ],
         "title": {
          "text": "Feature"
         }
        },
        "legend": {
         "tracegroupgap": 0
        },
        "title": {
         "text": "Feature Importance Plot"
        },
        "barmode": "relative"
       },
       "config": {
        "plotlyServerURL": "https://plot.ly"
       }
      },
      "text/html": "<div>                            <div id=\"5052fbfb-1975-44dd-88a6-822be29fb9cf\" class=\"plotly-graph-div\" style=\"height:525px; width:100%;\"></div>            <script type=\"text/javascript\">                require([\"plotly\"], function(Plotly) {                    window.PLOTLYENV=window.PLOTLYENV || {};                                    if (document.getElementById(\"5052fbfb-1975-44dd-88a6-822be29fb9cf\")) {                    Plotly.newPlot(                        \"5052fbfb-1975-44dd-88a6-822be29fb9cf\",                        [{\"alignmentgroup\":\"True\",\"hovertemplate\":\"Variable Importance=%{x}<br>Feature=%{y}<extra></extra>\",\"legendgroup\":\"\",\"marker\":{\"color\":\"#636efa\",\"pattern\":{\"shape\":\"\"}},\"name\":\"\",\"offsetgroup\":\"\",\"orientation\":\"h\",\"showlegend\":false,\"textposition\":\"auto\",\"x\":[176485574901760.0,185792114720768.0,206627202400256.0,207637190803456.0,217911608213504.0,226450003197952.0,452065708998656.0,518829901873152.0,1744148369506304.0,2832512678100992.0],\"xaxis\":\"x\",\"y\":[\"REPORTS 100/1501 SP Direct GB/SurePayroll Revenue Share\",\"PR PRODUCT/1502 SP ETAP/Net Client Gain - RW\",\"HOUST\",\"Total Advantage Blended Products Revenue/ADVANTAGE/PACE/Net Client Gain - RW\",\"MHHNGSP\",\"Total Flex Blended Products Revenue/0922 DSC Central/Net Client Gain - RW\",\"Total Preview Blended Products Revenue/0456 TWIN CITIES MMS/Net Client Gain - RW\",\"Product NA/6000 CORP OFFICE/# of Weeks - RW\",\"PR PRODUCT/1506 SP BOP PARTNER/Losses - RW\",\"Total Flex Blended Products Revenue/Phoenix RSC/Sales - RW\"],\"yaxis\":\"y\",\"type\":\"bar\"}],                        {\"template\":{\"data\":{\"histogram2dcontour\":[{\"type\":\"histogram2dcontour\",\"colorbar\":{\"outlinewidth\":0,\"ticks\":\"\"},\"colorscale\":[[0.0,\"#0d0887\"],[0.1111111111111111,\"#46039f\"],[0.2222222222222222,\"#7201a8\"],[0.3333333333333333,\"#9c179e\"],[0.4444444444444444,\"#bd3786\"],[0.5555555555555556,\"#d8576b\"],[0.6666666666666666,\"#ed7953\"],[0.7777777777777778,\"#fb9f3a\"],[0.8888888888888888,\"#fdca26\"],[1.0,\"#f0f921\"]]}],\"choropleth\":[{\"type\":\"choropleth\",\"colorbar\":{\"outlinewidth\":0,\"ticks\":\"\"}}],\"histogram2d\":[{\"type\":\"histogram2d\",\"colorbar\":{\"outlinewidth\":0,\"ticks\":\"\"},\"colorscale\":[[0.0,\"#0d0887\"],[0.1111111111111111,\"#46039f\"],[0.2222222222222222,\"#7201a8\"],[0.3333333333333333,\"#9c179e\"],[0.4444444444444444,\"#bd3786\"],[0.5555555555555556,\"#d8576b\"],[0.6666666666666666,\"#ed7953\"],[0.7777777777777778,\"#fb9f3a\"],[0.8888888888888888,\"#fdca26\"],[1.0,\"#f0f921\"]]}],\"heatmap\":[{\"type\":\"heatmap\",\"colorbar\":{\"outlinewidth\":0,\"ticks\":\"\"},\"colorscale\":[[0.0,\"#0d0887\"],[0.1111111111111111,\"#46039f\"],[0.2222222222222222,\"#7201a8\"],[0.3333333333333333,\"#9c179e\"],[0.4444444444444444,\"#bd3786\"],[0.5555555555555556,\"#d8576b\"],[0.6666666666666666,\"#ed7953\"],[0.7777777777777778,\"#fb9f3a\"],[0.8888888888888888,\"#fdca26\"],[1.0,\"#f0f921\"]]}],\"heatmapgl\":[{\"type\":\"heatmapgl\",\"colorbar\":{\"outlinewidth\":0,\"ticks\":\"\"},\"colorscale\":[[0.0,\"#0d0887\"],[0.1111111111111111,\"#46039f\"],[0.2222222222222222,\"#7201a8\"],[0.3333333333333333,\"#9c179e\"],[0.4444444444444444,\"#bd3786\"],[0.5555555555555556,\"#d8576b\"],[0.6666666666666666,\"#ed7953\"],[0.7777777777777778,\"#fb9f3a\"],[0.8888888888888888,\"#fdca26\"],[1.0,\"#f0f921\"]]}],\"contourcarpet\":[{\"type\":\"contourcarpet\",\"colorbar\":{\"outlinewidth\":0,\"ticks\":\"\"}}],\"contour\":[{\"type\":\"contour\",\"colorbar\":{\"outlinewidth\":0,\"ticks\":\"\"},\"colorscale\":[[0.0,\"#0d0887\"],[0.1111111111111111,\"#46039f\"],[0.2222222222222222,\"#7201a8\"],[0.3333333333333333,\"#9c179e\"],[0.4444444444444444,\"#bd3786\"],[0.5555555555555556,\"#d8576b\"],[0.6666666666666666,\"#ed7953\"],[0.7777777777777778,\"#fb9f3a\"],[0.8888888888888888,\"#fdca26\"],[1.0,\"#f0f921\"]]}],\"surface\":[{\"type\":\"surface\",\"colorbar\":{\"outlinewidth\":0,\"ticks\":\"\"},\"colorscale\":[[0.0,\"#0d0887\"],[0.1111111111111111,\"#46039f\"],[0.2222222222222222,\"#7201a8\"],[0.3333333333333333,\"#9c179e\"],[0.4444444444444444,\"#bd3786\"],[0.5555555555555556,\"#d8576b\"],[0.6666666666666666,\"#ed7953\"],[0.7777777777777778,\"#fb9f3a\"],[0.8888888888888888,\"#fdca26\"],[1.0,\"#f0f921\"]]}],\"mesh3d\":[{\"type\":\"mesh3d\",\"colorbar\":{\"outlinewidth\":0,\"ticks\":\"\"}}],\"scatter\":[{\"fillpattern\":{\"fillmode\":\"overlay\",\"size\":10,\"solidity\":0.2},\"type\":\"scatter\"}],\"parcoords\":[{\"type\":\"parcoords\",\"line\":{\"colorbar\":{\"outlinewidth\":0,\"ticks\":\"\"}}}],\"scatterpolargl\":[{\"type\":\"scatterpolargl\",\"marker\":{\"colorbar\":{\"outlinewidth\":0,\"ticks\":\"\"}}}],\"bar\":[{\"error_x\":{\"color\":\"#2a3f5f\"},\"error_y\":{\"color\":\"#2a3f5f\"},\"marker\":{\"line\":{\"color\":\"#E5ECF6\",\"width\":0.5},\"pattern\":{\"fillmode\":\"overlay\",\"size\":10,\"solidity\":0.2}},\"type\":\"bar\"}],\"scattergeo\":[{\"type\":\"scattergeo\",\"marker\":{\"colorbar\":{\"outlinewidth\":0,\"ticks\":\"\"}}}],\"scatterpolar\":[{\"type\":\"scatterpolar\",\"marker\":{\"colorbar\":{\"outlinewidth\":0,\"ticks\":\"\"}}}],\"histogram\":[{\"marker\":{\"pattern\":{\"fillmode\":\"overlay\",\"size\":10,\"solidity\":0.2}},\"type\":\"histogram\"}],\"scattergl\":[{\"type\":\"scattergl\",\"marker\":{\"colorbar\":{\"outlinewidth\":0,\"ticks\":\"\"}}}],\"scatter3d\":[{\"type\":\"scatter3d\",\"line\":{\"colorbar\":{\"outlinewidth\":0,\"ticks\":\"\"}},\"marker\":{\"colorbar\":{\"outlinewidth\":0,\"ticks\":\"\"}}}],\"scattermapbox\":[{\"type\":\"scattermapbox\",\"marker\":{\"colorbar\":{\"outlinewidth\":0,\"ticks\":\"\"}}}],\"scatterternary\":[{\"type\":\"scatterternary\",\"marker\":{\"colorbar\":{\"outlinewidth\":0,\"ticks\":\"\"}}}],\"scattercarpet\":[{\"type\":\"scattercarpet\",\"marker\":{\"colorbar\":{\"outlinewidth\":0,\"ticks\":\"\"}}}],\"carpet\":[{\"aaxis\":{\"endlinecolor\":\"#2a3f5f\",\"gridcolor\":\"white\",\"linecolor\":\"white\",\"minorgridcolor\":\"white\",\"startlinecolor\":\"#2a3f5f\"},\"baxis\":{\"endlinecolor\":\"#2a3f5f\",\"gridcolor\":\"white\",\"linecolor\":\"white\",\"minorgridcolor\":\"white\",\"startlinecolor\":\"#2a3f5f\"},\"type\":\"carpet\"}],\"table\":[{\"cells\":{\"fill\":{\"color\":\"#EBF0F8\"},\"line\":{\"color\":\"white\"}},\"header\":{\"fill\":{\"color\":\"#C8D4E3\"},\"line\":{\"color\":\"white\"}},\"type\":\"table\"}],\"barpolar\":[{\"marker\":{\"line\":{\"color\":\"#E5ECF6\",\"width\":0.5},\"pattern\":{\"fillmode\":\"overlay\",\"size\":10,\"solidity\":0.2}},\"type\":\"barpolar\"}],\"pie\":[{\"automargin\":true,\"type\":\"pie\"}]},\"layout\":{\"autotypenumbers\":\"strict\",\"colorway\":[\"#636efa\",\"#EF553B\",\"#00cc96\",\"#ab63fa\",\"#FFA15A\",\"#19d3f3\",\"#FF6692\",\"#B6E880\",\"#FF97FF\",\"#FECB52\"],\"font\":{\"color\":\"#2a3f5f\"},\"hovermode\":\"closest\",\"hoverlabel\":{\"align\":\"left\"},\"paper_bgcolor\":\"white\",\"plot_bgcolor\":\"#E5ECF6\",\"polar\":{\"bgcolor\":\"#E5ECF6\",\"angularaxis\":{\"gridcolor\":\"white\",\"linecolor\":\"white\",\"ticks\":\"\"},\"radialaxis\":{\"gridcolor\":\"white\",\"linecolor\":\"white\",\"ticks\":\"\"}},\"ternary\":{\"bgcolor\":\"#E5ECF6\",\"aaxis\":{\"gridcolor\":\"white\",\"linecolor\":\"white\",\"ticks\":\"\"},\"baxis\":{\"gridcolor\":\"white\",\"linecolor\":\"white\",\"ticks\":\"\"},\"caxis\":{\"gridcolor\":\"white\",\"linecolor\":\"white\",\"ticks\":\"\"}},\"coloraxis\":{\"colorbar\":{\"outlinewidth\":0,\"ticks\":\"\"}},\"colorscale\":{\"sequential\":[[0.0,\"#0d0887\"],[0.1111111111111111,\"#46039f\"],[0.2222222222222222,\"#7201a8\"],[0.3333333333333333,\"#9c179e\"],[0.4444444444444444,\"#bd3786\"],[0.5555555555555556,\"#d8576b\"],[0.6666666666666666,\"#ed7953\"],[0.7777777777777778,\"#fb9f3a\"],[0.8888888888888888,\"#fdca26\"],[1.0,\"#f0f921\"]],\"sequentialminus\":[[0.0,\"#0d0887\"],[0.1111111111111111,\"#46039f\"],[0.2222222222222222,\"#7201a8\"],[0.3333333333333333,\"#9c179e\"],[0.4444444444444444,\"#bd3786\"],[0.5555555555555556,\"#d8576b\"],[0.6666666666666666,\"#ed7953\"],[0.7777777777777778,\"#fb9f3a\"],[0.8888888888888888,\"#fdca26\"],[1.0,\"#f0f921\"]],\"diverging\":[[0,\"#8e0152\"],[0.1,\"#c51b7d\"],[0.2,\"#de77ae\"],[0.3,\"#f1b6da\"],[0.4,\"#fde0ef\"],[0.5,\"#f7f7f7\"],[0.6,\"#e6f5d0\"],[0.7,\"#b8e186\"],[0.8,\"#7fbc41\"],[0.9,\"#4d9221\"],[1,\"#276419\"]]},\"xaxis\":{\"gridcolor\":\"white\",\"linecolor\":\"white\",\"ticks\":\"\",\"title\":{\"standoff\":15},\"zerolinecolor\":\"white\",\"automargin\":true,\"zerolinewidth\":2},\"yaxis\":{\"gridcolor\":\"white\",\"linecolor\":\"white\",\"ticks\":\"\",\"title\":{\"standoff\":15},\"zerolinecolor\":\"white\",\"automargin\":true,\"zerolinewidth\":2},\"scene\":{\"xaxis\":{\"backgroundcolor\":\"#E5ECF6\",\"gridcolor\":\"white\",\"linecolor\":\"white\",\"showbackground\":true,\"ticks\":\"\",\"zerolinecolor\":\"white\",\"gridwidth\":2},\"yaxis\":{\"backgroundcolor\":\"#E5ECF6\",\"gridcolor\":\"white\",\"linecolor\":\"white\",\"showbackground\":true,\"ticks\":\"\",\"zerolinecolor\":\"white\",\"gridwidth\":2},\"zaxis\":{\"backgroundcolor\":\"#E5ECF6\",\"gridcolor\":\"white\",\"linecolor\":\"white\",\"showbackground\":true,\"ticks\":\"\",\"zerolinecolor\":\"white\",\"gridwidth\":2}},\"shapedefaults\":{\"line\":{\"color\":\"#2a3f5f\"}},\"annotationdefaults\":{\"arrowcolor\":\"#2a3f5f\",\"arrowhead\":0,\"arrowwidth\":1},\"geo\":{\"bgcolor\":\"white\",\"landcolor\":\"#E5ECF6\",\"subunitcolor\":\"white\",\"showland\":true,\"showlakes\":true,\"lakecolor\":\"white\"},\"title\":{\"x\":0.05},\"mapbox\":{\"style\":\"light\"}}},\"xaxis\":{\"anchor\":\"y\",\"domain\":[0.0,1.0],\"title\":{\"text\":\"Variable Importance\"}},\"yaxis\":{\"anchor\":\"x\",\"domain\":[0.0,1.0],\"title\":{\"text\":\"Feature\"}},\"legend\":{\"tracegroupgap\":0},\"title\":{\"text\":\"Feature Importance Plot\"},\"barmode\":\"relative\"},                        {\"responsive\": true}                    ).then(function(){\n                            \nvar gd = document.getElementById('5052fbfb-1975-44dd-88a6-822be29fb9cf');\nvar x = new MutationObserver(function (mutations, observer) {{\n        var display = window.getComputedStyle(gd).display;\n        if (!display || display === 'none') {{\n            console.log([gd, 'removed!']);\n            Plotly.purge(gd);\n            observer.disconnect();\n        }}\n}});\n\n// Listen for the removal of the full notebook cells\nvar notebookContainer = gd.closest('#notebook-container');\nif (notebookContainer) {{\n    x.observe(notebookContainer, {childList: true});\n}}\n\n// Listen for the clearing of the current output cell\nvar outputEl = gd.closest('.output');\nif (outputEl) {{\n    x.observe(outputEl, {childList: true});\n}}\n\n                        })                };                });            </script>        </div>"
     },
     "metadata": {},
     "output_type": "display_data"
    }
   ],
   "source": [
    "# ml_features = models.get_important_features('xgboost', features_threshold)\n",
    "# ml_feature_cols = ml_features['Feature'].tolist()\n",
    "\n",
    "if len(ml_features.index) != 0:\n",
    "    # plot the most important features\n",
    "    fig = px.bar(ml_features.sort_values('Variable Importance', ascending=True),\n",
    "                 x='Variable Importance',\n",
    "                 y='Feature',\n",
    "                 orientation='h',\n",
    "                 title='Feature Importance Plot')\n",
    "    fig.show()"
   ],
   "metadata": {
    "collapsed": false,
    "pycharm": {
     "name": "#%%\n"
    }
   }
  },
  {
   "cell_type": "code",
   "execution_count": 26,
   "outputs": [],
   "source": [
    "with open(model_path + '/{}_features'.format(target_col), \"wb\") as fp:   #Pickling\n",
    "    pickle.dump(feature_cols, fp)"
   ],
   "metadata": {
    "collapsed": false,
    "pycharm": {
     "name": "#%%\n"
    }
   }
  },
  {
   "cell_type": "code",
   "execution_count": 27,
   "outputs": [
    {
     "data": {
      "text/plain": "<pandas.io.formats.style.Styler at 0x26e8f241e20>",
      "text/html": "<style type=\"text/css\">\n#T_ceff4 th {\n  text-align: left;\n}\n#T_ceff4_row0_col0, #T_ceff4_row0_col2, #T_ceff4_row0_col3, #T_ceff4_row0_col4, #T_ceff4_row0_col5, #T_ceff4_row1_col0, #T_ceff4_row1_col1, #T_ceff4_row1_col2, #T_ceff4_row1_col6, #T_ceff4_row2_col0, #T_ceff4_row2_col1, #T_ceff4_row2_col2, #T_ceff4_row2_col3, #T_ceff4_row2_col4, #T_ceff4_row2_col5, #T_ceff4_row2_col6, #T_ceff4_row3_col0, #T_ceff4_row3_col1, #T_ceff4_row3_col2, #T_ceff4_row3_col3, #T_ceff4_row3_col4, #T_ceff4_row3_col5, #T_ceff4_row3_col6, #T_ceff4_row4_col0, #T_ceff4_row4_col1, #T_ceff4_row4_col2, #T_ceff4_row4_col3, #T_ceff4_row4_col4, #T_ceff4_row4_col5, #T_ceff4_row4_col6, #T_ceff4_row5_col0, #T_ceff4_row5_col1, #T_ceff4_row5_col2, #T_ceff4_row5_col3, #T_ceff4_row5_col4, #T_ceff4_row5_col5, #T_ceff4_row5_col6, #T_ceff4_row6_col0, #T_ceff4_row6_col1, #T_ceff4_row6_col3, #T_ceff4_row6_col4, #T_ceff4_row6_col5, #T_ceff4_row6_col6, #T_ceff4_row7_col0, #T_ceff4_row7_col1, #T_ceff4_row7_col2, #T_ceff4_row7_col3, #T_ceff4_row7_col4, #T_ceff4_row7_col5, #T_ceff4_row7_col6, #T_ceff4_row8_col0, #T_ceff4_row8_col1, #T_ceff4_row8_col2, #T_ceff4_row8_col3, #T_ceff4_row8_col4, #T_ceff4_row8_col5, #T_ceff4_row8_col6, #T_ceff4_row9_col0, #T_ceff4_row9_col1, #T_ceff4_row9_col2, #T_ceff4_row9_col3, #T_ceff4_row9_col4, #T_ceff4_row9_col5, #T_ceff4_row9_col6, #T_ceff4_row10_col0, #T_ceff4_row10_col1, #T_ceff4_row10_col2, #T_ceff4_row10_col3, #T_ceff4_row10_col4, #T_ceff4_row10_col5, #T_ceff4_row10_col6, #T_ceff4_row11_col0, #T_ceff4_row11_col1, #T_ceff4_row11_col2, #T_ceff4_row11_col3, #T_ceff4_row11_col4, #T_ceff4_row11_col5, #T_ceff4_row11_col6, #T_ceff4_row12_col0, #T_ceff4_row12_col1, #T_ceff4_row12_col2, #T_ceff4_row12_col3, #T_ceff4_row12_col4, #T_ceff4_row12_col5, #T_ceff4_row12_col6, #T_ceff4_row13_col0, #T_ceff4_row13_col1, #T_ceff4_row13_col2, #T_ceff4_row13_col3, #T_ceff4_row13_col4, #T_ceff4_row13_col5, #T_ceff4_row13_col6, #T_ceff4_row14_col0, #T_ceff4_row14_col1, #T_ceff4_row14_col2, #T_ceff4_row14_col3, #T_ceff4_row14_col4, #T_ceff4_row14_col5, #T_ceff4_row14_col6, #T_ceff4_row15_col0, #T_ceff4_row15_col1, #T_ceff4_row15_col2, #T_ceff4_row15_col3, #T_ceff4_row15_col4, #T_ceff4_row15_col5, #T_ceff4_row15_col6, #T_ceff4_row16_col0, #T_ceff4_row16_col1, #T_ceff4_row16_col2, #T_ceff4_row16_col3, #T_ceff4_row16_col4, #T_ceff4_row16_col5, #T_ceff4_row16_col6, #T_ceff4_row17_col0, #T_ceff4_row17_col1, #T_ceff4_row17_col2, #T_ceff4_row17_col3, #T_ceff4_row17_col4, #T_ceff4_row17_col5, #T_ceff4_row17_col6, #T_ceff4_row18_col0, #T_ceff4_row18_col1, #T_ceff4_row18_col2, #T_ceff4_row18_col3, #T_ceff4_row18_col4, #T_ceff4_row18_col5, #T_ceff4_row18_col6 {\n  text-align: left;\n}\n#T_ceff4_row0_col1, #T_ceff4_row0_col6, #T_ceff4_row1_col3, #T_ceff4_row1_col4, #T_ceff4_row1_col5, #T_ceff4_row6_col2 {\n  text-align: left;\n  background-color: yellow;\n}\n#T_ceff4_row0_col7, #T_ceff4_row1_col7, #T_ceff4_row2_col7, #T_ceff4_row3_col7, #T_ceff4_row4_col7, #T_ceff4_row5_col7, #T_ceff4_row7_col7, #T_ceff4_row8_col7, #T_ceff4_row9_col7, #T_ceff4_row10_col7, #T_ceff4_row11_col7, #T_ceff4_row12_col7, #T_ceff4_row13_col7, #T_ceff4_row14_col7, #T_ceff4_row15_col7, #T_ceff4_row16_col7, #T_ceff4_row17_col7, #T_ceff4_row18_col7 {\n  text-align: left;\n  background-color: lightgrey;\n}\n#T_ceff4_row6_col7 {\n  text-align: left;\n  background-color: yellow;\n  background-color: lightgrey;\n}\n</style>\n<table id=\"T_ceff4\">\n  <thead>\n    <tr>\n      <th class=\"blank level0\" >&nbsp;</th>\n      <th id=\"T_ceff4_level0_col0\" class=\"col_heading level0 col0\" >Model</th>\n      <th id=\"T_ceff4_level0_col1\" class=\"col_heading level0 col1\" >MAE</th>\n      <th id=\"T_ceff4_level0_col2\" class=\"col_heading level0 col2\" >MSE</th>\n      <th id=\"T_ceff4_level0_col3\" class=\"col_heading level0 col3\" >RMSE</th>\n      <th id=\"T_ceff4_level0_col4\" class=\"col_heading level0 col4\" >R2</th>\n      <th id=\"T_ceff4_level0_col5\" class=\"col_heading level0 col5\" >RMSLE</th>\n      <th id=\"T_ceff4_level0_col6\" class=\"col_heading level0 col6\" >MAPE</th>\n      <th id=\"T_ceff4_level0_col7\" class=\"col_heading level0 col7\" >TT (Sec)</th>\n    </tr>\n  </thead>\n  <tbody>\n    <tr>\n      <th id=\"T_ceff4_level0_row0\" class=\"row_heading level0 row0\" >llar</th>\n      <td id=\"T_ceff4_row0_col0\" class=\"data row0 col0\" >Lasso Least Angle Regression</td>\n      <td id=\"T_ceff4_row0_col1\" class=\"data row0 col1\" >10211851.5787</td>\n      <td id=\"T_ceff4_row0_col2\" class=\"data row0 col2\" >321423287720863.3125</td>\n      <td id=\"T_ceff4_row0_col3\" class=\"data row0 col3\" >15988596.3912</td>\n      <td id=\"T_ceff4_row0_col4\" class=\"data row0 col4\" >-0.0200</td>\n      <td id=\"T_ceff4_row0_col5\" class=\"data row0 col5\" >0.0943</td>\n      <td id=\"T_ceff4_row0_col6\" class=\"data row0 col6\" >0.0611</td>\n      <td id=\"T_ceff4_row0_col7\" class=\"data row0 col7\" >0.0100</td>\n    </tr>\n    <tr>\n      <th id=\"T_ceff4_level0_row1\" class=\"row_heading level0 row1\" >gbr</th>\n      <td id=\"T_ceff4_row1_col0\" class=\"data row1 col0\" >Gradient Boosting Regressor</td>\n      <td id=\"T_ceff4_row1_col1\" class=\"data row1 col1\" >10377468.5812</td>\n      <td id=\"T_ceff4_row1_col2\" class=\"data row1 col2\" >339663536594273.9375</td>\n      <td id=\"T_ceff4_row1_col3\" class=\"data row1 col3\" >15284868.7201</td>\n      <td id=\"T_ceff4_row1_col4\" class=\"data row1 col4\" >0.3291</td>\n      <td id=\"T_ceff4_row1_col5\" class=\"data row1 col5\" >0.0883</td>\n      <td id=\"T_ceff4_row1_col6\" class=\"data row1 col6\" >0.0622</td>\n      <td id=\"T_ceff4_row1_col7\" class=\"data row1 col7\" >0.0200</td>\n    </tr>\n    <tr>\n      <th id=\"T_ceff4_level0_row2\" class=\"row_heading level0 row2\" >rf</th>\n      <td id=\"T_ceff4_row2_col0\" class=\"data row2 col0\" >Random Forest Regressor</td>\n      <td id=\"T_ceff4_row2_col1\" class=\"data row2 col1\" >10428431.9467</td>\n      <td id=\"T_ceff4_row2_col2\" class=\"data row2 col2\" >353256413179667.5000</td>\n      <td id=\"T_ceff4_row2_col3\" class=\"data row2 col3\" >15483397.4658</td>\n      <td id=\"T_ceff4_row2_col4\" class=\"data row2 col4\" >0.3216</td>\n      <td id=\"T_ceff4_row2_col5\" class=\"data row2 col5\" >0.0900</td>\n      <td id=\"T_ceff4_row2_col6\" class=\"data row2 col6\" >0.0626</td>\n      <td id=\"T_ceff4_row2_col7\" class=\"data row2 col7\" >0.0867</td>\n    </tr>\n    <tr>\n      <th id=\"T_ceff4_level0_row3\" class=\"row_heading level0 row3\" >xgboost</th>\n      <td id=\"T_ceff4_row3_col0\" class=\"data row3 col0\" >Extreme Gradient Boosting</td>\n      <td id=\"T_ceff4_row3_col1\" class=\"data row3 col1\" >10629665.0000</td>\n      <td id=\"T_ceff4_row3_col2\" class=\"data row3 col2\" >331207756393130.6875</td>\n      <td id=\"T_ceff4_row3_col3\" class=\"data row3 col3\" >15925111.3333</td>\n      <td id=\"T_ceff4_row3_col4\" class=\"data row3 col4\" >0.1452</td>\n      <td id=\"T_ceff4_row3_col5\" class=\"data row3 col5\" >0.0924</td>\n      <td id=\"T_ceff4_row3_col6\" class=\"data row3 col6\" >0.0633</td>\n      <td id=\"T_ceff4_row3_col7\" class=\"data row3 col7\" >0.0933</td>\n    </tr>\n    <tr>\n      <th id=\"T_ceff4_level0_row4\" class=\"row_heading level0 row4\" >et</th>\n      <td id=\"T_ceff4_row4_col0\" class=\"data row4 col0\" >Extra Trees Regressor</td>\n      <td id=\"T_ceff4_row4_col1\" class=\"data row4 col1\" >10684194.1926</td>\n      <td id=\"T_ceff4_row4_col2\" class=\"data row4 col2\" >333887685395666.4375</td>\n      <td id=\"T_ceff4_row4_col3\" class=\"data row4 col3\" >15465700.4474</td>\n      <td id=\"T_ceff4_row4_col4\" class=\"data row4 col4\" >0.2659</td>\n      <td id=\"T_ceff4_row4_col5\" class=\"data row4 col5\" >0.0895</td>\n      <td id=\"T_ceff4_row4_col6\" class=\"data row4 col6\" >0.0640</td>\n      <td id=\"T_ceff4_row4_col7\" class=\"data row4 col7\" >0.0600</td>\n    </tr>\n    <tr>\n      <th id=\"T_ceff4_level0_row5\" class=\"row_heading level0 row5\" >ada</th>\n      <td id=\"T_ceff4_row5_col0\" class=\"data row5 col0\" >AdaBoost Regressor</td>\n      <td id=\"T_ceff4_row5_col1\" class=\"data row5 col1\" >10754602.9883</td>\n      <td id=\"T_ceff4_row5_col2\" class=\"data row5 col2\" >353234794451631.0625</td>\n      <td id=\"T_ceff4_row5_col3\" class=\"data row5 col3\" >15772164.3121</td>\n      <td id=\"T_ceff4_row5_col4\" class=\"data row5 col4\" >0.2603</td>\n      <td id=\"T_ceff4_row5_col5\" class=\"data row5 col5\" >0.0912</td>\n      <td id=\"T_ceff4_row5_col6\" class=\"data row5 col6\" >0.0645</td>\n      <td id=\"T_ceff4_row5_col7\" class=\"data row5 col7\" >0.0333</td>\n    </tr>\n    <tr>\n      <th id=\"T_ceff4_level0_row6\" class=\"row_heading level0 row6\" >omp</th>\n      <td id=\"T_ceff4_row6_col0\" class=\"data row6 col0\" >Orthogonal Matching Pursuit</td>\n      <td id=\"T_ceff4_row6_col1\" class=\"data row6 col1\" >11228813.2725</td>\n      <td id=\"T_ceff4_row6_col2\" class=\"data row6 col2\" >306181776311994.1875</td>\n      <td id=\"T_ceff4_row6_col3\" class=\"data row6 col3\" >15797356.4465</td>\n      <td id=\"T_ceff4_row6_col4\" class=\"data row6 col4\" >0.0543</td>\n      <td id=\"T_ceff4_row6_col5\" class=\"data row6 col5\" >0.0913</td>\n      <td id=\"T_ceff4_row6_col6\" class=\"data row6 col6\" >0.0684</td>\n      <td id=\"T_ceff4_row6_col7\" class=\"data row6 col7\" >0.0067</td>\n    </tr>\n    <tr>\n      <th id=\"T_ceff4_level0_row7\" class=\"row_heading level0 row7\" >lr</th>\n      <td id=\"T_ceff4_row7_col0\" class=\"data row7 col0\" >Linear Regression</td>\n      <td id=\"T_ceff4_row7_col1\" class=\"data row7 col1\" >11367810.0000</td>\n      <td id=\"T_ceff4_row7_col2\" class=\"data row7 col2\" >359763506364416.0000</td>\n      <td id=\"T_ceff4_row7_col3\" class=\"data row7 col3\" >17713432.6667</td>\n      <td id=\"T_ceff4_row7_col4\" class=\"data row7 col4\" >-0.3451</td>\n      <td id=\"T_ceff4_row7_col5\" class=\"data row7 col5\" >0.1056</td>\n      <td id=\"T_ceff4_row7_col6\" class=\"data row7 col6\" >0.0700</td>\n      <td id=\"T_ceff4_row7_col7\" class=\"data row7 col7\" >1.3300</td>\n    </tr>\n    <tr>\n      <th id=\"T_ceff4_level0_row8\" class=\"row_heading level0 row8\" >ridge</th>\n      <td id=\"T_ceff4_row8_col0\" class=\"data row8 col0\" >Ridge Regression</td>\n      <td id=\"T_ceff4_row8_col1\" class=\"data row8 col1\" >11594830.3333</td>\n      <td id=\"T_ceff4_row8_col2\" class=\"data row8 col2\" >349127070187520.0000</td>\n      <td id=\"T_ceff4_row8_col3\" class=\"data row8 col3\" >17512253.0000</td>\n      <td id=\"T_ceff4_row8_col4\" class=\"data row8 col4\" >-0.3574</td>\n      <td id=\"T_ceff4_row8_col5\" class=\"data row8 col5\" >0.1023</td>\n      <td id=\"T_ceff4_row8_col6\" class=\"data row8 col6\" >0.0716</td>\n      <td id=\"T_ceff4_row8_col7\" class=\"data row8 col7\" >0.7600</td>\n    </tr>\n    <tr>\n      <th id=\"T_ceff4_level0_row9\" class=\"row_heading level0 row9\" >dt</th>\n      <td id=\"T_ceff4_row9_col0\" class=\"data row9 col0\" >Decision Tree Regressor</td>\n      <td id=\"T_ceff4_row9_col1\" class=\"data row9 col1\" >11776064.0000</td>\n      <td id=\"T_ceff4_row9_col2\" class=\"data row9 col2\" >351543311415343.4375</td>\n      <td id=\"T_ceff4_row9_col3\" class=\"data row9 col3\" >16389862.1809</td>\n      <td id=\"T_ceff4_row9_col4\" class=\"data row9 col4\" >0.0878</td>\n      <td id=\"T_ceff4_row9_col5\" class=\"data row9 col5\" >0.0974</td>\n      <td id=\"T_ceff4_row9_col6\" class=\"data row9 col6\" >0.0724</td>\n      <td id=\"T_ceff4_row9_col7\" class=\"data row9 col7\" >0.0100</td>\n    </tr>\n    <tr>\n      <th id=\"T_ceff4_level0_row10\" class=\"row_heading level0 row10\" >lightgbm</th>\n      <td id=\"T_ceff4_row10_col0\" class=\"data row10 col0\" >Light Gradient Boosting Machine</td>\n      <td id=\"T_ceff4_row10_col1\" class=\"data row10 col1\" >12130323.6690</td>\n      <td id=\"T_ceff4_row10_col2\" class=\"data row10 col2\" >451877738692340.3125</td>\n      <td id=\"T_ceff4_row10_col3\" class=\"data row10 col3\" >18409425.0296</td>\n      <td id=\"T_ceff4_row10_col4\" class=\"data row10 col4\" >-0.1058</td>\n      <td id=\"T_ceff4_row10_col5\" class=\"data row10 col5\" >0.1067</td>\n      <td id=\"T_ceff4_row10_col6\" class=\"data row10 col6\" >0.0719</td>\n      <td id=\"T_ceff4_row10_col7\" class=\"data row10 col7\" >0.0167</td>\n    </tr>\n    <tr>\n      <th id=\"T_ceff4_level0_row11\" class=\"row_heading level0 row11\" >knn</th>\n      <td id=\"T_ceff4_row11_col0\" class=\"data row11 col0\" >K Neighbors Regressor</td>\n      <td id=\"T_ceff4_row11_col1\" class=\"data row11 col1\" >12433855.0000</td>\n      <td id=\"T_ceff4_row11_col2\" class=\"data row11 col2\" >493504638397098.6875</td>\n      <td id=\"T_ceff4_row11_col3\" class=\"data row11 col3\" >18300854.0000</td>\n      <td id=\"T_ceff4_row11_col4\" class=\"data row11 col4\" >0.0455</td>\n      <td id=\"T_ceff4_row11_col5\" class=\"data row11 col5\" >0.1078</td>\n      <td id=\"T_ceff4_row11_col6\" class=\"data row11 col6\" >0.0743</td>\n      <td id=\"T_ceff4_row11_col7\" class=\"data row11 col7\" >0.0167</td>\n    </tr>\n    <tr>\n      <th id=\"T_ceff4_level0_row12\" class=\"row_heading level0 row12\" >lasso</th>\n      <td id=\"T_ceff4_row12_col0\" class=\"data row12 col0\" >Lasso Regression</td>\n      <td id=\"T_ceff4_row12_col1\" class=\"data row12 col1\" >12816882.0000</td>\n      <td id=\"T_ceff4_row12_col2\" class=\"data row12 col2\" >403898416933546.6875</td>\n      <td id=\"T_ceff4_row12_col3\" class=\"data row12 col3\" >19111565.0000</td>\n      <td id=\"T_ceff4_row12_col4\" class=\"data row12 col4\" >-0.7174</td>\n      <td id=\"T_ceff4_row12_col5\" class=\"data row12 col5\" >0.1173</td>\n      <td id=\"T_ceff4_row12_col6\" class=\"data row12 col6\" >0.0793</td>\n      <td id=\"T_ceff4_row12_col7\" class=\"data row12 col7\" >0.8833</td>\n    </tr>\n    <tr>\n      <th id=\"T_ceff4_level0_row13\" class=\"row_heading level0 row13\" >par</th>\n      <td id=\"T_ceff4_row13_col0\" class=\"data row13 col0\" >Passive Aggressive Regressor</td>\n      <td id=\"T_ceff4_row13_col1\" class=\"data row13 col1\" >13018994.1576</td>\n      <td id=\"T_ceff4_row13_col2\" class=\"data row13 col2\" >309292227578106.3125</td>\n      <td id=\"T_ceff4_row13_col3\" class=\"data row13 col3\" >17072810.7088</td>\n      <td id=\"T_ceff4_row13_col4\" class=\"data row13 col4\" >-0.5311</td>\n      <td id=\"T_ceff4_row13_col5\" class=\"data row13 col5\" >0.1027</td>\n      <td id=\"T_ceff4_row13_col6\" class=\"data row13 col6\" >0.0852</td>\n      <td id=\"T_ceff4_row13_col7\" class=\"data row13 col7\" >0.0100</td>\n    </tr>\n    <tr>\n      <th id=\"T_ceff4_level0_row14\" class=\"row_heading level0 row14\" >dummy</th>\n      <td id=\"T_ceff4_row14_col0\" class=\"data row14 col0\" >Dummy Regressor</td>\n      <td id=\"T_ceff4_row14_col1\" class=\"data row14 col1\" >13084745.0000</td>\n      <td id=\"T_ceff4_row14_col2\" class=\"data row14 col2\" >536629733927594.6875</td>\n      <td id=\"T_ceff4_row14_col3\" class=\"data row14 col3\" >19613630.0000</td>\n      <td id=\"T_ceff4_row14_col4\" class=\"data row14 col4\" >-0.1731</td>\n      <td id=\"T_ceff4_row14_col5\" class=\"data row14 col5\" >0.1146</td>\n      <td id=\"T_ceff4_row14_col6\" class=\"data row14 col6\" >0.0772</td>\n      <td id=\"T_ceff4_row14_col7\" class=\"data row14 col7\" >0.0100</td>\n    </tr>\n    <tr>\n      <th id=\"T_ceff4_level0_row15\" class=\"row_heading level0 row15\" >br</th>\n      <td id=\"T_ceff4_row15_col0\" class=\"data row15 col0\" >Bayesian Ridge</td>\n      <td id=\"T_ceff4_row15_col1\" class=\"data row15 col1\" >13084745.8416</td>\n      <td id=\"T_ceff4_row15_col2\" class=\"data row15 col2\" >536629638368113.7500</td>\n      <td id=\"T_ceff4_row15_col3\" class=\"data row15 col3\" >19613630.0997</td>\n      <td id=\"T_ceff4_row15_col4\" class=\"data row15 col4\" >-0.1731</td>\n      <td id=\"T_ceff4_row15_col5\" class=\"data row15 col5\" >0.1146</td>\n      <td id=\"T_ceff4_row15_col6\" class=\"data row15 col6\" >0.0772</td>\n      <td id=\"T_ceff4_row15_col7\" class=\"data row15 col7\" >0.0100</td>\n    </tr>\n    <tr>\n      <th id=\"T_ceff4_level0_row16\" class=\"row_heading level0 row16\" >en</th>\n      <td id=\"T_ceff4_row16_col0\" class=\"data row16 col0\" >Elastic Net</td>\n      <td id=\"T_ceff4_row16_col1\" class=\"data row16 col1\" >13802723.6667</td>\n      <td id=\"T_ceff4_row16_col2\" class=\"data row16 col2\" >447567921938432.0000</td>\n      <td id=\"T_ceff4_row16_col3\" class=\"data row16 col3\" >20297590.3333</td>\n      <td id=\"T_ceff4_row16_col4\" class=\"data row16 col4\" >-1.2748</td>\n      <td id=\"T_ceff4_row16_col5\" class=\"data row16 col5\" >0.1149</td>\n      <td id=\"T_ceff4_row16_col6\" class=\"data row16 col6\" >0.0862</td>\n      <td id=\"T_ceff4_row16_col7\" class=\"data row16 col7\" >0.0100</td>\n    </tr>\n    <tr>\n      <th id=\"T_ceff4_level0_row17\" class=\"row_heading level0 row17\" >huber</th>\n      <td id=\"T_ceff4_row17_col0\" class=\"data row17 col0\" >Huber Regressor</td>\n      <td id=\"T_ceff4_row17_col1\" class=\"data row17 col1\" >16584212.4656</td>\n      <td id=\"T_ceff4_row17_col2\" class=\"data row17 col2\" >677053914888564.8750</td>\n      <td id=\"T_ceff4_row17_col3\" class=\"data row17 col3\" >24777230.5384</td>\n      <td id=\"T_ceff4_row17_col4\" class=\"data row17 col4\" >-2.9427</td>\n      <td id=\"T_ceff4_row17_col5\" class=\"data row17 col5\" >0.1395</td>\n      <td id=\"T_ceff4_row17_col6\" class=\"data row17 col6\" >0.1046</td>\n      <td id=\"T_ceff4_row17_col7\" class=\"data row17 col7\" >0.0233</td>\n    </tr>\n    <tr>\n      <th id=\"T_ceff4_level0_row18\" class=\"row_heading level0 row18\" >lar</th>\n      <td id=\"T_ceff4_row18_col0\" class=\"data row18 col0\" >Least Angle Regression</td>\n      <td id=\"T_ceff4_row18_col1\" class=\"data row18 col1\" >101766483539605184.0000</td>\n      <td id=\"T_ceff4_row18_col2\" class=\"data row18 col2\" >48092427272257671991767557327552512.0000</td>\n      <td id=\"T_ceff4_row18_col3\" class=\"data row18 col3\" >126612832459770304.0000</td>\n      <td id=\"T_ceff4_row18_col4\" class=\"data row18 col4\" >-404683432157585539072.0000</td>\n      <td id=\"T_ceff4_row18_col5\" class=\"data row18 col5\" >7.7780</td>\n      <td id=\"T_ceff4_row18_col6\" class=\"data row18 col6\" >676321305.0963</td>\n      <td id=\"T_ceff4_row18_col7\" class=\"data row18 col7\" >0.0100</td>\n    </tr>\n  </tbody>\n</table>\n"
     },
     "metadata": {},
     "output_type": "display_data"
    },
    {
     "name": "stdout",
     "output_type": "stream",
     "text": [
      "<class 'sklearn.linear_model._least_angle.LassoLars'>\n"
     ]
    }
   ],
   "source": [
    "# ------------------------------------------------------------------------------------- #\n",
    "# re-run the auto ml with only the important features\n",
    "# ------------------------------------------------------------------------------------- #\n",
    "\n",
    "\n",
    "# Here we need to figure out which set of features we want to use\n",
    "# ml_features or corr_features\n",
    "#feature_cols = ml_feature_cols\n",
    "#feature_cols = corr_feature_cols\n",
    "\n",
    "#feature_cols = ml_feature_cols\n",
    "keeps = ['Calendar Date', target_col]+feature_cols\n",
    "train_df = train_df[keeps]\n",
    "test_df = test_df[keeps]\n",
    "comb_df = comb_df[keeps]\n",
    "\n",
    "best = models.run_auto_ml(train_df, test_df, target_col, feature_cols, False, ml_criteria)"
   ],
   "metadata": {
    "collapsed": false,
    "pycharm": {
     "name": "#%%\n"
    }
   }
  },
  {
   "cell_type": "code",
   "execution_count": 28,
   "outputs": [
    {
     "name": "stdout",
     "output_type": "stream",
     "text": [
      "Transformation Pipeline and Model Successfully Saved\n"
     ]
    }
   ],
   "source": [
    "pipeline, name = save_model(best, model_path + '/{}_model'.format(target_col))"
   ],
   "metadata": {
    "collapsed": false,
    "pycharm": {
     "name": "#%%\n"
    }
   }
  },
  {
   "cell_type": "code",
   "execution_count": 29,
   "outputs": [
    {
     "data": {
      "application/vnd.plotly.v1+json": {
       "data": [
        {
         "hovertemplate": "variable=Total Payroll Revenue.<br>Date=%{x}<br>value=%{y}<extra></extra>",
         "legendgroup": "Total Payroll Revenue.",
         "line": {
          "color": "#636efa",
          "dash": "solid"
         },
         "marker": {
          "symbol": "circle"
         },
         "mode": "lines",
         "name": "Total Payroll Revenue.",
         "orientation": "v",
         "showlegend": true,
         "x": [
          "2014-06-01T00:00:00",
          "2014-07-01T00:00:00",
          "2014-08-01T00:00:00",
          "2014-09-01T00:00:00",
          "2014-10-01T00:00:00",
          "2014-11-01T00:00:00",
          "2014-12-01T00:00:00",
          "2015-01-01T00:00:00",
          "2015-02-01T00:00:00",
          "2015-03-01T00:00:00",
          "2015-04-01T00:00:00",
          "2015-05-01T00:00:00",
          "2015-06-01T00:00:00",
          "2015-07-01T00:00:00",
          "2015-08-01T00:00:00",
          "2015-09-01T00:00:00",
          "2015-10-01T00:00:00",
          "2015-11-01T00:00:00",
          "2015-12-01T00:00:00",
          "2016-01-01T00:00:00",
          "2016-02-01T00:00:00",
          "2016-03-01T00:00:00",
          "2016-04-01T00:00:00",
          "2016-05-01T00:00:00",
          "2016-06-01T00:00:00",
          "2016-07-01T00:00:00",
          "2016-08-01T00:00:00",
          "2016-09-01T00:00:00",
          "2016-10-01T00:00:00",
          "2016-11-01T00:00:00",
          "2016-12-01T00:00:00",
          "2017-01-01T00:00:00",
          "2017-02-01T00:00:00",
          "2017-03-01T00:00:00",
          "2017-04-01T00:00:00",
          "2017-05-01T00:00:00",
          "2017-06-01T00:00:00",
          "2017-07-01T00:00:00",
          "2017-08-01T00:00:00",
          "2017-09-01T00:00:00",
          "2017-10-01T00:00:00",
          "2017-11-01T00:00:00",
          "2017-12-01T00:00:00",
          "2018-01-01T00:00:00",
          "2018-02-01T00:00:00",
          "2018-03-01T00:00:00",
          "2018-04-01T00:00:00",
          "2018-05-01T00:00:00",
          "2018-06-01T00:00:00",
          "2018-07-01T00:00:00",
          "2018-08-01T00:00:00",
          "2018-09-01T00:00:00",
          "2018-10-01T00:00:00",
          "2018-11-01T00:00:00",
          "2018-12-01T00:00:00",
          "2019-01-01T00:00:00",
          "2019-02-01T00:00:00",
          "2019-03-01T00:00:00",
          "2019-04-01T00:00:00",
          "2019-05-01T00:00:00",
          "2019-06-01T00:00:00",
          "2019-07-01T00:00:00",
          "2019-08-01T00:00:00",
          "2019-09-01T00:00:00",
          "2019-10-01T00:00:00",
          "2019-11-01T00:00:00",
          "2019-12-01T00:00:00",
          "2020-01-01T00:00:00",
          "2020-02-01T00:00:00",
          "2020-03-01T00:00:00",
          "2020-04-01T00:00:00",
          "2020-05-01T00:00:00",
          "2020-06-01T00:00:00",
          "2020-07-01T00:00:00",
          "2020-08-01T00:00:00",
          "2020-09-01T00:00:00",
          "2020-10-01T00:00:00",
          "2020-11-01T00:00:00",
          "2020-12-01T00:00:00",
          "2021-01-01T00:00:00",
          "2021-02-01T00:00:00",
          "2021-03-01T00:00:00",
          "2021-04-01T00:00:00",
          "2021-05-01T00:00:00"
         ],
         "xaxis": "x",
         "y": [
          1.3013387146000001E8,
          1.6225014354E8,
          1.2999526105999999E8,
          1.2461269524E8,
          1.6607197507999998E8,
          1.2972092636E8,
          1.3191592182000001E8,
          1.7429905984E8,
          1.2672829209E8,
          1.2225481516E8,
          1.6279532387E8,
          1.3289702385E8,
          1.3003290891E8,
          1.7175784651E8,
          1.3856667238E8,
          1.6338605987E8,
          1.3870802146E8,
          1.3295676127999999E8,
          1.3798499535999998E8,
          1.7549905819E8,
          1.2910692424E8,
          1.5690451235E8,
          1.3662358031E8,
          1.3904629299E8,
          1.5493656819E8,
          1.4399704673000002E8,
          1.5536834451E8,
          1.4453237379E8,
          1.4668219274E8,
          1.5119637383E8,
          1.5453829398E8,
          1.5968357697E8,
          1.3392668653E8,
          1.4802104954E8,
          1.3928078691E8,
          1.5442769829E8,
          1.5195904888E8,
          1.4893451485999998E8,
          1.5767480382E8,
          1.3912882842000002E8,
          1.5277608822E8,
          1.5329338695E8,
          1.5369859154E8,
          1.6877926253E8,
          1.3486288965E8,
          1.4446240687E8,
          1.4606029595E8,
          1.609990734E8,
          1.3881266125E8,
          1.5182263517E8,
          1.5088236777E8,
          1.3432496431E8,
          1.5699087954999998E8,
          1.4308462404999998E8,
          1.5717627464000002E8,
          2.5288165582E8,
          1.3084882981E8,
          1.3496042131E8,
          1.4865917606E8,
          1.5226949867000002E8,
          1.4080515564E8,
          1.6270746811E8,
          1.4841615156E8,
          1.4348057581E8,
          1.6397078742000002E8,
          1.3940409623000002E8,
          1.7236756124E8,
          2.491574037E8,
          1.3536031682999998E8,
          1.4378341782E8,
          1.3190286527000001E8,
          1.2132858189E8,
          1.3666895577E8,
          1.4531677388E8,
          1.3282459628999999E8,
          1.4670960054E8,
          1.5004497213E8,
          1.4140626511E8,
          1.7193145761E8,
          2.3171908320999998E8,
          1.348071095E8,
          1.5251506860999998E8,
          1.5035443116E8,
          1.3925209954E8
         ],
         "yaxis": "y",
         "type": "scatter"
        },
        {
         "hovertemplate": "variable=Total Payroll Revenue. - ML Predicted<br>Date=%{x}<br>value=%{y}<extra></extra>",
         "legendgroup": "Total Payroll Revenue. - ML Predicted",
         "line": {
          "color": "#EF553B",
          "dash": "solid"
         },
         "marker": {
          "symbol": "circle"
         },
         "mode": "lines",
         "name": "Total Payroll Revenue. - ML Predicted",
         "orientation": "v",
         "showlegend": true,
         "x": [
          "2014-06-01T00:00:00",
          "2014-07-01T00:00:00",
          "2014-08-01T00:00:00",
          "2014-09-01T00:00:00",
          "2014-10-01T00:00:00",
          "2014-11-01T00:00:00",
          "2014-12-01T00:00:00",
          "2015-01-01T00:00:00",
          "2015-02-01T00:00:00",
          "2015-03-01T00:00:00",
          "2015-04-01T00:00:00",
          "2015-05-01T00:00:00",
          "2015-06-01T00:00:00",
          "2015-07-01T00:00:00",
          "2015-08-01T00:00:00",
          "2015-09-01T00:00:00",
          "2015-10-01T00:00:00",
          "2015-11-01T00:00:00",
          "2015-12-01T00:00:00",
          "2016-01-01T00:00:00",
          "2016-02-01T00:00:00",
          "2016-03-01T00:00:00",
          "2016-04-01T00:00:00",
          "2016-05-01T00:00:00",
          "2016-06-01T00:00:00",
          "2016-07-01T00:00:00",
          "2016-08-01T00:00:00",
          "2016-09-01T00:00:00",
          "2016-10-01T00:00:00",
          "2016-11-01T00:00:00",
          "2016-12-01T00:00:00",
          "2017-01-01T00:00:00",
          "2017-02-01T00:00:00",
          "2017-03-01T00:00:00",
          "2017-04-01T00:00:00",
          "2017-05-01T00:00:00",
          "2017-06-01T00:00:00",
          "2017-07-01T00:00:00",
          "2017-08-01T00:00:00",
          "2017-09-01T00:00:00",
          "2017-10-01T00:00:00",
          "2017-11-01T00:00:00",
          "2017-12-01T00:00:00",
          "2018-01-01T00:00:00",
          "2018-02-01T00:00:00",
          "2018-03-01T00:00:00",
          "2018-04-01T00:00:00",
          "2018-05-01T00:00:00",
          "2018-06-01T00:00:00",
          "2018-07-01T00:00:00",
          "2018-08-01T00:00:00",
          "2018-09-01T00:00:00",
          "2018-10-01T00:00:00",
          "2018-11-01T00:00:00",
          "2018-12-01T00:00:00",
          "2019-01-01T00:00:00",
          "2019-02-01T00:00:00",
          "2019-03-01T00:00:00",
          "2019-04-01T00:00:00",
          "2019-05-01T00:00:00",
          "2019-06-01T00:00:00",
          "2019-07-01T00:00:00",
          "2019-08-01T00:00:00",
          "2019-09-01T00:00:00",
          "2019-10-01T00:00:00",
          "2019-11-01T00:00:00",
          "2019-12-01T00:00:00",
          "2020-01-01T00:00:00",
          "2020-02-01T00:00:00",
          "2020-03-01T00:00:00",
          "2020-04-01T00:00:00",
          "2020-05-01T00:00:00",
          "2020-06-01T00:00:00",
          "2020-07-01T00:00:00",
          "2020-08-01T00:00:00",
          "2020-09-01T00:00:00",
          "2020-10-01T00:00:00",
          "2020-11-01T00:00:00",
          "2020-12-01T00:00:00",
          "2021-01-01T00:00:00",
          "2021-02-01T00:00:00",
          "2021-03-01T00:00:00",
          "2021-04-01T00:00:00",
          "2021-05-01T00:00:00"
         ],
         "xaxis": "x",
         "y": [
          1.3326180996463211E8,
          1.715095269242789E8,
          1.3453644185525346E8,
          1.3512712006036508E8,
          1.5877983478846055E8,
          1.316282313782826E8,
          1.3492453811067006E8,
          1.8052812444100392E8,
          1.1990964112802975E8,
          1.1957887347649296E8,
          1.54007232769617E8,
          1.3140560857003117E8,
          1.3368056810856634E8,
          1.6860238262415415E8,
          1.3607114910300428E8,
          1.596931424223979E8,
          1.4443129687715414E8,
          1.408089453127303E8,
          1.5503787269496813E8,
          1.7949537385813704E8,
          1.1844274424380654E8,
          1.590265194932686E8,
          1.3925104639722118E8,
          1.3152971880179615E8,
          1.6057475568728185E8,
          1.49267044704323E8,
          1.5009460573835063E8,
          1.3713617051527452E8,
          1.4806636354494512E8,
          1.4812448298810148E8,
          1.5050876921068802E8,
          1.7035175412773654E8,
          1.3258726189807416E8,
          1.5001262988993996E8,
          1.363577650423097E8,
          1.327435613941828E8,
          1.4573068503348792E8,
          1.457790350774715E8,
          1.5093338156685767E8,
          1.3019401767374684E8,
          1.4690486434439194E8,
          1.4957199190792018E8,
          1.4999112031732097E8,
          1.9678889850852165E8,
          1.3837393984192765E8,
          1.5213439797403336E8,
          1.5008927096186623E8,
          1.7187974000332308E8,
          1.3215644911339703E8,
          1.4868597065992475E8,
          1.6394281114492634E8,
          1.384201759805642E8,
          1.578331362577464E8,
          1.4069414885275653E8,
          1.459106026239234E8,
          2.2185921591239867E8,
          1.3417722569590564E8,
          1.2986388396597356E8,
          1.4534070471514484E8,
          1.653815257294721E8,
          1.4127568307466307E8,
          1.5762544940472564E8,
          1.4532492656729203E8,
          1.4889459284745377E8,
          1.6918418364816317E8,
          1.3882807858138657E8,
          1.7130844974179077E8,
          2.3127851044615433E8,
          1.4734282352613485E8,
          1.3977001719886845E8,
          1.402757349290219E8,
          1.2802772392627499E8,
          1.542995918318144E8,
          1.6022302662544304E8,
          1.4155405194483814E8,
          1.7027944636589924E8,
          1.598033381864032E8,
          1.4944156173172605E8,
          1.8523980791635594E8,
          2.0844117842786777E8,
          1.4178488583101517E8,
          1.8322783966710073E8,
          1.670601868745158E8,
          1.613398669371221E8
         ],
         "yaxis": "y",
         "type": "scatter"
        }
       ],
       "layout": {
        "template": {
         "data": {
          "barpolar": [
           {
            "marker": {
             "line": {
              "color": "white",
              "width": 0.5
             },
             "pattern": {
              "fillmode": "overlay",
              "size": 10,
              "solidity": 0.2
             }
            },
            "type": "barpolar"
           }
          ],
          "bar": [
           {
            "error_x": {
             "color": "#2a3f5f"
            },
            "error_y": {
             "color": "#2a3f5f"
            },
            "marker": {
             "line": {
              "color": "white",
              "width": 0.5
             },
             "pattern": {
              "fillmode": "overlay",
              "size": 10,
              "solidity": 0.2
             }
            },
            "type": "bar"
           }
          ],
          "carpet": [
           {
            "aaxis": {
             "endlinecolor": "#2a3f5f",
             "gridcolor": "#C8D4E3",
             "linecolor": "#C8D4E3",
             "minorgridcolor": "#C8D4E3",
             "startlinecolor": "#2a3f5f"
            },
            "baxis": {
             "endlinecolor": "#2a3f5f",
             "gridcolor": "#C8D4E3",
             "linecolor": "#C8D4E3",
             "minorgridcolor": "#C8D4E3",
             "startlinecolor": "#2a3f5f"
            },
            "type": "carpet"
           }
          ],
          "choropleth": [
           {
            "colorbar": {
             "outlinewidth": 0,
             "ticks": ""
            },
            "type": "choropleth"
           }
          ],
          "contourcarpet": [
           {
            "colorbar": {
             "outlinewidth": 0,
             "ticks": ""
            },
            "type": "contourcarpet"
           }
          ],
          "contour": [
           {
            "colorbar": {
             "outlinewidth": 0,
             "ticks": ""
            },
            "colorscale": [
             [
              0.0,
              "#0d0887"
             ],
             [
              0.1111111111111111,
              "#46039f"
             ],
             [
              0.2222222222222222,
              "#7201a8"
             ],
             [
              0.3333333333333333,
              "#9c179e"
             ],
             [
              0.4444444444444444,
              "#bd3786"
             ],
             [
              0.5555555555555556,
              "#d8576b"
             ],
             [
              0.6666666666666666,
              "#ed7953"
             ],
             [
              0.7777777777777778,
              "#fb9f3a"
             ],
             [
              0.8888888888888888,
              "#fdca26"
             ],
             [
              1.0,
              "#f0f921"
             ]
            ],
            "type": "contour"
           }
          ],
          "heatmapgl": [
           {
            "colorbar": {
             "outlinewidth": 0,
             "ticks": ""
            },
            "colorscale": [
             [
              0.0,
              "#0d0887"
             ],
             [
              0.1111111111111111,
              "#46039f"
             ],
             [
              0.2222222222222222,
              "#7201a8"
             ],
             [
              0.3333333333333333,
              "#9c179e"
             ],
             [
              0.4444444444444444,
              "#bd3786"
             ],
             [
              0.5555555555555556,
              "#d8576b"
             ],
             [
              0.6666666666666666,
              "#ed7953"
             ],
             [
              0.7777777777777778,
              "#fb9f3a"
             ],
             [
              0.8888888888888888,
              "#fdca26"
             ],
             [
              1.0,
              "#f0f921"
             ]
            ],
            "type": "heatmapgl"
           }
          ],
          "heatmap": [
           {
            "colorbar": {
             "outlinewidth": 0,
             "ticks": ""
            },
            "colorscale": [
             [
              0.0,
              "#0d0887"
             ],
             [
              0.1111111111111111,
              "#46039f"
             ],
             [
              0.2222222222222222,
              "#7201a8"
             ],
             [
              0.3333333333333333,
              "#9c179e"
             ],
             [
              0.4444444444444444,
              "#bd3786"
             ],
             [
              0.5555555555555556,
              "#d8576b"
             ],
             [
              0.6666666666666666,
              "#ed7953"
             ],
             [
              0.7777777777777778,
              "#fb9f3a"
             ],
             [
              0.8888888888888888,
              "#fdca26"
             ],
             [
              1.0,
              "#f0f921"
             ]
            ],
            "type": "heatmap"
           }
          ],
          "histogram2dcontour": [
           {
            "colorbar": {
             "outlinewidth": 0,
             "ticks": ""
            },
            "colorscale": [
             [
              0.0,
              "#0d0887"
             ],
             [
              0.1111111111111111,
              "#46039f"
             ],
             [
              0.2222222222222222,
              "#7201a8"
             ],
             [
              0.3333333333333333,
              "#9c179e"
             ],
             [
              0.4444444444444444,
              "#bd3786"
             ],
             [
              0.5555555555555556,
              "#d8576b"
             ],
             [
              0.6666666666666666,
              "#ed7953"
             ],
             [
              0.7777777777777778,
              "#fb9f3a"
             ],
             [
              0.8888888888888888,
              "#fdca26"
             ],
             [
              1.0,
              "#f0f921"
             ]
            ],
            "type": "histogram2dcontour"
           }
          ],
          "histogram2d": [
           {
            "colorbar": {
             "outlinewidth": 0,
             "ticks": ""
            },
            "colorscale": [
             [
              0.0,
              "#0d0887"
             ],
             [
              0.1111111111111111,
              "#46039f"
             ],
             [
              0.2222222222222222,
              "#7201a8"
             ],
             [
              0.3333333333333333,
              "#9c179e"
             ],
             [
              0.4444444444444444,
              "#bd3786"
             ],
             [
              0.5555555555555556,
              "#d8576b"
             ],
             [
              0.6666666666666666,
              "#ed7953"
             ],
             [
              0.7777777777777778,
              "#fb9f3a"
             ],
             [
              0.8888888888888888,
              "#fdca26"
             ],
             [
              1.0,
              "#f0f921"
             ]
            ],
            "type": "histogram2d"
           }
          ],
          "histogram": [
           {
            "marker": {
             "pattern": {
              "fillmode": "overlay",
              "size": 10,
              "solidity": 0.2
             }
            },
            "type": "histogram"
           }
          ],
          "mesh3d": [
           {
            "colorbar": {
             "outlinewidth": 0,
             "ticks": ""
            },
            "type": "mesh3d"
           }
          ],
          "parcoords": [
           {
            "line": {
             "colorbar": {
              "outlinewidth": 0,
              "ticks": ""
             }
            },
            "type": "parcoords"
           }
          ],
          "pie": [
           {
            "automargin": true,
            "type": "pie"
           }
          ],
          "scatter3d": [
           {
            "line": {
             "colorbar": {
              "outlinewidth": 0,
              "ticks": ""
             }
            },
            "marker": {
             "colorbar": {
              "outlinewidth": 0,
              "ticks": ""
             }
            },
            "type": "scatter3d"
           }
          ],
          "scattercarpet": [
           {
            "marker": {
             "colorbar": {
              "outlinewidth": 0,
              "ticks": ""
             }
            },
            "type": "scattercarpet"
           }
          ],
          "scattergeo": [
           {
            "marker": {
             "colorbar": {
              "outlinewidth": 0,
              "ticks": ""
             }
            },
            "type": "scattergeo"
           }
          ],
          "scattergl": [
           {
            "marker": {
             "colorbar": {
              "outlinewidth": 0,
              "ticks": ""
             }
            },
            "type": "scattergl"
           }
          ],
          "scattermapbox": [
           {
            "marker": {
             "colorbar": {
              "outlinewidth": 0,
              "ticks": ""
             }
            },
            "type": "scattermapbox"
           }
          ],
          "scatterpolargl": [
           {
            "marker": {
             "colorbar": {
              "outlinewidth": 0,
              "ticks": ""
             }
            },
            "type": "scatterpolargl"
           }
          ],
          "scatterpolar": [
           {
            "marker": {
             "colorbar": {
              "outlinewidth": 0,
              "ticks": ""
             }
            },
            "type": "scatterpolar"
           }
          ],
          "scatter": [
           {
            "fillpattern": {
             "fillmode": "overlay",
             "size": 10,
             "solidity": 0.2
            },
            "type": "scatter"
           }
          ],
          "scatterternary": [
           {
            "marker": {
             "colorbar": {
              "outlinewidth": 0,
              "ticks": ""
             }
            },
            "type": "scatterternary"
           }
          ],
          "surface": [
           {
            "colorbar": {
             "outlinewidth": 0,
             "ticks": ""
            },
            "colorscale": [
             [
              0.0,
              "#0d0887"
             ],
             [
              0.1111111111111111,
              "#46039f"
             ],
             [
              0.2222222222222222,
              "#7201a8"
             ],
             [
              0.3333333333333333,
              "#9c179e"
             ],
             [
              0.4444444444444444,
              "#bd3786"
             ],
             [
              0.5555555555555556,
              "#d8576b"
             ],
             [
              0.6666666666666666,
              "#ed7953"
             ],
             [
              0.7777777777777778,
              "#fb9f3a"
             ],
             [
              0.8888888888888888,
              "#fdca26"
             ],
             [
              1.0,
              "#f0f921"
             ]
            ],
            "type": "surface"
           }
          ],
          "table": [
           {
            "cells": {
             "fill": {
              "color": "#EBF0F8"
             },
             "line": {
              "color": "white"
             }
            },
            "header": {
             "fill": {
              "color": "#C8D4E3"
             },
             "line": {
              "color": "white"
             }
            },
            "type": "table"
           }
          ]
         },
         "layout": {
          "annotationdefaults": {
           "arrowcolor": "#2a3f5f",
           "arrowhead": 0,
           "arrowwidth": 1
          },
          "autotypenumbers": "strict",
          "coloraxis": {
           "colorbar": {
            "outlinewidth": 0,
            "ticks": ""
           }
          },
          "colorscale": {
           "diverging": [
            [
             0,
             "#8e0152"
            ],
            [
             0.1,
             "#c51b7d"
            ],
            [
             0.2,
             "#de77ae"
            ],
            [
             0.3,
             "#f1b6da"
            ],
            [
             0.4,
             "#fde0ef"
            ],
            [
             0.5,
             "#f7f7f7"
            ],
            [
             0.6,
             "#e6f5d0"
            ],
            [
             0.7,
             "#b8e186"
            ],
            [
             0.8,
             "#7fbc41"
            ],
            [
             0.9,
             "#4d9221"
            ],
            [
             1,
             "#276419"
            ]
           ],
           "sequential": [
            [
             0.0,
             "#0d0887"
            ],
            [
             0.1111111111111111,
             "#46039f"
            ],
            [
             0.2222222222222222,
             "#7201a8"
            ],
            [
             0.3333333333333333,
             "#9c179e"
            ],
            [
             0.4444444444444444,
             "#bd3786"
            ],
            [
             0.5555555555555556,
             "#d8576b"
            ],
            [
             0.6666666666666666,
             "#ed7953"
            ],
            [
             0.7777777777777778,
             "#fb9f3a"
            ],
            [
             0.8888888888888888,
             "#fdca26"
            ],
            [
             1.0,
             "#f0f921"
            ]
           ],
           "sequentialminus": [
            [
             0.0,
             "#0d0887"
            ],
            [
             0.1111111111111111,
             "#46039f"
            ],
            [
             0.2222222222222222,
             "#7201a8"
            ],
            [
             0.3333333333333333,
             "#9c179e"
            ],
            [
             0.4444444444444444,
             "#bd3786"
            ],
            [
             0.5555555555555556,
             "#d8576b"
            ],
            [
             0.6666666666666666,
             "#ed7953"
            ],
            [
             0.7777777777777778,
             "#fb9f3a"
            ],
            [
             0.8888888888888888,
             "#fdca26"
            ],
            [
             1.0,
             "#f0f921"
            ]
           ]
          },
          "colorway": [
           "#636efa",
           "#EF553B",
           "#00cc96",
           "#ab63fa",
           "#FFA15A",
           "#19d3f3",
           "#FF6692",
           "#B6E880",
           "#FF97FF",
           "#FECB52"
          ],
          "font": {
           "color": "#2a3f5f"
          },
          "geo": {
           "bgcolor": "white",
           "lakecolor": "white",
           "landcolor": "white",
           "showlakes": true,
           "showland": true,
           "subunitcolor": "#C8D4E3"
          },
          "hoverlabel": {
           "align": "left"
          },
          "hovermode": "closest",
          "mapbox": {
           "style": "light"
          },
          "paper_bgcolor": "white",
          "plot_bgcolor": "white",
          "polar": {
           "angularaxis": {
            "gridcolor": "#EBF0F8",
            "linecolor": "#EBF0F8",
            "ticks": ""
           },
           "bgcolor": "white",
           "radialaxis": {
            "gridcolor": "#EBF0F8",
            "linecolor": "#EBF0F8",
            "ticks": ""
           }
          },
          "scene": {
           "xaxis": {
            "backgroundcolor": "white",
            "gridcolor": "#DFE8F3",
            "gridwidth": 2,
            "linecolor": "#EBF0F8",
            "showbackground": true,
            "ticks": "",
            "zerolinecolor": "#EBF0F8"
           },
           "yaxis": {
            "backgroundcolor": "white",
            "gridcolor": "#DFE8F3",
            "gridwidth": 2,
            "linecolor": "#EBF0F8",
            "showbackground": true,
            "ticks": "",
            "zerolinecolor": "#EBF0F8"
           },
           "zaxis": {
            "backgroundcolor": "white",
            "gridcolor": "#DFE8F3",
            "gridwidth": 2,
            "linecolor": "#EBF0F8",
            "showbackground": true,
            "ticks": "",
            "zerolinecolor": "#EBF0F8"
           }
          },
          "shapedefaults": {
           "line": {
            "color": "#2a3f5f"
           }
          },
          "ternary": {
           "aaxis": {
            "gridcolor": "#DFE8F3",
            "linecolor": "#A2B1C6",
            "ticks": ""
           },
           "baxis": {
            "gridcolor": "#DFE8F3",
            "linecolor": "#A2B1C6",
            "ticks": ""
           },
           "bgcolor": "white",
           "caxis": {
            "gridcolor": "#DFE8F3",
            "linecolor": "#A2B1C6",
            "ticks": ""
           }
          },
          "title": {
           "x": 0.05
          },
          "xaxis": {
           "automargin": true,
           "gridcolor": "#EBF0F8",
           "linecolor": "#EBF0F8",
           "ticks": "",
           "title": {
            "standoff": 15
           },
           "zerolinecolor": "#EBF0F8",
           "zerolinewidth": 2
          },
          "yaxis": {
           "automargin": true,
           "gridcolor": "#EBF0F8",
           "linecolor": "#EBF0F8",
           "ticks": "",
           "title": {
            "standoff": 15
           },
           "zerolinecolor": "#EBF0F8",
           "zerolinewidth": 2
          }
         }
        },
        "xaxis": {
         "anchor": "y",
         "domain": [
          0.0,
          1.0
         ],
         "title": {
          "text": "Date"
         }
        },
        "yaxis": {
         "anchor": "x",
         "domain": [
          0.0,
          1.0
         ],
         "title": {
          "text": "value"
         }
        },
        "legend": {
         "title": {
          "text": "variable"
         },
         "tracegroupgap": 0
        },
        "margin": {
         "t": 60
        }
       },
       "config": {
        "plotlyServerURL": "https://plot.ly"
       }
      },
      "text/html": "<div>                            <div id=\"9afd08ef-f235-406d-8f85-063f7279b310\" class=\"plotly-graph-div\" style=\"height:525px; width:100%;\"></div>            <script type=\"text/javascript\">                require([\"plotly\"], function(Plotly) {                    window.PLOTLYENV=window.PLOTLYENV || {};                                    if (document.getElementById(\"9afd08ef-f235-406d-8f85-063f7279b310\")) {                    Plotly.newPlot(                        \"9afd08ef-f235-406d-8f85-063f7279b310\",                        [{\"hovertemplate\":\"variable=Total Payroll Revenue.<br>Date=%{x}<br>value=%{y}<extra></extra>\",\"legendgroup\":\"Total Payroll Revenue.\",\"line\":{\"color\":\"#636efa\",\"dash\":\"solid\"},\"marker\":{\"symbol\":\"circle\"},\"mode\":\"lines\",\"name\":\"Total Payroll Revenue.\",\"orientation\":\"v\",\"showlegend\":true,\"x\":[\"2014-06-01T00:00:00\",\"2014-07-01T00:00:00\",\"2014-08-01T00:00:00\",\"2014-09-01T00:00:00\",\"2014-10-01T00:00:00\",\"2014-11-01T00:00:00\",\"2014-12-01T00:00:00\",\"2015-01-01T00:00:00\",\"2015-02-01T00:00:00\",\"2015-03-01T00:00:00\",\"2015-04-01T00:00:00\",\"2015-05-01T00:00:00\",\"2015-06-01T00:00:00\",\"2015-07-01T00:00:00\",\"2015-08-01T00:00:00\",\"2015-09-01T00:00:00\",\"2015-10-01T00:00:00\",\"2015-11-01T00:00:00\",\"2015-12-01T00:00:00\",\"2016-01-01T00:00:00\",\"2016-02-01T00:00:00\",\"2016-03-01T00:00:00\",\"2016-04-01T00:00:00\",\"2016-05-01T00:00:00\",\"2016-06-01T00:00:00\",\"2016-07-01T00:00:00\",\"2016-08-01T00:00:00\",\"2016-09-01T00:00:00\",\"2016-10-01T00:00:00\",\"2016-11-01T00:00:00\",\"2016-12-01T00:00:00\",\"2017-01-01T00:00:00\",\"2017-02-01T00:00:00\",\"2017-03-01T00:00:00\",\"2017-04-01T00:00:00\",\"2017-05-01T00:00:00\",\"2017-06-01T00:00:00\",\"2017-07-01T00:00:00\",\"2017-08-01T00:00:00\",\"2017-09-01T00:00:00\",\"2017-10-01T00:00:00\",\"2017-11-01T00:00:00\",\"2017-12-01T00:00:00\",\"2018-01-01T00:00:00\",\"2018-02-01T00:00:00\",\"2018-03-01T00:00:00\",\"2018-04-01T00:00:00\",\"2018-05-01T00:00:00\",\"2018-06-01T00:00:00\",\"2018-07-01T00:00:00\",\"2018-08-01T00:00:00\",\"2018-09-01T00:00:00\",\"2018-10-01T00:00:00\",\"2018-11-01T00:00:00\",\"2018-12-01T00:00:00\",\"2019-01-01T00:00:00\",\"2019-02-01T00:00:00\",\"2019-03-01T00:00:00\",\"2019-04-01T00:00:00\",\"2019-05-01T00:00:00\",\"2019-06-01T00:00:00\",\"2019-07-01T00:00:00\",\"2019-08-01T00:00:00\",\"2019-09-01T00:00:00\",\"2019-10-01T00:00:00\",\"2019-11-01T00:00:00\",\"2019-12-01T00:00:00\",\"2020-01-01T00:00:00\",\"2020-02-01T00:00:00\",\"2020-03-01T00:00:00\",\"2020-04-01T00:00:00\",\"2020-05-01T00:00:00\",\"2020-06-01T00:00:00\",\"2020-07-01T00:00:00\",\"2020-08-01T00:00:00\",\"2020-09-01T00:00:00\",\"2020-10-01T00:00:00\",\"2020-11-01T00:00:00\",\"2020-12-01T00:00:00\",\"2021-01-01T00:00:00\",\"2021-02-01T00:00:00\",\"2021-03-01T00:00:00\",\"2021-04-01T00:00:00\",\"2021-05-01T00:00:00\"],\"xaxis\":\"x\",\"y\":[130133871.46000001,162250143.54,129995261.05999999,124612695.24,166071975.07999998,129720926.36,131915921.82000001,174299059.84,126728292.09,122254815.16,162795323.87,132897023.85,130032908.91,171757846.51,138566672.38,163386059.87,138708021.46,132956761.27999999,137984995.35999998,175499058.19,129106924.24,156904512.35,136623580.31,139046292.99,154936568.19,143997046.73000002,155368344.51,144532373.79,146682192.74,151196373.83,154538293.98,159683576.97,133926686.53,148021049.54,139280786.91,154427698.29,151959048.88,148934514.85999998,157674803.82,139128828.42000002,152776088.22,153293386.95,153698591.54,168779262.53,134862889.65,144462406.87,146060295.95,160999073.4,138812661.25,151822635.17,150882367.77,134324964.31,156990879.54999998,143084624.04999998,157176274.64000002,252881655.82,130848829.81,134960421.31,148659176.06,152269498.67000002,140805155.64,162707468.11,148416151.56,143480575.81,163970787.42000002,139404096.23000002,172367561.24,249157403.7,135360316.82999998,143783417.82,131902865.27000001,121328581.89,136668955.77,145316773.88,132824596.28999999,146709600.54,150044972.13,141406265.11,171931457.61,231719083.20999998,134807109.5,152515068.60999998,150354431.16,139252099.54],\"yaxis\":\"y\",\"type\":\"scatter\"},{\"hovertemplate\":\"variable=Total Payroll Revenue. - ML Predicted<br>Date=%{x}<br>value=%{y}<extra></extra>\",\"legendgroup\":\"Total Payroll Revenue. - ML Predicted\",\"line\":{\"color\":\"#EF553B\",\"dash\":\"solid\"},\"marker\":{\"symbol\":\"circle\"},\"mode\":\"lines\",\"name\":\"Total Payroll Revenue. - ML Predicted\",\"orientation\":\"v\",\"showlegend\":true,\"x\":[\"2014-06-01T00:00:00\",\"2014-07-01T00:00:00\",\"2014-08-01T00:00:00\",\"2014-09-01T00:00:00\",\"2014-10-01T00:00:00\",\"2014-11-01T00:00:00\",\"2014-12-01T00:00:00\",\"2015-01-01T00:00:00\",\"2015-02-01T00:00:00\",\"2015-03-01T00:00:00\",\"2015-04-01T00:00:00\",\"2015-05-01T00:00:00\",\"2015-06-01T00:00:00\",\"2015-07-01T00:00:00\",\"2015-08-01T00:00:00\",\"2015-09-01T00:00:00\",\"2015-10-01T00:00:00\",\"2015-11-01T00:00:00\",\"2015-12-01T00:00:00\",\"2016-01-01T00:00:00\",\"2016-02-01T00:00:00\",\"2016-03-01T00:00:00\",\"2016-04-01T00:00:00\",\"2016-05-01T00:00:00\",\"2016-06-01T00:00:00\",\"2016-07-01T00:00:00\",\"2016-08-01T00:00:00\",\"2016-09-01T00:00:00\",\"2016-10-01T00:00:00\",\"2016-11-01T00:00:00\",\"2016-12-01T00:00:00\",\"2017-01-01T00:00:00\",\"2017-02-01T00:00:00\",\"2017-03-01T00:00:00\",\"2017-04-01T00:00:00\",\"2017-05-01T00:00:00\",\"2017-06-01T00:00:00\",\"2017-07-01T00:00:00\",\"2017-08-01T00:00:00\",\"2017-09-01T00:00:00\",\"2017-10-01T00:00:00\",\"2017-11-01T00:00:00\",\"2017-12-01T00:00:00\",\"2018-01-01T00:00:00\",\"2018-02-01T00:00:00\",\"2018-03-01T00:00:00\",\"2018-04-01T00:00:00\",\"2018-05-01T00:00:00\",\"2018-06-01T00:00:00\",\"2018-07-01T00:00:00\",\"2018-08-01T00:00:00\",\"2018-09-01T00:00:00\",\"2018-10-01T00:00:00\",\"2018-11-01T00:00:00\",\"2018-12-01T00:00:00\",\"2019-01-01T00:00:00\",\"2019-02-01T00:00:00\",\"2019-03-01T00:00:00\",\"2019-04-01T00:00:00\",\"2019-05-01T00:00:00\",\"2019-06-01T00:00:00\",\"2019-07-01T00:00:00\",\"2019-08-01T00:00:00\",\"2019-09-01T00:00:00\",\"2019-10-01T00:00:00\",\"2019-11-01T00:00:00\",\"2019-12-01T00:00:00\",\"2020-01-01T00:00:00\",\"2020-02-01T00:00:00\",\"2020-03-01T00:00:00\",\"2020-04-01T00:00:00\",\"2020-05-01T00:00:00\",\"2020-06-01T00:00:00\",\"2020-07-01T00:00:00\",\"2020-08-01T00:00:00\",\"2020-09-01T00:00:00\",\"2020-10-01T00:00:00\",\"2020-11-01T00:00:00\",\"2020-12-01T00:00:00\",\"2021-01-01T00:00:00\",\"2021-02-01T00:00:00\",\"2021-03-01T00:00:00\",\"2021-04-01T00:00:00\",\"2021-05-01T00:00:00\"],\"xaxis\":\"x\",\"y\":[133261809.96463211,171509526.9242789,134536441.85525346,135127120.06036508,158779834.78846055,131628231.3782826,134924538.11067006,180528124.44100392,119909641.12802975,119578873.47649296,154007232.769617,131405608.57003117,133680568.10856634,168602382.62415415,136071149.10300428,159693142.4223979,144431296.87715414,140808945.3127303,155037872.69496813,179495373.85813704,118442744.24380654,159026519.4932686,139251046.39722118,131529718.80179615,160574755.68728185,149267044.704323,150094605.73835063,137136170.51527452,148066363.54494512,148124482.98810148,150508769.21068802,170351754.12773654,132587261.89807416,150012629.88993996,136357765.0423097,132743561.3941828,145730685.03348792,145779035.0774715,150933381.56685767,130194017.67374684,146904864.34439194,149571991.90792018,149991120.31732097,196788898.50852165,138373939.84192765,152134397.97403336,150089270.96186623,171879740.00332308,132156449.11339703,148685970.65992475,163942811.14492634,138420175.9805642,157833136.2577464,140694148.85275653,145910602.6239234,221859215.91239867,134177225.69590564,129863883.96597356,145340704.71514484,165381525.7294721,141275683.07466307,157625449.40472564,145324926.56729203,148894592.84745377,169184183.64816317,138828078.58138657,171308449.74179077,231278510.44615433,147342823.52613485,139770017.19886845,140275734.9290219,128027723.92627499,154299591.8318144,160223026.62544304,141554051.94483814,170279446.36589924,159803338.1864032,149441561.73172605,185239807.91635594,208441178.42786777,141784885.83101517,183227839.66710073,167060186.8745158,161339866.9371221],\"yaxis\":\"y\",\"type\":\"scatter\"}],                        {\"template\":{\"data\":{\"barpolar\":[{\"marker\":{\"line\":{\"color\":\"white\",\"width\":0.5},\"pattern\":{\"fillmode\":\"overlay\",\"size\":10,\"solidity\":0.2}},\"type\":\"barpolar\"}],\"bar\":[{\"error_x\":{\"color\":\"#2a3f5f\"},\"error_y\":{\"color\":\"#2a3f5f\"},\"marker\":{\"line\":{\"color\":\"white\",\"width\":0.5},\"pattern\":{\"fillmode\":\"overlay\",\"size\":10,\"solidity\":0.2}},\"type\":\"bar\"}],\"carpet\":[{\"aaxis\":{\"endlinecolor\":\"#2a3f5f\",\"gridcolor\":\"#C8D4E3\",\"linecolor\":\"#C8D4E3\",\"minorgridcolor\":\"#C8D4E3\",\"startlinecolor\":\"#2a3f5f\"},\"baxis\":{\"endlinecolor\":\"#2a3f5f\",\"gridcolor\":\"#C8D4E3\",\"linecolor\":\"#C8D4E3\",\"minorgridcolor\":\"#C8D4E3\",\"startlinecolor\":\"#2a3f5f\"},\"type\":\"carpet\"}],\"choropleth\":[{\"colorbar\":{\"outlinewidth\":0,\"ticks\":\"\"},\"type\":\"choropleth\"}],\"contourcarpet\":[{\"colorbar\":{\"outlinewidth\":0,\"ticks\":\"\"},\"type\":\"contourcarpet\"}],\"contour\":[{\"colorbar\":{\"outlinewidth\":0,\"ticks\":\"\"},\"colorscale\":[[0.0,\"#0d0887\"],[0.1111111111111111,\"#46039f\"],[0.2222222222222222,\"#7201a8\"],[0.3333333333333333,\"#9c179e\"],[0.4444444444444444,\"#bd3786\"],[0.5555555555555556,\"#d8576b\"],[0.6666666666666666,\"#ed7953\"],[0.7777777777777778,\"#fb9f3a\"],[0.8888888888888888,\"#fdca26\"],[1.0,\"#f0f921\"]],\"type\":\"contour\"}],\"heatmapgl\":[{\"colorbar\":{\"outlinewidth\":0,\"ticks\":\"\"},\"colorscale\":[[0.0,\"#0d0887\"],[0.1111111111111111,\"#46039f\"],[0.2222222222222222,\"#7201a8\"],[0.3333333333333333,\"#9c179e\"],[0.4444444444444444,\"#bd3786\"],[0.5555555555555556,\"#d8576b\"],[0.6666666666666666,\"#ed7953\"],[0.7777777777777778,\"#fb9f3a\"],[0.8888888888888888,\"#fdca26\"],[1.0,\"#f0f921\"]],\"type\":\"heatmapgl\"}],\"heatmap\":[{\"colorbar\":{\"outlinewidth\":0,\"ticks\":\"\"},\"colorscale\":[[0.0,\"#0d0887\"],[0.1111111111111111,\"#46039f\"],[0.2222222222222222,\"#7201a8\"],[0.3333333333333333,\"#9c179e\"],[0.4444444444444444,\"#bd3786\"],[0.5555555555555556,\"#d8576b\"],[0.6666666666666666,\"#ed7953\"],[0.7777777777777778,\"#fb9f3a\"],[0.8888888888888888,\"#fdca26\"],[1.0,\"#f0f921\"]],\"type\":\"heatmap\"}],\"histogram2dcontour\":[{\"colorbar\":{\"outlinewidth\":0,\"ticks\":\"\"},\"colorscale\":[[0.0,\"#0d0887\"],[0.1111111111111111,\"#46039f\"],[0.2222222222222222,\"#7201a8\"],[0.3333333333333333,\"#9c179e\"],[0.4444444444444444,\"#bd3786\"],[0.5555555555555556,\"#d8576b\"],[0.6666666666666666,\"#ed7953\"],[0.7777777777777778,\"#fb9f3a\"],[0.8888888888888888,\"#fdca26\"],[1.0,\"#f0f921\"]],\"type\":\"histogram2dcontour\"}],\"histogram2d\":[{\"colorbar\":{\"outlinewidth\":0,\"ticks\":\"\"},\"colorscale\":[[0.0,\"#0d0887\"],[0.1111111111111111,\"#46039f\"],[0.2222222222222222,\"#7201a8\"],[0.3333333333333333,\"#9c179e\"],[0.4444444444444444,\"#bd3786\"],[0.5555555555555556,\"#d8576b\"],[0.6666666666666666,\"#ed7953\"],[0.7777777777777778,\"#fb9f3a\"],[0.8888888888888888,\"#fdca26\"],[1.0,\"#f0f921\"]],\"type\":\"histogram2d\"}],\"histogram\":[{\"marker\":{\"pattern\":{\"fillmode\":\"overlay\",\"size\":10,\"solidity\":0.2}},\"type\":\"histogram\"}],\"mesh3d\":[{\"colorbar\":{\"outlinewidth\":0,\"ticks\":\"\"},\"type\":\"mesh3d\"}],\"parcoords\":[{\"line\":{\"colorbar\":{\"outlinewidth\":0,\"ticks\":\"\"}},\"type\":\"parcoords\"}],\"pie\":[{\"automargin\":true,\"type\":\"pie\"}],\"scatter3d\":[{\"line\":{\"colorbar\":{\"outlinewidth\":0,\"ticks\":\"\"}},\"marker\":{\"colorbar\":{\"outlinewidth\":0,\"ticks\":\"\"}},\"type\":\"scatter3d\"}],\"scattercarpet\":[{\"marker\":{\"colorbar\":{\"outlinewidth\":0,\"ticks\":\"\"}},\"type\":\"scattercarpet\"}],\"scattergeo\":[{\"marker\":{\"colorbar\":{\"outlinewidth\":0,\"ticks\":\"\"}},\"type\":\"scattergeo\"}],\"scattergl\":[{\"marker\":{\"colorbar\":{\"outlinewidth\":0,\"ticks\":\"\"}},\"type\":\"scattergl\"}],\"scattermapbox\":[{\"marker\":{\"colorbar\":{\"outlinewidth\":0,\"ticks\":\"\"}},\"type\":\"scattermapbox\"}],\"scatterpolargl\":[{\"marker\":{\"colorbar\":{\"outlinewidth\":0,\"ticks\":\"\"}},\"type\":\"scatterpolargl\"}],\"scatterpolar\":[{\"marker\":{\"colorbar\":{\"outlinewidth\":0,\"ticks\":\"\"}},\"type\":\"scatterpolar\"}],\"scatter\":[{\"fillpattern\":{\"fillmode\":\"overlay\",\"size\":10,\"solidity\":0.2},\"type\":\"scatter\"}],\"scatterternary\":[{\"marker\":{\"colorbar\":{\"outlinewidth\":0,\"ticks\":\"\"}},\"type\":\"scatterternary\"}],\"surface\":[{\"colorbar\":{\"outlinewidth\":0,\"ticks\":\"\"},\"colorscale\":[[0.0,\"#0d0887\"],[0.1111111111111111,\"#46039f\"],[0.2222222222222222,\"#7201a8\"],[0.3333333333333333,\"#9c179e\"],[0.4444444444444444,\"#bd3786\"],[0.5555555555555556,\"#d8576b\"],[0.6666666666666666,\"#ed7953\"],[0.7777777777777778,\"#fb9f3a\"],[0.8888888888888888,\"#fdca26\"],[1.0,\"#f0f921\"]],\"type\":\"surface\"}],\"table\":[{\"cells\":{\"fill\":{\"color\":\"#EBF0F8\"},\"line\":{\"color\":\"white\"}},\"header\":{\"fill\":{\"color\":\"#C8D4E3\"},\"line\":{\"color\":\"white\"}},\"type\":\"table\"}]},\"layout\":{\"annotationdefaults\":{\"arrowcolor\":\"#2a3f5f\",\"arrowhead\":0,\"arrowwidth\":1},\"autotypenumbers\":\"strict\",\"coloraxis\":{\"colorbar\":{\"outlinewidth\":0,\"ticks\":\"\"}},\"colorscale\":{\"diverging\":[[0,\"#8e0152\"],[0.1,\"#c51b7d\"],[0.2,\"#de77ae\"],[0.3,\"#f1b6da\"],[0.4,\"#fde0ef\"],[0.5,\"#f7f7f7\"],[0.6,\"#e6f5d0\"],[0.7,\"#b8e186\"],[0.8,\"#7fbc41\"],[0.9,\"#4d9221\"],[1,\"#276419\"]],\"sequential\":[[0.0,\"#0d0887\"],[0.1111111111111111,\"#46039f\"],[0.2222222222222222,\"#7201a8\"],[0.3333333333333333,\"#9c179e\"],[0.4444444444444444,\"#bd3786\"],[0.5555555555555556,\"#d8576b\"],[0.6666666666666666,\"#ed7953\"],[0.7777777777777778,\"#fb9f3a\"],[0.8888888888888888,\"#fdca26\"],[1.0,\"#f0f921\"]],\"sequentialminus\":[[0.0,\"#0d0887\"],[0.1111111111111111,\"#46039f\"],[0.2222222222222222,\"#7201a8\"],[0.3333333333333333,\"#9c179e\"],[0.4444444444444444,\"#bd3786\"],[0.5555555555555556,\"#d8576b\"],[0.6666666666666666,\"#ed7953\"],[0.7777777777777778,\"#fb9f3a\"],[0.8888888888888888,\"#fdca26\"],[1.0,\"#f0f921\"]]},\"colorway\":[\"#636efa\",\"#EF553B\",\"#00cc96\",\"#ab63fa\",\"#FFA15A\",\"#19d3f3\",\"#FF6692\",\"#B6E880\",\"#FF97FF\",\"#FECB52\"],\"font\":{\"color\":\"#2a3f5f\"},\"geo\":{\"bgcolor\":\"white\",\"lakecolor\":\"white\",\"landcolor\":\"white\",\"showlakes\":true,\"showland\":true,\"subunitcolor\":\"#C8D4E3\"},\"hoverlabel\":{\"align\":\"left\"},\"hovermode\":\"closest\",\"mapbox\":{\"style\":\"light\"},\"paper_bgcolor\":\"white\",\"plot_bgcolor\":\"white\",\"polar\":{\"angularaxis\":{\"gridcolor\":\"#EBF0F8\",\"linecolor\":\"#EBF0F8\",\"ticks\":\"\"},\"bgcolor\":\"white\",\"radialaxis\":{\"gridcolor\":\"#EBF0F8\",\"linecolor\":\"#EBF0F8\",\"ticks\":\"\"}},\"scene\":{\"xaxis\":{\"backgroundcolor\":\"white\",\"gridcolor\":\"#DFE8F3\",\"gridwidth\":2,\"linecolor\":\"#EBF0F8\",\"showbackground\":true,\"ticks\":\"\",\"zerolinecolor\":\"#EBF0F8\"},\"yaxis\":{\"backgroundcolor\":\"white\",\"gridcolor\":\"#DFE8F3\",\"gridwidth\":2,\"linecolor\":\"#EBF0F8\",\"showbackground\":true,\"ticks\":\"\",\"zerolinecolor\":\"#EBF0F8\"},\"zaxis\":{\"backgroundcolor\":\"white\",\"gridcolor\":\"#DFE8F3\",\"gridwidth\":2,\"linecolor\":\"#EBF0F8\",\"showbackground\":true,\"ticks\":\"\",\"zerolinecolor\":\"#EBF0F8\"}},\"shapedefaults\":{\"line\":{\"color\":\"#2a3f5f\"}},\"ternary\":{\"aaxis\":{\"gridcolor\":\"#DFE8F3\",\"linecolor\":\"#A2B1C6\",\"ticks\":\"\"},\"baxis\":{\"gridcolor\":\"#DFE8F3\",\"linecolor\":\"#A2B1C6\",\"ticks\":\"\"},\"bgcolor\":\"white\",\"caxis\":{\"gridcolor\":\"#DFE8F3\",\"linecolor\":\"#A2B1C6\",\"ticks\":\"\"}},\"title\":{\"x\":0.05},\"xaxis\":{\"automargin\":true,\"gridcolor\":\"#EBF0F8\",\"linecolor\":\"#EBF0F8\",\"ticks\":\"\",\"title\":{\"standoff\":15},\"zerolinecolor\":\"#EBF0F8\",\"zerolinewidth\":2},\"yaxis\":{\"automargin\":true,\"gridcolor\":\"#EBF0F8\",\"linecolor\":\"#EBF0F8\",\"ticks\":\"\",\"title\":{\"standoff\":15},\"zerolinecolor\":\"#EBF0F8\",\"zerolinewidth\":2}}},\"xaxis\":{\"anchor\":\"y\",\"domain\":[0.0,1.0],\"title\":{\"text\":\"Date\"}},\"yaxis\":{\"anchor\":\"x\",\"domain\":[0.0,1.0],\"title\":{\"text\":\"value\"}},\"legend\":{\"title\":{\"text\":\"variable\"},\"tracegroupgap\":0},\"margin\":{\"t\":60}},                        {\"responsive\": true}                    ).then(function(){\n                            \nvar gd = document.getElementById('9afd08ef-f235-406d-8f85-063f7279b310');\nvar x = new MutationObserver(function (mutations, observer) {{\n        var display = window.getComputedStyle(gd).display;\n        if (!display || display === 'none') {{\n            console.log([gd, 'removed!']);\n            Plotly.purge(gd);\n            observer.disconnect();\n        }}\n}});\n\n// Listen for the removal of the full notebook cells\nvar notebookContainer = gd.closest('#notebook-container');\nif (notebookContainer) {{\n    x.observe(notebookContainer, {childList: true});\n}}\n\n// Listen for the clearing of the current output cell\nvar outputEl = gd.closest('.output');\nif (outputEl) {{\n    x.observe(outputEl, {childList: true});\n}}\n\n                        })                };                });            </script>        </div>"
     },
     "metadata": {},
     "output_type": "display_data"
    }
   ],
   "source": [
    "# ------------------------------------------------------------------------------------- #\n",
    "# generate and plot predicted values on the original dataset\n",
    "# ------------------------------------------------------------------------------------- #\n",
    "\n",
    "predictions = predict_model(best, data=comb_df)\n",
    "predictions['Date'] = pd.date_range(start=str(train_start_dt), end = str(test_end_dt), freq = 'MS')\n",
    "predictions.rename(columns={'Label':target_col+' - ML Predicted'}, inplace=True)\n",
    "fig = px.line(predictions, x='Date', y=[target_col, target_col+' - ML Predicted'], template = 'plotly_white')\n",
    "fig.show()\n",
    "\n",
    "# ------------------------------------------------------------------------------------- #\n",
    "# This section now applies the trained/tested model to make future predictions\n",
    "# ------------------------------------------------------------------------------------- #"
   ],
   "metadata": {
    "collapsed": false,
    "pycharm": {
     "name": "#%%\n"
    }
   }
  },
  {
   "cell_type": "code",
   "execution_count": 30,
   "outputs": [],
   "source": [
    "act_df = all_df[all_df['Calendar Date'].astype(int) >= int(pred_start_dt)]\n",
    "act_df = act_df[['Calendar Date', target_col]]\n",
    "act_df['Calendar Date'] = pd.to_datetime(act_df['Calendar Date'])"
   ],
   "metadata": {
    "collapsed": false,
    "pycharm": {
     "name": "#%%\n"
    }
   }
  },
  {
   "cell_type": "code",
   "execution_count": 31,
   "metadata": {},
   "outputs": [
    {
     "name": "stdout",
     "output_type": "stream",
     "text": [
      "############################  Running Auto ARIMA for Total Flex Blended Products Revenue/Phoenix RSC/Sales - RW   ############################\n",
      "Performing stepwise search to minimize aic\n",
      " ARIMA(1,1,1)(0,1,1)[12]             : AIC=876.170, Time=0.56 sec\n",
      " ARIMA(0,1,0)(0,1,0)[12]             : AIC=925.889, Time=0.01 sec\n",
      " ARIMA(1,1,0)(1,1,0)[12]             : AIC=895.167, Time=0.23 sec\n",
      " ARIMA(0,1,1)(0,1,1)[12]             : AIC=875.036, Time=0.31 sec\n",
      " ARIMA(0,1,1)(0,1,0)[12]             : AIC=886.854, Time=0.03 sec\n",
      " ARIMA(0,1,1)(1,1,1)[12]             : AIC=inf, Time=0.39 sec\n",
      " ARIMA(0,1,1)(0,1,2)[12]             : AIC=inf, Time=1.17 sec\n",
      " ARIMA(0,1,1)(1,1,0)[12]             : AIC=inf, Time=0.13 sec\n",
      " ARIMA(0,1,1)(1,1,2)[12]             : AIC=inf, Time=1.04 sec\n",
      " ARIMA(0,1,0)(0,1,1)[12]             : AIC=920.171, Time=0.10 sec\n",
      " ARIMA(0,1,2)(0,1,1)[12]             : AIC=876.275, Time=0.43 sec\n",
      " ARIMA(1,1,0)(0,1,1)[12]             : AIC=892.699, Time=0.13 sec\n",
      " ARIMA(1,1,2)(0,1,1)[12]             : AIC=878.113, Time=0.39 sec\n",
      " ARIMA(0,1,1)(0,1,1)[12] intercept   : AIC=inf, Time=0.53 sec\n",
      "\n",
      "Best model:  ARIMA(0,1,1)(0,1,1)[12]          \n",
      "Total fit time: 5.464 seconds\n",
      "############################  End Auto ARIMA for Total Flex Blended Products Revenue/Phoenix RSC/Sales - RW   ############################\n",
      "\n",
      "\n",
      "############################  Running Auto ARIMA for PR PRODUCT/1506 SP BOP PARTNER/Losses - RW   ############################\n",
      "Performing stepwise search to minimize aic\n",
      " ARIMA(1,1,1)(0,1,1)[12]             : AIC=618.890, Time=0.19 sec\n",
      " ARIMA(0,1,0)(0,1,0)[12]             : AIC=677.389, Time=0.01 sec\n",
      " ARIMA(1,1,0)(1,1,0)[12]             : AIC=638.994, Time=0.05 sec\n",
      " ARIMA(0,1,1)(0,1,1)[12]             : AIC=619.800, Time=0.15 sec\n",
      " ARIMA(1,1,1)(0,1,0)[12]             : AIC=622.104, Time=0.05 sec\n",
      " ARIMA(1,1,1)(1,1,1)[12]             : AIC=620.030, Time=0.59 sec\n",
      " ARIMA(1,1,1)(0,1,2)[12]             : AIC=620.846, Time=0.46 sec\n",
      " ARIMA(1,1,1)(1,1,0)[12]             : AIC=618.661, Time=0.14 sec\n",
      " ARIMA(1,1,1)(2,1,0)[12]             : AIC=620.613, Time=0.46 sec\n",
      " ARIMA(1,1,1)(2,1,1)[12]             : AIC=622.569, Time=1.01 sec\n",
      " ARIMA(0,1,1)(1,1,0)[12]             : AIC=620.355, Time=0.11 sec\n",
      " ARIMA(2,1,1)(1,1,0)[12]             : AIC=620.654, Time=0.27 sec\n",
      " ARIMA(1,1,2)(1,1,0)[12]             : AIC=620.659, Time=0.19 sec\n",
      " ARIMA(0,1,0)(1,1,0)[12]             : AIC=671.308, Time=0.05 sec\n",
      " ARIMA(0,1,2)(1,1,0)[12]             : AIC=619.171, Time=0.13 sec\n",
      " ARIMA(2,1,0)(1,1,0)[12]             : AIC=624.488, Time=0.10 sec\n",
      " ARIMA(2,1,2)(1,1,0)[12]             : AIC=620.953, Time=0.35 sec\n",
      " ARIMA(1,1,1)(1,1,0)[12] intercept   : AIC=inf, Time=0.72 sec\n",
      "\n",
      "Best model:  ARIMA(1,1,1)(1,1,0)[12]          \n",
      "Total fit time: 5.029 seconds\n",
      "############################  End Auto ARIMA for PR PRODUCT/1506 SP BOP PARTNER/Losses - RW   ############################\n",
      "\n",
      "\n",
      "############################  Running Auto ARIMA for Product NA/6000 CORP OFFICE/# of Weeks - RW   ############################\n",
      "Performing stepwise search to minimize aic\n",
      " ARIMA(1,1,1)(0,1,1)[12]             : AIC=inf, Time=0.31 sec\n",
      " ARIMA(0,1,0)(0,1,0)[12]             : AIC=198.304, Time=0.01 sec\n",
      " ARIMA(1,1,0)(1,1,0)[12]             : AIC=161.034, Time=0.06 sec\n",
      " ARIMA(0,1,1)(0,1,1)[12]             : AIC=inf, Time=0.52 sec\n",
      " ARIMA(1,1,0)(0,1,0)[12]             : AIC=160.834, Time=0.02 sec\n",
      " ARIMA(1,1,0)(0,1,1)[12]             : AIC=inf, Time=0.36 sec\n",
      " ARIMA(1,1,0)(1,1,1)[12]             : AIC=inf, Time=0.48 sec\n",
      " ARIMA(2,1,0)(0,1,0)[12]             : AIC=134.379, Time=0.02 sec\n",
      " ARIMA(2,1,0)(1,1,0)[12]             : AIC=128.273, Time=0.09 sec\n",
      " ARIMA(2,1,0)(2,1,0)[12]             : AIC=127.591, Time=0.29 sec\n",
      " ARIMA(2,1,0)(2,1,1)[12]             : AIC=inf, Time=2.00 sec\n",
      " ARIMA(2,1,0)(1,1,1)[12]             : AIC=inf, Time=0.68 sec\n",
      " ARIMA(1,1,0)(2,1,0)[12]             : AIC=159.606, Time=0.18 sec\n",
      " ARIMA(3,1,0)(2,1,0)[12]             : AIC=125.345, Time=0.37 sec\n",
      " ARIMA(3,1,0)(1,1,0)[12]             : AIC=125.898, Time=0.13 sec\n",
      " ARIMA(3,1,0)(2,1,1)[12]             : AIC=inf, Time=1.93 sec\n",
      " ARIMA(3,1,0)(1,1,1)[12]             : AIC=inf, Time=0.72 sec\n",
      " ARIMA(4,1,0)(2,1,0)[12]             : AIC=120.759, Time=0.41 sec\n",
      " ARIMA(4,1,0)(1,1,0)[12]             : AIC=120.409, Time=0.15 sec\n",
      " ARIMA(4,1,0)(0,1,0)[12]             : AIC=124.285, Time=0.04 sec\n",
      " ARIMA(4,1,0)(1,1,1)[12]             : AIC=inf, Time=1.14 sec\n",
      " ARIMA(4,1,0)(0,1,1)[12]             : AIC=inf, Time=0.41 sec\n",
      " ARIMA(4,1,0)(2,1,1)[12]             : AIC=inf, Time=1.77 sec\n",
      " ARIMA(5,1,0)(1,1,0)[12]             : AIC=102.229, Time=0.20 sec\n",
      " ARIMA(5,1,0)(0,1,0)[12]             : AIC=104.280, Time=0.07 sec\n",
      " ARIMA(5,1,0)(2,1,0)[12]             : AIC=101.481, Time=0.61 sec\n",
      " ARIMA(5,1,0)(2,1,1)[12]             : AIC=inf, Time=2.09 sec\n",
      " ARIMA(5,1,0)(1,1,1)[12]             : AIC=inf, Time=1.26 sec\n",
      " ARIMA(5,1,1)(2,1,0)[12]             : AIC=inf, Time=3.01 sec\n",
      " ARIMA(4,1,1)(2,1,0)[12]             : AIC=inf, Time=2.51 sec\n",
      " ARIMA(5,1,0)(2,1,0)[12] intercept   : AIC=103.480, Time=1.26 sec\n",
      "\n",
      "Best model:  ARIMA(5,1,0)(2,1,0)[12]          \n",
      "Total fit time: 23.120 seconds\n",
      "############################  End Auto ARIMA for Product NA/6000 CORP OFFICE/# of Weeks - RW   ############################\n",
      "\n",
      "\n",
      "############################  Running Auto ARIMA for Total Preview Blended Products Revenue/0456 TWIN CITIES MMS/Net Client Gain - RW   ############################\n",
      "Performing stepwise search to minimize aic\n",
      " ARIMA(1,1,1)(0,1,1)[12]             : AIC=538.727, Time=0.19 sec\n",
      " ARIMA(0,1,0)(0,1,0)[12]             : AIC=601.199, Time=0.01 sec\n",
      " ARIMA(1,1,0)(1,1,0)[12]             : AIC=572.343, Time=0.06 sec\n",
      " ARIMA(0,1,1)(0,1,1)[12]             : AIC=538.573, Time=0.12 sec\n",
      " ARIMA(0,1,1)(0,1,0)[12]             : AIC=550.450, Time=0.02 sec\n",
      " ARIMA(0,1,1)(1,1,1)[12]             : AIC=540.565, Time=0.19 sec\n",
      " ARIMA(0,1,1)(0,1,2)[12]             : AIC=540.569, Time=0.36 sec\n",
      " ARIMA(0,1,1)(1,1,0)[12]             : AIC=540.324, Time=0.08 sec\n",
      " ARIMA(0,1,1)(1,1,2)[12]             : AIC=542.391, Time=0.65 sec\n",
      " ARIMA(0,1,0)(0,1,1)[12]             : AIC=584.154, Time=0.06 sec\n",
      " ARIMA(0,1,2)(0,1,1)[12]             : AIC=537.511, Time=0.17 sec\n",
      " ARIMA(0,1,2)(0,1,0)[12]             : AIC=549.021, Time=0.05 sec\n",
      " ARIMA(0,1,2)(1,1,1)[12]             : AIC=539.504, Time=0.33 sec\n",
      " ARIMA(0,1,2)(0,1,2)[12]             : AIC=539.507, Time=0.51 sec\n",
      " ARIMA(0,1,2)(1,1,0)[12]             : AIC=538.875, Time=0.12 sec\n",
      " ARIMA(0,1,2)(1,1,2)[12]             : AIC=541.339, Time=0.80 sec\n",
      " ARIMA(1,1,2)(0,1,1)[12]             : AIC=541.665, Time=0.52 sec\n",
      " ARIMA(0,1,3)(0,1,1)[12]             : AIC=537.294, Time=0.33 sec\n",
      " ARIMA(0,1,3)(0,1,0)[12]             : AIC=549.458, Time=0.07 sec\n",
      " ARIMA(0,1,3)(1,1,1)[12]             : AIC=539.275, Time=0.32 sec\n",
      " ARIMA(0,1,3)(0,1,2)[12]             : AIC=539.286, Time=0.61 sec\n",
      " ARIMA(0,1,3)(1,1,0)[12]             : AIC=538.003, Time=0.14 sec\n",
      " ARIMA(0,1,3)(1,1,2)[12]             : AIC=540.598, Time=1.14 sec\n",
      " ARIMA(1,1,3)(0,1,1)[12]             : AIC=537.040, Time=0.23 sec\n",
      " ARIMA(1,1,3)(0,1,0)[12]             : AIC=547.321, Time=0.08 sec\n",
      " ARIMA(1,1,3)(1,1,1)[12]             : AIC=538.610, Time=0.42 sec\n",
      " ARIMA(1,1,3)(0,1,2)[12]             : AIC=538.928, Time=0.81 sec\n",
      " ARIMA(1,1,3)(1,1,0)[12]             : AIC=536.618, Time=0.25 sec\n",
      " ARIMA(1,1,3)(2,1,0)[12]             : AIC=538.615, Time=0.61 sec\n",
      " ARIMA(1,1,3)(2,1,1)[12]             : AIC=540.534, Time=1.11 sec\n",
      " ARIMA(1,1,2)(1,1,0)[12]             : AIC=542.353, Time=0.39 sec\n",
      " ARIMA(2,1,3)(1,1,0)[12]             : AIC=537.287, Time=0.56 sec\n",
      " ARIMA(1,1,4)(1,1,0)[12]             : AIC=537.753, Time=0.31 sec\n",
      " ARIMA(0,1,4)(1,1,0)[12]             : AIC=536.017, Time=0.18 sec\n",
      " ARIMA(0,1,4)(0,1,0)[12]             : AIC=549.589, Time=0.12 sec\n",
      " ARIMA(0,1,4)(2,1,0)[12]             : AIC=538.008, Time=0.61 sec\n",
      " ARIMA(0,1,4)(1,1,1)[12]             : AIC=537.998, Time=0.50 sec\n",
      " ARIMA(0,1,4)(0,1,1)[12]             : AIC=537.167, Time=0.31 sec\n",
      " ARIMA(0,1,4)(2,1,1)[12]             : AIC=539.911, Time=0.99 sec\n",
      " ARIMA(0,1,5)(1,1,0)[12]             : AIC=537.606, Time=0.24 sec\n",
      " ARIMA(1,1,5)(1,1,0)[12]             : AIC=inf, Time=0.79 sec\n",
      " ARIMA(0,1,4)(1,1,0)[12] intercept   : AIC=inf, Time=0.58 sec\n",
      "\n",
      "Best model:  ARIMA(0,1,4)(1,1,0)[12]          \n",
      "Total fit time: 15.954 seconds\n",
      "############################  End Auto ARIMA for Total Preview Blended Products Revenue/0456 TWIN CITIES MMS/Net Client Gain - RW   ############################\n",
      "\n",
      "\n",
      "############################  Running Auto ARIMA for Total Flex Blended Products Revenue/0922 DSC Central/Net Client Gain - RW   ############################\n",
      "Performing stepwise search to minimize aic\n",
      " ARIMA(1,1,1)(0,1,1)[12]             : AIC=1435.842, Time=0.14 sec\n",
      " ARIMA(0,1,0)(0,1,0)[12]             : AIC=1494.239, Time=0.01 sec\n",
      " ARIMA(1,1,0)(1,1,0)[12]             : AIC=1466.453, Time=0.06 sec\n",
      " ARIMA(0,1,1)(0,1,1)[12]             : AIC=inf, Time=0.21 sec\n",
      " ARIMA(1,1,1)(0,1,0)[12]             : AIC=inf, Time=0.08 sec\n",
      " ARIMA(1,1,1)(1,1,1)[12]             : AIC=1437.095, Time=0.22 sec\n",
      " ARIMA(1,1,1)(0,1,2)[12]             : AIC=1436.992, Time=0.40 sec\n",
      " ARIMA(1,1,1)(1,1,0)[12]             : AIC=inf, Time=0.25 sec\n",
      " ARIMA(1,1,1)(1,1,2)[12]             : AIC=1438.991, Time=0.65 sec\n",
      " ARIMA(1,1,0)(0,1,1)[12]             : AIC=1464.711, Time=0.07 sec\n",
      " ARIMA(2,1,1)(0,1,1)[12]             : AIC=1437.461, Time=0.17 sec\n",
      " ARIMA(1,1,2)(0,1,1)[12]             : AIC=1437.098, Time=0.22 sec\n",
      " ARIMA(0,1,0)(0,1,1)[12]             : AIC=1507.718, Time=0.05 sec\n",
      " ARIMA(0,1,2)(0,1,1)[12]             : AIC=inf, Time=0.33 sec\n",
      " ARIMA(2,1,0)(0,1,1)[12]             : AIC=1452.526, Time=0.09 sec\n",
      " ARIMA(2,1,2)(0,1,1)[12]             : AIC=1435.400, Time=0.72 sec\n",
      " ARIMA(2,1,2)(0,1,0)[12]             : AIC=1442.154, Time=0.15 sec\n",
      " ARIMA(2,1,2)(1,1,1)[12]             : AIC=1435.493, Time=0.80 sec\n",
      " ARIMA(2,1,2)(0,1,2)[12]             : AIC=1435.104, Time=1.80 sec\n",
      " ARIMA(2,1,2)(1,1,2)[12]             : AIC=1441.100, Time=1.33 sec\n",
      " ARIMA(1,1,2)(0,1,2)[12]             : AIC=1433.156, Time=1.24 sec\n",
      " ARIMA(1,1,2)(1,1,2)[12]             : AIC=1439.428, Time=0.79 sec\n",
      " ARIMA(1,1,2)(1,1,1)[12]             : AIC=1437.612, Time=0.34 sec\n",
      " ARIMA(0,1,2)(0,1,2)[12]             : AIC=1431.156, Time=1.05 sec\n",
      " ARIMA(0,1,2)(1,1,2)[12]             : AIC=1437.789, Time=0.55 sec\n",
      " ARIMA(0,1,2)(1,1,1)[12]             : AIC=1435.961, Time=0.22 sec\n",
      " ARIMA(0,1,1)(0,1,2)[12]             : AIC=inf, Time=0.69 sec\n",
      " ARIMA(0,1,3)(0,1,2)[12]             : AIC=1438.594, Time=0.54 sec\n",
      " ARIMA(1,1,3)(0,1,2)[12]             : AIC=inf, Time=2.16 sec\n",
      " ARIMA(0,1,2)(0,1,2)[12] intercept   : AIC=1431.331, Time=1.92 sec\n",
      "\n",
      "Best model:  ARIMA(0,1,2)(0,1,2)[12]          \n",
      "Total fit time: 17.273 seconds\n",
      "############################  End Auto ARIMA for Total Flex Blended Products Revenue/0922 DSC Central/Net Client Gain - RW   ############################\n",
      "\n",
      "\n",
      "############################  Running Auto ARIMA for MHHNGSP   ############################\n",
      "Performing stepwise search to minimize aic\n",
      " ARIMA(1,1,1)(0,1,1)[12]             : AIC=134.475, Time=0.17 sec\n",
      " ARIMA(0,1,0)(0,1,0)[12]             : AIC=149.854, Time=0.01 sec\n",
      " ARIMA(1,1,0)(1,1,0)[12]             : AIC=137.919, Time=0.06 sec\n",
      " ARIMA(0,1,1)(0,1,1)[12]             : AIC=132.489, Time=0.12 sec\n",
      " ARIMA(0,1,1)(0,1,0)[12]             : AIC=137.488, Time=0.02 sec\n",
      " ARIMA(0,1,1)(1,1,1)[12]             : AIC=135.601, Time=0.13 sec\n",
      " ARIMA(0,1,1)(0,1,2)[12]             : AIC=134.235, Time=0.34 sec\n",
      " ARIMA(0,1,1)(1,1,0)[12]             : AIC=133.936, Time=0.06 sec\n",
      " ARIMA(0,1,1)(1,1,2)[12]             : AIC=136.091, Time=0.75 sec\n",
      " ARIMA(0,1,0)(0,1,1)[12]             : AIC=145.896, Time=0.07 sec\n",
      " ARIMA(0,1,2)(0,1,1)[12]             : AIC=134.469, Time=0.15 sec\n",
      " ARIMA(1,1,0)(0,1,1)[12]             : AIC=136.673, Time=0.09 sec\n",
      " ARIMA(1,1,2)(0,1,1)[12]             : AIC=136.485, Time=0.52 sec\n",
      " ARIMA(0,1,1)(0,1,1)[12] intercept   : AIC=133.182, Time=0.24 sec\n",
      "\n",
      "Best model:  ARIMA(0,1,1)(0,1,1)[12]          \n",
      "Total fit time: 2.728 seconds\n",
      "############################  End Auto ARIMA for MHHNGSP   ############################\n",
      "\n",
      "\n",
      "############################  Running Auto ARIMA for Total Advantage Blended Products Revenue/ADVANTAGE/PACE/Net Client Gain - RW   ############################\n",
      "Performing stepwise search to minimize aic\n",
      " ARIMA(1,1,1)(0,1,1)[12]             : AIC=inf, Time=0.56 sec\n",
      " ARIMA(0,1,0)(0,1,0)[12]             : AIC=1141.325, Time=0.01 sec\n",
      " ARIMA(1,1,0)(1,1,0)[12]             : AIC=1127.887, Time=0.15 sec\n",
      " ARIMA(0,1,1)(0,1,1)[12]             : AIC=inf, Time=0.35 sec\n",
      " ARIMA(1,1,0)(0,1,0)[12]             : AIC=1143.132, Time=0.01 sec\n",
      " ARIMA(1,1,0)(2,1,0)[12]             : AIC=1116.906, Time=0.51 sec\n",
      " ARIMA(1,1,0)(2,1,1)[12]             : AIC=inf, Time=1.32 sec\n",
      " ARIMA(1,1,0)(1,1,1)[12]             : AIC=inf, Time=0.40 sec\n",
      " ARIMA(0,1,0)(2,1,0)[12]             : AIC=1114.994, Time=0.36 sec\n",
      " ARIMA(0,1,0)(1,1,0)[12]             : AIC=1125.990, Time=0.09 sec\n",
      " ARIMA(0,1,0)(2,1,1)[12]             : AIC=inf, Time=0.60 sec\n",
      " ARIMA(0,1,0)(1,1,1)[12]             : AIC=inf, Time=0.15 sec\n",
      " ARIMA(0,1,1)(2,1,0)[12]             : AIC=1116.618, Time=0.49 sec\n",
      " ARIMA(1,1,1)(2,1,0)[12]             : AIC=1107.419, Time=1.16 sec\n",
      " ARIMA(1,1,1)(1,1,0)[12]             : AIC=inf, Time=0.34 sec\n",
      " ARIMA(1,1,1)(2,1,1)[12]             : AIC=inf, Time=2.02 sec\n",
      " ARIMA(1,1,1)(1,1,1)[12]             : AIC=inf, Time=0.85 sec\n",
      " ARIMA(2,1,1)(2,1,0)[12]             : AIC=1102.296, Time=2.08 sec\n",
      " ARIMA(2,1,1)(1,1,0)[12]             : AIC=inf, Time=0.49 sec\n",
      " ARIMA(2,1,1)(2,1,1)[12]             : AIC=inf, Time=2.28 sec\n",
      " ARIMA(2,1,1)(1,1,1)[12]             : AIC=inf, Time=0.83 sec\n",
      " ARIMA(2,1,0)(2,1,0)[12]             : AIC=1107.043, Time=0.73 sec\n",
      " ARIMA(3,1,1)(2,1,0)[12]             : AIC=1102.753, Time=2.51 sec\n",
      " ARIMA(2,1,2)(2,1,0)[12]             : AIC=1102.535, Time=1.48 sec\n",
      " ARIMA(1,1,2)(2,1,0)[12]             : AIC=1100.758, Time=1.39 sec\n",
      " ARIMA(1,1,2)(1,1,0)[12]             : AIC=inf, Time=0.32 sec\n",
      " ARIMA(1,1,2)(2,1,1)[12]             : AIC=inf, Time=1.94 sec\n",
      " ARIMA(1,1,2)(1,1,1)[12]             : AIC=inf, Time=0.81 sec\n",
      " ARIMA(0,1,2)(2,1,0)[12]             : AIC=inf, Time=0.66 sec\n",
      " ARIMA(1,1,3)(2,1,0)[12]             : AIC=inf, Time=1.94 sec\n",
      " ARIMA(0,1,3)(2,1,0)[12]             : AIC=1100.512, Time=0.97 sec\n",
      " ARIMA(0,1,3)(1,1,0)[12]             : AIC=inf, Time=0.51 sec\n",
      " ARIMA(0,1,3)(2,1,1)[12]             : AIC=inf, Time=1.69 sec\n",
      " ARIMA(0,1,3)(1,1,1)[12]             : AIC=inf, Time=1.28 sec\n",
      " ARIMA(0,1,4)(2,1,0)[12]             : AIC=inf, Time=1.57 sec\n",
      " ARIMA(1,1,4)(2,1,0)[12]             : AIC=inf, Time=1.59 sec\n",
      " ARIMA(0,1,3)(2,1,0)[12] intercept   : AIC=inf, Time=1.80 sec\n",
      "\n",
      "Best model:  ARIMA(0,1,3)(2,1,0)[12]          \n",
      "Total fit time: 36.261 seconds\n",
      "############################  End Auto ARIMA for Total Advantage Blended Products Revenue/ADVANTAGE/PACE/Net Client Gain - RW   ############################\n",
      "\n",
      "\n",
      "############################  Running Auto ARIMA for HOUST   ############################\n",
      "Performing stepwise search to minimize aic\n",
      " ARIMA(1,1,1)(0,1,1)[12]             : AIC=inf, Time=0.35 sec\n",
      " ARIMA(0,1,0)(0,1,0)[12]             : AIC=934.558, Time=0.01 sec\n",
      " ARIMA(1,1,0)(1,1,0)[12]             : AIC=918.112, Time=0.09 sec\n",
      " ARIMA(0,1,1)(0,1,1)[12]             : AIC=inf, Time=0.22 sec\n",
      " ARIMA(1,1,0)(0,1,0)[12]             : AIC=931.352, Time=0.02 sec\n",
      " ARIMA(1,1,0)(2,1,0)[12]             : AIC=910.951, Time=0.31 sec\n",
      " ARIMA(1,1,0)(2,1,1)[12]             : AIC=910.339, Time=0.65 sec\n",
      " ARIMA(1,1,0)(1,1,1)[12]             : AIC=909.933, Time=0.31 sec\n",
      " ARIMA(1,1,0)(0,1,1)[12]             : AIC=inf, Time=0.15 sec\n",
      " ARIMA(1,1,0)(1,1,2)[12]             : AIC=inf, Time=0.72 sec\n",
      " ARIMA(1,1,0)(0,1,2)[12]             : AIC=909.880, Time=0.50 sec\n",
      " ARIMA(0,1,0)(0,1,2)[12]             : AIC=913.446, Time=0.33 sec\n",
      " ARIMA(2,1,0)(0,1,2)[12]             : AIC=910.241, Time=0.66 sec\n",
      " ARIMA(1,1,1)(0,1,2)[12]             : AIC=inf, Time=0.79 sec\n",
      " ARIMA(0,1,1)(0,1,2)[12]             : AIC=906.205, Time=0.52 sec\n",
      " ARIMA(0,1,1)(1,1,2)[12]             : AIC=inf, Time=1.56 sec\n",
      " ARIMA(0,1,1)(1,1,1)[12]             : AIC=906.278, Time=0.58 sec\n",
      " ARIMA(0,1,2)(0,1,2)[12]             : AIC=903.019, Time=1.73 sec\n",
      " ARIMA(0,1,2)(0,1,1)[12]             : AIC=inf, Time=0.34 sec\n",
      " ARIMA(0,1,2)(1,1,2)[12]             : AIC=inf, Time=1.27 sec\n",
      " ARIMA(0,1,2)(1,1,1)[12]             : AIC=903.120, Time=0.70 sec\n",
      " ARIMA(1,1,2)(0,1,2)[12]             : AIC=903.458, Time=1.80 sec\n",
      " ARIMA(0,1,3)(0,1,2)[12]             : AIC=inf, Time=0.93 sec\n",
      " ARIMA(1,1,3)(0,1,2)[12]             : AIC=inf, Time=1.96 sec\n",
      " ARIMA(0,1,2)(0,1,2)[12] intercept   : AIC=904.522, Time=2.82 sec\n",
      "\n",
      "Best model:  ARIMA(0,1,2)(0,1,2)[12]          \n",
      "Total fit time: 19.327 seconds\n",
      "############################  End Auto ARIMA for HOUST   ############################\n",
      "\n",
      "\n",
      "############################  Running Auto ARIMA for PR PRODUCT/1502 SP ETAP/Net Client Gain - RW   ############################\n",
      "Performing stepwise search to minimize aic\n",
      " ARIMA(1,1,1)(0,1,1)[12]             : AIC=inf, Time=0.30 sec\n",
      " ARIMA(0,1,0)(0,1,0)[12]             : AIC=1045.171, Time=0.01 sec\n",
      " ARIMA(1,1,0)(1,1,0)[12]             : AIC=1033.839, Time=0.26 sec\n",
      " ARIMA(0,1,1)(0,1,1)[12]             : AIC=inf, Time=0.23 sec\n",
      " ARIMA(1,1,0)(0,1,0)[12]             : AIC=1041.299, Time=0.04 sec\n",
      " ARIMA(1,1,0)(2,1,0)[12]             : AIC=1035.825, Time=0.44 sec\n",
      " ARIMA(1,1,0)(1,1,1)[12]             : AIC=1035.829, Time=0.29 sec\n",
      " ARIMA(1,1,0)(0,1,1)[12]             : AIC=1036.007, Time=0.18 sec\n",
      " ARIMA(1,1,0)(2,1,1)[12]             : AIC=inf, Time=1.13 sec\n",
      " ARIMA(0,1,0)(1,1,0)[12]             : AIC=1037.911, Time=0.09 sec\n",
      " ARIMA(2,1,0)(1,1,0)[12]             : AIC=1032.085, Time=0.30 sec\n",
      " ARIMA(2,1,0)(0,1,0)[12]             : AIC=1036.744, Time=0.09 sec\n",
      " ARIMA(2,1,0)(2,1,0)[12]             : AIC=1033.977, Time=0.48 sec\n",
      " ARIMA(2,1,0)(1,1,1)[12]             : AIC=inf, Time=0.40 sec\n",
      " ARIMA(2,1,0)(0,1,1)[12]             : AIC=1032.794, Time=0.21 sec\n",
      " ARIMA(2,1,0)(2,1,1)[12]             : AIC=inf, Time=1.25 sec\n",
      " ARIMA(3,1,0)(1,1,0)[12]             : AIC=1033.423, Time=0.41 sec\n",
      " ARIMA(2,1,1)(1,1,0)[12]             : AIC=inf, Time=0.50 sec\n",
      " ARIMA(1,1,1)(1,1,0)[12]             : AIC=inf, Time=0.24 sec\n",
      " ARIMA(3,1,1)(1,1,0)[12]             : AIC=inf, Time=0.44 sec\n",
      " ARIMA(2,1,0)(1,1,0)[12] intercept   : AIC=1032.915, Time=0.71 sec\n",
      "\n",
      "Best model:  ARIMA(2,1,0)(1,1,0)[12]          \n",
      "Total fit time: 8.005 seconds\n",
      "############################  End Auto ARIMA for PR PRODUCT/1502 SP ETAP/Net Client Gain - RW   ############################\n",
      "\n",
      "\n",
      "############################  Running Auto ARIMA for REPORTS 100/1501 SP Direct GB/SurePayroll Revenue Share   ############################\n",
      "Performing stepwise search to minimize aic\n",
      " ARIMA(1,1,1)(0,1,1)[12]             : AIC=1249.809, Time=0.50 sec\n",
      " ARIMA(0,1,0)(0,1,0)[12]             : AIC=1278.448, Time=0.01 sec\n",
      " ARIMA(1,1,0)(1,1,0)[12]             : AIC=1253.095, Time=0.17 sec\n",
      " ARIMA(0,1,1)(0,1,1)[12]             : AIC=1247.829, Time=0.23 sec\n",
      " ARIMA(0,1,1)(0,1,0)[12]             : AIC=1266.412, Time=0.02 sec\n",
      " ARIMA(0,1,1)(1,1,1)[12]             : AIC=1249.671, Time=0.29 sec\n",
      " ARIMA(0,1,1)(0,1,2)[12]             : AIC=1249.686, Time=0.62 sec\n",
      " ARIMA(0,1,1)(1,1,0)[12]             : AIC=1252.228, Time=0.16 sec\n",
      " ARIMA(0,1,1)(1,1,2)[12]             : AIC=1251.727, Time=1.63 sec\n",
      " ARIMA(0,1,0)(0,1,1)[12]             : AIC=1256.395, Time=0.11 sec\n",
      " ARIMA(0,1,2)(0,1,1)[12]             : AIC=1249.820, Time=0.29 sec\n",
      " ARIMA(1,1,0)(0,1,1)[12]             : AIC=1248.916, Time=0.20 sec\n",
      " ARIMA(1,1,2)(0,1,1)[12]             : AIC=inf, Time=0.68 sec\n",
      " ARIMA(0,1,1)(0,1,1)[12] intercept   : AIC=1249.712, Time=0.48 sec\n",
      "\n",
      "Best model:  ARIMA(0,1,1)(0,1,1)[12]          \n",
      "Total fit time: 5.393 seconds\n",
      "############################  End Auto ARIMA for REPORTS 100/1501 SP Direct GB/SurePayroll Revenue Share   ############################\n",
      "\n",
      "\n"
     ]
    }
   ],
   "source": [
    "# create the future predictions dataframe\n",
    "if has_actuals:\n",
    "    pred_df, _ = models.run_auto_arima(comb_df, feature_cols, pred_start_dt, forecast_window, ci=False)\n",
    "    final_best = finalize_model(best)\n",
    "    #future_dates = pd.date_range(start = pred_start_dt, end = pred_end_dt, freq = 'MS')\n",
    "    pred_df = predict_model(final_best, data=pred_df)\n",
    "    #pred_df = pred_df[['Calendar Date', 'Label']]\n",
    "    pred_df = pred_df.rename(columns={'Label':ml_col})[['Calendar Date', ml_col]]\n",
    "    concat_df = pd.merge(act_df, pred_df ,on='Calendar Date', how='inner')\n",
    "    \n",
    "    # get plan data\n",
    "    plan_df = dl.get_clean_data(train_start_dt, pred_end_dt, file_path, type='plan', level=level)\n",
    "    plan_df = plan_df[['Calendar Date', target_col]]\n",
    "    plan_df.rename(columns={target_col:plan_col}, inplace=True)\n",
    "    plan_df['Calendar Date'] = pd.to_datetime(plan_df['Calendar Date'])\n",
    "    concat_df = pd.merge(concat_df,plan_df, on='Calendar Date', how='inner')\n",
    "    \n",
    "    # get forecast data\n",
    "    fcst_df = dl.get_clean_data(train_start_dt, pred_end_dt, file_path,\n",
    "                                type='forecast',\n",
    "                                forecast_type=forecast_type,\n",
    "                                level=level)\n",
    "    fcst_df = fcst_df[['Calendar Date', target_col]]\n",
    "    fcst_df.rename(columns={target_col:fcst_col}, inplace=True)\n",
    "    fcst_df['Calendar Date'] = pd.to_datetime(fcst_df['Calendar Date'])\n",
    "    concat_df = pd.merge(concat_df,fcst_df, on='Calendar Date', how='inner')"
   ]
  },
  {
   "cell_type": "code",
   "execution_count": 32,
   "metadata": {},
   "outputs": [
    {
     "name": "stdout",
     "output_type": "stream",
     "text": [
      "############################  Running Auto ARIMA for Total Payroll Revenue.   ############################\n",
      "Performing stepwise search to minimize aic\n",
      " ARIMA(1,1,1)(0,1,1)[12]             : AIC=2592.607, Time=0.26 sec\n",
      " ARIMA(0,1,0)(0,1,0)[12]             : AIC=2620.949, Time=0.01 sec\n",
      " ARIMA(1,1,0)(1,1,0)[12]             : AIC=2599.710, Time=0.08 sec\n",
      " ARIMA(0,1,1)(0,1,1)[12]             : AIC=2591.230, Time=0.07 sec\n",
      " ARIMA(0,1,1)(0,1,0)[12]             : AIC=2601.867, Time=0.02 sec\n",
      " ARIMA(0,1,1)(1,1,1)[12]             : AIC=2590.121, Time=0.14 sec\n",
      " ARIMA(0,1,1)(1,1,0)[12]             : AIC=2596.571, Time=0.09 sec\n",
      " ARIMA(0,1,1)(2,1,1)[12]             : AIC=2590.557, Time=0.38 sec\n",
      " ARIMA(0,1,1)(1,1,2)[12]             : AIC=2591.151, Time=0.57 sec\n",
      " ARIMA(0,1,1)(0,1,2)[12]             : AIC=2589.152, Time=0.43 sec\n",
      " ARIMA(0,1,0)(0,1,2)[12]             : AIC=2610.714, Time=0.18 sec\n",
      " ARIMA(1,1,1)(0,1,2)[12]             : AIC=2590.372, Time=0.37 sec\n",
      " ARIMA(0,1,2)(0,1,2)[12]             : AIC=2590.313, Time=0.38 sec\n",
      " ARIMA(1,1,0)(0,1,2)[12]             : AIC=2592.356, Time=0.25 sec\n",
      " ARIMA(1,1,2)(0,1,2)[12]             : AIC=2592.366, Time=0.54 sec\n",
      " ARIMA(0,1,1)(0,1,2)[12] intercept   : AIC=2590.677, Time=0.37 sec\n",
      "\n",
      "Best model:  ARIMA(0,1,1)(0,1,2)[12]          \n",
      "Total fit time: 4.161 seconds\n",
      "############################  End Auto ARIMA for Total Payroll Revenue.   ############################\n",
      "\n",
      "\n"
     ]
    }
   ],
   "source": [
    "# run UTS\n",
    "uts_df = comb_df[['Calendar Date', target_col]]\n",
    "uts_df, uts_model = models.run_auto_arima(uts_df, [target_col], pred_start_dt, forecast_window, ci=True)\n",
    "uts_df.rename(columns={target_col:uts_col}, inplace=True)"
   ]
  },
  {
   "cell_type": "code",
   "execution_count": 33,
   "outputs": [],
   "source": [
    "with open(model_path + '/{}_uts_model.pkl'.format(target_col), 'wb') as pkl:\n",
    "    pickle.dump(uts_model, pkl)"
   ],
   "metadata": {
    "collapsed": false,
    "pycharm": {
     "name": "#%%\n"
    }
   }
  },
  {
   "cell_type": "code",
   "execution_count": 34,
   "outputs": [],
   "source": [
    "concat_df = pd.merge(concat_df,uts_df, on='Calendar Date', how='inner')"
   ],
   "metadata": {
    "collapsed": false,
    "pycharm": {
     "name": "#%%\n"
    }
   }
  },
  {
   "cell_type": "code",
   "execution_count": 35,
   "metadata": {},
   "outputs": [],
   "source": [
    "# combine all data together\n",
    "concat_df = pd.concat([comb_df[['Calendar Date', target_col]],concat_df], axis=0)"
   ]
  },
  {
   "cell_type": "code",
   "execution_count": 36,
   "outputs": [
    {
     "data": {
      "application/vnd.plotly.v1+json": {
       "data": [
        {
         "hovertemplate": "variable=Total Payroll Revenue.<br>Calendar Date=%{x}<br>value=%{y}<extra></extra>",
         "legendgroup": "Total Payroll Revenue.",
         "line": {
          "color": "#636efa",
          "dash": "solid"
         },
         "marker": {
          "symbol": "circle"
         },
         "mode": "lines",
         "name": "Total Payroll Revenue.",
         "orientation": "v",
         "showlegend": true,
         "x": [
          "2014-06-01T00:00:00",
          "2014-07-01T00:00:00",
          "2014-08-01T00:00:00",
          "2014-09-01T00:00:00",
          "2014-10-01T00:00:00",
          "2014-11-01T00:00:00",
          "2014-12-01T00:00:00",
          "2015-01-01T00:00:00",
          "2015-02-01T00:00:00",
          "2015-03-01T00:00:00",
          "2015-04-01T00:00:00",
          "2015-05-01T00:00:00",
          "2015-06-01T00:00:00",
          "2015-07-01T00:00:00",
          "2015-08-01T00:00:00",
          "2015-09-01T00:00:00",
          "2015-10-01T00:00:00",
          "2015-11-01T00:00:00",
          "2015-12-01T00:00:00",
          "2016-01-01T00:00:00",
          "2016-02-01T00:00:00",
          "2016-03-01T00:00:00",
          "2016-04-01T00:00:00",
          "2016-05-01T00:00:00",
          "2016-06-01T00:00:00",
          "2016-07-01T00:00:00",
          "2016-08-01T00:00:00",
          "2016-09-01T00:00:00",
          "2016-10-01T00:00:00",
          "2016-11-01T00:00:00",
          "2016-12-01T00:00:00",
          "2017-01-01T00:00:00",
          "2017-02-01T00:00:00",
          "2017-03-01T00:00:00",
          "2017-04-01T00:00:00",
          "2017-05-01T00:00:00",
          "2017-06-01T00:00:00",
          "2017-07-01T00:00:00",
          "2017-08-01T00:00:00",
          "2017-09-01T00:00:00",
          "2017-10-01T00:00:00",
          "2017-11-01T00:00:00",
          "2017-12-01T00:00:00",
          "2018-01-01T00:00:00",
          "2018-02-01T00:00:00",
          "2018-03-01T00:00:00",
          "2018-04-01T00:00:00",
          "2018-05-01T00:00:00",
          "2018-06-01T00:00:00",
          "2018-07-01T00:00:00",
          "2018-08-01T00:00:00",
          "2018-09-01T00:00:00",
          "2018-10-01T00:00:00",
          "2018-11-01T00:00:00",
          "2018-12-01T00:00:00",
          "2019-01-01T00:00:00",
          "2019-02-01T00:00:00",
          "2019-03-01T00:00:00",
          "2019-04-01T00:00:00",
          "2019-05-01T00:00:00",
          "2019-06-01T00:00:00",
          "2019-07-01T00:00:00",
          "2019-08-01T00:00:00",
          "2019-09-01T00:00:00",
          "2019-10-01T00:00:00",
          "2019-11-01T00:00:00",
          "2019-12-01T00:00:00",
          "2020-01-01T00:00:00",
          "2020-02-01T00:00:00",
          "2020-03-01T00:00:00",
          "2020-04-01T00:00:00",
          "2020-05-01T00:00:00",
          "2020-06-01T00:00:00",
          "2020-07-01T00:00:00",
          "2020-08-01T00:00:00",
          "2020-09-01T00:00:00",
          "2020-10-01T00:00:00",
          "2020-11-01T00:00:00",
          "2020-12-01T00:00:00",
          "2021-01-01T00:00:00",
          "2021-02-01T00:00:00",
          "2021-03-01T00:00:00",
          "2021-04-01T00:00:00",
          "2021-05-01T00:00:00",
          "2021-06-01T00:00:00",
          "2021-07-01T00:00:00",
          "2021-08-01T00:00:00",
          "2021-09-01T00:00:00",
          "2021-10-01T00:00:00",
          "2021-11-01T00:00:00",
          "2021-12-01T00:00:00",
          "2022-01-01T00:00:00"
         ],
         "xaxis": "x",
         "y": [
          1.3013387146000001E8,
          1.6225014354E8,
          1.2999526105999999E8,
          1.2461269524E8,
          1.6607197507999998E8,
          1.2972092636E8,
          1.3191592182000001E8,
          1.7429905984E8,
          1.2672829209E8,
          1.2225481516E8,
          1.6279532387E8,
          1.3289702385E8,
          1.3003290891E8,
          1.7175784651E8,
          1.3856667238E8,
          1.6338605987E8,
          1.3870802146E8,
          1.3295676127999999E8,
          1.3798499535999998E8,
          1.7549905819E8,
          1.2910692424E8,
          1.5690451235E8,
          1.3662358031E8,
          1.3904629299E8,
          1.5493656819E8,
          1.4399704673000002E8,
          1.5536834451E8,
          1.4453237379E8,
          1.4668219274E8,
          1.5119637383E8,
          1.5453829398E8,
          1.5968357697E8,
          1.3392668653E8,
          1.4802104954E8,
          1.3928078691E8,
          1.5442769829E8,
          1.5195904888E8,
          1.4893451485999998E8,
          1.5767480382E8,
          1.3912882842000002E8,
          1.5277608822E8,
          1.5329338695E8,
          1.5369859154E8,
          1.6877926253E8,
          1.3486288965E8,
          1.4446240687E8,
          1.4606029595E8,
          1.609990734E8,
          1.3881266125E8,
          1.5182263517E8,
          1.5088236777E8,
          1.3432496431E8,
          1.5699087954999998E8,
          1.4308462404999998E8,
          1.5717627464000002E8,
          2.5288165582E8,
          1.3084882981E8,
          1.3496042131E8,
          1.4865917606E8,
          1.5226949867000002E8,
          1.4080515564E8,
          1.6270746811E8,
          1.4841615156E8,
          1.4348057581E8,
          1.6397078742000002E8,
          1.3940409623000002E8,
          1.7236756124E8,
          2.491574037E8,
          1.3536031682999998E8,
          1.4378341782E8,
          1.3190286527000001E8,
          1.2132858189E8,
          1.3666895577E8,
          1.4531677388E8,
          1.3282459628999999E8,
          1.4670960054E8,
          1.5004497213E8,
          1.4140626511E8,
          1.7193145761E8,
          2.3171908320999998E8,
          1.348071095E8,
          1.5251506860999998E8,
          1.5035443116E8,
          1.3925209954E8,
          1.5752530207E8,
          1.6030554852E8,
          1.5818243820000002E8,
          1.6367940135999998E8,
          1.5821470245E8,
          1.6541842608E8,
          1.9029357541E8,
          2.5892414326E8
         ],
         "yaxis": "y",
         "type": "scatter"
        },
        {
         "hovertemplate": "variable=Total Payroll Revenue. - ML Predicted<br>Calendar Date=%{x}<br>value=%{y}<extra></extra>",
         "legendgroup": "Total Payroll Revenue. - ML Predicted",
         "line": {
          "color": "#EF553B",
          "dash": "solid"
         },
         "marker": {
          "symbol": "circle"
         },
         "mode": "lines",
         "name": "Total Payroll Revenue. - ML Predicted",
         "orientation": "v",
         "showlegend": true,
         "x": [
          "2014-06-01T00:00:00",
          "2014-07-01T00:00:00",
          "2014-08-01T00:00:00",
          "2014-09-01T00:00:00",
          "2014-10-01T00:00:00",
          "2014-11-01T00:00:00",
          "2014-12-01T00:00:00",
          "2015-01-01T00:00:00",
          "2015-02-01T00:00:00",
          "2015-03-01T00:00:00",
          "2015-04-01T00:00:00",
          "2015-05-01T00:00:00",
          "2015-06-01T00:00:00",
          "2015-07-01T00:00:00",
          "2015-08-01T00:00:00",
          "2015-09-01T00:00:00",
          "2015-10-01T00:00:00",
          "2015-11-01T00:00:00",
          "2015-12-01T00:00:00",
          "2016-01-01T00:00:00",
          "2016-02-01T00:00:00",
          "2016-03-01T00:00:00",
          "2016-04-01T00:00:00",
          "2016-05-01T00:00:00",
          "2016-06-01T00:00:00",
          "2016-07-01T00:00:00",
          "2016-08-01T00:00:00",
          "2016-09-01T00:00:00",
          "2016-10-01T00:00:00",
          "2016-11-01T00:00:00",
          "2016-12-01T00:00:00",
          "2017-01-01T00:00:00",
          "2017-02-01T00:00:00",
          "2017-03-01T00:00:00",
          "2017-04-01T00:00:00",
          "2017-05-01T00:00:00",
          "2017-06-01T00:00:00",
          "2017-07-01T00:00:00",
          "2017-08-01T00:00:00",
          "2017-09-01T00:00:00",
          "2017-10-01T00:00:00",
          "2017-11-01T00:00:00",
          "2017-12-01T00:00:00",
          "2018-01-01T00:00:00",
          "2018-02-01T00:00:00",
          "2018-03-01T00:00:00",
          "2018-04-01T00:00:00",
          "2018-05-01T00:00:00",
          "2018-06-01T00:00:00",
          "2018-07-01T00:00:00",
          "2018-08-01T00:00:00",
          "2018-09-01T00:00:00",
          "2018-10-01T00:00:00",
          "2018-11-01T00:00:00",
          "2018-12-01T00:00:00",
          "2019-01-01T00:00:00",
          "2019-02-01T00:00:00",
          "2019-03-01T00:00:00",
          "2019-04-01T00:00:00",
          "2019-05-01T00:00:00",
          "2019-06-01T00:00:00",
          "2019-07-01T00:00:00",
          "2019-08-01T00:00:00",
          "2019-09-01T00:00:00",
          "2019-10-01T00:00:00",
          "2019-11-01T00:00:00",
          "2019-12-01T00:00:00",
          "2020-01-01T00:00:00",
          "2020-02-01T00:00:00",
          "2020-03-01T00:00:00",
          "2020-04-01T00:00:00",
          "2020-05-01T00:00:00",
          "2020-06-01T00:00:00",
          "2020-07-01T00:00:00",
          "2020-08-01T00:00:00",
          "2020-09-01T00:00:00",
          "2020-10-01T00:00:00",
          "2020-11-01T00:00:00",
          "2020-12-01T00:00:00",
          "2021-01-01T00:00:00",
          "2021-02-01T00:00:00",
          "2021-03-01T00:00:00",
          "2021-04-01T00:00:00",
          "2021-05-01T00:00:00",
          "2021-06-01T00:00:00",
          "2021-07-01T00:00:00",
          "2021-08-01T00:00:00",
          "2021-09-01T00:00:00",
          "2021-10-01T00:00:00",
          "2021-11-01T00:00:00",
          "2021-12-01T00:00:00",
          "2022-01-01T00:00:00"
         ],
         "xaxis": "x",
         "y": [
          null,
          null,
          null,
          null,
          null,
          null,
          null,
          null,
          null,
          null,
          null,
          null,
          null,
          null,
          null,
          null,
          null,
          null,
          null,
          null,
          null,
          null,
          null,
          null,
          null,
          null,
          null,
          null,
          null,
          null,
          null,
          null,
          null,
          null,
          null,
          null,
          null,
          null,
          null,
          null,
          null,
          null,
          null,
          null,
          null,
          null,
          null,
          null,
          null,
          null,
          null,
          null,
          null,
          null,
          null,
          null,
          null,
          null,
          null,
          null,
          null,
          null,
          null,
          null,
          null,
          null,
          null,
          null,
          null,
          null,
          null,
          null,
          null,
          null,
          null,
          null,
          null,
          null,
          null,
          null,
          null,
          null,
          null,
          null,
          1.7071011115341014E8,
          1.7593295081970963E8,
          1.5919323132447588E8,
          1.7281995760989222E8,
          1.615822263739174E8,
          1.564902413974924E8,
          1.8436570515527776E8,
          2.1981859292684522E8
         ],
         "yaxis": "y",
         "type": "scatter"
        },
        {
         "hovertemplate": "variable=Total Payroll Revenue. - UTS Predicted<br>Calendar Date=%{x}<br>value=%{y}<extra></extra>",
         "legendgroup": "Total Payroll Revenue. - UTS Predicted",
         "line": {
          "color": "#00cc96",
          "dash": "solid"
         },
         "marker": {
          "symbol": "circle"
         },
         "mode": "lines",
         "name": "Total Payroll Revenue. - UTS Predicted",
         "orientation": "v",
         "showlegend": true,
         "x": [
          "2014-06-01T00:00:00",
          "2014-07-01T00:00:00",
          "2014-08-01T00:00:00",
          "2014-09-01T00:00:00",
          "2014-10-01T00:00:00",
          "2014-11-01T00:00:00",
          "2014-12-01T00:00:00",
          "2015-01-01T00:00:00",
          "2015-02-01T00:00:00",
          "2015-03-01T00:00:00",
          "2015-04-01T00:00:00",
          "2015-05-01T00:00:00",
          "2015-06-01T00:00:00",
          "2015-07-01T00:00:00",
          "2015-08-01T00:00:00",
          "2015-09-01T00:00:00",
          "2015-10-01T00:00:00",
          "2015-11-01T00:00:00",
          "2015-12-01T00:00:00",
          "2016-01-01T00:00:00",
          "2016-02-01T00:00:00",
          "2016-03-01T00:00:00",
          "2016-04-01T00:00:00",
          "2016-05-01T00:00:00",
          "2016-06-01T00:00:00",
          "2016-07-01T00:00:00",
          "2016-08-01T00:00:00",
          "2016-09-01T00:00:00",
          "2016-10-01T00:00:00",
          "2016-11-01T00:00:00",
          "2016-12-01T00:00:00",
          "2017-01-01T00:00:00",
          "2017-02-01T00:00:00",
          "2017-03-01T00:00:00",
          "2017-04-01T00:00:00",
          "2017-05-01T00:00:00",
          "2017-06-01T00:00:00",
          "2017-07-01T00:00:00",
          "2017-08-01T00:00:00",
          "2017-09-01T00:00:00",
          "2017-10-01T00:00:00",
          "2017-11-01T00:00:00",
          "2017-12-01T00:00:00",
          "2018-01-01T00:00:00",
          "2018-02-01T00:00:00",
          "2018-03-01T00:00:00",
          "2018-04-01T00:00:00",
          "2018-05-01T00:00:00",
          "2018-06-01T00:00:00",
          "2018-07-01T00:00:00",
          "2018-08-01T00:00:00",
          "2018-09-01T00:00:00",
          "2018-10-01T00:00:00",
          "2018-11-01T00:00:00",
          "2018-12-01T00:00:00",
          "2019-01-01T00:00:00",
          "2019-02-01T00:00:00",
          "2019-03-01T00:00:00",
          "2019-04-01T00:00:00",
          "2019-05-01T00:00:00",
          "2019-06-01T00:00:00",
          "2019-07-01T00:00:00",
          "2019-08-01T00:00:00",
          "2019-09-01T00:00:00",
          "2019-10-01T00:00:00",
          "2019-11-01T00:00:00",
          "2019-12-01T00:00:00",
          "2020-01-01T00:00:00",
          "2020-02-01T00:00:00",
          "2020-03-01T00:00:00",
          "2020-04-01T00:00:00",
          "2020-05-01T00:00:00",
          "2020-06-01T00:00:00",
          "2020-07-01T00:00:00",
          "2020-08-01T00:00:00",
          "2020-09-01T00:00:00",
          "2020-10-01T00:00:00",
          "2020-11-01T00:00:00",
          "2020-12-01T00:00:00",
          "2021-01-01T00:00:00",
          "2021-02-01T00:00:00",
          "2021-03-01T00:00:00",
          "2021-04-01T00:00:00",
          "2021-05-01T00:00:00",
          "2021-06-01T00:00:00",
          "2021-07-01T00:00:00",
          "2021-08-01T00:00:00",
          "2021-09-01T00:00:00",
          "2021-10-01T00:00:00",
          "2021-11-01T00:00:00",
          "2021-12-01T00:00:00",
          "2022-01-01T00:00:00"
         ],
         "xaxis": "x",
         "y": [
          null,
          null,
          null,
          null,
          null,
          null,
          null,
          null,
          null,
          null,
          null,
          null,
          null,
          null,
          null,
          null,
          null,
          null,
          null,
          null,
          null,
          null,
          null,
          null,
          null,
          null,
          null,
          null,
          null,
          null,
          null,
          null,
          null,
          null,
          null,
          null,
          null,
          null,
          null,
          null,
          null,
          null,
          null,
          null,
          null,
          null,
          null,
          null,
          null,
          null,
          null,
          null,
          null,
          null,
          null,
          null,
          null,
          null,
          null,
          null,
          null,
          null,
          null,
          null,
          null,
          null,
          null,
          null,
          null,
          null,
          null,
          null,
          null,
          null,
          null,
          null,
          null,
          null,
          null,
          null,
          null,
          null,
          null,
          null,
          1.4979605890388387E8,
          1.5936517735121104E8,
          1.4972467222473738E8,
          1.5569590838812235E8,
          1.628828379044883E8,
          1.5342410939039278E8,
          1.7788744294799396E8,
          2.3717404808446875E8
         ],
         "yaxis": "y",
         "type": "scatter"
        },
        {
         "hovertemplate": "variable=Total Payroll Revenue. - Plan<br>Calendar Date=%{x}<br>value=%{y}<extra></extra>",
         "legendgroup": "Total Payroll Revenue. - Plan",
         "line": {
          "color": "#ab63fa",
          "dash": "solid"
         },
         "marker": {
          "symbol": "circle"
         },
         "mode": "lines",
         "name": "Total Payroll Revenue. - Plan",
         "orientation": "v",
         "showlegend": true,
         "x": [
          "2014-06-01T00:00:00",
          "2014-07-01T00:00:00",
          "2014-08-01T00:00:00",
          "2014-09-01T00:00:00",
          "2014-10-01T00:00:00",
          "2014-11-01T00:00:00",
          "2014-12-01T00:00:00",
          "2015-01-01T00:00:00",
          "2015-02-01T00:00:00",
          "2015-03-01T00:00:00",
          "2015-04-01T00:00:00",
          "2015-05-01T00:00:00",
          "2015-06-01T00:00:00",
          "2015-07-01T00:00:00",
          "2015-08-01T00:00:00",
          "2015-09-01T00:00:00",
          "2015-10-01T00:00:00",
          "2015-11-01T00:00:00",
          "2015-12-01T00:00:00",
          "2016-01-01T00:00:00",
          "2016-02-01T00:00:00",
          "2016-03-01T00:00:00",
          "2016-04-01T00:00:00",
          "2016-05-01T00:00:00",
          "2016-06-01T00:00:00",
          "2016-07-01T00:00:00",
          "2016-08-01T00:00:00",
          "2016-09-01T00:00:00",
          "2016-10-01T00:00:00",
          "2016-11-01T00:00:00",
          "2016-12-01T00:00:00",
          "2017-01-01T00:00:00",
          "2017-02-01T00:00:00",
          "2017-03-01T00:00:00",
          "2017-04-01T00:00:00",
          "2017-05-01T00:00:00",
          "2017-06-01T00:00:00",
          "2017-07-01T00:00:00",
          "2017-08-01T00:00:00",
          "2017-09-01T00:00:00",
          "2017-10-01T00:00:00",
          "2017-11-01T00:00:00",
          "2017-12-01T00:00:00",
          "2018-01-01T00:00:00",
          "2018-02-01T00:00:00",
          "2018-03-01T00:00:00",
          "2018-04-01T00:00:00",
          "2018-05-01T00:00:00",
          "2018-06-01T00:00:00",
          "2018-07-01T00:00:00",
          "2018-08-01T00:00:00",
          "2018-09-01T00:00:00",
          "2018-10-01T00:00:00",
          "2018-11-01T00:00:00",
          "2018-12-01T00:00:00",
          "2019-01-01T00:00:00",
          "2019-02-01T00:00:00",
          "2019-03-01T00:00:00",
          "2019-04-01T00:00:00",
          "2019-05-01T00:00:00",
          "2019-06-01T00:00:00",
          "2019-07-01T00:00:00",
          "2019-08-01T00:00:00",
          "2019-09-01T00:00:00",
          "2019-10-01T00:00:00",
          "2019-11-01T00:00:00",
          "2019-12-01T00:00:00",
          "2020-01-01T00:00:00",
          "2020-02-01T00:00:00",
          "2020-03-01T00:00:00",
          "2020-04-01T00:00:00",
          "2020-05-01T00:00:00",
          "2020-06-01T00:00:00",
          "2020-07-01T00:00:00",
          "2020-08-01T00:00:00",
          "2020-09-01T00:00:00",
          "2020-10-01T00:00:00",
          "2020-11-01T00:00:00",
          "2020-12-01T00:00:00",
          "2021-01-01T00:00:00",
          "2021-02-01T00:00:00",
          "2021-03-01T00:00:00",
          "2021-04-01T00:00:00",
          "2021-05-01T00:00:00",
          "2021-06-01T00:00:00",
          "2021-07-01T00:00:00",
          "2021-08-01T00:00:00",
          "2021-09-01T00:00:00",
          "2021-10-01T00:00:00",
          "2021-11-01T00:00:00",
          "2021-12-01T00:00:00",
          "2022-01-01T00:00:00"
         ],
         "xaxis": "x",
         "y": [
          null,
          null,
          null,
          null,
          null,
          null,
          null,
          null,
          null,
          null,
          null,
          null,
          null,
          null,
          null,
          null,
          null,
          null,
          null,
          null,
          null,
          null,
          null,
          null,
          null,
          null,
          null,
          null,
          null,
          null,
          null,
          null,
          null,
          null,
          null,
          null,
          null,
          null,
          null,
          null,
          null,
          null,
          null,
          null,
          null,
          null,
          null,
          null,
          null,
          null,
          null,
          null,
          null,
          null,
          null,
          null,
          null,
          null,
          null,
          null,
          null,
          null,
          null,
          null,
          null,
          null,
          null,
          null,
          null,
          null,
          null,
          null,
          null,
          null,
          null,
          null,
          null,
          null,
          null,
          null,
          null,
          null,
          null,
          null,
          1.545151872E8,
          1.5998289418E8,
          1.5732115454E8,
          1.5358621163E8,
          1.4966976337E8,
          1.5369347093E8,
          1.6847403523000002E8,
          2.4326098252E8
         ],
         "yaxis": "y",
         "type": "scatter"
        },
        {
         "hovertemplate": "variable=Total Payroll Revenue. - 2+10 Forecast<br>Calendar Date=%{x}<br>value=%{y}<extra></extra>",
         "legendgroup": "Total Payroll Revenue. - 2+10 Forecast",
         "line": {
          "color": "#FFA15A",
          "dash": "solid"
         },
         "marker": {
          "symbol": "circle"
         },
         "mode": "lines",
         "name": "Total Payroll Revenue. - 2+10 Forecast",
         "orientation": "v",
         "showlegend": true,
         "x": [
          "2014-06-01T00:00:00",
          "2014-07-01T00:00:00",
          "2014-08-01T00:00:00",
          "2014-09-01T00:00:00",
          "2014-10-01T00:00:00",
          "2014-11-01T00:00:00",
          "2014-12-01T00:00:00",
          "2015-01-01T00:00:00",
          "2015-02-01T00:00:00",
          "2015-03-01T00:00:00",
          "2015-04-01T00:00:00",
          "2015-05-01T00:00:00",
          "2015-06-01T00:00:00",
          "2015-07-01T00:00:00",
          "2015-08-01T00:00:00",
          "2015-09-01T00:00:00",
          "2015-10-01T00:00:00",
          "2015-11-01T00:00:00",
          "2015-12-01T00:00:00",
          "2016-01-01T00:00:00",
          "2016-02-01T00:00:00",
          "2016-03-01T00:00:00",
          "2016-04-01T00:00:00",
          "2016-05-01T00:00:00",
          "2016-06-01T00:00:00",
          "2016-07-01T00:00:00",
          "2016-08-01T00:00:00",
          "2016-09-01T00:00:00",
          "2016-10-01T00:00:00",
          "2016-11-01T00:00:00",
          "2016-12-01T00:00:00",
          "2017-01-01T00:00:00",
          "2017-02-01T00:00:00",
          "2017-03-01T00:00:00",
          "2017-04-01T00:00:00",
          "2017-05-01T00:00:00",
          "2017-06-01T00:00:00",
          "2017-07-01T00:00:00",
          "2017-08-01T00:00:00",
          "2017-09-01T00:00:00",
          "2017-10-01T00:00:00",
          "2017-11-01T00:00:00",
          "2017-12-01T00:00:00",
          "2018-01-01T00:00:00",
          "2018-02-01T00:00:00",
          "2018-03-01T00:00:00",
          "2018-04-01T00:00:00",
          "2018-05-01T00:00:00",
          "2018-06-01T00:00:00",
          "2018-07-01T00:00:00",
          "2018-08-01T00:00:00",
          "2018-09-01T00:00:00",
          "2018-10-01T00:00:00",
          "2018-11-01T00:00:00",
          "2018-12-01T00:00:00",
          "2019-01-01T00:00:00",
          "2019-02-01T00:00:00",
          "2019-03-01T00:00:00",
          "2019-04-01T00:00:00",
          "2019-05-01T00:00:00",
          "2019-06-01T00:00:00",
          "2019-07-01T00:00:00",
          "2019-08-01T00:00:00",
          "2019-09-01T00:00:00",
          "2019-10-01T00:00:00",
          "2019-11-01T00:00:00",
          "2019-12-01T00:00:00",
          "2020-01-01T00:00:00",
          "2020-02-01T00:00:00",
          "2020-03-01T00:00:00",
          "2020-04-01T00:00:00",
          "2020-05-01T00:00:00",
          "2020-06-01T00:00:00",
          "2020-07-01T00:00:00",
          "2020-08-01T00:00:00",
          "2020-09-01T00:00:00",
          "2020-10-01T00:00:00",
          "2020-11-01T00:00:00",
          "2020-12-01T00:00:00",
          "2021-01-01T00:00:00",
          "2021-02-01T00:00:00",
          "2021-03-01T00:00:00",
          "2021-04-01T00:00:00",
          "2021-05-01T00:00:00",
          "2021-06-01T00:00:00",
          "2021-07-01T00:00:00",
          "2021-08-01T00:00:00",
          "2021-09-01T00:00:00",
          "2021-10-01T00:00:00",
          "2021-11-01T00:00:00",
          "2021-12-01T00:00:00",
          "2022-01-01T00:00:00"
         ],
         "xaxis": "x",
         "y": [
          null,
          null,
          null,
          null,
          null,
          null,
          null,
          null,
          null,
          null,
          null,
          null,
          null,
          null,
          null,
          null,
          null,
          null,
          null,
          null,
          null,
          null,
          null,
          null,
          null,
          null,
          null,
          null,
          null,
          null,
          null,
          null,
          null,
          null,
          null,
          null,
          null,
          null,
          null,
          null,
          null,
          null,
          null,
          null,
          null,
          null,
          null,
          null,
          null,
          null,
          null,
          null,
          null,
          null,
          null,
          null,
          null,
          null,
          null,
          null,
          null,
          null,
          null,
          null,
          null,
          null,
          null,
          null,
          null,
          null,
          null,
          null,
          null,
          null,
          null,
          null,
          null,
          null,
          null,
          null,
          null,
          null,
          null,
          null,
          1.5752530207E8,
          1.6030554852E8,
          1.5982705684E8,
          1.5499755257E8,
          1.5016653760999998E8,
          1.5527883869E8,
          1.6930447345E8,
          2.4358837973E8
         ],
         "yaxis": "y",
         "type": "scatter"
        }
       ],
       "layout": {
        "template": {
         "data": {
          "barpolar": [
           {
            "marker": {
             "line": {
              "color": "white",
              "width": 0.5
             },
             "pattern": {
              "fillmode": "overlay",
              "size": 10,
              "solidity": 0.2
             }
            },
            "type": "barpolar"
           }
          ],
          "bar": [
           {
            "error_x": {
             "color": "#2a3f5f"
            },
            "error_y": {
             "color": "#2a3f5f"
            },
            "marker": {
             "line": {
              "color": "white",
              "width": 0.5
             },
             "pattern": {
              "fillmode": "overlay",
              "size": 10,
              "solidity": 0.2
             }
            },
            "type": "bar"
           }
          ],
          "carpet": [
           {
            "aaxis": {
             "endlinecolor": "#2a3f5f",
             "gridcolor": "#C8D4E3",
             "linecolor": "#C8D4E3",
             "minorgridcolor": "#C8D4E3",
             "startlinecolor": "#2a3f5f"
            },
            "baxis": {
             "endlinecolor": "#2a3f5f",
             "gridcolor": "#C8D4E3",
             "linecolor": "#C8D4E3",
             "minorgridcolor": "#C8D4E3",
             "startlinecolor": "#2a3f5f"
            },
            "type": "carpet"
           }
          ],
          "choropleth": [
           {
            "colorbar": {
             "outlinewidth": 0,
             "ticks": ""
            },
            "type": "choropleth"
           }
          ],
          "contourcarpet": [
           {
            "colorbar": {
             "outlinewidth": 0,
             "ticks": ""
            },
            "type": "contourcarpet"
           }
          ],
          "contour": [
           {
            "colorbar": {
             "outlinewidth": 0,
             "ticks": ""
            },
            "colorscale": [
             [
              0.0,
              "#0d0887"
             ],
             [
              0.1111111111111111,
              "#46039f"
             ],
             [
              0.2222222222222222,
              "#7201a8"
             ],
             [
              0.3333333333333333,
              "#9c179e"
             ],
             [
              0.4444444444444444,
              "#bd3786"
             ],
             [
              0.5555555555555556,
              "#d8576b"
             ],
             [
              0.6666666666666666,
              "#ed7953"
             ],
             [
              0.7777777777777778,
              "#fb9f3a"
             ],
             [
              0.8888888888888888,
              "#fdca26"
             ],
             [
              1.0,
              "#f0f921"
             ]
            ],
            "type": "contour"
           }
          ],
          "heatmapgl": [
           {
            "colorbar": {
             "outlinewidth": 0,
             "ticks": ""
            },
            "colorscale": [
             [
              0.0,
              "#0d0887"
             ],
             [
              0.1111111111111111,
              "#46039f"
             ],
             [
              0.2222222222222222,
              "#7201a8"
             ],
             [
              0.3333333333333333,
              "#9c179e"
             ],
             [
              0.4444444444444444,
              "#bd3786"
             ],
             [
              0.5555555555555556,
              "#d8576b"
             ],
             [
              0.6666666666666666,
              "#ed7953"
             ],
             [
              0.7777777777777778,
              "#fb9f3a"
             ],
             [
              0.8888888888888888,
              "#fdca26"
             ],
             [
              1.0,
              "#f0f921"
             ]
            ],
            "type": "heatmapgl"
           }
          ],
          "heatmap": [
           {
            "colorbar": {
             "outlinewidth": 0,
             "ticks": ""
            },
            "colorscale": [
             [
              0.0,
              "#0d0887"
             ],
             [
              0.1111111111111111,
              "#46039f"
             ],
             [
              0.2222222222222222,
              "#7201a8"
             ],
             [
              0.3333333333333333,
              "#9c179e"
             ],
             [
              0.4444444444444444,
              "#bd3786"
             ],
             [
              0.5555555555555556,
              "#d8576b"
             ],
             [
              0.6666666666666666,
              "#ed7953"
             ],
             [
              0.7777777777777778,
              "#fb9f3a"
             ],
             [
              0.8888888888888888,
              "#fdca26"
             ],
             [
              1.0,
              "#f0f921"
             ]
            ],
            "type": "heatmap"
           }
          ],
          "histogram2dcontour": [
           {
            "colorbar": {
             "outlinewidth": 0,
             "ticks": ""
            },
            "colorscale": [
             [
              0.0,
              "#0d0887"
             ],
             [
              0.1111111111111111,
              "#46039f"
             ],
             [
              0.2222222222222222,
              "#7201a8"
             ],
             [
              0.3333333333333333,
              "#9c179e"
             ],
             [
              0.4444444444444444,
              "#bd3786"
             ],
             [
              0.5555555555555556,
              "#d8576b"
             ],
             [
              0.6666666666666666,
              "#ed7953"
             ],
             [
              0.7777777777777778,
              "#fb9f3a"
             ],
             [
              0.8888888888888888,
              "#fdca26"
             ],
             [
              1.0,
              "#f0f921"
             ]
            ],
            "type": "histogram2dcontour"
           }
          ],
          "histogram2d": [
           {
            "colorbar": {
             "outlinewidth": 0,
             "ticks": ""
            },
            "colorscale": [
             [
              0.0,
              "#0d0887"
             ],
             [
              0.1111111111111111,
              "#46039f"
             ],
             [
              0.2222222222222222,
              "#7201a8"
             ],
             [
              0.3333333333333333,
              "#9c179e"
             ],
             [
              0.4444444444444444,
              "#bd3786"
             ],
             [
              0.5555555555555556,
              "#d8576b"
             ],
             [
              0.6666666666666666,
              "#ed7953"
             ],
             [
              0.7777777777777778,
              "#fb9f3a"
             ],
             [
              0.8888888888888888,
              "#fdca26"
             ],
             [
              1.0,
              "#f0f921"
             ]
            ],
            "type": "histogram2d"
           }
          ],
          "histogram": [
           {
            "marker": {
             "pattern": {
              "fillmode": "overlay",
              "size": 10,
              "solidity": 0.2
             }
            },
            "type": "histogram"
           }
          ],
          "mesh3d": [
           {
            "colorbar": {
             "outlinewidth": 0,
             "ticks": ""
            },
            "type": "mesh3d"
           }
          ],
          "parcoords": [
           {
            "line": {
             "colorbar": {
              "outlinewidth": 0,
              "ticks": ""
             }
            },
            "type": "parcoords"
           }
          ],
          "pie": [
           {
            "automargin": true,
            "type": "pie"
           }
          ],
          "scatter3d": [
           {
            "line": {
             "colorbar": {
              "outlinewidth": 0,
              "ticks": ""
             }
            },
            "marker": {
             "colorbar": {
              "outlinewidth": 0,
              "ticks": ""
             }
            },
            "type": "scatter3d"
           }
          ],
          "scattercarpet": [
           {
            "marker": {
             "colorbar": {
              "outlinewidth": 0,
              "ticks": ""
             }
            },
            "type": "scattercarpet"
           }
          ],
          "scattergeo": [
           {
            "marker": {
             "colorbar": {
              "outlinewidth": 0,
              "ticks": ""
             }
            },
            "type": "scattergeo"
           }
          ],
          "scattergl": [
           {
            "marker": {
             "colorbar": {
              "outlinewidth": 0,
              "ticks": ""
             }
            },
            "type": "scattergl"
           }
          ],
          "scattermapbox": [
           {
            "marker": {
             "colorbar": {
              "outlinewidth": 0,
              "ticks": ""
             }
            },
            "type": "scattermapbox"
           }
          ],
          "scatterpolargl": [
           {
            "marker": {
             "colorbar": {
              "outlinewidth": 0,
              "ticks": ""
             }
            },
            "type": "scatterpolargl"
           }
          ],
          "scatterpolar": [
           {
            "marker": {
             "colorbar": {
              "outlinewidth": 0,
              "ticks": ""
             }
            },
            "type": "scatterpolar"
           }
          ],
          "scatter": [
           {
            "fillpattern": {
             "fillmode": "overlay",
             "size": 10,
             "solidity": 0.2
            },
            "type": "scatter"
           }
          ],
          "scatterternary": [
           {
            "marker": {
             "colorbar": {
              "outlinewidth": 0,
              "ticks": ""
             }
            },
            "type": "scatterternary"
           }
          ],
          "surface": [
           {
            "colorbar": {
             "outlinewidth": 0,
             "ticks": ""
            },
            "colorscale": [
             [
              0.0,
              "#0d0887"
             ],
             [
              0.1111111111111111,
              "#46039f"
             ],
             [
              0.2222222222222222,
              "#7201a8"
             ],
             [
              0.3333333333333333,
              "#9c179e"
             ],
             [
              0.4444444444444444,
              "#bd3786"
             ],
             [
              0.5555555555555556,
              "#d8576b"
             ],
             [
              0.6666666666666666,
              "#ed7953"
             ],
             [
              0.7777777777777778,
              "#fb9f3a"
             ],
             [
              0.8888888888888888,
              "#fdca26"
             ],
             [
              1.0,
              "#f0f921"
             ]
            ],
            "type": "surface"
           }
          ],
          "table": [
           {
            "cells": {
             "fill": {
              "color": "#EBF0F8"
             },
             "line": {
              "color": "white"
             }
            },
            "header": {
             "fill": {
              "color": "#C8D4E3"
             },
             "line": {
              "color": "white"
             }
            },
            "type": "table"
           }
          ]
         },
         "layout": {
          "annotationdefaults": {
           "arrowcolor": "#2a3f5f",
           "arrowhead": 0,
           "arrowwidth": 1
          },
          "autotypenumbers": "strict",
          "coloraxis": {
           "colorbar": {
            "outlinewidth": 0,
            "ticks": ""
           }
          },
          "colorscale": {
           "diverging": [
            [
             0,
             "#8e0152"
            ],
            [
             0.1,
             "#c51b7d"
            ],
            [
             0.2,
             "#de77ae"
            ],
            [
             0.3,
             "#f1b6da"
            ],
            [
             0.4,
             "#fde0ef"
            ],
            [
             0.5,
             "#f7f7f7"
            ],
            [
             0.6,
             "#e6f5d0"
            ],
            [
             0.7,
             "#b8e186"
            ],
            [
             0.8,
             "#7fbc41"
            ],
            [
             0.9,
             "#4d9221"
            ],
            [
             1,
             "#276419"
            ]
           ],
           "sequential": [
            [
             0.0,
             "#0d0887"
            ],
            [
             0.1111111111111111,
             "#46039f"
            ],
            [
             0.2222222222222222,
             "#7201a8"
            ],
            [
             0.3333333333333333,
             "#9c179e"
            ],
            [
             0.4444444444444444,
             "#bd3786"
            ],
            [
             0.5555555555555556,
             "#d8576b"
            ],
            [
             0.6666666666666666,
             "#ed7953"
            ],
            [
             0.7777777777777778,
             "#fb9f3a"
            ],
            [
             0.8888888888888888,
             "#fdca26"
            ],
            [
             1.0,
             "#f0f921"
            ]
           ],
           "sequentialminus": [
            [
             0.0,
             "#0d0887"
            ],
            [
             0.1111111111111111,
             "#46039f"
            ],
            [
             0.2222222222222222,
             "#7201a8"
            ],
            [
             0.3333333333333333,
             "#9c179e"
            ],
            [
             0.4444444444444444,
             "#bd3786"
            ],
            [
             0.5555555555555556,
             "#d8576b"
            ],
            [
             0.6666666666666666,
             "#ed7953"
            ],
            [
             0.7777777777777778,
             "#fb9f3a"
            ],
            [
             0.8888888888888888,
             "#fdca26"
            ],
            [
             1.0,
             "#f0f921"
            ]
           ]
          },
          "colorway": [
           "#636efa",
           "#EF553B",
           "#00cc96",
           "#ab63fa",
           "#FFA15A",
           "#19d3f3",
           "#FF6692",
           "#B6E880",
           "#FF97FF",
           "#FECB52"
          ],
          "font": {
           "color": "#2a3f5f"
          },
          "geo": {
           "bgcolor": "white",
           "lakecolor": "white",
           "landcolor": "white",
           "showlakes": true,
           "showland": true,
           "subunitcolor": "#C8D4E3"
          },
          "hoverlabel": {
           "align": "left"
          },
          "hovermode": "closest",
          "mapbox": {
           "style": "light"
          },
          "paper_bgcolor": "white",
          "plot_bgcolor": "white",
          "polar": {
           "angularaxis": {
            "gridcolor": "#EBF0F8",
            "linecolor": "#EBF0F8",
            "ticks": ""
           },
           "bgcolor": "white",
           "radialaxis": {
            "gridcolor": "#EBF0F8",
            "linecolor": "#EBF0F8",
            "ticks": ""
           }
          },
          "scene": {
           "xaxis": {
            "backgroundcolor": "white",
            "gridcolor": "#DFE8F3",
            "gridwidth": 2,
            "linecolor": "#EBF0F8",
            "showbackground": true,
            "ticks": "",
            "zerolinecolor": "#EBF0F8"
           },
           "yaxis": {
            "backgroundcolor": "white",
            "gridcolor": "#DFE8F3",
            "gridwidth": 2,
            "linecolor": "#EBF0F8",
            "showbackground": true,
            "ticks": "",
            "zerolinecolor": "#EBF0F8"
           },
           "zaxis": {
            "backgroundcolor": "white",
            "gridcolor": "#DFE8F3",
            "gridwidth": 2,
            "linecolor": "#EBF0F8",
            "showbackground": true,
            "ticks": "",
            "zerolinecolor": "#EBF0F8"
           }
          },
          "shapedefaults": {
           "line": {
            "color": "#2a3f5f"
           }
          },
          "ternary": {
           "aaxis": {
            "gridcolor": "#DFE8F3",
            "linecolor": "#A2B1C6",
            "ticks": ""
           },
           "baxis": {
            "gridcolor": "#DFE8F3",
            "linecolor": "#A2B1C6",
            "ticks": ""
           },
           "bgcolor": "white",
           "caxis": {
            "gridcolor": "#DFE8F3",
            "linecolor": "#A2B1C6",
            "ticks": ""
           }
          },
          "title": {
           "x": 0.05
          },
          "xaxis": {
           "automargin": true,
           "gridcolor": "#EBF0F8",
           "linecolor": "#EBF0F8",
           "ticks": "",
           "title": {
            "standoff": 15
           },
           "zerolinecolor": "#EBF0F8",
           "zerolinewidth": 2
          },
          "yaxis": {
           "automargin": true,
           "gridcolor": "#EBF0F8",
           "linecolor": "#EBF0F8",
           "ticks": "",
           "title": {
            "standoff": 15
           },
           "zerolinecolor": "#EBF0F8",
           "zerolinewidth": 2
          }
         }
        },
        "xaxis": {
         "anchor": "y",
         "domain": [
          0.0,
          1.0
         ],
         "title": {
          "text": "Calendar Date"
         }
        },
        "yaxis": {
         "anchor": "x",
         "domain": [
          0.0,
          1.0
         ],
         "title": {
          "text": "value"
         }
        },
        "legend": {
         "title": {
          "text": "variable"
         },
         "tracegroupgap": 0
        },
        "margin": {
         "t": 60
        }
       },
       "config": {
        "plotlyServerURL": "https://plot.ly"
       }
      },
      "text/html": "<div>                            <div id=\"c4f909d0-da53-4784-a65f-7f5611721b88\" class=\"plotly-graph-div\" style=\"height:525px; width:100%;\"></div>            <script type=\"text/javascript\">                require([\"plotly\"], function(Plotly) {                    window.PLOTLYENV=window.PLOTLYENV || {};                                    if (document.getElementById(\"c4f909d0-da53-4784-a65f-7f5611721b88\")) {                    Plotly.newPlot(                        \"c4f909d0-da53-4784-a65f-7f5611721b88\",                        [{\"hovertemplate\":\"variable=Total Payroll Revenue.<br>Calendar Date=%{x}<br>value=%{y}<extra></extra>\",\"legendgroup\":\"Total Payroll Revenue.\",\"line\":{\"color\":\"#636efa\",\"dash\":\"solid\"},\"marker\":{\"symbol\":\"circle\"},\"mode\":\"lines\",\"name\":\"Total Payroll Revenue.\",\"orientation\":\"v\",\"showlegend\":true,\"x\":[\"2014-06-01T00:00:00\",\"2014-07-01T00:00:00\",\"2014-08-01T00:00:00\",\"2014-09-01T00:00:00\",\"2014-10-01T00:00:00\",\"2014-11-01T00:00:00\",\"2014-12-01T00:00:00\",\"2015-01-01T00:00:00\",\"2015-02-01T00:00:00\",\"2015-03-01T00:00:00\",\"2015-04-01T00:00:00\",\"2015-05-01T00:00:00\",\"2015-06-01T00:00:00\",\"2015-07-01T00:00:00\",\"2015-08-01T00:00:00\",\"2015-09-01T00:00:00\",\"2015-10-01T00:00:00\",\"2015-11-01T00:00:00\",\"2015-12-01T00:00:00\",\"2016-01-01T00:00:00\",\"2016-02-01T00:00:00\",\"2016-03-01T00:00:00\",\"2016-04-01T00:00:00\",\"2016-05-01T00:00:00\",\"2016-06-01T00:00:00\",\"2016-07-01T00:00:00\",\"2016-08-01T00:00:00\",\"2016-09-01T00:00:00\",\"2016-10-01T00:00:00\",\"2016-11-01T00:00:00\",\"2016-12-01T00:00:00\",\"2017-01-01T00:00:00\",\"2017-02-01T00:00:00\",\"2017-03-01T00:00:00\",\"2017-04-01T00:00:00\",\"2017-05-01T00:00:00\",\"2017-06-01T00:00:00\",\"2017-07-01T00:00:00\",\"2017-08-01T00:00:00\",\"2017-09-01T00:00:00\",\"2017-10-01T00:00:00\",\"2017-11-01T00:00:00\",\"2017-12-01T00:00:00\",\"2018-01-01T00:00:00\",\"2018-02-01T00:00:00\",\"2018-03-01T00:00:00\",\"2018-04-01T00:00:00\",\"2018-05-01T00:00:00\",\"2018-06-01T00:00:00\",\"2018-07-01T00:00:00\",\"2018-08-01T00:00:00\",\"2018-09-01T00:00:00\",\"2018-10-01T00:00:00\",\"2018-11-01T00:00:00\",\"2018-12-01T00:00:00\",\"2019-01-01T00:00:00\",\"2019-02-01T00:00:00\",\"2019-03-01T00:00:00\",\"2019-04-01T00:00:00\",\"2019-05-01T00:00:00\",\"2019-06-01T00:00:00\",\"2019-07-01T00:00:00\",\"2019-08-01T00:00:00\",\"2019-09-01T00:00:00\",\"2019-10-01T00:00:00\",\"2019-11-01T00:00:00\",\"2019-12-01T00:00:00\",\"2020-01-01T00:00:00\",\"2020-02-01T00:00:00\",\"2020-03-01T00:00:00\",\"2020-04-01T00:00:00\",\"2020-05-01T00:00:00\",\"2020-06-01T00:00:00\",\"2020-07-01T00:00:00\",\"2020-08-01T00:00:00\",\"2020-09-01T00:00:00\",\"2020-10-01T00:00:00\",\"2020-11-01T00:00:00\",\"2020-12-01T00:00:00\",\"2021-01-01T00:00:00\",\"2021-02-01T00:00:00\",\"2021-03-01T00:00:00\",\"2021-04-01T00:00:00\",\"2021-05-01T00:00:00\",\"2021-06-01T00:00:00\",\"2021-07-01T00:00:00\",\"2021-08-01T00:00:00\",\"2021-09-01T00:00:00\",\"2021-10-01T00:00:00\",\"2021-11-01T00:00:00\",\"2021-12-01T00:00:00\",\"2022-01-01T00:00:00\"],\"xaxis\":\"x\",\"y\":[130133871.46000001,162250143.54,129995261.05999999,124612695.24,166071975.07999998,129720926.36,131915921.82000001,174299059.84,126728292.09,122254815.16,162795323.87,132897023.85,130032908.91,171757846.51,138566672.38,163386059.87,138708021.46,132956761.27999999,137984995.35999998,175499058.19,129106924.24,156904512.35,136623580.31,139046292.99,154936568.19,143997046.73000002,155368344.51,144532373.79,146682192.74,151196373.83,154538293.98,159683576.97,133926686.53,148021049.54,139280786.91,154427698.29,151959048.88,148934514.85999998,157674803.82,139128828.42000002,152776088.22,153293386.95,153698591.54,168779262.53,134862889.65,144462406.87,146060295.95,160999073.4,138812661.25,151822635.17,150882367.77,134324964.31,156990879.54999998,143084624.04999998,157176274.64000002,252881655.82,130848829.81,134960421.31,148659176.06,152269498.67000002,140805155.64,162707468.11,148416151.56,143480575.81,163970787.42000002,139404096.23000002,172367561.24,249157403.7,135360316.82999998,143783417.82,131902865.27000001,121328581.89,136668955.77,145316773.88,132824596.28999999,146709600.54,150044972.13,141406265.11,171931457.61,231719083.20999998,134807109.5,152515068.60999998,150354431.16,139252099.54,157525302.07,160305548.52,158182438.20000002,163679401.35999998,158214702.45,165418426.08,190293575.41,258924143.26],\"yaxis\":\"y\",\"type\":\"scatter\"},{\"hovertemplate\":\"variable=Total Payroll Revenue. - ML Predicted<br>Calendar Date=%{x}<br>value=%{y}<extra></extra>\",\"legendgroup\":\"Total Payroll Revenue. - ML Predicted\",\"line\":{\"color\":\"#EF553B\",\"dash\":\"solid\"},\"marker\":{\"symbol\":\"circle\"},\"mode\":\"lines\",\"name\":\"Total Payroll Revenue. - ML Predicted\",\"orientation\":\"v\",\"showlegend\":true,\"x\":[\"2014-06-01T00:00:00\",\"2014-07-01T00:00:00\",\"2014-08-01T00:00:00\",\"2014-09-01T00:00:00\",\"2014-10-01T00:00:00\",\"2014-11-01T00:00:00\",\"2014-12-01T00:00:00\",\"2015-01-01T00:00:00\",\"2015-02-01T00:00:00\",\"2015-03-01T00:00:00\",\"2015-04-01T00:00:00\",\"2015-05-01T00:00:00\",\"2015-06-01T00:00:00\",\"2015-07-01T00:00:00\",\"2015-08-01T00:00:00\",\"2015-09-01T00:00:00\",\"2015-10-01T00:00:00\",\"2015-11-01T00:00:00\",\"2015-12-01T00:00:00\",\"2016-01-01T00:00:00\",\"2016-02-01T00:00:00\",\"2016-03-01T00:00:00\",\"2016-04-01T00:00:00\",\"2016-05-01T00:00:00\",\"2016-06-01T00:00:00\",\"2016-07-01T00:00:00\",\"2016-08-01T00:00:00\",\"2016-09-01T00:00:00\",\"2016-10-01T00:00:00\",\"2016-11-01T00:00:00\",\"2016-12-01T00:00:00\",\"2017-01-01T00:00:00\",\"2017-02-01T00:00:00\",\"2017-03-01T00:00:00\",\"2017-04-01T00:00:00\",\"2017-05-01T00:00:00\",\"2017-06-01T00:00:00\",\"2017-07-01T00:00:00\",\"2017-08-01T00:00:00\",\"2017-09-01T00:00:00\",\"2017-10-01T00:00:00\",\"2017-11-01T00:00:00\",\"2017-12-01T00:00:00\",\"2018-01-01T00:00:00\",\"2018-02-01T00:00:00\",\"2018-03-01T00:00:00\",\"2018-04-01T00:00:00\",\"2018-05-01T00:00:00\",\"2018-06-01T00:00:00\",\"2018-07-01T00:00:00\",\"2018-08-01T00:00:00\",\"2018-09-01T00:00:00\",\"2018-10-01T00:00:00\",\"2018-11-01T00:00:00\",\"2018-12-01T00:00:00\",\"2019-01-01T00:00:00\",\"2019-02-01T00:00:00\",\"2019-03-01T00:00:00\",\"2019-04-01T00:00:00\",\"2019-05-01T00:00:00\",\"2019-06-01T00:00:00\",\"2019-07-01T00:00:00\",\"2019-08-01T00:00:00\",\"2019-09-01T00:00:00\",\"2019-10-01T00:00:00\",\"2019-11-01T00:00:00\",\"2019-12-01T00:00:00\",\"2020-01-01T00:00:00\",\"2020-02-01T00:00:00\",\"2020-03-01T00:00:00\",\"2020-04-01T00:00:00\",\"2020-05-01T00:00:00\",\"2020-06-01T00:00:00\",\"2020-07-01T00:00:00\",\"2020-08-01T00:00:00\",\"2020-09-01T00:00:00\",\"2020-10-01T00:00:00\",\"2020-11-01T00:00:00\",\"2020-12-01T00:00:00\",\"2021-01-01T00:00:00\",\"2021-02-01T00:00:00\",\"2021-03-01T00:00:00\",\"2021-04-01T00:00:00\",\"2021-05-01T00:00:00\",\"2021-06-01T00:00:00\",\"2021-07-01T00:00:00\",\"2021-08-01T00:00:00\",\"2021-09-01T00:00:00\",\"2021-10-01T00:00:00\",\"2021-11-01T00:00:00\",\"2021-12-01T00:00:00\",\"2022-01-01T00:00:00\"],\"xaxis\":\"x\",\"y\":[null,null,null,null,null,null,null,null,null,null,null,null,null,null,null,null,null,null,null,null,null,null,null,null,null,null,null,null,null,null,null,null,null,null,null,null,null,null,null,null,null,null,null,null,null,null,null,null,null,null,null,null,null,null,null,null,null,null,null,null,null,null,null,null,null,null,null,null,null,null,null,null,null,null,null,null,null,null,null,null,null,null,null,null,170710111.15341014,175932950.81970963,159193231.32447588,172819957.60989222,161582226.3739174,156490241.3974924,184365705.15527776,219818592.92684522],\"yaxis\":\"y\",\"type\":\"scatter\"},{\"hovertemplate\":\"variable=Total Payroll Revenue. - UTS Predicted<br>Calendar Date=%{x}<br>value=%{y}<extra></extra>\",\"legendgroup\":\"Total Payroll Revenue. - UTS Predicted\",\"line\":{\"color\":\"#00cc96\",\"dash\":\"solid\"},\"marker\":{\"symbol\":\"circle\"},\"mode\":\"lines\",\"name\":\"Total Payroll Revenue. - UTS Predicted\",\"orientation\":\"v\",\"showlegend\":true,\"x\":[\"2014-06-01T00:00:00\",\"2014-07-01T00:00:00\",\"2014-08-01T00:00:00\",\"2014-09-01T00:00:00\",\"2014-10-01T00:00:00\",\"2014-11-01T00:00:00\",\"2014-12-01T00:00:00\",\"2015-01-01T00:00:00\",\"2015-02-01T00:00:00\",\"2015-03-01T00:00:00\",\"2015-04-01T00:00:00\",\"2015-05-01T00:00:00\",\"2015-06-01T00:00:00\",\"2015-07-01T00:00:00\",\"2015-08-01T00:00:00\",\"2015-09-01T00:00:00\",\"2015-10-01T00:00:00\",\"2015-11-01T00:00:00\",\"2015-12-01T00:00:00\",\"2016-01-01T00:00:00\",\"2016-02-01T00:00:00\",\"2016-03-01T00:00:00\",\"2016-04-01T00:00:00\",\"2016-05-01T00:00:00\",\"2016-06-01T00:00:00\",\"2016-07-01T00:00:00\",\"2016-08-01T00:00:00\",\"2016-09-01T00:00:00\",\"2016-10-01T00:00:00\",\"2016-11-01T00:00:00\",\"2016-12-01T00:00:00\",\"2017-01-01T00:00:00\",\"2017-02-01T00:00:00\",\"2017-03-01T00:00:00\",\"2017-04-01T00:00:00\",\"2017-05-01T00:00:00\",\"2017-06-01T00:00:00\",\"2017-07-01T00:00:00\",\"2017-08-01T00:00:00\",\"2017-09-01T00:00:00\",\"2017-10-01T00:00:00\",\"2017-11-01T00:00:00\",\"2017-12-01T00:00:00\",\"2018-01-01T00:00:00\",\"2018-02-01T00:00:00\",\"2018-03-01T00:00:00\",\"2018-04-01T00:00:00\",\"2018-05-01T00:00:00\",\"2018-06-01T00:00:00\",\"2018-07-01T00:00:00\",\"2018-08-01T00:00:00\",\"2018-09-01T00:00:00\",\"2018-10-01T00:00:00\",\"2018-11-01T00:00:00\",\"2018-12-01T00:00:00\",\"2019-01-01T00:00:00\",\"2019-02-01T00:00:00\",\"2019-03-01T00:00:00\",\"2019-04-01T00:00:00\",\"2019-05-01T00:00:00\",\"2019-06-01T00:00:00\",\"2019-07-01T00:00:00\",\"2019-08-01T00:00:00\",\"2019-09-01T00:00:00\",\"2019-10-01T00:00:00\",\"2019-11-01T00:00:00\",\"2019-12-01T00:00:00\",\"2020-01-01T00:00:00\",\"2020-02-01T00:00:00\",\"2020-03-01T00:00:00\",\"2020-04-01T00:00:00\",\"2020-05-01T00:00:00\",\"2020-06-01T00:00:00\",\"2020-07-01T00:00:00\",\"2020-08-01T00:00:00\",\"2020-09-01T00:00:00\",\"2020-10-01T00:00:00\",\"2020-11-01T00:00:00\",\"2020-12-01T00:00:00\",\"2021-01-01T00:00:00\",\"2021-02-01T00:00:00\",\"2021-03-01T00:00:00\",\"2021-04-01T00:00:00\",\"2021-05-01T00:00:00\",\"2021-06-01T00:00:00\",\"2021-07-01T00:00:00\",\"2021-08-01T00:00:00\",\"2021-09-01T00:00:00\",\"2021-10-01T00:00:00\",\"2021-11-01T00:00:00\",\"2021-12-01T00:00:00\",\"2022-01-01T00:00:00\"],\"xaxis\":\"x\",\"y\":[null,null,null,null,null,null,null,null,null,null,null,null,null,null,null,null,null,null,null,null,null,null,null,null,null,null,null,null,null,null,null,null,null,null,null,null,null,null,null,null,null,null,null,null,null,null,null,null,null,null,null,null,null,null,null,null,null,null,null,null,null,null,null,null,null,null,null,null,null,null,null,null,null,null,null,null,null,null,null,null,null,null,null,null,149796058.90388387,159365177.35121104,149724672.22473738,155695908.38812235,162882837.9044883,153424109.39039278,177887442.94799396,237174048.08446875],\"yaxis\":\"y\",\"type\":\"scatter\"},{\"hovertemplate\":\"variable=Total Payroll Revenue. - Plan<br>Calendar Date=%{x}<br>value=%{y}<extra></extra>\",\"legendgroup\":\"Total Payroll Revenue. - Plan\",\"line\":{\"color\":\"#ab63fa\",\"dash\":\"solid\"},\"marker\":{\"symbol\":\"circle\"},\"mode\":\"lines\",\"name\":\"Total Payroll Revenue. - Plan\",\"orientation\":\"v\",\"showlegend\":true,\"x\":[\"2014-06-01T00:00:00\",\"2014-07-01T00:00:00\",\"2014-08-01T00:00:00\",\"2014-09-01T00:00:00\",\"2014-10-01T00:00:00\",\"2014-11-01T00:00:00\",\"2014-12-01T00:00:00\",\"2015-01-01T00:00:00\",\"2015-02-01T00:00:00\",\"2015-03-01T00:00:00\",\"2015-04-01T00:00:00\",\"2015-05-01T00:00:00\",\"2015-06-01T00:00:00\",\"2015-07-01T00:00:00\",\"2015-08-01T00:00:00\",\"2015-09-01T00:00:00\",\"2015-10-01T00:00:00\",\"2015-11-01T00:00:00\",\"2015-12-01T00:00:00\",\"2016-01-01T00:00:00\",\"2016-02-01T00:00:00\",\"2016-03-01T00:00:00\",\"2016-04-01T00:00:00\",\"2016-05-01T00:00:00\",\"2016-06-01T00:00:00\",\"2016-07-01T00:00:00\",\"2016-08-01T00:00:00\",\"2016-09-01T00:00:00\",\"2016-10-01T00:00:00\",\"2016-11-01T00:00:00\",\"2016-12-01T00:00:00\",\"2017-01-01T00:00:00\",\"2017-02-01T00:00:00\",\"2017-03-01T00:00:00\",\"2017-04-01T00:00:00\",\"2017-05-01T00:00:00\",\"2017-06-01T00:00:00\",\"2017-07-01T00:00:00\",\"2017-08-01T00:00:00\",\"2017-09-01T00:00:00\",\"2017-10-01T00:00:00\",\"2017-11-01T00:00:00\",\"2017-12-01T00:00:00\",\"2018-01-01T00:00:00\",\"2018-02-01T00:00:00\",\"2018-03-01T00:00:00\",\"2018-04-01T00:00:00\",\"2018-05-01T00:00:00\",\"2018-06-01T00:00:00\",\"2018-07-01T00:00:00\",\"2018-08-01T00:00:00\",\"2018-09-01T00:00:00\",\"2018-10-01T00:00:00\",\"2018-11-01T00:00:00\",\"2018-12-01T00:00:00\",\"2019-01-01T00:00:00\",\"2019-02-01T00:00:00\",\"2019-03-01T00:00:00\",\"2019-04-01T00:00:00\",\"2019-05-01T00:00:00\",\"2019-06-01T00:00:00\",\"2019-07-01T00:00:00\",\"2019-08-01T00:00:00\",\"2019-09-01T00:00:00\",\"2019-10-01T00:00:00\",\"2019-11-01T00:00:00\",\"2019-12-01T00:00:00\",\"2020-01-01T00:00:00\",\"2020-02-01T00:00:00\",\"2020-03-01T00:00:00\",\"2020-04-01T00:00:00\",\"2020-05-01T00:00:00\",\"2020-06-01T00:00:00\",\"2020-07-01T00:00:00\",\"2020-08-01T00:00:00\",\"2020-09-01T00:00:00\",\"2020-10-01T00:00:00\",\"2020-11-01T00:00:00\",\"2020-12-01T00:00:00\",\"2021-01-01T00:00:00\",\"2021-02-01T00:00:00\",\"2021-03-01T00:00:00\",\"2021-04-01T00:00:00\",\"2021-05-01T00:00:00\",\"2021-06-01T00:00:00\",\"2021-07-01T00:00:00\",\"2021-08-01T00:00:00\",\"2021-09-01T00:00:00\",\"2021-10-01T00:00:00\",\"2021-11-01T00:00:00\",\"2021-12-01T00:00:00\",\"2022-01-01T00:00:00\"],\"xaxis\":\"x\",\"y\":[null,null,null,null,null,null,null,null,null,null,null,null,null,null,null,null,null,null,null,null,null,null,null,null,null,null,null,null,null,null,null,null,null,null,null,null,null,null,null,null,null,null,null,null,null,null,null,null,null,null,null,null,null,null,null,null,null,null,null,null,null,null,null,null,null,null,null,null,null,null,null,null,null,null,null,null,null,null,null,null,null,null,null,null,154515187.2,159982894.18,157321154.54,153586211.63,149669763.37,153693470.93,168474035.23000002,243260982.52],\"yaxis\":\"y\",\"type\":\"scatter\"},{\"hovertemplate\":\"variable=Total Payroll Revenue. - 2+10 Forecast<br>Calendar Date=%{x}<br>value=%{y}<extra></extra>\",\"legendgroup\":\"Total Payroll Revenue. - 2+10 Forecast\",\"line\":{\"color\":\"#FFA15A\",\"dash\":\"solid\"},\"marker\":{\"symbol\":\"circle\"},\"mode\":\"lines\",\"name\":\"Total Payroll Revenue. - 2+10 Forecast\",\"orientation\":\"v\",\"showlegend\":true,\"x\":[\"2014-06-01T00:00:00\",\"2014-07-01T00:00:00\",\"2014-08-01T00:00:00\",\"2014-09-01T00:00:00\",\"2014-10-01T00:00:00\",\"2014-11-01T00:00:00\",\"2014-12-01T00:00:00\",\"2015-01-01T00:00:00\",\"2015-02-01T00:00:00\",\"2015-03-01T00:00:00\",\"2015-04-01T00:00:00\",\"2015-05-01T00:00:00\",\"2015-06-01T00:00:00\",\"2015-07-01T00:00:00\",\"2015-08-01T00:00:00\",\"2015-09-01T00:00:00\",\"2015-10-01T00:00:00\",\"2015-11-01T00:00:00\",\"2015-12-01T00:00:00\",\"2016-01-01T00:00:00\",\"2016-02-01T00:00:00\",\"2016-03-01T00:00:00\",\"2016-04-01T00:00:00\",\"2016-05-01T00:00:00\",\"2016-06-01T00:00:00\",\"2016-07-01T00:00:00\",\"2016-08-01T00:00:00\",\"2016-09-01T00:00:00\",\"2016-10-01T00:00:00\",\"2016-11-01T00:00:00\",\"2016-12-01T00:00:00\",\"2017-01-01T00:00:00\",\"2017-02-01T00:00:00\",\"2017-03-01T00:00:00\",\"2017-04-01T00:00:00\",\"2017-05-01T00:00:00\",\"2017-06-01T00:00:00\",\"2017-07-01T00:00:00\",\"2017-08-01T00:00:00\",\"2017-09-01T00:00:00\",\"2017-10-01T00:00:00\",\"2017-11-01T00:00:00\",\"2017-12-01T00:00:00\",\"2018-01-01T00:00:00\",\"2018-02-01T00:00:00\",\"2018-03-01T00:00:00\",\"2018-04-01T00:00:00\",\"2018-05-01T00:00:00\",\"2018-06-01T00:00:00\",\"2018-07-01T00:00:00\",\"2018-08-01T00:00:00\",\"2018-09-01T00:00:00\",\"2018-10-01T00:00:00\",\"2018-11-01T00:00:00\",\"2018-12-01T00:00:00\",\"2019-01-01T00:00:00\",\"2019-02-01T00:00:00\",\"2019-03-01T00:00:00\",\"2019-04-01T00:00:00\",\"2019-05-01T00:00:00\",\"2019-06-01T00:00:00\",\"2019-07-01T00:00:00\",\"2019-08-01T00:00:00\",\"2019-09-01T00:00:00\",\"2019-10-01T00:00:00\",\"2019-11-01T00:00:00\",\"2019-12-01T00:00:00\",\"2020-01-01T00:00:00\",\"2020-02-01T00:00:00\",\"2020-03-01T00:00:00\",\"2020-04-01T00:00:00\",\"2020-05-01T00:00:00\",\"2020-06-01T00:00:00\",\"2020-07-01T00:00:00\",\"2020-08-01T00:00:00\",\"2020-09-01T00:00:00\",\"2020-10-01T00:00:00\",\"2020-11-01T00:00:00\",\"2020-12-01T00:00:00\",\"2021-01-01T00:00:00\",\"2021-02-01T00:00:00\",\"2021-03-01T00:00:00\",\"2021-04-01T00:00:00\",\"2021-05-01T00:00:00\",\"2021-06-01T00:00:00\",\"2021-07-01T00:00:00\",\"2021-08-01T00:00:00\",\"2021-09-01T00:00:00\",\"2021-10-01T00:00:00\",\"2021-11-01T00:00:00\",\"2021-12-01T00:00:00\",\"2022-01-01T00:00:00\"],\"xaxis\":\"x\",\"y\":[null,null,null,null,null,null,null,null,null,null,null,null,null,null,null,null,null,null,null,null,null,null,null,null,null,null,null,null,null,null,null,null,null,null,null,null,null,null,null,null,null,null,null,null,null,null,null,null,null,null,null,null,null,null,null,null,null,null,null,null,null,null,null,null,null,null,null,null,null,null,null,null,null,null,null,null,null,null,null,null,null,null,null,null,157525302.07,160305548.52,159827056.84,154997552.57,150166537.60999998,155278838.69,169304473.45,243588379.73],\"yaxis\":\"y\",\"type\":\"scatter\"}],                        {\"template\":{\"data\":{\"barpolar\":[{\"marker\":{\"line\":{\"color\":\"white\",\"width\":0.5},\"pattern\":{\"fillmode\":\"overlay\",\"size\":10,\"solidity\":0.2}},\"type\":\"barpolar\"}],\"bar\":[{\"error_x\":{\"color\":\"#2a3f5f\"},\"error_y\":{\"color\":\"#2a3f5f\"},\"marker\":{\"line\":{\"color\":\"white\",\"width\":0.5},\"pattern\":{\"fillmode\":\"overlay\",\"size\":10,\"solidity\":0.2}},\"type\":\"bar\"}],\"carpet\":[{\"aaxis\":{\"endlinecolor\":\"#2a3f5f\",\"gridcolor\":\"#C8D4E3\",\"linecolor\":\"#C8D4E3\",\"minorgridcolor\":\"#C8D4E3\",\"startlinecolor\":\"#2a3f5f\"},\"baxis\":{\"endlinecolor\":\"#2a3f5f\",\"gridcolor\":\"#C8D4E3\",\"linecolor\":\"#C8D4E3\",\"minorgridcolor\":\"#C8D4E3\",\"startlinecolor\":\"#2a3f5f\"},\"type\":\"carpet\"}],\"choropleth\":[{\"colorbar\":{\"outlinewidth\":0,\"ticks\":\"\"},\"type\":\"choropleth\"}],\"contourcarpet\":[{\"colorbar\":{\"outlinewidth\":0,\"ticks\":\"\"},\"type\":\"contourcarpet\"}],\"contour\":[{\"colorbar\":{\"outlinewidth\":0,\"ticks\":\"\"},\"colorscale\":[[0.0,\"#0d0887\"],[0.1111111111111111,\"#46039f\"],[0.2222222222222222,\"#7201a8\"],[0.3333333333333333,\"#9c179e\"],[0.4444444444444444,\"#bd3786\"],[0.5555555555555556,\"#d8576b\"],[0.6666666666666666,\"#ed7953\"],[0.7777777777777778,\"#fb9f3a\"],[0.8888888888888888,\"#fdca26\"],[1.0,\"#f0f921\"]],\"type\":\"contour\"}],\"heatmapgl\":[{\"colorbar\":{\"outlinewidth\":0,\"ticks\":\"\"},\"colorscale\":[[0.0,\"#0d0887\"],[0.1111111111111111,\"#46039f\"],[0.2222222222222222,\"#7201a8\"],[0.3333333333333333,\"#9c179e\"],[0.4444444444444444,\"#bd3786\"],[0.5555555555555556,\"#d8576b\"],[0.6666666666666666,\"#ed7953\"],[0.7777777777777778,\"#fb9f3a\"],[0.8888888888888888,\"#fdca26\"],[1.0,\"#f0f921\"]],\"type\":\"heatmapgl\"}],\"heatmap\":[{\"colorbar\":{\"outlinewidth\":0,\"ticks\":\"\"},\"colorscale\":[[0.0,\"#0d0887\"],[0.1111111111111111,\"#46039f\"],[0.2222222222222222,\"#7201a8\"],[0.3333333333333333,\"#9c179e\"],[0.4444444444444444,\"#bd3786\"],[0.5555555555555556,\"#d8576b\"],[0.6666666666666666,\"#ed7953\"],[0.7777777777777778,\"#fb9f3a\"],[0.8888888888888888,\"#fdca26\"],[1.0,\"#f0f921\"]],\"type\":\"heatmap\"}],\"histogram2dcontour\":[{\"colorbar\":{\"outlinewidth\":0,\"ticks\":\"\"},\"colorscale\":[[0.0,\"#0d0887\"],[0.1111111111111111,\"#46039f\"],[0.2222222222222222,\"#7201a8\"],[0.3333333333333333,\"#9c179e\"],[0.4444444444444444,\"#bd3786\"],[0.5555555555555556,\"#d8576b\"],[0.6666666666666666,\"#ed7953\"],[0.7777777777777778,\"#fb9f3a\"],[0.8888888888888888,\"#fdca26\"],[1.0,\"#f0f921\"]],\"type\":\"histogram2dcontour\"}],\"histogram2d\":[{\"colorbar\":{\"outlinewidth\":0,\"ticks\":\"\"},\"colorscale\":[[0.0,\"#0d0887\"],[0.1111111111111111,\"#46039f\"],[0.2222222222222222,\"#7201a8\"],[0.3333333333333333,\"#9c179e\"],[0.4444444444444444,\"#bd3786\"],[0.5555555555555556,\"#d8576b\"],[0.6666666666666666,\"#ed7953\"],[0.7777777777777778,\"#fb9f3a\"],[0.8888888888888888,\"#fdca26\"],[1.0,\"#f0f921\"]],\"type\":\"histogram2d\"}],\"histogram\":[{\"marker\":{\"pattern\":{\"fillmode\":\"overlay\",\"size\":10,\"solidity\":0.2}},\"type\":\"histogram\"}],\"mesh3d\":[{\"colorbar\":{\"outlinewidth\":0,\"ticks\":\"\"},\"type\":\"mesh3d\"}],\"parcoords\":[{\"line\":{\"colorbar\":{\"outlinewidth\":0,\"ticks\":\"\"}},\"type\":\"parcoords\"}],\"pie\":[{\"automargin\":true,\"type\":\"pie\"}],\"scatter3d\":[{\"line\":{\"colorbar\":{\"outlinewidth\":0,\"ticks\":\"\"}},\"marker\":{\"colorbar\":{\"outlinewidth\":0,\"ticks\":\"\"}},\"type\":\"scatter3d\"}],\"scattercarpet\":[{\"marker\":{\"colorbar\":{\"outlinewidth\":0,\"ticks\":\"\"}},\"type\":\"scattercarpet\"}],\"scattergeo\":[{\"marker\":{\"colorbar\":{\"outlinewidth\":0,\"ticks\":\"\"}},\"type\":\"scattergeo\"}],\"scattergl\":[{\"marker\":{\"colorbar\":{\"outlinewidth\":0,\"ticks\":\"\"}},\"type\":\"scattergl\"}],\"scattermapbox\":[{\"marker\":{\"colorbar\":{\"outlinewidth\":0,\"ticks\":\"\"}},\"type\":\"scattermapbox\"}],\"scatterpolargl\":[{\"marker\":{\"colorbar\":{\"outlinewidth\":0,\"ticks\":\"\"}},\"type\":\"scatterpolargl\"}],\"scatterpolar\":[{\"marker\":{\"colorbar\":{\"outlinewidth\":0,\"ticks\":\"\"}},\"type\":\"scatterpolar\"}],\"scatter\":[{\"fillpattern\":{\"fillmode\":\"overlay\",\"size\":10,\"solidity\":0.2},\"type\":\"scatter\"}],\"scatterternary\":[{\"marker\":{\"colorbar\":{\"outlinewidth\":0,\"ticks\":\"\"}},\"type\":\"scatterternary\"}],\"surface\":[{\"colorbar\":{\"outlinewidth\":0,\"ticks\":\"\"},\"colorscale\":[[0.0,\"#0d0887\"],[0.1111111111111111,\"#46039f\"],[0.2222222222222222,\"#7201a8\"],[0.3333333333333333,\"#9c179e\"],[0.4444444444444444,\"#bd3786\"],[0.5555555555555556,\"#d8576b\"],[0.6666666666666666,\"#ed7953\"],[0.7777777777777778,\"#fb9f3a\"],[0.8888888888888888,\"#fdca26\"],[1.0,\"#f0f921\"]],\"type\":\"surface\"}],\"table\":[{\"cells\":{\"fill\":{\"color\":\"#EBF0F8\"},\"line\":{\"color\":\"white\"}},\"header\":{\"fill\":{\"color\":\"#C8D4E3\"},\"line\":{\"color\":\"white\"}},\"type\":\"table\"}]},\"layout\":{\"annotationdefaults\":{\"arrowcolor\":\"#2a3f5f\",\"arrowhead\":0,\"arrowwidth\":1},\"autotypenumbers\":\"strict\",\"coloraxis\":{\"colorbar\":{\"outlinewidth\":0,\"ticks\":\"\"}},\"colorscale\":{\"diverging\":[[0,\"#8e0152\"],[0.1,\"#c51b7d\"],[0.2,\"#de77ae\"],[0.3,\"#f1b6da\"],[0.4,\"#fde0ef\"],[0.5,\"#f7f7f7\"],[0.6,\"#e6f5d0\"],[0.7,\"#b8e186\"],[0.8,\"#7fbc41\"],[0.9,\"#4d9221\"],[1,\"#276419\"]],\"sequential\":[[0.0,\"#0d0887\"],[0.1111111111111111,\"#46039f\"],[0.2222222222222222,\"#7201a8\"],[0.3333333333333333,\"#9c179e\"],[0.4444444444444444,\"#bd3786\"],[0.5555555555555556,\"#d8576b\"],[0.6666666666666666,\"#ed7953\"],[0.7777777777777778,\"#fb9f3a\"],[0.8888888888888888,\"#fdca26\"],[1.0,\"#f0f921\"]],\"sequentialminus\":[[0.0,\"#0d0887\"],[0.1111111111111111,\"#46039f\"],[0.2222222222222222,\"#7201a8\"],[0.3333333333333333,\"#9c179e\"],[0.4444444444444444,\"#bd3786\"],[0.5555555555555556,\"#d8576b\"],[0.6666666666666666,\"#ed7953\"],[0.7777777777777778,\"#fb9f3a\"],[0.8888888888888888,\"#fdca26\"],[1.0,\"#f0f921\"]]},\"colorway\":[\"#636efa\",\"#EF553B\",\"#00cc96\",\"#ab63fa\",\"#FFA15A\",\"#19d3f3\",\"#FF6692\",\"#B6E880\",\"#FF97FF\",\"#FECB52\"],\"font\":{\"color\":\"#2a3f5f\"},\"geo\":{\"bgcolor\":\"white\",\"lakecolor\":\"white\",\"landcolor\":\"white\",\"showlakes\":true,\"showland\":true,\"subunitcolor\":\"#C8D4E3\"},\"hoverlabel\":{\"align\":\"left\"},\"hovermode\":\"closest\",\"mapbox\":{\"style\":\"light\"},\"paper_bgcolor\":\"white\",\"plot_bgcolor\":\"white\",\"polar\":{\"angularaxis\":{\"gridcolor\":\"#EBF0F8\",\"linecolor\":\"#EBF0F8\",\"ticks\":\"\"},\"bgcolor\":\"white\",\"radialaxis\":{\"gridcolor\":\"#EBF0F8\",\"linecolor\":\"#EBF0F8\",\"ticks\":\"\"}},\"scene\":{\"xaxis\":{\"backgroundcolor\":\"white\",\"gridcolor\":\"#DFE8F3\",\"gridwidth\":2,\"linecolor\":\"#EBF0F8\",\"showbackground\":true,\"ticks\":\"\",\"zerolinecolor\":\"#EBF0F8\"},\"yaxis\":{\"backgroundcolor\":\"white\",\"gridcolor\":\"#DFE8F3\",\"gridwidth\":2,\"linecolor\":\"#EBF0F8\",\"showbackground\":true,\"ticks\":\"\",\"zerolinecolor\":\"#EBF0F8\"},\"zaxis\":{\"backgroundcolor\":\"white\",\"gridcolor\":\"#DFE8F3\",\"gridwidth\":2,\"linecolor\":\"#EBF0F8\",\"showbackground\":true,\"ticks\":\"\",\"zerolinecolor\":\"#EBF0F8\"}},\"shapedefaults\":{\"line\":{\"color\":\"#2a3f5f\"}},\"ternary\":{\"aaxis\":{\"gridcolor\":\"#DFE8F3\",\"linecolor\":\"#A2B1C6\",\"ticks\":\"\"},\"baxis\":{\"gridcolor\":\"#DFE8F3\",\"linecolor\":\"#A2B1C6\",\"ticks\":\"\"},\"bgcolor\":\"white\",\"caxis\":{\"gridcolor\":\"#DFE8F3\",\"linecolor\":\"#A2B1C6\",\"ticks\":\"\"}},\"title\":{\"x\":0.05},\"xaxis\":{\"automargin\":true,\"gridcolor\":\"#EBF0F8\",\"linecolor\":\"#EBF0F8\",\"ticks\":\"\",\"title\":{\"standoff\":15},\"zerolinecolor\":\"#EBF0F8\",\"zerolinewidth\":2},\"yaxis\":{\"automargin\":true,\"gridcolor\":\"#EBF0F8\",\"linecolor\":\"#EBF0F8\",\"ticks\":\"\",\"title\":{\"standoff\":15},\"zerolinecolor\":\"#EBF0F8\",\"zerolinewidth\":2}}},\"xaxis\":{\"anchor\":\"y\",\"domain\":[0.0,1.0],\"title\":{\"text\":\"Calendar Date\"}},\"yaxis\":{\"anchor\":\"x\",\"domain\":[0.0,1.0],\"title\":{\"text\":\"value\"}},\"legend\":{\"title\":{\"text\":\"variable\"},\"tracegroupgap\":0},\"margin\":{\"t\":60}},                        {\"responsive\": true}                    ).then(function(){\n                            \nvar gd = document.getElementById('c4f909d0-da53-4784-a65f-7f5611721b88');\nvar x = new MutationObserver(function (mutations, observer) {{\n        var display = window.getComputedStyle(gd).display;\n        if (!display || display === 'none') {{\n            console.log([gd, 'removed!']);\n            Plotly.purge(gd);\n            observer.disconnect();\n        }}\n}});\n\n// Listen for the removal of the full notebook cells\nvar notebookContainer = gd.closest('#notebook-container');\nif (notebookContainer) {{\n    x.observe(notebookContainer, {childList: true});\n}}\n\n// Listen for the clearing of the current output cell\nvar outputEl = gd.closest('.output');\nif (outputEl) {{\n    x.observe(outputEl, {childList: true});\n}}\n\n                        })                };                });            </script>        </div>"
     },
     "metadata": {},
     "output_type": "display_data"
    }
   ],
   "source": [
    "# show plot\n",
    "fig = px.line(concat_df, x='Calendar Date', y=[target_col, ml_col, uts_col, plan_col, fcst_col], template='plotly_white')\n",
    "fig.show()"
   ],
   "metadata": {
    "collapsed": false,
    "pycharm": {
     "name": "#%%\n"
    }
   }
  },
  {
   "cell_type": "code",
   "execution_count": 37,
   "outputs": [],
   "source": [
    "# compute mape_df\n",
    "mape_df = concat_df[['Calendar Date', target_col, ml_col, uts_col, plan_col, fcst_col]]\n",
    "mape_df = mape_df[mape_df['Calendar Date'] >= datetime.strptime(pred_start_dt, '%Y%m%d')]\n",
    "mape_df = models.compute_apes_and_mapes(mape_df, 'Calendar Date', target_col, fcst_cols)\n",
    "mape_df = mape_df.rename(index={True:'MAPE'})\n",
    "mape_df = pd.concat([mape_df.reset_index(drop=True), uts_df], axis=1)"
   ],
   "metadata": {
    "collapsed": false,
    "pycharm": {
     "name": "#%%\n"
    }
   }
  },
  {
   "cell_type": "code",
   "execution_count": 38,
   "outputs": [
    {
     "data": {
      "text/plain": "         Calendar Date  Total Payroll Revenue.  Total Payroll Revenue. - Plan  \\\n0  2021-06-01 00:00:00            1.575253e+08                   1.545152e+08   \n1  2021-07-01 00:00:00            1.603055e+08                   1.599829e+08   \n2  2021-08-01 00:00:00            1.581824e+08                   1.573212e+08   \n3  2021-09-01 00:00:00            1.636794e+08                   1.535862e+08   \n4  2021-10-01 00:00:00            1.582147e+08                   1.496698e+08   \n5  2021-11-01 00:00:00            1.654184e+08                   1.536935e+08   \n6  2021-12-01 00:00:00            1.902936e+08                   1.684740e+08   \n7  2022-01-01 00:00:00            2.589241e+08                   2.432610e+08   \n8                  NaN                     NaN                            NaN   \n\n   Total Payroll Revenue. - Plan - APE  \\\n0                             0.019109   \n1                             0.002013   \n2                             0.005445   \n3                             0.061664   \n4                             0.054009   \n5                             0.070881   \n6                             0.114663   \n7                             0.060493   \n8                             0.048534   \n\n   Total Payroll Revenue. - 2+10 Forecast  \\\n0                            1.575253e+08   \n1                            1.603055e+08   \n2                            1.598271e+08   \n3                            1.549976e+08   \n4                            1.501665e+08   \n5                            1.552788e+08   \n6                            1.693045e+08   \n7                            2.435884e+08   \n8                                     NaN   \n\n   Total Payroll Revenue. - 2+10 Forecast - APE  \\\n0                                      0.000000   \n1                                      0.000000   \n2                                      0.010397   \n3                                      0.053042   \n4                                      0.050869   \n5                                      0.061297   \n6                                      0.110299   \n7                                      0.059229   \n8                                      0.043141   \n\n   Total Payroll Revenue. - ML Predicted  \\\n0                           1.707101e+08   \n1                           1.759330e+08   \n2                           1.591932e+08   \n3                           1.728200e+08   \n4                           1.615822e+08   \n5                           1.564902e+08   \n6                           1.843657e+08   \n7                           2.198186e+08   \n8                                    NaN   \n\n   Total Payroll Revenue. - ML Predicted - APE  \\\n0                                     0.083700   \n1                                     0.097485   \n2                                     0.006390   \n3                                     0.055844   \n4                                     0.021285   \n5                                     0.053973   \n6                                     0.031151   \n7                                     0.151031   \n8                                     0.062607   \n\n   Total Payroll Revenue. - UTS Predicted  \\\n0                            1.497961e+08   \n1                            1.593652e+08   \n2                            1.497247e+08   \n3                            1.556959e+08   \n4                            1.628828e+08   \n5                            1.534241e+08   \n6                            1.778874e+08   \n7                            2.371740e+08   \n8                                     NaN   \n\n   Total Payroll Revenue. - UTS Predicted - APE Calendar Date  \\\n0                                      0.049067    2021-06-01   \n1                                      0.005866    2021-07-01   \n2                                      0.053468    2021-08-01   \n3                                      0.048775    2021-09-01   \n4                                      0.029505    2021-10-01   \n5                                      0.072509    2021-11-01   \n6                                      0.065195    2021-12-01   \n7                                      0.084002    2022-01-01   \n8                                      0.051048           NaT   \n\n   Total Payroll Revenue. - UTS Predicted      Lower CI      Upper CI  \n0                            1.497961e+08  1.131105e+08  1.864817e+08  \n1                            1.593652e+08  1.174609e+08  2.012694e+08  \n2                            1.497247e+08  1.031833e+08  1.962660e+08  \n3                            1.556959e+08  1.049393e+08  2.064525e+08  \n4                            1.628828e+08  1.082352e+08  2.175305e+08  \n5                            1.534241e+08  9.514463e+07  2.117036e+08  \n6                            1.778874e+08  1.161895e+08  2.395853e+08  \n7                            2.371740e+08  1.722374e+08  3.021107e+08  \n8                                     NaN           NaN           NaN  ",
      "text/html": "<div>\n<style scoped>\n    .dataframe tbody tr th:only-of-type {\n        vertical-align: middle;\n    }\n\n    .dataframe tbody tr th {\n        vertical-align: top;\n    }\n\n    .dataframe thead th {\n        text-align: right;\n    }\n</style>\n<table border=\"1\" class=\"dataframe\">\n  <thead>\n    <tr style=\"text-align: right;\">\n      <th></th>\n      <th>Calendar Date</th>\n      <th>Total Payroll Revenue.</th>\n      <th>Total Payroll Revenue. - Plan</th>\n      <th>Total Payroll Revenue. - Plan - APE</th>\n      <th>Total Payroll Revenue. - 2+10 Forecast</th>\n      <th>Total Payroll Revenue. - 2+10 Forecast - APE</th>\n      <th>Total Payroll Revenue. - ML Predicted</th>\n      <th>Total Payroll Revenue. - ML Predicted - APE</th>\n      <th>Total Payroll Revenue. - UTS Predicted</th>\n      <th>Total Payroll Revenue. - UTS Predicted - APE</th>\n      <th>Calendar Date</th>\n      <th>Total Payroll Revenue. - UTS Predicted</th>\n      <th>Lower CI</th>\n      <th>Upper CI</th>\n    </tr>\n  </thead>\n  <tbody>\n    <tr>\n      <th>0</th>\n      <td>2021-06-01 00:00:00</td>\n      <td>1.575253e+08</td>\n      <td>1.545152e+08</td>\n      <td>0.019109</td>\n      <td>1.575253e+08</td>\n      <td>0.000000</td>\n      <td>1.707101e+08</td>\n      <td>0.083700</td>\n      <td>1.497961e+08</td>\n      <td>0.049067</td>\n      <td>2021-06-01</td>\n      <td>1.497961e+08</td>\n      <td>1.131105e+08</td>\n      <td>1.864817e+08</td>\n    </tr>\n    <tr>\n      <th>1</th>\n      <td>2021-07-01 00:00:00</td>\n      <td>1.603055e+08</td>\n      <td>1.599829e+08</td>\n      <td>0.002013</td>\n      <td>1.603055e+08</td>\n      <td>0.000000</td>\n      <td>1.759330e+08</td>\n      <td>0.097485</td>\n      <td>1.593652e+08</td>\n      <td>0.005866</td>\n      <td>2021-07-01</td>\n      <td>1.593652e+08</td>\n      <td>1.174609e+08</td>\n      <td>2.012694e+08</td>\n    </tr>\n    <tr>\n      <th>2</th>\n      <td>2021-08-01 00:00:00</td>\n      <td>1.581824e+08</td>\n      <td>1.573212e+08</td>\n      <td>0.005445</td>\n      <td>1.598271e+08</td>\n      <td>0.010397</td>\n      <td>1.591932e+08</td>\n      <td>0.006390</td>\n      <td>1.497247e+08</td>\n      <td>0.053468</td>\n      <td>2021-08-01</td>\n      <td>1.497247e+08</td>\n      <td>1.031833e+08</td>\n      <td>1.962660e+08</td>\n    </tr>\n    <tr>\n      <th>3</th>\n      <td>2021-09-01 00:00:00</td>\n      <td>1.636794e+08</td>\n      <td>1.535862e+08</td>\n      <td>0.061664</td>\n      <td>1.549976e+08</td>\n      <td>0.053042</td>\n      <td>1.728200e+08</td>\n      <td>0.055844</td>\n      <td>1.556959e+08</td>\n      <td>0.048775</td>\n      <td>2021-09-01</td>\n      <td>1.556959e+08</td>\n      <td>1.049393e+08</td>\n      <td>2.064525e+08</td>\n    </tr>\n    <tr>\n      <th>4</th>\n      <td>2021-10-01 00:00:00</td>\n      <td>1.582147e+08</td>\n      <td>1.496698e+08</td>\n      <td>0.054009</td>\n      <td>1.501665e+08</td>\n      <td>0.050869</td>\n      <td>1.615822e+08</td>\n      <td>0.021285</td>\n      <td>1.628828e+08</td>\n      <td>0.029505</td>\n      <td>2021-10-01</td>\n      <td>1.628828e+08</td>\n      <td>1.082352e+08</td>\n      <td>2.175305e+08</td>\n    </tr>\n    <tr>\n      <th>5</th>\n      <td>2021-11-01 00:00:00</td>\n      <td>1.654184e+08</td>\n      <td>1.536935e+08</td>\n      <td>0.070881</td>\n      <td>1.552788e+08</td>\n      <td>0.061297</td>\n      <td>1.564902e+08</td>\n      <td>0.053973</td>\n      <td>1.534241e+08</td>\n      <td>0.072509</td>\n      <td>2021-11-01</td>\n      <td>1.534241e+08</td>\n      <td>9.514463e+07</td>\n      <td>2.117036e+08</td>\n    </tr>\n    <tr>\n      <th>6</th>\n      <td>2021-12-01 00:00:00</td>\n      <td>1.902936e+08</td>\n      <td>1.684740e+08</td>\n      <td>0.114663</td>\n      <td>1.693045e+08</td>\n      <td>0.110299</td>\n      <td>1.843657e+08</td>\n      <td>0.031151</td>\n      <td>1.778874e+08</td>\n      <td>0.065195</td>\n      <td>2021-12-01</td>\n      <td>1.778874e+08</td>\n      <td>1.161895e+08</td>\n      <td>2.395853e+08</td>\n    </tr>\n    <tr>\n      <th>7</th>\n      <td>2022-01-01 00:00:00</td>\n      <td>2.589241e+08</td>\n      <td>2.432610e+08</td>\n      <td>0.060493</td>\n      <td>2.435884e+08</td>\n      <td>0.059229</td>\n      <td>2.198186e+08</td>\n      <td>0.151031</td>\n      <td>2.371740e+08</td>\n      <td>0.084002</td>\n      <td>2022-01-01</td>\n      <td>2.371740e+08</td>\n      <td>1.722374e+08</td>\n      <td>3.021107e+08</td>\n    </tr>\n    <tr>\n      <th>8</th>\n      <td>NaN</td>\n      <td>NaN</td>\n      <td>NaN</td>\n      <td>0.048534</td>\n      <td>NaN</td>\n      <td>0.043141</td>\n      <td>NaN</td>\n      <td>0.062607</td>\n      <td>NaN</td>\n      <td>0.051048</td>\n      <td>NaT</td>\n      <td>NaN</td>\n      <td>NaN</td>\n      <td>NaN</td>\n    </tr>\n  </tbody>\n</table>\n</div>"
     },
     "execution_count": 38,
     "metadata": {},
     "output_type": "execute_result"
    }
   ],
   "source": [
    "mape_df"
   ],
   "metadata": {
    "collapsed": false,
    "pycharm": {
     "name": "#%%\n"
    }
   }
  },
  {
   "cell_type": "code",
   "execution_count": 39,
   "outputs": [],
   "source": [
    "metadata_path = proyect_path + \"/data/metadata/\"\n",
    "mape_path = metadata_path + model_run_date + \"_mape.xlsx\"\n",
    "if os.path.exists(mape_path):\n",
    "    book = load_workbook(mape_path)\n",
    "else:\n",
    "    book = Workbook()\n",
    "with pd.ExcelWriter(mape_path, engine = 'openpyxl') as writer:\n",
    "    writer.book = book\n",
    "    mape_df.to_excel(writer, sheet_name = target_col[0:30], index=False)"
   ],
   "metadata": {
    "collapsed": false,
    "pycharm": {
     "name": "#%%\n"
    }
   }
  },
  {
   "cell_type": "code",
   "execution_count": 39,
   "outputs": [],
   "source": [],
   "metadata": {
    "collapsed": false,
    "pycharm": {
     "name": "#%%\n"
    }
   }
  },
  {
   "cell_type": "code",
   "execution_count": 40,
   "outputs": [
    {
     "data": {
      "text/plain": "  Calendar Date  Total Payroll Revenue.  \\\n0    2021-06-01            1.575253e+08   \n1    2021-07-01            1.603055e+08   \n2    2021-08-01            1.581824e+08   \n3    2021-09-01            1.636794e+08   \n4    2021-10-01            1.582147e+08   \n5    2021-11-01            1.654184e+08   \n6    2021-12-01            1.902936e+08   \n7    2022-01-01            2.589241e+08   \n\n   Total Payroll Revenue. - ML Predicted  Total Payroll Revenue. - Plan  \\\n0                           1.707101e+08                   1.545152e+08   \n1                           1.759330e+08                   1.599829e+08   \n2                           1.591932e+08                   1.573212e+08   \n3                           1.728200e+08                   1.535862e+08   \n4                           1.615822e+08                   1.496698e+08   \n5                           1.564902e+08                   1.536935e+08   \n6                           1.843657e+08                   1.684740e+08   \n7                           2.198186e+08                   2.432610e+08   \n\n   Total Payroll Revenue. - 2+10 Forecast  \\\n0                            1.575253e+08   \n1                            1.603055e+08   \n2                            1.598271e+08   \n3                            1.549976e+08   \n4                            1.501665e+08   \n5                            1.552788e+08   \n6                            1.693045e+08   \n7                            2.435884e+08   \n\n   Total Payroll Revenue. - UTS Predicted      Lower CI      Upper CI  \n0                            1.497961e+08  1.131105e+08  1.864817e+08  \n1                            1.593652e+08  1.174609e+08  2.012694e+08  \n2                            1.497247e+08  1.031833e+08  1.962660e+08  \n3                            1.556959e+08  1.049393e+08  2.064525e+08  \n4                            1.628828e+08  1.082352e+08  2.175305e+08  \n5                            1.534241e+08  9.514463e+07  2.117036e+08  \n6                            1.778874e+08  1.161895e+08  2.395853e+08  \n7                            2.371740e+08  1.722374e+08  3.021107e+08  ",
      "text/html": "<div>\n<style scoped>\n    .dataframe tbody tr th:only-of-type {\n        vertical-align: middle;\n    }\n\n    .dataframe tbody tr th {\n        vertical-align: top;\n    }\n\n    .dataframe thead th {\n        text-align: right;\n    }\n</style>\n<table border=\"1\" class=\"dataframe\">\n  <thead>\n    <tr style=\"text-align: right;\">\n      <th></th>\n      <th>Calendar Date</th>\n      <th>Total Payroll Revenue.</th>\n      <th>Total Payroll Revenue. - ML Predicted</th>\n      <th>Total Payroll Revenue. - Plan</th>\n      <th>Total Payroll Revenue. - 2+10 Forecast</th>\n      <th>Total Payroll Revenue. - UTS Predicted</th>\n      <th>Lower CI</th>\n      <th>Upper CI</th>\n    </tr>\n  </thead>\n  <tbody>\n    <tr>\n      <th>0</th>\n      <td>2021-06-01</td>\n      <td>1.575253e+08</td>\n      <td>1.707101e+08</td>\n      <td>1.545152e+08</td>\n      <td>1.575253e+08</td>\n      <td>1.497961e+08</td>\n      <td>1.131105e+08</td>\n      <td>1.864817e+08</td>\n    </tr>\n    <tr>\n      <th>1</th>\n      <td>2021-07-01</td>\n      <td>1.603055e+08</td>\n      <td>1.759330e+08</td>\n      <td>1.599829e+08</td>\n      <td>1.603055e+08</td>\n      <td>1.593652e+08</td>\n      <td>1.174609e+08</td>\n      <td>2.012694e+08</td>\n    </tr>\n    <tr>\n      <th>2</th>\n      <td>2021-08-01</td>\n      <td>1.581824e+08</td>\n      <td>1.591932e+08</td>\n      <td>1.573212e+08</td>\n      <td>1.598271e+08</td>\n      <td>1.497247e+08</td>\n      <td>1.031833e+08</td>\n      <td>1.962660e+08</td>\n    </tr>\n    <tr>\n      <th>3</th>\n      <td>2021-09-01</td>\n      <td>1.636794e+08</td>\n      <td>1.728200e+08</td>\n      <td>1.535862e+08</td>\n      <td>1.549976e+08</td>\n      <td>1.556959e+08</td>\n      <td>1.049393e+08</td>\n      <td>2.064525e+08</td>\n    </tr>\n    <tr>\n      <th>4</th>\n      <td>2021-10-01</td>\n      <td>1.582147e+08</td>\n      <td>1.615822e+08</td>\n      <td>1.496698e+08</td>\n      <td>1.501665e+08</td>\n      <td>1.628828e+08</td>\n      <td>1.082352e+08</td>\n      <td>2.175305e+08</td>\n    </tr>\n    <tr>\n      <th>5</th>\n      <td>2021-11-01</td>\n      <td>1.654184e+08</td>\n      <td>1.564902e+08</td>\n      <td>1.536935e+08</td>\n      <td>1.552788e+08</td>\n      <td>1.534241e+08</td>\n      <td>9.514463e+07</td>\n      <td>2.117036e+08</td>\n    </tr>\n    <tr>\n      <th>6</th>\n      <td>2021-12-01</td>\n      <td>1.902936e+08</td>\n      <td>1.843657e+08</td>\n      <td>1.684740e+08</td>\n      <td>1.693045e+08</td>\n      <td>1.778874e+08</td>\n      <td>1.161895e+08</td>\n      <td>2.395853e+08</td>\n    </tr>\n    <tr>\n      <th>7</th>\n      <td>2022-01-01</td>\n      <td>2.589241e+08</td>\n      <td>2.198186e+08</td>\n      <td>2.432610e+08</td>\n      <td>2.435884e+08</td>\n      <td>2.371740e+08</td>\n      <td>1.722374e+08</td>\n      <td>3.021107e+08</td>\n    </tr>\n  </tbody>\n</table>\n</div>"
     },
     "execution_count": 40,
     "metadata": {},
     "output_type": "execute_result"
    }
   ],
   "source": [
    "concat_df[concat_df['Calendar Date'] >= pred_start_dt]"
   ],
   "metadata": {
    "collapsed": false,
    "pycharm": {
     "name": "#%%\n"
    }
   }
  },
  {
   "cell_type": "code",
   "execution_count": 41,
   "outputs": [
    {
     "name": "stdout",
     "output_type": "stream",
     "text": [
      "Directory created\n"
     ]
    }
   ],
   "source": [
    "predictions_path = proyect_path+\"/data/predictions/\"+model_run_date\n",
    "if not os.path.exists(predictions_path):\n",
    "    os.makedirs(predictions_path)\n",
    "    print(\"Directory created\")"
   ],
   "metadata": {
    "collapsed": false,
    "pycharm": {
     "name": "#%%\n"
    }
   }
  },
  {
   "cell_type": "code",
   "execution_count": 42,
   "outputs": [],
   "source": [
    "df_write = concat_df.rename(columns={target_col: 'Actual',\n",
    "                           ml_col: 'ML Predicted',\n",
    "                           uts_col: 'UTS Predicted',\n",
    "                           plan_col: 'Plan',\n",
    "                           fcst_col:' Forecast'})"
   ],
   "metadata": {
    "collapsed": false,
    "pycharm": {
     "name": "#%%\n"
    }
   }
  },
  {
   "cell_type": "code",
   "execution_count": 43,
   "outputs": [],
   "source": [
    "df_write['Item'] = target_col"
   ],
   "metadata": {
    "collapsed": false,
    "pycharm": {
     "name": "#%%\n"
    }
   }
  },
  {
   "cell_type": "code",
   "execution_count": 44,
   "outputs": [
    {
     "data": {
      "text/plain": "   Calendar Date        Actual  ML Predicted          Plan      Forecast  \\\n0     2014-06-01  1.301339e+08           NaN           NaN           NaN   \n1     2014-07-01  1.622501e+08           NaN           NaN           NaN   \n2     2014-08-01  1.299953e+08           NaN           NaN           NaN   \n3     2014-09-01  1.246127e+08           NaN           NaN           NaN   \n4     2014-10-01  1.660720e+08           NaN           NaN           NaN   \n..           ...           ...           ...           ...           ...   \n3     2021-09-01  1.636794e+08  1.728200e+08  1.535862e+08  1.549976e+08   \n4     2021-10-01  1.582147e+08  1.615822e+08  1.496698e+08  1.501665e+08   \n5     2021-11-01  1.654184e+08  1.564902e+08  1.536935e+08  1.552788e+08   \n6     2021-12-01  1.902936e+08  1.843657e+08  1.684740e+08  1.693045e+08   \n7     2022-01-01  2.589241e+08  2.198186e+08  2.432610e+08  2.435884e+08   \n\n    UTS Predicted      Lower CI      Upper CI                    Item  \n0             NaN           NaN           NaN  Total Payroll Revenue.  \n1             NaN           NaN           NaN  Total Payroll Revenue.  \n2             NaN           NaN           NaN  Total Payroll Revenue.  \n3             NaN           NaN           NaN  Total Payroll Revenue.  \n4             NaN           NaN           NaN  Total Payroll Revenue.  \n..            ...           ...           ...                     ...  \n3    1.556959e+08  1.049393e+08  2.064525e+08  Total Payroll Revenue.  \n4    1.628828e+08  1.082352e+08  2.175305e+08  Total Payroll Revenue.  \n5    1.534241e+08  9.514463e+07  2.117036e+08  Total Payroll Revenue.  \n6    1.778874e+08  1.161895e+08  2.395853e+08  Total Payroll Revenue.  \n7    2.371740e+08  1.722374e+08  3.021107e+08  Total Payroll Revenue.  \n\n[92 rows x 9 columns]",
      "text/html": "<div>\n<style scoped>\n    .dataframe tbody tr th:only-of-type {\n        vertical-align: middle;\n    }\n\n    .dataframe tbody tr th {\n        vertical-align: top;\n    }\n\n    .dataframe thead th {\n        text-align: right;\n    }\n</style>\n<table border=\"1\" class=\"dataframe\">\n  <thead>\n    <tr style=\"text-align: right;\">\n      <th></th>\n      <th>Calendar Date</th>\n      <th>Actual</th>\n      <th>ML Predicted</th>\n      <th>Plan</th>\n      <th>Forecast</th>\n      <th>UTS Predicted</th>\n      <th>Lower CI</th>\n      <th>Upper CI</th>\n      <th>Item</th>\n    </tr>\n  </thead>\n  <tbody>\n    <tr>\n      <th>0</th>\n      <td>2014-06-01</td>\n      <td>1.301339e+08</td>\n      <td>NaN</td>\n      <td>NaN</td>\n      <td>NaN</td>\n      <td>NaN</td>\n      <td>NaN</td>\n      <td>NaN</td>\n      <td>Total Payroll Revenue.</td>\n    </tr>\n    <tr>\n      <th>1</th>\n      <td>2014-07-01</td>\n      <td>1.622501e+08</td>\n      <td>NaN</td>\n      <td>NaN</td>\n      <td>NaN</td>\n      <td>NaN</td>\n      <td>NaN</td>\n      <td>NaN</td>\n      <td>Total Payroll Revenue.</td>\n    </tr>\n    <tr>\n      <th>2</th>\n      <td>2014-08-01</td>\n      <td>1.299953e+08</td>\n      <td>NaN</td>\n      <td>NaN</td>\n      <td>NaN</td>\n      <td>NaN</td>\n      <td>NaN</td>\n      <td>NaN</td>\n      <td>Total Payroll Revenue.</td>\n    </tr>\n    <tr>\n      <th>3</th>\n      <td>2014-09-01</td>\n      <td>1.246127e+08</td>\n      <td>NaN</td>\n      <td>NaN</td>\n      <td>NaN</td>\n      <td>NaN</td>\n      <td>NaN</td>\n      <td>NaN</td>\n      <td>Total Payroll Revenue.</td>\n    </tr>\n    <tr>\n      <th>4</th>\n      <td>2014-10-01</td>\n      <td>1.660720e+08</td>\n      <td>NaN</td>\n      <td>NaN</td>\n      <td>NaN</td>\n      <td>NaN</td>\n      <td>NaN</td>\n      <td>NaN</td>\n      <td>Total Payroll Revenue.</td>\n    </tr>\n    <tr>\n      <th>...</th>\n      <td>...</td>\n      <td>...</td>\n      <td>...</td>\n      <td>...</td>\n      <td>...</td>\n      <td>...</td>\n      <td>...</td>\n      <td>...</td>\n      <td>...</td>\n    </tr>\n    <tr>\n      <th>3</th>\n      <td>2021-09-01</td>\n      <td>1.636794e+08</td>\n      <td>1.728200e+08</td>\n      <td>1.535862e+08</td>\n      <td>1.549976e+08</td>\n      <td>1.556959e+08</td>\n      <td>1.049393e+08</td>\n      <td>2.064525e+08</td>\n      <td>Total Payroll Revenue.</td>\n    </tr>\n    <tr>\n      <th>4</th>\n      <td>2021-10-01</td>\n      <td>1.582147e+08</td>\n      <td>1.615822e+08</td>\n      <td>1.496698e+08</td>\n      <td>1.501665e+08</td>\n      <td>1.628828e+08</td>\n      <td>1.082352e+08</td>\n      <td>2.175305e+08</td>\n      <td>Total Payroll Revenue.</td>\n    </tr>\n    <tr>\n      <th>5</th>\n      <td>2021-11-01</td>\n      <td>1.654184e+08</td>\n      <td>1.564902e+08</td>\n      <td>1.536935e+08</td>\n      <td>1.552788e+08</td>\n      <td>1.534241e+08</td>\n      <td>9.514463e+07</td>\n      <td>2.117036e+08</td>\n      <td>Total Payroll Revenue.</td>\n    </tr>\n    <tr>\n      <th>6</th>\n      <td>2021-12-01</td>\n      <td>1.902936e+08</td>\n      <td>1.843657e+08</td>\n      <td>1.684740e+08</td>\n      <td>1.693045e+08</td>\n      <td>1.778874e+08</td>\n      <td>1.161895e+08</td>\n      <td>2.395853e+08</td>\n      <td>Total Payroll Revenue.</td>\n    </tr>\n    <tr>\n      <th>7</th>\n      <td>2022-01-01</td>\n      <td>2.589241e+08</td>\n      <td>2.198186e+08</td>\n      <td>2.432610e+08</td>\n      <td>2.435884e+08</td>\n      <td>2.371740e+08</td>\n      <td>1.722374e+08</td>\n      <td>3.021107e+08</td>\n      <td>Total Payroll Revenue.</td>\n    </tr>\n  </tbody>\n</table>\n<p>92 rows × 9 columns</p>\n</div>"
     },
     "execution_count": 44,
     "metadata": {},
     "output_type": "execute_result"
    }
   ],
   "source": [
    "df_write"
   ],
   "metadata": {
    "collapsed": false,
    "pycharm": {
     "name": "#%%\n"
    }
   }
  },
  {
   "cell_type": "code",
   "execution_count": 45,
   "outputs": [],
   "source": [
    "df_write.to_parquet(predictions_path+\"/\"+target_col.replace(\" \",\"\")+\".parquet\")"
   ],
   "metadata": {
    "collapsed": false,
    "pycharm": {
     "name": "#%%\n"
    }
   }
  },
  {
   "cell_type": "code",
   "execution_count": 100,
   "outputs": [],
   "source": [],
   "metadata": {
    "collapsed": false,
    "pycharm": {
     "name": "#%%\n"
    }
   }
  },
  {
   "cell_type": "code",
   "execution_count": 158,
   "outputs": [],
   "source": [
    "df = pd.read_parquet(\"C:/Users/bruno.gonzalez/DataspellProjects/Paychex_revenue_forecast/data/predictions/20220509\")"
   ],
   "metadata": {
    "collapsed": false,
    "pycharm": {
     "name": "#%%\n"
    }
   }
  },
  {
   "cell_type": "code",
   "execution_count": 159,
   "outputs": [
    {
     "data": {
      "text/plain": "   Calendar Date                      Item        Actual  ML Predicted  \\\n0     2021-06-01          Delivery Revenue  7.829827e+06  8.742005e+06   \n1     2021-07-01          Delivery Revenue  1.243936e+07  1.289055e+07   \n2     2021-08-01          Delivery Revenue  7.622602e+06  7.869987e+06   \n3     2021-09-01          Delivery Revenue  7.779041e+06  7.976084e+06   \n4     2021-10-01          Delivery Revenue  1.126827e+07  1.287066e+07   \n5     2021-11-01          Delivery Revenue  7.617424e+06  7.695706e+06   \n6     2021-12-01          Delivery Revenue  8.212787e+06  8.042708e+06   \n7     2022-01-01          Delivery Revenue  2.243552e+07  2.102415e+07   \n8     2021-06-01  Payroll blended products  1.142380e+08  1.069185e+08   \n9     2021-07-01  Payroll blended products  1.131859e+08  1.110458e+08   \n10    2021-08-01  Payroll blended products  1.157689e+08  1.060490e+08   \n11    2021-09-01  Payroll blended products  1.164069e+08  1.087553e+08   \n12    2021-10-01  Payroll blended products  1.074553e+08  1.026939e+08   \n13    2021-11-01  Payroll blended products  1.175037e+08  1.053842e+08   \n14    2021-12-01  Payroll blended products  1.278009e+08  1.143640e+08   \n15    2022-01-01  Payroll blended products  1.038698e+08  1.069483e+08   \n16    2021-06-01               W-2 Revenue  1.456643e+05  1.787953e+07   \n17    2021-07-01               W-2 Revenue  1.295130e+05  1.787953e+07   \n18    2021-08-01               W-2 Revenue  1.496995e+05  1.787953e+07   \n19    2021-09-01               W-2 Revenue  1.845622e+05  1.787953e+07   \n20    2021-10-01               W-2 Revenue  1.811631e+05  1.787953e+07   \n21    2021-11-01               W-2 Revenue  1.552792e+05  1.787953e+07   \n22    2021-12-01               W-2 Revenue  1.925841e+05  1.787953e+07   \n23    2022-01-01               W-2 Revenue  8.154442e+07  1.787953e+07   \n\n    UTS Predicted          Plan      Forecast      Lower CI      Upper CI  \n0    7.621582e+06  7.486713e+06  7.829827e+06  5.679662e+06  9.563501e+06  \n1    1.218767e+07  1.261072e+07  1.243936e+07  1.005493e+07  1.432041e+07  \n2    7.427974e+06  7.556542e+06  7.682000e+06  4.843065e+06  1.001288e+07  \n3    7.893044e+06  6.818278e+06  7.149703e+06  5.066063e+06  1.072002e+07  \n4    1.247308e+07  1.174251e+07  1.122409e+07  9.354347e+06  1.559181e+07  \n5    7.406496e+06  6.938894e+06  7.147250e+06  4.056574e+06  1.075642e+07  \n6    8.094190e+06  7.564224e+06  7.716521e+06  4.510080e+06  1.167830e+07  \n7    2.258278e+07  2.262883e+07  2.207458e+07  1.878818e+07  2.637738e+07  \n8    1.145630e+08  1.134306e+08  1.142380e+08  9.281367e+07  1.363124e+08  \n9    1.157635e+08  1.143207e+08  1.131859e+08  9.176588e+07  1.397611e+08  \n10   1.135166e+08  1.167989e+08  1.182797e+08  8.548083e+07  1.415523e+08  \n11   1.153946e+08  1.126937e+08  1.132994e+08  8.442522e+07  1.463641e+08  \n12   1.174904e+08  1.045306e+08  1.053015e+08  8.370521e+07  1.512755e+08  \n13   1.143671e+08  1.132584e+08  1.141515e+08  7.800990e+07  1.507242e+08  \n14   1.278934e+08  1.195799e+08  1.199513e+08  8.913152e+07  1.666554e+08  \n15   1.105324e+08  1.026955e+08  1.036316e+08  6.950595e+07  1.515589e+08  \n16   8.334384e+04  9.433619e+04  1.456643e+05 -2.347631e+07  2.364300e+07  \n17   1.423647e+05  1.629054e+05  1.295130e+05 -2.343360e+07  2.371833e+07  \n18   1.556587e+05  1.762317e+05  1.762317e+05 -2.343660e+07  2.374792e+07  \n19   2.069904e+05  2.275312e+05  2.275312e+05 -2.340155e+07  2.381553e+07  \n20   1.627679e+05  1.833087e+05  1.833087e+05 -2.346205e+07  2.378758e+07  \n21   1.882647e+05  2.085526e+05  2.085526e+05 -2.345281e+07  2.382934e+07  \n22   2.124756e+05  2.332858e+05  2.332858e+05 -2.344485e+07  2.386980e+07  \n23   8.096834e+07  8.089268e+07  8.080842e+07  5.729477e+07  1.046419e+08  ",
      "text/html": "<div>\n<style scoped>\n    .dataframe tbody tr th:only-of-type {\n        vertical-align: middle;\n    }\n\n    .dataframe tbody tr th {\n        vertical-align: top;\n    }\n\n    .dataframe thead th {\n        text-align: right;\n    }\n</style>\n<table border=\"1\" class=\"dataframe\">\n  <thead>\n    <tr style=\"text-align: right;\">\n      <th></th>\n      <th>Calendar Date</th>\n      <th>Item</th>\n      <th>Actual</th>\n      <th>ML Predicted</th>\n      <th>UTS Predicted</th>\n      <th>Plan</th>\n      <th>Forecast</th>\n      <th>Lower CI</th>\n      <th>Upper CI</th>\n    </tr>\n  </thead>\n  <tbody>\n    <tr>\n      <th>0</th>\n      <td>2021-06-01</td>\n      <td>Delivery Revenue</td>\n      <td>7.829827e+06</td>\n      <td>8.742005e+06</td>\n      <td>7.621582e+06</td>\n      <td>7.486713e+06</td>\n      <td>7.829827e+06</td>\n      <td>5.679662e+06</td>\n      <td>9.563501e+06</td>\n    </tr>\n    <tr>\n      <th>1</th>\n      <td>2021-07-01</td>\n      <td>Delivery Revenue</td>\n      <td>1.243936e+07</td>\n      <td>1.289055e+07</td>\n      <td>1.218767e+07</td>\n      <td>1.261072e+07</td>\n      <td>1.243936e+07</td>\n      <td>1.005493e+07</td>\n      <td>1.432041e+07</td>\n    </tr>\n    <tr>\n      <th>2</th>\n      <td>2021-08-01</td>\n      <td>Delivery Revenue</td>\n      <td>7.622602e+06</td>\n      <td>7.869987e+06</td>\n      <td>7.427974e+06</td>\n      <td>7.556542e+06</td>\n      <td>7.682000e+06</td>\n      <td>4.843065e+06</td>\n      <td>1.001288e+07</td>\n    </tr>\n    <tr>\n      <th>3</th>\n      <td>2021-09-01</td>\n      <td>Delivery Revenue</td>\n      <td>7.779041e+06</td>\n      <td>7.976084e+06</td>\n      <td>7.893044e+06</td>\n      <td>6.818278e+06</td>\n      <td>7.149703e+06</td>\n      <td>5.066063e+06</td>\n      <td>1.072002e+07</td>\n    </tr>\n    <tr>\n      <th>4</th>\n      <td>2021-10-01</td>\n      <td>Delivery Revenue</td>\n      <td>1.126827e+07</td>\n      <td>1.287066e+07</td>\n      <td>1.247308e+07</td>\n      <td>1.174251e+07</td>\n      <td>1.122409e+07</td>\n      <td>9.354347e+06</td>\n      <td>1.559181e+07</td>\n    </tr>\n    <tr>\n      <th>5</th>\n      <td>2021-11-01</td>\n      <td>Delivery Revenue</td>\n      <td>7.617424e+06</td>\n      <td>7.695706e+06</td>\n      <td>7.406496e+06</td>\n      <td>6.938894e+06</td>\n      <td>7.147250e+06</td>\n      <td>4.056574e+06</td>\n      <td>1.075642e+07</td>\n    </tr>\n    <tr>\n      <th>6</th>\n      <td>2021-12-01</td>\n      <td>Delivery Revenue</td>\n      <td>8.212787e+06</td>\n      <td>8.042708e+06</td>\n      <td>8.094190e+06</td>\n      <td>7.564224e+06</td>\n      <td>7.716521e+06</td>\n      <td>4.510080e+06</td>\n      <td>1.167830e+07</td>\n    </tr>\n    <tr>\n      <th>7</th>\n      <td>2022-01-01</td>\n      <td>Delivery Revenue</td>\n      <td>2.243552e+07</td>\n      <td>2.102415e+07</td>\n      <td>2.258278e+07</td>\n      <td>2.262883e+07</td>\n      <td>2.207458e+07</td>\n      <td>1.878818e+07</td>\n      <td>2.637738e+07</td>\n    </tr>\n    <tr>\n      <th>8</th>\n      <td>2021-06-01</td>\n      <td>Payroll blended products</td>\n      <td>1.142380e+08</td>\n      <td>1.069185e+08</td>\n      <td>1.145630e+08</td>\n      <td>1.134306e+08</td>\n      <td>1.142380e+08</td>\n      <td>9.281367e+07</td>\n      <td>1.363124e+08</td>\n    </tr>\n    <tr>\n      <th>9</th>\n      <td>2021-07-01</td>\n      <td>Payroll blended products</td>\n      <td>1.131859e+08</td>\n      <td>1.110458e+08</td>\n      <td>1.157635e+08</td>\n      <td>1.143207e+08</td>\n      <td>1.131859e+08</td>\n      <td>9.176588e+07</td>\n      <td>1.397611e+08</td>\n    </tr>\n    <tr>\n      <th>10</th>\n      <td>2021-08-01</td>\n      <td>Payroll blended products</td>\n      <td>1.157689e+08</td>\n      <td>1.060490e+08</td>\n      <td>1.135166e+08</td>\n      <td>1.167989e+08</td>\n      <td>1.182797e+08</td>\n      <td>8.548083e+07</td>\n      <td>1.415523e+08</td>\n    </tr>\n    <tr>\n      <th>11</th>\n      <td>2021-09-01</td>\n      <td>Payroll blended products</td>\n      <td>1.164069e+08</td>\n      <td>1.087553e+08</td>\n      <td>1.153946e+08</td>\n      <td>1.126937e+08</td>\n      <td>1.132994e+08</td>\n      <td>8.442522e+07</td>\n      <td>1.463641e+08</td>\n    </tr>\n    <tr>\n      <th>12</th>\n      <td>2021-10-01</td>\n      <td>Payroll blended products</td>\n      <td>1.074553e+08</td>\n      <td>1.026939e+08</td>\n      <td>1.174904e+08</td>\n      <td>1.045306e+08</td>\n      <td>1.053015e+08</td>\n      <td>8.370521e+07</td>\n      <td>1.512755e+08</td>\n    </tr>\n    <tr>\n      <th>13</th>\n      <td>2021-11-01</td>\n      <td>Payroll blended products</td>\n      <td>1.175037e+08</td>\n      <td>1.053842e+08</td>\n      <td>1.143671e+08</td>\n      <td>1.132584e+08</td>\n      <td>1.141515e+08</td>\n      <td>7.800990e+07</td>\n      <td>1.507242e+08</td>\n    </tr>\n    <tr>\n      <th>14</th>\n      <td>2021-12-01</td>\n      <td>Payroll blended products</td>\n      <td>1.278009e+08</td>\n      <td>1.143640e+08</td>\n      <td>1.278934e+08</td>\n      <td>1.195799e+08</td>\n      <td>1.199513e+08</td>\n      <td>8.913152e+07</td>\n      <td>1.666554e+08</td>\n    </tr>\n    <tr>\n      <th>15</th>\n      <td>2022-01-01</td>\n      <td>Payroll blended products</td>\n      <td>1.038698e+08</td>\n      <td>1.069483e+08</td>\n      <td>1.105324e+08</td>\n      <td>1.026955e+08</td>\n      <td>1.036316e+08</td>\n      <td>6.950595e+07</td>\n      <td>1.515589e+08</td>\n    </tr>\n    <tr>\n      <th>16</th>\n      <td>2021-06-01</td>\n      <td>W-2 Revenue</td>\n      <td>1.456643e+05</td>\n      <td>1.787953e+07</td>\n      <td>8.334384e+04</td>\n      <td>9.433619e+04</td>\n      <td>1.456643e+05</td>\n      <td>-2.347631e+07</td>\n      <td>2.364300e+07</td>\n    </tr>\n    <tr>\n      <th>17</th>\n      <td>2021-07-01</td>\n      <td>W-2 Revenue</td>\n      <td>1.295130e+05</td>\n      <td>1.787953e+07</td>\n      <td>1.423647e+05</td>\n      <td>1.629054e+05</td>\n      <td>1.295130e+05</td>\n      <td>-2.343360e+07</td>\n      <td>2.371833e+07</td>\n    </tr>\n    <tr>\n      <th>18</th>\n      <td>2021-08-01</td>\n      <td>W-2 Revenue</td>\n      <td>1.496995e+05</td>\n      <td>1.787953e+07</td>\n      <td>1.556587e+05</td>\n      <td>1.762317e+05</td>\n      <td>1.762317e+05</td>\n      <td>-2.343660e+07</td>\n      <td>2.374792e+07</td>\n    </tr>\n    <tr>\n      <th>19</th>\n      <td>2021-09-01</td>\n      <td>W-2 Revenue</td>\n      <td>1.845622e+05</td>\n      <td>1.787953e+07</td>\n      <td>2.069904e+05</td>\n      <td>2.275312e+05</td>\n      <td>2.275312e+05</td>\n      <td>-2.340155e+07</td>\n      <td>2.381553e+07</td>\n    </tr>\n    <tr>\n      <th>20</th>\n      <td>2021-10-01</td>\n      <td>W-2 Revenue</td>\n      <td>1.811631e+05</td>\n      <td>1.787953e+07</td>\n      <td>1.627679e+05</td>\n      <td>1.833087e+05</td>\n      <td>1.833087e+05</td>\n      <td>-2.346205e+07</td>\n      <td>2.378758e+07</td>\n    </tr>\n    <tr>\n      <th>21</th>\n      <td>2021-11-01</td>\n      <td>W-2 Revenue</td>\n      <td>1.552792e+05</td>\n      <td>1.787953e+07</td>\n      <td>1.882647e+05</td>\n      <td>2.085526e+05</td>\n      <td>2.085526e+05</td>\n      <td>-2.345281e+07</td>\n      <td>2.382934e+07</td>\n    </tr>\n    <tr>\n      <th>22</th>\n      <td>2021-12-01</td>\n      <td>W-2 Revenue</td>\n      <td>1.925841e+05</td>\n      <td>1.787953e+07</td>\n      <td>2.124756e+05</td>\n      <td>2.332858e+05</td>\n      <td>2.332858e+05</td>\n      <td>-2.344485e+07</td>\n      <td>2.386980e+07</td>\n    </tr>\n    <tr>\n      <th>23</th>\n      <td>2022-01-01</td>\n      <td>W-2 Revenue</td>\n      <td>8.154442e+07</td>\n      <td>1.787953e+07</td>\n      <td>8.096834e+07</td>\n      <td>8.089268e+07</td>\n      <td>8.080842e+07</td>\n      <td>5.729477e+07</td>\n      <td>1.046419e+08</td>\n    </tr>\n  </tbody>\n</table>\n</div>"
     },
     "execution_count": 159,
     "metadata": {},
     "output_type": "execute_result"
    }
   ],
   "source": [
    "df"
   ],
   "metadata": {
    "collapsed": false,
    "pycharm": {
     "name": "#%%\n"
    }
   }
  },
  {
   "cell_type": "code",
   "execution_count": null,
   "outputs": [],
   "source": [],
   "metadata": {
    "collapsed": false,
    "pycharm": {
     "name": "#%%\n"
    }
   }
  }
 ],
 "metadata": {
  "kernelspec": {
   "display_name": "Python 3",
   "language": "python",
   "name": "python3"
  },
  "language_info": {
   "codemirror_mode": {
    "name": "ipython",
    "version": 3
   },
   "file_extension": ".py",
   "mimetype": "text/x-python",
   "name": "python",
   "nbconvert_exporter": "python",
   "pygments_lexer": "ipython3",
   "version": "3.8.1"
  }
 },
 "nbformat": 4,
 "nbformat_minor": 4
}