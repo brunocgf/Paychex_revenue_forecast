{
 "cells": [
  {
   "cell_type": "code",
   "execution_count": 1,
   "metadata": {},
   "outputs": [],
   "source": [
    "import os\n",
    "import pandas as pd\n",
    "import numpy as np\n",
    "import plotly.express as px\n",
    "from pycaret.regression import *\n",
    "from datetime import datetime\n",
    "import seaborn as sns\n",
    "import matplotlib.pyplot as plt\n",
    "from openpyxl import load_workbook, Workbook\n",
    "import src.paychex_ml.data_loader as dl\n",
    "import src.paychex_ml.models as models\n",
    "\n",
    "warnings.filterwarnings(\"ignore\")"
   ]
  },
  {
   "cell_type": "code",
   "execution_count": 2,
   "outputs": [],
   "source": [
    "proyect_path = \"C:/Users/bruno.gonzalez/DataspellProjects/Paychex_revenue_forecast\""
   ],
   "metadata": {
    "collapsed": false,
    "pycharm": {
     "name": "#%%\n"
    }
   }
  },
  {
   "cell_type": "code",
   "execution_count": 3,
   "outputs": [],
   "source": [
    "# ------------------------------------------------------------------------------------- #\n",
    "# This is where we change parameters to the model\n",
    "# ------------------------------------------------------------------------------------- #\n",
    "train_start_dt = '20140601'\n",
    "train_end_dt = '20200501'\n",
    "test_start_dt = '20200601'\n",
    "test_end_dt = '20210501'\n",
    "pred_start_dt = '20210601'\n",
    "pred_end_dt = '20220101'\n",
    "ml_criteria = 'MAE'\n",
    "forecast_window = 8\n",
    "forecast_type = '2+10'\n",
    "# This is how strong you want the correlation to be in order to be included as a feature\n",
    "correlation_threshold = 0.5\n",
    "# This is how many features you want to keep in the final model\n",
    "features_threshold = 10"
   ],
   "metadata": {
    "collapsed": false,
    "pycharm": {
     "name": "#%%\n"
    }
   }
  },
  {
   "cell_type": "code",
   "execution_count": 4,
   "outputs": [],
   "source": [
    "# Set manually date if is necessary\n",
    "model_run_date = datetime.today().strftime('%Y%m%d')\n",
    "#model_run_date = '20220504'"
   ],
   "metadata": {
    "collapsed": false,
    "pycharm": {
     "name": "#%%\n"
    }
   }
  },
  {
   "cell_type": "code",
   "execution_count": 5,
   "outputs": [],
   "source": [
    "items_dicctionary = {\n",
    "    '11': ('Payroll blended products', True),\n",
    "    '12': ('W-2 Revenue', False),\n",
    "    '13': ('Delivery Revenue', False),\n",
    "    '14': ('ASO Allocation', False),\n",
    "    '15': ('Other Processing Revenue', False),\n",
    "    '16': ('SurePayroll.', True),\n",
    "    '17': ('Total international', False),\n",
    "    '21': ('401K Fee Revenue', True),\n",
    "    '22': ('401K Asset fee & BP Revenue', True),\n",
    "    '23': ('HR Solutions (PEO)', False),\n",
    "    '24': ('ASO Revenue - Oasis', False),\n",
    "    '31': ('HR Online', False),\n",
    "    '32': ('Time & Attendance', False),\n",
    "    '41': ('Total Paychex Advance', True),\n",
    "    '42': ('Full Service Unemployment Revenue',  True),\n",
    "    '43': ('ESR Revenue', True),\n",
    "    '44': ('Cafeteria Plans Revenue',  True),\n",
    "    '45': ('Benetrac', True),\n",
    "    '46': ('Emerging Products', True),\n",
    "    '51': ('Total PEO', False),\n",
    "    '61': ('Workers Comp - Payment Services', True),\n",
    "    '62': ('Health Benefits', True),\n",
    "    '71': ('Interest on Funds Held for Clients', False)\n",
    "}"
   ],
   "metadata": {
    "collapsed": false,
    "pycharm": {
     "name": "#%%\n"
    }
   }
  },
  {
   "cell_type": "code",
   "execution_count": 78,
   "outputs": [],
   "source": [
    "# ------------------------------------------------------------------------------------- #\n",
    "# Total Payroll Section\n",
    "# ------------------------------------------------------------------------------------- #\n",
    "# target_col = 'Payroll blended products'\n",
    "# has_drivers = True\n",
    "# target_col = 'W-2 Revenue'\n",
    "# has_drivers = False\n",
    "# target_col = 'Delivery Revenue'\n",
    "# has_drivers = False\n",
    "# target_col = 'ASO Allocation'\n",
    "# has_drivers = False\n",
    "# target_col = 'Other Processing Revenue'\n",
    "# has_drivers = False\n",
    "# target_col = 'SurePayroll.'\n",
    "# has_drivers = True\n",
    "# target_col = 'Total international'\n",
    "# has_drivers = False\n",
    "\n",
    "# ------------------------------------------------------------------------------------- #\n",
    "# Total 401K Section\n",
    "# ------------------------------------------------------------------------------------- #\n",
    "# target_col = '401K Fee Revenue'\n",
    "# has_drivers = True\n",
    "# target_col = '401K Asset fee & BP Revenue'\n",
    "# has_drivers = True\n",
    "\n",
    "# ------------------------------------------------------------------------------------- #\n",
    "# Total ASO Revenue\n",
    "# ------------------------------------------------------------------------------------- #\n",
    "# target_col = 'HR Solutions (PEO)'\n",
    "# has_drivers = False\n",
    "# target_col = 'ASO Revenue - Oasis'\n",
    "# has_drivers = False\n",
    "\n",
    "# ------------------------------------------------------------------------------------- #\n",
    "# Total Online Services\n",
    "# ------------------------------------------------------------------------------------- #\n",
    "# target_col = 'HR Online'\n",
    "# has_drivers = False\n",
    "# target_col = 'Time & Attendance'\n",
    "# has_drivers = False\n",
    "\n",
    "# ------------------------------------------------------------------------------------- #\n",
    "# Other Management Solutions\n",
    "# ------------------------------------------------------------------------------------- #\n",
    "# target_col = 'Total Paychex Advance'\n",
    "# has_drivers = True\n",
    "# target_col = 'Full Service Unemployment Revenue'\n",
    "# has_drivers = True\n",
    "# target_col = 'ESR Revenue'\n",
    "# has_drivers = True\n",
    "# target_col = 'Cafeteria Plans Revenue'\n",
    "# has_drivers = True\n",
    "# target_col = 'Benetrac'\n",
    "# has_drivers = True\n",
    "# target_col = 'Emerging Products'\n",
    "# has_drivers = True\n",
    "\n",
    "# ------------------------------------------------------------------------------------- #\n",
    "# Total PEO\n",
    "# ------------------------------------------------------------------------------------- #\n",
    "# target_col = 'Total PEO'\n",
    "# has_drivers = False\n",
    "\n",
    "# ------------------------------------------------------------------------------------- #\n",
    "# Total Insurance Services\n",
    "# ------------------------------------------------------------------------------------- #\n",
    "# target_col = 'Workers Comp - Payment Services'\n",
    "# has_drivers = True\n",
    "# target_col = 'Health Benefits'\n",
    "# has_drivers = True\n",
    "\n",
    "target_col = 'Interest on Funds Held for Clients'\n",
    "has_drivers = False\n",
    "\n",
    "# target_col = 'Total Revenue'\n",
    "# has_drivers = False"
   ],
   "metadata": {
    "collapsed": false,
    "pycharm": {
     "name": "#%%\n"
    }
   }
  },
  {
   "cell_type": "code",
   "execution_count": 79,
   "outputs": [],
   "source": [
    "ml_col = target_col+' - ML Predicted'\n",
    "uts_col = target_col+' - UTS Predicted'\n",
    "plan_col = target_col+' - Plan'\n",
    "fcst_col = target_col+' - '+forecast_type+' Forecast'\n",
    "fcst_cols = [plan_col,fcst_col,ml_col,uts_col]\n",
    "has_actuals = True"
   ],
   "metadata": {
    "collapsed": false,
    "pycharm": {
     "name": "#%%\n"
    }
   }
  },
  {
   "cell_type": "code",
   "execution_count": 80,
   "outputs": [],
   "source": [
    "# Get the full data frame and combine with drivers\n",
    "#all_df = dl.get_level_0_data(train_start_dt, pred_end_dt)"
   ],
   "metadata": {
    "collapsed": false,
    "pycharm": {
     "name": "#%%\n"
    }
   }
  },
  {
   "cell_type": "code",
   "execution_count": 81,
   "outputs": [],
   "source": [
    "file_path = proyect_path+\"/data/clean/table_predictable.csv\"\n",
    "all_df = dl.get_clean_data(train_start_dt, pred_end_dt, file_path)"
   ],
   "metadata": {
    "collapsed": false,
    "pycharm": {
     "name": "#%%\n"
    }
   }
  },
  {
   "cell_type": "code",
   "execution_count": 82,
   "outputs": [],
   "source": [
    "drive_path = proyect_path+\"/data/clean/table_drivers.csv\"\n",
    "#driv_df_ = pd.read_csv(file_path, dtype={'Period':str, 'Calendar Date': str})\n",
    "#driv_df = dl.get_clean_driver_data(train_start_dt, pred_end_dt, target_col, file_path)"
   ],
   "metadata": {
    "collapsed": false,
    "pycharm": {
     "name": "#%%\n"
    }
   }
  },
  {
   "cell_type": "code",
   "execution_count": 83,
   "outputs": [],
   "source": [
    "all_df = all_df[['Calendar Date', target_col]]\n",
    "if has_drivers:\n",
    "    driv_df = dl.get_clean_driver_data(train_start_dt, pred_end_dt, target_col, drive_path)\n",
    "    #driv_df.drop(columns=['Scenario'], inplace=True)\n",
    "    all_df = pd.merge(all_df, driv_df, on='Calendar Date', how='inner')"
   ],
   "metadata": {
    "collapsed": false,
    "pycharm": {
     "name": "#%%\n"
    }
   }
  },
  {
   "cell_type": "code",
   "execution_count": 84,
   "outputs": [],
   "source": [
    "external_path = proyect_path+\"/data/external/external_data_fred.csv\"\n",
    "ext_df = pd.read_csv(external_path, dtype={'date': str})\\\n",
    "    .rename(columns={'date': 'Calendar Date'})\n",
    "#ext_df = dl.get_external_data(train_start_dt, pred_end_dt)\n",
    "all_df = pd.merge(all_df, ext_df, on='Calendar Date', how='inner')"
   ],
   "metadata": {
    "collapsed": false,
    "pycharm": {
     "name": "#%%\n"
    }
   }
  },
  {
   "cell_type": "code",
   "execution_count": 85,
   "outputs": [
    {
     "name": "stdout",
     "output_type": "stream",
     "text": [
      "Shape of the training dataframe:\n",
      "(72, 70)\n",
      "Shape of the testing dataframe:\n",
      "(12, 70)\n",
      "Shape of the combination dataframe:\n",
      "(84, 70)\n"
     ]
    }
   ],
   "source": [
    "# Train df\n",
    "train_df = all_df[all_df['Calendar Date'].astype(int) <= int(train_end_dt)]\n",
    "train_df['Calendar Date'] = pd.to_datetime(train_df['Calendar Date'])\n",
    "print('Shape of the training dataframe:')\n",
    "print(train_df.shape)\n",
    "\n",
    "# Test df\n",
    "test_df = all_df[(all_df['Calendar Date'].astype(int) >= int(test_start_dt)) & (all_df['Calendar Date'].astype(int) <= int(test_end_dt))]\n",
    "test_df['Calendar Date'] = pd.to_datetime(test_df['Calendar Date'])\n",
    "print('Shape of the testing dataframe:')\n",
    "print(test_df.shape)\n",
    "\n",
    "# Combined dataframe\n",
    "comb_df = pd.concat([train_df, test_df])\n",
    "print('Shape of the combination dataframe:')\n",
    "print(comb_df.shape)"
   ],
   "metadata": {
    "collapsed": false,
    "pycharm": {
     "name": "#%%\n"
    }
   }
  },
  {
   "cell_type": "code",
   "execution_count": 86,
   "outputs": [
    {
     "data": {
      "text/plain": "<Figure size 576x864 with 2 Axes>",
      "image/png": "[encoded data removed]"
     },
     "metadata": {},
     "output_type": "display_data"
    }
   ],
   "source": [
    "feature_cols = comb_df.columns.to_list()\n",
    "feature_cols.remove('Calendar Date')\n",
    "feature_cols.remove(target_col)\n",
    "\n",
    "# Run Correlations to target\n",
    "corr_df = comb_df.corr()[[target_col]]\n",
    "corr_df = corr_df[corr_df[target_col].abs() >= correlation_threshold]\n",
    "\n",
    "plt.figure(figsize=(8, 12))\n",
    "heatmap = sns.heatmap(corr_df, vmin=-1, vmax=1, annot=True, cmap='BrBG')\n",
    "heatmap.set_title('Features Correlating with '+target_col, fontdict={'fontsize':18}, pad=16);"
   ],
   "metadata": {
    "collapsed": false,
    "pycharm": {
     "name": "#%%\n"
    }
   }
  },
  {
   "cell_type": "code",
   "execution_count": 87,
   "outputs": [],
   "source": [
    "# Get a list of the features based on correlation\n",
    "corr_df = corr_df.rename_axis('Feature').reset_index()\n",
    "corr_feature_cols = corr_df['Feature'].tolist()\n",
    "corr_feature_cols.remove(target_col)\n",
    "#print(corr_feature_cols)"
   ],
   "metadata": {
    "collapsed": false,
    "pycharm": {
     "name": "#%%\n"
    }
   }
  },
  {
   "cell_type": "code",
   "execution_count": 88,
   "outputs": [
    {
     "data": {
      "text/plain": "<pandas.io.formats.style.Styler at 0x21d5830af70>",
      "text/html": "<style type=\"text/css\">\n#T_429b8 th {\n  text-align: left;\n}\n#T_429b8_row0_col0, #T_429b8_row0_col4, #T_429b8_row0_col6, #T_429b8_row1_col0, #T_429b8_row1_col1, #T_429b8_row1_col2, #T_429b8_row1_col3, #T_429b8_row1_col5, #T_429b8_row1_col6, #T_429b8_row2_col0, #T_429b8_row2_col1, #T_429b8_row2_col2, #T_429b8_row2_col3, #T_429b8_row2_col4, #T_429b8_row2_col5, #T_429b8_row2_col6, #T_429b8_row3_col0, #T_429b8_row3_col1, #T_429b8_row3_col2, #T_429b8_row3_col3, #T_429b8_row3_col4, #T_429b8_row3_col5, #T_429b8_row3_col6, #T_429b8_row4_col0, #T_429b8_row4_col1, #T_429b8_row4_col2, #T_429b8_row4_col3, #T_429b8_row4_col4, #T_429b8_row4_col5, #T_429b8_row4_col6, #T_429b8_row5_col0, #T_429b8_row5_col1, #T_429b8_row5_col2, #T_429b8_row5_col3, #T_429b8_row5_col4, #T_429b8_row5_col5, #T_429b8_row5_col6, #T_429b8_row6_col0, #T_429b8_row6_col1, #T_429b8_row6_col2, #T_429b8_row6_col3, #T_429b8_row6_col4, #T_429b8_row6_col5, #T_429b8_row6_col6, #T_429b8_row7_col0, #T_429b8_row7_col1, #T_429b8_row7_col2, #T_429b8_row7_col3, #T_429b8_row7_col4, #T_429b8_row7_col5, #T_429b8_row7_col6, #T_429b8_row8_col0, #T_429b8_row8_col1, #T_429b8_row8_col2, #T_429b8_row8_col3, #T_429b8_row8_col4, #T_429b8_row8_col5, #T_429b8_row8_col6, #T_429b8_row9_col0, #T_429b8_row9_col1, #T_429b8_row9_col2, #T_429b8_row9_col3, #T_429b8_row9_col4, #T_429b8_row9_col5, #T_429b8_row9_col6, #T_429b8_row10_col0, #T_429b8_row10_col1, #T_429b8_row10_col2, #T_429b8_row10_col3, #T_429b8_row10_col4, #T_429b8_row10_col5, #T_429b8_row10_col6, #T_429b8_row11_col0, #T_429b8_row11_col1, #T_429b8_row11_col2, #T_429b8_row11_col3, #T_429b8_row11_col4, #T_429b8_row11_col5, #T_429b8_row12_col0, #T_429b8_row12_col1, #T_429b8_row12_col2, #T_429b8_row12_col3, #T_429b8_row12_col4, #T_429b8_row12_col5, #T_429b8_row12_col6, #T_429b8_row13_col0, #T_429b8_row13_col1, #T_429b8_row13_col2, #T_429b8_row13_col3, #T_429b8_row13_col4, #T_429b8_row13_col5, #T_429b8_row13_col6, #T_429b8_row14_col0, #T_429b8_row14_col1, #T_429b8_row14_col2, #T_429b8_row14_col3, #T_429b8_row14_col4, #T_429b8_row14_col5, #T_429b8_row14_col6, #T_429b8_row15_col0, #T_429b8_row15_col1, #T_429b8_row15_col2, #T_429b8_row15_col3, #T_429b8_row15_col4, #T_429b8_row15_col5, #T_429b8_row15_col6, #T_429b8_row16_col0, #T_429b8_row16_col1, #T_429b8_row16_col2, #T_429b8_row16_col3, #T_429b8_row16_col4, #T_429b8_row16_col5, #T_429b8_row16_col6, #T_429b8_row17_col0, #T_429b8_row17_col1, #T_429b8_row17_col2, #T_429b8_row17_col3, #T_429b8_row17_col4, #T_429b8_row17_col5, #T_429b8_row17_col6, #T_429b8_row18_col0, #T_429b8_row18_col1, #T_429b8_row18_col2, #T_429b8_row18_col3, #T_429b8_row18_col4, #T_429b8_row18_col5, #T_429b8_row18_col6 {\n  text-align: left;\n}\n#T_429b8_row0_col1, #T_429b8_row0_col2, #T_429b8_row0_col3, #T_429b8_row0_col5, #T_429b8_row1_col4, #T_429b8_row11_col6 {\n  text-align: left;\n  background-color: yellow;\n}\n#T_429b8_row0_col7, #T_429b8_row2_col7, #T_429b8_row3_col7, #T_429b8_row4_col7, #T_429b8_row5_col7, #T_429b8_row6_col7, #T_429b8_row8_col7, #T_429b8_row9_col7, #T_429b8_row11_col7, #T_429b8_row12_col7, #T_429b8_row13_col7, #T_429b8_row14_col7, #T_429b8_row15_col7, #T_429b8_row16_col7, #T_429b8_row17_col7, #T_429b8_row18_col7 {\n  text-align: left;\n  background-color: lightgrey;\n}\n#T_429b8_row1_col7, #T_429b8_row7_col7, #T_429b8_row10_col7 {\n  text-align: left;\n  background-color: yellow;\n  background-color: lightgrey;\n}\n</style>\n<table id=\"T_429b8\">\n  <thead>\n    <tr>\n      <th class=\"blank level0\" >&nbsp;</th>\n      <th id=\"T_429b8_level0_col0\" class=\"col_heading level0 col0\" >Model</th>\n      <th id=\"T_429b8_level0_col1\" class=\"col_heading level0 col1\" >MAE</th>\n      <th id=\"T_429b8_level0_col2\" class=\"col_heading level0 col2\" >MSE</th>\n      <th id=\"T_429b8_level0_col3\" class=\"col_heading level0 col3\" >RMSE</th>\n      <th id=\"T_429b8_level0_col4\" class=\"col_heading level0 col4\" >R2</th>\n      <th id=\"T_429b8_level0_col5\" class=\"col_heading level0 col5\" >RMSLE</th>\n      <th id=\"T_429b8_level0_col6\" class=\"col_heading level0 col6\" >MAPE</th>\n      <th id=\"T_429b8_level0_col7\" class=\"col_heading level0 col7\" >TT (Sec)</th>\n    </tr>\n  </thead>\n  <tbody>\n    <tr>\n      <th id=\"T_429b8_level0_row0\" class=\"row_heading level0 row0\" >omp</th>\n      <td id=\"T_429b8_row0_col0\" class=\"data row0 col0\" >Orthogonal Matching Pursuit</td>\n      <td id=\"T_429b8_row0_col1\" class=\"data row0 col1\" >1436872.8236</td>\n      <td id=\"T_429b8_row0_col2\" class=\"data row0 col2\" >4486157118129.0068</td>\n      <td id=\"T_429b8_row0_col3\" class=\"data row0 col3\" >1597747.7147</td>\n      <td id=\"T_429b8_row0_col4\" class=\"data row0 col4\" >-0.9053</td>\n      <td id=\"T_429b8_row0_col5\" class=\"data row0 col5\" >0.6583</td>\n      <td id=\"T_429b8_row0_col6\" class=\"data row0 col6\" >3.2640</td>\n      <td id=\"T_429b8_row0_col7\" class=\"data row0 col7\" >0.0100</td>\n    </tr>\n    <tr>\n      <th id=\"T_429b8_level0_row1\" class=\"row_heading level0 row1\" >dt</th>\n      <td id=\"T_429b8_row1_col0\" class=\"data row1 col0\" >Decision Tree Regressor</td>\n      <td id=\"T_429b8_row1_col1\" class=\"data row1 col1\" >1609722.1667</td>\n      <td id=\"T_429b8_row1_col2\" class=\"data row1 col2\" >5247264331117.3516</td>\n      <td id=\"T_429b8_row1_col3\" class=\"data row1 col3\" >1757124.6800</td>\n      <td id=\"T_429b8_row1_col4\" class=\"data row1 col4\" >-0.8890</td>\n      <td id=\"T_429b8_row1_col5\" class=\"data row1 col5\" >0.6822</td>\n      <td id=\"T_429b8_row1_col6\" class=\"data row1 col6\" >3.4540</td>\n      <td id=\"T_429b8_row1_col7\" class=\"data row1 col7\" >0.0067</td>\n    </tr>\n    <tr>\n      <th id=\"T_429b8_level0_row2\" class=\"row_heading level0 row2\" >xgboost</th>\n      <td id=\"T_429b8_row2_col0\" class=\"data row2 col0\" >Extreme Gradient Boosting</td>\n      <td id=\"T_429b8_row2_col1\" class=\"data row2 col1\" >1691898.9167</td>\n      <td id=\"T_429b8_row2_col2\" class=\"data row2 col2\" >5590372745216.0000</td>\n      <td id=\"T_429b8_row2_col3\" class=\"data row2 col3\" >1870674.8333</td>\n      <td id=\"T_429b8_row2_col4\" class=\"data row2 col4\" >-1.1990</td>\n      <td id=\"T_429b8_row2_col5\" class=\"data row2 col5\" >0.7001</td>\n      <td id=\"T_429b8_row2_col6\" class=\"data row2 col6\" >3.2817</td>\n      <td id=\"T_429b8_row2_col7\" class=\"data row2 col7\" >0.0900</td>\n    </tr>\n    <tr>\n      <th id=\"T_429b8_level0_row3\" class=\"row_heading level0 row3\" >et</th>\n      <td id=\"T_429b8_row3_col0\" class=\"data row3 col0\" >Extra Trees Regressor</td>\n      <td id=\"T_429b8_row3_col1\" class=\"data row3 col1\" >1715583.5520</td>\n      <td id=\"T_429b8_row3_col2\" class=\"data row3 col2\" >5285256425464.0879</td>\n      <td id=\"T_429b8_row3_col3\" class=\"data row3 col3\" >1873827.1668</td>\n      <td id=\"T_429b8_row3_col4\" class=\"data row3 col4\" >-1.4081</td>\n      <td id=\"T_429b8_row3_col5\" class=\"data row3 col5\" >0.7113</td>\n      <td id=\"T_429b8_row3_col6\" class=\"data row3 col6\" >3.4959</td>\n      <td id=\"T_429b8_row3_col7\" class=\"data row3 col7\" >0.0567</td>\n    </tr>\n    <tr>\n      <th id=\"T_429b8_level0_row4\" class=\"row_heading level0 row4\" >rf</th>\n      <td id=\"T_429b8_row4_col0\" class=\"data row4 col0\" >Random Forest Regressor</td>\n      <td id=\"T_429b8_row4_col1\" class=\"data row4 col1\" >1747592.9200</td>\n      <td id=\"T_429b8_row4_col2\" class=\"data row4 col2\" >5669397882866.8672</td>\n      <td id=\"T_429b8_row4_col3\" class=\"data row4 col3\" >1916650.2439</td>\n      <td id=\"T_429b8_row4_col4\" class=\"data row4 col4\" >-1.3936</td>\n      <td id=\"T_429b8_row4_col5\" class=\"data row4 col5\" >0.7195</td>\n      <td id=\"T_429b8_row4_col6\" class=\"data row4 col6\" >3.6992</td>\n      <td id=\"T_429b8_row4_col7\" class=\"data row4 col7\" >0.0667</td>\n    </tr>\n    <tr>\n      <th id=\"T_429b8_level0_row5\" class=\"row_heading level0 row5\" >gbr</th>\n      <td id=\"T_429b8_row5_col0\" class=\"data row5 col0\" >Gradient Boosting Regressor</td>\n      <td id=\"T_429b8_row5_col1\" class=\"data row5 col1\" >1808705.1889</td>\n      <td id=\"T_429b8_row5_col2\" class=\"data row5 col2\" >5840473284898.8584</td>\n      <td id=\"T_429b8_row5_col3\" class=\"data row5 col3\" >1976230.3997</td>\n      <td id=\"T_429b8_row5_col4\" class=\"data row5 col4\" >-1.7030</td>\n      <td id=\"T_429b8_row5_col5\" class=\"data row5 col5\" >0.7301</td>\n      <td id=\"T_429b8_row5_col6\" class=\"data row5 col6\" >3.5602</td>\n      <td id=\"T_429b8_row5_col7\" class=\"data row5 col7\" >0.0200</td>\n    </tr>\n    <tr>\n      <th id=\"T_429b8_level0_row6\" class=\"row_heading level0 row6\" >ada</th>\n      <td id=\"T_429b8_row6_col0\" class=\"data row6 col0\" >AdaBoost Regressor</td>\n      <td id=\"T_429b8_row6_col1\" class=\"data row6 col1\" >1851356.9354</td>\n      <td id=\"T_429b8_row6_col2\" class=\"data row6 col2\" >5981124169361.0283</td>\n      <td id=\"T_429b8_row6_col3\" class=\"data row6 col3\" >2014279.4006</td>\n      <td id=\"T_429b8_row6_col4\" class=\"data row6 col4\" >-1.8535</td>\n      <td id=\"T_429b8_row6_col5\" class=\"data row6 col5\" >0.7363</td>\n      <td id=\"T_429b8_row6_col6\" class=\"data row6 col6\" >3.4344</td>\n      <td id=\"T_429b8_row6_col7\" class=\"data row6 col7\" >0.0300</td>\n    </tr>\n    <tr>\n      <th id=\"T_429b8_level0_row7\" class=\"row_heading level0 row7\" >dummy</th>\n      <td id=\"T_429b8_row7_col0\" class=\"data row7 col0\" >Dummy Regressor</td>\n      <td id=\"T_429b8_row7_col1\" class=\"data row7 col1\" >1883792.6250</td>\n      <td id=\"T_429b8_row7_col2\" class=\"data row7 col2\" >5219946943829.3330</td>\n      <td id=\"T_429b8_row7_col3\" class=\"data row7 col3\" >1984354.2917</td>\n      <td id=\"T_429b8_row7_col4\" class=\"data row7 col4\" >-2.5630</td>\n      <td id=\"T_429b8_row7_col5\" class=\"data row7 col5\" >0.7356</td>\n      <td id=\"T_429b8_row7_col6\" class=\"data row7 col6\" >3.4363</td>\n      <td id=\"T_429b8_row7_col7\" class=\"data row7 col7\" >0.0067</td>\n    </tr>\n    <tr>\n      <th id=\"T_429b8_level0_row8\" class=\"row_heading level0 row8\" >knn</th>\n      <td id=\"T_429b8_row8_col0\" class=\"data row8 col0\" >K Neighbors Regressor</td>\n      <td id=\"T_429b8_row8_col1\" class=\"data row8 col1\" >1913499.3125</td>\n      <td id=\"T_429b8_row8_col2\" class=\"data row8 col2\" >6392133014869.3330</td>\n      <td id=\"T_429b8_row8_col3\" class=\"data row8 col3\" >2087442.3750</td>\n      <td id=\"T_429b8_row8_col4\" class=\"data row8 col4\" >-2.2254</td>\n      <td id=\"T_429b8_row8_col5\" class=\"data row8 col5\" >0.7485</td>\n      <td id=\"T_429b8_row8_col6\" class=\"data row8 col6\" >3.2617</td>\n      <td id=\"T_429b8_row8_col7\" class=\"data row8 col7\" >0.0133</td>\n    </tr>\n    <tr>\n      <th id=\"T_429b8_level0_row9\" class=\"row_heading level0 row9\" >lightgbm</th>\n      <td id=\"T_429b8_row9_col0\" class=\"data row9 col0\" >Light Gradient Boosting Machine</td>\n      <td id=\"T_429b8_row9_col1\" class=\"data row9 col1\" >1924244.9981</td>\n      <td id=\"T_429b8_row9_col2\" class=\"data row9 col2\" >5717645578951.4941</td>\n      <td id=\"T_429b8_row9_col3\" class=\"data row9 col3\" >2054298.2152</td>\n      <td id=\"T_429b8_row9_col4\" class=\"data row9 col4\" >-2.6089</td>\n      <td id=\"T_429b8_row9_col5\" class=\"data row9 col5\" >0.7499</td>\n      <td id=\"T_429b8_row9_col6\" class=\"data row9 col6\" >3.1493</td>\n      <td id=\"T_429b8_row9_col7\" class=\"data row9 col7\" >0.0200</td>\n    </tr>\n    <tr>\n      <th id=\"T_429b8_level0_row10\" class=\"row_heading level0 row10\" >par</th>\n      <td id=\"T_429b8_row10_col0\" class=\"data row10 col0\" >Passive Aggressive Regressor</td>\n      <td id=\"T_429b8_row10_col1\" class=\"data row10 col1\" >2434668.8589</td>\n      <td id=\"T_429b8_row10_col2\" class=\"data row10 col2\" >12442741208299.9844</td>\n      <td id=\"T_429b8_row10_col3\" class=\"data row10 col3\" >2722865.2245</td>\n      <td id=\"T_429b8_row10_col4\" class=\"data row10 col4\" >-3.2254</td>\n      <td id=\"T_429b8_row10_col5\" class=\"data row10 col5\" >0.8517</td>\n      <td id=\"T_429b8_row10_col6\" class=\"data row10 col6\" >6.8640</td>\n      <td id=\"T_429b8_row10_col7\" class=\"data row10 col7\" >0.0067</td>\n    </tr>\n    <tr>\n      <th id=\"T_429b8_level0_row11\" class=\"row_heading level0 row11\" >ridge</th>\n      <td id=\"T_429b8_row11_col0\" class=\"data row11 col0\" >Ridge Regression</td>\n      <td id=\"T_429b8_row11_col1\" class=\"data row11 col1\" >2451973.0208</td>\n      <td id=\"T_429b8_row11_col2\" class=\"data row11 col2\" >45898832412672.0000</td>\n      <td id=\"T_429b8_row11_col3\" class=\"data row11 col3\" >4403369.4792</td>\n      <td id=\"T_429b8_row11_col4\" class=\"data row11 col4\" >-5.0525</td>\n      <td id=\"T_429b8_row11_col5\" class=\"data row11 col5\" >0.6614</td>\n      <td id=\"T_429b8_row11_col6\" class=\"data row11 col6\" >1.9647</td>\n      <td id=\"T_429b8_row11_col7\" class=\"data row11 col7\" >0.7467</td>\n    </tr>\n    <tr>\n      <th id=\"T_429b8_level0_row12\" class=\"row_heading level0 row12\" >br</th>\n      <td id=\"T_429b8_row12_col0\" class=\"data row12 col0\" >Bayesian Ridge</td>\n      <td id=\"T_429b8_row12_col1\" class=\"data row12 col1\" >2818866.7699</td>\n      <td id=\"T_429b8_row12_col2\" class=\"data row12 col2\" >26048585722074.2695</td>\n      <td id=\"T_429b8_row12_col3\" class=\"data row12 col3\" >3572660.5076</td>\n      <td id=\"T_429b8_row12_col4\" class=\"data row12 col4\" >-4.3054</td>\n      <td id=\"T_429b8_row12_col5\" class=\"data row12 col5\" >0.9156</td>\n      <td id=\"T_429b8_row12_col6\" class=\"data row12 col6\" >16.6158</td>\n      <td id=\"T_429b8_row12_col7\" class=\"data row12 col7\" >0.0100</td>\n    </tr>\n    <tr>\n      <th id=\"T_429b8_level0_row13\" class=\"row_heading level0 row13\" >huber</th>\n      <td id=\"T_429b8_row13_col0\" class=\"data row13 col0\" >Huber Regressor</td>\n      <td id=\"T_429b8_row13_col1\" class=\"data row13 col1\" >3212183.4710</td>\n      <td id=\"T_429b8_row13_col2\" class=\"data row13 col2\" >42005147299483.5078</td>\n      <td id=\"T_429b8_row13_col3\" class=\"data row13 col3\" >4401630.3161</td>\n      <td id=\"T_429b8_row13_col4\" class=\"data row13 col4\" >-6.8497</td>\n      <td id=\"T_429b8_row13_col5\" class=\"data row13 col5\" >0.9452</td>\n      <td id=\"T_429b8_row13_col6\" class=\"data row13 col6\" >23.1994</td>\n      <td id=\"T_429b8_row13_col7\" class=\"data row13 col7\" >0.0267</td>\n    </tr>\n    <tr>\n      <th id=\"T_429b8_level0_row14\" class=\"row_heading level0 row14\" >en</th>\n      <td id=\"T_429b8_row14_col0\" class=\"data row14 col0\" >Elastic Net</td>\n      <td id=\"T_429b8_row14_col1\" class=\"data row14 col1\" >3410159.0625</td>\n      <td id=\"T_429b8_row14_col2\" class=\"data row14 col2\" >70547242090496.0000</td>\n      <td id=\"T_429b8_row14_col3\" class=\"data row14 col3\" >5251696.0104</td>\n      <td id=\"T_429b8_row14_col4\" class=\"data row14 col4\" >-6.4160</td>\n      <td id=\"T_429b8_row14_col5\" class=\"data row14 col5\" >0.8686</td>\n      <td id=\"T_429b8_row14_col6\" class=\"data row14 col6\" >24.0143</td>\n      <td id=\"T_429b8_row14_col7\" class=\"data row14 col7\" >0.0200</td>\n    </tr>\n    <tr>\n      <th id=\"T_429b8_level0_row15\" class=\"row_heading level0 row15\" >lasso</th>\n      <td id=\"T_429b8_row15_col0\" class=\"data row15 col0\" >Lasso Regression</td>\n      <td id=\"T_429b8_row15_col1\" class=\"data row15 col1\" >4069319.9375</td>\n      <td id=\"T_429b8_row15_col2\" class=\"data row15 col2\" >148713917284352.0000</td>\n      <td id=\"T_429b8_row15_col3\" class=\"data row15 col3\" >7818107.6875</td>\n      <td id=\"T_429b8_row15_col4\" class=\"data row15 col4\" >-15.5206</td>\n      <td id=\"T_429b8_row15_col5\" class=\"data row15 col5\" >0.8926</td>\n      <td id=\"T_429b8_row15_col6\" class=\"data row15 col6\" >32.7945</td>\n      <td id=\"T_429b8_row15_col7\" class=\"data row15 col7\" >0.7733</td>\n    </tr>\n    <tr>\n      <th id=\"T_429b8_level0_row16\" class=\"row_heading level0 row16\" >lr</th>\n      <td id=\"T_429b8_row16_col0\" class=\"data row16 col0\" >Linear Regression</td>\n      <td id=\"T_429b8_row16_col1\" class=\"data row16 col1\" >4494249.6146</td>\n      <td id=\"T_429b8_row16_col2\" class=\"data row16 col2\" >111240486780928.0000</td>\n      <td id=\"T_429b8_row16_col3\" class=\"data row16 col3\" >7479489.8229</td>\n      <td id=\"T_429b8_row16_col4\" class=\"data row16 col4\" >-19.9212</td>\n      <td id=\"T_429b8_row16_col5\" class=\"data row16 col5\" >1.3274</td>\n      <td id=\"T_429b8_row16_col6\" class=\"data row16 col6\" >24.7881</td>\n      <td id=\"T_429b8_row16_col7\" class=\"data row16 col7\" >1.4867</td>\n    </tr>\n    <tr>\n      <th id=\"T_429b8_level0_row17\" class=\"row_heading level0 row17\" >llar</th>\n      <td id=\"T_429b8_row17_col0\" class=\"data row17 col0\" >Lasso Least Angle Regression</td>\n      <td id=\"T_429b8_row17_col1\" class=\"data row17 col1\" >6193730.6272</td>\n      <td id=\"T_429b8_row17_col2\" class=\"data row17 col2\" >397917964322094.7500</td>\n      <td id=\"T_429b8_row17_col3\" class=\"data row17 col3\" >12007110.1269</td>\n      <td id=\"T_429b8_row17_col4\" class=\"data row17 col4\" >-37.0421</td>\n      <td id=\"T_429b8_row17_col5\" class=\"data row17 col5\" >0.9486</td>\n      <td id=\"T_429b8_row17_col6\" class=\"data row17 col6\" >56.2955</td>\n      <td id=\"T_429b8_row17_col7\" class=\"data row17 col7\" >0.0167</td>\n    </tr>\n    <tr>\n      <th id=\"T_429b8_level0_row18\" class=\"row_heading level0 row18\" >lar</th>\n      <td id=\"T_429b8_row18_col0\" class=\"data row18 col0\" >Least Angle Regression</td>\n      <td id=\"T_429b8_row18_col1\" class=\"data row18 col1\" >9896925335537301504.0000</td>\n      <td id=\"T_429b8_row18_col2\" class=\"data row18 col2\" >208292361004033546727353964099815866368.0000</td>\n      <td id=\"T_429b8_row18_col3\" class=\"data row18 col3\" >11344251584426967040.0000</td>\n      <td id=\"T_429b8_row18_col4\" class=\"data row18 col4\" >-1267123375105584933428527104.0000</td>\n      <td id=\"T_429b8_row18_col5\" class=\"data row18 col5\" >21.1744</td>\n      <td id=\"T_429b8_row18_col6\" class=\"data row18 col6\" >2166908518157.4893</td>\n      <td id=\"T_429b8_row18_col7\" class=\"data row18 col7\" >0.0100</td>\n    </tr>\n  </tbody>\n</table>\n"
     },
     "metadata": {},
     "output_type": "display_data"
    },
    {
     "name": "stdout",
     "output_type": "stream",
     "text": [
      "<class 'sklearn.linear_model._omp.OrthogonalMatchingPursuit'>\n"
     ]
    }
   ],
   "source": [
    "# run auto ml and get the most important features\n",
    "best = models.run_auto_ml(train_df, test_df, target_col, feature_cols, False, ml_criteria)"
   ],
   "metadata": {
    "collapsed": false,
    "pycharm": {
     "name": "#%%\n"
    }
   }
  },
  {
   "cell_type": "code",
   "execution_count": 89,
   "outputs": [],
   "source": [
    "ml_features = models.get_important_features('xgboost', features_threshold)\n",
    "ml_feature_cols = ml_features['Feature'].tolist()\n",
    "\n",
    "# if len(ml_features.index) != 0:\n",
    "#     # plot the most important features\n",
    "#     fig = px.bar(ml_features.sort_values('Variable Importance', ascending=True),\n",
    "#                  x='Variable Importance',\n",
    "#                  y='Feature',\n",
    "#                  orientation='h',\n",
    "#                  title='Feature Importance Plot')\n",
    "#     fig.show()"
   ],
   "metadata": {
    "collapsed": false,
    "pycharm": {
     "name": "#%%\n"
    }
   }
  },
  {
   "cell_type": "code",
   "execution_count": 90,
   "outputs": [
    {
     "data": {
      "text/plain": "<pandas.io.formats.style.Styler at 0x21d582526d0>",
      "text/html": "<style type=\"text/css\">\n#T_a9718 th {\n  text-align: left;\n}\n#T_a9718_row0_col0, #T_a9718_row0_col4, #T_a9718_row0_col5, #T_a9718_row0_col6, #T_a9718_row1_col0, #T_a9718_row1_col1, #T_a9718_row1_col2, #T_a9718_row1_col3, #T_a9718_row1_col5, #T_a9718_row1_col6, #T_a9718_row2_col0, #T_a9718_row2_col1, #T_a9718_row2_col2, #T_a9718_row2_col3, #T_a9718_row2_col4, #T_a9718_row2_col5, #T_a9718_row2_col6, #T_a9718_row3_col0, #T_a9718_row3_col1, #T_a9718_row3_col2, #T_a9718_row3_col3, #T_a9718_row3_col4, #T_a9718_row3_col5, #T_a9718_row3_col6, #T_a9718_row4_col0, #T_a9718_row4_col1, #T_a9718_row4_col2, #T_a9718_row4_col3, #T_a9718_row4_col4, #T_a9718_row4_col5, #T_a9718_row4_col6, #T_a9718_row5_col0, #T_a9718_row5_col1, #T_a9718_row5_col2, #T_a9718_row5_col3, #T_a9718_row5_col4, #T_a9718_row5_col5, #T_a9718_row5_col6, #T_a9718_row6_col0, #T_a9718_row6_col1, #T_a9718_row6_col2, #T_a9718_row6_col3, #T_a9718_row6_col4, #T_a9718_row6_col5, #T_a9718_row6_col6, #T_a9718_row7_col0, #T_a9718_row7_col1, #T_a9718_row7_col2, #T_a9718_row7_col3, #T_a9718_row7_col4, #T_a9718_row7_col5, #T_a9718_row7_col6, #T_a9718_row8_col0, #T_a9718_row8_col1, #T_a9718_row8_col2, #T_a9718_row8_col3, #T_a9718_row8_col4, #T_a9718_row8_col5, #T_a9718_row8_col6, #T_a9718_row9_col0, #T_a9718_row9_col1, #T_a9718_row9_col2, #T_a9718_row9_col3, #T_a9718_row9_col4, #T_a9718_row9_col5, #T_a9718_row9_col6, #T_a9718_row10_col0, #T_a9718_row10_col1, #T_a9718_row10_col2, #T_a9718_row10_col3, #T_a9718_row10_col4, #T_a9718_row10_col5, #T_a9718_row10_col6, #T_a9718_row11_col0, #T_a9718_row11_col1, #T_a9718_row11_col2, #T_a9718_row11_col3, #T_a9718_row11_col4, #T_a9718_row11_col5, #T_a9718_row11_col6, #T_a9718_row12_col0, #T_a9718_row12_col1, #T_a9718_row12_col2, #T_a9718_row12_col3, #T_a9718_row12_col4, #T_a9718_row12_col5, #T_a9718_row12_col6, #T_a9718_row13_col0, #T_a9718_row13_col1, #T_a9718_row13_col2, #T_a9718_row13_col3, #T_a9718_row13_col4, #T_a9718_row14_col0, #T_a9718_row14_col1, #T_a9718_row14_col2, #T_a9718_row14_col3, #T_a9718_row14_col4, #T_a9718_row14_col5, #T_a9718_row14_col6, #T_a9718_row15_col0, #T_a9718_row15_col1, #T_a9718_row15_col2, #T_a9718_row15_col3, #T_a9718_row15_col4, #T_a9718_row15_col5, #T_a9718_row15_col6, #T_a9718_row16_col0, #T_a9718_row16_col1, #T_a9718_row16_col2, #T_a9718_row16_col3, #T_a9718_row16_col4, #T_a9718_row16_col5, #T_a9718_row16_col6, #T_a9718_row17_col0, #T_a9718_row17_col1, #T_a9718_row17_col2, #T_a9718_row17_col3, #T_a9718_row17_col4, #T_a9718_row17_col5, #T_a9718_row17_col6, #T_a9718_row18_col0, #T_a9718_row18_col1, #T_a9718_row18_col2, #T_a9718_row18_col3, #T_a9718_row18_col4, #T_a9718_row18_col5, #T_a9718_row18_col6 {\n  text-align: left;\n}\n#T_a9718_row0_col1, #T_a9718_row0_col2, #T_a9718_row0_col3, #T_a9718_row1_col4, #T_a9718_row13_col5, #T_a9718_row13_col6 {\n  text-align: left;\n  background-color: yellow;\n}\n#T_a9718_row0_col7, #T_a9718_row2_col7, #T_a9718_row3_col7, #T_a9718_row4_col7, #T_a9718_row5_col7, #T_a9718_row6_col7, #T_a9718_row7_col7, #T_a9718_row9_col7, #T_a9718_row10_col7, #T_a9718_row11_col7, #T_a9718_row12_col7, #T_a9718_row14_col7, #T_a9718_row16_col7, #T_a9718_row17_col7, #T_a9718_row18_col7 {\n  text-align: left;\n  background-color: lightgrey;\n}\n#T_a9718_row1_col7, #T_a9718_row8_col7, #T_a9718_row13_col7, #T_a9718_row15_col7 {\n  text-align: left;\n  background-color: yellow;\n  background-color: lightgrey;\n}\n</style>\n<table id=\"T_a9718\">\n  <thead>\n    <tr>\n      <th class=\"blank level0\" >&nbsp;</th>\n      <th id=\"T_a9718_level0_col0\" class=\"col_heading level0 col0\" >Model</th>\n      <th id=\"T_a9718_level0_col1\" class=\"col_heading level0 col1\" >MAE</th>\n      <th id=\"T_a9718_level0_col2\" class=\"col_heading level0 col2\" >MSE</th>\n      <th id=\"T_a9718_level0_col3\" class=\"col_heading level0 col3\" >RMSE</th>\n      <th id=\"T_a9718_level0_col4\" class=\"col_heading level0 col4\" >R2</th>\n      <th id=\"T_a9718_level0_col5\" class=\"col_heading level0 col5\" >RMSLE</th>\n      <th id=\"T_a9718_level0_col6\" class=\"col_heading level0 col6\" >MAPE</th>\n      <th id=\"T_a9718_level0_col7\" class=\"col_heading level0 col7\" >TT (Sec)</th>\n    </tr>\n  </thead>\n  <tbody>\n    <tr>\n      <th id=\"T_a9718_level0_row0\" class=\"row_heading level0 row0\" >omp</th>\n      <td id=\"T_a9718_row0_col0\" class=\"data row0 col0\" >Orthogonal Matching Pursuit</td>\n      <td id=\"T_a9718_row0_col1\" class=\"data row0 col1\" >1387682.4372</td>\n      <td id=\"T_a9718_row0_col2\" class=\"data row0 col2\" >4388077088540.7510</td>\n      <td id=\"T_a9718_row0_col3\" class=\"data row0 col3\" >1526289.9257</td>\n      <td id=\"T_a9718_row0_col4\" class=\"data row0 col4\" >-0.2442</td>\n      <td id=\"T_a9718_row0_col5\" class=\"data row0 col5\" >0.6388</td>\n      <td id=\"T_a9718_row0_col6\" class=\"data row0 col6\" >3.2557</td>\n      <td id=\"T_a9718_row0_col7\" class=\"data row0 col7\" >0.0133</td>\n    </tr>\n    <tr>\n      <th id=\"T_a9718_level0_row1\" class=\"row_heading level0 row1\" >ridge</th>\n      <td id=\"T_a9718_row1_col0\" class=\"data row1 col0\" >Ridge Regression</td>\n      <td id=\"T_a9718_row1_col1\" class=\"data row1 col1\" >1414013.8333</td>\n      <td id=\"T_a9718_row1_col2\" class=\"data row1 col2\" >4732952226474.6670</td>\n      <td id=\"T_a9718_row1_col3\" class=\"data row1 col3\" >1607857.2708</td>\n      <td id=\"T_a9718_row1_col4\" class=\"data row1 col4\" >-0.1373</td>\n      <td id=\"T_a9718_row1_col5\" class=\"data row1 col5\" >0.6051</td>\n      <td id=\"T_a9718_row1_col6\" class=\"data row1 col6\" >1.7591</td>\n      <td id=\"T_a9718_row1_col7\" class=\"data row1 col7\" >0.0067</td>\n    </tr>\n    <tr>\n      <th id=\"T_a9718_level0_row2\" class=\"row_heading level0 row2\" >dt</th>\n      <td id=\"T_a9718_row2_col0\" class=\"data row2 col0\" >Decision Tree Regressor</td>\n      <td id=\"T_a9718_row2_col1\" class=\"data row2 col1\" >1542977.6111</td>\n      <td id=\"T_a9718_row2_col2\" class=\"data row2 col2\" >5021849602254.0928</td>\n      <td id=\"T_a9718_row2_col3\" class=\"data row2 col3\" >1699374.6649</td>\n      <td id=\"T_a9718_row2_col4\" class=\"data row2 col4\" >-0.5639</td>\n      <td id=\"T_a9718_row2_col5\" class=\"data row2 col5\" >0.6612</td>\n      <td id=\"T_a9718_row2_col6\" class=\"data row2 col6\" >3.1376</td>\n      <td id=\"T_a9718_row2_col7\" class=\"data row2 col7\" >0.0100</td>\n    </tr>\n    <tr>\n      <th id=\"T_a9718_level0_row3\" class=\"row_heading level0 row3\" >xgboost</th>\n      <td id=\"T_a9718_row3_col0\" class=\"data row3 col0\" >Extreme Gradient Boosting</td>\n      <td id=\"T_a9718_row3_col1\" class=\"data row3 col1\" >1644704.7500</td>\n      <td id=\"T_a9718_row3_col2\" class=\"data row3 col2\" >5555198143146.6670</td>\n      <td id=\"T_a9718_row3_col3\" class=\"data row3 col3\" >1804572.2083</td>\n      <td id=\"T_a9718_row3_col4\" class=\"data row3 col4\" >-0.8344</td>\n      <td id=\"T_a9718_row3_col5\" class=\"data row3 col5\" >0.6880</td>\n      <td id=\"T_a9718_row3_col6\" class=\"data row3 col6\" >3.4265</td>\n      <td id=\"T_a9718_row3_col7\" class=\"data row3 col7\" >0.1133</td>\n    </tr>\n    <tr>\n      <th id=\"T_a9718_level0_row4\" class=\"row_heading level0 row4\" >br</th>\n      <td id=\"T_a9718_row4_col0\" class=\"data row4 col0\" >Bayesian Ridge</td>\n      <td id=\"T_a9718_row4_col1\" class=\"data row4 col1\" >1670168.3114</td>\n      <td id=\"T_a9718_row4_col2\" class=\"data row4 col2\" >6118427913754.6338</td>\n      <td id=\"T_a9718_row4_col3\" class=\"data row4 col3\" >1855774.8953</td>\n      <td id=\"T_a9718_row4_col4\" class=\"data row4 col4\" >-0.6513</td>\n      <td id=\"T_a9718_row4_col5\" class=\"data row4 col5\" >0.6342</td>\n      <td id=\"T_a9718_row4_col6\" class=\"data row4 col6\" >1.7837</td>\n      <td id=\"T_a9718_row4_col7\" class=\"data row4 col7\" >0.0100</td>\n    </tr>\n    <tr>\n      <th id=\"T_a9718_level0_row5\" class=\"row_heading level0 row5\" >et</th>\n      <td id=\"T_a9718_row5_col0\" class=\"data row5 col0\" >Extra Trees Regressor</td>\n      <td id=\"T_a9718_row5_col1\" class=\"data row5 col1\" >1673289.0078</td>\n      <td id=\"T_a9718_row5_col2\" class=\"data row5 col2\" >5275040171848.3535</td>\n      <td id=\"T_a9718_row5_col3\" class=\"data row5 col3\" >1837623.4401</td>\n      <td id=\"T_a9718_row5_col4\" class=\"data row5 col4\" >-1.1419</td>\n      <td id=\"T_a9718_row5_col5\" class=\"data row5 col5\" >0.6982</td>\n      <td id=\"T_a9718_row5_col6\" class=\"data row5 col6\" >3.3214</td>\n      <td id=\"T_a9718_row5_col7\" class=\"data row5 col7\" >0.0600</td>\n    </tr>\n    <tr>\n      <th id=\"T_a9718_level0_row6\" class=\"row_heading level0 row6\" >rf</th>\n      <td id=\"T_a9718_row6_col0\" class=\"data row6 col0\" >Random Forest Regressor</td>\n      <td id=\"T_a9718_row6_col1\" class=\"data row6 col1\" >1681576.8863</td>\n      <td id=\"T_a9718_row6_col2\" class=\"data row6 col2\" >5639547670761.8135</td>\n      <td id=\"T_a9718_row6_col3\" class=\"data row6 col3\" >1862340.1446</td>\n      <td id=\"T_a9718_row6_col4\" class=\"data row6 col4\" >-1.0629</td>\n      <td id=\"T_a9718_row6_col5\" class=\"data row6 col5\" >0.7041</td>\n      <td id=\"T_a9718_row6_col6\" class=\"data row6 col6\" >3.6146</td>\n      <td id=\"T_a9718_row6_col7\" class=\"data row6 col7\" >0.0933</td>\n    </tr>\n    <tr>\n      <th id=\"T_a9718_level0_row7\" class=\"row_heading level0 row7\" >gbr</th>\n      <td id=\"T_a9718_row7_col0\" class=\"data row7 col0\" >Gradient Boosting Regressor</td>\n      <td id=\"T_a9718_row7_col1\" class=\"data row7 col1\" >1685381.4637</td>\n      <td id=\"T_a9718_row7_col2\" class=\"data row7 col2\" >5636001505075.4287</td>\n      <td id=\"T_a9718_row7_col3\" class=\"data row7 col3\" >1860588.3563</td>\n      <td id=\"T_a9718_row7_col4\" class=\"data row7 col4\" >-1.0123</td>\n      <td id=\"T_a9718_row7_col5\" class=\"data row7 col5\" >0.7005</td>\n      <td id=\"T_a9718_row7_col6\" class=\"data row7 col6\" >3.4611</td>\n      <td id=\"T_a9718_row7_col7\" class=\"data row7 col7\" >0.0200</td>\n    </tr>\n    <tr>\n      <th id=\"T_a9718_level0_row8\" class=\"row_heading level0 row8\" >llar</th>\n      <td id=\"T_a9718_row8_col0\" class=\"data row8 col0\" >Lasso Least Angle Regression</td>\n      <td id=\"T_a9718_row8_col1\" class=\"data row8 col1\" >1699770.0226</td>\n      <td id=\"T_a9718_row8_col2\" class=\"data row8 col2\" >12119641059814.0684</td>\n      <td id=\"T_a9718_row8_col3\" class=\"data row8 col3\" >2325715.3512</td>\n      <td id=\"T_a9718_row8_col4\" class=\"data row8 col4\" >-0.6724</td>\n      <td id=\"T_a9718_row8_col5\" class=\"data row8 col5\" >0.5876</td>\n      <td id=\"T_a9718_row8_col6\" class=\"data row8 col6\" >1.6510</td>\n      <td id=\"T_a9718_row8_col7\" class=\"data row8 col7\" >0.0067</td>\n    </tr>\n    <tr>\n      <th id=\"T_a9718_level0_row9\" class=\"row_heading level0 row9\" >lr</th>\n      <td id=\"T_a9718_row9_col0\" class=\"data row9 col0\" >Linear Regression</td>\n      <td id=\"T_a9718_row9_col1\" class=\"data row9 col1\" >1719554.3021</td>\n      <td id=\"T_a9718_row9_col2\" class=\"data row9 col2\" >12685612100266.6660</td>\n      <td id=\"T_a9718_row9_col3\" class=\"data row9 col3\" >2385463.6979</td>\n      <td id=\"T_a9718_row9_col4\" class=\"data row9 col4\" >-0.8358</td>\n      <td id=\"T_a9718_row9_col5\" class=\"data row9 col5\" >0.5859</td>\n      <td id=\"T_a9718_row9_col6\" class=\"data row9 col6\" >1.5646</td>\n      <td id=\"T_a9718_row9_col7\" class=\"data row9 col7\" >0.0100</td>\n    </tr>\n    <tr>\n      <th id=\"T_a9718_level0_row10\" class=\"row_heading level0 row10\" >lasso</th>\n      <td id=\"T_a9718_row10_col0\" class=\"data row10 col0\" >Lasso Regression</td>\n      <td id=\"T_a9718_row10_col1\" class=\"data row10 col1\" >1728520.9688</td>\n      <td id=\"T_a9718_row10_col2\" class=\"data row10 col2\" >12224169579861.3340</td>\n      <td id=\"T_a9718_row10_col3\" class=\"data row10 col3\" >2365864.0104</td>\n      <td id=\"T_a9718_row10_col4\" class=\"data row10 col4\" >-0.8873</td>\n      <td id=\"T_a9718_row10_col5\" class=\"data row10 col5\" >0.5979</td>\n      <td id=\"T_a9718_row10_col6\" class=\"data row10 col6\" >1.6852</td>\n      <td id=\"T_a9718_row10_col7\" class=\"data row10 col7\" >0.0133</td>\n    </tr>\n    <tr>\n      <th id=\"T_a9718_level0_row11\" class=\"row_heading level0 row11\" >ada</th>\n      <td id=\"T_a9718_row11_col0\" class=\"data row11 col0\" >AdaBoost Regressor</td>\n      <td id=\"T_a9718_row11_col1\" class=\"data row11 col1\" >1732067.7277</td>\n      <td id=\"T_a9718_row11_col2\" class=\"data row11 col2\" >5962202022526.6094</td>\n      <td id=\"T_a9718_row11_col3\" class=\"data row11 col3\" >1922681.1466</td>\n      <td id=\"T_a9718_row11_col4\" class=\"data row11 col4\" >-1.2059</td>\n      <td id=\"T_a9718_row11_col5\" class=\"data row11 col5\" >0.7102</td>\n      <td id=\"T_a9718_row11_col6\" class=\"data row11 col6\" >3.3784</td>\n      <td id=\"T_a9718_row11_col7\" class=\"data row11 col7\" >0.0533</td>\n    </tr>\n    <tr>\n      <th id=\"T_a9718_level0_row12\" class=\"row_heading level0 row12\" >knn</th>\n      <td id=\"T_a9718_row12_col0\" class=\"data row12 col0\" >K Neighbors Regressor</td>\n      <td id=\"T_a9718_row12_col1\" class=\"data row12 col1\" >1740047.1562</td>\n      <td id=\"T_a9718_row12_col2\" class=\"data row12 col2\" >5656674861056.0000</td>\n      <td id=\"T_a9718_row12_col3\" class=\"data row12 col3\" >1905546.1875</td>\n      <td id=\"T_a9718_row12_col4\" class=\"data row12 col4\" >-1.3219</td>\n      <td id=\"T_a9718_row12_col5\" class=\"data row12 col5\" >0.7005</td>\n      <td id=\"T_a9718_row12_col6\" class=\"data row12 col6\" >3.0099</td>\n      <td id=\"T_a9718_row12_col7\" class=\"data row12 col7\" >0.0100</td>\n    </tr>\n    <tr>\n      <th id=\"T_a9718_level0_row13\" class=\"row_heading level0 row13\" >en</th>\n      <td id=\"T_a9718_row13_col0\" class=\"data row13 col0\" >Elastic Net</td>\n      <td id=\"T_a9718_row13_col1\" class=\"data row13 col1\" >1809853.5833</td>\n      <td id=\"T_a9718_row13_col2\" class=\"data row13 col2\" >11411060293632.0000</td>\n      <td id=\"T_a9718_row13_col3\" class=\"data row13 col3\" >2349702.0312</td>\n      <td id=\"T_a9718_row13_col4\" class=\"data row13 col4\" >-0.8976</td>\n      <td id=\"T_a9718_row13_col5\" class=\"data row13 col5\" >0.5810</td>\n      <td id=\"T_a9718_row13_col6\" class=\"data row13 col6\" >1.2737</td>\n      <td id=\"T_a9718_row13_col7\" class=\"data row13 col7\" >0.0067</td>\n    </tr>\n    <tr>\n      <th id=\"T_a9718_level0_row14\" class=\"row_heading level0 row14\" >par</th>\n      <td id=\"T_a9718_row14_col0\" class=\"data row14 col0\" >Passive Aggressive Regressor</td>\n      <td id=\"T_a9718_row14_col1\" class=\"data row14 col1\" >1873417.4284</td>\n      <td id=\"T_a9718_row14_col2\" class=\"data row14 col2\" >6609996155272.0713</td>\n      <td id=\"T_a9718_row14_col3\" class=\"data row14 col3\" >2061144.2902</td>\n      <td id=\"T_a9718_row14_col4\" class=\"data row14 col4\" >-1.6967</td>\n      <td id=\"T_a9718_row14_col5\" class=\"data row14 col5\" >0.7481</td>\n      <td id=\"T_a9718_row14_col6\" class=\"data row14 col6\" >3.9743</td>\n      <td id=\"T_a9718_row14_col7\" class=\"data row14 col7\" >0.0100</td>\n    </tr>\n    <tr>\n      <th id=\"T_a9718_level0_row15\" class=\"row_heading level0 row15\" >dummy</th>\n      <td id=\"T_a9718_row15_col0\" class=\"data row15 col0\" >Dummy Regressor</td>\n      <td id=\"T_a9718_row15_col1\" class=\"data row15 col1\" >1883792.6250</td>\n      <td id=\"T_a9718_row15_col2\" class=\"data row15 col2\" >5219946943829.3330</td>\n      <td id=\"T_a9718_row15_col3\" class=\"data row15 col3\" >1984354.2917</td>\n      <td id=\"T_a9718_row15_col4\" class=\"data row15 col4\" >-2.5630</td>\n      <td id=\"T_a9718_row15_col5\" class=\"data row15 col5\" >0.7356</td>\n      <td id=\"T_a9718_row15_col6\" class=\"data row15 col6\" >3.4363</td>\n      <td id=\"T_a9718_row15_col7\" class=\"data row15 col7\" >0.0067</td>\n    </tr>\n    <tr>\n      <th id=\"T_a9718_level0_row16\" class=\"row_heading level0 row16\" >lightgbm</th>\n      <td id=\"T_a9718_row16_col0\" class=\"data row16 col0\" >Light Gradient Boosting Machine</td>\n      <td id=\"T_a9718_row16_col1\" class=\"data row16 col1\" >1914589.4537</td>\n      <td id=\"T_a9718_row16_col2\" class=\"data row16 col2\" >5651667754799.5703</td>\n      <td id=\"T_a9718_row16_col3\" class=\"data row16 col3\" >2045258.1550</td>\n      <td id=\"T_a9718_row16_col4\" class=\"data row16 col4\" >-2.6028</td>\n      <td id=\"T_a9718_row16_col5\" class=\"data row16 col5\" >0.7575</td>\n      <td id=\"T_a9718_row16_col6\" class=\"data row16 col6\" >3.6101</td>\n      <td id=\"T_a9718_row16_col7\" class=\"data row16 col7\" >0.0200</td>\n    </tr>\n    <tr>\n      <th id=\"T_a9718_level0_row17\" class=\"row_heading level0 row17\" >huber</th>\n      <td id=\"T_a9718_row17_col0\" class=\"data row17 col0\" >Huber Regressor</td>\n      <td id=\"T_a9718_row17_col1\" class=\"data row17 col1\" >2391096.1157</td>\n      <td id=\"T_a9718_row17_col2\" class=\"data row17 col2\" >25246132469905.7773</td>\n      <td id=\"T_a9718_row17_col3\" class=\"data row17 col3\" >3439420.2510</td>\n      <td id=\"T_a9718_row17_col4\" class=\"data row17 col4\" >-2.7428</td>\n      <td id=\"T_a9718_row17_col5\" class=\"data row17 col5\" >0.7614</td>\n      <td id=\"T_a9718_row17_col6\" class=\"data row17 col6\" >6.4283</td>\n      <td id=\"T_a9718_row17_col7\" class=\"data row17 col7\" >0.0200</td>\n    </tr>\n    <tr>\n      <th id=\"T_a9718_level0_row18\" class=\"row_heading level0 row18\" >lar</th>\n      <td id=\"T_a9718_row18_col0\" class=\"data row18 col0\" >Least Angle Regression</td>\n      <td id=\"T_a9718_row18_col1\" class=\"data row18 col1\" >1289035611276443.5000</td>\n      <td id=\"T_a9718_row18_col2\" class=\"data row18 col2\" >6539507784815639156814359035904.0000</td>\n      <td id=\"T_a9718_row18_col3\" class=\"data row18 col3\" >1476427001510611.0000</td>\n      <td id=\"T_a9718_row18_col4\" class=\"data row18 col4\" >-48518973850713055232.0000</td>\n      <td id=\"T_a9718_row18_col5\" class=\"data row18 col5\" >8.6771</td>\n      <td id=\"T_a9718_row18_col6\" class=\"data row18 col6\" >304969680.5721</td>\n      <td id=\"T_a9718_row18_col7\" class=\"data row18 col7\" >0.0200</td>\n    </tr>\n  </tbody>\n</table>\n"
     },
     "metadata": {},
     "output_type": "display_data"
    },
    {
     "name": "stdout",
     "output_type": "stream",
     "text": [
      "<class 'sklearn.linear_model._omp.OrthogonalMatchingPursuit'>\n"
     ]
    }
   ],
   "source": [
    "# ------------------------------------------------------------------------------------- #\n",
    "# re-run the auto ml with only the important features\n",
    "# ------------------------------------------------------------------------------------- #\n",
    "\n",
    "\n",
    "# Here we need to figure out which set of features we want to use\n",
    "# ml_features or corr_features\n",
    "feature_cols = ml_feature_cols\n",
    "#feature_cols = corr_feature_cols\n",
    "\n",
    "feature_cols = ml_feature_cols\n",
    "keeps = ['Calendar Date', target_col]+feature_cols\n",
    "train_df = train_df[keeps]\n",
    "test_df = test_df[keeps]\n",
    "comb_df = comb_df[keeps]\n",
    "\n",
    "best = models.run_auto_ml(train_df, test_df, target_col, feature_cols, False, ml_criteria)"
   ],
   "metadata": {
    "collapsed": false,
    "pycharm": {
     "name": "#%%\n"
    }
   }
  },
  {
   "cell_type": "code",
   "execution_count": 110,
   "outputs": [
    {
     "ename": "ValueError",
     "evalue": "No active run found. Check logging parameter in setup or to get logs for inactive run pass experiment_name.",
     "output_type": "error",
     "traceback": [
      "\u001B[1;31m---------------------------------------------------------------------------\u001B[0m",
      "\u001B[1;31mValueError\u001B[0m                                Traceback (most recent call last)",
      "Input \u001B[1;32mIn [110]\u001B[0m, in \u001B[0;36m<cell line: 1>\u001B[1;34m()\u001B[0m\n\u001B[1;32m----> 1\u001B[0m dt_results \u001B[38;5;241m=\u001B[39m \u001B[43mget_logs\u001B[49m\u001B[43m(\u001B[49m\u001B[43m)\u001B[49m\n",
      "File \u001B[1;32m~\\Miniconda3\\envs\\paychenv\\lib\\site-packages\\pycaret\\regression.py:2284\u001B[0m, in \u001B[0;36mget_logs\u001B[1;34m(experiment_name, save)\u001B[0m\n\u001B[0;32m   2254\u001B[0m \u001B[38;5;28;01mdef\u001B[39;00m \u001B[38;5;21mget_logs\u001B[39m(experiment_name: Optional[\u001B[38;5;28mstr\u001B[39m] \u001B[38;5;241m=\u001B[39m \u001B[38;5;28;01mNone\u001B[39;00m, save: \u001B[38;5;28mbool\u001B[39m \u001B[38;5;241m=\u001B[39m \u001B[38;5;28;01mFalse\u001B[39;00m) \u001B[38;5;241m-\u001B[39m\u001B[38;5;241m>\u001B[39m pd\u001B[38;5;241m.\u001B[39mDataFrame:\n\u001B[0;32m   2256\u001B[0m     \u001B[38;5;124;03m\"\"\"\u001B[39;00m\n\u001B[0;32m   2257\u001B[0m \u001B[38;5;124;03m    Returns a table of experiment logs. Only works when ``log_experiment``\u001B[39;00m\n\u001B[0;32m   2258\u001B[0m \u001B[38;5;124;03m    is True when initializing the ``setup`` function.\u001B[39;00m\n\u001B[1;32m   (...)\u001B[0m\n\u001B[0;32m   2281\u001B[0m \n\u001B[0;32m   2282\u001B[0m \u001B[38;5;124;03m    \"\"\"\u001B[39;00m\n\u001B[1;32m-> 2284\u001B[0m     \u001B[38;5;28;01mreturn\u001B[39;00m \u001B[43mpycaret\u001B[49m\u001B[38;5;241;43m.\u001B[39;49m\u001B[43minternal\u001B[49m\u001B[38;5;241;43m.\u001B[39;49m\u001B[43mtabular\u001B[49m\u001B[38;5;241;43m.\u001B[39;49m\u001B[43mget_logs\u001B[49m\u001B[43m(\u001B[49m\u001B[43mexperiment_name\u001B[49m\u001B[38;5;241;43m=\u001B[39;49m\u001B[43mexperiment_name\u001B[49m\u001B[43m,\u001B[49m\u001B[43m \u001B[49m\u001B[43msave\u001B[49m\u001B[38;5;241;43m=\u001B[39;49m\u001B[43msave\u001B[49m\u001B[43m)\u001B[49m\n",
      "File \u001B[1;32m~\\Miniconda3\\envs\\paychenv\\lib\\site-packages\\pycaret\\internal\\tabular.py:9929\u001B[0m, in \u001B[0;36mget_logs\u001B[1;34m(experiment_name, save)\u001B[0m\n\u001B[0;32m   9926\u001B[0m client \u001B[38;5;241m=\u001B[39m MlflowClient()\n\u001B[0;32m   9928\u001B[0m \u001B[38;5;28;01mif\u001B[39;00m client\u001B[38;5;241m.\u001B[39mget_experiment_by_name(exp_name_log_) \u001B[38;5;129;01mis\u001B[39;00m \u001B[38;5;28;01mNone\u001B[39;00m:\n\u001B[1;32m-> 9929\u001B[0m     \u001B[38;5;28;01mraise\u001B[39;00m \u001B[38;5;167;01mValueError\u001B[39;00m(\n\u001B[0;32m   9930\u001B[0m         \u001B[38;5;124m\"\u001B[39m\u001B[38;5;124mNo active run found. Check logging parameter in setup or to get logs for inactive run pass experiment_name.\u001B[39m\u001B[38;5;124m\"\u001B[39m\n\u001B[0;32m   9931\u001B[0m     )\n\u001B[0;32m   9933\u001B[0m exp_id \u001B[38;5;241m=\u001B[39m client\u001B[38;5;241m.\u001B[39mget_experiment_by_name(exp_name_log_)\u001B[38;5;241m.\u001B[39mexperiment_id\n\u001B[0;32m   9934\u001B[0m runs \u001B[38;5;241m=\u001B[39m mlflow\u001B[38;5;241m.\u001B[39msearch_runs(exp_id)\n",
      "\u001B[1;31mValueError\u001B[0m: No active run found. Check logging parameter in setup or to get logs for inactive run pass experiment_name."
     ]
    }
   ],
   "source": [
    "dt_results = get_logs()"
   ],
   "metadata": {
    "collapsed": false,
    "pycharm": {
     "name": "#%%\n"
    }
   }
  },
  {
   "cell_type": "code",
   "execution_count": 109,
   "outputs": [
    {
     "ename": "ValueError",
     "evalue": "No active run found. Check logging parameter in setup or to get logs for inactive run pass experiment_name.",
     "output_type": "error",
     "traceback": [
      "\u001B[1;31m---------------------------------------------------------------------------\u001B[0m",
      "\u001B[1;31mValueError\u001B[0m                                Traceback (most recent call last)",
      "Input \u001B[1;32mIn [109]\u001B[0m, in \u001B[0;36m<cell line: 1>\u001B[1;34m()\u001B[0m\n\u001B[1;32m----> 1\u001B[0m \u001B[43mget_logs\u001B[49m\u001B[43m(\u001B[49m\u001B[43m)\u001B[49m\n",
      "File \u001B[1;32m~\\Miniconda3\\envs\\paychenv\\lib\\site-packages\\pycaret\\regression.py:2284\u001B[0m, in \u001B[0;36mget_logs\u001B[1;34m(experiment_name, save)\u001B[0m\n\u001B[0;32m   2254\u001B[0m \u001B[38;5;28;01mdef\u001B[39;00m \u001B[38;5;21mget_logs\u001B[39m(experiment_name: Optional[\u001B[38;5;28mstr\u001B[39m] \u001B[38;5;241m=\u001B[39m \u001B[38;5;28;01mNone\u001B[39;00m, save: \u001B[38;5;28mbool\u001B[39m \u001B[38;5;241m=\u001B[39m \u001B[38;5;28;01mFalse\u001B[39;00m) \u001B[38;5;241m-\u001B[39m\u001B[38;5;241m>\u001B[39m pd\u001B[38;5;241m.\u001B[39mDataFrame:\n\u001B[0;32m   2256\u001B[0m     \u001B[38;5;124;03m\"\"\"\u001B[39;00m\n\u001B[0;32m   2257\u001B[0m \u001B[38;5;124;03m    Returns a table of experiment logs. Only works when ``log_experiment``\u001B[39;00m\n\u001B[0;32m   2258\u001B[0m \u001B[38;5;124;03m    is True when initializing the ``setup`` function.\u001B[39;00m\n\u001B[1;32m   (...)\u001B[0m\n\u001B[0;32m   2281\u001B[0m \n\u001B[0;32m   2282\u001B[0m \u001B[38;5;124;03m    \"\"\"\u001B[39;00m\n\u001B[1;32m-> 2284\u001B[0m     \u001B[38;5;28;01mreturn\u001B[39;00m \u001B[43mpycaret\u001B[49m\u001B[38;5;241;43m.\u001B[39;49m\u001B[43minternal\u001B[49m\u001B[38;5;241;43m.\u001B[39;49m\u001B[43mtabular\u001B[49m\u001B[38;5;241;43m.\u001B[39;49m\u001B[43mget_logs\u001B[49m\u001B[43m(\u001B[49m\u001B[43mexperiment_name\u001B[49m\u001B[38;5;241;43m=\u001B[39;49m\u001B[43mexperiment_name\u001B[49m\u001B[43m,\u001B[49m\u001B[43m \u001B[49m\u001B[43msave\u001B[49m\u001B[38;5;241;43m=\u001B[39;49m\u001B[43msave\u001B[49m\u001B[43m)\u001B[49m\n",
      "File \u001B[1;32m~\\Miniconda3\\envs\\paychenv\\lib\\site-packages\\pycaret\\internal\\tabular.py:9929\u001B[0m, in \u001B[0;36mget_logs\u001B[1;34m(experiment_name, save)\u001B[0m\n\u001B[0;32m   9926\u001B[0m client \u001B[38;5;241m=\u001B[39m MlflowClient()\n\u001B[0;32m   9928\u001B[0m \u001B[38;5;28;01mif\u001B[39;00m client\u001B[38;5;241m.\u001B[39mget_experiment_by_name(exp_name_log_) \u001B[38;5;129;01mis\u001B[39;00m \u001B[38;5;28;01mNone\u001B[39;00m:\n\u001B[1;32m-> 9929\u001B[0m     \u001B[38;5;28;01mraise\u001B[39;00m \u001B[38;5;167;01mValueError\u001B[39;00m(\n\u001B[0;32m   9930\u001B[0m         \u001B[38;5;124m\"\u001B[39m\u001B[38;5;124mNo active run found. Check logging parameter in setup or to get logs for inactive run pass experiment_name.\u001B[39m\u001B[38;5;124m\"\u001B[39m\n\u001B[0;32m   9931\u001B[0m     )\n\u001B[0;32m   9933\u001B[0m exp_id \u001B[38;5;241m=\u001B[39m client\u001B[38;5;241m.\u001B[39mget_experiment_by_name(exp_name_log_)\u001B[38;5;241m.\u001B[39mexperiment_id\n\u001B[0;32m   9934\u001B[0m runs \u001B[38;5;241m=\u001B[39m mlflow\u001B[38;5;241m.\u001B[39msearch_runs(exp_id)\n",
      "\u001B[1;31mValueError\u001B[0m: No active run found. Check logging parameter in setup or to get logs for inactive run pass experiment_name."
     ]
    }
   ],
   "source": [],
   "metadata": {
    "collapsed": false,
    "pycharm": {
     "name": "#%%\n"
    }
   }
  },
  {
   "cell_type": "code",
   "execution_count": 91,
   "outputs": [
    {
     "data": {
      "application/vnd.plotly.v1+json": {
       "data": [
        {
         "hovertemplate": "variable=Interest on Funds Held for Clients<br>Date=%{x}<br>value=%{y}<extra></extra>",
         "legendgroup": "Interest on Funds Held for Clients",
         "line": {
          "color": "#636efa",
          "dash": "solid"
         },
         "marker": {
          "symbol": "circle"
         },
         "mode": "lines",
         "name": "Interest on Funds Held for Clients",
         "orientation": "v",
         "showlegend": true,
         "x": [
          "2014-06-01T00:00:00",
          "2014-07-01T00:00:00",
          "2014-08-01T00:00:00",
          "2014-09-01T00:00:00",
          "2014-10-01T00:00:00",
          "2014-11-01T00:00:00",
          "2014-12-01T00:00:00",
          "2015-01-01T00:00:00",
          "2015-02-01T00:00:00",
          "2015-03-01T00:00:00",
          "2015-04-01T00:00:00",
          "2015-05-01T00:00:00",
          "2015-06-01T00:00:00",
          "2015-07-01T00:00:00",
          "2015-08-01T00:00:00",
          "2015-09-01T00:00:00",
          "2015-10-01T00:00:00",
          "2015-11-01T00:00:00",
          "2015-12-01T00:00:00",
          "2016-01-01T00:00:00",
          "2016-02-01T00:00:00",
          "2016-03-01T00:00:00",
          "2016-04-01T00:00:00",
          "2016-05-01T00:00:00",
          "2016-06-01T00:00:00",
          "2016-07-01T00:00:00",
          "2016-08-01T00:00:00",
          "2016-09-01T00:00:00",
          "2016-10-01T00:00:00",
          "2016-11-01T00:00:00",
          "2016-12-01T00:00:00",
          "2017-01-01T00:00:00",
          "2017-02-01T00:00:00",
          "2017-03-01T00:00:00",
          "2017-04-01T00:00:00",
          "2017-05-01T00:00:00",
          "2017-06-01T00:00:00",
          "2017-07-01T00:00:00",
          "2017-08-01T00:00:00",
          "2017-09-01T00:00:00",
          "2017-10-01T00:00:00",
          "2017-11-01T00:00:00",
          "2017-12-01T00:00:00",
          "2018-01-01T00:00:00",
          "2018-02-01T00:00:00",
          "2018-03-01T00:00:00",
          "2018-04-01T00:00:00",
          "2018-05-01T00:00:00",
          "2018-06-01T00:00:00",
          "2018-07-01T00:00:00",
          "2018-08-01T00:00:00",
          "2018-09-01T00:00:00",
          "2018-10-01T00:00:00",
          "2018-11-01T00:00:00",
          "2018-12-01T00:00:00",
          "2019-01-01T00:00:00",
          "2019-02-01T00:00:00",
          "2019-03-01T00:00:00",
          "2019-04-01T00:00:00",
          "2019-05-01T00:00:00",
          "2019-06-01T00:00:00",
          "2019-07-01T00:00:00",
          "2019-08-01T00:00:00",
          "2019-09-01T00:00:00",
          "2019-10-01T00:00:00",
          "2019-11-01T00:00:00",
          "2019-12-01T00:00:00",
          "2020-01-01T00:00:00",
          "2020-02-01T00:00:00",
          "2020-03-01T00:00:00",
          "2020-04-01T00:00:00",
          "2020-05-01T00:00:00",
          "2020-06-01T00:00:00",
          "2020-07-01T00:00:00",
          "2020-08-01T00:00:00",
          "2020-09-01T00:00:00",
          "2020-10-01T00:00:00",
          "2020-11-01T00:00:00",
          "2020-12-01T00:00:00",
          "2021-01-01T00:00:00",
          "2021-02-01T00:00:00",
          "2021-03-01T00:00:00",
          "2021-04-01T00:00:00",
          "2021-05-01T00:00:00"
         ],
         "xaxis": "x",
         "y": [
          3308154.0,
          3466375.0,
          3434419.0,
          3419918.0,
          3472038.0,
          3469203.0,
          3550962.0,
          3683535.0,
          3509475.0,
          3645265.0,
          3627835.0,
          3493963.0,
          3481516.0,
          3650796.0,
          3658495.0,
          3654756.0,
          3762906.0,
          3739729.0,
          3936843.0,
          4026400.0,
          3915424.0,
          4070073.0,
          4307390.0,
          3852075.0,
          3944652.0,
          4229635.0,
          3805760.0,
          3578044.0,
          4008273.0,
          3796831.0,
          4439123.0,
          4557677.0,
          4235552.0,
          4638549.0,
          5177184.0,
          4173895.0,
          4470144.0,
          4881440.0,
          4357596.0,
          4644637.0,
          4722507.0,
          4617751.0,
          6502180.0,
          6024323.0,
          5577385.0,
          5994470.0,
          6791075.0,
          4950702.0,
          5633249.0,
          6059461.0,
          5467660.0,
          6002190.0,
          6084714.0,
          6201403.0,
          8257412.0,
          7271303.0,
          7426883.0,
          8190477.0,
          8500112.0,
          988904.0,
          1478660.0,
          2325636.0,
          1472227.0,
          841304.0,
          1009948.0,
          693495.0,
          1116763.0,
          1307164.0,
          838995.0,
          632985.0,
          31551.0,
          8118940.0,
          -224138.0,
          -270403.0,
          -280327.0,
          -291853.0,
          -183131.0,
          -532082.0,
          -242847.0,
          -304771.0,
          -361061.0,
          -297741.0,
          -612621.0,
          -402642.0
         ],
         "yaxis": "y",
         "type": "scatter"
        },
        {
         "hovertemplate": "variable=Interest on Funds Held for Clients - ML Predicted<br>Date=%{x}<br>value=%{y}<extra></extra>",
         "legendgroup": "Interest on Funds Held for Clients - ML Predicted",
         "line": {
          "color": "#EF553B",
          "dash": "solid"
         },
         "marker": {
          "symbol": "circle"
         },
         "mode": "lines",
         "name": "Interest on Funds Held for Clients - ML Predicted",
         "orientation": "v",
         "showlegend": true,
         "x": [
          "2014-06-01T00:00:00",
          "2014-07-01T00:00:00",
          "2014-08-01T00:00:00",
          "2014-09-01T00:00:00",
          "2014-10-01T00:00:00",
          "2014-11-01T00:00:00",
          "2014-12-01T00:00:00",
          "2015-01-01T00:00:00",
          "2015-02-01T00:00:00",
          "2015-03-01T00:00:00",
          "2015-04-01T00:00:00",
          "2015-05-01T00:00:00",
          "2015-06-01T00:00:00",
          "2015-07-01T00:00:00",
          "2015-08-01T00:00:00",
          "2015-09-01T00:00:00",
          "2015-10-01T00:00:00",
          "2015-11-01T00:00:00",
          "2015-12-01T00:00:00",
          "2016-01-01T00:00:00",
          "2016-02-01T00:00:00",
          "2016-03-01T00:00:00",
          "2016-04-01T00:00:00",
          "2016-05-01T00:00:00",
          "2016-06-01T00:00:00",
          "2016-07-01T00:00:00",
          "2016-08-01T00:00:00",
          "2016-09-01T00:00:00",
          "2016-10-01T00:00:00",
          "2016-11-01T00:00:00",
          "2016-12-01T00:00:00",
          "2017-01-01T00:00:00",
          "2017-02-01T00:00:00",
          "2017-03-01T00:00:00",
          "2017-04-01T00:00:00",
          "2017-05-01T00:00:00",
          "2017-06-01T00:00:00",
          "2017-07-01T00:00:00",
          "2017-08-01T00:00:00",
          "2017-09-01T00:00:00",
          "2017-10-01T00:00:00",
          "2017-11-01T00:00:00",
          "2017-12-01T00:00:00",
          "2018-01-01T00:00:00",
          "2018-02-01T00:00:00",
          "2018-03-01T00:00:00",
          "2018-04-01T00:00:00",
          "2018-05-01T00:00:00",
          "2018-06-01T00:00:00",
          "2018-07-01T00:00:00",
          "2018-08-01T00:00:00",
          "2018-09-01T00:00:00",
          "2018-10-01T00:00:00",
          "2018-11-01T00:00:00",
          "2018-12-01T00:00:00",
          "2019-01-01T00:00:00",
          "2019-02-01T00:00:00",
          "2019-03-01T00:00:00",
          "2019-04-01T00:00:00",
          "2019-05-01T00:00:00",
          "2019-06-01T00:00:00",
          "2019-07-01T00:00:00",
          "2019-08-01T00:00:00",
          "2019-09-01T00:00:00",
          "2019-10-01T00:00:00",
          "2019-11-01T00:00:00",
          "2019-12-01T00:00:00",
          "2020-01-01T00:00:00",
          "2020-02-01T00:00:00",
          "2020-03-01T00:00:00",
          "2020-04-01T00:00:00",
          "2020-05-01T00:00:00",
          "2020-06-01T00:00:00",
          "2020-07-01T00:00:00",
          "2020-08-01T00:00:00",
          "2020-09-01T00:00:00",
          "2020-10-01T00:00:00",
          "2020-11-01T00:00:00",
          "2020-12-01T00:00:00",
          "2021-01-01T00:00:00",
          "2021-02-01T00:00:00",
          "2021-03-01T00:00:00",
          "2021-04-01T00:00:00",
          "2021-05-01T00:00:00"
         ],
         "xaxis": "x",
         "y": [
          5212955.557832714,
          5079980.503840987,
          4944300.406605974,
          5162885.782230217,
          4667347.669865899,
          4572297.1971799,
          4139735.7136034425,
          3353477.279249005,
          3534426.8998629088,
          3722581.0913790753,
          3341077.589865879,
          3995684.1801059945,
          4555486.978427413,
          4742441.878250871,
          4248871.444678582,
          4209412.357511729,
          3820274.7253955826,
          4362341.204146129,
          4406949.510281315,
          4076343.2462236146,
          3390533.661974754,
          3433048.7440899946,
          3029547.3140672706,
          3012394.266640216,
          2817360.433158542,
          2283394.2372192247,
          2308784.8057190087,
          2419000.6271959143,
          2493175.979842919,
          3611872.9660547366,
          5017285.527606005,
          4820190.305650961,
          4857936.24339758,
          4984707.459155146,
          4407741.489871167,
          4310811.568201115,
          3892620.497683582,
          4097524.831960597,
          3783256.5005238373,
          3520919.418628853,
          3820164.981909155,
          3905038.1164390836,
          3954180.2736495975,
          4276995.73869262,
          5306890.963237825,
          5700901.983767198,
          5764176.067855383,
          6165375.63728005,
          6092650.713238308,
          5935407.359539778,
          5963084.565549527,
          6232332.651774314,
          6933897.465703617,
          7038884.720589952,
          6250208.412933178,
          5607193.578202696,
          5200311.529863495,
          4771155.0903542405,
          4351007.39089424,
          4055442.1190551827,
          3046675.448773087,
          2847322.664219875,
          2102555.350392188,
          2108841.965845013,
          2354665.5395635003,
          2407419.086629322,
          2477224.7685936736,
          2071137.3007735852,
          1403447.525669327,
          1746037.7388367467,
          1385213.026754761,
          8291694.05539717,
          8096823.927534781,
          7492568.356007435,
          7322039.422187635,
          7418815.983349625,
          7450643.3324667765,
          7323447.239612558,
          7115191.733497951,
          7533065.935641255,
          8094880.355112739,
          9379347.267462835,
          9370672.133566465,
          9257858.915526006
         ],
         "yaxis": "y",
         "type": "scatter"
        }
       ],
       "layout": {
        "template": {
         "data": {
          "barpolar": [
           {
            "marker": {
             "line": {
              "color": "white",
              "width": 0.5
             },
             "pattern": {
              "fillmode": "overlay",
              "size": 10,
              "solidity": 0.2
             }
            },
            "type": "barpolar"
           }
          ],
          "bar": [
           {
            "error_x": {
             "color": "#2a3f5f"
            },
            "error_y": {
             "color": "#2a3f5f"
            },
            "marker": {
             "line": {
              "color": "white",
              "width": 0.5
             },
             "pattern": {
              "fillmode": "overlay",
              "size": 10,
              "solidity": 0.2
             }
            },
            "type": "bar"
           }
          ],
          "carpet": [
           {
            "aaxis": {
             "endlinecolor": "#2a3f5f",
             "gridcolor": "#C8D4E3",
             "linecolor": "#C8D4E3",
             "minorgridcolor": "#C8D4E3",
             "startlinecolor": "#2a3f5f"
            },
            "baxis": {
             "endlinecolor": "#2a3f5f",
             "gridcolor": "#C8D4E3",
             "linecolor": "#C8D4E3",
             "minorgridcolor": "#C8D4E3",
             "startlinecolor": "#2a3f5f"
            },
            "type": "carpet"
           }
          ],
          "choropleth": [
           {
            "colorbar": {
             "outlinewidth": 0,
             "ticks": ""
            },
            "type": "choropleth"
           }
          ],
          "contourcarpet": [
           {
            "colorbar": {
             "outlinewidth": 0,
             "ticks": ""
            },
            "type": "contourcarpet"
           }
          ],
          "contour": [
           {
            "colorbar": {
             "outlinewidth": 0,
             "ticks": ""
            },
            "colorscale": [
             [
              0.0,
              "#0d0887"
             ],
             [
              0.1111111111111111,
              "#46039f"
             ],
             [
              0.2222222222222222,
              "#7201a8"
             ],
             [
              0.3333333333333333,
              "#9c179e"
             ],
             [
              0.4444444444444444,
              "#bd3786"
             ],
             [
              0.5555555555555556,
              "#d8576b"
             ],
             [
              0.6666666666666666,
              "#ed7953"
             ],
             [
              0.7777777777777778,
              "#fb9f3a"
             ],
             [
              0.8888888888888888,
              "#fdca26"
             ],
             [
              1.0,
              "#f0f921"
             ]
            ],
            "type": "contour"
           }
          ],
          "heatmapgl": [
           {
            "colorbar": {
             "outlinewidth": 0,
             "ticks": ""
            },
            "colorscale": [
             [
              0.0,
              "#0d0887"
             ],
             [
              0.1111111111111111,
              "#46039f"
             ],
             [
              0.2222222222222222,
              "#7201a8"
             ],
             [
              0.3333333333333333,
              "#9c179e"
             ],
             [
              0.4444444444444444,
              "#bd3786"
             ],
             [
              0.5555555555555556,
              "#d8576b"
             ],
             [
              0.6666666666666666,
              "#ed7953"
             ],
             [
              0.7777777777777778,
              "#fb9f3a"
             ],
             [
              0.8888888888888888,
              "#fdca26"
             ],
             [
              1.0,
              "#f0f921"
             ]
            ],
            "type": "heatmapgl"
           }
          ],
          "heatmap": [
           {
            "colorbar": {
             "outlinewidth": 0,
             "ticks": ""
            },
            "colorscale": [
             [
              0.0,
              "#0d0887"
             ],
             [
              0.1111111111111111,
              "#46039f"
             ],
             [
              0.2222222222222222,
              "#7201a8"
             ],
             [
              0.3333333333333333,
              "#9c179e"
             ],
             [
              0.4444444444444444,
              "#bd3786"
             ],
             [
              0.5555555555555556,
              "#d8576b"
             ],
             [
              0.6666666666666666,
              "#ed7953"
             ],
             [
              0.7777777777777778,
              "#fb9f3a"
             ],
             [
              0.8888888888888888,
              "#fdca26"
             ],
             [
              1.0,
              "#f0f921"
             ]
            ],
            "type": "heatmap"
           }
          ],
          "histogram2dcontour": [
           {
            "colorbar": {
             "outlinewidth": 0,
             "ticks": ""
            },
            "colorscale": [
             [
              0.0,
              "#0d0887"
             ],
             [
              0.1111111111111111,
              "#46039f"
             ],
             [
              0.2222222222222222,
              "#7201a8"
             ],
             [
              0.3333333333333333,
              "#9c179e"
             ],
             [
              0.4444444444444444,
              "#bd3786"
             ],
             [
              0.5555555555555556,
              "#d8576b"
             ],
             [
              0.6666666666666666,
              "#ed7953"
             ],
             [
              0.7777777777777778,
              "#fb9f3a"
             ],
             [
              0.8888888888888888,
              "#fdca26"
             ],
             [
              1.0,
              "#f0f921"
             ]
            ],
            "type": "histogram2dcontour"
           }
          ],
          "histogram2d": [
           {
            "colorbar": {
             "outlinewidth": 0,
             "ticks": ""
            },
            "colorscale": [
             [
              0.0,
              "#0d0887"
             ],
             [
              0.1111111111111111,
              "#46039f"
             ],
             [
              0.2222222222222222,
              "#7201a8"
             ],
             [
              0.3333333333333333,
              "#9c179e"
             ],
             [
              0.4444444444444444,
              "#bd3786"
             ],
             [
              0.5555555555555556,
              "#d8576b"
             ],
             [
              0.6666666666666666,
              "#ed7953"
             ],
             [
              0.7777777777777778,
              "#fb9f3a"
             ],
             [
              0.8888888888888888,
              "#fdca26"
             ],
             [
              1.0,
              "#f0f921"
             ]
            ],
            "type": "histogram2d"
           }
          ],
          "histogram": [
           {
            "marker": {
             "pattern": {
              "fillmode": "overlay",
              "size": 10,
              "solidity": 0.2
             }
            },
            "type": "histogram"
           }
          ],
          "mesh3d": [
           {
            "colorbar": {
             "outlinewidth": 0,
             "ticks": ""
            },
            "type": "mesh3d"
           }
          ],
          "parcoords": [
           {
            "line": {
             "colorbar": {
              "outlinewidth": 0,
              "ticks": ""
             }
            },
            "type": "parcoords"
           }
          ],
          "pie": [
           {
            "automargin": true,
            "type": "pie"
           }
          ],
          "scatter3d": [
           {
            "line": {
             "colorbar": {
              "outlinewidth": 0,
              "ticks": ""
             }
            },
            "marker": {
             "colorbar": {
              "outlinewidth": 0,
              "ticks": ""
             }
            },
            "type": "scatter3d"
           }
          ],
          "scattercarpet": [
           {
            "marker": {
             "colorbar": {
              "outlinewidth": 0,
              "ticks": ""
             }
            },
            "type": "scattercarpet"
           }
          ],
          "scattergeo": [
           {
            "marker": {
             "colorbar": {
              "outlinewidth": 0,
              "ticks": ""
             }
            },
            "type": "scattergeo"
           }
          ],
          "scattergl": [
           {
            "marker": {
             "colorbar": {
              "outlinewidth": 0,
              "ticks": ""
             }
            },
            "type": "scattergl"
           }
          ],
          "scattermapbox": [
           {
            "marker": {
             "colorbar": {
              "outlinewidth": 0,
              "ticks": ""
             }
            },
            "type": "scattermapbox"
           }
          ],
          "scatterpolargl": [
           {
            "marker": {
             "colorbar": {
              "outlinewidth": 0,
              "ticks": ""
             }
            },
            "type": "scatterpolargl"
           }
          ],
          "scatterpolar": [
           {
            "marker": {
             "colorbar": {
              "outlinewidth": 0,
              "ticks": ""
             }
            },
            "type": "scatterpolar"
           }
          ],
          "scatter": [
           {
            "fillpattern": {
             "fillmode": "overlay",
             "size": 10,
             "solidity": 0.2
            },
            "type": "scatter"
           }
          ],
          "scatterternary": [
           {
            "marker": {
             "colorbar": {
              "outlinewidth": 0,
              "ticks": ""
             }
            },
            "type": "scatterternary"
           }
          ],
          "surface": [
           {
            "colorbar": {
             "outlinewidth": 0,
             "ticks": ""
            },
            "colorscale": [
             [
              0.0,
              "#0d0887"
             ],
             [
              0.1111111111111111,
              "#46039f"
             ],
             [
              0.2222222222222222,
              "#7201a8"
             ],
             [
              0.3333333333333333,
              "#9c179e"
             ],
             [
              0.4444444444444444,
              "#bd3786"
             ],
             [
              0.5555555555555556,
              "#d8576b"
             ],
             [
              0.6666666666666666,
              "#ed7953"
             ],
             [
              0.7777777777777778,
              "#fb9f3a"
             ],
             [
              0.8888888888888888,
              "#fdca26"
             ],
             [
              1.0,
              "#f0f921"
             ]
            ],
            "type": "surface"
           }
          ],
          "table": [
           {
            "cells": {
             "fill": {
              "color": "#EBF0F8"
             },
             "line": {
              "color": "white"
             }
            },
            "header": {
             "fill": {
              "color": "#C8D4E3"
             },
             "line": {
              "color": "white"
             }
            },
            "type": "table"
           }
          ]
         },
         "layout": {
          "annotationdefaults": {
           "arrowcolor": "#2a3f5f",
           "arrowhead": 0,
           "arrowwidth": 1
          },
          "autotypenumbers": "strict",
          "coloraxis": {
           "colorbar": {
            "outlinewidth": 0,
            "ticks": ""
           }
          },
          "colorscale": {
           "diverging": [
            [
             0,
             "#8e0152"
            ],
            [
             0.1,
             "#c51b7d"
            ],
            [
             0.2,
             "#de77ae"
            ],
            [
             0.3,
             "#f1b6da"
            ],
            [
             0.4,
             "#fde0ef"
            ],
            [
             0.5,
             "#f7f7f7"
            ],
            [
             0.6,
             "#e6f5d0"
            ],
            [
             0.7,
             "#b8e186"
            ],
            [
             0.8,
             "#7fbc41"
            ],
            [
             0.9,
             "#4d9221"
            ],
            [
             1,
             "#276419"
            ]
           ],
           "sequential": [
            [
             0.0,
             "#0d0887"
            ],
            [
             0.1111111111111111,
             "#46039f"
            ],
            [
             0.2222222222222222,
             "#7201a8"
            ],
            [
             0.3333333333333333,
             "#9c179e"
            ],
            [
             0.4444444444444444,
             "#bd3786"
            ],
            [
             0.5555555555555556,
             "#d8576b"
            ],
            [
             0.6666666666666666,
             "#ed7953"
            ],
            [
             0.7777777777777778,
             "#fb9f3a"
            ],
            [
             0.8888888888888888,
             "#fdca26"
            ],
            [
             1.0,
             "#f0f921"
            ]
           ],
           "sequentialminus": [
            [
             0.0,
             "#0d0887"
            ],
            [
             0.1111111111111111,
             "#46039f"
            ],
            [
             0.2222222222222222,
             "#7201a8"
            ],
            [
             0.3333333333333333,
             "#9c179e"
            ],
            [
             0.4444444444444444,
             "#bd3786"
            ],
            [
             0.5555555555555556,
             "#d8576b"
            ],
            [
             0.6666666666666666,
             "#ed7953"
            ],
            [
             0.7777777777777778,
             "#fb9f3a"
            ],
            [
             0.8888888888888888,
             "#fdca26"
            ],
            [
             1.0,
             "#f0f921"
            ]
           ]
          },
          "colorway": [
           "#636efa",
           "#EF553B",
           "#00cc96",
           "#ab63fa",
           "#FFA15A",
           "#19d3f3",
           "#FF6692",
           "#B6E880",
           "#FF97FF",
           "#FECB52"
          ],
          "font": {
           "color": "#2a3f5f"
          },
          "geo": {
           "bgcolor": "white",
           "lakecolor": "white",
           "landcolor": "white",
           "showlakes": true,
           "showland": true,
           "subunitcolor": "#C8D4E3"
          },
          "hoverlabel": {
           "align": "left"
          },
          "hovermode": "closest",
          "mapbox": {
           "style": "light"
          },
          "paper_bgcolor": "white",
          "plot_bgcolor": "white",
          "polar": {
           "angularaxis": {
            "gridcolor": "#EBF0F8",
            "linecolor": "#EBF0F8",
            "ticks": ""
           },
           "bgcolor": "white",
           "radialaxis": {
            "gridcolor": "#EBF0F8",
            "linecolor": "#EBF0F8",
            "ticks": ""
           }
          },
          "scene": {
           "xaxis": {
            "backgroundcolor": "white",
            "gridcolor": "#DFE8F3",
            "gridwidth": 2,
            "linecolor": "#EBF0F8",
            "showbackground": true,
            "ticks": "",
            "zerolinecolor": "#EBF0F8"
           },
           "yaxis": {
            "backgroundcolor": "white",
            "gridcolor": "#DFE8F3",
            "gridwidth": 2,
            "linecolor": "#EBF0F8",
            "showbackground": true,
            "ticks": "",
            "zerolinecolor": "#EBF0F8"
           },
           "zaxis": {
            "backgroundcolor": "white",
            "gridcolor": "#DFE8F3",
            "gridwidth": 2,
            "linecolor": "#EBF0F8",
            "showbackground": true,
            "ticks": "",
            "zerolinecolor": "#EBF0F8"
           }
          },
          "shapedefaults": {
           "line": {
            "color": "#2a3f5f"
           }
          },
          "ternary": {
           "aaxis": {
            "gridcolor": "#DFE8F3",
            "linecolor": "#A2B1C6",
            "ticks": ""
           },
           "baxis": {
            "gridcolor": "#DFE8F3",
            "linecolor": "#A2B1C6",
            "ticks": ""
           },
           "bgcolor": "white",
           "caxis": {
            "gridcolor": "#DFE8F3",
            "linecolor": "#A2B1C6",
            "ticks": ""
           }
          },
          "title": {
           "x": 0.05
          },
          "xaxis": {
           "automargin": true,
           "gridcolor": "#EBF0F8",
           "linecolor": "#EBF0F8",
           "ticks": "",
           "title": {
            "standoff": 15
           },
           "zerolinecolor": "#EBF0F8",
           "zerolinewidth": 2
          },
          "yaxis": {
           "automargin": true,
           "gridcolor": "#EBF0F8",
           "linecolor": "#EBF0F8",
           "ticks": "",
           "title": {
            "standoff": 15
           },
           "zerolinecolor": "#EBF0F8",
           "zerolinewidth": 2
          }
         }
        },
        "xaxis": {
         "anchor": "y",
         "domain": [
          0.0,
          1.0
         ],
         "title": {
          "text": "Date"
         }
        },
        "yaxis": {
         "anchor": "x",
         "domain": [
          0.0,
          1.0
         ],
         "title": {
          "text": "value"
         }
        },
        "legend": {
         "title": {
          "text": "variable"
         },
         "tracegroupgap": 0
        },
        "margin": {
         "t": 60
        }
       },
       "config": {
        "plotlyServerURL": "https://plot.ly"
       }
      },
      "text/html": "<div>                            <div id=\"124c4d07-d2d5-4776-9715-f1417eeffa5b\" class=\"plotly-graph-div\" style=\"height:525px; width:100%;\"></div>            <script type=\"text/javascript\">                require([\"plotly\"], function(Plotly) {                    window.PLOTLYENV=window.PLOTLYENV || {};                                    if (document.getElementById(\"124c4d07-d2d5-4776-9715-f1417eeffa5b\")) {                    Plotly.newPlot(                        \"124c4d07-d2d5-4776-9715-f1417eeffa5b\",                        [{\"hovertemplate\":\"variable=Interest on Funds Held for Clients<br>Date=%{x}<br>value=%{y}<extra></extra>\",\"legendgroup\":\"Interest on Funds Held for Clients\",\"line\":{\"color\":\"#636efa\",\"dash\":\"solid\"},\"marker\":{\"symbol\":\"circle\"},\"mode\":\"lines\",\"name\":\"Interest on Funds Held for Clients\",\"orientation\":\"v\",\"showlegend\":true,\"x\":[\"2014-06-01T00:00:00\",\"2014-07-01T00:00:00\",\"2014-08-01T00:00:00\",\"2014-09-01T00:00:00\",\"2014-10-01T00:00:00\",\"2014-11-01T00:00:00\",\"2014-12-01T00:00:00\",\"2015-01-01T00:00:00\",\"2015-02-01T00:00:00\",\"2015-03-01T00:00:00\",\"2015-04-01T00:00:00\",\"2015-05-01T00:00:00\",\"2015-06-01T00:00:00\",\"2015-07-01T00:00:00\",\"2015-08-01T00:00:00\",\"2015-09-01T00:00:00\",\"2015-10-01T00:00:00\",\"2015-11-01T00:00:00\",\"2015-12-01T00:00:00\",\"2016-01-01T00:00:00\",\"2016-02-01T00:00:00\",\"2016-03-01T00:00:00\",\"2016-04-01T00:00:00\",\"2016-05-01T00:00:00\",\"2016-06-01T00:00:00\",\"2016-07-01T00:00:00\",\"2016-08-01T00:00:00\",\"2016-09-01T00:00:00\",\"2016-10-01T00:00:00\",\"2016-11-01T00:00:00\",\"2016-12-01T00:00:00\",\"2017-01-01T00:00:00\",\"2017-02-01T00:00:00\",\"2017-03-01T00:00:00\",\"2017-04-01T00:00:00\",\"2017-05-01T00:00:00\",\"2017-06-01T00:00:00\",\"2017-07-01T00:00:00\",\"2017-08-01T00:00:00\",\"2017-09-01T00:00:00\",\"2017-10-01T00:00:00\",\"2017-11-01T00:00:00\",\"2017-12-01T00:00:00\",\"2018-01-01T00:00:00\",\"2018-02-01T00:00:00\",\"2018-03-01T00:00:00\",\"2018-04-01T00:00:00\",\"2018-05-01T00:00:00\",\"2018-06-01T00:00:00\",\"2018-07-01T00:00:00\",\"2018-08-01T00:00:00\",\"2018-09-01T00:00:00\",\"2018-10-01T00:00:00\",\"2018-11-01T00:00:00\",\"2018-12-01T00:00:00\",\"2019-01-01T00:00:00\",\"2019-02-01T00:00:00\",\"2019-03-01T00:00:00\",\"2019-04-01T00:00:00\",\"2019-05-01T00:00:00\",\"2019-06-01T00:00:00\",\"2019-07-01T00:00:00\",\"2019-08-01T00:00:00\",\"2019-09-01T00:00:00\",\"2019-10-01T00:00:00\",\"2019-11-01T00:00:00\",\"2019-12-01T00:00:00\",\"2020-01-01T00:00:00\",\"2020-02-01T00:00:00\",\"2020-03-01T00:00:00\",\"2020-04-01T00:00:00\",\"2020-05-01T00:00:00\",\"2020-06-01T00:00:00\",\"2020-07-01T00:00:00\",\"2020-08-01T00:00:00\",\"2020-09-01T00:00:00\",\"2020-10-01T00:00:00\",\"2020-11-01T00:00:00\",\"2020-12-01T00:00:00\",\"2021-01-01T00:00:00\",\"2021-02-01T00:00:00\",\"2021-03-01T00:00:00\",\"2021-04-01T00:00:00\",\"2021-05-01T00:00:00\"],\"xaxis\":\"x\",\"y\":[3308154.0,3466375.0,3434419.0,3419918.0,3472038.0,3469203.0,3550962.0,3683535.0,3509475.0,3645265.0,3627835.0,3493963.0,3481516.0,3650796.0,3658495.0,3654756.0,3762906.0,3739729.0,3936843.0,4026400.0,3915424.0,4070073.0,4307390.0,3852075.0,3944652.0,4229635.0,3805760.0,3578044.0,4008273.0,3796831.0,4439123.0,4557677.0,4235552.0,4638549.0,5177184.0,4173895.0,4470144.0,4881440.0,4357596.0,4644637.0,4722507.0,4617751.0,6502180.0,6024323.0,5577385.0,5994470.0,6791075.0,4950702.0,5633249.0,6059461.0,5467660.0,6002190.0,6084714.0,6201403.0,8257412.0,7271303.0,7426883.0,8190477.0,8500112.0,988904.0,1478660.0,2325636.0,1472227.0,841304.0,1009948.0,693495.0,1116763.0,1307164.0,838995.0,632985.0,31551.0,8118940.0,-224138.0,-270403.0,-280327.0,-291853.0,-183131.0,-532082.0,-242847.0,-304771.0,-361061.0,-297741.0,-612621.0,-402642.0],\"yaxis\":\"y\",\"type\":\"scatter\"},{\"hovertemplate\":\"variable=Interest on Funds Held for Clients - ML Predicted<br>Date=%{x}<br>value=%{y}<extra></extra>\",\"legendgroup\":\"Interest on Funds Held for Clients - ML Predicted\",\"line\":{\"color\":\"#EF553B\",\"dash\":\"solid\"},\"marker\":{\"symbol\":\"circle\"},\"mode\":\"lines\",\"name\":\"Interest on Funds Held for Clients - ML Predicted\",\"orientation\":\"v\",\"showlegend\":true,\"x\":[\"2014-06-01T00:00:00\",\"2014-07-01T00:00:00\",\"2014-08-01T00:00:00\",\"2014-09-01T00:00:00\",\"2014-10-01T00:00:00\",\"2014-11-01T00:00:00\",\"2014-12-01T00:00:00\",\"2015-01-01T00:00:00\",\"2015-02-01T00:00:00\",\"2015-03-01T00:00:00\",\"2015-04-01T00:00:00\",\"2015-05-01T00:00:00\",\"2015-06-01T00:00:00\",\"2015-07-01T00:00:00\",\"2015-08-01T00:00:00\",\"2015-09-01T00:00:00\",\"2015-10-01T00:00:00\",\"2015-11-01T00:00:00\",\"2015-12-01T00:00:00\",\"2016-01-01T00:00:00\",\"2016-02-01T00:00:00\",\"2016-03-01T00:00:00\",\"2016-04-01T00:00:00\",\"2016-05-01T00:00:00\",\"2016-06-01T00:00:00\",\"2016-07-01T00:00:00\",\"2016-08-01T00:00:00\",\"2016-09-01T00:00:00\",\"2016-10-01T00:00:00\",\"2016-11-01T00:00:00\",\"2016-12-01T00:00:00\",\"2017-01-01T00:00:00\",\"2017-02-01T00:00:00\",\"2017-03-01T00:00:00\",\"2017-04-01T00:00:00\",\"2017-05-01T00:00:00\",\"2017-06-01T00:00:00\",\"2017-07-01T00:00:00\",\"2017-08-01T00:00:00\",\"2017-09-01T00:00:00\",\"2017-10-01T00:00:00\",\"2017-11-01T00:00:00\",\"2017-12-01T00:00:00\",\"2018-01-01T00:00:00\",\"2018-02-01T00:00:00\",\"2018-03-01T00:00:00\",\"2018-04-01T00:00:00\",\"2018-05-01T00:00:00\",\"2018-06-01T00:00:00\",\"2018-07-01T00:00:00\",\"2018-08-01T00:00:00\",\"2018-09-01T00:00:00\",\"2018-10-01T00:00:00\",\"2018-11-01T00:00:00\",\"2018-12-01T00:00:00\",\"2019-01-01T00:00:00\",\"2019-02-01T00:00:00\",\"2019-03-01T00:00:00\",\"2019-04-01T00:00:00\",\"2019-05-01T00:00:00\",\"2019-06-01T00:00:00\",\"2019-07-01T00:00:00\",\"2019-08-01T00:00:00\",\"2019-09-01T00:00:00\",\"2019-10-01T00:00:00\",\"2019-11-01T00:00:00\",\"2019-12-01T00:00:00\",\"2020-01-01T00:00:00\",\"2020-02-01T00:00:00\",\"2020-03-01T00:00:00\",\"2020-04-01T00:00:00\",\"2020-05-01T00:00:00\",\"2020-06-01T00:00:00\",\"2020-07-01T00:00:00\",\"2020-08-01T00:00:00\",\"2020-09-01T00:00:00\",\"2020-10-01T00:00:00\",\"2020-11-01T00:00:00\",\"2020-12-01T00:00:00\",\"2021-01-01T00:00:00\",\"2021-02-01T00:00:00\",\"2021-03-01T00:00:00\",\"2021-04-01T00:00:00\",\"2021-05-01T00:00:00\"],\"xaxis\":\"x\",\"y\":[5212955.557832714,5079980.503840987,4944300.406605974,5162885.782230217,4667347.669865899,4572297.1971799,4139735.7136034425,3353477.279249005,3534426.8998629088,3722581.0913790753,3341077.589865879,3995684.1801059945,4555486.978427413,4742441.878250871,4248871.444678582,4209412.357511729,3820274.7253955826,4362341.204146129,4406949.510281315,4076343.2462236146,3390533.661974754,3433048.7440899946,3029547.3140672706,3012394.266640216,2817360.433158542,2283394.2372192247,2308784.8057190087,2419000.6271959143,2493175.979842919,3611872.9660547366,5017285.527606005,4820190.305650961,4857936.24339758,4984707.459155146,4407741.489871167,4310811.568201115,3892620.497683582,4097524.831960597,3783256.5005238373,3520919.418628853,3820164.981909155,3905038.1164390836,3954180.2736495975,4276995.73869262,5306890.963237825,5700901.983767198,5764176.067855383,6165375.63728005,6092650.713238308,5935407.359539778,5963084.565549527,6232332.651774314,6933897.465703617,7038884.720589952,6250208.412933178,5607193.578202696,5200311.529863495,4771155.0903542405,4351007.39089424,4055442.1190551827,3046675.448773087,2847322.664219875,2102555.350392188,2108841.965845013,2354665.5395635003,2407419.086629322,2477224.7685936736,2071137.3007735852,1403447.525669327,1746037.7388367467,1385213.026754761,8291694.05539717,8096823.927534781,7492568.356007435,7322039.422187635,7418815.983349625,7450643.3324667765,7323447.239612558,7115191.733497951,7533065.935641255,8094880.355112739,9379347.267462835,9370672.133566465,9257858.915526006],\"yaxis\":\"y\",\"type\":\"scatter\"}],                        {\"template\":{\"data\":{\"barpolar\":[{\"marker\":{\"line\":{\"color\":\"white\",\"width\":0.5},\"pattern\":{\"fillmode\":\"overlay\",\"size\":10,\"solidity\":0.2}},\"type\":\"barpolar\"}],\"bar\":[{\"error_x\":{\"color\":\"#2a3f5f\"},\"error_y\":{\"color\":\"#2a3f5f\"},\"marker\":{\"line\":{\"color\":\"white\",\"width\":0.5},\"pattern\":{\"fillmode\":\"overlay\",\"size\":10,\"solidity\":0.2}},\"type\":\"bar\"}],\"carpet\":[{\"aaxis\":{\"endlinecolor\":\"#2a3f5f\",\"gridcolor\":\"#C8D4E3\",\"linecolor\":\"#C8D4E3\",\"minorgridcolor\":\"#C8D4E3\",\"startlinecolor\":\"#2a3f5f\"},\"baxis\":{\"endlinecolor\":\"#2a3f5f\",\"gridcolor\":\"#C8D4E3\",\"linecolor\":\"#C8D4E3\",\"minorgridcolor\":\"#C8D4E3\",\"startlinecolor\":\"#2a3f5f\"},\"type\":\"carpet\"}],\"choropleth\":[{\"colorbar\":{\"outlinewidth\":0,\"ticks\":\"\"},\"type\":\"choropleth\"}],\"contourcarpet\":[{\"colorbar\":{\"outlinewidth\":0,\"ticks\":\"\"},\"type\":\"contourcarpet\"}],\"contour\":[{\"colorbar\":{\"outlinewidth\":0,\"ticks\":\"\"},\"colorscale\":[[0.0,\"#0d0887\"],[0.1111111111111111,\"#46039f\"],[0.2222222222222222,\"#7201a8\"],[0.3333333333333333,\"#9c179e\"],[0.4444444444444444,\"#bd3786\"],[0.5555555555555556,\"#d8576b\"],[0.6666666666666666,\"#ed7953\"],[0.7777777777777778,\"#fb9f3a\"],[0.8888888888888888,\"#fdca26\"],[1.0,\"#f0f921\"]],\"type\":\"contour\"}],\"heatmapgl\":[{\"colorbar\":{\"outlinewidth\":0,\"ticks\":\"\"},\"colorscale\":[[0.0,\"#0d0887\"],[0.1111111111111111,\"#46039f\"],[0.2222222222222222,\"#7201a8\"],[0.3333333333333333,\"#9c179e\"],[0.4444444444444444,\"#bd3786\"],[0.5555555555555556,\"#d8576b\"],[0.6666666666666666,\"#ed7953\"],[0.7777777777777778,\"#fb9f3a\"],[0.8888888888888888,\"#fdca26\"],[1.0,\"#f0f921\"]],\"type\":\"heatmapgl\"}],\"heatmap\":[{\"colorbar\":{\"outlinewidth\":0,\"ticks\":\"\"},\"colorscale\":[[0.0,\"#0d0887\"],[0.1111111111111111,\"#46039f\"],[0.2222222222222222,\"#7201a8\"],[0.3333333333333333,\"#9c179e\"],[0.4444444444444444,\"#bd3786\"],[0.5555555555555556,\"#d8576b\"],[0.6666666666666666,\"#ed7953\"],[0.7777777777777778,\"#fb9f3a\"],[0.8888888888888888,\"#fdca26\"],[1.0,\"#f0f921\"]],\"type\":\"heatmap\"}],\"histogram2dcontour\":[{\"colorbar\":{\"outlinewidth\":0,\"ticks\":\"\"},\"colorscale\":[[0.0,\"#0d0887\"],[0.1111111111111111,\"#46039f\"],[0.2222222222222222,\"#7201a8\"],[0.3333333333333333,\"#9c179e\"],[0.4444444444444444,\"#bd3786\"],[0.5555555555555556,\"#d8576b\"],[0.6666666666666666,\"#ed7953\"],[0.7777777777777778,\"#fb9f3a\"],[0.8888888888888888,\"#fdca26\"],[1.0,\"#f0f921\"]],\"type\":\"histogram2dcontour\"}],\"histogram2d\":[{\"colorbar\":{\"outlinewidth\":0,\"ticks\":\"\"},\"colorscale\":[[0.0,\"#0d0887\"],[0.1111111111111111,\"#46039f\"],[0.2222222222222222,\"#7201a8\"],[0.3333333333333333,\"#9c179e\"],[0.4444444444444444,\"#bd3786\"],[0.5555555555555556,\"#d8576b\"],[0.6666666666666666,\"#ed7953\"],[0.7777777777777778,\"#fb9f3a\"],[0.8888888888888888,\"#fdca26\"],[1.0,\"#f0f921\"]],\"type\":\"histogram2d\"}],\"histogram\":[{\"marker\":{\"pattern\":{\"fillmode\":\"overlay\",\"size\":10,\"solidity\":0.2}},\"type\":\"histogram\"}],\"mesh3d\":[{\"colorbar\":{\"outlinewidth\":0,\"ticks\":\"\"},\"type\":\"mesh3d\"}],\"parcoords\":[{\"line\":{\"colorbar\":{\"outlinewidth\":0,\"ticks\":\"\"}},\"type\":\"parcoords\"}],\"pie\":[{\"automargin\":true,\"type\":\"pie\"}],\"scatter3d\":[{\"line\":{\"colorbar\":{\"outlinewidth\":0,\"ticks\":\"\"}},\"marker\":{\"colorbar\":{\"outlinewidth\":0,\"ticks\":\"\"}},\"type\":\"scatter3d\"}],\"scattercarpet\":[{\"marker\":{\"colorbar\":{\"outlinewidth\":0,\"ticks\":\"\"}},\"type\":\"scattercarpet\"}],\"scattergeo\":[{\"marker\":{\"colorbar\":{\"outlinewidth\":0,\"ticks\":\"\"}},\"type\":\"scattergeo\"}],\"scattergl\":[{\"marker\":{\"colorbar\":{\"outlinewidth\":0,\"ticks\":\"\"}},\"type\":\"scattergl\"}],\"scattermapbox\":[{\"marker\":{\"colorbar\":{\"outlinewidth\":0,\"ticks\":\"\"}},\"type\":\"scattermapbox\"}],\"scatterpolargl\":[{\"marker\":{\"colorbar\":{\"outlinewidth\":0,\"ticks\":\"\"}},\"type\":\"scatterpolargl\"}],\"scatterpolar\":[{\"marker\":{\"colorbar\":{\"outlinewidth\":0,\"ticks\":\"\"}},\"type\":\"scatterpolar\"}],\"scatter\":[{\"fillpattern\":{\"fillmode\":\"overlay\",\"size\":10,\"solidity\":0.2},\"type\":\"scatter\"}],\"scatterternary\":[{\"marker\":{\"colorbar\":{\"outlinewidth\":0,\"ticks\":\"\"}},\"type\":\"scatterternary\"}],\"surface\":[{\"colorbar\":{\"outlinewidth\":0,\"ticks\":\"\"},\"colorscale\":[[0.0,\"#0d0887\"],[0.1111111111111111,\"#46039f\"],[0.2222222222222222,\"#7201a8\"],[0.3333333333333333,\"#9c179e\"],[0.4444444444444444,\"#bd3786\"],[0.5555555555555556,\"#d8576b\"],[0.6666666666666666,\"#ed7953\"],[0.7777777777777778,\"#fb9f3a\"],[0.8888888888888888,\"#fdca26\"],[1.0,\"#f0f921\"]],\"type\":\"surface\"}],\"table\":[{\"cells\":{\"fill\":{\"color\":\"#EBF0F8\"},\"line\":{\"color\":\"white\"}},\"header\":{\"fill\":{\"color\":\"#C8D4E3\"},\"line\":{\"color\":\"white\"}},\"type\":\"table\"}]},\"layout\":{\"annotationdefaults\":{\"arrowcolor\":\"#2a3f5f\",\"arrowhead\":0,\"arrowwidth\":1},\"autotypenumbers\":\"strict\",\"coloraxis\":{\"colorbar\":{\"outlinewidth\":0,\"ticks\":\"\"}},\"colorscale\":{\"diverging\":[[0,\"#8e0152\"],[0.1,\"#c51b7d\"],[0.2,\"#de77ae\"],[0.3,\"#f1b6da\"],[0.4,\"#fde0ef\"],[0.5,\"#f7f7f7\"],[0.6,\"#e6f5d0\"],[0.7,\"#b8e186\"],[0.8,\"#7fbc41\"],[0.9,\"#4d9221\"],[1,\"#276419\"]],\"sequential\":[[0.0,\"#0d0887\"],[0.1111111111111111,\"#46039f\"],[0.2222222222222222,\"#7201a8\"],[0.3333333333333333,\"#9c179e\"],[0.4444444444444444,\"#bd3786\"],[0.5555555555555556,\"#d8576b\"],[0.6666666666666666,\"#ed7953\"],[0.7777777777777778,\"#fb9f3a\"],[0.8888888888888888,\"#fdca26\"],[1.0,\"#f0f921\"]],\"sequentialminus\":[[0.0,\"#0d0887\"],[0.1111111111111111,\"#46039f\"],[0.2222222222222222,\"#7201a8\"],[0.3333333333333333,\"#9c179e\"],[0.4444444444444444,\"#bd3786\"],[0.5555555555555556,\"#d8576b\"],[0.6666666666666666,\"#ed7953\"],[0.7777777777777778,\"#fb9f3a\"],[0.8888888888888888,\"#fdca26\"],[1.0,\"#f0f921\"]]},\"colorway\":[\"#636efa\",\"#EF553B\",\"#00cc96\",\"#ab63fa\",\"#FFA15A\",\"#19d3f3\",\"#FF6692\",\"#B6E880\",\"#FF97FF\",\"#FECB52\"],\"font\":{\"color\":\"#2a3f5f\"},\"geo\":{\"bgcolor\":\"white\",\"lakecolor\":\"white\",\"landcolor\":\"white\",\"showlakes\":true,\"showland\":true,\"subunitcolor\":\"#C8D4E3\"},\"hoverlabel\":{\"align\":\"left\"},\"hovermode\":\"closest\",\"mapbox\":{\"style\":\"light\"},\"paper_bgcolor\":\"white\",\"plot_bgcolor\":\"white\",\"polar\":{\"angularaxis\":{\"gridcolor\":\"#EBF0F8\",\"linecolor\":\"#EBF0F8\",\"ticks\":\"\"},\"bgcolor\":\"white\",\"radialaxis\":{\"gridcolor\":\"#EBF0F8\",\"linecolor\":\"#EBF0F8\",\"ticks\":\"\"}},\"scene\":{\"xaxis\":{\"backgroundcolor\":\"white\",\"gridcolor\":\"#DFE8F3\",\"gridwidth\":2,\"linecolor\":\"#EBF0F8\",\"showbackground\":true,\"ticks\":\"\",\"zerolinecolor\":\"#EBF0F8\"},\"yaxis\":{\"backgroundcolor\":\"white\",\"gridcolor\":\"#DFE8F3\",\"gridwidth\":2,\"linecolor\":\"#EBF0F8\",\"showbackground\":true,\"ticks\":\"\",\"zerolinecolor\":\"#EBF0F8\"},\"zaxis\":{\"backgroundcolor\":\"white\",\"gridcolor\":\"#DFE8F3\",\"gridwidth\":2,\"linecolor\":\"#EBF0F8\",\"showbackground\":true,\"ticks\":\"\",\"zerolinecolor\":\"#EBF0F8\"}},\"shapedefaults\":{\"line\":{\"color\":\"#2a3f5f\"}},\"ternary\":{\"aaxis\":{\"gridcolor\":\"#DFE8F3\",\"linecolor\":\"#A2B1C6\",\"ticks\":\"\"},\"baxis\":{\"gridcolor\":\"#DFE8F3\",\"linecolor\":\"#A2B1C6\",\"ticks\":\"\"},\"bgcolor\":\"white\",\"caxis\":{\"gridcolor\":\"#DFE8F3\",\"linecolor\":\"#A2B1C6\",\"ticks\":\"\"}},\"title\":{\"x\":0.05},\"xaxis\":{\"automargin\":true,\"gridcolor\":\"#EBF0F8\",\"linecolor\":\"#EBF0F8\",\"ticks\":\"\",\"title\":{\"standoff\":15},\"zerolinecolor\":\"#EBF0F8\",\"zerolinewidth\":2},\"yaxis\":{\"automargin\":true,\"gridcolor\":\"#EBF0F8\",\"linecolor\":\"#EBF0F8\",\"ticks\":\"\",\"title\":{\"standoff\":15},\"zerolinecolor\":\"#EBF0F8\",\"zerolinewidth\":2}}},\"xaxis\":{\"anchor\":\"y\",\"domain\":[0.0,1.0],\"title\":{\"text\":\"Date\"}},\"yaxis\":{\"anchor\":\"x\",\"domain\":[0.0,1.0],\"title\":{\"text\":\"value\"}},\"legend\":{\"title\":{\"text\":\"variable\"},\"tracegroupgap\":0},\"margin\":{\"t\":60}},                        {\"responsive\": true}                    ).then(function(){\n                            \nvar gd = document.getElementById('124c4d07-d2d5-4776-9715-f1417eeffa5b');\nvar x = new MutationObserver(function (mutations, observer) {{\n        var display = window.getComputedStyle(gd).display;\n        if (!display || display === 'none') {{\n            console.log([gd, 'removed!']);\n            Plotly.purge(gd);\n            observer.disconnect();\n        }}\n}});\n\n// Listen for the removal of the full notebook cells\nvar notebookContainer = gd.closest('#notebook-container');\nif (notebookContainer) {{\n    x.observe(notebookContainer, {childList: true});\n}}\n\n// Listen for the clearing of the current output cell\nvar outputEl = gd.closest('.output');\nif (outputEl) {{\n    x.observe(outputEl, {childList: true});\n}}\n\n                        })                };                });            </script>        </div>"
     },
     "metadata": {},
     "output_type": "display_data"
    }
   ],
   "source": [
    "# ------------------------------------------------------------------------------------- #\n",
    "# generate and plot predicted values on the original dataset\n",
    "# ------------------------------------------------------------------------------------- #\n",
    "\n",
    "predictions = predict_model(best, data=comb_df)\n",
    "predictions['Date'] = pd.date_range(start=str(train_start_dt), end = str(test_end_dt), freq = 'MS')\n",
    "predictions.rename(columns={'Label':target_col+' - ML Predicted'}, inplace=True)\n",
    "fig = px.line(predictions, x='Date', y=[target_col, target_col+' - ML Predicted'], template = 'plotly_white')\n",
    "fig.show()\n",
    "\n",
    "# ------------------------------------------------------------------------------------- #\n",
    "# This section now applies the trained/tested model to make future predictions\n",
    "# ------------------------------------------------------------------------------------- #"
   ],
   "metadata": {
    "collapsed": false,
    "pycharm": {
     "name": "#%%\n"
    }
   }
  },
  {
   "cell_type": "code",
   "execution_count": 92,
   "outputs": [],
   "source": [
    "act_df = all_df[all_df['Calendar Date'].astype(int) >= int(pred_start_dt)]\n",
    "act_df = act_df[['Calendar Date', target_col]]\n",
    "act_df['Calendar Date'] = pd.to_datetime(act_df['Calendar Date'])"
   ],
   "metadata": {
    "collapsed": false,
    "pycharm": {
     "name": "#%%\n"
    }
   }
  },
  {
   "cell_type": "code",
   "execution_count": 93,
   "metadata": {},
   "outputs": [
    {
     "name": "stdout",
     "output_type": "stream",
     "text": [
      "############################  Running Auto ARIMA for M1SL   ############################\n",
      "Performing stepwise search to minimize aic\n",
      " ARIMA(1,1,1)(0,1,1)[12]             : AIC=inf, Time=0.48 sec\n",
      " ARIMA(0,1,0)(0,1,0)[12]             : AIC=1275.324, Time=0.02 sec\n",
      " ARIMA(1,1,0)(1,1,0)[12]             : AIC=inf, Time=0.29 sec\n",
      " ARIMA(0,1,1)(0,1,1)[12]             : AIC=inf, Time=0.24 sec\n",
      " ARIMA(0,1,0)(1,1,0)[12]             : AIC=1236.659, Time=0.07 sec\n",
      " ARIMA(0,1,0)(2,1,0)[12]             : AIC=1237.038, Time=0.40 sec\n",
      " ARIMA(0,1,0)(1,1,1)[12]             : AIC=1237.019, Time=0.29 sec\n",
      " ARIMA(0,1,0)(0,1,1)[12]             : AIC=inf, Time=0.15 sec\n",
      " ARIMA(0,1,0)(2,1,1)[12]             : AIC=1238.975, Time=1.26 sec\n",
      " ARIMA(0,1,1)(1,1,0)[12]             : AIC=1238.315, Time=0.27 sec\n",
      " ARIMA(1,1,1)(1,1,0)[12]             : AIC=inf, Time=0.40 sec\n",
      " ARIMA(0,1,0)(1,1,0)[12] intercept   : AIC=1237.581, Time=0.36 sec\n",
      "\n",
      "Best model:  ARIMA(0,1,0)(1,1,0)[12]          \n",
      "Total fit time: 4.212 seconds\n",
      "############################  End Auto ARIMA for M1SL   ############################\n",
      "\n",
      "\n",
      "############################  Running Auto ARIMA for UNRATE   ############################\n",
      "Performing stepwise search to minimize aic\n",
      " ARIMA(1,1,1)(0,1,1)[12]             : AIC=inf, Time=0.41 sec\n",
      " ARIMA(0,1,0)(0,1,0)[12]             : AIC=288.385, Time=0.02 sec\n",
      " ARIMA(1,1,0)(1,1,0)[12]             : AIC=258.892, Time=0.16 sec\n",
      " ARIMA(0,1,1)(0,1,1)[12]             : AIC=inf, Time=0.24 sec\n",
      " ARIMA(1,1,0)(0,1,0)[12]             : AIC=290.385, Time=0.01 sec\n",
      " ARIMA(1,1,0)(2,1,0)[12]             : AIC=257.565, Time=0.34 sec\n",
      " ARIMA(1,1,0)(2,1,1)[12]             : AIC=259.154, Time=0.65 sec\n",
      " ARIMA(1,1,0)(1,1,1)[12]             : AIC=257.178, Time=0.15 sec\n",
      " ARIMA(1,1,0)(0,1,1)[12]             : AIC=inf, Time=0.15 sec\n",
      " ARIMA(1,1,0)(1,1,2)[12]             : AIC=259.154, Time=0.48 sec\n",
      " ARIMA(1,1,0)(0,1,2)[12]             : AIC=257.326, Time=0.30 sec\n",
      " ARIMA(1,1,0)(2,1,2)[12]             : AIC=261.154, Time=0.45 sec\n",
      " ARIMA(0,1,0)(1,1,1)[12]             : AIC=255.231, Time=0.12 sec\n",
      " ARIMA(0,1,0)(0,1,1)[12]             : AIC=inf, Time=0.12 sec\n",
      " ARIMA(0,1,0)(1,1,0)[12]             : AIC=256.953, Time=0.10 sec\n",
      " ARIMA(0,1,0)(2,1,1)[12]             : AIC=257.209, Time=0.38 sec\n",
      " ARIMA(0,1,0)(1,1,2)[12]             : AIC=257.209, Time=0.34 sec\n",
      " ARIMA(0,1,0)(0,1,2)[12]             : AIC=255.382, Time=0.25 sec\n",
      " ARIMA(0,1,0)(2,1,0)[12]             : AIC=255.626, Time=0.12 sec\n",
      " ARIMA(0,1,0)(2,1,2)[12]             : AIC=259.209, Time=0.36 sec\n",
      " ARIMA(0,1,1)(1,1,1)[12]             : AIC=257.158, Time=0.18 sec\n",
      " ARIMA(1,1,1)(1,1,1)[12]             : AIC=256.475, Time=0.41 sec\n",
      " ARIMA(0,1,0)(1,1,1)[12] intercept   : AIC=257.188, Time=0.20 sec\n",
      "\n",
      "Best model:  ARIMA(0,1,0)(1,1,1)[12]          \n",
      "Total fit time: 5.962 seconds\n",
      "############################  End Auto ARIMA for UNRATE   ############################\n",
      "\n",
      "\n",
      "############################  Running Auto ARIMA for RRSFS   ############################\n",
      "Performing stepwise search to minimize aic\n",
      " ARIMA(1,1,1)(0,1,1)[12]             : AIC=1501.075, Time=0.25 sec\n",
      " ARIMA(0,1,0)(0,1,0)[12]             : AIC=1498.551, Time=0.01 sec\n",
      " ARIMA(1,1,0)(1,1,0)[12]             : AIC=1499.672, Time=0.06 sec\n",
      " ARIMA(0,1,1)(0,1,1)[12]             : AIC=1499.483, Time=0.09 sec\n",
      " ARIMA(0,1,0)(1,1,0)[12]             : AIC=1512.561, Time=0.03 sec\n",
      " ARIMA(0,1,0)(0,1,1)[12]             : AIC=1504.803, Time=0.06 sec\n",
      " ARIMA(0,1,0)(1,1,1)[12]             : AIC=inf, Time=0.15 sec\n",
      " ARIMA(1,1,0)(0,1,0)[12]             : AIC=1500.513, Time=0.01 sec\n",
      " ARIMA(0,1,1)(0,1,0)[12]             : AIC=1500.616, Time=0.02 sec\n",
      " ARIMA(1,1,1)(0,1,0)[12]             : AIC=1501.922, Time=0.09 sec\n",
      " ARIMA(0,1,0)(0,1,0)[12] intercept   : AIC=1500.294, Time=0.00 sec\n",
      "\n",
      "Best model:  ARIMA(0,1,0)(0,1,0)[12]          \n",
      "Total fit time: 0.776 seconds\n",
      "############################  End Auto ARIMA for RRSFS   ############################\n",
      "\n",
      "\n",
      "############################  Running Auto ARIMA for WGS1YR   ############################\n",
      "Performing stepwise search to minimize aic\n",
      " ARIMA(1,1,1)(0,1,1)[12]             : AIC=inf, Time=0.44 sec\n",
      " ARIMA(0,1,0)(0,1,0)[12]             : AIC=-17.516, Time=0.01 sec\n",
      " ARIMA(1,1,0)(1,1,0)[12]             : AIC=-41.652, Time=0.10 sec\n",
      " ARIMA(0,1,1)(0,1,1)[12]             : AIC=-44.376, Time=0.18 sec\n",
      " ARIMA(0,1,1)(0,1,0)[12]             : AIC=-20.653, Time=0.03 sec\n",
      " ARIMA(0,1,1)(1,1,1)[12]             : AIC=inf, Time=1.09 sec\n",
      " ARIMA(0,1,1)(0,1,2)[12]             : AIC=inf, Time=0.84 sec\n",
      " ARIMA(0,1,1)(1,1,0)[12]             : AIC=-38.959, Time=0.12 sec\n",
      " ARIMA(0,1,1)(1,1,2)[12]             : AIC=inf, Time=1.59 sec\n",
      " ARIMA(0,1,0)(0,1,1)[12]             : AIC=-40.384, Time=0.09 sec\n",
      " ARIMA(0,1,2)(0,1,1)[12]             : AIC=-43.420, Time=0.21 sec\n",
      " ARIMA(1,1,0)(0,1,1)[12]             : AIC=-45.629, Time=0.13 sec\n",
      " ARIMA(1,1,0)(0,1,0)[12]             : AIC=-21.427, Time=0.02 sec\n",
      " ARIMA(1,1,0)(1,1,1)[12]             : AIC=inf, Time=0.55 sec\n",
      " ARIMA(1,1,0)(0,1,2)[12]             : AIC=inf, Time=0.59 sec\n",
      " ARIMA(1,1,0)(1,1,2)[12]             : AIC=inf, Time=1.27 sec\n",
      " ARIMA(2,1,0)(0,1,1)[12]             : AIC=-44.078, Time=0.22 sec\n",
      " ARIMA(2,1,1)(0,1,1)[12]             : AIC=-45.666, Time=0.46 sec\n",
      " ARIMA(2,1,1)(0,1,0)[12]             : AIC=-17.679, Time=0.08 sec\n",
      " ARIMA(2,1,1)(1,1,1)[12]             : AIC=inf, Time=0.92 sec\n",
      " ARIMA(2,1,1)(0,1,2)[12]             : AIC=inf, Time=1.91 sec\n",
      " ARIMA(2,1,1)(1,1,0)[12]             : AIC=-41.747, Time=0.53 sec\n",
      " ARIMA(2,1,1)(1,1,2)[12]             : AIC=-41.749, Time=1.39 sec\n",
      " ARIMA(3,1,1)(0,1,1)[12]             : AIC=inf, Time=0.75 sec\n",
      " ARIMA(2,1,2)(0,1,1)[12]             : AIC=inf, Time=0.76 sec\n",
      " ARIMA(1,1,2)(0,1,1)[12]             : AIC=inf, Time=0.51 sec\n",
      " ARIMA(3,1,0)(0,1,1)[12]             : AIC=-42.790, Time=0.38 sec\n",
      " ARIMA(3,1,2)(0,1,1)[12]             : AIC=-47.313, Time=0.97 sec\n",
      " ARIMA(3,1,2)(0,1,0)[12]             : AIC=-22.359, Time=0.31 sec\n",
      " ARIMA(3,1,2)(1,1,1)[12]             : AIC=inf, Time=1.09 sec\n",
      " ARIMA(3,1,2)(0,1,2)[12]             : AIC=inf, Time=2.22 sec\n",
      " ARIMA(3,1,2)(1,1,0)[12]             : AIC=-46.708, Time=0.84 sec\n",
      " ARIMA(3,1,2)(1,1,2)[12]             : AIC=inf, Time=2.08 sec\n",
      " ARIMA(4,1,2)(0,1,1)[12]             : AIC=-42.076, Time=1.09 sec\n",
      " ARIMA(3,1,3)(0,1,1)[12]             : AIC=inf, Time=1.14 sec\n",
      " ARIMA(2,1,3)(0,1,1)[12]             : AIC=-49.463, Time=1.19 sec\n",
      " ARIMA(2,1,3)(0,1,0)[12]             : AIC=-15.253, Time=0.26 sec\n",
      " ARIMA(2,1,3)(1,1,1)[12]             : AIC=inf, Time=1.21 sec\n",
      " ARIMA(2,1,3)(0,1,2)[12]             : AIC=inf, Time=2.31 sec\n",
      " ARIMA(2,1,3)(1,1,0)[12]             : AIC=-46.999, Time=0.87 sec\n",
      " ARIMA(2,1,3)(1,1,2)[12]             : AIC=inf, Time=3.02 sec\n",
      " ARIMA(1,1,3)(0,1,1)[12]             : AIC=inf, Time=0.71 sec\n",
      " ARIMA(2,1,4)(0,1,1)[12]             : AIC=-43.171, Time=1.10 sec\n",
      " ARIMA(1,1,4)(0,1,1)[12]             : AIC=-43.958, Time=1.06 sec\n",
      " ARIMA(3,1,4)(0,1,1)[12]             : AIC=-42.573, Time=1.19 sec\n",
      " ARIMA(2,1,3)(0,1,1)[12] intercept   : AIC=-40.359, Time=1.11 sec\n",
      "\n",
      "Best model:  ARIMA(2,1,3)(0,1,1)[12]          \n",
      "Total fit time: 38.983 seconds\n",
      "############################  End Auto ARIMA for WGS1YR   ############################\n",
      "\n",
      "\n",
      "############################  Running Auto ARIMA for WFII5   ############################\n",
      "Performing stepwise search to minimize aic\n",
      " ARIMA(1,1,1)(0,1,1)[12]             : AIC=-73.580, Time=0.47 sec\n",
      " ARIMA(0,1,0)(0,1,0)[12]             : AIC=-65.148, Time=0.04 sec\n",
      " ARIMA(1,1,0)(1,1,0)[12]             : AIC=-68.971, Time=0.10 sec\n",
      " ARIMA(0,1,1)(0,1,1)[12]             : AIC=-71.977, Time=0.17 sec\n",
      " ARIMA(1,1,1)(0,1,0)[12]             : AIC=-64.207, Time=0.10 sec\n",
      " ARIMA(1,1,1)(1,1,1)[12]             : AIC=-71.588, Time=0.73 sec\n",
      " ARIMA(1,1,1)(0,1,2)[12]             : AIC=-71.596, Time=1.15 sec\n",
      " ARIMA(1,1,1)(1,1,0)[12]             : AIC=-70.417, Time=0.14 sec\n",
      " ARIMA(1,1,1)(1,1,2)[12]             : AIC=inf, Time=1.50 sec\n",
      " ARIMA(1,1,0)(0,1,1)[12]             : AIC=-72.497, Time=0.15 sec\n",
      " ARIMA(2,1,1)(0,1,1)[12]             : AIC=-71.598, Time=0.47 sec\n",
      " ARIMA(1,1,2)(0,1,1)[12]             : AIC=-71.602, Time=0.42 sec\n",
      " ARIMA(0,1,0)(0,1,1)[12]             : AIC=-71.248, Time=0.10 sec\n",
      " ARIMA(0,1,2)(0,1,1)[12]             : AIC=-70.276, Time=0.23 sec\n",
      " ARIMA(2,1,0)(0,1,1)[12]             : AIC=-71.382, Time=0.21 sec\n",
      " ARIMA(2,1,2)(0,1,1)[12]             : AIC=-70.079, Time=0.84 sec\n",
      " ARIMA(1,1,1)(0,1,1)[12] intercept   : AIC=-73.052, Time=0.62 sec\n",
      "\n",
      "Best model:  ARIMA(1,1,1)(0,1,1)[12]          \n",
      "Total fit time: 7.427 seconds\n",
      "############################  End Auto ARIMA for WFII5   ############################\n",
      "\n",
      "\n",
      "############################  Running Auto ARIMA for UNDCONTSA   ############################\n",
      "Performing stepwise search to minimize aic\n",
      " ARIMA(1,1,1)(0,1,1)[12]             : AIC=inf, Time=0.36 sec\n",
      " ARIMA(0,1,0)(0,1,0)[12]             : AIC=566.181, Time=0.01 sec\n",
      " ARIMA(1,1,0)(1,1,0)[12]             : AIC=540.005, Time=0.07 sec\n",
      " ARIMA(0,1,1)(0,1,1)[12]             : AIC=inf, Time=0.33 sec\n",
      " ARIMA(1,1,0)(0,1,0)[12]             : AIC=564.907, Time=0.01 sec\n",
      " ARIMA(1,1,0)(2,1,0)[12]             : AIC=537.872, Time=0.31 sec\n",
      " ARIMA(1,1,0)(2,1,1)[12]             : AIC=inf, Time=1.14 sec\n",
      " ARIMA(1,1,0)(1,1,1)[12]             : AIC=536.362, Time=0.22 sec\n",
      " ARIMA(1,1,0)(0,1,1)[12]             : AIC=inf, Time=0.23 sec\n",
      " ARIMA(1,1,0)(1,1,2)[12]             : AIC=inf, Time=1.09 sec\n",
      " ARIMA(1,1,0)(0,1,2)[12]             : AIC=536.727, Time=0.35 sec\n",
      " ARIMA(1,1,0)(2,1,2)[12]             : AIC=inf, Time=1.46 sec\n",
      " ARIMA(0,1,0)(1,1,1)[12]             : AIC=inf, Time=0.28 sec\n",
      " ARIMA(2,1,0)(1,1,1)[12]             : AIC=538.326, Time=0.32 sec\n",
      " ARIMA(1,1,1)(1,1,1)[12]             : AIC=538.330, Time=0.30 sec\n",
      " ARIMA(0,1,1)(1,1,1)[12]             : AIC=538.105, Time=0.30 sec\n",
      " ARIMA(2,1,1)(1,1,1)[12]             : AIC=540.309, Time=0.52 sec\n",
      " ARIMA(1,1,0)(1,1,1)[12] intercept   : AIC=538.148, Time=0.28 sec\n",
      "\n",
      "Best model:  ARIMA(1,1,0)(1,1,1)[12]          \n",
      "Total fit time: 7.576 seconds\n",
      "############################  End Auto ARIMA for UNDCONTSA   ############################\n",
      "\n",
      "\n",
      "############################  Running Auto ARIMA for PERMIT   ############################\n",
      "Performing stepwise search to minimize aic\n",
      " ARIMA(1,1,1)(0,1,1)[12]             : AIC=846.576, Time=0.52 sec\n",
      " ARIMA(0,1,0)(0,1,0)[12]             : AIC=867.628, Time=0.00 sec\n",
      " ARIMA(1,1,0)(1,1,0)[12]             : AIC=848.407, Time=0.09 sec\n",
      " ARIMA(0,1,1)(0,1,1)[12]             : AIC=846.632, Time=0.14 sec\n",
      " ARIMA(1,1,1)(0,1,0)[12]             : AIC=865.037, Time=0.04 sec\n",
      " ARIMA(1,1,1)(1,1,1)[12]             : AIC=inf, Time=0.40 sec\n",
      " ARIMA(1,1,1)(0,1,2)[12]             : AIC=inf, Time=0.73 sec\n",
      " ARIMA(1,1,1)(1,1,0)[12]             : AIC=847.883, Time=0.54 sec\n",
      " ARIMA(1,1,1)(1,1,2)[12]             : AIC=849.229, Time=1.75 sec\n",
      " ARIMA(1,1,0)(0,1,1)[12]             : AIC=846.859, Time=0.12 sec\n",
      " ARIMA(2,1,1)(0,1,1)[12]             : AIC=inf, Time=0.42 sec\n",
      " ARIMA(1,1,2)(0,1,1)[12]             : AIC=inf, Time=0.41 sec\n",
      " ARIMA(0,1,0)(0,1,1)[12]             : AIC=848.290, Time=0.08 sec\n",
      " ARIMA(0,1,2)(0,1,1)[12]             : AIC=848.426, Time=0.18 sec\n",
      " ARIMA(2,1,0)(0,1,1)[12]             : AIC=848.856, Time=0.15 sec\n",
      " ARIMA(2,1,2)(0,1,1)[12]             : AIC=848.175, Time=0.69 sec\n",
      " ARIMA(1,1,1)(0,1,1)[12] intercept   : AIC=850.419, Time=0.77 sec\n",
      "\n",
      "Best model:  ARIMA(1,1,1)(0,1,1)[12]          \n",
      "Total fit time: 7.043 seconds\n",
      "############################  End Auto ARIMA for PERMIT   ############################\n",
      "\n",
      "\n",
      "############################  Running Auto ARIMA for AWHMAN   ############################\n",
      "Performing stepwise search to minimize aic\n",
      " ARIMA(1,1,1)(0,1,1)[12]             : AIC=inf, Time=0.37 sec\n",
      " ARIMA(0,1,0)(0,1,0)[12]             : AIC=119.459, Time=0.02 sec\n",
      " ARIMA(1,1,0)(1,1,0)[12]             : AIC=94.958, Time=0.08 sec\n",
      " ARIMA(0,1,1)(0,1,1)[12]             : AIC=90.444, Time=0.15 sec\n",
      " ARIMA(0,1,1)(0,1,0)[12]             : AIC=119.075, Time=0.03 sec\n",
      " ARIMA(0,1,1)(1,1,1)[12]             : AIC=91.869, Time=0.31 sec\n",
      " ARIMA(0,1,1)(0,1,2)[12]             : AIC=91.904, Time=0.48 sec\n",
      " ARIMA(0,1,1)(1,1,0)[12]             : AIC=94.744, Time=0.11 sec\n",
      " ARIMA(0,1,1)(1,1,2)[12]             : AIC=93.868, Time=0.68 sec\n",
      " ARIMA(0,1,0)(0,1,1)[12]             : AIC=89.737, Time=0.12 sec\n",
      " ARIMA(0,1,0)(1,1,1)[12]             : AIC=91.159, Time=0.23 sec\n",
      " ARIMA(0,1,0)(0,1,2)[12]             : AIC=91.202, Time=0.36 sec\n",
      " ARIMA(0,1,0)(1,1,0)[12]             : AIC=94.002, Time=0.06 sec\n",
      " ARIMA(0,1,0)(1,1,2)[12]             : AIC=93.153, Time=0.62 sec\n",
      " ARIMA(1,1,0)(0,1,1)[12]             : AIC=90.820, Time=0.12 sec\n",
      " ARIMA(0,1,0)(0,1,1)[12] intercept   : AIC=91.660, Time=0.14 sec\n",
      "\n",
      "Best model:  ARIMA(0,1,0)(0,1,1)[12]          \n",
      "Total fit time: 3.861 seconds\n",
      "############################  End Auto ARIMA for AWHMAN   ############################\n",
      "\n",
      "\n",
      "############################  Running Auto ARIMA for MORTGAGE30US   ############################\n",
      "Performing stepwise search to minimize aic\n",
      " ARIMA(1,1,1)(0,1,1)[12]             : AIC=-82.185, Time=0.46 sec\n",
      " ARIMA(0,1,0)(0,1,0)[12]             : AIC=-52.802, Time=0.02 sec\n",
      " ARIMA(1,1,0)(1,1,0)[12]             : AIC=-72.075, Time=0.10 sec\n",
      " ARIMA(0,1,1)(0,1,1)[12]             : AIC=inf, Time=0.28 sec\n",
      " ARIMA(1,1,1)(0,1,0)[12]             : AIC=-62.492, Time=0.04 sec\n",
      " ARIMA(1,1,1)(1,1,1)[12]             : AIC=inf, Time=0.69 sec\n",
      " ARIMA(1,1,1)(0,1,2)[12]             : AIC=inf, Time=1.30 sec\n",
      " ARIMA(1,1,1)(1,1,0)[12]             : AIC=-70.305, Time=0.22 sec\n",
      " ARIMA(1,1,1)(1,1,2)[12]             : AIC=inf, Time=1.47 sec\n",
      " ARIMA(1,1,0)(0,1,1)[12]             : AIC=-84.073, Time=0.29 sec\n",
      " ARIMA(1,1,0)(0,1,0)[12]             : AIC=-64.491, Time=0.03 sec\n",
      " ARIMA(1,1,0)(1,1,1)[12]             : AIC=inf, Time=0.52 sec\n",
      " ARIMA(1,1,0)(0,1,2)[12]             : AIC=inf, Time=0.95 sec\n",
      " ARIMA(1,1,0)(1,1,2)[12]             : AIC=inf, Time=0.89 sec\n",
      " ARIMA(0,1,0)(0,1,1)[12]             : AIC=inf, Time=0.29 sec\n",
      " ARIMA(2,1,0)(0,1,1)[12]             : AIC=-82.150, Time=0.35 sec\n",
      " ARIMA(2,1,1)(0,1,1)[12]             : AIC=inf, Time=0.81 sec\n",
      " ARIMA(1,1,0)(0,1,1)[12] intercept   : AIC=inf, Time=0.25 sec\n",
      "\n",
      "Best model:  ARIMA(1,1,0)(0,1,1)[12]          \n",
      "Total fit time: 8.947 seconds\n",
      "############################  End Auto ARIMA for MORTGAGE30US   ############################\n",
      "\n",
      "\n",
      "############################  Running Auto ARIMA for BAMLCC0A2AATRIV   ############################\n",
      "Performing stepwise search to minimize aic\n",
      " ARIMA(1,1,1)(0,1,1)[12]             : AIC=485.999, Time=0.12 sec\n",
      " ARIMA(0,1,0)(0,1,0)[12]             : AIC=502.366, Time=0.00 sec\n",
      " ARIMA(1,1,0)(1,1,0)[12]             : AIC=490.600, Time=0.05 sec\n",
      " ARIMA(0,1,1)(0,1,1)[12]             : AIC=486.424, Time=0.08 sec\n",
      " ARIMA(1,1,1)(0,1,0)[12]             : AIC=498.780, Time=0.03 sec\n",
      " ARIMA(1,1,1)(1,1,1)[12]             : AIC=487.996, Time=0.24 sec\n",
      " ARIMA(1,1,1)(0,1,2)[12]             : AIC=487.991, Time=0.43 sec\n",
      " ARIMA(1,1,1)(1,1,0)[12]             : AIC=491.059, Time=0.08 sec\n",
      " ARIMA(1,1,1)(1,1,2)[12]             : AIC=inf, Time=0.78 sec\n",
      " ARIMA(1,1,0)(0,1,1)[12]             : AIC=484.980, Time=0.09 sec\n",
      " ARIMA(1,1,0)(0,1,0)[12]             : AIC=498.303, Time=0.02 sec\n",
      " ARIMA(1,1,0)(1,1,1)[12]             : AIC=486.977, Time=0.12 sec\n",
      " ARIMA(1,1,0)(0,1,2)[12]             : AIC=486.974, Time=0.27 sec\n",
      " ARIMA(1,1,0)(1,1,2)[12]             : AIC=487.920, Time=0.55 sec\n",
      " ARIMA(0,1,0)(0,1,1)[12]             : AIC=489.581, Time=0.06 sec\n",
      " ARIMA(2,1,0)(0,1,1)[12]             : AIC=485.899, Time=0.11 sec\n",
      " ARIMA(2,1,1)(0,1,1)[12]             : AIC=487.875, Time=0.23 sec\n",
      " ARIMA(1,1,0)(0,1,1)[12] intercept   : AIC=486.911, Time=0.12 sec\n",
      "\n",
      "Best model:  ARIMA(1,1,0)(0,1,1)[12]          \n",
      "Total fit time: 3.376 seconds\n",
      "############################  End Auto ARIMA for BAMLCC0A2AATRIV   ############################\n",
      "\n",
      "\n"
     ]
    }
   ],
   "source": [
    "# create the future predictions dataframe\n",
    "if has_actuals:\n",
    "    pred_df = models.run_auto_arima(comb_df, feature_cols, pred_start_dt, forecast_window, ci=False)\n",
    "    final_best = finalize_model(best)\n",
    "    #future_dates = pd.date_range(start = pred_start_dt, end = pred_end_dt, freq = 'MS')\n",
    "    pred_df = predict_model(final_best, data=pred_df)\n",
    "    #pred_df = pred_df[['Calendar Date', 'Label']]\n",
    "    pred_df = pred_df.rename(columns={'Label':ml_col})[['Calendar Date', ml_col]]\n",
    "    concat_df = pd.merge(act_df, pred_df ,on='Calendar Date', how='inner')\n",
    "    \n",
    "    # get plan data\n",
    "    plan_df = dl.get_clean_data(train_start_dt, pred_end_dt, file_path, type='plan')\n",
    "    plan_df = plan_df[['Calendar Date', target_col]]\n",
    "    plan_df.rename(columns={target_col:plan_col}, inplace=True)\n",
    "    plan_df['Calendar Date'] = pd.to_datetime(plan_df['Calendar Date'])\n",
    "    concat_df = pd.merge(concat_df,plan_df, on='Calendar Date', how='inner')\n",
    "    \n",
    "    # get forecast data\n",
    "    fcst_df = dl.get_clean_data(train_start_dt, pred_end_dt, file_path,\n",
    "                                type='forecast',\n",
    "                                forecast_type=forecast_type)\n",
    "    fcst_df = fcst_df[['Calendar Date', target_col]]\n",
    "    fcst_df.rename(columns={target_col:fcst_col}, inplace=True)\n",
    "    fcst_df['Calendar Date'] = pd.to_datetime(fcst_df['Calendar Date'])\n",
    "    concat_df = pd.merge(concat_df,fcst_df, on='Calendar Date', how='inner')"
   ]
  },
  {
   "cell_type": "code",
   "execution_count": 94,
   "metadata": {},
   "outputs": [
    {
     "name": "stdout",
     "output_type": "stream",
     "text": [
      "############################  Running Auto ARIMA for Interest on Funds Held for Clients   ############################\n",
      "Performing stepwise search to minimize aic\n",
      " ARIMA(1,1,1)(0,1,1)[12]             : AIC=2258.343, Time=0.15 sec\n",
      " ARIMA(0,1,0)(0,1,0)[12]             : AIC=2294.497, Time=0.00 sec\n",
      " ARIMA(1,1,0)(1,1,0)[12]             : AIC=2262.118, Time=0.07 sec\n",
      " ARIMA(0,1,1)(0,1,1)[12]             : AIC=2256.611, Time=0.08 sec\n",
      " ARIMA(0,1,1)(0,1,0)[12]             : AIC=2280.180, Time=0.02 sec\n",
      " ARIMA(0,1,1)(1,1,1)[12]             : AIC=2256.875, Time=0.12 sec\n",
      " ARIMA(0,1,1)(0,1,2)[12]             : AIC=2256.715, Time=0.20 sec\n",
      " ARIMA(0,1,1)(1,1,0)[12]             : AIC=2257.195, Time=0.05 sec\n",
      " ARIMA(0,1,1)(1,1,2)[12]             : AIC=2258.715, Time=0.50 sec\n",
      " ARIMA(0,1,0)(0,1,1)[12]             : AIC=2284.385, Time=0.04 sec\n",
      " ARIMA(0,1,2)(0,1,1)[12]             : AIC=2261.030, Time=0.11 sec\n",
      " ARIMA(1,1,0)(0,1,1)[12]             : AIC=2261.170, Time=0.05 sec\n",
      " ARIMA(1,1,2)(0,1,1)[12]             : AIC=2262.892, Time=0.18 sec\n",
      " ARIMA(0,1,1)(0,1,1)[12] intercept   : AIC=2259.277, Time=0.12 sec\n",
      "\n",
      "Best model:  ARIMA(0,1,1)(0,1,1)[12]          \n",
      "Total fit time: 1.689 seconds\n",
      "############################  End Auto ARIMA for Interest on Funds Held for Clients   ############################\n",
      "\n",
      "\n"
     ]
    }
   ],
   "source": [
    "# run UTS\n",
    "uts_df = comb_df[['Calendar Date', target_col]]\n",
    "uts_df = models.run_auto_arima(uts_df, [target_col], pred_start_dt, forecast_window, ci=True)\n",
    "uts_df.rename(columns={target_col:uts_col}, inplace=True)"
   ]
  },
  {
   "cell_type": "code",
   "execution_count": 95,
   "outputs": [],
   "source": [
    "concat_df = pd.merge(concat_df,uts_df, on='Calendar Date', how='inner')"
   ],
   "metadata": {
    "collapsed": false,
    "pycharm": {
     "name": "#%%\n"
    }
   }
  },
  {
   "cell_type": "code",
   "execution_count": 96,
   "metadata": {},
   "outputs": [],
   "source": [
    "# combine all data together\n",
    "concat_df = pd.concat([comb_df[['Calendar Date', target_col]],concat_df], axis=0)"
   ]
  },
  {
   "cell_type": "code",
   "execution_count": 107,
   "outputs": [
    {
     "data": {
      "application/vnd.plotly.v1+json": {
       "data": [
        {
         "hovertemplate": "variable=Interest on Funds Held for Clients<br>Calendar Date=%{x}<br>value=%{y}<extra></extra>",
         "legendgroup": "Interest on Funds Held for Clients",
         "line": {
          "color": "#636efa",
          "dash": "solid"
         },
         "marker": {
          "symbol": "circle"
         },
         "mode": "lines",
         "name": "Interest on Funds Held for Clients",
         "orientation": "v",
         "showlegend": true,
         "x": [
          "2014-06-01T00:00:00",
          "2014-07-01T00:00:00",
          "2014-08-01T00:00:00",
          "2014-09-01T00:00:00",
          "2014-10-01T00:00:00",
          "2014-11-01T00:00:00",
          "2014-12-01T00:00:00",
          "2015-01-01T00:00:00",
          "2015-02-01T00:00:00",
          "2015-03-01T00:00:00",
          "2015-04-01T00:00:00",
          "2015-05-01T00:00:00",
          "2015-06-01T00:00:00",
          "2015-07-01T00:00:00",
          "2015-08-01T00:00:00",
          "2015-09-01T00:00:00",
          "2015-10-01T00:00:00",
          "2015-11-01T00:00:00",
          "2015-12-01T00:00:00",
          "2016-01-01T00:00:00",
          "2016-02-01T00:00:00",
          "2016-03-01T00:00:00",
          "2016-04-01T00:00:00",
          "2016-05-01T00:00:00",
          "2016-06-01T00:00:00",
          "2016-07-01T00:00:00",
          "2016-08-01T00:00:00",
          "2016-09-01T00:00:00",
          "2016-10-01T00:00:00",
          "2016-11-01T00:00:00",
          "2016-12-01T00:00:00",
          "2017-01-01T00:00:00",
          "2017-02-01T00:00:00",
          "2017-03-01T00:00:00",
          "2017-04-01T00:00:00",
          "2017-05-01T00:00:00",
          "2017-06-01T00:00:00",
          "2017-07-01T00:00:00",
          "2017-08-01T00:00:00",
          "2017-09-01T00:00:00",
          "2017-10-01T00:00:00",
          "2017-11-01T00:00:00",
          "2017-12-01T00:00:00",
          "2018-01-01T00:00:00",
          "2018-02-01T00:00:00",
          "2018-03-01T00:00:00",
          "2018-04-01T00:00:00",
          "2018-05-01T00:00:00",
          "2018-06-01T00:00:00",
          "2018-07-01T00:00:00",
          "2018-08-01T00:00:00",
          "2018-09-01T00:00:00",
          "2018-10-01T00:00:00",
          "2018-11-01T00:00:00",
          "2018-12-01T00:00:00",
          "2019-01-01T00:00:00",
          "2019-02-01T00:00:00",
          "2019-03-01T00:00:00",
          "2019-04-01T00:00:00",
          "2019-05-01T00:00:00",
          "2019-06-01T00:00:00",
          "2019-07-01T00:00:00",
          "2019-08-01T00:00:00",
          "2019-09-01T00:00:00",
          "2019-10-01T00:00:00",
          "2019-11-01T00:00:00",
          "2019-12-01T00:00:00",
          "2020-01-01T00:00:00",
          "2020-02-01T00:00:00",
          "2020-03-01T00:00:00",
          "2020-04-01T00:00:00",
          "2020-05-01T00:00:00",
          "2020-06-01T00:00:00",
          "2020-07-01T00:00:00",
          "2020-08-01T00:00:00",
          "2020-09-01T00:00:00",
          "2020-10-01T00:00:00",
          "2020-11-01T00:00:00",
          "2020-12-01T00:00:00",
          "2021-01-01T00:00:00",
          "2021-02-01T00:00:00",
          "2021-03-01T00:00:00",
          "2021-04-01T00:00:00",
          "2021-05-01T00:00:00",
          "2021-06-01T00:00:00",
          "2021-07-01T00:00:00",
          "2021-08-01T00:00:00",
          "2021-09-01T00:00:00",
          "2021-10-01T00:00:00",
          "2021-11-01T00:00:00",
          "2021-12-01T00:00:00",
          "2022-01-01T00:00:00"
         ],
         "xaxis": "x",
         "y": [
          3308154.0,
          3466375.0,
          3434419.0,
          3419918.0,
          3472038.0,
          3469203.0,
          3550962.0,
          3683535.0,
          3509475.0,
          3645265.0,
          3627835.0,
          3493963.0,
          3481516.0,
          3650796.0,
          3658495.0,
          3654756.0,
          3762906.0,
          3739729.0,
          3936843.0,
          4026400.0,
          3915424.0,
          4070073.0,
          4307390.0,
          3852075.0,
          3944652.0,
          4229635.0,
          3805760.0,
          3578044.0,
          4008273.0,
          3796831.0,
          4439123.0,
          4557677.0,
          4235552.0,
          4638549.0,
          5177184.0,
          4173895.0,
          4470144.0,
          4881440.0,
          4357596.0,
          4644637.0,
          4722507.0,
          4617751.0,
          6502180.0,
          6024323.0,
          5577385.0,
          5994470.0,
          6791075.0,
          4950702.0,
          5633249.0,
          6059461.0,
          5467660.0,
          6002190.0,
          6084714.0,
          6201403.0,
          8257412.0,
          7271303.0,
          7426883.0,
          8190477.0,
          8500112.0,
          988904.0,
          1478660.0,
          2325636.0,
          1472227.0,
          841304.0,
          1009948.0,
          693495.0,
          1116763.0,
          1307164.0,
          838995.0,
          632985.0,
          31551.0,
          8118940.0,
          -224138.0,
          -270403.0,
          -280327.0,
          -291853.0,
          -183131.0,
          -532082.0,
          -242847.0,
          -304771.0,
          -361061.0,
          -297741.0,
          -612621.0,
          -402642.0,
          -451367.0,
          -386211.0,
          -398389.0,
          -517688.0,
          -414842.0,
          -462587.0,
          -325405.0,
          -311881.0
         ],
         "yaxis": "y",
         "type": "scatter"
        },
        {
         "hovertemplate": "variable=Interest on Funds Held for Clients - ML Predicted<br>Calendar Date=%{x}<br>value=%{y}<extra></extra>",
         "legendgroup": "Interest on Funds Held for Clients - ML Predicted",
         "line": {
          "color": "#EF553B",
          "dash": "solid"
         },
         "marker": {
          "symbol": "circle"
         },
         "mode": "lines",
         "name": "Interest on Funds Held for Clients - ML Predicted",
         "orientation": "v",
         "showlegend": true,
         "x": [
          "2014-06-01T00:00:00",
          "2014-07-01T00:00:00",
          "2014-08-01T00:00:00",
          "2014-09-01T00:00:00",
          "2014-10-01T00:00:00",
          "2014-11-01T00:00:00",
          "2014-12-01T00:00:00",
          "2015-01-01T00:00:00",
          "2015-02-01T00:00:00",
          "2015-03-01T00:00:00",
          "2015-04-01T00:00:00",
          "2015-05-01T00:00:00",
          "2015-06-01T00:00:00",
          "2015-07-01T00:00:00",
          "2015-08-01T00:00:00",
          "2015-09-01T00:00:00",
          "2015-10-01T00:00:00",
          "2015-11-01T00:00:00",
          "2015-12-01T00:00:00",
          "2016-01-01T00:00:00",
          "2016-02-01T00:00:00",
          "2016-03-01T00:00:00",
          "2016-04-01T00:00:00",
          "2016-05-01T00:00:00",
          "2016-06-01T00:00:00",
          "2016-07-01T00:00:00",
          "2016-08-01T00:00:00",
          "2016-09-01T00:00:00",
          "2016-10-01T00:00:00",
          "2016-11-01T00:00:00",
          "2016-12-01T00:00:00",
          "2017-01-01T00:00:00",
          "2017-02-01T00:00:00",
          "2017-03-01T00:00:00",
          "2017-04-01T00:00:00",
          "2017-05-01T00:00:00",
          "2017-06-01T00:00:00",
          "2017-07-01T00:00:00",
          "2017-08-01T00:00:00",
          "2017-09-01T00:00:00",
          "2017-10-01T00:00:00",
          "2017-11-01T00:00:00",
          "2017-12-01T00:00:00",
          "2018-01-01T00:00:00",
          "2018-02-01T00:00:00",
          "2018-03-01T00:00:00",
          "2018-04-01T00:00:00",
          "2018-05-01T00:00:00",
          "2018-06-01T00:00:00",
          "2018-07-01T00:00:00",
          "2018-08-01T00:00:00",
          "2018-09-01T00:00:00",
          "2018-10-01T00:00:00",
          "2018-11-01T00:00:00",
          "2018-12-01T00:00:00",
          "2019-01-01T00:00:00",
          "2019-02-01T00:00:00",
          "2019-03-01T00:00:00",
          "2019-04-01T00:00:00",
          "2019-05-01T00:00:00",
          "2019-06-01T00:00:00",
          "2019-07-01T00:00:00",
          "2019-08-01T00:00:00",
          "2019-09-01T00:00:00",
          "2019-10-01T00:00:00",
          "2019-11-01T00:00:00",
          "2019-12-01T00:00:00",
          "2020-01-01T00:00:00",
          "2020-02-01T00:00:00",
          "2020-03-01T00:00:00",
          "2020-04-01T00:00:00",
          "2020-05-01T00:00:00",
          "2020-06-01T00:00:00",
          "2020-07-01T00:00:00",
          "2020-08-01T00:00:00",
          "2020-09-01T00:00:00",
          "2020-10-01T00:00:00",
          "2020-11-01T00:00:00",
          "2020-12-01T00:00:00",
          "2021-01-01T00:00:00",
          "2021-02-01T00:00:00",
          "2021-03-01T00:00:00",
          "2021-04-01T00:00:00",
          "2021-05-01T00:00:00",
          "2021-06-01T00:00:00",
          "2021-07-01T00:00:00",
          "2021-08-01T00:00:00",
          "2021-09-01T00:00:00",
          "2021-10-01T00:00:00",
          "2021-11-01T00:00:00",
          "2021-12-01T00:00:00",
          "2022-01-01T00:00:00"
         ],
         "xaxis": "x",
         "y": [
          null,
          null,
          null,
          null,
          null,
          null,
          null,
          null,
          null,
          null,
          null,
          null,
          null,
          null,
          null,
          null,
          null,
          null,
          null,
          null,
          null,
          null,
          null,
          null,
          null,
          null,
          null,
          null,
          null,
          null,
          null,
          null,
          null,
          null,
          null,
          null,
          null,
          null,
          null,
          null,
          null,
          null,
          null,
          null,
          null,
          null,
          null,
          null,
          null,
          null,
          null,
          null,
          null,
          null,
          null,
          null,
          null,
          null,
          null,
          null,
          null,
          null,
          null,
          null,
          null,
          null,
          null,
          null,
          null,
          null,
          null,
          null,
          null,
          null,
          null,
          null,
          null,
          null,
          null,
          null,
          null,
          null,
          null,
          null,
          8838784.750832887,
          8533175.725972233,
          8225735.241706962,
          8291251.074695423,
          8413609.923286846,
          8583186.171443949,
          8568823.239452356,
          8383558.206507774
         ],
         "yaxis": "y",
         "type": "scatter"
        },
        {
         "hovertemplate": "variable=Interest on Funds Held for Clients - UTS Predicted<br>Calendar Date=%{x}<br>value=%{y}<extra></extra>",
         "legendgroup": "Interest on Funds Held for Clients - UTS Predicted",
         "line": {
          "color": "#00cc96",
          "dash": "solid"
         },
         "marker": {
          "symbol": "circle"
         },
         "mode": "lines",
         "name": "Interest on Funds Held for Clients - UTS Predicted",
         "orientation": "v",
         "showlegend": true,
         "x": [
          "2014-06-01T00:00:00",
          "2014-07-01T00:00:00",
          "2014-08-01T00:00:00",
          "2014-09-01T00:00:00",
          "2014-10-01T00:00:00",
          "2014-11-01T00:00:00",
          "2014-12-01T00:00:00",
          "2015-01-01T00:00:00",
          "2015-02-01T00:00:00",
          "2015-03-01T00:00:00",
          "2015-04-01T00:00:00",
          "2015-05-01T00:00:00",
          "2015-06-01T00:00:00",
          "2015-07-01T00:00:00",
          "2015-08-01T00:00:00",
          "2015-09-01T00:00:00",
          "2015-10-01T00:00:00",
          "2015-11-01T00:00:00",
          "2015-12-01T00:00:00",
          "2016-01-01T00:00:00",
          "2016-02-01T00:00:00",
          "2016-03-01T00:00:00",
          "2016-04-01T00:00:00",
          "2016-05-01T00:00:00",
          "2016-06-01T00:00:00",
          "2016-07-01T00:00:00",
          "2016-08-01T00:00:00",
          "2016-09-01T00:00:00",
          "2016-10-01T00:00:00",
          "2016-11-01T00:00:00",
          "2016-12-01T00:00:00",
          "2017-01-01T00:00:00",
          "2017-02-01T00:00:00",
          "2017-03-01T00:00:00",
          "2017-04-01T00:00:00",
          "2017-05-01T00:00:00",
          "2017-06-01T00:00:00",
          "2017-07-01T00:00:00",
          "2017-08-01T00:00:00",
          "2017-09-01T00:00:00",
          "2017-10-01T00:00:00",
          "2017-11-01T00:00:00",
          "2017-12-01T00:00:00",
          "2018-01-01T00:00:00",
          "2018-02-01T00:00:00",
          "2018-03-01T00:00:00",
          "2018-04-01T00:00:00",
          "2018-05-01T00:00:00",
          "2018-06-01T00:00:00",
          "2018-07-01T00:00:00",
          "2018-08-01T00:00:00",
          "2018-09-01T00:00:00",
          "2018-10-01T00:00:00",
          "2018-11-01T00:00:00",
          "2018-12-01T00:00:00",
          "2019-01-01T00:00:00",
          "2019-02-01T00:00:00",
          "2019-03-01T00:00:00",
          "2019-04-01T00:00:00",
          "2019-05-01T00:00:00",
          "2019-06-01T00:00:00",
          "2019-07-01T00:00:00",
          "2019-08-01T00:00:00",
          "2019-09-01T00:00:00",
          "2019-10-01T00:00:00",
          "2019-11-01T00:00:00",
          "2019-12-01T00:00:00",
          "2020-01-01T00:00:00",
          "2020-02-01T00:00:00",
          "2020-03-01T00:00:00",
          "2020-04-01T00:00:00",
          "2020-05-01T00:00:00",
          "2020-06-01T00:00:00",
          "2020-07-01T00:00:00",
          "2020-08-01T00:00:00",
          "2020-09-01T00:00:00",
          "2020-10-01T00:00:00",
          "2020-11-01T00:00:00",
          "2020-12-01T00:00:00",
          "2021-01-01T00:00:00",
          "2021-02-01T00:00:00",
          "2021-03-01T00:00:00",
          "2021-04-01T00:00:00",
          "2021-05-01T00:00:00",
          "2021-06-01T00:00:00",
          "2021-07-01T00:00:00",
          "2021-08-01T00:00:00",
          "2021-09-01T00:00:00",
          "2021-10-01T00:00:00",
          "2021-11-01T00:00:00",
          "2021-12-01T00:00:00",
          "2022-01-01T00:00:00"
         ],
         "xaxis": "x",
         "y": [
          null,
          null,
          null,
          null,
          null,
          null,
          null,
          null,
          null,
          null,
          null,
          null,
          null,
          null,
          null,
          null,
          null,
          null,
          null,
          null,
          null,
          null,
          null,
          null,
          null,
          null,
          null,
          null,
          null,
          null,
          null,
          null,
          null,
          null,
          null,
          null,
          null,
          null,
          null,
          null,
          null,
          null,
          null,
          null,
          null,
          null,
          null,
          null,
          null,
          null,
          null,
          null,
          null,
          null,
          null,
          null,
          null,
          null,
          null,
          null,
          null,
          null,
          null,
          null,
          null,
          null,
          null,
          null,
          null,
          null,
          null,
          null,
          null,
          null,
          null,
          null,
          null,
          null,
          null,
          null,
          null,
          null,
          null,
          null,
          -2347882.9818441942,
          -2033447.1250376054,
          -2398601.368731234,
          -2446003.615201634,
          -2314003.200024579,
          -2502410.7472298183,
          -1748758.5888618233,
          -1905914.6242733635
         ],
         "yaxis": "y",
         "type": "scatter"
        },
        {
         "hovertemplate": "variable=Interest on Funds Held for Clients - Plan<br>Calendar Date=%{x}<br>value=%{y}<extra></extra>",
         "legendgroup": "Interest on Funds Held for Clients - Plan",
         "line": {
          "color": "#ab63fa",
          "dash": "solid"
         },
         "marker": {
          "symbol": "circle"
         },
         "mode": "lines",
         "name": "Interest on Funds Held for Clients - Plan",
         "orientation": "v",
         "showlegend": true,
         "x": [
          "2014-06-01T00:00:00",
          "2014-07-01T00:00:00",
          "2014-08-01T00:00:00",
          "2014-09-01T00:00:00",
          "2014-10-01T00:00:00",
          "2014-11-01T00:00:00",
          "2014-12-01T00:00:00",
          "2015-01-01T00:00:00",
          "2015-02-01T00:00:00",
          "2015-03-01T00:00:00",
          "2015-04-01T00:00:00",
          "2015-05-01T00:00:00",
          "2015-06-01T00:00:00",
          "2015-07-01T00:00:00",
          "2015-08-01T00:00:00",
          "2015-09-01T00:00:00",
          "2015-10-01T00:00:00",
          "2015-11-01T00:00:00",
          "2015-12-01T00:00:00",
          "2016-01-01T00:00:00",
          "2016-02-01T00:00:00",
          "2016-03-01T00:00:00",
          "2016-04-01T00:00:00",
          "2016-05-01T00:00:00",
          "2016-06-01T00:00:00",
          "2016-07-01T00:00:00",
          "2016-08-01T00:00:00",
          "2016-09-01T00:00:00",
          "2016-10-01T00:00:00",
          "2016-11-01T00:00:00",
          "2016-12-01T00:00:00",
          "2017-01-01T00:00:00",
          "2017-02-01T00:00:00",
          "2017-03-01T00:00:00",
          "2017-04-01T00:00:00",
          "2017-05-01T00:00:00",
          "2017-06-01T00:00:00",
          "2017-07-01T00:00:00",
          "2017-08-01T00:00:00",
          "2017-09-01T00:00:00",
          "2017-10-01T00:00:00",
          "2017-11-01T00:00:00",
          "2017-12-01T00:00:00",
          "2018-01-01T00:00:00",
          "2018-02-01T00:00:00",
          "2018-03-01T00:00:00",
          "2018-04-01T00:00:00",
          "2018-05-01T00:00:00",
          "2018-06-01T00:00:00",
          "2018-07-01T00:00:00",
          "2018-08-01T00:00:00",
          "2018-09-01T00:00:00",
          "2018-10-01T00:00:00",
          "2018-11-01T00:00:00",
          "2018-12-01T00:00:00",
          "2019-01-01T00:00:00",
          "2019-02-01T00:00:00",
          "2019-03-01T00:00:00",
          "2019-04-01T00:00:00",
          "2019-05-01T00:00:00",
          "2019-06-01T00:00:00",
          "2019-07-01T00:00:00",
          "2019-08-01T00:00:00",
          "2019-09-01T00:00:00",
          "2019-10-01T00:00:00",
          "2019-11-01T00:00:00",
          "2019-12-01T00:00:00",
          "2020-01-01T00:00:00",
          "2020-02-01T00:00:00",
          "2020-03-01T00:00:00",
          "2020-04-01T00:00:00",
          "2020-05-01T00:00:00",
          "2020-06-01T00:00:00",
          "2020-07-01T00:00:00",
          "2020-08-01T00:00:00",
          "2020-09-01T00:00:00",
          "2020-10-01T00:00:00",
          "2020-11-01T00:00:00",
          "2020-12-01T00:00:00",
          "2021-01-01T00:00:00",
          "2021-02-01T00:00:00",
          "2021-03-01T00:00:00",
          "2021-04-01T00:00:00",
          "2021-05-01T00:00:00",
          "2021-06-01T00:00:00",
          "2021-07-01T00:00:00",
          "2021-08-01T00:00:00",
          "2021-09-01T00:00:00",
          "2021-10-01T00:00:00",
          "2021-11-01T00:00:00",
          "2021-12-01T00:00:00",
          "2022-01-01T00:00:00"
         ],
         "xaxis": "x",
         "y": [
          null,
          null,
          null,
          null,
          null,
          null,
          null,
          null,
          null,
          null,
          null,
          null,
          null,
          null,
          null,
          null,
          null,
          null,
          null,
          null,
          null,
          null,
          null,
          null,
          null,
          null,
          null,
          null,
          null,
          null,
          null,
          null,
          null,
          null,
          null,
          null,
          null,
          null,
          null,
          null,
          null,
          null,
          null,
          null,
          null,
          null,
          null,
          null,
          null,
          null,
          null,
          null,
          null,
          null,
          null,
          null,
          null,
          null,
          null,
          null,
          null,
          null,
          null,
          null,
          null,
          null,
          null,
          null,
          null,
          null,
          null,
          null,
          null,
          null,
          null,
          null,
          null,
          null,
          null,
          null,
          null,
          null,
          null,
          null,
          4687137.0,
          4727006.0,
          5402709.0,
          4636944.0,
          4684411.0,
          5397348.0,
          4840579.0,
          4756334.0
         ],
         "yaxis": "y",
         "type": "scatter"
        },
        {
         "hovertemplate": "variable=Interest on Funds Held for Clients - 2+10 Forecast<br>Calendar Date=%{x}<br>value=%{y}<extra></extra>",
         "legendgroup": "Interest on Funds Held for Clients - 2+10 Forecast",
         "line": {
          "color": "#FFA15A",
          "dash": "solid"
         },
         "marker": {
          "symbol": "circle"
         },
         "mode": "lines",
         "name": "Interest on Funds Held for Clients - 2+10 Forecast",
         "orientation": "v",
         "showlegend": true,
         "x": [
          "2014-06-01T00:00:00",
          "2014-07-01T00:00:00",
          "2014-08-01T00:00:00",
          "2014-09-01T00:00:00",
          "2014-10-01T00:00:00",
          "2014-11-01T00:00:00",
          "2014-12-01T00:00:00",
          "2015-01-01T00:00:00",
          "2015-02-01T00:00:00",
          "2015-03-01T00:00:00",
          "2015-04-01T00:00:00",
          "2015-05-01T00:00:00",
          "2015-06-01T00:00:00",
          "2015-07-01T00:00:00",
          "2015-08-01T00:00:00",
          "2015-09-01T00:00:00",
          "2015-10-01T00:00:00",
          "2015-11-01T00:00:00",
          "2015-12-01T00:00:00",
          "2016-01-01T00:00:00",
          "2016-02-01T00:00:00",
          "2016-03-01T00:00:00",
          "2016-04-01T00:00:00",
          "2016-05-01T00:00:00",
          "2016-06-01T00:00:00",
          "2016-07-01T00:00:00",
          "2016-08-01T00:00:00",
          "2016-09-01T00:00:00",
          "2016-10-01T00:00:00",
          "2016-11-01T00:00:00",
          "2016-12-01T00:00:00",
          "2017-01-01T00:00:00",
          "2017-02-01T00:00:00",
          "2017-03-01T00:00:00",
          "2017-04-01T00:00:00",
          "2017-05-01T00:00:00",
          "2017-06-01T00:00:00",
          "2017-07-01T00:00:00",
          "2017-08-01T00:00:00",
          "2017-09-01T00:00:00",
          "2017-10-01T00:00:00",
          "2017-11-01T00:00:00",
          "2017-12-01T00:00:00",
          "2018-01-01T00:00:00",
          "2018-02-01T00:00:00",
          "2018-03-01T00:00:00",
          "2018-04-01T00:00:00",
          "2018-05-01T00:00:00",
          "2018-06-01T00:00:00",
          "2018-07-01T00:00:00",
          "2018-08-01T00:00:00",
          "2018-09-01T00:00:00",
          "2018-10-01T00:00:00",
          "2018-11-01T00:00:00",
          "2018-12-01T00:00:00",
          "2019-01-01T00:00:00",
          "2019-02-01T00:00:00",
          "2019-03-01T00:00:00",
          "2019-04-01T00:00:00",
          "2019-05-01T00:00:00",
          "2019-06-01T00:00:00",
          "2019-07-01T00:00:00",
          "2019-08-01T00:00:00",
          "2019-09-01T00:00:00",
          "2019-10-01T00:00:00",
          "2019-11-01T00:00:00",
          "2019-12-01T00:00:00",
          "2020-01-01T00:00:00",
          "2020-02-01T00:00:00",
          "2020-03-01T00:00:00",
          "2020-04-01T00:00:00",
          "2020-05-01T00:00:00",
          "2020-06-01T00:00:00",
          "2020-07-01T00:00:00",
          "2020-08-01T00:00:00",
          "2020-09-01T00:00:00",
          "2020-10-01T00:00:00",
          "2020-11-01T00:00:00",
          "2020-12-01T00:00:00",
          "2021-01-01T00:00:00",
          "2021-02-01T00:00:00",
          "2021-03-01T00:00:00",
          "2021-04-01T00:00:00",
          "2021-05-01T00:00:00",
          "2021-06-01T00:00:00",
          "2021-07-01T00:00:00",
          "2021-08-01T00:00:00",
          "2021-09-01T00:00:00",
          "2021-10-01T00:00:00",
          "2021-11-01T00:00:00",
          "2021-12-01T00:00:00",
          "2022-01-01T00:00:00"
         ],
         "xaxis": "x",
         "y": [
          null,
          null,
          null,
          null,
          null,
          null,
          null,
          null,
          null,
          null,
          null,
          null,
          null,
          null,
          null,
          null,
          null,
          null,
          null,
          null,
          null,
          null,
          null,
          null,
          null,
          null,
          null,
          null,
          null,
          null,
          null,
          null,
          null,
          null,
          null,
          null,
          null,
          null,
          null,
          null,
          null,
          null,
          null,
          null,
          null,
          null,
          null,
          null,
          null,
          null,
          null,
          null,
          null,
          null,
          null,
          null,
          null,
          null,
          null,
          null,
          null,
          null,
          null,
          null,
          null,
          null,
          null,
          null,
          null,
          null,
          null,
          null,
          null,
          null,
          null,
          null,
          null,
          null,
          null,
          null,
          null,
          null,
          null,
          null,
          -451367.0,
          -386211.0,
          4648749.0,
          4637734.0,
          4686972.0,
          4644354.0,
          4846830.0,
          4760590.0
         ],
         "yaxis": "y",
         "type": "scatter"
        }
       ],
       "layout": {
        "template": {
         "data": {
          "barpolar": [
           {
            "marker": {
             "line": {
              "color": "white",
              "width": 0.5
             },
             "pattern": {
              "fillmode": "overlay",
              "size": 10,
              "solidity": 0.2
             }
            },
            "type": "barpolar"
           }
          ],
          "bar": [
           {
            "error_x": {
             "color": "#2a3f5f"
            },
            "error_y": {
             "color": "#2a3f5f"
            },
            "marker": {
             "line": {
              "color": "white",
              "width": 0.5
             },
             "pattern": {
              "fillmode": "overlay",
              "size": 10,
              "solidity": 0.2
             }
            },
            "type": "bar"
           }
          ],
          "carpet": [
           {
            "aaxis": {
             "endlinecolor": "#2a3f5f",
             "gridcolor": "#C8D4E3",
             "linecolor": "#C8D4E3",
             "minorgridcolor": "#C8D4E3",
             "startlinecolor": "#2a3f5f"
            },
            "baxis": {
             "endlinecolor": "#2a3f5f",
             "gridcolor": "#C8D4E3",
             "linecolor": "#C8D4E3",
             "minorgridcolor": "#C8D4E3",
             "startlinecolor": "#2a3f5f"
            },
            "type": "carpet"
           }
          ],
          "choropleth": [
           {
            "colorbar": {
             "outlinewidth": 0,
             "ticks": ""
            },
            "type": "choropleth"
           }
          ],
          "contourcarpet": [
           {
            "colorbar": {
             "outlinewidth": 0,
             "ticks": ""
            },
            "type": "contourcarpet"
           }
          ],
          "contour": [
           {
            "colorbar": {
             "outlinewidth": 0,
             "ticks": ""
            },
            "colorscale": [
             [
              0.0,
              "#0d0887"
             ],
             [
              0.1111111111111111,
              "#46039f"
             ],
             [
              0.2222222222222222,
              "#7201a8"
             ],
             [
              0.3333333333333333,
              "#9c179e"
             ],
             [
              0.4444444444444444,
              "#bd3786"
             ],
             [
              0.5555555555555556,
              "#d8576b"
             ],
             [
              0.6666666666666666,
              "#ed7953"
             ],
             [
              0.7777777777777778,
              "#fb9f3a"
             ],
             [
              0.8888888888888888,
              "#fdca26"
             ],
             [
              1.0,
              "#f0f921"
             ]
            ],
            "type": "contour"
           }
          ],
          "heatmapgl": [
           {
            "colorbar": {
             "outlinewidth": 0,
             "ticks": ""
            },
            "colorscale": [
             [
              0.0,
              "#0d0887"
             ],
             [
              0.1111111111111111,
              "#46039f"
             ],
             [
              0.2222222222222222,
              "#7201a8"
             ],
             [
              0.3333333333333333,
              "#9c179e"
             ],
             [
              0.4444444444444444,
              "#bd3786"
             ],
             [
              0.5555555555555556,
              "#d8576b"
             ],
             [
              0.6666666666666666,
              "#ed7953"
             ],
             [
              0.7777777777777778,
              "#fb9f3a"
             ],
             [
              0.8888888888888888,
              "#fdca26"
             ],
             [
              1.0,
              "#f0f921"
             ]
            ],
            "type": "heatmapgl"
           }
          ],
          "heatmap": [
           {
            "colorbar": {
             "outlinewidth": 0,
             "ticks": ""
            },
            "colorscale": [
             [
              0.0,
              "#0d0887"
             ],
             [
              0.1111111111111111,
              "#46039f"
             ],
             [
              0.2222222222222222,
              "#7201a8"
             ],
             [
              0.3333333333333333,
              "#9c179e"
             ],
             [
              0.4444444444444444,
              "#bd3786"
             ],
             [
              0.5555555555555556,
              "#d8576b"
             ],
             [
              0.6666666666666666,
              "#ed7953"
             ],
             [
              0.7777777777777778,
              "#fb9f3a"
             ],
             [
              0.8888888888888888,
              "#fdca26"
             ],
             [
              1.0,
              "#f0f921"
             ]
            ],
            "type": "heatmap"
           }
          ],
          "histogram2dcontour": [
           {
            "colorbar": {
             "outlinewidth": 0,
             "ticks": ""
            },
            "colorscale": [
             [
              0.0,
              "#0d0887"
             ],
             [
              0.1111111111111111,
              "#46039f"
             ],
             [
              0.2222222222222222,
              "#7201a8"
             ],
             [
              0.3333333333333333,
              "#9c179e"
             ],
             [
              0.4444444444444444,
              "#bd3786"
             ],
             [
              0.5555555555555556,
              "#d8576b"
             ],
             [
              0.6666666666666666,
              "#ed7953"
             ],
             [
              0.7777777777777778,
              "#fb9f3a"
             ],
             [
              0.8888888888888888,
              "#fdca26"
             ],
             [
              1.0,
              "#f0f921"
             ]
            ],
            "type": "histogram2dcontour"
           }
          ],
          "histogram2d": [
           {
            "colorbar": {
             "outlinewidth": 0,
             "ticks": ""
            },
            "colorscale": [
             [
              0.0,
              "#0d0887"
             ],
             [
              0.1111111111111111,
              "#46039f"
             ],
             [
              0.2222222222222222,
              "#7201a8"
             ],
             [
              0.3333333333333333,
              "#9c179e"
             ],
             [
              0.4444444444444444,
              "#bd3786"
             ],
             [
              0.5555555555555556,
              "#d8576b"
             ],
             [
              0.6666666666666666,
              "#ed7953"
             ],
             [
              0.7777777777777778,
              "#fb9f3a"
             ],
             [
              0.8888888888888888,
              "#fdca26"
             ],
             [
              1.0,
              "#f0f921"
             ]
            ],
            "type": "histogram2d"
           }
          ],
          "histogram": [
           {
            "marker": {
             "pattern": {
              "fillmode": "overlay",
              "size": 10,
              "solidity": 0.2
             }
            },
            "type": "histogram"
           }
          ],
          "mesh3d": [
           {
            "colorbar": {
             "outlinewidth": 0,
             "ticks": ""
            },
            "type": "mesh3d"
           }
          ],
          "parcoords": [
           {
            "line": {
             "colorbar": {
              "outlinewidth": 0,
              "ticks": ""
             }
            },
            "type": "parcoords"
           }
          ],
          "pie": [
           {
            "automargin": true,
            "type": "pie"
           }
          ],
          "scatter3d": [
           {
            "line": {
             "colorbar": {
              "outlinewidth": 0,
              "ticks": ""
             }
            },
            "marker": {
             "colorbar": {
              "outlinewidth": 0,
              "ticks": ""
             }
            },
            "type": "scatter3d"
           }
          ],
          "scattercarpet": [
           {
            "marker": {
             "colorbar": {
              "outlinewidth": 0,
              "ticks": ""
             }
            },
            "type": "scattercarpet"
           }
          ],
          "scattergeo": [
           {
            "marker": {
             "colorbar": {
              "outlinewidth": 0,
              "ticks": ""
             }
            },
            "type": "scattergeo"
           }
          ],
          "scattergl": [
           {
            "marker": {
             "colorbar": {
              "outlinewidth": 0,
              "ticks": ""
             }
            },
            "type": "scattergl"
           }
          ],
          "scattermapbox": [
           {
            "marker": {
             "colorbar": {
              "outlinewidth": 0,
              "ticks": ""
             }
            },
            "type": "scattermapbox"
           }
          ],
          "scatterpolargl": [
           {
            "marker": {
             "colorbar": {
              "outlinewidth": 0,
              "ticks": ""
             }
            },
            "type": "scatterpolargl"
           }
          ],
          "scatterpolar": [
           {
            "marker": {
             "colorbar": {
              "outlinewidth": 0,
              "ticks": ""
             }
            },
            "type": "scatterpolar"
           }
          ],
          "scatter": [
           {
            "fillpattern": {
             "fillmode": "overlay",
             "size": 10,
             "solidity": 0.2
            },
            "type": "scatter"
           }
          ],
          "scatterternary": [
           {
            "marker": {
             "colorbar": {
              "outlinewidth": 0,
              "ticks": ""
             }
            },
            "type": "scatterternary"
           }
          ],
          "surface": [
           {
            "colorbar": {
             "outlinewidth": 0,
             "ticks": ""
            },
            "colorscale": [
             [
              0.0,
              "#0d0887"
             ],
             [
              0.1111111111111111,
              "#46039f"
             ],
             [
              0.2222222222222222,
              "#7201a8"
             ],
             [
              0.3333333333333333,
              "#9c179e"
             ],
             [
              0.4444444444444444,
              "#bd3786"
             ],
             [
              0.5555555555555556,
              "#d8576b"
             ],
             [
              0.6666666666666666,
              "#ed7953"
             ],
             [
              0.7777777777777778,
              "#fb9f3a"
             ],
             [
              0.8888888888888888,
              "#fdca26"
             ],
             [
              1.0,
              "#f0f921"
             ]
            ],
            "type": "surface"
           }
          ],
          "table": [
           {
            "cells": {
             "fill": {
              "color": "#EBF0F8"
             },
             "line": {
              "color": "white"
             }
            },
            "header": {
             "fill": {
              "color": "#C8D4E3"
             },
             "line": {
              "color": "white"
             }
            },
            "type": "table"
           }
          ]
         },
         "layout": {
          "annotationdefaults": {
           "arrowcolor": "#2a3f5f",
           "arrowhead": 0,
           "arrowwidth": 1
          },
          "autotypenumbers": "strict",
          "coloraxis": {
           "colorbar": {
            "outlinewidth": 0,
            "ticks": ""
           }
          },
          "colorscale": {
           "diverging": [
            [
             0,
             "#8e0152"
            ],
            [
             0.1,
             "#c51b7d"
            ],
            [
             0.2,
             "#de77ae"
            ],
            [
             0.3,
             "#f1b6da"
            ],
            [
             0.4,
             "#fde0ef"
            ],
            [
             0.5,
             "#f7f7f7"
            ],
            [
             0.6,
             "#e6f5d0"
            ],
            [
             0.7,
             "#b8e186"
            ],
            [
             0.8,
             "#7fbc41"
            ],
            [
             0.9,
             "#4d9221"
            ],
            [
             1,
             "#276419"
            ]
           ],
           "sequential": [
            [
             0.0,
             "#0d0887"
            ],
            [
             0.1111111111111111,
             "#46039f"
            ],
            [
             0.2222222222222222,
             "#7201a8"
            ],
            [
             0.3333333333333333,
             "#9c179e"
            ],
            [
             0.4444444444444444,
             "#bd3786"
            ],
            [
             0.5555555555555556,
             "#d8576b"
            ],
            [
             0.6666666666666666,
             "#ed7953"
            ],
            [
             0.7777777777777778,
             "#fb9f3a"
            ],
            [
             0.8888888888888888,
             "#fdca26"
            ],
            [
             1.0,
             "#f0f921"
            ]
           ],
           "sequentialminus": [
            [
             0.0,
             "#0d0887"
            ],
            [
             0.1111111111111111,
             "#46039f"
            ],
            [
             0.2222222222222222,
             "#7201a8"
            ],
            [
             0.3333333333333333,
             "#9c179e"
            ],
            [
             0.4444444444444444,
             "#bd3786"
            ],
            [
             0.5555555555555556,
             "#d8576b"
            ],
            [
             0.6666666666666666,
             "#ed7953"
            ],
            [
             0.7777777777777778,
             "#fb9f3a"
            ],
            [
             0.8888888888888888,
             "#fdca26"
            ],
            [
             1.0,
             "#f0f921"
            ]
           ]
          },
          "colorway": [
           "#636efa",
           "#EF553B",
           "#00cc96",
           "#ab63fa",
           "#FFA15A",
           "#19d3f3",
           "#FF6692",
           "#B6E880",
           "#FF97FF",
           "#FECB52"
          ],
          "font": {
           "color": "#2a3f5f"
          },
          "geo": {
           "bgcolor": "white",
           "lakecolor": "white",
           "landcolor": "white",
           "showlakes": true,
           "showland": true,
           "subunitcolor": "#C8D4E3"
          },
          "hoverlabel": {
           "align": "left"
          },
          "hovermode": "closest",
          "mapbox": {
           "style": "light"
          },
          "paper_bgcolor": "white",
          "plot_bgcolor": "white",
          "polar": {
           "angularaxis": {
            "gridcolor": "#EBF0F8",
            "linecolor": "#EBF0F8",
            "ticks": ""
           },
           "bgcolor": "white",
           "radialaxis": {
            "gridcolor": "#EBF0F8",
            "linecolor": "#EBF0F8",
            "ticks": ""
           }
          },
          "scene": {
           "xaxis": {
            "backgroundcolor": "white",
            "gridcolor": "#DFE8F3",
            "gridwidth": 2,
            "linecolor": "#EBF0F8",
            "showbackground": true,
            "ticks": "",
            "zerolinecolor": "#EBF0F8"
           },
           "yaxis": {
            "backgroundcolor": "white",
            "gridcolor": "#DFE8F3",
            "gridwidth": 2,
            "linecolor": "#EBF0F8",
            "showbackground": true,
            "ticks": "",
            "zerolinecolor": "#EBF0F8"
           },
           "zaxis": {
            "backgroundcolor": "white",
            "gridcolor": "#DFE8F3",
            "gridwidth": 2,
            "linecolor": "#EBF0F8",
            "showbackground": true,
            "ticks": "",
            "zerolinecolor": "#EBF0F8"
           }
          },
          "shapedefaults": {
           "line": {
            "color": "#2a3f5f"
           }
          },
          "ternary": {
           "aaxis": {
            "gridcolor": "#DFE8F3",
            "linecolor": "#A2B1C6",
            "ticks": ""
           },
           "baxis": {
            "gridcolor": "#DFE8F3",
            "linecolor": "#A2B1C6",
            "ticks": ""
           },
           "bgcolor": "white",
           "caxis": {
            "gridcolor": "#DFE8F3",
            "linecolor": "#A2B1C6",
            "ticks": ""
           }
          },
          "title": {
           "x": 0.05
          },
          "xaxis": {
           "automargin": true,
           "gridcolor": "#EBF0F8",
           "linecolor": "#EBF0F8",
           "ticks": "",
           "title": {
            "standoff": 15
           },
           "zerolinecolor": "#EBF0F8",
           "zerolinewidth": 2
          },
          "yaxis": {
           "automargin": true,
           "gridcolor": "#EBF0F8",
           "linecolor": "#EBF0F8",
           "ticks": "",
           "title": {
            "standoff": 15
           },
           "zerolinecolor": "#EBF0F8",
           "zerolinewidth": 2
          }
         }
        },
        "xaxis": {
         "anchor": "y",
         "domain": [
          0.0,
          1.0
         ],
         "title": {
          "text": "Calendar Date"
         }
        },
        "yaxis": {
         "anchor": "x",
         "domain": [
          0.0,
          1.0
         ],
         "title": {
          "text": "value"
         }
        },
        "legend": {
         "title": {
          "text": "variable"
         },
         "tracegroupgap": 0
        },
        "margin": {
         "t": 60
        }
       },
       "config": {
        "plotlyServerURL": "https://plot.ly"
       }
      },
      "text/html": "<div>                            <div id=\"386245ce-8bc1-4fab-aa6c-c7edea56497d\" class=\"plotly-graph-div\" style=\"height:525px; width:100%;\"></div>            <script type=\"text/javascript\">                require([\"plotly\"], function(Plotly) {                    window.PLOTLYENV=window.PLOTLYENV || {};                                    if (document.getElementById(\"386245ce-8bc1-4fab-aa6c-c7edea56497d\")) {                    Plotly.newPlot(                        \"386245ce-8bc1-4fab-aa6c-c7edea56497d\",                        [{\"hovertemplate\":\"variable=Interest on Funds Held for Clients<br>Calendar Date=%{x}<br>value=%{y}<extra></extra>\",\"legendgroup\":\"Interest on Funds Held for Clients\",\"line\":{\"color\":\"#636efa\",\"dash\":\"solid\"},\"marker\":{\"symbol\":\"circle\"},\"mode\":\"lines\",\"name\":\"Interest on Funds Held for Clients\",\"orientation\":\"v\",\"showlegend\":true,\"x\":[\"2014-06-01T00:00:00\",\"2014-07-01T00:00:00\",\"2014-08-01T00:00:00\",\"2014-09-01T00:00:00\",\"2014-10-01T00:00:00\",\"2014-11-01T00:00:00\",\"2014-12-01T00:00:00\",\"2015-01-01T00:00:00\",\"2015-02-01T00:00:00\",\"2015-03-01T00:00:00\",\"2015-04-01T00:00:00\",\"2015-05-01T00:00:00\",\"2015-06-01T00:00:00\",\"2015-07-01T00:00:00\",\"2015-08-01T00:00:00\",\"2015-09-01T00:00:00\",\"2015-10-01T00:00:00\",\"2015-11-01T00:00:00\",\"2015-12-01T00:00:00\",\"2016-01-01T00:00:00\",\"2016-02-01T00:00:00\",\"2016-03-01T00:00:00\",\"2016-04-01T00:00:00\",\"2016-05-01T00:00:00\",\"2016-06-01T00:00:00\",\"2016-07-01T00:00:00\",\"2016-08-01T00:00:00\",\"2016-09-01T00:00:00\",\"2016-10-01T00:00:00\",\"2016-11-01T00:00:00\",\"2016-12-01T00:00:00\",\"2017-01-01T00:00:00\",\"2017-02-01T00:00:00\",\"2017-03-01T00:00:00\",\"2017-04-01T00:00:00\",\"2017-05-01T00:00:00\",\"2017-06-01T00:00:00\",\"2017-07-01T00:00:00\",\"2017-08-01T00:00:00\",\"2017-09-01T00:00:00\",\"2017-10-01T00:00:00\",\"2017-11-01T00:00:00\",\"2017-12-01T00:00:00\",\"2018-01-01T00:00:00\",\"2018-02-01T00:00:00\",\"2018-03-01T00:00:00\",\"2018-04-01T00:00:00\",\"2018-05-01T00:00:00\",\"2018-06-01T00:00:00\",\"2018-07-01T00:00:00\",\"2018-08-01T00:00:00\",\"2018-09-01T00:00:00\",\"2018-10-01T00:00:00\",\"2018-11-01T00:00:00\",\"2018-12-01T00:00:00\",\"2019-01-01T00:00:00\",\"2019-02-01T00:00:00\",\"2019-03-01T00:00:00\",\"2019-04-01T00:00:00\",\"2019-05-01T00:00:00\",\"2019-06-01T00:00:00\",\"2019-07-01T00:00:00\",\"2019-08-01T00:00:00\",\"2019-09-01T00:00:00\",\"2019-10-01T00:00:00\",\"2019-11-01T00:00:00\",\"2019-12-01T00:00:00\",\"2020-01-01T00:00:00\",\"2020-02-01T00:00:00\",\"2020-03-01T00:00:00\",\"2020-04-01T00:00:00\",\"2020-05-01T00:00:00\",\"2020-06-01T00:00:00\",\"2020-07-01T00:00:00\",\"2020-08-01T00:00:00\",\"2020-09-01T00:00:00\",\"2020-10-01T00:00:00\",\"2020-11-01T00:00:00\",\"2020-12-01T00:00:00\",\"2021-01-01T00:00:00\",\"2021-02-01T00:00:00\",\"2021-03-01T00:00:00\",\"2021-04-01T00:00:00\",\"2021-05-01T00:00:00\",\"2021-06-01T00:00:00\",\"2021-07-01T00:00:00\",\"2021-08-01T00:00:00\",\"2021-09-01T00:00:00\",\"2021-10-01T00:00:00\",\"2021-11-01T00:00:00\",\"2021-12-01T00:00:00\",\"2022-01-01T00:00:00\"],\"xaxis\":\"x\",\"y\":[3308154.0,3466375.0,3434419.0,3419918.0,3472038.0,3469203.0,3550962.0,3683535.0,3509475.0,3645265.0,3627835.0,3493963.0,3481516.0,3650796.0,3658495.0,3654756.0,3762906.0,3739729.0,3936843.0,4026400.0,3915424.0,4070073.0,4307390.0,3852075.0,3944652.0,4229635.0,3805760.0,3578044.0,4008273.0,3796831.0,4439123.0,4557677.0,4235552.0,4638549.0,5177184.0,4173895.0,4470144.0,4881440.0,4357596.0,4644637.0,4722507.0,4617751.0,6502180.0,6024323.0,5577385.0,5994470.0,6791075.0,4950702.0,5633249.0,6059461.0,5467660.0,6002190.0,6084714.0,6201403.0,8257412.0,7271303.0,7426883.0,8190477.0,8500112.0,988904.0,1478660.0,2325636.0,1472227.0,841304.0,1009948.0,693495.0,1116763.0,1307164.0,838995.0,632985.0,31551.0,8118940.0,-224138.0,-270403.0,-280327.0,-291853.0,-183131.0,-532082.0,-242847.0,-304771.0,-361061.0,-297741.0,-612621.0,-402642.0,-451367.0,-386211.0,-398389.0,-517688.0,-414842.0,-462587.0,-325405.0,-311881.0],\"yaxis\":\"y\",\"type\":\"scatter\"},{\"hovertemplate\":\"variable=Interest on Funds Held for Clients - ML Predicted<br>Calendar Date=%{x}<br>value=%{y}<extra></extra>\",\"legendgroup\":\"Interest on Funds Held for Clients - ML Predicted\",\"line\":{\"color\":\"#EF553B\",\"dash\":\"solid\"},\"marker\":{\"symbol\":\"circle\"},\"mode\":\"lines\",\"name\":\"Interest on Funds Held for Clients - ML Predicted\",\"orientation\":\"v\",\"showlegend\":true,\"x\":[\"2014-06-01T00:00:00\",\"2014-07-01T00:00:00\",\"2014-08-01T00:00:00\",\"2014-09-01T00:00:00\",\"2014-10-01T00:00:00\",\"2014-11-01T00:00:00\",\"2014-12-01T00:00:00\",\"2015-01-01T00:00:00\",\"2015-02-01T00:00:00\",\"2015-03-01T00:00:00\",\"2015-04-01T00:00:00\",\"2015-05-01T00:00:00\",\"2015-06-01T00:00:00\",\"2015-07-01T00:00:00\",\"2015-08-01T00:00:00\",\"2015-09-01T00:00:00\",\"2015-10-01T00:00:00\",\"2015-11-01T00:00:00\",\"2015-12-01T00:00:00\",\"2016-01-01T00:00:00\",\"2016-02-01T00:00:00\",\"2016-03-01T00:00:00\",\"2016-04-01T00:00:00\",\"2016-05-01T00:00:00\",\"2016-06-01T00:00:00\",\"2016-07-01T00:00:00\",\"2016-08-01T00:00:00\",\"2016-09-01T00:00:00\",\"2016-10-01T00:00:00\",\"2016-11-01T00:00:00\",\"2016-12-01T00:00:00\",\"2017-01-01T00:00:00\",\"2017-02-01T00:00:00\",\"2017-03-01T00:00:00\",\"2017-04-01T00:00:00\",\"2017-05-01T00:00:00\",\"2017-06-01T00:00:00\",\"2017-07-01T00:00:00\",\"2017-08-01T00:00:00\",\"2017-09-01T00:00:00\",\"2017-10-01T00:00:00\",\"2017-11-01T00:00:00\",\"2017-12-01T00:00:00\",\"2018-01-01T00:00:00\",\"2018-02-01T00:00:00\",\"2018-03-01T00:00:00\",\"2018-04-01T00:00:00\",\"2018-05-01T00:00:00\",\"2018-06-01T00:00:00\",\"2018-07-01T00:00:00\",\"2018-08-01T00:00:00\",\"2018-09-01T00:00:00\",\"2018-10-01T00:00:00\",\"2018-11-01T00:00:00\",\"2018-12-01T00:00:00\",\"2019-01-01T00:00:00\",\"2019-02-01T00:00:00\",\"2019-03-01T00:00:00\",\"2019-04-01T00:00:00\",\"2019-05-01T00:00:00\",\"2019-06-01T00:00:00\",\"2019-07-01T00:00:00\",\"2019-08-01T00:00:00\",\"2019-09-01T00:00:00\",\"2019-10-01T00:00:00\",\"2019-11-01T00:00:00\",\"2019-12-01T00:00:00\",\"2020-01-01T00:00:00\",\"2020-02-01T00:00:00\",\"2020-03-01T00:00:00\",\"2020-04-01T00:00:00\",\"2020-05-01T00:00:00\",\"2020-06-01T00:00:00\",\"2020-07-01T00:00:00\",\"2020-08-01T00:00:00\",\"2020-09-01T00:00:00\",\"2020-10-01T00:00:00\",\"2020-11-01T00:00:00\",\"2020-12-01T00:00:00\",\"2021-01-01T00:00:00\",\"2021-02-01T00:00:00\",\"2021-03-01T00:00:00\",\"2021-04-01T00:00:00\",\"2021-05-01T00:00:00\",\"2021-06-01T00:00:00\",\"2021-07-01T00:00:00\",\"2021-08-01T00:00:00\",\"2021-09-01T00:00:00\",\"2021-10-01T00:00:00\",\"2021-11-01T00:00:00\",\"2021-12-01T00:00:00\",\"2022-01-01T00:00:00\"],\"xaxis\":\"x\",\"y\":[null,null,null,null,null,null,null,null,null,null,null,null,null,null,null,null,null,null,null,null,null,null,null,null,null,null,null,null,null,null,null,null,null,null,null,null,null,null,null,null,null,null,null,null,null,null,null,null,null,null,null,null,null,null,null,null,null,null,null,null,null,null,null,null,null,null,null,null,null,null,null,null,null,null,null,null,null,null,null,null,null,null,null,null,8838784.750832887,8533175.725972233,8225735.241706962,8291251.074695423,8413609.923286846,8583186.171443949,8568823.239452356,8383558.206507774],\"yaxis\":\"y\",\"type\":\"scatter\"},{\"hovertemplate\":\"variable=Interest on Funds Held for Clients - UTS Predicted<br>Calendar Date=%{x}<br>value=%{y}<extra></extra>\",\"legendgroup\":\"Interest on Funds Held for Clients - UTS Predicted\",\"line\":{\"color\":\"#00cc96\",\"dash\":\"solid\"},\"marker\":{\"symbol\":\"circle\"},\"mode\":\"lines\",\"name\":\"Interest on Funds Held for Clients - UTS Predicted\",\"orientation\":\"v\",\"showlegend\":true,\"x\":[\"2014-06-01T00:00:00\",\"2014-07-01T00:00:00\",\"2014-08-01T00:00:00\",\"2014-09-01T00:00:00\",\"2014-10-01T00:00:00\",\"2014-11-01T00:00:00\",\"2014-12-01T00:00:00\",\"2015-01-01T00:00:00\",\"2015-02-01T00:00:00\",\"2015-03-01T00:00:00\",\"2015-04-01T00:00:00\",\"2015-05-01T00:00:00\",\"2015-06-01T00:00:00\",\"2015-07-01T00:00:00\",\"2015-08-01T00:00:00\",\"2015-09-01T00:00:00\",\"2015-10-01T00:00:00\",\"2015-11-01T00:00:00\",\"2015-12-01T00:00:00\",\"2016-01-01T00:00:00\",\"2016-02-01T00:00:00\",\"2016-03-01T00:00:00\",\"2016-04-01T00:00:00\",\"2016-05-01T00:00:00\",\"2016-06-01T00:00:00\",\"2016-07-01T00:00:00\",\"2016-08-01T00:00:00\",\"2016-09-01T00:00:00\",\"2016-10-01T00:00:00\",\"2016-11-01T00:00:00\",\"2016-12-01T00:00:00\",\"2017-01-01T00:00:00\",\"2017-02-01T00:00:00\",\"2017-03-01T00:00:00\",\"2017-04-01T00:00:00\",\"2017-05-01T00:00:00\",\"2017-06-01T00:00:00\",\"2017-07-01T00:00:00\",\"2017-08-01T00:00:00\",\"2017-09-01T00:00:00\",\"2017-10-01T00:00:00\",\"2017-11-01T00:00:00\",\"2017-12-01T00:00:00\",\"2018-01-01T00:00:00\",\"2018-02-01T00:00:00\",\"2018-03-01T00:00:00\",\"2018-04-01T00:00:00\",\"2018-05-01T00:00:00\",\"2018-06-01T00:00:00\",\"2018-07-01T00:00:00\",\"2018-08-01T00:00:00\",\"2018-09-01T00:00:00\",\"2018-10-01T00:00:00\",\"2018-11-01T00:00:00\",\"2018-12-01T00:00:00\",\"2019-01-01T00:00:00\",\"2019-02-01T00:00:00\",\"2019-03-01T00:00:00\",\"2019-04-01T00:00:00\",\"2019-05-01T00:00:00\",\"2019-06-01T00:00:00\",\"2019-07-01T00:00:00\",\"2019-08-01T00:00:00\",\"2019-09-01T00:00:00\",\"2019-10-01T00:00:00\",\"2019-11-01T00:00:00\",\"2019-12-01T00:00:00\",\"2020-01-01T00:00:00\",\"2020-02-01T00:00:00\",\"2020-03-01T00:00:00\",\"2020-04-01T00:00:00\",\"2020-05-01T00:00:00\",\"2020-06-01T00:00:00\",\"2020-07-01T00:00:00\",\"2020-08-01T00:00:00\",\"2020-09-01T00:00:00\",\"2020-10-01T00:00:00\",\"2020-11-01T00:00:00\",\"2020-12-01T00:00:00\",\"2021-01-01T00:00:00\",\"2021-02-01T00:00:00\",\"2021-03-01T00:00:00\",\"2021-04-01T00:00:00\",\"2021-05-01T00:00:00\",\"2021-06-01T00:00:00\",\"2021-07-01T00:00:00\",\"2021-08-01T00:00:00\",\"2021-09-01T00:00:00\",\"2021-10-01T00:00:00\",\"2021-11-01T00:00:00\",\"2021-12-01T00:00:00\",\"2022-01-01T00:00:00\"],\"xaxis\":\"x\",\"y\":[null,null,null,null,null,null,null,null,null,null,null,null,null,null,null,null,null,null,null,null,null,null,null,null,null,null,null,null,null,null,null,null,null,null,null,null,null,null,null,null,null,null,null,null,null,null,null,null,null,null,null,null,null,null,null,null,null,null,null,null,null,null,null,null,null,null,null,null,null,null,null,null,null,null,null,null,null,null,null,null,null,null,null,null,-2347882.9818441942,-2033447.1250376054,-2398601.368731234,-2446003.615201634,-2314003.200024579,-2502410.7472298183,-1748758.5888618233,-1905914.6242733635],\"yaxis\":\"y\",\"type\":\"scatter\"},{\"hovertemplate\":\"variable=Interest on Funds Held for Clients - Plan<br>Calendar Date=%{x}<br>value=%{y}<extra></extra>\",\"legendgroup\":\"Interest on Funds Held for Clients - Plan\",\"line\":{\"color\":\"#ab63fa\",\"dash\":\"solid\"},\"marker\":{\"symbol\":\"circle\"},\"mode\":\"lines\",\"name\":\"Interest on Funds Held for Clients - Plan\",\"orientation\":\"v\",\"showlegend\":true,\"x\":[\"2014-06-01T00:00:00\",\"2014-07-01T00:00:00\",\"2014-08-01T00:00:00\",\"2014-09-01T00:00:00\",\"2014-10-01T00:00:00\",\"2014-11-01T00:00:00\",\"2014-12-01T00:00:00\",\"2015-01-01T00:00:00\",\"2015-02-01T00:00:00\",\"2015-03-01T00:00:00\",\"2015-04-01T00:00:00\",\"2015-05-01T00:00:00\",\"2015-06-01T00:00:00\",\"2015-07-01T00:00:00\",\"2015-08-01T00:00:00\",\"2015-09-01T00:00:00\",\"2015-10-01T00:00:00\",\"2015-11-01T00:00:00\",\"2015-12-01T00:00:00\",\"2016-01-01T00:00:00\",\"2016-02-01T00:00:00\",\"2016-03-01T00:00:00\",\"2016-04-01T00:00:00\",\"2016-05-01T00:00:00\",\"2016-06-01T00:00:00\",\"2016-07-01T00:00:00\",\"2016-08-01T00:00:00\",\"2016-09-01T00:00:00\",\"2016-10-01T00:00:00\",\"2016-11-01T00:00:00\",\"2016-12-01T00:00:00\",\"2017-01-01T00:00:00\",\"2017-02-01T00:00:00\",\"2017-03-01T00:00:00\",\"2017-04-01T00:00:00\",\"2017-05-01T00:00:00\",\"2017-06-01T00:00:00\",\"2017-07-01T00:00:00\",\"2017-08-01T00:00:00\",\"2017-09-01T00:00:00\",\"2017-10-01T00:00:00\",\"2017-11-01T00:00:00\",\"2017-12-01T00:00:00\",\"2018-01-01T00:00:00\",\"2018-02-01T00:00:00\",\"2018-03-01T00:00:00\",\"2018-04-01T00:00:00\",\"2018-05-01T00:00:00\",\"2018-06-01T00:00:00\",\"2018-07-01T00:00:00\",\"2018-08-01T00:00:00\",\"2018-09-01T00:00:00\",\"2018-10-01T00:00:00\",\"2018-11-01T00:00:00\",\"2018-12-01T00:00:00\",\"2019-01-01T00:00:00\",\"2019-02-01T00:00:00\",\"2019-03-01T00:00:00\",\"2019-04-01T00:00:00\",\"2019-05-01T00:00:00\",\"2019-06-01T00:00:00\",\"2019-07-01T00:00:00\",\"2019-08-01T00:00:00\",\"2019-09-01T00:00:00\",\"2019-10-01T00:00:00\",\"2019-11-01T00:00:00\",\"2019-12-01T00:00:00\",\"2020-01-01T00:00:00\",\"2020-02-01T00:00:00\",\"2020-03-01T00:00:00\",\"2020-04-01T00:00:00\",\"2020-05-01T00:00:00\",\"2020-06-01T00:00:00\",\"2020-07-01T00:00:00\",\"2020-08-01T00:00:00\",\"2020-09-01T00:00:00\",\"2020-10-01T00:00:00\",\"2020-11-01T00:00:00\",\"2020-12-01T00:00:00\",\"2021-01-01T00:00:00\",\"2021-02-01T00:00:00\",\"2021-03-01T00:00:00\",\"2021-04-01T00:00:00\",\"2021-05-01T00:00:00\",\"2021-06-01T00:00:00\",\"2021-07-01T00:00:00\",\"2021-08-01T00:00:00\",\"2021-09-01T00:00:00\",\"2021-10-01T00:00:00\",\"2021-11-01T00:00:00\",\"2021-12-01T00:00:00\",\"2022-01-01T00:00:00\"],\"xaxis\":\"x\",\"y\":[null,null,null,null,null,null,null,null,null,null,null,null,null,null,null,null,null,null,null,null,null,null,null,null,null,null,null,null,null,null,null,null,null,null,null,null,null,null,null,null,null,null,null,null,null,null,null,null,null,null,null,null,null,null,null,null,null,null,null,null,null,null,null,null,null,null,null,null,null,null,null,null,null,null,null,null,null,null,null,null,null,null,null,null,4687137.0,4727006.0,5402709.0,4636944.0,4684411.0,5397348.0,4840579.0,4756334.0],\"yaxis\":\"y\",\"type\":\"scatter\"},{\"hovertemplate\":\"variable=Interest on Funds Held for Clients - 2+10 Forecast<br>Calendar Date=%{x}<br>value=%{y}<extra></extra>\",\"legendgroup\":\"Interest on Funds Held for Clients - 2+10 Forecast\",\"line\":{\"color\":\"#FFA15A\",\"dash\":\"solid\"},\"marker\":{\"symbol\":\"circle\"},\"mode\":\"lines\",\"name\":\"Interest on Funds Held for Clients - 2+10 Forecast\",\"orientation\":\"v\",\"showlegend\":true,\"x\":[\"2014-06-01T00:00:00\",\"2014-07-01T00:00:00\",\"2014-08-01T00:00:00\",\"2014-09-01T00:00:00\",\"2014-10-01T00:00:00\",\"2014-11-01T00:00:00\",\"2014-12-01T00:00:00\",\"2015-01-01T00:00:00\",\"2015-02-01T00:00:00\",\"2015-03-01T00:00:00\",\"2015-04-01T00:00:00\",\"2015-05-01T00:00:00\",\"2015-06-01T00:00:00\",\"2015-07-01T00:00:00\",\"2015-08-01T00:00:00\",\"2015-09-01T00:00:00\",\"2015-10-01T00:00:00\",\"2015-11-01T00:00:00\",\"2015-12-01T00:00:00\",\"2016-01-01T00:00:00\",\"2016-02-01T00:00:00\",\"2016-03-01T00:00:00\",\"2016-04-01T00:00:00\",\"2016-05-01T00:00:00\",\"2016-06-01T00:00:00\",\"2016-07-01T00:00:00\",\"2016-08-01T00:00:00\",\"2016-09-01T00:00:00\",\"2016-10-01T00:00:00\",\"2016-11-01T00:00:00\",\"2016-12-01T00:00:00\",\"2017-01-01T00:00:00\",\"2017-02-01T00:00:00\",\"2017-03-01T00:00:00\",\"2017-04-01T00:00:00\",\"2017-05-01T00:00:00\",\"2017-06-01T00:00:00\",\"2017-07-01T00:00:00\",\"2017-08-01T00:00:00\",\"2017-09-01T00:00:00\",\"2017-10-01T00:00:00\",\"2017-11-01T00:00:00\",\"2017-12-01T00:00:00\",\"2018-01-01T00:00:00\",\"2018-02-01T00:00:00\",\"2018-03-01T00:00:00\",\"2018-04-01T00:00:00\",\"2018-05-01T00:00:00\",\"2018-06-01T00:00:00\",\"2018-07-01T00:00:00\",\"2018-08-01T00:00:00\",\"2018-09-01T00:00:00\",\"2018-10-01T00:00:00\",\"2018-11-01T00:00:00\",\"2018-12-01T00:00:00\",\"2019-01-01T00:00:00\",\"2019-02-01T00:00:00\",\"2019-03-01T00:00:00\",\"2019-04-01T00:00:00\",\"2019-05-01T00:00:00\",\"2019-06-01T00:00:00\",\"2019-07-01T00:00:00\",\"2019-08-01T00:00:00\",\"2019-09-01T00:00:00\",\"2019-10-01T00:00:00\",\"2019-11-01T00:00:00\",\"2019-12-01T00:00:00\",\"2020-01-01T00:00:00\",\"2020-02-01T00:00:00\",\"2020-03-01T00:00:00\",\"2020-04-01T00:00:00\",\"2020-05-01T00:00:00\",\"2020-06-01T00:00:00\",\"2020-07-01T00:00:00\",\"2020-08-01T00:00:00\",\"2020-09-01T00:00:00\",\"2020-10-01T00:00:00\",\"2020-11-01T00:00:00\",\"2020-12-01T00:00:00\",\"2021-01-01T00:00:00\",\"2021-02-01T00:00:00\",\"2021-03-01T00:00:00\",\"2021-04-01T00:00:00\",\"2021-05-01T00:00:00\",\"2021-06-01T00:00:00\",\"2021-07-01T00:00:00\",\"2021-08-01T00:00:00\",\"2021-09-01T00:00:00\",\"2021-10-01T00:00:00\",\"2021-11-01T00:00:00\",\"2021-12-01T00:00:00\",\"2022-01-01T00:00:00\"],\"xaxis\":\"x\",\"y\":[null,null,null,null,null,null,null,null,null,null,null,null,null,null,null,null,null,null,null,null,null,null,null,null,null,null,null,null,null,null,null,null,null,null,null,null,null,null,null,null,null,null,null,null,null,null,null,null,null,null,null,null,null,null,null,null,null,null,null,null,null,null,null,null,null,null,null,null,null,null,null,null,null,null,null,null,null,null,null,null,null,null,null,null,-451367.0,-386211.0,4648749.0,4637734.0,4686972.0,4644354.0,4846830.0,4760590.0],\"yaxis\":\"y\",\"type\":\"scatter\"}],                        {\"template\":{\"data\":{\"barpolar\":[{\"marker\":{\"line\":{\"color\":\"white\",\"width\":0.5},\"pattern\":{\"fillmode\":\"overlay\",\"size\":10,\"solidity\":0.2}},\"type\":\"barpolar\"}],\"bar\":[{\"error_x\":{\"color\":\"#2a3f5f\"},\"error_y\":{\"color\":\"#2a3f5f\"},\"marker\":{\"line\":{\"color\":\"white\",\"width\":0.5},\"pattern\":{\"fillmode\":\"overlay\",\"size\":10,\"solidity\":0.2}},\"type\":\"bar\"}],\"carpet\":[{\"aaxis\":{\"endlinecolor\":\"#2a3f5f\",\"gridcolor\":\"#C8D4E3\",\"linecolor\":\"#C8D4E3\",\"minorgridcolor\":\"#C8D4E3\",\"startlinecolor\":\"#2a3f5f\"},\"baxis\":{\"endlinecolor\":\"#2a3f5f\",\"gridcolor\":\"#C8D4E3\",\"linecolor\":\"#C8D4E3\",\"minorgridcolor\":\"#C8D4E3\",\"startlinecolor\":\"#2a3f5f\"},\"type\":\"carpet\"}],\"choropleth\":[{\"colorbar\":{\"outlinewidth\":0,\"ticks\":\"\"},\"type\":\"choropleth\"}],\"contourcarpet\":[{\"colorbar\":{\"outlinewidth\":0,\"ticks\":\"\"},\"type\":\"contourcarpet\"}],\"contour\":[{\"colorbar\":{\"outlinewidth\":0,\"ticks\":\"\"},\"colorscale\":[[0.0,\"#0d0887\"],[0.1111111111111111,\"#46039f\"],[0.2222222222222222,\"#7201a8\"],[0.3333333333333333,\"#9c179e\"],[0.4444444444444444,\"#bd3786\"],[0.5555555555555556,\"#d8576b\"],[0.6666666666666666,\"#ed7953\"],[0.7777777777777778,\"#fb9f3a\"],[0.8888888888888888,\"#fdca26\"],[1.0,\"#f0f921\"]],\"type\":\"contour\"}],\"heatmapgl\":[{\"colorbar\":{\"outlinewidth\":0,\"ticks\":\"\"},\"colorscale\":[[0.0,\"#0d0887\"],[0.1111111111111111,\"#46039f\"],[0.2222222222222222,\"#7201a8\"],[0.3333333333333333,\"#9c179e\"],[0.4444444444444444,\"#bd3786\"],[0.5555555555555556,\"#d8576b\"],[0.6666666666666666,\"#ed7953\"],[0.7777777777777778,\"#fb9f3a\"],[0.8888888888888888,\"#fdca26\"],[1.0,\"#f0f921\"]],\"type\":\"heatmapgl\"}],\"heatmap\":[{\"colorbar\":{\"outlinewidth\":0,\"ticks\":\"\"},\"colorscale\":[[0.0,\"#0d0887\"],[0.1111111111111111,\"#46039f\"],[0.2222222222222222,\"#7201a8\"],[0.3333333333333333,\"#9c179e\"],[0.4444444444444444,\"#bd3786\"],[0.5555555555555556,\"#d8576b\"],[0.6666666666666666,\"#ed7953\"],[0.7777777777777778,\"#fb9f3a\"],[0.8888888888888888,\"#fdca26\"],[1.0,\"#f0f921\"]],\"type\":\"heatmap\"}],\"histogram2dcontour\":[{\"colorbar\":{\"outlinewidth\":0,\"ticks\":\"\"},\"colorscale\":[[0.0,\"#0d0887\"],[0.1111111111111111,\"#46039f\"],[0.2222222222222222,\"#7201a8\"],[0.3333333333333333,\"#9c179e\"],[0.4444444444444444,\"#bd3786\"],[0.5555555555555556,\"#d8576b\"],[0.6666666666666666,\"#ed7953\"],[0.7777777777777778,\"#fb9f3a\"],[0.8888888888888888,\"#fdca26\"],[1.0,\"#f0f921\"]],\"type\":\"histogram2dcontour\"}],\"histogram2d\":[{\"colorbar\":{\"outlinewidth\":0,\"ticks\":\"\"},\"colorscale\":[[0.0,\"#0d0887\"],[0.1111111111111111,\"#46039f\"],[0.2222222222222222,\"#7201a8\"],[0.3333333333333333,\"#9c179e\"],[0.4444444444444444,\"#bd3786\"],[0.5555555555555556,\"#d8576b\"],[0.6666666666666666,\"#ed7953\"],[0.7777777777777778,\"#fb9f3a\"],[0.8888888888888888,\"#fdca26\"],[1.0,\"#f0f921\"]],\"type\":\"histogram2d\"}],\"histogram\":[{\"marker\":{\"pattern\":{\"fillmode\":\"overlay\",\"size\":10,\"solidity\":0.2}},\"type\":\"histogram\"}],\"mesh3d\":[{\"colorbar\":{\"outlinewidth\":0,\"ticks\":\"\"},\"type\":\"mesh3d\"}],\"parcoords\":[{\"line\":{\"colorbar\":{\"outlinewidth\":0,\"ticks\":\"\"}},\"type\":\"parcoords\"}],\"pie\":[{\"automargin\":true,\"type\":\"pie\"}],\"scatter3d\":[{\"line\":{\"colorbar\":{\"outlinewidth\":0,\"ticks\":\"\"}},\"marker\":{\"colorbar\":{\"outlinewidth\":0,\"ticks\":\"\"}},\"type\":\"scatter3d\"}],\"scattercarpet\":[{\"marker\":{\"colorbar\":{\"outlinewidth\":0,\"ticks\":\"\"}},\"type\":\"scattercarpet\"}],\"scattergeo\":[{\"marker\":{\"colorbar\":{\"outlinewidth\":0,\"ticks\":\"\"}},\"type\":\"scattergeo\"}],\"scattergl\":[{\"marker\":{\"colorbar\":{\"outlinewidth\":0,\"ticks\":\"\"}},\"type\":\"scattergl\"}],\"scattermapbox\":[{\"marker\":{\"colorbar\":{\"outlinewidth\":0,\"ticks\":\"\"}},\"type\":\"scattermapbox\"}],\"scatterpolargl\":[{\"marker\":{\"colorbar\":{\"outlinewidth\":0,\"ticks\":\"\"}},\"type\":\"scatterpolargl\"}],\"scatterpolar\":[{\"marker\":{\"colorbar\":{\"outlinewidth\":0,\"ticks\":\"\"}},\"type\":\"scatterpolar\"}],\"scatter\":[{\"fillpattern\":{\"fillmode\":\"overlay\",\"size\":10,\"solidity\":0.2},\"type\":\"scatter\"}],\"scatterternary\":[{\"marker\":{\"colorbar\":{\"outlinewidth\":0,\"ticks\":\"\"}},\"type\":\"scatterternary\"}],\"surface\":[{\"colorbar\":{\"outlinewidth\":0,\"ticks\":\"\"},\"colorscale\":[[0.0,\"#0d0887\"],[0.1111111111111111,\"#46039f\"],[0.2222222222222222,\"#7201a8\"],[0.3333333333333333,\"#9c179e\"],[0.4444444444444444,\"#bd3786\"],[0.5555555555555556,\"#d8576b\"],[0.6666666666666666,\"#ed7953\"],[0.7777777777777778,\"#fb9f3a\"],[0.8888888888888888,\"#fdca26\"],[1.0,\"#f0f921\"]],\"type\":\"surface\"}],\"table\":[{\"cells\":{\"fill\":{\"color\":\"#EBF0F8\"},\"line\":{\"color\":\"white\"}},\"header\":{\"fill\":{\"color\":\"#C8D4E3\"},\"line\":{\"color\":\"white\"}},\"type\":\"table\"}]},\"layout\":{\"annotationdefaults\":{\"arrowcolor\":\"#2a3f5f\",\"arrowhead\":0,\"arrowwidth\":1},\"autotypenumbers\":\"strict\",\"coloraxis\":{\"colorbar\":{\"outlinewidth\":0,\"ticks\":\"\"}},\"colorscale\":{\"diverging\":[[0,\"#8e0152\"],[0.1,\"#c51b7d\"],[0.2,\"#de77ae\"],[0.3,\"#f1b6da\"],[0.4,\"#fde0ef\"],[0.5,\"#f7f7f7\"],[0.6,\"#e6f5d0\"],[0.7,\"#b8e186\"],[0.8,\"#7fbc41\"],[0.9,\"#4d9221\"],[1,\"#276419\"]],\"sequential\":[[0.0,\"#0d0887\"],[0.1111111111111111,\"#46039f\"],[0.2222222222222222,\"#7201a8\"],[0.3333333333333333,\"#9c179e\"],[0.4444444444444444,\"#bd3786\"],[0.5555555555555556,\"#d8576b\"],[0.6666666666666666,\"#ed7953\"],[0.7777777777777778,\"#fb9f3a\"],[0.8888888888888888,\"#fdca26\"],[1.0,\"#f0f921\"]],\"sequentialminus\":[[0.0,\"#0d0887\"],[0.1111111111111111,\"#46039f\"],[0.2222222222222222,\"#7201a8\"],[0.3333333333333333,\"#9c179e\"],[0.4444444444444444,\"#bd3786\"],[0.5555555555555556,\"#d8576b\"],[0.6666666666666666,\"#ed7953\"],[0.7777777777777778,\"#fb9f3a\"],[0.8888888888888888,\"#fdca26\"],[1.0,\"#f0f921\"]]},\"colorway\":[\"#636efa\",\"#EF553B\",\"#00cc96\",\"#ab63fa\",\"#FFA15A\",\"#19d3f3\",\"#FF6692\",\"#B6E880\",\"#FF97FF\",\"#FECB52\"],\"font\":{\"color\":\"#2a3f5f\"},\"geo\":{\"bgcolor\":\"white\",\"lakecolor\":\"white\",\"landcolor\":\"white\",\"showlakes\":true,\"showland\":true,\"subunitcolor\":\"#C8D4E3\"},\"hoverlabel\":{\"align\":\"left\"},\"hovermode\":\"closest\",\"mapbox\":{\"style\":\"light\"},\"paper_bgcolor\":\"white\",\"plot_bgcolor\":\"white\",\"polar\":{\"angularaxis\":{\"gridcolor\":\"#EBF0F8\",\"linecolor\":\"#EBF0F8\",\"ticks\":\"\"},\"bgcolor\":\"white\",\"radialaxis\":{\"gridcolor\":\"#EBF0F8\",\"linecolor\":\"#EBF0F8\",\"ticks\":\"\"}},\"scene\":{\"xaxis\":{\"backgroundcolor\":\"white\",\"gridcolor\":\"#DFE8F3\",\"gridwidth\":2,\"linecolor\":\"#EBF0F8\",\"showbackground\":true,\"ticks\":\"\",\"zerolinecolor\":\"#EBF0F8\"},\"yaxis\":{\"backgroundcolor\":\"white\",\"gridcolor\":\"#DFE8F3\",\"gridwidth\":2,\"linecolor\":\"#EBF0F8\",\"showbackground\":true,\"ticks\":\"\",\"zerolinecolor\":\"#EBF0F8\"},\"zaxis\":{\"backgroundcolor\":\"white\",\"gridcolor\":\"#DFE8F3\",\"gridwidth\":2,\"linecolor\":\"#EBF0F8\",\"showbackground\":true,\"ticks\":\"\",\"zerolinecolor\":\"#EBF0F8\"}},\"shapedefaults\":{\"line\":{\"color\":\"#2a3f5f\"}},\"ternary\":{\"aaxis\":{\"gridcolor\":\"#DFE8F3\",\"linecolor\":\"#A2B1C6\",\"ticks\":\"\"},\"baxis\":{\"gridcolor\":\"#DFE8F3\",\"linecolor\":\"#A2B1C6\",\"ticks\":\"\"},\"bgcolor\":\"white\",\"caxis\":{\"gridcolor\":\"#DFE8F3\",\"linecolor\":\"#A2B1C6\",\"ticks\":\"\"}},\"title\":{\"x\":0.05},\"xaxis\":{\"automargin\":true,\"gridcolor\":\"#EBF0F8\",\"linecolor\":\"#EBF0F8\",\"ticks\":\"\",\"title\":{\"standoff\":15},\"zerolinecolor\":\"#EBF0F8\",\"zerolinewidth\":2},\"yaxis\":{\"automargin\":true,\"gridcolor\":\"#EBF0F8\",\"linecolor\":\"#EBF0F8\",\"ticks\":\"\",\"title\":{\"standoff\":15},\"zerolinecolor\":\"#EBF0F8\",\"zerolinewidth\":2}}},\"xaxis\":{\"anchor\":\"y\",\"domain\":[0.0,1.0],\"title\":{\"text\":\"Calendar Date\"}},\"yaxis\":{\"anchor\":\"x\",\"domain\":[0.0,1.0],\"title\":{\"text\":\"value\"}},\"legend\":{\"title\":{\"text\":\"variable\"},\"tracegroupgap\":0},\"margin\":{\"t\":60}},                        {\"responsive\": true}                    ).then(function(){\n                            \nvar gd = document.getElementById('386245ce-8bc1-4fab-aa6c-c7edea56497d');\nvar x = new MutationObserver(function (mutations, observer) {{\n        var display = window.getComputedStyle(gd).display;\n        if (!display || display === 'none') {{\n            console.log([gd, 'removed!']);\n            Plotly.purge(gd);\n            observer.disconnect();\n        }}\n}});\n\n// Listen for the removal of the full notebook cells\nvar notebookContainer = gd.closest('#notebook-container');\nif (notebookContainer) {{\n    x.observe(notebookContainer, {childList: true});\n}}\n\n// Listen for the clearing of the current output cell\nvar outputEl = gd.closest('.output');\nif (outputEl) {{\n    x.observe(outputEl, {childList: true});\n}}\n\n                        })                };                });            </script>        </div>"
     },
     "metadata": {},
     "output_type": "display_data"
    }
   ],
   "source": [
    "# show plot\n",
    "fig = px.line(concat_df, x='Calendar Date', y=[target_col, ml_col, uts_col, plan_col, fcst_col], template='plotly_white')\n",
    "fig.show()"
   ],
   "metadata": {
    "collapsed": false,
    "pycharm": {
     "name": "#%%\n"
    }
   }
  },
  {
   "cell_type": "code",
   "execution_count": 108,
   "outputs": [
    {
     "data": {
      "text/plain": "  Calendar Date  Interest on Funds Held for Clients  \\\n0    2021-06-01                           -451367.0   \n1    2021-07-01                           -386211.0   \n2    2021-08-01                           -398389.0   \n3    2021-09-01                           -517688.0   \n4    2021-10-01                           -414842.0   \n5    2021-11-01                           -462587.0   \n6    2021-12-01                           -325405.0   \n7    2022-01-01                           -311881.0   \n\n   Interest on Funds Held for Clients - ML Predicted  \\\n0                                       8.838785e+06   \n1                                       8.533176e+06   \n2                                       8.225735e+06   \n3                                       8.291251e+06   \n4                                       8.413610e+06   \n5                                       8.583186e+06   \n6                                       8.568823e+06   \n7                                       8.383558e+06   \n\n   Interest on Funds Held for Clients - Plan  \\\n0                                  4687137.0   \n1                                  4727006.0   \n2                                  5402709.0   \n3                                  4636944.0   \n4                                  4684411.0   \n5                                  5397348.0   \n6                                  4840579.0   \n7                                  4756334.0   \n\n   Interest on Funds Held for Clients - 2+10 Forecast  \\\n0                                          -451367.0    \n1                                          -386211.0    \n2                                          4648749.0    \n3                                          4637734.0    \n4                                          4686972.0    \n5                                          4644354.0    \n6                                          4846830.0    \n7                                          4760590.0    \n\n   Interest on Funds Held for Clients - UTS Predicted  \\\n0                                      -2.347883e+06    \n1                                      -2.033447e+06    \n2                                      -2.398601e+06    \n3                                      -2.446004e+06    \n4                                      -2.314003e+06    \n5                                      -2.502411e+06    \n6                                      -1.748759e+06    \n7                                      -1.905915e+06    \n\n   Interest on Funds Held for Clients_lower_ci  \\\n0                                -6.770667e+06   \n1                                -6.937266e+06   \n2                                -7.740311e+06   \n3                                -8.192332e+06   \n4                                -8.438276e+06   \n5                                -8.982622e+06   \n6                                -8.566351e+06   \n7                                -9.044961e+06   \n\n   Interest on Funds Held for Clients_upper_ci  \n0                                 2.074901e+06  \n1                                 2.870372e+06  \n2                                 2.943108e+06  \n3                                 3.300325e+06  \n4                                 3.810269e+06  \n5                                 3.977800e+06  \n6                                 5.068833e+06  \n7                                 5.233132e+06  ",
      "text/html": "<div>\n<style scoped>\n    .dataframe tbody tr th:only-of-type {\n        vertical-align: middle;\n    }\n\n    .dataframe tbody tr th {\n        vertical-align: top;\n    }\n\n    .dataframe thead th {\n        text-align: right;\n    }\n</style>\n<table border=\"1\" class=\"dataframe\">\n  <thead>\n    <tr style=\"text-align: right;\">\n      <th></th>\n      <th>Calendar Date</th>\n      <th>Interest on Funds Held for Clients</th>\n      <th>Interest on Funds Held for Clients - ML Predicted</th>\n      <th>Interest on Funds Held for Clients - Plan</th>\n      <th>Interest on Funds Held for Clients - 2+10 Forecast</th>\n      <th>Interest on Funds Held for Clients - UTS Predicted</th>\n      <th>Interest on Funds Held for Clients_lower_ci</th>\n      <th>Interest on Funds Held for Clients_upper_ci</th>\n    </tr>\n  </thead>\n  <tbody>\n    <tr>\n      <th>0</th>\n      <td>2021-06-01</td>\n      <td>-451367.0</td>\n      <td>8.838785e+06</td>\n      <td>4687137.0</td>\n      <td>-451367.0</td>\n      <td>-2.347883e+06</td>\n      <td>-6.770667e+06</td>\n      <td>2.074901e+06</td>\n    </tr>\n    <tr>\n      <th>1</th>\n      <td>2021-07-01</td>\n      <td>-386211.0</td>\n      <td>8.533176e+06</td>\n      <td>4727006.0</td>\n      <td>-386211.0</td>\n      <td>-2.033447e+06</td>\n      <td>-6.937266e+06</td>\n      <td>2.870372e+06</td>\n    </tr>\n    <tr>\n      <th>2</th>\n      <td>2021-08-01</td>\n      <td>-398389.0</td>\n      <td>8.225735e+06</td>\n      <td>5402709.0</td>\n      <td>4648749.0</td>\n      <td>-2.398601e+06</td>\n      <td>-7.740311e+06</td>\n      <td>2.943108e+06</td>\n    </tr>\n    <tr>\n      <th>3</th>\n      <td>2021-09-01</td>\n      <td>-517688.0</td>\n      <td>8.291251e+06</td>\n      <td>4636944.0</td>\n      <td>4637734.0</td>\n      <td>-2.446004e+06</td>\n      <td>-8.192332e+06</td>\n      <td>3.300325e+06</td>\n    </tr>\n    <tr>\n      <th>4</th>\n      <td>2021-10-01</td>\n      <td>-414842.0</td>\n      <td>8.413610e+06</td>\n      <td>4684411.0</td>\n      <td>4686972.0</td>\n      <td>-2.314003e+06</td>\n      <td>-8.438276e+06</td>\n      <td>3.810269e+06</td>\n    </tr>\n    <tr>\n      <th>5</th>\n      <td>2021-11-01</td>\n      <td>-462587.0</td>\n      <td>8.583186e+06</td>\n      <td>5397348.0</td>\n      <td>4644354.0</td>\n      <td>-2.502411e+06</td>\n      <td>-8.982622e+06</td>\n      <td>3.977800e+06</td>\n    </tr>\n    <tr>\n      <th>6</th>\n      <td>2021-12-01</td>\n      <td>-325405.0</td>\n      <td>8.568823e+06</td>\n      <td>4840579.0</td>\n      <td>4846830.0</td>\n      <td>-1.748759e+06</td>\n      <td>-8.566351e+06</td>\n      <td>5.068833e+06</td>\n    </tr>\n    <tr>\n      <th>7</th>\n      <td>2022-01-01</td>\n      <td>-311881.0</td>\n      <td>8.383558e+06</td>\n      <td>4756334.0</td>\n      <td>4760590.0</td>\n      <td>-1.905915e+06</td>\n      <td>-9.044961e+06</td>\n      <td>5.233132e+06</td>\n    </tr>\n  </tbody>\n</table>\n</div>"
     },
     "execution_count": 108,
     "metadata": {},
     "output_type": "execute_result"
    }
   ],
   "source": [
    "concat_df[concat_df['Calendar Date'] >= pred_start_dt]"
   ],
   "metadata": {
    "collapsed": false,
    "pycharm": {
     "name": "#%%\n"
    }
   }
  },
  {
   "cell_type": "code",
   "execution_count": 98,
   "outputs": [
    {
     "name": "stdout",
     "output_type": "stream",
     "text": [
      "Directory created\n"
     ]
    }
   ],
   "source": [
    "predictions_path = proyect_path+\"/data/predictions/\"+model_run_date\n",
    "if not os.path.exists(predictions_path):\n",
    "    os.makedirs(predictions_path)\n",
    "    print(\"Directory created\")"
   ],
   "metadata": {
    "collapsed": false,
    "pycharm": {
     "name": "#%%\n"
    }
   }
  },
  {
   "cell_type": "code",
   "execution_count": 210,
   "outputs": [],
   "source": [
    "df_write = concat_df.rename(columns={target_col: 'Actual',\n",
    "                           ml_col: 'ML Predicted',\n",
    "                           uts_col: 'UTS Predicted',\n",
    "                           plan_col: 'Plan',\n",
    "                           fcst_col:' Forecast'})"
   ],
   "metadata": {
    "collapsed": false,
    "pycharm": {
     "name": "#%%\n"
    }
   }
  },
  {
   "cell_type": "code",
   "execution_count": 76,
   "outputs": [],
   "source": [
    "df_write['Item'] = target_col"
   ],
   "metadata": {
    "collapsed": false,
    "pycharm": {
     "name": "#%%\n"
    }
   }
  },
  {
   "cell_type": "code",
   "execution_count": 77,
   "outputs": [
    {
     "data": {
      "text/plain": "   Calendar Date        Actual  ML Predicted          Plan      Forecast  \\\n0     2014-06-01  2.074346e+08           NaN           NaN           NaN   \n1     2014-07-01  2.483619e+08           NaN           NaN           NaN   \n2     2014-08-01  2.110434e+08           NaN           NaN           NaN   \n3     2014-09-01  2.064182e+08           NaN           NaN           NaN   \n4     2014-10-01  2.584593e+08           NaN           NaN           NaN   \n..           ...           ...           ...           ...           ...   \n3     2021-09-01  3.709236e+08  3.331832e+08  3.567864e+08  6.990509e+08   \n4     2021-10-01  3.574400e+08  3.399423e+08  3.410163e+08  6.567897e+08   \n5     2021-11-01  3.646379e+08  3.448046e+08  3.480824e+08  6.753844e+08   \n6     2021-12-01  4.078692e+08  3.495820e+08  3.752561e+08  7.258485e+08   \n7     2022-01-01  4.860343e+08  3.535075e+08  4.547069e+08  7.878337e+08   \n\n    UTS Predicted           Item  \n0             NaN  Total Revenue  \n1             NaN  Total Revenue  \n2             NaN  Total Revenue  \n3             NaN  Total Revenue  \n4             NaN  Total Revenue  \n..            ...            ...  \n3    3.560265e+08  Total Revenue  \n4    3.609818e+08  Total Revenue  \n5    3.510391e+08  Total Revenue  \n6    3.833378e+08  Total Revenue  \n7    4.477554e+08  Total Revenue  \n\n[92 rows x 7 columns]",
      "text/html": "<div>\n<style scoped>\n    .dataframe tbody tr th:only-of-type {\n        vertical-align: middle;\n    }\n\n    .dataframe tbody tr th {\n        vertical-align: top;\n    }\n\n    .dataframe thead th {\n        text-align: right;\n    }\n</style>\n<table border=\"1\" class=\"dataframe\">\n  <thead>\n    <tr style=\"text-align: right;\">\n      <th></th>\n      <th>Calendar Date</th>\n      <th>Actual</th>\n      <th>ML Predicted</th>\n      <th>Plan</th>\n      <th>Forecast</th>\n      <th>UTS Predicted</th>\n      <th>Item</th>\n    </tr>\n  </thead>\n  <tbody>\n    <tr>\n      <th>0</th>\n      <td>2014-06-01</td>\n      <td>2.074346e+08</td>\n      <td>NaN</td>\n      <td>NaN</td>\n      <td>NaN</td>\n      <td>NaN</td>\n      <td>Total Revenue</td>\n    </tr>\n    <tr>\n      <th>1</th>\n      <td>2014-07-01</td>\n      <td>2.483619e+08</td>\n      <td>NaN</td>\n      <td>NaN</td>\n      <td>NaN</td>\n      <td>NaN</td>\n      <td>Total Revenue</td>\n    </tr>\n    <tr>\n      <th>2</th>\n      <td>2014-08-01</td>\n      <td>2.110434e+08</td>\n      <td>NaN</td>\n      <td>NaN</td>\n      <td>NaN</td>\n      <td>NaN</td>\n      <td>Total Revenue</td>\n    </tr>\n    <tr>\n      <th>3</th>\n      <td>2014-09-01</td>\n      <td>2.064182e+08</td>\n      <td>NaN</td>\n      <td>NaN</td>\n      <td>NaN</td>\n      <td>NaN</td>\n      <td>Total Revenue</td>\n    </tr>\n    <tr>\n      <th>4</th>\n      <td>2014-10-01</td>\n      <td>2.584593e+08</td>\n      <td>NaN</td>\n      <td>NaN</td>\n      <td>NaN</td>\n      <td>NaN</td>\n      <td>Total Revenue</td>\n    </tr>\n    <tr>\n      <th>...</th>\n      <td>...</td>\n      <td>...</td>\n      <td>...</td>\n      <td>...</td>\n      <td>...</td>\n      <td>...</td>\n      <td>...</td>\n    </tr>\n    <tr>\n      <th>3</th>\n      <td>2021-09-01</td>\n      <td>3.709236e+08</td>\n      <td>3.331832e+08</td>\n      <td>3.567864e+08</td>\n      <td>6.990509e+08</td>\n      <td>3.560265e+08</td>\n      <td>Total Revenue</td>\n    </tr>\n    <tr>\n      <th>4</th>\n      <td>2021-10-01</td>\n      <td>3.574400e+08</td>\n      <td>3.399423e+08</td>\n      <td>3.410163e+08</td>\n      <td>6.567897e+08</td>\n      <td>3.609818e+08</td>\n      <td>Total Revenue</td>\n    </tr>\n    <tr>\n      <th>5</th>\n      <td>2021-11-01</td>\n      <td>3.646379e+08</td>\n      <td>3.448046e+08</td>\n      <td>3.480824e+08</td>\n      <td>6.753844e+08</td>\n      <td>3.510391e+08</td>\n      <td>Total Revenue</td>\n    </tr>\n    <tr>\n      <th>6</th>\n      <td>2021-12-01</td>\n      <td>4.078692e+08</td>\n      <td>3.495820e+08</td>\n      <td>3.752561e+08</td>\n      <td>7.258485e+08</td>\n      <td>3.833378e+08</td>\n      <td>Total Revenue</td>\n    </tr>\n    <tr>\n      <th>7</th>\n      <td>2022-01-01</td>\n      <td>4.860343e+08</td>\n      <td>3.535075e+08</td>\n      <td>4.547069e+08</td>\n      <td>7.878337e+08</td>\n      <td>4.477554e+08</td>\n      <td>Total Revenue</td>\n    </tr>\n  </tbody>\n</table>\n<p>92 rows × 7 columns</p>\n</div>"
     },
     "execution_count": 77,
     "metadata": {},
     "output_type": "execute_result"
    }
   ],
   "source": [
    "df_write"
   ],
   "metadata": {
    "collapsed": false,
    "pycharm": {
     "name": "#%%\n"
    }
   }
  },
  {
   "cell_type": "code",
   "execution_count": 78,
   "outputs": [],
   "source": [
    "df_write.to_parquet(predictions_path+\"/\"+target_col.replace(\" \",\"\")+\".parquet\")"
   ],
   "metadata": {
    "collapsed": false,
    "pycharm": {
     "name": "#%%\n"
    }
   }
  },
  {
   "cell_type": "code",
   "execution_count": 99,
   "outputs": [],
   "source": [
    "# compute mape_df\n",
    "mape_df = concat_df[['Calendar Date', target_col, ml_col, uts_col, plan_col, fcst_col]]\n",
    "mape_df = mape_df[mape_df['Calendar Date'] >= datetime.strptime(pred_start_dt, '%Y%m%d')]\n",
    "mape_df = models.compute_apes_and_mapes(mape_df, 'Calendar Date', target_col, fcst_cols)\n",
    "mape_df.rename(index={True:'MAPE'}, inplace=True)\n",
    "#print(mape_df)\n"
   ],
   "metadata": {
    "collapsed": false,
    "pycharm": {
     "name": "#%%\n"
    }
   }
  },
  {
   "cell_type": "code",
   "execution_count": 100,
   "outputs": [],
   "source": [
    "mape_df = pd.concat([mape_df.reset_index(drop=True), uts_df], axis=1)"
   ],
   "metadata": {
    "collapsed": false,
    "pycharm": {
     "name": "#%%\n"
    }
   }
  },
  {
   "cell_type": "code",
   "execution_count": 101,
   "outputs": [
    {
     "data": {
      "text/plain": "         Calendar Date  Interest on Funds Held for Clients  \\\n0  2021-06-01 00:00:00                           -451367.0   \n1  2021-07-01 00:00:00                           -386211.0   \n2  2021-08-01 00:00:00                           -398389.0   \n3  2021-09-01 00:00:00                           -517688.0   \n4  2021-10-01 00:00:00                           -414842.0   \n5  2021-11-01 00:00:00                           -462587.0   \n6  2021-12-01 00:00:00                           -325405.0   \n7  2022-01-01 00:00:00                           -311881.0   \n8                  NaN                                 NaN   \n\n   Interest on Funds Held for Clients - Plan  \\\n0                                  4687137.0   \n1                                  4727006.0   \n2                                  5402709.0   \n3                                  4636944.0   \n4                                  4684411.0   \n5                                  5397348.0   \n6                                  4840579.0   \n7                                  4756334.0   \n8                                        NaN   \n\n   Interest on Funds Held for Clients - Plan - APE  \\\n0                                       -11.384315   \n1                                       -13.239439   \n2                                       -14.561391   \n3                                        -9.957024   \n4                                       -12.292036   \n5                                       -12.667747   \n6                                       -15.875552   \n7                                       -16.250477   \n8                                       -13.278498   \n\n   Interest on Funds Held for Clients - 2+10 Forecast  \\\n0                                          -451367.0    \n1                                          -386211.0    \n2                                          4648749.0    \n3                                          4637734.0    \n4                                          4686972.0    \n5                                          4644354.0    \n6                                          4846830.0    \n7                                          4760590.0    \n8                                                NaN    \n\n   Interest on Funds Held for Clients - 2+10 Forecast - APE  \\\n0                                          -0.000000          \n1                                          -0.000000          \n2                                         -12.668869          \n3                                          -9.958550          \n4                                         -12.298210          \n5                                         -11.039958          \n6                                         -15.894762          \n7                                         -16.264123          \n8                                          -9.765559          \n\n   Interest on Funds Held for Clients - ML Predicted  \\\n0                                       8.838785e+06   \n1                                       8.533176e+06   \n2                                       8.225735e+06   \n3                                       8.291251e+06   \n4                                       8.413610e+06   \n5                                       8.583186e+06   \n6                                       8.568823e+06   \n7                                       8.383558e+06   \n8                                                NaN   \n\n   Interest on Funds Held for Clients - ML Predicted - APE  \\\n0                                         -20.582257         \n1                                         -23.094595         \n2                                         -21.647496         \n3                                         -17.015923         \n4                                         -21.281480         \n5                                         -19.554750         \n6                                         -27.332795         \n7                                         -27.880631         \n8                                         -22.298741         \n\n   Interest on Funds Held for Clients - UTS Predicted  \\\n0                                      -2.347883e+06    \n1                                      -2.033447e+06    \n2                                      -2.398601e+06    \n3                                      -2.446004e+06    \n4                                      -2.314003e+06    \n5                                      -2.502411e+06    \n6                                      -1.748759e+06    \n7                                      -1.905915e+06    \n8                                                NaN    \n\n   Interest on Funds Held for Clients - UTS Predicted - APE Calendar Date  \\\n0                                          -4.201716           2021-06-01   \n1                                          -4.265120           2021-07-01   \n2                                          -5.020752           2021-08-01   \n3                                          -3.724861           2021-09-01   \n4                                          -4.578035           2021-10-01   \n5                                          -4.409600           2021-11-01   \n6                                          -4.374099           2021-12-01   \n7                                          -5.111032           2022-01-01   \n8                                          -4.460652                  NaT   \n\n   Interest on Funds Held for Clients - UTS Predicted  \\\n0                                      -2.347883e+06    \n1                                      -2.033447e+06    \n2                                      -2.398601e+06    \n3                                      -2.446004e+06    \n4                                      -2.314003e+06    \n5                                      -2.502411e+06    \n6                                      -1.748759e+06    \n7                                      -1.905915e+06    \n8                                                NaN    \n\n   Interest on Funds Held for Clients_lower_ci  \\\n0                                -6.770667e+06   \n1                                -6.937266e+06   \n2                                -7.740311e+06   \n3                                -8.192332e+06   \n4                                -8.438276e+06   \n5                                -8.982622e+06   \n6                                -8.566351e+06   \n7                                -9.044961e+06   \n8                                          NaN   \n\n   Interest on Funds Held for Clients_upper_ci  \n0                                 2.074901e+06  \n1                                 2.870372e+06  \n2                                 2.943108e+06  \n3                                 3.300325e+06  \n4                                 3.810269e+06  \n5                                 3.977800e+06  \n6                                 5.068833e+06  \n7                                 5.233132e+06  \n8                                          NaN  ",
      "text/html": "<div>\n<style scoped>\n    .dataframe tbody tr th:only-of-type {\n        vertical-align: middle;\n    }\n\n    .dataframe tbody tr th {\n        vertical-align: top;\n    }\n\n    .dataframe thead th {\n        text-align: right;\n    }\n</style>\n<table border=\"1\" class=\"dataframe\">\n  <thead>\n    <tr style=\"text-align: right;\">\n      <th></th>\n      <th>Calendar Date</th>\n      <th>Interest on Funds Held for Clients</th>\n      <th>Interest on Funds Held for Clients - Plan</th>\n      <th>Interest on Funds Held for Clients - Plan - APE</th>\n      <th>Interest on Funds Held for Clients - 2+10 Forecast</th>\n      <th>Interest on Funds Held for Clients - 2+10 Forecast - APE</th>\n      <th>Interest on Funds Held for Clients - ML Predicted</th>\n      <th>Interest on Funds Held for Clients - ML Predicted - APE</th>\n      <th>Interest on Funds Held for Clients - UTS Predicted</th>\n      <th>Interest on Funds Held for Clients - UTS Predicted - APE</th>\n      <th>Calendar Date</th>\n      <th>Interest on Funds Held for Clients - UTS Predicted</th>\n      <th>Interest on Funds Held for Clients_lower_ci</th>\n      <th>Interest on Funds Held for Clients_upper_ci</th>\n    </tr>\n  </thead>\n  <tbody>\n    <tr>\n      <th>0</th>\n      <td>2021-06-01 00:00:00</td>\n      <td>-451367.0</td>\n      <td>4687137.0</td>\n      <td>-11.384315</td>\n      <td>-451367.0</td>\n      <td>-0.000000</td>\n      <td>8.838785e+06</td>\n      <td>-20.582257</td>\n      <td>-2.347883e+06</td>\n      <td>-4.201716</td>\n      <td>2021-06-01</td>\n      <td>-2.347883e+06</td>\n      <td>-6.770667e+06</td>\n      <td>2.074901e+06</td>\n    </tr>\n    <tr>\n      <th>1</th>\n      <td>2021-07-01 00:00:00</td>\n      <td>-386211.0</td>\n      <td>4727006.0</td>\n      <td>-13.239439</td>\n      <td>-386211.0</td>\n      <td>-0.000000</td>\n      <td>8.533176e+06</td>\n      <td>-23.094595</td>\n      <td>-2.033447e+06</td>\n      <td>-4.265120</td>\n      <td>2021-07-01</td>\n      <td>-2.033447e+06</td>\n      <td>-6.937266e+06</td>\n      <td>2.870372e+06</td>\n    </tr>\n    <tr>\n      <th>2</th>\n      <td>2021-08-01 00:00:00</td>\n      <td>-398389.0</td>\n      <td>5402709.0</td>\n      <td>-14.561391</td>\n      <td>4648749.0</td>\n      <td>-12.668869</td>\n      <td>8.225735e+06</td>\n      <td>-21.647496</td>\n      <td>-2.398601e+06</td>\n      <td>-5.020752</td>\n      <td>2021-08-01</td>\n      <td>-2.398601e+06</td>\n      <td>-7.740311e+06</td>\n      <td>2.943108e+06</td>\n    </tr>\n    <tr>\n      <th>3</th>\n      <td>2021-09-01 00:00:00</td>\n      <td>-517688.0</td>\n      <td>4636944.0</td>\n      <td>-9.957024</td>\n      <td>4637734.0</td>\n      <td>-9.958550</td>\n      <td>8.291251e+06</td>\n      <td>-17.015923</td>\n      <td>-2.446004e+06</td>\n      <td>-3.724861</td>\n      <td>2021-09-01</td>\n      <td>-2.446004e+06</td>\n      <td>-8.192332e+06</td>\n      <td>3.300325e+06</td>\n    </tr>\n    <tr>\n      <th>4</th>\n      <td>2021-10-01 00:00:00</td>\n      <td>-414842.0</td>\n      <td>4684411.0</td>\n      <td>-12.292036</td>\n      <td>4686972.0</td>\n      <td>-12.298210</td>\n      <td>8.413610e+06</td>\n      <td>-21.281480</td>\n      <td>-2.314003e+06</td>\n      <td>-4.578035</td>\n      <td>2021-10-01</td>\n      <td>-2.314003e+06</td>\n      <td>-8.438276e+06</td>\n      <td>3.810269e+06</td>\n    </tr>\n    <tr>\n      <th>5</th>\n      <td>2021-11-01 00:00:00</td>\n      <td>-462587.0</td>\n      <td>5397348.0</td>\n      <td>-12.667747</td>\n      <td>4644354.0</td>\n      <td>-11.039958</td>\n      <td>8.583186e+06</td>\n      <td>-19.554750</td>\n      <td>-2.502411e+06</td>\n      <td>-4.409600</td>\n      <td>2021-11-01</td>\n      <td>-2.502411e+06</td>\n      <td>-8.982622e+06</td>\n      <td>3.977800e+06</td>\n    </tr>\n    <tr>\n      <th>6</th>\n      <td>2021-12-01 00:00:00</td>\n      <td>-325405.0</td>\n      <td>4840579.0</td>\n      <td>-15.875552</td>\n      <td>4846830.0</td>\n      <td>-15.894762</td>\n      <td>8.568823e+06</td>\n      <td>-27.332795</td>\n      <td>-1.748759e+06</td>\n      <td>-4.374099</td>\n      <td>2021-12-01</td>\n      <td>-1.748759e+06</td>\n      <td>-8.566351e+06</td>\n      <td>5.068833e+06</td>\n    </tr>\n    <tr>\n      <th>7</th>\n      <td>2022-01-01 00:00:00</td>\n      <td>-311881.0</td>\n      <td>4756334.0</td>\n      <td>-16.250477</td>\n      <td>4760590.0</td>\n      <td>-16.264123</td>\n      <td>8.383558e+06</td>\n      <td>-27.880631</td>\n      <td>-1.905915e+06</td>\n      <td>-5.111032</td>\n      <td>2022-01-01</td>\n      <td>-1.905915e+06</td>\n      <td>-9.044961e+06</td>\n      <td>5.233132e+06</td>\n    </tr>\n    <tr>\n      <th>8</th>\n      <td>NaN</td>\n      <td>NaN</td>\n      <td>NaN</td>\n      <td>-13.278498</td>\n      <td>NaN</td>\n      <td>-9.765559</td>\n      <td>NaN</td>\n      <td>-22.298741</td>\n      <td>NaN</td>\n      <td>-4.460652</td>\n      <td>NaT</td>\n      <td>NaN</td>\n      <td>NaN</td>\n      <td>NaN</td>\n    </tr>\n  </tbody>\n</table>\n</div>"
     },
     "execution_count": 101,
     "metadata": {},
     "output_type": "execute_result"
    }
   ],
   "source": [
    "mape_df"
   ],
   "metadata": {
    "collapsed": false,
    "pycharm": {
     "name": "#%%\n"
    }
   }
  },
  {
   "cell_type": "code",
   "execution_count": 112,
   "outputs": [],
   "source": [
    "from openpyxl import Workbook"
   ],
   "metadata": {
    "collapsed": false,
    "pycharm": {
     "name": "#%%\n"
    }
   }
  },
  {
   "cell_type": "code",
   "execution_count": 142,
   "outputs": [],
   "source": [
    "metadata_path = proyect_path + \"/data/metadata/\"\n",
    "mapes_file = metadata_path + model_run_date + \"_mape.xlsx\""
   ],
   "metadata": {
    "collapsed": false,
    "pycharm": {
     "name": "#%%\n"
    }
   }
  },
  {
   "cell_type": "code",
   "execution_count": 146,
   "outputs": [
    {
     "data": {
      "text/plain": "True"
     },
     "execution_count": 146,
     "metadata": {},
     "output_type": "execute_result"
    }
   ],
   "source": [
    "os.path.exists(mapes_file)"
   ],
   "metadata": {
    "collapsed": false,
    "pycharm": {
     "name": "#%%\n"
    }
   }
  },
  {
   "cell_type": "code",
   "execution_count": 147,
   "outputs": [],
   "source": [
    "if os.path.exists(mapes_file):\n",
    "    book = load_workbook(mapes_file)\n",
    "else:\n",
    "    book = Workbook()"
   ],
   "metadata": {
    "collapsed": false,
    "pycharm": {
     "name": "#%%\n"
    }
   }
  },
  {
   "cell_type": "code",
   "execution_count": 148,
   "outputs": [],
   "source": [
    "#mapes_file = proyect_path + './mapes.xlsx'\n",
    "#mape_df.to_excel(mapes_file, sheet_name=target_col[0:31])\n",
    "#book = load_workbook(mapes_file)\n",
    "with pd.ExcelWriter(mapes_file, engine = 'openpyxl') as writer:\n",
    "    writer.book = book\n",
    "    mape_df.to_excel(writer, sheet_name = target_col[0:30], index=False)\n",
    "    #book.save(mapes_file)"
   ],
   "metadata": {
    "collapsed": false,
    "pycharm": {
     "name": "#%%\n"
    }
   }
  },
  {
   "cell_type": "code",
   "execution_count": 141,
   "outputs": [],
   "source": [
    "writer.close()"
   ],
   "metadata": {
    "collapsed": false,
    "pycharm": {
     "name": "#%%\n"
    }
   }
  },
  {
   "cell_type": "code",
   "execution_count": 22,
   "outputs": [
    {
     "data": {
      "text/plain": "'Payroll blended products - ML Predicted'"
     },
     "execution_count": 22,
     "metadata": {},
     "output_type": "execute_result"
    }
   ],
   "source": [
    "ml_col"
   ],
   "metadata": {
    "collapsed": false,
    "pycharm": {
     "name": "#%%\n"
    }
   }
  },
  {
   "cell_type": "code",
   "execution_count": 153,
   "outputs": [],
   "source": [
    "df = pd.read_parquet(\"C:/Users/bruno.gonzalez/DataspellProjects/Paychex_revenue_forecast/data/predictions/20220509\")"
   ],
   "metadata": {
    "collapsed": false,
    "pycharm": {
     "name": "#%%\n"
    }
   }
  },
  {
   "cell_type": "code",
   "execution_count": 154,
   "outputs": [
    {
     "data": {
      "text/plain": "   Calendar Date                      Item        Actual  ML Predicted  \\\n0     2021-06-01  Payroll blended products  1.142380e+08  1.069185e+08   \n1     2021-07-01  Payroll blended products  1.131859e+08  1.110458e+08   \n2     2021-08-01  Payroll blended products  1.157689e+08  1.060490e+08   \n3     2021-09-01  Payroll blended products  1.164069e+08  1.087553e+08   \n4     2021-10-01  Payroll blended products  1.074553e+08  1.026939e+08   \n5     2021-11-01  Payroll blended products  1.175037e+08  1.053842e+08   \n6     2021-12-01  Payroll blended products  1.278009e+08  1.143640e+08   \n7     2022-01-01  Payroll blended products  1.038698e+08  1.069483e+08   \n8     2021-06-01               W-2 Revenue  1.456643e+05  1.787953e+07   \n9     2021-07-01               W-2 Revenue  1.295130e+05  1.787953e+07   \n10    2021-08-01               W-2 Revenue  1.496995e+05  1.787953e+07   \n11    2021-09-01               W-2 Revenue  1.845622e+05  1.787953e+07   \n12    2021-10-01               W-2 Revenue  1.811631e+05  1.787953e+07   \n13    2021-11-01               W-2 Revenue  1.552792e+05  1.787953e+07   \n14    2021-12-01               W-2 Revenue  1.925841e+05  1.787953e+07   \n15    2022-01-01               W-2 Revenue  8.154442e+07  1.787953e+07   \n\n    UTS Predicted          Plan      Forecast      Lower CI      Upper CI  \n0    1.145630e+08  1.134306e+08  1.142380e+08  9.281367e+07  1.363124e+08  \n1    1.157635e+08  1.143207e+08  1.131859e+08  9.176588e+07  1.397611e+08  \n2    1.135166e+08  1.167989e+08  1.182797e+08  8.548083e+07  1.415523e+08  \n3    1.153946e+08  1.126937e+08  1.132994e+08  8.442522e+07  1.463641e+08  \n4    1.174904e+08  1.045306e+08  1.053015e+08  8.370521e+07  1.512755e+08  \n5    1.143671e+08  1.132584e+08  1.141515e+08  7.800990e+07  1.507242e+08  \n6    1.278934e+08  1.195799e+08  1.199513e+08  8.913152e+07  1.666554e+08  \n7    1.105324e+08  1.026955e+08  1.036316e+08  6.950595e+07  1.515589e+08  \n8    8.334384e+04  9.433619e+04  1.456643e+05 -2.347631e+07  2.364300e+07  \n9    1.423647e+05  1.629054e+05  1.295130e+05 -2.343360e+07  2.371833e+07  \n10   1.556587e+05  1.762317e+05  1.762317e+05 -2.343660e+07  2.374792e+07  \n11   2.069904e+05  2.275312e+05  2.275312e+05 -2.340155e+07  2.381553e+07  \n12   1.627679e+05  1.833087e+05  1.833087e+05 -2.346205e+07  2.378758e+07  \n13   1.882647e+05  2.085526e+05  2.085526e+05 -2.345281e+07  2.382934e+07  \n14   2.124756e+05  2.332858e+05  2.332858e+05 -2.344485e+07  2.386980e+07  \n15   8.096834e+07  8.089268e+07  8.080842e+07  5.729477e+07  1.046419e+08  ",
      "text/html": "<div>\n<style scoped>\n    .dataframe tbody tr th:only-of-type {\n        vertical-align: middle;\n    }\n\n    .dataframe tbody tr th {\n        vertical-align: top;\n    }\n\n    .dataframe thead th {\n        text-align: right;\n    }\n</style>\n<table border=\"1\" class=\"dataframe\">\n  <thead>\n    <tr style=\"text-align: right;\">\n      <th></th>\n      <th>Calendar Date</th>\n      <th>Item</th>\n      <th>Actual</th>\n      <th>ML Predicted</th>\n      <th>UTS Predicted</th>\n      <th>Plan</th>\n      <th>Forecast</th>\n      <th>Lower CI</th>\n      <th>Upper CI</th>\n    </tr>\n  </thead>\n  <tbody>\n    <tr>\n      <th>0</th>\n      <td>2021-06-01</td>\n      <td>Payroll blended products</td>\n      <td>1.142380e+08</td>\n      <td>1.069185e+08</td>\n      <td>1.145630e+08</td>\n      <td>1.134306e+08</td>\n      <td>1.142380e+08</td>\n      <td>9.281367e+07</td>\n      <td>1.363124e+08</td>\n    </tr>\n    <tr>\n      <th>1</th>\n      <td>2021-07-01</td>\n      <td>Payroll blended products</td>\n      <td>1.131859e+08</td>\n      <td>1.110458e+08</td>\n      <td>1.157635e+08</td>\n      <td>1.143207e+08</td>\n      <td>1.131859e+08</td>\n      <td>9.176588e+07</td>\n      <td>1.397611e+08</td>\n    </tr>\n    <tr>\n      <th>2</th>\n      <td>2021-08-01</td>\n      <td>Payroll blended products</td>\n      <td>1.157689e+08</td>\n      <td>1.060490e+08</td>\n      <td>1.135166e+08</td>\n      <td>1.167989e+08</td>\n      <td>1.182797e+08</td>\n      <td>8.548083e+07</td>\n      <td>1.415523e+08</td>\n    </tr>\n    <tr>\n      <th>3</th>\n      <td>2021-09-01</td>\n      <td>Payroll blended products</td>\n      <td>1.164069e+08</td>\n      <td>1.087553e+08</td>\n      <td>1.153946e+08</td>\n      <td>1.126937e+08</td>\n      <td>1.132994e+08</td>\n      <td>8.442522e+07</td>\n      <td>1.463641e+08</td>\n    </tr>\n    <tr>\n      <th>4</th>\n      <td>2021-10-01</td>\n      <td>Payroll blended products</td>\n      <td>1.074553e+08</td>\n      <td>1.026939e+08</td>\n      <td>1.174904e+08</td>\n      <td>1.045306e+08</td>\n      <td>1.053015e+08</td>\n      <td>8.370521e+07</td>\n      <td>1.512755e+08</td>\n    </tr>\n    <tr>\n      <th>5</th>\n      <td>2021-11-01</td>\n      <td>Payroll blended products</td>\n      <td>1.175037e+08</td>\n      <td>1.053842e+08</td>\n      <td>1.143671e+08</td>\n      <td>1.132584e+08</td>\n      <td>1.141515e+08</td>\n      <td>7.800990e+07</td>\n      <td>1.507242e+08</td>\n    </tr>\n    <tr>\n      <th>6</th>\n      <td>2021-12-01</td>\n      <td>Payroll blended products</td>\n      <td>1.278009e+08</td>\n      <td>1.143640e+08</td>\n      <td>1.278934e+08</td>\n      <td>1.195799e+08</td>\n      <td>1.199513e+08</td>\n      <td>8.913152e+07</td>\n      <td>1.666554e+08</td>\n    </tr>\n    <tr>\n      <th>7</th>\n      <td>2022-01-01</td>\n      <td>Payroll blended products</td>\n      <td>1.038698e+08</td>\n      <td>1.069483e+08</td>\n      <td>1.105324e+08</td>\n      <td>1.026955e+08</td>\n      <td>1.036316e+08</td>\n      <td>6.950595e+07</td>\n      <td>1.515589e+08</td>\n    </tr>\n    <tr>\n      <th>8</th>\n      <td>2021-06-01</td>\n      <td>W-2 Revenue</td>\n      <td>1.456643e+05</td>\n      <td>1.787953e+07</td>\n      <td>8.334384e+04</td>\n      <td>9.433619e+04</td>\n      <td>1.456643e+05</td>\n      <td>-2.347631e+07</td>\n      <td>2.364300e+07</td>\n    </tr>\n    <tr>\n      <th>9</th>\n      <td>2021-07-01</td>\n      <td>W-2 Revenue</td>\n      <td>1.295130e+05</td>\n      <td>1.787953e+07</td>\n      <td>1.423647e+05</td>\n      <td>1.629054e+05</td>\n      <td>1.295130e+05</td>\n      <td>-2.343360e+07</td>\n      <td>2.371833e+07</td>\n    </tr>\n    <tr>\n      <th>10</th>\n      <td>2021-08-01</td>\n      <td>W-2 Revenue</td>\n      <td>1.496995e+05</td>\n      <td>1.787953e+07</td>\n      <td>1.556587e+05</td>\n      <td>1.762317e+05</td>\n      <td>1.762317e+05</td>\n      <td>-2.343660e+07</td>\n      <td>2.374792e+07</td>\n    </tr>\n    <tr>\n      <th>11</th>\n      <td>2021-09-01</td>\n      <td>W-2 Revenue</td>\n      <td>1.845622e+05</td>\n      <td>1.787953e+07</td>\n      <td>2.069904e+05</td>\n      <td>2.275312e+05</td>\n      <td>2.275312e+05</td>\n      <td>-2.340155e+07</td>\n      <td>2.381553e+07</td>\n    </tr>\n    <tr>\n      <th>12</th>\n      <td>2021-10-01</td>\n      <td>W-2 Revenue</td>\n      <td>1.811631e+05</td>\n      <td>1.787953e+07</td>\n      <td>1.627679e+05</td>\n      <td>1.833087e+05</td>\n      <td>1.833087e+05</td>\n      <td>-2.346205e+07</td>\n      <td>2.378758e+07</td>\n    </tr>\n    <tr>\n      <th>13</th>\n      <td>2021-11-01</td>\n      <td>W-2 Revenue</td>\n      <td>1.552792e+05</td>\n      <td>1.787953e+07</td>\n      <td>1.882647e+05</td>\n      <td>2.085526e+05</td>\n      <td>2.085526e+05</td>\n      <td>-2.345281e+07</td>\n      <td>2.382934e+07</td>\n    </tr>\n    <tr>\n      <th>14</th>\n      <td>2021-12-01</td>\n      <td>W-2 Revenue</td>\n      <td>1.925841e+05</td>\n      <td>1.787953e+07</td>\n      <td>2.124756e+05</td>\n      <td>2.332858e+05</td>\n      <td>2.332858e+05</td>\n      <td>-2.344485e+07</td>\n      <td>2.386980e+07</td>\n    </tr>\n    <tr>\n      <th>15</th>\n      <td>2022-01-01</td>\n      <td>W-2 Revenue</td>\n      <td>8.154442e+07</td>\n      <td>1.787953e+07</td>\n      <td>8.096834e+07</td>\n      <td>8.089268e+07</td>\n      <td>8.080842e+07</td>\n      <td>5.729477e+07</td>\n      <td>1.046419e+08</td>\n    </tr>\n  </tbody>\n</table>\n</div>"
     },
     "execution_count": 154,
     "metadata": {},
     "output_type": "execute_result"
    }
   ],
   "source": [
    "df"
   ],
   "metadata": {
    "collapsed": false,
    "pycharm": {
     "name": "#%%\n"
    }
   }
  },
  {
   "cell_type": "code",
   "execution_count": null,
   "outputs": [],
   "source": [],
   "metadata": {
    "collapsed": false,
    "pycharm": {
     "name": "#%%\n"
    }
   }
  }
 ],
 "metadata": {
  "kernelspec": {
   "display_name": "Python 3",
   "language": "python",
   "name": "python3"
  },
  "language_info": {
   "codemirror_mode": {
    "name": "ipython",
    "version": 3
   },
   "file_extension": ".py",
   "mimetype": "text/x-python",
   "name": "python",
   "nbconvert_exporter": "python",
   "pygments_lexer": "ipython3",
   "version": "3.8.1"
  }
 },
 "nbformat": 4,
 "nbformat_minor": 4
}