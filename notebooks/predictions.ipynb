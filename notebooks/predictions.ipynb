{
 "cells": [
  {
   "cell_type": "code",
   "execution_count": 14,
   "metadata": {
    "collapsed": true
   },
   "outputs": [],
   "source": [
    "import os, pickle\n",
    "import pandas as pd\n",
    "import numpy as np\n",
    "import plotly.express as px\n",
    "from pycaret.regression import *\n",
    "from datetime import datetime\n",
    "import matplotlib.pyplot as plt\n",
    "import src.paychex_ml.data_loader as dl"
   ]
  },
  {
   "cell_type": "code",
   "execution_count": 3,
   "outputs": [],
   "source": [
    "## Change the project path\n",
    "proyect_path = \"C:/Users/bruno.gonzalez/DataspellProjects/Paychex_revenue_forecast\""
   ],
   "metadata": {
    "collapsed": false,
    "pycharm": {
     "name": "#%%\n"
    }
   }
  },
  {
   "cell_type": "code",
   "execution_count": 4,
   "outputs": [],
   "source": [
    "# ------------------------------------------------------------------------------------- #\n",
    "# This is where we change parameters to the model\n",
    "# ------------------------------------------------------------------------------------- #\n",
    "pred_start_dt = '20210601'\n",
    "pred_end_dt = '20220101'\n",
    "forecast_window = 8"
   ],
   "metadata": {
    "collapsed": false,
    "pycharm": {
     "name": "#%%\n"
    }
   }
  },
  {
   "cell_type": "markdown",
   "source": [],
   "metadata": {
    "collapsed": false
   }
  },
  {
   "cell_type": "code",
   "execution_count": 24,
   "outputs": [],
   "source": [
    "# Set manually date if is necessary\n",
    "model_run_date = '20220512'"
   ],
   "metadata": {
    "collapsed": false,
    "pycharm": {
     "name": "#%%\n"
    }
   }
  },
  {
   "cell_type": "code",
   "execution_count": 25,
   "outputs": [],
   "source": [
    "# ------------------------------------------------------------------------------------- #\n",
    "# Total Payroll Section\n",
    "# ------------------------------------------------------------------------------------- #\n",
    "# target_col = 'Payroll blended products'\n",
    "# has_drivers = True\n",
    "# target_col = 'W-2 Revenue'\n",
    "# has_drivers = False\n",
    "# target_col = 'Delivery Revenue'\n",
    "# has_drivers = False\n",
    "# target_col = 'ASO Allocation'\n",
    "# has_drivers = False\n",
    "# target_col = 'Other Processing Revenue'\n",
    "# has_drivers = False\n",
    "# target_col = 'SurePayroll.'\n",
    "# has_drivers = True\n",
    "# target_col = 'Total international'\n",
    "# has_drivers = False\n",
    "\n",
    "# ------------------------------------------------------------------------------------- #\n",
    "# Total 401K Section\n",
    "# ------------------------------------------------------------------------------------- #\n",
    "# target_col = '401K Fee Revenue'\n",
    "# has_drivers = True\n",
    "# target_col = '401K Asset fee & BP Revenue'\n",
    "# has_drivers = True\n",
    "\n",
    "# ------------------------------------------------------------------------------------- #\n",
    "# Total ASO Revenue\n",
    "# ------------------------------------------------------------------------------------- #\n",
    "# target_col = 'HR Solutions (PEO)'\n",
    "# has_drivers = False\n",
    "# target_col = 'ASO Revenue - Oasis'\n",
    "# has_drivers = False\n",
    "\n",
    "# ------------------------------------------------------------------------------------- #\n",
    "# Total Online Services\n",
    "# ------------------------------------------------------------------------------------- #\n",
    "# target_col = 'HR Online'\n",
    "# has_drivers = False\n",
    "# target_col = 'Time & Attendance'\n",
    "# has_drivers = False\n",
    "\n",
    "# ------------------------------------------------------------------------------------- #\n",
    "# Other Management Solutions\n",
    "# ------------------------------------------------------------------------------------- #\n",
    "# target_col = 'Total Paychex Advance'\n",
    "# has_drivers = True\n",
    "# target_col = 'Full Service Unemployment Revenue'\n",
    "# has_drivers = True\n",
    "# target_col = 'ESR Revenue'\n",
    "# has_drivers = True\n",
    "# target_col = 'Cafeteria Plans Revenue'\n",
    "# has_drivers = True\n",
    "# target_col = 'Benetrac'\n",
    "# has_drivers = True\n",
    "# target_col = 'Emerging Products'\n",
    "# has_drivers = True\n",
    "\n",
    "# ------------------------------------------------------------------------------------- #\n",
    "# Total PEO\n",
    "# ------------------------------------------------------------------------------------- #\n",
    "# target_col = 'Total PEO'\n",
    "# has_drivers = False\n",
    "\n",
    "# ------------------------------------------------------------------------------------- #\n",
    "# Total Insurance Services\n",
    "# ------------------------------------------------------------------------------------- #\n",
    "# target_col = 'Workers Comp - Payment Services'\n",
    "# has_drivers = True\n",
    "# target_col = 'Health Benefits'\n",
    "# has_drivers = True\n",
    "\n",
    "# target_col = 'Interest on Funds Held for Clients'\n",
    "# has_drivers = False\n",
    "\n",
    "# ------------------------------------------------------------------------------------- #\n",
    "# Total Level 1\n",
    "# ------------------------------------------------------------------------------------- #\n",
    "target_col = 'Total Payroll Revenue.'\n",
    "has_drivers = True\n",
    "# target_col = 'Total 401k'\n",
    "# has_drivers = True\n",
    "# target_col = 'Total ASO Revenue'\n",
    "# has_drivers = False\n",
    "# target_col = 'Total Online Services'\n",
    "# has_drivers = True\n",
    "# target_col = 'Other Management Solutions'\n",
    "# has_drivers = True\n",
    "# target_col = 'Total Insurance Services'\n",
    "# has_drivers = True\n",
    "\n",
    "# ------------------------------------------------------------------------------------- #\n",
    "# Total Level 2\n",
    "# ------------------------------------------------------------------------------------- #\n",
    "# target_col = 'Total Revenue'\n",
    "# has_drivers = False"
   ],
   "metadata": {
    "collapsed": false,
    "pycharm": {
     "name": "#%%\n"
    }
   }
  },
  {
   "cell_type": "code",
   "execution_count": 26,
   "outputs": [],
   "source": [
    "ml_col = target_col+' - ML Predicted'\n",
    "uts_col = target_col+' - UTS Predicted'\n",
    "has_actuals = True\n",
    "level = 1"
   ],
   "metadata": {
    "collapsed": false,
    "pycharm": {
     "name": "#%%\n"
    }
   }
  },
  {
   "cell_type": "markdown",
   "source": [
    "# Get Data"
   ],
   "metadata": {
    "collapsed": false
   }
  },
  {
   "cell_type": "code",
   "execution_count": 40,
   "outputs": [],
   "source": [
    "file_path = proyect_path+\"/data/clean/table_predictable.csv\"\n",
    "df = dl.get_clean_data(pred_start_dt, pred_end_dt, file_path, level=level)"
   ],
   "metadata": {
    "collapsed": false,
    "pycharm": {
     "name": "#%%\n"
    }
   }
  },
  {
   "cell_type": "code",
   "execution_count": 41,
   "outputs": [],
   "source": [
    "df = df[['Calendar Date', target_col]]\n",
    "drive_path = proyect_path+\"/data/clean/table_drivers.csv\"\n",
    "if has_drivers:\n",
    "    driv_df = dl.get_clean_driver_data(pred_start_dt, pred_end_dt, target_col, drive_path)\n",
    "    #driv_df.drop(columns=['Scenario'], inplace=True)\n",
    "    df = pd.merge(df, driv_df, on='Calendar Date', how='inner')"
   ],
   "metadata": {
    "collapsed": false,
    "pycharm": {
     "name": "#%%\n"
    }
   }
  },
  {
   "cell_type": "code",
   "execution_count": 42,
   "outputs": [],
   "source": [
    "external_path = proyect_path+\"/data/external/external_data_fred.csv\"\n",
    "ext_df = pd.read_csv(external_path, dtype={'date': str}) \\\n",
    "    .rename(columns={'date': 'Calendar Date'})\n",
    "#ext_df = dl.get_external_data(train_start_dt, pred_end_dt)\n",
    "df = pd.merge(df, ext_df, on='Calendar Date', how='inner')"
   ],
   "metadata": {
    "collapsed": false,
    "pycharm": {
     "name": "#%%\n"
    }
   }
  },
  {
   "cell_type": "code",
   "execution_count": 43,
   "outputs": [],
   "source": [
    "df['Calendar Date'] = pd.to_datetime(df['Calendar Date'])"
   ],
   "metadata": {
    "collapsed": false,
    "pycharm": {
     "name": "#%%\n"
    }
   }
  },
  {
   "cell_type": "code",
   "execution_count": 32,
   "outputs": [],
   "source": [
    "with open(model_path + '/{}_features.pkl'.format(target_col), \"rb\") as fp:\n",
    "    feature_cols = pickle.load(fp)"
   ],
   "metadata": {
    "collapsed": false,
    "pycharm": {
     "name": "#%%\n"
    }
   }
  },
  {
   "cell_type": "code",
   "execution_count": 34,
   "outputs": [],
   "source": [
    "keeps = ['Calendar Date', target_col]+feature_cols"
   ],
   "metadata": {
    "collapsed": false,
    "pycharm": {
     "name": "#%%\n"
    }
   }
  },
  {
   "cell_type": "code",
   "execution_count": 45,
   "outputs": [],
   "source": [
    "df = df[keeps]"
   ],
   "metadata": {
    "collapsed": false,
    "pycharm": {
     "name": "#%%\n"
    }
   }
  },
  {
   "cell_type": "markdown",
   "source": [
    "# Models"
   ],
   "metadata": {
    "collapsed": false
   }
  },
  {
   "cell_type": "code",
   "execution_count": 29,
   "outputs": [],
   "source": [
    "model_path = proyect_path+\"/data/models/\"+model_run_date"
   ],
   "metadata": {
    "collapsed": false,
    "pycharm": {
     "name": "#%%\n"
    }
   }
  },
  {
   "cell_type": "markdown",
   "source": [
    "## ML Models"
   ],
   "metadata": {
    "collapsed": false
   }
  },
  {
   "cell_type": "code",
   "execution_count": 30,
   "outputs": [
    {
     "name": "stdout",
     "output_type": "stream",
     "text": [
      "Transformation Pipeline and Model Successfully Loaded\n"
     ]
    }
   ],
   "source": [
    "model = load_model(model_path + '/{}_model'.format(target_col))"
   ],
   "metadata": {
    "collapsed": false,
    "pycharm": {
     "name": "#%%\n"
    }
   }
  },
  {
   "cell_type": "code",
   "execution_count": 46,
   "outputs": [],
   "source": [
    "predictions = predict_model(model, data=df)"
   ],
   "metadata": {
    "collapsed": false,
    "pycharm": {
     "name": "#%%\n"
    }
   }
  },
  {
   "cell_type": "code",
   "execution_count": 47,
   "outputs": [
    {
     "data": {
      "text/plain": "  Calendar Date  Total Payroll Revenue.  \\\n0    2021-06-01            1.575253e+08   \n1    2021-07-01            1.603055e+08   \n2    2021-08-01            1.581824e+08   \n3    2021-09-01            1.636794e+08   \n4    2021-10-01            1.582147e+08   \n5    2021-11-01            1.654184e+08   \n6    2021-12-01            1.902936e+08   \n7    2022-01-01            2.589241e+08   \n\n   Total Flex Blended Products Revenue/Phoenix RSC/Sales - RW  \\\n0                                              975.0            \n1                                              536.0            \n2                                              455.0            \n3                                              590.0            \n4                                              523.0            \n5                                              533.0            \n6                                              698.0            \n7                                             1711.0            \n\n   PR PRODUCT/1506 SP BOP PARTNER/Losses - RW  \\\n0                                       -47.0   \n1                                       -25.0   \n2                                       -26.0   \n3                                       -17.0   \n4                                       -22.0   \n5                                       -24.0   \n6                                       -10.0   \n7                                       -64.0   \n\n   Product NA/6000 CORP OFFICE/# of Weeks - RW  \\\n0                                          5.0   \n1                                          4.0   \n2                                          4.0   \n3                                          5.0   \n4                                          4.0   \n5                                          4.0   \n6                                          4.0   \n7                                          5.0   \n\n   Total Preview Blended Products Revenue/0456 TWIN CITIES MMS/Net Client Gain - RW  \\\n0                                              -11.0                                  \n1                                               -3.0                                  \n2                                               -1.0                                  \n3                                               -6.0                                  \n4                                               -7.0                                  \n5                                              -10.0                                  \n6                                               -3.0                                  \n7                                               -4.0                                  \n\n   Total Flex Blended Products Revenue/0922 DSC Central/Net Client Gain - RW  \\\n0                                                0.0                           \n1                                                0.0                           \n2                                                0.0                           \n3                                                0.0                           \n4                                                0.0                           \n5                                                0.0                           \n6                                                0.0                           \n7                                                0.0                           \n\n   MHHNGSP  \\\n0     3.26   \n1     3.84   \n2     4.07   \n3     5.16   \n4     5.51   \n5     5.05   \n6     3.76   \n7     4.38   \n\n   Total Advantage Blended Products Revenue/ADVANTAGE/PACE/Net Client Gain - RW  \\\n0                                             -208.0                              \n1                                             -190.0                              \n2                                             -171.0                              \n3                                             -237.0                              \n4                                             -172.0                              \n5                                             -234.0                              \n6                                             -216.0                              \n7                                             -399.0                              \n\n    HOUST  PR PRODUCT/1502 SP ETAP/Net Client Gain - RW  \\\n0  1657.0                                         473.0   \n1  1562.0                                         847.0   \n2  1573.0                                         465.0   \n3  1550.0                                         757.0   \n4  1552.0                                         551.0   \n5  1703.0                                         323.0   \n6  1754.0                                         508.0   \n7  1679.0                                        2330.0   \n\n   REPORTS 100/1501 SP Direct GB/SurePayroll Revenue Share         Label  \n0                                            -7128.0        2.114869e+08  \n1                                            -5841.0        1.749029e+08  \n2                                            -6237.0        1.575428e+08  \n3                                             2970.0        1.643635e+08  \n4                                            -4653.0        1.604032e+08  \n5                                            -3267.0        1.610199e+08  \n6                                            -6534.0        1.868183e+08  \n7                                           -10954.0        2.178776e+08  ",
      "text/html": "<div>\n<style scoped>\n    .dataframe tbody tr th:only-of-type {\n        vertical-align: middle;\n    }\n\n    .dataframe tbody tr th {\n        vertical-align: top;\n    }\n\n    .dataframe thead th {\n        text-align: right;\n    }\n</style>\n<table border=\"1\" class=\"dataframe\">\n  <thead>\n    <tr style=\"text-align: right;\">\n      <th></th>\n      <th>Calendar Date</th>\n      <th>Total Payroll Revenue.</th>\n      <th>Total Flex Blended Products Revenue/Phoenix RSC/Sales - RW</th>\n      <th>PR PRODUCT/1506 SP BOP PARTNER/Losses - RW</th>\n      <th>Product NA/6000 CORP OFFICE/# of Weeks - RW</th>\n      <th>Total Preview Blended Products Revenue/0456 TWIN CITIES MMS/Net Client Gain - RW</th>\n      <th>Total Flex Blended Products Revenue/0922 DSC Central/Net Client Gain - RW</th>\n      <th>MHHNGSP</th>\n      <th>Total Advantage Blended Products Revenue/ADVANTAGE/PACE/Net Client Gain - RW</th>\n      <th>HOUST</th>\n      <th>PR PRODUCT/1502 SP ETAP/Net Client Gain - RW</th>\n      <th>REPORTS 100/1501 SP Direct GB/SurePayroll Revenue Share</th>\n      <th>Label</th>\n    </tr>\n  </thead>\n  <tbody>\n    <tr>\n      <th>0</th>\n      <td>2021-06-01</td>\n      <td>1.575253e+08</td>\n      <td>975.0</td>\n      <td>-47.0</td>\n      <td>5.0</td>\n      <td>-11.0</td>\n      <td>0.0</td>\n      <td>3.26</td>\n      <td>-208.0</td>\n      <td>1657.0</td>\n      <td>473.0</td>\n      <td>-7128.0</td>\n      <td>2.114869e+08</td>\n    </tr>\n    <tr>\n      <th>1</th>\n      <td>2021-07-01</td>\n      <td>1.603055e+08</td>\n      <td>536.0</td>\n      <td>-25.0</td>\n      <td>4.0</td>\n      <td>-3.0</td>\n      <td>0.0</td>\n      <td>3.84</td>\n      <td>-190.0</td>\n      <td>1562.0</td>\n      <td>847.0</td>\n      <td>-5841.0</td>\n      <td>1.749029e+08</td>\n    </tr>\n    <tr>\n      <th>2</th>\n      <td>2021-08-01</td>\n      <td>1.581824e+08</td>\n      <td>455.0</td>\n      <td>-26.0</td>\n      <td>4.0</td>\n      <td>-1.0</td>\n      <td>0.0</td>\n      <td>4.07</td>\n      <td>-171.0</td>\n      <td>1573.0</td>\n      <td>465.0</td>\n      <td>-6237.0</td>\n      <td>1.575428e+08</td>\n    </tr>\n    <tr>\n      <th>3</th>\n      <td>2021-09-01</td>\n      <td>1.636794e+08</td>\n      <td>590.0</td>\n      <td>-17.0</td>\n      <td>5.0</td>\n      <td>-6.0</td>\n      <td>0.0</td>\n      <td>5.16</td>\n      <td>-237.0</td>\n      <td>1550.0</td>\n      <td>757.0</td>\n      <td>2970.0</td>\n      <td>1.643635e+08</td>\n    </tr>\n    <tr>\n      <th>4</th>\n      <td>2021-10-01</td>\n      <td>1.582147e+08</td>\n      <td>523.0</td>\n      <td>-22.0</td>\n      <td>4.0</td>\n      <td>-7.0</td>\n      <td>0.0</td>\n      <td>5.51</td>\n      <td>-172.0</td>\n      <td>1552.0</td>\n      <td>551.0</td>\n      <td>-4653.0</td>\n      <td>1.604032e+08</td>\n    </tr>\n    <tr>\n      <th>5</th>\n      <td>2021-11-01</td>\n      <td>1.654184e+08</td>\n      <td>533.0</td>\n      <td>-24.0</td>\n      <td>4.0</td>\n      <td>-10.0</td>\n      <td>0.0</td>\n      <td>5.05</td>\n      <td>-234.0</td>\n      <td>1703.0</td>\n      <td>323.0</td>\n      <td>-3267.0</td>\n      <td>1.610199e+08</td>\n    </tr>\n    <tr>\n      <th>6</th>\n      <td>2021-12-01</td>\n      <td>1.902936e+08</td>\n      <td>698.0</td>\n      <td>-10.0</td>\n      <td>4.0</td>\n      <td>-3.0</td>\n      <td>0.0</td>\n      <td>3.76</td>\n      <td>-216.0</td>\n      <td>1754.0</td>\n      <td>508.0</td>\n      <td>-6534.0</td>\n      <td>1.868183e+08</td>\n    </tr>\n    <tr>\n      <th>7</th>\n      <td>2022-01-01</td>\n      <td>2.589241e+08</td>\n      <td>1711.0</td>\n      <td>-64.0</td>\n      <td>5.0</td>\n      <td>-4.0</td>\n      <td>0.0</td>\n      <td>4.38</td>\n      <td>-399.0</td>\n      <td>1679.0</td>\n      <td>2330.0</td>\n      <td>-10954.0</td>\n      <td>2.178776e+08</td>\n    </tr>\n  </tbody>\n</table>\n</div>"
     },
     "execution_count": 47,
     "metadata": {},
     "output_type": "execute_result"
    }
   ],
   "source": [
    "predictions"
   ],
   "metadata": {
    "collapsed": false,
    "pycharm": {
     "name": "#%%\n"
    }
   }
  },
  {
   "cell_type": "markdown",
   "source": [
    "## UTS Model"
   ],
   "metadata": {
    "collapsed": false
   }
  },
  {
   "cell_type": "code",
   "execution_count": 49,
   "outputs": [
    {
     "name": "stdout",
     "output_type": "stream",
     "text": [
      "Transformation Pipeline and Model Successfully Loaded\n"
     ]
    }
   ],
   "source": [
    "model_uts = load_model(model_path + '/{}_uts_model'.format(target_col))"
   ],
   "metadata": {
    "collapsed": false,
    "pycharm": {
     "name": "#%%\n"
    }
   }
  },
  {
   "cell_type": "code",
   "execution_count": 50,
   "outputs": [
    {
     "data": {
      "text/plain": "ARIMA(order=(0, 1, 1), scoring_args={}, seasonal_order=(0, 1, 2, 12),\n      suppress_warnings=True, with_intercept=False)"
     },
     "execution_count": 50,
     "metadata": {},
     "output_type": "execute_result"
    }
   ],
   "source": [
    "model_uts"
   ],
   "metadata": {
    "collapsed": false,
    "pycharm": {
     "name": "#%%\n"
    }
   }
  },
  {
   "cell_type": "code",
   "execution_count": 51,
   "outputs": [],
   "source": [
    "predictions_utf = model_uts.predict(n_periods=forecast_window)"
   ],
   "metadata": {
    "collapsed": false,
    "pycharm": {
     "name": "#%%\n"
    }
   }
  },
  {
   "cell_type": "code",
   "execution_count": 55,
   "outputs": [],
   "source": [
    "predictions['UTS'] = predictions_utf"
   ],
   "metadata": {
    "collapsed": false,
    "pycharm": {
     "name": "#%%\n"
    }
   }
  },
  {
   "cell_type": "code",
   "execution_count": 56,
   "outputs": [
    {
     "data": {
      "application/vnd.plotly.v1+json": {
       "data": [
        {
         "hovertemplate": "variable=Total Payroll Revenue.<br>Date=%{x}<br>value=%{y}<extra></extra>",
         "legendgroup": "Total Payroll Revenue.",
         "line": {
          "color": "#636efa",
          "dash": "solid"
         },
         "marker": {
          "symbol": "circle"
         },
         "mode": "lines",
         "name": "Total Payroll Revenue.",
         "orientation": "v",
         "showlegend": true,
         "x": [
          "2021-06-01T00:00:00",
          "2021-07-01T00:00:00",
          "2021-08-01T00:00:00",
          "2021-09-01T00:00:00",
          "2021-10-01T00:00:00",
          "2021-11-01T00:00:00",
          "2021-12-01T00:00:00",
          "2022-01-01T00:00:00"
         ],
         "xaxis": "x",
         "y": [
          1.5752530207E8,
          1.6030554852E8,
          1.5818243820000002E8,
          1.6367940135999998E8,
          1.5821470245E8,
          1.6541842608E8,
          1.9029357541E8,
          2.5892414326E8
         ],
         "yaxis": "y",
         "type": "scatter"
        },
        {
         "hovertemplate": "variable=Total Payroll Revenue. - ML Predicted<br>Date=%{x}<br>value=%{y}<extra></extra>",
         "legendgroup": "Total Payroll Revenue. - ML Predicted",
         "line": {
          "color": "#EF553B",
          "dash": "solid"
         },
         "marker": {
          "symbol": "circle"
         },
         "mode": "lines",
         "name": "Total Payroll Revenue. - ML Predicted",
         "orientation": "v",
         "showlegend": true,
         "x": [
          "2021-06-01T00:00:00",
          "2021-07-01T00:00:00",
          "2021-08-01T00:00:00",
          "2021-09-01T00:00:00",
          "2021-10-01T00:00:00",
          "2021-11-01T00:00:00",
          "2021-12-01T00:00:00",
          "2022-01-01T00:00:00"
         ],
         "xaxis": "x",
         "y": [
          2.1148693859868148E8,
          1.7490290786750594E8,
          1.575427724948681E8,
          1.643635387481265E8,
          1.60403185612369E8,
          1.6101988991070276E8,
          1.8681826210859E8,
          2.178776426938583E8
         ],
         "yaxis": "y",
         "type": "scatter"
        },
        {
         "hovertemplate": "variable=UTS<br>Date=%{x}<br>value=%{y}<extra></extra>",
         "legendgroup": "UTS",
         "line": {
          "color": "#00cc96",
          "dash": "solid"
         },
         "marker": {
          "symbol": "circle"
         },
         "mode": "lines",
         "name": "UTS",
         "orientation": "v",
         "showlegend": true,
         "x": [
          "2021-06-01T00:00:00",
          "2021-07-01T00:00:00",
          "2021-08-01T00:00:00",
          "2021-09-01T00:00:00",
          "2021-10-01T00:00:00",
          "2021-11-01T00:00:00",
          "2021-12-01T00:00:00",
          "2022-01-01T00:00:00"
         ],
         "xaxis": "x",
         "y": [
          1.4979605890388387E8,
          1.5936517735121104E8,
          1.4972467222473738E8,
          1.5569590838812235E8,
          1.628828379044883E8,
          1.5342410939039278E8,
          1.7788744294799396E8,
          2.3717404808446875E8
         ],
         "yaxis": "y",
         "type": "scatter"
        }
       ],
       "layout": {
        "template": {
         "data": {
          "barpolar": [
           {
            "marker": {
             "line": {
              "color": "white",
              "width": 0.5
             },
             "pattern": {
              "fillmode": "overlay",
              "size": 10,
              "solidity": 0.2
             }
            },
            "type": "barpolar"
           }
          ],
          "bar": [
           {
            "error_x": {
             "color": "#2a3f5f"
            },
            "error_y": {
             "color": "#2a3f5f"
            },
            "marker": {
             "line": {
              "color": "white",
              "width": 0.5
             },
             "pattern": {
              "fillmode": "overlay",
              "size": 10,
              "solidity": 0.2
             }
            },
            "type": "bar"
           }
          ],
          "carpet": [
           {
            "aaxis": {
             "endlinecolor": "#2a3f5f",
             "gridcolor": "#C8D4E3",
             "linecolor": "#C8D4E3",
             "minorgridcolor": "#C8D4E3",
             "startlinecolor": "#2a3f5f"
            },
            "baxis": {
             "endlinecolor": "#2a3f5f",
             "gridcolor": "#C8D4E3",
             "linecolor": "#C8D4E3",
             "minorgridcolor": "#C8D4E3",
             "startlinecolor": "#2a3f5f"
            },
            "type": "carpet"
           }
          ],
          "choropleth": [
           {
            "colorbar": {
             "outlinewidth": 0,
             "ticks": ""
            },
            "type": "choropleth"
           }
          ],
          "contourcarpet": [
           {
            "colorbar": {
             "outlinewidth": 0,
             "ticks": ""
            },
            "type": "contourcarpet"
           }
          ],
          "contour": [
           {
            "colorbar": {
             "outlinewidth": 0,
             "ticks": ""
            },
            "colorscale": [
             [
              0.0,
              "#0d0887"
             ],
             [
              0.1111111111111111,
              "#46039f"
             ],
             [
              0.2222222222222222,
              "#7201a8"
             ],
             [
              0.3333333333333333,
              "#9c179e"
             ],
             [
              0.4444444444444444,
              "#bd3786"
             ],
             [
              0.5555555555555556,
              "#d8576b"
             ],
             [
              0.6666666666666666,
              "#ed7953"
             ],
             [
              0.7777777777777778,
              "#fb9f3a"
             ],
             [
              0.8888888888888888,
              "#fdca26"
             ],
             [
              1.0,
              "#f0f921"
             ]
            ],
            "type": "contour"
           }
          ],
          "heatmapgl": [
           {
            "colorbar": {
             "outlinewidth": 0,
             "ticks": ""
            },
            "colorscale": [
             [
              0.0,
              "#0d0887"
             ],
             [
              0.1111111111111111,
              "#46039f"
             ],
             [
              0.2222222222222222,
              "#7201a8"
             ],
             [
              0.3333333333333333,
              "#9c179e"
             ],
             [
              0.4444444444444444,
              "#bd3786"
             ],
             [
              0.5555555555555556,
              "#d8576b"
             ],
             [
              0.6666666666666666,
              "#ed7953"
             ],
             [
              0.7777777777777778,
              "#fb9f3a"
             ],
             [
              0.8888888888888888,
              "#fdca26"
             ],
             [
              1.0,
              "#f0f921"
             ]
            ],
            "type": "heatmapgl"
           }
          ],
          "heatmap": [
           {
            "colorbar": {
             "outlinewidth": 0,
             "ticks": ""
            },
            "colorscale": [
             [
              0.0,
              "#0d0887"
             ],
             [
              0.1111111111111111,
              "#46039f"
             ],
             [
              0.2222222222222222,
              "#7201a8"
             ],
             [
              0.3333333333333333,
              "#9c179e"
             ],
             [
              0.4444444444444444,
              "#bd3786"
             ],
             [
              0.5555555555555556,
              "#d8576b"
             ],
             [
              0.6666666666666666,
              "#ed7953"
             ],
             [
              0.7777777777777778,
              "#fb9f3a"
             ],
             [
              0.8888888888888888,
              "#fdca26"
             ],
             [
              1.0,
              "#f0f921"
             ]
            ],
            "type": "heatmap"
           }
          ],
          "histogram2dcontour": [
           {
            "colorbar": {
             "outlinewidth": 0,
             "ticks": ""
            },
            "colorscale": [
             [
              0.0,
              "#0d0887"
             ],
             [
              0.1111111111111111,
              "#46039f"
             ],
             [
              0.2222222222222222,
              "#7201a8"
             ],
             [
              0.3333333333333333,
              "#9c179e"
             ],
             [
              0.4444444444444444,
              "#bd3786"
             ],
             [
              0.5555555555555556,
              "#d8576b"
             ],
             [
              0.6666666666666666,
              "#ed7953"
             ],
             [
              0.7777777777777778,
              "#fb9f3a"
             ],
             [
              0.8888888888888888,
              "#fdca26"
             ],
             [
              1.0,
              "#f0f921"
             ]
            ],
            "type": "histogram2dcontour"
           }
          ],
          "histogram2d": [
           {
            "colorbar": {
             "outlinewidth": 0,
             "ticks": ""
            },
            "colorscale": [
             [
              0.0,
              "#0d0887"
             ],
             [
              0.1111111111111111,
              "#46039f"
             ],
             [
              0.2222222222222222,
              "#7201a8"
             ],
             [
              0.3333333333333333,
              "#9c179e"
             ],
             [
              0.4444444444444444,
              "#bd3786"
             ],
             [
              0.5555555555555556,
              "#d8576b"
             ],
             [
              0.6666666666666666,
              "#ed7953"
             ],
             [
              0.7777777777777778,
              "#fb9f3a"
             ],
             [
              0.8888888888888888,
              "#fdca26"
             ],
             [
              1.0,
              "#f0f921"
             ]
            ],
            "type": "histogram2d"
           }
          ],
          "histogram": [
           {
            "marker": {
             "pattern": {
              "fillmode": "overlay",
              "size": 10,
              "solidity": 0.2
             }
            },
            "type": "histogram"
           }
          ],
          "mesh3d": [
           {
            "colorbar": {
             "outlinewidth": 0,
             "ticks": ""
            },
            "type": "mesh3d"
           }
          ],
          "parcoords": [
           {
            "line": {
             "colorbar": {
              "outlinewidth": 0,
              "ticks": ""
             }
            },
            "type": "parcoords"
           }
          ],
          "pie": [
           {
            "automargin": true,
            "type": "pie"
           }
          ],
          "scatter3d": [
           {
            "line": {
             "colorbar": {
              "outlinewidth": 0,
              "ticks": ""
             }
            },
            "marker": {
             "colorbar": {
              "outlinewidth": 0,
              "ticks": ""
             }
            },
            "type": "scatter3d"
           }
          ],
          "scattercarpet": [
           {
            "marker": {
             "colorbar": {
              "outlinewidth": 0,
              "ticks": ""
             }
            },
            "type": "scattercarpet"
           }
          ],
          "scattergeo": [
           {
            "marker": {
             "colorbar": {
              "outlinewidth": 0,
              "ticks": ""
             }
            },
            "type": "scattergeo"
           }
          ],
          "scattergl": [
           {
            "marker": {
             "colorbar": {
              "outlinewidth": 0,
              "ticks": ""
             }
            },
            "type": "scattergl"
           }
          ],
          "scattermapbox": [
           {
            "marker": {
             "colorbar": {
              "outlinewidth": 0,
              "ticks": ""
             }
            },
            "type": "scattermapbox"
           }
          ],
          "scatterpolargl": [
           {
            "marker": {
             "colorbar": {
              "outlinewidth": 0,
              "ticks": ""
             }
            },
            "type": "scatterpolargl"
           }
          ],
          "scatterpolar": [
           {
            "marker": {
             "colorbar": {
              "outlinewidth": 0,
              "ticks": ""
             }
            },
            "type": "scatterpolar"
           }
          ],
          "scatter": [
           {
            "fillpattern": {
             "fillmode": "overlay",
             "size": 10,
             "solidity": 0.2
            },
            "type": "scatter"
           }
          ],
          "scatterternary": [
           {
            "marker": {
             "colorbar": {
              "outlinewidth": 0,
              "ticks": ""
             }
            },
            "type": "scatterternary"
           }
          ],
          "surface": [
           {
            "colorbar": {
             "outlinewidth": 0,
             "ticks": ""
            },
            "colorscale": [
             [
              0.0,
              "#0d0887"
             ],
             [
              0.1111111111111111,
              "#46039f"
             ],
             [
              0.2222222222222222,
              "#7201a8"
             ],
             [
              0.3333333333333333,
              "#9c179e"
             ],
             [
              0.4444444444444444,
              "#bd3786"
             ],
             [
              0.5555555555555556,
              "#d8576b"
             ],
             [
              0.6666666666666666,
              "#ed7953"
             ],
             [
              0.7777777777777778,
              "#fb9f3a"
             ],
             [
              0.8888888888888888,
              "#fdca26"
             ],
             [
              1.0,
              "#f0f921"
             ]
            ],
            "type": "surface"
           }
          ],
          "table": [
           {
            "cells": {
             "fill": {
              "color": "#EBF0F8"
             },
             "line": {
              "color": "white"
             }
            },
            "header": {
             "fill": {
              "color": "#C8D4E3"
             },
             "line": {
              "color": "white"
             }
            },
            "type": "table"
           }
          ]
         },
         "layout": {
          "annotationdefaults": {
           "arrowcolor": "#2a3f5f",
           "arrowhead": 0,
           "arrowwidth": 1
          },
          "autotypenumbers": "strict",
          "coloraxis": {
           "colorbar": {
            "outlinewidth": 0,
            "ticks": ""
           }
          },
          "colorscale": {
           "diverging": [
            [
             0,
             "#8e0152"
            ],
            [
             0.1,
             "#c51b7d"
            ],
            [
             0.2,
             "#de77ae"
            ],
            [
             0.3,
             "#f1b6da"
            ],
            [
             0.4,
             "#fde0ef"
            ],
            [
             0.5,
             "#f7f7f7"
            ],
            [
             0.6,
             "#e6f5d0"
            ],
            [
             0.7,
             "#b8e186"
            ],
            [
             0.8,
             "#7fbc41"
            ],
            [
             0.9,
             "#4d9221"
            ],
            [
             1,
             "#276419"
            ]
           ],
           "sequential": [
            [
             0.0,
             "#0d0887"
            ],
            [
             0.1111111111111111,
             "#46039f"
            ],
            [
             0.2222222222222222,
             "#7201a8"
            ],
            [
             0.3333333333333333,
             "#9c179e"
            ],
            [
             0.4444444444444444,
             "#bd3786"
            ],
            [
             0.5555555555555556,
             "#d8576b"
            ],
            [
             0.6666666666666666,
             "#ed7953"
            ],
            [
             0.7777777777777778,
             "#fb9f3a"
            ],
            [
             0.8888888888888888,
             "#fdca26"
            ],
            [
             1.0,
             "#f0f921"
            ]
           ],
           "sequentialminus": [
            [
             0.0,
             "#0d0887"
            ],
            [
             0.1111111111111111,
             "#46039f"
            ],
            [
             0.2222222222222222,
             "#7201a8"
            ],
            [
             0.3333333333333333,
             "#9c179e"
            ],
            [
             0.4444444444444444,
             "#bd3786"
            ],
            [
             0.5555555555555556,
             "#d8576b"
            ],
            [
             0.6666666666666666,
             "#ed7953"
            ],
            [
             0.7777777777777778,
             "#fb9f3a"
            ],
            [
             0.8888888888888888,
             "#fdca26"
            ],
            [
             1.0,
             "#f0f921"
            ]
           ]
          },
          "colorway": [
           "#636efa",
           "#EF553B",
           "#00cc96",
           "#ab63fa",
           "#FFA15A",
           "#19d3f3",
           "#FF6692",
           "#B6E880",
           "#FF97FF",
           "#FECB52"
          ],
          "font": {
           "color": "#2a3f5f"
          },
          "geo": {
           "bgcolor": "white",
           "lakecolor": "white",
           "landcolor": "white",
           "showlakes": true,
           "showland": true,
           "subunitcolor": "#C8D4E3"
          },
          "hoverlabel": {
           "align": "left"
          },
          "hovermode": "closest",
          "mapbox": {
           "style": "light"
          },
          "paper_bgcolor": "white",
          "plot_bgcolor": "white",
          "polar": {
           "angularaxis": {
            "gridcolor": "#EBF0F8",
            "linecolor": "#EBF0F8",
            "ticks": ""
           },
           "bgcolor": "white",
           "radialaxis": {
            "gridcolor": "#EBF0F8",
            "linecolor": "#EBF0F8",
            "ticks": ""
           }
          },
          "scene": {
           "xaxis": {
            "backgroundcolor": "white",
            "gridcolor": "#DFE8F3",
            "gridwidth": 2,
            "linecolor": "#EBF0F8",
            "showbackground": true,
            "ticks": "",
            "zerolinecolor": "#EBF0F8"
           },
           "yaxis": {
            "backgroundcolor": "white",
            "gridcolor": "#DFE8F3",
            "gridwidth": 2,
            "linecolor": "#EBF0F8",
            "showbackground": true,
            "ticks": "",
            "zerolinecolor": "#EBF0F8"
           },
           "zaxis": {
            "backgroundcolor": "white",
            "gridcolor": "#DFE8F3",
            "gridwidth": 2,
            "linecolor": "#EBF0F8",
            "showbackground": true,
            "ticks": "",
            "zerolinecolor": "#EBF0F8"
           }
          },
          "shapedefaults": {
           "line": {
            "color": "#2a3f5f"
           }
          },
          "ternary": {
           "aaxis": {
            "gridcolor": "#DFE8F3",
            "linecolor": "#A2B1C6",
            "ticks": ""
           },
           "baxis": {
            "gridcolor": "#DFE8F3",
            "linecolor": "#A2B1C6",
            "ticks": ""
           },
           "bgcolor": "white",
           "caxis": {
            "gridcolor": "#DFE8F3",
            "linecolor": "#A2B1C6",
            "ticks": ""
           }
          },
          "title": {
           "x": 0.05
          },
          "xaxis": {
           "automargin": true,
           "gridcolor": "#EBF0F8",
           "linecolor": "#EBF0F8",
           "ticks": "",
           "title": {
            "standoff": 15
           },
           "zerolinecolor": "#EBF0F8",
           "zerolinewidth": 2
          },
          "yaxis": {
           "automargin": true,
           "gridcolor": "#EBF0F8",
           "linecolor": "#EBF0F8",
           "ticks": "",
           "title": {
            "standoff": 15
           },
           "zerolinecolor": "#EBF0F8",
           "zerolinewidth": 2
          }
         }
        },
        "xaxis": {
         "anchor": "y",
         "domain": [
          0.0,
          1.0
         ],
         "title": {
          "text": "Date"
         }
        },
        "yaxis": {
         "anchor": "x",
         "domain": [
          0.0,
          1.0
         ],
         "title": {
          "text": "value"
         }
        },
        "legend": {
         "title": {
          "text": "variable"
         },
         "tracegroupgap": 0
        },
        "margin": {
         "t": 60
        }
       },
       "config": {
        "plotlyServerURL": "https://plot.ly"
       }
      },
      "text/html": "<div>                            <div id=\"e36f8f83-d00d-4478-ab68-5f3b07cc55c7\" class=\"plotly-graph-div\" style=\"height:525px; width:100%;\"></div>            <script type=\"text/javascript\">                require([\"plotly\"], function(Plotly) {                    window.PLOTLYENV=window.PLOTLYENV || {};                                    if (document.getElementById(\"e36f8f83-d00d-4478-ab68-5f3b07cc55c7\")) {                    Plotly.newPlot(                        \"e36f8f83-d00d-4478-ab68-5f3b07cc55c7\",                        [{\"hovertemplate\":\"variable=Total Payroll Revenue.<br>Date=%{x}<br>value=%{y}<extra></extra>\",\"legendgroup\":\"Total Payroll Revenue.\",\"line\":{\"color\":\"#636efa\",\"dash\":\"solid\"},\"marker\":{\"symbol\":\"circle\"},\"mode\":\"lines\",\"name\":\"Total Payroll Revenue.\",\"orientation\":\"v\",\"showlegend\":true,\"x\":[\"2021-06-01T00:00:00\",\"2021-07-01T00:00:00\",\"2021-08-01T00:00:00\",\"2021-09-01T00:00:00\",\"2021-10-01T00:00:00\",\"2021-11-01T00:00:00\",\"2021-12-01T00:00:00\",\"2022-01-01T00:00:00\"],\"xaxis\":\"x\",\"y\":[157525302.07,160305548.52,158182438.20000002,163679401.35999998,158214702.45,165418426.08,190293575.41,258924143.26],\"yaxis\":\"y\",\"type\":\"scatter\"},{\"hovertemplate\":\"variable=Total Payroll Revenue. - ML Predicted<br>Date=%{x}<br>value=%{y}<extra></extra>\",\"legendgroup\":\"Total Payroll Revenue. - ML Predicted\",\"line\":{\"color\":\"#EF553B\",\"dash\":\"solid\"},\"marker\":{\"symbol\":\"circle\"},\"mode\":\"lines\",\"name\":\"Total Payroll Revenue. - ML Predicted\",\"orientation\":\"v\",\"showlegend\":true,\"x\":[\"2021-06-01T00:00:00\",\"2021-07-01T00:00:00\",\"2021-08-01T00:00:00\",\"2021-09-01T00:00:00\",\"2021-10-01T00:00:00\",\"2021-11-01T00:00:00\",\"2021-12-01T00:00:00\",\"2022-01-01T00:00:00\"],\"xaxis\":\"x\",\"y\":[211486938.59868148,174902907.86750594,157542772.4948681,164363538.7481265,160403185.612369,161019889.91070276,186818262.10859,217877642.6938583],\"yaxis\":\"y\",\"type\":\"scatter\"},{\"hovertemplate\":\"variable=UTS<br>Date=%{x}<br>value=%{y}<extra></extra>\",\"legendgroup\":\"UTS\",\"line\":{\"color\":\"#00cc96\",\"dash\":\"solid\"},\"marker\":{\"symbol\":\"circle\"},\"mode\":\"lines\",\"name\":\"UTS\",\"orientation\":\"v\",\"showlegend\":true,\"x\":[\"2021-06-01T00:00:00\",\"2021-07-01T00:00:00\",\"2021-08-01T00:00:00\",\"2021-09-01T00:00:00\",\"2021-10-01T00:00:00\",\"2021-11-01T00:00:00\",\"2021-12-01T00:00:00\",\"2022-01-01T00:00:00\"],\"xaxis\":\"x\",\"y\":[149796058.90388387,159365177.35121104,149724672.22473738,155695908.38812235,162882837.9044883,153424109.39039278,177887442.94799396,237174048.08446875],\"yaxis\":\"y\",\"type\":\"scatter\"}],                        {\"template\":{\"data\":{\"barpolar\":[{\"marker\":{\"line\":{\"color\":\"white\",\"width\":0.5},\"pattern\":{\"fillmode\":\"overlay\",\"size\":10,\"solidity\":0.2}},\"type\":\"barpolar\"}],\"bar\":[{\"error_x\":{\"color\":\"#2a3f5f\"},\"error_y\":{\"color\":\"#2a3f5f\"},\"marker\":{\"line\":{\"color\":\"white\",\"width\":0.5},\"pattern\":{\"fillmode\":\"overlay\",\"size\":10,\"solidity\":0.2}},\"type\":\"bar\"}],\"carpet\":[{\"aaxis\":{\"endlinecolor\":\"#2a3f5f\",\"gridcolor\":\"#C8D4E3\",\"linecolor\":\"#C8D4E3\",\"minorgridcolor\":\"#C8D4E3\",\"startlinecolor\":\"#2a3f5f\"},\"baxis\":{\"endlinecolor\":\"#2a3f5f\",\"gridcolor\":\"#C8D4E3\",\"linecolor\":\"#C8D4E3\",\"minorgridcolor\":\"#C8D4E3\",\"startlinecolor\":\"#2a3f5f\"},\"type\":\"carpet\"}],\"choropleth\":[{\"colorbar\":{\"outlinewidth\":0,\"ticks\":\"\"},\"type\":\"choropleth\"}],\"contourcarpet\":[{\"colorbar\":{\"outlinewidth\":0,\"ticks\":\"\"},\"type\":\"contourcarpet\"}],\"contour\":[{\"colorbar\":{\"outlinewidth\":0,\"ticks\":\"\"},\"colorscale\":[[0.0,\"#0d0887\"],[0.1111111111111111,\"#46039f\"],[0.2222222222222222,\"#7201a8\"],[0.3333333333333333,\"#9c179e\"],[0.4444444444444444,\"#bd3786\"],[0.5555555555555556,\"#d8576b\"],[0.6666666666666666,\"#ed7953\"],[0.7777777777777778,\"#fb9f3a\"],[0.8888888888888888,\"#fdca26\"],[1.0,\"#f0f921\"]],\"type\":\"contour\"}],\"heatmapgl\":[{\"colorbar\":{\"outlinewidth\":0,\"ticks\":\"\"},\"colorscale\":[[0.0,\"#0d0887\"],[0.1111111111111111,\"#46039f\"],[0.2222222222222222,\"#7201a8\"],[0.3333333333333333,\"#9c179e\"],[0.4444444444444444,\"#bd3786\"],[0.5555555555555556,\"#d8576b\"],[0.6666666666666666,\"#ed7953\"],[0.7777777777777778,\"#fb9f3a\"],[0.8888888888888888,\"#fdca26\"],[1.0,\"#f0f921\"]],\"type\":\"heatmapgl\"}],\"heatmap\":[{\"colorbar\":{\"outlinewidth\":0,\"ticks\":\"\"},\"colorscale\":[[0.0,\"#0d0887\"],[0.1111111111111111,\"#46039f\"],[0.2222222222222222,\"#7201a8\"],[0.3333333333333333,\"#9c179e\"],[0.4444444444444444,\"#bd3786\"],[0.5555555555555556,\"#d8576b\"],[0.6666666666666666,\"#ed7953\"],[0.7777777777777778,\"#fb9f3a\"],[0.8888888888888888,\"#fdca26\"],[1.0,\"#f0f921\"]],\"type\":\"heatmap\"}],\"histogram2dcontour\":[{\"colorbar\":{\"outlinewidth\":0,\"ticks\":\"\"},\"colorscale\":[[0.0,\"#0d0887\"],[0.1111111111111111,\"#46039f\"],[0.2222222222222222,\"#7201a8\"],[0.3333333333333333,\"#9c179e\"],[0.4444444444444444,\"#bd3786\"],[0.5555555555555556,\"#d8576b\"],[0.6666666666666666,\"#ed7953\"],[0.7777777777777778,\"#fb9f3a\"],[0.8888888888888888,\"#fdca26\"],[1.0,\"#f0f921\"]],\"type\":\"histogram2dcontour\"}],\"histogram2d\":[{\"colorbar\":{\"outlinewidth\":0,\"ticks\":\"\"},\"colorscale\":[[0.0,\"#0d0887\"],[0.1111111111111111,\"#46039f\"],[0.2222222222222222,\"#7201a8\"],[0.3333333333333333,\"#9c179e\"],[0.4444444444444444,\"#bd3786\"],[0.5555555555555556,\"#d8576b\"],[0.6666666666666666,\"#ed7953\"],[0.7777777777777778,\"#fb9f3a\"],[0.8888888888888888,\"#fdca26\"],[1.0,\"#f0f921\"]],\"type\":\"histogram2d\"}],\"histogram\":[{\"marker\":{\"pattern\":{\"fillmode\":\"overlay\",\"size\":10,\"solidity\":0.2}},\"type\":\"histogram\"}],\"mesh3d\":[{\"colorbar\":{\"outlinewidth\":0,\"ticks\":\"\"},\"type\":\"mesh3d\"}],\"parcoords\":[{\"line\":{\"colorbar\":{\"outlinewidth\":0,\"ticks\":\"\"}},\"type\":\"parcoords\"}],\"pie\":[{\"automargin\":true,\"type\":\"pie\"}],\"scatter3d\":[{\"line\":{\"colorbar\":{\"outlinewidth\":0,\"ticks\":\"\"}},\"marker\":{\"colorbar\":{\"outlinewidth\":0,\"ticks\":\"\"}},\"type\":\"scatter3d\"}],\"scattercarpet\":[{\"marker\":{\"colorbar\":{\"outlinewidth\":0,\"ticks\":\"\"}},\"type\":\"scattercarpet\"}],\"scattergeo\":[{\"marker\":{\"colorbar\":{\"outlinewidth\":0,\"ticks\":\"\"}},\"type\":\"scattergeo\"}],\"scattergl\":[{\"marker\":{\"colorbar\":{\"outlinewidth\":0,\"ticks\":\"\"}},\"type\":\"scattergl\"}],\"scattermapbox\":[{\"marker\":{\"colorbar\":{\"outlinewidth\":0,\"ticks\":\"\"}},\"type\":\"scattermapbox\"}],\"scatterpolargl\":[{\"marker\":{\"colorbar\":{\"outlinewidth\":0,\"ticks\":\"\"}},\"type\":\"scatterpolargl\"}],\"scatterpolar\":[{\"marker\":{\"colorbar\":{\"outlinewidth\":0,\"ticks\":\"\"}},\"type\":\"scatterpolar\"}],\"scatter\":[{\"fillpattern\":{\"fillmode\":\"overlay\",\"size\":10,\"solidity\":0.2},\"type\":\"scatter\"}],\"scatterternary\":[{\"marker\":{\"colorbar\":{\"outlinewidth\":0,\"ticks\":\"\"}},\"type\":\"scatterternary\"}],\"surface\":[{\"colorbar\":{\"outlinewidth\":0,\"ticks\":\"\"},\"colorscale\":[[0.0,\"#0d0887\"],[0.1111111111111111,\"#46039f\"],[0.2222222222222222,\"#7201a8\"],[0.3333333333333333,\"#9c179e\"],[0.4444444444444444,\"#bd3786\"],[0.5555555555555556,\"#d8576b\"],[0.6666666666666666,\"#ed7953\"],[0.7777777777777778,\"#fb9f3a\"],[0.8888888888888888,\"#fdca26\"],[1.0,\"#f0f921\"]],\"type\":\"surface\"}],\"table\":[{\"cells\":{\"fill\":{\"color\":\"#EBF0F8\"},\"line\":{\"color\":\"white\"}},\"header\":{\"fill\":{\"color\":\"#C8D4E3\"},\"line\":{\"color\":\"white\"}},\"type\":\"table\"}]},\"layout\":{\"annotationdefaults\":{\"arrowcolor\":\"#2a3f5f\",\"arrowhead\":0,\"arrowwidth\":1},\"autotypenumbers\":\"strict\",\"coloraxis\":{\"colorbar\":{\"outlinewidth\":0,\"ticks\":\"\"}},\"colorscale\":{\"diverging\":[[0,\"#8e0152\"],[0.1,\"#c51b7d\"],[0.2,\"#de77ae\"],[0.3,\"#f1b6da\"],[0.4,\"#fde0ef\"],[0.5,\"#f7f7f7\"],[0.6,\"#e6f5d0\"],[0.7,\"#b8e186\"],[0.8,\"#7fbc41\"],[0.9,\"#4d9221\"],[1,\"#276419\"]],\"sequential\":[[0.0,\"#0d0887\"],[0.1111111111111111,\"#46039f\"],[0.2222222222222222,\"#7201a8\"],[0.3333333333333333,\"#9c179e\"],[0.4444444444444444,\"#bd3786\"],[0.5555555555555556,\"#d8576b\"],[0.6666666666666666,\"#ed7953\"],[0.7777777777777778,\"#fb9f3a\"],[0.8888888888888888,\"#fdca26\"],[1.0,\"#f0f921\"]],\"sequentialminus\":[[0.0,\"#0d0887\"],[0.1111111111111111,\"#46039f\"],[0.2222222222222222,\"#7201a8\"],[0.3333333333333333,\"#9c179e\"],[0.4444444444444444,\"#bd3786\"],[0.5555555555555556,\"#d8576b\"],[0.6666666666666666,\"#ed7953\"],[0.7777777777777778,\"#fb9f3a\"],[0.8888888888888888,\"#fdca26\"],[1.0,\"#f0f921\"]]},\"colorway\":[\"#636efa\",\"#EF553B\",\"#00cc96\",\"#ab63fa\",\"#FFA15A\",\"#19d3f3\",\"#FF6692\",\"#B6E880\",\"#FF97FF\",\"#FECB52\"],\"font\":{\"color\":\"#2a3f5f\"},\"geo\":{\"bgcolor\":\"white\",\"lakecolor\":\"white\",\"landcolor\":\"white\",\"showlakes\":true,\"showland\":true,\"subunitcolor\":\"#C8D4E3\"},\"hoverlabel\":{\"align\":\"left\"},\"hovermode\":\"closest\",\"mapbox\":{\"style\":\"light\"},\"paper_bgcolor\":\"white\",\"plot_bgcolor\":\"white\",\"polar\":{\"angularaxis\":{\"gridcolor\":\"#EBF0F8\",\"linecolor\":\"#EBF0F8\",\"ticks\":\"\"},\"bgcolor\":\"white\",\"radialaxis\":{\"gridcolor\":\"#EBF0F8\",\"linecolor\":\"#EBF0F8\",\"ticks\":\"\"}},\"scene\":{\"xaxis\":{\"backgroundcolor\":\"white\",\"gridcolor\":\"#DFE8F3\",\"gridwidth\":2,\"linecolor\":\"#EBF0F8\",\"showbackground\":true,\"ticks\":\"\",\"zerolinecolor\":\"#EBF0F8\"},\"yaxis\":{\"backgroundcolor\":\"white\",\"gridcolor\":\"#DFE8F3\",\"gridwidth\":2,\"linecolor\":\"#EBF0F8\",\"showbackground\":true,\"ticks\":\"\",\"zerolinecolor\":\"#EBF0F8\"},\"zaxis\":{\"backgroundcolor\":\"white\",\"gridcolor\":\"#DFE8F3\",\"gridwidth\":2,\"linecolor\":\"#EBF0F8\",\"showbackground\":true,\"ticks\":\"\",\"zerolinecolor\":\"#EBF0F8\"}},\"shapedefaults\":{\"line\":{\"color\":\"#2a3f5f\"}},\"ternary\":{\"aaxis\":{\"gridcolor\":\"#DFE8F3\",\"linecolor\":\"#A2B1C6\",\"ticks\":\"\"},\"baxis\":{\"gridcolor\":\"#DFE8F3\",\"linecolor\":\"#A2B1C6\",\"ticks\":\"\"},\"bgcolor\":\"white\",\"caxis\":{\"gridcolor\":\"#DFE8F3\",\"linecolor\":\"#A2B1C6\",\"ticks\":\"\"}},\"title\":{\"x\":0.05},\"xaxis\":{\"automargin\":true,\"gridcolor\":\"#EBF0F8\",\"linecolor\":\"#EBF0F8\",\"ticks\":\"\",\"title\":{\"standoff\":15},\"zerolinecolor\":\"#EBF0F8\",\"zerolinewidth\":2},\"yaxis\":{\"automargin\":true,\"gridcolor\":\"#EBF0F8\",\"linecolor\":\"#EBF0F8\",\"ticks\":\"\",\"title\":{\"standoff\":15},\"zerolinecolor\":\"#EBF0F8\",\"zerolinewidth\":2}}},\"xaxis\":{\"anchor\":\"y\",\"domain\":[0.0,1.0],\"title\":{\"text\":\"Date\"}},\"yaxis\":{\"anchor\":\"x\",\"domain\":[0.0,1.0],\"title\":{\"text\":\"value\"}},\"legend\":{\"title\":{\"text\":\"variable\"},\"tracegroupgap\":0},\"margin\":{\"t\":60}},                        {\"responsive\": true}                    ).then(function(){\n                            \nvar gd = document.getElementById('e36f8f83-d00d-4478-ab68-5f3b07cc55c7');\nvar x = new MutationObserver(function (mutations, observer) {{\n        var display = window.getComputedStyle(gd).display;\n        if (!display || display === 'none') {{\n            console.log([gd, 'removed!']);\n            Plotly.purge(gd);\n            observer.disconnect();\n        }}\n}});\n\n// Listen for the removal of the full notebook cells\nvar notebookContainer = gd.closest('#notebook-container');\nif (notebookContainer) {{\n    x.observe(notebookContainer, {childList: true});\n}}\n\n// Listen for the clearing of the current output cell\nvar outputEl = gd.closest('.output');\nif (outputEl) {{\n    x.observe(outputEl, {childList: true});\n}}\n\n                        })                };                });            </script>        </div>"
     },
     "metadata": {},
     "output_type": "display_data"
    }
   ],
   "source": [
    "predictions['Date'] = pd.date_range(start=str(pred_start_dt), end = str(pred_end_dt), freq = 'MS')\n",
    "predictions.rename(columns={'Label':target_col+' - ML Predicted'}, inplace=True)\n",
    "fig = px.line(predictions, x='Date', y=[target_col, target_col+' - ML Predicted', 'UTS'], template = 'plotly_white')\n",
    "fig.show()"
   ],
   "metadata": {
    "collapsed": false,
    "pycharm": {
     "name": "#%%\n"
    }
   }
  },
  {
   "cell_type": "code",
   "execution_count": null,
   "outputs": [],
   "source": [],
   "metadata": {
    "collapsed": false,
    "pycharm": {
     "name": "#%%\n"
    }
   }
  }
 ],
 "metadata": {
  "kernelspec": {
   "display_name": "Python 3",
   "language": "python",
   "name": "python3"
  },
  "language_info": {
   "codemirror_mode": {
    "name": "ipython",
    "version": 2
   },
   "file_extension": ".py",
   "mimetype": "text/x-python",
   "name": "python",
   "nbconvert_exporter": "python",
   "pygments_lexer": "ipython2",
   "version": "2.7.6"
  }
 },
 "nbformat": 4,
 "nbformat_minor": 0
}