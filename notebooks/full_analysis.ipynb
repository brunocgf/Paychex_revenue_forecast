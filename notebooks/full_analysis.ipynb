{
 "cells": [
  {
   "cell_type": "code",
   "execution_count": 1,
   "metadata": {},
   "outputs": [
    {
     "data": {
      "text/html": [
       "<style type=\"text/css\">\n",
       "#T_3baed_ th {\n",
       "  text-align: left;\n",
       "}\n",
       "#T_3baed_row0_col0, #T_3baed_row0_col2, #T_3baed_row0_col3, #T_3baed_row0_col4, #T_3baed_row0_col5, #T_3baed_row0_col6, #T_3baed_row1_col0, #T_3baed_row1_col1, #T_3baed_row2_col0, #T_3baed_row2_col1, #T_3baed_row2_col2, #T_3baed_row2_col3, #T_3baed_row2_col4, #T_3baed_row2_col5, #T_3baed_row2_col6, #T_3baed_row3_col0, #T_3baed_row3_col1, #T_3baed_row3_col2, #T_3baed_row3_col3, #T_3baed_row3_col4, #T_3baed_row3_col5, #T_3baed_row3_col6, #T_3baed_row4_col0, #T_3baed_row4_col1, #T_3baed_row4_col2, #T_3baed_row4_col3, #T_3baed_row4_col4, #T_3baed_row4_col5, #T_3baed_row4_col6, #T_3baed_row5_col0, #T_3baed_row5_col1, #T_3baed_row5_col2, #T_3baed_row5_col3, #T_3baed_row5_col4, #T_3baed_row5_col5, #T_3baed_row5_col6, #T_3baed_row6_col0, #T_3baed_row6_col1, #T_3baed_row6_col2, #T_3baed_row6_col3, #T_3baed_row6_col4, #T_3baed_row6_col5, #T_3baed_row6_col6, #T_3baed_row7_col0, #T_3baed_row7_col1, #T_3baed_row7_col2, #T_3baed_row7_col3, #T_3baed_row7_col4, #T_3baed_row7_col5, #T_3baed_row7_col6, #T_3baed_row8_col0, #T_3baed_row8_col1, #T_3baed_row8_col2, #T_3baed_row8_col3, #T_3baed_row8_col4, #T_3baed_row8_col5, #T_3baed_row8_col6, #T_3baed_row9_col0, #T_3baed_row9_col1, #T_3baed_row9_col2, #T_3baed_row9_col3, #T_3baed_row9_col4, #T_3baed_row9_col5, #T_3baed_row9_col6, #T_3baed_row10_col0, #T_3baed_row10_col1, #T_3baed_row10_col2, #T_3baed_row10_col3, #T_3baed_row10_col4, #T_3baed_row10_col5, #T_3baed_row10_col6, #T_3baed_row11_col0, #T_3baed_row11_col1, #T_3baed_row11_col2, #T_3baed_row11_col3, #T_3baed_row11_col4, #T_3baed_row11_col5, #T_3baed_row11_col6, #T_3baed_row12_col0, #T_3baed_row12_col1, #T_3baed_row12_col2, #T_3baed_row12_col3, #T_3baed_row12_col4, #T_3baed_row12_col5, #T_3baed_row12_col6, #T_3baed_row13_col0, #T_3baed_row13_col1, #T_3baed_row13_col2, #T_3baed_row13_col3, #T_3baed_row13_col4, #T_3baed_row13_col5, #T_3baed_row13_col6, #T_3baed_row14_col0, #T_3baed_row14_col1, #T_3baed_row14_col2, #T_3baed_row14_col3, #T_3baed_row14_col4, #T_3baed_row14_col5, #T_3baed_row14_col6, #T_3baed_row15_col0, #T_3baed_row15_col1, #T_3baed_row15_col2, #T_3baed_row15_col3, #T_3baed_row15_col4, #T_3baed_row15_col5, #T_3baed_row15_col6, #T_3baed_row16_col0, #T_3baed_row16_col1, #T_3baed_row16_col2, #T_3baed_row16_col3, #T_3baed_row16_col4, #T_3baed_row16_col5, #T_3baed_row16_col6, #T_3baed_row17_col0, #T_3baed_row17_col1, #T_3baed_row17_col2, #T_3baed_row17_col3, #T_3baed_row17_col4, #T_3baed_row17_col5, #T_3baed_row17_col6, #T_3baed_row18_col0, #T_3baed_row18_col1, #T_3baed_row18_col2, #T_3baed_row18_col3, #T_3baed_row18_col4, #T_3baed_row18_col5, #T_3baed_row18_col6, #T_3baed_row19_col0, #T_3baed_row19_col1, #T_3baed_row19_col2, #T_3baed_row19_col3, #T_3baed_row19_col4, #T_3baed_row19_col5, #T_3baed_row19_col6 {\n",
       "  text-align: left;\n",
       "}\n",
       "#T_3baed_row0_col1, #T_3baed_row1_col2, #T_3baed_row1_col3, #T_3baed_row1_col4, #T_3baed_row1_col5, #T_3baed_row1_col6 {\n",
       "  text-align: left;\n",
       "  background-color: yellow;\n",
       "}\n",
       "#T_3baed_row0_col7, #T_3baed_row1_col7, #T_3baed_row2_col7, #T_3baed_row3_col7, #T_3baed_row4_col7, #T_3baed_row5_col7, #T_3baed_row6_col7, #T_3baed_row7_col7, #T_3baed_row8_col7, #T_3baed_row9_col7, #T_3baed_row10_col7, #T_3baed_row12_col7, #T_3baed_row14_col7, #T_3baed_row17_col7, #T_3baed_row19_col7 {\n",
       "  text-align: left;\n",
       "  background-color: lightgrey;\n",
       "}\n",
       "#T_3baed_row11_col7, #T_3baed_row13_col7, #T_3baed_row15_col7, #T_3baed_row16_col7, #T_3baed_row18_col7 {\n",
       "  text-align: left;\n",
       "  background-color: yellow;\n",
       "  background-color: lightgrey;\n",
       "}\n",
       "</style>\n",
       "<table id=\"T_3baed_\">\n",
       "  <thead>\n",
       "    <tr>\n",
       "      <th class=\"blank level0\" >&nbsp;</th>\n",
       "      <th class=\"col_heading level0 col0\" >Model</th>\n",
       "      <th class=\"col_heading level0 col1\" >MAE</th>\n",
       "      <th class=\"col_heading level0 col2\" >MSE</th>\n",
       "      <th class=\"col_heading level0 col3\" >RMSE</th>\n",
       "      <th class=\"col_heading level0 col4\" >R2</th>\n",
       "      <th class=\"col_heading level0 col5\" >RMSLE</th>\n",
       "      <th class=\"col_heading level0 col6\" >MAPE</th>\n",
       "      <th class=\"col_heading level0 col7\" >TT (Sec)</th>\n",
       "    </tr>\n",
       "  </thead>\n",
       "  <tbody>\n",
       "    <tr>\n",
       "      <th id=\"T_3baed_level0_row0\" class=\"row_heading level0 row0\" >et</th>\n",
       "      <td id=\"T_3baed_row0_col0\" class=\"data row0 col0\" >Extra Trees Regressor</td>\n",
       "      <td id=\"T_3baed_row0_col1\" class=\"data row0 col1\" >4925325.8281</td>\n",
       "      <td id=\"T_3baed_row0_col2\" class=\"data row0 col2\" >51339983401790.1484</td>\n",
       "      <td id=\"T_3baed_row0_col3\" class=\"data row0 col3\" >6888097.3025</td>\n",
       "      <td id=\"T_3baed_row0_col4\" class=\"data row0 col4\" >0.2591</td>\n",
       "      <td id=\"T_3baed_row0_col5\" class=\"data row0 col5\" >0.0644</td>\n",
       "      <td id=\"T_3baed_row0_col6\" class=\"data row0 col6\" >0.0454</td>\n",
       "      <td id=\"T_3baed_row0_col7\" class=\"data row0 col7\" >0.1500</td>\n",
       "    </tr>\n",
       "    <tr>\n",
       "      <th id=\"T_3baed_level0_row1\" class=\"row_heading level0 row1\" >catboost</th>\n",
       "      <td id=\"T_3baed_row1_col0\" class=\"data row1 col0\" >CatBoost Regressor</td>\n",
       "      <td id=\"T_3baed_row1_col1\" class=\"data row1 col1\" >4946273.6826</td>\n",
       "      <td id=\"T_3baed_row1_col2\" class=\"data row1 col2\" >40795120652438.8125</td>\n",
       "      <td id=\"T_3baed_row1_col3\" class=\"data row1 col3\" >6277204.7697</td>\n",
       "      <td id=\"T_3baed_row1_col4\" class=\"data row1 col4\" >0.3682</td>\n",
       "      <td id=\"T_3baed_row1_col5\" class=\"data row1 col5\" >0.0579</td>\n",
       "      <td id=\"T_3baed_row1_col6\" class=\"data row1 col6\" >0.0453</td>\n",
       "      <td id=\"T_3baed_row1_col7\" class=\"data row1 col7\" >0.6100</td>\n",
       "    </tr>\n",
       "    <tr>\n",
       "      <th id=\"T_3baed_level0_row2\" class=\"row_heading level0 row2\" >ada</th>\n",
       "      <td id=\"T_3baed_row2_col0\" class=\"data row2 col0\" >AdaBoost Regressor</td>\n",
       "      <td id=\"T_3baed_row2_col1\" class=\"data row2 col1\" >5472311.6516</td>\n",
       "      <td id=\"T_3baed_row2_col2\" class=\"data row2 col2\" >51010955823574.4375</td>\n",
       "      <td id=\"T_3baed_row2_col3\" class=\"data row2 col3\" >6886493.0609</td>\n",
       "      <td id=\"T_3baed_row2_col4\" class=\"data row2 col4\" >0.2385</td>\n",
       "      <td id=\"T_3baed_row2_col5\" class=\"data row2 col5\" >0.0639</td>\n",
       "      <td id=\"T_3baed_row2_col6\" class=\"data row2 col6\" >0.0499</td>\n",
       "      <td id=\"T_3baed_row2_col7\" class=\"data row2 col7\" >0.0533</td>\n",
       "    </tr>\n",
       "    <tr>\n",
       "      <th id=\"T_3baed_level0_row3\" class=\"row_heading level0 row3\" >rf</th>\n",
       "      <td id=\"T_3baed_row3_col0\" class=\"data row3 col0\" >Random Forest Regressor</td>\n",
       "      <td id=\"T_3baed_row3_col1\" class=\"data row3 col1\" >5541127.0400</td>\n",
       "      <td id=\"T_3baed_row3_col2\" class=\"data row3 col2\" >54968221439563.9766</td>\n",
       "      <td id=\"T_3baed_row3_col3\" class=\"data row3 col3\" >7302429.5808</td>\n",
       "      <td id=\"T_3baed_row3_col4\" class=\"data row3 col4\" >0.1445</td>\n",
       "      <td id=\"T_3baed_row3_col5\" class=\"data row3 col5\" >0.0678</td>\n",
       "      <td id=\"T_3baed_row3_col6\" class=\"data row3 col6\" >0.0507</td>\n",
       "      <td id=\"T_3baed_row3_col7\" class=\"data row3 col7\" >0.1700</td>\n",
       "    </tr>\n",
       "    <tr>\n",
       "      <th id=\"T_3baed_level0_row4\" class=\"row_heading level0 row4\" >gbr</th>\n",
       "      <td id=\"T_3baed_row4_col0\" class=\"data row4 col0\" >Gradient Boosting Regressor</td>\n",
       "      <td id=\"T_3baed_row4_col1\" class=\"data row4 col1\" >6195010.1658</td>\n",
       "      <td id=\"T_3baed_row4_col2\" class=\"data row4 col2\" >69719872716432.3828</td>\n",
       "      <td id=\"T_3baed_row4_col3\" class=\"data row4 col3\" >8160397.7390</td>\n",
       "      <td id=\"T_3baed_row4_col4\" class=\"data row4 col4\" >-0.0788</td>\n",
       "      <td id=\"T_3baed_row4_col5\" class=\"data row4 col5\" >0.0763</td>\n",
       "      <td id=\"T_3baed_row4_col6\" class=\"data row4 col6\" >0.0565</td>\n",
       "      <td id=\"T_3baed_row4_col7\" class=\"data row4 col7\" >0.0333</td>\n",
       "    </tr>\n",
       "    <tr>\n",
       "      <th id=\"T_3baed_level0_row5\" class=\"row_heading level0 row5\" >xgboost</th>\n",
       "      <td id=\"T_3baed_row5_col0\" class=\"data row5 col0\" >Extreme Gradient Boosting</td>\n",
       "      <td id=\"T_3baed_row5_col1\" class=\"data row5 col1\" >6408864.0000</td>\n",
       "      <td id=\"T_3baed_row5_col2\" class=\"data row5 col2\" >73075212506453.3281</td>\n",
       "      <td id=\"T_3baed_row5_col3\" class=\"data row5 col3\" >8119935.5000</td>\n",
       "      <td id=\"T_3baed_row5_col4\" class=\"data row5 col4\" >-0.1267</td>\n",
       "      <td id=\"T_3baed_row5_col5\" class=\"data row5 col5\" >0.0761</td>\n",
       "      <td id=\"T_3baed_row5_col6\" class=\"data row5 col6\" >0.0580</td>\n",
       "      <td id=\"T_3baed_row5_col7\" class=\"data row5 col7\" >0.2267</td>\n",
       "    </tr>\n",
       "    <tr>\n",
       "      <th id=\"T_3baed_level0_row6\" class=\"row_heading level0 row6\" >lightgbm</th>\n",
       "      <td id=\"T_3baed_row6_col0\" class=\"data row6 col0\" >Light Gradient Boosting Machine</td>\n",
       "      <td id=\"T_3baed_row6_col1\" class=\"data row6 col1\" >6502045.0660</td>\n",
       "      <td id=\"T_3baed_row6_col2\" class=\"data row6 col2\" >58715692408951.0547</td>\n",
       "      <td id=\"T_3baed_row6_col3\" class=\"data row6 col3\" >7590940.6703</td>\n",
       "      <td id=\"T_3baed_row6_col4\" class=\"data row6 col4\" >0.0393</td>\n",
       "      <td id=\"T_3baed_row6_col5\" class=\"data row6 col5\" >0.0692</td>\n",
       "      <td id=\"T_3baed_row6_col6\" class=\"data row6 col6\" >0.0593</td>\n",
       "      <td id=\"T_3baed_row6_col7\" class=\"data row6 col7\" >0.0500</td>\n",
       "    </tr>\n",
       "    <tr>\n",
       "      <th id=\"T_3baed_level0_row7\" class=\"row_heading level0 row7\" >dummy</th>\n",
       "      <td id=\"T_3baed_row7_col0\" class=\"data row7 col0\" >Dummy Regressor</td>\n",
       "      <td id=\"T_3baed_row7_col1\" class=\"data row7 col1\" >6761397.1667</td>\n",
       "      <td id=\"T_3baed_row7_col2\" class=\"data row7 col2\" >68877178372096.0000</td>\n",
       "      <td id=\"T_3baed_row7_col3\" class=\"data row7 col3\" >8176986.8333</td>\n",
       "      <td id=\"T_3baed_row7_col4\" class=\"data row7 col4\" >-0.0736</td>\n",
       "      <td id=\"T_3baed_row7_col5\" class=\"data row7 col5\" >0.0748</td>\n",
       "      <td id=\"T_3baed_row7_col6\" class=\"data row7 col6\" >0.0618</td>\n",
       "      <td id=\"T_3baed_row7_col7\" class=\"data row7 col7\" >0.0167</td>\n",
       "    </tr>\n",
       "    <tr>\n",
       "      <th id=\"T_3baed_level0_row8\" class=\"row_heading level0 row8\" >dt</th>\n",
       "      <td id=\"T_3baed_row8_col0\" class=\"data row8 col0\" >Decision Tree Regressor</td>\n",
       "      <td id=\"T_3baed_row8_col1\" class=\"data row8 col1\" >7187486.2222</td>\n",
       "      <td id=\"T_3baed_row8_col2\" class=\"data row8 col2\" >96618716693319.1250</td>\n",
       "      <td id=\"T_3baed_row8_col3\" class=\"data row8 col3\" >9649164.2984</td>\n",
       "      <td id=\"T_3baed_row8_col4\" class=\"data row8 col4\" >-0.6214</td>\n",
       "      <td id=\"T_3baed_row8_col5\" class=\"data row8 col5\" >0.0913</td>\n",
       "      <td id=\"T_3baed_row8_col6\" class=\"data row8 col6\" >0.0660</td>\n",
       "      <td id=\"T_3baed_row8_col7\" class=\"data row8 col7\" >0.0167</td>\n",
       "    </tr>\n",
       "    <tr>\n",
       "      <th id=\"T_3baed_level0_row9\" class=\"row_heading level0 row9\" >knn</th>\n",
       "      <td id=\"T_3baed_row9_col0\" class=\"data row9 col0\" >K Neighbors Regressor</td>\n",
       "      <td id=\"T_3baed_row9_col1\" class=\"data row9 col1\" >7361510.0000</td>\n",
       "      <td id=\"T_3baed_row9_col2\" class=\"data row9 col2\" >87535585853440.0000</td>\n",
       "      <td id=\"T_3baed_row9_col3\" class=\"data row9 col3\" >9332743.0000</td>\n",
       "      <td id=\"T_3baed_row9_col4\" class=\"data row9 col4\" >-0.6021</td>\n",
       "      <td id=\"T_3baed_row9_col5\" class=\"data row9 col5\" >0.0867</td>\n",
       "      <td id=\"T_3baed_row9_col6\" class=\"data row9 col6\" >0.0661</td>\n",
       "      <td id=\"T_3baed_row9_col7\" class=\"data row9 col7\" >0.0167</td>\n",
       "    </tr>\n",
       "    <tr>\n",
       "      <th id=\"T_3baed_level0_row10\" class=\"row_heading level0 row10\" >en</th>\n",
       "      <td id=\"T_3baed_row10_col0\" class=\"data row10 col0\" >Elastic Net</td>\n",
       "      <td id=\"T_3baed_row10_col1\" class=\"data row10 col1\" >8008375.0000</td>\n",
       "      <td id=\"T_3baed_row10_col2\" class=\"data row10 col2\" >121109254329685.3281</td>\n",
       "      <td id=\"T_3baed_row10_col3\" class=\"data row10 col3\" >10564237.6667</td>\n",
       "      <td id=\"T_3baed_row10_col4\" class=\"data row10 col4\" >-0.9858</td>\n",
       "      <td id=\"T_3baed_row10_col5\" class=\"data row10 col5\" >0.0997</td>\n",
       "      <td id=\"T_3baed_row10_col6\" class=\"data row10 col6\" >0.0733</td>\n",
       "      <td id=\"T_3baed_row10_col7\" class=\"data row10 col7\" >0.0167</td>\n",
       "    </tr>\n",
       "    <tr>\n",
       "      <th id=\"T_3baed_level0_row11\" class=\"row_heading level0 row11\" >omp</th>\n",
       "      <td id=\"T_3baed_row11_col0\" class=\"data row11 col0\" >Orthogonal Matching Pursuit</td>\n",
       "      <td id=\"T_3baed_row11_col1\" class=\"data row11 col1\" >8433863.3768</td>\n",
       "      <td id=\"T_3baed_row11_col2\" class=\"data row11 col2\" >141681655648349.5312</td>\n",
       "      <td id=\"T_3baed_row11_col3\" class=\"data row11 col3\" >11218239.0613</td>\n",
       "      <td id=\"T_3baed_row11_col4\" class=\"data row11 col4\" >-1.0632</td>\n",
       "      <td id=\"T_3baed_row11_col5\" class=\"data row11 col5\" >0.1091</td>\n",
       "      <td id=\"T_3baed_row11_col6\" class=\"data row11 col6\" >0.0776</td>\n",
       "      <td id=\"T_3baed_row11_col7\" class=\"data row11 col7\" >0.0133</td>\n",
       "    </tr>\n",
       "    <tr>\n",
       "      <th id=\"T_3baed_level0_row12\" class=\"row_heading level0 row12\" >ridge</th>\n",
       "      <td id=\"T_3baed_row12_col0\" class=\"data row12 col0\" >Ridge Regression</td>\n",
       "      <td id=\"T_3baed_row12_col1\" class=\"data row12 col1\" >8702862.5000</td>\n",
       "      <td id=\"T_3baed_row12_col2\" class=\"data row12 col2\" >145692135784448.0000</td>\n",
       "      <td id=\"T_3baed_row12_col3\" class=\"data row12 col3\" >11449560.1667</td>\n",
       "      <td id=\"T_3baed_row12_col4\" class=\"data row12 col4\" >-1.6604</td>\n",
       "      <td id=\"T_3baed_row12_col5\" class=\"data row12 col5\" >0.1078</td>\n",
       "      <td id=\"T_3baed_row12_col6\" class=\"data row12 col6\" >0.0793</td>\n",
       "      <td id=\"T_3baed_row12_col7\" class=\"data row12 col7\" >0.0167</td>\n",
       "    </tr>\n",
       "    <tr>\n",
       "      <th id=\"T_3baed_level0_row13\" class=\"row_heading level0 row13\" >br</th>\n",
       "      <td id=\"T_3baed_row13_col0\" class=\"data row13 col0\" >Bayesian Ridge</td>\n",
       "      <td id=\"T_3baed_row13_col1\" class=\"data row13 col1\" >10077695.7620</td>\n",
       "      <td id=\"T_3baed_row13_col2\" class=\"data row13 col2\" >158703090194038.5938</td>\n",
       "      <td id=\"T_3baed_row13_col3\" class=\"data row13 col3\" >12153451.5430</td>\n",
       "      <td id=\"T_3baed_row13_col4\" class=\"data row13 col4\" >-1.8647</td>\n",
       "      <td id=\"T_3baed_row13_col5\" class=\"data row13 col5\" >0.1188</td>\n",
       "      <td id=\"T_3baed_row13_col6\" class=\"data row13 col6\" >0.0910</td>\n",
       "      <td id=\"T_3baed_row13_col7\" class=\"data row13 col7\" >0.0133</td>\n",
       "    </tr>\n",
       "    <tr>\n",
       "      <th id=\"T_3baed_level0_row14\" class=\"row_heading level0 row14\" >llar</th>\n",
       "      <td id=\"T_3baed_row14_col0\" class=\"data row14 col0\" >Lasso Least Angle Regression</td>\n",
       "      <td id=\"T_3baed_row14_col1\" class=\"data row14 col1\" >11530745.3333</td>\n",
       "      <td id=\"T_3baed_row14_col2\" class=\"data row14 col2\" >324173777163605.3125</td>\n",
       "      <td id=\"T_3baed_row14_col3\" class=\"data row14 col3\" >15678465.6667</td>\n",
       "      <td id=\"T_3baed_row14_col4\" class=\"data row14 col4\" >-7.4491</td>\n",
       "      <td id=\"T_3baed_row14_col5\" class=\"data row14 col5\" >0.1326</td>\n",
       "      <td id=\"T_3baed_row14_col6\" class=\"data row14 col6\" >0.1049</td>\n",
       "      <td id=\"T_3baed_row14_col7\" class=\"data row14 col7\" >0.0167</td>\n",
       "    </tr>\n",
       "    <tr>\n",
       "      <th id=\"T_3baed_level0_row15\" class=\"row_heading level0 row15\" >lr</th>\n",
       "      <td id=\"T_3baed_row15_col0\" class=\"data row15 col0\" >Linear Regression</td>\n",
       "      <td id=\"T_3baed_row15_col1\" class=\"data row15 col1\" >12244003.1667</td>\n",
       "      <td id=\"T_3baed_row15_col2\" class=\"data row15 col2\" >326546380292096.0000</td>\n",
       "      <td id=\"T_3baed_row15_col3\" class=\"data row15 col3\" >16402489.3333</td>\n",
       "      <td id=\"T_3baed_row15_col4\" class=\"data row15 col4\" >-6.8752</td>\n",
       "      <td id=\"T_3baed_row15_col5\" class=\"data row15 col5\" >0.1464</td>\n",
       "      <td id=\"T_3baed_row15_col6\" class=\"data row15 col6\" >0.1114</td>\n",
       "      <td id=\"T_3baed_row15_col7\" class=\"data row15 col7\" >0.0133</td>\n",
       "    </tr>\n",
       "    <tr>\n",
       "      <th id=\"T_3baed_level0_row16\" class=\"row_heading level0 row16\" >par</th>\n",
       "      <td id=\"T_3baed_row16_col0\" class=\"data row16 col0\" >Passive Aggressive Regressor</td>\n",
       "      <td id=\"T_3baed_row16_col1\" class=\"data row16 col1\" >15021948.7534</td>\n",
       "      <td id=\"T_3baed_row16_col2\" class=\"data row16 col2\" >319150341487988.0000</td>\n",
       "      <td id=\"T_3baed_row16_col3\" class=\"data row16 col3\" >17293352.3914</td>\n",
       "      <td id=\"T_3baed_row16_col4\" class=\"data row16 col4\" >-6.1382</td>\n",
       "      <td id=\"T_3baed_row16_col5\" class=\"data row16 col5\" >0.1770</td>\n",
       "      <td id=\"T_3baed_row16_col6\" class=\"data row16 col6\" >0.1374</td>\n",
       "      <td id=\"T_3baed_row16_col7\" class=\"data row16 col7\" >0.0133</td>\n",
       "    </tr>\n",
       "    <tr>\n",
       "      <th id=\"T_3baed_level0_row17\" class=\"row_heading level0 row17\" >huber</th>\n",
       "      <td id=\"T_3baed_row17_col0\" class=\"data row17 col0\" >Huber Regressor</td>\n",
       "      <td id=\"T_3baed_row17_col1\" class=\"data row17 col1\" >15382777.4398</td>\n",
       "      <td id=\"T_3baed_row17_col2\" class=\"data row17 col2\" >457985788337965.8125</td>\n",
       "      <td id=\"T_3baed_row17_col3\" class=\"data row17 col3\" >20281764.5810</td>\n",
       "      <td id=\"T_3baed_row17_col4\" class=\"data row17 col4\" >-5.7409</td>\n",
       "      <td id=\"T_3baed_row17_col5\" class=\"data row17 col5\" >0.1819</td>\n",
       "      <td id=\"T_3baed_row17_col6\" class=\"data row17 col6\" >0.1417</td>\n",
       "      <td id=\"T_3baed_row17_col7\" class=\"data row17 col7\" >0.0467</td>\n",
       "    </tr>\n",
       "    <tr>\n",
       "      <th id=\"T_3baed_level0_row18\" class=\"row_heading level0 row18\" >lasso</th>\n",
       "      <td id=\"T_3baed_row18_col0\" class=\"data row18 col0\" >Lasso Regression</td>\n",
       "      <td id=\"T_3baed_row18_col1\" class=\"data row18 col1\" >16007185.3333</td>\n",
       "      <td id=\"T_3baed_row18_col2\" class=\"data row18 col2\" >548992833639765.3125</td>\n",
       "      <td id=\"T_3baed_row18_col3\" class=\"data row18 col3\" >21145685.3333</td>\n",
       "      <td id=\"T_3baed_row18_col4\" class=\"data row18 col4\" >-10.5872</td>\n",
       "      <td id=\"T_3baed_row18_col5\" class=\"data row18 col5\" >0.2149</td>\n",
       "      <td id=\"T_3baed_row18_col6\" class=\"data row18 col6\" >0.1455</td>\n",
       "      <td id=\"T_3baed_row18_col7\" class=\"data row18 col7\" >0.0133</td>\n",
       "    </tr>\n",
       "    <tr>\n",
       "      <th id=\"T_3baed_level0_row19\" class=\"row_heading level0 row19\" >lar</th>\n",
       "      <td id=\"T_3baed_row19_col0\" class=\"data row19 col0\" >Least Angle Regression</td>\n",
       "      <td id=\"T_3baed_row19_col1\" class=\"data row19 col1\" >1979145652105520.7500</td>\n",
       "      <td id=\"T_3baed_row19_col2\" class=\"data row19 col2\" >16659445902793395351198405492736.0000</td>\n",
       "      <td id=\"T_3baed_row19_col3\" class=\"data row19 col3\" >2356512041739413.5000</td>\n",
       "      <td id=\"T_3baed_row19_col4\" class=\"data row19 col4\" >-232512964047143264.0000</td>\n",
       "      <td id=\"T_3baed_row19_col5\" class=\"data row19 col5\" >6.1321</td>\n",
       "      <td id=\"T_3baed_row19_col6\" class=\"data row19 col6\" >17999420.2355</td>\n",
       "      <td id=\"T_3baed_row19_col7\" class=\"data row19 col7\" >0.0167</td>\n",
       "    </tr>\n",
       "  </tbody>\n",
       "</table>\n"
      ],
      "text/plain": [
       "<pandas.io.formats.style.Styler at 0x13a456389a0>"
      ]
     },
     "metadata": {},
     "output_type": "display_data"
    },
    {
     "data": {
      "application/vnd.plotly.v1+json": {
       "config": {
        "plotlyServerURL": "https://plot.ly"
       },
       "data": [
        {
         "hovertemplate": "variable=Payroll blended products<br>Date=%{x}<br>value=%{y}<extra></extra>",
         "legendgroup": "Payroll blended products",
         "line": {
          "color": "#636efa",
          "dash": "solid"
         },
         "marker": {
          "symbol": "circle"
         },
         "mode": "lines",
         "name": "Payroll blended products",
         "orientation": "v",
         "showlegend": true,
         "type": "scatter",
         "x": [
          "2014-06-01T00:00:00",
          "2014-07-01T00:00:00",
          "2014-08-01T00:00:00",
          "2014-09-01T00:00:00",
          "2014-10-01T00:00:00",
          "2014-11-01T00:00:00",
          "2014-12-01T00:00:00",
          "2015-01-01T00:00:00",
          "2015-02-01T00:00:00",
          "2015-03-01T00:00:00",
          "2015-04-01T00:00:00",
          "2015-05-01T00:00:00",
          "2015-06-01T00:00:00",
          "2015-07-01T00:00:00",
          "2015-08-01T00:00:00",
          "2015-09-01T00:00:00",
          "2015-10-01T00:00:00",
          "2015-11-01T00:00:00",
          "2015-12-01T00:00:00",
          "2016-01-01T00:00:00",
          "2016-02-01T00:00:00",
          "2016-03-01T00:00:00",
          "2016-04-01T00:00:00",
          "2016-05-01T00:00:00",
          "2016-06-01T00:00:00",
          "2016-07-01T00:00:00",
          "2016-08-01T00:00:00",
          "2016-09-01T00:00:00",
          "2016-10-01T00:00:00",
          "2016-11-01T00:00:00",
          "2016-12-01T00:00:00",
          "2017-01-01T00:00:00",
          "2017-02-01T00:00:00",
          "2017-03-01T00:00:00",
          "2017-04-01T00:00:00",
          "2017-05-01T00:00:00",
          "2017-06-01T00:00:00",
          "2017-07-01T00:00:00",
          "2017-08-01T00:00:00",
          "2017-09-01T00:00:00",
          "2017-10-01T00:00:00",
          "2017-11-01T00:00:00",
          "2017-12-01T00:00:00",
          "2018-01-01T00:00:00",
          "2018-02-01T00:00:00",
          "2018-03-01T00:00:00",
          "2018-04-01T00:00:00",
          "2018-05-01T00:00:00",
          "2018-06-01T00:00:00",
          "2018-07-01T00:00:00",
          "2018-08-01T00:00:00",
          "2018-09-01T00:00:00",
          "2018-10-01T00:00:00",
          "2018-11-01T00:00:00",
          "2018-12-01T00:00:00",
          "2019-01-01T00:00:00",
          "2019-02-01T00:00:00",
          "2019-03-01T00:00:00",
          "2019-04-01T00:00:00",
          "2019-05-01T00:00:00",
          "2019-06-01T00:00:00",
          "2019-07-01T00:00:00",
          "2019-08-01T00:00:00",
          "2019-09-01T00:00:00",
          "2019-10-01T00:00:00",
          "2019-11-01T00:00:00",
          "2019-12-01T00:00:00",
          "2020-01-01T00:00:00",
          "2020-02-01T00:00:00",
          "2020-03-01T00:00:00",
          "2020-04-01T00:00:00",
          "2020-05-01T00:00:00",
          "2020-06-01T00:00:00",
          "2020-07-01T00:00:00",
          "2020-08-01T00:00:00",
          "2020-09-01T00:00:00",
          "2020-10-01T00:00:00",
          "2020-11-01T00:00:00",
          "2020-12-01T00:00:00",
          "2021-01-01T00:00:00",
          "2021-02-01T00:00:00",
          "2021-03-01T00:00:00",
          "2021-04-01T00:00:00",
          "2021-05-01T00:00:00"
         ],
         "xaxis": "x",
         "y": [
          99633512,
          121619696,
          99472483,
          94198230,
          124353873,
          98868618,
          99281713,
          124388966,
          95862151,
          92298659,
          121697752,
          101684796,
          98488622,
          128603825,
          105495604,
          125580319,
          100345212,
          101027390,
          103140193,
          125846591,
          96492494,
          120343617,
          98703839,
          106311407,
          118434494,
          104657878,
          117436063,
          110000558,
          105928516,
          113829464,
          117493864,
          106635184,
          98803491,
          111544069,
          99478187,
          118429597,
          115286408,
          108148242,
          120254168,
          104705146,
          110931972,
          115430932,
          113194342,
          110248167,
          98798038,
          106248694,
          103554646,
          119149029,
          107365918,
          113740156,
          116505720,
          102622473,
          115762795,
          110179873,
          117538398,
          110354647,
          98377675,
          99958270,
          108700563,
          115331665,
          106731158,
          119190721,
          113364359,
          108305027,
          119068432,
          105060481,
          128667631,
          106043776,
          99644382,
          107287296,
          92673007,
          90949332,
          103438412,
          103718926,
          99146164,
          108696536,
          107861298,
          105164502,
          126152261,
          94834624,
          96978102,
          110554131,
          105999185,
          101329196
         ],
         "yaxis": "y"
        },
        {
         "hovertemplate": "variable=Payroll blended products - ML Predicted<br>Date=%{x}<br>value=%{y}<extra></extra>",
         "legendgroup": "Payroll blended products - ML Predicted",
         "line": {
          "color": "#EF553B",
          "dash": "solid"
         },
         "marker": {
          "symbol": "circle"
         },
         "mode": "lines",
         "name": "Payroll blended products - ML Predicted",
         "orientation": "v",
         "showlegend": true,
         "type": "scatter",
         "x": [
          "2014-06-01T00:00:00",
          "2014-07-01T00:00:00",
          "2014-08-01T00:00:00",
          "2014-09-01T00:00:00",
          "2014-10-01T00:00:00",
          "2014-11-01T00:00:00",
          "2014-12-01T00:00:00",
          "2015-01-01T00:00:00",
          "2015-02-01T00:00:00",
          "2015-03-01T00:00:00",
          "2015-04-01T00:00:00",
          "2015-05-01T00:00:00",
          "2015-06-01T00:00:00",
          "2015-07-01T00:00:00",
          "2015-08-01T00:00:00",
          "2015-09-01T00:00:00",
          "2015-10-01T00:00:00",
          "2015-11-01T00:00:00",
          "2015-12-01T00:00:00",
          "2016-01-01T00:00:00",
          "2016-02-01T00:00:00",
          "2016-03-01T00:00:00",
          "2016-04-01T00:00:00",
          "2016-05-01T00:00:00",
          "2016-06-01T00:00:00",
          "2016-07-01T00:00:00",
          "2016-08-01T00:00:00",
          "2016-09-01T00:00:00",
          "2016-10-01T00:00:00",
          "2016-11-01T00:00:00",
          "2016-12-01T00:00:00",
          "2017-01-01T00:00:00",
          "2017-02-01T00:00:00",
          "2017-03-01T00:00:00",
          "2017-04-01T00:00:00",
          "2017-05-01T00:00:00",
          "2017-06-01T00:00:00",
          "2017-07-01T00:00:00",
          "2017-08-01T00:00:00",
          "2017-09-01T00:00:00",
          "2017-10-01T00:00:00",
          "2017-11-01T00:00:00",
          "2017-12-01T00:00:00",
          "2018-01-01T00:00:00",
          "2018-02-01T00:00:00",
          "2018-03-01T00:00:00",
          "2018-04-01T00:00:00",
          "2018-05-01T00:00:00",
          "2018-06-01T00:00:00",
          "2018-07-01T00:00:00",
          "2018-08-01T00:00:00",
          "2018-09-01T00:00:00",
          "2018-10-01T00:00:00",
          "2018-11-01T00:00:00",
          "2018-12-01T00:00:00",
          "2019-01-01T00:00:00",
          "2019-02-01T00:00:00",
          "2019-03-01T00:00:00",
          "2019-04-01T00:00:00",
          "2019-05-01T00:00:00",
          "2019-06-01T00:00:00",
          "2019-07-01T00:00:00",
          "2019-08-01T00:00:00",
          "2019-09-01T00:00:00",
          "2019-10-01T00:00:00",
          "2019-11-01T00:00:00",
          "2019-12-01T00:00:00",
          "2020-01-01T00:00:00",
          "2020-02-01T00:00:00",
          "2020-03-01T00:00:00",
          "2020-04-01T00:00:00",
          "2020-05-01T00:00:00",
          "2020-06-01T00:00:00",
          "2020-07-01T00:00:00",
          "2020-08-01T00:00:00",
          "2020-09-01T00:00:00",
          "2020-10-01T00:00:00",
          "2020-11-01T00:00:00",
          "2020-12-01T00:00:00",
          "2021-01-01T00:00:00",
          "2021-02-01T00:00:00",
          "2021-03-01T00:00:00",
          "2021-04-01T00:00:00",
          "2021-05-01T00:00:00"
         ],
         "xaxis": "x",
         "y": [
          99633512,
          121619696,
          99472480,
          94198232,
          124353872,
          98868616,
          99281712,
          124388968,
          95862152,
          92298656,
          121697752,
          101684800,
          98488624,
          128603824,
          105495600,
          125580320,
          100345216,
          101027392,
          103140192,
          125846592,
          96492496,
          120343616,
          98703840,
          106311408,
          118434496,
          104657880,
          117436064,
          110000560,
          105928512,
          113829464,
          117493864,
          106635184,
          98803488,
          111544072,
          99478184,
          118429600,
          115286408,
          108148240,
          120254168,
          104705144,
          110931968,
          115430928,
          113194344,
          110248168,
          98798040,
          106248696,
          103554648,
          119149032,
          107365920,
          113740160,
          116505720,
          102622472,
          115762792,
          110179872,
          117538400,
          110354648,
          98377672,
          99958272,
          108700560,
          115331664,
          106731160,
          119190720,
          113364360,
          108305024,
          119068432,
          105060480,
          128667632,
          106043776,
          99644384,
          107287296,
          92673008,
          90949328,
          1.014346712E8,
          1.1261014952E8,
          9.936322536E7,
          1.142979984E8,
          1.0266850904E8,
          1.0202002152E8,
          1.1461519432E8,
          1.055632136E8,
          9.722487776E7,
          1.1126772232E8,
          9.782773712E7,
          1.0154046776E8
         ],
         "yaxis": "y"
        }
       ],
       "layout": {
        "legend": {
         "title": {
          "text": "variable"
         },
         "tracegroupgap": 0
        },
        "margin": {
         "t": 60
        },
        "template": {
         "data": {
          "bar": [
           {
            "error_x": {
             "color": "#2a3f5f"
            },
            "error_y": {
             "color": "#2a3f5f"
            },
            "marker": {
             "line": {
              "color": "white",
              "width": 0.5
             },
             "pattern": {
              "fillmode": "overlay",
              "size": 10,
              "solidity": 0.2
             }
            },
            "type": "bar"
           }
          ],
          "barpolar": [
           {
            "marker": {
             "line": {
              "color": "white",
              "width": 0.5
             },
             "pattern": {
              "fillmode": "overlay",
              "size": 10,
              "solidity": 0.2
             }
            },
            "type": "barpolar"
           }
          ],
          "carpet": [
           {
            "aaxis": {
             "endlinecolor": "#2a3f5f",
             "gridcolor": "#C8D4E3",
             "linecolor": "#C8D4E3",
             "minorgridcolor": "#C8D4E3",
             "startlinecolor": "#2a3f5f"
            },
            "baxis": {
             "endlinecolor": "#2a3f5f",
             "gridcolor": "#C8D4E3",
             "linecolor": "#C8D4E3",
             "minorgridcolor": "#C8D4E3",
             "startlinecolor": "#2a3f5f"
            },
            "type": "carpet"
           }
          ],
          "choropleth": [
           {
            "colorbar": {
             "outlinewidth": 0,
             "ticks": ""
            },
            "type": "choropleth"
           }
          ],
          "contour": [
           {
            "colorbar": {
             "outlinewidth": 0,
             "ticks": ""
            },
            "colorscale": [
             [
              0,
              "#0d0887"
             ],
             [
              0.1111111111111111,
              "#46039f"
             ],
             [
              0.2222222222222222,
              "#7201a8"
             ],
             [
              0.3333333333333333,
              "#9c179e"
             ],
             [
              0.4444444444444444,
              "#bd3786"
             ],
             [
              0.5555555555555556,
              "#d8576b"
             ],
             [
              0.6666666666666666,
              "#ed7953"
             ],
             [
              0.7777777777777778,
              "#fb9f3a"
             ],
             [
              0.8888888888888888,
              "#fdca26"
             ],
             [
              1,
              "#f0f921"
             ]
            ],
            "type": "contour"
           }
          ],
          "contourcarpet": [
           {
            "colorbar": {
             "outlinewidth": 0,
             "ticks": ""
            },
            "type": "contourcarpet"
           }
          ],
          "heatmap": [
           {
            "colorbar": {
             "outlinewidth": 0,
             "ticks": ""
            },
            "colorscale": [
             [
              0,
              "#0d0887"
             ],
             [
              0.1111111111111111,
              "#46039f"
             ],
             [
              0.2222222222222222,
              "#7201a8"
             ],
             [
              0.3333333333333333,
              "#9c179e"
             ],
             [
              0.4444444444444444,
              "#bd3786"
             ],
             [
              0.5555555555555556,
              "#d8576b"
             ],
             [
              0.6666666666666666,
              "#ed7953"
             ],
             [
              0.7777777777777778,
              "#fb9f3a"
             ],
             [
              0.8888888888888888,
              "#fdca26"
             ],
             [
              1,
              "#f0f921"
             ]
            ],
            "type": "heatmap"
           }
          ],
          "heatmapgl": [
           {
            "colorbar": {
             "outlinewidth": 0,
             "ticks": ""
            },
            "colorscale": [
             [
              0,
              "#0d0887"
             ],
             [
              0.1111111111111111,
              "#46039f"
             ],
             [
              0.2222222222222222,
              "#7201a8"
             ],
             [
              0.3333333333333333,
              "#9c179e"
             ],
             [
              0.4444444444444444,
              "#bd3786"
             ],
             [
              0.5555555555555556,
              "#d8576b"
             ],
             [
              0.6666666666666666,
              "#ed7953"
             ],
             [
              0.7777777777777778,
              "#fb9f3a"
             ],
             [
              0.8888888888888888,
              "#fdca26"
             ],
             [
              1,
              "#f0f921"
             ]
            ],
            "type": "heatmapgl"
           }
          ],
          "histogram": [
           {
            "marker": {
             "pattern": {
              "fillmode": "overlay",
              "size": 10,
              "solidity": 0.2
             }
            },
            "type": "histogram"
           }
          ],
          "histogram2d": [
           {
            "colorbar": {
             "outlinewidth": 0,
             "ticks": ""
            },
            "colorscale": [
             [
              0,
              "#0d0887"
             ],
             [
              0.1111111111111111,
              "#46039f"
             ],
             [
              0.2222222222222222,
              "#7201a8"
             ],
             [
              0.3333333333333333,
              "#9c179e"
             ],
             [
              0.4444444444444444,
              "#bd3786"
             ],
             [
              0.5555555555555556,
              "#d8576b"
             ],
             [
              0.6666666666666666,
              "#ed7953"
             ],
             [
              0.7777777777777778,
              "#fb9f3a"
             ],
             [
              0.8888888888888888,
              "#fdca26"
             ],
             [
              1,
              "#f0f921"
             ]
            ],
            "type": "histogram2d"
           }
          ],
          "histogram2dcontour": [
           {
            "colorbar": {
             "outlinewidth": 0,
             "ticks": ""
            },
            "colorscale": [
             [
              0,
              "#0d0887"
             ],
             [
              0.1111111111111111,
              "#46039f"
             ],
             [
              0.2222222222222222,
              "#7201a8"
             ],
             [
              0.3333333333333333,
              "#9c179e"
             ],
             [
              0.4444444444444444,
              "#bd3786"
             ],
             [
              0.5555555555555556,
              "#d8576b"
             ],
             [
              0.6666666666666666,
              "#ed7953"
             ],
             [
              0.7777777777777778,
              "#fb9f3a"
             ],
             [
              0.8888888888888888,
              "#fdca26"
             ],
             [
              1,
              "#f0f921"
             ]
            ],
            "type": "histogram2dcontour"
           }
          ],
          "mesh3d": [
           {
            "colorbar": {
             "outlinewidth": 0,
             "ticks": ""
            },
            "type": "mesh3d"
           }
          ],
          "parcoords": [
           {
            "line": {
             "colorbar": {
              "outlinewidth": 0,
              "ticks": ""
             }
            },
            "type": "parcoords"
           }
          ],
          "pie": [
           {
            "automargin": true,
            "type": "pie"
           }
          ],
          "scatter": [
           {
            "marker": {
             "colorbar": {
              "outlinewidth": 0,
              "ticks": ""
             }
            },
            "type": "scatter"
           }
          ],
          "scatter3d": [
           {
            "line": {
             "colorbar": {
              "outlinewidth": 0,
              "ticks": ""
             }
            },
            "marker": {
             "colorbar": {
              "outlinewidth": 0,
              "ticks": ""
             }
            },
            "type": "scatter3d"
           }
          ],
          "scattercarpet": [
           {
            "marker": {
             "colorbar": {
              "outlinewidth": 0,
              "ticks": ""
             }
            },
            "type": "scattercarpet"
           }
          ],
          "scattergeo": [
           {
            "marker": {
             "colorbar": {
              "outlinewidth": 0,
              "ticks": ""
             }
            },
            "type": "scattergeo"
           }
          ],
          "scattergl": [
           {
            "marker": {
             "colorbar": {
              "outlinewidth": 0,
              "ticks": ""
             }
            },
            "type": "scattergl"
           }
          ],
          "scattermapbox": [
           {
            "marker": {
             "colorbar": {
              "outlinewidth": 0,
              "ticks": ""
             }
            },
            "type": "scattermapbox"
           }
          ],
          "scatterpolar": [
           {
            "marker": {
             "colorbar": {
              "outlinewidth": 0,
              "ticks": ""
             }
            },
            "type": "scatterpolar"
           }
          ],
          "scatterpolargl": [
           {
            "marker": {
             "colorbar": {
              "outlinewidth": 0,
              "ticks": ""
             }
            },
            "type": "scatterpolargl"
           }
          ],
          "scatterternary": [
           {
            "marker": {
             "colorbar": {
              "outlinewidth": 0,
              "ticks": ""
             }
            },
            "type": "scatterternary"
           }
          ],
          "surface": [
           {
            "colorbar": {
             "outlinewidth": 0,
             "ticks": ""
            },
            "colorscale": [
             [
              0,
              "#0d0887"
             ],
             [
              0.1111111111111111,
              "#46039f"
             ],
             [
              0.2222222222222222,
              "#7201a8"
             ],
             [
              0.3333333333333333,
              "#9c179e"
             ],
             [
              0.4444444444444444,
              "#bd3786"
             ],
             [
              0.5555555555555556,
              "#d8576b"
             ],
             [
              0.6666666666666666,
              "#ed7953"
             ],
             [
              0.7777777777777778,
              "#fb9f3a"
             ],
             [
              0.8888888888888888,
              "#fdca26"
             ],
             [
              1,
              "#f0f921"
             ]
            ],
            "type": "surface"
           }
          ],
          "table": [
           {
            "cells": {
             "fill": {
              "color": "#EBF0F8"
             },
             "line": {
              "color": "white"
             }
            },
            "header": {
             "fill": {
              "color": "#C8D4E3"
             },
             "line": {
              "color": "white"
             }
            },
            "type": "table"
           }
          ]
         },
         "layout": {
          "annotationdefaults": {
           "arrowcolor": "#2a3f5f",
           "arrowhead": 0,
           "arrowwidth": 1
          },
          "autotypenumbers": "strict",
          "coloraxis": {
           "colorbar": {
            "outlinewidth": 0,
            "ticks": ""
           }
          },
          "colorscale": {
           "diverging": [
            [
             0,
             "#8e0152"
            ],
            [
             0.1,
             "#c51b7d"
            ],
            [
             0.2,
             "#de77ae"
            ],
            [
             0.3,
             "#f1b6da"
            ],
            [
             0.4,
             "#fde0ef"
            ],
            [
             0.5,
             "#f7f7f7"
            ],
            [
             0.6,
             "#e6f5d0"
            ],
            [
             0.7,
             "#b8e186"
            ],
            [
             0.8,
             "#7fbc41"
            ],
            [
             0.9,
             "#4d9221"
            ],
            [
             1,
             "#276419"
            ]
           ],
           "sequential": [
            [
             0,
             "#0d0887"
            ],
            [
             0.1111111111111111,
             "#46039f"
            ],
            [
             0.2222222222222222,
             "#7201a8"
            ],
            [
             0.3333333333333333,
             "#9c179e"
            ],
            [
             0.4444444444444444,
             "#bd3786"
            ],
            [
             0.5555555555555556,
             "#d8576b"
            ],
            [
             0.6666666666666666,
             "#ed7953"
            ],
            [
             0.7777777777777778,
             "#fb9f3a"
            ],
            [
             0.8888888888888888,
             "#fdca26"
            ],
            [
             1,
             "#f0f921"
            ]
           ],
           "sequentialminus": [
            [
             0,
             "#0d0887"
            ],
            [
             0.1111111111111111,
             "#46039f"
            ],
            [
             0.2222222222222222,
             "#7201a8"
            ],
            [
             0.3333333333333333,
             "#9c179e"
            ],
            [
             0.4444444444444444,
             "#bd3786"
            ],
            [
             0.5555555555555556,
             "#d8576b"
            ],
            [
             0.6666666666666666,
             "#ed7953"
            ],
            [
             0.7777777777777778,
             "#fb9f3a"
            ],
            [
             0.8888888888888888,
             "#fdca26"
            ],
            [
             1,
             "#f0f921"
            ]
           ]
          },
          "colorway": [
           "#636efa",
           "#EF553B",
           "#00cc96",
           "#ab63fa",
           "#FFA15A",
           "#19d3f3",
           "#FF6692",
           "#B6E880",
           "#FF97FF",
           "#FECB52"
          ],
          "font": {
           "color": "#2a3f5f"
          },
          "geo": {
           "bgcolor": "white",
           "lakecolor": "white",
           "landcolor": "white",
           "showlakes": true,
           "showland": true,
           "subunitcolor": "#C8D4E3"
          },
          "hoverlabel": {
           "align": "left"
          },
          "hovermode": "closest",
          "mapbox": {
           "style": "light"
          },
          "paper_bgcolor": "white",
          "plot_bgcolor": "white",
          "polar": {
           "angularaxis": {
            "gridcolor": "#EBF0F8",
            "linecolor": "#EBF0F8",
            "ticks": ""
           },
           "bgcolor": "white",
           "radialaxis": {
            "gridcolor": "#EBF0F8",
            "linecolor": "#EBF0F8",
            "ticks": ""
           }
          },
          "scene": {
           "xaxis": {
            "backgroundcolor": "white",
            "gridcolor": "#DFE8F3",
            "gridwidth": 2,
            "linecolor": "#EBF0F8",
            "showbackground": true,
            "ticks": "",
            "zerolinecolor": "#EBF0F8"
           },
           "yaxis": {
            "backgroundcolor": "white",
            "gridcolor": "#DFE8F3",
            "gridwidth": 2,
            "linecolor": "#EBF0F8",
            "showbackground": true,
            "ticks": "",
            "zerolinecolor": "#EBF0F8"
           },
           "zaxis": {
            "backgroundcolor": "white",
            "gridcolor": "#DFE8F3",
            "gridwidth": 2,
            "linecolor": "#EBF0F8",
            "showbackground": true,
            "ticks": "",
            "zerolinecolor": "#EBF0F8"
           }
          },
          "shapedefaults": {
           "line": {
            "color": "#2a3f5f"
           }
          },
          "ternary": {
           "aaxis": {
            "gridcolor": "#DFE8F3",
            "linecolor": "#A2B1C6",
            "ticks": ""
           },
           "baxis": {
            "gridcolor": "#DFE8F3",
            "linecolor": "#A2B1C6",
            "ticks": ""
           },
           "bgcolor": "white",
           "caxis": {
            "gridcolor": "#DFE8F3",
            "linecolor": "#A2B1C6",
            "ticks": ""
           }
          },
          "title": {
           "x": 0.05
          },
          "xaxis": {
           "automargin": true,
           "gridcolor": "#EBF0F8",
           "linecolor": "#EBF0F8",
           "ticks": "",
           "title": {
            "standoff": 15
           },
           "zerolinecolor": "#EBF0F8",
           "zerolinewidth": 2
          },
          "yaxis": {
           "automargin": true,
           "gridcolor": "#EBF0F8",
           "linecolor": "#EBF0F8",
           "ticks": "",
           "title": {
            "standoff": 15
           },
           "zerolinecolor": "#EBF0F8",
           "zerolinewidth": 2
          }
         }
        },
        "xaxis": {
         "anchor": "y",
         "domain": [
          0,
          1
         ],
         "title": {
          "text": "Date"
         }
        },
        "yaxis": {
         "anchor": "x",
         "domain": [
          0,
          1
         ],
         "title": {
          "text": "value"
         }
        }
       }
      },
      "text/html": [
       "<div>                            <div id=\"bc08356f-0a70-4a79-a292-093db27cd7e0\" class=\"plotly-graph-div\" style=\"height:525px; width:100%;\"></div>            <script type=\"text/javascript\">                require([\"plotly\"], function(Plotly) {                    window.PLOTLYENV=window.PLOTLYENV || {};                                    if (document.getElementById(\"bc08356f-0a70-4a79-a292-093db27cd7e0\")) {                    Plotly.newPlot(                        \"bc08356f-0a70-4a79-a292-093db27cd7e0\",                        [{\"hovertemplate\":\"variable=Payroll blended products<br>Date=%{x}<br>value=%{y}<extra></extra>\",\"legendgroup\":\"Payroll blended products\",\"line\":{\"color\":\"#636efa\",\"dash\":\"solid\"},\"marker\":{\"symbol\":\"circle\"},\"mode\":\"lines\",\"name\":\"Payroll blended products\",\"orientation\":\"v\",\"showlegend\":true,\"x\":[\"2014-06-01T00:00:00\",\"2014-07-01T00:00:00\",\"2014-08-01T00:00:00\",\"2014-09-01T00:00:00\",\"2014-10-01T00:00:00\",\"2014-11-01T00:00:00\",\"2014-12-01T00:00:00\",\"2015-01-01T00:00:00\",\"2015-02-01T00:00:00\",\"2015-03-01T00:00:00\",\"2015-04-01T00:00:00\",\"2015-05-01T00:00:00\",\"2015-06-01T00:00:00\",\"2015-07-01T00:00:00\",\"2015-08-01T00:00:00\",\"2015-09-01T00:00:00\",\"2015-10-01T00:00:00\",\"2015-11-01T00:00:00\",\"2015-12-01T00:00:00\",\"2016-01-01T00:00:00\",\"2016-02-01T00:00:00\",\"2016-03-01T00:00:00\",\"2016-04-01T00:00:00\",\"2016-05-01T00:00:00\",\"2016-06-01T00:00:00\",\"2016-07-01T00:00:00\",\"2016-08-01T00:00:00\",\"2016-09-01T00:00:00\",\"2016-10-01T00:00:00\",\"2016-11-01T00:00:00\",\"2016-12-01T00:00:00\",\"2017-01-01T00:00:00\",\"2017-02-01T00:00:00\",\"2017-03-01T00:00:00\",\"2017-04-01T00:00:00\",\"2017-05-01T00:00:00\",\"2017-06-01T00:00:00\",\"2017-07-01T00:00:00\",\"2017-08-01T00:00:00\",\"2017-09-01T00:00:00\",\"2017-10-01T00:00:00\",\"2017-11-01T00:00:00\",\"2017-12-01T00:00:00\",\"2018-01-01T00:00:00\",\"2018-02-01T00:00:00\",\"2018-03-01T00:00:00\",\"2018-04-01T00:00:00\",\"2018-05-01T00:00:00\",\"2018-06-01T00:00:00\",\"2018-07-01T00:00:00\",\"2018-08-01T00:00:00\",\"2018-09-01T00:00:00\",\"2018-10-01T00:00:00\",\"2018-11-01T00:00:00\",\"2018-12-01T00:00:00\",\"2019-01-01T00:00:00\",\"2019-02-01T00:00:00\",\"2019-03-01T00:00:00\",\"2019-04-01T00:00:00\",\"2019-05-01T00:00:00\",\"2019-06-01T00:00:00\",\"2019-07-01T00:00:00\",\"2019-08-01T00:00:00\",\"2019-09-01T00:00:00\",\"2019-10-01T00:00:00\",\"2019-11-01T00:00:00\",\"2019-12-01T00:00:00\",\"2020-01-01T00:00:00\",\"2020-02-01T00:00:00\",\"2020-03-01T00:00:00\",\"2020-04-01T00:00:00\",\"2020-05-01T00:00:00\",\"2020-06-01T00:00:00\",\"2020-07-01T00:00:00\",\"2020-08-01T00:00:00\",\"2020-09-01T00:00:00\",\"2020-10-01T00:00:00\",\"2020-11-01T00:00:00\",\"2020-12-01T00:00:00\",\"2021-01-01T00:00:00\",\"2021-02-01T00:00:00\",\"2021-03-01T00:00:00\",\"2021-04-01T00:00:00\",\"2021-05-01T00:00:00\"],\"xaxis\":\"x\",\"y\":[99633512.0,121619696.0,99472483.0,94198230.0,124353873.0,98868618.0,99281713.0,124388966.0,95862151.0,92298659.0,121697752.0,101684796.0,98488622.0,128603825.0,105495604.0,125580319.0,100345212.0,101027390.0,103140193.0,125846591.0,96492494.0,120343617.0,98703839.0,106311407.0,118434494.0,104657878.0,117436063.0,110000558.0,105928516.0,113829464.0,117493864.0,106635184.0,98803491.0,111544069.0,99478187.0,118429597.0,115286408.0,108148242.0,120254168.0,104705146.0,110931972.0,115430932.0,113194342.0,110248167.0,98798038.0,106248694.0,103554646.0,119149029.0,107365918.0,113740156.0,116505720.0,102622473.0,115762795.0,110179873.0,117538398.0,110354647.0,98377675.0,99958270.0,108700563.0,115331665.0,106731158.0,119190721.0,113364359.0,108305027.0,119068432.0,105060481.0,128667631.0,106043776.0,99644382.0,107287296.0,92673007.0,90949332.0,103438412.0,103718926.0,99146164.0,108696536.0,107861298.0,105164502.0,126152261.0,94834624.0,96978102.0,110554131.0,105999185.0,101329196.0],\"yaxis\":\"y\",\"type\":\"scatter\"},{\"hovertemplate\":\"variable=Payroll blended products - ML Predicted<br>Date=%{x}<br>value=%{y}<extra></extra>\",\"legendgroup\":\"Payroll blended products - ML Predicted\",\"line\":{\"color\":\"#EF553B\",\"dash\":\"solid\"},\"marker\":{\"symbol\":\"circle\"},\"mode\":\"lines\",\"name\":\"Payroll blended products - ML Predicted\",\"orientation\":\"v\",\"showlegend\":true,\"x\":[\"2014-06-01T00:00:00\",\"2014-07-01T00:00:00\",\"2014-08-01T00:00:00\",\"2014-09-01T00:00:00\",\"2014-10-01T00:00:00\",\"2014-11-01T00:00:00\",\"2014-12-01T00:00:00\",\"2015-01-01T00:00:00\",\"2015-02-01T00:00:00\",\"2015-03-01T00:00:00\",\"2015-04-01T00:00:00\",\"2015-05-01T00:00:00\",\"2015-06-01T00:00:00\",\"2015-07-01T00:00:00\",\"2015-08-01T00:00:00\",\"2015-09-01T00:00:00\",\"2015-10-01T00:00:00\",\"2015-11-01T00:00:00\",\"2015-12-01T00:00:00\",\"2016-01-01T00:00:00\",\"2016-02-01T00:00:00\",\"2016-03-01T00:00:00\",\"2016-04-01T00:00:00\",\"2016-05-01T00:00:00\",\"2016-06-01T00:00:00\",\"2016-07-01T00:00:00\",\"2016-08-01T00:00:00\",\"2016-09-01T00:00:00\",\"2016-10-01T00:00:00\",\"2016-11-01T00:00:00\",\"2016-12-01T00:00:00\",\"2017-01-01T00:00:00\",\"2017-02-01T00:00:00\",\"2017-03-01T00:00:00\",\"2017-04-01T00:00:00\",\"2017-05-01T00:00:00\",\"2017-06-01T00:00:00\",\"2017-07-01T00:00:00\",\"2017-08-01T00:00:00\",\"2017-09-01T00:00:00\",\"2017-10-01T00:00:00\",\"2017-11-01T00:00:00\",\"2017-12-01T00:00:00\",\"2018-01-01T00:00:00\",\"2018-02-01T00:00:00\",\"2018-03-01T00:00:00\",\"2018-04-01T00:00:00\",\"2018-05-01T00:00:00\",\"2018-06-01T00:00:00\",\"2018-07-01T00:00:00\",\"2018-08-01T00:00:00\",\"2018-09-01T00:00:00\",\"2018-10-01T00:00:00\",\"2018-11-01T00:00:00\",\"2018-12-01T00:00:00\",\"2019-01-01T00:00:00\",\"2019-02-01T00:00:00\",\"2019-03-01T00:00:00\",\"2019-04-01T00:00:00\",\"2019-05-01T00:00:00\",\"2019-06-01T00:00:00\",\"2019-07-01T00:00:00\",\"2019-08-01T00:00:00\",\"2019-09-01T00:00:00\",\"2019-10-01T00:00:00\",\"2019-11-01T00:00:00\",\"2019-12-01T00:00:00\",\"2020-01-01T00:00:00\",\"2020-02-01T00:00:00\",\"2020-03-01T00:00:00\",\"2020-04-01T00:00:00\",\"2020-05-01T00:00:00\",\"2020-06-01T00:00:00\",\"2020-07-01T00:00:00\",\"2020-08-01T00:00:00\",\"2020-09-01T00:00:00\",\"2020-10-01T00:00:00\",\"2020-11-01T00:00:00\",\"2020-12-01T00:00:00\",\"2021-01-01T00:00:00\",\"2021-02-01T00:00:00\",\"2021-03-01T00:00:00\",\"2021-04-01T00:00:00\",\"2021-05-01T00:00:00\"],\"xaxis\":\"x\",\"y\":[99633512.0,121619696.0,99472480.0,94198232.0,124353872.0,98868616.0,99281712.0,124388968.0,95862152.0,92298656.0,121697752.0,101684800.0,98488624.0,128603824.0,105495600.0,125580320.0,100345216.0,101027392.0,103140192.0,125846592.0,96492496.0,120343616.0,98703840.0,106311408.0,118434496.0,104657880.0,117436064.0,110000560.0,105928512.0,113829464.0,117493864.0,106635184.0,98803488.0,111544072.0,99478184.0,118429600.0,115286408.0,108148240.0,120254168.0,104705144.0,110931968.0,115430928.0,113194344.0,110248168.0,98798040.0,106248696.0,103554648.0,119149032.0,107365920.0,113740160.0,116505720.0,102622472.0,115762792.0,110179872.0,117538400.0,110354648.0,98377672.0,99958272.0,108700560.0,115331664.0,106731160.0,119190720.0,113364360.0,108305024.0,119068432.0,105060480.0,128667632.0,106043776.0,99644384.0,107287296.0,92673008.0,90949328.0,101434671.2,112610149.52,99363225.36,114297998.4,102668509.04,102020021.52,114615194.32,105563213.6,97224877.76,111267722.32,97827737.12,101540467.76],\"yaxis\":\"y\",\"type\":\"scatter\"}],                        {\"template\":{\"data\":{\"barpolar\":[{\"marker\":{\"line\":{\"color\":\"white\",\"width\":0.5},\"pattern\":{\"fillmode\":\"overlay\",\"size\":10,\"solidity\":0.2}},\"type\":\"barpolar\"}],\"bar\":[{\"error_x\":{\"color\":\"#2a3f5f\"},\"error_y\":{\"color\":\"#2a3f5f\"},\"marker\":{\"line\":{\"color\":\"white\",\"width\":0.5},\"pattern\":{\"fillmode\":\"overlay\",\"size\":10,\"solidity\":0.2}},\"type\":\"bar\"}],\"carpet\":[{\"aaxis\":{\"endlinecolor\":\"#2a3f5f\",\"gridcolor\":\"#C8D4E3\",\"linecolor\":\"#C8D4E3\",\"minorgridcolor\":\"#C8D4E3\",\"startlinecolor\":\"#2a3f5f\"},\"baxis\":{\"endlinecolor\":\"#2a3f5f\",\"gridcolor\":\"#C8D4E3\",\"linecolor\":\"#C8D4E3\",\"minorgridcolor\":\"#C8D4E3\",\"startlinecolor\":\"#2a3f5f\"},\"type\":\"carpet\"}],\"choropleth\":[{\"colorbar\":{\"outlinewidth\":0,\"ticks\":\"\"},\"type\":\"choropleth\"}],\"contourcarpet\":[{\"colorbar\":{\"outlinewidth\":0,\"ticks\":\"\"},\"type\":\"contourcarpet\"}],\"contour\":[{\"colorbar\":{\"outlinewidth\":0,\"ticks\":\"\"},\"colorscale\":[[0.0,\"#0d0887\"],[0.1111111111111111,\"#46039f\"],[0.2222222222222222,\"#7201a8\"],[0.3333333333333333,\"#9c179e\"],[0.4444444444444444,\"#bd3786\"],[0.5555555555555556,\"#d8576b\"],[0.6666666666666666,\"#ed7953\"],[0.7777777777777778,\"#fb9f3a\"],[0.8888888888888888,\"#fdca26\"],[1.0,\"#f0f921\"]],\"type\":\"contour\"}],\"heatmapgl\":[{\"colorbar\":{\"outlinewidth\":0,\"ticks\":\"\"},\"colorscale\":[[0.0,\"#0d0887\"],[0.1111111111111111,\"#46039f\"],[0.2222222222222222,\"#7201a8\"],[0.3333333333333333,\"#9c179e\"],[0.4444444444444444,\"#bd3786\"],[0.5555555555555556,\"#d8576b\"],[0.6666666666666666,\"#ed7953\"],[0.7777777777777778,\"#fb9f3a\"],[0.8888888888888888,\"#fdca26\"],[1.0,\"#f0f921\"]],\"type\":\"heatmapgl\"}],\"heatmap\":[{\"colorbar\":{\"outlinewidth\":0,\"ticks\":\"\"},\"colorscale\":[[0.0,\"#0d0887\"],[0.1111111111111111,\"#46039f\"],[0.2222222222222222,\"#7201a8\"],[0.3333333333333333,\"#9c179e\"],[0.4444444444444444,\"#bd3786\"],[0.5555555555555556,\"#d8576b\"],[0.6666666666666666,\"#ed7953\"],[0.7777777777777778,\"#fb9f3a\"],[0.8888888888888888,\"#fdca26\"],[1.0,\"#f0f921\"]],\"type\":\"heatmap\"}],\"histogram2dcontour\":[{\"colorbar\":{\"outlinewidth\":0,\"ticks\":\"\"},\"colorscale\":[[0.0,\"#0d0887\"],[0.1111111111111111,\"#46039f\"],[0.2222222222222222,\"#7201a8\"],[0.3333333333333333,\"#9c179e\"],[0.4444444444444444,\"#bd3786\"],[0.5555555555555556,\"#d8576b\"],[0.6666666666666666,\"#ed7953\"],[0.7777777777777778,\"#fb9f3a\"],[0.8888888888888888,\"#fdca26\"],[1.0,\"#f0f921\"]],\"type\":\"histogram2dcontour\"}],\"histogram2d\":[{\"colorbar\":{\"outlinewidth\":0,\"ticks\":\"\"},\"colorscale\":[[0.0,\"#0d0887\"],[0.1111111111111111,\"#46039f\"],[0.2222222222222222,\"#7201a8\"],[0.3333333333333333,\"#9c179e\"],[0.4444444444444444,\"#bd3786\"],[0.5555555555555556,\"#d8576b\"],[0.6666666666666666,\"#ed7953\"],[0.7777777777777778,\"#fb9f3a\"],[0.8888888888888888,\"#fdca26\"],[1.0,\"#f0f921\"]],\"type\":\"histogram2d\"}],\"histogram\":[{\"marker\":{\"pattern\":{\"fillmode\":\"overlay\",\"size\":10,\"solidity\":0.2}},\"type\":\"histogram\"}],\"mesh3d\":[{\"colorbar\":{\"outlinewidth\":0,\"ticks\":\"\"},\"type\":\"mesh3d\"}],\"parcoords\":[{\"line\":{\"colorbar\":{\"outlinewidth\":0,\"ticks\":\"\"}},\"type\":\"parcoords\"}],\"pie\":[{\"automargin\":true,\"type\":\"pie\"}],\"scatter3d\":[{\"line\":{\"colorbar\":{\"outlinewidth\":0,\"ticks\":\"\"}},\"marker\":{\"colorbar\":{\"outlinewidth\":0,\"ticks\":\"\"}},\"type\":\"scatter3d\"}],\"scattercarpet\":[{\"marker\":{\"colorbar\":{\"outlinewidth\":0,\"ticks\":\"\"}},\"type\":\"scattercarpet\"}],\"scattergeo\":[{\"marker\":{\"colorbar\":{\"outlinewidth\":0,\"ticks\":\"\"}},\"type\":\"scattergeo\"}],\"scattergl\":[{\"marker\":{\"colorbar\":{\"outlinewidth\":0,\"ticks\":\"\"}},\"type\":\"scattergl\"}],\"scattermapbox\":[{\"marker\":{\"colorbar\":{\"outlinewidth\":0,\"ticks\":\"\"}},\"type\":\"scattermapbox\"}],\"scatterpolargl\":[{\"marker\":{\"colorbar\":{\"outlinewidth\":0,\"ticks\":\"\"}},\"type\":\"scatterpolargl\"}],\"scatterpolar\":[{\"marker\":{\"colorbar\":{\"outlinewidth\":0,\"ticks\":\"\"}},\"type\":\"scatterpolar\"}],\"scatter\":[{\"marker\":{\"colorbar\":{\"outlinewidth\":0,\"ticks\":\"\"}},\"type\":\"scatter\"}],\"scatterternary\":[{\"marker\":{\"colorbar\":{\"outlinewidth\":0,\"ticks\":\"\"}},\"type\":\"scatterternary\"}],\"surface\":[{\"colorbar\":{\"outlinewidth\":0,\"ticks\":\"\"},\"colorscale\":[[0.0,\"#0d0887\"],[0.1111111111111111,\"#46039f\"],[0.2222222222222222,\"#7201a8\"],[0.3333333333333333,\"#9c179e\"],[0.4444444444444444,\"#bd3786\"],[0.5555555555555556,\"#d8576b\"],[0.6666666666666666,\"#ed7953\"],[0.7777777777777778,\"#fb9f3a\"],[0.8888888888888888,\"#fdca26\"],[1.0,\"#f0f921\"]],\"type\":\"surface\"}],\"table\":[{\"cells\":{\"fill\":{\"color\":\"#EBF0F8\"},\"line\":{\"color\":\"white\"}},\"header\":{\"fill\":{\"color\":\"#C8D4E3\"},\"line\":{\"color\":\"white\"}},\"type\":\"table\"}]},\"layout\":{\"annotationdefaults\":{\"arrowcolor\":\"#2a3f5f\",\"arrowhead\":0,\"arrowwidth\":1},\"autotypenumbers\":\"strict\",\"coloraxis\":{\"colorbar\":{\"outlinewidth\":0,\"ticks\":\"\"}},\"colorscale\":{\"diverging\":[[0,\"#8e0152\"],[0.1,\"#c51b7d\"],[0.2,\"#de77ae\"],[0.3,\"#f1b6da\"],[0.4,\"#fde0ef\"],[0.5,\"#f7f7f7\"],[0.6,\"#e6f5d0\"],[0.7,\"#b8e186\"],[0.8,\"#7fbc41\"],[0.9,\"#4d9221\"],[1,\"#276419\"]],\"sequential\":[[0.0,\"#0d0887\"],[0.1111111111111111,\"#46039f\"],[0.2222222222222222,\"#7201a8\"],[0.3333333333333333,\"#9c179e\"],[0.4444444444444444,\"#bd3786\"],[0.5555555555555556,\"#d8576b\"],[0.6666666666666666,\"#ed7953\"],[0.7777777777777778,\"#fb9f3a\"],[0.8888888888888888,\"#fdca26\"],[1.0,\"#f0f921\"]],\"sequentialminus\":[[0.0,\"#0d0887\"],[0.1111111111111111,\"#46039f\"],[0.2222222222222222,\"#7201a8\"],[0.3333333333333333,\"#9c179e\"],[0.4444444444444444,\"#bd3786\"],[0.5555555555555556,\"#d8576b\"],[0.6666666666666666,\"#ed7953\"],[0.7777777777777778,\"#fb9f3a\"],[0.8888888888888888,\"#fdca26\"],[1.0,\"#f0f921\"]]},\"colorway\":[\"#636efa\",\"#EF553B\",\"#00cc96\",\"#ab63fa\",\"#FFA15A\",\"#19d3f3\",\"#FF6692\",\"#B6E880\",\"#FF97FF\",\"#FECB52\"],\"font\":{\"color\":\"#2a3f5f\"},\"geo\":{\"bgcolor\":\"white\",\"lakecolor\":\"white\",\"landcolor\":\"white\",\"showlakes\":true,\"showland\":true,\"subunitcolor\":\"#C8D4E3\"},\"hoverlabel\":{\"align\":\"left\"},\"hovermode\":\"closest\",\"mapbox\":{\"style\":\"light\"},\"paper_bgcolor\":\"white\",\"plot_bgcolor\":\"white\",\"polar\":{\"angularaxis\":{\"gridcolor\":\"#EBF0F8\",\"linecolor\":\"#EBF0F8\",\"ticks\":\"\"},\"bgcolor\":\"white\",\"radialaxis\":{\"gridcolor\":\"#EBF0F8\",\"linecolor\":\"#EBF0F8\",\"ticks\":\"\"}},\"scene\":{\"xaxis\":{\"backgroundcolor\":\"white\",\"gridcolor\":\"#DFE8F3\",\"gridwidth\":2,\"linecolor\":\"#EBF0F8\",\"showbackground\":true,\"ticks\":\"\",\"zerolinecolor\":\"#EBF0F8\"},\"yaxis\":{\"backgroundcolor\":\"white\",\"gridcolor\":\"#DFE8F3\",\"gridwidth\":2,\"linecolor\":\"#EBF0F8\",\"showbackground\":true,\"ticks\":\"\",\"zerolinecolor\":\"#EBF0F8\"},\"zaxis\":{\"backgroundcolor\":\"white\",\"gridcolor\":\"#DFE8F3\",\"gridwidth\":2,\"linecolor\":\"#EBF0F8\",\"showbackground\":true,\"ticks\":\"\",\"zerolinecolor\":\"#EBF0F8\"}},\"shapedefaults\":{\"line\":{\"color\":\"#2a3f5f\"}},\"ternary\":{\"aaxis\":{\"gridcolor\":\"#DFE8F3\",\"linecolor\":\"#A2B1C6\",\"ticks\":\"\"},\"baxis\":{\"gridcolor\":\"#DFE8F3\",\"linecolor\":\"#A2B1C6\",\"ticks\":\"\"},\"bgcolor\":\"white\",\"caxis\":{\"gridcolor\":\"#DFE8F3\",\"linecolor\":\"#A2B1C6\",\"ticks\":\"\"}},\"title\":{\"x\":0.05},\"xaxis\":{\"automargin\":true,\"gridcolor\":\"#EBF0F8\",\"linecolor\":\"#EBF0F8\",\"ticks\":\"\",\"title\":{\"standoff\":15},\"zerolinecolor\":\"#EBF0F8\",\"zerolinewidth\":2},\"yaxis\":{\"automargin\":true,\"gridcolor\":\"#EBF0F8\",\"linecolor\":\"#EBF0F8\",\"ticks\":\"\",\"title\":{\"standoff\":15},\"zerolinecolor\":\"#EBF0F8\",\"zerolinewidth\":2}}},\"xaxis\":{\"anchor\":\"y\",\"domain\":[0.0,1.0],\"title\":{\"text\":\"Date\"}},\"yaxis\":{\"anchor\":\"x\",\"domain\":[0.0,1.0],\"title\":{\"text\":\"value\"}},\"legend\":{\"title\":{\"text\":\"variable\"},\"tracegroupgap\":0},\"margin\":{\"t\":60}},                        {\"responsive\": true}                    ).then(function(){\n",
       "                            \n",
       "var gd = document.getElementById('bc08356f-0a70-4a79-a292-093db27cd7e0');\n",
       "var x = new MutationObserver(function (mutations, observer) {{\n",
       "        var display = window.getComputedStyle(gd).display;\n",
       "        if (!display || display === 'none') {{\n",
       "            console.log([gd, 'removed!']);\n",
       "            Plotly.purge(gd);\n",
       "            observer.disconnect();\n",
       "        }}\n",
       "}});\n",
       "\n",
       "// Listen for the removal of the full notebook cells\n",
       "var notebookContainer = gd.closest('#notebook-container');\n",
       "if (notebookContainer) {{\n",
       "    x.observe(notebookContainer, {childList: true});\n",
       "}}\n",
       "\n",
       "// Listen for the clearing of the current output cell\n",
       "var outputEl = gd.closest('.output');\n",
       "if (outputEl) {{\n",
       "    x.observe(outputEl, {childList: true});\n",
       "}}\n",
       "\n",
       "                        })                };                });            </script>        </div>"
      ]
     },
     "metadata": {},
     "output_type": "display_data"
    },
    {
     "name": "stdout",
     "output_type": "stream",
     "text": [
      "Performing stepwise search to minimize aic\n",
      " ARIMA(1,1,1)(0,1,1)[12]             : AIC=597.661, Time=0.32 sec\n",
      " ARIMA(0,1,0)(0,1,0)[12]             : AIC=676.056, Time=0.01 sec\n",
      " ARIMA(1,1,0)(1,1,0)[12]             : AIC=634.238, Time=0.12 sec\n",
      " ARIMA(0,1,1)(0,1,1)[12]             : AIC=599.054, Time=0.22 sec\n",
      " ARIMA(1,1,1)(0,1,0)[12]             : AIC=614.827, Time=0.09 sec\n",
      " ARIMA(1,1,1)(1,1,1)[12]             : AIC=599.409, Time=0.37 sec\n",
      " ARIMA(1,1,1)(0,1,2)[12]             : AIC=599.443, Time=0.61 sec\n",
      " ARIMA(1,1,1)(1,1,0)[12]             : AIC=600.727, Time=0.14 sec\n",
      " ARIMA(1,1,1)(1,1,2)[12]             : AIC=601.404, Time=0.97 sec\n",
      " ARIMA(1,1,0)(0,1,1)[12]             : AIC=630.453, Time=0.12 sec\n",
      " ARIMA(2,1,1)(0,1,1)[12]             : AIC=595.106, Time=0.28 sec\n",
      " ARIMA(2,1,1)(0,1,0)[12]             : AIC=609.656, Time=0.07 sec\n",
      " ARIMA(2,1,1)(1,1,1)[12]             : AIC=597.106, Time=0.58 sec\n",
      " ARIMA(2,1,1)(0,1,2)[12]             : AIC=597.106, Time=0.81 sec\n",
      " ARIMA(2,1,1)(1,1,0)[12]             : AIC=597.915, Time=0.29 sec\n",
      " ARIMA(2,1,1)(1,1,2)[12]             : AIC=599.091, Time=1.06 sec\n",
      " ARIMA(2,1,0)(0,1,1)[12]             : AIC=601.655, Time=0.18 sec\n",
      " ARIMA(3,1,1)(0,1,1)[12]             : AIC=594.496, Time=0.49 sec\n",
      " ARIMA(3,1,1)(0,1,0)[12]             : AIC=610.285, Time=0.19 sec\n",
      " ARIMA(3,1,1)(1,1,1)[12]             : AIC=596.418, Time=0.72 sec\n",
      " ARIMA(3,1,1)(0,1,2)[12]             : AIC=596.432, Time=1.17 sec\n",
      " ARIMA(3,1,1)(1,1,0)[12]             : AIC=597.099, Time=0.42 sec\n",
      " ARIMA(3,1,1)(1,1,2)[12]             : AIC=598.407, Time=1.52 sec\n",
      " ARIMA(3,1,0)(0,1,1)[12]             : AIC=601.038, Time=0.15 sec\n",
      " ARIMA(4,1,1)(0,1,1)[12]             : AIC=596.432, Time=0.41 sec\n",
      " ARIMA(3,1,2)(0,1,1)[12]             : AIC=596.275, Time=0.37 sec\n",
      " ARIMA(2,1,2)(0,1,1)[12]             : AIC=594.698, Time=0.28 sec\n",
      " ARIMA(4,1,0)(0,1,1)[12]             : AIC=597.432, Time=0.23 sec\n",
      " ARIMA(4,1,2)(0,1,1)[12]             : AIC=598.244, Time=0.78 sec\n",
      " ARIMA(3,1,1)(0,1,1)[12] intercept   : AIC=inf, Time=0.89 sec\n",
      "\n",
      "Best model:  ARIMA(3,1,1)(0,1,1)[12]          \n",
      "Total fit time: 13.865 seconds\n",
      "Performing stepwise search to minimize aic\n",
      " ARIMA(1,1,1)(0,1,1)[12]             : AIC=1435.842, Time=0.14 sec\n",
      " ARIMA(0,1,0)(0,1,0)[12]             : AIC=1494.239, Time=0.03 sec\n",
      " ARIMA(1,1,0)(1,1,0)[12]             : AIC=1466.453, Time=0.06 sec\n",
      " ARIMA(0,1,1)(0,1,1)[12]             : AIC=inf, Time=0.20 sec\n",
      " ARIMA(1,1,1)(0,1,0)[12]             : AIC=inf, Time=0.11 sec\n",
      " ARIMA(1,1,1)(1,1,1)[12]             : AIC=1437.095, Time=0.27 sec\n",
      " ARIMA(1,1,1)(0,1,2)[12]             : AIC=1436.992, Time=0.39 sec\n",
      " ARIMA(1,1,1)(1,1,0)[12]             : AIC=inf, Time=0.30 sec\n",
      " ARIMA(1,1,1)(1,1,2)[12]             : AIC=1438.991, Time=0.65 sec\n",
      " ARIMA(1,1,0)(0,1,1)[12]             : AIC=1464.711, Time=0.08 sec\n",
      " ARIMA(2,1,1)(0,1,1)[12]             : AIC=1437.461, Time=0.23 sec\n",
      " ARIMA(1,1,2)(0,1,1)[12]             : AIC=1437.098, Time=0.36 sec\n",
      " ARIMA(0,1,0)(0,1,1)[12]             : AIC=1507.718, Time=0.08 sec\n",
      " ARIMA(0,1,2)(0,1,1)[12]             : AIC=inf, Time=0.49 sec\n",
      " ARIMA(2,1,0)(0,1,1)[12]             : AIC=1452.526, Time=0.15 sec\n",
      " ARIMA(2,1,2)(0,1,1)[12]             : AIC=1435.400, Time=0.96 sec\n",
      " ARIMA(2,1,2)(0,1,0)[12]             : AIC=1442.154, Time=0.20 sec\n",
      " ARIMA(2,1,2)(1,1,1)[12]             : AIC=1435.484, Time=0.81 sec\n",
      " ARIMA(2,1,2)(0,1,2)[12]             : AIC=1435.104, Time=1.58 sec\n",
      " ARIMA(2,1,2)(1,1,2)[12]             : AIC=1441.100, Time=1.15 sec\n",
      " ARIMA(1,1,2)(0,1,2)[12]             : AIC=1433.156, Time=1.07 sec\n",
      " ARIMA(1,1,2)(1,1,2)[12]             : AIC=1439.428, Time=0.70 sec\n",
      " ARIMA(1,1,2)(1,1,1)[12]             : AIC=1437.612, Time=0.38 sec\n",
      " ARIMA(0,1,2)(0,1,2)[12]             : AIC=1431.156, Time=0.89 sec\n",
      " ARIMA(0,1,2)(1,1,2)[12]             : AIC=1437.789, Time=0.48 sec\n",
      " ARIMA(0,1,2)(1,1,1)[12]             : AIC=1435.961, Time=0.21 sec\n",
      " ARIMA(0,1,1)(0,1,2)[12]             : AIC=inf, Time=0.64 sec\n",
      " ARIMA(0,1,3)(0,1,2)[12]             : AIC=1438.594, Time=0.51 sec\n",
      " ARIMA(1,1,3)(0,1,2)[12]             : AIC=inf, Time=1.78 sec\n",
      " ARIMA(0,1,2)(0,1,2)[12] intercept   : AIC=1431.131, Time=1.52 sec\n",
      " ARIMA(0,1,2)(0,1,1)[12] intercept   : AIC=inf, Time=0.59 sec\n",
      " ARIMA(0,1,2)(1,1,2)[12] intercept   : AIC=1438.102, Time=1.51 sec\n",
      " ARIMA(0,1,2)(1,1,1)[12] intercept   : AIC=inf, Time=0.71 sec\n",
      " ARIMA(0,1,1)(0,1,2)[12] intercept   : AIC=inf, Time=1.61 sec\n",
      " ARIMA(1,1,2)(0,1,2)[12] intercept   : AIC=1438.822, Time=1.43 sec\n",
      " ARIMA(0,1,3)(0,1,2)[12] intercept   : AIC=1439.931, Time=1.60 sec\n",
      " ARIMA(1,1,1)(0,1,2)[12] intercept   : AIC=1434.407, Time=1.81 sec\n",
      " ARIMA(1,1,3)(0,1,2)[12] intercept   : AIC=inf, Time=2.34 sec\n",
      "\n",
      "Best model:  ARIMA(0,1,2)(0,1,2)[12] intercept\n",
      "Total fit time: 28.047 seconds\n",
      "Performing stepwise search to minimize aic\n",
      " ARIMA(1,1,1)(0,1,1)[12]             : AIC=inf, Time=0.35 sec\n",
      " ARIMA(0,1,0)(0,1,0)[12]             : AIC=198.304, Time=0.02 sec\n",
      " ARIMA(1,1,0)(1,1,0)[12]             : AIC=161.034, Time=0.06 sec\n",
      " ARIMA(0,1,1)(0,1,1)[12]             : AIC=inf, Time=0.39 sec\n",
      " ARIMA(1,1,0)(0,1,0)[12]             : AIC=160.834, Time=0.03 sec\n",
      " ARIMA(1,1,0)(0,1,1)[12]             : AIC=inf, Time=0.23 sec\n",
      " ARIMA(1,1,0)(1,1,1)[12]             : AIC=inf, Time=0.47 sec\n",
      " ARIMA(2,1,0)(0,1,0)[12]             : AIC=134.379, Time=0.05 sec\n",
      " ARIMA(2,1,0)(1,1,0)[12]             : AIC=128.273, Time=0.11 sec\n",
      " ARIMA(2,1,0)(2,1,0)[12]             : AIC=127.591, Time=0.29 sec\n",
      " ARIMA(2,1,0)(2,1,1)[12]             : AIC=inf, Time=1.33 sec\n",
      " ARIMA(2,1,0)(1,1,1)[12]             : AIC=inf, Time=0.62 sec\n",
      " ARIMA(1,1,0)(2,1,0)[12]             : AIC=159.606, Time=0.19 sec\n",
      " ARIMA(3,1,0)(2,1,0)[12]             : AIC=125.345, Time=0.38 sec\n",
      " ARIMA(3,1,0)(1,1,0)[12]             : AIC=125.898, Time=0.14 sec\n",
      " ARIMA(3,1,0)(2,1,1)[12]             : AIC=inf, Time=1.35 sec\n",
      " ARIMA(3,1,0)(1,1,1)[12]             : AIC=inf, Time=1.14 sec\n",
      " ARIMA(4,1,0)(2,1,0)[12]             : AIC=120.759, Time=0.50 sec\n",
      " ARIMA(4,1,0)(1,1,0)[12]             : AIC=120.409, Time=0.18 sec\n",
      " ARIMA(4,1,0)(0,1,0)[12]             : AIC=124.285, Time=0.09 sec\n",
      " ARIMA(4,1,0)(1,1,1)[12]             : AIC=inf, Time=0.99 sec\n",
      " ARIMA(4,1,0)(0,1,1)[12]             : AIC=inf, Time=0.48 sec\n",
      " ARIMA(4,1,0)(2,1,1)[12]             : AIC=inf, Time=2.33 sec\n",
      " ARIMA(5,1,0)(1,1,0)[12]             : AIC=102.229, Time=0.20 sec\n",
      " ARIMA(5,1,0)(0,1,0)[12]             : AIC=104.280, Time=0.13 sec\n",
      " ARIMA(5,1,0)(2,1,0)[12]             : AIC=101.481, Time=0.63 sec\n",
      " ARIMA(5,1,0)(2,1,1)[12]             : AIC=inf, Time=2.56 sec\n",
      " ARIMA(5,1,0)(1,1,1)[12]             : AIC=inf, Time=1.19 sec\n",
      " ARIMA(5,1,1)(2,1,0)[12]             : AIC=inf, Time=2.90 sec\n",
      " ARIMA(4,1,1)(2,1,0)[12]             : AIC=inf, Time=2.61 sec\n",
      " ARIMA(5,1,0)(2,1,0)[12] intercept   : AIC=103.480, Time=1.15 sec\n",
      "\n",
      "Best model:  ARIMA(5,1,0)(2,1,0)[12]          \n",
      "Total fit time: 23.091 seconds\n",
      "Performing stepwise search to minimize aic\n",
      " ARIMA(1,1,1)(0,1,1)[12]             : AIC=inf, Time=0.58 sec\n",
      " ARIMA(0,1,0)(0,1,0)[12]             : AIC=547.991, Time=0.01 sec\n",
      " ARIMA(1,1,0)(1,1,0)[12]             : AIC=511.562, Time=0.07 sec\n",
      " ARIMA(0,1,1)(0,1,1)[12]             : AIC=inf, Time=0.24 sec\n",
      " ARIMA(1,1,0)(0,1,0)[12]             : AIC=544.785, Time=0.02 sec\n",
      " ARIMA(1,1,0)(2,1,0)[12]             : AIC=512.671, Time=0.21 sec\n",
      " ARIMA(1,1,0)(1,1,1)[12]             : AIC=inf, Time=0.39 sec\n",
      " ARIMA(1,1,0)(0,1,1)[12]             : AIC=inf, Time=0.29 sec\n",
      " ARIMA(1,1,0)(2,1,1)[12]             : AIC=inf, Time=0.99 sec\n",
      " ARIMA(0,1,0)(1,1,0)[12]             : AIC=519.355, Time=0.05 sec\n",
      " ARIMA(2,1,0)(1,1,0)[12]             : AIC=500.837, Time=0.12 sec\n",
      " ARIMA(2,1,0)(0,1,0)[12]             : AIC=526.331, Time=0.05 sec\n",
      " ARIMA(2,1,0)(2,1,0)[12]             : AIC=501.942, Time=0.33 sec\n",
      " ARIMA(2,1,0)(1,1,1)[12]             : AIC=inf, Time=0.57 sec\n",
      " ARIMA(2,1,0)(0,1,1)[12]             : AIC=inf, Time=0.42 sec\n",
      " ARIMA(2,1,0)(2,1,1)[12]             : AIC=inf, Time=1.36 sec\n",
      " ARIMA(3,1,0)(1,1,0)[12]             : AIC=500.414, Time=0.13 sec\n",
      " ARIMA(3,1,0)(0,1,0)[12]             : AIC=527.898, Time=0.05 sec\n",
      " ARIMA(3,1,0)(2,1,0)[12]             : AIC=500.797, Time=0.35 sec\n",
      " ARIMA(3,1,0)(1,1,1)[12]             : AIC=inf, Time=0.67 sec\n",
      " ARIMA(3,1,0)(0,1,1)[12]             : AIC=inf, Time=0.51 sec\n"
     ]
    },
    {
     "name": "stdout",
     "output_type": "stream",
     "text": [
      " ARIMA(3,1,0)(2,1,1)[12]             : AIC=inf, Time=1.52 sec\n",
      " ARIMA(4,1,0)(1,1,0)[12]             : AIC=502.184, Time=0.17 sec\n",
      " ARIMA(3,1,1)(1,1,0)[12]             : AIC=498.997, Time=0.33 sec\n",
      " ARIMA(3,1,1)(0,1,0)[12]             : AIC=inf, Time=0.30 sec\n",
      " ARIMA(3,1,1)(2,1,0)[12]             : AIC=499.397, Time=0.74 sec\n",
      " ARIMA(3,1,1)(1,1,1)[12]             : AIC=inf, Time=0.83 sec\n",
      " ARIMA(3,1,1)(0,1,1)[12]             : AIC=inf, Time=0.68 sec\n",
      " ARIMA(3,1,1)(2,1,1)[12]             : AIC=inf, Time=1.90 sec\n",
      " ARIMA(2,1,1)(1,1,0)[12]             : AIC=498.320, Time=0.22 sec\n",
      " ARIMA(2,1,1)(0,1,0)[12]             : AIC=527.999, Time=0.07 sec\n",
      " ARIMA(2,1,1)(2,1,0)[12]             : AIC=497.911, Time=0.56 sec\n",
      " ARIMA(2,1,1)(2,1,1)[12]             : AIC=inf, Time=1.86 sec\n",
      " ARIMA(2,1,1)(1,1,1)[12]             : AIC=inf, Time=0.86 sec\n",
      " ARIMA(1,1,1)(2,1,0)[12]             : AIC=496.801, Time=0.46 sec\n",
      " ARIMA(1,1,1)(1,1,0)[12]             : AIC=496.928, Time=0.17 sec\n",
      " ARIMA(1,1,1)(2,1,1)[12]             : AIC=inf, Time=1.32 sec\n",
      " ARIMA(1,1,1)(1,1,1)[12]             : AIC=inf, Time=0.67 sec\n",
      " ARIMA(0,1,1)(2,1,0)[12]             : AIC=495.370, Time=0.33 sec\n",
      " ARIMA(0,1,1)(1,1,0)[12]             : AIC=496.296, Time=0.11 sec\n",
      " ARIMA(0,1,1)(2,1,1)[12]             : AIC=inf, Time=1.26 sec\n",
      " ARIMA(0,1,1)(1,1,1)[12]             : AIC=inf, Time=0.55 sec\n",
      " ARIMA(0,1,0)(2,1,0)[12]             : AIC=521.142, Time=0.14 sec\n",
      " ARIMA(0,1,2)(2,1,0)[12]             : AIC=496.566, Time=0.48 sec\n",
      " ARIMA(1,1,2)(2,1,0)[12]             : AIC=498.200, Time=0.94 sec\n",
      " ARIMA(0,1,1)(2,1,0)[12] intercept   : AIC=inf, Time=1.01 sec\n",
      "\n",
      "Best model:  ARIMA(0,1,1)(2,1,0)[12]          \n",
      "Total fit time: 24.902 seconds\n",
      "Performing stepwise search to minimize aic\n",
      " ARIMA(1,1,1)(0,1,1)[12]             : AIC=1524.496, Time=0.15 sec\n",
      " ARIMA(0,1,0)(0,1,0)[12]             : AIC=1576.254, Time=0.02 sec\n",
      " ARIMA(1,1,0)(1,1,0)[12]             : AIC=1534.844, Time=0.06 sec\n",
      " ARIMA(0,1,1)(0,1,1)[12]             : AIC=1528.558, Time=0.12 sec\n",
      " ARIMA(1,1,1)(0,1,0)[12]             : AIC=1553.850, Time=0.05 sec\n",
      " ARIMA(1,1,1)(1,1,1)[12]             : AIC=inf, Time=0.25 sec\n",
      " ARIMA(1,1,1)(0,1,2)[12]             : AIC=1522.188, Time=0.47 sec\n",
      " ARIMA(1,1,1)(1,1,2)[12]             : AIC=inf, Time=0.74 sec\n",
      " ARIMA(0,1,1)(0,1,2)[12]             : AIC=1526.870, Time=0.31 sec\n",
      " ARIMA(1,1,0)(0,1,2)[12]             : AIC=1527.193, Time=0.24 sec\n",
      " ARIMA(2,1,1)(0,1,2)[12]             : AIC=inf, Time=0.71 sec\n",
      " ARIMA(1,1,2)(0,1,2)[12]             : AIC=inf, Time=1.17 sec\n",
      " ARIMA(0,1,0)(0,1,2)[12]             : AIC=1559.542, Time=0.19 sec\n",
      " ARIMA(0,1,2)(0,1,2)[12]             : AIC=inf, Time=0.65 sec\n",
      " ARIMA(2,1,0)(0,1,2)[12]             : AIC=1521.629, Time=0.29 sec\n",
      " ARIMA(2,1,0)(0,1,1)[12]             : AIC=1522.826, Time=0.10 sec\n",
      " ARIMA(2,1,0)(1,1,2)[12]             : AIC=1522.855, Time=0.68 sec\n",
      " ARIMA(2,1,0)(1,1,1)[12]             : AIC=1520.880, Time=0.25 sec\n",
      " ARIMA(2,1,0)(1,1,0)[12]             : AIC=1531.352, Time=0.10 sec\n",
      " ARIMA(2,1,0)(2,1,1)[12]             : AIC=inf, Time=0.60 sec\n",
      " ARIMA(2,1,0)(0,1,0)[12]             : AIC=1552.317, Time=0.06 sec\n",
      " ARIMA(2,1,0)(2,1,0)[12]             : AIC=1530.796, Time=0.33 sec\n",
      " ARIMA(2,1,0)(2,1,2)[12]             : AIC=inf, Time=1.01 sec\n",
      " ARIMA(1,1,0)(1,1,1)[12]             : AIC=1526.665, Time=0.18 sec\n",
      " ARIMA(3,1,0)(1,1,1)[12]             : AIC=inf, Time=0.32 sec\n",
      " ARIMA(2,1,1)(1,1,1)[12]             : AIC=inf, Time=0.43 sec\n",
      " ARIMA(3,1,1)(1,1,1)[12]             : AIC=inf, Time=0.76 sec\n",
      " ARIMA(2,1,0)(1,1,1)[12] intercept   : AIC=1523.802, Time=0.43 sec\n",
      "\n",
      "Best model:  ARIMA(2,1,0)(1,1,1)[12]          \n",
      "Total fit time: 10.684 seconds\n",
      "Performing stepwise search to minimize aic\n",
      " ARIMA(1,1,1)(0,1,1)[12]             : AIC=325.783, Time=0.15 sec\n",
      " ARIMA(0,1,0)(0,1,0)[12]             : AIC=336.924, Time=0.02 sec\n",
      " ARIMA(1,1,0)(1,1,0)[12]             : AIC=329.248, Time=0.07 sec\n",
      " ARIMA(0,1,1)(0,1,1)[12]             : AIC=325.427, Time=0.12 sec\n",
      " ARIMA(0,1,1)(0,1,0)[12]             : AIC=337.397, Time=0.03 sec\n",
      " ARIMA(0,1,1)(1,1,1)[12]             : AIC=327.211, Time=0.13 sec\n",
      " ARIMA(0,1,1)(0,1,2)[12]             : AIC=327.081, Time=0.30 sec\n",
      " ARIMA(0,1,1)(1,1,0)[12]             : AIC=326.782, Time=0.07 sec\n",
      " ARIMA(0,1,1)(1,1,2)[12]             : AIC=inf, Time=1.36 sec\n",
      " ARIMA(0,1,0)(0,1,1)[12]             : AIC=327.800, Time=0.06 sec\n",
      " ARIMA(0,1,2)(0,1,1)[12]             : AIC=321.244, Time=0.17 sec\n",
      " ARIMA(0,1,2)(0,1,0)[12]             : AIC=328.339, Time=0.03 sec\n",
      " ARIMA(0,1,2)(1,1,1)[12]             : AIC=323.240, Time=0.26 sec\n",
      " ARIMA(0,1,2)(0,1,2)[12]             : AIC=323.236, Time=0.53 sec\n",
      " ARIMA(0,1,2)(1,1,0)[12]             : AIC=322.500, Time=0.09 sec\n",
      " ARIMA(0,1,2)(1,1,2)[12]             : AIC=325.215, Time=0.87 sec\n",
      " ARIMA(1,1,2)(0,1,1)[12]             : AIC=320.526, Time=0.26 sec\n",
      " ARIMA(1,1,2)(0,1,0)[12]             : AIC=329.800, Time=0.07 sec\n",
      " ARIMA(1,1,2)(1,1,1)[12]             : AIC=322.520, Time=0.25 sec\n",
      " ARIMA(1,1,2)(0,1,2)[12]             : AIC=322.517, Time=0.58 sec\n",
      " ARIMA(1,1,2)(1,1,0)[12]             : AIC=322.316, Time=0.15 sec\n",
      " ARIMA(1,1,2)(1,1,2)[12]             : AIC=324.510, Time=1.06 sec\n",
      " ARIMA(2,1,2)(0,1,1)[12]             : AIC=322.150, Time=0.26 sec\n",
      " ARIMA(1,1,3)(0,1,1)[12]             : AIC=321.647, Time=0.28 sec\n",
      " ARIMA(0,1,3)(0,1,1)[12]             : AIC=319.653, Time=0.16 sec\n",
      " ARIMA(0,1,3)(0,1,0)[12]             : AIC=329.228, Time=0.05 sec\n",
      " ARIMA(0,1,3)(1,1,1)[12]             : AIC=321.647, Time=0.25 sec\n",
      " ARIMA(0,1,3)(0,1,2)[12]             : AIC=321.644, Time=0.52 sec\n",
      " ARIMA(0,1,3)(1,1,0)[12]             : AIC=321.552, Time=0.12 sec\n",
      " ARIMA(0,1,3)(1,1,2)[12]             : AIC=323.634, Time=1.10 sec\n",
      " ARIMA(0,1,4)(0,1,1)[12]             : AIC=321.647, Time=0.19 sec\n",
      " ARIMA(1,1,4)(0,1,1)[12]             : AIC=323.348, Time=0.62 sec\n",
      " ARIMA(0,1,3)(0,1,1)[12] intercept   : AIC=321.285, Time=0.23 sec\n",
      "\n",
      "Best model:  ARIMA(0,1,3)(0,1,1)[12]          \n",
      "Total fit time: 10.413 seconds\n",
      "Performing stepwise search to minimize aic\n",
      " ARIMA(1,1,1)(0,1,1)[12]             : AIC=844.289, Time=0.20 sec\n",
      " ARIMA(0,1,0)(0,1,0)[12]             : AIC=870.047, Time=0.02 sec\n",
      " ARIMA(1,1,0)(1,1,0)[12]             : AIC=852.606, Time=0.09 sec\n",
      " ARIMA(0,1,1)(0,1,1)[12]             : AIC=842.329, Time=0.18 sec\n",
      " ARIMA(0,1,1)(0,1,0)[12]             : AIC=841.647, Time=0.06 sec\n",
      " ARIMA(0,1,1)(1,1,0)[12]             : AIC=841.680, Time=0.12 sec\n",
      " ARIMA(0,1,1)(1,1,1)[12]             : AIC=841.917, Time=0.50 sec\n",
      " ARIMA(1,1,1)(0,1,0)[12]             : AIC=843.539, Time=0.14 sec\n",
      " ARIMA(0,1,2)(0,1,0)[12]             : AIC=843.528, Time=0.13 sec\n",
      " ARIMA(1,1,0)(0,1,0)[12]             : AIC=852.928, Time=0.06 sec\n",
      " ARIMA(1,1,2)(0,1,0)[12]             : AIC=843.580, Time=0.21 sec\n",
      " ARIMA(0,1,1)(0,1,0)[12] intercept   : AIC=841.636, Time=0.09 sec\n",
      " ARIMA(0,1,1)(1,1,0)[12] intercept   : AIC=841.422, Time=0.36 sec\n",
      " ARIMA(0,1,1)(2,1,0)[12] intercept   : AIC=840.803, Time=0.82 sec\n",
      " ARIMA(0,1,1)(2,1,1)[12] intercept   : AIC=842.648, Time=1.51 sec\n",
      " ARIMA(0,1,1)(1,1,1)[12] intercept   : AIC=841.869, Time=0.71 sec\n",
      " ARIMA(0,1,0)(2,1,0)[12] intercept   : AIC=869.319, Time=0.65 sec\n",
      " ARIMA(1,1,1)(2,1,0)[12] intercept   : AIC=842.774, Time=0.93 sec\n",
      " ARIMA(0,1,2)(2,1,0)[12] intercept   : AIC=842.768, Time=1.16 sec\n",
      " ARIMA(1,1,0)(2,1,0)[12] intercept   : AIC=853.830, Time=0.71 sec\n",
      " ARIMA(1,1,2)(2,1,0)[12] intercept   : AIC=843.692, Time=1.36 sec\n",
      " ARIMA(0,1,1)(2,1,0)[12]             : AIC=840.532, Time=0.36 sec\n",
      " ARIMA(0,1,1)(2,1,1)[12]             : AIC=842.111, Time=0.77 sec\n",
      " ARIMA(0,1,0)(2,1,0)[12]             : AIC=867.420, Time=0.20 sec\n",
      " ARIMA(1,1,1)(2,1,0)[12]             : AIC=842.463, Time=0.48 sec\n",
      " ARIMA(0,1,2)(2,1,0)[12]             : AIC=842.448, Time=0.82 sec\n",
      " ARIMA(1,1,0)(2,1,0)[12]             : AIC=852.053, Time=0.33 sec\n",
      " ARIMA(1,1,2)(2,1,0)[12]             : AIC=842.308, Time=1.17 sec\n",
      "\n",
      "Best model:  ARIMA(0,1,1)(2,1,0)[12]          \n",
      "Total fit time: 14.157 seconds\n",
      "Performing stepwise search to minimize aic\n",
      " ARIMA(1,1,1)(0,1,1)[12]             : AIC=1904.077, Time=0.21 sec\n",
      " ARIMA(0,1,0)(0,1,0)[12]             : AIC=1952.483, Time=0.02 sec\n",
      " ARIMA(1,1,0)(1,1,0)[12]             : AIC=1912.804, Time=0.13 sec\n",
      " ARIMA(0,1,1)(0,1,1)[12]             : AIC=1908.389, Time=0.32 sec\n",
      " ARIMA(1,1,1)(0,1,0)[12]             : AIC=1928.198, Time=0.05 sec\n"
     ]
    },
    {
     "name": "stdout",
     "output_type": "stream",
     "text": [
      " ARIMA(1,1,1)(1,1,1)[12]             : AIC=1901.213, Time=0.39 sec\n",
      " ARIMA(1,1,1)(1,1,0)[12]             : AIC=1911.844, Time=0.13 sec\n",
      " ARIMA(1,1,1)(2,1,1)[12]             : AIC=1903.211, Time=0.69 sec\n",
      " ARIMA(1,1,1)(1,1,2)[12]             : AIC=1903.212, Time=0.69 sec\n",
      " ARIMA(1,1,1)(0,1,2)[12]             : AIC=1902.141, Time=0.63 sec\n",
      " ARIMA(1,1,1)(2,1,0)[12]             : AIC=1911.199, Time=0.44 sec\n",
      " ARIMA(1,1,1)(2,1,2)[12]             : AIC=inf, Time=0.82 sec\n",
      " ARIMA(0,1,1)(1,1,1)[12]             : AIC=1906.495, Time=0.81 sec\n",
      " ARIMA(1,1,0)(1,1,1)[12]             : AIC=1904.065, Time=0.16 sec\n",
      " ARIMA(2,1,1)(1,1,1)[12]             : AIC=inf, Time=0.54 sec\n",
      " ARIMA(1,1,2)(1,1,1)[12]             : AIC=1902.594, Time=0.41 sec\n",
      " ARIMA(0,1,0)(1,1,1)[12]             : AIC=inf, Time=0.38 sec\n",
      " ARIMA(0,1,2)(1,1,1)[12]             : AIC=1900.835, Time=0.29 sec\n",
      " ARIMA(0,1,2)(0,1,1)[12]             : AIC=1902.320, Time=0.18 sec\n",
      " ARIMA(0,1,2)(1,1,0)[12]             : AIC=1909.365, Time=0.12 sec\n",
      " ARIMA(0,1,2)(2,1,1)[12]             : AIC=1902.752, Time=0.99 sec\n",
      " ARIMA(0,1,2)(1,1,2)[12]             : AIC=1902.797, Time=0.74 sec\n",
      " ARIMA(0,1,2)(0,1,0)[12]             : AIC=1926.336, Time=0.05 sec\n",
      " ARIMA(0,1,2)(0,1,2)[12]             : AIC=1901.646, Time=0.33 sec\n",
      " ARIMA(0,1,2)(2,1,0)[12]             : AIC=1909.265, Time=0.25 sec\n",
      " ARIMA(0,1,2)(2,1,2)[12]             : AIC=1904.343, Time=0.83 sec\n",
      " ARIMA(0,1,3)(1,1,1)[12]             : AIC=1901.916, Time=0.32 sec\n",
      " ARIMA(1,1,3)(1,1,1)[12]             : AIC=inf, Time=0.38 sec\n",
      " ARIMA(0,1,2)(1,1,1)[12] intercept   : AIC=1903.591, Time=0.27 sec\n",
      "\n",
      "Best model:  ARIMA(0,1,2)(1,1,1)[12]          \n",
      "Total fit time: 11.590 seconds\n",
      "Performing stepwise search to minimize aic\n",
      " ARIMA(1,1,1)(0,1,1)[12]             : AIC=921.107, Time=0.28 sec\n",
      " ARIMA(0,1,0)(0,1,0)[12]             : AIC=929.814, Time=0.02 sec\n",
      " ARIMA(1,1,0)(1,1,0)[12]             : AIC=920.991, Time=0.10 sec\n",
      " ARIMA(0,1,1)(0,1,1)[12]             : AIC=919.130, Time=0.18 sec\n",
      " ARIMA(0,1,1)(0,1,0)[12]             : AIC=917.130, Time=0.07 sec\n",
      " ARIMA(0,1,1)(1,1,0)[12]             : AIC=919.130, Time=0.11 sec\n",
      " ARIMA(0,1,1)(1,1,1)[12]             : AIC=inf, Time=0.31 sec\n",
      " ARIMA(1,1,1)(0,1,0)[12]             : AIC=919.108, Time=0.06 sec\n",
      " ARIMA(0,1,2)(0,1,0)[12]             : AIC=919.113, Time=0.07 sec\n",
      " ARIMA(1,1,0)(0,1,0)[12]             : AIC=918.992, Time=0.03 sec\n",
      " ARIMA(1,1,2)(0,1,0)[12]             : AIC=919.232, Time=0.20 sec\n",
      " ARIMA(0,1,1)(0,1,0)[12] intercept   : AIC=917.778, Time=0.14 sec\n",
      "\n",
      "Best model:  ARIMA(0,1,1)(0,1,0)[12]          \n",
      "Total fit time: 1.568 seconds\n",
      "Performing stepwise search to minimize aic\n",
      " ARIMA(1,1,1)(0,1,1)[12]             : AIC=1805.266, Time=0.13 sec\n",
      " ARIMA(0,1,0)(0,1,0)[12]             : AIC=1848.546, Time=0.00 sec\n",
      " ARIMA(1,1,0)(1,1,0)[12]             : AIC=1814.346, Time=0.08 sec\n",
      " ARIMA(0,1,1)(0,1,1)[12]             : AIC=1808.980, Time=0.09 sec\n",
      " ARIMA(1,1,1)(0,1,0)[12]             : AIC=1830.144, Time=0.07 sec\n",
      " ARIMA(1,1,1)(1,1,1)[12]             : AIC=1804.509, Time=0.18 sec\n",
      " ARIMA(1,1,1)(1,1,0)[12]             : AIC=1815.093, Time=0.12 sec\n",
      " ARIMA(1,1,1)(2,1,1)[12]             : AIC=1806.410, Time=0.51 sec\n",
      " ARIMA(1,1,1)(1,1,2)[12]             : AIC=1806.478, Time=0.66 sec\n",
      " ARIMA(1,1,1)(0,1,2)[12]             : AIC=1804.706, Time=0.39 sec\n",
      " ARIMA(1,1,1)(2,1,0)[12]             : AIC=1815.208, Time=0.32 sec\n",
      " ARIMA(1,1,1)(2,1,2)[12]             : AIC=1807.231, Time=0.95 sec\n",
      " ARIMA(0,1,1)(1,1,1)[12]             : AIC=1808.674, Time=0.20 sec\n",
      " ARIMA(1,1,0)(1,1,1)[12]             : AIC=1805.063, Time=0.16 sec\n",
      " ARIMA(2,1,1)(1,1,1)[12]             : AIC=1803.380, Time=0.69 sec\n",
      " ARIMA(2,1,1)(0,1,1)[12]             : AIC=1804.282, Time=0.47 sec\n",
      " ARIMA(2,1,1)(1,1,0)[12]             : AIC=1813.931, Time=0.64 sec\n",
      " ARIMA(2,1,1)(2,1,1)[12]             : AIC=1805.250, Time=1.65 sec\n",
      " ARIMA(2,1,1)(1,1,2)[12]             : AIC=1805.337, Time=1.72 sec\n",
      " ARIMA(2,1,1)(0,1,0)[12]             : AIC=inf, Time=0.36 sec\n",
      " ARIMA(2,1,1)(0,1,2)[12]             : AIC=1803.555, Time=0.85 sec\n",
      " ARIMA(2,1,1)(2,1,0)[12]             : AIC=1813.583, Time=1.09 sec\n",
      " ARIMA(2,1,1)(2,1,2)[12]             : AIC=1806.367, Time=2.02 sec\n",
      " ARIMA(2,1,0)(1,1,1)[12]             : AIC=1804.650, Time=0.19 sec\n",
      " ARIMA(3,1,1)(1,1,1)[12]             : AIC=1806.132, Time=0.42 sec\n",
      " ARIMA(2,1,2)(1,1,1)[12]             : AIC=1806.805, Time=0.34 sec\n",
      " ARIMA(1,1,2)(1,1,1)[12]             : AIC=1806.517, Time=0.27 sec\n",
      " ARIMA(3,1,0)(1,1,1)[12]             : AIC=1805.040, Time=0.23 sec\n",
      " ARIMA(3,1,2)(1,1,1)[12]             : AIC=1807.359, Time=0.97 sec\n",
      " ARIMA(2,1,1)(1,1,1)[12] intercept   : AIC=1805.042, Time=0.60 sec\n",
      "\n",
      "Best model:  ARIMA(2,1,1)(1,1,1)[12]          \n",
      "Total fit time: 16.405 seconds\n",
      "Performing stepwise search to minimize aic\n",
      " ARIMA(1,1,1)(0,1,1)[12]             : AIC=2524.013, Time=0.14 sec\n",
      " ARIMA(0,1,0)(0,1,0)[12]             : AIC=2565.480, Time=0.00 sec\n",
      " ARIMA(1,1,0)(1,1,0)[12]             : AIC=2532.550, Time=0.09 sec\n",
      " ARIMA(0,1,1)(0,1,1)[12]             : AIC=2525.987, Time=0.07 sec\n",
      " ARIMA(1,1,1)(0,1,0)[12]             : AIC=2551.369, Time=0.05 sec\n",
      " ARIMA(1,1,1)(1,1,1)[12]             : AIC=inf, Time=0.27 sec\n",
      " ARIMA(1,1,1)(0,1,2)[12]             : AIC=2519.711, Time=0.42 sec\n",
      " ARIMA(1,1,1)(1,1,2)[12]             : AIC=2521.286, Time=0.75 sec\n",
      " ARIMA(0,1,1)(0,1,2)[12]             : AIC=2522.259, Time=0.27 sec\n",
      " ARIMA(1,1,0)(0,1,2)[12]             : AIC=2521.163, Time=0.28 sec\n",
      " ARIMA(2,1,1)(0,1,2)[12]             : AIC=2523.375, Time=0.77 sec\n",
      " ARIMA(1,1,2)(0,1,2)[12]             : AIC=2521.703, Time=0.72 sec\n",
      " ARIMA(0,1,0)(0,1,2)[12]             : AIC=2550.919, Time=0.17 sec\n",
      " ARIMA(0,1,2)(0,1,2)[12]             : AIC=2519.808, Time=0.30 sec\n",
      " ARIMA(2,1,0)(0,1,2)[12]             : AIC=2519.514, Time=0.30 sec\n",
      " ARIMA(2,1,0)(0,1,1)[12]             : AIC=2522.919, Time=0.10 sec\n",
      " ARIMA(2,1,0)(1,1,2)[12]             : AIC=2521.200, Time=0.55 sec\n",
      " ARIMA(2,1,0)(1,1,1)[12]             : AIC=inf, Time=0.24 sec\n",
      " ARIMA(3,1,0)(0,1,2)[12]             : AIC=2522.091, Time=0.39 sec\n",
      " ARIMA(3,1,1)(0,1,2)[12]             : AIC=inf, Time=1.62 sec\n",
      " ARIMA(2,1,0)(0,1,2)[12] intercept   : AIC=2522.365, Time=0.35 sec\n",
      "\n",
      "Best model:  ARIMA(2,1,0)(0,1,2)[12]          \n",
      "Total fit time: 7.853 seconds\n"
     ]
    },
    {
     "data": {
      "application/vnd.plotly.v1+json": {
       "config": {
        "plotlyServerURL": "https://plot.ly"
       },
       "data": [
        {
         "hovertemplate": "variable=Payroll blended products<br>Calendar Date=%{x}<br>value=%{y}<extra></extra>",
         "legendgroup": "Payroll blended products",
         "line": {
          "color": "#636efa",
          "dash": "solid"
         },
         "marker": {
          "symbol": "circle"
         },
         "mode": "lines",
         "name": "Payroll blended products",
         "orientation": "v",
         "showlegend": true,
         "type": "scatter",
         "x": [
          "2014-06-01T00:00:00",
          "2014-07-01T00:00:00",
          "2014-08-01T00:00:00",
          "2014-09-01T00:00:00",
          "2014-10-01T00:00:00",
          "2014-11-01T00:00:00",
          "2014-12-01T00:00:00",
          "2015-01-01T00:00:00",
          "2015-02-01T00:00:00",
          "2015-03-01T00:00:00",
          "2015-04-01T00:00:00",
          "2015-05-01T00:00:00",
          "2015-06-01T00:00:00",
          "2015-07-01T00:00:00",
          "2015-08-01T00:00:00",
          "2015-09-01T00:00:00",
          "2015-10-01T00:00:00",
          "2015-11-01T00:00:00",
          "2015-12-01T00:00:00",
          "2016-01-01T00:00:00",
          "2016-02-01T00:00:00",
          "2016-03-01T00:00:00",
          "2016-04-01T00:00:00",
          "2016-05-01T00:00:00",
          "2016-06-01T00:00:00",
          "2016-07-01T00:00:00",
          "2016-08-01T00:00:00",
          "2016-09-01T00:00:00",
          "2016-10-01T00:00:00",
          "2016-11-01T00:00:00",
          "2016-12-01T00:00:00",
          "2017-01-01T00:00:00",
          "2017-02-01T00:00:00",
          "2017-03-01T00:00:00",
          "2017-04-01T00:00:00",
          "2017-05-01T00:00:00",
          "2017-06-01T00:00:00",
          "2017-07-01T00:00:00",
          "2017-08-01T00:00:00",
          "2017-09-01T00:00:00",
          "2017-10-01T00:00:00",
          "2017-11-01T00:00:00",
          "2017-12-01T00:00:00",
          "2018-01-01T00:00:00",
          "2018-02-01T00:00:00",
          "2018-03-01T00:00:00",
          "2018-04-01T00:00:00",
          "2018-05-01T00:00:00",
          "2018-06-01T00:00:00",
          "2018-07-01T00:00:00",
          "2018-08-01T00:00:00",
          "2018-09-01T00:00:00",
          "2018-10-01T00:00:00",
          "2018-11-01T00:00:00",
          "2018-12-01T00:00:00",
          "2019-01-01T00:00:00",
          "2019-02-01T00:00:00",
          "2019-03-01T00:00:00",
          "2019-04-01T00:00:00",
          "2019-05-01T00:00:00",
          "2019-06-01T00:00:00",
          "2019-07-01T00:00:00",
          "2019-08-01T00:00:00",
          "2019-09-01T00:00:00",
          "2019-10-01T00:00:00",
          "2019-11-01T00:00:00",
          "2019-12-01T00:00:00",
          "2020-01-01T00:00:00",
          "2020-02-01T00:00:00",
          "2020-03-01T00:00:00",
          "2020-04-01T00:00:00",
          "2020-05-01T00:00:00",
          "2020-06-01T00:00:00",
          "2020-07-01T00:00:00",
          "2020-08-01T00:00:00",
          "2020-09-01T00:00:00",
          "2020-10-01T00:00:00",
          "2020-11-01T00:00:00",
          "2020-12-01T00:00:00",
          "2021-01-01T00:00:00",
          "2021-02-01T00:00:00",
          "2021-03-01T00:00:00",
          "2021-04-01T00:00:00",
          "2021-05-01T00:00:00",
          "2021-06-01T00:00:00",
          "2021-07-01T00:00:00",
          "2021-08-01T00:00:00",
          "2021-09-01T00:00:00",
          "2021-10-01T00:00:00",
          "2021-11-01T00:00:00",
          "2021-12-01T00:00:00",
          "2022-01-01T00:00:00"
         ],
         "xaxis": "x",
         "y": [
          99633512,
          121619696,
          99472483,
          94198230,
          124353873,
          98868618,
          99281713,
          124388966,
          95862151,
          92298659,
          121697752,
          101684796,
          98488622,
          128603825,
          105495604,
          125580319,
          100345212,
          101027390,
          103140193,
          125846591,
          96492494,
          120343617,
          98703839,
          106311407,
          118434494,
          104657878,
          117436063,
          110000558,
          105928516,
          113829464,
          117493864,
          106635184,
          98803491,
          111544069,
          99478187,
          118429597,
          115286408,
          108148242,
          120254168,
          104705146,
          110931972,
          115430932,
          113194342,
          110248167,
          98798038,
          106248694,
          103554646,
          119149029,
          107365918,
          113740156,
          116505720,
          102622473,
          115762795,
          110179873,
          117538398,
          110354647,
          98377675,
          99958270,
          108700563,
          115331665,
          106731158,
          119190721,
          113364359,
          108305027,
          119068432,
          105060481,
          128667631,
          106043776,
          99644382,
          107287296,
          92673007,
          90949332,
          103438412,
          103718926,
          99146164,
          108696536,
          107861298,
          105164502,
          126152261,
          94834624,
          96978102,
          110554131,
          105999185,
          101329196,
          114237978,
          113185861,
          115768921,
          116406871,
          107455264,
          117503730,
          127800869,
          103869768
         ],
         "yaxis": "y"
        },
        {
         "hovertemplate": "variable=Payroll blended products - ML Predicted<br>Calendar Date=%{x}<br>value=%{y}<extra></extra>",
         "legendgroup": "Payroll blended products - ML Predicted",
         "line": {
          "color": "#EF553B",
          "dash": "solid"
         },
         "marker": {
          "symbol": "circle"
         },
         "mode": "lines",
         "name": "Payroll blended products - ML Predicted",
         "orientation": "v",
         "showlegend": true,
         "type": "scatter",
         "x": [
          "2014-06-01T00:00:00",
          "2014-07-01T00:00:00",
          "2014-08-01T00:00:00",
          "2014-09-01T00:00:00",
          "2014-10-01T00:00:00",
          "2014-11-01T00:00:00",
          "2014-12-01T00:00:00",
          "2015-01-01T00:00:00",
          "2015-02-01T00:00:00",
          "2015-03-01T00:00:00",
          "2015-04-01T00:00:00",
          "2015-05-01T00:00:00",
          "2015-06-01T00:00:00",
          "2015-07-01T00:00:00",
          "2015-08-01T00:00:00",
          "2015-09-01T00:00:00",
          "2015-10-01T00:00:00",
          "2015-11-01T00:00:00",
          "2015-12-01T00:00:00",
          "2016-01-01T00:00:00",
          "2016-02-01T00:00:00",
          "2016-03-01T00:00:00",
          "2016-04-01T00:00:00",
          "2016-05-01T00:00:00",
          "2016-06-01T00:00:00",
          "2016-07-01T00:00:00",
          "2016-08-01T00:00:00",
          "2016-09-01T00:00:00",
          "2016-10-01T00:00:00",
          "2016-11-01T00:00:00",
          "2016-12-01T00:00:00",
          "2017-01-01T00:00:00",
          "2017-02-01T00:00:00",
          "2017-03-01T00:00:00",
          "2017-04-01T00:00:00",
          "2017-05-01T00:00:00",
          "2017-06-01T00:00:00",
          "2017-07-01T00:00:00",
          "2017-08-01T00:00:00",
          "2017-09-01T00:00:00",
          "2017-10-01T00:00:00",
          "2017-11-01T00:00:00",
          "2017-12-01T00:00:00",
          "2018-01-01T00:00:00",
          "2018-02-01T00:00:00",
          "2018-03-01T00:00:00",
          "2018-04-01T00:00:00",
          "2018-05-01T00:00:00",
          "2018-06-01T00:00:00",
          "2018-07-01T00:00:00",
          "2018-08-01T00:00:00",
          "2018-09-01T00:00:00",
          "2018-10-01T00:00:00",
          "2018-11-01T00:00:00",
          "2018-12-01T00:00:00",
          "2019-01-01T00:00:00",
          "2019-02-01T00:00:00",
          "2019-03-01T00:00:00",
          "2019-04-01T00:00:00",
          "2019-05-01T00:00:00",
          "2019-06-01T00:00:00",
          "2019-07-01T00:00:00",
          "2019-08-01T00:00:00",
          "2019-09-01T00:00:00",
          "2019-10-01T00:00:00",
          "2019-11-01T00:00:00",
          "2019-12-01T00:00:00",
          "2020-01-01T00:00:00",
          "2020-02-01T00:00:00",
          "2020-03-01T00:00:00",
          "2020-04-01T00:00:00",
          "2020-05-01T00:00:00",
          "2020-06-01T00:00:00",
          "2020-07-01T00:00:00",
          "2020-08-01T00:00:00",
          "2020-09-01T00:00:00",
          "2020-10-01T00:00:00",
          "2020-11-01T00:00:00",
          "2020-12-01T00:00:00",
          "2021-01-01T00:00:00",
          "2021-02-01T00:00:00",
          "2021-03-01T00:00:00",
          "2021-04-01T00:00:00",
          "2021-05-01T00:00:00",
          "2021-06-01T00:00:00",
          "2021-07-01T00:00:00",
          "2021-08-01T00:00:00",
          "2021-09-01T00:00:00",
          "2021-10-01T00:00:00",
          "2021-11-01T00:00:00",
          "2021-12-01T00:00:00",
          "2022-01-01T00:00:00"
         ],
         "xaxis": "x",
         "y": [
          null,
          null,
          null,
          null,
          null,
          null,
          null,
          null,
          null,
          null,
          null,
          null,
          null,
          null,
          null,
          null,
          null,
          null,
          null,
          null,
          null,
          null,
          null,
          null,
          null,
          null,
          null,
          null,
          null,
          null,
          null,
          null,
          null,
          null,
          null,
          null,
          null,
          null,
          null,
          null,
          null,
          null,
          null,
          null,
          null,
          null,
          null,
          null,
          null,
          null,
          null,
          null,
          null,
          null,
          null,
          null,
          null,
          null,
          null,
          null,
          null,
          null,
          null,
          null,
          null,
          null,
          null,
          null,
          null,
          null,
          null,
          null,
          null,
          null,
          null,
          null,
          null,
          null,
          null,
          null,
          null,
          null,
          null,
          null,
          1.076656324E8,
          1.117361124E8,
          1.080259644E8,
          1.1015567344E8,
          1.0310429352E8,
          1.0560236568E8,
          1.1515830264E8,
          1.068125952E8
         ],
         "yaxis": "y"
        },
        {
         "hovertemplate": "variable=Payroll blended products - UTS Predicted<br>Calendar Date=%{x}<br>value=%{y}<extra></extra>",
         "legendgroup": "Payroll blended products - UTS Predicted",
         "line": {
          "color": "#00cc96",
          "dash": "solid"
         },
         "marker": {
          "symbol": "circle"
         },
         "mode": "lines",
         "name": "Payroll blended products - UTS Predicted",
         "orientation": "v",
         "showlegend": true,
         "type": "scatter",
         "x": [
          "2014-06-01T00:00:00",
          "2014-07-01T00:00:00",
          "2014-08-01T00:00:00",
          "2014-09-01T00:00:00",
          "2014-10-01T00:00:00",
          "2014-11-01T00:00:00",
          "2014-12-01T00:00:00",
          "2015-01-01T00:00:00",
          "2015-02-01T00:00:00",
          "2015-03-01T00:00:00",
          "2015-04-01T00:00:00",
          "2015-05-01T00:00:00",
          "2015-06-01T00:00:00",
          "2015-07-01T00:00:00",
          "2015-08-01T00:00:00",
          "2015-09-01T00:00:00",
          "2015-10-01T00:00:00",
          "2015-11-01T00:00:00",
          "2015-12-01T00:00:00",
          "2016-01-01T00:00:00",
          "2016-02-01T00:00:00",
          "2016-03-01T00:00:00",
          "2016-04-01T00:00:00",
          "2016-05-01T00:00:00",
          "2016-06-01T00:00:00",
          "2016-07-01T00:00:00",
          "2016-08-01T00:00:00",
          "2016-09-01T00:00:00",
          "2016-10-01T00:00:00",
          "2016-11-01T00:00:00",
          "2016-12-01T00:00:00",
          "2017-01-01T00:00:00",
          "2017-02-01T00:00:00",
          "2017-03-01T00:00:00",
          "2017-04-01T00:00:00",
          "2017-05-01T00:00:00",
          "2017-06-01T00:00:00",
          "2017-07-01T00:00:00",
          "2017-08-01T00:00:00",
          "2017-09-01T00:00:00",
          "2017-10-01T00:00:00",
          "2017-11-01T00:00:00",
          "2017-12-01T00:00:00",
          "2018-01-01T00:00:00",
          "2018-02-01T00:00:00",
          "2018-03-01T00:00:00",
          "2018-04-01T00:00:00",
          "2018-05-01T00:00:00",
          "2018-06-01T00:00:00",
          "2018-07-01T00:00:00",
          "2018-08-01T00:00:00",
          "2018-09-01T00:00:00",
          "2018-10-01T00:00:00",
          "2018-11-01T00:00:00",
          "2018-12-01T00:00:00",
          "2019-01-01T00:00:00",
          "2019-02-01T00:00:00",
          "2019-03-01T00:00:00",
          "2019-04-01T00:00:00",
          "2019-05-01T00:00:00",
          "2019-06-01T00:00:00",
          "2019-07-01T00:00:00",
          "2019-08-01T00:00:00",
          "2019-09-01T00:00:00",
          "2019-10-01T00:00:00",
          "2019-11-01T00:00:00",
          "2019-12-01T00:00:00",
          "2020-01-01T00:00:00",
          "2020-02-01T00:00:00",
          "2020-03-01T00:00:00",
          "2020-04-01T00:00:00",
          "2020-05-01T00:00:00",
          "2020-06-01T00:00:00",
          "2020-07-01T00:00:00",
          "2020-08-01T00:00:00",
          "2020-09-01T00:00:00",
          "2020-10-01T00:00:00",
          "2020-11-01T00:00:00",
          "2020-12-01T00:00:00",
          "2021-01-01T00:00:00",
          "2021-02-01T00:00:00",
          "2021-03-01T00:00:00",
          "2021-04-01T00:00:00",
          "2021-05-01T00:00:00",
          "2021-06-01T00:00:00",
          "2021-07-01T00:00:00",
          "2021-08-01T00:00:00",
          "2021-09-01T00:00:00",
          "2021-10-01T00:00:00",
          "2021-11-01T00:00:00",
          "2021-12-01T00:00:00",
          "2022-01-01T00:00:00"
         ],
         "xaxis": "x",
         "y": [
          null,
          null,
          null,
          null,
          null,
          null,
          null,
          null,
          null,
          null,
          null,
          null,
          null,
          null,
          null,
          null,
          null,
          null,
          null,
          null,
          null,
          null,
          null,
          null,
          null,
          null,
          null,
          null,
          null,
          null,
          null,
          null,
          null,
          null,
          null,
          null,
          null,
          null,
          null,
          null,
          null,
          null,
          null,
          null,
          null,
          null,
          null,
          null,
          null,
          null,
          null,
          null,
          null,
          null,
          null,
          null,
          null,
          null,
          null,
          null,
          null,
          null,
          null,
          null,
          null,
          null,
          null,
          null,
          null,
          null,
          null,
          null,
          null,
          null,
          null,
          null,
          null,
          null,
          null,
          null,
          null,
          null,
          null,
          null,
          1.1456304252019879E8,
          1.1576351007368843E8,
          1.1351655387426367E8,
          1.1539464548026022E8,
          1.1749035637261996E8,
          1.1436705758656743E8,
          1.2789344551888393E8,
          1.105324148322222E8
         ],
         "yaxis": "y"
        },
        {
         "hovertemplate": "variable=Payroll blended products - Plan<br>Calendar Date=%{x}<br>value=%{y}<extra></extra>",
         "legendgroup": "Payroll blended products - Plan",
         "line": {
          "color": "#ab63fa",
          "dash": "solid"
         },
         "marker": {
          "symbol": "circle"
         },
         "mode": "lines",
         "name": "Payroll blended products - Plan",
         "orientation": "v",
         "showlegend": true,
         "type": "scatter",
         "x": [
          "2014-06-01T00:00:00",
          "2014-07-01T00:00:00",
          "2014-08-01T00:00:00",
          "2014-09-01T00:00:00",
          "2014-10-01T00:00:00",
          "2014-11-01T00:00:00",
          "2014-12-01T00:00:00",
          "2015-01-01T00:00:00",
          "2015-02-01T00:00:00",
          "2015-03-01T00:00:00",
          "2015-04-01T00:00:00",
          "2015-05-01T00:00:00",
          "2015-06-01T00:00:00",
          "2015-07-01T00:00:00",
          "2015-08-01T00:00:00",
          "2015-09-01T00:00:00",
          "2015-10-01T00:00:00",
          "2015-11-01T00:00:00",
          "2015-12-01T00:00:00",
          "2016-01-01T00:00:00",
          "2016-02-01T00:00:00",
          "2016-03-01T00:00:00",
          "2016-04-01T00:00:00",
          "2016-05-01T00:00:00",
          "2016-06-01T00:00:00",
          "2016-07-01T00:00:00",
          "2016-08-01T00:00:00",
          "2016-09-01T00:00:00",
          "2016-10-01T00:00:00",
          "2016-11-01T00:00:00",
          "2016-12-01T00:00:00",
          "2017-01-01T00:00:00",
          "2017-02-01T00:00:00",
          "2017-03-01T00:00:00",
          "2017-04-01T00:00:00",
          "2017-05-01T00:00:00",
          "2017-06-01T00:00:00",
          "2017-07-01T00:00:00",
          "2017-08-01T00:00:00",
          "2017-09-01T00:00:00",
          "2017-10-01T00:00:00",
          "2017-11-01T00:00:00",
          "2017-12-01T00:00:00",
          "2018-01-01T00:00:00",
          "2018-02-01T00:00:00",
          "2018-03-01T00:00:00",
          "2018-04-01T00:00:00",
          "2018-05-01T00:00:00",
          "2018-06-01T00:00:00",
          "2018-07-01T00:00:00",
          "2018-08-01T00:00:00",
          "2018-09-01T00:00:00",
          "2018-10-01T00:00:00",
          "2018-11-01T00:00:00",
          "2018-12-01T00:00:00",
          "2019-01-01T00:00:00",
          "2019-02-01T00:00:00",
          "2019-03-01T00:00:00",
          "2019-04-01T00:00:00",
          "2019-05-01T00:00:00",
          "2019-06-01T00:00:00",
          "2019-07-01T00:00:00",
          "2019-08-01T00:00:00",
          "2019-09-01T00:00:00",
          "2019-10-01T00:00:00",
          "2019-11-01T00:00:00",
          "2019-12-01T00:00:00",
          "2020-01-01T00:00:00",
          "2020-02-01T00:00:00",
          "2020-03-01T00:00:00",
          "2020-04-01T00:00:00",
          "2020-05-01T00:00:00",
          "2020-06-01T00:00:00",
          "2020-07-01T00:00:00",
          "2020-08-01T00:00:00",
          "2020-09-01T00:00:00",
          "2020-10-01T00:00:00",
          "2020-11-01T00:00:00",
          "2020-12-01T00:00:00",
          "2021-01-01T00:00:00",
          "2021-02-01T00:00:00",
          "2021-03-01T00:00:00",
          "2021-04-01T00:00:00",
          "2021-05-01T00:00:00",
          "2021-06-01T00:00:00",
          "2021-07-01T00:00:00",
          "2021-08-01T00:00:00",
          "2021-09-01T00:00:00",
          "2021-10-01T00:00:00",
          "2021-11-01T00:00:00",
          "2021-12-01T00:00:00",
          "2022-01-01T00:00:00"
         ],
         "xaxis": "x",
         "y": [
          null,
          null,
          null,
          null,
          null,
          null,
          null,
          null,
          null,
          null,
          null,
          null,
          null,
          null,
          null,
          null,
          null,
          null,
          null,
          null,
          null,
          null,
          null,
          null,
          null,
          null,
          null,
          null,
          null,
          null,
          null,
          null,
          null,
          null,
          null,
          null,
          null,
          null,
          null,
          null,
          null,
          null,
          null,
          null,
          null,
          null,
          null,
          null,
          null,
          null,
          null,
          null,
          null,
          null,
          null,
          null,
          null,
          null,
          null,
          null,
          null,
          null,
          null,
          null,
          null,
          null,
          null,
          null,
          null,
          null,
          null,
          null,
          null,
          null,
          null,
          null,
          null,
          null,
          null,
          null,
          null,
          null,
          null,
          null,
          113430646,
          114320702,
          116798889,
          112693661,
          104530553,
          113258398,
          119579852,
          102695532
         ],
         "yaxis": "y"
        },
        {
         "hovertemplate": "variable=Payroll blended products - 2+10 Forecast<br>Calendar Date=%{x}<br>value=%{y}<extra></extra>",
         "legendgroup": "Payroll blended products - 2+10 Forecast",
         "line": {
          "color": "#FFA15A",
          "dash": "solid"
         },
         "marker": {
          "symbol": "circle"
         },
         "mode": "lines",
         "name": "Payroll blended products - 2+10 Forecast",
         "orientation": "v",
         "showlegend": true,
         "type": "scatter",
         "x": [
          "2014-06-01T00:00:00",
          "2014-07-01T00:00:00",
          "2014-08-01T00:00:00",
          "2014-09-01T00:00:00",
          "2014-10-01T00:00:00",
          "2014-11-01T00:00:00",
          "2014-12-01T00:00:00",
          "2015-01-01T00:00:00",
          "2015-02-01T00:00:00",
          "2015-03-01T00:00:00",
          "2015-04-01T00:00:00",
          "2015-05-01T00:00:00",
          "2015-06-01T00:00:00",
          "2015-07-01T00:00:00",
          "2015-08-01T00:00:00",
          "2015-09-01T00:00:00",
          "2015-10-01T00:00:00",
          "2015-11-01T00:00:00",
          "2015-12-01T00:00:00",
          "2016-01-01T00:00:00",
          "2016-02-01T00:00:00",
          "2016-03-01T00:00:00",
          "2016-04-01T00:00:00",
          "2016-05-01T00:00:00",
          "2016-06-01T00:00:00",
          "2016-07-01T00:00:00",
          "2016-08-01T00:00:00",
          "2016-09-01T00:00:00",
          "2016-10-01T00:00:00",
          "2016-11-01T00:00:00",
          "2016-12-01T00:00:00",
          "2017-01-01T00:00:00",
          "2017-02-01T00:00:00",
          "2017-03-01T00:00:00",
          "2017-04-01T00:00:00",
          "2017-05-01T00:00:00",
          "2017-06-01T00:00:00",
          "2017-07-01T00:00:00",
          "2017-08-01T00:00:00",
          "2017-09-01T00:00:00",
          "2017-10-01T00:00:00",
          "2017-11-01T00:00:00",
          "2017-12-01T00:00:00",
          "2018-01-01T00:00:00",
          "2018-02-01T00:00:00",
          "2018-03-01T00:00:00",
          "2018-04-01T00:00:00",
          "2018-05-01T00:00:00",
          "2018-06-01T00:00:00",
          "2018-07-01T00:00:00",
          "2018-08-01T00:00:00",
          "2018-09-01T00:00:00",
          "2018-10-01T00:00:00",
          "2018-11-01T00:00:00",
          "2018-12-01T00:00:00",
          "2019-01-01T00:00:00",
          "2019-02-01T00:00:00",
          "2019-03-01T00:00:00",
          "2019-04-01T00:00:00",
          "2019-05-01T00:00:00",
          "2019-06-01T00:00:00",
          "2019-07-01T00:00:00",
          "2019-08-01T00:00:00",
          "2019-09-01T00:00:00",
          "2019-10-01T00:00:00",
          "2019-11-01T00:00:00",
          "2019-12-01T00:00:00",
          "2020-01-01T00:00:00",
          "2020-02-01T00:00:00",
          "2020-03-01T00:00:00",
          "2020-04-01T00:00:00",
          "2020-05-01T00:00:00",
          "2020-06-01T00:00:00",
          "2020-07-01T00:00:00",
          "2020-08-01T00:00:00",
          "2020-09-01T00:00:00",
          "2020-10-01T00:00:00",
          "2020-11-01T00:00:00",
          "2020-12-01T00:00:00",
          "2021-01-01T00:00:00",
          "2021-02-01T00:00:00",
          "2021-03-01T00:00:00",
          "2021-04-01T00:00:00",
          "2021-05-01T00:00:00",
          "2021-06-01T00:00:00",
          "2021-07-01T00:00:00",
          "2021-08-01T00:00:00",
          "2021-09-01T00:00:00",
          "2021-10-01T00:00:00",
          "2021-11-01T00:00:00",
          "2021-12-01T00:00:00",
          "2022-01-01T00:00:00"
         ],
         "xaxis": "x",
         "y": [
          null,
          null,
          null,
          null,
          null,
          null,
          null,
          null,
          null,
          null,
          null,
          null,
          null,
          null,
          null,
          null,
          null,
          null,
          null,
          null,
          null,
          null,
          null,
          null,
          null,
          null,
          null,
          null,
          null,
          null,
          null,
          null,
          null,
          null,
          null,
          null,
          null,
          null,
          null,
          null,
          null,
          null,
          null,
          null,
          null,
          null,
          null,
          null,
          null,
          null,
          null,
          null,
          null,
          null,
          null,
          null,
          null,
          null,
          null,
          null,
          null,
          null,
          null,
          null,
          null,
          null,
          null,
          null,
          null,
          null,
          null,
          null,
          null,
          null,
          null,
          null,
          null,
          null,
          null,
          null,
          null,
          null,
          null,
          null,
          114237978,
          113185861,
          118279683,
          113299415,
          105301457,
          114151474,
          119951284,
          103631639
         ],
         "yaxis": "y"
        }
       ],
       "layout": {
        "legend": {
         "title": {
          "text": "variable"
         },
         "tracegroupgap": 0
        },
        "margin": {
         "t": 60
        },
        "template": {
         "data": {
          "bar": [
           {
            "error_x": {
             "color": "#2a3f5f"
            },
            "error_y": {
             "color": "#2a3f5f"
            },
            "marker": {
             "line": {
              "color": "white",
              "width": 0.5
             },
             "pattern": {
              "fillmode": "overlay",
              "size": 10,
              "solidity": 0.2
             }
            },
            "type": "bar"
           }
          ],
          "barpolar": [
           {
            "marker": {
             "line": {
              "color": "white",
              "width": 0.5
             },
             "pattern": {
              "fillmode": "overlay",
              "size": 10,
              "solidity": 0.2
             }
            },
            "type": "barpolar"
           }
          ],
          "carpet": [
           {
            "aaxis": {
             "endlinecolor": "#2a3f5f",
             "gridcolor": "#C8D4E3",
             "linecolor": "#C8D4E3",
             "minorgridcolor": "#C8D4E3",
             "startlinecolor": "#2a3f5f"
            },
            "baxis": {
             "endlinecolor": "#2a3f5f",
             "gridcolor": "#C8D4E3",
             "linecolor": "#C8D4E3",
             "minorgridcolor": "#C8D4E3",
             "startlinecolor": "#2a3f5f"
            },
            "type": "carpet"
           }
          ],
          "choropleth": [
           {
            "colorbar": {
             "outlinewidth": 0,
             "ticks": ""
            },
            "type": "choropleth"
           }
          ],
          "contour": [
           {
            "colorbar": {
             "outlinewidth": 0,
             "ticks": ""
            },
            "colorscale": [
             [
              0,
              "#0d0887"
             ],
             [
              0.1111111111111111,
              "#46039f"
             ],
             [
              0.2222222222222222,
              "#7201a8"
             ],
             [
              0.3333333333333333,
              "#9c179e"
             ],
             [
              0.4444444444444444,
              "#bd3786"
             ],
             [
              0.5555555555555556,
              "#d8576b"
             ],
             [
              0.6666666666666666,
              "#ed7953"
             ],
             [
              0.7777777777777778,
              "#fb9f3a"
             ],
             [
              0.8888888888888888,
              "#fdca26"
             ],
             [
              1,
              "#f0f921"
             ]
            ],
            "type": "contour"
           }
          ],
          "contourcarpet": [
           {
            "colorbar": {
             "outlinewidth": 0,
             "ticks": ""
            },
            "type": "contourcarpet"
           }
          ],
          "heatmap": [
           {
            "colorbar": {
             "outlinewidth": 0,
             "ticks": ""
            },
            "colorscale": [
             [
              0,
              "#0d0887"
             ],
             [
              0.1111111111111111,
              "#46039f"
             ],
             [
              0.2222222222222222,
              "#7201a8"
             ],
             [
              0.3333333333333333,
              "#9c179e"
             ],
             [
              0.4444444444444444,
              "#bd3786"
             ],
             [
              0.5555555555555556,
              "#d8576b"
             ],
             [
              0.6666666666666666,
              "#ed7953"
             ],
             [
              0.7777777777777778,
              "#fb9f3a"
             ],
             [
              0.8888888888888888,
              "#fdca26"
             ],
             [
              1,
              "#f0f921"
             ]
            ],
            "type": "heatmap"
           }
          ],
          "heatmapgl": [
           {
            "colorbar": {
             "outlinewidth": 0,
             "ticks": ""
            },
            "colorscale": [
             [
              0,
              "#0d0887"
             ],
             [
              0.1111111111111111,
              "#46039f"
             ],
             [
              0.2222222222222222,
              "#7201a8"
             ],
             [
              0.3333333333333333,
              "#9c179e"
             ],
             [
              0.4444444444444444,
              "#bd3786"
             ],
             [
              0.5555555555555556,
              "#d8576b"
             ],
             [
              0.6666666666666666,
              "#ed7953"
             ],
             [
              0.7777777777777778,
              "#fb9f3a"
             ],
             [
              0.8888888888888888,
              "#fdca26"
             ],
             [
              1,
              "#f0f921"
             ]
            ],
            "type": "heatmapgl"
           }
          ],
          "histogram": [
           {
            "marker": {
             "pattern": {
              "fillmode": "overlay",
              "size": 10,
              "solidity": 0.2
             }
            },
            "type": "histogram"
           }
          ],
          "histogram2d": [
           {
            "colorbar": {
             "outlinewidth": 0,
             "ticks": ""
            },
            "colorscale": [
             [
              0,
              "#0d0887"
             ],
             [
              0.1111111111111111,
              "#46039f"
             ],
             [
              0.2222222222222222,
              "#7201a8"
             ],
             [
              0.3333333333333333,
              "#9c179e"
             ],
             [
              0.4444444444444444,
              "#bd3786"
             ],
             [
              0.5555555555555556,
              "#d8576b"
             ],
             [
              0.6666666666666666,
              "#ed7953"
             ],
             [
              0.7777777777777778,
              "#fb9f3a"
             ],
             [
              0.8888888888888888,
              "#fdca26"
             ],
             [
              1,
              "#f0f921"
             ]
            ],
            "type": "histogram2d"
           }
          ],
          "histogram2dcontour": [
           {
            "colorbar": {
             "outlinewidth": 0,
             "ticks": ""
            },
            "colorscale": [
             [
              0,
              "#0d0887"
             ],
             [
              0.1111111111111111,
              "#46039f"
             ],
             [
              0.2222222222222222,
              "#7201a8"
             ],
             [
              0.3333333333333333,
              "#9c179e"
             ],
             [
              0.4444444444444444,
              "#bd3786"
             ],
             [
              0.5555555555555556,
              "#d8576b"
             ],
             [
              0.6666666666666666,
              "#ed7953"
             ],
             [
              0.7777777777777778,
              "#fb9f3a"
             ],
             [
              0.8888888888888888,
              "#fdca26"
             ],
             [
              1,
              "#f0f921"
             ]
            ],
            "type": "histogram2dcontour"
           }
          ],
          "mesh3d": [
           {
            "colorbar": {
             "outlinewidth": 0,
             "ticks": ""
            },
            "type": "mesh3d"
           }
          ],
          "parcoords": [
           {
            "line": {
             "colorbar": {
              "outlinewidth": 0,
              "ticks": ""
             }
            },
            "type": "parcoords"
           }
          ],
          "pie": [
           {
            "automargin": true,
            "type": "pie"
           }
          ],
          "scatter": [
           {
            "marker": {
             "colorbar": {
              "outlinewidth": 0,
              "ticks": ""
             }
            },
            "type": "scatter"
           }
          ],
          "scatter3d": [
           {
            "line": {
             "colorbar": {
              "outlinewidth": 0,
              "ticks": ""
             }
            },
            "marker": {
             "colorbar": {
              "outlinewidth": 0,
              "ticks": ""
             }
            },
            "type": "scatter3d"
           }
          ],
          "scattercarpet": [
           {
            "marker": {
             "colorbar": {
              "outlinewidth": 0,
              "ticks": ""
             }
            },
            "type": "scattercarpet"
           }
          ],
          "scattergeo": [
           {
            "marker": {
             "colorbar": {
              "outlinewidth": 0,
              "ticks": ""
             }
            },
            "type": "scattergeo"
           }
          ],
          "scattergl": [
           {
            "marker": {
             "colorbar": {
              "outlinewidth": 0,
              "ticks": ""
             }
            },
            "type": "scattergl"
           }
          ],
          "scattermapbox": [
           {
            "marker": {
             "colorbar": {
              "outlinewidth": 0,
              "ticks": ""
             }
            },
            "type": "scattermapbox"
           }
          ],
          "scatterpolar": [
           {
            "marker": {
             "colorbar": {
              "outlinewidth": 0,
              "ticks": ""
             }
            },
            "type": "scatterpolar"
           }
          ],
          "scatterpolargl": [
           {
            "marker": {
             "colorbar": {
              "outlinewidth": 0,
              "ticks": ""
             }
            },
            "type": "scatterpolargl"
           }
          ],
          "scatterternary": [
           {
            "marker": {
             "colorbar": {
              "outlinewidth": 0,
              "ticks": ""
             }
            },
            "type": "scatterternary"
           }
          ],
          "surface": [
           {
            "colorbar": {
             "outlinewidth": 0,
             "ticks": ""
            },
            "colorscale": [
             [
              0,
              "#0d0887"
             ],
             [
              0.1111111111111111,
              "#46039f"
             ],
             [
              0.2222222222222222,
              "#7201a8"
             ],
             [
              0.3333333333333333,
              "#9c179e"
             ],
             [
              0.4444444444444444,
              "#bd3786"
             ],
             [
              0.5555555555555556,
              "#d8576b"
             ],
             [
              0.6666666666666666,
              "#ed7953"
             ],
             [
              0.7777777777777778,
              "#fb9f3a"
             ],
             [
              0.8888888888888888,
              "#fdca26"
             ],
             [
              1,
              "#f0f921"
             ]
            ],
            "type": "surface"
           }
          ],
          "table": [
           {
            "cells": {
             "fill": {
              "color": "#EBF0F8"
             },
             "line": {
              "color": "white"
             }
            },
            "header": {
             "fill": {
              "color": "#C8D4E3"
             },
             "line": {
              "color": "white"
             }
            },
            "type": "table"
           }
          ]
         },
         "layout": {
          "annotationdefaults": {
           "arrowcolor": "#2a3f5f",
           "arrowhead": 0,
           "arrowwidth": 1
          },
          "autotypenumbers": "strict",
          "coloraxis": {
           "colorbar": {
            "outlinewidth": 0,
            "ticks": ""
           }
          },
          "colorscale": {
           "diverging": [
            [
             0,
             "#8e0152"
            ],
            [
             0.1,
             "#c51b7d"
            ],
            [
             0.2,
             "#de77ae"
            ],
            [
             0.3,
             "#f1b6da"
            ],
            [
             0.4,
             "#fde0ef"
            ],
            [
             0.5,
             "#f7f7f7"
            ],
            [
             0.6,
             "#e6f5d0"
            ],
            [
             0.7,
             "#b8e186"
            ],
            [
             0.8,
             "#7fbc41"
            ],
            [
             0.9,
             "#4d9221"
            ],
            [
             1,
             "#276419"
            ]
           ],
           "sequential": [
            [
             0,
             "#0d0887"
            ],
            [
             0.1111111111111111,
             "#46039f"
            ],
            [
             0.2222222222222222,
             "#7201a8"
            ],
            [
             0.3333333333333333,
             "#9c179e"
            ],
            [
             0.4444444444444444,
             "#bd3786"
            ],
            [
             0.5555555555555556,
             "#d8576b"
            ],
            [
             0.6666666666666666,
             "#ed7953"
            ],
            [
             0.7777777777777778,
             "#fb9f3a"
            ],
            [
             0.8888888888888888,
             "#fdca26"
            ],
            [
             1,
             "#f0f921"
            ]
           ],
           "sequentialminus": [
            [
             0,
             "#0d0887"
            ],
            [
             0.1111111111111111,
             "#46039f"
            ],
            [
             0.2222222222222222,
             "#7201a8"
            ],
            [
             0.3333333333333333,
             "#9c179e"
            ],
            [
             0.4444444444444444,
             "#bd3786"
            ],
            [
             0.5555555555555556,
             "#d8576b"
            ],
            [
             0.6666666666666666,
             "#ed7953"
            ],
            [
             0.7777777777777778,
             "#fb9f3a"
            ],
            [
             0.8888888888888888,
             "#fdca26"
            ],
            [
             1,
             "#f0f921"
            ]
           ]
          },
          "colorway": [
           "#636efa",
           "#EF553B",
           "#00cc96",
           "#ab63fa",
           "#FFA15A",
           "#19d3f3",
           "#FF6692",
           "#B6E880",
           "#FF97FF",
           "#FECB52"
          ],
          "font": {
           "color": "#2a3f5f"
          },
          "geo": {
           "bgcolor": "white",
           "lakecolor": "white",
           "landcolor": "white",
           "showlakes": true,
           "showland": true,
           "subunitcolor": "#C8D4E3"
          },
          "hoverlabel": {
           "align": "left"
          },
          "hovermode": "closest",
          "mapbox": {
           "style": "light"
          },
          "paper_bgcolor": "white",
          "plot_bgcolor": "white",
          "polar": {
           "angularaxis": {
            "gridcolor": "#EBF0F8",
            "linecolor": "#EBF0F8",
            "ticks": ""
           },
           "bgcolor": "white",
           "radialaxis": {
            "gridcolor": "#EBF0F8",
            "linecolor": "#EBF0F8",
            "ticks": ""
           }
          },
          "scene": {
           "xaxis": {
            "backgroundcolor": "white",
            "gridcolor": "#DFE8F3",
            "gridwidth": 2,
            "linecolor": "#EBF0F8",
            "showbackground": true,
            "ticks": "",
            "zerolinecolor": "#EBF0F8"
           },
           "yaxis": {
            "backgroundcolor": "white",
            "gridcolor": "#DFE8F3",
            "gridwidth": 2,
            "linecolor": "#EBF0F8",
            "showbackground": true,
            "ticks": "",
            "zerolinecolor": "#EBF0F8"
           },
           "zaxis": {
            "backgroundcolor": "white",
            "gridcolor": "#DFE8F3",
            "gridwidth": 2,
            "linecolor": "#EBF0F8",
            "showbackground": true,
            "ticks": "",
            "zerolinecolor": "#EBF0F8"
           }
          },
          "shapedefaults": {
           "line": {
            "color": "#2a3f5f"
           }
          },
          "ternary": {
           "aaxis": {
            "gridcolor": "#DFE8F3",
            "linecolor": "#A2B1C6",
            "ticks": ""
           },
           "baxis": {
            "gridcolor": "#DFE8F3",
            "linecolor": "#A2B1C6",
            "ticks": ""
           },
           "bgcolor": "white",
           "caxis": {
            "gridcolor": "#DFE8F3",
            "linecolor": "#A2B1C6",
            "ticks": ""
           }
          },
          "title": {
           "x": 0.05
          },
          "xaxis": {
           "automargin": true,
           "gridcolor": "#EBF0F8",
           "linecolor": "#EBF0F8",
           "ticks": "",
           "title": {
            "standoff": 15
           },
           "zerolinecolor": "#EBF0F8",
           "zerolinewidth": 2
          },
          "yaxis": {
           "automargin": true,
           "gridcolor": "#EBF0F8",
           "linecolor": "#EBF0F8",
           "ticks": "",
           "title": {
            "standoff": 15
           },
           "zerolinecolor": "#EBF0F8",
           "zerolinewidth": 2
          }
         }
        },
        "xaxis": {
         "anchor": "y",
         "domain": [
          0,
          1
         ],
         "title": {
          "text": "Calendar Date"
         }
        },
        "yaxis": {
         "anchor": "x",
         "domain": [
          0,
          1
         ],
         "title": {
          "text": "value"
         }
        }
       }
      },
      "text/html": [
       "<div>                            <div id=\"4958cbb6-2609-465c-a700-ef84c0440335\" class=\"plotly-graph-div\" style=\"height:525px; width:100%;\"></div>            <script type=\"text/javascript\">                require([\"plotly\"], function(Plotly) {                    window.PLOTLYENV=window.PLOTLYENV || {};                                    if (document.getElementById(\"4958cbb6-2609-465c-a700-ef84c0440335\")) {                    Plotly.newPlot(                        \"4958cbb6-2609-465c-a700-ef84c0440335\",                        [{\"hovertemplate\":\"variable=Payroll blended products<br>Calendar Date=%{x}<br>value=%{y}<extra></extra>\",\"legendgroup\":\"Payroll blended products\",\"line\":{\"color\":\"#636efa\",\"dash\":\"solid\"},\"marker\":{\"symbol\":\"circle\"},\"mode\":\"lines\",\"name\":\"Payroll blended products\",\"orientation\":\"v\",\"showlegend\":true,\"x\":[\"2014-06-01T00:00:00\",\"2014-07-01T00:00:00\",\"2014-08-01T00:00:00\",\"2014-09-01T00:00:00\",\"2014-10-01T00:00:00\",\"2014-11-01T00:00:00\",\"2014-12-01T00:00:00\",\"2015-01-01T00:00:00\",\"2015-02-01T00:00:00\",\"2015-03-01T00:00:00\",\"2015-04-01T00:00:00\",\"2015-05-01T00:00:00\",\"2015-06-01T00:00:00\",\"2015-07-01T00:00:00\",\"2015-08-01T00:00:00\",\"2015-09-01T00:00:00\",\"2015-10-01T00:00:00\",\"2015-11-01T00:00:00\",\"2015-12-01T00:00:00\",\"2016-01-01T00:00:00\",\"2016-02-01T00:00:00\",\"2016-03-01T00:00:00\",\"2016-04-01T00:00:00\",\"2016-05-01T00:00:00\",\"2016-06-01T00:00:00\",\"2016-07-01T00:00:00\",\"2016-08-01T00:00:00\",\"2016-09-01T00:00:00\",\"2016-10-01T00:00:00\",\"2016-11-01T00:00:00\",\"2016-12-01T00:00:00\",\"2017-01-01T00:00:00\",\"2017-02-01T00:00:00\",\"2017-03-01T00:00:00\",\"2017-04-01T00:00:00\",\"2017-05-01T00:00:00\",\"2017-06-01T00:00:00\",\"2017-07-01T00:00:00\",\"2017-08-01T00:00:00\",\"2017-09-01T00:00:00\",\"2017-10-01T00:00:00\",\"2017-11-01T00:00:00\",\"2017-12-01T00:00:00\",\"2018-01-01T00:00:00\",\"2018-02-01T00:00:00\",\"2018-03-01T00:00:00\",\"2018-04-01T00:00:00\",\"2018-05-01T00:00:00\",\"2018-06-01T00:00:00\",\"2018-07-01T00:00:00\",\"2018-08-01T00:00:00\",\"2018-09-01T00:00:00\",\"2018-10-01T00:00:00\",\"2018-11-01T00:00:00\",\"2018-12-01T00:00:00\",\"2019-01-01T00:00:00\",\"2019-02-01T00:00:00\",\"2019-03-01T00:00:00\",\"2019-04-01T00:00:00\",\"2019-05-01T00:00:00\",\"2019-06-01T00:00:00\",\"2019-07-01T00:00:00\",\"2019-08-01T00:00:00\",\"2019-09-01T00:00:00\",\"2019-10-01T00:00:00\",\"2019-11-01T00:00:00\",\"2019-12-01T00:00:00\",\"2020-01-01T00:00:00\",\"2020-02-01T00:00:00\",\"2020-03-01T00:00:00\",\"2020-04-01T00:00:00\",\"2020-05-01T00:00:00\",\"2020-06-01T00:00:00\",\"2020-07-01T00:00:00\",\"2020-08-01T00:00:00\",\"2020-09-01T00:00:00\",\"2020-10-01T00:00:00\",\"2020-11-01T00:00:00\",\"2020-12-01T00:00:00\",\"2021-01-01T00:00:00\",\"2021-02-01T00:00:00\",\"2021-03-01T00:00:00\",\"2021-04-01T00:00:00\",\"2021-05-01T00:00:00\",\"2021-06-01T00:00:00\",\"2021-07-01T00:00:00\",\"2021-08-01T00:00:00\",\"2021-09-01T00:00:00\",\"2021-10-01T00:00:00\",\"2021-11-01T00:00:00\",\"2021-12-01T00:00:00\",\"2022-01-01T00:00:00\"],\"xaxis\":\"x\",\"y\":[99633512.0,121619696.0,99472483.0,94198230.0,124353873.0,98868618.0,99281713.0,124388966.0,95862151.0,92298659.0,121697752.0,101684796.0,98488622.0,128603825.0,105495604.0,125580319.0,100345212.0,101027390.0,103140193.0,125846591.0,96492494.0,120343617.0,98703839.0,106311407.0,118434494.0,104657878.0,117436063.0,110000558.0,105928516.0,113829464.0,117493864.0,106635184.0,98803491.0,111544069.0,99478187.0,118429597.0,115286408.0,108148242.0,120254168.0,104705146.0,110931972.0,115430932.0,113194342.0,110248167.0,98798038.0,106248694.0,103554646.0,119149029.0,107365918.0,113740156.0,116505720.0,102622473.0,115762795.0,110179873.0,117538398.0,110354647.0,98377675.0,99958270.0,108700563.0,115331665.0,106731158.0,119190721.0,113364359.0,108305027.0,119068432.0,105060481.0,128667631.0,106043776.0,99644382.0,107287296.0,92673007.0,90949332.0,103438412.0,103718926.0,99146164.0,108696536.0,107861298.0,105164502.0,126152261.0,94834624.0,96978102.0,110554131.0,105999185.0,101329196.0,114237978.0,113185861.0,115768921.0,116406871.0,107455264.0,117503730.0,127800869.0,103869768.0],\"yaxis\":\"y\",\"type\":\"scatter\"},{\"hovertemplate\":\"variable=Payroll blended products - ML Predicted<br>Calendar Date=%{x}<br>value=%{y}<extra></extra>\",\"legendgroup\":\"Payroll blended products - ML Predicted\",\"line\":{\"color\":\"#EF553B\",\"dash\":\"solid\"},\"marker\":{\"symbol\":\"circle\"},\"mode\":\"lines\",\"name\":\"Payroll blended products - ML Predicted\",\"orientation\":\"v\",\"showlegend\":true,\"x\":[\"2014-06-01T00:00:00\",\"2014-07-01T00:00:00\",\"2014-08-01T00:00:00\",\"2014-09-01T00:00:00\",\"2014-10-01T00:00:00\",\"2014-11-01T00:00:00\",\"2014-12-01T00:00:00\",\"2015-01-01T00:00:00\",\"2015-02-01T00:00:00\",\"2015-03-01T00:00:00\",\"2015-04-01T00:00:00\",\"2015-05-01T00:00:00\",\"2015-06-01T00:00:00\",\"2015-07-01T00:00:00\",\"2015-08-01T00:00:00\",\"2015-09-01T00:00:00\",\"2015-10-01T00:00:00\",\"2015-11-01T00:00:00\",\"2015-12-01T00:00:00\",\"2016-01-01T00:00:00\",\"2016-02-01T00:00:00\",\"2016-03-01T00:00:00\",\"2016-04-01T00:00:00\",\"2016-05-01T00:00:00\",\"2016-06-01T00:00:00\",\"2016-07-01T00:00:00\",\"2016-08-01T00:00:00\",\"2016-09-01T00:00:00\",\"2016-10-01T00:00:00\",\"2016-11-01T00:00:00\",\"2016-12-01T00:00:00\",\"2017-01-01T00:00:00\",\"2017-02-01T00:00:00\",\"2017-03-01T00:00:00\",\"2017-04-01T00:00:00\",\"2017-05-01T00:00:00\",\"2017-06-01T00:00:00\",\"2017-07-01T00:00:00\",\"2017-08-01T00:00:00\",\"2017-09-01T00:00:00\",\"2017-10-01T00:00:00\",\"2017-11-01T00:00:00\",\"2017-12-01T00:00:00\",\"2018-01-01T00:00:00\",\"2018-02-01T00:00:00\",\"2018-03-01T00:00:00\",\"2018-04-01T00:00:00\",\"2018-05-01T00:00:00\",\"2018-06-01T00:00:00\",\"2018-07-01T00:00:00\",\"2018-08-01T00:00:00\",\"2018-09-01T00:00:00\",\"2018-10-01T00:00:00\",\"2018-11-01T00:00:00\",\"2018-12-01T00:00:00\",\"2019-01-01T00:00:00\",\"2019-02-01T00:00:00\",\"2019-03-01T00:00:00\",\"2019-04-01T00:00:00\",\"2019-05-01T00:00:00\",\"2019-06-01T00:00:00\",\"2019-07-01T00:00:00\",\"2019-08-01T00:00:00\",\"2019-09-01T00:00:00\",\"2019-10-01T00:00:00\",\"2019-11-01T00:00:00\",\"2019-12-01T00:00:00\",\"2020-01-01T00:00:00\",\"2020-02-01T00:00:00\",\"2020-03-01T00:00:00\",\"2020-04-01T00:00:00\",\"2020-05-01T00:00:00\",\"2020-06-01T00:00:00\",\"2020-07-01T00:00:00\",\"2020-08-01T00:00:00\",\"2020-09-01T00:00:00\",\"2020-10-01T00:00:00\",\"2020-11-01T00:00:00\",\"2020-12-01T00:00:00\",\"2021-01-01T00:00:00\",\"2021-02-01T00:00:00\",\"2021-03-01T00:00:00\",\"2021-04-01T00:00:00\",\"2021-05-01T00:00:00\",\"2021-06-01T00:00:00\",\"2021-07-01T00:00:00\",\"2021-08-01T00:00:00\",\"2021-09-01T00:00:00\",\"2021-10-01T00:00:00\",\"2021-11-01T00:00:00\",\"2021-12-01T00:00:00\",\"2022-01-01T00:00:00\"],\"xaxis\":\"x\",\"y\":[null,null,null,null,null,null,null,null,null,null,null,null,null,null,null,null,null,null,null,null,null,null,null,null,null,null,null,null,null,null,null,null,null,null,null,null,null,null,null,null,null,null,null,null,null,null,null,null,null,null,null,null,null,null,null,null,null,null,null,null,null,null,null,null,null,null,null,null,null,null,null,null,null,null,null,null,null,null,null,null,null,null,null,null,107665632.4,111736112.4,108025964.4,110155673.44,103104293.52,105602365.68,115158302.64,106812595.2],\"yaxis\":\"y\",\"type\":\"scatter\"},{\"hovertemplate\":\"variable=Payroll blended products - UTS Predicted<br>Calendar Date=%{x}<br>value=%{y}<extra></extra>\",\"legendgroup\":\"Payroll blended products - UTS Predicted\",\"line\":{\"color\":\"#00cc96\",\"dash\":\"solid\"},\"marker\":{\"symbol\":\"circle\"},\"mode\":\"lines\",\"name\":\"Payroll blended products - UTS Predicted\",\"orientation\":\"v\",\"showlegend\":true,\"x\":[\"2014-06-01T00:00:00\",\"2014-07-01T00:00:00\",\"2014-08-01T00:00:00\",\"2014-09-01T00:00:00\",\"2014-10-01T00:00:00\",\"2014-11-01T00:00:00\",\"2014-12-01T00:00:00\",\"2015-01-01T00:00:00\",\"2015-02-01T00:00:00\",\"2015-03-01T00:00:00\",\"2015-04-01T00:00:00\",\"2015-05-01T00:00:00\",\"2015-06-01T00:00:00\",\"2015-07-01T00:00:00\",\"2015-08-01T00:00:00\",\"2015-09-01T00:00:00\",\"2015-10-01T00:00:00\",\"2015-11-01T00:00:00\",\"2015-12-01T00:00:00\",\"2016-01-01T00:00:00\",\"2016-02-01T00:00:00\",\"2016-03-01T00:00:00\",\"2016-04-01T00:00:00\",\"2016-05-01T00:00:00\",\"2016-06-01T00:00:00\",\"2016-07-01T00:00:00\",\"2016-08-01T00:00:00\",\"2016-09-01T00:00:00\",\"2016-10-01T00:00:00\",\"2016-11-01T00:00:00\",\"2016-12-01T00:00:00\",\"2017-01-01T00:00:00\",\"2017-02-01T00:00:00\",\"2017-03-01T00:00:00\",\"2017-04-01T00:00:00\",\"2017-05-01T00:00:00\",\"2017-06-01T00:00:00\",\"2017-07-01T00:00:00\",\"2017-08-01T00:00:00\",\"2017-09-01T00:00:00\",\"2017-10-01T00:00:00\",\"2017-11-01T00:00:00\",\"2017-12-01T00:00:00\",\"2018-01-01T00:00:00\",\"2018-02-01T00:00:00\",\"2018-03-01T00:00:00\",\"2018-04-01T00:00:00\",\"2018-05-01T00:00:00\",\"2018-06-01T00:00:00\",\"2018-07-01T00:00:00\",\"2018-08-01T00:00:00\",\"2018-09-01T00:00:00\",\"2018-10-01T00:00:00\",\"2018-11-01T00:00:00\",\"2018-12-01T00:00:00\",\"2019-01-01T00:00:00\",\"2019-02-01T00:00:00\",\"2019-03-01T00:00:00\",\"2019-04-01T00:00:00\",\"2019-05-01T00:00:00\",\"2019-06-01T00:00:00\",\"2019-07-01T00:00:00\",\"2019-08-01T00:00:00\",\"2019-09-01T00:00:00\",\"2019-10-01T00:00:00\",\"2019-11-01T00:00:00\",\"2019-12-01T00:00:00\",\"2020-01-01T00:00:00\",\"2020-02-01T00:00:00\",\"2020-03-01T00:00:00\",\"2020-04-01T00:00:00\",\"2020-05-01T00:00:00\",\"2020-06-01T00:00:00\",\"2020-07-01T00:00:00\",\"2020-08-01T00:00:00\",\"2020-09-01T00:00:00\",\"2020-10-01T00:00:00\",\"2020-11-01T00:00:00\",\"2020-12-01T00:00:00\",\"2021-01-01T00:00:00\",\"2021-02-01T00:00:00\",\"2021-03-01T00:00:00\",\"2021-04-01T00:00:00\",\"2021-05-01T00:00:00\",\"2021-06-01T00:00:00\",\"2021-07-01T00:00:00\",\"2021-08-01T00:00:00\",\"2021-09-01T00:00:00\",\"2021-10-01T00:00:00\",\"2021-11-01T00:00:00\",\"2021-12-01T00:00:00\",\"2022-01-01T00:00:00\"],\"xaxis\":\"x\",\"y\":[null,null,null,null,null,null,null,null,null,null,null,null,null,null,null,null,null,null,null,null,null,null,null,null,null,null,null,null,null,null,null,null,null,null,null,null,null,null,null,null,null,null,null,null,null,null,null,null,null,null,null,null,null,null,null,null,null,null,null,null,null,null,null,null,null,null,null,null,null,null,null,null,null,null,null,null,null,null,null,null,null,null,null,null,114563042.52019879,115763510.07368843,113516553.87426367,115394645.48026022,117490356.37261996,114367057.58656743,127893445.51888393,110532414.8322222],\"yaxis\":\"y\",\"type\":\"scatter\"},{\"hovertemplate\":\"variable=Payroll blended products - Plan<br>Calendar Date=%{x}<br>value=%{y}<extra></extra>\",\"legendgroup\":\"Payroll blended products - Plan\",\"line\":{\"color\":\"#ab63fa\",\"dash\":\"solid\"},\"marker\":{\"symbol\":\"circle\"},\"mode\":\"lines\",\"name\":\"Payroll blended products - Plan\",\"orientation\":\"v\",\"showlegend\":true,\"x\":[\"2014-06-01T00:00:00\",\"2014-07-01T00:00:00\",\"2014-08-01T00:00:00\",\"2014-09-01T00:00:00\",\"2014-10-01T00:00:00\",\"2014-11-01T00:00:00\",\"2014-12-01T00:00:00\",\"2015-01-01T00:00:00\",\"2015-02-01T00:00:00\",\"2015-03-01T00:00:00\",\"2015-04-01T00:00:00\",\"2015-05-01T00:00:00\",\"2015-06-01T00:00:00\",\"2015-07-01T00:00:00\",\"2015-08-01T00:00:00\",\"2015-09-01T00:00:00\",\"2015-10-01T00:00:00\",\"2015-11-01T00:00:00\",\"2015-12-01T00:00:00\",\"2016-01-01T00:00:00\",\"2016-02-01T00:00:00\",\"2016-03-01T00:00:00\",\"2016-04-01T00:00:00\",\"2016-05-01T00:00:00\",\"2016-06-01T00:00:00\",\"2016-07-01T00:00:00\",\"2016-08-01T00:00:00\",\"2016-09-01T00:00:00\",\"2016-10-01T00:00:00\",\"2016-11-01T00:00:00\",\"2016-12-01T00:00:00\",\"2017-01-01T00:00:00\",\"2017-02-01T00:00:00\",\"2017-03-01T00:00:00\",\"2017-04-01T00:00:00\",\"2017-05-01T00:00:00\",\"2017-06-01T00:00:00\",\"2017-07-01T00:00:00\",\"2017-08-01T00:00:00\",\"2017-09-01T00:00:00\",\"2017-10-01T00:00:00\",\"2017-11-01T00:00:00\",\"2017-12-01T00:00:00\",\"2018-01-01T00:00:00\",\"2018-02-01T00:00:00\",\"2018-03-01T00:00:00\",\"2018-04-01T00:00:00\",\"2018-05-01T00:00:00\",\"2018-06-01T00:00:00\",\"2018-07-01T00:00:00\",\"2018-08-01T00:00:00\",\"2018-09-01T00:00:00\",\"2018-10-01T00:00:00\",\"2018-11-01T00:00:00\",\"2018-12-01T00:00:00\",\"2019-01-01T00:00:00\",\"2019-02-01T00:00:00\",\"2019-03-01T00:00:00\",\"2019-04-01T00:00:00\",\"2019-05-01T00:00:00\",\"2019-06-01T00:00:00\",\"2019-07-01T00:00:00\",\"2019-08-01T00:00:00\",\"2019-09-01T00:00:00\",\"2019-10-01T00:00:00\",\"2019-11-01T00:00:00\",\"2019-12-01T00:00:00\",\"2020-01-01T00:00:00\",\"2020-02-01T00:00:00\",\"2020-03-01T00:00:00\",\"2020-04-01T00:00:00\",\"2020-05-01T00:00:00\",\"2020-06-01T00:00:00\",\"2020-07-01T00:00:00\",\"2020-08-01T00:00:00\",\"2020-09-01T00:00:00\",\"2020-10-01T00:00:00\",\"2020-11-01T00:00:00\",\"2020-12-01T00:00:00\",\"2021-01-01T00:00:00\",\"2021-02-01T00:00:00\",\"2021-03-01T00:00:00\",\"2021-04-01T00:00:00\",\"2021-05-01T00:00:00\",\"2021-06-01T00:00:00\",\"2021-07-01T00:00:00\",\"2021-08-01T00:00:00\",\"2021-09-01T00:00:00\",\"2021-10-01T00:00:00\",\"2021-11-01T00:00:00\",\"2021-12-01T00:00:00\",\"2022-01-01T00:00:00\"],\"xaxis\":\"x\",\"y\":[null,null,null,null,null,null,null,null,null,null,null,null,null,null,null,null,null,null,null,null,null,null,null,null,null,null,null,null,null,null,null,null,null,null,null,null,null,null,null,null,null,null,null,null,null,null,null,null,null,null,null,null,null,null,null,null,null,null,null,null,null,null,null,null,null,null,null,null,null,null,null,null,null,null,null,null,null,null,null,null,null,null,null,null,113430646.0,114320702.0,116798889.0,112693661.0,104530553.0,113258398.0,119579852.0,102695532.0],\"yaxis\":\"y\",\"type\":\"scatter\"},{\"hovertemplate\":\"variable=Payroll blended products - 2+10 Forecast<br>Calendar Date=%{x}<br>value=%{y}<extra></extra>\",\"legendgroup\":\"Payroll blended products - 2+10 Forecast\",\"line\":{\"color\":\"#FFA15A\",\"dash\":\"solid\"},\"marker\":{\"symbol\":\"circle\"},\"mode\":\"lines\",\"name\":\"Payroll blended products - 2+10 Forecast\",\"orientation\":\"v\",\"showlegend\":true,\"x\":[\"2014-06-01T00:00:00\",\"2014-07-01T00:00:00\",\"2014-08-01T00:00:00\",\"2014-09-01T00:00:00\",\"2014-10-01T00:00:00\",\"2014-11-01T00:00:00\",\"2014-12-01T00:00:00\",\"2015-01-01T00:00:00\",\"2015-02-01T00:00:00\",\"2015-03-01T00:00:00\",\"2015-04-01T00:00:00\",\"2015-05-01T00:00:00\",\"2015-06-01T00:00:00\",\"2015-07-01T00:00:00\",\"2015-08-01T00:00:00\",\"2015-09-01T00:00:00\",\"2015-10-01T00:00:00\",\"2015-11-01T00:00:00\",\"2015-12-01T00:00:00\",\"2016-01-01T00:00:00\",\"2016-02-01T00:00:00\",\"2016-03-01T00:00:00\",\"2016-04-01T00:00:00\",\"2016-05-01T00:00:00\",\"2016-06-01T00:00:00\",\"2016-07-01T00:00:00\",\"2016-08-01T00:00:00\",\"2016-09-01T00:00:00\",\"2016-10-01T00:00:00\",\"2016-11-01T00:00:00\",\"2016-12-01T00:00:00\",\"2017-01-01T00:00:00\",\"2017-02-01T00:00:00\",\"2017-03-01T00:00:00\",\"2017-04-01T00:00:00\",\"2017-05-01T00:00:00\",\"2017-06-01T00:00:00\",\"2017-07-01T00:00:00\",\"2017-08-01T00:00:00\",\"2017-09-01T00:00:00\",\"2017-10-01T00:00:00\",\"2017-11-01T00:00:00\",\"2017-12-01T00:00:00\",\"2018-01-01T00:00:00\",\"2018-02-01T00:00:00\",\"2018-03-01T00:00:00\",\"2018-04-01T00:00:00\",\"2018-05-01T00:00:00\",\"2018-06-01T00:00:00\",\"2018-07-01T00:00:00\",\"2018-08-01T00:00:00\",\"2018-09-01T00:00:00\",\"2018-10-01T00:00:00\",\"2018-11-01T00:00:00\",\"2018-12-01T00:00:00\",\"2019-01-01T00:00:00\",\"2019-02-01T00:00:00\",\"2019-03-01T00:00:00\",\"2019-04-01T00:00:00\",\"2019-05-01T00:00:00\",\"2019-06-01T00:00:00\",\"2019-07-01T00:00:00\",\"2019-08-01T00:00:00\",\"2019-09-01T00:00:00\",\"2019-10-01T00:00:00\",\"2019-11-01T00:00:00\",\"2019-12-01T00:00:00\",\"2020-01-01T00:00:00\",\"2020-02-01T00:00:00\",\"2020-03-01T00:00:00\",\"2020-04-01T00:00:00\",\"2020-05-01T00:00:00\",\"2020-06-01T00:00:00\",\"2020-07-01T00:00:00\",\"2020-08-01T00:00:00\",\"2020-09-01T00:00:00\",\"2020-10-01T00:00:00\",\"2020-11-01T00:00:00\",\"2020-12-01T00:00:00\",\"2021-01-01T00:00:00\",\"2021-02-01T00:00:00\",\"2021-03-01T00:00:00\",\"2021-04-01T00:00:00\",\"2021-05-01T00:00:00\",\"2021-06-01T00:00:00\",\"2021-07-01T00:00:00\",\"2021-08-01T00:00:00\",\"2021-09-01T00:00:00\",\"2021-10-01T00:00:00\",\"2021-11-01T00:00:00\",\"2021-12-01T00:00:00\",\"2022-01-01T00:00:00\"],\"xaxis\":\"x\",\"y\":[null,null,null,null,null,null,null,null,null,null,null,null,null,null,null,null,null,null,null,null,null,null,null,null,null,null,null,null,null,null,null,null,null,null,null,null,null,null,null,null,null,null,null,null,null,null,null,null,null,null,null,null,null,null,null,null,null,null,null,null,null,null,null,null,null,null,null,null,null,null,null,null,null,null,null,null,null,null,null,null,null,null,null,null,114237978.0,113185861.0,118279683.0,113299415.0,105301457.0,114151474.0,119951284.0,103631639.0],\"yaxis\":\"y\",\"type\":\"scatter\"}],                        {\"template\":{\"data\":{\"barpolar\":[{\"marker\":{\"line\":{\"color\":\"white\",\"width\":0.5},\"pattern\":{\"fillmode\":\"overlay\",\"size\":10,\"solidity\":0.2}},\"type\":\"barpolar\"}],\"bar\":[{\"error_x\":{\"color\":\"#2a3f5f\"},\"error_y\":{\"color\":\"#2a3f5f\"},\"marker\":{\"line\":{\"color\":\"white\",\"width\":0.5},\"pattern\":{\"fillmode\":\"overlay\",\"size\":10,\"solidity\":0.2}},\"type\":\"bar\"}],\"carpet\":[{\"aaxis\":{\"endlinecolor\":\"#2a3f5f\",\"gridcolor\":\"#C8D4E3\",\"linecolor\":\"#C8D4E3\",\"minorgridcolor\":\"#C8D4E3\",\"startlinecolor\":\"#2a3f5f\"},\"baxis\":{\"endlinecolor\":\"#2a3f5f\",\"gridcolor\":\"#C8D4E3\",\"linecolor\":\"#C8D4E3\",\"minorgridcolor\":\"#C8D4E3\",\"startlinecolor\":\"#2a3f5f\"},\"type\":\"carpet\"}],\"choropleth\":[{\"colorbar\":{\"outlinewidth\":0,\"ticks\":\"\"},\"type\":\"choropleth\"}],\"contourcarpet\":[{\"colorbar\":{\"outlinewidth\":0,\"ticks\":\"\"},\"type\":\"contourcarpet\"}],\"contour\":[{\"colorbar\":{\"outlinewidth\":0,\"ticks\":\"\"},\"colorscale\":[[0.0,\"#0d0887\"],[0.1111111111111111,\"#46039f\"],[0.2222222222222222,\"#7201a8\"],[0.3333333333333333,\"#9c179e\"],[0.4444444444444444,\"#bd3786\"],[0.5555555555555556,\"#d8576b\"],[0.6666666666666666,\"#ed7953\"],[0.7777777777777778,\"#fb9f3a\"],[0.8888888888888888,\"#fdca26\"],[1.0,\"#f0f921\"]],\"type\":\"contour\"}],\"heatmapgl\":[{\"colorbar\":{\"outlinewidth\":0,\"ticks\":\"\"},\"colorscale\":[[0.0,\"#0d0887\"],[0.1111111111111111,\"#46039f\"],[0.2222222222222222,\"#7201a8\"],[0.3333333333333333,\"#9c179e\"],[0.4444444444444444,\"#bd3786\"],[0.5555555555555556,\"#d8576b\"],[0.6666666666666666,\"#ed7953\"],[0.7777777777777778,\"#fb9f3a\"],[0.8888888888888888,\"#fdca26\"],[1.0,\"#f0f921\"]],\"type\":\"heatmapgl\"}],\"heatmap\":[{\"colorbar\":{\"outlinewidth\":0,\"ticks\":\"\"},\"colorscale\":[[0.0,\"#0d0887\"],[0.1111111111111111,\"#46039f\"],[0.2222222222222222,\"#7201a8\"],[0.3333333333333333,\"#9c179e\"],[0.4444444444444444,\"#bd3786\"],[0.5555555555555556,\"#d8576b\"],[0.6666666666666666,\"#ed7953\"],[0.7777777777777778,\"#fb9f3a\"],[0.8888888888888888,\"#fdca26\"],[1.0,\"#f0f921\"]],\"type\":\"heatmap\"}],\"histogram2dcontour\":[{\"colorbar\":{\"outlinewidth\":0,\"ticks\":\"\"},\"colorscale\":[[0.0,\"#0d0887\"],[0.1111111111111111,\"#46039f\"],[0.2222222222222222,\"#7201a8\"],[0.3333333333333333,\"#9c179e\"],[0.4444444444444444,\"#bd3786\"],[0.5555555555555556,\"#d8576b\"],[0.6666666666666666,\"#ed7953\"],[0.7777777777777778,\"#fb9f3a\"],[0.8888888888888888,\"#fdca26\"],[1.0,\"#f0f921\"]],\"type\":\"histogram2dcontour\"}],\"histogram2d\":[{\"colorbar\":{\"outlinewidth\":0,\"ticks\":\"\"},\"colorscale\":[[0.0,\"#0d0887\"],[0.1111111111111111,\"#46039f\"],[0.2222222222222222,\"#7201a8\"],[0.3333333333333333,\"#9c179e\"],[0.4444444444444444,\"#bd3786\"],[0.5555555555555556,\"#d8576b\"],[0.6666666666666666,\"#ed7953\"],[0.7777777777777778,\"#fb9f3a\"],[0.8888888888888888,\"#fdca26\"],[1.0,\"#f0f921\"]],\"type\":\"histogram2d\"}],\"histogram\":[{\"marker\":{\"pattern\":{\"fillmode\":\"overlay\",\"size\":10,\"solidity\":0.2}},\"type\":\"histogram\"}],\"mesh3d\":[{\"colorbar\":{\"outlinewidth\":0,\"ticks\":\"\"},\"type\":\"mesh3d\"}],\"parcoords\":[{\"line\":{\"colorbar\":{\"outlinewidth\":0,\"ticks\":\"\"}},\"type\":\"parcoords\"}],\"pie\":[{\"automargin\":true,\"type\":\"pie\"}],\"scatter3d\":[{\"line\":{\"colorbar\":{\"outlinewidth\":0,\"ticks\":\"\"}},\"marker\":{\"colorbar\":{\"outlinewidth\":0,\"ticks\":\"\"}},\"type\":\"scatter3d\"}],\"scattercarpet\":[{\"marker\":{\"colorbar\":{\"outlinewidth\":0,\"ticks\":\"\"}},\"type\":\"scattercarpet\"}],\"scattergeo\":[{\"marker\":{\"colorbar\":{\"outlinewidth\":0,\"ticks\":\"\"}},\"type\":\"scattergeo\"}],\"scattergl\":[{\"marker\":{\"colorbar\":{\"outlinewidth\":0,\"ticks\":\"\"}},\"type\":\"scattergl\"}],\"scattermapbox\":[{\"marker\":{\"colorbar\":{\"outlinewidth\":0,\"ticks\":\"\"}},\"type\":\"scattermapbox\"}],\"scatterpolargl\":[{\"marker\":{\"colorbar\":{\"outlinewidth\":0,\"ticks\":\"\"}},\"type\":\"scatterpolargl\"}],\"scatterpolar\":[{\"marker\":{\"colorbar\":{\"outlinewidth\":0,\"ticks\":\"\"}},\"type\":\"scatterpolar\"}],\"scatter\":[{\"marker\":{\"colorbar\":{\"outlinewidth\":0,\"ticks\":\"\"}},\"type\":\"scatter\"}],\"scatterternary\":[{\"marker\":{\"colorbar\":{\"outlinewidth\":0,\"ticks\":\"\"}},\"type\":\"scatterternary\"}],\"surface\":[{\"colorbar\":{\"outlinewidth\":0,\"ticks\":\"\"},\"colorscale\":[[0.0,\"#0d0887\"],[0.1111111111111111,\"#46039f\"],[0.2222222222222222,\"#7201a8\"],[0.3333333333333333,\"#9c179e\"],[0.4444444444444444,\"#bd3786\"],[0.5555555555555556,\"#d8576b\"],[0.6666666666666666,\"#ed7953\"],[0.7777777777777778,\"#fb9f3a\"],[0.8888888888888888,\"#fdca26\"],[1.0,\"#f0f921\"]],\"type\":\"surface\"}],\"table\":[{\"cells\":{\"fill\":{\"color\":\"#EBF0F8\"},\"line\":{\"color\":\"white\"}},\"header\":{\"fill\":{\"color\":\"#C8D4E3\"},\"line\":{\"color\":\"white\"}},\"type\":\"table\"}]},\"layout\":{\"annotationdefaults\":{\"arrowcolor\":\"#2a3f5f\",\"arrowhead\":0,\"arrowwidth\":1},\"autotypenumbers\":\"strict\",\"coloraxis\":{\"colorbar\":{\"outlinewidth\":0,\"ticks\":\"\"}},\"colorscale\":{\"diverging\":[[0,\"#8e0152\"],[0.1,\"#c51b7d\"],[0.2,\"#de77ae\"],[0.3,\"#f1b6da\"],[0.4,\"#fde0ef\"],[0.5,\"#f7f7f7\"],[0.6,\"#e6f5d0\"],[0.7,\"#b8e186\"],[0.8,\"#7fbc41\"],[0.9,\"#4d9221\"],[1,\"#276419\"]],\"sequential\":[[0.0,\"#0d0887\"],[0.1111111111111111,\"#46039f\"],[0.2222222222222222,\"#7201a8\"],[0.3333333333333333,\"#9c179e\"],[0.4444444444444444,\"#bd3786\"],[0.5555555555555556,\"#d8576b\"],[0.6666666666666666,\"#ed7953\"],[0.7777777777777778,\"#fb9f3a\"],[0.8888888888888888,\"#fdca26\"],[1.0,\"#f0f921\"]],\"sequentialminus\":[[0.0,\"#0d0887\"],[0.1111111111111111,\"#46039f\"],[0.2222222222222222,\"#7201a8\"],[0.3333333333333333,\"#9c179e\"],[0.4444444444444444,\"#bd3786\"],[0.5555555555555556,\"#d8576b\"],[0.6666666666666666,\"#ed7953\"],[0.7777777777777778,\"#fb9f3a\"],[0.8888888888888888,\"#fdca26\"],[1.0,\"#f0f921\"]]},\"colorway\":[\"#636efa\",\"#EF553B\",\"#00cc96\",\"#ab63fa\",\"#FFA15A\",\"#19d3f3\",\"#FF6692\",\"#B6E880\",\"#FF97FF\",\"#FECB52\"],\"font\":{\"color\":\"#2a3f5f\"},\"geo\":{\"bgcolor\":\"white\",\"lakecolor\":\"white\",\"landcolor\":\"white\",\"showlakes\":true,\"showland\":true,\"subunitcolor\":\"#C8D4E3\"},\"hoverlabel\":{\"align\":\"left\"},\"hovermode\":\"closest\",\"mapbox\":{\"style\":\"light\"},\"paper_bgcolor\":\"white\",\"plot_bgcolor\":\"white\",\"polar\":{\"angularaxis\":{\"gridcolor\":\"#EBF0F8\",\"linecolor\":\"#EBF0F8\",\"ticks\":\"\"},\"bgcolor\":\"white\",\"radialaxis\":{\"gridcolor\":\"#EBF0F8\",\"linecolor\":\"#EBF0F8\",\"ticks\":\"\"}},\"scene\":{\"xaxis\":{\"backgroundcolor\":\"white\",\"gridcolor\":\"#DFE8F3\",\"gridwidth\":2,\"linecolor\":\"#EBF0F8\",\"showbackground\":true,\"ticks\":\"\",\"zerolinecolor\":\"#EBF0F8\"},\"yaxis\":{\"backgroundcolor\":\"white\",\"gridcolor\":\"#DFE8F3\",\"gridwidth\":2,\"linecolor\":\"#EBF0F8\",\"showbackground\":true,\"ticks\":\"\",\"zerolinecolor\":\"#EBF0F8\"},\"zaxis\":{\"backgroundcolor\":\"white\",\"gridcolor\":\"#DFE8F3\",\"gridwidth\":2,\"linecolor\":\"#EBF0F8\",\"showbackground\":true,\"ticks\":\"\",\"zerolinecolor\":\"#EBF0F8\"}},\"shapedefaults\":{\"line\":{\"color\":\"#2a3f5f\"}},\"ternary\":{\"aaxis\":{\"gridcolor\":\"#DFE8F3\",\"linecolor\":\"#A2B1C6\",\"ticks\":\"\"},\"baxis\":{\"gridcolor\":\"#DFE8F3\",\"linecolor\":\"#A2B1C6\",\"ticks\":\"\"},\"bgcolor\":\"white\",\"caxis\":{\"gridcolor\":\"#DFE8F3\",\"linecolor\":\"#A2B1C6\",\"ticks\":\"\"}},\"title\":{\"x\":0.05},\"xaxis\":{\"automargin\":true,\"gridcolor\":\"#EBF0F8\",\"linecolor\":\"#EBF0F8\",\"ticks\":\"\",\"title\":{\"standoff\":15},\"zerolinecolor\":\"#EBF0F8\",\"zerolinewidth\":2},\"yaxis\":{\"automargin\":true,\"gridcolor\":\"#EBF0F8\",\"linecolor\":\"#EBF0F8\",\"ticks\":\"\",\"title\":{\"standoff\":15},\"zerolinecolor\":\"#EBF0F8\",\"zerolinewidth\":2}}},\"xaxis\":{\"anchor\":\"y\",\"domain\":[0.0,1.0],\"title\":{\"text\":\"Calendar Date\"}},\"yaxis\":{\"anchor\":\"x\",\"domain\":[0.0,1.0],\"title\":{\"text\":\"value\"}},\"legend\":{\"title\":{\"text\":\"variable\"},\"tracegroupgap\":0},\"margin\":{\"t\":60}},                        {\"responsive\": true}                    ).then(function(){\n",
       "                            \n",
       "var gd = document.getElementById('4958cbb6-2609-465c-a700-ef84c0440335');\n",
       "var x = new MutationObserver(function (mutations, observer) {{\n",
       "        var display = window.getComputedStyle(gd).display;\n",
       "        if (!display || display === 'none') {{\n",
       "            console.log([gd, 'removed!']);\n",
       "            Plotly.purge(gd);\n",
       "            observer.disconnect();\n",
       "        }}\n",
       "}});\n",
       "\n",
       "// Listen for the removal of the full notebook cells\n",
       "var notebookContainer = gd.closest('#notebook-container');\n",
       "if (notebookContainer) {{\n",
       "    x.observe(notebookContainer, {childList: true});\n",
       "}}\n",
       "\n",
       "// Listen for the clearing of the current output cell\n",
       "var outputEl = gd.closest('.output');\n",
       "if (outputEl) {{\n",
       "    x.observe(outputEl, {childList: true});\n",
       "}}\n",
       "\n",
       "                        })                };                });            </script>        </div>"
      ]
     },
     "metadata": {},
     "output_type": "display_data"
    },
    {
     "data": {
      "image/png": "[encoded data removed]",
      "text/plain": [
       "<Figure size 576x864 with 2 Axes>"
      ]
     },
     "metadata": {},
     "output_type": "display_data"
    }
   ],
   "source": [
    "import pandas as pd\n",
    "import numpy as np\n",
    "import plotly.express as px\n",
    "import warnings\n",
    "from pycaret.regression import *\n",
    "import pmdarima as pm\n",
    "from pmdarima.arima import ARIMA\n",
    "from pmdarima.arima.stationarity import ADFTest\n",
    "from pmdarima.arima.utils import ndiffs\n",
    "from datetime import datetime\n",
    "import seaborn as sns\n",
    "import matplotlib.pyplot as plt\n",
    "import import_ipynb\n",
    "import data_loader as dl\n",
    "\n",
    "warnings.filterwarnings(\"ignore\")\n",
    "\n",
    "def run_auto_ml(train_df, test_df, target_col, feature_cols, normal_transform, ml_criteria):\n",
    "    # Model Definitions\n",
    "    s = setup(data = train_df, \n",
    "              test_data = test_df, \n",
    "              target = target_col, \n",
    "              fold_strategy = 'timeseries', \n",
    "              numeric_features = feature_cols, \n",
    "              fold = 3, \n",
    "              transform_target = normal_transform,\n",
    "              feature_selection = True,\n",
    "              feature_selection_threshold = 0.8,\n",
    "              remove_multicollinearity = True,\n",
    "              multicollinearity_threshold = 0.9,\n",
    "              session_id = 123)\n",
    "    best = compare_models(sort = ml_criteria)\n",
    "    results = pull()\n",
    "    model_results = results.Model.tolist()\n",
    "    #print(type(best))\n",
    "    return best\n",
    "\n",
    "def get_important_features(model, threshold):\n",
    "    # Get list of features and their values\n",
    "    features = pd.DataFrame()\n",
    "    if model == 'xgboost':\n",
    "        xgb = create_model('xgboost', cross_validation=True, verbose=False)        \n",
    "        feature_important = xgb.get_booster().get_score(importance_type='gain')\n",
    "        keys = list(feature_important.keys())\n",
    "        values = list(feature_important.values())\n",
    "        features = pd.DataFrame(data=values, index=keys, columns=['Variable Importance']).sort_values(by='Variable Importance', ascending=False)\n",
    "        features = features[features.index.str.contains('Calendar Date') == False]\n",
    "        features = features.rename_axis('Feature').reset_index()\n",
    "        features = features[features.index <= threshold-1]\n",
    "    return features\n",
    "\n",
    "def run_auto_arima(df, feature_cols, pred_start_dt, forecast_window):\n",
    "    pred_df = pd.DataFrame()\n",
    "    dti = pd.date_range(pred_start_dt, periods=forecast_window, freq=\"M\")\n",
    "    dti = dti + pd.offsets.MonthBegin(-1)\n",
    "    pred_df['Calendar Date'] = dti\n",
    "\n",
    "    for col in feature_cols:\n",
    "        model = pm.auto_arima(df[col], \n",
    "                      start_p=1, \n",
    "                      start_q=1, \n",
    "                      max_p=5, \n",
    "                      max_q=5, \n",
    "                      m=12, \n",
    "                      start_P=0, \n",
    "                      seasonal=True, \n",
    "                      d=1, \n",
    "                      D=1, \n",
    "                      trace=True, \n",
    "                      error_action='ignore',  # don't want to know if an order does not work\n",
    "                      suppress_warnings=True,  # don't want convergence warnings\n",
    "                      stepwise=True)  # set to stepwise\n",
    "\n",
    "        # make future predictions\n",
    "        pred_df[col] = model.predict(n_periods=forecast_window)\n",
    "    return pred_df\n",
    "\n",
    "def compute_apes_and_mapes(df, date_col, target_col, feature_cols):\n",
    "    sort_cols = [date_col, target_col]\n",
    "    ape_cols = []\n",
    "    for col in feature_cols:\n",
    "        ape_col = col+' - APE' \n",
    "        df[ape_col] = ((df[target_col] - df[col]).abs())/df[target_col]\n",
    "        sort_cols.append(col)\n",
    "        sort_cols.append(ape_col)\n",
    "        ape_cols.append(ape_col)\n",
    "    df = df[sort_cols]    \n",
    "    non_ape_cols = list(set(sort_cols) - set(ape_cols))\n",
    "    mape_df = df.groupby([True]*len(df)).mean(numeric_only=True)\n",
    "    mape_df[non_ape_cols] = np.nan\n",
    "    df = pd.concat([df,mape_df])\n",
    "    return df  \n",
    "\n",
    "#########################################################################################\n",
    "#                              BEGIN PARAMETERS SECTION \n",
    "#      This section is where we set the model parameters including:\n",
    "#      The date ranges for the training, testing and prediction dataframes\n",
    "#      The features and correlations thresholds, etc\n",
    "#########################################################################################\n",
    "\n",
    "# ------------------------------------------------------------------------------------- #\n",
    "# This is where we change the parameters for the model\n",
    "# ------------------------------------------------------------------------------------- #\n",
    "train_start_dt = '20140601'\n",
    "train_end_dt = '20200501'\n",
    "test_start_dt = '20200601'\n",
    "test_end_dt = '20210501'\n",
    "pred_start_dt = '20210601'\n",
    "pred_end_dt = '20220101'\n",
    "ml_criteria = 'MAE'\n",
    "forecast_window = 8\n",
    "forecast_type = '2+10'\n",
    "\n",
    "# This is how strong you want the correlation to be in order to be included as a feature\n",
    "correlation_threshold = 0.5\n",
    "\n",
    "# This is how many features you want to keep in the final model\n",
    "features_threshold = 10\n",
    "\n",
    "has_actuals = True\n",
    "\n",
    "# ------------------------------------------------------------------------------------- #\n",
    "# Total Payroll Section\n",
    "# ------------------------------------------------------------------------------------- #\n",
    "target_col = 'Payroll blended products'\n",
    "has_drivers = True\n",
    "#target_col = 'W-2 Revenue'\n",
    "#has_drivers = False\n",
    "#target_col = 'Delivery Revenue'\n",
    "#has_drivers = False\n",
    "#target_col = 'ASO Allocation'\n",
    "#has_drivers = False\n",
    "#target_col = 'Other Processing Revenue'\n",
    "#has_drivers = False\n",
    "#target_col = 'SurePayroll.'\n",
    "#has_drivers = True\n",
    "#target_col = 'Total international'\n",
    "#has_drivers = False\n",
    "\n",
    "# ------------------------------------------------------------------------------------- #\n",
    "# Total 401K Section\n",
    "# ------------------------------------------------------------------------------------- #\n",
    "#target_col = '401K Fee Revenue'\n",
    "#has_drivers = True\n",
    "#target_col = '401K Asset fee & BP Revenue'\n",
    "#has_drivers = True\n",
    "\n",
    "# ------------------------------------------------------------------------------------- #\n",
    "# Name the output columns here\n",
    "# ------------------------------------------------------------------------------------- #\n",
    "ml_col = target_col+' - ML Predicted'\n",
    "uts_col = target_col+' - UTS Predicted'\n",
    "plan_col = target_col+' - Plan'\n",
    "fcst_col = target_col+' - '+forecast_type+' Forecast'\n",
    "fcst_cols = [ml_col,uts_col,plan_col,fcst_col]\n",
    "\n",
    "\n",
    "#########################################################################################\n",
    "#                              END PARAMETERS SECTION \n",
    "#########################################################################################\n",
    "\n",
    "#########################################################################################\n",
    "#                              BEGIN DATA SECTION \n",
    "#             This is where the dataframes get created based on the parameters \n",
    "#             set in the previous section. You should not need to change any code \n",
    "#             from here below\n",
    "#########################################################################################\n",
    "\n",
    "# Get the full data frame and combine with drivers\n",
    "all_df = dl.get_level_0_data(train_start_dt, pred_end_dt)\n",
    "all_df = all_df[['Calendar Date', target_col]]\n",
    "if has_drivers:\n",
    "    driv_df = dl.get_driver_data(train_start_dt, pred_end_dt, target_col)\n",
    "    driv_df.drop(columns=['Scenario'], inplace=True)\n",
    "    all_df = pd.merge(all_df, driv_df, on='Calendar Date', how='inner')\n",
    "ext_df = dl.get_external_data(train_start_dt, pred_end_dt)\n",
    "all_df = pd.merge(all_df, ext_df, on='Calendar Date', how='inner')\n",
    "\n",
    "# Train df\n",
    "train_df = all_df[all_df['Calendar Date'].astype(int) <= int(train_end_dt)]\n",
    "train_df['Calendar Date'] = pd.to_datetime(train_df['Calendar Date'])\n",
    "print('Shape of the training dataframe:')\n",
    "print(train_df.shape)\n",
    "\n",
    "# Test df\n",
    "test_df = all_df[(all_df['Calendar Date'].astype(int) >= int(test_start_dt)) & (all_df['Calendar Date'].astype(int) <= int(test_end_dt))]\n",
    "test_df['Calendar Date'] = pd.to_datetime(test_df['Calendar Date'])\n",
    "print('Shape of the testing dataframe:')\n",
    "print(test_df.shape)\n",
    "\n",
    "# Combined dataframe\n",
    "comb_df = pd.concat([train_df, test_df])\n",
    "print('Shape of the combination dataframe:')\n",
    "print(comb_df.shape)\n",
    "\n",
    "feature_cols = comb_df.columns.to_list()\n",
    "feature_cols.remove('Calendar Date')\n",
    "feature_cols.remove(target_col)\n",
    "\n",
    "# Run Correlations to target\n",
    "corr_df = comb_df.corr()[[target_col]]\n",
    "corr_df = corr_df[corr_df[target_col].abs() >= correlation_threshold]\n",
    "\n",
    "# Plot the highest correlated features to the target\n",
    "plt.figure(figsize=(8, 12))\n",
    "heatmap = sns.heatmap(corr_df, vmin=-1, vmax=1, annot=True, cmap='BrBG')\n",
    "heatmap.set_title('Features Correlating with '+target_col, fontdict={'fontsize':18}, pad=16);\n",
    "\n",
    "# Get a list of the features based on correlation\n",
    "corr_df = corr_df.rename_axis('Feature').reset_index()\n",
    "corr_feature_cols = corr_df['Feature'].tolist()\n",
    "corr_feature_cols.remove(target_col)    \n",
    "#print(corr_feature_cols)\n",
    "\n",
    "# run auto ml and get the most important features\n",
    "best = run_auto_ml(train_df, test_df, target_col, feature_cols, False, ml_criteria)\n",
    "ml_features = get_important_features('xgboost', features_threshold)\n",
    "ml_feature_cols = ml_features['Feature'].tolist()\n",
    "\n",
    "if len(ml_features.index) != 0:\n",
    "    # plot the most important features\n",
    "    fig = px.bar(ml_features.sort_values('Variable Importance', ascending=True),\n",
    "                 x='Variable Importance', \n",
    "                 y='Feature', \n",
    "                 orientation='h', \n",
    "                 title='Feature Importance Plot')\n",
    "    fig.show()\n",
    "    \n",
    "# ------------------------------------------------------------------------------------- #\n",
    "# re-run the auto ml with only the important features\n",
    "# ------------------------------------------------------------------------------------- #\n",
    "\n",
    "# Here we need to figure out which set of features we want to use\n",
    "# ml_features or corr_features\n",
    "feature_cols = ml_feature_cols\n",
    "\n",
    "keeps = ['Calendar Date', target_col]+feature_cols\n",
    "train_df = train_df[keeps]\n",
    "test_df = test_df[keeps]\n",
    "comb_df = comb_df[keeps]\n",
    "\n",
    "best = run_auto_ml(train_df, test_df, target_col, feature_cols, False, ml_criteria)    \n",
    "\n",
    "# ------------------------------------------------------------------------------------- #\n",
    "# generate and plot predicted values on the original dataset\n",
    "# ------------------------------------------------------------------------------------- #\n",
    "\n",
    "predictions = predict_model(best, data=comb_df)\n",
    "predictions['Date'] = pd.date_range(start=str(train_start_dt), end = str(test_end_dt), freq = 'MS')\n",
    "predictions.rename(columns={'Label':target_col+' - ML Predicted'}, inplace=True)\n",
    "fig = px.line(predictions, x='Date', y=[target_col, target_col+' - ML Predicted'], template = 'plotly_white')\n",
    "fig.show()\n",
    "\n",
    "# ------------------------------------------------------------------------------------- #\n",
    "# This section now applies the trained/tested model to make future predictions\n",
    "# ------------------------------------------------------------------------------------- #\n",
    "\n",
    "# create the future predictions dataframe\n",
    "if has_actuals:\n",
    "    act_df = all_df[all_df['Calendar Date'].astype(int) >= int(pred_start_dt)]\n",
    "    act_df = act_df[keeps]\n",
    "    act_df['Calendar Date'] = pd.to_datetime(act_df['Calendar Date'])\n",
    "    pred_df = run_auto_arima(comb_df, feature_cols, pred_start_dt, forecast_window)\n",
    "    final_best = finalize_model(best)\n",
    "    #future_dates = pd.date_range(start = pred_start_dt, end = pred_end_dt, freq = 'MS')\n",
    "    pred_df = predict_model(final_best, data=pred_df)\n",
    "    #pred_df = pred_df[['Calendar Date', 'Label']]\n",
    "    pred_df.rename(columns={'Label':ml_col}, inplace=True)\n",
    "    concat_df = pd.merge(pred_df,act_df, on='Calendar Date', how='inner')\n",
    "    \n",
    "    # get plan data\n",
    "    plan_df = dl.get_plan_data(pred_start_dt, pred_end_dt)\n",
    "    plan_df = plan_df[['Calendar Date', target_col]]\n",
    "    plan_df.rename(columns={target_col:plan_col}, inplace=True)\n",
    "    plan_df['Calendar Date'] = pd.to_datetime(plan_df['Calendar Date'])\n",
    "    concat_df = pd.merge(concat_df,plan_df, on='Calendar Date', how='inner')\n",
    "    \n",
    "    # get forecast data\n",
    "    fcst_df = dl.get_forecast_data(pred_start_dt, pred_end_dt, forecast_type)\n",
    "    fcst_df = fcst_df[['Calendar Date', target_col]]\n",
    "    fcst_df.rename(columns={target_col:fcst_col}, inplace=True)\n",
    "    fcst_df['Calendar Date'] = pd.to_datetime(fcst_df['Calendar Date'])\n",
    "    concat_df = pd.merge(concat_df,fcst_df, on='Calendar Date', how='inner')\n",
    "\n",
    "    # run UTS \n",
    "    uts_df = comb_df[['Calendar Date', target_col]]\n",
    "    uts_df = run_auto_arima(uts_df, [target_col], pred_start_dt, forecast_window)\n",
    "    uts_df.rename(columns={target_col:uts_col}, inplace=True)\n",
    "    concat_df = pd.merge(concat_df,uts_df, on='Calendar Date', how='inner')\n",
    "    \n",
    "    # combine all data together\n",
    "    concat_df = pd.concat([comb_df,concat_df], axis=0)\n",
    "    \n",
    "    # show plot\n",
    "    fig = px.line(concat_df, x='Calendar Date', y=[target_col, ml_col, uts_col, plan_col, fcst_col], template='plotly_white')\n",
    "    fig.show()\n",
    "    \n",
    "    # compute mape_df\n",
    "    mape_df = concat_df[['Calendar Date', target_col, ml_col, uts_col, plan_col, fcst_col]]\n",
    "    mape_df = mape_df[mape_df['Calendar Date'] >= datetime.strptime(pred_start_dt, '%Y%m%d')]\n",
    "    mape_df = compute_apes_and_mapes(mape_df, 'Calendar Date', target_col, fcst_cols)\n",
    "    mape_df.rename(index={True:'MAPE'}, inplace=True)\n",
    "    #print(mape_df)\n",
    "    data_dir = 'C:/Users/jgillespie/Desktop/Paychex/'\n",
    "    data_file = 'mapes.xlsx'\n",
    "    mape_df.to_excel(data_dir+data_file, sheet_name=target_col[0:31])  \n",
    "    "
   ]
  },
  {
   "cell_type": "code",
   "execution_count": null,
   "metadata": {},
   "outputs": [],
   "source": []
  },
  {
   "cell_type": "code",
   "execution_count": null,
   "metadata": {},
   "outputs": [],
   "source": []
  },
  {
   "cell_type": "code",
   "execution_count": null,
   "metadata": {},
   "outputs": [],
   "source": []
  }
 ],
 "metadata": {
  "kernelspec": {
   "display_name": "Python 3",
   "language": "python",
   "name": "python3"
  },
  "language_info": {
   "codemirror_mode": {
    "name": "ipython",
    "version": 3
   },
   "file_extension": ".py",
   "mimetype": "text/x-python",
   "name": "python",
   "nbconvert_exporter": "python",
   "pygments_lexer": "ipython3",
   "version": "3.8.1"
  }
 },
 "nbformat": 4,
 "nbformat_minor": 4
}