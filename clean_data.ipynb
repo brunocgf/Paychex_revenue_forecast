{
 "cells": [
  {
   "cell_type": "code",
   "execution_count": 7,
   "metadata": {
    "collapsed": true
   },
   "outputs": [],
   "source": [
    "import os\n",
    "import yaml\n",
    "from azure.storage.blob import BlobServiceClient, BlobClient, ContainerClient"
   ]
  },
  {
   "cell_type": "code",
   "execution_count": 2,
   "outputs": [],
   "source": [
    "def load_credentials(credential, file = \"./credentials.yml\"):\n",
    "\n",
    "    with open(file,\"r\") as c:\n",
    "        credentials = yaml.safe_load(c)[credential]\n",
    "\n",
    "    return credentials"
   ],
   "metadata": {
    "collapsed": false,
    "pycharm": {
     "name": "#%%\n"
    }
   }
  },
  {
   "cell_type": "code",
   "execution_count": 3,
   "outputs": [],
   "source": [
    "credentials = load_credentials(\"blob_storage\")"
   ],
   "metadata": {
    "collapsed": false,
    "pycharm": {
     "name": "#%%\n"
    }
   }
  },
  {
   "cell_type": "markdown",
   "source": [
    "# Create and show containers"
   ],
   "metadata": {
    "collapsed": false
   }
  },
  {
   "cell_type": "code",
   "execution_count": 4,
   "outputs": [],
   "source": [
    "blob_service_client = BlobServiceClient\\\n",
    "    .from_connection_string(credentials['conn_string'])"
   ],
   "metadata": {
    "collapsed": false,
    "pycharm": {
     "name": "#%%\n"
    }
   }
  },
  {
   "cell_type": "code",
   "execution_count": 10,
   "outputs": [
    {
     "name": "stdout",
     "output_type": "stream",
     "text": [
      "Container already exists.\n"
     ]
    }
   ],
   "source": [
    "# Create a unique name for the container\n",
    "container_name = \"raw-data\"\n",
    "\n",
    "try:\n",
    "    container_client = blob_service_client.create_container(container_name)\n",
    "    properties = container_client.get_container_properties()\n",
    "except:\n",
    "    print(\"Container already exists.\")"
   ],
   "metadata": {
    "collapsed": false,
    "pycharm": {
     "name": "#%%\n"
    }
   }
  },
  {
   "cell_type": "code",
   "execution_count": 11,
   "outputs": [
    {
     "name": "stdout",
     "output_type": "stream",
     "text": [
      "raw-data\n"
     ]
    }
   ],
   "source": [
    "all_containers = blob_service_client.list_containers()\n",
    "for c in all_containers:\n",
    "    print(c.name)"
   ],
   "metadata": {
    "collapsed": false,
    "pycharm": {
     "name": "#%%\n"
    }
   }
  },
  {
   "cell_type": "markdown",
   "source": [
    "# Upload data"
   ],
   "metadata": {
    "collapsed": false
   }
  },
  {
   "cell_type": "code",
   "execution_count": 17,
   "outputs": [],
   "source": [
    "container_name = \"raw-data\"\n",
    "container_client = ContainerClient.from_connection_string(credentials['conn_string'],container_name)"
   ],
   "metadata": {
    "collapsed": false,
    "pycharm": {
     "name": "#%%\n"
    }
   }
  },
  {
   "cell_type": "code",
   "execution_count": 6,
   "outputs": [],
   "source": [
    "# List blobs in container\n",
    "blobs_list = container_client.list_blobs()\n",
    "for blob in blobs_list:\n",
    "    print(blob.name + '\\n')"
   ],
   "metadata": {
    "collapsed": false,
    "pycharm": {
     "name": "#%%\n"
    }
   }
  },
  {
   "cell_type": "code",
   "execution_count": 9,
   "outputs": [],
   "source": [
    "data_files = os.listdir(\"./data\")"
   ],
   "metadata": {
    "collapsed": false,
    "pycharm": {
     "name": "#%%\n"
    }
   }
  },
  {
   "cell_type": "code",
   "execution_count": 14,
   "outputs": [
    {
     "name": "stdout",
     "output_type": "stream",
     "text": [
      "Writing: 401kRevenue.txt\n",
      "Writing: 401kRevenue.xlsx\n",
      "Writing: 401kRevenueDetail.txt\n",
      "Writing: 401kRevenueDetail.xlsx\n"
     ]
    }
   ],
   "source": [
    "for file in data_files:\n",
    "    print(\"Writing:\",file)\n",
    "    with open(\"./data/\"+file, \"rb\") as data:\n",
    "        blob_client = container_client.upload_blob(name=file, data=data, overwrite=True)"
   ],
   "metadata": {
    "collapsed": false,
    "pycharm": {
     "name": "#%%\n"
    }
   }
  },
  {
   "cell_type": "code",
   "execution_count": 13,
   "outputs": [
    {
     "name": "stdout",
     "output_type": "stream",
     "text": [
      "401kRevenue.txt\n",
      "\n",
      "401kRevenue.xlsx\n",
      "\n",
      "401kRevenueDetail.txt\n",
      "\n",
      "401kRevenueDetail.xlsx\n",
      "\n"
     ]
    }
   ],
   "source": [
    "# List blobs in container\n",
    "blobs_list = container_client.list_blobs()\n",
    "for blob in blobs_list:\n",
    "    print(blob.name + '\\n')"
   ],
   "metadata": {
    "collapsed": false,
    "pycharm": {
     "name": "#%%\n"
    }
   }
  },
  {
   "cell_type": "code",
   "execution_count": 15,
   "outputs": [
    {
     "data": {
      "text/plain": "<azure.storage.blob._blob_client.BlobClient at 0x234be115d00>"
     },
     "execution_count": 15,
     "metadata": {},
     "output_type": "execute_result"
    }
   ],
   "source": [
    "blob_client"
   ],
   "metadata": {
    "collapsed": false,
    "pycharm": {
     "name": "#%%\n"
    }
   }
  },
  {
   "cell_type": "code",
   "execution_count": null,
   "outputs": [],
   "source": [],
   "metadata": {
    "collapsed": false,
    "pycharm": {
     "name": "#%%\n"
    }
   }
  }
 ],
 "metadata": {
  "kernelspec": {
   "display_name": "Python 3",
   "language": "python",
   "name": "python3"
  },
  "language_info": {
   "codemirror_mode": {
    "name": "ipython",
    "version": 2
   },
   "file_extension": ".py",
   "mimetype": "text/x-python",
   "name": "python",
   "nbconvert_exporter": "python",
   "pygments_lexer": "ipython2",
   "version": "2.7.6"
  }
 },
 "nbformat": 4,
 "nbformat_minor": 0
}