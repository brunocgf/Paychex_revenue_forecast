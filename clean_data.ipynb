{
 "cells": [
  {
   "cell_type": "code",
   "execution_count": 1,
   "metadata": {
    "collapsed": true
   },
   "outputs": [],
   "source": [
    "import pandas as pd\n",
    "from azure.storage.blob import BlobServiceClient, BlobClient, ContainerClient"
   ]
  },
  {
   "cell_type": "code",
   "execution_count": null,
   "outputs": [],
   "source": [],
   "metadata": {
    "collapsed": false,
    "pycharm": {
     "name": "#%%\n"
    }
   }
  },
  {
   "cell_type": "code",
   "execution_count": 2,
   "outputs": [],
   "source": [
    "from src.utils import load_credentials\n",
    "from src.upload_data import upload_data\n",
    "from src.clean_data import get_df\n",
    "from src.clean_data import join_all"
   ],
   "metadata": {
    "collapsed": false,
    "pycharm": {
     "name": "#%%\n"
    }
   }
  },
  {
   "cell_type": "code",
   "execution_count": 3,
   "outputs": [],
   "source": [
    "credentials = load_credentials(\"blob_storage\")"
   ],
   "metadata": {
    "collapsed": false,
    "pycharm": {
     "name": "#%%\n"
    }
   }
  },
  {
   "cell_type": "markdown",
   "source": [
    "# Create and show containers"
   ],
   "metadata": {
    "collapsed": false
   }
  },
  {
   "cell_type": "code",
   "execution_count": 4,
   "outputs": [],
   "source": [
    "blob_service_client = BlobServiceClient\\\n",
    "    .from_connection_string(credentials['conn_string'])"
   ],
   "metadata": {
    "collapsed": false,
    "pycharm": {
     "name": "#%%\n"
    }
   }
  },
  {
   "cell_type": "code",
   "execution_count": 10,
   "outputs": [
    {
     "name": "stdout",
     "output_type": "stream",
     "text": [
      "Container already exists.\n"
     ]
    }
   ],
   "source": [
    "# Create a unique name for the container\n",
    "container_name = \"raw-data\"\n",
    "\n",
    "try:\n",
    "    container_client = blob_service_client.create_container(container_name)\n",
    "    properties = container_client.get_container_properties()\n",
    "except:\n",
    "    print(\"Container already exists.\")"
   ],
   "metadata": {
    "collapsed": false,
    "pycharm": {
     "name": "#%%\n"
    }
   }
  },
  {
   "cell_type": "code",
   "execution_count": 11,
   "outputs": [
    {
     "name": "stdout",
     "output_type": "stream",
     "text": [
      "raw-data\n"
     ]
    }
   ],
   "source": [
    "all_containers = blob_service_client.list_containers()\n",
    "for c in all_containers:\n",
    "    print(c.name)"
   ],
   "metadata": {
    "collapsed": false,
    "pycharm": {
     "name": "#%%\n"
    }
   }
  },
  {
   "cell_type": "markdown",
   "source": [
    "# Upload data"
   ],
   "metadata": {
    "collapsed": false
   }
  },
  {
   "cell_type": "code",
   "execution_count": 16,
   "outputs": [],
   "source": [
    "# Start client\n",
    "blob_service_client = BlobServiceClient.from_connection_string(credentials['conn_string'])"
   ],
   "metadata": {
    "collapsed": false,
    "pycharm": {
     "name": "#%%\n"
    }
   }
  },
  {
   "cell_type": "code",
   "execution_count": 17,
   "outputs": [
    {
     "name": "stdout",
     "output_type": "stream",
     "text": [
      "Writing: .\\data\\401kRevenue.txt\n",
      "Writing: .\\data\\401kRevenueDetail.txt\n",
      "Writing: .\\data\\ASORevenue.txt\n",
      "Writing: .\\data\\ASORevenueDrivers.txt\n",
      "Writing: .\\data\\BlendedProductRevenue.txt\n",
      "Writing: .\\data\\BlendedProductRevenueDrivers.txt\n",
      "Writing: .\\data\\IFHC.txt\n",
      "Writing: .\\data\\InsuranceRevenue.txt\n",
      "Writing: .\\data\\InsuranceRevenueDetail.txt\n",
      "Writing: .\\data\\InternationalRevenue.txt\n",
      "Writing: .\\data\\InternationalRevenueStats.txt\n",
      "Writing: .\\data\\OnlineRevenue.txt\n",
      "Writing: .\\data\\OnlineRevenueDetail.txt\n",
      "Writing: .\\data\\OtherMgmtRevenue.txt\n",
      "Writing: .\\data\\OtherMgmtRevenueDetail.txt\n",
      "Writing: .\\data\\PayrollSurePayrollASOInternationalHighLevelRevenue.txt\n",
      "Writing: .\\data\\PEORevenue.txt\n",
      "Writing: .\\data\\PEORevenueDetail.txt\n",
      "Writing: .\\data\\PEORevenueDetailDrivers.txt\n",
      "Writing: .\\data\\SurePayollRevenue.txt\n",
      "Writing: .\\data\\SurePayollRevenueDrivers.txt\n",
      "Writing: .\\data\\W2DelOtherRevenue.txt\n",
      "Writing: .\\data\\W2DelOtherRevenueDrivers.txt\n",
      "Writing: .\\data\\oldfiles\\401kRevenue.txt\n",
      "Writing: .\\data\\oldfiles\\401kRevenue.xlsx\n",
      "Writing: .\\data\\oldfiles\\401kRevenueDetail.txt\n",
      "Writing: .\\data\\oldfiles\\401kRevenueDetail.xlsx\n"
     ]
    }
   ],
   "source": [
    "# Upload all files\n",
    "container_name = \"raw-data\"\n",
    "blob_clients = upload_data(blob_service_client, container=container_name)"
   ],
   "metadata": {
    "collapsed": false,
    "pycharm": {
     "name": "#%%\n"
    }
   }
  },
  {
   "cell_type": "markdown",
   "source": [
    "# Clean Data"
   ],
   "metadata": {
    "collapsed": false
   }
  },
  {
   "cell_type": "code",
   "execution_count": 4,
   "outputs": [],
   "source": [
    "# Start client\n",
    "container_name = \"raw-data\"\n",
    "blob_service_client = BlobServiceClient.from_connection_string(credentials['conn_string'])\n",
    "# container_client = blob_service_client.get_container_client(container_name)"
   ],
   "metadata": {
    "collapsed": false,
    "pycharm": {
     "name": "#%%\n"
    }
   }
  },
  {
   "cell_type": "code",
   "execution_count": 5,
   "outputs": [],
   "source": [
    "def get_blob_list(client, container=\"raw-data\"):\n",
    "    \"\"\"\n",
    "    Get blobs in a container\n",
    "    \"\"\"\n",
    "    container_client = client.get_container_client(container)\n",
    "    blob_list = []\n",
    "    for blob in container_client.list_blobs():\n",
    "        file_name = blob.name\n",
    "        blob_list.append(file_name)\n",
    "\n",
    "    return blob_list"
   ],
   "metadata": {
    "collapsed": false,
    "pycharm": {
     "name": "#%%\n"
    }
   }
  },
  {
   "cell_type": "code",
   "execution_count": 6,
   "outputs": [],
   "source": [
    "blob_list = get_blob_list(blob_service_client)"
   ],
   "metadata": {
    "collapsed": false,
    "pycharm": {
     "name": "#%%\n"
    }
   }
  },
  {
   "cell_type": "code",
   "execution_count": 7,
   "outputs": [
    {
     "data": {
      "text/plain": "['401kRevenue.txt',\n '401kRevenueDetail.txt',\n 'ASORevenue.txt',\n 'ASORevenueDrivers.txt',\n 'BlendedProductRevenue.txt',\n 'BlendedProductRevenueDrivers.txt',\n 'IFHC.txt',\n 'InsuranceRevenue.txt',\n 'InsuranceRevenueDetail.txt',\n 'InternationalRevenue.txt',\n 'InternationalRevenueStats.txt',\n 'OnlineRevenue.txt',\n 'OnlineRevenueDetail.txt',\n 'OtherMgmtRevenue.txt',\n 'OtherMgmtRevenueDetail.txt',\n 'PEORevenue.txt',\n 'PEORevenueDetail.txt',\n 'PEORevenueDetailDrivers.txt',\n 'PayrollSurePayrollASOInternationalHighLevelRevenue.txt',\n 'SurePayollRevenue.txt',\n 'SurePayollRevenueDrivers.txt',\n 'W2DelOtherRevenue.txt',\n 'W2DelOtherRevenueDrivers.txt',\n 'oldfiles/401kRevenue.txt',\n 'oldfiles/401kRevenue.xlsx',\n 'oldfiles/401kRevenueDetail.txt',\n 'oldfiles/401kRevenueDetail.xlsx']"
     },
     "execution_count": 7,
     "metadata": {},
     "output_type": "execute_result"
    }
   ],
   "source": [
    "blob_list"
   ],
   "metadata": {
    "collapsed": false,
    "pycharm": {
     "name": "#%%\n"
    }
   }
  },
  {
   "cell_type": "markdown",
   "source": [
    "## 401kRevenue"
   ],
   "metadata": {
    "collapsed": false
   }
  },
  {
   "cell_type": "code",
   "execution_count": 25,
   "outputs": [],
   "source": [
    "df = get_df(blob_service_client, blob_list[0], container= container_name)\\\n",
    "    .reset_index(-1)\\\n",
    "    .rename(columns={'level_3':'period'})\n",
    "\n",
    "#Correct month\n",
    "df['period'] = df['period']\\\n",
    "    .replace({'\\nJun': 1, '\\nJul': 2, '\\nAug': 3, '\\nSep': 4, '\\nOct': 5, '\\nNov': 6, '\\nDec': 7, '\\nJan': 8,\n",
    "             '\\nFeb': 9, '\\nMar': 10, '\\nApr': 11, '\\nMay': 12, 'YearTotal':0})\\\n",
    "    .astype('int')"
   ],
   "metadata": {
    "collapsed": false,
    "pycharm": {
     "name": "#%%\n"
    }
   }
  },
  {
   "cell_type": "code",
   "execution_count": 29,
   "outputs": [
    {
     "data": {
      "text/plain": "                                                0.000000\n*fee revenue                                  189.683425\nAverage Asset Values - Calculated - RW      48171.515502\nAverage Assets/Clients - Calculated - RW        0.481760\nBasis Points - RW                               0.000007\nBasis Points - Solicitor - RW                  -0.000001\nBasis Pts - Calc - RW                           0.000000\nDIRECT BILL/MONEY MGMT REVENUE - RW           116.545445\nEnding Asset Values - RW                    49850.985562\nEnding Client Base - RW                         0.104507\nLosses - RW                                    -0.013544\nMaintenance Rate - Calculated - RW              0.000120\nSales - RW                                      0.022539\nSet Up Rate - Calculated - RW                   0.000538\nTotal Service Revenue - RW                    306.228870\nName: (Forecast, 6+6, FY22), dtype: float64"
     },
     "execution_count": 29,
     "metadata": {},
     "output_type": "execute_result"
    }
   ],
   "source": [
    "df[df['period']==0]\\\n",
    "    .loc[(\"Forecast\",\"6+6\",\"FY22\"),:].groupby(level=3).sum()/1000000"
   ],
   "metadata": {
    "collapsed": false,
    "pycharm": {
     "name": "#%%\n"
    }
   }
  },
  {
   "cell_type": "code",
   "execution_count": 27,
   "outputs": [
    {
     "data": {
      "text/plain": "306.22887"
     },
     "execution_count": 27,
     "metadata": {},
     "output_type": "execute_result"
    }
   ],
   "source": [
    "df[df['period']==0]\\\n",
    "    .loc[(\"Forecast\",\"6+6\",\"FY22\"),\n",
    "         (\"Total Activity\",\"Total 401k Revenue\", \"Total Paychex\", \"Total Service Revenue - RW\")]/1000000"
   ],
   "metadata": {
    "collapsed": false,
    "pycharm": {
     "name": "#%%\n"
    }
   }
  },
  {
   "cell_type": "code",
   "execution_count": 24,
   "outputs": [
    {
     "name": "stderr",
     "output_type": "stream",
     "text": [
      "C:\\Users\\bruno.gonzalez\\Miniconda3\\envs\\azml\\lib\\site-packages\\pandas\\core\\indexing.py:873: PerformanceWarning: indexing past lexsort depth may impact performance.\n",
      "  return self._getitem_tuple(key)\n"
     ]
    },
    {
     "data": {
      "text/plain": "72.761065"
     },
     "execution_count": 24,
     "metadata": {},
     "output_type": "execute_result"
    }
   ],
   "source": [
    "df[(df['period']<=3)&(df['period']>=1)]\\\n",
    "    .loc[(\"Forecast\",\"6+6\",\"FY22\"),\n",
    "         (\"Total Activity\", \"Total 401k Revenue\", \"Total Paychex\",\"Total Service Revenue - RW\")]\\\n",
    "    .sum()/1000000"
   ],
   "metadata": {
    "collapsed": false,
    "pycharm": {
     "name": "#%%\n"
    }
   }
  },
  {
   "cell_type": "code",
   "execution_count": 25,
   "outputs": [
    {
     "name": "stderr",
     "output_type": "stream",
     "text": [
      "C:\\Users\\bruno.gonzalez\\Miniconda3\\envs\\azml\\lib\\site-packages\\pandas\\core\\indexing.py:873: PerformanceWarning: indexing past lexsort depth may impact performance.\n",
      "  return self._getitem_tuple(key)\n"
     ]
    },
    {
     "data": {
      "text/plain": "77.886922"
     },
     "execution_count": 25,
     "metadata": {},
     "output_type": "execute_result"
    }
   ],
   "source": [
    "df[(df['period']<=6)&(df['period']>=4)]\\\n",
    "    .loc[(\"Forecast\",\"6+6\",\"FY22\"),\n",
    "         (\"Total Activity\", \"Total 401k Revenue\", \"Total Paychex\",\"Total Service Revenue - RW\")]\\\n",
    "    .sum()/1000000"
   ],
   "metadata": {
    "collapsed": false,
    "pycharm": {
     "name": "#%%\n"
    }
   }
  },
  {
   "cell_type": "markdown",
   "source": [
    "## Blended Product Revenue"
   ],
   "metadata": {
    "collapsed": false
   }
  },
  {
   "cell_type": "code",
   "execution_count": 21,
   "outputs": [],
   "source": [
    "df = get_df(blob_service_client, blob_list[4], container= container_name)\\\n",
    "    .reset_index(-1) \\\n",
    "    .rename(columns={'level_3':'period'})\n",
    "\n",
    "    #Correct month\n",
    "df['period'] = df['period']. \\\n",
    "    replace({'\\nJun': 1, '\\nJul': 2, '\\nAug': 3, '\\nSep': 4, '\\nOct': 5, '\\nNov': 6, '\\nDec': 7, '\\nJan': 8,\n",
    "             '\\nFeb': 9, '\\nMar': 10, '\\nApr': 11, '\\nMay': 12, 'YearTotal':0}) \\\n",
    "    .astype('int')"
   ],
   "metadata": {
    "collapsed": false,
    "pycharm": {
     "name": "#%%\n"
    }
   }
  },
  {
   "cell_type": "code",
   "execution_count": 22,
   "outputs": [
    {
     "data": {
      "text/plain": "                                               0.000000\n1-800 SUI SERVICES                            22.280636\nTotal Advantage Blended Products Revenue      27.996336\nTotal Flex Blended Products Revenue         1248.104272\nTotal Preview Blended Products Revenue        28.755500\nName: (Forecast, 6+6, FY22), dtype: float64"
     },
     "execution_count": 22,
     "metadata": {},
     "output_type": "execute_result"
    }
   ],
   "source": [
    "df[df['period']==0]\\\n",
    "    .loc[(\"Forecast\",\"6+6\",\"FY22\"),:].groupby(level=1).sum()/1000000"
   ],
   "metadata": {
    "collapsed": false,
    "pycharm": {
     "name": "#%%\n"
    }
   }
  },
  {
   "cell_type": "code",
   "execution_count": 27,
   "outputs": [],
   "source": [
    "df[\"Total Activity\", \"Total Flex Blended Products Revenue\", \"Total\",\"Total\"] = df[\"Total Activity\"].sum(axis=1)"
   ],
   "metadata": {
    "collapsed": false,
    "pycharm": {
     "name": "#%%\n"
    }
   }
  },
  {
   "cell_type": "code",
   "execution_count": 28,
   "outputs": [
    {
     "data": {
      "text/plain": "                            period                      Total Activity  \\\n                                   Total Flex Blended Products Revenue   \n                                                            Auburn RSC   \n                                                 FEE REVENUE - NA - RW   \nActual   Final Revised FY15      0                         122970372.0   \n                       FY15      1                           9624260.0   \n                       FY15      2                          11784050.0   \n                       FY15      3                           9592805.0   \n                       FY15      4                           9327331.0   \n...                            ...                                 ...   \nForecast 8+4           FY22      8                                 0.0   \n                       FY22      9                                 0.0   \n                       FY22     10                                 0.0   \n                       FY22     11                                 0.0   \n                       FY22     12                                 0.0   \n\n                                                              \\\n                                                               \n                                                               \n                            FEE REVENUE - CONTRACT PLAN - RW   \nActual   Final Revised FY15                              0.0   \n                       FY15                              0.0   \n                       FY15                              0.0   \n                       FY15                              0.0   \n                       FY15                              0.0   \n...                                                      ...   \nForecast 8+4           FY22                         259200.0   \n                       FY22                         135806.0   \n                       FY22                         182737.0   \n                       FY22                         144785.0   \n                       FY22                         138549.0   \n\n                                                     \\\n                                                      \n                                                      \n                            OTHER REVENUE - NA - RW   \nActual   Final Revised FY15                     0.0   \n                       FY15                     0.0   \n                       FY15                     0.0   \n                       FY15                     0.0   \n                       FY15                     0.0   \n...                                             ...   \nForecast 8+4           FY22                 10350.0   \n                       FY22                     0.0   \n                       FY22                     0.0   \n                       FY22                     0.0   \n                       FY22                     0.0   \n\n                                                           \\\n                                                            \n                                                            \n                            MAINTENANCE REVENUE - NA - RW   \nActual   Final Revised FY15                           0.0   \n                       FY15                           0.0   \n                       FY15                           0.0   \n                       FY15                           0.0   \n                       FY15                           0.0   \n...                                                   ...   \nForecast 8+4           FY22                     8642359.0   \n                       FY22                     6881849.0   \n                       FY22                     8242950.0   \n                       FY22                     6611078.0   \n                       FY22                     6671279.0   \n\n                                                       \\\n                                                        \n                                                        \n                            SALES DISCOUNTS - NA - RW   \nActual   Final Revised FY15               -19984276.0   \n                       FY15                -1477502.0   \n                       FY15                -1816539.0   \n                       FY15                -1455477.0   \n                       FY15                -1432715.0   \n...                                               ...   \nForecast 8+4           FY22                -1393921.0   \n                       FY22                -1092173.0   \n                       FY22                -1297707.0   \n                       FY22                -1038384.0   \n                       FY22                -1055078.0   \n\n                                                                  \\\n                                                                   \n                                                                   \n                            SALES DISCOUNTS - CONTRACT PLAN - RW   \nActual   Final Revised FY15                                  0.0   \n                       FY15                                  0.0   \n                       FY15                                  0.0   \n                       FY15                                  0.0   \n                       FY15                                  0.0   \n...                                                          ...   \nForecast 8+4           FY22                            -229425.0   \n                       FY22                            -119509.0   \n                       FY22                            -160809.0   \n                       FY22                            -127411.0   \n                       FY22                            -121923.0   \n\n                                                   \\\n                                                    \n                                    Rochester RSC   \n                            FEE REVENUE - NA - RW   \nActual   Final Revised FY15           100350899.0   \n                       FY15             7779460.0   \n                       FY15             9589239.0   \n                       FY15             7875457.0   \n                       FY15             7663433.0   \n...                                           ...   \nForecast 8+4           FY22                   0.0   \n                       FY22                   0.0   \n                       FY22                   0.0   \n                       FY22                   0.0   \n                       FY22                   0.0   \n\n                                                              \\\n                                                               \n                                                               \n                            FEE REVENUE - CONTRACT PLAN - RW   \nActual   Final Revised FY15                              0.0   \n                       FY15                              0.0   \n                       FY15                              0.0   \n                       FY15                              0.0   \n                       FY15                              0.0   \n...                                                      ...   \nForecast 8+4           FY22                         181100.0   \n                       FY22                          98472.0   \n                       FY22                         132026.0   \n                       FY22                         104533.0   \n                       FY22                         100222.0   \n\n                                                     ...  \\\n                                                     ...   \n                                                     ...   \n                            OTHER REVENUE - NA - RW  ...   \nActual   Final Revised FY15                     0.0  ...   \n                       FY15                     0.0  ...   \n                       FY15                     0.0  ...   \n                       FY15                     0.0  ...   \n                       FY15                     0.0  ...   \n...                                             ...  ...   \nForecast 8+4           FY22                 13500.0  ...   \n                       FY22                     0.0  ...   \n                       FY22                     0.0  ...   \n                       FY22                     0.0  ...   \n                       FY22                     0.0  ...   \n\n                                                                          \\\n                                       1-800 SUI SERVICES                  \n                                           5062 SUI ADMIN                  \n                            MAINTENANCE REVENUE - NA - RW ACCTRW4500_200   \nActual   Final Revised FY15                           0.0            0.0   \n                       FY15                           0.0            0.0   \n                       FY15                           0.0            0.0   \n                       FY15                           0.0            0.0   \n                       FY15                           0.0            0.0   \n...                                                   ...            ...   \nForecast 8+4           FY22                      962642.0      -172432.0   \n                       FY22                     1610621.0        12880.0   \n                       FY22                     1941268.0      -110092.0   \n                       FY22                     1545015.0        21168.0   \n                       FY22                     1565963.0       108442.0   \n\n                                                                      \\\n                                                                       \n                                                                       \n                            SALES DISCOUNTS - NA - RW ACCTRW4690_200   \nActual   Final Revised FY15                       0.0            0.0   \n                       FY15                       0.0            0.0   \n                       FY15                       0.0            0.0   \n                       FY15                       0.0            0.0   \n                       FY15                       0.0            0.0   \n...                                               ...            ...   \nForecast 8+4           FY22                 -135991.0        24185.0   \n                       FY22                 -163810.0        -1310.0   \n                       FY22                 -197632.0        11208.0   \n                       FY22                 -157446.0        -2157.0   \n                       FY22                 -159737.0       -11062.0   \n\n                                                                 \\\n                            Total Flex Blended Products Revenue   \n                                          Prior Year Adjustment   \n                                                  4050-552 - RW   \nActual   Final Revised FY15                                 0.0   \n                       FY15                                 0.0   \n                       FY15                                 0.0   \n                       FY15                                 0.0   \n                       FY15                                 0.0   \n...                                                         ...   \nForecast 8+4           FY22                                 0.0   \n                       FY22                                 0.0   \n                       FY22                                 0.0   \n                       FY22                                 0.0   \n                       FY22                                 0.0   \n\n                                                     \\\n                                                      \n                                                      \n                            OTHER REVENUE - NA - RW   \nActual   Final Revised FY15                     0.0   \n                       FY15                     0.0   \n                       FY15                     0.0   \n                       FY15                     0.0   \n                       FY15                     0.0   \n...                                             ...   \nForecast 8+4           FY22                     0.0   \n                       FY22                     0.0   \n                       FY22                     0.0   \n                       FY22                     0.0   \n                       FY22                     0.0   \n\n                                                                \\\n                                                                 \n                                                                 \n                            OTHER REVENUE - CONTRACT PLAN - RW   \nActual   Final Revised FY15                                0.0   \n                       FY15                                0.0   \n                       FY15                                0.0   \n                       FY15                                0.0   \n                       FY15                                0.0   \n...                                                        ...   \nForecast 8+4           FY22                                0.0   \n                       FY22                                0.0   \n                       FY22                                0.0   \n                       FY22                                0.0   \n                       FY22                                0.0   \n\n                                                                    \\\n                            Total Preview Blended Products Revenue   \n                                             Prior Year Adjustment   \n                                           OTHER REVENUE - NA - RW   \nActual   Final Revised FY15                                    0.0   \n                       FY15                                    0.0   \n                       FY15                                    0.0   \n                       FY15                                    0.0   \n                       FY15                                    0.0   \n...                                                            ...   \nForecast 8+4           FY22                                    0.0   \n                       FY22                                    0.0   \n                       FY22                                    0.0   \n                       FY22                                    0.0   \n                       FY22                                    0.0   \n\n                                                           \\\n                                                            \n                                                            \n                            MAINTENANCE REVENUE - NA - RW   \nActual   Final Revised FY15                           0.0   \n                       FY15                           0.0   \n                       FY15                           0.0   \n                       FY15                           0.0   \n                       FY15                           0.0   \n...                                                   ...   \nForecast 8+4           FY22                           0.0   \n                       FY22                           0.0   \n                       FY22                           0.0   \n                       FY22                           0.0   \n                       FY22                           0.0   \n\n                                                                 \n                            Total Flex Blended Products Revenue  \n                                                          Total  \n                                                          Total  \nActual   Final Revised FY15                        1.273360e+09  \n                       FY15                        9.963351e+07  \n                       FY15                        1.216197e+08  \n                       FY15                        9.947248e+07  \n                       FY15                        9.419823e+07  \n...                                                         ...  \nForecast 8+4           FY22                        1.038698e+08  \n                       FY22                        1.033605e+08  \n                       FY22                        1.167122e+08  \n                       FY22                        1.020151e+08  \n                       FY22                        1.081643e+08  \n\n[182 rows x 192 columns]",
      "text/html": "<div>\n<style scoped>\n    .dataframe tbody tr th:only-of-type {\n        vertical-align: middle;\n    }\n\n    .dataframe tbody tr th {\n        vertical-align: top;\n    }\n\n    .dataframe thead tr th {\n        text-align: left;\n    }\n</style>\n<table border=\"1\" class=\"dataframe\">\n  <thead>\n    <tr>\n      <th></th>\n      <th></th>\n      <th></th>\n      <th>period</th>\n      <th colspan=\"20\" halign=\"left\">Total Activity</th>\n    </tr>\n    <tr>\n      <th></th>\n      <th></th>\n      <th></th>\n      <th></th>\n      <th colspan=\"9\" halign=\"left\">Total Flex Blended Products Revenue</th>\n      <th>...</th>\n      <th colspan=\"4\" halign=\"left\">1-800 SUI SERVICES</th>\n      <th colspan=\"3\" halign=\"left\">Total Flex Blended Products Revenue</th>\n      <th colspan=\"2\" halign=\"left\">Total Preview Blended Products Revenue</th>\n      <th>Total Flex Blended Products Revenue</th>\n    </tr>\n    <tr>\n      <th></th>\n      <th></th>\n      <th></th>\n      <th></th>\n      <th colspan=\"6\" halign=\"left\">Auburn RSC</th>\n      <th colspan=\"3\" halign=\"left\">Rochester RSC</th>\n      <th>...</th>\n      <th colspan=\"4\" halign=\"left\">5062 SUI ADMIN</th>\n      <th colspan=\"3\" halign=\"left\">Prior Year Adjustment</th>\n      <th colspan=\"2\" halign=\"left\">Prior Year Adjustment</th>\n      <th>Total</th>\n    </tr>\n    <tr>\n      <th></th>\n      <th></th>\n      <th></th>\n      <th></th>\n      <th>FEE REVENUE - NA - RW</th>\n      <th>FEE REVENUE - CONTRACT PLAN - RW</th>\n      <th>OTHER REVENUE - NA - RW</th>\n      <th>MAINTENANCE REVENUE - NA - RW</th>\n      <th>SALES DISCOUNTS - NA - RW</th>\n      <th>SALES DISCOUNTS - CONTRACT PLAN - RW</th>\n      <th>FEE REVENUE - NA - RW</th>\n      <th>FEE REVENUE - CONTRACT PLAN - RW</th>\n      <th>OTHER REVENUE - NA - RW</th>\n      <th>...</th>\n      <th>MAINTENANCE REVENUE - NA - RW</th>\n      <th>ACCTRW4500_200</th>\n      <th>SALES DISCOUNTS - NA - RW</th>\n      <th>ACCTRW4690_200</th>\n      <th>4050-552 - RW</th>\n      <th>OTHER REVENUE - NA - RW</th>\n      <th>OTHER REVENUE - CONTRACT PLAN - RW</th>\n      <th>OTHER REVENUE - NA - RW</th>\n      <th>MAINTENANCE REVENUE - NA - RW</th>\n      <th>Total</th>\n    </tr>\n  </thead>\n  <tbody>\n    <tr>\n      <th rowspan=\"5\" valign=\"top\">Actual</th>\n      <th rowspan=\"5\" valign=\"top\">Final Revised</th>\n      <th>FY15</th>\n      <td>0</td>\n      <td>122970372.0</td>\n      <td>0.0</td>\n      <td>0.0</td>\n      <td>0.0</td>\n      <td>-19984276.0</td>\n      <td>0.0</td>\n      <td>100350899.0</td>\n      <td>0.0</td>\n      <td>0.0</td>\n      <td>...</td>\n      <td>0.0</td>\n      <td>0.0</td>\n      <td>0.0</td>\n      <td>0.0</td>\n      <td>0.0</td>\n      <td>0.0</td>\n      <td>0.0</td>\n      <td>0.0</td>\n      <td>0.0</td>\n      <td>1.273360e+09</td>\n    </tr>\n    <tr>\n      <th>FY15</th>\n      <td>1</td>\n      <td>9624260.0</td>\n      <td>0.0</td>\n      <td>0.0</td>\n      <td>0.0</td>\n      <td>-1477502.0</td>\n      <td>0.0</td>\n      <td>7779460.0</td>\n      <td>0.0</td>\n      <td>0.0</td>\n      <td>...</td>\n      <td>0.0</td>\n      <td>0.0</td>\n      <td>0.0</td>\n      <td>0.0</td>\n      <td>0.0</td>\n      <td>0.0</td>\n      <td>0.0</td>\n      <td>0.0</td>\n      <td>0.0</td>\n      <td>9.963351e+07</td>\n    </tr>\n    <tr>\n      <th>FY15</th>\n      <td>2</td>\n      <td>11784050.0</td>\n      <td>0.0</td>\n      <td>0.0</td>\n      <td>0.0</td>\n      <td>-1816539.0</td>\n      <td>0.0</td>\n      <td>9589239.0</td>\n      <td>0.0</td>\n      <td>0.0</td>\n      <td>...</td>\n      <td>0.0</td>\n      <td>0.0</td>\n      <td>0.0</td>\n      <td>0.0</td>\n      <td>0.0</td>\n      <td>0.0</td>\n      <td>0.0</td>\n      <td>0.0</td>\n      <td>0.0</td>\n      <td>1.216197e+08</td>\n    </tr>\n    <tr>\n      <th>FY15</th>\n      <td>3</td>\n      <td>9592805.0</td>\n      <td>0.0</td>\n      <td>0.0</td>\n      <td>0.0</td>\n      <td>-1455477.0</td>\n      <td>0.0</td>\n      <td>7875457.0</td>\n      <td>0.0</td>\n      <td>0.0</td>\n      <td>...</td>\n      <td>0.0</td>\n      <td>0.0</td>\n      <td>0.0</td>\n      <td>0.0</td>\n      <td>0.0</td>\n      <td>0.0</td>\n      <td>0.0</td>\n      <td>0.0</td>\n      <td>0.0</td>\n      <td>9.947248e+07</td>\n    </tr>\n    <tr>\n      <th>FY15</th>\n      <td>4</td>\n      <td>9327331.0</td>\n      <td>0.0</td>\n      <td>0.0</td>\n      <td>0.0</td>\n      <td>-1432715.0</td>\n      <td>0.0</td>\n      <td>7663433.0</td>\n      <td>0.0</td>\n      <td>0.0</td>\n      <td>...</td>\n      <td>0.0</td>\n      <td>0.0</td>\n      <td>0.0</td>\n      <td>0.0</td>\n      <td>0.0</td>\n      <td>0.0</td>\n      <td>0.0</td>\n      <td>0.0</td>\n      <td>0.0</td>\n      <td>9.419823e+07</td>\n    </tr>\n    <tr>\n      <th>...</th>\n      <th>...</th>\n      <th>...</th>\n      <td>...</td>\n      <td>...</td>\n      <td>...</td>\n      <td>...</td>\n      <td>...</td>\n      <td>...</td>\n      <td>...</td>\n      <td>...</td>\n      <td>...</td>\n      <td>...</td>\n      <td>...</td>\n      <td>...</td>\n      <td>...</td>\n      <td>...</td>\n      <td>...</td>\n      <td>...</td>\n      <td>...</td>\n      <td>...</td>\n      <td>...</td>\n      <td>...</td>\n      <td>...</td>\n    </tr>\n    <tr>\n      <th rowspan=\"5\" valign=\"top\">Forecast</th>\n      <th rowspan=\"5\" valign=\"top\">8+4</th>\n      <th>FY22</th>\n      <td>8</td>\n      <td>0.0</td>\n      <td>259200.0</td>\n      <td>10350.0</td>\n      <td>8642359.0</td>\n      <td>-1393921.0</td>\n      <td>-229425.0</td>\n      <td>0.0</td>\n      <td>181100.0</td>\n      <td>13500.0</td>\n      <td>...</td>\n      <td>962642.0</td>\n      <td>-172432.0</td>\n      <td>-135991.0</td>\n      <td>24185.0</td>\n      <td>0.0</td>\n      <td>0.0</td>\n      <td>0.0</td>\n      <td>0.0</td>\n      <td>0.0</td>\n      <td>1.038698e+08</td>\n    </tr>\n    <tr>\n      <th>FY22</th>\n      <td>9</td>\n      <td>0.0</td>\n      <td>135806.0</td>\n      <td>0.0</td>\n      <td>6881849.0</td>\n      <td>-1092173.0</td>\n      <td>-119509.0</td>\n      <td>0.0</td>\n      <td>98472.0</td>\n      <td>0.0</td>\n      <td>...</td>\n      <td>1610621.0</td>\n      <td>12880.0</td>\n      <td>-163810.0</td>\n      <td>-1310.0</td>\n      <td>0.0</td>\n      <td>0.0</td>\n      <td>0.0</td>\n      <td>0.0</td>\n      <td>0.0</td>\n      <td>1.033605e+08</td>\n    </tr>\n    <tr>\n      <th>FY22</th>\n      <td>10</td>\n      <td>0.0</td>\n      <td>182737.0</td>\n      <td>0.0</td>\n      <td>8242950.0</td>\n      <td>-1297707.0</td>\n      <td>-160809.0</td>\n      <td>0.0</td>\n      <td>132026.0</td>\n      <td>0.0</td>\n      <td>...</td>\n      <td>1941268.0</td>\n      <td>-110092.0</td>\n      <td>-197632.0</td>\n      <td>11208.0</td>\n      <td>0.0</td>\n      <td>0.0</td>\n      <td>0.0</td>\n      <td>0.0</td>\n      <td>0.0</td>\n      <td>1.167122e+08</td>\n    </tr>\n    <tr>\n      <th>FY22</th>\n      <td>11</td>\n      <td>0.0</td>\n      <td>144785.0</td>\n      <td>0.0</td>\n      <td>6611078.0</td>\n      <td>-1038384.0</td>\n      <td>-127411.0</td>\n      <td>0.0</td>\n      <td>104533.0</td>\n      <td>0.0</td>\n      <td>...</td>\n      <td>1545015.0</td>\n      <td>21168.0</td>\n      <td>-157446.0</td>\n      <td>-2157.0</td>\n      <td>0.0</td>\n      <td>0.0</td>\n      <td>0.0</td>\n      <td>0.0</td>\n      <td>0.0</td>\n      <td>1.020151e+08</td>\n    </tr>\n    <tr>\n      <th>FY22</th>\n      <td>12</td>\n      <td>0.0</td>\n      <td>138549.0</td>\n      <td>0.0</td>\n      <td>6671279.0</td>\n      <td>-1055078.0</td>\n      <td>-121923.0</td>\n      <td>0.0</td>\n      <td>100222.0</td>\n      <td>0.0</td>\n      <td>...</td>\n      <td>1565963.0</td>\n      <td>108442.0</td>\n      <td>-159737.0</td>\n      <td>-11062.0</td>\n      <td>0.0</td>\n      <td>0.0</td>\n      <td>0.0</td>\n      <td>0.0</td>\n      <td>0.0</td>\n      <td>1.081643e+08</td>\n    </tr>\n  </tbody>\n</table>\n<p>182 rows × 192 columns</p>\n</div>"
     },
     "execution_count": 28,
     "metadata": {},
     "output_type": "execute_result"
    }
   ],
   "source": [
    "df"
   ],
   "metadata": {
    "collapsed": false,
    "pycharm": {
     "name": "#%%\n"
    }
   }
  },
  {
   "cell_type": "code",
   "execution_count": 29,
   "outputs": [
    {
     "data": {
      "text/plain": "1327.136744"
     },
     "execution_count": 29,
     "metadata": {},
     "output_type": "execute_result"
    }
   ],
   "source": [
    "df[df['period']==0]\\\n",
    "    .loc[(\"Forecast\",\"6+6\",\"FY22\"),\n",
    "         (\"Total Activity\", \"Total Flex Blended Products Revenue\", \"Total\",\"Total\")]/1000000"
   ],
   "metadata": {
    "collapsed": false,
    "pycharm": {
     "name": "#%%\n"
    }
   }
  },
  {
   "cell_type": "code",
   "execution_count": 30,
   "outputs": [
    {
     "name": "stderr",
     "output_type": "stream",
     "text": [
      "C:\\Users\\bruno.gonzalez\\Miniconda3\\envs\\azml\\lib\\site-packages\\pandas\\core\\indexing.py:873: PerformanceWarning: indexing past lexsort depth may impact performance.\n",
      "  return self._getitem_tuple(key)\n"
     ]
    },
    {
     "data": {
      "text/plain": "343.19276"
     },
     "execution_count": 30,
     "metadata": {},
     "output_type": "execute_result"
    }
   ],
   "source": [
    "df[(df['period']<=3)&(df['period']>=1)]\\\n",
    "    .loc[(\"Forecast\",\"6+6\",\"FY22\"),\n",
    "         (\"Total Activity\", \"Total Flex Blended Products Revenue\", \"Total\",\"Total\")].sum()/1000000"
   ],
   "metadata": {
    "collapsed": false,
    "pycharm": {
     "name": "#%%\n"
    }
   }
  },
  {
   "cell_type": "markdown",
   "source": [
    "## International Revenue"
   ],
   "metadata": {
    "collapsed": false
   }
  },
  {
   "cell_type": "code",
   "execution_count": 31,
   "outputs": [],
   "source": [
    "df = get_df(blob_service_client, blob_list[9], container= container_name)"
   ],
   "metadata": {
    "collapsed": false,
    "pycharm": {
     "name": "#%%\n"
    }
   }
  },
  {
   "cell_type": "code",
   "execution_count": 32,
   "outputs": [],
   "source": [
    "df[\"Total Activity\", \"PR PROC\", \"Total\",\"Total\"] = df[\"Total Activity\"].sum(axis=1)"
   ],
   "metadata": {
    "collapsed": false,
    "pycharm": {
     "name": "#%%\n"
    }
   }
  },
  {
   "cell_type": "code",
   "execution_count": 33,
   "outputs": [
    {
     "data": {
      "text/plain": "                            period               Total Activity  \\\n                                                        PR PROC   \n                                   3000 GERMANY GMBH OPERATIONS   \n                                          FEE REVENUE - NA - RW   \nActual   Final Revised FY15      0                   4309124.40   \n                       FY15      1                    369471.91   \n                       FY15      2                    401379.94   \n                       FY15      3                    365608.89   \n                       FY15      4                    314304.69   \n...                            ...                          ...   \nForecast 8+4           FY22      8                     24115.76   \n                       FY22      9                      9530.09   \n                       FY22     10                      8902.97   \n                       FY22     11                      7912.84   \n                       FY22     12                      7506.39   \n\n                                                     \\\n                                                      \n                                                      \n                            OTHER REVENUE - NA - RW   \nActual   Final Revised FY15                    0.00   \n                       FY15                    0.00   \n                       FY15                    0.00   \n                       FY15                    0.00   \n                       FY15                    0.00   \n...                                             ...   \nForecast 8+4           FY22               107274.28   \n                       FY22                20647.05   \n                       FY22                91301.90   \n                       FY22                    0.00   \n                       FY22                    0.00   \n\n                                                           \\\n                                                            \n                                                            \n                            MAINTENANCE REVENUE - NA - RW   \nActual   Final Revised FY15                          0.00   \n                       FY15                          0.00   \n                       FY15                          0.00   \n                       FY15                          0.00   \n                       FY15                          0.00   \n...                                                   ...   \nForecast 8+4           FY22                     547429.63   \n                       FY22                     496008.45   \n                       FY22                     531171.41   \n                       FY22                     522273.28   \n                       FY22                     524802.35   \n\n                                                       \\\n                                                        \n                                                        \n                            SALES DISCOUNTS - NA - RW   \nActual   Final Revised FY15                  -2771.56   \n                       FY15                   -147.56   \n                       FY15                   -278.50   \n                       FY15                   -188.61   \n                       FY15                   -301.66   \n...                                               ...   \nForecast 8+4           FY22                      0.00   \n                       FY22                      0.00   \n                       FY22                      0.00   \n                       FY22                      0.00   \n                       FY22                      0.00   \n\n                                                              \\\n                                                               \n                            3010 GERMANY LOHNDATA OPERATIONS   \n                                       FEE REVENUE - NA - RW   \nActual   Final Revised FY15                       4638931.53   \n                       FY15                        403015.84   \n                       FY15                        406502.33   \n                       FY15                        389431.19   \n                       FY15                        452214.31   \n...                                                      ...   \nForecast 8+4           FY22                         11340.15   \n                       FY22                          9468.98   \n                       FY22                          8081.23   \n                       FY22                          7426.86   \n                       FY22                          8029.59   \n\n                                                     \\\n                                                      \n                                                      \n                            OTHER REVENUE - NA - RW   \nActual   Final Revised FY15                    0.00   \n                       FY15                    0.00   \n                       FY15                    0.00   \n                       FY15                    0.00   \n                       FY15                    0.00   \n...                                             ...   \nForecast 8+4           FY22                76066.46   \n                       FY22                99796.39   \n                       FY22                66529.87   \n                       FY22                    0.00   \n                       FY22                    0.00   \n\n                                                           \\\n                                                            \n                                                            \n                            MAINTENANCE REVENUE - NA - RW   \nActual   Final Revised FY15                          0.00   \n                       FY15                          0.00   \n                       FY15                          0.00   \n                       FY15                          0.00   \n                       FY15                          0.00   \n...                                                   ...   \nForecast 8+4           FY22                     509800.12   \n                       FY22                     475739.64   \n                       FY22                     471822.89   \n                       FY22                     477887.30   \n                       FY22                     485207.71   \n\n                                                                       \\\n                                                                        \n                            3011 GERMANY LOHNDATA SOFTWARE OPERATIONS   \n                                                FEE REVENUE - NA - RW   \nActual   Final Revised FY15                                 553231.73   \n                       FY15                                  35663.45   \n                       FY15                                  47701.41   \n                       FY15                                  46799.91   \n                       FY15                                  68116.82   \n...                                                               ...   \nForecast 8+4           FY22                                      0.00   \n                       FY22                                      0.00   \n                       FY22                                      0.00   \n                       FY22                                      0.00   \n                       FY22                                      0.00   \n\n                                                   ...  \\\n                                                   ...   \n                                                   ...   \n                            SOFTWARE REVENUE - RW  ...   \nActual   Final Revised FY15                  0.00  ...   \n                       FY15                  0.00  ...   \n                       FY15                  0.00  ...   \n                       FY15                  0.00  ...   \n                       FY15                  0.00  ...   \n...                                           ...  ...   \nForecast 8+4           FY22              35744.18  ...   \n                       FY22                  0.00  ...   \n                       FY22                  0.00  ...   \n                       FY22                  0.00  ...   \n                       FY22                  0.00  ...   \n\n                                                           \\\n                                                            \n                                      3325 Dynamics Suite   \n                            MAINTENANCE REVENUE - NA - RW   \nActual   Final Revised FY15                           0.0   \n                       FY15                           0.0   \n                       FY15                           0.0   \n                       FY15                           0.0   \n                       FY15                           0.0   \n...                                                   ...   \nForecast 8+4           FY22                           0.0   \n                       FY22                           0.0   \n                       FY22                           0.0   \n                       FY22                           0.0   \n                       FY22                           0.0   \n\n                                                           \\\n                                                            \n                                    3300 Lessor Group Aps   \n                            MAINTENANCE REVENUE - NA - RW   \nActual   Final Revised FY15                           0.0   \n                       FY15                           0.0   \n                       FY15                           0.0   \n                       FY15                           0.0   \n                       FY15                           0.0   \n...                                                   ...   \nForecast 8+4           FY22                           0.0   \n                       FY22                           0.0   \n                       FY22                           0.0   \n                       FY22                           0.0   \n                       FY22                           0.0   \n\n                                                   \\\n                                                    \n                            3360 Emply Operations   \n                            Revenue Deferral - RW   \nActual   Final Revised FY15                   0.0   \n                       FY15                   0.0   \n                       FY15                   0.0   \n                       FY15                   0.0   \n                       FY15                   0.0   \n...                                           ...   \nForecast 8+4           FY22                   0.0   \n                       FY22                   0.0   \n                       FY22                   0.0   \n                       FY22                   0.0   \n                       FY22                   0.0   \n\n                                                           \\\n                                                            \n                                                            \n                            MAINTENANCE REVENUE - NA - RW   \nActual   Final Revised FY15                           0.0   \n                       FY15                           0.0   \n                       FY15                           0.0   \n                       FY15                           0.0   \n                       FY15                           0.0   \n...                                                   ...   \nForecast 8+4           FY22                           0.0   \n                       FY22                           0.0   \n                       FY22                           0.0   \n                       FY22                           0.0   \n                       FY22                           0.0   \n\n                                                              \\\n                                                               \n                            3370 Emply ApS International Ops   \n                                       SOFTWARE REVENUE - RW   \nActual   Final Revised FY15                              0.0   \n                       FY15                              0.0   \n                       FY15                              0.0   \n                       FY15                              0.0   \n                       FY15                              0.0   \n...                                                      ...   \nForecast 8+4           FY22                              0.0   \n                       FY22                              0.0   \n                       FY22                              0.0   \n                       FY22                              0.0   \n                       FY22                              0.0   \n\n                                                                         \\\n                                            EMPLY                         \n                            3360 Emply Operations                         \n                            FEE REVENUE - NA - RW SOFTWARE REVENUE - RW   \nActual   Final Revised FY15                   0.0                   0.0   \n                       FY15                   0.0                   0.0   \n                       FY15                   0.0                   0.0   \n                       FY15                   0.0                   0.0   \n                       FY15                   0.0                   0.0   \n...                                           ...                   ...   \nForecast 8+4           FY22                   0.0                   0.0   \n                       FY22                   0.0                   0.0   \n                       FY22                   0.0                   0.0   \n                       FY22                   0.0                   0.0   \n                       FY22                   0.0                   0.0   \n\n                                                              \\\n                                                               \n                            3370 Emply ApS International Ops   \n                                       FEE REVENUE - NA - RW   \nActual   Final Revised FY15                              0.0   \n                       FY15                              0.0   \n                       FY15                              0.0   \n                       FY15                              0.0   \n                       FY15                              0.0   \n...                                                      ...   \nForecast 8+4           FY22                              0.0   \n                       FY22                              0.0   \n                       FY22                              0.0   \n                       FY22                              0.0   \n                       FY22                              0.0   \n\n                                                               \n                                                      PR PROC  \n                                                        Total  \n                            SOFTWARE REVENUE - RW       Total  \nActual   Final Revised FY15                  0.00  9498516.10  \n                       FY15                  0.00   808003.64  \n                       FY15                  0.00   855305.18  \n                       FY15                  0.00   801651.38  \n                       FY15                  0.00   834334.16  \n...                                           ...         ...  \nForecast 8+4           FY22             441147.32  5022326.69  \n                       FY22             369620.09  4508991.80  \n                       FY22             396411.17  4532101.45  \n                       FY22             398235.04  4385659.84  \n                       FY22             426850.00  4466756.09  \n\n[182 rows x 33 columns]",
      "text/html": "<div>\n<style scoped>\n    .dataframe tbody tr th:only-of-type {\n        vertical-align: middle;\n    }\n\n    .dataframe tbody tr th {\n        vertical-align: top;\n    }\n\n    .dataframe thead tr th {\n        text-align: left;\n    }\n</style>\n<table border=\"1\" class=\"dataframe\">\n  <thead>\n    <tr>\n      <th></th>\n      <th></th>\n      <th></th>\n      <th>period</th>\n      <th colspan=\"20\" halign=\"left\">Total Activity</th>\n    </tr>\n    <tr>\n      <th></th>\n      <th></th>\n      <th></th>\n      <th></th>\n      <th colspan=\"15\" halign=\"left\">PR PROC</th>\n      <th colspan=\"4\" halign=\"left\">EMPLY</th>\n      <th>PR PROC</th>\n    </tr>\n    <tr>\n      <th></th>\n      <th></th>\n      <th></th>\n      <th></th>\n      <th colspan=\"4\" halign=\"left\">3000 GERMANY GMBH OPERATIONS</th>\n      <th colspan=\"3\" halign=\"left\">3010 GERMANY LOHNDATA OPERATIONS</th>\n      <th colspan=\"2\" halign=\"left\">3011 GERMANY LOHNDATA SOFTWARE OPERATIONS</th>\n      <th>...</th>\n      <th>3325 Dynamics Suite</th>\n      <th>3300 Lessor Group Aps</th>\n      <th colspan=\"2\" halign=\"left\">3360 Emply Operations</th>\n      <th>3370 Emply ApS International Ops</th>\n      <th colspan=\"2\" halign=\"left\">3360 Emply Operations</th>\n      <th colspan=\"2\" halign=\"left\">3370 Emply ApS International Ops</th>\n      <th>Total</th>\n    </tr>\n    <tr>\n      <th></th>\n      <th></th>\n      <th></th>\n      <th></th>\n      <th>FEE REVENUE - NA - RW</th>\n      <th>OTHER REVENUE - NA - RW</th>\n      <th>MAINTENANCE REVENUE - NA - RW</th>\n      <th>SALES DISCOUNTS - NA - RW</th>\n      <th>FEE REVENUE - NA - RW</th>\n      <th>OTHER REVENUE - NA - RW</th>\n      <th>MAINTENANCE REVENUE - NA - RW</th>\n      <th>FEE REVENUE - NA - RW</th>\n      <th>SOFTWARE REVENUE - RW</th>\n      <th>...</th>\n      <th>MAINTENANCE REVENUE - NA - RW</th>\n      <th>MAINTENANCE REVENUE - NA - RW</th>\n      <th>Revenue Deferral - RW</th>\n      <th>MAINTENANCE REVENUE - NA - RW</th>\n      <th>SOFTWARE REVENUE - RW</th>\n      <th>FEE REVENUE - NA - RW</th>\n      <th>SOFTWARE REVENUE - RW</th>\n      <th>FEE REVENUE - NA - RW</th>\n      <th>SOFTWARE REVENUE - RW</th>\n      <th>Total</th>\n    </tr>\n  </thead>\n  <tbody>\n    <tr>\n      <th rowspan=\"5\" valign=\"top\">Actual</th>\n      <th rowspan=\"5\" valign=\"top\">Final Revised</th>\n      <th>FY15</th>\n      <td>0</td>\n      <td>4309124.40</td>\n      <td>0.00</td>\n      <td>0.00</td>\n      <td>-2771.56</td>\n      <td>4638931.53</td>\n      <td>0.00</td>\n      <td>0.00</td>\n      <td>553231.73</td>\n      <td>0.00</td>\n      <td>...</td>\n      <td>0.0</td>\n      <td>0.0</td>\n      <td>0.0</td>\n      <td>0.0</td>\n      <td>0.0</td>\n      <td>0.0</td>\n      <td>0.0</td>\n      <td>0.0</td>\n      <td>0.00</td>\n      <td>9498516.10</td>\n    </tr>\n    <tr>\n      <th>FY15</th>\n      <td>1</td>\n      <td>369471.91</td>\n      <td>0.00</td>\n      <td>0.00</td>\n      <td>-147.56</td>\n      <td>403015.84</td>\n      <td>0.00</td>\n      <td>0.00</td>\n      <td>35663.45</td>\n      <td>0.00</td>\n      <td>...</td>\n      <td>0.0</td>\n      <td>0.0</td>\n      <td>0.0</td>\n      <td>0.0</td>\n      <td>0.0</td>\n      <td>0.0</td>\n      <td>0.0</td>\n      <td>0.0</td>\n      <td>0.00</td>\n      <td>808003.64</td>\n    </tr>\n    <tr>\n      <th>FY15</th>\n      <td>2</td>\n      <td>401379.94</td>\n      <td>0.00</td>\n      <td>0.00</td>\n      <td>-278.50</td>\n      <td>406502.33</td>\n      <td>0.00</td>\n      <td>0.00</td>\n      <td>47701.41</td>\n      <td>0.00</td>\n      <td>...</td>\n      <td>0.0</td>\n      <td>0.0</td>\n      <td>0.0</td>\n      <td>0.0</td>\n      <td>0.0</td>\n      <td>0.0</td>\n      <td>0.0</td>\n      <td>0.0</td>\n      <td>0.00</td>\n      <td>855305.18</td>\n    </tr>\n    <tr>\n      <th>FY15</th>\n      <td>3</td>\n      <td>365608.89</td>\n      <td>0.00</td>\n      <td>0.00</td>\n      <td>-188.61</td>\n      <td>389431.19</td>\n      <td>0.00</td>\n      <td>0.00</td>\n      <td>46799.91</td>\n      <td>0.00</td>\n      <td>...</td>\n      <td>0.0</td>\n      <td>0.0</td>\n      <td>0.0</td>\n      <td>0.0</td>\n      <td>0.0</td>\n      <td>0.0</td>\n      <td>0.0</td>\n      <td>0.0</td>\n      <td>0.00</td>\n      <td>801651.38</td>\n    </tr>\n    <tr>\n      <th>FY15</th>\n      <td>4</td>\n      <td>314304.69</td>\n      <td>0.00</td>\n      <td>0.00</td>\n      <td>-301.66</td>\n      <td>452214.31</td>\n      <td>0.00</td>\n      <td>0.00</td>\n      <td>68116.82</td>\n      <td>0.00</td>\n      <td>...</td>\n      <td>0.0</td>\n      <td>0.0</td>\n      <td>0.0</td>\n      <td>0.0</td>\n      <td>0.0</td>\n      <td>0.0</td>\n      <td>0.0</td>\n      <td>0.0</td>\n      <td>0.00</td>\n      <td>834334.16</td>\n    </tr>\n    <tr>\n      <th>...</th>\n      <th>...</th>\n      <th>...</th>\n      <td>...</td>\n      <td>...</td>\n      <td>...</td>\n      <td>...</td>\n      <td>...</td>\n      <td>...</td>\n      <td>...</td>\n      <td>...</td>\n      <td>...</td>\n      <td>...</td>\n      <td>...</td>\n      <td>...</td>\n      <td>...</td>\n      <td>...</td>\n      <td>...</td>\n      <td>...</td>\n      <td>...</td>\n      <td>...</td>\n      <td>...</td>\n      <td>...</td>\n      <td>...</td>\n    </tr>\n    <tr>\n      <th rowspan=\"5\" valign=\"top\">Forecast</th>\n      <th rowspan=\"5\" valign=\"top\">8+4</th>\n      <th>FY22</th>\n      <td>8</td>\n      <td>24115.76</td>\n      <td>107274.28</td>\n      <td>547429.63</td>\n      <td>0.00</td>\n      <td>11340.15</td>\n      <td>76066.46</td>\n      <td>509800.12</td>\n      <td>0.00</td>\n      <td>35744.18</td>\n      <td>...</td>\n      <td>0.0</td>\n      <td>0.0</td>\n      <td>0.0</td>\n      <td>0.0</td>\n      <td>0.0</td>\n      <td>0.0</td>\n      <td>0.0</td>\n      <td>0.0</td>\n      <td>441147.32</td>\n      <td>5022326.69</td>\n    </tr>\n    <tr>\n      <th>FY22</th>\n      <td>9</td>\n      <td>9530.09</td>\n      <td>20647.05</td>\n      <td>496008.45</td>\n      <td>0.00</td>\n      <td>9468.98</td>\n      <td>99796.39</td>\n      <td>475739.64</td>\n      <td>0.00</td>\n      <td>0.00</td>\n      <td>...</td>\n      <td>0.0</td>\n      <td>0.0</td>\n      <td>0.0</td>\n      <td>0.0</td>\n      <td>0.0</td>\n      <td>0.0</td>\n      <td>0.0</td>\n      <td>0.0</td>\n      <td>369620.09</td>\n      <td>4508991.80</td>\n    </tr>\n    <tr>\n      <th>FY22</th>\n      <td>10</td>\n      <td>8902.97</td>\n      <td>91301.90</td>\n      <td>531171.41</td>\n      <td>0.00</td>\n      <td>8081.23</td>\n      <td>66529.87</td>\n      <td>471822.89</td>\n      <td>0.00</td>\n      <td>0.00</td>\n      <td>...</td>\n      <td>0.0</td>\n      <td>0.0</td>\n      <td>0.0</td>\n      <td>0.0</td>\n      <td>0.0</td>\n      <td>0.0</td>\n      <td>0.0</td>\n      <td>0.0</td>\n      <td>396411.17</td>\n      <td>4532101.45</td>\n    </tr>\n    <tr>\n      <th>FY22</th>\n      <td>11</td>\n      <td>7912.84</td>\n      <td>0.00</td>\n      <td>522273.28</td>\n      <td>0.00</td>\n      <td>7426.86</td>\n      <td>0.00</td>\n      <td>477887.30</td>\n      <td>0.00</td>\n      <td>0.00</td>\n      <td>...</td>\n      <td>0.0</td>\n      <td>0.0</td>\n      <td>0.0</td>\n      <td>0.0</td>\n      <td>0.0</td>\n      <td>0.0</td>\n      <td>0.0</td>\n      <td>0.0</td>\n      <td>398235.04</td>\n      <td>4385659.84</td>\n    </tr>\n    <tr>\n      <th>FY22</th>\n      <td>12</td>\n      <td>7506.39</td>\n      <td>0.00</td>\n      <td>524802.35</td>\n      <td>0.00</td>\n      <td>8029.59</td>\n      <td>0.00</td>\n      <td>485207.71</td>\n      <td>0.00</td>\n      <td>0.00</td>\n      <td>...</td>\n      <td>0.0</td>\n      <td>0.0</td>\n      <td>0.0</td>\n      <td>0.0</td>\n      <td>0.0</td>\n      <td>0.0</td>\n      <td>0.0</td>\n      <td>0.0</td>\n      <td>426850.00</td>\n      <td>4466756.09</td>\n    </tr>\n  </tbody>\n</table>\n<p>182 rows × 33 columns</p>\n</div>"
     },
     "execution_count": 33,
     "metadata": {},
     "output_type": "execute_result"
    }
   ],
   "source": [
    "df"
   ],
   "metadata": {
    "collapsed": false,
    "pycharm": {
     "name": "#%%\n"
    }
   }
  },
  {
   "cell_type": "code",
   "execution_count": 34,
   "outputs": [
    {
     "data": {
      "text/plain": "54.453345230000004"
     },
     "execution_count": 34,
     "metadata": {},
     "output_type": "execute_result"
    }
   ],
   "source": [
    "df[df['period']==0]\\\n",
    "    .loc[(\"Forecast\",\"6+6\",\"FY22\"),\n",
    "         (\"Total Activity\", \"PR PROC\", \"Total\",\"Total\")]/1000000"
   ],
   "metadata": {
    "collapsed": false,
    "pycharm": {
     "name": "#%%\n"
    }
   }
  },
  {
   "cell_type": "code",
   "execution_count": 35,
   "outputs": [
    {
     "name": "stderr",
     "output_type": "stream",
     "text": [
      "C:\\Users\\bruno.gonzalez\\Miniconda3\\envs\\azml\\lib\\site-packages\\pandas\\core\\indexing.py:873: PerformanceWarning: indexing past lexsort depth may impact performance.\n",
      "  return self._getitem_tuple(key)\n"
     ]
    },
    {
     "data": {
      "text/plain": "13.45463304"
     },
     "execution_count": 35,
     "metadata": {},
     "output_type": "execute_result"
    }
   ],
   "source": [
    "df[(df['period']<=3)&(df['period']>=1)]\\\n",
    "    .loc[(\"Forecast\",\"6+6\",\"FY22\"),\n",
    "         (\"Total Activity\", \"PR PROC\", \"Total\",\"Total\")].sum()/1000000"
   ],
   "metadata": {
    "collapsed": false,
    "pycharm": {
     "name": "#%%\n"
    }
   }
  },
  {
   "cell_type": "markdown",
   "source": [
    "## Online Revenue"
   ],
   "metadata": {
    "collapsed": false
   }
  },
  {
   "cell_type": "code",
   "execution_count": 36,
   "outputs": [],
   "source": [
    "df = get_df(blob_service_client, blob_list[11], container= container_name)"
   ],
   "metadata": {
    "collapsed": false,
    "pycharm": {
     "name": "#%%\n"
    }
   }
  },
  {
   "cell_type": "code",
   "execution_count": 37,
   "outputs": [
    {
     "data": {
      "text/plain": "                            period             Total Activity  \\\n                                            Total Online Svcs   \n                                                Total Paychex   \n                                   Total Service Revenue - RW   \nActual   Final Revised FY15      0                114466739.0   \n                       FY15      1                  8581821.0   \n                       FY15      2                  9700908.0   \n                       FY15      3                  8726405.0   \n                       FY15      4                  8945846.0   \n...                            ...                        ...   \nForecast 8+4           FY22      8                 17506095.0   \n                       FY22      9                 16548145.0   \n                       FY22     10                 18121060.0   \n                       FY22     11                 16694979.0   \n                       FY22     12                 16792778.0   \n\n                                                         \\\n                            Total HRS HR Online Revenue   \n                                          Total Paychex   \n                             Total Service Revenue - RW   \nActual   Final Revised FY15                  51822600.0   \n                       FY15                   3930005.0   \n                       FY15                   4535022.0   \n                       FY15                   3869726.0   \n                       FY15                   3847567.0   \n...                                                 ...   \nForecast 8+4           FY22                   4809976.0   \n                       FY22                   4426981.0   \n                       FY22                   5077572.0   \n                       FY22                   4366180.0   \n                       FY22                   4419842.0   \n\n                                                        \\\n                                     HR Online Revenue   \n                                         Total Paychex   \n                            Total Service Revenue - RW   \nActual   Final Revised FY15                        0.0   \n                       FY15                        0.0   \n                       FY15                        0.0   \n                       FY15                        0.0   \n                       FY15                        0.0   \n...                                                ...   \nForecast 8+4           FY22                  1631484.0   \n                       FY22                  1541484.0   \n                       FY22                  1870916.0   \n                       FY22                  1473007.0   \n                       FY22                  1424429.0   \n\n                                                        \\\n                                       MSP/LMS Revenue   \n                                         Total Paychex   \n                            Total Service Revenue - RW   \nActual   Final Revised FY15                        0.0   \n                       FY15                        0.0   \n                       FY15                        0.0   \n                       FY15                        0.0   \n                       FY15                        0.0   \n...                                                ...   \nForecast 8+4           FY22                  3178492.0   \n                       FY22                  2885497.0   \n                       FY22                  3206657.0   \n                       FY22                  2893173.0   \n                       FY22                  2995413.0   \n\n                                                                               \\\n                            Total Time in a Box/TLO Revenue Total Online Svcs   \n                                              Total Paychex     Total Paychex   \n                                 Total Service Revenue - RW       Losses - RW   \nActual   Final Revised FY15                      62644139.0           -2747.0   \n                       FY15                       4651816.0            -176.0   \n                       FY15                       5165885.0            -294.0   \n                       FY15                       4856678.0            -199.0   \n                       FY15                       5098279.0            -171.0   \n...                                                     ...               ...   \nForecast 8+4           FY22                      12696119.0            -680.0   \n                       FY22                      12121164.0            -682.0   \n                       FY22                      13043487.0            -660.0   \n                       FY22                      12328800.0            -594.0   \n                       FY22                      12372935.0            -455.0   \n\n                                                                           \\\n                            Total HRS HR Online Revenue HR Online Revenue   \n                                          Total Paychex     Total Paychex   \n                                            Losses - RW       Losses - RW   \nActual   Final Revised FY15                      -949.0               0.0   \n                       FY15                       -52.0               0.0   \n                       FY15                      -126.0               0.0   \n                       FY15                       -84.0               0.0   \n                       FY15                       -65.0               0.0   \n...                                                 ...               ...   \nForecast 8+4           FY22                      -340.0             -12.0   \n                       FY22                      -369.0             -26.0   \n                       FY22                      -403.0              -8.0   \n                       FY22                      -372.0             -34.0   \n                       FY22                      -264.0             -11.0   \n\n                                             ...                          \\\n                            MSP/LMS Revenue  ...       HR Online Revenue   \n                              Total Paychex  ...           Total Paychex   \n                                Losses - RW  ... Ending Client Base - RW   \nActual   Final Revised FY15             0.0  ...                     0.0   \n                       FY15             0.0  ...                     0.0   \n                       FY15             0.0  ...                     0.0   \n                       FY15             0.0  ...                     0.0   \n                       FY15             0.0  ...                     0.0   \n...                                     ...  ...                     ...   \nForecast 8+4           FY22          -328.0  ...                   915.0   \n                       FY22          -343.0  ...                  1026.0   \n                       FY22          -395.0  ...                  1163.0   \n                       FY22          -338.0  ...                  1267.0   \n                       FY22          -253.0  ...                  1392.0   \n\n                                                     \\\n                                    MSP/LMS Revenue   \n                                      Total Paychex   \n                            Ending Client Base - RW   \nActual   Final Revised FY15                     0.0   \n                       FY15                     0.0   \n                       FY15                     0.0   \n                       FY15                     0.0   \n                       FY15                     0.0   \n...                                             ...   \nForecast 8+4           FY22                 15956.0   \n                       FY22                 16120.0   \n                       FY22                 16266.0   \n                       FY22                 16416.0   \n                       FY22                 16806.0   \n\n                                                             \\\n                            Total Time in a Box/TLO Revenue   \n                                              Total Paychex   \n                                    Ending Client Base - RW   \nActual   Final Revised FY15                          7174.0   \n                       FY15                          7604.0   \n                       FY15                          7565.0   \n                       FY15                          7553.0   \n                       FY15                          7544.0   \n...                                                     ...   \nForecast 8+4           FY22                         10839.0   \n                       FY22                         11686.0   \n                       FY22                         12882.0   \n                       FY22                         13800.0   \n                       FY22                         14695.0   \n\n                                                           \\\n                                        Total Online Svcs   \n                                            Total Paychex   \n                            Set Up Rate - Calculated - RW   \nActual   Final Revised FY15                           0.0   \n                       FY15                           0.0   \n                       FY15                           0.0   \n                       FY15                           0.0   \n                       FY15                           0.0   \n...                                                   ...   \nForecast 8+4           FY22                           0.0   \n                       FY22                           0.0   \n                       FY22                           0.0   \n                       FY22                           0.0   \n                       FY22                           0.0   \n\n                                                             \\\n                            Total Time in a Box/TLO Revenue   \n                                              Total Paychex   \n                              Set Up Rate - Calculated - RW   \nActual   Final Revised FY15                             0.0   \n                       FY15                             0.0   \n                       FY15                             0.0   \n                       FY15                             0.0   \n                       FY15                             0.0   \n...                                                     ...   \nForecast 8+4           FY22                             0.0   \n                       FY22                             0.0   \n                       FY22                             0.0   \n                       FY22                             0.0   \n                       FY22                             0.0   \n\n                                                                \\\n                                             Total Online Svcs   \n                                                 Total Paychex   \n                            Maintenance Rate - Calculated - RW   \nActual   Final Revised FY15                              388.0   \n                       FY15                              353.0   \n                       FY15                              403.0   \n                       FY15                              345.0   \n                       FY15                              335.0   \n...                                                        ...   \nForecast 8+4           FY22                              517.0   \n                       FY22                              159.0   \n                       FY22                              174.0   \n                       FY22                              144.0   \n                       FY22                              137.0   \n\n                                                                \\\n                                   Total HRS HR Online Revenue   \n                                                 Total Paychex   \n                            Maintenance Rate - Calculated - RW   \nActual   Final Revised FY15                              793.0   \n                       FY15                              739.0   \n                       FY15                              850.0   \n                       FY15                              724.0   \n                       FY15                              698.0   \n...                                                        ...   \nForecast 8+4           FY22                              371.0   \n                       FY22                              268.0   \n                       FY22                              303.0   \n                       FY22                              256.0   \n                       FY22                              247.0   \n\n                                                                \\\n                                             HR Online Revenue   \n                                                 Total Paychex   \n                            Maintenance Rate - Calculated - RW   \nActual   Final Revised FY15                                0.0   \n                       FY15                                0.0   \n                       FY15                                0.0   \n                       FY15                                0.0   \n                       FY15                                0.0   \n...                                                        ...   \nForecast 8+4           FY22                             2384.0   \n                       FY22                             1925.0   \n                       FY22                             2062.0   \n                       FY22                             1489.0   \n                       FY22                             1311.0   \n\n                                                                \\\n                                               MSP/LMS Revenue   \n                                                 Total Paychex   \n                            Maintenance Rate - Calculated - RW   \nActual   Final Revised FY15                                0.0   \n                       FY15                                0.0   \n                       FY15                                0.0   \n                       FY15                                0.0   \n                       FY15                                0.0   \n...                                                        ...   \nForecast 8+4           FY22                              256.0   \n                       FY22                              163.0   \n                       FY22                              178.0   \n                       FY22                              161.0   \n                       FY22                              159.0   \n\n                                                                \n                               Total Time in a Box/TLO Revenue  \n                                                 Total Paychex  \n                            Maintenance Rate - Calculated - RW  \nActual   Final Revised FY15                               25.0  \n                       FY15                               27.0  \n                       FY15                               26.0  \n                       FY15                               25.0  \n                       FY15                               25.0  \n...                                                        ...  \nForecast 8+4           FY22                              744.0  \n                       FY22                                0.0  \n                       FY22                                0.0  \n                       FY22                                0.0  \n                       FY22                                0.0  \n\n[182 rows x 28 columns]",
      "text/html": "<div>\n<style scoped>\n    .dataframe tbody tr th:only-of-type {\n        vertical-align: middle;\n    }\n\n    .dataframe tbody tr th {\n        vertical-align: top;\n    }\n\n    .dataframe thead tr th {\n        text-align: left;\n    }\n</style>\n<table border=\"1\" class=\"dataframe\">\n  <thead>\n    <tr>\n      <th></th>\n      <th></th>\n      <th></th>\n      <th>period</th>\n      <th colspan=\"20\" halign=\"left\">Total Activity</th>\n    </tr>\n    <tr>\n      <th></th>\n      <th></th>\n      <th></th>\n      <th></th>\n      <th>Total Online Svcs</th>\n      <th>Total HRS HR Online Revenue</th>\n      <th>HR Online Revenue</th>\n      <th>MSP/LMS Revenue</th>\n      <th>Total Time in a Box/TLO Revenue</th>\n      <th>Total Online Svcs</th>\n      <th>Total HRS HR Online Revenue</th>\n      <th>HR Online Revenue</th>\n      <th>MSP/LMS Revenue</th>\n      <th>...</th>\n      <th>HR Online Revenue</th>\n      <th>MSP/LMS Revenue</th>\n      <th>Total Time in a Box/TLO Revenue</th>\n      <th>Total Online Svcs</th>\n      <th>Total Time in a Box/TLO Revenue</th>\n      <th>Total Online Svcs</th>\n      <th>Total HRS HR Online Revenue</th>\n      <th>HR Online Revenue</th>\n      <th>MSP/LMS Revenue</th>\n      <th>Total Time in a Box/TLO Revenue</th>\n    </tr>\n    <tr>\n      <th></th>\n      <th></th>\n      <th></th>\n      <th></th>\n      <th>Total Paychex</th>\n      <th>Total Paychex</th>\n      <th>Total Paychex</th>\n      <th>Total Paychex</th>\n      <th>Total Paychex</th>\n      <th>Total Paychex</th>\n      <th>Total Paychex</th>\n      <th>Total Paychex</th>\n      <th>Total Paychex</th>\n      <th>...</th>\n      <th>Total Paychex</th>\n      <th>Total Paychex</th>\n      <th>Total Paychex</th>\n      <th>Total Paychex</th>\n      <th>Total Paychex</th>\n      <th>Total Paychex</th>\n      <th>Total Paychex</th>\n      <th>Total Paychex</th>\n      <th>Total Paychex</th>\n      <th>Total Paychex</th>\n    </tr>\n    <tr>\n      <th></th>\n      <th></th>\n      <th></th>\n      <th></th>\n      <th>Total Service Revenue - RW</th>\n      <th>Total Service Revenue - RW</th>\n      <th>Total Service Revenue - RW</th>\n      <th>Total Service Revenue - RW</th>\n      <th>Total Service Revenue - RW</th>\n      <th>Losses - RW</th>\n      <th>Losses - RW</th>\n      <th>Losses - RW</th>\n      <th>Losses - RW</th>\n      <th>...</th>\n      <th>Ending Client Base - RW</th>\n      <th>Ending Client Base - RW</th>\n      <th>Ending Client Base - RW</th>\n      <th>Set Up Rate - Calculated - RW</th>\n      <th>Set Up Rate - Calculated - RW</th>\n      <th>Maintenance Rate - Calculated - RW</th>\n      <th>Maintenance Rate - Calculated - RW</th>\n      <th>Maintenance Rate - Calculated - RW</th>\n      <th>Maintenance Rate - Calculated - RW</th>\n      <th>Maintenance Rate - Calculated - RW</th>\n    </tr>\n  </thead>\n  <tbody>\n    <tr>\n      <th rowspan=\"5\" valign=\"top\">Actual</th>\n      <th rowspan=\"5\" valign=\"top\">Final Revised</th>\n      <th>FY15</th>\n      <td>0</td>\n      <td>114466739.0</td>\n      <td>51822600.0</td>\n      <td>0.0</td>\n      <td>0.0</td>\n      <td>62644139.0</td>\n      <td>-2747.0</td>\n      <td>-949.0</td>\n      <td>0.0</td>\n      <td>0.0</td>\n      <td>...</td>\n      <td>0.0</td>\n      <td>0.0</td>\n      <td>7174.0</td>\n      <td>0.0</td>\n      <td>0.0</td>\n      <td>388.0</td>\n      <td>793.0</td>\n      <td>0.0</td>\n      <td>0.0</td>\n      <td>25.0</td>\n    </tr>\n    <tr>\n      <th>FY15</th>\n      <td>1</td>\n      <td>8581821.0</td>\n      <td>3930005.0</td>\n      <td>0.0</td>\n      <td>0.0</td>\n      <td>4651816.0</td>\n      <td>-176.0</td>\n      <td>-52.0</td>\n      <td>0.0</td>\n      <td>0.0</td>\n      <td>...</td>\n      <td>0.0</td>\n      <td>0.0</td>\n      <td>7604.0</td>\n      <td>0.0</td>\n      <td>0.0</td>\n      <td>353.0</td>\n      <td>739.0</td>\n      <td>0.0</td>\n      <td>0.0</td>\n      <td>27.0</td>\n    </tr>\n    <tr>\n      <th>FY15</th>\n      <td>2</td>\n      <td>9700908.0</td>\n      <td>4535022.0</td>\n      <td>0.0</td>\n      <td>0.0</td>\n      <td>5165885.0</td>\n      <td>-294.0</td>\n      <td>-126.0</td>\n      <td>0.0</td>\n      <td>0.0</td>\n      <td>...</td>\n      <td>0.0</td>\n      <td>0.0</td>\n      <td>7565.0</td>\n      <td>0.0</td>\n      <td>0.0</td>\n      <td>403.0</td>\n      <td>850.0</td>\n      <td>0.0</td>\n      <td>0.0</td>\n      <td>26.0</td>\n    </tr>\n    <tr>\n      <th>FY15</th>\n      <td>3</td>\n      <td>8726405.0</td>\n      <td>3869726.0</td>\n      <td>0.0</td>\n      <td>0.0</td>\n      <td>4856678.0</td>\n      <td>-199.0</td>\n      <td>-84.0</td>\n      <td>0.0</td>\n      <td>0.0</td>\n      <td>...</td>\n      <td>0.0</td>\n      <td>0.0</td>\n      <td>7553.0</td>\n      <td>0.0</td>\n      <td>0.0</td>\n      <td>345.0</td>\n      <td>724.0</td>\n      <td>0.0</td>\n      <td>0.0</td>\n      <td>25.0</td>\n    </tr>\n    <tr>\n      <th>FY15</th>\n      <td>4</td>\n      <td>8945846.0</td>\n      <td>3847567.0</td>\n      <td>0.0</td>\n      <td>0.0</td>\n      <td>5098279.0</td>\n      <td>-171.0</td>\n      <td>-65.0</td>\n      <td>0.0</td>\n      <td>0.0</td>\n      <td>...</td>\n      <td>0.0</td>\n      <td>0.0</td>\n      <td>7544.0</td>\n      <td>0.0</td>\n      <td>0.0</td>\n      <td>335.0</td>\n      <td>698.0</td>\n      <td>0.0</td>\n      <td>0.0</td>\n      <td>25.0</td>\n    </tr>\n    <tr>\n      <th>...</th>\n      <th>...</th>\n      <th>...</th>\n      <td>...</td>\n      <td>...</td>\n      <td>...</td>\n      <td>...</td>\n      <td>...</td>\n      <td>...</td>\n      <td>...</td>\n      <td>...</td>\n      <td>...</td>\n      <td>...</td>\n      <td>...</td>\n      <td>...</td>\n      <td>...</td>\n      <td>...</td>\n      <td>...</td>\n      <td>...</td>\n      <td>...</td>\n      <td>...</td>\n      <td>...</td>\n      <td>...</td>\n      <td>...</td>\n    </tr>\n    <tr>\n      <th rowspan=\"5\" valign=\"top\">Forecast</th>\n      <th rowspan=\"5\" valign=\"top\">8+4</th>\n      <th>FY22</th>\n      <td>8</td>\n      <td>17506095.0</td>\n      <td>4809976.0</td>\n      <td>1631484.0</td>\n      <td>3178492.0</td>\n      <td>12696119.0</td>\n      <td>-680.0</td>\n      <td>-340.0</td>\n      <td>-12.0</td>\n      <td>-328.0</td>\n      <td>...</td>\n      <td>915.0</td>\n      <td>15956.0</td>\n      <td>10839.0</td>\n      <td>0.0</td>\n      <td>0.0</td>\n      <td>517.0</td>\n      <td>371.0</td>\n      <td>2384.0</td>\n      <td>256.0</td>\n      <td>744.0</td>\n    </tr>\n    <tr>\n      <th>FY22</th>\n      <td>9</td>\n      <td>16548145.0</td>\n      <td>4426981.0</td>\n      <td>1541484.0</td>\n      <td>2885497.0</td>\n      <td>12121164.0</td>\n      <td>-682.0</td>\n      <td>-369.0</td>\n      <td>-26.0</td>\n      <td>-343.0</td>\n      <td>...</td>\n      <td>1026.0</td>\n      <td>16120.0</td>\n      <td>11686.0</td>\n      <td>0.0</td>\n      <td>0.0</td>\n      <td>159.0</td>\n      <td>268.0</td>\n      <td>1925.0</td>\n      <td>163.0</td>\n      <td>0.0</td>\n    </tr>\n    <tr>\n      <th>FY22</th>\n      <td>10</td>\n      <td>18121060.0</td>\n      <td>5077572.0</td>\n      <td>1870916.0</td>\n      <td>3206657.0</td>\n      <td>13043487.0</td>\n      <td>-660.0</td>\n      <td>-403.0</td>\n      <td>-8.0</td>\n      <td>-395.0</td>\n      <td>...</td>\n      <td>1163.0</td>\n      <td>16266.0</td>\n      <td>12882.0</td>\n      <td>0.0</td>\n      <td>0.0</td>\n      <td>174.0</td>\n      <td>303.0</td>\n      <td>2062.0</td>\n      <td>178.0</td>\n      <td>0.0</td>\n    </tr>\n    <tr>\n      <th>FY22</th>\n      <td>11</td>\n      <td>16694979.0</td>\n      <td>4366180.0</td>\n      <td>1473007.0</td>\n      <td>2893173.0</td>\n      <td>12328800.0</td>\n      <td>-594.0</td>\n      <td>-372.0</td>\n      <td>-34.0</td>\n      <td>-338.0</td>\n      <td>...</td>\n      <td>1267.0</td>\n      <td>16416.0</td>\n      <td>13800.0</td>\n      <td>0.0</td>\n      <td>0.0</td>\n      <td>144.0</td>\n      <td>256.0</td>\n      <td>1489.0</td>\n      <td>161.0</td>\n      <td>0.0</td>\n    </tr>\n    <tr>\n      <th>FY22</th>\n      <td>12</td>\n      <td>16792778.0</td>\n      <td>4419842.0</td>\n      <td>1424429.0</td>\n      <td>2995413.0</td>\n      <td>12372935.0</td>\n      <td>-455.0</td>\n      <td>-264.0</td>\n      <td>-11.0</td>\n      <td>-253.0</td>\n      <td>...</td>\n      <td>1392.0</td>\n      <td>16806.0</td>\n      <td>14695.0</td>\n      <td>0.0</td>\n      <td>0.0</td>\n      <td>137.0</td>\n      <td>247.0</td>\n      <td>1311.0</td>\n      <td>159.0</td>\n      <td>0.0</td>\n    </tr>\n  </tbody>\n</table>\n<p>182 rows × 28 columns</p>\n</div>"
     },
     "execution_count": 37,
     "metadata": {},
     "output_type": "execute_result"
    }
   ],
   "source": [
    "df"
   ],
   "metadata": {
    "collapsed": false,
    "pycharm": {
     "name": "#%%\n"
    }
   }
  },
  {
   "cell_type": "code",
   "execution_count": 38,
   "outputs": [],
   "source": [
    "df[\"Total Activity\", \"Total Online Svcs\", \"Total\",\"Total\"] = df[\"Total Activity\"].sum(axis=1)"
   ],
   "metadata": {
    "collapsed": false,
    "pycharm": {
     "name": "#%%\n"
    }
   }
  },
  {
   "cell_type": "code",
   "execution_count": 39,
   "outputs": [
    {
     "data": {
      "text/plain": "202.755855"
     },
     "execution_count": 39,
     "metadata": {},
     "output_type": "execute_result"
    }
   ],
   "source": [
    "df[df['period']==0]\\\n",
    "    .loc[(\"Forecast\",\"6+6\",\"FY22\"),\n",
    "         (\"Total Activity\",\"Total Online Svcs\", \"Total Paychex\", \"Total Service Revenue - RW\")]/1000000"
   ],
   "metadata": {
    "collapsed": false,
    "pycharm": {
     "name": "#%%\n"
    }
   }
  },
  {
   "cell_type": "code",
   "execution_count": 40,
   "outputs": [
    {
     "name": "stderr",
     "output_type": "stream",
     "text": [
      "C:\\Users\\bruno.gonzalez\\Miniconda3\\envs\\azml\\lib\\site-packages\\pandas\\core\\indexing.py:873: PerformanceWarning: indexing past lexsort depth may impact performance.\n",
      "  return self._getitem_tuple(key)\n"
     ]
    },
    {
     "data": {
      "text/plain": "49.760486"
     },
     "execution_count": 40,
     "metadata": {},
     "output_type": "execute_result"
    }
   ],
   "source": [
    "df[(df['period']<=3)&(df['period']>=1)]\\\n",
    "    .loc[(\"Forecast\",\"6+6\",\"FY22\"),\n",
    "         (\"Total Activity\", \"Total Online Svcs\", \"Total Paychex\",\"Total Service Revenue - RW\")]\\\n",
    "    .sum()/1000000"
   ],
   "metadata": {
    "collapsed": false,
    "pycharm": {
     "name": "#%%\n"
    }
   }
  },
  {
   "cell_type": "markdown",
   "source": [
    "## Payroll sure"
   ],
   "metadata": {
    "collapsed": false
   }
  },
  {
   "cell_type": "code",
   "execution_count": 14,
   "outputs": [],
   "source": [
    "df = get_df(blob_service_client, blob_list[18], container= container_name)\\\n",
    "    .reset_index(-1)\\\n",
    "    .rename(columns={'level_3':'period'})\n",
    "\n",
    "#Correct month\n",
    "df['period'] = df['period']\\\n",
    "    .replace({'\\nJun': 1, '\\nJul': 2, '\\nAug': 3, '\\nSep': 4, '\\nOct': 5, '\\nNov': 6, '\\nDec': 7, '\\nJan': 8,\n",
    "              '\\nFeb': 9, '\\nMar': 10, '\\nApr': 11, '\\nMay': 12, 'YearTotal':0})\\\n",
    "    .astype('int')"
   ],
   "metadata": {
    "collapsed": false,
    "pycharm": {
     "name": "#%%\n"
    }
   }
  },
  {
   "cell_type": "code",
   "execution_count": 15,
   "outputs": [
    {
     "data": {
      "text/plain": "                            period                 Total Activity  \\\n                                   Total Blended Products Revenue   \n                                                 TOTAL OPERATIONS   \n                                       Total Service Revenue - RW   \nActual   Final Revised FY15      0                   1.236516e+09   \n                       FY15      1                   9.667424e+07   \n                       FY15      2                   1.179775e+08   \n                       FY15      3                   9.652404e+07   \n                       FY15      4                   9.144132e+07   \n...                            ...                            ...   \nForecast 8+4           FY22      8                   1.023767e+08   \n                       FY22      9                   1.019021e+08   \n                       FY22     10                   1.150675e+08   \n                       FY22     11                   1.006085e+08   \n                       FY22     12                   1.066607e+08   \n\n                                                        \\\n                                                         \n                                              CONS HRS   \n                            Total Service Revenue - RW   \nActual   Final Revised FY15                36844499.25   \n                       FY15                 2959275.81   \n                       FY15                 3642193.13   \n                       FY15                 2948438.56   \n                       FY15                 2756906.24   \n...                                                ...   \nForecast 8+4           FY22                 1493093.88   \n                       FY22                 1458381.65   \n                       FY22                 1644751.31   \n                       FY22                 1406579.87   \n                       FY22                 1503605.89   \n\n                                                        \\\n                                                         \n                                 Prior Year Adjustment   \n                            Total Service Revenue - RW   \nActual   Final Revised FY15                        0.0   \n                       FY15                        0.0   \n                       FY15                        0.0   \n                       FY15                        0.0   \n                       FY15                        0.0   \n...                                                ...   \nForecast 8+4           FY22                        0.0   \n                       FY22                        0.0   \n                       FY22                        0.0   \n                       FY22                        0.0   \n                       FY22                        0.0   \n\n                                                        \\\n                                Total Delivery Revenue   \n                                      TOTAL OPERATIONS   \n                            Total Service Revenue - RW   \nActual   Final Revised FY15               1.186875e+08   \n                       FY15               7.393352e+06   \n                       FY15               1.351374e+07   \n                       FY15               7.286967e+06   \n                       FY15               7.081862e+06   \n...                                                ...   \nForecast 8+4           FY22               2.243552e+07   \n                       FY22               6.683674e+06   \n                       FY22               7.556914e+06   \n                       FY22               1.094369e+07   \n                       FY22               7.961770e+06   \n\n                                                        \\\n                                                         \n                                              CONS HRS   \n                            Total Service Revenue - RW   \nActual   Final Revised FY15                        0.0   \n                       FY15                        0.0   \n                       FY15                        0.0   \n                       FY15                        0.0   \n                       FY15                        0.0   \n...                                                ...   \nForecast 8+4           FY22                        0.0   \n                       FY22                        0.0   \n                       FY22                        0.0   \n                       FY22                        0.0   \n                       FY22                        0.0   \n\n                                                            \\\n                            Total Other Processing Revenue   \n                                          TOTAL OPERATIONS   \n                                Total Service Revenue - RW   \nActual   Final Revised FY15                    63488855.55   \n                       FY15                     4765775.19   \n                       FY15                     6502729.54   \n                       FY15                     4215268.17   \n                       FY15                     4726806.24   \n...                                                    ...   \nForecast 8+4           FY22                    20866313.40   \n                       FY22                    14110893.97   \n                       FY22                    12680918.38   \n                       FY22                    10225582.63   \n                       FY22                     6506572.85   \n\n                                                        \\\n                                                         \n                                 Prior Year Adjustment   \n                            Total Service Revenue - RW   \nActual   Final Revised FY15                        0.0   \n                       FY15                        0.0   \n                       FY15                        0.0   \n                       FY15                        0.0   \n                       FY15                        0.0   \n...                                                ...   \nForecast 8+4           FY22                        0.0   \n                       FY22                        0.0   \n                       FY22                        0.0   \n                       FY22                        0.0   \n                       FY22                        0.0   \n\n                                                        \\\n                                     Total W-2 Revenue   \n                                      TOTAL OPERATIONS   \n                            Total Service Revenue - RW   \nActual   Final Revised FY15                90768981.49   \n                       FY15                 7031234.09   \n                       FY15                 7325377.82   \n                       FY15                 7443620.46   \n                       FY15                 7414842.11   \n...                                                ...   \nForecast 8+4           FY22                81544421.44   \n                       FY22                   87571.97   \n                       FY22                  -43001.29   \n                       FY22                   44811.43   \n                       FY22                  113783.77   \n\n                                                        ...  \\\n                                                        ...   \n                                 Prior Year Adjustment  ...   \n                            Total Service Revenue - RW  ...   \nActual   Final Revised FY15                        0.0  ...   \n                       FY15                        0.0  ...   \n                       FY15                        0.0  ...   \n                       FY15                        0.0  ...   \n                       FY15                        0.0  ...   \n...                                                ...  ...   \nForecast 8+4           FY22                        0.0  ...   \n                       FY22                        0.0  ...   \n                       FY22                        0.0  ...   \n                       FY22                        0.0  ...   \n                       FY22                        0.0  ...   \n\n                                                                   \\\n                            Total HR Solutions/ASO (Payroll side)   \n                                                         CONS HRS   \n                                       Total Service Revenue - RW   \nActual   Final Revised FY15                                347.37   \n                       FY15                                  0.00   \n                       FY15                                  0.00   \n                       FY15                                  0.00   \n                       FY15                                  0.00   \n...                                                           ...   \nForecast 8+4           FY22                                  0.00   \n                       FY22                                  0.00   \n                       FY22                                  0.00   \n                       FY22                                  0.00   \n                       FY22                                  0.00   \n\n                                      NaN                 Total Activity  \\\n                                      NaN Total Blended Products Revenue   \n                                      NaN              CONS SURE PAYROLL   \n                               *total Aso     Total Service Revenue - RW   \nActual   Final Revised FY15  3.767934e+08                    36691979.75   \n                       FY15  2.839863e+07                     2865163.28   \n                       FY15  3.490887e+07                     2927958.64   \n                       FY15  2.925192e+07                     2926325.32   \n                       FY15  2.729974e+07                     2992374.42   \n...                                   ...                            ...   \nForecast 8+4           FY22  6.653174e+07                     -716511.72   \n                       FY22  6.450100e+07                     -576339.20   \n                       FY22  7.580652e+07                     -635600.53   \n                       FY22  6.641035e+07                     -607458.13   \n                       FY22  7.043660e+07                     -593242.22   \n\n                                                        \\\n                                   SurePayroll Revenue   \n                                     CONS SURE PAYROLL   \n                            Total Service Revenue - RW   \nActual   Final Revised FY15                       0.00   \n                       FY15                       0.00   \n                       FY15                       0.00   \n                       FY15                       0.00   \n                       FY15                       0.00   \n...                                                ...   \nForecast 8+4           FY22                 7489372.86   \n                       FY22                 7565854.96   \n                       FY22                 7557327.00   \n                       FY22                 7649738.88   \n                       FY22                 7685813.37   \n\n                                                            \\\n                            Total Other Processing Revenue   \n                                         CONS SURE PAYROLL   \n                                Total Service Revenue - RW   \nActual   Final Revised FY15                     2191317.64   \n                       FY15                      201207.45   \n                       FY15                      252411.58   \n                       FY15                      178248.98   \n                       FY15                      171661.52   \n...                                                    ...   \nForecast 8+4           FY22                      864770.88   \n                       FY22                      782397.96   \n                       FY22                      801049.39   \n                       FY22                      816279.23   \n                       FY22                      754103.88   \n\n                                                                       NaN  \\\n                                     Total W-2 Revenue                 NaN   \n                                     CONS SURE PAYROLL                 NaN   \n                            Total Service Revenue - RW *total sure payroll   \nActual   Final Revised FY15                 2299083.77         41182381.16   \n                       FY15                  180596.29          3246967.02   \n                       FY15                  182102.80          3362473.02   \n                       FY15                  181537.63          3286111.93   \n                       FY15                  181292.59          3345328.53   \n...                                                ...                 ...   \nForecast 8+4           FY22                  295488.88          7933120.90   \n                       FY22                    -270.98          7771642.74   \n                       FY22                     -16.08          7722759.79   \n                       FY22                      -0.62          7858559.36   \n                       FY22                     371.81          7847046.84   \n\n                                            Total Activity  \\\n                            Total Blended Products Revenue   \n                                          Foreign Currency   \n                                Total Service Revenue - RW   \nActual   Final Revised FY15                     9498516.10   \n                       FY15                      808003.64   \n                       FY15                      855305.18   \n                       FY15                      801651.38   \n                       FY15                      834334.16   \n...                                                    ...   \nForecast 8+4           FY22                     4581179.37   \n                       FY22                     4139371.71   \n                       FY22                     4135690.28   \n                       FY22                     3987424.80   \n                       FY22                     4039906.10   \n\n                                                            \\\n                            Total Other Processing Revenue   \n                                          Foreign Currency   \n                                Total Service Revenue - RW   \nActual   Final Revised FY15                           0.00   \n                       FY15                           0.00   \n                       FY15                           0.00   \n                       FY15                           0.00   \n                       FY15                           0.00   \n...                                                    ...   \nForecast 8+4           FY22                      441147.32   \n                       FY22                      369620.09   \n                       FY22                      396411.17   \n                       FY22                      398235.04   \n                       FY22                      426850.00   \n\n                                             NaN  \n                                             NaN  \n                                             NaN  \n                            *total international  \nActual   Final Revised FY15           9498516.10  \n                       FY15            808003.64  \n                       FY15            855305.18  \n                       FY15            801651.38  \n                       FY15            834334.16  \n...                                          ...  \nForecast 8+4           FY22           5022326.69  \n                       FY22           4508991.80  \n                       FY22           4532101.46  \n                       FY22           4385659.85  \n                       FY22           4466756.09  \n\n[182 rows x 23 columns]",
      "text/html": "<div>\n<style scoped>\n    .dataframe tbody tr th:only-of-type {\n        vertical-align: middle;\n    }\n\n    .dataframe tbody tr th {\n        vertical-align: top;\n    }\n\n    .dataframe thead tr th {\n        text-align: left;\n    }\n</style>\n<table border=\"1\" class=\"dataframe\">\n  <thead>\n    <tr>\n      <th></th>\n      <th></th>\n      <th></th>\n      <th>period</th>\n      <th colspan=\"11\" halign=\"left\">Total Activity</th>\n      <th>NaN</th>\n      <th colspan=\"4\" halign=\"left\">Total Activity</th>\n      <th>NaN</th>\n      <th colspan=\"2\" halign=\"left\">Total Activity</th>\n      <th>NaN</th>\n    </tr>\n    <tr>\n      <th></th>\n      <th></th>\n      <th></th>\n      <th></th>\n      <th colspan=\"3\" halign=\"left\">Total Blended Products Revenue</th>\n      <th colspan=\"2\" halign=\"left\">Total Delivery Revenue</th>\n      <th colspan=\"2\" halign=\"left\">Total Other Processing Revenue</th>\n      <th colspan=\"2\" halign=\"left\">Total W-2 Revenue</th>\n      <th>...</th>\n      <th>Total HR Solutions/ASO (Payroll side)</th>\n      <th>NaN</th>\n      <th>Total Blended Products Revenue</th>\n      <th>SurePayroll Revenue</th>\n      <th>Total Other Processing Revenue</th>\n      <th>Total W-2 Revenue</th>\n      <th>NaN</th>\n      <th>Total Blended Products Revenue</th>\n      <th>Total Other Processing Revenue</th>\n      <th>NaN</th>\n    </tr>\n    <tr>\n      <th></th>\n      <th></th>\n      <th></th>\n      <th></th>\n      <th>TOTAL OPERATIONS</th>\n      <th>CONS HRS</th>\n      <th>Prior Year Adjustment</th>\n      <th>TOTAL OPERATIONS</th>\n      <th>CONS HRS</th>\n      <th>TOTAL OPERATIONS</th>\n      <th>Prior Year Adjustment</th>\n      <th>TOTAL OPERATIONS</th>\n      <th>Prior Year Adjustment</th>\n      <th>...</th>\n      <th>CONS HRS</th>\n      <th>NaN</th>\n      <th>CONS SURE PAYROLL</th>\n      <th>CONS SURE PAYROLL</th>\n      <th>CONS SURE PAYROLL</th>\n      <th>CONS SURE PAYROLL</th>\n      <th>NaN</th>\n      <th>Foreign Currency</th>\n      <th>Foreign Currency</th>\n      <th>NaN</th>\n    </tr>\n    <tr>\n      <th></th>\n      <th></th>\n      <th></th>\n      <th></th>\n      <th>Total Service Revenue - RW</th>\n      <th>Total Service Revenue - RW</th>\n      <th>Total Service Revenue - RW</th>\n      <th>Total Service Revenue - RW</th>\n      <th>Total Service Revenue - RW</th>\n      <th>Total Service Revenue - RW</th>\n      <th>Total Service Revenue - RW</th>\n      <th>Total Service Revenue - RW</th>\n      <th>Total Service Revenue - RW</th>\n      <th>...</th>\n      <th>Total Service Revenue - RW</th>\n      <th>*total Aso</th>\n      <th>Total Service Revenue - RW</th>\n      <th>Total Service Revenue - RW</th>\n      <th>Total Service Revenue - RW</th>\n      <th>Total Service Revenue - RW</th>\n      <th>*total sure payroll</th>\n      <th>Total Service Revenue - RW</th>\n      <th>Total Service Revenue - RW</th>\n      <th>*total international</th>\n    </tr>\n  </thead>\n  <tbody>\n    <tr>\n      <th rowspan=\"5\" valign=\"top\">Actual</th>\n      <th rowspan=\"5\" valign=\"top\">Final Revised</th>\n      <th>FY15</th>\n      <td>0</td>\n      <td>1.236516e+09</td>\n      <td>36844499.25</td>\n      <td>0.0</td>\n      <td>1.186875e+08</td>\n      <td>0.0</td>\n      <td>63488855.55</td>\n      <td>0.0</td>\n      <td>90768981.49</td>\n      <td>0.0</td>\n      <td>...</td>\n      <td>347.37</td>\n      <td>3.767934e+08</td>\n      <td>36691979.75</td>\n      <td>0.00</td>\n      <td>2191317.64</td>\n      <td>2299083.77</td>\n      <td>41182381.16</td>\n      <td>9498516.10</td>\n      <td>0.00</td>\n      <td>9498516.10</td>\n    </tr>\n    <tr>\n      <th>FY15</th>\n      <td>1</td>\n      <td>9.667424e+07</td>\n      <td>2959275.81</td>\n      <td>0.0</td>\n      <td>7.393352e+06</td>\n      <td>0.0</td>\n      <td>4765775.19</td>\n      <td>0.0</td>\n      <td>7031234.09</td>\n      <td>0.0</td>\n      <td>...</td>\n      <td>0.00</td>\n      <td>2.839863e+07</td>\n      <td>2865163.28</td>\n      <td>0.00</td>\n      <td>201207.45</td>\n      <td>180596.29</td>\n      <td>3246967.02</td>\n      <td>808003.64</td>\n      <td>0.00</td>\n      <td>808003.64</td>\n    </tr>\n    <tr>\n      <th>FY15</th>\n      <td>2</td>\n      <td>1.179775e+08</td>\n      <td>3642193.13</td>\n      <td>0.0</td>\n      <td>1.351374e+07</td>\n      <td>0.0</td>\n      <td>6502729.54</td>\n      <td>0.0</td>\n      <td>7325377.82</td>\n      <td>0.0</td>\n      <td>...</td>\n      <td>0.00</td>\n      <td>3.490887e+07</td>\n      <td>2927958.64</td>\n      <td>0.00</td>\n      <td>252411.58</td>\n      <td>182102.80</td>\n      <td>3362473.02</td>\n      <td>855305.18</td>\n      <td>0.00</td>\n      <td>855305.18</td>\n    </tr>\n    <tr>\n      <th>FY15</th>\n      <td>3</td>\n      <td>9.652404e+07</td>\n      <td>2948438.56</td>\n      <td>0.0</td>\n      <td>7.286967e+06</td>\n      <td>0.0</td>\n      <td>4215268.17</td>\n      <td>0.0</td>\n      <td>7443620.46</td>\n      <td>0.0</td>\n      <td>...</td>\n      <td>0.00</td>\n      <td>2.925192e+07</td>\n      <td>2926325.32</td>\n      <td>0.00</td>\n      <td>178248.98</td>\n      <td>181537.63</td>\n      <td>3286111.93</td>\n      <td>801651.38</td>\n      <td>0.00</td>\n      <td>801651.38</td>\n    </tr>\n    <tr>\n      <th>FY15</th>\n      <td>4</td>\n      <td>9.144132e+07</td>\n      <td>2756906.24</td>\n      <td>0.0</td>\n      <td>7.081862e+06</td>\n      <td>0.0</td>\n      <td>4726806.24</td>\n      <td>0.0</td>\n      <td>7414842.11</td>\n      <td>0.0</td>\n      <td>...</td>\n      <td>0.00</td>\n      <td>2.729974e+07</td>\n      <td>2992374.42</td>\n      <td>0.00</td>\n      <td>171661.52</td>\n      <td>181292.59</td>\n      <td>3345328.53</td>\n      <td>834334.16</td>\n      <td>0.00</td>\n      <td>834334.16</td>\n    </tr>\n    <tr>\n      <th>...</th>\n      <th>...</th>\n      <th>...</th>\n      <td>...</td>\n      <td>...</td>\n      <td>...</td>\n      <td>...</td>\n      <td>...</td>\n      <td>...</td>\n      <td>...</td>\n      <td>...</td>\n      <td>...</td>\n      <td>...</td>\n      <td>...</td>\n      <td>...</td>\n      <td>...</td>\n      <td>...</td>\n      <td>...</td>\n      <td>...</td>\n      <td>...</td>\n      <td>...</td>\n      <td>...</td>\n      <td>...</td>\n      <td>...</td>\n    </tr>\n    <tr>\n      <th rowspan=\"5\" valign=\"top\">Forecast</th>\n      <th rowspan=\"5\" valign=\"top\">8+4</th>\n      <th>FY22</th>\n      <td>8</td>\n      <td>1.023767e+08</td>\n      <td>1493093.88</td>\n      <td>0.0</td>\n      <td>2.243552e+07</td>\n      <td>0.0</td>\n      <td>20866313.40</td>\n      <td>0.0</td>\n      <td>81544421.44</td>\n      <td>0.0</td>\n      <td>...</td>\n      <td>0.00</td>\n      <td>6.653174e+07</td>\n      <td>-716511.72</td>\n      <td>7489372.86</td>\n      <td>864770.88</td>\n      <td>295488.88</td>\n      <td>7933120.90</td>\n      <td>4581179.37</td>\n      <td>441147.32</td>\n      <td>5022326.69</td>\n    </tr>\n    <tr>\n      <th>FY22</th>\n      <td>9</td>\n      <td>1.019021e+08</td>\n      <td>1458381.65</td>\n      <td>0.0</td>\n      <td>6.683674e+06</td>\n      <td>0.0</td>\n      <td>14110893.97</td>\n      <td>0.0</td>\n      <td>87571.97</td>\n      <td>0.0</td>\n      <td>...</td>\n      <td>0.00</td>\n      <td>6.450100e+07</td>\n      <td>-576339.20</td>\n      <td>7565854.96</td>\n      <td>782397.96</td>\n      <td>-270.98</td>\n      <td>7771642.74</td>\n      <td>4139371.71</td>\n      <td>369620.09</td>\n      <td>4508991.80</td>\n    </tr>\n    <tr>\n      <th>FY22</th>\n      <td>10</td>\n      <td>1.150675e+08</td>\n      <td>1644751.31</td>\n      <td>0.0</td>\n      <td>7.556914e+06</td>\n      <td>0.0</td>\n      <td>12680918.38</td>\n      <td>0.0</td>\n      <td>-43001.29</td>\n      <td>0.0</td>\n      <td>...</td>\n      <td>0.00</td>\n      <td>7.580652e+07</td>\n      <td>-635600.53</td>\n      <td>7557327.00</td>\n      <td>801049.39</td>\n      <td>-16.08</td>\n      <td>7722759.79</td>\n      <td>4135690.28</td>\n      <td>396411.17</td>\n      <td>4532101.46</td>\n    </tr>\n    <tr>\n      <th>FY22</th>\n      <td>11</td>\n      <td>1.006085e+08</td>\n      <td>1406579.87</td>\n      <td>0.0</td>\n      <td>1.094369e+07</td>\n      <td>0.0</td>\n      <td>10225582.63</td>\n      <td>0.0</td>\n      <td>44811.43</td>\n      <td>0.0</td>\n      <td>...</td>\n      <td>0.00</td>\n      <td>6.641035e+07</td>\n      <td>-607458.13</td>\n      <td>7649738.88</td>\n      <td>816279.23</td>\n      <td>-0.62</td>\n      <td>7858559.36</td>\n      <td>3987424.80</td>\n      <td>398235.04</td>\n      <td>4385659.85</td>\n    </tr>\n    <tr>\n      <th>FY22</th>\n      <td>12</td>\n      <td>1.066607e+08</td>\n      <td>1503605.89</td>\n      <td>0.0</td>\n      <td>7.961770e+06</td>\n      <td>0.0</td>\n      <td>6506572.85</td>\n      <td>0.0</td>\n      <td>113783.77</td>\n      <td>0.0</td>\n      <td>...</td>\n      <td>0.00</td>\n      <td>7.043660e+07</td>\n      <td>-593242.22</td>\n      <td>7685813.37</td>\n      <td>754103.88</td>\n      <td>371.81</td>\n      <td>7847046.84</td>\n      <td>4039906.10</td>\n      <td>426850.00</td>\n      <td>4466756.09</td>\n    </tr>\n  </tbody>\n</table>\n<p>182 rows × 23 columns</p>\n</div>"
     },
     "execution_count": 15,
     "metadata": {},
     "output_type": "execute_result"
    }
   ],
   "source": [
    "df"
   ],
   "metadata": {
    "collapsed": false,
    "pycharm": {
     "name": "#%%\n"
    }
   }
  },
  {
   "cell_type": "code",
   "execution_count": 16,
   "outputs": [
    {
     "data": {
      "text/plain": "1304.85610689"
     },
     "execution_count": 16,
     "metadata": {},
     "output_type": "execute_result"
    }
   ],
   "source": [
    "df[df['period']==0]\\\n",
    "    .loc[(\"Forecast\",\"6+6\",\"FY22\"),\n",
    "         (\"Total Activity\",\"Total Blended Products Revenue\", \"TOTAL OPERATIONS\", \"Total Service Revenue - RW\")]/1000000"
   ],
   "metadata": {
    "collapsed": false,
    "pycharm": {
     "name": "#%%\n"
    }
   }
  },
  {
   "cell_type": "code",
   "execution_count": 17,
   "outputs": [
    {
     "data": {
      "text/plain": "                                            0.000000\nHR Solutions (excl PEO)                   598.036988\nSurePayroll Revenue                        80.258218\nTotal Blended Products Revenue           1379.399835\nTotal Delivery Revenue                    117.029362\nTotal HR Solutions/ASO (Payroll side)     210.493782\nTotal Other Processing Revenue            115.501437\nTotal W-2 Revenue                          87.681535\nName: (Forecast, 6+6, FY22), dtype: float64"
     },
     "execution_count": 17,
     "metadata": {},
     "output_type": "execute_result"
    }
   ],
   "source": [
    "df[df['period']==0]\\\n",
    "    .loc[(\"Forecast\",\"6+6\",\"FY22\"),:].groupby(level=1).sum()/1000000"
   ],
   "metadata": {
    "collapsed": false,
    "pycharm": {
     "name": "#%%\n"
    }
   }
  },
  {
   "cell_type": "code",
   "execution_count": 106,
   "outputs": [
    {
     "data": {
      "text/plain": "1990.3641689999997"
     },
     "execution_count": 106,
     "metadata": {},
     "output_type": "execute_result"
    }
   ],
   "source": [
    "80.258218+1379.399835+117.029362+210.493782+115.501437+ 87.681535"
   ],
   "metadata": {
    "collapsed": false,
    "pycharm": {
     "name": "#%%\n"
    }
   }
  },
  {
   "cell_type": "markdown",
   "source": [
    "## Sure Payroll revenue"
   ],
   "metadata": {
    "collapsed": false
   }
  },
  {
   "cell_type": "code",
   "execution_count": 23,
   "outputs": [],
   "source": [
    "df = get_df(blob_service_client, blob_list[19], container= container_name)"
   ],
   "metadata": {
    "collapsed": false,
    "pycharm": {
     "name": "#%%\n"
    }
   }
  },
  {
   "cell_type": "code",
   "execution_count": 24,
   "outputs": [
    {
     "data": {
      "text/plain": "                                             Total Activity  \\\n                                                    PR PROC   \n                                          1501 SP Direct GB   \n                                      FEE REVENUE - NA - RW   \nActual   Final Revised FY15 YearTotal           21219332.78   \n                            \\nJun                1716994.82   \n                            \\nJul                2088717.79   \n                            \\nAug                1411140.00   \n                            \\nSep                1729748.29   \n...                                                     ...   \nForecast 8+4           FY22 \\nJan                -154767.08   \n                            \\nFeb                      0.00   \n                            \\nMar                      0.00   \n                            \\nApr                      0.00   \n                            \\nMay                      0.00   \n\n                                                               \\\n                                                                \n                                                                \n                                      OTHER REVENUE - NA - RW   \nActual   Final Revised FY15 YearTotal                    0.00   \n                            \\nJun                        0.00   \n                            \\nJul                        0.00   \n                            \\nAug                        0.00   \n                            \\nSep                        0.00   \n...                                                       ...   \nForecast 8+4           FY22 \\nJan                    -2397.90   \n                            \\nFeb                  -159107.24   \n                            \\nMar                  -160318.79   \n                            \\nApr                  -162333.29   \n                            \\nMay                  -164148.24   \n\n                                                                     \\\n                                                                      \n                                                                      \n                                      MAINTENANCE REVENUE - NA - RW   \nActual   Final Revised FY15 YearTotal                          0.00   \n                            \\nJun                              0.00   \n                            \\nJul                              0.00   \n                            \\nAug                              0.00   \n                            \\nSep                              0.00   \n...                                                             ...   \nForecast 8+4           FY22 \\nJan                         -14888.45   \n                            \\nFeb                              0.00   \n                            \\nMar                              0.00   \n                            \\nApr                              0.00   \n                            \\nMay                              0.00   \n\n                                                                 \\\n                                                                  \n                                                                  \n                                      SALES DISCOUNTS - NA - RW   \nActual   Final Revised FY15 YearTotal                       0.0   \n                            \\nJun                           0.0   \n                            \\nJul                           0.0   \n                            \\nAug                           0.0   \n                            \\nSep                           0.0   \n...                                                         ...   \nForecast 8+4           FY22 \\nJan                     -116200.4   \n                            \\nFeb                           0.0   \n                            \\nMar                           0.0   \n                            \\nApr                           0.0   \n                            \\nMay                           0.0   \n\n                                                               \\\n                                                                \n                                            1518 SP Direct HH   \n                                      OTHER REVENUE - NA - RW   \nActual   Final Revised FY15 YearTotal                    0.00   \n                            \\nJun                        0.00   \n                            \\nJul                        0.00   \n                            \\nAug                        0.00   \n                            \\nSep                        0.00   \n...                                                       ...   \nForecast 8+4           FY22 \\nJan                       10.00   \n                            \\nFeb                   -34250.07   \n                            \\nMar                   -33791.56   \n                            \\nApr                   -33641.88   \n                            \\nMay                   -33351.99   \n\n                                                                     \\\n                                                                      \n                                                                      \n                                      MAINTENANCE REVENUE - NA - RW   \nActual   Final Revised FY15 YearTotal                           0.0   \n                            \\nJun                               0.0   \n                            \\nJul                               0.0   \n                            \\nAug                               0.0   \n                            \\nSep                               0.0   \n...                                                             ...   \nForecast 8+4           FY22 \\nJan                               0.0   \n                            \\nFeb                               0.0   \n                            \\nMar                               0.0   \n                            \\nApr                               0.0   \n                            \\nMay                               0.0   \n\n                                                                 \\\n                                                                  \n                                                                  \n                                      SALES DISCOUNTS - NA - RW   \nActual   Final Revised FY15 YearTotal                      0.00   \n                            \\nJun                          0.00   \n                            \\nJul                          0.00   \n                            \\nAug                          0.00   \n                            \\nSep                          0.00   \n...                                                         ...   \nForecast 8+4           FY22 \\nJan                     -34591.64   \n                            \\nFeb                          0.00   \n                            \\nMar                          0.00   \n                            \\nApr                          0.00   \n                            \\nMay                          0.00   \n\n                                                                \\\n                                                                 \n                                      1507 SP NORTHWEST MUTUAL   \n                                         FEE REVENUE - NA - RW   \nActual   Final Revised FY15 YearTotal                652867.00   \n                            \\nJun                     43783.36   \n                            \\nJul                     46001.20   \n                            \\nAug                     44189.52   \n                            \\nSep                     56551.51   \n...                                                        ...   \nForecast 8+4           FY22 \\nJan                         0.00   \n                            \\nFeb                         0.00   \n                            \\nMar                         0.00   \n                            \\nApr                         0.00   \n                            \\nMay                         0.00   \n\n                                                                     \\\n                                                                      \n                                                                      \n                                      MAINTENANCE REVENUE - NA - RW   \nActual   Final Revised FY15 YearTotal                           0.0   \n                            \\nJun                               0.0   \n                            \\nJul                               0.0   \n                            \\nAug                               0.0   \n                            \\nSep                               0.0   \n...                                                             ...   \nForecast 8+4           FY22 \\nJan                               0.0   \n                            \\nFeb                               0.0   \n                            \\nMar                               0.0   \n                            \\nApr                               0.0   \n                            \\nMay                               0.0   \n\n                                                             ...  \\\n                                                             ...   \n                                        1513 SP SITTER BANK  ...   \n                                      FEE REVENUE - NA - RW  ...   \nActual   Final Revised FY15 YearTotal             648361.58  ...   \n                            \\nJun                  52515.01  ...   \n                            \\nJul                  48959.98  ...   \n                            \\nAug                  50124.90  ...   \n                            \\nSep                  53388.58  ...   \n...                                                     ...  ...   \nForecast 8+4           FY22 \\nJan                      0.00  ...   \n                            \\nFeb                      0.00  ...   \n                            \\nMar                      0.00  ...   \n                            \\nApr                      0.00  ...   \n                            \\nMay                      0.00  ...   \n\n                                                                        \\\n                                                           PREMIER HRS   \n                                                     1501 SP Direct GB   \n                                      FEE REVENUE - CONTRACT PLAN - RW   \nActual   Final Revised FY15 YearTotal                             0.00   \n                            \\nJun                                 0.00   \n                            \\nJul                                 0.00   \n                            \\nAug                                 0.00   \n                            \\nSep                                 0.00   \n...                                                                ...   \nForecast 8+4           FY22 \\nJan                              7306.92   \n                            \\nFeb                                 0.00   \n                            \\nMar                                 0.00   \n                            \\nApr                                 0.00   \n                            \\nMay                                 0.00   \n\n                                                                     \\\n                                                                      \n                                                                      \n                                      MAINTENANCE REVENUE - NA - RW   \nActual   Final Revised FY15 YearTotal                          0.00   \n                            \\nJun                              0.00   \n                            \\nJul                              0.00   \n                            \\nAug                              0.00   \n                            \\nSep                              0.00   \n...                                                             ...   \nForecast 8+4           FY22 \\nJan                           8769.56   \n                            \\nFeb                              0.00   \n                            \\nMar                              0.00   \n                            \\nApr                              0.00   \n                            \\nMay                              0.00   \n\n                                                                       \\\n                                                                        \n                                                                        \n                                      MAINTENANCE REVENUE - CORE - RW   \nActual   Final Revised FY15 YearTotal                             0.0   \n                            \\nJun                                 0.0   \n                            \\nJul                                 0.0   \n                            \\nAug                                 0.0   \n                            \\nSep                                 0.0   \n...                                                               ...   \nForecast 8+4           FY22 \\nJan                                 0.0   \n                            \\nFeb                             15525.0   \n                            \\nMar                             22612.5   \n                            \\nApr                             30037.5   \n                            \\nMay                             37462.5   \n\n                                                                 \\\n                                                                  \n                                                                  \n                                      SALES DISCOUNTS - NA - RW   \nActual   Final Revised FY15 YearTotal                      0.00   \n                            \\nJun                          0.00   \n                            \\nJul                          0.00   \n                            \\nAug                          0.00   \n                            \\nSep                          0.00   \n...                                                         ...   \nForecast 8+4           FY22 \\nJan                      -2291.33   \n                            \\nFeb                          0.00   \n                            \\nMar                          0.00   \n                            \\nApr                          0.00   \n                            \\nMay                          0.00   \n\n                                                      \\\n                                                       \n                                                       \n                                      ACCTRW4690_101   \nActual   Final Revised FY15 YearTotal           0.00   \n                            \\nJun               0.00   \n                            \\nJul               0.00   \n                            \\nAug               0.00   \n                            \\nSep               0.00   \n...                                              ...   \nForecast 8+4           FY22 \\nJan               0.00   \n                            \\nFeb           -5433.75   \n                            \\nMar           -7914.38   \n                            \\nApr          -10513.13   \n                            \\nMay          -13111.88   \n\n                                                                            \\\n                                                                             \n                                                                             \n                                      SALES DISCOUNTS - CONTRACT PLAN - RW   \nActual   Final Revised FY15 YearTotal                                 0.00   \n                            \\nJun                                     0.00   \n                            \\nJul                                     0.00   \n                            \\nAug                                     0.00   \n                            \\nSep                                     0.00   \n...                                                                    ...   \nForecast 8+4           FY22 \\nJan                                 -4831.32   \n                            \\nFeb                                     0.00   \n                            \\nMar                                     0.00   \n                            \\nApr                                     0.00   \n                            \\nMay                                     0.00   \n\n                                                                        \\\n                                                                         \n                                                   1506 SP BOP PARTNER   \n                                      FEE REVENUE - CONTRACT PLAN - RW   \nActual   Final Revised FY15 YearTotal                             0.00   \n                            \\nJun                                 0.00   \n                            \\nJul                                 0.00   \n                            \\nAug                                 0.00   \n                            \\nSep                                 0.00   \n...                                                                ...   \nForecast 8+4           FY22 \\nJan                              1354.86   \n                            \\nFeb                                 0.00   \n                            \\nMar                                 0.00   \n                            \\nApr                                 0.00   \n                            \\nMay                                 0.00   \n\n                                                                     \\\n                                                                      \n                                                                      \n                                      MAINTENANCE REVENUE - NA - RW   \nActual   Final Revised FY15 YearTotal                          0.00   \n                            \\nJun                              0.00   \n                            \\nJul                              0.00   \n                            \\nAug                              0.00   \n                            \\nSep                              0.00   \n...                                                             ...   \nForecast 8+4           FY22 \\nJan                            801.47   \n                            \\nFeb                              0.00   \n                            \\nMar                              0.00   \n                            \\nApr                              0.00   \n                            \\nMay                              0.00   \n\n                                                                 \\\n                                                                  \n                                                                  \n                                      SALES DISCOUNTS - NA - RW   \nActual   Final Revised FY15 YearTotal                      0.00   \n                            \\nJun                          0.00   \n                            \\nJul                          0.00   \n                            \\nAug                          0.00   \n                            \\nSep                          0.00   \n...                                                         ...   \nForecast 8+4           FY22 \\nJan                       -280.51   \n                            \\nFeb                          0.00   \n                            \\nMar                          0.00   \n                            \\nApr                          0.00   \n                            \\nMay                          0.00   \n\n                                                                            \n                                                                            \n                                                                            \n                                      SALES DISCOUNTS - CONTRACT PLAN - RW  \nActual   Final Revised FY15 YearTotal                                 0.00  \n                            \\nJun                                     0.00  \n                            \\nJul                                     0.00  \n                            \\nAug                                     0.00  \n                            \\nSep                                     0.00  \n...                                                                    ...  \nForecast 8+4           FY22 \\nJan                                  -907.77  \n                            \\nFeb                                     0.00  \n                            \\nMar                                     0.00  \n                            \\nApr                                     0.00  \n                            \\nMay                                     0.00  \n\n[182 rows x 179 columns]",
      "text/html": "<div>\n<style scoped>\n    .dataframe tbody tr th:only-of-type {\n        vertical-align: middle;\n    }\n\n    .dataframe tbody tr th {\n        vertical-align: top;\n    }\n\n    .dataframe thead tr th {\n        text-align: left;\n    }\n</style>\n<table border=\"1\" class=\"dataframe\">\n  <thead>\n    <tr>\n      <th></th>\n      <th></th>\n      <th></th>\n      <th></th>\n      <th colspan=\"21\" halign=\"left\">Total Activity</th>\n    </tr>\n    <tr>\n      <th></th>\n      <th></th>\n      <th></th>\n      <th></th>\n      <th colspan=\"10\" halign=\"left\">PR PROC</th>\n      <th>...</th>\n      <th colspan=\"10\" halign=\"left\">PREMIER HRS</th>\n    </tr>\n    <tr>\n      <th></th>\n      <th></th>\n      <th></th>\n      <th></th>\n      <th colspan=\"4\" halign=\"left\">1501 SP Direct GB</th>\n      <th colspan=\"3\" halign=\"left\">1518 SP Direct HH</th>\n      <th colspan=\"2\" halign=\"left\">1507 SP NORTHWEST MUTUAL</th>\n      <th>1513 SP SITTER BANK</th>\n      <th>...</th>\n      <th colspan=\"6\" halign=\"left\">1501 SP Direct GB</th>\n      <th colspan=\"4\" halign=\"left\">1506 SP BOP PARTNER</th>\n    </tr>\n    <tr>\n      <th></th>\n      <th></th>\n      <th></th>\n      <th></th>\n      <th>FEE REVENUE - NA - RW</th>\n      <th>OTHER REVENUE - NA - RW</th>\n      <th>MAINTENANCE REVENUE - NA - RW</th>\n      <th>SALES DISCOUNTS - NA - RW</th>\n      <th>OTHER REVENUE - NA - RW</th>\n      <th>MAINTENANCE REVENUE - NA - RW</th>\n      <th>SALES DISCOUNTS - NA - RW</th>\n      <th>FEE REVENUE - NA - RW</th>\n      <th>MAINTENANCE REVENUE - NA - RW</th>\n      <th>FEE REVENUE - NA - RW</th>\n      <th>...</th>\n      <th>FEE REVENUE - CONTRACT PLAN - RW</th>\n      <th>MAINTENANCE REVENUE - NA - RW</th>\n      <th>MAINTENANCE REVENUE - CORE - RW</th>\n      <th>SALES DISCOUNTS - NA - RW</th>\n      <th>ACCTRW4690_101</th>\n      <th>SALES DISCOUNTS - CONTRACT PLAN - RW</th>\n      <th>FEE REVENUE - CONTRACT PLAN - RW</th>\n      <th>MAINTENANCE REVENUE - NA - RW</th>\n      <th>SALES DISCOUNTS - NA - RW</th>\n      <th>SALES DISCOUNTS - CONTRACT PLAN - RW</th>\n    </tr>\n  </thead>\n  <tbody>\n    <tr>\n      <th rowspan=\"5\" valign=\"top\">Actual</th>\n      <th rowspan=\"5\" valign=\"top\">Final Revised</th>\n      <th rowspan=\"5\" valign=\"top\">FY15</th>\n      <th>YearTotal</th>\n      <td>21219332.78</td>\n      <td>0.00</td>\n      <td>0.00</td>\n      <td>0.0</td>\n      <td>0.00</td>\n      <td>0.0</td>\n      <td>0.00</td>\n      <td>652867.00</td>\n      <td>0.0</td>\n      <td>648361.58</td>\n      <td>...</td>\n      <td>0.00</td>\n      <td>0.00</td>\n      <td>0.0</td>\n      <td>0.00</td>\n      <td>0.00</td>\n      <td>0.00</td>\n      <td>0.00</td>\n      <td>0.00</td>\n      <td>0.00</td>\n      <td>0.00</td>\n    </tr>\n    <tr>\n      <th>\\nJun</th>\n      <td>1716994.82</td>\n      <td>0.00</td>\n      <td>0.00</td>\n      <td>0.0</td>\n      <td>0.00</td>\n      <td>0.0</td>\n      <td>0.00</td>\n      <td>43783.36</td>\n      <td>0.0</td>\n      <td>52515.01</td>\n      <td>...</td>\n      <td>0.00</td>\n      <td>0.00</td>\n      <td>0.0</td>\n      <td>0.00</td>\n      <td>0.00</td>\n      <td>0.00</td>\n      <td>0.00</td>\n      <td>0.00</td>\n      <td>0.00</td>\n      <td>0.00</td>\n    </tr>\n    <tr>\n      <th>\\nJul</th>\n      <td>2088717.79</td>\n      <td>0.00</td>\n      <td>0.00</td>\n      <td>0.0</td>\n      <td>0.00</td>\n      <td>0.0</td>\n      <td>0.00</td>\n      <td>46001.20</td>\n      <td>0.0</td>\n      <td>48959.98</td>\n      <td>...</td>\n      <td>0.00</td>\n      <td>0.00</td>\n      <td>0.0</td>\n      <td>0.00</td>\n      <td>0.00</td>\n      <td>0.00</td>\n      <td>0.00</td>\n      <td>0.00</td>\n      <td>0.00</td>\n      <td>0.00</td>\n    </tr>\n    <tr>\n      <th>\\nAug</th>\n      <td>1411140.00</td>\n      <td>0.00</td>\n      <td>0.00</td>\n      <td>0.0</td>\n      <td>0.00</td>\n      <td>0.0</td>\n      <td>0.00</td>\n      <td>44189.52</td>\n      <td>0.0</td>\n      <td>50124.90</td>\n      <td>...</td>\n      <td>0.00</td>\n      <td>0.00</td>\n      <td>0.0</td>\n      <td>0.00</td>\n      <td>0.00</td>\n      <td>0.00</td>\n      <td>0.00</td>\n      <td>0.00</td>\n      <td>0.00</td>\n      <td>0.00</td>\n    </tr>\n    <tr>\n      <th>\\nSep</th>\n      <td>1729748.29</td>\n      <td>0.00</td>\n      <td>0.00</td>\n      <td>0.0</td>\n      <td>0.00</td>\n      <td>0.0</td>\n      <td>0.00</td>\n      <td>56551.51</td>\n      <td>0.0</td>\n      <td>53388.58</td>\n      <td>...</td>\n      <td>0.00</td>\n      <td>0.00</td>\n      <td>0.0</td>\n      <td>0.00</td>\n      <td>0.00</td>\n      <td>0.00</td>\n      <td>0.00</td>\n      <td>0.00</td>\n      <td>0.00</td>\n      <td>0.00</td>\n    </tr>\n    <tr>\n      <th>...</th>\n      <th>...</th>\n      <th>...</th>\n      <th>...</th>\n      <td>...</td>\n      <td>...</td>\n      <td>...</td>\n      <td>...</td>\n      <td>...</td>\n      <td>...</td>\n      <td>...</td>\n      <td>...</td>\n      <td>...</td>\n      <td>...</td>\n      <td>...</td>\n      <td>...</td>\n      <td>...</td>\n      <td>...</td>\n      <td>...</td>\n      <td>...</td>\n      <td>...</td>\n      <td>...</td>\n      <td>...</td>\n      <td>...</td>\n      <td>...</td>\n    </tr>\n    <tr>\n      <th rowspan=\"5\" valign=\"top\">Forecast</th>\n      <th rowspan=\"5\" valign=\"top\">8+4</th>\n      <th rowspan=\"5\" valign=\"top\">FY22</th>\n      <th>\\nJan</th>\n      <td>-154767.08</td>\n      <td>-2397.90</td>\n      <td>-14888.45</td>\n      <td>-116200.4</td>\n      <td>10.00</td>\n      <td>0.0</td>\n      <td>-34591.64</td>\n      <td>0.00</td>\n      <td>0.0</td>\n      <td>0.00</td>\n      <td>...</td>\n      <td>7306.92</td>\n      <td>8769.56</td>\n      <td>0.0</td>\n      <td>-2291.33</td>\n      <td>0.00</td>\n      <td>-4831.32</td>\n      <td>1354.86</td>\n      <td>801.47</td>\n      <td>-280.51</td>\n      <td>-907.77</td>\n    </tr>\n    <tr>\n      <th>\\nFeb</th>\n      <td>0.00</td>\n      <td>-159107.24</td>\n      <td>0.00</td>\n      <td>0.0</td>\n      <td>-34250.07</td>\n      <td>0.0</td>\n      <td>0.00</td>\n      <td>0.00</td>\n      <td>0.0</td>\n      <td>0.00</td>\n      <td>...</td>\n      <td>0.00</td>\n      <td>0.00</td>\n      <td>15525.0</td>\n      <td>0.00</td>\n      <td>-5433.75</td>\n      <td>0.00</td>\n      <td>0.00</td>\n      <td>0.00</td>\n      <td>0.00</td>\n      <td>0.00</td>\n    </tr>\n    <tr>\n      <th>\\nMar</th>\n      <td>0.00</td>\n      <td>-160318.79</td>\n      <td>0.00</td>\n      <td>0.0</td>\n      <td>-33791.56</td>\n      <td>0.0</td>\n      <td>0.00</td>\n      <td>0.00</td>\n      <td>0.0</td>\n      <td>0.00</td>\n      <td>...</td>\n      <td>0.00</td>\n      <td>0.00</td>\n      <td>22612.5</td>\n      <td>0.00</td>\n      <td>-7914.38</td>\n      <td>0.00</td>\n      <td>0.00</td>\n      <td>0.00</td>\n      <td>0.00</td>\n      <td>0.00</td>\n    </tr>\n    <tr>\n      <th>\\nApr</th>\n      <td>0.00</td>\n      <td>-162333.29</td>\n      <td>0.00</td>\n      <td>0.0</td>\n      <td>-33641.88</td>\n      <td>0.0</td>\n      <td>0.00</td>\n      <td>0.00</td>\n      <td>0.0</td>\n      <td>0.00</td>\n      <td>...</td>\n      <td>0.00</td>\n      <td>0.00</td>\n      <td>30037.5</td>\n      <td>0.00</td>\n      <td>-10513.13</td>\n      <td>0.00</td>\n      <td>0.00</td>\n      <td>0.00</td>\n      <td>0.00</td>\n      <td>0.00</td>\n    </tr>\n    <tr>\n      <th>\\nMay</th>\n      <td>0.00</td>\n      <td>-164148.24</td>\n      <td>0.00</td>\n      <td>0.0</td>\n      <td>-33351.99</td>\n      <td>0.0</td>\n      <td>0.00</td>\n      <td>0.00</td>\n      <td>0.0</td>\n      <td>0.00</td>\n      <td>...</td>\n      <td>0.00</td>\n      <td>0.00</td>\n      <td>37462.5</td>\n      <td>0.00</td>\n      <td>-13111.88</td>\n      <td>0.00</td>\n      <td>0.00</td>\n      <td>0.00</td>\n      <td>0.00</td>\n      <td>0.00</td>\n    </tr>\n  </tbody>\n</table>\n<p>182 rows × 179 columns</p>\n</div>"
     },
     "execution_count": 24,
     "metadata": {},
     "output_type": "execute_result"
    }
   ],
   "source": [
    "df"
   ],
   "metadata": {
    "collapsed": false,
    "pycharm": {
     "name": "#%%\n"
    }
   }
  },
  {
   "cell_type": "code",
   "execution_count": null,
   "outputs": [],
   "source": [
    "df[df['period']==0]\\\n",
    "    .loc[(\"Forecast\",\"6+6\",\"FY22\"),:].groupby(level=1).sum()/1000000"
   ],
   "metadata": {
    "collapsed": false,
    "pycharm": {
     "name": "#%%\n"
    }
   }
  },
  {
   "cell_type": "code",
   "execution_count": 51,
   "outputs": [],
   "source": [
    "df[\"Total Activity\", \"PR PROC\", \"Total\",\"Total\"] = df[\"Total Activity\"].sum(axis=1)"
   ],
   "metadata": {
    "collapsed": false,
    "pycharm": {
     "name": "#%%\n"
    }
   }
  },
  {
   "cell_type": "code",
   "execution_count": 52,
   "outputs": [
    {
     "data": {
      "text/plain": "97.27571197"
     },
     "execution_count": 52,
     "metadata": {},
     "output_type": "execute_result"
    }
   ],
   "source": [
    "df[df['period']==0]\\\n",
    "    .loc[(\"Forecast\",\"6+6\",\"FY22\"),\n",
    "         (\"Total Activity\",\"PR PROC\", \"Total\", \"Total\")]/1000000"
   ],
   "metadata": {
    "collapsed": false,
    "pycharm": {
     "name": "#%%\n"
    }
   }
  },
  {
   "cell_type": "markdown",
   "source": [
    "## W2"
   ],
   "metadata": {
    "collapsed": false
   }
  },
  {
   "cell_type": "code",
   "execution_count": 53,
   "outputs": [],
   "source": [
    "df = get_df(blob_service_client, blob_list[21], container= container_name)"
   ],
   "metadata": {
    "collapsed": false,
    "pycharm": {
     "name": "#%%\n"
    }
   }
  },
  {
   "cell_type": "code",
   "execution_count": 54,
   "outputs": [
    {
     "data": {
      "text/plain": "                            period         Total Activity  \\\n                                   Total Flex W-2 Revenue   \n                                               Auburn RSC   \n                                    FEE REVENUE - NA - RW   \nActual   Final Revised FY15      0             6549868.12   \n                       FY15      1               12851.65   \n                       FY15      2               17554.04   \n                       FY15      3               11192.36   \n                       FY15      4               16141.68   \n...                            ...                    ...   \nForecast 8+4           FY22      8                   0.00   \n                       FY22      9                   0.00   \n                       FY22     10                   0.00   \n                       FY22     11                   0.00   \n                       FY22     12                   0.00   \n\n                                                           \\\n                                                            \n                                                            \n                            MAINTENANCE REVENUE - NA - RW   \nActual   Final Revised FY15                          0.00   \n                       FY15                          0.00   \n                       FY15                          0.00   \n                       FY15                          0.00   \n                       FY15                          0.00   \n...                                                   ...   \nForecast 8+4           FY22                    4063160.93   \n                       FY22                      -2389.86   \n                       FY22                       3515.14   \n                       FY22                       6520.14   \n                       FY22                       6144.04   \n\n                                                                             \\\n                                                                              \n                                                              Rochester RSC   \n                            SALES DISCOUNTS - NA - RW FEE REVENUE - NA - RW   \nActual   Final Revised FY15                -189076.13            5504479.81   \n                       FY15                      0.00              13090.92   \n                       FY15                     19.90              14419.52   \n                       FY15                      0.00               6470.22   \n                       FY15                      0.00              14781.63   \n...                                               ...                   ...   \nForecast 8+4           FY22                -120148.25                  0.00   \n                       FY22                      0.00                  0.00   \n                       FY22                      0.00                  0.00   \n                       FY22                      0.00                  0.00   \n                       FY22                      0.00                  0.00   \n\n                                                           \\\n                                                            \n                                                            \n                            MAINTENANCE REVENUE - NA - RW   \nActual   Final Revised FY15                          0.00   \n                       FY15                          0.00   \n                       FY15                          0.00   \n                       FY15                          0.00   \n                       FY15                          0.00   \n...                                                   ...   \nForecast 8+4           FY22                    4095525.80   \n                       FY22                       3674.45   \n                       FY22                     468983.32   \n                       FY22                       5243.23   \n                       FY22                       6648.18   \n\n                                                                             \\\n                                                                              \n                                                             Greensboro RSC   \n                            SALES DISCOUNTS - NA - RW FEE REVENUE - NA - RW   \nActual   Final Revised FY15                -198081.15            4963908.75   \n                       FY15                      0.00              13677.85   \n                       FY15                      0.00              21457.60   \n                       FY15                      0.00              20807.02   \n                       FY15                      0.00              14446.80   \n...                                               ...                   ...   \nForecast 8+4           FY22                -112479.64                  0.00   \n                       FY22                      0.00                  0.00   \n                       FY22                      0.00                  0.00   \n                       FY22                      0.00                  0.00   \n                       FY22                      0.00                  0.00   \n\n                                                           \\\n                                                            \n                                                            \n                            MAINTENANCE REVENUE - NA - RW   \nActual   Final Revised FY15                          0.00   \n                       FY15                          0.00   \n                       FY15                          0.00   \n                       FY15                          0.00   \n                       FY15                          0.00   \n...                                                   ...   \nForecast 8+4           FY22                    2429416.46   \n                       FY22                       2921.82   \n                       FY22                        926.02   \n                       FY22                       4466.87   \n                       FY22                       3779.30   \n\n                                                       ...  \\\n                                                       ...   \n                                                       ...   \n                            SALES DISCOUNTS - NA - RW  ...   \nActual   Final Revised FY15                -144758.80  ...   \n                       FY15                      0.00  ...   \n                       FY15                      0.00  ...   \n                       FY15                      0.00  ...   \n                       FY15                      0.00  ...   \n...                                               ...  ...   \nForecast 8+4           FY22                 -67521.35  ...   \n                       FY22                      0.00  ...   \n                       FY22                      0.00  ...   \n                       FY22                      0.00  ...   \n                       FY22                      0.00  ...   \n\n                                                           \\\n                                AMENDED RETURN PROCESSING   \n                                    Prior Year Adjustment   \n                            MAINTENANCE REVENUE - NA - RW   \nActual   Final Revised FY15                           0.0   \n                       FY15                           0.0   \n                       FY15                           0.0   \n                       FY15                           0.0   \n                       FY15                           0.0   \n...                                                   ...   \nForecast 8+4           FY22                           0.0   \n                       FY22                           0.0   \n                       FY22                           0.0   \n                       FY22                           0.0   \n                       FY22                           0.0   \n\n                                                           \\\n                                  Manual Invoice Pymt Fee   \n                                    Prior Year Adjustment   \n                            MAINTENANCE REVENUE - NA - RW   \nActual   Final Revised FY15                           0.0   \n                       FY15                           0.0   \n                       FY15                           0.0   \n                       FY15                           0.0   \n                       FY15                           0.0   \n...                                                   ...   \nForecast 8+4           FY22                           0.0   \n                       FY22                           0.0   \n                       FY22                           0.0   \n                       FY22                           0.0   \n                       FY22                           0.0   \n\n                                                                             \\\n                                      OTHER-PREVIEW    BUSINESS TAX SERVICE   \n                              Prior Year Adjustment   Prior Year Adjustment   \n                            OTHER REVENUE - NA - RW OTHER REVENUE - NA - RW   \nActual   Final Revised FY15                     0.0                     0.0   \n                       FY15                     0.0                     0.0   \n                       FY15                     0.0                     0.0   \n                       FY15                     0.0                     0.0   \n                       FY15                     0.0                     0.0   \n...                                             ...                     ...   \nForecast 8+4           FY22                     0.0                     0.0   \n                       FY22                     0.0                     0.0   \n                       FY22                     0.0                     0.0   \n                       FY22                     0.0                     0.0   \n                       FY22                     0.0                     0.0   \n\n                                                   \\\n                                INSTALLATION FEES   \n                            Prior Year Adjustment   \n                                    4050-552 - RW   \nActual   Final Revised FY15                   0.0   \n                       FY15                   0.0   \n                       FY15                   0.0   \n                       FY15                   0.0   \n                       FY15                   0.0   \n...                                           ...   \nForecast 8+4           FY22                   0.0   \n                       FY22                   0.0   \n                       FY22                   0.0   \n                       FY22                   0.0   \n                       FY22                   0.0   \n\n                                                                \\\n                                                                 \n                                                                 \n                            OTHER REVENUE - CONTRACT PLAN - RW   \nActual   Final Revised FY15                                0.0   \n                       FY15                                0.0   \n                       FY15                                0.0   \n                       FY15                                0.0   \n                       FY15                                0.0   \n...                                                        ...   \nForecast 8+4           FY22                                0.0   \n                       FY22                                0.0   \n                       FY22                                0.0   \n                       FY22                                0.0   \n                       FY22                                0.0   \n\n                                                     \\\n                                     NSF CHARGE 200   \n                              Prior Year Adjustment   \n                            OTHER REVENUE - NA - RW   \nActual   Final Revised FY15                     0.0   \n                       FY15                     0.0   \n                       FY15                     0.0   \n                       FY15                     0.0   \n                       FY15                     0.0   \n...                                             ...   \nForecast 8+4           FY22                     0.0   \n                       FY22                     0.0   \n                       FY22                     0.0   \n                       FY22                     0.0   \n                       FY22                     0.0   \n\n                                                              \\\n                            Preview Readychex Void/Stop Pymt   \n                                       Prior Year Adjustment   \n                                     OTHER REVENUE - NA - RW   \nActual   Final Revised FY15                              0.0   \n                       FY15                              0.0   \n                       FY15                              0.0   \n                       FY15                              0.0   \n                       FY15                              0.0   \n...                                                      ...   \nForecast 8+4           FY22                              0.0   \n                       FY22                              0.0   \n                       FY22                              0.0   \n                       FY22                              0.0   \n                       FY22                              0.0   \n\n                                                           \\\n                            MMS Amended Return Processing   \n                                    Prior Year Adjustment   \n                                  OTHER REVENUE - NA - RW   \nActual   Final Revised FY15                           0.0   \n                       FY15                           0.0   \n                       FY15                           0.0   \n                       FY15                           0.0   \n                       FY15                           0.0   \n...                                                   ...   \nForecast 8+4           FY22                           0.0   \n                       FY22                           0.0   \n                       FY22                           0.0   \n                       FY22                           0.0   \n                       FY22                           0.0   \n\n                                                           \n                                                           \n                                                           \n                            MAINTENANCE REVENUE - NA - RW  \nActual   Final Revised FY15                           0.0  \n                       FY15                           0.0  \n                       FY15                           0.0  \n                       FY15                           0.0  \n                       FY15                           0.0  \n...                                                   ...  \nForecast 8+4           FY22                           0.0  \n                       FY22                           0.0  \n                       FY22                           0.0  \n                       FY22                           0.0  \n                       FY22                           0.0  \n\n[182 rows x 2473 columns]",
      "text/html": "<div>\n<style scoped>\n    .dataframe tbody tr th:only-of-type {\n        vertical-align: middle;\n    }\n\n    .dataframe tbody tr th {\n        vertical-align: top;\n    }\n\n    .dataframe thead tr th {\n        text-align: left;\n    }\n</style>\n<table border=\"1\" class=\"dataframe\">\n  <thead>\n    <tr>\n      <th></th>\n      <th></th>\n      <th></th>\n      <th>period</th>\n      <th colspan=\"20\" halign=\"left\">Total Activity</th>\n    </tr>\n    <tr>\n      <th></th>\n      <th></th>\n      <th></th>\n      <th></th>\n      <th colspan=\"9\" halign=\"left\">Total Flex W-2 Revenue</th>\n      <th>...</th>\n      <th>AMENDED RETURN PROCESSING</th>\n      <th>Manual Invoice Pymt Fee</th>\n      <th>OTHER-PREVIEW</th>\n      <th>BUSINESS TAX SERVICE</th>\n      <th colspan=\"2\" halign=\"left\">INSTALLATION FEES</th>\n      <th>NSF CHARGE 200</th>\n      <th>Preview Readychex Void/Stop Pymt</th>\n      <th colspan=\"2\" halign=\"left\">MMS Amended Return Processing</th>\n    </tr>\n    <tr>\n      <th></th>\n      <th></th>\n      <th></th>\n      <th></th>\n      <th colspan=\"3\" halign=\"left\">Auburn RSC</th>\n      <th colspan=\"3\" halign=\"left\">Rochester RSC</th>\n      <th colspan=\"3\" halign=\"left\">Greensboro RSC</th>\n      <th>...</th>\n      <th>Prior Year Adjustment</th>\n      <th>Prior Year Adjustment</th>\n      <th>Prior Year Adjustment</th>\n      <th>Prior Year Adjustment</th>\n      <th colspan=\"2\" halign=\"left\">Prior Year Adjustment</th>\n      <th>Prior Year Adjustment</th>\n      <th>Prior Year Adjustment</th>\n      <th colspan=\"2\" halign=\"left\">Prior Year Adjustment</th>\n    </tr>\n    <tr>\n      <th></th>\n      <th></th>\n      <th></th>\n      <th></th>\n      <th>FEE REVENUE - NA - RW</th>\n      <th>MAINTENANCE REVENUE - NA - RW</th>\n      <th>SALES DISCOUNTS - NA - RW</th>\n      <th>FEE REVENUE - NA - RW</th>\n      <th>MAINTENANCE REVENUE - NA - RW</th>\n      <th>SALES DISCOUNTS - NA - RW</th>\n      <th>FEE REVENUE - NA - RW</th>\n      <th>MAINTENANCE REVENUE - NA - RW</th>\n      <th>SALES DISCOUNTS - NA - RW</th>\n      <th>...</th>\n      <th>MAINTENANCE REVENUE - NA - RW</th>\n      <th>MAINTENANCE REVENUE - NA - RW</th>\n      <th>OTHER REVENUE - NA - RW</th>\n      <th>OTHER REVENUE - NA - RW</th>\n      <th>4050-552 - RW</th>\n      <th>OTHER REVENUE - CONTRACT PLAN - RW</th>\n      <th>OTHER REVENUE - NA - RW</th>\n      <th>OTHER REVENUE - NA - RW</th>\n      <th>OTHER REVENUE - NA - RW</th>\n      <th>MAINTENANCE REVENUE - NA - RW</th>\n    </tr>\n  </thead>\n  <tbody>\n    <tr>\n      <th rowspan=\"5\" valign=\"top\">Actual</th>\n      <th rowspan=\"5\" valign=\"top\">Final Revised</th>\n      <th>FY15</th>\n      <td>0</td>\n      <td>6549868.12</td>\n      <td>0.00</td>\n      <td>-189076.13</td>\n      <td>5504479.81</td>\n      <td>0.00</td>\n      <td>-198081.15</td>\n      <td>4963908.75</td>\n      <td>0.00</td>\n      <td>-144758.80</td>\n      <td>...</td>\n      <td>0.0</td>\n      <td>0.0</td>\n      <td>0.0</td>\n      <td>0.0</td>\n      <td>0.0</td>\n      <td>0.0</td>\n      <td>0.0</td>\n      <td>0.0</td>\n      <td>0.0</td>\n      <td>0.0</td>\n    </tr>\n    <tr>\n      <th>FY15</th>\n      <td>1</td>\n      <td>12851.65</td>\n      <td>0.00</td>\n      <td>0.00</td>\n      <td>13090.92</td>\n      <td>0.00</td>\n      <td>0.00</td>\n      <td>13677.85</td>\n      <td>0.00</td>\n      <td>0.00</td>\n      <td>...</td>\n      <td>0.0</td>\n      <td>0.0</td>\n      <td>0.0</td>\n      <td>0.0</td>\n      <td>0.0</td>\n      <td>0.0</td>\n      <td>0.0</td>\n      <td>0.0</td>\n      <td>0.0</td>\n      <td>0.0</td>\n    </tr>\n    <tr>\n      <th>FY15</th>\n      <td>2</td>\n      <td>17554.04</td>\n      <td>0.00</td>\n      <td>19.90</td>\n      <td>14419.52</td>\n      <td>0.00</td>\n      <td>0.00</td>\n      <td>21457.60</td>\n      <td>0.00</td>\n      <td>0.00</td>\n      <td>...</td>\n      <td>0.0</td>\n      <td>0.0</td>\n      <td>0.0</td>\n      <td>0.0</td>\n      <td>0.0</td>\n      <td>0.0</td>\n      <td>0.0</td>\n      <td>0.0</td>\n      <td>0.0</td>\n      <td>0.0</td>\n    </tr>\n    <tr>\n      <th>FY15</th>\n      <td>3</td>\n      <td>11192.36</td>\n      <td>0.00</td>\n      <td>0.00</td>\n      <td>6470.22</td>\n      <td>0.00</td>\n      <td>0.00</td>\n      <td>20807.02</td>\n      <td>0.00</td>\n      <td>0.00</td>\n      <td>...</td>\n      <td>0.0</td>\n      <td>0.0</td>\n      <td>0.0</td>\n      <td>0.0</td>\n      <td>0.0</td>\n      <td>0.0</td>\n      <td>0.0</td>\n      <td>0.0</td>\n      <td>0.0</td>\n      <td>0.0</td>\n    </tr>\n    <tr>\n      <th>FY15</th>\n      <td>4</td>\n      <td>16141.68</td>\n      <td>0.00</td>\n      <td>0.00</td>\n      <td>14781.63</td>\n      <td>0.00</td>\n      <td>0.00</td>\n      <td>14446.80</td>\n      <td>0.00</td>\n      <td>0.00</td>\n      <td>...</td>\n      <td>0.0</td>\n      <td>0.0</td>\n      <td>0.0</td>\n      <td>0.0</td>\n      <td>0.0</td>\n      <td>0.0</td>\n      <td>0.0</td>\n      <td>0.0</td>\n      <td>0.0</td>\n      <td>0.0</td>\n    </tr>\n    <tr>\n      <th>...</th>\n      <th>...</th>\n      <th>...</th>\n      <td>...</td>\n      <td>...</td>\n      <td>...</td>\n      <td>...</td>\n      <td>...</td>\n      <td>...</td>\n      <td>...</td>\n      <td>...</td>\n      <td>...</td>\n      <td>...</td>\n      <td>...</td>\n      <td>...</td>\n      <td>...</td>\n      <td>...</td>\n      <td>...</td>\n      <td>...</td>\n      <td>...</td>\n      <td>...</td>\n      <td>...</td>\n      <td>...</td>\n      <td>...</td>\n    </tr>\n    <tr>\n      <th rowspan=\"5\" valign=\"top\">Forecast</th>\n      <th rowspan=\"5\" valign=\"top\">8+4</th>\n      <th>FY22</th>\n      <td>8</td>\n      <td>0.00</td>\n      <td>4063160.93</td>\n      <td>-120148.25</td>\n      <td>0.00</td>\n      <td>4095525.80</td>\n      <td>-112479.64</td>\n      <td>0.00</td>\n      <td>2429416.46</td>\n      <td>-67521.35</td>\n      <td>...</td>\n      <td>0.0</td>\n      <td>0.0</td>\n      <td>0.0</td>\n      <td>0.0</td>\n      <td>0.0</td>\n      <td>0.0</td>\n      <td>0.0</td>\n      <td>0.0</td>\n      <td>0.0</td>\n      <td>0.0</td>\n    </tr>\n    <tr>\n      <th>FY22</th>\n      <td>9</td>\n      <td>0.00</td>\n      <td>-2389.86</td>\n      <td>0.00</td>\n      <td>0.00</td>\n      <td>3674.45</td>\n      <td>0.00</td>\n      <td>0.00</td>\n      <td>2921.82</td>\n      <td>0.00</td>\n      <td>...</td>\n      <td>0.0</td>\n      <td>0.0</td>\n      <td>0.0</td>\n      <td>0.0</td>\n      <td>0.0</td>\n      <td>0.0</td>\n      <td>0.0</td>\n      <td>0.0</td>\n      <td>0.0</td>\n      <td>0.0</td>\n    </tr>\n    <tr>\n      <th>FY22</th>\n      <td>10</td>\n      <td>0.00</td>\n      <td>3515.14</td>\n      <td>0.00</td>\n      <td>0.00</td>\n      <td>468983.32</td>\n      <td>0.00</td>\n      <td>0.00</td>\n      <td>926.02</td>\n      <td>0.00</td>\n      <td>...</td>\n      <td>0.0</td>\n      <td>0.0</td>\n      <td>0.0</td>\n      <td>0.0</td>\n      <td>0.0</td>\n      <td>0.0</td>\n      <td>0.0</td>\n      <td>0.0</td>\n      <td>0.0</td>\n      <td>0.0</td>\n    </tr>\n    <tr>\n      <th>FY22</th>\n      <td>11</td>\n      <td>0.00</td>\n      <td>6520.14</td>\n      <td>0.00</td>\n      <td>0.00</td>\n      <td>5243.23</td>\n      <td>0.00</td>\n      <td>0.00</td>\n      <td>4466.87</td>\n      <td>0.00</td>\n      <td>...</td>\n      <td>0.0</td>\n      <td>0.0</td>\n      <td>0.0</td>\n      <td>0.0</td>\n      <td>0.0</td>\n      <td>0.0</td>\n      <td>0.0</td>\n      <td>0.0</td>\n      <td>0.0</td>\n      <td>0.0</td>\n    </tr>\n    <tr>\n      <th>FY22</th>\n      <td>12</td>\n      <td>0.00</td>\n      <td>6144.04</td>\n      <td>0.00</td>\n      <td>0.00</td>\n      <td>6648.18</td>\n      <td>0.00</td>\n      <td>0.00</td>\n      <td>3779.30</td>\n      <td>0.00</td>\n      <td>...</td>\n      <td>0.0</td>\n      <td>0.0</td>\n      <td>0.0</td>\n      <td>0.0</td>\n      <td>0.0</td>\n      <td>0.0</td>\n      <td>0.0</td>\n      <td>0.0</td>\n      <td>0.0</td>\n      <td>0.0</td>\n    </tr>\n  </tbody>\n</table>\n<p>182 rows × 2473 columns</p>\n</div>"
     },
     "execution_count": 54,
     "metadata": {},
     "output_type": "execute_result"
    }
   ],
   "source": [
    "df"
   ],
   "metadata": {
    "collapsed": false,
    "pycharm": {
     "name": "#%%\n"
    }
   }
  },
  {
   "cell_type": "code",
   "execution_count": 55,
   "outputs": [
    {
     "data": {
      "text/plain": "                                      0.000000\n167 Miscellaneous Risk Revenue        0.555490\nAFTER THE FACT                        0.004030\nAMENDED RETURN PROCESSING            44.181481\nBUSINESS TAX SERVICE                  0.120239\nENVELOPES 100                         0.007876\nENVELOPES 200                         0.000185\nFULFILLMENT                           0.001272\nFlex Readychex Void/Stop Pmt          3.029241\nINSTALLATION FEES                     0.001550\nLATE FEES 100                         1.171307\nLATE FEES 200                         0.058537\nMMS Amended Return Processing         0.173673\nMMS Miscellaneous Risk Revenue        0.013464\nManual Invoice Pymt Fee               0.290517\nNSF CHARGE 100                        3.617537\nNSF CHARGE 200                        0.005497\nOTHER-PR                             31.007248\nOTHER-PREVIEW                         0.607820\nPACE LATE FEES                        0.002905\nPACE OTHER PR PROC                    0.504947\nPAYCHEX ONLINE REPORTS                5.174212\nPRD217                                0.000000\nPRD820                                0.032457\nPRD851                                0.002660\nPREV HR                               0.175979\nPreview Readychex Void/Stop Pymt      0.000085\nREPORTS 100                           6.764126\nSPLIT PACKING 100                     1.177737\nSPLIT PACKING 200                     0.066024\nSTATE RETURNS 100                     2.225747\nSTATE RETURNS 200                     0.227614\nSTOP PAYMT FEES                      -0.032187\nSmallBiz Other                        0.000000\nTotal Advantage W-2 Revenue           0.963889\nTotal Flex W-2 Revenue               78.590934\nTotal Flex and Adv Delivery         115.307450\nTotal Preview Delivery Revenue        1.721912\nTotal Preview W-2 Revenue             2.226211\nWORKERS COMP PMT SERVICE              0.011168\nYR END PREP 100                       1.093840\nYR END PREP 200                       0.005593\nName: (Forecast, 6+6, FY22), dtype: float64"
     },
     "execution_count": 55,
     "metadata": {},
     "output_type": "execute_result"
    }
   ],
   "source": [
    "df[df['period']==0]\\\n",
    "    .loc[(\"Forecast\",\"6+6\",\"FY22\"),:].groupby(level=1).sum()/1000000"
   ],
   "metadata": {
    "collapsed": false,
    "pycharm": {
     "name": "#%%\n"
    }
   }
  },
  {
   "cell_type": "code",
   "execution_count": 56,
   "outputs": [],
   "source": [
    "df[\"Total Activity\", \"Total\", \"Total\",\"Total\"] = df[\"Total Activity\"].sum(axis=1)"
   ],
   "metadata": {
    "collapsed": false,
    "pycharm": {
     "name": "#%%\n"
    }
   }
  },
  {
   "cell_type": "code",
   "execution_count": 57,
   "outputs": [
    {
     "data": {
      "text/plain": "301.09026759"
     },
     "execution_count": 57,
     "metadata": {},
     "output_type": "execute_result"
    }
   ],
   "source": [
    "df[df['period']==0]\\\n",
    "    .loc[(\"Forecast\",\"6+6\",\"FY22\"),\n",
    "         (\"Total Activity\",\"Total\", \"Total\", \"Total\")]/1000000"
   ],
   "metadata": {
    "collapsed": false,
    "pycharm": {
     "name": "#%%\n"
    }
   }
  },
  {
   "cell_type": "markdown",
   "source": [
    "## IFHC"
   ],
   "metadata": {
    "collapsed": false
   }
  },
  {
   "cell_type": "code",
   "execution_count": 58,
   "outputs": [
    {
     "data": {
      "text/plain": "'IFHC.txt'"
     },
     "execution_count": 58,
     "metadata": {},
     "output_type": "execute_result"
    }
   ],
   "source": [
    "blob_list[6]"
   ],
   "metadata": {
    "collapsed": false,
    "pycharm": {
     "name": "#%%\n"
    }
   }
  },
  {
   "cell_type": "code",
   "execution_count": 59,
   "outputs": [],
   "source": [
    "df = get_df(blob_service_client, blob_list[6], container= container_name)"
   ],
   "metadata": {
    "collapsed": false,
    "pycharm": {
     "name": "#%%\n"
    }
   }
  },
  {
   "cell_type": "code",
   "execution_count": 61,
   "outputs": [
    {
     "data": {
      "text/plain": "                            period              Total Activity  \\\n                                                 Total Product   \n                                                 Total Paychex   \n                                   Interest on Funds Held - RW   \nActual   Final Revised FY15      0                  42081141.0   \n                       FY15      1                   3308153.0   \n                       FY15      2                   3466374.0   \n                       FY15      3                   3434418.0   \n                       FY15      4                   3419918.0   \n...                            ...                         ...   \nForecast 8+4           FY22      8                   4865483.0   \n                       FY22      9                   4676956.0   \n                       FY22     10                   4725496.0   \n                       FY22     11                   4763628.0   \n                       FY22     12                   4585198.0   \n\n                                                         \\\n                                             TAXPAY 100   \n                                      2100 TAXPAY ADMIN   \n                            S/T INVESTMENT REVENUE - RW   \nActual   Final Revised FY15                         0.0   \n                       FY15                         0.0   \n                       FY15                         0.0   \n                       FY15                         0.0   \n                       FY15                         0.0   \n...                                                 ...   \nForecast 8+4           FY22                         0.0   \n                       FY22                         0.0   \n                       FY22                         0.0   \n                       FY22                         0.0   \n                       FY22                         0.0   \n\n                                                          \\\n                              SALES TAX PAYMENT SERVICES   \n                            5730 TAX CREDIT SERVICES OPS   \n                             S/T INVESTMENT REVENUE - RW   \nActual   Final Revised FY15                          0.0   \n                       FY15                          0.0   \n                       FY15                          0.0   \n                       FY15                          0.0   \n                       FY15                          0.0   \n...                                                  ...   \nForecast 8+4           FY22                          0.0   \n                       FY22                          0.0   \n                       FY22                          0.0   \n                       FY22                          0.0   \n                       FY22                          0.0   \n\n                                                          \\\n                                              Product NA   \n                            5730 TAX CREDIT SERVICES OPS   \n                             S/T INVESTMENT REVENUE - RW   \nActual   Final Revised FY15                          0.0   \n                       FY15                          0.0   \n                       FY15                          0.0   \n                       FY15                          0.0   \n                       FY15                          0.0   \n...                                                  ...   \nForecast 8+4           FY22                          0.0   \n                       FY22                          0.0   \n                       FY22                          0.0   \n                       FY22                          0.0   \n                       FY22                          0.0   \n\n                                                          \\\n                                                 HRS DIV   \n                            5730 TAX CREDIT SERVICES OPS   \n                             S/T INVESTMENT REVENUE - RW   \nActual   Final Revised FY15                          0.0   \n                       FY15                          0.0   \n                       FY15                          0.0   \n                       FY15                          0.0   \n                       FY15                          0.0   \n...                                                  ...   \nForecast 8+4           FY22                          0.0   \n                       FY22                          0.0   \n                       FY22                          0.0   \n                       FY22                          0.0   \n                       FY22                          0.0   \n\n                                                         \\\n                                         DIRECT DEP 100   \n                                  2200 DIRECT DEP ADMIN   \n                            L/T INVESTMENT REVENUE - RW   \nActual   Final Revised FY15                         0.0   \n                       FY15                         0.0   \n                       FY15                         0.0   \n                       FY15                         0.0   \n                       FY15                         0.0   \n...                                                 ...   \nForecast 8+4           FY22                         0.0   \n                       FY22                         0.0   \n                       FY22                         0.0   \n                       FY22                         0.0   \n                       FY22                         0.0   \n\n                                                         \\\n                                                          \n                                                          \n                            S/T INVESTMENT REVENUE - RW   \nActual   Final Revised FY15                         0.0   \n                       FY15                         0.0   \n                       FY15                         0.0   \n                       FY15                         0.0   \n                       FY15                         0.0   \n...                                                 ...   \nForecast 8+4           FY22                         0.0   \n                       FY22                         0.0   \n                       FY22                         0.0   \n                       FY22                         0.0   \n                       FY22                         0.0   \n\n                                                                    \\\n                                                         WORK COMP   \n                            5320 AGENCY BILLING AND RECONCILIATION   \n                                       L/T INVESTMENT REVENUE - RW   \nActual   Final Revised FY15                                    0.0   \n                       FY15                                    0.0   \n                       FY15                                    0.0   \n                       FY15                                    0.0   \n                       FY15                                    0.0   \n...                                                            ...   \nForecast 8+4           FY22                                    0.0   \n                       FY22                                    0.0   \n                       FY22                                    0.0   \n                       FY22                                    0.0   \n                       FY22                                    0.0   \n\n                                                            ...  \\\n                                                            ...   \n                                                            ...   \n                            L/T Accretion of discount - RW  ...   \nActual   Final Revised FY15                            0.0  ...   \n                       FY15                            0.0  ...   \n                       FY15                            0.0  ...   \n                       FY15                            0.0  ...   \n                       FY15                            0.0  ...   \n...                                                    ...  ...   \nForecast 8+4           FY22                            0.0  ...   \n                       FY22                            0.0  ...   \n                       FY22                            0.0  ...   \n                       FY22                            0.0  ...   \n                       FY22                            0.0  ...   \n\n                                                             \\\n                                            EXPENSE MANAGER   \n                                         6400 TREASURY MGMT   \n                            Interest on ST non-taxable - RW   \nActual   Final Revised FY15                             0.0   \n                       FY15                             0.0   \n                       FY15                             0.0   \n                       FY15                             0.0   \n                       FY15                             0.0   \n...                                                     ...   \nForecast 8+4           FY22                             0.0   \n                       FY22                             0.0   \n                       FY22                             0.0   \n                       FY22                             0.0   \n                       FY22                             0.0   \n\n                                                         \\\n                                             Product NA   \n                                     6400 TREASURY MGMT   \n                            L/T INVESTMENT REVENUE - RW   \nActual   Final Revised FY15                         0.0   \n                       FY15                         0.0   \n                       FY15                         0.0   \n                       FY15                         0.0   \n                       FY15                         0.0   \n...                                                 ...   \nForecast 8+4           FY22                         0.0   \n                       FY22                         0.0   \n                       FY22                         0.0   \n                       FY22                         0.0   \n                       FY22                         0.0   \n\n                                                         \\\n                                                          \n                                                          \n                            S/T INVESTMENT REVENUE - RW   \nActual   Final Revised FY15                         0.0   \n                       FY15                         0.0   \n                       FY15                         0.0   \n                       FY15                         0.0   \n                       FY15                         0.0   \n...                                                 ...   \nForecast 8+4           FY22                         0.0   \n                       FY22                         0.0   \n                       FY22                         0.0   \n                       FY22                         0.0   \n                       FY22                         0.0   \n\n                                                         \\\n                                                          \n                                                          \n                            Interest on ST taxable - RW   \nActual   Final Revised FY15                         0.0   \n                       FY15                         0.0   \n                       FY15                         0.0   \n                       FY15                         0.0   \n                       FY15                         0.0   \n...                                                 ...   \nForecast 8+4           FY22                         0.0   \n                       FY22                         0.0   \n                       FY22                         0.0   \n                       FY22                         0.0   \n                       FY22                         0.0   \n\n                                                         \\\n                                                HRS DIV   \n                                     6400 TREASURY MGMT   \n                            S/T INVESTMENT REVENUE - RW   \nActual   Final Revised FY15                    109846.0   \n                       FY15                     20849.0   \n                       FY15                      7880.0   \n                       FY15                      6906.0   \n                       FY15                      6869.0   \n...                                                 ...   \nForecast 8+4           FY22                     15912.0   \n                       FY22                    128291.0   \n                       FY22                    128514.0   \n                       FY22                    128440.0   \n                       FY22                    128929.0   \n\n                                                         \\\n                                      PEO ADMIN Revenue   \n                                     6400 TREASURY MGMT   \n                            S/T INVESTMENT REVENUE - RW   \nActual   Final Revised FY15                     50575.0   \n                       FY15                      1944.0   \n                       FY15                      3685.0   \n                       FY15                      3809.0   \n                       FY15                      4195.0   \n...                                                 ...   \nForecast 8+4           FY22                         0.0   \n                       FY22                         0.0   \n                       FY22                         0.0   \n                       FY22                         0.0   \n                       FY22                         0.0   \n\n                                                         \\\n                                      OTHER H&B REVENUE   \n                                     6400 TREASURY MGMT   \n                            S/T INVESTMENT REVENUE - RW   \nActual   Final Revised FY15                       309.0   \n                       FY15                        29.0   \n                       FY15                         0.0   \n                       FY15                        25.0   \n                       FY15                        30.0   \n...                                                 ...   \nForecast 8+4           FY22                         0.0   \n                       FY22                         0.0   \n                       FY22                         0.0   \n                       FY22                         0.0   \n                       FY22                         0.0   \n\n                                                         \\\n                                                          \n                                                          \n                            Interest on ST taxable - RW   \nActual   Final Revised FY15                         0.0   \n                       FY15                         0.0   \n                       FY15                         0.0   \n                       FY15                         0.0   \n                       FY15                         0.0   \n...                                                 ...   \nForecast 8+4           FY22                         2.0   \n                       FY22                         0.0   \n                       FY22                         0.0   \n                       FY22                         0.0   \n                       FY22                         0.0   \n\n                                                         \\\n                                      PEO ADMIN Revenue   \n                                         1900 Oasis Ops   \n                            S/T INVESTMENT REVENUE - RW   \nActual   Final Revised FY15                         0.0   \n                       FY15                         0.0   \n                       FY15                         0.0   \n                       FY15                         0.0   \n                       FY15                         0.0   \n...                                                 ...   \nForecast 8+4           FY22                         0.0   \n                       FY22                         0.0   \n                       FY22                         0.0   \n                       FY22                         0.0   \n                       FY22                         0.0   \n\n                                                         \n                                                         \n                                0741 PBS ST. PETERSBURG  \n                            S/T INVESTMENT REVENUE - RW  \nActual   Final Revised FY15                         0.0  \n                       FY15                         0.0  \n                       FY15                         0.0  \n                       FY15                         0.0  \n                       FY15                         0.0  \n...                                                 ...  \nForecast 8+4           FY22                       710.0  \n                       FY22                         0.0  \n                       FY22                         0.0  \n                       FY22                         0.0  \n                       FY22                         0.0  \n\n[182 rows x 99 columns]",
      "text/html": "<div>\n<style scoped>\n    .dataframe tbody tr th:only-of-type {\n        vertical-align: middle;\n    }\n\n    .dataframe tbody tr th {\n        vertical-align: top;\n    }\n\n    .dataframe thead tr th {\n        text-align: left;\n    }\n</style>\n<table border=\"1\" class=\"dataframe\">\n  <thead>\n    <tr>\n      <th></th>\n      <th></th>\n      <th></th>\n      <th>period</th>\n      <th colspan=\"20\" halign=\"left\">Total Activity</th>\n    </tr>\n    <tr>\n      <th></th>\n      <th></th>\n      <th></th>\n      <th></th>\n      <th>Total Product</th>\n      <th>TAXPAY 100</th>\n      <th>SALES TAX PAYMENT SERVICES</th>\n      <th>Product NA</th>\n      <th>HRS DIV</th>\n      <th colspan=\"2\" halign=\"left\">DIRECT DEP 100</th>\n      <th colspan=\"2\" halign=\"left\">WORK COMP</th>\n      <th>...</th>\n      <th>EXPENSE MANAGER</th>\n      <th colspan=\"3\" halign=\"left\">Product NA</th>\n      <th>HRS DIV</th>\n      <th>PEO ADMIN Revenue</th>\n      <th colspan=\"2\" halign=\"left\">OTHER H&amp;B REVENUE</th>\n      <th colspan=\"2\" halign=\"left\">PEO ADMIN Revenue</th>\n    </tr>\n    <tr>\n      <th></th>\n      <th></th>\n      <th></th>\n      <th></th>\n      <th>Total Paychex</th>\n      <th>2100 TAXPAY ADMIN</th>\n      <th>5730 TAX CREDIT SERVICES OPS</th>\n      <th>5730 TAX CREDIT SERVICES OPS</th>\n      <th>5730 TAX CREDIT SERVICES OPS</th>\n      <th colspan=\"2\" halign=\"left\">2200 DIRECT DEP ADMIN</th>\n      <th colspan=\"2\" halign=\"left\">5320 AGENCY BILLING AND RECONCILIATION</th>\n      <th>...</th>\n      <th>6400 TREASURY MGMT</th>\n      <th colspan=\"3\" halign=\"left\">6400 TREASURY MGMT</th>\n      <th>6400 TREASURY MGMT</th>\n      <th>6400 TREASURY MGMT</th>\n      <th colspan=\"2\" halign=\"left\">6400 TREASURY MGMT</th>\n      <th>1900 Oasis Ops</th>\n      <th>0741 PBS ST. PETERSBURG</th>\n    </tr>\n    <tr>\n      <th></th>\n      <th></th>\n      <th></th>\n      <th></th>\n      <th>Interest on Funds Held - RW</th>\n      <th>S/T INVESTMENT REVENUE - RW</th>\n      <th>S/T INVESTMENT REVENUE - RW</th>\n      <th>S/T INVESTMENT REVENUE - RW</th>\n      <th>S/T INVESTMENT REVENUE - RW</th>\n      <th>L/T INVESTMENT REVENUE - RW</th>\n      <th>S/T INVESTMENT REVENUE - RW</th>\n      <th>L/T INVESTMENT REVENUE - RW</th>\n      <th>L/T Accretion of discount - RW</th>\n      <th>...</th>\n      <th>Interest on ST non-taxable - RW</th>\n      <th>L/T INVESTMENT REVENUE - RW</th>\n      <th>S/T INVESTMENT REVENUE - RW</th>\n      <th>Interest on ST taxable - RW</th>\n      <th>S/T INVESTMENT REVENUE - RW</th>\n      <th>S/T INVESTMENT REVENUE - RW</th>\n      <th>S/T INVESTMENT REVENUE - RW</th>\n      <th>Interest on ST taxable - RW</th>\n      <th>S/T INVESTMENT REVENUE - RW</th>\n      <th>S/T INVESTMENT REVENUE - RW</th>\n    </tr>\n  </thead>\n  <tbody>\n    <tr>\n      <th rowspan=\"5\" valign=\"top\">Actual</th>\n      <th rowspan=\"5\" valign=\"top\">Final Revised</th>\n      <th>FY15</th>\n      <td>0</td>\n      <td>42081141.0</td>\n      <td>0.0</td>\n      <td>0.0</td>\n      <td>0.0</td>\n      <td>0.0</td>\n      <td>0.0</td>\n      <td>0.0</td>\n      <td>0.0</td>\n      <td>0.0</td>\n      <td>...</td>\n      <td>0.0</td>\n      <td>0.0</td>\n      <td>0.0</td>\n      <td>0.0</td>\n      <td>109846.0</td>\n      <td>50575.0</td>\n      <td>309.0</td>\n      <td>0.0</td>\n      <td>0.0</td>\n      <td>0.0</td>\n    </tr>\n    <tr>\n      <th>FY15</th>\n      <td>1</td>\n      <td>3308153.0</td>\n      <td>0.0</td>\n      <td>0.0</td>\n      <td>0.0</td>\n      <td>0.0</td>\n      <td>0.0</td>\n      <td>0.0</td>\n      <td>0.0</td>\n      <td>0.0</td>\n      <td>...</td>\n      <td>0.0</td>\n      <td>0.0</td>\n      <td>0.0</td>\n      <td>0.0</td>\n      <td>20849.0</td>\n      <td>1944.0</td>\n      <td>29.0</td>\n      <td>0.0</td>\n      <td>0.0</td>\n      <td>0.0</td>\n    </tr>\n    <tr>\n      <th>FY15</th>\n      <td>2</td>\n      <td>3466374.0</td>\n      <td>0.0</td>\n      <td>0.0</td>\n      <td>0.0</td>\n      <td>0.0</td>\n      <td>0.0</td>\n      <td>0.0</td>\n      <td>0.0</td>\n      <td>0.0</td>\n      <td>...</td>\n      <td>0.0</td>\n      <td>0.0</td>\n      <td>0.0</td>\n      <td>0.0</td>\n      <td>7880.0</td>\n      <td>3685.0</td>\n      <td>0.0</td>\n      <td>0.0</td>\n      <td>0.0</td>\n      <td>0.0</td>\n    </tr>\n    <tr>\n      <th>FY15</th>\n      <td>3</td>\n      <td>3434418.0</td>\n      <td>0.0</td>\n      <td>0.0</td>\n      <td>0.0</td>\n      <td>0.0</td>\n      <td>0.0</td>\n      <td>0.0</td>\n      <td>0.0</td>\n      <td>0.0</td>\n      <td>...</td>\n      <td>0.0</td>\n      <td>0.0</td>\n      <td>0.0</td>\n      <td>0.0</td>\n      <td>6906.0</td>\n      <td>3809.0</td>\n      <td>25.0</td>\n      <td>0.0</td>\n      <td>0.0</td>\n      <td>0.0</td>\n    </tr>\n    <tr>\n      <th>FY15</th>\n      <td>4</td>\n      <td>3419918.0</td>\n      <td>0.0</td>\n      <td>0.0</td>\n      <td>0.0</td>\n      <td>0.0</td>\n      <td>0.0</td>\n      <td>0.0</td>\n      <td>0.0</td>\n      <td>0.0</td>\n      <td>...</td>\n      <td>0.0</td>\n      <td>0.0</td>\n      <td>0.0</td>\n      <td>0.0</td>\n      <td>6869.0</td>\n      <td>4195.0</td>\n      <td>30.0</td>\n      <td>0.0</td>\n      <td>0.0</td>\n      <td>0.0</td>\n    </tr>\n    <tr>\n      <th>...</th>\n      <th>...</th>\n      <th>...</th>\n      <td>...</td>\n      <td>...</td>\n      <td>...</td>\n      <td>...</td>\n      <td>...</td>\n      <td>...</td>\n      <td>...</td>\n      <td>...</td>\n      <td>...</td>\n      <td>...</td>\n      <td>...</td>\n      <td>...</td>\n      <td>...</td>\n      <td>...</td>\n      <td>...</td>\n      <td>...</td>\n      <td>...</td>\n      <td>...</td>\n      <td>...</td>\n      <td>...</td>\n      <td>...</td>\n    </tr>\n    <tr>\n      <th rowspan=\"5\" valign=\"top\">Forecast</th>\n      <th rowspan=\"5\" valign=\"top\">8+4</th>\n      <th>FY22</th>\n      <td>8</td>\n      <td>4865483.0</td>\n      <td>0.0</td>\n      <td>0.0</td>\n      <td>0.0</td>\n      <td>0.0</td>\n      <td>0.0</td>\n      <td>0.0</td>\n      <td>0.0</td>\n      <td>0.0</td>\n      <td>...</td>\n      <td>0.0</td>\n      <td>0.0</td>\n      <td>0.0</td>\n      <td>0.0</td>\n      <td>15912.0</td>\n      <td>0.0</td>\n      <td>0.0</td>\n      <td>2.0</td>\n      <td>0.0</td>\n      <td>710.0</td>\n    </tr>\n    <tr>\n      <th>FY22</th>\n      <td>9</td>\n      <td>4676956.0</td>\n      <td>0.0</td>\n      <td>0.0</td>\n      <td>0.0</td>\n      <td>0.0</td>\n      <td>0.0</td>\n      <td>0.0</td>\n      <td>0.0</td>\n      <td>0.0</td>\n      <td>...</td>\n      <td>0.0</td>\n      <td>0.0</td>\n      <td>0.0</td>\n      <td>0.0</td>\n      <td>128291.0</td>\n      <td>0.0</td>\n      <td>0.0</td>\n      <td>0.0</td>\n      <td>0.0</td>\n      <td>0.0</td>\n    </tr>\n    <tr>\n      <th>FY22</th>\n      <td>10</td>\n      <td>4725496.0</td>\n      <td>0.0</td>\n      <td>0.0</td>\n      <td>0.0</td>\n      <td>0.0</td>\n      <td>0.0</td>\n      <td>0.0</td>\n      <td>0.0</td>\n      <td>0.0</td>\n      <td>...</td>\n      <td>0.0</td>\n      <td>0.0</td>\n      <td>0.0</td>\n      <td>0.0</td>\n      <td>128514.0</td>\n      <td>0.0</td>\n      <td>0.0</td>\n      <td>0.0</td>\n      <td>0.0</td>\n      <td>0.0</td>\n    </tr>\n    <tr>\n      <th>FY22</th>\n      <td>11</td>\n      <td>4763628.0</td>\n      <td>0.0</td>\n      <td>0.0</td>\n      <td>0.0</td>\n      <td>0.0</td>\n      <td>0.0</td>\n      <td>0.0</td>\n      <td>0.0</td>\n      <td>0.0</td>\n      <td>...</td>\n      <td>0.0</td>\n      <td>0.0</td>\n      <td>0.0</td>\n      <td>0.0</td>\n      <td>128440.0</td>\n      <td>0.0</td>\n      <td>0.0</td>\n      <td>0.0</td>\n      <td>0.0</td>\n      <td>0.0</td>\n    </tr>\n    <tr>\n      <th>FY22</th>\n      <td>12</td>\n      <td>4585198.0</td>\n      <td>0.0</td>\n      <td>0.0</td>\n      <td>0.0</td>\n      <td>0.0</td>\n      <td>0.0</td>\n      <td>0.0</td>\n      <td>0.0</td>\n      <td>0.0</td>\n      <td>...</td>\n      <td>0.0</td>\n      <td>0.0</td>\n      <td>0.0</td>\n      <td>0.0</td>\n      <td>128929.0</td>\n      <td>0.0</td>\n      <td>0.0</td>\n      <td>0.0</td>\n      <td>0.0</td>\n      <td>0.0</td>\n    </tr>\n  </tbody>\n</table>\n<p>182 rows × 99 columns</p>\n</div>"
     },
     "execution_count": 61,
     "metadata": {},
     "output_type": "execute_result"
    }
   ],
   "source": [
    "df"
   ],
   "metadata": {
    "collapsed": false,
    "pycharm": {
     "name": "#%%\n"
    }
   }
  },
  {
   "cell_type": "code",
   "execution_count": 60,
   "outputs": [
    {
     "data": {
      "text/plain": "119.227271"
     },
     "execution_count": 60,
     "metadata": {},
     "output_type": "execute_result"
    }
   ],
   "source": [
    "df[df['period']==0]\\\n",
    "    .loc[(\"Forecast\",\"6+6\",\"FY22\"),:].sum()/1000000"
   ],
   "metadata": {
    "collapsed": false,
    "pycharm": {
     "name": "#%%\n"
    }
   }
  },
  {
   "cell_type": "code",
   "execution_count": 63,
   "outputs": [
    {
     "data": {
      "text/plain": "                               0.000000\n401(K) PLANS                   0.210505\nDIRECT DEP 100                 1.863276\nESR                            0.003932\nEXPENSE MANAGER                0.000074\nGARNISHMENTS                   0.004464\nHRS DIV                        0.761659\nOTHER H&B REVENUE              0.000016\nPACE PAYROLL PROC              0.079849\nPEO ADMIN Revenue              0.003463\nPRD199                         0.010918\nProduct NA                     0.000000\nREADYCHEX 100                  0.468613\nSALES TAX PAYMENT SERVICES     0.000000\nTAXPAY 100                    56.195300\nTotal Product                 59.613636\nWORK COMP                      0.011566\nName: (Forecast, 6+6, FY22), dtype: float64"
     },
     "execution_count": 63,
     "metadata": {},
     "output_type": "execute_result"
    }
   ],
   "source": [
    "df[df['period']==0]\\\n",
    "    .loc[(\"Forecast\",\"6+6\",\"FY22\"),:].groupby(level=1).sum()/1000000"
   ],
   "metadata": {
    "collapsed": false,
    "pycharm": {
     "name": "#%%\n"
    }
   }
  },
  {
   "cell_type": "markdown",
   "source": [
    "## Insurance"
   ],
   "metadata": {
    "collapsed": false
   }
  },
  {
   "cell_type": "code",
   "execution_count": 68,
   "outputs": [
    {
     "data": {
      "text/plain": "'InsuranceRevenue.txt'"
     },
     "execution_count": 68,
     "metadata": {},
     "output_type": "execute_result"
    }
   ],
   "source": [
    "blob_list[7]"
   ],
   "metadata": {
    "collapsed": false,
    "pycharm": {
     "name": "#%%\n"
    }
   }
  },
  {
   "cell_type": "code",
   "execution_count": 69,
   "outputs": [],
   "source": [
    "df = get_df(blob_service_client, blob_list[7], container= container_name)"
   ],
   "metadata": {
    "collapsed": false,
    "pycharm": {
     "name": "#%%\n"
    }
   }
  },
  {
   "cell_type": "code",
   "execution_count": 70,
   "outputs": [
    {
     "data": {
      "text/plain": "                            period             Total Activity  \\\n                                       Total Insurance Agency   \n                                                Total Paychex   \n                                   Total Service Revenue - RW   \nActual   Final Revised FY15      0                131930105.0   \n                       FY15      1                 10084069.0   \n                       FY15      2                 10353254.0   \n                       FY15      3                 10968738.0   \n                       FY15      4                 11250149.0   \n...                            ...                        ...   \nForecast 8+4           FY22      8                 15110214.0   \n                       FY22      9                 15595209.0   \n                       FY22     10                 18806565.0   \n                       FY22     11                 16717962.0   \n                       FY22     12                 16397562.0   \n\n                                                        \\\n                            Total Workers Comp Revenue   \n                                         Total Paychex   \n                            Total Service Revenue - RW   \nActual   Final Revised FY15                 64157160.0   \n                       FY15                  4858397.0   \n                       FY15                  5244319.0   \n                       FY15                  5588578.0   \n                       FY15                  4968759.0   \n...                                                ...   \nForecast 8+4           FY22                  5645056.0   \n                       FY22                  5598828.0   \n                       FY22                  7568998.0   \n                       FY22                  6578746.0   \n                       FY22                  6376086.0   \n\n                                                             \n                            Total Insurance Service Revenue  \n                                              Total Paychex  \n                                 Total Service Revenue - RW  \nActual   Final Revised FY15                      67772945.0  \n                       FY15                       5225672.0  \n                       FY15                       5108935.0  \n                       FY15                       5380160.0  \n                       FY15                       6281391.0  \n...                                                     ...  \nForecast 8+4           FY22                       9465158.0  \n                       FY22                       9996381.0  \n                       FY22                      11237568.0  \n                       FY22                      10139217.0  \n                       FY22                      10021477.0  \n\n[182 rows x 4 columns]",
      "text/html": "<div>\n<style scoped>\n    .dataframe tbody tr th:only-of-type {\n        vertical-align: middle;\n    }\n\n    .dataframe tbody tr th {\n        vertical-align: top;\n    }\n\n    .dataframe thead tr th {\n        text-align: left;\n    }\n</style>\n<table border=\"1\" class=\"dataframe\">\n  <thead>\n    <tr>\n      <th></th>\n      <th></th>\n      <th></th>\n      <th>period</th>\n      <th colspan=\"3\" halign=\"left\">Total Activity</th>\n    </tr>\n    <tr>\n      <th></th>\n      <th></th>\n      <th></th>\n      <th></th>\n      <th>Total Insurance Agency</th>\n      <th>Total Workers Comp Revenue</th>\n      <th>Total Insurance Service Revenue</th>\n    </tr>\n    <tr>\n      <th></th>\n      <th></th>\n      <th></th>\n      <th></th>\n      <th>Total Paychex</th>\n      <th>Total Paychex</th>\n      <th>Total Paychex</th>\n    </tr>\n    <tr>\n      <th></th>\n      <th></th>\n      <th></th>\n      <th></th>\n      <th>Total Service Revenue - RW</th>\n      <th>Total Service Revenue - RW</th>\n      <th>Total Service Revenue - RW</th>\n    </tr>\n  </thead>\n  <tbody>\n    <tr>\n      <th rowspan=\"5\" valign=\"top\">Actual</th>\n      <th rowspan=\"5\" valign=\"top\">Final Revised</th>\n      <th>FY15</th>\n      <td>0</td>\n      <td>131930105.0</td>\n      <td>64157160.0</td>\n      <td>67772945.0</td>\n    </tr>\n    <tr>\n      <th>FY15</th>\n      <td>1</td>\n      <td>10084069.0</td>\n      <td>4858397.0</td>\n      <td>5225672.0</td>\n    </tr>\n    <tr>\n      <th>FY15</th>\n      <td>2</td>\n      <td>10353254.0</td>\n      <td>5244319.0</td>\n      <td>5108935.0</td>\n    </tr>\n    <tr>\n      <th>FY15</th>\n      <td>3</td>\n      <td>10968738.0</td>\n      <td>5588578.0</td>\n      <td>5380160.0</td>\n    </tr>\n    <tr>\n      <th>FY15</th>\n      <td>4</td>\n      <td>11250149.0</td>\n      <td>4968759.0</td>\n      <td>6281391.0</td>\n    </tr>\n    <tr>\n      <th>...</th>\n      <th>...</th>\n      <th>...</th>\n      <td>...</td>\n      <td>...</td>\n      <td>...</td>\n      <td>...</td>\n    </tr>\n    <tr>\n      <th rowspan=\"5\" valign=\"top\">Forecast</th>\n      <th rowspan=\"5\" valign=\"top\">8+4</th>\n      <th>FY22</th>\n      <td>8</td>\n      <td>15110214.0</td>\n      <td>5645056.0</td>\n      <td>9465158.0</td>\n    </tr>\n    <tr>\n      <th>FY22</th>\n      <td>9</td>\n      <td>15595209.0</td>\n      <td>5598828.0</td>\n      <td>9996381.0</td>\n    </tr>\n    <tr>\n      <th>FY22</th>\n      <td>10</td>\n      <td>18806565.0</td>\n      <td>7568998.0</td>\n      <td>11237568.0</td>\n    </tr>\n    <tr>\n      <th>FY22</th>\n      <td>11</td>\n      <td>16717962.0</td>\n      <td>6578746.0</td>\n      <td>10139217.0</td>\n    </tr>\n    <tr>\n      <th>FY22</th>\n      <td>12</td>\n      <td>16397562.0</td>\n      <td>6376086.0</td>\n      <td>10021477.0</td>\n    </tr>\n  </tbody>\n</table>\n<p>182 rows × 4 columns</p>\n</div>"
     },
     "execution_count": 70,
     "metadata": {},
     "output_type": "execute_result"
    }
   ],
   "source": [
    "df"
   ],
   "metadata": {
    "collapsed": false,
    "pycharm": {
     "name": "#%%\n"
    }
   }
  },
  {
   "cell_type": "code",
   "execution_count": 73,
   "outputs": [
    {
     "data": {
      "text/plain": "                                     0.000000\nTotal Insurance Agency             195.034700\nTotal Insurance Service Revenue    116.443142\nTotal Workers Comp Revenue          78.591558\nName: (Forecast, 6+6, FY22), dtype: float64"
     },
     "execution_count": 73,
     "metadata": {},
     "output_type": "execute_result"
    }
   ],
   "source": [
    "df[df['period']==0]\\\n",
    "    .loc[(\"Forecast\",\"6+6\",\"FY22\"),:].groupby(level=1).sum()/1000000"
   ],
   "metadata": {
    "collapsed": false,
    "pycharm": {
     "name": "#%%\n"
    }
   }
  },
  {
   "cell_type": "markdown",
   "source": [
    "## Other Mgmt"
   ],
   "metadata": {
    "collapsed": false
   }
  },
  {
   "cell_type": "code",
   "execution_count": 75,
   "outputs": [
    {
     "data": {
      "text/plain": "'OtherMgmtRevenue.txt'"
     },
     "execution_count": 75,
     "metadata": {},
     "output_type": "execute_result"
    }
   ],
   "source": [
    "blob_list[13]"
   ],
   "metadata": {
    "collapsed": false,
    "pycharm": {
     "name": "#%%\n"
    }
   }
  },
  {
   "cell_type": "code",
   "execution_count": 11,
   "outputs": [],
   "source": [
    "df = get_df(blob_service_client, blob_list[13], container= container_name)\\\n",
    "    .reset_index(-1)\\\n",
    "    .rename(columns={'level_3':'period'})\n",
    "\n",
    "#Correct month\n",
    "df['period'] = df['period'].\\\n",
    "    replace({'\\nJun': 1, '\\nJul': 2, '\\nAug': 3, '\\nSep': 4, '\\nOct': 5, '\\nNov': 6, '\\nDec': 7, '\\nJan': 8,\n",
    "             '\\nFeb': 9, '\\nMar': 10, '\\nApr': 11, '\\nMay': 12, 'YearTotal':0})\\\n",
    "    .astype('int')"
   ],
   "metadata": {
    "collapsed": false,
    "pycharm": {
     "name": "#%%\n"
    }
   }
  },
  {
   "cell_type": "code",
   "execution_count": 12,
   "outputs": [
    {
     "data": {
      "text/plain": "                            period                    Total Activity  \\\n                                   Other Managment Solutions Revenue   \n                                                       Total Paychex   \n                                          Total Service Revenue - RW   \nActual   Final Revised FY15      0                        87058529.0   \n                       FY15      1                         6350954.0   \n                       FY15      2                         7011081.0   \n                       FY15      3                         6765242.0   \n                       FY15      4                         6369484.0   \n...                            ...                               ...   \nForecast 8+4           FY22      8                        23202372.0   \n                       FY22      9                        29695313.0   \n                       FY22     10                        23337327.0   \n                       FY22     11                        21880484.0   \n                       FY22     12                        19612352.0   \n\n                                                                    \\\n                            Total Adv Partner Funding Only Revenue   \n                                                     Total Paychex   \n                                        Total Service Revenue - RW   \nActual   Final Revised FY15                                    0.0   \n                       FY15                                    0.0   \n                       FY15                                    0.0   \n                       FY15                                    0.0   \n                       FY15                                    0.0   \n...                                                            ...   \nForecast 8+4           FY22                              6906691.0   \n                       FY22                              6370178.0   \n                       FY22                              6501591.0   \n                       FY22                              6413892.0   \n                       FY22                              6666851.0   \n\n                                                                  \\\n                            Total Unemployment Insurance Revenue   \n                                                   Total Paychex   \n                                      Total Service Revenue - RW   \nActual   Final Revised FY15                           26268734.0   \n                       FY15                            1869396.0   \n                       FY15                            2341533.0   \n                       FY15                            1986835.0   \n                       FY15                            1888067.0   \n...                                                          ...   \nForecast 8+4           FY22                            3503156.0   \n                       FY22                            3256254.0   \n                       FY22                            3726698.0   \n                       FY22                            3272264.0   \n                       FY22                            3537170.0   \n\n                                                        \\\n                                        OASIS STAFFING   \n                                         Total Paychex   \n                            Total Service Revenue - RW   \nActual   Final Revised FY15                        0.0   \n                       FY15                        0.0   \n                       FY15                        0.0   \n                       FY15                        0.0   \n                       FY15                        0.0   \n...                                                ...   \nForecast 8+4           FY22                      600.0   \n                       FY22                        0.0   \n                       FY22                        0.0   \n                       FY22                        0.0   \n                       FY22                        0.0   \n\n                                                        \\\n                                                   ESR   \n                                         Total Paychex   \n                            Total Service Revenue - RW   \nActual   Final Revised FY15                  5066098.0   \n                       FY15                    47601.0   \n                       FY15                    67520.0   \n                       FY15                    79771.0   \n                       FY15                   105330.0   \n...                                                ...   \nForecast 8+4           FY22                  4249130.0   \n                       FY22                 11717643.0   \n                       FY22                  5285546.0   \n                       FY22                  4415867.0   \n                       FY22                  1673122.0   \n\n                                                        \\\n                               Total Cafeteria Revenue   \n                                         Total Paychex   \n                            Total Service Revenue - RW   \nActual   Final Revised FY15                 20931809.0   \n                       FY15                  1714950.0   \n                       FY15                  1698493.0   \n                       FY15                  1829119.0   \n                       FY15                  1710601.0   \n...                                                ...   \nForecast 8+4           FY22                  1611912.0   \n                       FY22                  1644094.0   \n                       FY22                  1627757.0   \n                       FY22                  1624833.0   \n                       FY22                  1621877.0   \n\n                                                        \\\n                                Total Benetrac Revenue   \n                                         Total Paychex   \n                            Total Service Revenue - RW   \nActual   Final Revised FY15                 23582312.0   \n                       FY15                  1922941.0   \n                       FY15                  1916578.0   \n                       FY15                  1944829.0   \n                       FY15                  1933042.0   \n...                                                ...   \nForecast 8+4           FY22                  1492592.0   \n                       FY22                  1551261.0   \n                       FY22                  1566350.0   \n                       FY22                  1567183.0   \n                       FY22                  1555692.0   \n\n                                                        \\\n                                       Total HRS Other   \n                                         Total Paychex   \n                            Total Service Revenue - RW   \nActual   Final Revised FY15                 11209576.0   \n                       FY15                   796066.0   \n                       FY15                   986957.0   \n                       FY15                   924688.0   \n                       FY15                   732445.0   \n...                                                ...   \nForecast 8+4           FY22                  5438292.0   \n                       FY22                  5155883.0   \n                       FY22                  4629384.0   \n                       FY22                  4586444.0   \n                       FY22                  4557641.0   \n\n                                                                    \\\n                            Total Adv Partner Funding Only Revenue   \n                                                     Total Paychex   \n                                           Ending Client Base - RW   \nActual   Final Revised FY15                                    0.0   \n                       FY15                                    0.0   \n                       FY15                                    0.0   \n                       FY15                                    0.0   \n                       FY15                                    0.0   \n...                                                            ...   \nForecast 8+4           FY22                                  497.0   \n                       FY22                                  497.0   \n                       FY22                                  497.0   \n                       FY22                                  497.0   \n                       FY22                                  497.0   \n\n                                                                            \\\n                                                   Total Cafeteria Revenue   \n                                                             Total Paychex   \n                            Losses - RW Sales - RW Ending Client Base - RW   \nActual   Final Revised FY15         0.0        0.0                 41578.0   \n                       FY15         0.0        0.0                 42049.0   \n                       FY15         0.0        0.0                 41873.0   \n                       FY15         0.0        0.0                 41992.0   \n                       FY15         0.0        0.0                 42086.0   \n...                                 ...        ...                     ...   \nForecast 8+4           FY22        -8.0       17.0                 44924.0   \n                       FY22         0.0        0.0                 44956.0   \n                       FY22         0.0        0.0                 44864.0   \n                       FY22         0.0        0.0                 44766.0   \n                       FY22         0.0        0.0                 44573.0   \n\n                                                    \n                                                    \n                                                    \n                            Losses - RW Sales - RW  \nActual   Final Revised FY15     -6729.0    11800.0  \n                       FY15      -390.0      724.0  \n                       FY15      -575.0      797.0  \n                       FY15      -362.0      851.0  \n                       FY15      -342.0      804.0  \n...                                 ...        ...  \nForecast 8+4           FY22      -790.0      904.0  \n                       FY22      -465.0      497.0  \n                       FY22      -500.0      408.0  \n                       FY22      -422.0      324.0  \n                       FY22      -429.0      236.0  \n\n[182 rows x 15 columns]",
      "text/html": "<div>\n<style scoped>\n    .dataframe tbody tr th:only-of-type {\n        vertical-align: middle;\n    }\n\n    .dataframe tbody tr th {\n        vertical-align: top;\n    }\n\n    .dataframe thead tr th {\n        text-align: left;\n    }\n</style>\n<table border=\"1\" class=\"dataframe\">\n  <thead>\n    <tr>\n      <th></th>\n      <th></th>\n      <th></th>\n      <th>period</th>\n      <th colspan=\"14\" halign=\"left\">Total Activity</th>\n    </tr>\n    <tr>\n      <th></th>\n      <th></th>\n      <th></th>\n      <th></th>\n      <th>Other Managment Solutions Revenue</th>\n      <th>Total Adv Partner Funding Only Revenue</th>\n      <th>Total Unemployment Insurance Revenue</th>\n      <th>OASIS STAFFING</th>\n      <th>ESR</th>\n      <th>Total Cafeteria Revenue</th>\n      <th>Total Benetrac Revenue</th>\n      <th>Total HRS Other</th>\n      <th colspan=\"3\" halign=\"left\">Total Adv Partner Funding Only Revenue</th>\n      <th colspan=\"3\" halign=\"left\">Total Cafeteria Revenue</th>\n    </tr>\n    <tr>\n      <th></th>\n      <th></th>\n      <th></th>\n      <th></th>\n      <th>Total Paychex</th>\n      <th>Total Paychex</th>\n      <th>Total Paychex</th>\n      <th>Total Paychex</th>\n      <th>Total Paychex</th>\n      <th>Total Paychex</th>\n      <th>Total Paychex</th>\n      <th>Total Paychex</th>\n      <th colspan=\"3\" halign=\"left\">Total Paychex</th>\n      <th colspan=\"3\" halign=\"left\">Total Paychex</th>\n    </tr>\n    <tr>\n      <th></th>\n      <th></th>\n      <th></th>\n      <th></th>\n      <th>Total Service Revenue - RW</th>\n      <th>Total Service Revenue - RW</th>\n      <th>Total Service Revenue - RW</th>\n      <th>Total Service Revenue - RW</th>\n      <th>Total Service Revenue - RW</th>\n      <th>Total Service Revenue - RW</th>\n      <th>Total Service Revenue - RW</th>\n      <th>Total Service Revenue - RW</th>\n      <th>Ending Client Base - RW</th>\n      <th>Losses - RW</th>\n      <th>Sales - RW</th>\n      <th>Ending Client Base - RW</th>\n      <th>Losses - RW</th>\n      <th>Sales - RW</th>\n    </tr>\n  </thead>\n  <tbody>\n    <tr>\n      <th rowspan=\"5\" valign=\"top\">Actual</th>\n      <th rowspan=\"5\" valign=\"top\">Final Revised</th>\n      <th>FY15</th>\n      <td>0</td>\n      <td>87058529.0</td>\n      <td>0.0</td>\n      <td>26268734.0</td>\n      <td>0.0</td>\n      <td>5066098.0</td>\n      <td>20931809.0</td>\n      <td>23582312.0</td>\n      <td>11209576.0</td>\n      <td>0.0</td>\n      <td>0.0</td>\n      <td>0.0</td>\n      <td>41578.0</td>\n      <td>-6729.0</td>\n      <td>11800.0</td>\n    </tr>\n    <tr>\n      <th>FY15</th>\n      <td>1</td>\n      <td>6350954.0</td>\n      <td>0.0</td>\n      <td>1869396.0</td>\n      <td>0.0</td>\n      <td>47601.0</td>\n      <td>1714950.0</td>\n      <td>1922941.0</td>\n      <td>796066.0</td>\n      <td>0.0</td>\n      <td>0.0</td>\n      <td>0.0</td>\n      <td>42049.0</td>\n      <td>-390.0</td>\n      <td>724.0</td>\n    </tr>\n    <tr>\n      <th>FY15</th>\n      <td>2</td>\n      <td>7011081.0</td>\n      <td>0.0</td>\n      <td>2341533.0</td>\n      <td>0.0</td>\n      <td>67520.0</td>\n      <td>1698493.0</td>\n      <td>1916578.0</td>\n      <td>986957.0</td>\n      <td>0.0</td>\n      <td>0.0</td>\n      <td>0.0</td>\n      <td>41873.0</td>\n      <td>-575.0</td>\n      <td>797.0</td>\n    </tr>\n    <tr>\n      <th>FY15</th>\n      <td>3</td>\n      <td>6765242.0</td>\n      <td>0.0</td>\n      <td>1986835.0</td>\n      <td>0.0</td>\n      <td>79771.0</td>\n      <td>1829119.0</td>\n      <td>1944829.0</td>\n      <td>924688.0</td>\n      <td>0.0</td>\n      <td>0.0</td>\n      <td>0.0</td>\n      <td>41992.0</td>\n      <td>-362.0</td>\n      <td>851.0</td>\n    </tr>\n    <tr>\n      <th>FY15</th>\n      <td>4</td>\n      <td>6369484.0</td>\n      <td>0.0</td>\n      <td>1888067.0</td>\n      <td>0.0</td>\n      <td>105330.0</td>\n      <td>1710601.0</td>\n      <td>1933042.0</td>\n      <td>732445.0</td>\n      <td>0.0</td>\n      <td>0.0</td>\n      <td>0.0</td>\n      <td>42086.0</td>\n      <td>-342.0</td>\n      <td>804.0</td>\n    </tr>\n    <tr>\n      <th>...</th>\n      <th>...</th>\n      <th>...</th>\n      <td>...</td>\n      <td>...</td>\n      <td>...</td>\n      <td>...</td>\n      <td>...</td>\n      <td>...</td>\n      <td>...</td>\n      <td>...</td>\n      <td>...</td>\n      <td>...</td>\n      <td>...</td>\n      <td>...</td>\n      <td>...</td>\n      <td>...</td>\n      <td>...</td>\n    </tr>\n    <tr>\n      <th rowspan=\"5\" valign=\"top\">Forecast</th>\n      <th rowspan=\"5\" valign=\"top\">8+4</th>\n      <th>FY22</th>\n      <td>8</td>\n      <td>23202372.0</td>\n      <td>6906691.0</td>\n      <td>3503156.0</td>\n      <td>600.0</td>\n      <td>4249130.0</td>\n      <td>1611912.0</td>\n      <td>1492592.0</td>\n      <td>5438292.0</td>\n      <td>497.0</td>\n      <td>-8.0</td>\n      <td>17.0</td>\n      <td>44924.0</td>\n      <td>-790.0</td>\n      <td>904.0</td>\n    </tr>\n    <tr>\n      <th>FY22</th>\n      <td>9</td>\n      <td>29695313.0</td>\n      <td>6370178.0</td>\n      <td>3256254.0</td>\n      <td>0.0</td>\n      <td>11717643.0</td>\n      <td>1644094.0</td>\n      <td>1551261.0</td>\n      <td>5155883.0</td>\n      <td>497.0</td>\n      <td>0.0</td>\n      <td>0.0</td>\n      <td>44956.0</td>\n      <td>-465.0</td>\n      <td>497.0</td>\n    </tr>\n    <tr>\n      <th>FY22</th>\n      <td>10</td>\n      <td>23337327.0</td>\n      <td>6501591.0</td>\n      <td>3726698.0</td>\n      <td>0.0</td>\n      <td>5285546.0</td>\n      <td>1627757.0</td>\n      <td>1566350.0</td>\n      <td>4629384.0</td>\n      <td>497.0</td>\n      <td>0.0</td>\n      <td>0.0</td>\n      <td>44864.0</td>\n      <td>-500.0</td>\n      <td>408.0</td>\n    </tr>\n    <tr>\n      <th>FY22</th>\n      <td>11</td>\n      <td>21880484.0</td>\n      <td>6413892.0</td>\n      <td>3272264.0</td>\n      <td>0.0</td>\n      <td>4415867.0</td>\n      <td>1624833.0</td>\n      <td>1567183.0</td>\n      <td>4586444.0</td>\n      <td>497.0</td>\n      <td>0.0</td>\n      <td>0.0</td>\n      <td>44766.0</td>\n      <td>-422.0</td>\n      <td>324.0</td>\n    </tr>\n    <tr>\n      <th>FY22</th>\n      <td>12</td>\n      <td>19612352.0</td>\n      <td>6666851.0</td>\n      <td>3537170.0</td>\n      <td>0.0</td>\n      <td>1673122.0</td>\n      <td>1621877.0</td>\n      <td>1555692.0</td>\n      <td>4557641.0</td>\n      <td>497.0</td>\n      <td>0.0</td>\n      <td>0.0</td>\n      <td>44573.0</td>\n      <td>-429.0</td>\n      <td>236.0</td>\n    </tr>\n  </tbody>\n</table>\n<p>182 rows × 15 columns</p>\n</div>"
     },
     "execution_count": 12,
     "metadata": {},
     "output_type": "execute_result"
    }
   ],
   "source": [
    "df"
   ],
   "metadata": {
    "collapsed": false,
    "pycharm": {
     "name": "#%%\n"
    }
   }
  },
  {
   "cell_type": "code",
   "execution_count": 13,
   "outputs": [
    {
     "data": {
      "text/plain": "                                            0.000000\nESR                                        51.047983\nOASIS STAFFING                              0.018555\nOther Managment Solutions Revenue         266.228645\nTotal Adv Partner Funding Only Revenue     77.181851\nTotal Benetrac Revenue                     18.375835\nTotal Cafeteria Revenue                    20.037876\nTotal HRS Other                            56.803986\nTotal Unemployment Insurance Revenue       42.807407\nName: (Forecast, 6+6, FY22), dtype: float64"
     },
     "execution_count": 13,
     "metadata": {},
     "output_type": "execute_result"
    }
   ],
   "source": [
    "df[df['period']==0]\\\n",
    "    .loc[(\"Forecast\",\"6+6\",\"FY22\"),:].groupby(level=1).sum()/1000000"
   ],
   "metadata": {
    "collapsed": false,
    "pycharm": {
     "name": "#%%\n"
    }
   }
  },
  {
   "cell_type": "code",
   "execution_count": 15,
   "outputs": [
    {
     "data": {
      "text/plain": "266.228645"
     },
     "execution_count": 15,
     "metadata": {},
     "output_type": "execute_result"
    }
   ],
   "source": [
    "df[df['period']==0]\\\n",
    "    .loc[(\"Forecast\",\"6+6\",\"FY22\"),\n",
    "         (\"Total Activity\",\"Other Managment Solutions Revenue\", \"Total Paychex\", \"Total Service Revenue - RW\")]/1000000"
   ],
   "metadata": {
    "collapsed": false,
    "pycharm": {
     "name": "#%%\n"
    }
   }
  },
  {
   "cell_type": "markdown",
   "source": [
    "## PEO"
   ],
   "metadata": {
    "collapsed": false
   }
  },
  {
   "cell_type": "code",
   "execution_count": 22,
   "outputs": [],
   "source": [
    "df = get_df(blob_service_client, blob_list[15], container= container_name)\\\n",
    "    .reset_index(-1)\\\n",
    "    .rename(columns={'level_3':'period'})\n",
    "\n",
    "#Correct month\n",
    "df['period'] = df['period'].\\\n",
    "    replace({'\\nJun': 1, '\\nJul': 2, '\\nAug': 3, '\\nSep': 4, '\\nOct': 5, '\\nNov': 6, '\\nDec': 7, '\\nJan': 8,\n",
    "             '\\nFeb': 9, '\\nMar': 10, '\\nApr': 11, '\\nMay': 12, 'YearTotal':0})\\\n",
    "    .astype('int')"
   ],
   "metadata": {
    "collapsed": false,
    "pycharm": {
     "name": "#%%\n"
    }
   }
  },
  {
   "cell_type": "code",
   "execution_count": 23,
   "outputs": [
    {
     "data": {
      "text/plain": "                            period             Total Activity  \\\n                                            PEO ADMIN Revenue   \n                                                Total Paychex   \n                                   Total Service Revenue - RW   \nActual   Final Revised FY15      0                 58962873.0   \n                       FY15      1                  4472815.0   \n                       FY15      2                  4865205.0   \n                       FY15      3                  4448330.0   \n                       FY15      4                  4705574.0   \n...                            ...                        ...   \nForecast 8+4           FY22      8                 25588558.0   \n                       FY22      9                 24347449.0   \n                       FY22     10                 26993786.0   \n                       FY22     11                 26450858.0   \n                       FY22     12                 25829451.0   \n\n                                                        \\\n                                          WORKERS COMP   \n                                         Total Paychex   \n                            Total Service Revenue - RW   \nActual   Final Revised FY15                 37822568.0   \n                       FY15                  2911611.0   \n                       FY15                  3091176.0   \n                       FY15                  2892685.0   \n                       FY15                  2989057.0   \n...                                                ...   \nForecast 8+4           FY22                 13686603.0   \n                       FY22                 13569988.0   \n                       FY22                 14747841.0   \n                       FY22                 14811244.0   \n                       FY22                 14387945.0   \n\n                                                        \\\n                                        BENEFITS ADMIN   \n                                         Total Paychex   \n                            Total Service Revenue - RW   \nActual   Final Revised FY15                 77887776.0   \n                       FY15                  4998522.0   \n                       FY15                  6244498.0   \n                       FY15                  6581757.0   \n                       FY15                  6202454.0   \n...                                                ...   \nForecast 8+4           FY22                  1825411.0   \n                       FY22                  1457815.0   \n                       FY22                  1464815.0   \n                       FY22                  1471815.0   \n                       FY22                  1478815.0   \n\n                                                        \\\n                                PEO MPP BENEFITS ADMIN   \n                                         Total Paychex   \n                            Total Service Revenue - RW   \nActual   Final Revised FY15                        0.0   \n                       FY15                        0.0   \n                       FY15                        0.0   \n                       FY15                        0.0   \n                       FY15                        0.0   \n...                                                ...   \nForecast 8+4           FY22                 24647768.0   \n                       FY22                 22783369.0   \n                       FY22                 26524634.0   \n                       FY22                 21849831.0   \n                       FY22                 23353813.0   \n\n                                                  NaN  \\\n                            Total Health and Benefits   \n                                                  NaN   \n                                                  NaN   \nActual   Final Revised FY15                77887776.0   \n                       FY15                 4998522.0   \n                       FY15                 6244498.0   \n                       FY15                 6581757.0   \n                       FY15                 6202454.0   \n...                                               ...   \nForecast 8+4           FY22                26473179.0   \n                       FY22                24241184.0   \n                       FY22                27989448.0   \n                       FY22                23321646.0   \n                       FY22                24832628.0   \n\n                                        Total Activity               NaN  \\\n                                  UNEMPLOYMENT INS 500 Other PEO Revenue   \n                                         Total Paychex               NaN   \n                            Total Service Revenue - RW               NaN   \nActual   Final Revised FY15                  9298369.0         5432928.0   \n                       FY15                   346972.0          218778.0   \n                       FY15                   203978.0          265423.0   \n                       FY15                  -883491.0         1567402.0   \n                       FY15                    46247.0          512993.0   \n...                                                ...               ...   \nForecast 8+4           FY22                 25536522.0         4956917.0   \n                       FY22                 11741960.0         2613648.0   \n                       FY22                  8831661.0         2713275.0   \n                       FY22                  7980721.0         2809252.0   \n                       FY22                  4867399.0         2656883.0   \n\n                                        Total Activity  \\\n                                     Total PBS Revenue   \n                                         Total Paychex   \n                            Total Service Revenue - RW   \nActual   Final Revised FY15                189404514.0   \n                       FY15                 12948698.0   \n                       FY15                 14670280.0   \n                       FY15                 14606683.0   \n                       FY15                 14456324.0   \n...                                                ...   \nForecast 8+4           FY22                 96241778.0   \n                       FY22                 76514228.0   \n                       FY22                 81276011.0   \n                       FY22                 75373721.0   \n                       FY22                 72574306.0   \n\n                                                                 NaN  \\\n                                                                 NaN   \n                                                                 NaN   \n                            Total Direct Costs - RW *PEO Net Revenue   \nActual   Final Revised FY15              95360151.0       94044363.0   \n                       FY15               6634612.0        6314086.0   \n                       FY15               7931795.0        6738485.0   \n                       FY15               7432170.0        7174513.0   \n                       FY15               7736563.0        6719761.0   \n...                                             ...              ...   \nForecast 8+4           FY22              34416769.0       61825010.0   \n                       FY22              32396314.0       44117914.0   \n                       FY22              37486463.0       43789547.0   \n                       FY22              32736226.0       42637496.0   \n                       FY22              33347972.0       39226334.0   \n\n                               Total Activity                \\\n                            PEO ADMIN Revenue                 \n                                   PEO Ops CC Total Paychex   \n                                   Sales - RW   Losses - RW   \nActual   Final Revised FY15            2723.0       -1809.0   \n                       FY15             131.0         -84.0   \n                       FY15             139.0        -170.0   \n                       FY15             136.0         -71.0   \n                       FY15             155.0         -80.0   \n...                                       ...           ...   \nForecast 8+4           FY22             588.0        -791.0   \n                       FY22             182.0        -202.0   \n                       FY22             238.0         -88.0   \n                       FY22             227.0        -194.0   \n                       FY22             227.0        -147.0   \n\n                                                                         \\\n                                                                          \n                                                                          \n                            Ending Client Base - RW Employee Gains - RW   \nActual   Final Revised FY15                  8672.0              4767.0   \n                       FY15                  7805.0               748.0   \n                       FY15                  7774.0               445.0   \n                       FY15                  7839.0                51.0   \n                       FY15                  7914.0              -155.0   \n...                                             ...                 ...   \nForecast 8+4           FY22                 15362.0             -5279.0   \n                       FY22                 15343.0               780.0   \n                       FY22                 15494.0              1038.0   \n                       FY22                 15522.0              1155.0   \n                       FY22                 15596.0              1155.0   \n\n                                                                    \\\n                                                                     \n                                                                     \n                            New Employees - RW Lost Employees - RW   \nActual   Final Revised FY15            26295.0            -14782.0   \n                       FY15             1150.0              -454.0   \n                       FY15             1173.0             -1347.0   \n                       FY15             1087.0              -367.0   \n                       FY15             1027.0              -524.0   \n...                                        ...                 ...   \nForecast 8+4           FY22             8829.0            -24821.0   \n                       FY22             7070.0             -3300.0   \n                       FY22             5124.0             -1806.0   \n                       FY22             4968.0             -7023.0   \n                       FY22             4919.0             -2307.0   \n\n                                                                        NaN  \\\n                                                                        NaN   \n                                                                        NaN   \n                            Ending Worksite Employee Base - RW  service rev   \nActual   Final Revised FY15                            83828.0  189404514.0   \n                       FY15                            68992.0   12948698.0   \n                       FY15                            69263.0   14670280.0   \n                       FY15                            70034.0   14606683.0   \n                       FY15                            70382.0   14456324.0   \n...                                                        ...          ...   \nForecast 8+4           FY22                           410222.0   96241778.0   \n                       FY22                           414802.0   76514228.0   \n                       FY22                           419187.0   81276011.0   \n                       FY22                           418251.0   75373721.0   \n                       FY22                           421948.0   72574306.0   \n\n                                         \n                                         \n                                         \n                                     dc  \nActual   Final Revised FY15  95360151.0  \n                       FY15   6634612.0  \n                       FY15   7931795.0  \n                       FY15   7432170.0  \n                       FY15   7736563.0  \n...                                 ...  \nForecast 8+4           FY22  34416769.0  \n                       FY22  32396314.0  \n                       FY22  37486463.0  \n                       FY22  32736226.0  \n                       FY22  33347972.0  \n\n[182 rows x 20 columns]",
      "text/html": "<div>\n<style scoped>\n    .dataframe tbody tr th:only-of-type {\n        vertical-align: middle;\n    }\n\n    .dataframe tbody tr th {\n        vertical-align: top;\n    }\n\n    .dataframe thead tr th {\n        text-align: left;\n    }\n</style>\n<table border=\"1\" class=\"dataframe\">\n  <thead>\n    <tr>\n      <th></th>\n      <th></th>\n      <th></th>\n      <th>period</th>\n      <th colspan=\"4\" halign=\"left\">Total Activity</th>\n      <th>NaN</th>\n      <th>Total Activity</th>\n      <th>NaN</th>\n      <th colspan=\"2\" halign=\"left\">Total Activity</th>\n      <th>NaN</th>\n      <th colspan=\"7\" halign=\"left\">Total Activity</th>\n      <th colspan=\"2\" halign=\"left\">NaN</th>\n    </tr>\n    <tr>\n      <th></th>\n      <th></th>\n      <th></th>\n      <th></th>\n      <th>PEO ADMIN Revenue</th>\n      <th>WORKERS COMP</th>\n      <th>BENEFITS ADMIN</th>\n      <th>PEO MPP BENEFITS ADMIN</th>\n      <th>Total Health and Benefits</th>\n      <th>UNEMPLOYMENT INS 500</th>\n      <th>Other PEO Revenue</th>\n      <th colspan=\"2\" halign=\"left\">Total PBS Revenue</th>\n      <th>NaN</th>\n      <th colspan=\"7\" halign=\"left\">PEO ADMIN Revenue</th>\n      <th colspan=\"2\" halign=\"left\">NaN</th>\n    </tr>\n    <tr>\n      <th></th>\n      <th></th>\n      <th></th>\n      <th></th>\n      <th>Total Paychex</th>\n      <th>Total Paychex</th>\n      <th>Total Paychex</th>\n      <th>Total Paychex</th>\n      <th>NaN</th>\n      <th>Total Paychex</th>\n      <th>NaN</th>\n      <th colspan=\"2\" halign=\"left\">Total Paychex</th>\n      <th>NaN</th>\n      <th>PEO Ops CC</th>\n      <th colspan=\"6\" halign=\"left\">Total Paychex</th>\n      <th colspan=\"2\" halign=\"left\">NaN</th>\n    </tr>\n    <tr>\n      <th></th>\n      <th></th>\n      <th></th>\n      <th></th>\n      <th>Total Service Revenue - RW</th>\n      <th>Total Service Revenue - RW</th>\n      <th>Total Service Revenue - RW</th>\n      <th>Total Service Revenue - RW</th>\n      <th>NaN</th>\n      <th>Total Service Revenue - RW</th>\n      <th>NaN</th>\n      <th>Total Service Revenue - RW</th>\n      <th>Total Direct Costs - RW</th>\n      <th>*PEO Net Revenue</th>\n      <th>Sales - RW</th>\n      <th>Losses - RW</th>\n      <th>Ending Client Base - RW</th>\n      <th>Employee Gains - RW</th>\n      <th>New Employees - RW</th>\n      <th>Lost Employees - RW</th>\n      <th>Ending Worksite Employee Base - RW</th>\n      <th>service rev</th>\n      <th>dc</th>\n    </tr>\n  </thead>\n  <tbody>\n    <tr>\n      <th rowspan=\"5\" valign=\"top\">Actual</th>\n      <th rowspan=\"5\" valign=\"top\">Final Revised</th>\n      <th>FY15</th>\n      <td>0</td>\n      <td>58962873.0</td>\n      <td>37822568.0</td>\n      <td>77887776.0</td>\n      <td>0.0</td>\n      <td>77887776.0</td>\n      <td>9298369.0</td>\n      <td>5432928.0</td>\n      <td>189404514.0</td>\n      <td>95360151.0</td>\n      <td>94044363.0</td>\n      <td>2723.0</td>\n      <td>-1809.0</td>\n      <td>8672.0</td>\n      <td>4767.0</td>\n      <td>26295.0</td>\n      <td>-14782.0</td>\n      <td>83828.0</td>\n      <td>189404514.0</td>\n      <td>95360151.0</td>\n    </tr>\n    <tr>\n      <th>FY15</th>\n      <td>1</td>\n      <td>4472815.0</td>\n      <td>2911611.0</td>\n      <td>4998522.0</td>\n      <td>0.0</td>\n      <td>4998522.0</td>\n      <td>346972.0</td>\n      <td>218778.0</td>\n      <td>12948698.0</td>\n      <td>6634612.0</td>\n      <td>6314086.0</td>\n      <td>131.0</td>\n      <td>-84.0</td>\n      <td>7805.0</td>\n      <td>748.0</td>\n      <td>1150.0</td>\n      <td>-454.0</td>\n      <td>68992.0</td>\n      <td>12948698.0</td>\n      <td>6634612.0</td>\n    </tr>\n    <tr>\n      <th>FY15</th>\n      <td>2</td>\n      <td>4865205.0</td>\n      <td>3091176.0</td>\n      <td>6244498.0</td>\n      <td>0.0</td>\n      <td>6244498.0</td>\n      <td>203978.0</td>\n      <td>265423.0</td>\n      <td>14670280.0</td>\n      <td>7931795.0</td>\n      <td>6738485.0</td>\n      <td>139.0</td>\n      <td>-170.0</td>\n      <td>7774.0</td>\n      <td>445.0</td>\n      <td>1173.0</td>\n      <td>-1347.0</td>\n      <td>69263.0</td>\n      <td>14670280.0</td>\n      <td>7931795.0</td>\n    </tr>\n    <tr>\n      <th>FY15</th>\n      <td>3</td>\n      <td>4448330.0</td>\n      <td>2892685.0</td>\n      <td>6581757.0</td>\n      <td>0.0</td>\n      <td>6581757.0</td>\n      <td>-883491.0</td>\n      <td>1567402.0</td>\n      <td>14606683.0</td>\n      <td>7432170.0</td>\n      <td>7174513.0</td>\n      <td>136.0</td>\n      <td>-71.0</td>\n      <td>7839.0</td>\n      <td>51.0</td>\n      <td>1087.0</td>\n      <td>-367.0</td>\n      <td>70034.0</td>\n      <td>14606683.0</td>\n      <td>7432170.0</td>\n    </tr>\n    <tr>\n      <th>FY15</th>\n      <td>4</td>\n      <td>4705574.0</td>\n      <td>2989057.0</td>\n      <td>6202454.0</td>\n      <td>0.0</td>\n      <td>6202454.0</td>\n      <td>46247.0</td>\n      <td>512993.0</td>\n      <td>14456324.0</td>\n      <td>7736563.0</td>\n      <td>6719761.0</td>\n      <td>155.0</td>\n      <td>-80.0</td>\n      <td>7914.0</td>\n      <td>-155.0</td>\n      <td>1027.0</td>\n      <td>-524.0</td>\n      <td>70382.0</td>\n      <td>14456324.0</td>\n      <td>7736563.0</td>\n    </tr>\n    <tr>\n      <th>...</th>\n      <th>...</th>\n      <th>...</th>\n      <td>...</td>\n      <td>...</td>\n      <td>...</td>\n      <td>...</td>\n      <td>...</td>\n      <td>...</td>\n      <td>...</td>\n      <td>...</td>\n      <td>...</td>\n      <td>...</td>\n      <td>...</td>\n      <td>...</td>\n      <td>...</td>\n      <td>...</td>\n      <td>...</td>\n      <td>...</td>\n      <td>...</td>\n      <td>...</td>\n      <td>...</td>\n      <td>...</td>\n    </tr>\n    <tr>\n      <th rowspan=\"5\" valign=\"top\">Forecast</th>\n      <th rowspan=\"5\" valign=\"top\">8+4</th>\n      <th>FY22</th>\n      <td>8</td>\n      <td>25588558.0</td>\n      <td>13686603.0</td>\n      <td>1825411.0</td>\n      <td>24647768.0</td>\n      <td>26473179.0</td>\n      <td>25536522.0</td>\n      <td>4956917.0</td>\n      <td>96241778.0</td>\n      <td>34416769.0</td>\n      <td>61825010.0</td>\n      <td>588.0</td>\n      <td>-791.0</td>\n      <td>15362.0</td>\n      <td>-5279.0</td>\n      <td>8829.0</td>\n      <td>-24821.0</td>\n      <td>410222.0</td>\n      <td>96241778.0</td>\n      <td>34416769.0</td>\n    </tr>\n    <tr>\n      <th>FY22</th>\n      <td>9</td>\n      <td>24347449.0</td>\n      <td>13569988.0</td>\n      <td>1457815.0</td>\n      <td>22783369.0</td>\n      <td>24241184.0</td>\n      <td>11741960.0</td>\n      <td>2613648.0</td>\n      <td>76514228.0</td>\n      <td>32396314.0</td>\n      <td>44117914.0</td>\n      <td>182.0</td>\n      <td>-202.0</td>\n      <td>15343.0</td>\n      <td>780.0</td>\n      <td>7070.0</td>\n      <td>-3300.0</td>\n      <td>414802.0</td>\n      <td>76514228.0</td>\n      <td>32396314.0</td>\n    </tr>\n    <tr>\n      <th>FY22</th>\n      <td>10</td>\n      <td>26993786.0</td>\n      <td>14747841.0</td>\n      <td>1464815.0</td>\n      <td>26524634.0</td>\n      <td>27989448.0</td>\n      <td>8831661.0</td>\n      <td>2713275.0</td>\n      <td>81276011.0</td>\n      <td>37486463.0</td>\n      <td>43789547.0</td>\n      <td>238.0</td>\n      <td>-88.0</td>\n      <td>15494.0</td>\n      <td>1038.0</td>\n      <td>5124.0</td>\n      <td>-1806.0</td>\n      <td>419187.0</td>\n      <td>81276011.0</td>\n      <td>37486463.0</td>\n    </tr>\n    <tr>\n      <th>FY22</th>\n      <td>11</td>\n      <td>26450858.0</td>\n      <td>14811244.0</td>\n      <td>1471815.0</td>\n      <td>21849831.0</td>\n      <td>23321646.0</td>\n      <td>7980721.0</td>\n      <td>2809252.0</td>\n      <td>75373721.0</td>\n      <td>32736226.0</td>\n      <td>42637496.0</td>\n      <td>227.0</td>\n      <td>-194.0</td>\n      <td>15522.0</td>\n      <td>1155.0</td>\n      <td>4968.0</td>\n      <td>-7023.0</td>\n      <td>418251.0</td>\n      <td>75373721.0</td>\n      <td>32736226.0</td>\n    </tr>\n    <tr>\n      <th>FY22</th>\n      <td>12</td>\n      <td>25829451.0</td>\n      <td>14387945.0</td>\n      <td>1478815.0</td>\n      <td>23353813.0</td>\n      <td>24832628.0</td>\n      <td>4867399.0</td>\n      <td>2656883.0</td>\n      <td>72574306.0</td>\n      <td>33347972.0</td>\n      <td>39226334.0</td>\n      <td>227.0</td>\n      <td>-147.0</td>\n      <td>15596.0</td>\n      <td>1155.0</td>\n      <td>4919.0</td>\n      <td>-2307.0</td>\n      <td>421948.0</td>\n      <td>72574306.0</td>\n      <td>33347972.0</td>\n    </tr>\n  </tbody>\n</table>\n<p>182 rows × 20 columns</p>\n</div>"
     },
     "execution_count": 23,
     "metadata": {},
     "output_type": "execute_result"
    }
   ],
   "source": [
    "df"
   ],
   "metadata": {
    "collapsed": false,
    "pycharm": {
     "name": "#%%\n"
    }
   }
  },
  {
   "cell_type": "code",
   "execution_count": 24,
   "outputs": [
    {
     "data": {
      "text/plain": "                                0.000000\nBENEFITS ADMIN                 17.052661\nOther PEO Revenue              29.192781\nPEO ADMIN Revenue             309.363048\nPEO MPP BENEFITS ADMIN        271.223381\nTotal Health and Benefits     288.276042\nTotal PBS Revenue            1287.444434\nUNEMPLOYMENT INS 500           88.642904\nWORKERS COMP                  175.309461\nName: (Forecast, 6+6, FY22), dtype: float64"
     },
     "execution_count": 24,
     "metadata": {},
     "output_type": "execute_result"
    }
   ],
   "source": [
    "df[df['period']==0]\\\n",
    "    .loc[(\"Forecast\",\"6+6\",\"FY22\"),:].groupby(level=1).sum()/1000000"
   ],
   "metadata": {
    "collapsed": false,
    "pycharm": {
     "name": "#%%\n"
    }
   }
  },
  {
   "cell_type": "code",
   "execution_count": 13,
   "outputs": [
    {
     "data": {
      "text/plain": "890.298017"
     },
     "execution_count": 13,
     "metadata": {},
     "output_type": "execute_result"
    }
   ],
   "source": [
    "df[df['period']==0]\\\n",
    "    .loc[(\"Forecast\",\"6+6\",\"FY22\"),\n",
    "         (\"Total Activity\",\"Total PBS Revenue\", \"Total Paychex\", \"Total Service Revenue - RW\")]/1000000"
   ],
   "metadata": {
    "collapsed": false,
    "pycharm": {
     "name": "#%%\n"
    }
   }
  },
  {
   "cell_type": "markdown",
   "source": [
    "## Join tables"
   ],
   "metadata": {
    "collapsed": false
   }
  },
  {
   "cell_type": "code",
   "execution_count": 9,
   "outputs": [],
   "source": [
    "df_401k = get_df(blob_service_client, blob_list[0], container= container_name)"
   ],
   "metadata": {
    "collapsed": false,
    "pycharm": {
     "name": "#%%\n"
    }
   }
  },
  {
   "cell_type": "code",
   "execution_count": 10,
   "outputs": [
    {
     "data": {
      "text/plain": "Actual    Final Revised  FY15  YearTotal    200963139.0\n                               \\nJun         14883414.0\n                               \\nJul         15071771.0\n                               \\nAug         14783933.0\n                               \\nSep         17075301.0\n                                               ...     \nForecast  8+4            FY22  \\nJan         25826261.0\n                               \\nFeb         24740442.0\n                               \\nMar         25937318.0\n                               \\nApr         25600810.0\n                               \\nMay         26080025.0\nName: (Total Activity, Total 401k Revenue, Total Paychex, Total Service Revenue - RW), Length: 182, dtype: float64"
     },
     "execution_count": 10,
     "metadata": {},
     "output_type": "execute_result"
    }
   ],
   "source": [
    "df_401k.loc[:, (\"Total Activity\",\"Total 401k Revenue\", \"Total Paychex\", \"Total Service Revenue - RW\")]"
   ],
   "metadata": {
    "collapsed": false,
    "pycharm": {
     "name": "#%%\n"
    }
   }
  },
  {
   "cell_type": "code",
   "execution_count": 11,
   "outputs": [],
   "source": [
    "df_blen = get_df(blob_service_client, blob_list[4], container= container_name)"
   ],
   "metadata": {
    "collapsed": false,
    "pycharm": {
     "name": "#%%\n"
    }
   }
  },
  {
   "cell_type": "code",
   "execution_count": 12,
   "outputs": [
    {
     "data": {
      "text/plain": "Actual    Final Revised  FY15  YearTotal    1.273360e+09\n                               \\nJun        9.963351e+07\n                               \\nJul        1.216197e+08\n                               \\nAug        9.947248e+07\n                               \\nSep        9.419823e+07\n                                                ...     \nForecast  8+4            FY22  \\nJan        1.038698e+08\n                               \\nFeb        1.033605e+08\n                               \\nMar        1.167122e+08\n                               \\nApr        1.020151e+08\n                               \\nMay        1.081643e+08\nLength: 182, dtype: float64"
     },
     "execution_count": 12,
     "metadata": {},
     "output_type": "execute_result"
    }
   ],
   "source": [
    "df_blen[\"Total Activity\"].sum(axis=1)"
   ],
   "metadata": {
    "collapsed": false,
    "pycharm": {
     "name": "#%%\n"
    }
   }
  },
  {
   "cell_type": "code",
   "execution_count": 13,
   "outputs": [],
   "source": [
    "df_int = get_df(blob_service_client, blob_list[9], container= container_name)"
   ],
   "metadata": {
    "collapsed": false,
    "pycharm": {
     "name": "#%%\n"
    }
   }
  },
  {
   "cell_type": "code",
   "execution_count": 14,
   "outputs": [
    {
     "data": {
      "text/plain": "Actual    Final Revised  FY15  YearTotal    9498516.10\n                               \\nJun         808003.64\n                               \\nJul         855305.18\n                               \\nAug         801651.38\n                               \\nSep         834334.16\n                                               ...    \nForecast  8+4            FY22  \\nJan        5022326.69\n                               \\nFeb        4508991.80\n                               \\nMar        4532101.45\n                               \\nApr        4385659.84\n                               \\nMay        4466756.09\nLength: 182, dtype: float64"
     },
     "execution_count": 14,
     "metadata": {},
     "output_type": "execute_result"
    }
   ],
   "source": [
    "df_int[\"Total Activity\"].sum(axis=1)"
   ],
   "metadata": {
    "collapsed": false,
    "pycharm": {
     "name": "#%%\n"
    }
   }
  },
  {
   "cell_type": "code",
   "execution_count": 15,
   "outputs": [],
   "source": [
    "df_online = paychex_ml.clean_data.get_df(blob_service_client, blob_list[11], container= container_name)"
   ],
   "metadata": {
    "collapsed": false,
    "pycharm": {
     "name": "#%%\n"
    }
   }
  },
  {
   "cell_type": "code",
   "execution_count": 16,
   "outputs": [
    {
     "data": {
      "text/plain": "Actual    Final Revised  FY15  YearTotal    114466739.0\n                               \\nJun          8581821.0\n                               \\nJul          9700908.0\n                               \\nAug          8726405.0\n                               \\nSep          8945846.0\n                                               ...     \nForecast  8+4            FY22  \\nJan         17506095.0\n                               \\nFeb         16548145.0\n                               \\nMar         18121060.0\n                               \\nApr         16694979.0\n                               \\nMay         16792778.0\nName: (Total Activity, Total Online Svcs, Total Paychex, Total Service Revenue - RW), Length: 182, dtype: float64"
     },
     "execution_count": 16,
     "metadata": {},
     "output_type": "execute_result"
    }
   ],
   "source": [
    "df_online.loc[:, (\"Total Activity\",\"Total Online Svcs\", \"Total Paychex\", \"Total Service Revenue - RW\")]"
   ],
   "metadata": {
    "collapsed": false,
    "pycharm": {
     "name": "#%%\n"
    }
   }
  },
  {
   "cell_type": "code",
   "execution_count": 20,
   "outputs": [],
   "source": [
    "df_sure = get_df(blob_service_client, blob_list[19], container= container_name)"
   ],
   "metadata": {
    "collapsed": false,
    "pycharm": {
     "name": "#%%\n"
    }
   }
  },
  {
   "cell_type": "code",
   "execution_count": 25,
   "outputs": [],
   "source": [
    "df_sure = df_sure.reset_index(-1)\\\n",
    "    .rename(columns={'level_3':'period'})\n",
    "\n",
    "#Correct month\n",
    "df_sure['period'] = df_sure['period']\\\n",
    "    .replace({'\\nJun': 1, '\\nJul': 2, '\\nAug': 3, '\\nSep': 4, '\\nOct': 5, '\\nNov': 6, '\\nDec': 7, '\\nJan': 8,\n",
    "             '\\nFeb': 9, '\\nMar': 10, '\\nApr': 11, '\\nMay': 12, 'YearTotal':0})\\\n",
    "    .astype('int')"
   ],
   "metadata": {
    "collapsed": false,
    "pycharm": {
     "name": "#%%\n"
    }
   }
  },
  {
   "cell_type": "code",
   "execution_count": 30,
   "outputs": [
    {
     "data": {
      "text/plain": "'PayrollSurePayrollASOInternationalHighLevelRevenue.txt'"
     },
     "execution_count": 30,
     "metadata": {},
     "output_type": "execute_result"
    }
   ],
   "source": [
    "blob_list[18]"
   ],
   "metadata": {
    "collapsed": false,
    "pycharm": {
     "name": "#%%\n"
    }
   }
  },
  {
   "cell_type": "code",
   "execution_count": 21,
   "outputs": [],
   "source": [
    "df_pay = get_df(blob_service_client, blob_list[18], container= container_name)\n",
    "# df_pay = df_pay.reset_index(-1)\\\n",
    "#     .rename(columns={'level_3':'period'})\n",
    "#\n",
    "# #Correct month\n",
    "# df_pay['period'] = df_pay['period']\\\n",
    "#     .replace({'\\nJun': 1, '\\nJul': 2, '\\nAug': 3, '\\nSep': 4, '\\nOct': 5, '\\nNov': 6, '\\nDec': 7, '\\nJan': 8,\n",
    "#               '\\nFeb': 9, '\\nMar': 10, '\\nApr': 11, '\\nMay': 12, 'YearTotal':0})\\\n",
    "#     .astype('int')"
   ],
   "metadata": {
    "collapsed": false,
    "pycharm": {
     "name": "#%%\n"
    }
   }
  },
  {
   "cell_type": "code",
   "execution_count": 22,
   "outputs": [
    {
     "data": {
      "text/plain": "                                                      Total Activity  \\\n                                      Total Blended Products Revenue   \n                                                    TOTAL OPERATIONS   \n                                          Total Service Revenue - RW   \nActual   Final Revised FY15 YearTotal                   1.236516e+09   \n                            \\nJun                       9.667424e+07   \n                            \\nJul                       1.179775e+08   \n                            \\nAug                       9.652404e+07   \n                            \\nSep                       9.144132e+07   \n...                                                              ...   \nForecast 8+4           FY22 \\nJan                       1.023767e+08   \n                            \\nFeb                       1.019021e+08   \n                            \\nMar                       1.150675e+08   \n                            \\nApr                       1.006085e+08   \n                            \\nMay                       1.066607e+08   \n\n                                                                  \\\n                                                                   \n                                                        CONS HRS   \n                                      Total Service Revenue - RW   \nActual   Final Revised FY15 YearTotal                36844499.25   \n                            \\nJun                     2959275.81   \n                            \\nJul                     3642193.13   \n                            \\nAug                     2948438.56   \n                            \\nSep                     2756906.24   \n...                                                          ...   \nForecast 8+4           FY22 \\nJan                     1493093.88   \n                            \\nFeb                     1458381.65   \n                            \\nMar                     1644751.31   \n                            \\nApr                     1406579.87   \n                            \\nMay                     1503605.89   \n\n                                                                  \\\n                                                                   \n                                           Prior Year Adjustment   \n                                      Total Service Revenue - RW   \nActual   Final Revised FY15 YearTotal                        0.0   \n                            \\nJun                            0.0   \n                            \\nJul                            0.0   \n                            \\nAug                            0.0   \n                            \\nSep                            0.0   \n...                                                          ...   \nForecast 8+4           FY22 \\nJan                            0.0   \n                            \\nFeb                            0.0   \n                            \\nMar                            0.0   \n                            \\nApr                            0.0   \n                            \\nMay                            0.0   \n\n                                                                  \\\n                                          Total Delivery Revenue   \n                                                TOTAL OPERATIONS   \n                                      Total Service Revenue - RW   \nActual   Final Revised FY15 YearTotal               1.186875e+08   \n                            \\nJun                   7.393352e+06   \n                            \\nJul                   1.351374e+07   \n                            \\nAug                   7.286967e+06   \n                            \\nSep                   7.081862e+06   \n...                                                          ...   \nForecast 8+4           FY22 \\nJan                   2.243552e+07   \n                            \\nFeb                   6.683674e+06   \n                            \\nMar                   7.556914e+06   \n                            \\nApr                   1.094369e+07   \n                            \\nMay                   7.961770e+06   \n\n                                                                  \\\n                                                                   \n                                                        CONS HRS   \n                                      Total Service Revenue - RW   \nActual   Final Revised FY15 YearTotal                        0.0   \n                            \\nJun                            0.0   \n                            \\nJul                            0.0   \n                            \\nAug                            0.0   \n                            \\nSep                            0.0   \n...                                                          ...   \nForecast 8+4           FY22 \\nJan                            0.0   \n                            \\nFeb                            0.0   \n                            \\nMar                            0.0   \n                            \\nApr                            0.0   \n                            \\nMay                            0.0   \n\n                                                                      \\\n                                      Total Other Processing Revenue   \n                                                    TOTAL OPERATIONS   \n                                          Total Service Revenue - RW   \nActual   Final Revised FY15 YearTotal                    63488855.55   \n                            \\nJun                         4765775.19   \n                            \\nJul                         6502729.54   \n                            \\nAug                         4215268.17   \n                            \\nSep                         4726806.24   \n...                                                              ...   \nForecast 8+4           FY22 \\nJan                        20866313.40   \n                            \\nFeb                        14110893.97   \n                            \\nMar                        12680918.38   \n                            \\nApr                        10225582.63   \n                            \\nMay                         6506572.85   \n\n                                                                  \\\n                                                                   \n                                           Prior Year Adjustment   \n                                      Total Service Revenue - RW   \nActual   Final Revised FY15 YearTotal                        0.0   \n                            \\nJun                            0.0   \n                            \\nJul                            0.0   \n                            \\nAug                            0.0   \n                            \\nSep                            0.0   \n...                                                          ...   \nForecast 8+4           FY22 \\nJan                            0.0   \n                            \\nFeb                            0.0   \n                            \\nMar                            0.0   \n                            \\nApr                            0.0   \n                            \\nMay                            0.0   \n\n                                                                  \\\n                                               Total W-2 Revenue   \n                                                TOTAL OPERATIONS   \n                                      Total Service Revenue - RW   \nActual   Final Revised FY15 YearTotal                90768981.49   \n                            \\nJun                     7031234.09   \n                            \\nJul                     7325377.82   \n                            \\nAug                     7443620.46   \n                            \\nSep                     7414842.11   \n...                                                          ...   \nForecast 8+4           FY22 \\nJan                    81544421.44   \n                            \\nFeb                       87571.97   \n                            \\nMar                      -43001.29   \n                            \\nApr                       44811.43   \n                            \\nMay                      113783.77   \n\n                                                                  \\\n                                                                   \n                                           Prior Year Adjustment   \n                                      Total Service Revenue - RW   \nActual   Final Revised FY15 YearTotal                        0.0   \n                            \\nJun                            0.0   \n                            \\nJul                            0.0   \n                            \\nAug                            0.0   \n                            \\nSep                            0.0   \n...                                                          ...   \nForecast 8+4           FY22 \\nJan                            0.0   \n                            \\nFeb                            0.0   \n                            \\nMar                            0.0   \n                            \\nApr                            0.0   \n                            \\nMay                            0.0   \n\n                                                 NaN  ...  \\\n                                                 NaN  ...   \n                                                 NaN  ...   \n                                      *total payroll  ...   \nActual   Final Revised FY15 YearTotal   1.546306e+09  ...   \n                            \\nJun       1.188239e+08  ...   \n                            \\nJul       1.489615e+08  ...   \n                            \\nAug       1.184183e+08  ...   \n                            \\nSep       1.134217e+08  ...   \n...                                              ...  ...   \nForecast 8+4           FY22 \\nJan       2.287160e+08  ...   \n                            \\nFeb       1.242427e+08  ...   \n                            \\nMar       1.369070e+08  ...   \n                            \\nApr       1.232292e+08  ...   \n                            \\nMay       1.227465e+08  ...   \n\n                                                             Total Activity  \\\n                                      Total HR Solutions/ASO (Payroll side)   \n                                                                   CONS HRS   \n                                                 Total Service Revenue - RW   \nActual   Final Revised FY15 YearTotal                                347.37   \n                            \\nJun                                      0.00   \n                            \\nJul                                      0.00   \n                            \\nAug                                      0.00   \n                            \\nSep                                      0.00   \n...                                                                     ...   \nForecast 8+4           FY22 \\nJan                                      0.00   \n                            \\nFeb                                      0.00   \n                            \\nMar                                      0.00   \n                            \\nApr                                      0.00   \n                            \\nMay                                      0.00   \n\n                                                NaN  \\\n                                                NaN   \n                                                NaN   \n                                         *total Aso   \nActual   Final Revised FY15 YearTotal  3.767934e+08   \n                            \\nJun      2.839863e+07   \n                            \\nJul      3.490887e+07   \n                            \\nAug      2.925192e+07   \n                            \\nSep      2.729974e+07   \n...                                             ...   \nForecast 8+4           FY22 \\nJan      6.653174e+07   \n                            \\nFeb      6.450100e+07   \n                            \\nMar      7.580652e+07   \n                            \\nApr      6.641035e+07   \n                            \\nMay      7.043660e+07   \n\n                                                      Total Activity  \\\n                                      Total Blended Products Revenue   \n                                                   CONS SURE PAYROLL   \n                                          Total Service Revenue - RW   \nActual   Final Revised FY15 YearTotal                    36691979.75   \n                            \\nJun                         2865163.28   \n                            \\nJul                         2927958.64   \n                            \\nAug                         2926325.32   \n                            \\nSep                         2992374.42   \n...                                                              ...   \nForecast 8+4           FY22 \\nJan                         -716511.72   \n                            \\nFeb                         -576339.20   \n                            \\nMar                         -635600.53   \n                            \\nApr                         -607458.13   \n                            \\nMay                         -593242.22   \n\n                                                                  \\\n                                             SurePayroll Revenue   \n                                               CONS SURE PAYROLL   \n                                      Total Service Revenue - RW   \nActual   Final Revised FY15 YearTotal                       0.00   \n                            \\nJun                           0.00   \n                            \\nJul                           0.00   \n                            \\nAug                           0.00   \n                            \\nSep                           0.00   \n...                                                          ...   \nForecast 8+4           FY22 \\nJan                     7489372.86   \n                            \\nFeb                     7565854.96   \n                            \\nMar                     7557327.00   \n                            \\nApr                     7649738.88   \n                            \\nMay                     7685813.37   \n\n                                                                      \\\n                                      Total Other Processing Revenue   \n                                                   CONS SURE PAYROLL   \n                                          Total Service Revenue - RW   \nActual   Final Revised FY15 YearTotal                     2191317.64   \n                            \\nJun                          201207.45   \n                            \\nJul                          252411.58   \n                            \\nAug                          178248.98   \n                            \\nSep                          171661.52   \n...                                                              ...   \nForecast 8+4           FY22 \\nJan                          864770.88   \n                            \\nFeb                          782397.96   \n                            \\nMar                          801049.39   \n                            \\nApr                          816279.23   \n                            \\nMay                          754103.88   \n\n                                                                  \\\n                                               Total W-2 Revenue   \n                                               CONS SURE PAYROLL   \n                                      Total Service Revenue - RW   \nActual   Final Revised FY15 YearTotal                 2299083.77   \n                            \\nJun                      180596.29   \n                            \\nJul                      182102.80   \n                            \\nAug                      181537.63   \n                            \\nSep                      181292.59   \n...                                                          ...   \nForecast 8+4           FY22 \\nJan                      295488.88   \n                            \\nFeb                        -270.98   \n                            \\nMar                         -16.08   \n                            \\nApr                          -0.62   \n                            \\nMay                         371.81   \n\n                                                      NaN  \\\n                                                      NaN   \n                                                      NaN   \n                                      *total sure payroll   \nActual   Final Revised FY15 YearTotal         41182381.16   \n                            \\nJun              3246967.02   \n                            \\nJul              3362473.02   \n                            \\nAug              3286111.93   \n                            \\nSep              3345328.53   \n...                                                   ...   \nForecast 8+4           FY22 \\nJan              7933120.90   \n                            \\nFeb              7771642.74   \n                            \\nMar              7722759.79   \n                            \\nApr              7858559.36   \n                            \\nMay              7847046.84   \n\n                                                      Total Activity  \\\n                                      Total Blended Products Revenue   \n                                                    Foreign Currency   \n                                          Total Service Revenue - RW   \nActual   Final Revised FY15 YearTotal                     9498516.10   \n                            \\nJun                          808003.64   \n                            \\nJul                          855305.18   \n                            \\nAug                          801651.38   \n                            \\nSep                          834334.16   \n...                                                              ...   \nForecast 8+4           FY22 \\nJan                         4581179.37   \n                            \\nFeb                         4139371.71   \n                            \\nMar                         4135690.28   \n                            \\nApr                         3987424.80   \n                            \\nMay                         4039906.10   \n\n                                                                      \\\n                                      Total Other Processing Revenue   \n                                                    Foreign Currency   \n                                          Total Service Revenue - RW   \nActual   Final Revised FY15 YearTotal                           0.00   \n                            \\nJun                               0.00   \n                            \\nJul                               0.00   \n                            \\nAug                               0.00   \n                            \\nSep                               0.00   \n...                                                              ...   \nForecast 8+4           FY22 \\nJan                          441147.32   \n                            \\nFeb                          369620.09   \n                            \\nMar                          396411.17   \n                            \\nApr                          398235.04   \n                            \\nMay                          426850.00   \n\n                                                       NaN  \n                                                       NaN  \n                                                       NaN  \n                                      *total international  \nActual   Final Revised FY15 YearTotal           9498516.10  \n                            \\nJun                808003.64  \n                            \\nJul                855305.18  \n                            \\nAug                801651.38  \n                            \\nSep                834334.16  \n...                                                    ...  \nForecast 8+4           FY22 \\nJan               5022326.69  \n                            \\nFeb               4508991.80  \n                            \\nMar               4532101.46  \n                            \\nApr               4385659.85  \n                            \\nMay               4466756.09  \n\n[182 rows x 22 columns]",
      "text/html": "<div>\n<style scoped>\n    .dataframe tbody tr th:only-of-type {\n        vertical-align: middle;\n    }\n\n    .dataframe tbody tr th {\n        vertical-align: top;\n    }\n\n    .dataframe thead tr th {\n        text-align: left;\n    }\n</style>\n<table border=\"1\" class=\"dataframe\">\n  <thead>\n    <tr>\n      <th></th>\n      <th></th>\n      <th></th>\n      <th></th>\n      <th colspan=\"9\" halign=\"left\">Total Activity</th>\n      <th>NaN</th>\n      <th>...</th>\n      <th>Total Activity</th>\n      <th>NaN</th>\n      <th colspan=\"4\" halign=\"left\">Total Activity</th>\n      <th>NaN</th>\n      <th colspan=\"2\" halign=\"left\">Total Activity</th>\n      <th>NaN</th>\n    </tr>\n    <tr>\n      <th></th>\n      <th></th>\n      <th></th>\n      <th></th>\n      <th colspan=\"3\" halign=\"left\">Total Blended Products Revenue</th>\n      <th colspan=\"2\" halign=\"left\">Total Delivery Revenue</th>\n      <th colspan=\"2\" halign=\"left\">Total Other Processing Revenue</th>\n      <th colspan=\"2\" halign=\"left\">Total W-2 Revenue</th>\n      <th>NaN</th>\n      <th>...</th>\n      <th>Total HR Solutions/ASO (Payroll side)</th>\n      <th>NaN</th>\n      <th>Total Blended Products Revenue</th>\n      <th>SurePayroll Revenue</th>\n      <th>Total Other Processing Revenue</th>\n      <th>Total W-2 Revenue</th>\n      <th>NaN</th>\n      <th>Total Blended Products Revenue</th>\n      <th>Total Other Processing Revenue</th>\n      <th>NaN</th>\n    </tr>\n    <tr>\n      <th></th>\n      <th></th>\n      <th></th>\n      <th></th>\n      <th>TOTAL OPERATIONS</th>\n      <th>CONS HRS</th>\n      <th>Prior Year Adjustment</th>\n      <th>TOTAL OPERATIONS</th>\n      <th>CONS HRS</th>\n      <th>TOTAL OPERATIONS</th>\n      <th>Prior Year Adjustment</th>\n      <th>TOTAL OPERATIONS</th>\n      <th>Prior Year Adjustment</th>\n      <th>NaN</th>\n      <th>...</th>\n      <th>CONS HRS</th>\n      <th>NaN</th>\n      <th>CONS SURE PAYROLL</th>\n      <th>CONS SURE PAYROLL</th>\n      <th>CONS SURE PAYROLL</th>\n      <th>CONS SURE PAYROLL</th>\n      <th>NaN</th>\n      <th>Foreign Currency</th>\n      <th>Foreign Currency</th>\n      <th>NaN</th>\n    </tr>\n    <tr>\n      <th></th>\n      <th></th>\n      <th></th>\n      <th></th>\n      <th>Total Service Revenue - RW</th>\n      <th>Total Service Revenue - RW</th>\n      <th>Total Service Revenue - RW</th>\n      <th>Total Service Revenue - RW</th>\n      <th>Total Service Revenue - RW</th>\n      <th>Total Service Revenue - RW</th>\n      <th>Total Service Revenue - RW</th>\n      <th>Total Service Revenue - RW</th>\n      <th>Total Service Revenue - RW</th>\n      <th>*total payroll</th>\n      <th>...</th>\n      <th>Total Service Revenue - RW</th>\n      <th>*total Aso</th>\n      <th>Total Service Revenue - RW</th>\n      <th>Total Service Revenue - RW</th>\n      <th>Total Service Revenue - RW</th>\n      <th>Total Service Revenue - RW</th>\n      <th>*total sure payroll</th>\n      <th>Total Service Revenue - RW</th>\n      <th>Total Service Revenue - RW</th>\n      <th>*total international</th>\n    </tr>\n  </thead>\n  <tbody>\n    <tr>\n      <th rowspan=\"5\" valign=\"top\">Actual</th>\n      <th rowspan=\"5\" valign=\"top\">Final Revised</th>\n      <th rowspan=\"5\" valign=\"top\">FY15</th>\n      <th>YearTotal</th>\n      <td>1.236516e+09</td>\n      <td>36844499.25</td>\n      <td>0.0</td>\n      <td>1.186875e+08</td>\n      <td>0.0</td>\n      <td>63488855.55</td>\n      <td>0.0</td>\n      <td>90768981.49</td>\n      <td>0.0</td>\n      <td>1.546306e+09</td>\n      <td>...</td>\n      <td>347.37</td>\n      <td>3.767934e+08</td>\n      <td>36691979.75</td>\n      <td>0.00</td>\n      <td>2191317.64</td>\n      <td>2299083.77</td>\n      <td>41182381.16</td>\n      <td>9498516.10</td>\n      <td>0.00</td>\n      <td>9498516.10</td>\n    </tr>\n    <tr>\n      <th>\\nJun</th>\n      <td>9.667424e+07</td>\n      <td>2959275.81</td>\n      <td>0.0</td>\n      <td>7.393352e+06</td>\n      <td>0.0</td>\n      <td>4765775.19</td>\n      <td>0.0</td>\n      <td>7031234.09</td>\n      <td>0.0</td>\n      <td>1.188239e+08</td>\n      <td>...</td>\n      <td>0.00</td>\n      <td>2.839863e+07</td>\n      <td>2865163.28</td>\n      <td>0.00</td>\n      <td>201207.45</td>\n      <td>180596.29</td>\n      <td>3246967.02</td>\n      <td>808003.64</td>\n      <td>0.00</td>\n      <td>808003.64</td>\n    </tr>\n    <tr>\n      <th>\\nJul</th>\n      <td>1.179775e+08</td>\n      <td>3642193.13</td>\n      <td>0.0</td>\n      <td>1.351374e+07</td>\n      <td>0.0</td>\n      <td>6502729.54</td>\n      <td>0.0</td>\n      <td>7325377.82</td>\n      <td>0.0</td>\n      <td>1.489615e+08</td>\n      <td>...</td>\n      <td>0.00</td>\n      <td>3.490887e+07</td>\n      <td>2927958.64</td>\n      <td>0.00</td>\n      <td>252411.58</td>\n      <td>182102.80</td>\n      <td>3362473.02</td>\n      <td>855305.18</td>\n      <td>0.00</td>\n      <td>855305.18</td>\n    </tr>\n    <tr>\n      <th>\\nAug</th>\n      <td>9.652404e+07</td>\n      <td>2948438.56</td>\n      <td>0.0</td>\n      <td>7.286967e+06</td>\n      <td>0.0</td>\n      <td>4215268.17</td>\n      <td>0.0</td>\n      <td>7443620.46</td>\n      <td>0.0</td>\n      <td>1.184183e+08</td>\n      <td>...</td>\n      <td>0.00</td>\n      <td>2.925192e+07</td>\n      <td>2926325.32</td>\n      <td>0.00</td>\n      <td>178248.98</td>\n      <td>181537.63</td>\n      <td>3286111.93</td>\n      <td>801651.38</td>\n      <td>0.00</td>\n      <td>801651.38</td>\n    </tr>\n    <tr>\n      <th>\\nSep</th>\n      <td>9.144132e+07</td>\n      <td>2756906.24</td>\n      <td>0.0</td>\n      <td>7.081862e+06</td>\n      <td>0.0</td>\n      <td>4726806.24</td>\n      <td>0.0</td>\n      <td>7414842.11</td>\n      <td>0.0</td>\n      <td>1.134217e+08</td>\n      <td>...</td>\n      <td>0.00</td>\n      <td>2.729974e+07</td>\n      <td>2992374.42</td>\n      <td>0.00</td>\n      <td>171661.52</td>\n      <td>181292.59</td>\n      <td>3345328.53</td>\n      <td>834334.16</td>\n      <td>0.00</td>\n      <td>834334.16</td>\n    </tr>\n    <tr>\n      <th>...</th>\n      <th>...</th>\n      <th>...</th>\n      <th>...</th>\n      <td>...</td>\n      <td>...</td>\n      <td>...</td>\n      <td>...</td>\n      <td>...</td>\n      <td>...</td>\n      <td>...</td>\n      <td>...</td>\n      <td>...</td>\n      <td>...</td>\n      <td>...</td>\n      <td>...</td>\n      <td>...</td>\n      <td>...</td>\n      <td>...</td>\n      <td>...</td>\n      <td>...</td>\n      <td>...</td>\n      <td>...</td>\n      <td>...</td>\n      <td>...</td>\n    </tr>\n    <tr>\n      <th rowspan=\"5\" valign=\"top\">Forecast</th>\n      <th rowspan=\"5\" valign=\"top\">8+4</th>\n      <th rowspan=\"5\" valign=\"top\">FY22</th>\n      <th>\\nJan</th>\n      <td>1.023767e+08</td>\n      <td>1493093.88</td>\n      <td>0.0</td>\n      <td>2.243552e+07</td>\n      <td>0.0</td>\n      <td>20866313.40</td>\n      <td>0.0</td>\n      <td>81544421.44</td>\n      <td>0.0</td>\n      <td>2.287160e+08</td>\n      <td>...</td>\n      <td>0.00</td>\n      <td>6.653174e+07</td>\n      <td>-716511.72</td>\n      <td>7489372.86</td>\n      <td>864770.88</td>\n      <td>295488.88</td>\n      <td>7933120.90</td>\n      <td>4581179.37</td>\n      <td>441147.32</td>\n      <td>5022326.69</td>\n    </tr>\n    <tr>\n      <th>\\nFeb</th>\n      <td>1.019021e+08</td>\n      <td>1458381.65</td>\n      <td>0.0</td>\n      <td>6.683674e+06</td>\n      <td>0.0</td>\n      <td>14110893.97</td>\n      <td>0.0</td>\n      <td>87571.97</td>\n      <td>0.0</td>\n      <td>1.242427e+08</td>\n      <td>...</td>\n      <td>0.00</td>\n      <td>6.450100e+07</td>\n      <td>-576339.20</td>\n      <td>7565854.96</td>\n      <td>782397.96</td>\n      <td>-270.98</td>\n      <td>7771642.74</td>\n      <td>4139371.71</td>\n      <td>369620.09</td>\n      <td>4508991.80</td>\n    </tr>\n    <tr>\n      <th>\\nMar</th>\n      <td>1.150675e+08</td>\n      <td>1644751.31</td>\n      <td>0.0</td>\n      <td>7.556914e+06</td>\n      <td>0.0</td>\n      <td>12680918.38</td>\n      <td>0.0</td>\n      <td>-43001.29</td>\n      <td>0.0</td>\n      <td>1.369070e+08</td>\n      <td>...</td>\n      <td>0.00</td>\n      <td>7.580652e+07</td>\n      <td>-635600.53</td>\n      <td>7557327.00</td>\n      <td>801049.39</td>\n      <td>-16.08</td>\n      <td>7722759.79</td>\n      <td>4135690.28</td>\n      <td>396411.17</td>\n      <td>4532101.46</td>\n    </tr>\n    <tr>\n      <th>\\nApr</th>\n      <td>1.006085e+08</td>\n      <td>1406579.87</td>\n      <td>0.0</td>\n      <td>1.094369e+07</td>\n      <td>0.0</td>\n      <td>10225582.63</td>\n      <td>0.0</td>\n      <td>44811.43</td>\n      <td>0.0</td>\n      <td>1.232292e+08</td>\n      <td>...</td>\n      <td>0.00</td>\n      <td>6.641035e+07</td>\n      <td>-607458.13</td>\n      <td>7649738.88</td>\n      <td>816279.23</td>\n      <td>-0.62</td>\n      <td>7858559.36</td>\n      <td>3987424.80</td>\n      <td>398235.04</td>\n      <td>4385659.85</td>\n    </tr>\n    <tr>\n      <th>\\nMay</th>\n      <td>1.066607e+08</td>\n      <td>1503605.89</td>\n      <td>0.0</td>\n      <td>7.961770e+06</td>\n      <td>0.0</td>\n      <td>6506572.85</td>\n      <td>0.0</td>\n      <td>113783.77</td>\n      <td>0.0</td>\n      <td>1.227465e+08</td>\n      <td>...</td>\n      <td>0.00</td>\n      <td>7.043660e+07</td>\n      <td>-593242.22</td>\n      <td>7685813.37</td>\n      <td>754103.88</td>\n      <td>371.81</td>\n      <td>7847046.84</td>\n      <td>4039906.10</td>\n      <td>426850.00</td>\n      <td>4466756.09</td>\n    </tr>\n  </tbody>\n</table>\n<p>182 rows × 22 columns</p>\n</div>"
     },
     "execution_count": 22,
     "metadata": {},
     "output_type": "execute_result"
    }
   ],
   "source": [
    "df_pay"
   ],
   "metadata": {
    "collapsed": false,
    "pycharm": {
     "name": "#%%\n"
    }
   }
  },
  {
   "cell_type": "code",
   "execution_count": 29,
   "outputs": [
    {
     "data": {
      "text/plain": "                                       HR Solutions (excl PEO)  \\\nActual   Final Revised FY15 YearTotal              280104498.0   \n                            \\nJun                   21143605.0   \n                            \\nJul                   25838048.0   \n                            \\nAug                   21762760.0   \n                            \\nSep                   20288451.0   \n...                                                        ...   \nForecast 8+4           FY22 \\nJan                   49289702.0   \n                            \\nFeb                   47754765.0   \n                            \\nMar                   55976261.0   \n                            \\nApr                   49129952.0   \n                            \\nMay                   52095246.0   \n\n                                       SurePayroll Revenue  \\\nActual   Final Revised FY15 YearTotal                 0.00   \n                            \\nJun                     0.00   \n                            \\nJul                     0.00   \n                            \\nAug                     0.00   \n                            \\nSep                     0.00   \n...                                                    ...   \nForecast 8+4           FY22 \\nJan               7489372.86   \n                            \\nFeb               7565854.96   \n                            \\nMar               7557327.00   \n                            \\nApr               7649738.88   \n                            \\nMay               7685813.37   \n\n                                       Total Blended Products Revenue  \\\nActual   Final Revised FY15 YearTotal                    1.319551e+09   \n                            \\nJun                        1.033067e+08   \n                            \\nJul                        1.254030e+08   \n                            \\nAug                        1.032005e+08   \n                            \\nSep                        9.802494e+07   \n...                                                               ...   \nForecast 8+4           FY22 \\nJan                        1.077344e+08   \n                            \\nFeb                        1.069236e+08   \n                            \\nMar                        1.202123e+08   \n                            \\nApr                        1.053951e+08   \n                            \\nMay                        1.116110e+08   \n\n                                       Total Delivery Revenue  \\\nActual   Final Revised FY15 YearTotal            1.186875e+08   \n                            \\nJun                7.393352e+06   \n                            \\nJul                1.351374e+07   \n                            \\nAug                7.286967e+06   \n                            \\nSep                7.081862e+06   \n...                                                       ...   \nForecast 8+4           FY22 \\nJan                2.243552e+07   \n                            \\nFeb                6.683674e+06   \n                            \\nMar                7.556914e+06   \n                            \\nApr                1.094369e+07   \n                            \\nMay                7.961770e+06   \n\n                                       Total HR Solutions/ASO (Payroll side)  \\\nActual   Final Revised FY15 YearTotal                            96688929.75   \n                            \\nJun                                 7255027.55   \n                            \\nJul                                 9070820.80   \n                            \\nAug                                 7489159.50   \n                            \\nSep                                 7011292.24   \n...                                                                      ...   \nForecast 8+4           FY22 \\nJan                                17242037.23   \n                            \\nFeb                                16746239.66   \n                            \\nMar                                19830263.01   \n                            \\nApr                                17280393.78   \n                            \\nMay                                18341358.09   \n\n                                       Total Other Processing Revenue  \\\nActual   Final Revised FY15 YearTotal                     65680173.19   \n                            \\nJun                          4966982.64   \n                            \\nJul                          6755141.12   \n                            \\nAug                          4393517.15   \n                            \\nSep                          4898467.76   \n...                                                               ...   \nForecast 8+4           FY22 \\nJan                         22172231.60   \n                            \\nFeb                         15262912.02   \n                            \\nMar                         13878378.94   \n                            \\nApr                         11440096.90   \n                            \\nMay                          7687526.73   \n\n                                       Total W-2 Revenue  \nActual   Final Revised FY15 YearTotal        93068065.26  \n                            \\nJun             7211830.38  \n                            \\nJul             7507480.62  \n                            \\nAug             7625158.09  \n                            \\nSep             7596134.70  \n...                                                  ...  \nForecast 8+4           FY22 \\nJan            81839910.32  \n                            \\nFeb               87300.99  \n                            \\nMar              -43017.37  \n                            \\nApr               44810.81  \n                            \\nMay              114155.58  \n\n[182 rows x 7 columns]",
      "text/html": "<div>\n<style scoped>\n    .dataframe tbody tr th:only-of-type {\n        vertical-align: middle;\n    }\n\n    .dataframe tbody tr th {\n        vertical-align: top;\n    }\n\n    .dataframe thead th {\n        text-align: right;\n    }\n</style>\n<table border=\"1\" class=\"dataframe\">\n  <thead>\n    <tr style=\"text-align: right;\">\n      <th></th>\n      <th></th>\n      <th></th>\n      <th></th>\n      <th>HR Solutions (excl PEO)</th>\n      <th>SurePayroll Revenue</th>\n      <th>Total Blended Products Revenue</th>\n      <th>Total Delivery Revenue</th>\n      <th>Total HR Solutions/ASO (Payroll side)</th>\n      <th>Total Other Processing Revenue</th>\n      <th>Total W-2 Revenue</th>\n    </tr>\n  </thead>\n  <tbody>\n    <tr>\n      <th rowspan=\"5\" valign=\"top\">Actual</th>\n      <th rowspan=\"5\" valign=\"top\">Final Revised</th>\n      <th rowspan=\"5\" valign=\"top\">FY15</th>\n      <th>YearTotal</th>\n      <td>280104498.0</td>\n      <td>0.00</td>\n      <td>1.319551e+09</td>\n      <td>1.186875e+08</td>\n      <td>96688929.75</td>\n      <td>65680173.19</td>\n      <td>93068065.26</td>\n    </tr>\n    <tr>\n      <th>\\nJun</th>\n      <td>21143605.0</td>\n      <td>0.00</td>\n      <td>1.033067e+08</td>\n      <td>7.393352e+06</td>\n      <td>7255027.55</td>\n      <td>4966982.64</td>\n      <td>7211830.38</td>\n    </tr>\n    <tr>\n      <th>\\nJul</th>\n      <td>25838048.0</td>\n      <td>0.00</td>\n      <td>1.254030e+08</td>\n      <td>1.351374e+07</td>\n      <td>9070820.80</td>\n      <td>6755141.12</td>\n      <td>7507480.62</td>\n    </tr>\n    <tr>\n      <th>\\nAug</th>\n      <td>21762760.0</td>\n      <td>0.00</td>\n      <td>1.032005e+08</td>\n      <td>7.286967e+06</td>\n      <td>7489159.50</td>\n      <td>4393517.15</td>\n      <td>7625158.09</td>\n    </tr>\n    <tr>\n      <th>\\nSep</th>\n      <td>20288451.0</td>\n      <td>0.00</td>\n      <td>9.802494e+07</td>\n      <td>7.081862e+06</td>\n      <td>7011292.24</td>\n      <td>4898467.76</td>\n      <td>7596134.70</td>\n    </tr>\n    <tr>\n      <th>...</th>\n      <th>...</th>\n      <th>...</th>\n      <th>...</th>\n      <td>...</td>\n      <td>...</td>\n      <td>...</td>\n      <td>...</td>\n      <td>...</td>\n      <td>...</td>\n      <td>...</td>\n    </tr>\n    <tr>\n      <th rowspan=\"5\" valign=\"top\">Forecast</th>\n      <th rowspan=\"5\" valign=\"top\">8+4</th>\n      <th rowspan=\"5\" valign=\"top\">FY22</th>\n      <th>\\nJan</th>\n      <td>49289702.0</td>\n      <td>7489372.86</td>\n      <td>1.077344e+08</td>\n      <td>2.243552e+07</td>\n      <td>17242037.23</td>\n      <td>22172231.60</td>\n      <td>81839910.32</td>\n    </tr>\n    <tr>\n      <th>\\nFeb</th>\n      <td>47754765.0</td>\n      <td>7565854.96</td>\n      <td>1.069236e+08</td>\n      <td>6.683674e+06</td>\n      <td>16746239.66</td>\n      <td>15262912.02</td>\n      <td>87300.99</td>\n    </tr>\n    <tr>\n      <th>\\nMar</th>\n      <td>55976261.0</td>\n      <td>7557327.00</td>\n      <td>1.202123e+08</td>\n      <td>7.556914e+06</td>\n      <td>19830263.01</td>\n      <td>13878378.94</td>\n      <td>-43017.37</td>\n    </tr>\n    <tr>\n      <th>\\nApr</th>\n      <td>49129952.0</td>\n      <td>7649738.88</td>\n      <td>1.053951e+08</td>\n      <td>1.094369e+07</td>\n      <td>17280393.78</td>\n      <td>11440096.90</td>\n      <td>44810.81</td>\n    </tr>\n    <tr>\n      <th>\\nMay</th>\n      <td>52095246.0</td>\n      <td>7685813.37</td>\n      <td>1.116110e+08</td>\n      <td>7.961770e+06</td>\n      <td>18341358.09</td>\n      <td>7687526.73</td>\n      <td>114155.58</td>\n    </tr>\n  </tbody>\n</table>\n<p>182 rows × 7 columns</p>\n</div>"
     },
     "execution_count": 29,
     "metadata": {},
     "output_type": "execute_result"
    }
   ],
   "source": [
    "df_pay.groupby(level=1, axis=1).sum()"
   ],
   "metadata": {
    "collapsed": false,
    "pycharm": {
     "name": "#%%\n"
    }
   }
  },
  {
   "cell_type": "markdown",
   "source": [
    "### Join function"
   ],
   "metadata": {
    "collapsed": false
   }
  },
  {
   "cell_type": "code",
   "execution_count": 8,
   "outputs": [],
   "source": [
    "files = [blob_list[i] for i in [0,4,9,11,19,7,15,13,18]]"
   ],
   "metadata": {
    "collapsed": false,
    "pycharm": {
     "name": "#%%\n"
    }
   }
  },
  {
   "cell_type": "code",
   "execution_count": 9,
   "outputs": [],
   "source": [
    "# column_names = ['20 Total 401k',\n",
    "#                 '11 Payroll Blended Products',\n",
    "#                 '17 Total International',\n",
    "#                 '40 Total Online Services',\n",
    "#                 '16 SurePayroll',\n",
    "#                 '70 Total Insurance Services',\n",
    "#                 '60 Total PEO',\n",
    "#                 '50 Other Managment Solutions',\n",
    "#                 '31 HR Solutions (excl PEO)',\n",
    "#                 'pop1',\n",
    "#                 'pop2',\n",
    "#                 '13 Delivery Revenue',\n",
    "#                 '14 ASO Allocation',\n",
    "#                 '15 Other Processing Revenue',\n",
    "#                 '12 W2 Revenue',\n",
    "#                 ]"
   ],
   "metadata": {
    "collapsed": false,
    "pycharm": {
     "name": "#%%\n"
    }
   }
  },
  {
   "cell_type": "code",
   "execution_count": 10,
   "outputs": [],
   "source": [
    "column_names = {\n",
    "    ('Total Activity', 'Total 401k Revenue', 'Total Paychex', 'Total Service Revenue - RW'): '20 Total 401k',\n",
    "     0: '11 Payroll Blended Products',\n",
    "     1: '17 Total International',\n",
    "     ('Total Activity', 'Total Online Svcs', 'Total Paychex', 'Total Service Revenue - RW'): '40 Total Online Services',\n",
    "     2: '16 SurePayroll',\n",
    "     ('Total Activity', 'Total Insurance Agency', 'Total Paychex', 'Total Service Revenue - RW'): '70 Total Insurance Services',\n",
    "     ('Total Activity', 'Total PBS Revenue', 'Total Paychex', 'Total Service Revenue - RW'): '60 Total PEO',\n",
    "     ('Total Activity', 'Other Managment Solutions Revenue', 'Total Paychex', 'Total Service Revenue - RW'): '50 Other Managment Solutions',\n",
    "     'HR Solutions (excl PEO)': '31 HR Solutions (excl PEO)',\n",
    "     'SurePayroll Revenue': 'pop1',\n",
    "     'Total Blended Products Revenue': 'pop2',\n",
    "     'Total Delivery Revenue': '13 Delivery Revenue',\n",
    "     'Total HR Solutions/ASO (Payroll side)': '14 ASO Allocation',\n",
    "     'Total Other Processing Revenue': '15 Other Processing Revenue',\n",
    "     'Total W-2 Revenue': '12 W2 Revenue'\n",
    "}"
   ],
   "metadata": {
    "collapsed": false,
    "pycharm": {
     "name": "#%%\n"
    }
   }
  },
  {
   "cell_type": "code",
   "execution_count": 11,
   "outputs": [
    {
     "name": "stdout",
     "output_type": "stream",
     "text": [
      "401kRevenue.txt\n",
      "BlendedProductRevenue.txt\n",
      "InternationalRevenue.txt\n",
      "OnlineRevenue.txt\n",
      "SurePayollRevenue.txt\n",
      "InsuranceRevenue.txt\n",
      "PEORevenue.txt\n",
      "OtherMgmtRevenue.txt\n",
      "PayrollSurePayrollASOInternationalHighLevelRevenue.txt\n"
     ]
    }
   ],
   "source": [
    "df = join_all(blob_service_client, files, column_names)"
   ],
   "metadata": {
    "collapsed": false,
    "pycharm": {
     "name": "#%%\n"
    }
   }
  },
  {
   "cell_type": "code",
   "execution_count": 12,
   "outputs": [
    {
     "data": {
      "text/plain": "11 Payroll Blended Products     1327.136744\n12 W2 Revenue                     87.681535\n13 Delivery Revenue              117.029362\n14 ASO Allocation                210.493782\n15 Other Processing Revenue      115.501437\n16 SurePayroll                    97.275712\n17 Total International            54.453345\n20 Total 401k                    306.228870\n31 HR Solutions (excl PEO)       598.036988\n40 Total Online Services         202.755855\n50 Other Managment Solutions     266.228645\n60 Total PEO                     890.298017\n70 Total Insurance Services      195.034700\nperiod                             0.000000\nName: (Forecast, 6+6, FY22), dtype: float64"
     },
     "execution_count": 12,
     "metadata": {},
     "output_type": "execute_result"
    }
   ],
   "source": [
    "df[df['period']==0]\\\n",
    "    .loc[(\"Forecast\",\"6+6\",\"FY22\"),:].groupby(level=0).sum()/1000000"
   ],
   "metadata": {
    "collapsed": false,
    "pycharm": {
     "name": "#%%\n"
    }
   }
  },
  {
   "cell_type": "code",
   "execution_count": null,
   "outputs": [],
   "source": [],
   "metadata": {
    "collapsed": false,
    "pycharm": {
     "name": "#%%\n"
    }
   }
  }
 ],
 "metadata": {
  "kernelspec": {
   "display_name": "Python 3",
   "language": "python",
   "name": "python3"
  },
  "language_info": {
   "codemirror_mode": {
    "name": "ipython",
    "version": 2
   },
   "file_extension": ".py",
   "mimetype": "text/x-python",
   "name": "python",
   "nbconvert_exporter": "python",
   "pygments_lexer": "ipython2",
   "version": "2.7.6"
  }
 },
 "nbformat": 4,
 "nbformat_minor": 0
}